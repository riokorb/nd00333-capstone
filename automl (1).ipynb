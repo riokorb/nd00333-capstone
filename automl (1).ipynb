{
  "cells": [
    {
      "cell_type": "markdown",
      "source": [
        "# Automated ML\n",
        "\n",
        "TODO: Import Dependencies. In the cell below, import all the dependencies that you will need to complete the project."
      ],
      "metadata": {}
    },
    {
      "cell_type": "code",
      "source": [
        "from azureml.core import Experiment, Model, Webservice\n",
        "from azureml.core.workspace import Workspace\n",
        "from azureml.core.dataset import Dataset\n",
        "from azureml.train.automl import AutoMLConfig\n",
        "from azureml.core.compute import ComputeTarget, AmlCompute\n",
        "from azureml.core.compute_target import ComputeTargetException\n",
        "from azureml.pipeline.steps import AutoMLStep\n",
        "\n",
        "import pandas as pd"
      ],
      "outputs": [],
      "execution_count": 1,
      "metadata": {
        "gather": {
          "logged": 1611836145471
        },
        "jupyter": {
          "outputs_hidden": false,
          "source_hidden": false
        },
        "nteract": {
          "transient": {
            "deleting": false
          }
        }
      }
    },
    {
      "cell_type": "markdown",
      "source": [
        "## Dataset\n",
        "\n",
        "### Overview\n",
        "TODO: In this markdown cell, give an overview of the dataset you are using. Also mention the task you will be performing.\n",
        "We will be using the 'Credit Card customers' dataset from Kaggle and predicting if a customer is likely to churn.\n",
        "\n",
        "TODO: Get data. In the cell below, write code to access the data you will be using in this project. Remember that the dataset needs to be external."
      ],
      "metadata": {}
    },
    {
      "cell_type": "code",
      "source": [
        "ws = Workspace.from_config()\n",
        "\n",
        "# Choose a name for experiment\n",
        "experiment_name = 'demo-automl-experiment'\n",
        "\n",
        "experiment=Experiment(ws, experiment_name)\n",
        "\n",
        "# Prepare the datastore to upload data\n",
        "datastore = ws.get_default_datastore()\n",
        "\n",
        "# Set the upload location to target_path in datastore\n",
        "datastore.upload(src_dir='./', target_path = 'data')"
      ],
      "outputs": [
        {
          "output_type": "stream",
          "name": "stdout",
          "text": [
            "Performing interactive authentication. Please follow the instructions on the terminal.\n",
            "To sign in, use a web browser to open the page https://microsoft.com/devicelogin and enter the code AVA9WRGQH to authenticate.\n",
            "You have logged in. Now let us find all the subscriptions to which you have access...\n",
            "Interactive authentication successfully completed.\n",
            "Uploading an estimated of 8 files\n",
            "Uploading ./automl.ipynb\n",
            "Uploaded ./automl.ipynb, 1 files out of an estimated total of 8\n",
            "Uploading ./automl.ipynb.amltemp\n",
            "Uploaded ./automl.ipynb.amltemp, 2 files out of an estimated total of 8\n",
            "Uploading ./hyperparameter_tuning.ipynb\n",
            "Uploaded ./hyperparameter_tuning.ipynb, 3 files out of an estimated total of 8\n",
            "Uploading ./hyperparameter_tuning.ipynb.amltemp\n",
            "Uploaded ./hyperparameter_tuning.ipynb.amltemp, 4 files out of an estimated total of 8\n",
            "Uploading ./score.py\n",
            "Uploaded ./score.py, 5 files out of an estimated total of 8\n",
            "Uploading ./train.py\n",
            "Uploaded ./train.py, 6 files out of an estimated total of 8\n",
            "Uploading ./.ipynb_aml_checkpoints/automl-checkpoint2021-0-28-12-9-25.ipynb\n",
            "Uploaded ./.ipynb_aml_checkpoints/automl-checkpoint2021-0-28-12-9-25.ipynb, 7 files out of an estimated total of 8\n",
            "Uploading ./.ipynb_aml_checkpoints/hyperparameter_tuning-checkpoint2021-0-28-12-10-44.ipynb\n",
            "Uploaded ./.ipynb_aml_checkpoints/hyperparameter_tuning-checkpoint2021-0-28-12-10-44.ipynb, 8 files out of an estimated total of 8\n",
            "Uploaded 8 files\n"
          ]
        },
        {
          "output_type": "execute_result",
          "execution_count": 2,
          "data": {
            "text/plain": "$AZUREML_DATAREFERENCE_2bdf48f6681f442888cf78d97fd01631"
          },
          "metadata": {}
        }
      ],
      "execution_count": 2,
      "metadata": {
        "gather": {
          "logged": 1611836218283
        },
        "jupyter": {
          "outputs_hidden": false,
          "source_hidden": false
        },
        "nteract": {
          "transient": {
            "deleting": false
          }
        }
      }
    },
    {
      "cell_type": "code",
      "source": [
        "# Choose a name for CPU cluster\n",
        "compute_name = \"demo-cluster\"\n",
        "\n",
        "# Verify that cluster does not already exist\n",
        "try:\n",
        "    compute_target = ComputeTarget(workspace=ws, name=compute_name)\n",
        "    print('Found existing cluster, use it.')\n",
        "except ComputeTargetException:\n",
        "    compute_config = AmlCompute.provisioning_configuration(vm_size='STANDARD_D2_V2',# for GPU, use \"STANDARD_NC6\"\n",
        "                                                           #vm_priority = 'lowpriority', # optional\n",
        "                                                           max_nodes=4)\n",
        "    compute_target = ComputeTarget.create(ws, compute_name, compute_config)\n",
        "\n",
        "compute_target.wait_for_completion(show_output=True)"
      ],
      "outputs": [
        {
          "output_type": "stream",
          "name": "stdout",
          "text": [
            "Found existing cluster, use it.\n",
            "\n",
            "Running\n"
          ]
        }
      ],
      "execution_count": 3,
      "metadata": {
        "collapsed": true,
        "gather": {
          "logged": 1611836233117
        },
        "jupyter": {
          "outputs_hidden": false,
          "source_hidden": false
        },
        "nteract": {
          "transient": {
            "deleting": false
          }
        }
      }
    },
    {
      "cell_type": "code",
      "source": [
        "dataset = Dataset.get_by_name(ws, name = \"bankchurners\")\n",
        "dataset"
      ],
      "outputs": [
        {
          "output_type": "execute_result",
          "execution_count": 4,
          "data": {
            "text/plain": "{\n  \"source\": [\n    \"('workspaceblobstore', 'UI/01-28-2021_121111_UTC/BankChurners.csv')\"\n  ],\n  \"definition\": [\n    \"GetDatastoreFiles\",\n    \"ParseDelimited\",\n    \"DropColumns\",\n    \"SetColumnTypes\"\n  ],\n  \"registration\": {\n    \"id\": \"293d15e3-7f22-4872-90c2-2c83a4835e5a\",\n    \"name\": \"bankchurners\",\n    \"version\": 1,\n    \"workspace\": \"Workspace.create(name='quick-starts-ws-136373', subscription_id='d4ad7261-832d-46b2-b093-22156001df5b', resource_group='aml-quickstarts-136373')\"\n  }\n}"
          },
          "metadata": {}
        }
      ],
      "execution_count": 4,
      "metadata": {
        "collapsed": true,
        "gather": {
          "logged": 1611836239697
        },
        "jupyter": {
          "outputs_hidden": false,
          "source_hidden": false
        },
        "nteract": {
          "transient": {
            "deleting": false
          }
        }
      }
    },
    {
      "cell_type": "markdown",
      "source": [
        "## AutoML Configuration\n",
        "\n",
        "TODO: Explain why you chose the automl settings and cofiguration you used below."
      ],
      "metadata": {}
    },
    {
      "cell_type": "code",
      "source": [
        "# List the automl config\n",
        "automl_config = AutoMLConfig(\n",
        "    experiment_timeout_minutes = 30,\n",
        "    task = \"classification\",\n",
        "    compute_target = \"demo-cluster\",\n",
        "    max_concurrent_iterations = 5,\n",
        "    training_data = dataset,\n",
        "    primary_metric = \"accuracy\",\n",
        "    label_column_name = \"Attrition_Flag\",\n",
        "    n_cross_validations = 3,\n",
        "    enable_early_stopping = True\n",
        ")"
      ],
      "outputs": [],
      "execution_count": 5,
      "metadata": {
        "gather": {
          "logged": 1611836244585
        },
        "jupyter": {
          "outputs_hidden": false,
          "source_hidden": false
        },
        "nteract": {
          "transient": {
            "deleting": false
          }
        }
      }
    },
    {
      "cell_type": "code",
      "source": [
        "# Submit the experiment\n",
        "remote_run = experiment.submit(automl_config, show_output = True)"
      ],
      "outputs": [
        {
          "output_type": "stream",
          "name": "stdout",
          "text": [
            "Running on remote.\n",
            "No run_configuration provided, running on demo-cluster with default configuration\n",
            "Running on remote compute: demo-cluster\n",
            "Parent Run ID: AutoML_3ba117a6-e744-4727-ba4f-d123f69c864d\n",
            "\n",
            "Current status: FeaturesGeneration. Generating features for the dataset.\n",
            "Current status: DatasetFeaturization. Beginning to fit featurizers and featurize the dataset.\n",
            "Current status: DatasetCrossValidationSplit. Generating individually featurized CV splits.\n",
            "Current status: ModelSelection. Beginning model selection.\n",
            "\n",
            "****************************************************************************************************\n",
            "DATA GUARDRAILS: \n",
            "\n",
            "TYPE:         Class balancing detection\n",
            "STATUS:       ALERTED\n",
            "DESCRIPTION:  To decrease model bias, please cancel the current run and fix balancing problem.\n",
            "              Learn more about imbalanced data: https://aka.ms/AutomatedMLImbalancedData\n",
            "DETAILS:      Imbalanced data can lead to a falsely perceived positive effect of a model's accuracy because the input data has bias towards one class.\n",
            "+---------------------------------+---------------------------------+--------------------------------------+\n",
            "|Size of the smallest class       |Name/Label of the smallest class |Number of samples in the training data|\n",
            "+=================================+=================================+======================================+\n",
            "|1627                             |Attrited Customer                |10127                                 |\n",
            "+---------------------------------+---------------------------------+--------------------------------------+\n",
            "\n",
            "****************************************************************************************************\n",
            "\n",
            "TYPE:         Missing feature values imputation\n",
            "STATUS:       PASSED\n",
            "DESCRIPTION:  No feature missing values were detected in the training data.\n",
            "              Learn more about missing value imputation: https://aka.ms/AutomatedMLFeaturization\n",
            "\n",
            "****************************************************************************************************\n",
            "\n",
            "TYPE:         High cardinality feature detection\n",
            "STATUS:       PASSED\n",
            "DESCRIPTION:  Your inputs were analyzed, and no high cardinality features were detected.\n",
            "              Learn more about high cardinality feature handling: https://aka.ms/AutomatedMLFeaturization\n",
            "\n",
            "****************************************************************************************************\n",
            "\n",
            "****************************************************************************************************\n",
            "ITERATION: The iteration being evaluated.\n",
            "PIPELINE: A summary description of the pipeline being evaluated.\n",
            "DURATION: Time taken for the current iteration.\n",
            "METRIC: The result of computing score on the fitted pipeline.\n",
            "BEST: The best observed score thus far.\n",
            "****************************************************************************************************\n",
            "\n",
            " ITERATION   PIPELINE                                       DURATION      METRIC      BEST\n",
            "         3   MaxAbsScaler RandomForest                      0:01:19       0.8471    0.8471\n",
            "         0   MaxAbsScaler LightGBM                          0:01:32       0.9691    0.9691\n",
            "         1   MaxAbsScaler XGBoostClassifier                 0:01:22       0.9603    0.9691\n",
            "         2   MaxAbsScaler RandomForest                      0:01:20       0.8639    0.9691\n",
            "         4   MaxAbsScaler RandomForest                      0:01:23       0.8621    0.9691\n",
            "         5   MaxAbsScaler RandomForest                      0:00:57       0.7521    0.9691\n",
            "         6   SparseNormalizer XGBoostClassifier             0:00:57       0.9553    0.9691\n",
            "         7   SparseNormalizer XGBoostClassifier             0:01:04       0.9647    0.9691\n",
            "         8   SparseNormalizer XGBoostClassifier             0:01:01       0.9661    0.9691\n",
            "         9   SparseNormalizer XGBoostClassifier             0:00:55       0.9625    0.9691\n",
            "        11   StandardScalerWrapper RandomForest             0:00:55       0.9006    0.9691\n",
            "        12   MaxAbsScaler LogisticRegression                0:00:55       0.9116    0.9691\n",
            "        10   MaxAbsScaler RandomForest                      0:01:08       0.8395    0.9691\n",
            "        13   MaxAbsScaler ExtremeRandomTrees                0:01:10       0.8393    0.9691\n",
            "        14   MaxAbsScaler ExtremeRandomTrees                0:01:10       0.8773    0.9691\n",
            "        15   MaxAbsScaler LightGBM                          0:00:50       0.8935    0.9691\n",
            "        16   SparseNormalizer LightGBM                      0:00:51       0.9080    0.9691\n",
            "        17   SparseNormalizer GradientBoosting              0:00:45       0.8393    0.9691\n",
            "        18   SparseNormalizer XGBoostClassifier             0:01:01       0.9599    0.9691\n",
            "        19   SparseNormalizer XGBoostClassifier             0:01:03       0.9653    0.9691\n",
            "        21   MaxAbsScaler LightGBM                          0:00:51       0.9496    0.9691\n",
            "        22   StandardScalerWrapper RandomForest             0:00:47       0.8393    0.9691\n",
            "        20   MaxAbsScaler ExtremeRandomTrees                0:00:57       0.8674    0.9691\n",
            "        23   SparseNormalizer XGBoostClassifier             0:00:52       0.9551    0.9691\n",
            "        24   MaxAbsScaler LogisticRegression                0:00:48       0.9121    0.9691\n",
            "        25   StandardScalerWrapper LightGBM                 0:00:55       0.8393    0.9691\n",
            "        26   SparseNormalizer XGBoostClassifier             0:01:13       0.9678    0.9691\n",
            "        27   SparseNormalizer XGBoostClassifier             0:01:13       0.9671    0.9691\n",
            "        29   StandardScalerWrapper XGBoostClassifier        0:00:48       0.9636    0.9691\n",
            "        28   SparseNormalizer XGBoostClassifier             0:01:02       0.9589    0.9691\n",
            "        30   StandardScalerWrapper LightGBM                 0:01:54       0.9606    0.9691\n",
            "        31   SparseNormalizer XGBoostClassifier             0:01:43       0.9640    0.9691\n",
            "        32   SparseNormalizer XGBoostClassifier             0:01:38       0.9581    0.9691\n",
            "        33   SparseNormalizer XGBoostClassifier             0:01:29       0.9608    0.9691\n",
            "        34   SparseNormalizer XGBoostClassifier             0:01:27       0.9675    0.9691\n",
            "        35                                                  0:00:19          nan    0.9691\n",
            "        36                                                  0:00:17          nan    0.9691\n",
            "        37                                                  0:00:17          nan    0.9691\n",
            "        38    VotingEnsemble                                0:02:03       0.9709    0.9709\n",
            "        39    StackEnsemble                                 0:02:19       0.9695    0.9709\n"
          ]
        }
      ],
      "execution_count": 6,
      "metadata": {
        "gather": {
          "logged": 1611837378956
        },
        "jupyter": {
          "outputs_hidden": false,
          "source_hidden": false
        },
        "nteract": {
          "transient": {
            "deleting": false
          }
        }
      }
    },
    {
      "cell_type": "markdown",
      "source": [
        "## Run Details\n",
        "\n",
        "OPTIONAL: Write about the different models trained and their performance. Why do you think some models did better than others?\n",
        "\n",
        "TODO: In the cell below, use the `RunDetails` widget to show the different experiments."
      ],
      "metadata": {}
    },
    {
      "cell_type": "code",
      "source": [
        "from azureml.widgets import RunDetails\n",
        "RunDetails(remote_run).show()\n",
        "remote_run.wait_for_completion(show_output = True)"
      ],
      "outputs": [
        {
          "output_type": "display_data",
          "data": {
            "text/plain": "_AutoMLWidget(widget_settings={'childWidgetDisplay': 'popup', 'send_telemetry': False, 'log_level': 'INFO', 's…",
            "application/vnd.jupyter.widget-view+json": {
              "version_major": 2,
              "version_minor": 0,
              "model_id": "d4d8bf0568754bdd85b49e3d865abcb6"
            }
          },
          "metadata": {}
        },
        {
          "output_type": "display_data",
          "data": {
            "application/aml.mini.widget.v1": "{\"status\": \"Completed\", \"workbench_run_details_uri\": \"https://ml.azure.com/experiments/demo-automl-experiment/runs/AutoML_3ba117a6-e744-4727-ba4f-d123f69c864d?wsid=/subscriptions/d4ad7261-832d-46b2-b093-22156001df5b/resourcegroups/aml-quickstarts-136373/workspaces/quick-starts-ws-136373\", \"run_id\": \"AutoML_3ba117a6-e744-4727-ba4f-d123f69c864d\", \"run_properties\": {\"run_id\": \"AutoML_3ba117a6-e744-4727-ba4f-d123f69c864d\", \"created_utc\": \"2021-01-28T12:17:32.822222Z\", \"properties\": {\"num_iterations\": \"1000\", \"training_type\": \"TrainFull\", \"acquisition_function\": \"EI\", \"primary_metric\": \"accuracy\", \"train_split\": \"0\", \"acquisition_parameter\": \"0\", \"num_cross_validation\": \"3\", \"target\": \"demo-cluster\", \"AMLSettingsJsonString\": \"{\\\"path\\\":null,\\\"name\\\":\\\"demo-automl-experiment\\\",\\\"subscription_id\\\":\\\"d4ad7261-832d-46b2-b093-22156001df5b\\\",\\\"resource_group\\\":\\\"aml-quickstarts-136373\\\",\\\"workspace_name\\\":\\\"quick-starts-ws-136373\\\",\\\"region\\\":\\\"southcentralus\\\",\\\"compute_target\\\":\\\"demo-cluster\\\",\\\"spark_service\\\":null,\\\"azure_service\\\":\\\"remote\\\",\\\"many_models\\\":false,\\\"pipeline_fetch_max_batch_size\\\":1,\\\"iterations\\\":1000,\\\"primary_metric\\\":\\\"accuracy\\\",\\\"task_type\\\":\\\"classification\\\",\\\"data_script\\\":null,\\\"validation_size\\\":0.0,\\\"n_cross_validations\\\":3,\\\"y_min\\\":null,\\\"y_max\\\":null,\\\"num_classes\\\":null,\\\"featurization\\\":\\\"auto\\\",\\\"_ignore_package_version_incompatibilities\\\":false,\\\"is_timeseries\\\":false,\\\"max_cores_per_iteration\\\":1,\\\"max_concurrent_iterations\\\":5,\\\"iteration_timeout_minutes\\\":null,\\\"mem_in_mb\\\":null,\\\"enforce_time_on_windows\\\":false,\\\"experiment_timeout_minutes\\\":30,\\\"experiment_exit_score\\\":null,\\\"whitelist_models\\\":null,\\\"blacklist_algos\\\":[\\\"TensorFlowLinearClassifier\\\",\\\"TensorFlowDNN\\\"],\\\"supported_models\\\":[\\\"LightGBM\\\",\\\"RandomForest\\\",\\\"BernoulliNaiveBayes\\\",\\\"ExtremeRandomTrees\\\",\\\"LogisticRegression\\\",\\\"XGBoostClassifier\\\",\\\"SGD\\\",\\\"SVM\\\",\\\"TensorFlowDNN\\\",\\\"LinearSVM\\\",\\\"MultinomialNaiveBayes\\\",\\\"DecisionTree\\\",\\\"GradientBoosting\\\",\\\"TensorFlowLinearClassifier\\\",\\\"AveragedPerceptronClassifier\\\",\\\"KNN\\\"],\\\"auto_blacklist\\\":true,\\\"blacklist_samples_reached\\\":false,\\\"exclude_nan_labels\\\":true,\\\"verbosity\\\":20,\\\"_debug_log\\\":\\\"azureml_automl.log\\\",\\\"show_warnings\\\":false,\\\"model_explainability\\\":true,\\\"service_url\\\":null,\\\"sdk_url\\\":null,\\\"sdk_packages\\\":null,\\\"enable_onnx_compatible_models\\\":false,\\\"enable_split_onnx_featurizer_estimator_models\\\":false,\\\"vm_type\\\":\\\"STANDARD_DS3_V2\\\",\\\"telemetry_verbosity\\\":20,\\\"send_telemetry\\\":true,\\\"enable_dnn\\\":false,\\\"scenario\\\":\\\"SDK-1.13.0\\\",\\\"environment_label\\\":null,\\\"force_text_dnn\\\":false,\\\"enable_feature_sweeping\\\":true,\\\"enable_early_stopping\\\":true,\\\"early_stopping_n_iters\\\":10,\\\"metrics\\\":null,\\\"enable_ensembling\\\":true,\\\"enable_stack_ensembling\\\":true,\\\"ensemble_iterations\\\":15,\\\"enable_tf\\\":false,\\\"enable_subsampling\\\":null,\\\"subsample_seed\\\":null,\\\"enable_nimbusml\\\":false,\\\"enable_streaming\\\":false,\\\"force_streaming\\\":false,\\\"track_child_runs\\\":true,\\\"allowed_private_models\\\":[],\\\"label_column_name\\\":\\\"Attrition_Flag\\\",\\\"weight_column_name\\\":null,\\\"cv_split_column_names\\\":null,\\\"enable_local_managed\\\":false,\\\"_local_managed_run_id\\\":null,\\\"cost_mode\\\":1,\\\"lag_length\\\":0,\\\"metric_operation\\\":\\\"maximize\\\",\\\"preprocess\\\":true}\", \"DataPrepJsonString\": \"{\\\\\\\"training_data\\\\\\\": \\\\\\\"{\\\\\\\\\\\\\\\"blocks\\\\\\\\\\\\\\\": [{\\\\\\\\\\\\\\\"id\\\\\\\\\\\\\\\": \\\\\\\\\\\\\\\"0579c0a7-bdad-4a0a-ae88-4ff6feca9a65\\\\\\\\\\\\\\\", \\\\\\\\\\\\\\\"type\\\\\\\\\\\\\\\": \\\\\\\\\\\\\\\"Microsoft.DPrep.GetDatastoreFilesBlock\\\\\\\\\\\\\\\", \\\\\\\\\\\\\\\"arguments\\\\\\\\\\\\\\\": {\\\\\\\\\\\\\\\"datastores\\\\\\\\\\\\\\\": [{\\\\\\\\\\\\\\\"datastoreName\\\\\\\\\\\\\\\": \\\\\\\\\\\\\\\"workspaceblobstore\\\\\\\\\\\\\\\", \\\\\\\\\\\\\\\"path\\\\\\\\\\\\\\\": \\\\\\\\\\\\\\\"UI/01-28-2021_121111_UTC/BankChurners.csv\\\\\\\\\\\\\\\", \\\\\\\\\\\\\\\"resourceGroup\\\\\\\\\\\\\\\": \\\\\\\\\\\\\\\"aml-quickstarts-136373\\\\\\\\\\\\\\\", \\\\\\\\\\\\\\\"subscription\\\\\\\\\\\\\\\": \\\\\\\\\\\\\\\"d4ad7261-832d-46b2-b093-22156001df5b\\\\\\\\\\\\\\\", \\\\\\\\\\\\\\\"workspaceName\\\\\\\\\\\\\\\": \\\\\\\\\\\\\\\"quick-starts-ws-136373\\\\\\\\\\\\\\\"}]}, \\\\\\\\\\\\\\\"localData\\\\\\\\\\\\\\\": {}, \\\\\\\\\\\\\\\"isEnabled\\\\\\\\\\\\\\\": true, \\\\\\\\\\\\\\\"name\\\\\\\\\\\\\\\": null, \\\\\\\\\\\\\\\"annotation\\\\\\\\\\\\\\\": null}, {\\\\\\\\\\\\\\\"id\\\\\\\\\\\\\\\": \\\\\\\\\\\\\\\"538ad191-0ff2-4c1d-967e-6bd4abf52874\\\\\\\\\\\\\\\", \\\\\\\\\\\\\\\"type\\\\\\\\\\\\\\\": \\\\\\\\\\\\\\\"Microsoft.DPrep.ParseDelimitedBlock\\\\\\\\\\\\\\\", \\\\\\\\\\\\\\\"arguments\\\\\\\\\\\\\\\": {\\\\\\\\\\\\\\\"columnHeadersMode\\\\\\\\\\\\\\\": 1, \\\\\\\\\\\\\\\"fileEncoding\\\\\\\\\\\\\\\": 0, \\\\\\\\\\\\\\\"handleQuotedLineBreaks\\\\\\\\\\\\\\\": false, \\\\\\\\\\\\\\\"preview\\\\\\\\\\\\\\\": false, \\\\\\\\\\\\\\\"separator\\\\\\\\\\\\\\\": \\\\\\\\\\\\\\\",\\\\\\\\\\\\\\\", \\\\\\\\\\\\\\\"skipRows\\\\\\\\\\\\\\\": 0, \\\\\\\\\\\\\\\"skipRowsMode\\\\\\\\\\\\\\\": 0}, \\\\\\\\\\\\\\\"localData\\\\\\\\\\\\\\\": {}, \\\\\\\\\\\\\\\"isEnabled\\\\\\\\\\\\\\\": true, \\\\\\\\\\\\\\\"name\\\\\\\\\\\\\\\": null, \\\\\\\\\\\\\\\"annotation\\\\\\\\\\\\\\\": null}, {\\\\\\\\\\\\\\\"id\\\\\\\\\\\\\\\": \\\\\\\\\\\\\\\"1a70143f-5287-4ea4-a336-d746ff9affb5\\\\\\\\\\\\\\\", \\\\\\\\\\\\\\\"type\\\\\\\\\\\\\\\": \\\\\\\\\\\\\\\"Microsoft.DPrep.DropColumnsBlock\\\\\\\\\\\\\\\", \\\\\\\\\\\\\\\"arguments\\\\\\\\\\\\\\\": {\\\\\\\\\\\\\\\"columns\\\\\\\\\\\\\\\": {\\\\\\\\\\\\\\\"type\\\\\\\\\\\\\\\": 0, \\\\\\\\\\\\\\\"details\\\\\\\\\\\\\\\": {\\\\\\\\\\\\\\\"selectedColumns\\\\\\\\\\\\\\\": [\\\\\\\\\\\\\\\"Path\\\\\\\\\\\\\\\"]}}}, \\\\\\\\\\\\\\\"localData\\\\\\\\\\\\\\\": {}, \\\\\\\\\\\\\\\"isEnabled\\\\\\\\\\\\\\\": true, \\\\\\\\\\\\\\\"name\\\\\\\\\\\\\\\": null, \\\\\\\\\\\\\\\"annotation\\\\\\\\\\\\\\\": null}, {\\\\\\\\\\\\\\\"id\\\\\\\\\\\\\\\": \\\\\\\\\\\\\\\"784c15a7-66de-4841-96c8-c07b0f802435\\\\\\\\\\\\\\\", \\\\\\\\\\\\\\\"type\\\\\\\\\\\\\\\": \\\\\\\\\\\\\\\"Microsoft.DPrep.SetColumnTypesBlock\\\\\\\\\\\\\\\", \\\\\\\\\\\\\\\"arguments\\\\\\\\\\\\\\\": {\\\\\\\\\\\\\\\"columnConversion\\\\\\\\\\\\\\\": [{\\\\\\\\\\\\\\\"column\\\\\\\\\\\\\\\": {\\\\\\\\\\\\\\\"type\\\\\\\\\\\\\\\": 2, \\\\\\\\\\\\\\\"details\\\\\\\\\\\\\\\": {\\\\\\\\\\\\\\\"selectedColumn\\\\\\\\\\\\\\\": \\\\\\\\\\\\\\\"Path\\\\\\\\\\\\\\\"}}, \\\\\\\\\\\\\\\"typeProperty\\\\\\\\\\\\\\\": 0}, {\\\\\\\\\\\\\\\"column\\\\\\\\\\\\\\\": {\\\\\\\\\\\\\\\"type\\\\\\\\\\\\\\\": 2, \\\\\\\\\\\\\\\"details\\\\\\\\\\\\\\\": {\\\\\\\\\\\\\\\"selectedColumn\\\\\\\\\\\\\\\": \\\\\\\\\\\\\\\"CLIENTNUM\\\\\\\\\\\\\\\"}}, \\\\\\\\\\\\\\\"typeProperty\\\\\\\\\\\\\\\": 2}, {\\\\\\\\\\\\\\\"column\\\\\\\\\\\\\\\": {\\\\\\\\\\\\\\\"type\\\\\\\\\\\\\\\": 2, \\\\\\\\\\\\\\\"details\\\\\\\\\\\\\\\": {\\\\\\\\\\\\\\\"selectedColumn\\\\\\\\\\\\\\\": \\\\\\\\\\\\\\\"Attrition_Flag\\\\\\\\\\\\\\\"}}, \\\\\\\\\\\\\\\"typeProperty\\\\\\\\\\\\\\\": 0}, {\\\\\\\\\\\\\\\"column\\\\\\\\\\\\\\\": {\\\\\\\\\\\\\\\"type\\\\\\\\\\\\\\\": 2, \\\\\\\\\\\\\\\"details\\\\\\\\\\\\\\\": {\\\\\\\\\\\\\\\"selectedColumn\\\\\\\\\\\\\\\": \\\\\\\\\\\\\\\"Customer_Age\\\\\\\\\\\\\\\"}}, \\\\\\\\\\\\\\\"typeProperty\\\\\\\\\\\\\\\": 2}, {\\\\\\\\\\\\\\\"column\\\\\\\\\\\\\\\": {\\\\\\\\\\\\\\\"type\\\\\\\\\\\\\\\": 2, \\\\\\\\\\\\\\\"details\\\\\\\\\\\\\\\": {\\\\\\\\\\\\\\\"selectedColumn\\\\\\\\\\\\\\\": \\\\\\\\\\\\\\\"Gender\\\\\\\\\\\\\\\"}}, \\\\\\\\\\\\\\\"typeProperty\\\\\\\\\\\\\\\": 0}, {\\\\\\\\\\\\\\\"column\\\\\\\\\\\\\\\": {\\\\\\\\\\\\\\\"type\\\\\\\\\\\\\\\": 2, \\\\\\\\\\\\\\\"details\\\\\\\\\\\\\\\": {\\\\\\\\\\\\\\\"selectedColumn\\\\\\\\\\\\\\\": \\\\\\\\\\\\\\\"Dependent_count\\\\\\\\\\\\\\\"}}, \\\\\\\\\\\\\\\"typeProperty\\\\\\\\\\\\\\\": 2}, {\\\\\\\\\\\\\\\"column\\\\\\\\\\\\\\\": {\\\\\\\\\\\\\\\"type\\\\\\\\\\\\\\\": 2, \\\\\\\\\\\\\\\"details\\\\\\\\\\\\\\\": {\\\\\\\\\\\\\\\"selectedColumn\\\\\\\\\\\\\\\": \\\\\\\\\\\\\\\"Education_Level\\\\\\\\\\\\\\\"}}, \\\\\\\\\\\\\\\"typeProperty\\\\\\\\\\\\\\\": 0}, {\\\\\\\\\\\\\\\"column\\\\\\\\\\\\\\\": {\\\\\\\\\\\\\\\"type\\\\\\\\\\\\\\\": 2, \\\\\\\\\\\\\\\"details\\\\\\\\\\\\\\\": {\\\\\\\\\\\\\\\"selectedColumn\\\\\\\\\\\\\\\": \\\\\\\\\\\\\\\"Marital_Status\\\\\\\\\\\\\\\"}}, \\\\\\\\\\\\\\\"typeProperty\\\\\\\\\\\\\\\": 0}, {\\\\\\\\\\\\\\\"column\\\\\\\\\\\\\\\": {\\\\\\\\\\\\\\\"type\\\\\\\\\\\\\\\": 2, \\\\\\\\\\\\\\\"details\\\\\\\\\\\\\\\": {\\\\\\\\\\\\\\\"selectedColumn\\\\\\\\\\\\\\\": \\\\\\\\\\\\\\\"Income_Category\\\\\\\\\\\\\\\"}}, \\\\\\\\\\\\\\\"typeProperty\\\\\\\\\\\\\\\": 0}, {\\\\\\\\\\\\\\\"column\\\\\\\\\\\\\\\": {\\\\\\\\\\\\\\\"type\\\\\\\\\\\\\\\": 2, \\\\\\\\\\\\\\\"details\\\\\\\\\\\\\\\": {\\\\\\\\\\\\\\\"selectedColumn\\\\\\\\\\\\\\\": \\\\\\\\\\\\\\\"Card_Category\\\\\\\\\\\\\\\"}}, \\\\\\\\\\\\\\\"typeProperty\\\\\\\\\\\\\\\": 0}, {\\\\\\\\\\\\\\\"column\\\\\\\\\\\\\\\": {\\\\\\\\\\\\\\\"type\\\\\\\\\\\\\\\": 2, \\\\\\\\\\\\\\\"details\\\\\\\\\\\\\\\": {\\\\\\\\\\\\\\\"selectedColumn\\\\\\\\\\\\\\\": \\\\\\\\\\\\\\\"Months_on_book\\\\\\\\\\\\\\\"}}, \\\\\\\\\\\\\\\"typeProperty\\\\\\\\\\\\\\\": 2}, {\\\\\\\\\\\\\\\"column\\\\\\\\\\\\\\\": {\\\\\\\\\\\\\\\"type\\\\\\\\\\\\\\\": 2, \\\\\\\\\\\\\\\"details\\\\\\\\\\\\\\\": {\\\\\\\\\\\\\\\"selectedColumn\\\\\\\\\\\\\\\": \\\\\\\\\\\\\\\"Total_Relationship_Count\\\\\\\\\\\\\\\"}}, \\\\\\\\\\\\\\\"typeProperty\\\\\\\\\\\\\\\": 2}, {\\\\\\\\\\\\\\\"column\\\\\\\\\\\\\\\": {\\\\\\\\\\\\\\\"type\\\\\\\\\\\\\\\": 2, \\\\\\\\\\\\\\\"details\\\\\\\\\\\\\\\": {\\\\\\\\\\\\\\\"selectedColumn\\\\\\\\\\\\\\\": \\\\\\\\\\\\\\\"Months_Inactive_12_mon\\\\\\\\\\\\\\\"}}, \\\\\\\\\\\\\\\"typeProperty\\\\\\\\\\\\\\\": 2}, {\\\\\\\\\\\\\\\"column\\\\\\\\\\\\\\\": {\\\\\\\\\\\\\\\"type\\\\\\\\\\\\\\\": 2, \\\\\\\\\\\\\\\"details\\\\\\\\\\\\\\\": {\\\\\\\\\\\\\\\"selectedColumn\\\\\\\\\\\\\\\": \\\\\\\\\\\\\\\"Contacts_Count_12_mon\\\\\\\\\\\\\\\"}}, \\\\\\\\\\\\\\\"typeProperty\\\\\\\\\\\\\\\": 2}, {\\\\\\\\\\\\\\\"column\\\\\\\\\\\\\\\": {\\\\\\\\\\\\\\\"type\\\\\\\\\\\\\\\": 2, \\\\\\\\\\\\\\\"details\\\\\\\\\\\\\\\": {\\\\\\\\\\\\\\\"selectedColumn\\\\\\\\\\\\\\\": \\\\\\\\\\\\\\\"Credit_Limit\\\\\\\\\\\\\\\"}}, \\\\\\\\\\\\\\\"typeProperty\\\\\\\\\\\\\\\": 3}, {\\\\\\\\\\\\\\\"column\\\\\\\\\\\\\\\": {\\\\\\\\\\\\\\\"type\\\\\\\\\\\\\\\": 2, \\\\\\\\\\\\\\\"details\\\\\\\\\\\\\\\": {\\\\\\\\\\\\\\\"selectedColumn\\\\\\\\\\\\\\\": \\\\\\\\\\\\\\\"Total_Revolving_Bal\\\\\\\\\\\\\\\"}}, \\\\\\\\\\\\\\\"typeProperty\\\\\\\\\\\\\\\": 2}, {\\\\\\\\\\\\\\\"column\\\\\\\\\\\\\\\": {\\\\\\\\\\\\\\\"type\\\\\\\\\\\\\\\": 2, \\\\\\\\\\\\\\\"details\\\\\\\\\\\\\\\": {\\\\\\\\\\\\\\\"selectedColumn\\\\\\\\\\\\\\\": \\\\\\\\\\\\\\\"Avg_Open_To_Buy\\\\\\\\\\\\\\\"}}, \\\\\\\\\\\\\\\"typeProperty\\\\\\\\\\\\\\\": 3}, {\\\\\\\\\\\\\\\"column\\\\\\\\\\\\\\\": {\\\\\\\\\\\\\\\"type\\\\\\\\\\\\\\\": 2, \\\\\\\\\\\\\\\"details\\\\\\\\\\\\\\\": {\\\\\\\\\\\\\\\"selectedColumn\\\\\\\\\\\\\\\": \\\\\\\\\\\\\\\"Total_Amt_Chng_Q4_Q1\\\\\\\\\\\\\\\"}}, \\\\\\\\\\\\\\\"typeProperty\\\\\\\\\\\\\\\": 3}, {\\\\\\\\\\\\\\\"column\\\\\\\\\\\\\\\": {\\\\\\\\\\\\\\\"type\\\\\\\\\\\\\\\": 2, \\\\\\\\\\\\\\\"details\\\\\\\\\\\\\\\": {\\\\\\\\\\\\\\\"selectedColumn\\\\\\\\\\\\\\\": \\\\\\\\\\\\\\\"Total_Trans_Amt\\\\\\\\\\\\\\\"}}, \\\\\\\\\\\\\\\"typeProperty\\\\\\\\\\\\\\\": 2}, {\\\\\\\\\\\\\\\"column\\\\\\\\\\\\\\\": {\\\\\\\\\\\\\\\"type\\\\\\\\\\\\\\\": 2, \\\\\\\\\\\\\\\"details\\\\\\\\\\\\\\\": {\\\\\\\\\\\\\\\"selectedColumn\\\\\\\\\\\\\\\": \\\\\\\\\\\\\\\"Total_Trans_Ct\\\\\\\\\\\\\\\"}}, \\\\\\\\\\\\\\\"typeProperty\\\\\\\\\\\\\\\": 2}, {\\\\\\\\\\\\\\\"column\\\\\\\\\\\\\\\": {\\\\\\\\\\\\\\\"type\\\\\\\\\\\\\\\": 2, \\\\\\\\\\\\\\\"details\\\\\\\\\\\\\\\": {\\\\\\\\\\\\\\\"selectedColumn\\\\\\\\\\\\\\\": \\\\\\\\\\\\\\\"Total_Ct_Chng_Q4_Q1\\\\\\\\\\\\\\\"}}, \\\\\\\\\\\\\\\"typeProperty\\\\\\\\\\\\\\\": 3}, {\\\\\\\\\\\\\\\"column\\\\\\\\\\\\\\\": {\\\\\\\\\\\\\\\"type\\\\\\\\\\\\\\\": 2, \\\\\\\\\\\\\\\"details\\\\\\\\\\\\\\\": {\\\\\\\\\\\\\\\"selectedColumn\\\\\\\\\\\\\\\": \\\\\\\\\\\\\\\"Avg_Utilization_Ratio\\\\\\\\\\\\\\\"}}, \\\\\\\\\\\\\\\"typeProperty\\\\\\\\\\\\\\\": 3}]}, \\\\\\\\\\\\\\\"localData\\\\\\\\\\\\\\\": {}, \\\\\\\\\\\\\\\"isEnabled\\\\\\\\\\\\\\\": true, \\\\\\\\\\\\\\\"name\\\\\\\\\\\\\\\": null, \\\\\\\\\\\\\\\"annotation\\\\\\\\\\\\\\\": null}], \\\\\\\\\\\\\\\"inspectors\\\\\\\\\\\\\\\": [], \\\\\\\\\\\\\\\"meta\\\\\\\\\\\\\\\": {\\\\\\\\\\\\\\\"savedDatasetId\\\\\\\\\\\\\\\": \\\\\\\\\\\\\\\"293d15e3-7f22-4872-90c2-2c83a4835e5a\\\\\\\\\\\\\\\", \\\\\\\\\\\\\\\"datasetType\\\\\\\\\\\\\\\": \\\\\\\\\\\\\\\"tabular\\\\\\\\\\\\\\\", \\\\\\\\\\\\\\\"subscriptionId\\\\\\\\\\\\\\\": \\\\\\\\\\\\\\\"d4ad7261-832d-46b2-b093-22156001df5b\\\\\\\\\\\\\\\", \\\\\\\\\\\\\\\"workspaceId\\\\\\\\\\\\\\\": \\\\\\\\\\\\\\\"e06e31cc-4c28-49f5-a3d7-9ae24d54aabf\\\\\\\\\\\\\\\", \\\\\\\\\\\\\\\"workspaceLocation\\\\\\\\\\\\\\\": \\\\\\\\\\\\\\\"southcentralus\\\\\\\\\\\\\\\"}}\\\\\\\", \\\\\\\"activities\\\\\\\": 0}\", \"EnableSubsampling\": null, \"runTemplate\": \"AutoML\", \"azureml.runsource\": \"automl\", \"display_task_type\": \"classification\", \"dependencies_versions\": \"{\\\"azureml-widgets\\\": \\\"1.20.0\\\", \\\"azureml-train\\\": \\\"1.20.0\\\", \\\"azureml-train-restclients-hyperdrive\\\": \\\"1.20.0\\\", \\\"azureml-train-core\\\": \\\"1.20.0\\\", \\\"azureml-train-automl\\\": \\\"1.20.0\\\", \\\"azureml-train-automl-runtime\\\": \\\"1.20.0\\\", \\\"azureml-train-automl-client\\\": \\\"1.20.0\\\", \\\"azureml-tensorboard\\\": \\\"1.20.0\\\", \\\"azureml-telemetry\\\": \\\"1.20.0\\\", \\\"azureml-sdk\\\": \\\"1.20.0\\\", \\\"azureml-samples\\\": \\\"0+unknown\\\", \\\"azureml-pipeline\\\": \\\"1.20.0\\\", \\\"azureml-pipeline-steps\\\": \\\"1.20.0\\\", \\\"azureml-pipeline-core\\\": \\\"1.20.0\\\", \\\"azureml-opendatasets\\\": \\\"1.20.0\\\", \\\"azureml-model-management-sdk\\\": \\\"1.0.1b6.post1\\\", \\\"azureml-mlflow\\\": \\\"1.20.0.post1\\\", \\\"azureml-interpret\\\": \\\"1.20.0\\\", \\\"azureml-explain-model\\\": \\\"1.20.0\\\", \\\"azureml-defaults\\\": \\\"1.20.0\\\", \\\"azureml-dataset-runtime\\\": \\\"1.20.0\\\", \\\"azureml-dataprep\\\": \\\"2.7.3\\\", \\\"azureml-dataprep-rslex\\\": \\\"1.5.0\\\", \\\"azureml-dataprep-native\\\": \\\"27.0.0\\\", \\\"azureml-datadrift\\\": \\\"1.20.0\\\", \\\"azureml-core\\\": \\\"1.20.0\\\", \\\"azureml-contrib-services\\\": \\\"1.20.0\\\", \\\"azureml-contrib-server\\\": \\\"1.20.0\\\", \\\"azureml-contrib-reinforcementlearning\\\": \\\"1.20.0\\\", \\\"azureml-contrib-pipeline-steps\\\": \\\"1.20.0\\\", \\\"azureml-contrib-notebook\\\": \\\"1.20.0\\\", \\\"azureml-contrib-interpret\\\": \\\"1.20.0\\\", \\\"azureml-contrib-gbdt\\\": \\\"1.20.0\\\", \\\"azureml-contrib-fairness\\\": \\\"1.20.0\\\", \\\"azureml-contrib-dataset\\\": \\\"1.20.0\\\", \\\"azureml-cli-common\\\": \\\"1.20.0\\\", \\\"azureml-automl-runtime\\\": \\\"1.20.0\\\", \\\"azureml-automl-core\\\": \\\"1.20.0\\\", \\\"azureml-accel-models\\\": \\\"1.20.0\\\"}\", \"_aml_system_scenario_identification\": \"Remote.Parent\", \"ClientType\": \"SDK\", \"environment_cpu_name\": \"AzureML-AutoML\", \"environment_cpu_label\": \"prod\", \"environment_gpu_name\": \"AzureML-AutoML-GPU\", \"environment_gpu_label\": \"prod\", \"root_attribution\": \"automl\", \"attribution\": \"AutoML\", \"Orchestrator\": \"AutoML\", \"CancelUri\": \"https://southcentralus.experiments.azureml.net/jasmine/v1.0/subscriptions/d4ad7261-832d-46b2-b093-22156001df5b/resourceGroups/aml-quickstarts-136373/providers/Microsoft.MachineLearningServices/workspaces/quick-starts-ws-136373/experimentids/3055cf5c-f56d-4651-b242-a931b663d2ea/cancel/AutoML_3ba117a6-e744-4727-ba4f-d123f69c864d\", \"ClientSdkVersion\": \"1.20.0.post1\", \"snapshotId\": \"00000000-0000-0000-0000-000000000000\", \"SetupRunId\": \"AutoML_3ba117a6-e744-4727-ba4f-d123f69c864d_setup\", \"SetupRunContainerId\": \"dcid.AutoML_3ba117a6-e744-4727-ba4f-d123f69c864d_setup\", \"FeaturizationRunJsonPath\": \"featurizer_container.json\", \"FeaturizationRunId\": \"AutoML_3ba117a6-e744-4727-ba4f-d123f69c864d_featurize\", \"ProblemInfoJsonString\": \"{\\\"dataset_num_categorical\\\": 0, \\\"is_sparse\\\": true, \\\"subsampling\\\": false, \\\"dataset_classes\\\": 2, \\\"dataset_features\\\": 146, \\\"dataset_samples\\\": 10127, \\\"single_frequency_class_detected\\\": false}\", \"ModelExplainRunId\": \"AutoML_3ba117a6-e744-4727-ba4f-d123f69c864d_ModelExplain\"}, \"tags\": {\"model_explain_run\": \"best_run\", \"_aml_system_azureml.automlComponent\": \"AutoML\", \"pipeline_id\": \"\", \"score\": \"\", \"predicted_cost\": \"\", \"fit_time\": \"\", \"training_percent\": \"\", \"iteration\": \"\", \"run_preprocessor\": \"\", \"run_algorithm\": \"\", \"dynamic_whitelisting_iterations\": \"<25>;<30>;<35>;\", \"automl_best_child_run_id\": \"AutoML_3ba117a6-e744-4727-ba4f-d123f69c864d_38\", \"model_explain_best_run_child_id\": \"AutoML_3ba117a6-e744-4727-ba4f-d123f69c864d_38\"}, \"end_time_utc\": \"2021-01-28T12:36:08.537692Z\", \"status\": \"Completed\", \"log_files\": {}, \"log_groups\": [], \"run_duration\": \"0:18:35\"}, \"child_runs\": [{\"run_id\": \"AutoML_3ba117a6-e744-4727-ba4f-d123f69c864d_0\", \"run_number\": 5, \"metric\": null, \"status\": \"Completed\", \"run_type\": \"azureml.scriptrun\", \"training_percent\": \"100\", \"start_time\": \"2021-01-28T12:23:24.852383Z\", \"end_time\": \"2021-01-28T12:24:56.431931Z\", \"created_time\": \"2021-01-28T12:23:11.682631Z\", \"created_time_dt\": \"2021-01-28T12:23:11.682631Z\", \"duration\": \"0:01:44\", \"iteration\": \"0\", \"goal\": \"accuracy_max\", \"run_name\": \"MaxAbsScaler, LightGBM\", \"run_properties\": \"copy=True\", \"primary_metric\": 0.96909245, \"best_metric\": 0.96909245}, {\"run_id\": \"AutoML_3ba117a6-e744-4727-ba4f-d123f69c864d_2\", \"run_number\": 6, \"metric\": null, \"status\": \"Completed\", \"run_type\": \"azureml.scriptrun\", \"training_percent\": \"100\", \"start_time\": \"2021-01-28T12:23:24.544394Z\", \"end_time\": \"2021-01-28T12:24:45.038738Z\", \"created_time\": \"2021-01-28T12:23:11.797231Z\", \"created_time_dt\": \"2021-01-28T12:23:11.797231Z\", \"duration\": \"0:01:33\", \"iteration\": \"2\", \"goal\": \"accuracy_max\", \"run_name\": \"MaxAbsScaler, RandomForest\", \"run_properties\": \"copy=True\", \"primary_metric\": 0.86392584, \"best_metric\": 0.96909245}, {\"run_id\": \"AutoML_3ba117a6-e744-4727-ba4f-d123f69c864d_4\", \"run_number\": 7, \"metric\": null, \"status\": \"Completed\", \"run_type\": \"azureml.scriptrun\", \"training_percent\": \"100\", \"start_time\": \"2021-01-28T12:23:23.683126Z\", \"end_time\": \"2021-01-28T12:24:46.50756Z\", \"created_time\": \"2021-01-28T12:23:11.803421Z\", \"created_time_dt\": \"2021-01-28T12:23:11.803421Z\", \"duration\": \"0:01:34\", \"iteration\": \"4\", \"goal\": \"accuracy_max\", \"run_name\": \"MaxAbsScaler, RandomForest\", \"run_properties\": \"copy=True\", \"primary_metric\": 0.86205114, \"best_metric\": 0.96909245}, {\"run_id\": \"AutoML_3ba117a6-e744-4727-ba4f-d123f69c864d_1\", \"run_number\": 8, \"metric\": null, \"status\": \"Completed\", \"run_type\": \"azureml.scriptrun\", \"training_percent\": \"100\", \"start_time\": \"2021-01-28T12:23:23.685724Z\", \"end_time\": \"2021-01-28T12:24:45.984254Z\", \"created_time\": \"2021-01-28T12:23:11.890415Z\", \"created_time_dt\": \"2021-01-28T12:23:11.890415Z\", \"duration\": \"0:01:34\", \"iteration\": \"1\", \"goal\": \"accuracy_max\", \"run_name\": \"MaxAbsScaler, XGBoostClassifier\", \"run_properties\": \"copy=True\", \"primary_metric\": 0.96030428, \"best_metric\": 0.96909245}, {\"run_id\": \"AutoML_3ba117a6-e744-4727-ba4f-d123f69c864d_3\", \"run_number\": 9, \"metric\": null, \"status\": \"Completed\", \"run_type\": \"azureml.scriptrun\", \"training_percent\": \"100\", \"start_time\": \"2021-01-28T12:23:24.342319Z\", \"end_time\": \"2021-01-28T12:24:43.210042Z\", \"created_time\": \"2021-01-28T12:23:11.808348Z\", \"created_time_dt\": \"2021-01-28T12:23:11.808348Z\", \"duration\": \"0:01:31\", \"iteration\": \"3\", \"goal\": \"accuracy_max\", \"run_name\": \"MaxAbsScaler, RandomForest\", \"run_properties\": \"copy=True\", \"primary_metric\": 0.84713984, \"best_metric\": 0.96909245}, {\"run_id\": \"AutoML_3ba117a6-e744-4727-ba4f-d123f69c864d_5\", \"run_number\": 10, \"metric\": null, \"status\": \"Completed\", \"run_type\": \"azureml.scriptrun\", \"training_percent\": \"100\", \"start_time\": \"2021-01-28T12:25:04.256963Z\", \"end_time\": \"2021-01-28T12:26:01.082671Z\", \"created_time\": \"2021-01-28T12:24:46.57309Z\", \"created_time_dt\": \"2021-01-28T12:24:46.57309Z\", \"duration\": \"0:01:14\", \"iteration\": \"5\", \"goal\": \"accuracy_max\", \"run_name\": \"MaxAbsScaler, RandomForest\", \"run_properties\": \"copy=True\", \"primary_metric\": 0.75214683, \"best_metric\": 0.96909245}, {\"run_id\": \"AutoML_3ba117a6-e744-4727-ba4f-d123f69c864d_6\", \"run_number\": 11, \"metric\": null, \"status\": \"Completed\", \"run_type\": \"azureml.scriptrun\", \"training_percent\": \"100\", \"start_time\": \"2021-01-28T12:25:03.071646Z\", \"end_time\": \"2021-01-28T12:26:00.155073Z\", \"created_time\": \"2021-01-28T12:24:50.437908Z\", \"created_time_dt\": \"2021-01-28T12:24:50.437908Z\", \"duration\": \"0:01:09\", \"iteration\": \"6\", \"goal\": \"accuracy_max\", \"run_name\": \"SparseNormalizer, XGBoostClassifier\", \"run_properties\": \"<azureml.automl.runtime.shared.model_wrappers.SparseNormalizer object at 0x7ff730f17400\", \"primary_metric\": 0.95526789, \"best_metric\": 0.96909245}, {\"run_id\": \"AutoML_3ba117a6-e744-4727-ba4f-d123f69c864d_8\", \"run_number\": 12, \"metric\": null, \"status\": \"Completed\", \"run_type\": \"azureml.scriptrun\", \"training_percent\": \"100\", \"start_time\": \"2021-01-28T12:25:02.771452Z\", \"end_time\": \"2021-01-28T12:26:03.857686Z\", \"created_time\": \"2021-01-28T12:24:50.447532Z\", \"created_time_dt\": \"2021-01-28T12:24:50.447532Z\", \"duration\": \"0:01:13\", \"iteration\": \"8\", \"goal\": \"accuracy_max\", \"run_name\": \"SparseNormalizer, XGBoostClassifier\", \"run_properties\": \"<azureml.automl.runtime.shared.model_wrappers.SparseNormalizer object at 0x7f8ab4fefc50\", \"primary_metric\": 0.96613007, \"best_metric\": 0.96909245}, {\"run_id\": \"AutoML_3ba117a6-e744-4727-ba4f-d123f69c864d_7\", \"run_number\": 13, \"metric\": null, \"status\": \"Completed\", \"run_type\": \"azureml.scriptrun\", \"training_percent\": \"100\", \"start_time\": \"2021-01-28T12:25:03.957017Z\", \"end_time\": \"2021-01-28T12:26:07.640909Z\", \"created_time\": \"2021-01-28T12:24:50.464961Z\", \"created_time_dt\": \"2021-01-28T12:24:50.464961Z\", \"duration\": \"0:01:17\", \"iteration\": \"7\", \"goal\": \"accuracy_max\", \"run_name\": \"SparseNormalizer, XGBoostClassifier\", \"run_properties\": \"<azureml.automl.runtime.shared.model_wrappers.SparseNormalizer object at 0x7fe3566119b0\", \"primary_metric\": 0.96474779, \"best_metric\": 0.96909245}, {\"run_id\": \"AutoML_3ba117a6-e744-4727-ba4f-d123f69c864d_9\", \"run_number\": 14, \"metric\": null, \"status\": \"Completed\", \"run_type\": \"azureml.scriptrun\", \"training_percent\": \"100\", \"start_time\": \"2021-01-28T12:25:11.618276Z\", \"end_time\": \"2021-01-28T12:26:06.588634Z\", \"created_time\": \"2021-01-28T12:24:58.955548Z\", \"created_time_dt\": \"2021-01-28T12:24:58.955548Z\", \"duration\": \"0:01:07\", \"iteration\": \"9\", \"goal\": \"accuracy_max\", \"run_name\": \"SparseNormalizer, XGBoostClassifier\", \"run_properties\": \"<azureml.automl.runtime.shared.model_wrappers.SparseNormalizer object at 0x7f866cb26518\", \"primary_metric\": 0.96247657, \"best_metric\": 0.96909245}, {\"run_id\": \"AutoML_3ba117a6-e744-4727-ba4f-d123f69c864d_10\", \"run_number\": 15, \"metric\": null, \"status\": \"Completed\", \"run_type\": \"azureml.scriptrun\", \"training_percent\": \"100\", \"start_time\": \"2021-01-28T12:26:18.555022Z\", \"end_time\": \"2021-01-28T12:27:26.449869Z\", \"created_time\": \"2021-01-28T12:26:02.238576Z\", \"created_time_dt\": \"2021-01-28T12:26:02.238576Z\", \"duration\": \"0:01:24\", \"iteration\": \"10\", \"goal\": \"accuracy_max\", \"run_name\": \"MaxAbsScaler, RandomForest\", \"run_properties\": \"copy=True\", \"primary_metric\": 0.83953715, \"best_metric\": 0.96909245}, {\"run_id\": \"AutoML_3ba117a6-e744-4727-ba4f-d123f69c864d_12\", \"run_number\": 16, \"metric\": null, \"status\": \"Completed\", \"run_type\": \"azureml.scriptrun\", \"training_percent\": \"100\", \"start_time\": \"2021-01-28T12:26:20.952815Z\", \"end_time\": \"2021-01-28T12:27:15.819828Z\", \"created_time\": \"2021-01-28T12:26:06.279253Z\", \"created_time_dt\": \"2021-01-28T12:26:06.279253Z\", \"duration\": \"0:01:09\", \"iteration\": \"12\", \"goal\": \"accuracy_max\", \"run_name\": \"MaxAbsScaler, LogisticRegression\", \"run_properties\": \"copy=True\", \"primary_metric\": 0.9116222, \"best_metric\": 0.96909245}, {\"run_id\": \"AutoML_3ba117a6-e744-4727-ba4f-d123f69c864d_11\", \"run_number\": 17, \"metric\": null, \"status\": \"Completed\", \"run_type\": \"azureml.scriptrun\", \"training_percent\": \"100\", \"start_time\": \"2021-01-28T12:26:20.613516Z\", \"end_time\": \"2021-01-28T12:27:16.052735Z\", \"created_time\": \"2021-01-28T12:26:06.283204Z\", \"created_time_dt\": \"2021-01-28T12:26:06.283204Z\", \"duration\": \"0:01:09\", \"iteration\": \"11\", \"goal\": \"accuracy_max\", \"run_name\": \"StandardScalerWrapper, RandomForest\", \"run_properties\": \"<azureml.automl.runtime.shared.model_wrappers.StandardScalerWrapper object at 0x7f7f682c7e48\", \"primary_metric\": 0.90056261, \"best_metric\": 0.96909245}, {\"run_id\": \"AutoML_3ba117a6-e744-4727-ba4f-d123f69c864d_14\", \"run_number\": 18, \"metric\": null, \"status\": \"Completed\", \"run_type\": \"azureml.scriptrun\", \"training_percent\": \"100\", \"start_time\": \"2021-01-28T12:26:22.295185Z\", \"end_time\": \"2021-01-28T12:27:32.537497Z\", \"created_time\": \"2021-01-28T12:26:10.177111Z\", \"created_time_dt\": \"2021-01-28T12:26:10.177111Z\", \"duration\": \"0:01:22\", \"iteration\": \"14\", \"goal\": \"accuracy_max\", \"run_name\": \"MaxAbsScaler, ExtremeRandomTrees\", \"run_properties\": \"copy=True\", \"primary_metric\": 0.87725876, \"best_metric\": 0.96909245}, {\"run_id\": \"AutoML_3ba117a6-e744-4727-ba4f-d123f69c864d_13\", \"run_number\": 19, \"metric\": null, \"status\": \"Completed\", \"run_type\": \"azureml.scriptrun\", \"training_percent\": \"100\", \"start_time\": \"2021-01-28T12:26:22.083324Z\", \"end_time\": \"2021-01-28T12:27:32.432733Z\", \"created_time\": \"2021-01-28T12:26:10.2015Z\", \"created_time_dt\": \"2021-01-28T12:26:10.2015Z\", \"duration\": \"0:01:22\", \"iteration\": \"13\", \"goal\": \"accuracy_max\", \"run_name\": \"MaxAbsScaler, ExtremeRandomTrees\", \"run_properties\": \"copy=True\", \"primary_metric\": 0.83933968, \"best_metric\": 0.96909245}, {\"run_id\": \"AutoML_3ba117a6-e744-4727-ba4f-d123f69c864d_15\", \"run_number\": 20, \"metric\": null, \"status\": \"Completed\", \"run_type\": \"azureml.scriptrun\", \"training_percent\": \"100\", \"start_time\": \"2021-01-28T12:27:32.227501Z\", \"end_time\": \"2021-01-28T12:28:21.755773Z\", \"created_time\": \"2021-01-28T12:27:18.89937Z\", \"created_time_dt\": \"2021-01-28T12:27:18.89937Z\", \"duration\": \"0:01:02\", \"iteration\": \"15\", \"goal\": \"accuracy_max\", \"run_name\": \"MaxAbsScaler, LightGBM\", \"run_properties\": \"copy=True\", \"primary_metric\": 0.89345299, \"best_metric\": 0.96909245}, {\"run_id\": \"AutoML_3ba117a6-e744-4727-ba4f-d123f69c864d_16\", \"run_number\": 21, \"metric\": null, \"status\": \"Completed\", \"run_type\": \"azureml.scriptrun\", \"training_percent\": \"100\", \"start_time\": \"2021-01-28T12:27:31.5317Z\", \"end_time\": \"2021-01-28T12:28:22.430946Z\", \"created_time\": \"2021-01-28T12:27:19.175971Z\", \"created_time_dt\": \"2021-01-28T12:27:19.175971Z\", \"duration\": \"0:01:03\", \"iteration\": \"16\", \"goal\": \"accuracy_max\", \"run_name\": \"SparseNormalizer, LightGBM\", \"run_properties\": \"<azureml.automl.runtime.shared.model_wrappers.SparseNormalizer object at 0x7ff0c039dbe0\", \"primary_metric\": 0.90796881, \"best_metric\": 0.96909245}, {\"run_id\": \"AutoML_3ba117a6-e744-4727-ba4f-d123f69c864d_17\", \"run_number\": 22, \"metric\": null, \"status\": \"Completed\", \"run_type\": \"azureml.scriptrun\", \"training_percent\": \"100\", \"start_time\": \"2021-01-28T12:27:42.919113Z\", \"end_time\": \"2021-01-28T12:28:27.740467Z\", \"created_time\": \"2021-01-28T12:27:30.26182Z\", \"created_time_dt\": \"2021-01-28T12:27:30.26182Z\", \"duration\": \"0:00:57\", \"iteration\": \"17\", \"goal\": \"accuracy_max\", \"run_name\": \"SparseNormalizer, GradientBoosting\", \"run_properties\": \"<azureml.automl.runtime.shared.model_wrappers.SparseNormalizer object at 0x7eff469c9198\", \"primary_metric\": 0.83933968, \"best_metric\": 0.96909245}, {\"run_id\": \"AutoML_3ba117a6-e744-4727-ba4f-d123f69c864d_19\", \"run_number\": 23, \"metric\": null, \"status\": \"Completed\", \"run_type\": \"azureml.scriptrun\", \"training_percent\": \"100\", \"start_time\": \"2021-01-28T12:27:49.093659Z\", \"end_time\": \"2021-01-28T12:28:51.693126Z\", \"created_time\": \"2021-01-28T12:27:37.391648Z\", \"created_time_dt\": \"2021-01-28T12:27:37.391648Z\", \"duration\": \"0:01:14\", \"iteration\": \"19\", \"goal\": \"accuracy_max\", \"run_name\": \"SparseNormalizer, XGBoostClassifier\", \"run_properties\": \"<azureml.automl.runtime.shared.model_wrappers.SparseNormalizer object at 0x7f7a8384aa58\", \"primary_metric\": 0.96534003, \"best_metric\": 0.96909245}, {\"run_id\": \"AutoML_3ba117a6-e744-4727-ba4f-d123f69c864d_18\", \"run_number\": 24, \"metric\": null, \"status\": \"Completed\", \"run_type\": \"azureml.scriptrun\", \"training_percent\": \"100\", \"start_time\": \"2021-01-28T12:27:49.749539Z\", \"end_time\": \"2021-01-28T12:28:50.537781Z\", \"created_time\": \"2021-01-28T12:27:37.499178Z\", \"created_time_dt\": \"2021-01-28T12:27:37.499178Z\", \"duration\": \"0:01:13\", \"iteration\": \"18\", \"goal\": \"accuracy_max\", \"run_name\": \"SparseNormalizer, XGBoostClassifier\", \"run_properties\": \"<azureml.automl.runtime.shared.model_wrappers.SparseNormalizer object at 0x7f97f6bad780\", \"primary_metric\": 0.95990902, \"best_metric\": 0.96909245}, {\"run_id\": \"AutoML_3ba117a6-e744-4727-ba4f-d123f69c864d_21\", \"run_number\": 25, \"metric\": null, \"status\": \"Completed\", \"run_type\": \"azureml.scriptrun\", \"training_percent\": \"100\", \"start_time\": \"2021-01-28T12:28:38.209524Z\", \"end_time\": \"2021-01-28T12:29:29.172529Z\", \"created_time\": \"2021-01-28T12:28:25.401032Z\", \"created_time_dt\": \"2021-01-28T12:28:25.401032Z\", \"duration\": \"0:01:03\", \"iteration\": \"21\", \"goal\": \"accuracy_max\", \"run_name\": \"MaxAbsScaler, LightGBM\", \"run_properties\": \"copy=True\", \"primary_metric\": 0.94963975, \"best_metric\": 0.96909245}, {\"run_id\": \"AutoML_3ba117a6-e744-4727-ba4f-d123f69c864d_20\", \"run_number\": 26, \"metric\": null, \"status\": \"Completed\", \"run_type\": \"azureml.scriptrun\", \"training_percent\": \"100\", \"start_time\": \"2021-01-28T12:28:37.806856Z\", \"end_time\": \"2021-01-28T12:29:34.67961Z\", \"created_time\": \"2021-01-28T12:28:25.552791Z\", \"created_time_dt\": \"2021-01-28T12:28:25.552791Z\", \"duration\": \"0:01:09\", \"iteration\": \"20\", \"goal\": \"accuracy_max\", \"run_name\": \"MaxAbsScaler, ExtremeRandomTrees\", \"run_properties\": \"copy=True\", \"primary_metric\": 0.86738345, \"best_metric\": 0.96909245}, {\"run_id\": \"AutoML_3ba117a6-e744-4727-ba4f-d123f69c864d_22\", \"run_number\": 27, \"metric\": null, \"status\": \"Completed\", \"run_type\": \"azureml.scriptrun\", \"training_percent\": \"100\", \"start_time\": \"2021-01-28T12:28:46.885341Z\", \"end_time\": \"2021-01-28T12:29:33.398013Z\", \"created_time\": \"2021-01-28T12:28:33.460935Z\", \"created_time_dt\": \"2021-01-28T12:28:33.460935Z\", \"duration\": \"0:00:59\", \"iteration\": \"22\", \"goal\": \"accuracy_max\", \"run_name\": \"StandardScalerWrapper, RandomForest\", \"run_properties\": \"<azureml.automl.runtime.shared.model_wrappers.StandardScalerWrapper object at 0x7f8f5ed1b320\", \"primary_metric\": 0.83933968, \"best_metric\": 0.96909245}, {\"run_id\": \"AutoML_3ba117a6-e744-4727-ba4f-d123f69c864d_23\", \"run_number\": 28, \"metric\": null, \"status\": \"Completed\", \"run_type\": \"azureml.scriptrun\", \"training_percent\": \"100\", \"start_time\": \"2021-01-28T12:29:09.531546Z\", \"end_time\": \"2021-01-28T12:30:01.774606Z\", \"created_time\": \"2021-01-28T12:28:53.821091Z\", \"created_time_dt\": \"2021-01-28T12:28:53.821091Z\", \"duration\": \"0:01:07\", \"iteration\": \"23\", \"goal\": \"accuracy_max\", \"run_name\": \"SparseNormalizer, XGBoostClassifier\", \"run_properties\": \"<azureml.automl.runtime.shared.model_wrappers.SparseNormalizer object at 0x7fdeb6875908\", \"primary_metric\": 0.95507065, \"best_metric\": 0.96909245}, {\"run_id\": \"AutoML_3ba117a6-e744-4727-ba4f-d123f69c864d_24\", \"run_number\": 29, \"metric\": null, \"status\": \"Completed\", \"run_type\": \"azureml.scriptrun\", \"training_percent\": \"100\", \"start_time\": \"2021-01-28T12:29:13.129389Z\", \"end_time\": \"2021-01-28T12:30:00.667205Z\", \"created_time\": \"2021-01-28T12:29:01.061191Z\", \"created_time_dt\": \"2021-01-28T12:29:01.061191Z\", \"duration\": \"0:00:59\", \"iteration\": \"24\", \"goal\": \"accuracy_max\", \"run_name\": \"MaxAbsScaler, LogisticRegression\", \"run_properties\": \"copy=True\", \"primary_metric\": 0.91211591, \"best_metric\": 0.96909245}, {\"run_id\": \"AutoML_3ba117a6-e744-4727-ba4f-d123f69c864d_25\", \"run_number\": 30, \"metric\": null, \"status\": \"Completed\", \"run_type\": \"azureml.scriptrun\", \"training_percent\": \"100\", \"start_time\": \"2021-01-28T12:29:51.580323Z\", \"end_time\": \"2021-01-28T12:30:46.690737Z\", \"created_time\": \"2021-01-28T12:29:34.108931Z\", \"created_time_dt\": \"2021-01-28T12:29:34.108931Z\", \"duration\": \"0:01:12\", \"iteration\": \"25\", \"goal\": \"accuracy_max\", \"run_name\": \"StandardScalerWrapper, LightGBM\", \"run_properties\": \"<azureml.automl.runtime.shared.model_wrappers.StandardScalerWrapper object at 0x7fdee869fd68\", \"primary_metric\": 0.83933968, \"best_metric\": 0.96909245}, {\"run_id\": \"AutoML_3ba117a6-e744-4727-ba4f-d123f69c864d_27\", \"run_number\": 31, \"metric\": null, \"status\": \"Completed\", \"run_type\": \"azureml.scriptrun\", \"training_percent\": \"100\", \"start_time\": \"2021-01-28T12:29:54.374872Z\", \"end_time\": \"2021-01-28T12:31:06.979565Z\", \"created_time\": \"2021-01-28T12:29:41.126503Z\", \"created_time_dt\": \"2021-01-28T12:29:41.126503Z\", \"duration\": \"0:01:25\", \"iteration\": \"27\", \"goal\": \"accuracy_max\", \"run_name\": \"SparseNormalizer, XGBoostClassifier\", \"run_properties\": \"<azureml.automl.runtime.shared.model_wrappers.SparseNormalizer object at 0x7f920c8883c8\", \"primary_metric\": 0.96711761, \"best_metric\": 0.96909245}, {\"run_id\": \"AutoML_3ba117a6-e744-4727-ba4f-d123f69c864d_26\", \"run_number\": 32, \"metric\": null, \"status\": \"Completed\", \"run_type\": \"azureml.scriptrun\", \"training_percent\": \"100\", \"start_time\": \"2021-01-28T12:29:52.276666Z\", \"end_time\": \"2021-01-28T12:31:05.007733Z\", \"created_time\": \"2021-01-28T12:29:41.281774Z\", \"created_time_dt\": \"2021-01-28T12:29:41.281774Z\", \"duration\": \"0:01:23\", \"iteration\": \"26\", \"goal\": \"accuracy_max\", \"run_name\": \"SparseNormalizer, XGBoostClassifier\", \"run_properties\": \"<azureml.automl.runtime.shared.model_wrappers.SparseNormalizer object at 0x7fb3841b86d8\", \"primary_metric\": 0.96780885, \"best_metric\": 0.96909245}, {\"run_id\": \"AutoML_3ba117a6-e744-4727-ba4f-d123f69c864d_28\", \"run_number\": 33, \"metric\": null, \"status\": \"Completed\", \"run_type\": \"azureml.scriptrun\", \"training_percent\": \"100\", \"start_time\": \"2021-01-28T12:30:19.889301Z\", \"end_time\": \"2021-01-28T12:31:21.589834Z\", \"created_time\": \"2021-01-28T12:30:04.807302Z\", \"created_time_dt\": \"2021-01-28T12:30:04.807302Z\", \"duration\": \"0:01:16\", \"iteration\": \"28\", \"goal\": \"accuracy_max\", \"run_name\": \"SparseNormalizer, XGBoostClassifier\", \"run_properties\": \"<azureml.automl.runtime.shared.model_wrappers.SparseNormalizer object at 0x7fab5c502710\", \"primary_metric\": 0.95892186, \"best_metric\": 0.96909245}, {\"run_id\": \"AutoML_3ba117a6-e744-4727-ba4f-d123f69c864d_29\", \"run_number\": 34, \"metric\": null, \"status\": \"Completed\", \"run_type\": \"azureml.scriptrun\", \"training_percent\": \"100\", \"start_time\": \"2021-01-28T12:30:24.992681Z\", \"end_time\": \"2021-01-28T12:31:12.770232Z\", \"created_time\": \"2021-01-28T12:30:11.440914Z\", \"created_time_dt\": \"2021-01-28T12:30:11.440914Z\", \"duration\": \"0:01:01\", \"iteration\": \"29\", \"goal\": \"accuracy_max\", \"run_name\": \"StandardScalerWrapper, XGBoostClassifier\", \"run_properties\": \"<azureml.automl.runtime.shared.model_wrappers.StandardScalerWrapper object at 0x7f3c8f252b70\", \"primary_metric\": 0.96356278, \"best_metric\": 0.96909245}, {\"run_id\": \"AutoML_3ba117a6-e744-4727-ba4f-d123f69c864d_30\", \"run_number\": 35, \"metric\": null, \"status\": \"Completed\", \"run_type\": \"azureml.scriptrun\", \"training_percent\": \"100\", \"start_time\": \"2021-01-28T12:31:04.582961Z\", \"end_time\": \"2021-01-28T12:32:58.187376Z\", \"created_time\": \"2021-01-28T12:30:50.290619Z\", \"created_time_dt\": \"2021-01-28T12:30:50.290619Z\", \"duration\": \"0:02:07\", \"iteration\": \"30\", \"goal\": \"accuracy_max\", \"run_name\": \"StandardScalerWrapper, LightGBM\", \"run_properties\": \"<azureml.automl.runtime.shared.model_wrappers.StandardScalerWrapper object at 0x7faa9ac022b0\", \"primary_metric\": 0.96060037, \"best_metric\": 0.96909245}, {\"run_id\": \"AutoML_3ba117a6-e744-4727-ba4f-d123f69c864d_31\", \"run_number\": 36, \"metric\": null, \"status\": \"Completed\", \"run_type\": \"azureml.scriptrun\", \"training_percent\": \"100\", \"start_time\": \"2021-01-28T12:31:20.032548Z\", \"end_time\": \"2021-01-28T12:33:03.45512Z\", \"created_time\": \"2021-01-28T12:31:07.810196Z\", \"created_time_dt\": \"2021-01-28T12:31:07.810196Z\", \"duration\": \"0:01:55\", \"iteration\": \"31\", \"goal\": \"accuracy_max\", \"run_name\": \"SparseNormalizer, XGBoostClassifier\", \"run_properties\": \"<azureml.automl.runtime.shared.model_wrappers.SparseNormalizer object at 0x7fea653afb70\", \"primary_metric\": 0.96395761, \"best_metric\": 0.96909245}, {\"run_id\": \"AutoML_3ba117a6-e744-4727-ba4f-d123f69c864d_32\", \"run_number\": 37, \"metric\": null, \"status\": \"Completed\", \"run_type\": \"azureml.scriptrun\", \"training_percent\": \"100\", \"start_time\": \"2021-01-28T12:31:27.306763Z\", \"end_time\": \"2021-01-28T12:33:05.716127Z\", \"created_time\": \"2021-01-28T12:31:13.849005Z\", \"created_time_dt\": \"2021-01-28T12:31:13.849005Z\", \"duration\": \"0:01:51\", \"iteration\": \"32\", \"goal\": \"accuracy_max\", \"run_name\": \"SparseNormalizer, XGBoostClassifier\", \"run_properties\": \"<azureml.automl.runtime.shared.model_wrappers.SparseNormalizer object at 0x7fc219081550\", \"primary_metric\": 0.95813171, \"best_metric\": 0.96909245}, {\"run_id\": \"AutoML_3ba117a6-e744-4727-ba4f-d123f69c864d_33\", \"run_number\": 38, \"metric\": null, \"status\": \"Completed\", \"run_type\": \"azureml.scriptrun\", \"training_percent\": \"100\", \"start_time\": \"2021-01-28T12:31:32.27603Z\", \"end_time\": \"2021-01-28T12:33:01.729952Z\", \"created_time\": \"2021-01-28T12:31:19.654239Z\", \"created_time_dt\": \"2021-01-28T12:31:19.654239Z\", \"duration\": \"0:01:42\", \"iteration\": \"33\", \"goal\": \"accuracy_max\", \"run_name\": \"SparseNormalizer, XGBoostClassifier\", \"run_properties\": \"<azureml.automl.runtime.shared.model_wrappers.SparseNormalizer object at 0x7fce0c5e8b00\", \"primary_metric\": 0.96079758, \"best_metric\": 0.96909245}, {\"run_id\": \"AutoML_3ba117a6-e744-4727-ba4f-d123f69c864d_34\", \"run_number\": 39, \"metric\": null, \"status\": \"Completed\", \"run_type\": \"azureml.scriptrun\", \"training_percent\": \"100\", \"start_time\": \"2021-01-28T12:31:39.404627Z\", \"end_time\": \"2021-01-28T12:33:06.852539Z\", \"created_time\": \"2021-01-28T12:31:25.829452Z\", \"created_time_dt\": \"2021-01-28T12:31:25.829452Z\", \"duration\": \"0:01:41\", \"iteration\": \"34\", \"goal\": \"accuracy_max\", \"run_name\": \"SparseNormalizer, XGBoostClassifier\", \"run_properties\": \"<azureml.automl.runtime.shared.model_wrappers.SparseNormalizer object at 0x7f1ffc57b978\", \"primary_metric\": 0.96751252, \"best_metric\": 0.96909245}, {\"run_id\": \"AutoML_3ba117a6-e744-4727-ba4f-d123f69c864d_35\", \"run_number\": 40, \"metric\": null, \"status\": \"Canceled\", \"run_type\": \"azureml.scriptrun\", \"training_percent\": \"100\", \"start_time\": \"2021-01-28T12:33:01.274944Z\", \"end_time\": \"2021-01-28T12:33:19.815244Z\", \"created_time\": \"2021-01-28T12:33:01.274944Z\", \"created_time_dt\": \"2021-01-28T12:33:01.274944Z\", \"duration\": \"0:00:18\", \"iteration\": \"35\", \"goal\": null, \"run_name\": \"Canceled\", \"run_properties\": null}, {\"run_id\": \"AutoML_3ba117a6-e744-4727-ba4f-d123f69c864d_36\", \"run_number\": 41, \"metric\": null, \"status\": \"Canceled\", \"run_type\": \"azureml.scriptrun\", \"training_percent\": \"100\", \"start_time\": \"2021-01-28T12:33:05.045306Z\", \"end_time\": \"2021-01-28T12:33:22.25859Z\", \"created_time\": \"2021-01-28T12:33:05.045306Z\", \"created_time_dt\": \"2021-01-28T12:33:05.045306Z\", \"duration\": \"0:00:17\", \"iteration\": \"36\", \"goal\": null, \"run_name\": \"Canceled\", \"run_properties\": null}, {\"run_id\": \"AutoML_3ba117a6-e744-4727-ba4f-d123f69c864d_37\", \"run_number\": 42, \"metric\": null, \"status\": \"Canceled\", \"run_type\": \"azureml.scriptrun\", \"training_percent\": \"100\", \"start_time\": \"2021-01-28T12:33:05.347594Z\", \"end_time\": \"2021-01-28T12:33:22.521188Z\", \"created_time\": \"2021-01-28T12:33:05.347594Z\", \"created_time_dt\": \"2021-01-28T12:33:05.347594Z\", \"duration\": \"0:00:17\", \"iteration\": \"37\", \"goal\": null, \"run_name\": \"Canceled\", \"run_properties\": null}, {\"run_id\": \"AutoML_3ba117a6-e744-4727-ba4f-d123f69c864d_39\", \"run_number\": 43, \"metric\": null, \"status\": \"Completed\", \"run_type\": \"azureml.scriptrun\", \"training_percent\": \"100\", \"start_time\": \"2021-01-28T12:33:37.020415Z\", \"end_time\": \"2021-01-28T12:35:56.128611Z\", \"created_time\": \"2021-01-28T12:33:24.768123Z\", \"created_time_dt\": \"2021-01-28T12:33:24.768123Z\", \"duration\": \"0:02:31\", \"iteration\": \"39\", \"goal\": \"accuracy_max\", \"run_name\": \"StackEnsemble\", \"run_properties\": \"base_learners=[('0',\\n                                        Pipeline(memory=None,\\n                                                 steps=[('maxabsscaler',\\n                                                         MaxAbsScaler(copy=True\", \"primary_metric\": 0.96948745, \"best_metric\": 0.97086987}, {\"run_id\": \"AutoML_3ba117a6-e744-4727-ba4f-d123f69c864d_38\", \"run_number\": 44, \"metric\": null, \"status\": \"Completed\", \"run_type\": \"azureml.scriptrun\", \"training_percent\": \"100\", \"start_time\": \"2021-01-28T12:33:37.644368Z\", \"end_time\": \"2021-01-28T12:35:40.62306Z\", \"created_time\": \"2021-01-28T12:33:24.988908Z\", \"created_time_dt\": \"2021-01-28T12:33:24.988908Z\", \"duration\": \"0:02:15\", \"iteration\": \"38\", \"goal\": \"accuracy_max\", \"run_name\": \"VotingEnsemble\", \"run_properties\": \"classification_labels=None,\\n                              estimators=[('0',\\n                                           Pipeline(memory=None,\\n                                                    steps=[('maxabsscaler',\\n                                                            MaxAbsScaler(copy=True\", \"primary_metric\": 0.97086987, \"best_metric\": 0.97086987}], \"children_metrics\": {\"categories\": [0], \"series\": {\"AUC_weighted\": [{\"categories\": [\"0\", \"1\", \"2\", \"3\", \"4\", \"5\", \"6\", \"7\", \"8\", \"9\", \"10\", \"11\", \"12\", \"13\", \"14\", \"15\", \"16\", \"17\", \"18\", \"19\", \"20\", \"21\", \"22\", \"23\", \"24\", \"25\", \"26\", \"27\", \"28\", \"29\", \"30\", \"31\", \"32\", \"33\", \"34\", \"38\", \"39\"], \"mode\": \"markers\", \"name\": \"AUC_weighted\", \"stepped\": false, \"type\": \"scatter\", \"data\": [0.9920575780918782, 0.9888548014173875, 0.9134360132271547, 0.90171948993876, 0.9295933465209844, 0.8813140124779953, 0.9825238154189558, 0.9907526729577789, 0.9907405862997501, 0.988722082352789, 0.9189011834741256, 0.949695279871479, 0.9304088135515292, 0.9005048006486617, 0.9111604166603735, 0.956590505120932, 0.9344450604863305, 0.7268545709326443, 0.9864849440890407, 0.9904921610483473, 0.9157901113518534, 0.9825368333494507, 0.897606649487662, 0.9835685519083815, 0.9256247399761585, 0.9146055569780674, 0.9913749738298835, 0.9907147730444171, 0.9889305473085465, 0.9903761075764911, 0.9875030903443011, 0.9902249548918166, 0.9864492653400925, 0.9872233255439312, 0.9911782607608065, 0.992670588986201, 0.9926172418930289]}, {\"categories\": [\"0\", \"1\", \"2\", \"3\", \"4\", \"5\", \"6\", \"7\", \"8\", \"9\", \"10\", \"11\", \"12\", \"13\", \"14\", \"15\", \"16\", \"17\", \"18\", \"19\", \"20\", \"21\", \"22\", \"23\", \"24\", \"25\", \"26\", \"27\", \"28\", \"29\", \"30\", \"31\", \"32\", \"33\", \"34\", \"38\", \"39\"], \"mode\": \"lines\", \"name\": \"AUC_weighted_max\", \"stepped\": true, \"type\": \"scatter\", \"data\": [0.9920575780918782, 0.9920575780918782, 0.9920575780918782, 0.9920575780918782, 0.9920575780918782, 0.9920575780918782, 0.9920575780918782, 0.9920575780918782, 0.9920575780918782, 0.9920575780918782, 0.9920575780918782, 0.9920575780918782, 0.9920575780918782, 0.9920575780918782, 0.9920575780918782, 0.9920575780918782, 0.9920575780918782, 0.9920575780918782, 0.9920575780918782, 0.9920575780918782, 0.9920575780918782, 0.9920575780918782, 0.9920575780918782, 0.9920575780918782, 0.9920575780918782, 0.9920575780918782, 0.9920575780918782, 0.9920575780918782, 0.9920575780918782, 0.9920575780918782, 0.9920575780918782, 0.9920575780918782, 0.9920575780918782, 0.9920575780918782, 0.9920575780918782, 0.992670588986201, 0.992670588986201]}], \"accuracy\": [{\"categories\": [\"0\", \"1\", \"2\", \"3\", \"4\", \"5\", \"6\", \"7\", \"8\", \"9\", \"10\", \"11\", \"12\", \"13\", \"14\", \"15\", \"16\", \"17\", \"18\", \"19\", \"20\", \"21\", \"22\", \"23\", \"24\", \"25\", \"26\", \"27\", \"28\", \"29\", \"30\", \"31\", \"32\", \"33\", \"34\", \"38\", \"39\"], \"mode\": \"markers\", \"name\": \"accuracy\", \"stepped\": false, \"type\": \"scatter\", \"data\": [0.9690924463167749, 0.9603042829559417, 0.8639258381604353, 0.8471398396817037, 0.8620511380258615, 0.752146831665789, 0.9552678895325025, 0.964747791235153, 0.9661300684570827, 0.9624765666140074, 0.8395371540576911, 0.9005626060499677, 0.9116221988180914, 0.8393396817038207, 0.8772587619214791, 0.8934529869521971, 0.9079688139956703, 0.8393396817038207, 0.959909016441402, 0.9653400327657832, 0.8673834474284711, 0.9496397519162132, 0.8393396817038207, 0.9550706512199404, 0.9121159089579312, 0.8393396817038207, 0.9678088467614533, 0.9671176057574162, 0.9589218594581944, 0.963562781580949, 0.9606003744660933, 0.9639576092680359, 0.9581317067462408, 0.960797583523492, 0.9675125212099935, 0.9708698730325903, 0.9694874495348428]}, {\"categories\": [\"0\", \"1\", \"2\", \"3\", \"4\", \"5\", \"6\", \"7\", \"8\", \"9\", \"10\", \"11\", \"12\", \"13\", \"14\", \"15\", \"16\", \"17\", \"18\", \"19\", \"20\", \"21\", \"22\", \"23\", \"24\", \"25\", \"26\", \"27\", \"28\", \"29\", \"30\", \"31\", \"32\", \"33\", \"34\", \"38\", \"39\"], \"mode\": \"lines\", \"name\": \"accuracy_max\", \"stepped\": true, \"type\": \"scatter\", \"data\": [0.9690924463167749, 0.9690924463167749, 0.9690924463167749, 0.9690924463167749, 0.9690924463167749, 0.9690924463167749, 0.9690924463167749, 0.9690924463167749, 0.9690924463167749, 0.9690924463167749, 0.9690924463167749, 0.9690924463167749, 0.9690924463167749, 0.9690924463167749, 0.9690924463167749, 0.9690924463167749, 0.9690924463167749, 0.9690924463167749, 0.9690924463167749, 0.9690924463167749, 0.9690924463167749, 0.9690924463167749, 0.9690924463167749, 0.9690924463167749, 0.9690924463167749, 0.9690924463167749, 0.9690924463167749, 0.9690924463167749, 0.9690924463167749, 0.9690924463167749, 0.9690924463167749, 0.9690924463167749, 0.9690924463167749, 0.9690924463167749, 0.9690924463167749, 0.9708698730325903, 0.9708698730325903]}], \"average_precision_score_weighted\": [{\"categories\": [\"0\", \"1\", \"2\", \"3\", \"4\", \"5\", \"6\", \"7\", \"8\", \"9\", \"10\", \"11\", \"12\", \"13\", \"14\", \"15\", \"16\", \"17\", \"18\", \"19\", \"20\", \"21\", \"22\", \"23\", \"24\", \"25\", \"26\", \"27\", \"28\", \"29\", \"30\", \"31\", \"32\", \"33\", \"34\", \"38\", \"39\"], \"mode\": \"markers\", \"name\": \"average_precision_score_weighted\", \"stepped\": false, \"type\": \"scatter\", \"data\": [0.9932731307994235, 0.9903121269032459, 0.9396137849856032, 0.9348181313415375, 0.9492837239273307, 0.9211264249953054, 0.9863391273871396, 0.9921683664203726, 0.992004385517849, 0.990502466389236, 0.9428782705839049, 0.9584014736651115, 0.9514454381426081, 0.9300267083953591, 0.9357077803268484, 0.963105069992734, 0.9514600159361303, 0.8230379019849657, 0.9889927283754614, 0.9918054576898546, 0.9389932224388762, 0.9845486233160413, 0.9302434354935656, 0.9870549517153844, 0.9492258153209857, 0.9414537449857544, 0.9925615622445529, 0.9922208019854728, 0.9906618059072647, 0.9915175099639928, 0.988676786967892, 0.9916766954081405, 0.9886473299584928, 0.9896412043495039, 0.9925158089768388, 0.9935717788461492, 0.9935464395455845]}, {\"categories\": [\"0\", \"1\", \"2\", \"3\", \"4\", \"5\", \"6\", \"7\", \"8\", \"9\", \"10\", \"11\", \"12\", \"13\", \"14\", \"15\", \"16\", \"17\", \"18\", \"19\", \"20\", \"21\", \"22\", \"23\", \"24\", \"25\", \"26\", \"27\", \"28\", \"29\", \"30\", \"31\", \"32\", \"33\", \"34\", \"38\", \"39\"], \"mode\": \"lines\", \"name\": \"average_precision_score_weighted_max\", \"stepped\": true, \"type\": \"scatter\", \"data\": [0.9932731307994235, 0.9932731307994235, 0.9932731307994235, 0.9932731307994235, 0.9932731307994235, 0.9932731307994235, 0.9932731307994235, 0.9932731307994235, 0.9932731307994235, 0.9932731307994235, 0.9932731307994235, 0.9932731307994235, 0.9932731307994235, 0.9932731307994235, 0.9932731307994235, 0.9932731307994235, 0.9932731307994235, 0.9932731307994235, 0.9932731307994235, 0.9932731307994235, 0.9932731307994235, 0.9932731307994235, 0.9932731307994235, 0.9932731307994235, 0.9932731307994235, 0.9932731307994235, 0.9932731307994235, 0.9932731307994235, 0.9932731307994235, 0.9932731307994235, 0.9932731307994235, 0.9932731307994235, 0.9932731307994235, 0.9932731307994235, 0.9932731307994235, 0.9935717788461492, 0.9935717788461492]}], \"recall_score_micro\": [{\"categories\": [\"0\", \"1\", \"2\", \"3\", \"4\", \"5\", \"6\", \"7\", \"8\", \"9\", \"10\", \"11\", \"12\", \"13\", \"14\", \"15\", \"16\", \"17\", \"18\", \"19\", \"20\", \"21\", \"22\", \"23\", \"24\", \"25\", \"26\", \"27\", \"28\", \"29\", \"30\", \"31\", \"32\", \"33\", \"34\", \"38\", \"39\"], \"mode\": \"markers\", \"name\": \"recall_score_micro\", \"stepped\": false, \"type\": \"scatter\", \"data\": [0.9690924463167749, 0.9603042829559417, 0.8639258381604353, 0.8471398396817037, 0.8620511380258615, 0.752146831665789, 0.9552678895325025, 0.964747791235153, 0.9661300684570827, 0.9624765666140074, 0.8395371540576911, 0.9005626060499677, 0.9116221988180914, 0.8393396817038207, 0.8772587619214791, 0.8934529869521971, 0.9079688139956703, 0.8393396817038207, 0.959909016441402, 0.9653400327657832, 0.8673834474284711, 0.9496397519162132, 0.8393396817038207, 0.9550706512199404, 0.9121159089579312, 0.8393396817038207, 0.9678088467614533, 0.9671176057574162, 0.9589218594581944, 0.963562781580949, 0.9606003744660933, 0.9639576092680359, 0.9581317067462408, 0.960797583523492, 0.9675125212099935, 0.9708698730325903, 0.9694874495348428]}, {\"categories\": [\"0\", \"1\", \"2\", \"3\", \"4\", \"5\", \"6\", \"7\", \"8\", \"9\", \"10\", \"11\", \"12\", \"13\", \"14\", \"15\", \"16\", \"17\", \"18\", \"19\", \"20\", \"21\", \"22\", \"23\", \"24\", \"25\", \"26\", \"27\", \"28\", \"29\", \"30\", \"31\", \"32\", \"33\", \"34\", \"38\", \"39\"], \"mode\": \"lines\", \"name\": \"recall_score_micro_max\", \"stepped\": true, \"type\": \"scatter\", \"data\": [0.9690924463167749, 0.9690924463167749, 0.9690924463167749, 0.9690924463167749, 0.9690924463167749, 0.9690924463167749, 0.9690924463167749, 0.9690924463167749, 0.9690924463167749, 0.9690924463167749, 0.9690924463167749, 0.9690924463167749, 0.9690924463167749, 0.9690924463167749, 0.9690924463167749, 0.9690924463167749, 0.9690924463167749, 0.9690924463167749, 0.9690924463167749, 0.9690924463167749, 0.9690924463167749, 0.9690924463167749, 0.9690924463167749, 0.9690924463167749, 0.9690924463167749, 0.9690924463167749, 0.9690924463167749, 0.9690924463167749, 0.9690924463167749, 0.9690924463167749, 0.9690924463167749, 0.9690924463167749, 0.9690924463167749, 0.9690924463167749, 0.9690924463167749, 0.9708698730325903, 0.9708698730325903]}], \"matthews_correlation\": [{\"categories\": [\"0\", \"1\", \"2\", \"3\", \"4\", \"5\", \"6\", \"7\", \"8\", \"9\", \"10\", \"11\", \"12\", \"13\", \"14\", \"15\", \"16\", \"17\", \"18\", \"19\", \"20\", \"21\", \"22\", \"23\", \"24\", \"25\", \"26\", \"27\", \"28\", \"29\", \"30\", \"31\", \"32\", \"33\", \"34\", \"38\", \"39\"], \"mode\": \"markers\", \"name\": \"matthews_correlation\", \"stepped\": false, \"type\": \"scatter\", \"data\": [0.8832585968336769, 0.8477668255350471, 0.34915067611245537, 0.11945285473110888, 0.6013392143577908, 0.43086749224325605, 0.8289587486195424, 0.8651281206898161, 0.8710946515858794, 0.856462166936624, 0.018660219902004477, 0.5818099642019069, 0.6463904163579098, 0.0, 0.4484883987390123, 0.5423926477303319, 0.6242852102019257, 0.0, 0.8465956036853166, 0.8679512120083407, 0.3839473824579193, 0.8080254258315159, 0.0, 0.8275518543561523, 0.6428812863826056, 0.0, 0.8775241578547458, 0.8752980448422165, 0.841751073537553, 0.8608440699704304, 0.8510052301061511, 0.8624883464506133, 0.8391586512994088, 0.850028811674005, 0.8766287503656335, 0.8896517248459249, 0.8848340860757565]}, {\"categories\": [\"0\", \"1\", \"2\", \"3\", \"4\", \"5\", \"6\", \"7\", \"8\", \"9\", \"10\", \"11\", \"12\", \"13\", \"14\", \"15\", \"16\", \"17\", \"18\", \"19\", \"20\", \"21\", \"22\", \"23\", \"24\", \"25\", \"26\", \"27\", \"28\", \"29\", \"30\", \"31\", \"32\", \"33\", \"34\", \"38\", \"39\"], \"mode\": \"lines\", \"name\": \"matthews_correlation_max\", \"stepped\": true, \"type\": \"scatter\", \"data\": [0.8832585968336769, 0.8832585968336769, 0.8832585968336769, 0.8832585968336769, 0.8832585968336769, 0.8832585968336769, 0.8832585968336769, 0.8832585968336769, 0.8832585968336769, 0.8832585968336769, 0.8832585968336769, 0.8832585968336769, 0.8832585968336769, 0.8832585968336769, 0.8832585968336769, 0.8832585968336769, 0.8832585968336769, 0.8832585968336769, 0.8832585968336769, 0.8832585968336769, 0.8832585968336769, 0.8832585968336769, 0.8832585968336769, 0.8832585968336769, 0.8832585968336769, 0.8832585968336769, 0.8832585968336769, 0.8832585968336769, 0.8832585968336769, 0.8832585968336769, 0.8832585968336769, 0.8832585968336769, 0.8832585968336769, 0.8832585968336769, 0.8832585968336769, 0.8896517248459249, 0.8896517248459249]}], \"f1_score_micro\": [{\"categories\": [\"0\", \"1\", \"2\", \"3\", \"4\", \"5\", \"6\", \"7\", \"8\", \"9\", \"10\", \"11\", \"12\", \"13\", \"14\", \"15\", \"16\", \"17\", \"18\", \"19\", \"20\", \"21\", \"22\", \"23\", \"24\", \"25\", \"26\", \"27\", \"28\", \"29\", \"30\", \"31\", \"32\", \"33\", \"34\", \"38\", \"39\"], \"mode\": \"markers\", \"name\": \"f1_score_micro\", \"stepped\": false, \"type\": \"scatter\", \"data\": [0.9690924463167749, 0.9603042829559417, 0.8639258381604353, 0.8471398396817039, 0.8620511380258615, 0.752146831665789, 0.9552678895325025, 0.964747791235153, 0.9661300684570827, 0.9624765666140074, 0.8395371540576911, 0.9005626060499677, 0.9116221988180914, 0.8393396817038208, 0.8772587619214791, 0.8934529869521971, 0.9079688139956702, 0.8393396817038208, 0.959909016441402, 0.9653400327657832, 0.8673834474284711, 0.9496397519162132, 0.8393396817038208, 0.9550706512199404, 0.9121159089579312, 0.8393396817038208, 0.9678088467614533, 0.9671176057574162, 0.9589218594581944, 0.963562781580949, 0.9606003744660933, 0.9639576092680359, 0.9581317067462408, 0.960797583523492, 0.9675125212099935, 0.9708698730325903, 0.9694874495348428]}, {\"categories\": [\"0\", \"1\", \"2\", \"3\", \"4\", \"5\", \"6\", \"7\", \"8\", \"9\", \"10\", \"11\", \"12\", \"13\", \"14\", \"15\", \"16\", \"17\", \"18\", \"19\", \"20\", \"21\", \"22\", \"23\", \"24\", \"25\", \"26\", \"27\", \"28\", \"29\", \"30\", \"31\", \"32\", \"33\", \"34\", \"38\", \"39\"], \"mode\": \"lines\", \"name\": \"f1_score_micro_max\", \"stepped\": true, \"type\": \"scatter\", \"data\": [0.9690924463167749, 0.9690924463167749, 0.9690924463167749, 0.9690924463167749, 0.9690924463167749, 0.9690924463167749, 0.9690924463167749, 0.9690924463167749, 0.9690924463167749, 0.9690924463167749, 0.9690924463167749, 0.9690924463167749, 0.9690924463167749, 0.9690924463167749, 0.9690924463167749, 0.9690924463167749, 0.9690924463167749, 0.9690924463167749, 0.9690924463167749, 0.9690924463167749, 0.9690924463167749, 0.9690924463167749, 0.9690924463167749, 0.9690924463167749, 0.9690924463167749, 0.9690924463167749, 0.9690924463167749, 0.9690924463167749, 0.9690924463167749, 0.9690924463167749, 0.9690924463167749, 0.9690924463167749, 0.9690924463167749, 0.9690924463167749, 0.9690924463167749, 0.9708698730325903, 0.9708698730325903]}], \"norm_macro_recall\": [{\"categories\": [\"0\", \"1\", \"2\", \"3\", \"4\", \"5\", \"6\", \"7\", \"8\", \"9\", \"10\", \"11\", \"12\", \"13\", \"14\", \"15\", \"16\", \"17\", \"18\", \"19\", \"20\", \"21\", \"22\", \"23\", \"24\", \"25\", \"26\", \"27\", \"28\", \"29\", \"30\", \"31\", \"32\", \"33\", \"34\", \"38\", \"39\"], \"mode\": \"markers\", \"name\": \"norm_macro_recall\", \"stepped\": false, \"type\": \"scatter\", \"data\": [0.8628086832654799, 0.8080242199286163, 0.17345363140804074, 0.05285072927707531, 0.7062786101680562, 0.5590624551259068, 0.7929807822795952, 0.8251988677349185, 0.8389481878945576, 0.8186321867434362, 0.0012414649286158024, 0.4527638223773345, 0.5798897555557597, 0.0, 0.26828036229444185, 0.36924492924019253, 0.5342009508103654, 0.0, 0.8083100516108308, 0.8341232739515597, 0.19221010563464, 0.7823197297763452, 0.0, 0.7885192427263341, 0.5541098992788412, 0.0, 0.8463207077791427, 0.8500390361830245, 0.7929893063747299, 0.8253223867545868, 0.8309153819434609, 0.826583882583558, 0.7957437260759125, 0.8105483743377576, 0.8475900135434212, 0.863500230368205, 0.8649851684866713]}, {\"categories\": [\"0\", \"1\", \"2\", \"3\", \"4\", \"5\", \"6\", \"7\", \"8\", \"9\", \"10\", \"11\", \"12\", \"13\", \"14\", \"15\", \"16\", \"17\", \"18\", \"19\", \"20\", \"21\", \"22\", \"23\", \"24\", \"25\", \"26\", \"27\", \"28\", \"29\", \"30\", \"31\", \"32\", \"33\", \"34\", \"38\", \"39\"], \"mode\": \"lines\", \"name\": \"norm_macro_recall_max\", \"stepped\": true, \"type\": \"scatter\", \"data\": [0.8628086832654799, 0.8628086832654799, 0.8628086832654799, 0.8628086832654799, 0.8628086832654799, 0.8628086832654799, 0.8628086832654799, 0.8628086832654799, 0.8628086832654799, 0.8628086832654799, 0.8628086832654799, 0.8628086832654799, 0.8628086832654799, 0.8628086832654799, 0.8628086832654799, 0.8628086832654799, 0.8628086832654799, 0.8628086832654799, 0.8628086832654799, 0.8628086832654799, 0.8628086832654799, 0.8628086832654799, 0.8628086832654799, 0.8628086832654799, 0.8628086832654799, 0.8628086832654799, 0.8628086832654799, 0.8628086832654799, 0.8628086832654799, 0.8628086832654799, 0.8628086832654799, 0.8628086832654799, 0.8628086832654799, 0.8628086832654799, 0.8628086832654799, 0.863500230368205, 0.8649851684866713]}], \"f1_score_weighted\": [{\"categories\": [\"0\", \"1\", \"2\", \"3\", \"4\", \"5\", \"6\", \"7\", \"8\", \"9\", \"10\", \"11\", \"12\", \"13\", \"14\", \"15\", \"16\", \"17\", \"18\", \"19\", \"20\", \"21\", \"22\", \"23\", \"24\", \"25\", \"26\", \"27\", \"28\", \"29\", \"30\", \"31\", \"32\", \"33\", \"34\", \"38\", \"39\"], \"mode\": \"markers\", \"name\": \"f1_score_weighted\", \"stepped\": false, \"type\": \"scatter\", \"data\": [0.9687295920410595, 0.959335006463559, 0.8211612226842853, 0.7834944755371219, 0.8729233732590324, 0.7823108757636158, 0.9542740612996686, 0.9639119242669937, 0.9654932737458966, 0.9616284203231528, 0.7665107937549153, 0.88848382005136, 0.9068606023397153, 0.7660348770601465, 0.8490961415134031, 0.8743341712108954, 0.9009140734064971, 0.7660348770601465, 0.9589724277880625, 0.9646464616299714, 0.8291234610069301, 0.9488329539856711, 0.7660348770601465, 0.953981505977398, 0.9056619115145853, 0.7660348770601465, 0.9672233931521003, 0.9666314855032899, 0.9576709719264817, 0.9627814185304376, 0.9601208992960251, 0.9631780439371127, 0.9570108885235994, 0.9598536618560255, 0.9669654770367125, 0.9704349770811779, 0.9691376353594613]}, {\"categories\": [\"0\", \"1\", \"2\", \"3\", \"4\", \"5\", \"6\", \"7\", \"8\", \"9\", \"10\", \"11\", \"12\", \"13\", \"14\", \"15\", \"16\", \"17\", \"18\", \"19\", \"20\", \"21\", \"22\", \"23\", \"24\", \"25\", \"26\", \"27\", \"28\", \"29\", \"30\", \"31\", \"32\", \"33\", \"34\", \"38\", \"39\"], \"mode\": \"lines\", \"name\": \"f1_score_weighted_max\", \"stepped\": true, \"type\": \"scatter\", \"data\": [0.9687295920410595, 0.9687295920410595, 0.9687295920410595, 0.9687295920410595, 0.9687295920410595, 0.9687295920410595, 0.9687295920410595, 0.9687295920410595, 0.9687295920410595, 0.9687295920410595, 0.9687295920410595, 0.9687295920410595, 0.9687295920410595, 0.9687295920410595, 0.9687295920410595, 0.9687295920410595, 0.9687295920410595, 0.9687295920410595, 0.9687295920410595, 0.9687295920410595, 0.9687295920410595, 0.9687295920410595, 0.9687295920410595, 0.9687295920410595, 0.9687295920410595, 0.9687295920410595, 0.9687295920410595, 0.9687295920410595, 0.9687295920410595, 0.9687295920410595, 0.9687295920410595, 0.9687295920410595, 0.9687295920410595, 0.9687295920410595, 0.9687295920410595, 0.9704349770811779, 0.9704349770811779]}], \"AUC_micro\": [{\"categories\": [\"0\", \"1\", \"2\", \"3\", \"4\", \"5\", \"6\", \"7\", \"8\", \"9\", \"10\", \"11\", \"12\", \"13\", \"14\", \"15\", \"16\", \"17\", \"18\", \"19\", \"20\", \"21\", \"22\", \"23\", \"24\", \"25\", \"26\", \"27\", \"28\", \"29\", \"30\", \"31\", \"32\", \"33\", \"34\", \"38\", \"39\"], \"mode\": \"markers\", \"name\": \"AUC_micro\", \"stepped\": false, \"type\": \"scatter\", \"data\": [0.9959000035607133, 0.9938827586041428, 0.9527633989478458, 0.9482002137565138, 0.9356648886992721, 0.865558381456637, 0.991231037305235, 0.9949607513920621, 0.9950074137612956, 0.9939695234818312, 0.9522867700671421, 0.969276403993527, 0.9689289056986481, 0.9473673403136734, 0.9533732407340111, 0.9692469596559947, 0.9684435818154901, 0.900551399575458, 0.9928987629468016, 0.9949203758325127, 0.9533625127164318, 0.9908435532451988, 0.9465663747003913, 0.9916439352025703, 0.9671117638290525, 0.9511900001435311, 0.9954007359882531, 0.995187491997791, 0.993509928959289, 0.9946406315503206, 0.9933728963155616, 0.9947965519498707, 0.9926216206018929, 0.9933490153388232, 0.9953665168100133, 0.9960207081606973, 0.9954983770443939]}, {\"categories\": [\"0\", \"1\", \"2\", \"3\", \"4\", \"5\", \"6\", \"7\", \"8\", \"9\", \"10\", \"11\", \"12\", \"13\", \"14\", \"15\", \"16\", \"17\", \"18\", \"19\", \"20\", \"21\", \"22\", \"23\", \"24\", \"25\", \"26\", \"27\", \"28\", \"29\", \"30\", \"31\", \"32\", \"33\", \"34\", \"38\", \"39\"], \"mode\": \"lines\", \"name\": \"AUC_micro_max\", \"stepped\": true, \"type\": \"scatter\", \"data\": [0.9959000035607133, 0.9959000035607133, 0.9959000035607133, 0.9959000035607133, 0.9959000035607133, 0.9959000035607133, 0.9959000035607133, 0.9959000035607133, 0.9959000035607133, 0.9959000035607133, 0.9959000035607133, 0.9959000035607133, 0.9959000035607133, 0.9959000035607133, 0.9959000035607133, 0.9959000035607133, 0.9959000035607133, 0.9959000035607133, 0.9959000035607133, 0.9959000035607133, 0.9959000035607133, 0.9959000035607133, 0.9959000035607133, 0.9959000035607133, 0.9959000035607133, 0.9959000035607133, 0.9959000035607133, 0.9959000035607133, 0.9959000035607133, 0.9959000035607133, 0.9959000035607133, 0.9959000035607133, 0.9959000035607133, 0.9959000035607133, 0.9959000035607133, 0.9960207081606973, 0.9960207081606973]}], \"f1_score_macro\": [{\"categories\": [\"0\", \"1\", \"2\", \"3\", \"4\", \"5\", \"6\", \"7\", \"8\", \"9\", \"10\", \"11\", \"12\", \"13\", \"14\", \"15\", \"16\", \"17\", \"18\", \"19\", \"20\", \"21\", \"22\", \"23\", \"24\", \"25\", \"26\", \"27\", \"28\", \"29\", \"30\", \"31\", \"32\", \"33\", \"34\", \"38\", \"39\"], \"mode\": \"markers\", \"name\": \"f1_score_macro\", \"stepped\": false, \"type\": \"scatter\", \"data\": [0.9413440452905671, 0.9227973818311415, 0.6043172678152727, 0.5039407054568535, 0.7875964370340967, 0.6746883694460731, 0.9134434536115066, 0.9315234400928148, 0.9348458020351345, 0.9272707444129678, 0.45760811685140684, 0.772947236743625, 0.8189109491034415, 0.4563222431737475, 0.6751877608607412, 0.7358351365801292, 0.8040028406980338, 0.4563222431737475, 0.9222542562677153, 0.9332170241569044, 0.6238401431696787, 0.9035196374437025, 0.4563222431737475, 0.912651033179012, 0.8138872684902755, 0.4563222431737475, 0.9381307013988244, 0.9372225826640118, 0.919217385003979, 0.9295497735795278, 0.9251524482305994, 0.9303477762996167, 0.9182823384110531, 0.9239365192774546, 0.9377350904507232, 0.9443778617403885, 0.9421342157775858]}, {\"categories\": [\"0\", \"1\", \"2\", \"3\", \"4\", \"5\", \"6\", \"7\", \"8\", \"9\", \"10\", \"11\", \"12\", \"13\", \"14\", \"15\", \"16\", \"17\", \"18\", \"19\", \"20\", \"21\", \"22\", \"23\", \"24\", \"25\", \"26\", \"27\", \"28\", \"29\", \"30\", \"31\", \"32\", \"33\", \"34\", \"38\", \"39\"], \"mode\": \"lines\", \"name\": \"f1_score_macro_max\", \"stepped\": true, \"type\": \"scatter\", \"data\": [0.9413440452905671, 0.9413440452905671, 0.9413440452905671, 0.9413440452905671, 0.9413440452905671, 0.9413440452905671, 0.9413440452905671, 0.9413440452905671, 0.9413440452905671, 0.9413440452905671, 0.9413440452905671, 0.9413440452905671, 0.9413440452905671, 0.9413440452905671, 0.9413440452905671, 0.9413440452905671, 0.9413440452905671, 0.9413440452905671, 0.9413440452905671, 0.9413440452905671, 0.9413440452905671, 0.9413440452905671, 0.9413440452905671, 0.9413440452905671, 0.9413440452905671, 0.9413440452905671, 0.9413440452905671, 0.9413440452905671, 0.9413440452905671, 0.9413440452905671, 0.9413440452905671, 0.9413440452905671, 0.9413440452905671, 0.9413440452905671, 0.9413440452905671, 0.9443778617403885, 0.9443778617403885]}], \"log_loss\": [{\"categories\": [\"0\", \"1\", \"2\", \"3\", \"4\", \"5\", \"6\", \"7\", \"8\", \"9\", \"10\", \"11\", \"12\", \"13\", \"14\", \"15\", \"16\", \"17\", \"18\", \"19\", \"20\", \"21\", \"22\", \"23\", \"24\", \"25\", \"26\", \"27\", \"28\", \"29\", \"30\", \"31\", \"32\", \"33\", \"34\", \"38\", \"39\"], \"mode\": \"markers\", \"name\": \"log_loss\", \"stepped\": false, \"type\": \"scatter\", \"data\": [0.0803901865488858, 0.1105145632393635, 0.2945925747153031, 0.31936048508839937, 0.45217886089453696, 0.5232551484213498, 0.14717467317079877, 0.09330998839490913, 0.09160078892614475, 0.10527354662461168, 0.31202927389762464, 0.24638155134206327, 0.2246939785500235, 0.31913113836396095, 0.297057721701105, 0.2625302790475366, 0.237049571507607, 0.38879955947056605, 0.11509326673485905, 0.0919364201765127, 0.3004801315860311, 0.12600209447941094, 0.3395854683367019, 0.14733876453397157, 0.23207330706336213, 0.4323757031984173, 0.08646745917536762, 0.08792301034954016, 0.10939212052898806, 0.1035178482538744, 0.10634775210609888, 0.09303392510537976, 0.12069978380519368, 0.10921910712031507, 0.0865966536917896, 0.0821340543846182, 0.09022561582390727]}, {\"categories\": [\"0\", \"1\", \"2\", \"3\", \"4\", \"5\", \"6\", \"7\", \"8\", \"9\", \"10\", \"11\", \"12\", \"13\", \"14\", \"15\", \"16\", \"17\", \"18\", \"19\", \"20\", \"21\", \"22\", \"23\", \"24\", \"25\", \"26\", \"27\", \"28\", \"29\", \"30\", \"31\", \"32\", \"33\", \"34\", \"38\", \"39\"], \"mode\": \"lines\", \"name\": \"log_loss_min\", \"stepped\": true, \"type\": \"scatter\", \"data\": [0.0803901865488858, 0.0803901865488858, 0.0803901865488858, 0.0803901865488858, 0.0803901865488858, 0.0803901865488858, 0.0803901865488858, 0.0803901865488858, 0.0803901865488858, 0.0803901865488858, 0.0803901865488858, 0.0803901865488858, 0.0803901865488858, 0.0803901865488858, 0.0803901865488858, 0.0803901865488858, 0.0803901865488858, 0.0803901865488858, 0.0803901865488858, 0.0803901865488858, 0.0803901865488858, 0.0803901865488858, 0.0803901865488858, 0.0803901865488858, 0.0803901865488858, 0.0803901865488858, 0.0803901865488858, 0.0803901865488858, 0.0803901865488858, 0.0803901865488858, 0.0803901865488858, 0.0803901865488858, 0.0803901865488858, 0.0803901865488858, 0.0803901865488858, 0.0803901865488858, 0.0803901865488858]}], \"precision_score_weighted\": [{\"categories\": [\"0\", \"1\", \"2\", \"3\", \"4\", \"5\", \"6\", \"7\", \"8\", \"9\", \"10\", \"11\", \"12\", \"13\", \"14\", \"15\", \"16\", \"17\", \"18\", \"19\", \"20\", \"21\", \"22\", \"23\", \"24\", \"25\", \"26\", \"27\", \"28\", \"29\", \"30\", \"31\", \"32\", \"33\", \"34\", \"38\", \"39\"], \"mode\": \"markers\", \"name\": \"precision_score_weighted\", \"stepped\": false, \"type\": \"scatter\", \"data\": [0.968675144993376, 0.9595392927993626, 0.8718014974450744, 0.7593623180780007, 0.8984260592370257, 0.8623274257412076, 0.9544061012265962, 0.9641992996300672, 0.9656160736682167, 0.9618203055991188, 0.7576794342369001, 0.8960477576472731, 0.906752766493566, 0.7045183772507437, 0.8769387428891973, 0.894747539417322, 0.9027208244391364, 0.7045183772507437, 0.9591672120244299, 0.9647748707868476, 0.8726314905117681, 0.9485614432538977, 0.7045183772507437, 0.9541129827353346, 0.9074196613001803, 0.7045183772507437, 0.9673203615853755, 0.9666072338594597, 0.9582132268329312, 0.9629408188765288, 0.9600209647615964, 0.9633707515255866, 0.9572972515995927, 0.9600817910333705, 0.9670466824392544, 0.9704858563416159, 0.9690971338832298]}, {\"categories\": [\"0\", \"1\", \"2\", \"3\", \"4\", \"5\", \"6\", \"7\", \"8\", \"9\", \"10\", \"11\", \"12\", \"13\", \"14\", \"15\", \"16\", \"17\", \"18\", \"19\", \"20\", \"21\", \"22\", \"23\", \"24\", \"25\", \"26\", \"27\", \"28\", \"29\", \"30\", \"31\", \"32\", \"33\", \"34\", \"38\", \"39\"], \"mode\": \"lines\", \"name\": \"precision_score_weighted_max\", \"stepped\": true, \"type\": \"scatter\", \"data\": [0.968675144993376, 0.968675144993376, 0.968675144993376, 0.968675144993376, 0.968675144993376, 0.968675144993376, 0.968675144993376, 0.968675144993376, 0.968675144993376, 0.968675144993376, 0.968675144993376, 0.968675144993376, 0.968675144993376, 0.968675144993376, 0.968675144993376, 0.968675144993376, 0.968675144993376, 0.968675144993376, 0.968675144993376, 0.968675144993376, 0.968675144993376, 0.968675144993376, 0.968675144993376, 0.968675144993376, 0.968675144993376, 0.968675144993376, 0.968675144993376, 0.968675144993376, 0.968675144993376, 0.968675144993376, 0.968675144993376, 0.968675144993376, 0.968675144993376, 0.968675144993376, 0.968675144993376, 0.9704858563416159, 0.9704858563416159]}], \"AUC_macro\": [{\"categories\": [\"0\", \"1\", \"2\", \"3\", \"4\", \"5\", \"6\", \"7\", \"8\", \"9\", \"10\", \"11\", \"12\", \"13\", \"14\", \"15\", \"16\", \"17\", \"18\", \"19\", \"20\", \"21\", \"22\", \"23\", \"24\", \"25\", \"26\", \"27\", \"28\", \"29\", \"30\", \"31\", \"32\", \"33\", \"34\", \"38\", \"39\"], \"mode\": \"markers\", \"name\": \"AUC_macro\", \"stepped\": false, \"type\": \"scatter\", \"data\": [0.992057578091878, 0.9888548014173875, 0.9134360132271547, 0.90171948993876, 0.9295933465209844, 0.8813140124779953, 0.9825238154189558, 0.9907526729577789, 0.9907405862997501, 0.988722082352789, 0.9189011834741256, 0.949695279871479, 0.9304088135515292, 0.9005048006486618, 0.9111604166603736, 0.956590505120932, 0.9344450604863305, 0.7268545709326443, 0.9864849440890406, 0.9904921610483473, 0.9157901113518533, 0.9825368333494507, 0.8976066494876621, 0.9835685519083815, 0.9256247399761586, 0.9146055569780674, 0.9913749738298835, 0.9907147730444171, 0.9889305473085462, 0.9903761075764911, 0.9875030903443012, 0.9902249548918166, 0.9864492653400925, 0.9872233255439311, 0.9911782607608067, 0.992670588986201, 0.9926172418930289]}, {\"categories\": [\"0\", \"1\", \"2\", \"3\", \"4\", \"5\", \"6\", \"7\", \"8\", \"9\", \"10\", \"11\", \"12\", \"13\", \"14\", \"15\", \"16\", \"17\", \"18\", \"19\", \"20\", \"21\", \"22\", \"23\", \"24\", \"25\", \"26\", \"27\", \"28\", \"29\", \"30\", \"31\", \"32\", \"33\", \"34\", \"38\", \"39\"], \"mode\": \"lines\", \"name\": \"AUC_macro_max\", \"stepped\": true, \"type\": \"scatter\", \"data\": [0.992057578091878, 0.992057578091878, 0.992057578091878, 0.992057578091878, 0.992057578091878, 0.992057578091878, 0.992057578091878, 0.992057578091878, 0.992057578091878, 0.992057578091878, 0.992057578091878, 0.992057578091878, 0.992057578091878, 0.992057578091878, 0.992057578091878, 0.992057578091878, 0.992057578091878, 0.992057578091878, 0.992057578091878, 0.992057578091878, 0.992057578091878, 0.992057578091878, 0.992057578091878, 0.992057578091878, 0.992057578091878, 0.992057578091878, 0.992057578091878, 0.992057578091878, 0.992057578091878, 0.992057578091878, 0.992057578091878, 0.992057578091878, 0.992057578091878, 0.992057578091878, 0.992057578091878, 0.992670588986201, 0.992670588986201]}], \"precision_score_macro\": [{\"categories\": [\"0\", \"1\", \"2\", \"3\", \"4\", \"5\", \"6\", \"7\", \"8\", \"9\", \"10\", \"11\", \"12\", \"13\", \"14\", \"15\", \"16\", \"17\", \"18\", \"19\", \"20\", \"21\", \"22\", \"23\", \"24\", \"25\", \"26\", \"27\", \"28\", \"29\", \"30\", \"31\", \"32\", \"33\", \"34\", \"38\", \"39\"], \"mode\": \"markers\", \"name\": \"precision_score_macro\", \"stepped\": false, \"type\": \"scatter\", \"data\": [0.9521154043040085, 0.944764167057652, 0.8886113344124196, 0.5805319794590005, 0.7559993737908078, 0.6660498076055155, 0.933425722830631, 0.9535005185997188, 0.9522701697833892, 0.9480363066634169, 0.5864195875441607, 0.8738660804649981, 0.8603580962615537, 0.41966984085191034, 0.875155062505112, 0.8985311716731538, 0.864939671884946, 0.41966984085191034, 0.9434082822571037, 0.9515904357124993, 0.8858432401161104, 0.9173078341603819, 0.41966984085191034, 0.934331161037678, 0.8730162974010708, 0.41966984085191034, 0.9549479256044672, 0.9506690819541609, 0.9468159122786135, 0.9489954689594339, 0.9358661615513423, 0.9500272737088737, 0.9424898861527753, 0.9457509521084809, 0.9533681696005963, 0.9583138871931837, 0.952597299830151]}, {\"categories\": [\"0\", \"1\", \"2\", \"3\", \"4\", \"5\", \"6\", \"7\", \"8\", \"9\", \"10\", \"11\", \"12\", \"13\", \"14\", \"15\", \"16\", \"17\", \"18\", \"19\", \"20\", \"21\", \"22\", \"23\", \"24\", \"25\", \"26\", \"27\", \"28\", \"29\", \"30\", \"31\", \"32\", \"33\", \"34\", \"38\", \"39\"], \"mode\": \"lines\", \"name\": \"precision_score_macro_max\", \"stepped\": true, \"type\": \"scatter\", \"data\": [0.9521154043040085, 0.9521154043040085, 0.9521154043040085, 0.9521154043040085, 0.9521154043040085, 0.9521154043040085, 0.9521154043040085, 0.9535005185997188, 0.9535005185997188, 0.9535005185997188, 0.9535005185997188, 0.9535005185997188, 0.9535005185997188, 0.9535005185997188, 0.9535005185997188, 0.9535005185997188, 0.9535005185997188, 0.9535005185997188, 0.9535005185997188, 0.9535005185997188, 0.9535005185997188, 0.9535005185997188, 0.9535005185997188, 0.9535005185997188, 0.9535005185997188, 0.9535005185997188, 0.9549479256044672, 0.9549479256044672, 0.9549479256044672, 0.9549479256044672, 0.9549479256044672, 0.9549479256044672, 0.9549479256044672, 0.9549479256044672, 0.9549479256044672, 0.9583138871931837, 0.9583138871931837]}], \"precision_score_micro\": [{\"categories\": [\"0\", \"1\", \"2\", \"3\", \"4\", \"5\", \"6\", \"7\", \"8\", \"9\", \"10\", \"11\", \"12\", \"13\", \"14\", \"15\", \"16\", \"17\", \"18\", \"19\", \"20\", \"21\", \"22\", \"23\", \"24\", \"25\", \"26\", \"27\", \"28\", \"29\", \"30\", \"31\", \"32\", \"33\", \"34\", \"38\", \"39\"], \"mode\": \"markers\", \"name\": \"precision_score_micro\", \"stepped\": false, \"type\": \"scatter\", \"data\": [0.9690924463167749, 0.9603042829559417, 0.8639258381604353, 0.8471398396817037, 0.8620511380258615, 0.752146831665789, 0.9552678895325025, 0.964747791235153, 0.9661300684570827, 0.9624765666140074, 0.8395371540576911, 0.9005626060499677, 0.9116221988180914, 0.8393396817038207, 0.8772587619214791, 0.8934529869521971, 0.9079688139956703, 0.8393396817038207, 0.959909016441402, 0.9653400327657832, 0.8673834474284711, 0.9496397519162132, 0.8393396817038207, 0.9550706512199404, 0.9121159089579312, 0.8393396817038207, 0.9678088467614533, 0.9671176057574162, 0.9589218594581944, 0.963562781580949, 0.9606003744660933, 0.9639576092680359, 0.9581317067462408, 0.960797583523492, 0.9675125212099935, 0.9708698730325903, 0.9694874495348428]}, {\"categories\": [\"0\", \"1\", \"2\", \"3\", \"4\", \"5\", \"6\", \"7\", \"8\", \"9\", \"10\", \"11\", \"12\", \"13\", \"14\", \"15\", \"16\", \"17\", \"18\", \"19\", \"20\", \"21\", \"22\", \"23\", \"24\", \"25\", \"26\", \"27\", \"28\", \"29\", \"30\", \"31\", \"32\", \"33\", \"34\", \"38\", \"39\"], \"mode\": \"lines\", \"name\": \"precision_score_micro_max\", \"stepped\": true, \"type\": \"scatter\", \"data\": [0.9690924463167749, 0.9690924463167749, 0.9690924463167749, 0.9690924463167749, 0.9690924463167749, 0.9690924463167749, 0.9690924463167749, 0.9690924463167749, 0.9690924463167749, 0.9690924463167749, 0.9690924463167749, 0.9690924463167749, 0.9690924463167749, 0.9690924463167749, 0.9690924463167749, 0.9690924463167749, 0.9690924463167749, 0.9690924463167749, 0.9690924463167749, 0.9690924463167749, 0.9690924463167749, 0.9690924463167749, 0.9690924463167749, 0.9690924463167749, 0.9690924463167749, 0.9690924463167749, 0.9690924463167749, 0.9690924463167749, 0.9690924463167749, 0.9690924463167749, 0.9690924463167749, 0.9690924463167749, 0.9690924463167749, 0.9690924463167749, 0.9690924463167749, 0.9708698730325903, 0.9708698730325903]}], \"recall_score_macro\": [{\"categories\": [\"0\", \"1\", \"2\", \"3\", \"4\", \"5\", \"6\", \"7\", \"8\", \"9\", \"10\", \"11\", \"12\", \"13\", \"14\", \"15\", \"16\", \"17\", \"18\", \"19\", \"20\", \"21\", \"22\", \"23\", \"24\", \"25\", \"26\", \"27\", \"28\", \"29\", \"30\", \"31\", \"32\", \"33\", \"34\", \"38\", \"39\"], \"mode\": \"markers\", \"name\": \"recall_score_macro\", \"stepped\": false, \"type\": \"scatter\", \"data\": [0.9314043416327399, 0.9040121099643081, 0.5867268157040204, 0.5264253646385376, 0.853139305084028, 0.7795312275629533, 0.8964903911397976, 0.9125994338674591, 0.9194740939472789, 0.909316093371718, 0.5006207324643079, 0.7263819111886672, 0.7899448777778799, 0.5, 0.634140181147221, 0.6846224646200962, 0.7671004754051828, 0.5, 0.9041550258054154, 0.9170616369757799, 0.59610505281732, 0.8911598648881727, 0.5, 0.8942596213631671, 0.7770549496394206, 0.5, 0.9231603538895715, 0.9250195180915123, 0.8964946531873649, 0.9126611933772933, 0.9154576909717305, 0.9132919412917789, 0.8978718630379562, 0.9052741871688789, 0.9237950067717106, 0.9317501151841024, 0.9324925842433357]}, {\"categories\": [\"0\", \"1\", \"2\", \"3\", \"4\", \"5\", \"6\", \"7\", \"8\", \"9\", \"10\", \"11\", \"12\", \"13\", \"14\", \"15\", \"16\", \"17\", \"18\", \"19\", \"20\", \"21\", \"22\", \"23\", \"24\", \"25\", \"26\", \"27\", \"28\", \"29\", \"30\", \"31\", \"32\", \"33\", \"34\", \"38\", \"39\"], \"mode\": \"lines\", \"name\": \"recall_score_macro_max\", \"stepped\": true, \"type\": \"scatter\", \"data\": [0.9314043416327399, 0.9314043416327399, 0.9314043416327399, 0.9314043416327399, 0.9314043416327399, 0.9314043416327399, 0.9314043416327399, 0.9314043416327399, 0.9314043416327399, 0.9314043416327399, 0.9314043416327399, 0.9314043416327399, 0.9314043416327399, 0.9314043416327399, 0.9314043416327399, 0.9314043416327399, 0.9314043416327399, 0.9314043416327399, 0.9314043416327399, 0.9314043416327399, 0.9314043416327399, 0.9314043416327399, 0.9314043416327399, 0.9314043416327399, 0.9314043416327399, 0.9314043416327399, 0.9314043416327399, 0.9314043416327399, 0.9314043416327399, 0.9314043416327399, 0.9314043416327399, 0.9314043416327399, 0.9314043416327399, 0.9314043416327399, 0.9314043416327399, 0.9317501151841024, 0.9324925842433357]}], \"recall_score_weighted\": [{\"categories\": [\"0\", \"1\", \"2\", \"3\", \"4\", \"5\", \"6\", \"7\", \"8\", \"9\", \"10\", \"11\", \"12\", \"13\", \"14\", \"15\", \"16\", \"17\", \"18\", \"19\", \"20\", \"21\", \"22\", \"23\", \"24\", \"25\", \"26\", \"27\", \"28\", \"29\", \"30\", \"31\", \"32\", \"33\", \"34\", \"38\", \"39\"], \"mode\": \"markers\", \"name\": \"recall_score_weighted\", \"stepped\": false, \"type\": \"scatter\", \"data\": [0.9690924463167749, 0.9603042829559417, 0.8639258381604353, 0.8471398396817037, 0.8620511380258615, 0.752146831665789, 0.9552678895325025, 0.964747791235153, 0.9661300684570827, 0.9624765666140074, 0.8395371540576911, 0.9005626060499677, 0.9116221988180914, 0.8393396817038207, 0.8772587619214791, 0.8934529869521971, 0.9079688139956703, 0.8393396817038207, 0.959909016441402, 0.9653400327657832, 0.8673834474284711, 0.9496397519162132, 0.8393396817038207, 0.9550706512199404, 0.9121159089579312, 0.8393396817038207, 0.9678088467614533, 0.9671176057574162, 0.9589218594581944, 0.963562781580949, 0.9606003744660933, 0.9639576092680359, 0.9581317067462408, 0.960797583523492, 0.9675125212099935, 0.9708698730325903, 0.9694874495348428]}, {\"categories\": [\"0\", \"1\", \"2\", \"3\", \"4\", \"5\", \"6\", \"7\", \"8\", \"9\", \"10\", \"11\", \"12\", \"13\", \"14\", \"15\", \"16\", \"17\", \"18\", \"19\", \"20\", \"21\", \"22\", \"23\", \"24\", \"25\", \"26\", \"27\", \"28\", \"29\", \"30\", \"31\", \"32\", \"33\", \"34\", \"38\", \"39\"], \"mode\": \"lines\", \"name\": \"recall_score_weighted_max\", \"stepped\": true, \"type\": \"scatter\", \"data\": [0.9690924463167749, 0.9690924463167749, 0.9690924463167749, 0.9690924463167749, 0.9690924463167749, 0.9690924463167749, 0.9690924463167749, 0.9690924463167749, 0.9690924463167749, 0.9690924463167749, 0.9690924463167749, 0.9690924463167749, 0.9690924463167749, 0.9690924463167749, 0.9690924463167749, 0.9690924463167749, 0.9690924463167749, 0.9690924463167749, 0.9690924463167749, 0.9690924463167749, 0.9690924463167749, 0.9690924463167749, 0.9690924463167749, 0.9690924463167749, 0.9690924463167749, 0.9690924463167749, 0.9690924463167749, 0.9690924463167749, 0.9690924463167749, 0.9690924463167749, 0.9690924463167749, 0.9690924463167749, 0.9690924463167749, 0.9690924463167749, 0.9690924463167749, 0.9708698730325903, 0.9708698730325903]}], \"average_precision_score_macro\": [{\"categories\": [\"0\", \"1\", \"2\", \"3\", \"4\", \"5\", \"6\", \"7\", \"8\", \"9\", \"10\", \"11\", \"12\", \"13\", \"14\", \"15\", \"16\", \"17\", \"18\", \"19\", \"20\", \"21\", \"22\", \"23\", \"24\", \"25\", \"26\", \"27\", \"28\", \"29\", \"30\", \"31\", \"32\", \"33\", \"34\", \"38\", \"39\"], \"mode\": \"markers\", \"name\": \"average_precision_score_macro\", \"stepped\": false, \"type\": \"scatter\", \"data\": [0.9824558950520178, 0.9744367702996622, 0.8526576228249999, 0.8450075903758978, 0.8748629478609965, 0.8111088807105755, 0.965171173805525, 0.9794820588815588, 0.9789588117506662, 0.9751749324301507, 0.8602280955738649, 0.8916093393346989, 0.8826675535035244, 0.8296883944797702, 0.841028372064074, 0.9028526437769576, 0.8785049532173516, 0.6261723899586151, 0.9715173150103947, 0.9784659645006984, 0.8492423638268991, 0.9589431792463822, 0.8316757498182742, 0.9668195010649593, 0.8789483215603123, 0.8586394464361917, 0.9805636524927697, 0.9798026723163442, 0.975495402816644, 0.9775597959508442, 0.9698007172178379, 0.9781547695827574, 0.9702959601363262, 0.9733273392697493, 0.9803922472089021, 0.983032517396942, 0.9829645394406624]}, {\"categories\": [\"0\", \"1\", \"2\", \"3\", \"4\", \"5\", \"6\", \"7\", \"8\", \"9\", \"10\", \"11\", \"12\", \"13\", \"14\", \"15\", \"16\", \"17\", \"18\", \"19\", \"20\", \"21\", \"22\", \"23\", \"24\", \"25\", \"26\", \"27\", \"28\", \"29\", \"30\", \"31\", \"32\", \"33\", \"34\", \"38\", \"39\"], \"mode\": \"lines\", \"name\": \"average_precision_score_macro_max\", \"stepped\": true, \"type\": \"scatter\", \"data\": [0.9824558950520178, 0.9824558950520178, 0.9824558950520178, 0.9824558950520178, 0.9824558950520178, 0.9824558950520178, 0.9824558950520178, 0.9824558950520178, 0.9824558950520178, 0.9824558950520178, 0.9824558950520178, 0.9824558950520178, 0.9824558950520178, 0.9824558950520178, 0.9824558950520178, 0.9824558950520178, 0.9824558950520178, 0.9824558950520178, 0.9824558950520178, 0.9824558950520178, 0.9824558950520178, 0.9824558950520178, 0.9824558950520178, 0.9824558950520178, 0.9824558950520178, 0.9824558950520178, 0.9824558950520178, 0.9824558950520178, 0.9824558950520178, 0.9824558950520178, 0.9824558950520178, 0.9824558950520178, 0.9824558950520178, 0.9824558950520178, 0.9824558950520178, 0.983032517396942, 0.983032517396942]}], \"weighted_accuracy\": [{\"categories\": [\"0\", \"1\", \"2\", \"3\", \"4\", \"5\", \"6\", \"7\", \"8\", \"9\", \"10\", \"11\", \"12\", \"13\", \"14\", \"15\", \"16\", \"17\", \"18\", \"19\", \"20\", \"21\", \"22\", \"23\", \"24\", \"25\", \"26\", \"27\", \"28\", \"29\", \"30\", \"31\", \"32\", \"33\", \"34\", \"38\", \"39\"], \"mode\": \"markers\", \"name\": \"weighted_accuracy\", \"stepped\": false, \"type\": \"scatter\", \"data\": [0.9830073442583588, 0.9810769896365579, 0.9666737199215939, 0.9657752099832607, 0.86528973326048, 0.7419799763731906, 0.9770163619147145, 0.9839831993499796, 0.9833632490354275, 0.9821036810715481, 0.9646384902031248, 0.964879567601895, 0.9565824274698912, 0.9645956071695932, 0.9670010498876894, 0.9705622886981143, 0.9600060204191697, 0.9645956071695932, 0.9805189106483327, 0.9831832240979582, 0.9676274933454939, 0.9712140550113953, 0.9645956071695932, 0.9775358818479685, 0.9620116797279262, 0.9645956071695932, 0.9842870914448009, 0.9826644664558063, 0.9819644010387484, 0.9823428698467417, 0.9772833979789839, 0.9826932872251626, 0.9804036665947734, 0.9813472021640535, 0.983667206889916, 0.9853239084361737, 0.9831805795202513]}, {\"categories\": [\"0\", \"1\", \"2\", \"3\", \"4\", \"5\", \"6\", \"7\", \"8\", \"9\", \"10\", \"11\", \"12\", \"13\", \"14\", \"15\", \"16\", \"17\", \"18\", \"19\", \"20\", \"21\", \"22\", \"23\", \"24\", \"25\", \"26\", \"27\", \"28\", \"29\", \"30\", \"31\", \"32\", \"33\", \"34\", \"38\", \"39\"], \"mode\": \"lines\", \"name\": \"weighted_accuracy_max\", \"stepped\": true, \"type\": \"scatter\", \"data\": [0.9830073442583588, 0.9830073442583588, 0.9830073442583588, 0.9830073442583588, 0.9830073442583588, 0.9830073442583588, 0.9830073442583588, 0.9839831993499796, 0.9839831993499796, 0.9839831993499796, 0.9839831993499796, 0.9839831993499796, 0.9839831993499796, 0.9839831993499796, 0.9839831993499796, 0.9839831993499796, 0.9839831993499796, 0.9839831993499796, 0.9839831993499796, 0.9839831993499796, 0.9839831993499796, 0.9839831993499796, 0.9839831993499796, 0.9839831993499796, 0.9839831993499796, 0.9839831993499796, 0.9842870914448009, 0.9842870914448009, 0.9842870914448009, 0.9842870914448009, 0.9842870914448009, 0.9842870914448009, 0.9842870914448009, 0.9842870914448009, 0.9842870914448009, 0.9853239084361737, 0.9853239084361737]}], \"balanced_accuracy\": [{\"categories\": [\"0\", \"1\", \"2\", \"3\", \"4\", \"5\", \"6\", \"7\", \"8\", \"9\", \"10\", \"11\", \"12\", \"13\", \"14\", \"15\", \"16\", \"17\", \"18\", \"19\", \"20\", \"21\", \"22\", \"23\", \"24\", \"25\", \"26\", \"27\", \"28\", \"29\", \"30\", \"31\", \"32\", \"33\", \"34\", \"38\", \"39\"], \"mode\": \"markers\", \"name\": \"balanced_accuracy\", \"stepped\": false, \"type\": \"scatter\", \"data\": [0.9314043416327399, 0.9040121099643081, 0.5867268157040204, 0.5264253646385376, 0.853139305084028, 0.7795312275629533, 0.8964903911397976, 0.9125994338674591, 0.9194740939472789, 0.909316093371718, 0.5006207324643079, 0.7263819111886672, 0.7899448777778799, 0.5, 0.634140181147221, 0.6846224646200962, 0.7671004754051828, 0.5, 0.9041550258054154, 0.9170616369757799, 0.59610505281732, 0.8911598648881727, 0.5, 0.8942596213631671, 0.7770549496394206, 0.5, 0.9231603538895715, 0.9250195180915123, 0.8964946531873649, 0.9126611933772933, 0.9154576909717305, 0.9132919412917789, 0.8978718630379562, 0.9052741871688789, 0.9237950067717106, 0.9317501151841024, 0.9324925842433357]}, {\"categories\": [\"0\", \"1\", \"2\", \"3\", \"4\", \"5\", \"6\", \"7\", \"8\", \"9\", \"10\", \"11\", \"12\", \"13\", \"14\", \"15\", \"16\", \"17\", \"18\", \"19\", \"20\", \"21\", \"22\", \"23\", \"24\", \"25\", \"26\", \"27\", \"28\", \"29\", \"30\", \"31\", \"32\", \"33\", \"34\", \"38\", \"39\"], \"mode\": \"lines\", \"name\": \"balanced_accuracy_max\", \"stepped\": true, \"type\": \"scatter\", \"data\": [0.9314043416327399, 0.9314043416327399, 0.9314043416327399, 0.9314043416327399, 0.9314043416327399, 0.9314043416327399, 0.9314043416327399, 0.9314043416327399, 0.9314043416327399, 0.9314043416327399, 0.9314043416327399, 0.9314043416327399, 0.9314043416327399, 0.9314043416327399, 0.9314043416327399, 0.9314043416327399, 0.9314043416327399, 0.9314043416327399, 0.9314043416327399, 0.9314043416327399, 0.9314043416327399, 0.9314043416327399, 0.9314043416327399, 0.9314043416327399, 0.9314043416327399, 0.9314043416327399, 0.9314043416327399, 0.9314043416327399, 0.9314043416327399, 0.9314043416327399, 0.9314043416327399, 0.9314043416327399, 0.9314043416327399, 0.9314043416327399, 0.9314043416327399, 0.9317501151841024, 0.9324925842433357]}], \"average_precision_score_micro\": [{\"categories\": [\"0\", \"1\", \"2\", \"3\", \"4\", \"5\", \"6\", \"7\", \"8\", \"9\", \"10\", \"11\", \"12\", \"13\", \"14\", \"15\", \"16\", \"17\", \"18\", \"19\", \"20\", \"21\", \"22\", \"23\", \"24\", \"25\", \"26\", \"27\", \"28\", \"29\", \"30\", \"31\", \"32\", \"33\", \"34\", \"38\", \"39\"], \"mode\": \"markers\", \"name\": \"average_precision_score_micro\", \"stepped\": false, \"type\": \"scatter\", \"data\": [0.9959695159351701, 0.9940395247952728, 0.9541251642125147, 0.9492672833895733, 0.9360407554397355, 0.8723492183815985, 0.9913929490917749, 0.9950718081291913, 0.9951254935036243, 0.9941030827629684, 0.9539447736728692, 0.9705818082922516, 0.9688819504113013, 0.948577802651728, 0.9546573546187692, 0.9707458696902221, 0.9691774382408807, 0.8789464959870514, 0.9930489248494956, 0.9950264685996523, 0.9547073955285278, 0.99111836213839, 0.9479405447405949, 0.9918317324404127, 0.9667907517442007, 0.9524135062919568, 0.995454090433414, 0.9952529773902868, 0.9936847599617106, 0.9947753104064665, 0.9935441105221448, 0.9949150172206144, 0.9928216360610959, 0.9934511679883941, 0.9954690906862212, 0.9961046103107282, 0.9950068864259034]}, {\"categories\": [\"0\", \"1\", \"2\", \"3\", \"4\", \"5\", \"6\", \"7\", \"8\", \"9\", \"10\", \"11\", \"12\", \"13\", \"14\", \"15\", \"16\", \"17\", \"18\", \"19\", \"20\", \"21\", \"22\", \"23\", \"24\", \"25\", \"26\", \"27\", \"28\", \"29\", \"30\", \"31\", \"32\", \"33\", \"34\", \"38\", \"39\"], \"mode\": \"lines\", \"name\": \"average_precision_score_micro_max\", \"stepped\": true, \"type\": \"scatter\", \"data\": [0.9959695159351701, 0.9959695159351701, 0.9959695159351701, 0.9959695159351701, 0.9959695159351701, 0.9959695159351701, 0.9959695159351701, 0.9959695159351701, 0.9959695159351701, 0.9959695159351701, 0.9959695159351701, 0.9959695159351701, 0.9959695159351701, 0.9959695159351701, 0.9959695159351701, 0.9959695159351701, 0.9959695159351701, 0.9959695159351701, 0.9959695159351701, 0.9959695159351701, 0.9959695159351701, 0.9959695159351701, 0.9959695159351701, 0.9959695159351701, 0.9959695159351701, 0.9959695159351701, 0.9959695159351701, 0.9959695159351701, 0.9959695159351701, 0.9959695159351701, 0.9959695159351701, 0.9959695159351701, 0.9959695159351701, 0.9959695159351701, 0.9959695159351701, 0.9961046103107282, 0.9961046103107282]}]}, \"metricName\": null, \"primaryMetricName\": \"accuracy\", \"showLegend\": false}, \"run_metrics\": [{\"name\": \"experiment_status\", \"run_id\": \"AutoML_3ba117a6-e744-4727-ba4f-d123f69c864d\", \"categories\": [0, 1, 2, 3, 4, 5, 6, 7, 8, 9, 10, 11, 12, 13, 14], \"series\": [{\"data\": [\"DatasetEvaluation\", \"FeaturesGeneration\", \"DatasetFeaturization\", \"DatasetFeaturizationCompleted\", \"DatasetBalancing\", \"DatasetCrossValidationSplit\", \"ModelSelection\", \"BestRunExplainModel\", \"ModelExplanationDataSetSetup\", \"PickSurrogateModel\", \"EngineeredFeatureExplanations\", \"EngineeredFeatureExplanations\", \"RawFeaturesExplanations\", \"RawFeaturesExplanations\", \"BestRunExplainModel\"]}]}, {\"name\": \"experiment_status_description\", \"run_id\": \"AutoML_3ba117a6-e744-4727-ba4f-d123f69c864d\", \"categories\": [0, 1, 2, 3, 4, 5, 6, 7, 8, 9, 10, 11, 12, 13, 14], \"series\": [{\"data\": [\"Gathering dataset statistics.\", \"Generating features for the dataset.\", \"Beginning to fit featurizers and featurize the dataset.\", \"Completed fit featurizers and featurizing the dataset.\", \"Performing class balancing sweeping\", \"Generating individually featurized CV splits.\", \"Beginning model selection.\", \"Best run model explanations started\", \"Model explanations data setup completed\", \"Choosing LightGBM as the surrogate model for explanations\", \"Computation of engineered features started\", \"Computation of engineered features completed\", \"Computation of raw features started\", \"Computation of raw features completed\", \"Best run model explanations completed\"]}]}, {\"name\": \"f1_score_macro\", \"run_id\": \"AutoML_3ba117a6-e744-4727-ba4f-d123f69c864d\", \"categories\": [0], \"series\": [{\"data\": [0.9443778617403885]}]}, {\"name\": \"weighted_accuracy\", \"run_id\": \"AutoML_3ba117a6-e744-4727-ba4f-d123f69c864d\", \"categories\": [0], \"series\": [{\"data\": [0.9853239084361737]}]}, {\"name\": \"AUC_weighted\", \"run_id\": \"AutoML_3ba117a6-e744-4727-ba4f-d123f69c864d\", \"categories\": [0], \"series\": [{\"data\": [0.992670588986201]}]}, {\"name\": \"AUC_micro\", \"run_id\": \"AutoML_3ba117a6-e744-4727-ba4f-d123f69c864d\", \"categories\": [0], \"series\": [{\"data\": [0.9960207081606973]}]}, {\"name\": \"precision_score_weighted\", \"run_id\": \"AutoML_3ba117a6-e744-4727-ba4f-d123f69c864d\", \"categories\": [0], \"series\": [{\"data\": [0.9704858563416159]}]}, {\"name\": \"precision_score_micro\", \"run_id\": \"AutoML_3ba117a6-e744-4727-ba4f-d123f69c864d\", \"categories\": [0], \"series\": [{\"data\": [0.9708698730325903]}]}, {\"name\": \"recall_score_micro\", \"run_id\": \"AutoML_3ba117a6-e744-4727-ba4f-d123f69c864d\", \"categories\": [0], \"series\": [{\"data\": [0.9708698730325903]}]}, {\"name\": \"average_precision_score_micro\", \"run_id\": \"AutoML_3ba117a6-e744-4727-ba4f-d123f69c864d\", \"categories\": [0], \"series\": [{\"data\": [0.9961046103107282]}]}, {\"name\": \"average_precision_score_weighted\", \"run_id\": \"AutoML_3ba117a6-e744-4727-ba4f-d123f69c864d\", \"categories\": [0], \"series\": [{\"data\": [0.9935717788461492]}]}, {\"name\": \"precision_score_macro\", \"run_id\": \"AutoML_3ba117a6-e744-4727-ba4f-d123f69c864d\", \"categories\": [0], \"series\": [{\"data\": [0.9583138871931837]}]}, {\"name\": \"AUC_macro\", \"run_id\": \"AutoML_3ba117a6-e744-4727-ba4f-d123f69c864d\", \"categories\": [0], \"series\": [{\"data\": [0.992670588986201]}]}, {\"name\": \"log_loss\", \"run_id\": \"AutoML_3ba117a6-e744-4727-ba4f-d123f69c864d\", \"categories\": [0], \"series\": [{\"data\": [0.0821340543846182]}]}, {\"name\": \"recall_score_macro\", \"run_id\": \"AutoML_3ba117a6-e744-4727-ba4f-d123f69c864d\", \"categories\": [0], \"series\": [{\"data\": [0.9317501151841024]}]}, {\"name\": \"accuracy\", \"run_id\": \"AutoML_3ba117a6-e744-4727-ba4f-d123f69c864d\", \"categories\": [0], \"series\": [{\"data\": [0.9708698730325903]}]}, {\"name\": \"average_precision_score_macro\", \"run_id\": \"AutoML_3ba117a6-e744-4727-ba4f-d123f69c864d\", \"categories\": [0], \"series\": [{\"data\": [0.983032517396942]}]}, {\"name\": \"norm_macro_recall\", \"run_id\": \"AutoML_3ba117a6-e744-4727-ba4f-d123f69c864d\", \"categories\": [0], \"series\": [{\"data\": [0.863500230368205]}]}, {\"name\": \"balanced_accuracy\", \"run_id\": \"AutoML_3ba117a6-e744-4727-ba4f-d123f69c864d\", \"categories\": [0], \"series\": [{\"data\": [0.9317501151841024]}]}, {\"name\": \"f1_score_micro\", \"run_id\": \"AutoML_3ba117a6-e744-4727-ba4f-d123f69c864d\", \"categories\": [0], \"series\": [{\"data\": [0.9708698730325903]}]}, {\"name\": \"f1_score_weighted\", \"run_id\": \"AutoML_3ba117a6-e744-4727-ba4f-d123f69c864d\", \"categories\": [0], \"series\": [{\"data\": [0.9704349770811779]}]}, {\"name\": \"matthews_correlation\", \"run_id\": \"AutoML_3ba117a6-e744-4727-ba4f-d123f69c864d\", \"categories\": [0], \"series\": [{\"data\": [0.8896517248459249]}]}, {\"name\": \"recall_score_weighted\", \"run_id\": \"AutoML_3ba117a6-e744-4727-ba4f-d123f69c864d\", \"categories\": [0], \"series\": [{\"data\": [0.9708698730325903]}]}], \"run_logs\": \"\\nRun is completed.\", \"graph\": {}, \"widget_settings\": {\"childWidgetDisplay\": \"popup\", \"send_telemetry\": false, \"log_level\": \"INFO\", \"sdk_version\": \"1.20.0\"}, \"loading\": false}"
          },
          "metadata": {}
        },
        {
          "output_type": "stream",
          "name": "stdout",
          "text": [
            "\n",
            "\n",
            "****************************************************************************************************\n",
            "DATA GUARDRAILS: \n",
            "\n",
            "TYPE:         Class balancing detection\n",
            "STATUS:       ALERTED\n",
            "DESCRIPTION:  To decrease model bias, please cancel the current run and fix balancing problem.\n",
            "              Learn more about imbalanced data: https://aka.ms/AutomatedMLImbalancedData\n",
            "DETAILS:      Imbalanced data can lead to a falsely perceived positive effect of a model's accuracy because the input data has bias towards one class.\n",
            "+---------------------------------+---------------------------------+--------------------------------------+\n",
            "|Size of the smallest class       |Name/Label of the smallest class |Number of samples in the training data|\n",
            "+=================================+=================================+======================================+\n",
            "|1627                             |Attrited Customer                |10127                                 |\n",
            "+---------------------------------+---------------------------------+--------------------------------------+\n",
            "\n",
            "****************************************************************************************************\n",
            "\n",
            "TYPE:         Missing feature values imputation\n",
            "STATUS:       PASSED\n",
            "DESCRIPTION:  No feature missing values were detected in the training data.\n",
            "              Learn more about missing value imputation: https://aka.ms/AutomatedMLFeaturization\n",
            "\n",
            "****************************************************************************************************\n",
            "\n",
            "TYPE:         High cardinality feature detection\n",
            "STATUS:       PASSED\n",
            "DESCRIPTION:  Your inputs were analyzed, and no high cardinality features were detected.\n",
            "              Learn more about high cardinality feature handling: https://aka.ms/AutomatedMLFeaturization\n",
            "\n",
            "****************************************************************************************************\n",
            "\n",
            "****************************************************************************************************\n",
            "ITERATION: The iteration being evaluated.\n",
            "PIPELINE: A summary description of the pipeline being evaluated.\n",
            "DURATION: Time taken for the current iteration.\n",
            "METRIC: The result of computing score on the fitted pipeline.\n",
            "BEST: The best observed score thus far.\n",
            "****************************************************************************************************\n",
            "\n",
            " ITERATION   PIPELINE                                       DURATION      METRIC      BEST\n",
            "         0   MaxAbsScaler LightGBM                          0:01:32       0.9691    0.9691\n",
            "         1   MaxAbsScaler XGBoostClassifier                 0:01:22       0.9603    0.9691\n",
            "         2   MaxAbsScaler RandomForest                      0:01:20       0.8639    0.9691\n",
            "         3   MaxAbsScaler RandomForest                      0:01:19       0.8471    0.9691\n",
            "         4   MaxAbsScaler RandomForest                      0:01:23       0.8621    0.9691\n",
            "         5   MaxAbsScaler RandomForest                      0:00:57       0.7521    0.9691\n",
            "         6   SparseNormalizer XGBoostClassifier             0:00:57       0.9553    0.9691\n",
            "         7   SparseNormalizer XGBoostClassifier             0:01:04       0.9647    0.9691\n",
            "         8   SparseNormalizer XGBoostClassifier             0:01:01       0.9661    0.9691\n",
            "         9   SparseNormalizer XGBoostClassifier             0:00:55       0.9625    0.9691\n",
            "        10   MaxAbsScaler RandomForest                      0:01:08       0.8395    0.9691\n",
            "        11   StandardScalerWrapper RandomForest             0:00:55       0.9006    0.9691\n",
            "        12   MaxAbsScaler LogisticRegression                0:00:55       0.9116    0.9691\n",
            "        13   MaxAbsScaler ExtremeRandomTrees                0:01:10       0.8393    0.9691\n",
            "        14   MaxAbsScaler ExtremeRandomTrees                0:01:10       0.8773    0.9691\n",
            "        15   MaxAbsScaler LightGBM                          0:00:50       0.8935    0.9691\n",
            "        16   SparseNormalizer LightGBM                      0:00:51       0.9080    0.9691\n",
            "        17   SparseNormalizer GradientBoosting              0:00:45       0.8393    0.9691\n",
            "        18   SparseNormalizer XGBoostClassifier             0:01:01       0.9599    0.9691\n",
            "        19   SparseNormalizer XGBoostClassifier             0:01:03       0.9653    0.9691\n",
            "        20   MaxAbsScaler ExtremeRandomTrees                0:00:57       0.8674    0.9691\n",
            "        21   MaxAbsScaler LightGBM                          0:00:51       0.9496    0.9691\n",
            "        22   StandardScalerWrapper RandomForest             0:00:47       0.8393    0.9691\n",
            "        23   SparseNormalizer XGBoostClassifier             0:00:52       0.9551    0.9691\n",
            "        24   MaxAbsScaler LogisticRegression                0:00:48       0.9121    0.9691\n",
            "        25   StandardScalerWrapper LightGBM                 0:00:55       0.8393    0.9691\n",
            "        26   SparseNormalizer XGBoostClassifier             0:01:13       0.9678    0.9691\n",
            "        27   SparseNormalizer XGBoostClassifier             0:01:13       0.9671    0.9691\n",
            "        28   SparseNormalizer XGBoostClassifier             0:01:02       0.9589    0.9691\n",
            "        29   StandardScalerWrapper XGBoostClassifier        0:00:48       0.9636    0.9691\n",
            "        30   StandardScalerWrapper LightGBM                 0:01:54       0.9606    0.9691\n",
            "        31   SparseNormalizer XGBoostClassifier             0:01:43       0.9640    0.9691\n",
            "        32   SparseNormalizer XGBoostClassifier             0:01:38       0.9581    0.9691\n",
            "        33   SparseNormalizer XGBoostClassifier             0:01:29       0.9608    0.9691\n",
            "        34   SparseNormalizer XGBoostClassifier             0:01:27       0.9675    0.9691\n",
            "        35                                                  0:00:19          nan    0.9691\n",
            "        36                                                  0:00:17          nan    0.9691\n",
            "        37                                                  0:00:17          nan    0.9691\n",
            "        38    VotingEnsemble                                0:02:03       0.9709    0.9709\n",
            "        39    StackEnsemble                                 0:02:19       0.9695    0.9709\n"
          ]
        },
        {
          "output_type": "execute_result",
          "execution_count": 7,
          "data": {
            "text/plain": "{'runId': 'AutoML_3ba117a6-e744-4727-ba4f-d123f69c864d',\n 'target': 'demo-cluster',\n 'status': 'Completed',\n 'startTimeUtc': '2021-01-28T12:17:48.144838Z',\n 'endTimeUtc': '2021-01-28T12:36:08.537692Z',\n 'properties': {'num_iterations': '1000',\n  'training_type': 'TrainFull',\n  'acquisition_function': 'EI',\n  'primary_metric': 'accuracy',\n  'train_split': '0',\n  'acquisition_parameter': '0',\n  'num_cross_validation': '3',\n  'target': 'demo-cluster',\n  'AMLSettingsJsonString': '{\"path\":null,\"name\":\"demo-automl-experiment\",\"subscription_id\":\"d4ad7261-832d-46b2-b093-22156001df5b\",\"resource_group\":\"aml-quickstarts-136373\",\"workspace_name\":\"quick-starts-ws-136373\",\"region\":\"southcentralus\",\"compute_target\":\"demo-cluster\",\"spark_service\":null,\"azure_service\":\"remote\",\"many_models\":false,\"pipeline_fetch_max_batch_size\":1,\"iterations\":1000,\"primary_metric\":\"accuracy\",\"task_type\":\"classification\",\"data_script\":null,\"validation_size\":0.0,\"n_cross_validations\":3,\"y_min\":null,\"y_max\":null,\"num_classes\":null,\"featurization\":\"auto\",\"_ignore_package_version_incompatibilities\":false,\"is_timeseries\":false,\"max_cores_per_iteration\":1,\"max_concurrent_iterations\":5,\"iteration_timeout_minutes\":null,\"mem_in_mb\":null,\"enforce_time_on_windows\":false,\"experiment_timeout_minutes\":30,\"experiment_exit_score\":null,\"whitelist_models\":null,\"blacklist_algos\":[\"TensorFlowLinearClassifier\",\"TensorFlowDNN\"],\"supported_models\":[\"LightGBM\",\"RandomForest\",\"BernoulliNaiveBayes\",\"ExtremeRandomTrees\",\"LogisticRegression\",\"XGBoostClassifier\",\"SGD\",\"SVM\",\"TensorFlowDNN\",\"LinearSVM\",\"MultinomialNaiveBayes\",\"DecisionTree\",\"GradientBoosting\",\"TensorFlowLinearClassifier\",\"AveragedPerceptronClassifier\",\"KNN\"],\"auto_blacklist\":true,\"blacklist_samples_reached\":false,\"exclude_nan_labels\":true,\"verbosity\":20,\"_debug_log\":\"azureml_automl.log\",\"show_warnings\":false,\"model_explainability\":true,\"service_url\":null,\"sdk_url\":null,\"sdk_packages\":null,\"enable_onnx_compatible_models\":false,\"enable_split_onnx_featurizer_estimator_models\":false,\"vm_type\":\"STANDARD_DS3_V2\",\"telemetry_verbosity\":20,\"send_telemetry\":true,\"enable_dnn\":false,\"scenario\":\"SDK-1.13.0\",\"environment_label\":null,\"force_text_dnn\":false,\"enable_feature_sweeping\":true,\"enable_early_stopping\":true,\"early_stopping_n_iters\":10,\"metrics\":null,\"enable_ensembling\":true,\"enable_stack_ensembling\":true,\"ensemble_iterations\":15,\"enable_tf\":false,\"enable_subsampling\":null,\"subsample_seed\":null,\"enable_nimbusml\":false,\"enable_streaming\":false,\"force_streaming\":false,\"track_child_runs\":true,\"allowed_private_models\":[],\"label_column_name\":\"Attrition_Flag\",\"weight_column_name\":null,\"cv_split_column_names\":null,\"enable_local_managed\":false,\"_local_managed_run_id\":null,\"cost_mode\":1,\"lag_length\":0,\"metric_operation\":\"maximize\",\"preprocess\":true}',\n  'DataPrepJsonString': '{\\\\\"training_data\\\\\": \\\\\"{\\\\\\\\\\\\\"blocks\\\\\\\\\\\\\": [{\\\\\\\\\\\\\"id\\\\\\\\\\\\\": \\\\\\\\\\\\\"0579c0a7-bdad-4a0a-ae88-4ff6feca9a65\\\\\\\\\\\\\", \\\\\\\\\\\\\"type\\\\\\\\\\\\\": \\\\\\\\\\\\\"Microsoft.DPrep.GetDatastoreFilesBlock\\\\\\\\\\\\\", \\\\\\\\\\\\\"arguments\\\\\\\\\\\\\": {\\\\\\\\\\\\\"datastores\\\\\\\\\\\\\": [{\\\\\\\\\\\\\"datastoreName\\\\\\\\\\\\\": \\\\\\\\\\\\\"workspaceblobstore\\\\\\\\\\\\\", \\\\\\\\\\\\\"path\\\\\\\\\\\\\": \\\\\\\\\\\\\"UI/01-28-2021_121111_UTC/BankChurners.csv\\\\\\\\\\\\\", \\\\\\\\\\\\\"resourceGroup\\\\\\\\\\\\\": \\\\\\\\\\\\\"aml-quickstarts-136373\\\\\\\\\\\\\", \\\\\\\\\\\\\"subscription\\\\\\\\\\\\\": \\\\\\\\\\\\\"d4ad7261-832d-46b2-b093-22156001df5b\\\\\\\\\\\\\", \\\\\\\\\\\\\"workspaceName\\\\\\\\\\\\\": \\\\\\\\\\\\\"quick-starts-ws-136373\\\\\\\\\\\\\"}]}, \\\\\\\\\\\\\"localData\\\\\\\\\\\\\": {}, \\\\\\\\\\\\\"isEnabled\\\\\\\\\\\\\": true, \\\\\\\\\\\\\"name\\\\\\\\\\\\\": null, \\\\\\\\\\\\\"annotation\\\\\\\\\\\\\": null}, {\\\\\\\\\\\\\"id\\\\\\\\\\\\\": \\\\\\\\\\\\\"538ad191-0ff2-4c1d-967e-6bd4abf52874\\\\\\\\\\\\\", \\\\\\\\\\\\\"type\\\\\\\\\\\\\": \\\\\\\\\\\\\"Microsoft.DPrep.ParseDelimitedBlock\\\\\\\\\\\\\", \\\\\\\\\\\\\"arguments\\\\\\\\\\\\\": {\\\\\\\\\\\\\"columnHeadersMode\\\\\\\\\\\\\": 1, \\\\\\\\\\\\\"fileEncoding\\\\\\\\\\\\\": 0, \\\\\\\\\\\\\"handleQuotedLineBreaks\\\\\\\\\\\\\": false, \\\\\\\\\\\\\"preview\\\\\\\\\\\\\": false, \\\\\\\\\\\\\"separator\\\\\\\\\\\\\": \\\\\\\\\\\\\",\\\\\\\\\\\\\", \\\\\\\\\\\\\"skipRows\\\\\\\\\\\\\": 0, \\\\\\\\\\\\\"skipRowsMode\\\\\\\\\\\\\": 0}, \\\\\\\\\\\\\"localData\\\\\\\\\\\\\": {}, \\\\\\\\\\\\\"isEnabled\\\\\\\\\\\\\": true, \\\\\\\\\\\\\"name\\\\\\\\\\\\\": null, \\\\\\\\\\\\\"annotation\\\\\\\\\\\\\": null}, {\\\\\\\\\\\\\"id\\\\\\\\\\\\\": \\\\\\\\\\\\\"1a70143f-5287-4ea4-a336-d746ff9affb5\\\\\\\\\\\\\", \\\\\\\\\\\\\"type\\\\\\\\\\\\\": \\\\\\\\\\\\\"Microsoft.DPrep.DropColumnsBlock\\\\\\\\\\\\\", \\\\\\\\\\\\\"arguments\\\\\\\\\\\\\": {\\\\\\\\\\\\\"columns\\\\\\\\\\\\\": {\\\\\\\\\\\\\"type\\\\\\\\\\\\\": 0, \\\\\\\\\\\\\"details\\\\\\\\\\\\\": {\\\\\\\\\\\\\"selectedColumns\\\\\\\\\\\\\": [\\\\\\\\\\\\\"Path\\\\\\\\\\\\\"]}}}, \\\\\\\\\\\\\"localData\\\\\\\\\\\\\": {}, \\\\\\\\\\\\\"isEnabled\\\\\\\\\\\\\": true, \\\\\\\\\\\\\"name\\\\\\\\\\\\\": null, \\\\\\\\\\\\\"annotation\\\\\\\\\\\\\": null}, {\\\\\\\\\\\\\"id\\\\\\\\\\\\\": \\\\\\\\\\\\\"784c15a7-66de-4841-96c8-c07b0f802435\\\\\\\\\\\\\", \\\\\\\\\\\\\"type\\\\\\\\\\\\\": \\\\\\\\\\\\\"Microsoft.DPrep.SetColumnTypesBlock\\\\\\\\\\\\\", \\\\\\\\\\\\\"arguments\\\\\\\\\\\\\": {\\\\\\\\\\\\\"columnConversion\\\\\\\\\\\\\": [{\\\\\\\\\\\\\"column\\\\\\\\\\\\\": {\\\\\\\\\\\\\"type\\\\\\\\\\\\\": 2, \\\\\\\\\\\\\"details\\\\\\\\\\\\\": {\\\\\\\\\\\\\"selectedColumn\\\\\\\\\\\\\": \\\\\\\\\\\\\"Path\\\\\\\\\\\\\"}}, \\\\\\\\\\\\\"typeProperty\\\\\\\\\\\\\": 0}, {\\\\\\\\\\\\\"column\\\\\\\\\\\\\": {\\\\\\\\\\\\\"type\\\\\\\\\\\\\": 2, \\\\\\\\\\\\\"details\\\\\\\\\\\\\": {\\\\\\\\\\\\\"selectedColumn\\\\\\\\\\\\\": \\\\\\\\\\\\\"CLIENTNUM\\\\\\\\\\\\\"}}, \\\\\\\\\\\\\"typeProperty\\\\\\\\\\\\\": 2}, {\\\\\\\\\\\\\"column\\\\\\\\\\\\\": {\\\\\\\\\\\\\"type\\\\\\\\\\\\\": 2, \\\\\\\\\\\\\"details\\\\\\\\\\\\\": {\\\\\\\\\\\\\"selectedColumn\\\\\\\\\\\\\": \\\\\\\\\\\\\"Attrition_Flag\\\\\\\\\\\\\"}}, \\\\\\\\\\\\\"typeProperty\\\\\\\\\\\\\": 0}, {\\\\\\\\\\\\\"column\\\\\\\\\\\\\": {\\\\\\\\\\\\\"type\\\\\\\\\\\\\": 2, \\\\\\\\\\\\\"details\\\\\\\\\\\\\": {\\\\\\\\\\\\\"selectedColumn\\\\\\\\\\\\\": \\\\\\\\\\\\\"Customer_Age\\\\\\\\\\\\\"}}, \\\\\\\\\\\\\"typeProperty\\\\\\\\\\\\\": 2}, {\\\\\\\\\\\\\"column\\\\\\\\\\\\\": {\\\\\\\\\\\\\"type\\\\\\\\\\\\\": 2, \\\\\\\\\\\\\"details\\\\\\\\\\\\\": {\\\\\\\\\\\\\"selectedColumn\\\\\\\\\\\\\": \\\\\\\\\\\\\"Gender\\\\\\\\\\\\\"}}, \\\\\\\\\\\\\"typeProperty\\\\\\\\\\\\\": 0}, {\\\\\\\\\\\\\"column\\\\\\\\\\\\\": {\\\\\\\\\\\\\"type\\\\\\\\\\\\\": 2, \\\\\\\\\\\\\"details\\\\\\\\\\\\\": {\\\\\\\\\\\\\"selectedColumn\\\\\\\\\\\\\": \\\\\\\\\\\\\"Dependent_count\\\\\\\\\\\\\"}}, \\\\\\\\\\\\\"typeProperty\\\\\\\\\\\\\": 2}, {\\\\\\\\\\\\\"column\\\\\\\\\\\\\": {\\\\\\\\\\\\\"type\\\\\\\\\\\\\": 2, \\\\\\\\\\\\\"details\\\\\\\\\\\\\": {\\\\\\\\\\\\\"selectedColumn\\\\\\\\\\\\\": \\\\\\\\\\\\\"Education_Level\\\\\\\\\\\\\"}}, \\\\\\\\\\\\\"typeProperty\\\\\\\\\\\\\": 0}, {\\\\\\\\\\\\\"column\\\\\\\\\\\\\": {\\\\\\\\\\\\\"type\\\\\\\\\\\\\": 2, \\\\\\\\\\\\\"details\\\\\\\\\\\\\": {\\\\\\\\\\\\\"selectedColumn\\\\\\\\\\\\\": \\\\\\\\\\\\\"Marital_Status\\\\\\\\\\\\\"}}, \\\\\\\\\\\\\"typeProperty\\\\\\\\\\\\\": 0}, {\\\\\\\\\\\\\"column\\\\\\\\\\\\\": {\\\\\\\\\\\\\"type\\\\\\\\\\\\\": 2, \\\\\\\\\\\\\"details\\\\\\\\\\\\\": {\\\\\\\\\\\\\"selectedColumn\\\\\\\\\\\\\": \\\\\\\\\\\\\"Income_Category\\\\\\\\\\\\\"}}, \\\\\\\\\\\\\"typeProperty\\\\\\\\\\\\\": 0}, {\\\\\\\\\\\\\"column\\\\\\\\\\\\\": {\\\\\\\\\\\\\"type\\\\\\\\\\\\\": 2, \\\\\\\\\\\\\"details\\\\\\\\\\\\\": {\\\\\\\\\\\\\"selectedColumn\\\\\\\\\\\\\": \\\\\\\\\\\\\"Card_Category\\\\\\\\\\\\\"}}, \\\\\\\\\\\\\"typeProperty\\\\\\\\\\\\\": 0}, {\\\\\\\\\\\\\"column\\\\\\\\\\\\\": {\\\\\\\\\\\\\"type\\\\\\\\\\\\\": 2, \\\\\\\\\\\\\"details\\\\\\\\\\\\\": {\\\\\\\\\\\\\"selectedColumn\\\\\\\\\\\\\": \\\\\\\\\\\\\"Months_on_book\\\\\\\\\\\\\"}}, \\\\\\\\\\\\\"typeProperty\\\\\\\\\\\\\": 2}, {\\\\\\\\\\\\\"column\\\\\\\\\\\\\": {\\\\\\\\\\\\\"type\\\\\\\\\\\\\": 2, \\\\\\\\\\\\\"details\\\\\\\\\\\\\": {\\\\\\\\\\\\\"selectedColumn\\\\\\\\\\\\\": \\\\\\\\\\\\\"Total_Relationship_Count\\\\\\\\\\\\\"}}, \\\\\\\\\\\\\"typeProperty\\\\\\\\\\\\\": 2}, {\\\\\\\\\\\\\"column\\\\\\\\\\\\\": {\\\\\\\\\\\\\"type\\\\\\\\\\\\\": 2, \\\\\\\\\\\\\"details\\\\\\\\\\\\\": {\\\\\\\\\\\\\"selectedColumn\\\\\\\\\\\\\": \\\\\\\\\\\\\"Months_Inactive_12_mon\\\\\\\\\\\\\"}}, \\\\\\\\\\\\\"typeProperty\\\\\\\\\\\\\": 2}, {\\\\\\\\\\\\\"column\\\\\\\\\\\\\": {\\\\\\\\\\\\\"type\\\\\\\\\\\\\": 2, \\\\\\\\\\\\\"details\\\\\\\\\\\\\": {\\\\\\\\\\\\\"selectedColumn\\\\\\\\\\\\\": \\\\\\\\\\\\\"Contacts_Count_12_mon\\\\\\\\\\\\\"}}, \\\\\\\\\\\\\"typeProperty\\\\\\\\\\\\\": 2}, {\\\\\\\\\\\\\"column\\\\\\\\\\\\\": {\\\\\\\\\\\\\"type\\\\\\\\\\\\\": 2, \\\\\\\\\\\\\"details\\\\\\\\\\\\\": {\\\\\\\\\\\\\"selectedColumn\\\\\\\\\\\\\": \\\\\\\\\\\\\"Credit_Limit\\\\\\\\\\\\\"}}, \\\\\\\\\\\\\"typeProperty\\\\\\\\\\\\\": 3}, {\\\\\\\\\\\\\"column\\\\\\\\\\\\\": {\\\\\\\\\\\\\"type\\\\\\\\\\\\\": 2, \\\\\\\\\\\\\"details\\\\\\\\\\\\\": {\\\\\\\\\\\\\"selectedColumn\\\\\\\\\\\\\": \\\\\\\\\\\\\"Total_Revolving_Bal\\\\\\\\\\\\\"}}, \\\\\\\\\\\\\"typeProperty\\\\\\\\\\\\\": 2}, {\\\\\\\\\\\\\"column\\\\\\\\\\\\\": {\\\\\\\\\\\\\"type\\\\\\\\\\\\\": 2, \\\\\\\\\\\\\"details\\\\\\\\\\\\\": {\\\\\\\\\\\\\"selectedColumn\\\\\\\\\\\\\": \\\\\\\\\\\\\"Avg_Open_To_Buy\\\\\\\\\\\\\"}}, \\\\\\\\\\\\\"typeProperty\\\\\\\\\\\\\": 3}, {\\\\\\\\\\\\\"column\\\\\\\\\\\\\": {\\\\\\\\\\\\\"type\\\\\\\\\\\\\": 2, \\\\\\\\\\\\\"details\\\\\\\\\\\\\": {\\\\\\\\\\\\\"selectedColumn\\\\\\\\\\\\\": \\\\\\\\\\\\\"Total_Amt_Chng_Q4_Q1\\\\\\\\\\\\\"}}, \\\\\\\\\\\\\"typeProperty\\\\\\\\\\\\\": 3}, {\\\\\\\\\\\\\"column\\\\\\\\\\\\\": {\\\\\\\\\\\\\"type\\\\\\\\\\\\\": 2, \\\\\\\\\\\\\"details\\\\\\\\\\\\\": {\\\\\\\\\\\\\"selectedColumn\\\\\\\\\\\\\": \\\\\\\\\\\\\"Total_Trans_Amt\\\\\\\\\\\\\"}}, \\\\\\\\\\\\\"typeProperty\\\\\\\\\\\\\": 2}, {\\\\\\\\\\\\\"column\\\\\\\\\\\\\": {\\\\\\\\\\\\\"type\\\\\\\\\\\\\": 2, \\\\\\\\\\\\\"details\\\\\\\\\\\\\": {\\\\\\\\\\\\\"selectedColumn\\\\\\\\\\\\\": \\\\\\\\\\\\\"Total_Trans_Ct\\\\\\\\\\\\\"}}, \\\\\\\\\\\\\"typeProperty\\\\\\\\\\\\\": 2}, {\\\\\\\\\\\\\"column\\\\\\\\\\\\\": {\\\\\\\\\\\\\"type\\\\\\\\\\\\\": 2, \\\\\\\\\\\\\"details\\\\\\\\\\\\\": {\\\\\\\\\\\\\"selectedColumn\\\\\\\\\\\\\": \\\\\\\\\\\\\"Total_Ct_Chng_Q4_Q1\\\\\\\\\\\\\"}}, \\\\\\\\\\\\\"typeProperty\\\\\\\\\\\\\": 3}, {\\\\\\\\\\\\\"column\\\\\\\\\\\\\": {\\\\\\\\\\\\\"type\\\\\\\\\\\\\": 2, \\\\\\\\\\\\\"details\\\\\\\\\\\\\": {\\\\\\\\\\\\\"selectedColumn\\\\\\\\\\\\\": \\\\\\\\\\\\\"Avg_Utilization_Ratio\\\\\\\\\\\\\"}}, \\\\\\\\\\\\\"typeProperty\\\\\\\\\\\\\": 3}]}, \\\\\\\\\\\\\"localData\\\\\\\\\\\\\": {}, \\\\\\\\\\\\\"isEnabled\\\\\\\\\\\\\": true, \\\\\\\\\\\\\"name\\\\\\\\\\\\\": null, \\\\\\\\\\\\\"annotation\\\\\\\\\\\\\": null}], \\\\\\\\\\\\\"inspectors\\\\\\\\\\\\\": [], \\\\\\\\\\\\\"meta\\\\\\\\\\\\\": {\\\\\\\\\\\\\"savedDatasetId\\\\\\\\\\\\\": \\\\\\\\\\\\\"293d15e3-7f22-4872-90c2-2c83a4835e5a\\\\\\\\\\\\\", \\\\\\\\\\\\\"datasetType\\\\\\\\\\\\\": \\\\\\\\\\\\\"tabular\\\\\\\\\\\\\", \\\\\\\\\\\\\"subscriptionId\\\\\\\\\\\\\": \\\\\\\\\\\\\"d4ad7261-832d-46b2-b093-22156001df5b\\\\\\\\\\\\\", \\\\\\\\\\\\\"workspaceId\\\\\\\\\\\\\": \\\\\\\\\\\\\"e06e31cc-4c28-49f5-a3d7-9ae24d54aabf\\\\\\\\\\\\\", \\\\\\\\\\\\\"workspaceLocation\\\\\\\\\\\\\": \\\\\\\\\\\\\"southcentralus\\\\\\\\\\\\\"}}\\\\\", \\\\\"activities\\\\\": 0}',\n  'EnableSubsampling': None,\n  'runTemplate': 'AutoML',\n  'azureml.runsource': 'automl',\n  'display_task_type': 'classification',\n  'dependencies_versions': '{\"azureml-widgets\": \"1.20.0\", \"azureml-train\": \"1.20.0\", \"azureml-train-restclients-hyperdrive\": \"1.20.0\", \"azureml-train-core\": \"1.20.0\", \"azureml-train-automl\": \"1.20.0\", \"azureml-train-automl-runtime\": \"1.20.0\", \"azureml-train-automl-client\": \"1.20.0\", \"azureml-tensorboard\": \"1.20.0\", \"azureml-telemetry\": \"1.20.0\", \"azureml-sdk\": \"1.20.0\", \"azureml-samples\": \"0+unknown\", \"azureml-pipeline\": \"1.20.0\", \"azureml-pipeline-steps\": \"1.20.0\", \"azureml-pipeline-core\": \"1.20.0\", \"azureml-opendatasets\": \"1.20.0\", \"azureml-model-management-sdk\": \"1.0.1b6.post1\", \"azureml-mlflow\": \"1.20.0.post1\", \"azureml-interpret\": \"1.20.0\", \"azureml-explain-model\": \"1.20.0\", \"azureml-defaults\": \"1.20.0\", \"azureml-dataset-runtime\": \"1.20.0\", \"azureml-dataprep\": \"2.7.3\", \"azureml-dataprep-rslex\": \"1.5.0\", \"azureml-dataprep-native\": \"27.0.0\", \"azureml-datadrift\": \"1.20.0\", \"azureml-core\": \"1.20.0\", \"azureml-contrib-services\": \"1.20.0\", \"azureml-contrib-server\": \"1.20.0\", \"azureml-contrib-reinforcementlearning\": \"1.20.0\", \"azureml-contrib-pipeline-steps\": \"1.20.0\", \"azureml-contrib-notebook\": \"1.20.0\", \"azureml-contrib-interpret\": \"1.20.0\", \"azureml-contrib-gbdt\": \"1.20.0\", \"azureml-contrib-fairness\": \"1.20.0\", \"azureml-contrib-dataset\": \"1.20.0\", \"azureml-cli-common\": \"1.20.0\", \"azureml-automl-runtime\": \"1.20.0\", \"azureml-automl-core\": \"1.20.0\", \"azureml-accel-models\": \"1.20.0\"}',\n  '_aml_system_scenario_identification': 'Remote.Parent',\n  'ClientType': 'SDK',\n  'environment_cpu_name': 'AzureML-AutoML',\n  'environment_cpu_label': 'prod',\n  'environment_gpu_name': 'AzureML-AutoML-GPU',\n  'environment_gpu_label': 'prod',\n  'root_attribution': 'automl',\n  'attribution': 'AutoML',\n  'Orchestrator': 'AutoML',\n  'CancelUri': 'https://southcentralus.experiments.azureml.net/jasmine/v1.0/subscriptions/d4ad7261-832d-46b2-b093-22156001df5b/resourceGroups/aml-quickstarts-136373/providers/Microsoft.MachineLearningServices/workspaces/quick-starts-ws-136373/experimentids/3055cf5c-f56d-4651-b242-a931b663d2ea/cancel/AutoML_3ba117a6-e744-4727-ba4f-d123f69c864d',\n  'ClientSdkVersion': '1.20.0.post1',\n  'snapshotId': '00000000-0000-0000-0000-000000000000',\n  'SetupRunId': 'AutoML_3ba117a6-e744-4727-ba4f-d123f69c864d_setup',\n  'SetupRunContainerId': 'dcid.AutoML_3ba117a6-e744-4727-ba4f-d123f69c864d_setup',\n  'FeaturizationRunJsonPath': 'featurizer_container.json',\n  'FeaturizationRunId': 'AutoML_3ba117a6-e744-4727-ba4f-d123f69c864d_featurize',\n  'ProblemInfoJsonString': '{\"dataset_num_categorical\": 0, \"is_sparse\": true, \"subsampling\": false, \"dataset_classes\": 2, \"dataset_features\": 146, \"dataset_samples\": 10127, \"single_frequency_class_detected\": false}',\n  'ModelExplainRunId': 'AutoML_3ba117a6-e744-4727-ba4f-d123f69c864d_ModelExplain'},\n 'inputDatasets': [{'dataset': {'id': '293d15e3-7f22-4872-90c2-2c83a4835e5a'}, 'consumptionDetails': {'type': 'RunInput', 'inputName': 'training_data', 'mechanism': 'Direct'}}],\n 'outputDatasets': [],\n 'logFiles': {},\n 'submittedBy': 'ODL_User 136373'}"
          },
          "metadata": {}
        }
      ],
      "execution_count": 7,
      "metadata": {
        "gather": {
          "logged": 1611837672482
        },
        "jupyter": {
          "outputs_hidden": false,
          "source_hidden": false
        },
        "nteract": {
          "transient": {
            "deleting": false
          }
        }
      }
    },
    {
      "cell_type": "markdown",
      "source": [
        "## Best Model\n",
        "\n",
        "TODO: In the cell below, get the best model from the automl experiments and display all the properties of the model.\n",
        "\n"
      ],
      "metadata": {}
    },
    {
      "cell_type": "code",
      "source": [
        "# Retrieve the best AutoML model\n",
        "best_run, best_model = remote_run.get_output()\n",
        "best_metrics = best_run.get_metrics()"
      ],
      "outputs": [],
      "execution_count": 8,
      "metadata": {
        "gather": {
          "logged": 1611760798735
        },
        "jupyter": {
          "outputs_hidden": false,
          "source_hidden": false
        },
        "nteract": {
          "transient": {
            "deleting": false
          }
        }
      }
    },
    {
      "cell_type": "code",
      "source": [
        "#Save the best model\n",
        "# model = best_run.register_model(model_name = \"best-automl-model\", model_path = \"./outputs/\")\n",
        "model = best_run.register_model(model_name='best-automl-model',model_path='outputs/model.pkl', tags={'Method':'AutoML'}, properties={'accuracy': best_metrics['accuracy']})\n",
        "print(model)\n",
        "print(best_run)"
      ],
      "outputs": [
        {
          "output_type": "stream",
          "name": "stdout",
          "text": [
            "Model(workspace=Workspace.create(name='quick-starts-ws-136373', subscription_id='d4ad7261-832d-46b2-b093-22156001df5b', resource_group='aml-quickstarts-136373'), name=best-automl-model, id=best-automl-model:1, version=1, tags={'Method': 'AutoML'}, properties={'accuracy': '0.9708698730325903'})\n",
            "Run(Experiment: demo-automl-experiment,\n",
            "Id: AutoML_3ba117a6-e744-4727-ba4f-d123f69c864d_38,\n",
            "Type: azureml.scriptrun,\n",
            "Status: Completed)\n"
          ]
        }
      ],
      "execution_count": 9,
      "metadata": {
        "gather": {
          "logged": 1611837975959
        },
        "jupyter": {
          "outputs_hidden": false,
          "source_hidden": false
        },
        "nteract": {
          "transient": {
            "deleting": false
          }
        }
      }
    },
    {
      "cell_type": "code",
      "source": [
        "print(best_metrics[\"accuracy\"])\n",
        "print(best_model._final_estimator)"
      ],
      "outputs": [
        {
          "output_type": "stream",
          "name": "stdout",
          "text": [
            "0.9708698730325903\n",
            "PreFittedSoftVotingClassifier(classification_labels=None,\n",
            "                              estimators=[('0',\n",
            "                                           Pipeline(memory=None,\n",
            "                                                    steps=[('maxabsscaler',\n",
            "                                                            MaxAbsScaler(copy=True)),\n",
            "                                                           ('lightgbmclassifier',\n",
            "                                                            LightGBMClassifier(boosting_type='gbdt',\n",
            "                                                                               class_weight=None,\n",
            "                                                                               colsample_bytree=1.0,\n",
            "                                                                               importance_type='split',\n",
            "                                                                               learning_rate=0.1,\n",
            "                                                                               max_depth=-1,\n",
            "                                                                               min_child_samples=20,\n",
            "                                                                               min_child_weight=0.001,\n",
            "                                                                               min_spl...\n",
            "                                                                               reg_alpha=0.47368421052631576,\n",
            "                                                                               reg_lambda=0,\n",
            "                                                                               silent=True,\n",
            "                                                                               subsample=0.3963157894736842,\n",
            "                                                                               subsample_for_bin=200000,\n",
            "                                                                               subsample_freq=0,\n",
            "                                                                               verbose=-10))],\n",
            "                                                    verbose=False))],\n",
            "                              flatten_transform=None,\n",
            "                              weights=[0.2727272727272727, 0.18181818181818182,\n",
            "                                       0.09090909090909091, 0.09090909090909091,\n",
            "                                       0.09090909090909091, 0.09090909090909091,\n",
            "                                       0.09090909090909091,\n",
            "                                       0.09090909090909091])\n"
          ]
        }
      ],
      "execution_count": 10,
      "metadata": {
        "gather": {
          "logged": 1611837981276
        },
        "jupyter": {
          "outputs_hidden": false,
          "source_hidden": false
        },
        "nteract": {
          "transient": {
            "deleting": false
          }
        }
      }
    },
    {
      "cell_type": "markdown",
      "source": [
        "## Model Deployment\n",
        "\n",
        "Remember you have to deploy only one of the two models you trained.. Perform the steps in the rest of this notebook only if you wish to deploy this model.\n",
        "\n",
        "TODO: In the cell below, register the model, create an inference config and deploy the model as a web service."
      ],
      "metadata": {}
    },
    {
      "cell_type": "code",
      "source": [
        "from azureml.core import Environment\n",
        "from azureml.core.model import InferenceConfig\n",
        "from azureml.automl.core.shared import constants\n",
        "\n",
        "best_run.download_file('./outputs/model.pkl', './outputs/bankchurners-auto-model.pkl')\n",
        "best_run.download_file('./outputs/scoring_file_v_1_0_0.py', './outputs/score_aml.py')\n",
        "best_run.download_file('./automl_driver.py', './outputs/automl_driver.py')\n",
        "best_run.download_file(constants.CONDA_ENV_FILE_PATH, 'myenv.yml')\n",
        "\n",
        "myenv = Environment.from_conda_specification(name=\"myenv\", file_path=\"myenv.yml\")\n",
        "\n",
        "# Create the inference config\n",
        "\n",
        "inference_config = InferenceConfig(entry_script='./score.py', environment=myenv)\n"
      ],
      "outputs": [],
      "execution_count": 11,
      "metadata": {
        "gather": {
          "logged": 1611837988706
        },
        "jupyter": {
          "outputs_hidden": false,
          "source_hidden": false
        },
        "nteract": {
          "transient": {
            "deleting": false
          }
        }
      }
    },
    {
      "cell_type": "code",
      "source": [
        "f = open(\"envnew.yml\", \"w\")\n",
        "f.write(myenv.python.conda_dependencies.serialize_to_string())\n",
        "f.close()\n",
        "\n",
        "print(\"packages\", myenv.python.conda_dependencies.serialize_to_string())"
      ],
      "outputs": [
        {
          "output_type": "stream",
          "name": "stdout",
          "text": [
            "packages # Conda environment specification. The dependencies defined in this file will\n",
            "# be automatically provisioned for runs with userManagedDependencies=False.\n",
            "\n",
            "# Details about the Conda environment file format:\n",
            "# https://conda.io/docs/user-guide/tasks/manage-environments.html#create-env-file-manually\n",
            "\n",
            "name: project_environment\n",
            "dependencies:\n",
            "  # The python interpreter version.\n",
            "  # Currently Azure ML only supports 3.5.2 and later.\n",
            "- python=3.6.2\n",
            "\n",
            "- pip:\n",
            "  - azureml-train-automl-runtime==1.20.0.post1\n",
            "  - inference-schema\n",
            "  - azureml-interpret==1.20.0\n",
            "  - azureml-defaults==1.20.0\n",
            "- numpy>=1.16.0,<1.19.0\n",
            "- pandas==0.25.1\n",
            "- scikit-learn==0.22.1\n",
            "- py-xgboost<=0.90\n",
            "- fbprophet==0.5\n",
            "- holidays==0.9.11\n",
            "- psutil>=5.2.2,<6.0.0\n",
            "channels:\n",
            "- anaconda\n",
            "- conda-forge\n",
            "\n"
          ]
        }
      ],
      "execution_count": 12,
      "metadata": {
        "collapsed": true,
        "gather": {
          "logged": 1611837992089
        },
        "jupyter": {
          "outputs_hidden": false,
          "source_hidden": false
        },
        "nteract": {
          "transient": {
            "deleting": false
          }
        }
      }
    },
    {
      "cell_type": "code",
      "source": [
        "# Deploy the model as a webservice\n",
        "from azureml.core.webservice import AciWebservice\n",
        "\n",
        "deployment_config = AciWebservice.deploy_configuration(\n",
        "    cpu_cores=1,\n",
        "    memory_gb = 1,\n",
        "    enable_app_insights = True\n",
        ")\n",
        "service = Model.deploy(ws, 'model-service', [model], inference_config, deployment_config)\n",
        "\n",
        "print(service.state)\n",
        "\n",
        "# Wait until deployment is complete\n",
        "service.wait_for_deployment(show_output = True)\n"
      ],
      "outputs": [
        {
          "output_type": "stream",
          "name": "stdout",
          "text": [
            "Transitioning\n",
            "Tips: You can try get_logs(): https://aka.ms/debugimage#dockerlog or local deployment: https://aka.ms/debugimage#debug-locally to debug if deployment takes longer than 10 minutes.\n",
            "Running.............................................................................................................................................................................................\n",
            "Succeeded\n",
            "ACI service creation operation finished, operation \"Succeeded\"\n"
          ]
        }
      ],
      "execution_count": 13,
      "metadata": {
        "gather": {
          "logged": 1611838965610
        }
      }
    },
    {
      "cell_type": "code",
      "source": [
        "print(service.get_logs)"
      ],
      "outputs": [
        {
          "output_type": "stream",
          "name": "stdout",
          "text": [
            "<bound method Webservice.get_logs of AciWebservice(workspace=Workspace.create(name='quick-starts-ws-136373', subscription_id='d4ad7261-832d-46b2-b093-22156001df5b', resource_group='aml-quickstarts-136373'), name=model-service, image_id=None, compute_type=None, state=ACI, scoring_uri=Healthy, tags=http://e872b7b8-b699-4242-a9c1-82b7bf985738.southcentralus.azurecontainer.io/score, properties={}, created_by={'hasInferenceSchema': 'True', 'hasHttps': 'False'})>\n"
          ]
        }
      ],
      "execution_count": 14,
      "metadata": {
        "gather": {
          "logged": 1611838997168
        },
        "jupyter": {
          "outputs_hidden": false,
          "source_hidden": false
        },
        "nteract": {
          "transient": {
            "deleting": false
          }
        }
      }
    },
    {
      "cell_type": "markdown",
      "source": [
        "TODO: In the cell below, send a request to the web service you deployed to test it."
      ],
      "metadata": {
        "collapsed": true,
        "gather": {
          "logged": 1598431657736
        },
        "jupyter": {
          "outputs_hidden": false,
          "source_hidden": false
        },
        "nteract": {
          "transient": {
            "deleting": false
          }
        }
      }
    },
    {
      "cell_type": "code",
      "source": [
        "import json\n",
        "\n",
        "# Importing the data set for testing \n",
        "\n",
        "sample_data = dataset.to_pandas_dataframe().sample(10)\n",
        "data_sample = sample_data.drop(\"Attrition_Flag\", axis=1)\n",
        "test_sample = json.dumps({\"data\": data_sample.to_dict()})\n",
        "\n",
        "print(test_sample)"
      ],
      "outputs": [
        {
          "output_type": "stream",
          "name": "stdout",
          "text": [
            "{\"data\": {\"CLIENTNUM\": {\"2726\": 716375883, \"7916\": 713782608, \"10122\": 772366833, \"9732\": 778563858, \"2674\": 803408733, \"345\": 716984658, \"1220\": 718726833, \"6632\": 780567408, \"7008\": 771499233, \"4927\": 779468808}, \"Customer_Age\": {\"2726\": 53, \"7916\": 46, \"10122\": 50, \"9732\": 40, \"2674\": 32, \"345\": 49, \"1220\": 39, \"6632\": 47, \"7008\": 46, \"4927\": 43}, \"Gender\": {\"2726\": \"F\", \"7916\": \"F\", \"10122\": \"M\", \"9732\": \"F\", \"2674\": \"M\", \"345\": \"M\", \"1220\": \"M\", \"6632\": \"F\", \"7008\": \"F\", \"4927\": \"M\"}, \"Dependent_count\": {\"2726\": 3, \"7916\": 4, \"10122\": 2, \"9732\": 3, \"2674\": 2, \"345\": 1, \"1220\": 1, \"6632\": 3, \"7008\": 4, \"4927\": 1}, \"Education_Level\": {\"2726\": \"Uneducated\", \"7916\": \"Graduate\", \"10122\": \"Graduate\", \"9732\": \"Uneducated\", \"2674\": \"High School\", \"345\": \"Graduate\", \"1220\": \"High School\", \"6632\": \"Graduate\", \"7008\": \"High School\", \"4927\": \"High School\"}, \"Marital_Status\": {\"2726\": \"Married\", \"7916\": \"Single\", \"10122\": \"Single\", \"9732\": \"Married\", \"2674\": \"Divorced\", \"345\": \"Married\", \"1220\": \"Married\", \"6632\": \"Divorced\", \"7008\": \"Married\", \"4927\": \"Married\"}, \"Income_Category\": {\"2726\": \"Unknown\", \"7916\": \"$40K - $60K\", \"10122\": \"$40K - $60K\", \"9732\": \"Less than $40K\", \"2674\": \"$60K - $80K\", \"345\": \"$120K +\", \"1220\": \"$80K - $120K\", \"6632\": \"Less than $40K\", \"7008\": \"Less than $40K\", \"4927\": \"$40K - $60K\"}, \"Card_Category\": {\"2726\": \"Blue\", \"7916\": \"Blue\", \"10122\": \"Blue\", \"9732\": \"Blue\", \"2674\": \"Blue\", \"345\": \"Blue\", \"1220\": \"Blue\", \"6632\": \"Blue\", \"7008\": \"Blue\", \"4927\": \"Blue\"}, \"Months_on_book\": {\"2726\": 36, \"7916\": 36, \"10122\": 40, \"9732\": 33, \"2674\": 26, \"345\": 39, \"1220\": 28, \"6632\": 38, \"7008\": 34, \"4927\": 25}, \"Total_Relationship_Count\": {\"2726\": 6, \"7916\": 1, \"10122\": 3, \"9732\": 1, \"2674\": 6, \"345\": 3, \"1220\": 4, \"6632\": 5, \"7008\": 6, \"4927\": 6}, \"Months_Inactive_12_mon\": {\"2726\": 2, \"7916\": 3, \"10122\": 2, \"9732\": 1, \"2674\": 1, \"345\": 2, \"1220\": 2, \"6632\": 1, \"7008\": 1, \"4927\": 3}, \"Contacts_Count_12_mon\": {\"2726\": 2, \"7916\": 1, \"10122\": 3, \"9732\": 1, \"2674\": 4, \"345\": 3, \"1220\": 4, \"6632\": 2, \"7008\": 3, \"4927\": 3}, \"Credit_Limit\": {\"2726\": 2447.0, \"7916\": 2652.0, \"10122\": 4003.0, \"9732\": 8712.0, \"2674\": 2239.0, \"345\": 34516.0, \"1220\": 3327.0, \"6632\": 3027.0, \"7008\": 5387.0, \"4927\": 1616.0}, \"Total_Revolving_Bal\": {\"2726\": 1558, \"7916\": 2386, \"10122\": 1851, \"9732\": 991, \"2674\": 1338, \"345\": 0, \"1220\": 0, \"6632\": 1671, \"7008\": 1133, \"4927\": 0}, \"Avg_Open_To_Buy\": {\"2726\": 889.0, \"7916\": 266.0, \"10122\": 2152.0, \"9732\": 7721.0, \"2674\": 901.0, \"345\": 34516.0, \"1220\": 3327.0, \"6632\": 1356.0, \"7008\": 4254.0, \"4927\": 1616.0}, \"Total_Amt_Chng_Q4_Q1\": {\"2726\": 0.511, \"7916\": 0.766, \"10122\": 0.703, \"9732\": 0.615, \"2674\": 0.567, \"345\": 0.507, \"1220\": 1.089, \"6632\": 0.934, \"7008\": 0.652, \"4927\": 0.794}, \"Total_Trans_Amt\": {\"2726\": 1716, \"7916\": 5329, \"10122\": 15476, \"9732\": 14512, \"2674\": 2466, \"345\": 1106, \"1220\": 1665, \"6632\": 3912, \"7008\": 4374, \"4927\": 4961}, \"Total_Trans_Ct\": {\"2726\": 38, \"7916\": 83, \"10122\": 117, \"9732\": 115, \"2674\": 60, \"345\": 31, \"1220\": 36, \"6632\": 77, \"7008\": 76, \"4927\": 78}, \"Total_Ct_Chng_Q4_Q1\": {\"2726\": 0.462, \"7916\": 0.729, \"10122\": 0.857, \"9732\": 0.769, \"2674\": 0.579, \"345\": 0.938, \"1220\": 0.636, \"6632\": 0.925, \"7008\": 0.49, \"4927\": 0.814}, \"Avg_Utilization_Ratio\": {\"2726\": 0.637, \"7916\": 0.9, \"10122\": 0.462, \"9732\": 0.114, \"2674\": 0.598, \"345\": 0.0, \"1220\": 0.0, \"6632\": 0.552, \"7008\": 0.21, \"4927\": 0.0}}}\n"
          ]
        }
      ],
      "execution_count": 18,
      "metadata": {
        "gather": {
          "logged": 1611839049294
        }
      }
    },
    {
      "cell_type": "code",
      "source": [
        "import requests\r\n",
        "scoring_uri = 'http://e872b7b8-b699-4242-a9c1-82b7bf985738.southcentralus.azurecontainer.io/score'\r\n",
        "headers = {'Content-type': 'application/json'}\r\n",
        "\r\n",
        "response = requests.post(scoring_uri, test_sample, headers=headers)"
      ],
      "outputs": [],
      "execution_count": 23,
      "metadata": {
        "collapsed": true,
        "jupyter": {
          "source_hidden": false,
          "outputs_hidden": false
        },
        "nteract": {
          "transient": {
            "deleting": false
          }
        },
        "gather": {
          "logged": 1611840766692
        }
      }
    },
    {
      "cell_type": "code",
      "source": [
        "# Print results from the inference\r\n",
        "print(response.status_code)\r\n",
        "print(response.text)"
      ],
      "outputs": [
        {
          "output_type": "stream",
          "name": "stdout",
          "text": [
            "200\n",
            "\"{\\\"result\\\": [\\\"Existing Customer\\\", \\\"Existing Customer\\\", \\\"Existing Customer\\\", \\\"Existing Customer\\\", \\\"Existing Customer\\\", \\\"Existing Customer\\\", \\\"Existing Customer\\\", \\\"Existing Customer\\\", \\\"Existing Customer\\\", \\\"Existing Customer\\\"]}\"\n"
          ]
        }
      ],
      "execution_count": 24,
      "metadata": {
        "collapsed": true,
        "jupyter": {
          "source_hidden": false,
          "outputs_hidden": false
        },
        "nteract": {
          "transient": {
            "deleting": false
          }
        },
        "gather": {
          "logged": 1611840771755
        }
      }
    },
    {
      "cell_type": "markdown",
      "source": [
        "TODO: In the cell below, print the logs of the web service and delete the service"
      ],
      "metadata": {
        "collapsed": true,
        "gather": {
          "logged": 1598432765711
        },
        "jupyter": {
          "outputs_hidden": false,
          "source_hidden": false
        },
        "nteract": {
          "transient": {
            "deleting": false
          }
        }
      }
    },
    {
      "cell_type": "code",
      "source": [
        "# Print web service logs\n",
        "service_logs = service.get_logs()\n",
        "\n",
        "for line in service_logs.split('\\n'):\n",
        "    print(line)\n",
        "\n",
        "# Delete the service\n",
        "service.delete()"
      ],
      "outputs": [],
      "execution_count": null,
      "metadata": {
        "gather": {
          "logged": 1610781090481
        },
        "jupyter": {
          "outputs_hidden": false,
          "source_hidden": false
        },
        "nteract": {
          "transient": {
            "deleting": false
          }
        }
      }
    }
  ],
  "metadata": {
    "kernel_info": {
      "name": "python3"
    },
    "kernelspec": {
      "name": "python3",
      "language": "python",
      "display_name": "Python 3"
    },
    "language_info": {
      "name": "python",
      "version": "3.6.9",
      "mimetype": "text/x-python",
      "codemirror_mode": {
        "name": "ipython",
        "version": 3
      },
      "pygments_lexer": "ipython3",
      "nbconvert_exporter": "python",
      "file_extension": ".py"
    },
    "nteract": {
      "version": "nteract-front-end@1.0.0"
    }
  },
  "nbformat": 4,
  "nbformat_minor": 2
}