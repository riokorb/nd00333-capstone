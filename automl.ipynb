{
  "cells": [
    {
      "cell_type": "markdown",
      "source": [
        "# Automated ML\n",
        "\n",
        "TODO: Import Dependencies. In the cell below, import all the dependencies that you will need to complete the project."
      ],
      "metadata": {}
    },
    {
      "cell_type": "code",
      "source": [
        "from azureml.core import Experiment, Model, Webservice\n",
        "from azureml.core.workspace import Workspace\n",
        "from azureml.core.dataset import Dataset\n",
        "from azureml.train.automl import AutoMLConfig\n",
        "from azureml.core.compute import ComputeTarget, AmlCompute\n",
        "from azureml.core.compute_target import ComputeTargetException\n",
        "from azureml.pipeline.steps import AutoMLStep\n",
        "\n",
        "import pandas as pd"
      ],
      "outputs": [],
      "execution_count": 1,
      "metadata": {
        "gather": {
          "logged": 1611758862691
        },
        "jupyter": {
          "outputs_hidden": false,
          "source_hidden": false
        },
        "nteract": {
          "transient": {
            "deleting": false
          }
        }
      }
    },
    {
      "cell_type": "markdown",
      "source": [
        "## Dataset\n",
        "\n",
        "### Overview\n",
        "TODO: In this markdown cell, give an overview of the dataset you are using. Also mention the task you will be performing.\n",
        "We will be using the 'Credit Card customers' dataset from Kaggle and predicting if a customer is likely to churn.\n",
        "\n",
        "TODO: Get data. In the cell below, write code to access the data you will be using in this project. Remember that the dataset needs to be external."
      ],
      "metadata": {}
    },
    {
      "cell_type": "code",
      "source": [
        "ws = Workspace.from_config()\n",
        "\n",
        "# Choose a name for experiment\n",
        "experiment_name = 'demo-automl-experiment'\n",
        "\n",
        "experiment=Experiment(ws, experiment_name)\n",
        "\n",
        "# Prepare the datastore to upload data\n",
        "datastore = ws.get_default_datastore()\n",
        "\n",
        "# Set the upload location to target_path in datastore\n",
        "datastore.upload(src_dir='./', target_path = 'data')"
      ],
      "outputs": [
        {
          "output_type": "stream",
          "name": "stdout",
          "text": [
            "Performing interactive authentication. Please follow the instructions on the terminal.\n",
            "To sign in, use a web browser to open the page https://microsoft.com/devicelogin and enter the code F5DVV73P9 to authenticate.\n",
            "You have logged in. Now let us find all the subscriptions to which you have access...\n",
            "Interactive authentication successfully completed.\n",
            "Uploading an estimated of 6 files\n",
            "Uploading ./automl.ipynb\n",
            "Uploaded ./automl.ipynb, 1 files out of an estimated total of 6\n",
            "Uploading ./automl.ipynb.amltemp\n",
            "Uploaded ./automl.ipynb.amltemp, 2 files out of an estimated total of 6\n",
            "Uploading ./hyperparameter_tuning.ipynb\n",
            "Uploaded ./hyperparameter_tuning.ipynb, 3 files out of an estimated total of 6\n",
            "Uploading ./score.py\n",
            "Uploaded ./score.py, 4 files out of an estimated total of 6\n",
            "Uploading ./train.py\n",
            "Uploaded ./train.py, 5 files out of an estimated total of 6\n",
            "Uploading ./.ipynb_aml_checkpoints/automl-checkpoint2021-0-27-14-42-37.ipynb\n",
            "Uploaded ./.ipynb_aml_checkpoints/automl-checkpoint2021-0-27-14-42-37.ipynb, 6 files out of an estimated total of 6\n",
            "Uploaded 6 files\n"
          ]
        },
        {
          "output_type": "execute_result",
          "execution_count": 2,
          "data": {
            "text/plain": "$AZUREML_DATAREFERENCE_6bff45b80d294619abb71cc0996c0403"
          },
          "metadata": {}
        }
      ],
      "execution_count": 2,
      "metadata": {
        "gather": {
          "logged": 1611758892095
        },
        "jupyter": {
          "outputs_hidden": false,
          "source_hidden": false
        },
        "nteract": {
          "transient": {
            "deleting": false
          }
        }
      }
    },
    {
      "cell_type": "code",
      "source": [
        "# Choose a name for CPU cluster\n",
        "compute_name = \"demo-cluster\"\n",
        "\n",
        "# Verify that cluster does not already exist\n",
        "try:\n",
        "    compute_target = ComputeTarget(workspace=ws, name=compute_name)\n",
        "    print('Found existing cluster, use it.')\n",
        "except ComputeTargetException:\n",
        "    compute_config = AmlCompute.provisioning_configuration(vm_size='STANDARD_D2_V2',# for GPU, use \"STANDARD_NC6\"\n",
        "                                                           #vm_priority = 'lowpriority', # optional\n",
        "                                                           max_nodes=4)\n",
        "    compute_target = ComputeTarget.create(ws, compute_name, compute_config)\n",
        "\n",
        "compute_target.wait_for_completion(show_output=True)"
      ],
      "outputs": [
        {
          "output_type": "stream",
          "name": "stdout",
          "text": [
            "Found existing cluster, use it.\n",
            "\n",
            "Running\n"
          ]
        }
      ],
      "execution_count": 3,
      "metadata": {
        "collapsed": true,
        "gather": {
          "logged": 1611758897405
        },
        "jupyter": {
          "outputs_hidden": false,
          "source_hidden": false
        },
        "nteract": {
          "transient": {
            "deleting": false
          }
        }
      }
    },
    {
      "cell_type": "code",
      "source": [
        "dataset = Dataset.get_by_name(ws, name = \"bankchurners\")\n",
        "dataset"
      ],
      "outputs": [
        {
          "output_type": "execute_result",
          "execution_count": 4,
          "data": {
            "text/plain": "{\n  \"source\": [\n    \"('workspaceblobstore', 'UI/01-27-2021_024326_UTC/BankChurners.csv')\"\n  ],\n  \"definition\": [\n    \"GetDatastoreFiles\",\n    \"ParseDelimited\",\n    \"DropColumns\",\n    \"SetColumnTypes\"\n  ],\n  \"registration\": {\n    \"id\": \"e84903da-a8e6-4489-953d-77d1c09cc9b0\",\n    \"name\": \"bankchurners\",\n    \"version\": 1,\n    \"workspace\": \"Workspace.create(name='quick-starts-ws-136271', subscription_id='a0a76bad-11a1-4a2d-9887-97a29122c8ed', resource_group='aml-quickstarts-136271')\"\n  }\n}"
          },
          "metadata": {}
        }
      ],
      "execution_count": 4,
      "metadata": {
        "collapsed": true,
        "gather": {
          "logged": 1611758903455
        },
        "jupyter": {
          "outputs_hidden": false,
          "source_hidden": false
        },
        "nteract": {
          "transient": {
            "deleting": false
          }
        }
      }
    },
    {
      "cell_type": "markdown",
      "source": [
        "## AutoML Configuration\n",
        "\n",
        "TODO: Explain why you chose the automl settings and cofiguration you used below."
      ],
      "metadata": {}
    },
    {
      "cell_type": "code",
      "source": [
        "# List the automl config\n",
        "automl_config = AutoMLConfig(\n",
        "    experiment_timeout_minutes = 30,\n",
        "    task = \"classification\",\n",
        "    compute_target = \"demo-cluster\",\n",
        "    max_concurrent_iterations = 5,\n",
        "    training_data = dataset,\n",
        "    primary_metric = \"accuracy\",\n",
        "    label_column_name = \"Attrition_Flag\",\n",
        "    n_cross_validations = 3,\n",
        "    enable_early_stopping = True\n",
        ")"
      ],
      "outputs": [],
      "execution_count": 5,
      "metadata": {
        "gather": {
          "logged": 1611758908025
        },
        "jupyter": {
          "outputs_hidden": false,
          "source_hidden": false
        },
        "nteract": {
          "transient": {
            "deleting": false
          }
        }
      }
    },
    {
      "cell_type": "code",
      "source": [
        "# Submit the experiment\n",
        "remote_run = experiment.submit(automl_config, show_output = True)"
      ],
      "outputs": [
        {
          "output_type": "stream",
          "name": "stdout",
          "text": [
            "Running on remote.\n",
            "No run_configuration provided, running on demo-cluster with default configuration\n",
            "Running on remote compute: demo-cluster\n",
            "Parent Run ID: AutoML_8d692d64-e5eb-4ca1-b421-5728dcd27d44\n",
            "\n",
            "Current status: FeaturesGeneration. Generating features for the dataset.\n",
            "Current status: DatasetFeaturization. Performing class balancing sweeping\n",
            "Current status: DatasetCrossValidationSplit. Generating individually featurized CV splits.\n",
            "Current status: ModelSelection. Beginning model selection.\n",
            "\n",
            "****************************************************************************************************\n",
            "DATA GUARDRAILS: \n",
            "\n",
            "TYPE:         Class balancing detection\n",
            "STATUS:       ALERTED\n",
            "DESCRIPTION:  To decrease model bias, please cancel the current run and fix balancing problem.\n",
            "              Learn more about imbalanced data: https://aka.ms/AutomatedMLImbalancedData\n",
            "DETAILS:      Imbalanced data can lead to a falsely perceived positive effect of a model's accuracy because the input data has bias towards one class.\n",
            "+---------------------------------+---------------------------------+--------------------------------------+\n",
            "|Size of the smallest class       |Name/Label of the smallest class |Number of samples in the training data|\n",
            "+=================================+=================================+======================================+\n",
            "|1627                             |Attrited Customer                |10127                                 |\n",
            "+---------------------------------+---------------------------------+--------------------------------------+\n",
            "\n",
            "****************************************************************************************************\n",
            "\n",
            "TYPE:         Missing feature values imputation\n",
            "STATUS:       PASSED\n",
            "DESCRIPTION:  No feature missing values were detected in the training data.\n",
            "              Learn more about missing value imputation: https://aka.ms/AutomatedMLFeaturization\n",
            "\n",
            "****************************************************************************************************\n",
            "\n",
            "TYPE:         High cardinality feature detection\n",
            "STATUS:       PASSED\n",
            "DESCRIPTION:  Your inputs were analyzed, and no high cardinality features were detected.\n",
            "              Learn more about high cardinality feature handling: https://aka.ms/AutomatedMLFeaturization\n",
            "\n",
            "****************************************************************************************************\n",
            "\n",
            "****************************************************************************************************\n",
            "ITERATION: The iteration being evaluated.\n",
            "PIPELINE: A summary description of the pipeline being evaluated.\n",
            "DURATION: Time taken for the current iteration.\n",
            "METRIC: The result of computing score on the fitted pipeline.\n",
            "BEST: The best observed score thus far.\n",
            "****************************************************************************************************\n",
            "\n",
            " ITERATION   PIPELINE                                       DURATION      METRIC      BEST\n",
            "         0   MaxAbsScaler LightGBM                          0:00:57       0.9691    0.9691\n",
            "         2   MaxAbsScaler RandomForest                      0:00:57       0.8615    0.9691\n",
            "         3   MaxAbsScaler RandomForest                      0:00:59       0.8404    0.9691\n",
            "         4   MaxAbsScaler RandomForest                      0:00:51       0.8503    0.9691\n",
            "         1   MaxAbsScaler XGBoostClassifier                 0:01:24       0.9603    0.9691\n",
            "         5   MaxAbsScaler RandomForest                      0:00:58       0.7666    0.9691\n",
            "         8   SparseNormalizer XGBoostClassifier             0:00:58       0.9661    0.9691\n",
            "         6   SparseNormalizer XGBoostClassifier             0:01:12       0.9553    0.9691\n",
            "         7   SparseNormalizer XGBoostClassifier             0:01:01       0.9647    0.9691\n",
            "         9   SparseNormalizer XGBoostClassifier             0:01:01       0.9625    0.9691\n",
            "        13   SparseNormalizer XGBoostClassifier             0:00:48       0.8918    0.9691\n",
            "        12   MaxAbsScaler RandomForest                      0:00:59       0.8395    0.9691\n",
            "        10   SparseNormalizer XGBoostClassifier             0:01:20       0.9451    0.9691\n",
            "        11   StandardScalerWrapper RandomForest             0:01:27       0.8985    0.9691\n",
            "        14   MaxAbsScaler ExtremeRandomTrees                0:01:13       0.8393    0.9691\n",
            "        15   MaxAbsScaler LightGBM                          0:01:05       0.8993    0.9691\n",
            "        16   SparseNormalizer GradientBoosting              0:01:03       0.8393    0.9691\n",
            "        17   StandardScalerWrapper LogisticRegression       0:00:54       0.9107    0.9691\n",
            "        18   SparseNormalizer LightGBM                      0:00:41       0.9080    0.9691\n",
            "        19   MaxAbsScaler LogisticRegression                0:00:49       0.9116    0.9691\n",
            "        20   MaxAbsScaler LogisticRegression                0:01:12       0.9111    0.9691\n",
            "        21   SparseNormalizer XGBoostClassifier             0:01:09       0.9551    0.9691\n",
            "        23   MaxAbsScaler LogisticRegression                0:01:04       0.9120    0.9691\n",
            "        22   SparseNormalizer XGBoostClassifier             0:01:21       0.9596    0.9691\n",
            "        24   SparseNormalizer XGBoostClassifier             0:01:25       0.9640    0.9691\n",
            "        25   SparseNormalizer LightGBM                      0:01:18       0.8981    0.9691\n",
            "        26   SparseNormalizer XGBoostClassifier             0:01:12       0.9583    0.9691\n",
            "        28   SparseNormalizer XGBoostClassifier             0:01:04       0.9326    0.9691\n",
            "        27   SparseNormalizer XGBoostClassifier             0:01:32       0.9675    0.9691\n",
            "        29   SparseNormalizer XGBoostClassifier             0:01:10       0.9650    0.9691\n",
            "        32   StandardScalerWrapper XGBoostClassifier        0:01:03       0.9718    0.9718\n",
            "        30   MaxAbsScaler LightGBM                          0:01:11       0.8393    0.9718\n",
            "        31   SparseNormalizer XGBoostClassifier             0:01:08       0.9678    0.9718\n",
            "        33   SparseNormalizer XGBoostClassifier             0:01:22       0.9653    0.9718\n",
            "        34   StandardScalerWrapper XGBoostClassifier        0:01:09       0.9680    0.9718\n",
            "        35   SparseNormalizer XGBoostClassifier             0:01:19       0.8393    0.9718\n",
            "        37   SparseNormalizer XGBoostClassifier             0:01:51       0.9659    0.9718\n",
            "        36   SparseNormalizer XGBoostClassifier             0:02:49       0.9655    0.9718\n",
            "        38   SparseNormalizer XGBoostClassifier             0:02:22       0.9668    0.9718\n",
            "        39   SparseNormalizer XGBoostClassifier             0:01:28       0.9640    0.9718\n",
            "        40   StandardScalerWrapper XGBoostClassifier        0:01:22       0.9636    0.9718\n",
            "        41   MaxAbsScaler LogisticRegression                0:00:52       0.8612    0.9718\n",
            "        45   MaxAbsScaler ExtremeRandomTrees                0:00:59       0.8308    0.9718\n",
            "        42   SparseNormalizer XGBoostClassifier             0:01:14       0.9608    0.9718\n",
            "        43   SparseNormalizer XGBoostClassifier             0:01:04       0.9453    0.9718\n",
            "        46                                                  0:00:13          nan    0.9718\n",
            "        44   StandardScalerWrapper LogisticRegression       0:01:17       0.8614    0.9718\n",
            "        47                                                  0:00:08          nan    0.9718\n",
            "        48                                                  0:00:18          nan    0.9718\n",
            "        49    VotingEnsemble                                0:01:57       0.9721    0.9721\n",
            "        50    StackEnsemble                                 0:02:11       0.9712    0.9721\n"
          ]
        }
      ],
      "execution_count": 6,
      "metadata": {
        "gather": {
          "logged": 1611760258779
        },
        "jupyter": {
          "outputs_hidden": false,
          "source_hidden": false
        },
        "nteract": {
          "transient": {
            "deleting": false
          }
        }
      }
    },
    {
      "cell_type": "markdown",
      "source": [
        "## Run Details\n",
        "\n",
        "OPTIONAL: Write about the different models trained and their performance. Why do you think some models did better than others?\n",
        "\n",
        "TODO: In the cell below, use the `RunDetails` widget to show the different experiments."
      ],
      "metadata": {}
    },
    {
      "cell_type": "code",
      "source": [
        "from azureml.widgets import RunDetails\n",
        "RunDetails(remote_run).show()\n",
        "remote_run.wait_for_completion(show_output = True)"
      ],
      "outputs": [
        {
          "output_type": "display_data",
          "data": {
            "text/plain": "_AutoMLWidget(widget_settings={'childWidgetDisplay': 'popup', 'send_telemetry': False, 'log_level': 'INFO', 's…",
            "application/vnd.jupyter.widget-view+json": {
              "version_major": 2,
              "version_minor": 0,
              "model_id": "b73dadd4cc5941fbb4015d8778ce1cf1"
            }
          },
          "metadata": {}
        },
        {
          "output_type": "display_data",
          "data": {
            "application/aml.mini.widget.v1": "{\"status\": \"Completed\", \"workbench_run_details_uri\": \"https://ml.azure.com/experiments/demo-automl-experiment/runs/AutoML_8d692d64-e5eb-4ca1-b421-5728dcd27d44?wsid=/subscriptions/a0a76bad-11a1-4a2d-9887-97a29122c8ed/resourcegroups/aml-quickstarts-136271/workspaces/quick-starts-ws-136271\", \"run_id\": \"AutoML_8d692d64-e5eb-4ca1-b421-5728dcd27d44\", \"run_properties\": {\"run_id\": \"AutoML_8d692d64-e5eb-4ca1-b421-5728dcd27d44\", \"created_utc\": \"2021-01-27T14:48:32.741111Z\", \"properties\": {\"num_iterations\": \"1000\", \"training_type\": \"TrainFull\", \"acquisition_function\": \"EI\", \"primary_metric\": \"accuracy\", \"train_split\": \"0\", \"acquisition_parameter\": \"0\", \"num_cross_validation\": \"3\", \"target\": \"demo-cluster\", \"AMLSettingsJsonString\": \"{\\\"path\\\":null,\\\"name\\\":\\\"demo-automl-experiment\\\",\\\"subscription_id\\\":\\\"a0a76bad-11a1-4a2d-9887-97a29122c8ed\\\",\\\"resource_group\\\":\\\"aml-quickstarts-136271\\\",\\\"workspace_name\\\":\\\"quick-starts-ws-136271\\\",\\\"region\\\":\\\"southcentralus\\\",\\\"compute_target\\\":\\\"demo-cluster\\\",\\\"spark_service\\\":null,\\\"azure_service\\\":\\\"remote\\\",\\\"many_models\\\":false,\\\"pipeline_fetch_max_batch_size\\\":1,\\\"iterations\\\":1000,\\\"primary_metric\\\":\\\"accuracy\\\",\\\"task_type\\\":\\\"classification\\\",\\\"data_script\\\":null,\\\"validation_size\\\":0.0,\\\"n_cross_validations\\\":3,\\\"y_min\\\":null,\\\"y_max\\\":null,\\\"num_classes\\\":null,\\\"featurization\\\":\\\"auto\\\",\\\"_ignore_package_version_incompatibilities\\\":false,\\\"is_timeseries\\\":false,\\\"max_cores_per_iteration\\\":1,\\\"max_concurrent_iterations\\\":5,\\\"iteration_timeout_minutes\\\":null,\\\"mem_in_mb\\\":null,\\\"enforce_time_on_windows\\\":false,\\\"experiment_timeout_minutes\\\":30,\\\"experiment_exit_score\\\":null,\\\"whitelist_models\\\":null,\\\"blacklist_algos\\\":[\\\"TensorFlowLinearClassifier\\\",\\\"TensorFlowDNN\\\"],\\\"supported_models\\\":[\\\"DecisionTree\\\",\\\"LightGBM\\\",\\\"LinearSVM\\\",\\\"GradientBoosting\\\",\\\"SVM\\\",\\\"SGD\\\",\\\"RandomForest\\\",\\\"ExtremeRandomTrees\\\",\\\"TensorFlowLinearClassifier\\\",\\\"KNN\\\",\\\"XGBoostClassifier\\\",\\\"TensorFlowDNN\\\",\\\"LogisticRegression\\\",\\\"MultinomialNaiveBayes\\\",\\\"AveragedPerceptronClassifier\\\",\\\"BernoulliNaiveBayes\\\"],\\\"auto_blacklist\\\":true,\\\"blacklist_samples_reached\\\":false,\\\"exclude_nan_labels\\\":true,\\\"verbosity\\\":20,\\\"_debug_log\\\":\\\"azureml_automl.log\\\",\\\"show_warnings\\\":false,\\\"model_explainability\\\":true,\\\"service_url\\\":null,\\\"sdk_url\\\":null,\\\"sdk_packages\\\":null,\\\"enable_onnx_compatible_models\\\":false,\\\"enable_split_onnx_featurizer_estimator_models\\\":false,\\\"vm_type\\\":\\\"STANDARD_DS3_V2\\\",\\\"telemetry_verbosity\\\":20,\\\"send_telemetry\\\":true,\\\"enable_dnn\\\":false,\\\"scenario\\\":\\\"SDK-1.13.0\\\",\\\"environment_label\\\":null,\\\"force_text_dnn\\\":false,\\\"enable_feature_sweeping\\\":true,\\\"enable_early_stopping\\\":true,\\\"early_stopping_n_iters\\\":10,\\\"metrics\\\":null,\\\"enable_ensembling\\\":true,\\\"enable_stack_ensembling\\\":true,\\\"ensemble_iterations\\\":15,\\\"enable_tf\\\":false,\\\"enable_subsampling\\\":null,\\\"subsample_seed\\\":null,\\\"enable_nimbusml\\\":false,\\\"enable_streaming\\\":false,\\\"force_streaming\\\":false,\\\"track_child_runs\\\":true,\\\"allowed_private_models\\\":[],\\\"label_column_name\\\":\\\"Attrition_Flag\\\",\\\"weight_column_name\\\":null,\\\"cv_split_column_names\\\":null,\\\"enable_local_managed\\\":false,\\\"_local_managed_run_id\\\":null,\\\"cost_mode\\\":1,\\\"lag_length\\\":0,\\\"metric_operation\\\":\\\"maximize\\\",\\\"preprocess\\\":true}\", \"DataPrepJsonString\": \"{\\\\\\\"training_data\\\\\\\": \\\\\\\"{\\\\\\\\\\\\\\\"blocks\\\\\\\\\\\\\\\": [{\\\\\\\\\\\\\\\"id\\\\\\\\\\\\\\\": \\\\\\\\\\\\\\\"ffbaea49-ba92-4137-aaba-a2eca2ee2fef\\\\\\\\\\\\\\\", \\\\\\\\\\\\\\\"type\\\\\\\\\\\\\\\": \\\\\\\\\\\\\\\"Microsoft.DPrep.GetDatastoreFilesBlock\\\\\\\\\\\\\\\", \\\\\\\\\\\\\\\"arguments\\\\\\\\\\\\\\\": {\\\\\\\\\\\\\\\"datastores\\\\\\\\\\\\\\\": [{\\\\\\\\\\\\\\\"datastoreName\\\\\\\\\\\\\\\": \\\\\\\\\\\\\\\"workspaceblobstore\\\\\\\\\\\\\\\", \\\\\\\\\\\\\\\"path\\\\\\\\\\\\\\\": \\\\\\\\\\\\\\\"UI/01-27-2021_024326_UTC/BankChurners.csv\\\\\\\\\\\\\\\", \\\\\\\\\\\\\\\"resourceGroup\\\\\\\\\\\\\\\": \\\\\\\\\\\\\\\"aml-quickstarts-136271\\\\\\\\\\\\\\\", \\\\\\\\\\\\\\\"subscription\\\\\\\\\\\\\\\": \\\\\\\\\\\\\\\"a0a76bad-11a1-4a2d-9887-97a29122c8ed\\\\\\\\\\\\\\\", \\\\\\\\\\\\\\\"workspaceName\\\\\\\\\\\\\\\": \\\\\\\\\\\\\\\"quick-starts-ws-136271\\\\\\\\\\\\\\\"}]}, \\\\\\\\\\\\\\\"localData\\\\\\\\\\\\\\\": {}, \\\\\\\\\\\\\\\"isEnabled\\\\\\\\\\\\\\\": true, \\\\\\\\\\\\\\\"name\\\\\\\\\\\\\\\": null, \\\\\\\\\\\\\\\"annotation\\\\\\\\\\\\\\\": null}, {\\\\\\\\\\\\\\\"id\\\\\\\\\\\\\\\": \\\\\\\\\\\\\\\"97346d8f-71cf-47ed-8792-3c9dbd2221c0\\\\\\\\\\\\\\\", \\\\\\\\\\\\\\\"type\\\\\\\\\\\\\\\": \\\\\\\\\\\\\\\"Microsoft.DPrep.ParseDelimitedBlock\\\\\\\\\\\\\\\", \\\\\\\\\\\\\\\"arguments\\\\\\\\\\\\\\\": {\\\\\\\\\\\\\\\"columnHeadersMode\\\\\\\\\\\\\\\": 1, \\\\\\\\\\\\\\\"fileEncoding\\\\\\\\\\\\\\\": 0, \\\\\\\\\\\\\\\"handleQuotedLineBreaks\\\\\\\\\\\\\\\": false, \\\\\\\\\\\\\\\"preview\\\\\\\\\\\\\\\": false, \\\\\\\\\\\\\\\"separator\\\\\\\\\\\\\\\": \\\\\\\\\\\\\\\",\\\\\\\\\\\\\\\", \\\\\\\\\\\\\\\"skipRows\\\\\\\\\\\\\\\": 0, \\\\\\\\\\\\\\\"skipRowsMode\\\\\\\\\\\\\\\": 0}, \\\\\\\\\\\\\\\"localData\\\\\\\\\\\\\\\": {}, \\\\\\\\\\\\\\\"isEnabled\\\\\\\\\\\\\\\": true, \\\\\\\\\\\\\\\"name\\\\\\\\\\\\\\\": null, \\\\\\\\\\\\\\\"annotation\\\\\\\\\\\\\\\": null}, {\\\\\\\\\\\\\\\"id\\\\\\\\\\\\\\\": \\\\\\\\\\\\\\\"54f650ef-ba11-4c80-8b7b-d8db9e57e69b\\\\\\\\\\\\\\\", \\\\\\\\\\\\\\\"type\\\\\\\\\\\\\\\": \\\\\\\\\\\\\\\"Microsoft.DPrep.DropColumnsBlock\\\\\\\\\\\\\\\", \\\\\\\\\\\\\\\"arguments\\\\\\\\\\\\\\\": {\\\\\\\\\\\\\\\"columns\\\\\\\\\\\\\\\": {\\\\\\\\\\\\\\\"type\\\\\\\\\\\\\\\": 0, \\\\\\\\\\\\\\\"details\\\\\\\\\\\\\\\": {\\\\\\\\\\\\\\\"selectedColumns\\\\\\\\\\\\\\\": [\\\\\\\\\\\\\\\"Path\\\\\\\\\\\\\\\"]}}}, \\\\\\\\\\\\\\\"localData\\\\\\\\\\\\\\\": {}, \\\\\\\\\\\\\\\"isEnabled\\\\\\\\\\\\\\\": true, \\\\\\\\\\\\\\\"name\\\\\\\\\\\\\\\": null, \\\\\\\\\\\\\\\"annotation\\\\\\\\\\\\\\\": null}, {\\\\\\\\\\\\\\\"id\\\\\\\\\\\\\\\": \\\\\\\\\\\\\\\"41f2e703-c615-48f0-bcf1-718ef60631b1\\\\\\\\\\\\\\\", \\\\\\\\\\\\\\\"type\\\\\\\\\\\\\\\": \\\\\\\\\\\\\\\"Microsoft.DPrep.SetColumnTypesBlock\\\\\\\\\\\\\\\", \\\\\\\\\\\\\\\"arguments\\\\\\\\\\\\\\\": {\\\\\\\\\\\\\\\"columnConversion\\\\\\\\\\\\\\\": [{\\\\\\\\\\\\\\\"column\\\\\\\\\\\\\\\": {\\\\\\\\\\\\\\\"type\\\\\\\\\\\\\\\": 2, \\\\\\\\\\\\\\\"details\\\\\\\\\\\\\\\": {\\\\\\\\\\\\\\\"selectedColumn\\\\\\\\\\\\\\\": \\\\\\\\\\\\\\\"Path\\\\\\\\\\\\\\\"}}, \\\\\\\\\\\\\\\"typeProperty\\\\\\\\\\\\\\\": 0}, {\\\\\\\\\\\\\\\"column\\\\\\\\\\\\\\\": {\\\\\\\\\\\\\\\"type\\\\\\\\\\\\\\\": 2, \\\\\\\\\\\\\\\"details\\\\\\\\\\\\\\\": {\\\\\\\\\\\\\\\"selectedColumn\\\\\\\\\\\\\\\": \\\\\\\\\\\\\\\"CLIENTNUM\\\\\\\\\\\\\\\"}}, \\\\\\\\\\\\\\\"typeProperty\\\\\\\\\\\\\\\": 2}, {\\\\\\\\\\\\\\\"column\\\\\\\\\\\\\\\": {\\\\\\\\\\\\\\\"type\\\\\\\\\\\\\\\": 2, \\\\\\\\\\\\\\\"details\\\\\\\\\\\\\\\": {\\\\\\\\\\\\\\\"selectedColumn\\\\\\\\\\\\\\\": \\\\\\\\\\\\\\\"Attrition_Flag\\\\\\\\\\\\\\\"}}, \\\\\\\\\\\\\\\"typeProperty\\\\\\\\\\\\\\\": 0}, {\\\\\\\\\\\\\\\"column\\\\\\\\\\\\\\\": {\\\\\\\\\\\\\\\"type\\\\\\\\\\\\\\\": 2, \\\\\\\\\\\\\\\"details\\\\\\\\\\\\\\\": {\\\\\\\\\\\\\\\"selectedColumn\\\\\\\\\\\\\\\": \\\\\\\\\\\\\\\"Customer_Age\\\\\\\\\\\\\\\"}}, \\\\\\\\\\\\\\\"typeProperty\\\\\\\\\\\\\\\": 2}, {\\\\\\\\\\\\\\\"column\\\\\\\\\\\\\\\": {\\\\\\\\\\\\\\\"type\\\\\\\\\\\\\\\": 2, \\\\\\\\\\\\\\\"details\\\\\\\\\\\\\\\": {\\\\\\\\\\\\\\\"selectedColumn\\\\\\\\\\\\\\\": \\\\\\\\\\\\\\\"Gender\\\\\\\\\\\\\\\"}}, \\\\\\\\\\\\\\\"typeProperty\\\\\\\\\\\\\\\": 0}, {\\\\\\\\\\\\\\\"column\\\\\\\\\\\\\\\": {\\\\\\\\\\\\\\\"type\\\\\\\\\\\\\\\": 2, \\\\\\\\\\\\\\\"details\\\\\\\\\\\\\\\": {\\\\\\\\\\\\\\\"selectedColumn\\\\\\\\\\\\\\\": \\\\\\\\\\\\\\\"Dependent_count\\\\\\\\\\\\\\\"}}, \\\\\\\\\\\\\\\"typeProperty\\\\\\\\\\\\\\\": 2}, {\\\\\\\\\\\\\\\"column\\\\\\\\\\\\\\\": {\\\\\\\\\\\\\\\"type\\\\\\\\\\\\\\\": 2, \\\\\\\\\\\\\\\"details\\\\\\\\\\\\\\\": {\\\\\\\\\\\\\\\"selectedColumn\\\\\\\\\\\\\\\": \\\\\\\\\\\\\\\"Education_Level\\\\\\\\\\\\\\\"}}, \\\\\\\\\\\\\\\"typeProperty\\\\\\\\\\\\\\\": 0}, {\\\\\\\\\\\\\\\"column\\\\\\\\\\\\\\\": {\\\\\\\\\\\\\\\"type\\\\\\\\\\\\\\\": 2, \\\\\\\\\\\\\\\"details\\\\\\\\\\\\\\\": {\\\\\\\\\\\\\\\"selectedColumn\\\\\\\\\\\\\\\": \\\\\\\\\\\\\\\"Marital_Status\\\\\\\\\\\\\\\"}}, \\\\\\\\\\\\\\\"typeProperty\\\\\\\\\\\\\\\": 0}, {\\\\\\\\\\\\\\\"column\\\\\\\\\\\\\\\": {\\\\\\\\\\\\\\\"type\\\\\\\\\\\\\\\": 2, \\\\\\\\\\\\\\\"details\\\\\\\\\\\\\\\": {\\\\\\\\\\\\\\\"selectedColumn\\\\\\\\\\\\\\\": \\\\\\\\\\\\\\\"Income_Category\\\\\\\\\\\\\\\"}}, \\\\\\\\\\\\\\\"typeProperty\\\\\\\\\\\\\\\": 0}, {\\\\\\\\\\\\\\\"column\\\\\\\\\\\\\\\": {\\\\\\\\\\\\\\\"type\\\\\\\\\\\\\\\": 2, \\\\\\\\\\\\\\\"details\\\\\\\\\\\\\\\": {\\\\\\\\\\\\\\\"selectedColumn\\\\\\\\\\\\\\\": \\\\\\\\\\\\\\\"Card_Category\\\\\\\\\\\\\\\"}}, \\\\\\\\\\\\\\\"typeProperty\\\\\\\\\\\\\\\": 0}, {\\\\\\\\\\\\\\\"column\\\\\\\\\\\\\\\": {\\\\\\\\\\\\\\\"type\\\\\\\\\\\\\\\": 2, \\\\\\\\\\\\\\\"details\\\\\\\\\\\\\\\": {\\\\\\\\\\\\\\\"selectedColumn\\\\\\\\\\\\\\\": \\\\\\\\\\\\\\\"Months_on_book\\\\\\\\\\\\\\\"}}, \\\\\\\\\\\\\\\"typeProperty\\\\\\\\\\\\\\\": 2}, {\\\\\\\\\\\\\\\"column\\\\\\\\\\\\\\\": {\\\\\\\\\\\\\\\"type\\\\\\\\\\\\\\\": 2, \\\\\\\\\\\\\\\"details\\\\\\\\\\\\\\\": {\\\\\\\\\\\\\\\"selectedColumn\\\\\\\\\\\\\\\": \\\\\\\\\\\\\\\"Total_Relationship_Count\\\\\\\\\\\\\\\"}}, \\\\\\\\\\\\\\\"typeProperty\\\\\\\\\\\\\\\": 2}, {\\\\\\\\\\\\\\\"column\\\\\\\\\\\\\\\": {\\\\\\\\\\\\\\\"type\\\\\\\\\\\\\\\": 2, \\\\\\\\\\\\\\\"details\\\\\\\\\\\\\\\": {\\\\\\\\\\\\\\\"selectedColumn\\\\\\\\\\\\\\\": \\\\\\\\\\\\\\\"Months_Inactive_12_mon\\\\\\\\\\\\\\\"}}, \\\\\\\\\\\\\\\"typeProperty\\\\\\\\\\\\\\\": 2}, {\\\\\\\\\\\\\\\"column\\\\\\\\\\\\\\\": {\\\\\\\\\\\\\\\"type\\\\\\\\\\\\\\\": 2, \\\\\\\\\\\\\\\"details\\\\\\\\\\\\\\\": {\\\\\\\\\\\\\\\"selectedColumn\\\\\\\\\\\\\\\": \\\\\\\\\\\\\\\"Contacts_Count_12_mon\\\\\\\\\\\\\\\"}}, \\\\\\\\\\\\\\\"typeProperty\\\\\\\\\\\\\\\": 2}, {\\\\\\\\\\\\\\\"column\\\\\\\\\\\\\\\": {\\\\\\\\\\\\\\\"type\\\\\\\\\\\\\\\": 2, \\\\\\\\\\\\\\\"details\\\\\\\\\\\\\\\": {\\\\\\\\\\\\\\\"selectedColumn\\\\\\\\\\\\\\\": \\\\\\\\\\\\\\\"Credit_Limit\\\\\\\\\\\\\\\"}}, \\\\\\\\\\\\\\\"typeProperty\\\\\\\\\\\\\\\": 3}, {\\\\\\\\\\\\\\\"column\\\\\\\\\\\\\\\": {\\\\\\\\\\\\\\\"type\\\\\\\\\\\\\\\": 2, \\\\\\\\\\\\\\\"details\\\\\\\\\\\\\\\": {\\\\\\\\\\\\\\\"selectedColumn\\\\\\\\\\\\\\\": \\\\\\\\\\\\\\\"Total_Revolving_Bal\\\\\\\\\\\\\\\"}}, \\\\\\\\\\\\\\\"typeProperty\\\\\\\\\\\\\\\": 2}, {\\\\\\\\\\\\\\\"column\\\\\\\\\\\\\\\": {\\\\\\\\\\\\\\\"type\\\\\\\\\\\\\\\": 2, \\\\\\\\\\\\\\\"details\\\\\\\\\\\\\\\": {\\\\\\\\\\\\\\\"selectedColumn\\\\\\\\\\\\\\\": \\\\\\\\\\\\\\\"Avg_Open_To_Buy\\\\\\\\\\\\\\\"}}, \\\\\\\\\\\\\\\"typeProperty\\\\\\\\\\\\\\\": 3}, {\\\\\\\\\\\\\\\"column\\\\\\\\\\\\\\\": {\\\\\\\\\\\\\\\"type\\\\\\\\\\\\\\\": 2, \\\\\\\\\\\\\\\"details\\\\\\\\\\\\\\\": {\\\\\\\\\\\\\\\"selectedColumn\\\\\\\\\\\\\\\": \\\\\\\\\\\\\\\"Total_Amt_Chng_Q4_Q1\\\\\\\\\\\\\\\"}}, \\\\\\\\\\\\\\\"typeProperty\\\\\\\\\\\\\\\": 3}, {\\\\\\\\\\\\\\\"column\\\\\\\\\\\\\\\": {\\\\\\\\\\\\\\\"type\\\\\\\\\\\\\\\": 2, \\\\\\\\\\\\\\\"details\\\\\\\\\\\\\\\": {\\\\\\\\\\\\\\\"selectedColumn\\\\\\\\\\\\\\\": \\\\\\\\\\\\\\\"Total_Trans_Amt\\\\\\\\\\\\\\\"}}, \\\\\\\\\\\\\\\"typeProperty\\\\\\\\\\\\\\\": 2}, {\\\\\\\\\\\\\\\"column\\\\\\\\\\\\\\\": {\\\\\\\\\\\\\\\"type\\\\\\\\\\\\\\\": 2, \\\\\\\\\\\\\\\"details\\\\\\\\\\\\\\\": {\\\\\\\\\\\\\\\"selectedColumn\\\\\\\\\\\\\\\": \\\\\\\\\\\\\\\"Total_Trans_Ct\\\\\\\\\\\\\\\"}}, \\\\\\\\\\\\\\\"typeProperty\\\\\\\\\\\\\\\": 2}, {\\\\\\\\\\\\\\\"column\\\\\\\\\\\\\\\": {\\\\\\\\\\\\\\\"type\\\\\\\\\\\\\\\": 2, \\\\\\\\\\\\\\\"details\\\\\\\\\\\\\\\": {\\\\\\\\\\\\\\\"selectedColumn\\\\\\\\\\\\\\\": \\\\\\\\\\\\\\\"Total_Ct_Chng_Q4_Q1\\\\\\\\\\\\\\\"}}, \\\\\\\\\\\\\\\"typeProperty\\\\\\\\\\\\\\\": 3}, {\\\\\\\\\\\\\\\"column\\\\\\\\\\\\\\\": {\\\\\\\\\\\\\\\"type\\\\\\\\\\\\\\\": 2, \\\\\\\\\\\\\\\"details\\\\\\\\\\\\\\\": {\\\\\\\\\\\\\\\"selectedColumn\\\\\\\\\\\\\\\": \\\\\\\\\\\\\\\"Avg_Utilization_Ratio\\\\\\\\\\\\\\\"}}, \\\\\\\\\\\\\\\"typeProperty\\\\\\\\\\\\\\\": 3}]}, \\\\\\\\\\\\\\\"localData\\\\\\\\\\\\\\\": {}, \\\\\\\\\\\\\\\"isEnabled\\\\\\\\\\\\\\\": true, \\\\\\\\\\\\\\\"name\\\\\\\\\\\\\\\": null, \\\\\\\\\\\\\\\"annotation\\\\\\\\\\\\\\\": null}], \\\\\\\\\\\\\\\"inspectors\\\\\\\\\\\\\\\": [], \\\\\\\\\\\\\\\"meta\\\\\\\\\\\\\\\": {\\\\\\\\\\\\\\\"savedDatasetId\\\\\\\\\\\\\\\": \\\\\\\\\\\\\\\"e84903da-a8e6-4489-953d-77d1c09cc9b0\\\\\\\\\\\\\\\", \\\\\\\\\\\\\\\"datasetType\\\\\\\\\\\\\\\": \\\\\\\\\\\\\\\"tabular\\\\\\\\\\\\\\\", \\\\\\\\\\\\\\\"subscriptionId\\\\\\\\\\\\\\\": \\\\\\\\\\\\\\\"a0a76bad-11a1-4a2d-9887-97a29122c8ed\\\\\\\\\\\\\\\", \\\\\\\\\\\\\\\"workspaceId\\\\\\\\\\\\\\\": \\\\\\\\\\\\\\\"a0570dff-29d1-4f46-8a51-2b52c75fd387\\\\\\\\\\\\\\\", \\\\\\\\\\\\\\\"workspaceLocation\\\\\\\\\\\\\\\": \\\\\\\\\\\\\\\"southcentralus\\\\\\\\\\\\\\\"}}\\\\\\\", \\\\\\\"activities\\\\\\\": 0}\", \"EnableSubsampling\": null, \"runTemplate\": \"AutoML\", \"azureml.runsource\": \"automl\", \"display_task_type\": \"classification\", \"dependencies_versions\": \"{\\\"azureml-widgets\\\": \\\"1.20.0\\\", \\\"azureml-train\\\": \\\"1.20.0\\\", \\\"azureml-train-restclients-hyperdrive\\\": \\\"1.20.0\\\", \\\"azureml-train-core\\\": \\\"1.20.0\\\", \\\"azureml-train-automl\\\": \\\"1.20.0\\\", \\\"azureml-train-automl-runtime\\\": \\\"1.20.0\\\", \\\"azureml-train-automl-client\\\": \\\"1.20.0\\\", \\\"azureml-tensorboard\\\": \\\"1.20.0\\\", \\\"azureml-telemetry\\\": \\\"1.20.0\\\", \\\"azureml-sdk\\\": \\\"1.20.0\\\", \\\"azureml-samples\\\": \\\"0+unknown\\\", \\\"azureml-pipeline\\\": \\\"1.20.0\\\", \\\"azureml-pipeline-steps\\\": \\\"1.20.0\\\", \\\"azureml-pipeline-core\\\": \\\"1.20.0\\\", \\\"azureml-opendatasets\\\": \\\"1.20.0\\\", \\\"azureml-model-management-sdk\\\": \\\"1.0.1b6.post1\\\", \\\"azureml-mlflow\\\": \\\"1.20.0.post1\\\", \\\"azureml-interpret\\\": \\\"1.20.0\\\", \\\"azureml-explain-model\\\": \\\"1.20.0\\\", \\\"azureml-defaults\\\": \\\"1.20.0\\\", \\\"azureml-dataset-runtime\\\": \\\"1.20.0\\\", \\\"azureml-dataprep\\\": \\\"2.7.3\\\", \\\"azureml-dataprep-rslex\\\": \\\"1.5.0\\\", \\\"azureml-dataprep-native\\\": \\\"27.0.0\\\", \\\"azureml-datadrift\\\": \\\"1.20.0\\\", \\\"azureml-core\\\": \\\"1.20.0\\\", \\\"azureml-contrib-services\\\": \\\"1.20.0\\\", \\\"azureml-contrib-server\\\": \\\"1.20.0\\\", \\\"azureml-contrib-reinforcementlearning\\\": \\\"1.20.0\\\", \\\"azureml-contrib-pipeline-steps\\\": \\\"1.20.0\\\", \\\"azureml-contrib-notebook\\\": \\\"1.20.0\\\", \\\"azureml-contrib-interpret\\\": \\\"1.20.0\\\", \\\"azureml-contrib-gbdt\\\": \\\"1.20.0\\\", \\\"azureml-contrib-fairness\\\": \\\"1.20.0\\\", \\\"azureml-contrib-dataset\\\": \\\"1.20.0\\\", \\\"azureml-cli-common\\\": \\\"1.20.0\\\", \\\"azureml-automl-runtime\\\": \\\"1.20.0\\\", \\\"azureml-automl-core\\\": \\\"1.20.0\\\", \\\"azureml-accel-models\\\": \\\"1.20.0\\\"}\", \"_aml_system_scenario_identification\": \"Remote.Parent\", \"ClientType\": \"SDK\", \"environment_cpu_name\": \"AzureML-AutoML\", \"environment_cpu_label\": \"prod\", \"environment_gpu_name\": \"AzureML-AutoML-GPU\", \"environment_gpu_label\": \"prod\", \"root_attribution\": \"automl\", \"attribution\": \"AutoML\", \"Orchestrator\": \"AutoML\", \"CancelUri\": \"https://southcentralus.experiments.azureml.net/jasmine/v1.0/subscriptions/a0a76bad-11a1-4a2d-9887-97a29122c8ed/resourceGroups/aml-quickstarts-136271/providers/Microsoft.MachineLearningServices/workspaces/quick-starts-ws-136271/experimentids/9efc085c-5d8c-4933-8327-87ea0261b5c5/cancel/AutoML_8d692d64-e5eb-4ca1-b421-5728dcd27d44\", \"ClientSdkVersion\": \"1.20.0.post1\", \"snapshotId\": \"00000000-0000-0000-0000-000000000000\", \"SetupRunId\": \"AutoML_8d692d64-e5eb-4ca1-b421-5728dcd27d44_setup\", \"SetupRunContainerId\": \"dcid.AutoML_8d692d64-e5eb-4ca1-b421-5728dcd27d44_setup\", \"FeaturizationRunJsonPath\": \"featurizer_container.json\", \"FeaturizationRunId\": \"AutoML_8d692d64-e5eb-4ca1-b421-5728dcd27d44_featurize\", \"ProblemInfoJsonString\": \"{\\\"dataset_num_categorical\\\": 0, \\\"is_sparse\\\": true, \\\"subsampling\\\": false, \\\"dataset_classes\\\": 2, \\\"dataset_features\\\": 146, \\\"dataset_samples\\\": 10127, \\\"single_frequency_class_detected\\\": false}\", \"ModelExplainRunId\": \"AutoML_8d692d64-e5eb-4ca1-b421-5728dcd27d44_ModelExplain\"}, \"tags\": {\"model_explain_run\": \"best_run\", \"_aml_system_azureml.automlComponent\": \"AutoML\", \"pipeline_id\": \"\", \"score\": \"\", \"predicted_cost\": \"\", \"fit_time\": \"\", \"training_percent\": \"\", \"iteration\": \"\", \"run_preprocessor\": \"\", \"run_algorithm\": \"\", \"dynamic_whitelisting_iterations\": \"<25>;<30>;<35>;<40>;<43>;\", \"automl_best_child_run_id\": \"AutoML_8d692d64-e5eb-4ca1-b421-5728dcd27d44_49\", \"model_explain_best_run_child_id\": \"AutoML_8d692d64-e5eb-4ca1-b421-5728dcd27d44_49\"}, \"end_time_utc\": \"2021-01-27T15:10:57.475355Z\", \"status\": \"Completed\", \"log_files\": {}, \"log_groups\": [], \"run_duration\": \"0:22:24\"}, \"child_runs\": [{\"run_id\": \"AutoML_8d692d64-e5eb-4ca1-b421-5728dcd27d44_1\", \"run_number\": 5, \"metric\": null, \"status\": \"Completed\", \"run_type\": \"azureml.scriptrun\", \"training_percent\": \"100\", \"start_time\": \"2021-01-27T14:54:21.718487Z\", \"end_time\": \"2021-01-27T14:55:45.75547Z\", \"created_time\": \"2021-01-27T14:54:09.7754Z\", \"created_time_dt\": \"2021-01-27T14:54:09.7754Z\", \"duration\": \"0:01:35\", \"iteration\": \"1\", \"goal\": \"accuracy_max\", \"run_name\": \"MaxAbsScaler, XGBoostClassifier\", \"run_properties\": \"copy=True\", \"primary_metric\": 0.96030428, \"best_metric\": 0.96909245}, {\"run_id\": \"AutoML_8d692d64-e5eb-4ca1-b421-5728dcd27d44_0\", \"run_number\": 6, \"metric\": null, \"status\": \"Completed\", \"run_type\": \"azureml.scriptrun\", \"training_percent\": \"100\", \"start_time\": \"2021-01-27T14:54:22.521413Z\", \"end_time\": \"2021-01-27T14:55:19.631875Z\", \"created_time\": \"2021-01-27T14:54:09.783729Z\", \"created_time_dt\": \"2021-01-27T14:54:09.783729Z\", \"duration\": \"0:01:09\", \"iteration\": \"0\", \"goal\": \"accuracy_max\", \"run_name\": \"MaxAbsScaler, LightGBM\", \"run_properties\": \"copy=True\", \"primary_metric\": 0.96909245, \"best_metric\": 0.96909245}, {\"run_id\": \"AutoML_8d692d64-e5eb-4ca1-b421-5728dcd27d44_3\", \"run_number\": 7, \"metric\": null, \"status\": \"Completed\", \"run_type\": \"azureml.scriptrun\", \"training_percent\": \"100\", \"start_time\": \"2021-01-27T14:54:20.608461Z\", \"end_time\": \"2021-01-27T14:55:19.938833Z\", \"created_time\": \"2021-01-27T14:54:09.851796Z\", \"created_time_dt\": \"2021-01-27T14:54:09.851796Z\", \"duration\": \"0:01:10\", \"iteration\": \"3\", \"goal\": \"accuracy_max\", \"run_name\": \"MaxAbsScaler, RandomForest\", \"run_properties\": \"copy=True\", \"primary_metric\": 0.8404261, \"best_metric\": 0.96909245}, {\"run_id\": \"AutoML_8d692d64-e5eb-4ca1-b421-5728dcd27d44_2\", \"run_number\": 8, \"metric\": null, \"status\": \"Completed\", \"run_type\": \"azureml.scriptrun\", \"training_percent\": \"100\", \"start_time\": \"2021-01-27T14:54:21.969564Z\", \"end_time\": \"2021-01-27T14:55:18.904115Z\", \"created_time\": \"2021-01-27T14:54:09.857383Z\", \"created_time_dt\": \"2021-01-27T14:54:09.857383Z\", \"duration\": \"0:01:09\", \"iteration\": \"2\", \"goal\": \"accuracy_max\", \"run_name\": \"MaxAbsScaler, RandomForest\", \"run_properties\": \"copy=True\", \"primary_metric\": 0.86146068, \"best_metric\": 0.96909245}, {\"run_id\": \"AutoML_8d692d64-e5eb-4ca1-b421-5728dcd27d44_4\", \"run_number\": 9, \"metric\": null, \"status\": \"Completed\", \"run_type\": \"azureml.scriptrun\", \"training_percent\": \"100\", \"start_time\": \"2021-01-27T14:54:23.678428Z\", \"end_time\": \"2021-01-27T14:55:15.132504Z\", \"created_time\": \"2021-01-27T14:54:09.852576Z\", \"created_time_dt\": \"2021-01-27T14:54:09.852576Z\", \"duration\": \"0:01:05\", \"iteration\": \"4\", \"goal\": \"accuracy_max\", \"run_name\": \"MaxAbsScaler, RandomForest\", \"run_properties\": \"copy=True\", \"primary_metric\": 0.85029925, \"best_metric\": 0.96909245}, {\"run_id\": \"AutoML_8d692d64-e5eb-4ca1-b421-5728dcd27d44_5\", \"run_number\": 10, \"metric\": null, \"status\": \"Completed\", \"run_type\": \"azureml.scriptrun\", \"training_percent\": \"100\", \"start_time\": \"2021-01-27T14:55:32.076518Z\", \"end_time\": \"2021-01-27T14:56:30.176633Z\", \"created_time\": \"2021-01-27T14:55:19.463095Z\", \"created_time_dt\": \"2021-01-27T14:55:19.463095Z\", \"duration\": \"0:01:10\", \"iteration\": \"5\", \"goal\": \"accuracy_max\", \"run_name\": \"MaxAbsScaler, RandomForest\", \"run_properties\": \"copy=True\", \"primary_metric\": 0.766565, \"best_metric\": 0.96909245}, {\"run_id\": \"AutoML_8d692d64-e5eb-4ca1-b421-5728dcd27d44_6\", \"run_number\": 11, \"metric\": null, \"status\": \"Completed\", \"run_type\": \"azureml.scriptrun\", \"training_percent\": \"100\", \"start_time\": \"2021-01-27T14:55:36.041688Z\", \"end_time\": \"2021-01-27T14:56:47.934266Z\", \"created_time\": \"2021-01-27T14:55:24.749331Z\", \"created_time_dt\": \"2021-01-27T14:55:24.749331Z\", \"duration\": \"0:01:23\", \"iteration\": \"6\", \"goal\": \"accuracy_max\", \"run_name\": \"SparseNormalizer, XGBoostClassifier\", \"run_properties\": \"<azureml.automl.runtime.shared.model_wrappers.SparseNormalizer object at 0x7f423de68a58\", \"primary_metric\": 0.95526789, \"best_metric\": 0.96909245}, {\"run_id\": \"AutoML_8d692d64-e5eb-4ca1-b421-5728dcd27d44_8\", \"run_number\": 12, \"metric\": null, \"status\": \"Completed\", \"run_type\": \"azureml.scriptrun\", \"training_percent\": \"100\", \"start_time\": \"2021-01-27T14:55:36.489138Z\", \"end_time\": \"2021-01-27T14:56:34.065494Z\", \"created_time\": \"2021-01-27T14:55:24.825571Z\", \"created_time_dt\": \"2021-01-27T14:55:24.825571Z\", \"duration\": \"0:01:09\", \"iteration\": \"8\", \"goal\": \"accuracy_max\", \"run_name\": \"SparseNormalizer, XGBoostClassifier\", \"run_properties\": \"<azureml.automl.runtime.shared.model_wrappers.SparseNormalizer object at 0x7f03382b97b8\", \"primary_metric\": 0.96613007, \"best_metric\": 0.96909245}, {\"run_id\": \"AutoML_8d692d64-e5eb-4ca1-b421-5728dcd27d44_7\", \"run_number\": 13, \"metric\": null, \"status\": \"Completed\", \"run_type\": \"azureml.scriptrun\", \"training_percent\": \"100\", \"start_time\": \"2021-01-27T14:55:36.357423Z\", \"end_time\": \"2021-01-27T14:56:37.542606Z\", \"created_time\": \"2021-01-27T14:55:24.852691Z\", \"created_time_dt\": \"2021-01-27T14:55:24.852691Z\", \"duration\": \"0:01:12\", \"iteration\": \"7\", \"goal\": \"accuracy_max\", \"run_name\": \"SparseNormalizer, XGBoostClassifier\", \"run_properties\": \"<azureml.automl.runtime.shared.model_wrappers.SparseNormalizer object at 0x7fbeb85b7470\", \"primary_metric\": 0.96474779, \"best_metric\": 0.96909245}, {\"run_id\": \"AutoML_8d692d64-e5eb-4ca1-b421-5728dcd27d44_9\", \"run_number\": 14, \"metric\": null, \"status\": \"Completed\", \"run_type\": \"azureml.scriptrun\", \"training_percent\": \"100\", \"start_time\": \"2021-01-27T14:56:01.007042Z\", \"end_time\": \"2021-01-27T14:57:01.560931Z\", \"created_time\": \"2021-01-27T14:55:48.291812Z\", \"created_time_dt\": \"2021-01-27T14:55:48.291812Z\", \"duration\": \"0:01:13\", \"iteration\": \"9\", \"goal\": \"accuracy_max\", \"run_name\": \"SparseNormalizer, XGBoostClassifier\", \"run_properties\": \"<azureml.automl.runtime.shared.model_wrappers.SparseNormalizer object at 0x7f0f4034d668\", \"primary_metric\": 0.96247657, \"best_metric\": 0.96909245}, {\"run_id\": \"AutoML_8d692d64-e5eb-4ca1-b421-5728dcd27d44_10\", \"run_number\": 15, \"metric\": null, \"status\": \"Completed\", \"run_type\": \"azureml.scriptrun\", \"training_percent\": \"100\", \"start_time\": \"2021-01-27T14:56:45.780456Z\", \"end_time\": \"2021-01-27T14:58:06.193334Z\", \"created_time\": \"2021-01-27T14:56:32.923292Z\", \"created_time_dt\": \"2021-01-27T14:56:32.923292Z\", \"duration\": \"0:01:33\", \"iteration\": \"10\", \"goal\": \"accuracy_max\", \"run_name\": \"SparseNormalizer, XGBoostClassifier\", \"run_properties\": \"<azureml.automl.runtime.shared.model_wrappers.SparseNormalizer object at 0x7fb5519770b8\", \"primary_metric\": 0.94509757, \"best_metric\": 0.96909245}, {\"run_id\": \"AutoML_8d692d64-e5eb-4ca1-b421-5728dcd27d44_11\", \"run_number\": 16, \"metric\": null, \"status\": \"Completed\", \"run_type\": \"azureml.scriptrun\", \"training_percent\": \"100\", \"start_time\": \"2021-01-27T14:56:50.858533Z\", \"end_time\": \"2021-01-27T14:58:18.140764Z\", \"created_time\": \"2021-01-27T14:56:37.60964Z\", \"created_time_dt\": \"2021-01-27T14:56:37.60964Z\", \"duration\": \"0:01:40\", \"iteration\": \"11\", \"goal\": \"accuracy_max\", \"run_name\": \"StandardScalerWrapper, RandomForest\", \"run_properties\": \"<azureml.automl.runtime.shared.model_wrappers.StandardScalerWrapper object at 0x7f05f68372b0\", \"primary_metric\": 0.89848967, \"best_metric\": 0.96909245}, {\"run_id\": \"AutoML_8d692d64-e5eb-4ca1-b421-5728dcd27d44_12\", \"run_number\": 17, \"metric\": null, \"status\": \"Completed\", \"run_type\": \"azureml.scriptrun\", \"training_percent\": \"100\", \"start_time\": \"2021-01-27T14:56:53.965427Z\", \"end_time\": \"2021-01-27T14:57:53.243039Z\", \"created_time\": \"2021-01-27T14:56:42.723544Z\", \"created_time_dt\": \"2021-01-27T14:56:42.723544Z\", \"duration\": \"0:01:10\", \"iteration\": \"12\", \"goal\": \"accuracy_max\", \"run_name\": \"MaxAbsScaler, RandomForest\", \"run_properties\": \"copy=True\", \"primary_metric\": 0.83953715, \"best_metric\": 0.96909245}, {\"run_id\": \"AutoML_8d692d64-e5eb-4ca1-b421-5728dcd27d44_13\", \"run_number\": 18, \"metric\": null, \"status\": \"Completed\", \"run_type\": \"azureml.scriptrun\", \"training_percent\": \"100\", \"start_time\": \"2021-01-27T14:57:02.55935Z\", \"end_time\": \"2021-01-27T14:57:51.004126Z\", \"created_time\": \"2021-01-27T14:56:50.120145Z\", \"created_time_dt\": \"2021-01-27T14:56:50.120145Z\", \"duration\": \"0:01:00\", \"iteration\": \"13\", \"goal\": \"accuracy_max\", \"run_name\": \"SparseNormalizer, XGBoostClassifier\", \"run_properties\": \"<azureml.automl.runtime.shared.model_wrappers.SparseNormalizer object at 0x7f79e28d9fd0\", \"primary_metric\": 0.89177465, \"best_metric\": 0.96909245}, {\"run_id\": \"AutoML_8d692d64-e5eb-4ca1-b421-5728dcd27d44_14\", \"run_number\": 19, \"metric\": null, \"status\": \"Completed\", \"run_type\": \"azureml.scriptrun\", \"training_percent\": \"100\", \"start_time\": \"2021-01-27T14:57:18.058891Z\", \"end_time\": \"2021-01-27T14:58:30.665742Z\", \"created_time\": \"2021-01-27T14:57:05.214757Z\", \"created_time_dt\": \"2021-01-27T14:57:05.214757Z\", \"duration\": \"0:01:25\", \"iteration\": \"14\", \"goal\": \"accuracy_max\", \"run_name\": \"MaxAbsScaler, ExtremeRandomTrees\", \"run_properties\": \"copy=True\", \"primary_metric\": 0.83933968, \"best_metric\": 0.96909245}, {\"run_id\": \"AutoML_8d692d64-e5eb-4ca1-b421-5728dcd27d44_15\", \"run_number\": 20, \"metric\": null, \"status\": \"Completed\", \"run_type\": \"azureml.scriptrun\", \"training_percent\": \"100\", \"start_time\": \"2021-01-27T14:58:08.780173Z\", \"end_time\": \"2021-01-27T14:59:13.580177Z\", \"created_time\": \"2021-01-27T14:57:53.391176Z\", \"created_time_dt\": \"2021-01-27T14:57:53.391176Z\", \"duration\": \"0:01:20\", \"iteration\": \"15\", \"goal\": \"accuracy_max\", \"run_name\": \"MaxAbsScaler, LightGBM\", \"run_properties\": \"copy=True\", \"primary_metric\": 0.89927863, \"best_metric\": 0.96909245}, {\"run_id\": \"AutoML_8d692d64-e5eb-4ca1-b421-5728dcd27d44_16\", \"run_number\": 21, \"metric\": null, \"status\": \"Completed\", \"run_type\": \"azureml.scriptrun\", \"training_percent\": \"100\", \"start_time\": \"2021-01-27T14:58:10.041569Z\", \"end_time\": \"2021-01-27T14:59:12.576362Z\", \"created_time\": \"2021-01-27T14:57:58.585081Z\", \"created_time_dt\": \"2021-01-27T14:57:58.585081Z\", \"duration\": \"0:01:13\", \"iteration\": \"16\", \"goal\": \"accuracy_max\", \"run_name\": \"SparseNormalizer, GradientBoosting\", \"run_properties\": \"<azureml.automl.runtime.shared.model_wrappers.SparseNormalizer object at 0x7faf9f074b70\", \"primary_metric\": 0.83933968, \"best_metric\": 0.96909245}, {\"run_id\": \"AutoML_8d692d64-e5eb-4ca1-b421-5728dcd27d44_17\", \"run_number\": 22, \"metric\": null, \"status\": \"Completed\", \"run_type\": \"azureml.scriptrun\", \"training_percent\": \"100\", \"start_time\": \"2021-01-27T14:58:22.211228Z\", \"end_time\": \"2021-01-27T14:59:16.141407Z\", \"created_time\": \"2021-01-27T14:58:08.763622Z\", \"created_time_dt\": \"2021-01-27T14:58:08.763622Z\", \"duration\": \"0:01:07\", \"iteration\": \"17\", \"goal\": \"accuracy_max\", \"run_name\": \"StandardScalerWrapper, LogisticRegression\", \"run_properties\": \"<azureml.automl.runtime.shared.model_wrappers.StandardScalerWrapper object at 0x7f69d9fb4198\", \"primary_metric\": 0.91073354, \"best_metric\": 0.96909245}, {\"run_id\": \"AutoML_8d692d64-e5eb-4ca1-b421-5728dcd27d44_18\", \"run_number\": 23, \"metric\": null, \"status\": \"Completed\", \"run_type\": \"azureml.scriptrun\", \"training_percent\": \"100\", \"start_time\": \"2021-01-27T14:58:33.974281Z\", \"end_time\": \"2021-01-27T14:59:14.826855Z\", \"created_time\": \"2021-01-27T14:58:20.328304Z\", \"created_time_dt\": \"2021-01-27T14:58:20.328304Z\", \"duration\": \"0:00:54\", \"iteration\": \"18\", \"goal\": \"accuracy_max\", \"run_name\": \"SparseNormalizer, LightGBM\", \"run_properties\": \"<azureml.automl.runtime.shared.model_wrappers.SparseNormalizer object at 0x7fc77f435198\", \"primary_metric\": 0.90796881, \"best_metric\": 0.96909245}, {\"run_id\": \"AutoML_8d692d64-e5eb-4ca1-b421-5728dcd27d44_19\", \"run_number\": 24, \"metric\": null, \"status\": \"Completed\", \"run_type\": \"azureml.scriptrun\", \"training_percent\": \"100\", \"start_time\": \"2021-01-27T14:58:46.437947Z\", \"end_time\": \"2021-01-27T14:59:35.063486Z\", \"created_time\": \"2021-01-27T14:58:33.400209Z\", \"created_time_dt\": \"2021-01-27T14:58:33.400209Z\", \"duration\": \"0:01:01\", \"iteration\": \"19\", \"goal\": \"accuracy_max\", \"run_name\": \"MaxAbsScaler, LogisticRegression\", \"run_properties\": \"copy=True\", \"primary_metric\": 0.9116222, \"best_metric\": 0.96909245}, {\"run_id\": \"AutoML_8d692d64-e5eb-4ca1-b421-5728dcd27d44_20\", \"run_number\": 25, \"metric\": null, \"status\": \"Completed\", \"run_type\": \"azureml.scriptrun\", \"training_percent\": \"100\", \"start_time\": \"2021-01-27T14:59:27.084853Z\", \"end_time\": \"2021-01-27T15:00:39.004631Z\", \"created_time\": \"2021-01-27T14:59:14.88682Z\", \"created_time_dt\": \"2021-01-27T14:59:14.88682Z\", \"duration\": \"0:01:24\", \"iteration\": \"20\", \"goal\": \"accuracy_max\", \"run_name\": \"MaxAbsScaler, LogisticRegression\", \"run_properties\": \"copy=True\", \"primary_metric\": 0.91112831, \"best_metric\": 0.96909245}, {\"run_id\": \"AutoML_8d692d64-e5eb-4ca1-b421-5728dcd27d44_21\", \"run_number\": 26, \"metric\": null, \"status\": \"Completed\", \"run_type\": \"azureml.scriptrun\", \"training_percent\": \"100\", \"start_time\": \"2021-01-27T14:59:31.577307Z\", \"end_time\": \"2021-01-27T15:00:40.246726Z\", \"created_time\": \"2021-01-27T14:59:20.617994Z\", \"created_time_dt\": \"2021-01-27T14:59:20.617994Z\", \"duration\": \"0:01:19\", \"iteration\": \"21\", \"goal\": \"accuracy_max\", \"run_name\": \"SparseNormalizer, XGBoostClassifier\", \"run_properties\": \"<azureml.automl.runtime.shared.model_wrappers.SparseNormalizer object at 0x7f22fc0ab550\", \"primary_metric\": 0.95507065, \"best_metric\": 0.96909245}, {\"run_id\": \"AutoML_8d692d64-e5eb-4ca1-b421-5728dcd27d44_22\", \"run_number\": 27, \"metric\": null, \"status\": \"Completed\", \"run_type\": \"azureml.scriptrun\", \"training_percent\": \"100\", \"start_time\": \"2021-01-27T14:59:32.651829Z\", \"end_time\": \"2021-01-27T15:00:53.842558Z\", \"created_time\": \"2021-01-27T14:59:20.675308Z\", \"created_time_dt\": \"2021-01-27T14:59:20.675308Z\", \"duration\": \"0:01:33\", \"iteration\": \"22\", \"goal\": \"accuracy_max\", \"run_name\": \"SparseNormalizer, XGBoostClassifier\", \"run_properties\": \"<azureml.automl.runtime.shared.model_wrappers.SparseNormalizer object at 0x7fd39d4fc860\", \"primary_metric\": 0.95961281, \"best_metric\": 0.96909245}, {\"run_id\": \"AutoML_8d692d64-e5eb-4ca1-b421-5728dcd27d44_23\", \"run_number\": 28, \"metric\": null, \"status\": \"Completed\", \"run_type\": \"azureml.scriptrun\", \"training_percent\": \"100\", \"start_time\": \"2021-01-27T14:59:32.396905Z\", \"end_time\": \"2021-01-27T15:00:36.225651Z\", \"created_time\": \"2021-01-27T14:59:20.689593Z\", \"created_time_dt\": \"2021-01-27T14:59:20.689593Z\", \"duration\": \"0:01:15\", \"iteration\": \"23\", \"goal\": \"accuracy_max\", \"run_name\": \"MaxAbsScaler, LogisticRegression\", \"run_properties\": \"copy=True\", \"primary_metric\": 0.91201717, \"best_metric\": 0.96909245}, {\"run_id\": \"AutoML_8d692d64-e5eb-4ca1-b421-5728dcd27d44_24\", \"run_number\": 29, \"metric\": null, \"status\": \"Completed\", \"run_type\": \"azureml.scriptrun\", \"training_percent\": \"100\", \"start_time\": \"2021-01-27T14:59:52.616667Z\", \"end_time\": \"2021-01-27T15:01:17.959527Z\", \"created_time\": \"2021-01-27T14:59:37.236069Z\", \"created_time_dt\": \"2021-01-27T14:59:37.236069Z\", \"duration\": \"0:01:40\", \"iteration\": \"24\", \"goal\": \"accuracy_max\", \"run_name\": \"SparseNormalizer, XGBoostClassifier\", \"run_properties\": \"<azureml.automl.runtime.shared.model_wrappers.SparseNormalizer object at 0x7fb4e7213a90\", \"primary_metric\": 0.96395758, \"best_metric\": 0.96909245}, {\"run_id\": \"AutoML_8d692d64-e5eb-4ca1-b421-5728dcd27d44_25\", \"run_number\": 30, \"metric\": null, \"status\": \"Completed\", \"run_type\": \"azureml.scriptrun\", \"training_percent\": \"100\", \"start_time\": \"2021-01-27T15:00:51.578518Z\", \"end_time\": \"2021-01-27T15:02:09.500477Z\", \"created_time\": \"2021-01-27T15:00:39.633273Z\", \"created_time_dt\": \"2021-01-27T15:00:39.633273Z\", \"duration\": \"0:01:29\", \"iteration\": \"25\", \"goal\": \"accuracy_max\", \"run_name\": \"SparseNormalizer, LightGBM\", \"run_properties\": \"<azureml.automl.runtime.shared.model_wrappers.SparseNormalizer object at 0x7fda06adc828\", \"primary_metric\": 0.89809394, \"best_metric\": 0.96909245}, {\"run_id\": \"AutoML_8d692d64-e5eb-4ca1-b421-5728dcd27d44_27\", \"run_number\": 31, \"metric\": null, \"status\": \"Completed\", \"run_type\": \"azureml.scriptrun\", \"training_percent\": \"100\", \"start_time\": \"2021-01-27T15:00:58.09828Z\", \"end_time\": \"2021-01-27T15:02:30.211773Z\", \"created_time\": \"2021-01-27T15:00:45.118904Z\", \"created_time_dt\": \"2021-01-27T15:00:45.118904Z\", \"duration\": \"0:01:45\", \"iteration\": \"27\", \"goal\": \"accuracy_max\", \"run_name\": \"SparseNormalizer, XGBoostClassifier\", \"run_properties\": \"<azureml.automl.runtime.shared.model_wrappers.SparseNormalizer object at 0x7f30e0095b00\", \"primary_metric\": 0.96751252, \"best_metric\": 0.96909245}, {\"run_id\": \"AutoML_8d692d64-e5eb-4ca1-b421-5728dcd27d44_26\", \"run_number\": 32, \"metric\": null, \"status\": \"Completed\", \"run_type\": \"azureml.scriptrun\", \"training_percent\": \"100\", \"start_time\": \"2021-01-27T15:00:56.496321Z\", \"end_time\": \"2021-01-27T15:02:08.402331Z\", \"created_time\": \"2021-01-27T15:00:45.116118Z\", \"created_time_dt\": \"2021-01-27T15:00:45.116118Z\", \"duration\": \"0:01:23\", \"iteration\": \"26\", \"goal\": \"accuracy_max\", \"run_name\": \"SparseNormalizer, XGBoostClassifier\", \"run_properties\": \"<azureml.automl.runtime.shared.model_wrappers.SparseNormalizer object at 0x7f7bb5fe8f28\", \"primary_metric\": 0.95832906, \"best_metric\": 0.96909245}, {\"run_id\": \"AutoML_8d692d64-e5eb-4ca1-b421-5728dcd27d44_28\", \"run_number\": 33, \"metric\": null, \"status\": \"Completed\", \"run_type\": \"azureml.scriptrun\", \"training_percent\": \"100\", \"start_time\": \"2021-01-27T15:01:08.699565Z\", \"end_time\": \"2021-01-27T15:02:12.451983Z\", \"created_time\": \"2021-01-27T15:00:55.957656Z\", \"created_time_dt\": \"2021-01-27T15:00:55.957656Z\", \"duration\": \"0:01:16\", \"iteration\": \"28\", \"goal\": \"accuracy_max\", \"run_name\": \"SparseNormalizer, XGBoostClassifier\", \"run_properties\": \"<azureml.automl.runtime.shared.model_wrappers.SparseNormalizer object at 0x7f2d2d3fee48\", \"primary_metric\": 0.93255637, \"best_metric\": 0.96909245}, {\"run_id\": \"AutoML_8d692d64-e5eb-4ca1-b421-5728dcd27d44_29\", \"run_number\": 34, \"metric\": null, \"status\": \"Completed\", \"run_type\": \"azureml.scriptrun\", \"training_percent\": \"100\", \"start_time\": \"2021-01-27T15:01:34.564105Z\", \"end_time\": \"2021-01-27T15:02:44.250056Z\", \"created_time\": \"2021-01-27T15:01:20.494789Z\", \"created_time_dt\": \"2021-01-27T15:01:20.494789Z\", \"duration\": \"0:01:23\", \"iteration\": \"29\", \"goal\": \"accuracy_max\", \"run_name\": \"SparseNormalizer, XGBoostClassifier\", \"run_properties\": \"<azureml.automl.runtime.shared.model_wrappers.SparseNormalizer object at 0x7f2e82d54400\", \"primary_metric\": 0.96504371, \"best_metric\": 0.96909245}, {\"run_id\": \"AutoML_8d692d64-e5eb-4ca1-b421-5728dcd27d44_30\", \"run_number\": 35, \"metric\": null, \"status\": \"Completed\", \"run_type\": \"azureml.scriptrun\", \"training_percent\": \"100\", \"start_time\": \"2021-01-27T15:02:25.045466Z\", \"end_time\": \"2021-01-27T15:03:36.239525Z\", \"created_time\": \"2021-01-27T15:02:11.89952Z\", \"created_time_dt\": \"2021-01-27T15:02:11.89952Z\", \"duration\": \"0:01:24\", \"iteration\": \"30\", \"goal\": \"accuracy_max\", \"run_name\": \"MaxAbsScaler, LightGBM\", \"run_properties\": \"copy=True\", \"primary_metric\": 0.83933968, \"best_metric\": 0.96909245}, {\"run_id\": \"AutoML_8d692d64-e5eb-4ca1-b421-5728dcd27d44_31\", \"run_number\": 36, \"metric\": null, \"status\": \"Completed\", \"run_type\": \"azureml.scriptrun\", \"training_percent\": \"100\", \"start_time\": \"2021-01-27T15:02:28.211398Z\", \"end_time\": \"2021-01-27T15:03:35.955182Z\", \"created_time\": \"2021-01-27T15:02:16.479507Z\", \"created_time_dt\": \"2021-01-27T15:02:16.479507Z\", \"duration\": \"0:01:19\", \"iteration\": \"31\", \"goal\": \"accuracy_max\", \"run_name\": \"SparseNormalizer, XGBoostClassifier\", \"run_properties\": \"<azureml.automl.runtime.shared.model_wrappers.SparseNormalizer object at 0x7fd1410dc940\", \"primary_metric\": 0.96780885, \"best_metric\": 0.96909245}, {\"run_id\": \"AutoML_8d692d64-e5eb-4ca1-b421-5728dcd27d44_32\", \"run_number\": 37, \"metric\": null, \"status\": \"Completed\", \"run_type\": \"azureml.scriptrun\", \"training_percent\": \"100\", \"start_time\": \"2021-01-27T15:02:27.050677Z\", \"end_time\": \"2021-01-27T15:03:29.570268Z\", \"created_time\": \"2021-01-27T15:02:16.499238Z\", \"created_time_dt\": \"2021-01-27T15:02:16.499238Z\", \"duration\": \"0:01:13\", \"iteration\": \"32\", \"goal\": \"accuracy_max\", \"run_name\": \"StandardScalerWrapper, XGBoostClassifier\", \"run_properties\": \"<azureml.automl.runtime.shared.model_wrappers.StandardScalerWrapper object at 0x7f61f25befd0\", \"primary_metric\": 0.9717587, \"best_metric\": 0.9717587}, {\"run_id\": \"AutoML_8d692d64-e5eb-4ca1-b421-5728dcd27d44_33\", \"run_number\": 38, \"metric\": null, \"status\": \"Completed\", \"run_type\": \"azureml.scriptrun\", \"training_percent\": \"100\", \"start_time\": \"2021-01-27T15:02:42.959008Z\", \"end_time\": \"2021-01-27T15:04:05.307014Z\", \"created_time\": \"2021-01-27T15:02:32.027713Z\", \"created_time_dt\": \"2021-01-27T15:02:32.027713Z\", \"duration\": \"0:01:33\", \"iteration\": \"33\", \"goal\": \"accuracy_max\", \"run_name\": \"SparseNormalizer, XGBoostClassifier\", \"run_properties\": \"<azureml.automl.runtime.shared.model_wrappers.SparseNormalizer object at 0x7f9cc6c07ac8\", \"primary_metric\": 0.96534015, \"best_metric\": 0.9717587}, {\"run_id\": \"AutoML_8d692d64-e5eb-4ca1-b421-5728dcd27d44_34\", \"run_number\": 39, \"metric\": null, \"status\": \"Completed\", \"run_type\": \"azureml.scriptrun\", \"training_percent\": \"100\", \"start_time\": \"2021-01-27T15:02:55.940829Z\", \"end_time\": \"2021-01-27T15:04:04.561647Z\", \"created_time\": \"2021-01-27T15:02:46.000426Z\", \"created_time_dt\": \"2021-01-27T15:02:46.000426Z\", \"duration\": \"0:01:18\", \"iteration\": \"34\", \"goal\": \"accuracy_max\", \"run_name\": \"StandardScalerWrapper, XGBoostClassifier\", \"run_properties\": \"<azureml.automl.runtime.shared.model_wrappers.StandardScalerWrapper object at 0x7fe1642c6860\", \"primary_metric\": 0.96800638, \"best_metric\": 0.9717587}, {\"run_id\": \"AutoML_8d692d64-e5eb-4ca1-b421-5728dcd27d44_35\", \"run_number\": 40, \"metric\": null, \"status\": \"Completed\", \"run_type\": \"azureml.scriptrun\", \"training_percent\": \"100\", \"start_time\": \"2021-01-27T15:03:42.650347Z\", \"end_time\": \"2021-01-27T15:05:01.911757Z\", \"created_time\": \"2021-01-27T15:03:32.358255Z\", \"created_time_dt\": \"2021-01-27T15:03:32.358255Z\", \"duration\": \"0:01:29\", \"iteration\": \"35\", \"goal\": \"accuracy_max\", \"run_name\": \"SparseNormalizer, XGBoostClassifier\", \"run_properties\": \"<azureml.automl.runtime.shared.model_wrappers.SparseNormalizer object at 0x7f936a681a90\", \"primary_metric\": 0.83933968, \"best_metric\": 0.9717587}, {\"run_id\": \"AutoML_8d692d64-e5eb-4ca1-b421-5728dcd27d44_37\", \"run_number\": 41, \"metric\": null, \"status\": \"Completed\", \"run_type\": \"azureml.scriptrun\", \"training_percent\": \"100\", \"start_time\": \"2021-01-27T15:04:09.197559Z\", \"end_time\": \"2021-01-27T15:06:00.334201Z\", \"created_time\": \"2021-01-27T15:03:37.875353Z\", \"created_time_dt\": \"2021-01-27T15:03:37.875353Z\", \"duration\": \"0:02:22\", \"iteration\": \"37\", \"goal\": \"accuracy_max\", \"run_name\": \"SparseNormalizer, XGBoostClassifier\", \"run_properties\": \"<azureml.automl.runtime.shared.model_wrappers.SparseNormalizer object at 0x7fe800874e48\", \"primary_metric\": 0.96593277, \"best_metric\": 0.9717587}, {\"run_id\": \"AutoML_8d692d64-e5eb-4ca1-b421-5728dcd27d44_36\", \"run_number\": 42, \"metric\": null, \"status\": \"Completed\", \"run_type\": \"azureml.scriptrun\", \"training_percent\": \"100\", \"start_time\": \"2021-01-27T15:03:47.454989Z\", \"end_time\": \"2021-01-27T15:06:36.544399Z\", \"created_time\": \"2021-01-27T15:03:37.900672Z\", \"created_time_dt\": \"2021-01-27T15:03:37.900672Z\", \"duration\": \"0:02:58\", \"iteration\": \"36\", \"goal\": \"accuracy_max\", \"run_name\": \"SparseNormalizer, XGBoostClassifier\", \"run_properties\": \"<azureml.automl.runtime.shared.model_wrappers.SparseNormalizer object at 0x7fedf1dcd128\", \"primary_metric\": 0.96553768, \"best_metric\": 0.9717587}, {\"run_id\": \"AutoML_8d692d64-e5eb-4ca1-b421-5728dcd27d44_38\", \"run_number\": 43, \"metric\": null, \"status\": \"Completed\", \"run_type\": \"azureml.scriptrun\", \"training_percent\": \"100\", \"start_time\": \"2021-01-27T15:04:16.572041Z\", \"end_time\": \"2021-01-27T15:06:38.203196Z\", \"created_time\": \"2021-01-27T15:04:06.710178Z\", \"created_time_dt\": \"2021-01-27T15:04:06.710178Z\", \"duration\": \"0:02:31\", \"iteration\": \"38\", \"goal\": \"accuracy_max\", \"run_name\": \"SparseNormalizer, XGBoostClassifier\", \"run_properties\": \"<azureml.automl.runtime.shared.model_wrappers.SparseNormalizer object at 0x7fc136c590f0\", \"primary_metric\": 0.9668214, \"best_metric\": 0.9717587}, {\"run_id\": \"AutoML_8d692d64-e5eb-4ca1-b421-5728dcd27d44_39\", \"run_number\": 44, \"metric\": null, \"status\": \"Completed\", \"run_type\": \"azureml.scriptrun\", \"training_percent\": \"100\", \"start_time\": \"2021-01-27T15:05:06.820609Z\", \"end_time\": \"2021-01-27T15:06:34.582108Z\", \"created_time\": \"2021-01-27T15:04:09.834005Z\", \"created_time_dt\": \"2021-01-27T15:04:09.834005Z\", \"duration\": \"0:02:24\", \"iteration\": \"39\", \"goal\": \"accuracy_max\", \"run_name\": \"SparseNormalizer, XGBoostClassifier\", \"run_properties\": \"<azureml.automl.runtime.shared.model_wrappers.SparseNormalizer object at 0x7f010cff2ac8\", \"primary_metric\": 0.96395761, \"best_metric\": 0.9717587}, {\"run_id\": \"AutoML_8d692d64-e5eb-4ca1-b421-5728dcd27d44_40\", \"run_number\": 45, \"metric\": null, \"status\": \"Completed\", \"run_type\": \"azureml.scriptrun\", \"training_percent\": \"100\", \"start_time\": \"2021-01-27T15:05:16.034096Z\", \"end_time\": \"2021-01-27T15:06:37.748862Z\", \"created_time\": \"2021-01-27T15:05:04.757672Z\", \"created_time_dt\": \"2021-01-27T15:05:04.757672Z\", \"duration\": \"0:01:32\", \"iteration\": \"40\", \"goal\": \"accuracy_max\", \"run_name\": \"StandardScalerWrapper, XGBoostClassifier\", \"run_properties\": \"<azureml.automl.runtime.shared.model_wrappers.StandardScalerWrapper object at 0x7fd8c8792da0\", \"primary_metric\": 0.96356278, \"best_metric\": 0.9717587}, {\"run_id\": \"AutoML_8d692d64-e5eb-4ca1-b421-5728dcd27d44_41\", \"run_number\": 46, \"metric\": null, \"status\": \"Completed\", \"run_type\": \"azureml.scriptrun\", \"training_percent\": \"100\", \"start_time\": \"2021-01-27T15:06:14.744984Z\", \"end_time\": \"2021-01-27T15:07:06.286064Z\", \"created_time\": \"2021-01-27T15:06:02.224139Z\", \"created_time_dt\": \"2021-01-27T15:06:02.224139Z\", \"duration\": \"0:01:04\", \"iteration\": \"41\", \"goal\": \"accuracy_max\", \"run_name\": \"MaxAbsScaler, LogisticRegression\", \"run_properties\": \"copy=True\", \"primary_metric\": 0.86116336, \"best_metric\": 0.9717587}, {\"run_id\": \"AutoML_8d692d64-e5eb-4ca1-b421-5728dcd27d44_42\", \"run_number\": 47, \"metric\": null, \"status\": \"Completed\", \"run_type\": \"azureml.scriptrun\", \"training_percent\": \"100\", \"start_time\": \"2021-01-27T15:06:47.445248Z\", \"end_time\": \"2021-01-27T15:08:01.472721Z\", \"created_time\": \"2021-01-27T15:06:36.581709Z\", \"created_time_dt\": \"2021-01-27T15:06:36.581709Z\", \"duration\": \"0:01:24\", \"iteration\": \"42\", \"goal\": \"accuracy_max\", \"run_name\": \"SparseNormalizer, XGBoostClassifier\", \"run_properties\": \"<azureml.automl.runtime.shared.model_wrappers.SparseNormalizer object at 0x7feb5a7325f8\", \"primary_metric\": 0.96079758, \"best_metric\": 0.9717587}, {\"run_id\": \"AutoML_8d692d64-e5eb-4ca1-b421-5728dcd27d44_43\", \"run_number\": 48, \"metric\": null, \"status\": \"Completed\", \"run_type\": \"azureml.scriptrun\", \"training_percent\": \"100\", \"start_time\": \"2021-01-27T15:06:53.246902Z\", \"end_time\": \"2021-01-27T15:07:56.968278Z\", \"created_time\": \"2021-01-27T15:06:41.431412Z\", \"created_time_dt\": \"2021-01-27T15:06:41.431412Z\", \"duration\": \"0:01:15\", \"iteration\": \"43\", \"goal\": \"accuracy_max\", \"run_name\": \"SparseNormalizer, XGBoostClassifier\", \"run_properties\": \"<azureml.automl.runtime.shared.model_wrappers.SparseNormalizer object at 0x7ff678f52630\", \"primary_metric\": 0.94529434, \"best_metric\": 0.9717587}, {\"run_id\": \"AutoML_8d692d64-e5eb-4ca1-b421-5728dcd27d44_44\", \"run_number\": 49, \"metric\": null, \"status\": \"Canceled\", \"run_type\": \"azureml.scriptrun\", \"training_percent\": \"100\", \"start_time\": \"2021-01-27T15:06:53.702848Z\", \"end_time\": \"2021-01-27T15:08:10.509619Z\", \"created_time\": \"2021-01-27T15:06:41.552068Z\", \"created_time_dt\": \"2021-01-27T15:06:41.552068Z\", \"duration\": \"0:01:28\", \"iteration\": \"44\", \"goal\": \"accuracy_max\", \"run_name\": \"StandardScalerWrapper, LogisticRegression\", \"run_properties\": \"<azureml.automl.runtime.shared.model_wrappers.StandardScalerWrapper object at 0x7f01b8a62cc0\", \"primary_metric\": 0.86136083, \"best_metric\": 0.9717587}, {\"run_id\": \"AutoML_8d692d64-e5eb-4ca1-b421-5728dcd27d44_45\", \"run_number\": 50, \"metric\": null, \"status\": \"Completed\", \"run_type\": \"azureml.scriptrun\", \"training_percent\": \"100\", \"start_time\": \"2021-01-27T15:06:51.860863Z\", \"end_time\": \"2021-01-27T15:07:51.166584Z\", \"created_time\": \"2021-01-27T15:06:41.802196Z\", \"created_time_dt\": \"2021-01-27T15:06:41.802196Z\", \"duration\": \"0:01:09\", \"iteration\": \"45\", \"goal\": \"accuracy_max\", \"run_name\": \"MaxAbsScaler, ExtremeRandomTrees\", \"run_properties\": \"copy=True\", \"primary_metric\": 0.83084764, \"best_metric\": 0.9717587}, {\"run_id\": \"AutoML_8d692d64-e5eb-4ca1-b421-5728dcd27d44_46\", \"run_number\": 51, \"metric\": null, \"status\": \"Canceled\", \"run_type\": \"azureml.scriptrun\", \"training_percent\": \"100\", \"start_time\": \"2021-01-27T15:07:56.593114Z\", \"end_time\": \"2021-01-27T15:08:10.012144Z\", \"created_time\": \"2021-01-27T15:07:09.630866Z\", \"created_time_dt\": \"2021-01-27T15:07:09.630866Z\", \"duration\": \"0:01:00\", \"iteration\": \"46\", \"goal\": null, \"run_name\": \"Canceled\", \"run_properties\": null}, {\"run_id\": \"AutoML_8d692d64-e5eb-4ca1-b421-5728dcd27d44_47\", \"run_number\": 52, \"metric\": null, \"status\": \"Canceled\", \"run_type\": \"azureml.scriptrun\", \"training_percent\": \"100\", \"start_time\": \"2021-01-27T15:08:05.436887Z\", \"end_time\": \"2021-01-27T15:08:13.277356Z\", \"created_time\": \"2021-01-27T15:07:54.468469Z\", \"created_time_dt\": \"2021-01-27T15:07:54.468469Z\", \"duration\": \"0:00:18\", \"iteration\": \"47\", \"goal\": null, \"run_name\": \"Canceled\", \"run_properties\": null}, {\"run_id\": \"AutoML_8d692d64-e5eb-4ca1-b421-5728dcd27d44_48\", \"run_number\": 53, \"metric\": null, \"status\": \"Canceled\", \"run_type\": \"azureml.scriptrun\", \"training_percent\": \"100\", \"start_time\": \"2021-01-27T15:08:00.243055Z\", \"end_time\": \"2021-01-27T15:08:17.874487Z\", \"created_time\": \"2021-01-27T15:08:00.243055Z\", \"created_time_dt\": \"2021-01-27T15:08:00.243055Z\", \"duration\": \"0:00:17\", \"iteration\": \"48\", \"goal\": null, \"run_name\": \"Canceled\", \"run_properties\": null}, {\"run_id\": \"AutoML_8d692d64-e5eb-4ca1-b421-5728dcd27d44_50\", \"run_number\": 54, \"metric\": null, \"status\": \"Completed\", \"run_type\": \"azureml.scriptrun\", \"training_percent\": \"100\", \"start_time\": \"2021-01-27T15:08:31.98843Z\", \"end_time\": \"2021-01-27T15:10:42.969967Z\", \"created_time\": \"2021-01-27T15:08:20.314304Z\", \"created_time_dt\": \"2021-01-27T15:08:20.314304Z\", \"duration\": \"0:02:22\", \"iteration\": \"50\", \"goal\": \"accuracy_max\", \"run_name\": \"StackEnsemble\", \"run_properties\": \"base_learners=[('32',\\n                                        Pipeline(memory=None,\\n                                                 steps=[('standardscalerwrapper',\\n                                                         <azureml.automl.runtime.shared.model_wrappers.StandardScalerWrapper object at 0x7f789c6d7470>\", \"primary_metric\": 0.97116623, \"best_metric\": 0.97205512}, {\"run_id\": \"AutoML_8d692d64-e5eb-4ca1-b421-5728dcd27d44_49\", \"run_number\": 55, \"metric\": null, \"status\": \"Completed\", \"run_type\": \"azureml.scriptrun\", \"training_percent\": \"100\", \"start_time\": \"2021-01-27T15:08:33.331395Z\", \"end_time\": \"2021-01-27T15:10:30.685003Z\", \"created_time\": \"2021-01-27T15:08:20.49705Z\", \"created_time_dt\": \"2021-01-27T15:08:20.49705Z\", \"duration\": \"0:02:10\", \"iteration\": \"49\", \"goal\": \"accuracy_max\", \"run_name\": \"VotingEnsemble\", \"run_properties\": \"classification_labels=None,\\n                              estimators=[('32',\\n                                           Pipeline(memory=None,\\n                                                    steps=[('standardscalerwrapper',\\n                                                            <azureml.automl.runtime.shared.model_wrappers.StandardScalerWrapper object at 0x7f60b0078da0>\", \"primary_metric\": 0.97205512, \"best_metric\": 0.97205512}], \"children_metrics\": {\"categories\": [0], \"series\": {\"AUC_weighted\": [{\"categories\": [\"0\", \"1\", \"2\", \"3\", \"4\", \"5\", \"6\", \"7\", \"8\", \"9\", \"10\", \"11\", \"12\", \"13\", \"14\", \"15\", \"16\", \"17\", \"18\", \"19\", \"20\", \"21\", \"22\", \"23\", \"24\", \"25\", \"26\", \"27\", \"28\", \"29\", \"30\", \"31\", \"32\", \"33\", \"34\", \"35\", \"36\", \"37\", \"38\", \"39\", \"40\", \"41\", \"42\", \"43\", \"44\", \"45\", \"49\", \"50\"], \"mode\": \"markers\", \"name\": \"AUC_weighted\", \"stepped\": false, \"type\": \"scatter\", \"data\": [0.9920575780918782, 0.9888548014173875, 0.9203660231862342, 0.9016220291456314, 0.9232586081164719, 0.8817493671529966, 0.9825238154189558, 0.9907526729577789, 0.9907405862997501, 0.988722082352789, 0.9736525541002377, 0.9500460302951749, 0.9188445675925658, 0.9095383964939634, 0.8984631104315449, 0.9509897812171021, 0.7237424686165812, 0.9276458574312159, 0.9344450604863305, 0.9304066537032947, 0.9320212424800872, 0.9835685519083815, 0.9868861898720627, 0.9256196544505197, 0.9894999945774723, 0.9322020876364626, 0.9861575508963392, 0.9911782607608065, 0.9670287163751636, 0.9900525022894335, 0.9184613447828908, 0.9913749738298835, 0.992911615157445, 0.9904271800275511, 0.9912623218323492, 0.5, 0.9909295272785017, 0.9908887196060547, 0.9905217776730334, 0.9902249548918166, 0.9903761075764911, 0.932859186681302, 0.9872233255439312, 0.9704146583019174, 0.9321807761185977, 0.9072248945454197, 0.9925821499100321, 0.9916798857723205]}, {\"categories\": [\"0\", \"1\", \"2\", \"3\", \"4\", \"5\", \"6\", \"7\", \"8\", \"9\", \"10\", \"11\", \"12\", \"13\", \"14\", \"15\", \"16\", \"17\", \"18\", \"19\", \"20\", \"21\", \"22\", \"23\", \"24\", \"25\", \"26\", \"27\", \"28\", \"29\", \"30\", \"31\", \"32\", \"33\", \"34\", \"35\", \"36\", \"37\", \"38\", \"39\", \"40\", \"41\", \"42\", \"43\", \"44\", \"45\", \"49\", \"50\"], \"mode\": \"lines\", \"name\": \"AUC_weighted_max\", \"stepped\": true, \"type\": \"scatter\", \"data\": [0.9920575780918782, 0.9920575780918782, 0.9920575780918782, 0.9920575780918782, 0.9920575780918782, 0.9920575780918782, 0.9920575780918782, 0.9920575780918782, 0.9920575780918782, 0.9920575780918782, 0.9920575780918782, 0.9920575780918782, 0.9920575780918782, 0.9920575780918782, 0.9920575780918782, 0.9920575780918782, 0.9920575780918782, 0.9920575780918782, 0.9920575780918782, 0.9920575780918782, 0.9920575780918782, 0.9920575780918782, 0.9920575780918782, 0.9920575780918782, 0.9920575780918782, 0.9920575780918782, 0.9920575780918782, 0.9920575780918782, 0.9920575780918782, 0.9920575780918782, 0.9920575780918782, 0.9920575780918782, 0.992911615157445, 0.992911615157445, 0.992911615157445, 0.992911615157445, 0.992911615157445, 0.992911615157445, 0.992911615157445, 0.992911615157445, 0.992911615157445, 0.992911615157445, 0.992911615157445, 0.992911615157445, 0.992911615157445, 0.992911615157445, 0.992911615157445, 0.992911615157445]}], \"recall_score_micro\": [{\"categories\": [\"0\", \"1\", \"2\", \"3\", \"4\", \"5\", \"6\", \"7\", \"8\", \"9\", \"10\", \"11\", \"12\", \"13\", \"14\", \"15\", \"16\", \"17\", \"18\", \"19\", \"20\", \"21\", \"22\", \"23\", \"24\", \"25\", \"26\", \"27\", \"28\", \"29\", \"30\", \"31\", \"32\", \"33\", \"34\", \"35\", \"36\", \"37\", \"38\", \"39\", \"40\", \"41\", \"42\", \"43\", \"44\", \"45\", \"49\", \"50\"], \"mode\": \"markers\", \"name\": \"recall_score_micro\", \"stepped\": false, \"type\": \"scatter\", \"data\": [0.9690924463167749, 0.9603042829559417, 0.8614606810602071, 0.8404261014569071, 0.8502992510678135, 0.7665650049733778, 0.9552678895325025, 0.964747791235153, 0.9661300684570827, 0.9624765666140074, 0.9450975659703937, 0.8984896729272717, 0.8395371540576911, 0.8917746474752793, 0.8393396817038207, 0.8992786261775203, 0.8393396817038207, 0.9107335439705109, 0.9079688139956703, 0.9116221988180914, 0.9111283131472705, 0.9550706512199404, 0.9596128079105962, 0.9120171727809958, 0.9639575800128722, 0.8980939383301152, 0.958329062079457, 0.9675125212099935, 0.9325563747001345, 0.9650437072143233, 0.8393396817038207, 0.9678088467614533, 0.971758703411152, 0.9653401497864373, 0.9680063776256508, 0.8393396817038207, 0.9655376806506348, 0.9659327716341934, 0.9668213972266105, 0.9639576092680359, 0.963562781580949, 0.8611633608331871, 0.960797583523492, 0.9452943362003393, 0.8613608331870575, 0.8308476391083026, 0.9720551167281024, 0.9711662278392135]}, {\"categories\": [\"0\", \"1\", \"2\", \"3\", \"4\", \"5\", \"6\", \"7\", \"8\", \"9\", \"10\", \"11\", \"12\", \"13\", \"14\", \"15\", \"16\", \"17\", \"18\", \"19\", \"20\", \"21\", \"22\", \"23\", \"24\", \"25\", \"26\", \"27\", \"28\", \"29\", \"30\", \"31\", \"32\", \"33\", \"34\", \"35\", \"36\", \"37\", \"38\", \"39\", \"40\", \"41\", \"42\", \"43\", \"44\", \"45\", \"49\", \"50\"], \"mode\": \"lines\", \"name\": \"recall_score_micro_max\", \"stepped\": true, \"type\": \"scatter\", \"data\": [0.9690924463167749, 0.9690924463167749, 0.9690924463167749, 0.9690924463167749, 0.9690924463167749, 0.9690924463167749, 0.9690924463167749, 0.9690924463167749, 0.9690924463167749, 0.9690924463167749, 0.9690924463167749, 0.9690924463167749, 0.9690924463167749, 0.9690924463167749, 0.9690924463167749, 0.9690924463167749, 0.9690924463167749, 0.9690924463167749, 0.9690924463167749, 0.9690924463167749, 0.9690924463167749, 0.9690924463167749, 0.9690924463167749, 0.9690924463167749, 0.9690924463167749, 0.9690924463167749, 0.9690924463167749, 0.9690924463167749, 0.9690924463167749, 0.9690924463167749, 0.9690924463167749, 0.9690924463167749, 0.971758703411152, 0.971758703411152, 0.971758703411152, 0.971758703411152, 0.971758703411152, 0.971758703411152, 0.971758703411152, 0.971758703411152, 0.971758703411152, 0.971758703411152, 0.971758703411152, 0.971758703411152, 0.971758703411152, 0.971758703411152, 0.9720551167281024, 0.9720551167281024]}], \"weighted_accuracy\": [{\"categories\": [\"0\", \"1\", \"2\", \"3\", \"4\", \"5\", \"6\", \"7\", \"8\", \"9\", \"10\", \"11\", \"12\", \"13\", \"14\", \"15\", \"16\", \"17\", \"18\", \"19\", \"20\", \"21\", \"22\", \"23\", \"24\", \"25\", \"26\", \"27\", \"28\", \"29\", \"30\", \"31\", \"32\", \"33\", \"34\", \"35\", \"36\", \"37\", \"38\", \"39\", \"40\", \"41\", \"42\", \"43\", \"44\", \"45\", \"49\", \"50\"], \"mode\": \"markers\", \"name\": \"weighted_accuracy\", \"stepped\": false, \"type\": \"scatter\", \"data\": [0.9830073442583588, 0.9810769896365579, 0.9677549325728858, 0.9648483625626589, 0.8518239833789866, 0.7568610366256107, 0.9770163619147145, 0.9839831993499796, 0.9833632490354275, 0.9821036810715481, 0.9723193277034966, 0.9634434906094533, 0.9646378213666372, 0.9511203243047893, 0.9645956071695932, 0.9679686797962445, 0.9645956071695932, 0.9565715282258743, 0.9600060204191697, 0.9565824274698912, 0.9524363964103425, 0.9775358818479685, 0.9806351460567324, 0.9619909070476478, 0.9818689066618993, 0.9626826639554459, 0.9794290827372669, 0.983667206889916, 0.9707273901368296, 0.9830253838389685, 0.9645956071695932, 0.9842870914448009, 0.9849763358932728, 0.9825515048264418, 0.9828650896034429, 0.9645956071695932, 0.9825895401283898, 0.9836928183136847, 0.9828771136699929, 0.9826932872251626, 0.9823428698467417, 0.8643828595684412, 0.9813472021640535, 0.9721479741598423, 0.864607159071391, 0.8316520222941074, 0.985047319287878, 0.9841083634629276]}, {\"categories\": [\"0\", \"1\", \"2\", \"3\", \"4\", \"5\", \"6\", \"7\", \"8\", \"9\", \"10\", \"11\", \"12\", \"13\", \"14\", \"15\", \"16\", \"17\", \"18\", \"19\", \"20\", \"21\", \"22\", \"23\", \"24\", \"25\", \"26\", \"27\", \"28\", \"29\", \"30\", \"31\", \"32\", \"33\", \"34\", \"35\", \"36\", \"37\", \"38\", \"39\", \"40\", \"41\", \"42\", \"43\", \"44\", \"45\", \"49\", \"50\"], \"mode\": \"lines\", \"name\": \"weighted_accuracy_max\", \"stepped\": true, \"type\": \"scatter\", \"data\": [0.9830073442583588, 0.9830073442583588, 0.9830073442583588, 0.9830073442583588, 0.9830073442583588, 0.9830073442583588, 0.9830073442583588, 0.9839831993499796, 0.9839831993499796, 0.9839831993499796, 0.9839831993499796, 0.9839831993499796, 0.9839831993499796, 0.9839831993499796, 0.9839831993499796, 0.9839831993499796, 0.9839831993499796, 0.9839831993499796, 0.9839831993499796, 0.9839831993499796, 0.9839831993499796, 0.9839831993499796, 0.9839831993499796, 0.9839831993499796, 0.9839831993499796, 0.9839831993499796, 0.9839831993499796, 0.9839831993499796, 0.9839831993499796, 0.9839831993499796, 0.9839831993499796, 0.9842870914448009, 0.9849763358932728, 0.9849763358932728, 0.9849763358932728, 0.9849763358932728, 0.9849763358932728, 0.9849763358932728, 0.9849763358932728, 0.9849763358932728, 0.9849763358932728, 0.9849763358932728, 0.9849763358932728, 0.9849763358932728, 0.9849763358932728, 0.9849763358932728, 0.985047319287878, 0.985047319287878]}], \"recall_score_weighted\": [{\"categories\": [\"0\", \"1\", \"2\", \"3\", \"4\", \"5\", \"6\", \"7\", \"8\", \"9\", \"10\", \"11\", \"12\", \"13\", \"14\", \"15\", \"16\", \"17\", \"18\", \"19\", \"20\", \"21\", \"22\", \"23\", \"24\", \"25\", \"26\", \"27\", \"28\", \"29\", \"30\", \"31\", \"32\", \"33\", \"34\", \"35\", \"36\", \"37\", \"38\", \"39\", \"40\", \"41\", \"42\", \"43\", \"44\", \"45\", \"49\", \"50\"], \"mode\": \"markers\", \"name\": \"recall_score_weighted\", \"stepped\": false, \"type\": \"scatter\", \"data\": [0.9690924463167749, 0.9603042829559417, 0.8614606810602071, 0.8404261014569071, 0.8502992510678135, 0.7665650049733778, 0.9552678895325025, 0.964747791235153, 0.9661300684570827, 0.9624765666140074, 0.9450975659703937, 0.8984896729272717, 0.8395371540576911, 0.8917746474752793, 0.8393396817038207, 0.8992786261775203, 0.8393396817038207, 0.9107335439705109, 0.9079688139956703, 0.9116221988180914, 0.9111283131472705, 0.9550706512199404, 0.9596128079105962, 0.9120171727809958, 0.9639575800128722, 0.8980939383301152, 0.958329062079457, 0.9675125212099935, 0.9325563747001345, 0.9650437072143233, 0.8393396817038207, 0.9678088467614533, 0.971758703411152, 0.9653401497864373, 0.9680063776256508, 0.8393396817038207, 0.9655376806506348, 0.9659327716341934, 0.9668213972266105, 0.9639576092680359, 0.963562781580949, 0.8611633608331871, 0.960797583523492, 0.9452943362003393, 0.8613608331870575, 0.8308476391083026, 0.9720551167281024, 0.9711662278392135]}, {\"categories\": [\"0\", \"1\", \"2\", \"3\", \"4\", \"5\", \"6\", \"7\", \"8\", \"9\", \"10\", \"11\", \"12\", \"13\", \"14\", \"15\", \"16\", \"17\", \"18\", \"19\", \"20\", \"21\", \"22\", \"23\", \"24\", \"25\", \"26\", \"27\", \"28\", \"29\", \"30\", \"31\", \"32\", \"33\", \"34\", \"35\", \"36\", \"37\", \"38\", \"39\", \"40\", \"41\", \"42\", \"43\", \"44\", \"45\", \"49\", \"50\"], \"mode\": \"lines\", \"name\": \"recall_score_weighted_max\", \"stepped\": true, \"type\": \"scatter\", \"data\": [0.9690924463167749, 0.9690924463167749, 0.9690924463167749, 0.9690924463167749, 0.9690924463167749, 0.9690924463167749, 0.9690924463167749, 0.9690924463167749, 0.9690924463167749, 0.9690924463167749, 0.9690924463167749, 0.9690924463167749, 0.9690924463167749, 0.9690924463167749, 0.9690924463167749, 0.9690924463167749, 0.9690924463167749, 0.9690924463167749, 0.9690924463167749, 0.9690924463167749, 0.9690924463167749, 0.9690924463167749, 0.9690924463167749, 0.9690924463167749, 0.9690924463167749, 0.9690924463167749, 0.9690924463167749, 0.9690924463167749, 0.9690924463167749, 0.9690924463167749, 0.9690924463167749, 0.9690924463167749, 0.971758703411152, 0.971758703411152, 0.971758703411152, 0.971758703411152, 0.971758703411152, 0.971758703411152, 0.971758703411152, 0.971758703411152, 0.971758703411152, 0.971758703411152, 0.971758703411152, 0.971758703411152, 0.971758703411152, 0.971758703411152, 0.9720551167281024, 0.9720551167281024]}], \"log_loss\": [{\"categories\": [\"0\", \"1\", \"2\", \"3\", \"4\", \"5\", \"6\", \"7\", \"8\", \"9\", \"10\", \"11\", \"12\", \"13\", \"14\", \"15\", \"16\", \"17\", \"18\", \"19\", \"20\", \"21\", \"22\", \"23\", \"24\", \"25\", \"26\", \"27\", \"28\", \"29\", \"30\", \"31\", \"32\", \"33\", \"34\", \"35\", \"36\", \"37\", \"38\", \"39\", \"40\", \"41\", \"42\", \"43\", \"44\", \"45\", \"49\", \"50\"], \"mode\": \"markers\", \"name\": \"log_loss\", \"stepped\": false, \"type\": \"scatter\", \"data\": [0.0803901865488858, 0.1105145632393635, 0.2966022944471951, 0.32843414267504717, 0.4666106803655831, 0.5177341895691013, 0.14717467317079877, 0.09330998839490913, 0.09160078892614475, 0.10527354662461168, 0.3016359814093408, 0.24453665946091344, 0.3117945580629096, 0.38040455456767147, 0.32053091539813733, 0.2573778209684448, 0.3893659077422038, 0.22713464843716388, 0.237049571507607, 0.22469544450568257, 0.22449727797345598, 0.14733876453397157, 0.11160320617532475, 0.2320777773074079, 0.09637435358972957, 0.260497006959321, 0.11754607293581922, 0.0865966536917896, 0.319618739133668, 0.0931343304656596, 0.44087785021237846, 0.08646745917536762, 0.07864896798767733, 0.09025504921896248, 0.08630128312778573, 0.4430479289472722, 0.0981375007719754, 0.09024921689717162, 0.09429218579091149, 0.09303392510537976, 0.1035178482538744, 0.324333170527425, 0.10921910712031507, 0.2944230535643964, 0.3256217029557041, 0.460988922464562, 0.101750128683796, 0.08786208164542468]}, {\"categories\": [\"0\", \"1\", \"2\", \"3\", \"4\", \"5\", \"6\", \"7\", \"8\", \"9\", \"10\", \"11\", \"12\", \"13\", \"14\", \"15\", \"16\", \"17\", \"18\", \"19\", \"20\", \"21\", \"22\", \"23\", \"24\", \"25\", \"26\", \"27\", \"28\", \"29\", \"30\", \"31\", \"32\", \"33\", \"34\", \"35\", \"36\", \"37\", \"38\", \"39\", \"40\", \"41\", \"42\", \"43\", \"44\", \"45\", \"49\", \"50\"], \"mode\": \"lines\", \"name\": \"log_loss_min\", \"stepped\": true, \"type\": \"scatter\", \"data\": [0.0803901865488858, 0.0803901865488858, 0.0803901865488858, 0.0803901865488858, 0.0803901865488858, 0.0803901865488858, 0.0803901865488858, 0.0803901865488858, 0.0803901865488858, 0.0803901865488858, 0.0803901865488858, 0.0803901865488858, 0.0803901865488858, 0.0803901865488858, 0.0803901865488858, 0.0803901865488858, 0.0803901865488858, 0.0803901865488858, 0.0803901865488858, 0.0803901865488858, 0.0803901865488858, 0.0803901865488858, 0.0803901865488858, 0.0803901865488858, 0.0803901865488858, 0.0803901865488858, 0.0803901865488858, 0.0803901865488858, 0.0803901865488858, 0.0803901865488858, 0.0803901865488858, 0.0803901865488858, 0.07864896798767733, 0.07864896798767733, 0.07864896798767733, 0.07864896798767733, 0.07864896798767733, 0.07864896798767733, 0.07864896798767733, 0.07864896798767733, 0.07864896798767733, 0.07864896798767733, 0.07864896798767733, 0.07864896798767733, 0.07864896798767733, 0.07864896798767733, 0.07864896798767733, 0.07864896798767733]}], \"AUC_macro\": [{\"categories\": [\"0\", \"1\", \"2\", \"3\", \"4\", \"5\", \"6\", \"7\", \"8\", \"9\", \"10\", \"11\", \"12\", \"13\", \"14\", \"15\", \"16\", \"17\", \"18\", \"19\", \"20\", \"21\", \"22\", \"23\", \"24\", \"25\", \"26\", \"27\", \"28\", \"29\", \"30\", \"31\", \"32\", \"33\", \"34\", \"35\", \"36\", \"37\", \"38\", \"39\", \"40\", \"41\", \"42\", \"43\", \"44\", \"45\", \"49\", \"50\"], \"mode\": \"markers\", \"name\": \"AUC_macro\", \"stepped\": false, \"type\": \"scatter\", \"data\": [0.992057578091878, 0.9888548014173875, 0.9203660231862342, 0.9016220291456314, 0.9232586081164719, 0.8817493671529967, 0.9825238154189558, 0.9907526729577789, 0.9907405862997501, 0.988722082352789, 0.9736525541002378, 0.9500460302951749, 0.9188445675925658, 0.9095383964939633, 0.8984631104315449, 0.9509897812171021, 0.7237424686165811, 0.9276458574312159, 0.9344450604863305, 0.9304066537032947, 0.932021242480087, 0.9835685519083815, 0.9868861898720627, 0.9256196544505197, 0.9894999945774723, 0.9322020876364627, 0.9861575508963392, 0.9911782607608067, 0.9670287163751636, 0.9900525022894335, 0.9184613447828905, 0.9913749738298835, 0.992911615157445, 0.9904271800275514, 0.9912623218323492, 0.5, 0.9909295272785017, 0.9908887196060547, 0.9905217776730334, 0.9902249548918166, 0.9903761075764911, 0.9328591866813017, 0.9872233255439311, 0.9704146583019174, 0.9321807761185977, 0.9072248945454194, 0.992582149910032, 0.9916798857723205]}, {\"categories\": [\"0\", \"1\", \"2\", \"3\", \"4\", \"5\", \"6\", \"7\", \"8\", \"9\", \"10\", \"11\", \"12\", \"13\", \"14\", \"15\", \"16\", \"17\", \"18\", \"19\", \"20\", \"21\", \"22\", \"23\", \"24\", \"25\", \"26\", \"27\", \"28\", \"29\", \"30\", \"31\", \"32\", \"33\", \"34\", \"35\", \"36\", \"37\", \"38\", \"39\", \"40\", \"41\", \"42\", \"43\", \"44\", \"45\", \"49\", \"50\"], \"mode\": \"lines\", \"name\": \"AUC_macro_max\", \"stepped\": true, \"type\": \"scatter\", \"data\": [0.992057578091878, 0.992057578091878, 0.992057578091878, 0.992057578091878, 0.992057578091878, 0.992057578091878, 0.992057578091878, 0.992057578091878, 0.992057578091878, 0.992057578091878, 0.992057578091878, 0.992057578091878, 0.992057578091878, 0.992057578091878, 0.992057578091878, 0.992057578091878, 0.992057578091878, 0.992057578091878, 0.992057578091878, 0.992057578091878, 0.992057578091878, 0.992057578091878, 0.992057578091878, 0.992057578091878, 0.992057578091878, 0.992057578091878, 0.992057578091878, 0.992057578091878, 0.992057578091878, 0.992057578091878, 0.992057578091878, 0.992057578091878, 0.992911615157445, 0.992911615157445, 0.992911615157445, 0.992911615157445, 0.992911615157445, 0.992911615157445, 0.992911615157445, 0.992911615157445, 0.992911615157445, 0.992911615157445, 0.992911615157445, 0.992911615157445, 0.992911615157445, 0.992911615157445, 0.992911615157445, 0.992911615157445]}], \"precision_score_micro\": [{\"categories\": [\"0\", \"1\", \"2\", \"3\", \"4\", \"5\", \"6\", \"7\", \"8\", \"9\", \"10\", \"11\", \"12\", \"13\", \"14\", \"15\", \"16\", \"17\", \"18\", \"19\", \"20\", \"21\", \"22\", \"23\", \"24\", \"25\", \"26\", \"27\", \"28\", \"29\", \"30\", \"31\", \"32\", \"33\", \"34\", \"35\", \"36\", \"37\", \"38\", \"39\", \"40\", \"41\", \"42\", \"43\", \"44\", \"45\", \"49\", \"50\"], \"mode\": \"markers\", \"name\": \"precision_score_micro\", \"stepped\": false, \"type\": \"scatter\", \"data\": [0.9690924463167749, 0.9603042829559417, 0.8614606810602071, 0.8404261014569071, 0.8502992510678135, 0.7665650049733778, 0.9552678895325025, 0.964747791235153, 0.9661300684570827, 0.9624765666140074, 0.9450975659703937, 0.8984896729272717, 0.8395371540576911, 0.8917746474752793, 0.8393396817038207, 0.8992786261775203, 0.8393396817038207, 0.9107335439705109, 0.9079688139956703, 0.9116221988180914, 0.9111283131472705, 0.9550706512199404, 0.9596128079105962, 0.9120171727809958, 0.9639575800128722, 0.8980939383301152, 0.958329062079457, 0.9675125212099935, 0.9325563747001345, 0.9650437072143233, 0.8393396817038207, 0.9678088467614533, 0.971758703411152, 0.9653401497864373, 0.9680063776256508, 0.8393396817038207, 0.9655376806506348, 0.9659327716341934, 0.9668213972266105, 0.9639576092680359, 0.963562781580949, 0.8611633608331871, 0.960797583523492, 0.9452943362003393, 0.8613608331870575, 0.8308476391083026, 0.9720551167281024, 0.9711662278392135]}, {\"categories\": [\"0\", \"1\", \"2\", \"3\", \"4\", \"5\", \"6\", \"7\", \"8\", \"9\", \"10\", \"11\", \"12\", \"13\", \"14\", \"15\", \"16\", \"17\", \"18\", \"19\", \"20\", \"21\", \"22\", \"23\", \"24\", \"25\", \"26\", \"27\", \"28\", \"29\", \"30\", \"31\", \"32\", \"33\", \"34\", \"35\", \"36\", \"37\", \"38\", \"39\", \"40\", \"41\", \"42\", \"43\", \"44\", \"45\", \"49\", \"50\"], \"mode\": \"lines\", \"name\": \"precision_score_micro_max\", \"stepped\": true, \"type\": \"scatter\", \"data\": [0.9690924463167749, 0.9690924463167749, 0.9690924463167749, 0.9690924463167749, 0.9690924463167749, 0.9690924463167749, 0.9690924463167749, 0.9690924463167749, 0.9690924463167749, 0.9690924463167749, 0.9690924463167749, 0.9690924463167749, 0.9690924463167749, 0.9690924463167749, 0.9690924463167749, 0.9690924463167749, 0.9690924463167749, 0.9690924463167749, 0.9690924463167749, 0.9690924463167749, 0.9690924463167749, 0.9690924463167749, 0.9690924463167749, 0.9690924463167749, 0.9690924463167749, 0.9690924463167749, 0.9690924463167749, 0.9690924463167749, 0.9690924463167749, 0.9690924463167749, 0.9690924463167749, 0.9690924463167749, 0.971758703411152, 0.971758703411152, 0.971758703411152, 0.971758703411152, 0.971758703411152, 0.971758703411152, 0.971758703411152, 0.971758703411152, 0.971758703411152, 0.971758703411152, 0.971758703411152, 0.971758703411152, 0.971758703411152, 0.971758703411152, 0.9720551167281024, 0.9720551167281024]}], \"recall_score_macro\": [{\"categories\": [\"0\", \"1\", \"2\", \"3\", \"4\", \"5\", \"6\", \"7\", \"8\", \"9\", \"10\", \"11\", \"12\", \"13\", \"14\", \"15\", \"16\", \"17\", \"18\", \"19\", \"20\", \"21\", \"22\", \"23\", \"24\", \"25\", \"26\", \"27\", \"28\", \"29\", \"30\", \"31\", \"32\", \"33\", \"34\", \"35\", \"36\", \"37\", \"38\", \"39\", \"40\", \"41\", \"42\", \"43\", \"44\", \"45\", \"49\", \"50\"], \"mode\": \"markers\", \"name\": \"recall_score_macro\", \"stepped\": false, \"type\": \"scatter\", \"data\": [0.9314043416327399, 0.9040121099643081, 0.5725112120284297, 0.5032391048292109, 0.8464549327350278, 0.7929099757988892, 0.8964903911397976, 0.9125994338674591, 0.9194740939472789, 0.909316093371718, 0.871431541356106, 0.722425764552554, 0.5006284323899147, 0.7310910263034147, 0.5, 0.7134479943412143, 0.5, 0.7866556609061958, 0.7671004754051828, 0.7899448777778799, 0.7992854145650159, 0.8942596213631671, 0.9027605622922869, 0.7767368834816598, 0.9154992356098565, 0.723206957922408, 0.9013124570190953, 0.9237950067717106, 0.8293772760587785, 0.91635578791867, 0.5, 0.9231603538895715, 0.935923536756096, 0.9186795296388226, 0.9277159714779376, 0.5, 0.9193796446012273, 0.9178172159366813, 0.9233186332942815, 0.9132919412917789, 0.9126611933772933, 0.8526032635313342, 0.9052741871688789, 0.8727430584764347, 0.8527441020433808, 0.8286072902207123, 0.9368171368231453, 0.9361214979468694]}, {\"categories\": [\"0\", \"1\", \"2\", \"3\", \"4\", \"5\", \"6\", \"7\", \"8\", \"9\", \"10\", \"11\", \"12\", \"13\", \"14\", \"15\", \"16\", \"17\", \"18\", \"19\", \"20\", \"21\", \"22\", \"23\", \"24\", \"25\", \"26\", \"27\", \"28\", \"29\", \"30\", \"31\", \"32\", \"33\", \"34\", \"35\", \"36\", \"37\", \"38\", \"39\", \"40\", \"41\", \"42\", \"43\", \"44\", \"45\", \"49\", \"50\"], \"mode\": \"lines\", \"name\": \"recall_score_macro_max\", \"stepped\": true, \"type\": \"scatter\", \"data\": [0.9314043416327399, 0.9314043416327399, 0.9314043416327399, 0.9314043416327399, 0.9314043416327399, 0.9314043416327399, 0.9314043416327399, 0.9314043416327399, 0.9314043416327399, 0.9314043416327399, 0.9314043416327399, 0.9314043416327399, 0.9314043416327399, 0.9314043416327399, 0.9314043416327399, 0.9314043416327399, 0.9314043416327399, 0.9314043416327399, 0.9314043416327399, 0.9314043416327399, 0.9314043416327399, 0.9314043416327399, 0.9314043416327399, 0.9314043416327399, 0.9314043416327399, 0.9314043416327399, 0.9314043416327399, 0.9314043416327399, 0.9314043416327399, 0.9314043416327399, 0.9314043416327399, 0.9314043416327399, 0.935923536756096, 0.935923536756096, 0.935923536756096, 0.935923536756096, 0.935923536756096, 0.935923536756096, 0.935923536756096, 0.935923536756096, 0.935923536756096, 0.935923536756096, 0.935923536756096, 0.935923536756096, 0.935923536756096, 0.935923536756096, 0.9368171368231453, 0.9368171368231453]}], \"average_precision_score_weighted\": [{\"categories\": [\"0\", \"1\", \"2\", \"3\", \"4\", \"5\", \"6\", \"7\", \"8\", \"9\", \"10\", \"11\", \"12\", \"13\", \"14\", \"15\", \"16\", \"17\", \"18\", \"19\", \"20\", \"21\", \"22\", \"23\", \"24\", \"25\", \"26\", \"27\", \"28\", \"29\", \"30\", \"31\", \"32\", \"33\", \"34\", \"35\", \"36\", \"37\", \"38\", \"39\", \"40\", \"41\", \"42\", \"43\", \"44\", \"45\", \"49\", \"50\"], \"mode\": \"markers\", \"name\": \"average_precision_score_weighted\", \"stepped\": false, \"type\": \"scatter\", \"data\": [0.9932731307994235, 0.9903121269032459, 0.9415770250055413, 0.9336572563417268, 0.9448285977230458, 0.9142910874430377, 0.9863391273871396, 0.9921683664203726, 0.992004385517849, 0.990502466389236, 0.9802261898638879, 0.9582199177840885, 0.9432462941117389, 0.9349663590450739, 0.9292504250994463, 0.9598764012538249, 0.8213355908715055, 0.9502573836581174, 0.9514600159361303, 0.9514438015319048, 0.9520413505263546, 0.9870549517153844, 0.9893477861295789, 0.9492234017973109, 0.9910245814312996, 0.9485708106395832, 0.9884817337041137, 0.9925158089768388, 0.9729015155947769, 0.9915936703948081, 0.9424693340143128, 0.9925615622445529, 0.9937250800557424, 0.9918742333417451, 0.9924133051631836, 0.730357391093846, 0.9923080276226587, 0.9923345799911346, 0.9919564602325689, 0.9916766954081405, 0.9915175099639928, 0.9507518925254924, 0.9896412043495039, 0.9780652023866289, 0.9501824175070088, 0.9349042640889488, 0.9935212975393259, 0.9931619487364768]}, {\"categories\": [\"0\", \"1\", \"2\", \"3\", \"4\", \"5\", \"6\", \"7\", \"8\", \"9\", \"10\", \"11\", \"12\", \"13\", \"14\", \"15\", \"16\", \"17\", \"18\", \"19\", \"20\", \"21\", \"22\", \"23\", \"24\", \"25\", \"26\", \"27\", \"28\", \"29\", \"30\", \"31\", \"32\", \"33\", \"34\", \"35\", \"36\", \"37\", \"38\", \"39\", \"40\", \"41\", \"42\", \"43\", \"44\", \"45\", \"49\", \"50\"], \"mode\": \"lines\", \"name\": \"average_precision_score_weighted_max\", \"stepped\": true, \"type\": \"scatter\", \"data\": [0.9932731307994235, 0.9932731307994235, 0.9932731307994235, 0.9932731307994235, 0.9932731307994235, 0.9932731307994235, 0.9932731307994235, 0.9932731307994235, 0.9932731307994235, 0.9932731307994235, 0.9932731307994235, 0.9932731307994235, 0.9932731307994235, 0.9932731307994235, 0.9932731307994235, 0.9932731307994235, 0.9932731307994235, 0.9932731307994235, 0.9932731307994235, 0.9932731307994235, 0.9932731307994235, 0.9932731307994235, 0.9932731307994235, 0.9932731307994235, 0.9932731307994235, 0.9932731307994235, 0.9932731307994235, 0.9932731307994235, 0.9932731307994235, 0.9932731307994235, 0.9932731307994235, 0.9932731307994235, 0.9937250800557424, 0.9937250800557424, 0.9937250800557424, 0.9937250800557424, 0.9937250800557424, 0.9937250800557424, 0.9937250800557424, 0.9937250800557424, 0.9937250800557424, 0.9937250800557424, 0.9937250800557424, 0.9937250800557424, 0.9937250800557424, 0.9937250800557424, 0.9937250800557424, 0.9937250800557424]}], \"average_precision_score_micro\": [{\"categories\": [\"0\", \"1\", \"2\", \"3\", \"4\", \"5\", \"6\", \"7\", \"8\", \"9\", \"10\", \"11\", \"12\", \"13\", \"14\", \"15\", \"16\", \"17\", \"18\", \"19\", \"20\", \"21\", \"22\", \"23\", \"24\", \"25\", \"26\", \"27\", \"28\", \"29\", \"30\", \"31\", \"32\", \"33\", \"34\", \"35\", \"36\", \"37\", \"38\", \"39\", \"40\", \"41\", \"42\", \"43\", \"44\", \"45\", \"49\", \"50\"], \"mode\": \"markers\", \"name\": \"average_precision_score_micro\", \"stepped\": false, \"type\": \"scatter\", \"data\": [0.9959695159351701, 0.9940395247952728, 0.9556874256047815, 0.9484048555348855, 0.9294701070854073, 0.8702908595019223, 0.9913929490917749, 0.9950718081291913, 0.9951254935036243, 0.9941030827629684, 0.9869312507237037, 0.9708435646263363, 0.9539227170422381, 0.9567922101946431, 0.9480327960479458, 0.970346824384673, 0.8780170019010162, 0.967920116426916, 0.9691774382408807, 0.9688812307859157, 0.969466430206058, 0.9918317324404127, 0.9933392898658807, 0.9667887146629314, 0.9945569481444968, 0.9658713550549374, 0.9928524229805052, 0.9954690906862212, 0.9825743546888684, 0.9948094572588211, 0.9540149103162946, 0.995454090433414, 0.9962621791301188, 0.9950684776312463, 0.9954864484452077, 0.7848485363988332, 0.9952786382312242, 0.9951606755337646, 0.995150821440708, 0.9949150172206144, 0.9947753104064665, 0.936162656164372, 0.9934511679883941, 0.9854801765019993, 0.9355167225569959, 0.9068557928802394, 0.9960225408442837, 0.995469135629167]}, {\"categories\": [\"0\", \"1\", \"2\", \"3\", \"4\", \"5\", \"6\", \"7\", \"8\", \"9\", \"10\", \"11\", \"12\", \"13\", \"14\", \"15\", \"16\", \"17\", \"18\", \"19\", \"20\", \"21\", \"22\", \"23\", \"24\", \"25\", \"26\", \"27\", \"28\", \"29\", \"30\", \"31\", \"32\", \"33\", \"34\", \"35\", \"36\", \"37\", \"38\", \"39\", \"40\", \"41\", \"42\", \"43\", \"44\", \"45\", \"49\", \"50\"], \"mode\": \"lines\", \"name\": \"average_precision_score_micro_max\", \"stepped\": true, \"type\": \"scatter\", \"data\": [0.9959695159351701, 0.9959695159351701, 0.9959695159351701, 0.9959695159351701, 0.9959695159351701, 0.9959695159351701, 0.9959695159351701, 0.9959695159351701, 0.9959695159351701, 0.9959695159351701, 0.9959695159351701, 0.9959695159351701, 0.9959695159351701, 0.9959695159351701, 0.9959695159351701, 0.9959695159351701, 0.9959695159351701, 0.9959695159351701, 0.9959695159351701, 0.9959695159351701, 0.9959695159351701, 0.9959695159351701, 0.9959695159351701, 0.9959695159351701, 0.9959695159351701, 0.9959695159351701, 0.9959695159351701, 0.9959695159351701, 0.9959695159351701, 0.9959695159351701, 0.9959695159351701, 0.9959695159351701, 0.9962621791301188, 0.9962621791301188, 0.9962621791301188, 0.9962621791301188, 0.9962621791301188, 0.9962621791301188, 0.9962621791301188, 0.9962621791301188, 0.9962621791301188, 0.9962621791301188, 0.9962621791301188, 0.9962621791301188, 0.9962621791301188, 0.9962621791301188, 0.9962621791301188, 0.9962621791301188]}], \"accuracy\": [{\"categories\": [\"0\", \"1\", \"2\", \"3\", \"4\", \"5\", \"6\", \"7\", \"8\", \"9\", \"10\", \"11\", \"12\", \"13\", \"14\", \"15\", \"16\", \"17\", \"18\", \"19\", \"20\", \"21\", \"22\", \"23\", \"24\", \"25\", \"26\", \"27\", \"28\", \"29\", \"30\", \"31\", \"32\", \"33\", \"34\", \"35\", \"36\", \"37\", \"38\", \"39\", \"40\", \"41\", \"42\", \"43\", \"44\", \"45\", \"49\", \"50\"], \"mode\": \"markers\", \"name\": \"accuracy\", \"stepped\": false, \"type\": \"scatter\", \"data\": [0.9690924463167749, 0.9603042829559417, 0.8614606810602071, 0.8404261014569071, 0.8502992510678135, 0.7665650049733778, 0.9552678895325025, 0.964747791235153, 0.9661300684570827, 0.9624765666140074, 0.9450975659703937, 0.8984896729272717, 0.8395371540576911, 0.8917746474752793, 0.8393396817038207, 0.8992786261775203, 0.8393396817038207, 0.9107335439705109, 0.9079688139956703, 0.9116221988180914, 0.9111283131472705, 0.9550706512199404, 0.9596128079105962, 0.9120171727809958, 0.9639575800128722, 0.8980939383301152, 0.958329062079457, 0.9675125212099935, 0.9325563747001345, 0.9650437072143233, 0.8393396817038207, 0.9678088467614533, 0.971758703411152, 0.9653401497864373, 0.9680063776256508, 0.8393396817038207, 0.9655376806506348, 0.9659327716341934, 0.9668213972266105, 0.9639576092680359, 0.963562781580949, 0.8611633608331871, 0.960797583523492, 0.9452943362003393, 0.8613608331870575, 0.8308476391083026, 0.9720551167281024, 0.9711662278392135]}, {\"categories\": [\"0\", \"1\", \"2\", \"3\", \"4\", \"5\", \"6\", \"7\", \"8\", \"9\", \"10\", \"11\", \"12\", \"13\", \"14\", \"15\", \"16\", \"17\", \"18\", \"19\", \"20\", \"21\", \"22\", \"23\", \"24\", \"25\", \"26\", \"27\", \"28\", \"29\", \"30\", \"31\", \"32\", \"33\", \"34\", \"35\", \"36\", \"37\", \"38\", \"39\", \"40\", \"41\", \"42\", \"43\", \"44\", \"45\", \"49\", \"50\"], \"mode\": \"lines\", \"name\": \"accuracy_max\", \"stepped\": true, \"type\": \"scatter\", \"data\": [0.9690924463167749, 0.9690924463167749, 0.9690924463167749, 0.9690924463167749, 0.9690924463167749, 0.9690924463167749, 0.9690924463167749, 0.9690924463167749, 0.9690924463167749, 0.9690924463167749, 0.9690924463167749, 0.9690924463167749, 0.9690924463167749, 0.9690924463167749, 0.9690924463167749, 0.9690924463167749, 0.9690924463167749, 0.9690924463167749, 0.9690924463167749, 0.9690924463167749, 0.9690924463167749, 0.9690924463167749, 0.9690924463167749, 0.9690924463167749, 0.9690924463167749, 0.9690924463167749, 0.9690924463167749, 0.9690924463167749, 0.9690924463167749, 0.9690924463167749, 0.9690924463167749, 0.9690924463167749, 0.971758703411152, 0.971758703411152, 0.971758703411152, 0.971758703411152, 0.971758703411152, 0.971758703411152, 0.971758703411152, 0.971758703411152, 0.971758703411152, 0.971758703411152, 0.971758703411152, 0.971758703411152, 0.971758703411152, 0.971758703411152, 0.9720551167281024, 0.9720551167281024]}], \"precision_score_macro\": [{\"categories\": [\"0\", \"1\", \"2\", \"3\", \"4\", \"5\", \"6\", \"7\", \"8\", \"9\", \"10\", \"11\", \"12\", \"13\", \"14\", \"15\", \"16\", \"17\", \"18\", \"19\", \"20\", \"21\", \"22\", \"23\", \"24\", \"25\", \"26\", \"27\", \"28\", \"29\", \"30\", \"31\", \"32\", \"33\", \"34\", \"35\", \"36\", \"37\", \"38\", \"39\", \"40\", \"41\", \"42\", \"43\", \"44\", \"45\", \"49\", \"50\"], \"mode\": \"markers\", \"name\": \"precision_score_macro\", \"stepped\": false, \"type\": \"scatter\", \"data\": [0.9521154043040085, 0.944764167057652, 0.8877442880543361, 0.5867900974541329, 0.7436811110199771, 0.6759852119294377, 0.933425722830631, 0.9535005185997188, 0.9522701697833892, 0.9480363066634169, 0.9179744534063984, 0.8680410206945931, 0.7530864197530865, 0.8279248742622262, 0.41966984085191034, 0.88619366780255, 0.41966984085191034, 0.8594524692072688, 0.864939671884946, 0.8603580962615537, 0.8522676572561879, 0.934331161037678, 0.9435689353324029, 0.8728751625105867, 0.9478881707372823, 0.8647007898692505, 0.9400838953622198, 0.9533681696005963, 0.9082219587429347, 0.9511783759116318, 0.41966984085191034, 0.9549479256044672, 0.9576171627237553, 0.9499332322910862, 0.9513970330723657, 0.41966984085191034, 0.9500509702816234, 0.9529453399133062, 0.9511048937872446, 0.9500272737088737, 0.9489954689594339, 0.7549250693136801, 0.9457509521084809, 0.9176585019256539, 0.7551377631936971, 0.7233174758354108, 0.9577585834306142, 0.9553098569041225]}, {\"categories\": [\"0\", \"1\", \"2\", \"3\", \"4\", \"5\", \"6\", \"7\", \"8\", \"9\", \"10\", \"11\", \"12\", \"13\", \"14\", \"15\", \"16\", \"17\", \"18\", \"19\", \"20\", \"21\", \"22\", \"23\", \"24\", \"25\", \"26\", \"27\", \"28\", \"29\", \"30\", \"31\", \"32\", \"33\", \"34\", \"35\", \"36\", \"37\", \"38\", \"39\", \"40\", \"41\", \"42\", \"43\", \"44\", \"45\", \"49\", \"50\"], \"mode\": \"lines\", \"name\": \"precision_score_macro_max\", \"stepped\": true, \"type\": \"scatter\", \"data\": [0.9521154043040085, 0.9521154043040085, 0.9521154043040085, 0.9521154043040085, 0.9521154043040085, 0.9521154043040085, 0.9521154043040085, 0.9535005185997188, 0.9535005185997188, 0.9535005185997188, 0.9535005185997188, 0.9535005185997188, 0.9535005185997188, 0.9535005185997188, 0.9535005185997188, 0.9535005185997188, 0.9535005185997188, 0.9535005185997188, 0.9535005185997188, 0.9535005185997188, 0.9535005185997188, 0.9535005185997188, 0.9535005185997188, 0.9535005185997188, 0.9535005185997188, 0.9535005185997188, 0.9535005185997188, 0.9535005185997188, 0.9535005185997188, 0.9535005185997188, 0.9535005185997188, 0.9549479256044672, 0.9576171627237553, 0.9576171627237553, 0.9576171627237553, 0.9576171627237553, 0.9576171627237553, 0.9576171627237553, 0.9576171627237553, 0.9576171627237553, 0.9576171627237553, 0.9576171627237553, 0.9576171627237553, 0.9576171627237553, 0.9576171627237553, 0.9576171627237553, 0.9577585834306142, 0.9577585834306142]}], \"AUC_micro\": [{\"categories\": [\"0\", \"1\", \"2\", \"3\", \"4\", \"5\", \"6\", \"7\", \"8\", \"9\", \"10\", \"11\", \"12\", \"13\", \"14\", \"15\", \"16\", \"17\", \"18\", \"19\", \"20\", \"21\", \"22\", \"23\", \"24\", \"25\", \"26\", \"27\", \"28\", \"29\", \"30\", \"31\", \"32\", \"33\", \"34\", \"35\", \"36\", \"37\", \"38\", \"39\", \"40\", \"41\", \"42\", \"43\", \"44\", \"45\", \"49\", \"50\"], \"mode\": \"markers\", \"name\": \"AUC_micro\", \"stepped\": false, \"type\": \"scatter\", \"data\": [0.9959000035607133, 0.9938827586041428, 0.954431767886662, 0.9476191251215536, 0.9288430028968029, 0.8700674345307005, 0.991231037305235, 0.9949607513920621, 0.9950074137612956, 0.9939695234818312, 0.9868287493972522, 0.9695695522503588, 0.9522746042433653, 0.9569973782785001, 0.9467951947542246, 0.9689901488186213, 0.8997051672042747, 0.9680784982848011, 0.9684435818154901, 0.9689283792963534, 0.9693118190107665, 0.9916439352025703, 0.9931768651393216, 0.9671103305079815, 0.9944304624635865, 0.9646589211989781, 0.9926729768975356, 0.9953665168100133, 0.9828470569443825, 0.9947125395277467, 0.9521773555427062, 0.9954007359882531, 0.9962180867169007, 0.9949851918613732, 0.9953867847717338, 0.8393396817038207, 0.9952155136398849, 0.9950683327647268, 0.995039009373969, 0.9947965519498707, 0.9946406315503206, 0.9361784518853827, 0.9933490153388232, 0.9861273789863164, 0.9357084278857496, 0.9067322149318401, 0.9959635606771245, 0.9954736081207476]}, {\"categories\": [\"0\", \"1\", \"2\", \"3\", \"4\", \"5\", \"6\", \"7\", \"8\", \"9\", \"10\", \"11\", \"12\", \"13\", \"14\", \"15\", \"16\", \"17\", \"18\", \"19\", \"20\", \"21\", \"22\", \"23\", \"24\", \"25\", \"26\", \"27\", \"28\", \"29\", \"30\", \"31\", \"32\", \"33\", \"34\", \"35\", \"36\", \"37\", \"38\", \"39\", \"40\", \"41\", \"42\", \"43\", \"44\", \"45\", \"49\", \"50\"], \"mode\": \"lines\", \"name\": \"AUC_micro_max\", \"stepped\": true, \"type\": \"scatter\", \"data\": [0.9959000035607133, 0.9959000035607133, 0.9959000035607133, 0.9959000035607133, 0.9959000035607133, 0.9959000035607133, 0.9959000035607133, 0.9959000035607133, 0.9959000035607133, 0.9959000035607133, 0.9959000035607133, 0.9959000035607133, 0.9959000035607133, 0.9959000035607133, 0.9959000035607133, 0.9959000035607133, 0.9959000035607133, 0.9959000035607133, 0.9959000035607133, 0.9959000035607133, 0.9959000035607133, 0.9959000035607133, 0.9959000035607133, 0.9959000035607133, 0.9959000035607133, 0.9959000035607133, 0.9959000035607133, 0.9959000035607133, 0.9959000035607133, 0.9959000035607133, 0.9959000035607133, 0.9959000035607133, 0.9962180867169007, 0.9962180867169007, 0.9962180867169007, 0.9962180867169007, 0.9962180867169007, 0.9962180867169007, 0.9962180867169007, 0.9962180867169007, 0.9962180867169007, 0.9962180867169007, 0.9962180867169007, 0.9962180867169007, 0.9962180867169007, 0.9962180867169007, 0.9962180867169007, 0.9962180867169007]}], \"precision_score_weighted\": [{\"categories\": [\"0\", \"1\", \"2\", \"3\", \"4\", \"5\", \"6\", \"7\", \"8\", \"9\", \"10\", \"11\", \"12\", \"13\", \"14\", \"15\", \"16\", \"17\", \"18\", \"19\", \"20\", \"21\", \"22\", \"23\", \"24\", \"25\", \"26\", \"27\", \"28\", \"29\", \"30\", \"31\", \"32\", \"33\", \"34\", \"35\", \"36\", \"37\", \"38\", \"39\", \"40\", \"41\", \"42\", \"43\", \"44\", \"45\", \"49\", \"50\"], \"mode\": \"markers\", \"name\": \"precision_score_weighted\", \"stepped\": false, \"type\": \"scatter\", \"data\": [0.968675144993376, 0.9595392927993626, 0.8688682405206039, 0.7611746542654458, 0.8939962997330683, 0.8681185840828801, 0.9544061012265962, 0.9641992996300672, 0.9656160736682167, 0.9618203055991188, 0.9437457273755315, 0.8935212920239629, 0.8094177906587179, 0.8831778810531973, 0.7045183772507437, 0.8969946964390877, 0.7045183772507437, 0.9056862121537769, 0.9027208244391364, 0.906752766493566, 0.9066524411332683, 0.9541129827353346, 0.958849923557277, 0.9073046720930488, 0.9633321642577921, 0.89252359193758, 0.9574757836184128, 0.9670466824392544, 0.9304179674509014, 0.9644577639078564, 0.7045183772507437, 0.9673203615853755, 0.971400764196078, 0.9647518751667489, 0.9675188288425275, 0.7045183772507437, 0.9649613585985719, 0.9653947234277962, 0.9662895764748248, 0.9633707515255866, 0.9629408188765288, 0.8980865094815061, 0.9600817910333705, 0.9438353380404131, 0.8981597684749886, 0.8849467032882288, 0.9716987830206519, 0.9708115356712804]}, {\"categories\": [\"0\", \"1\", \"2\", \"3\", \"4\", \"5\", \"6\", \"7\", \"8\", \"9\", \"10\", \"11\", \"12\", \"13\", \"14\", \"15\", \"16\", \"17\", \"18\", \"19\", \"20\", \"21\", \"22\", \"23\", \"24\", \"25\", \"26\", \"27\", \"28\", \"29\", \"30\", \"31\", \"32\", \"33\", \"34\", \"35\", \"36\", \"37\", \"38\", \"39\", \"40\", \"41\", \"42\", \"43\", \"44\", \"45\", \"49\", \"50\"], \"mode\": \"lines\", \"name\": \"precision_score_weighted_max\", \"stepped\": true, \"type\": \"scatter\", \"data\": [0.968675144993376, 0.968675144993376, 0.968675144993376, 0.968675144993376, 0.968675144993376, 0.968675144993376, 0.968675144993376, 0.968675144993376, 0.968675144993376, 0.968675144993376, 0.968675144993376, 0.968675144993376, 0.968675144993376, 0.968675144993376, 0.968675144993376, 0.968675144993376, 0.968675144993376, 0.968675144993376, 0.968675144993376, 0.968675144993376, 0.968675144993376, 0.968675144993376, 0.968675144993376, 0.968675144993376, 0.968675144993376, 0.968675144993376, 0.968675144993376, 0.968675144993376, 0.968675144993376, 0.968675144993376, 0.968675144993376, 0.968675144993376, 0.971400764196078, 0.971400764196078, 0.971400764196078, 0.971400764196078, 0.971400764196078, 0.971400764196078, 0.971400764196078, 0.971400764196078, 0.971400764196078, 0.971400764196078, 0.971400764196078, 0.971400764196078, 0.971400764196078, 0.971400764196078, 0.9716987830206519, 0.9716987830206519]}], \"f1_score_macro\": [{\"categories\": [\"0\", \"1\", \"2\", \"3\", \"4\", \"5\", \"6\", \"7\", \"8\", \"9\", \"10\", \"11\", \"12\", \"13\", \"14\", \"15\", \"16\", \"17\", \"18\", \"19\", \"20\", \"21\", \"22\", \"23\", \"24\", \"25\", \"26\", \"27\", \"28\", \"29\", \"30\", \"31\", \"32\", \"33\", \"34\", \"35\", \"36\", \"37\", \"38\", \"39\", \"40\", \"41\", \"42\", \"43\", \"44\", \"45\", \"49\", \"50\"], \"mode\": \"markers\", \"name\": \"f1_score_macro\", \"stepped\": false, \"type\": \"scatter\", \"data\": [0.9413440452905671, 0.9227973818311415, 0.5844586364745159, 0.4629467610433631, 0.7745079317558926, 0.6889810695242371, 0.9134434536115066, 0.9315234400928148, 0.9348458020351345, 0.9272707444129678, 0.8921663816017723, 0.7681614552000061, 0.4576257594446845, 0.765956696010902, 0.4563222431737475, 0.7630632779711884, 0.4563222431737475, 0.8163651978178103, 0.8040028406980338, 0.8189109491034415, 0.8221700832175883, 0.912651033179012, 0.921521234382789, 0.813616144561399, 0.9306985358115633, 0.7681809444784062, 0.9192098007925362, 0.9377350904507232, 0.8619757010105084, 0.9326565225318794, 0.4563222431737475, 0.9381307013988244, 0.9463215162197812, 0.9334124588940385, 0.939041470260952, 0.4563222431737475, 0.933833823304904, 0.934237844655915, 0.9364988755633114, 0.9303477762996167, 0.9295497735795278, 0.7864606656401453, 0.9239365192774546, 0.8929526732298569, 0.786689098981602, 0.7513306325838439, 0.9468745106693719, 0.9453440865118733]}, {\"categories\": [\"0\", \"1\", \"2\", \"3\", \"4\", \"5\", \"6\", \"7\", \"8\", \"9\", \"10\", \"11\", \"12\", \"13\", \"14\", \"15\", \"16\", \"17\", \"18\", \"19\", \"20\", \"21\", \"22\", \"23\", \"24\", \"25\", \"26\", \"27\", \"28\", \"29\", \"30\", \"31\", \"32\", \"33\", \"34\", \"35\", \"36\", \"37\", \"38\", \"39\", \"40\", \"41\", \"42\", \"43\", \"44\", \"45\", \"49\", \"50\"], \"mode\": \"lines\", \"name\": \"f1_score_macro_max\", \"stepped\": true, \"type\": \"scatter\", \"data\": [0.9413440452905671, 0.9413440452905671, 0.9413440452905671, 0.9413440452905671, 0.9413440452905671, 0.9413440452905671, 0.9413440452905671, 0.9413440452905671, 0.9413440452905671, 0.9413440452905671, 0.9413440452905671, 0.9413440452905671, 0.9413440452905671, 0.9413440452905671, 0.9413440452905671, 0.9413440452905671, 0.9413440452905671, 0.9413440452905671, 0.9413440452905671, 0.9413440452905671, 0.9413440452905671, 0.9413440452905671, 0.9413440452905671, 0.9413440452905671, 0.9413440452905671, 0.9413440452905671, 0.9413440452905671, 0.9413440452905671, 0.9413440452905671, 0.9413440452905671, 0.9413440452905671, 0.9413440452905671, 0.9463215162197812, 0.9463215162197812, 0.9463215162197812, 0.9463215162197812, 0.9463215162197812, 0.9463215162197812, 0.9463215162197812, 0.9463215162197812, 0.9463215162197812, 0.9463215162197812, 0.9463215162197812, 0.9463215162197812, 0.9463215162197812, 0.9463215162197812, 0.9468745106693719, 0.9468745106693719]}], \"norm_macro_recall\": [{\"categories\": [\"0\", \"1\", \"2\", \"3\", \"4\", \"5\", \"6\", \"7\", \"8\", \"9\", \"10\", \"11\", \"12\", \"13\", \"14\", \"15\", \"16\", \"17\", \"18\", \"19\", \"20\", \"21\", \"22\", \"23\", \"24\", \"25\", \"26\", \"27\", \"28\", \"29\", \"30\", \"31\", \"32\", \"33\", \"34\", \"35\", \"36\", \"37\", \"38\", \"39\", \"40\", \"41\", \"42\", \"43\", \"44\", \"45\", \"49\", \"50\"], \"mode\": \"markers\", \"name\": \"norm_macro_recall\", \"stepped\": false, \"type\": \"scatter\", \"data\": [0.8628086832654799, 0.8080242199286163, 0.1450224240568594, 0.006478209658421645, 0.6929098654700558, 0.5858199515977786, 0.7929807822795952, 0.8251988677349185, 0.8389481878945576, 0.8186321867434362, 0.7428630827122121, 0.4448515291051079, 0.0012568647798295214, 0.4621820526068296, 0.0, 0.4268959886824288, 0.0, 0.5733113218123916, 0.5342009508103654, 0.5798897555557597, 0.5985708291300318, 0.7885192427263341, 0.805521124584574, 0.5534737669633196, 0.8309984712197128, 0.4464139158448159, 0.8026249140381908, 0.8475900135434212, 0.658754552117557, 0.8327115758373399, 0.0, 0.8463207077791427, 0.8718470735121918, 0.8373590592776453, 0.8554319429558751, 0.0, 0.8387592892024548, 0.8356344318733626, 0.8466372665885631, 0.826583882583558, 0.8253223867545868, 0.7052065270626683, 0.8105483743377576, 0.7454861169528696, 0.7054882040867616, 0.6572145804414248, 0.8736342736462905, 0.8722429958937387]}, {\"categories\": [\"0\", \"1\", \"2\", \"3\", \"4\", \"5\", \"6\", \"7\", \"8\", \"9\", \"10\", \"11\", \"12\", \"13\", \"14\", \"15\", \"16\", \"17\", \"18\", \"19\", \"20\", \"21\", \"22\", \"23\", \"24\", \"25\", \"26\", \"27\", \"28\", \"29\", \"30\", \"31\", \"32\", \"33\", \"34\", \"35\", \"36\", \"37\", \"38\", \"39\", \"40\", \"41\", \"42\", \"43\", \"44\", \"45\", \"49\", \"50\"], \"mode\": \"lines\", \"name\": \"norm_macro_recall_max\", \"stepped\": true, \"type\": \"scatter\", \"data\": [0.8628086832654799, 0.8628086832654799, 0.8628086832654799, 0.8628086832654799, 0.8628086832654799, 0.8628086832654799, 0.8628086832654799, 0.8628086832654799, 0.8628086832654799, 0.8628086832654799, 0.8628086832654799, 0.8628086832654799, 0.8628086832654799, 0.8628086832654799, 0.8628086832654799, 0.8628086832654799, 0.8628086832654799, 0.8628086832654799, 0.8628086832654799, 0.8628086832654799, 0.8628086832654799, 0.8628086832654799, 0.8628086832654799, 0.8628086832654799, 0.8628086832654799, 0.8628086832654799, 0.8628086832654799, 0.8628086832654799, 0.8628086832654799, 0.8628086832654799, 0.8628086832654799, 0.8628086832654799, 0.8718470735121918, 0.8718470735121918, 0.8718470735121918, 0.8718470735121918, 0.8718470735121918, 0.8718470735121918, 0.8718470735121918, 0.8718470735121918, 0.8718470735121918, 0.8718470735121918, 0.8718470735121918, 0.8718470735121918, 0.8718470735121918, 0.8718470735121918, 0.8736342736462905, 0.8736342736462905]}], \"f1_score_weighted\": [{\"categories\": [\"0\", \"1\", \"2\", \"3\", \"4\", \"5\", \"6\", \"7\", \"8\", \"9\", \"10\", \"11\", \"12\", \"13\", \"14\", \"15\", \"16\", \"17\", \"18\", \"19\", \"20\", \"21\", \"22\", \"23\", \"24\", \"25\", \"26\", \"27\", \"28\", \"29\", \"30\", \"31\", \"32\", \"33\", \"34\", \"35\", \"36\", \"37\", \"38\", \"39\", \"40\", \"41\", \"42\", \"43\", \"44\", \"45\", \"49\", \"50\"], \"mode\": \"markers\", \"name\": \"f1_score_weighted\", \"stepped\": false, \"type\": \"scatter\", \"data\": [0.9687295920410595, 0.959335006463559, 0.8152323650698019, 0.7686154163585502, 0.8631409859281541, 0.7944388503344552, 0.9542740612996686, 0.9639119242669937, 0.9654932737458966, 0.9616284203231528, 0.943480052066393, 0.8862197238900748, 0.7665117076047081, 0.8824529892329935, 0.7660348770601465, 0.8849338793563856, 0.7660348770601465, 0.9057206549470428, 0.9009140734064971, 0.9068606023397153, 0.9075387340822294, 0.953981505977398, 0.9586221761491531, 0.9055404272115423, 0.9632755362912463, 0.8859646814506862, 0.9573479966956201, 0.9669654770367125, 0.9289613533675724, 0.9643411484190575, 0.7660348770601465, 0.9672233931521003, 0.9714139399458571, 0.9647162452178089, 0.9675722517030664, 0.7660348770601465, 0.9649222875923985, 0.965240744502522, 0.966291379519648, 0.9631780439371127, 0.9627814185304376, 0.872209375644924, 0.9598536618560255, 0.9437283675215093, 0.8723708018847086, 0.8467653133393086, 0.9717237687767941, 0.9708508068077664]}, {\"categories\": [\"0\", \"1\", \"2\", \"3\", \"4\", \"5\", \"6\", \"7\", \"8\", \"9\", \"10\", \"11\", \"12\", \"13\", \"14\", \"15\", \"16\", \"17\", \"18\", \"19\", \"20\", \"21\", \"22\", \"23\", \"24\", \"25\", \"26\", \"27\", \"28\", \"29\", \"30\", \"31\", \"32\", \"33\", \"34\", \"35\", \"36\", \"37\", \"38\", \"39\", \"40\", \"41\", \"42\", \"43\", \"44\", \"45\", \"49\", \"50\"], \"mode\": \"lines\", \"name\": \"f1_score_weighted_max\", \"stepped\": true, \"type\": \"scatter\", \"data\": [0.9687295920410595, 0.9687295920410595, 0.9687295920410595, 0.9687295920410595, 0.9687295920410595, 0.9687295920410595, 0.9687295920410595, 0.9687295920410595, 0.9687295920410595, 0.9687295920410595, 0.9687295920410595, 0.9687295920410595, 0.9687295920410595, 0.9687295920410595, 0.9687295920410595, 0.9687295920410595, 0.9687295920410595, 0.9687295920410595, 0.9687295920410595, 0.9687295920410595, 0.9687295920410595, 0.9687295920410595, 0.9687295920410595, 0.9687295920410595, 0.9687295920410595, 0.9687295920410595, 0.9687295920410595, 0.9687295920410595, 0.9687295920410595, 0.9687295920410595, 0.9687295920410595, 0.9687295920410595, 0.9714139399458571, 0.9714139399458571, 0.9714139399458571, 0.9714139399458571, 0.9714139399458571, 0.9714139399458571, 0.9714139399458571, 0.9714139399458571, 0.9714139399458571, 0.9714139399458571, 0.9714139399458571, 0.9714139399458571, 0.9714139399458571, 0.9714139399458571, 0.9717237687767941, 0.9717237687767941]}], \"matthews_correlation\": [{\"categories\": [\"0\", \"1\", \"2\", \"3\", \"4\", \"5\", \"6\", \"7\", \"8\", \"9\", \"10\", \"11\", \"12\", \"13\", \"14\", \"15\", \"16\", \"17\", \"18\", \"19\", \"20\", \"21\", \"22\", \"23\", \"24\", \"25\", \"26\", \"27\", \"28\", \"29\", \"30\", \"31\", \"32\", \"33\", \"34\", \"35\", \"36\", \"37\", \"38\", \"39\", \"40\", \"41\", \"42\", \"43\", \"44\", \"45\", \"49\", \"50\"], \"mode\": \"markers\", \"name\": \"matthews_correlation\", \"stepped\": false, \"type\": \"scatter\", \"data\": [0.8832585968336769, 0.8477668255350471, 0.3243129123147663, 0.042463398394162695, 0.5810359864869267, 0.45404927467246764, 0.8289587486195424, 0.8651281206898161, 0.8710946515858794, 0.856462166936624, 0.7877969468387236, 0.5721008505304472, 0.026578817825625434, 0.5504008000693412, 0.0, 0.5739508387067328, 0.0, 0.6419059514375899, 0.6242852102019257, 0.6463904163579098, 0.6493341453921609, 0.8275518543561523, 0.8452883409800536, 0.642394648542905, 0.8627602128919394, 0.5705524386995826, 0.8404586917697845, 0.8766287503656335, 0.7332052451763632, 0.8668307863271741, 0.0, 0.8775241578547458, 0.893257592666282, 0.8680479718280679, 0.8787890555590212, 0.0, 0.8688755350115303, 0.8700387135728861, 0.8739747200991719, 0.8624883464506133, 0.8608440699704304, 0.5995572492716422, 0.850028811674005, 0.7889835037449217, 0.599927069521637, 0.5417084336375169, 0.8943157425586676, 0.8911981087467172]}, {\"categories\": [\"0\", \"1\", \"2\", \"3\", \"4\", \"5\", \"6\", \"7\", \"8\", \"9\", \"10\", \"11\", \"12\", \"13\", \"14\", \"15\", \"16\", \"17\", \"18\", \"19\", \"20\", \"21\", \"22\", \"23\", \"24\", \"25\", \"26\", \"27\", \"28\", \"29\", \"30\", \"31\", \"32\", \"33\", \"34\", \"35\", \"36\", \"37\", \"38\", \"39\", \"40\", \"41\", \"42\", \"43\", \"44\", \"45\", \"49\", \"50\"], \"mode\": \"lines\", \"name\": \"matthews_correlation_max\", \"stepped\": true, \"type\": \"scatter\", \"data\": [0.8832585968336769, 0.8832585968336769, 0.8832585968336769, 0.8832585968336769, 0.8832585968336769, 0.8832585968336769, 0.8832585968336769, 0.8832585968336769, 0.8832585968336769, 0.8832585968336769, 0.8832585968336769, 0.8832585968336769, 0.8832585968336769, 0.8832585968336769, 0.8832585968336769, 0.8832585968336769, 0.8832585968336769, 0.8832585968336769, 0.8832585968336769, 0.8832585968336769, 0.8832585968336769, 0.8832585968336769, 0.8832585968336769, 0.8832585968336769, 0.8832585968336769, 0.8832585968336769, 0.8832585968336769, 0.8832585968336769, 0.8832585968336769, 0.8832585968336769, 0.8832585968336769, 0.8832585968336769, 0.893257592666282, 0.893257592666282, 0.893257592666282, 0.893257592666282, 0.893257592666282, 0.893257592666282, 0.893257592666282, 0.893257592666282, 0.893257592666282, 0.893257592666282, 0.893257592666282, 0.893257592666282, 0.893257592666282, 0.893257592666282, 0.8943157425586676, 0.8943157425586676]}], \"f1_score_micro\": [{\"categories\": [\"0\", \"1\", \"2\", \"3\", \"4\", \"5\", \"6\", \"7\", \"8\", \"9\", \"10\", \"11\", \"12\", \"13\", \"14\", \"15\", \"16\", \"17\", \"18\", \"19\", \"20\", \"21\", \"22\", \"23\", \"24\", \"25\", \"26\", \"27\", \"28\", \"29\", \"30\", \"31\", \"32\", \"33\", \"34\", \"35\", \"36\", \"37\", \"38\", \"39\", \"40\", \"41\", \"42\", \"43\", \"44\", \"45\", \"49\", \"50\"], \"mode\": \"markers\", \"name\": \"f1_score_micro\", \"stepped\": false, \"type\": \"scatter\", \"data\": [0.9690924463167749, 0.9603042829559417, 0.8614606810602071, 0.8404261014569071, 0.8502992510678135, 0.7665650049733778, 0.9552678895325025, 0.964747791235153, 0.9661300684570827, 0.9624765666140074, 0.9450975659703937, 0.8984896729272717, 0.8395371540576911, 0.8917746474752795, 0.8393396817038208, 0.8992786261775203, 0.8393396817038208, 0.9107335439705109, 0.9079688139956702, 0.9116221988180914, 0.9111283131472705, 0.9550706512199404, 0.9596128079105962, 0.9120171727809958, 0.9639575800128722, 0.8980939383301152, 0.958329062079457, 0.9675125212099935, 0.9325563747001345, 0.9650437072143233, 0.8393396817038208, 0.9678088467614533, 0.971758703411152, 0.9653401497864373, 0.9680063776256508, 0.8393396817038208, 0.9655376806506348, 0.9659327716341934, 0.9668213972266105, 0.9639576092680359, 0.963562781580949, 0.8611633608331871, 0.960797583523492, 0.9452943362003393, 0.8613608331870575, 0.8308476391083026, 0.9720551167281024, 0.9711662278392135]}, {\"categories\": [\"0\", \"1\", \"2\", \"3\", \"4\", \"5\", \"6\", \"7\", \"8\", \"9\", \"10\", \"11\", \"12\", \"13\", \"14\", \"15\", \"16\", \"17\", \"18\", \"19\", \"20\", \"21\", \"22\", \"23\", \"24\", \"25\", \"26\", \"27\", \"28\", \"29\", \"30\", \"31\", \"32\", \"33\", \"34\", \"35\", \"36\", \"37\", \"38\", \"39\", \"40\", \"41\", \"42\", \"43\", \"44\", \"45\", \"49\", \"50\"], \"mode\": \"lines\", \"name\": \"f1_score_micro_max\", \"stepped\": true, \"type\": \"scatter\", \"data\": [0.9690924463167749, 0.9690924463167749, 0.9690924463167749, 0.9690924463167749, 0.9690924463167749, 0.9690924463167749, 0.9690924463167749, 0.9690924463167749, 0.9690924463167749, 0.9690924463167749, 0.9690924463167749, 0.9690924463167749, 0.9690924463167749, 0.9690924463167749, 0.9690924463167749, 0.9690924463167749, 0.9690924463167749, 0.9690924463167749, 0.9690924463167749, 0.9690924463167749, 0.9690924463167749, 0.9690924463167749, 0.9690924463167749, 0.9690924463167749, 0.9690924463167749, 0.9690924463167749, 0.9690924463167749, 0.9690924463167749, 0.9690924463167749, 0.9690924463167749, 0.9690924463167749, 0.9690924463167749, 0.971758703411152, 0.971758703411152, 0.971758703411152, 0.971758703411152, 0.971758703411152, 0.971758703411152, 0.971758703411152, 0.971758703411152, 0.971758703411152, 0.971758703411152, 0.971758703411152, 0.971758703411152, 0.971758703411152, 0.971758703411152, 0.9720551167281024, 0.9720551167281024]}], \"balanced_accuracy\": [{\"categories\": [\"0\", \"1\", \"2\", \"3\", \"4\", \"5\", \"6\", \"7\", \"8\", \"9\", \"10\", \"11\", \"12\", \"13\", \"14\", \"15\", \"16\", \"17\", \"18\", \"19\", \"20\", \"21\", \"22\", \"23\", \"24\", \"25\", \"26\", \"27\", \"28\", \"29\", \"30\", \"31\", \"32\", \"33\", \"34\", \"35\", \"36\", \"37\", \"38\", \"39\", \"40\", \"41\", \"42\", \"43\", \"44\", \"45\", \"49\", \"50\"], \"mode\": \"markers\", \"name\": \"balanced_accuracy\", \"stepped\": false, \"type\": \"scatter\", \"data\": [0.9314043416327399, 0.9040121099643081, 0.5725112120284297, 0.5032391048292109, 0.8464549327350278, 0.7929099757988892, 0.8964903911397976, 0.9125994338674591, 0.9194740939472789, 0.909316093371718, 0.871431541356106, 0.722425764552554, 0.5006284323899147, 0.7310910263034147, 0.5, 0.7134479943412143, 0.5, 0.7866556609061958, 0.7671004754051828, 0.7899448777778799, 0.7992854145650159, 0.8942596213631671, 0.9027605622922869, 0.7767368834816598, 0.9154992356098565, 0.723206957922408, 0.9013124570190953, 0.9237950067717106, 0.8293772760587785, 0.91635578791867, 0.5, 0.9231603538895715, 0.935923536756096, 0.9186795296388226, 0.9277159714779376, 0.5, 0.9193796446012273, 0.9178172159366813, 0.9233186332942815, 0.9132919412917789, 0.9126611933772933, 0.8526032635313342, 0.9052741871688789, 0.8727430584764347, 0.8527441020433808, 0.8286072902207123, 0.9368171368231453, 0.9361214979468694]}, {\"categories\": [\"0\", \"1\", \"2\", \"3\", \"4\", \"5\", \"6\", \"7\", \"8\", \"9\", \"10\", \"11\", \"12\", \"13\", \"14\", \"15\", \"16\", \"17\", \"18\", \"19\", \"20\", \"21\", \"22\", \"23\", \"24\", \"25\", \"26\", \"27\", \"28\", \"29\", \"30\", \"31\", \"32\", \"33\", \"34\", \"35\", \"36\", \"37\", \"38\", \"39\", \"40\", \"41\", \"42\", \"43\", \"44\", \"45\", \"49\", \"50\"], \"mode\": \"lines\", \"name\": \"balanced_accuracy_max\", \"stepped\": true, \"type\": \"scatter\", \"data\": [0.9314043416327399, 0.9314043416327399, 0.9314043416327399, 0.9314043416327399, 0.9314043416327399, 0.9314043416327399, 0.9314043416327399, 0.9314043416327399, 0.9314043416327399, 0.9314043416327399, 0.9314043416327399, 0.9314043416327399, 0.9314043416327399, 0.9314043416327399, 0.9314043416327399, 0.9314043416327399, 0.9314043416327399, 0.9314043416327399, 0.9314043416327399, 0.9314043416327399, 0.9314043416327399, 0.9314043416327399, 0.9314043416327399, 0.9314043416327399, 0.9314043416327399, 0.9314043416327399, 0.9314043416327399, 0.9314043416327399, 0.9314043416327399, 0.9314043416327399, 0.9314043416327399, 0.9314043416327399, 0.935923536756096, 0.935923536756096, 0.935923536756096, 0.935923536756096, 0.935923536756096, 0.935923536756096, 0.935923536756096, 0.935923536756096, 0.935923536756096, 0.935923536756096, 0.935923536756096, 0.935923536756096, 0.935923536756096, 0.935923536756096, 0.9368171368231453, 0.9368171368231453]}], \"average_precision_score_macro\": [{\"categories\": [\"0\", \"1\", \"2\", \"3\", \"4\", \"5\", \"6\", \"7\", \"8\", \"9\", \"10\", \"11\", \"12\", \"13\", \"14\", \"15\", \"16\", \"17\", \"18\", \"19\", \"20\", \"21\", \"22\", \"23\", \"24\", \"25\", \"26\", \"27\", \"28\", \"29\", \"30\", \"31\", \"32\", \"33\", \"34\", \"35\", \"36\", \"37\", \"38\", \"39\", \"40\", \"41\", \"42\", \"43\", \"44\", \"45\", \"49\", \"50\"], \"mode\": \"markers\", \"name\": \"average_precision_score_macro\", \"stepped\": false, \"type\": \"scatter\", \"data\": [0.9824558950520178, 0.9744367702996622, 0.8553687571979699, 0.8424222397014386, 0.8651111463498843, 0.7893490397333393, 0.965171173805525, 0.9794820588815588, 0.9789588117506662, 0.9751749324301507, 0.9506266723122662, 0.8910135607519255, 0.8614245836452575, 0.8415106811514027, 0.8282986816870069, 0.895748059504547, 0.6228648607191692, 0.880775375958621, 0.8785049532173516, 0.8826640406771666, 0.8831874381547292, 0.9668195010649593, 0.97238753019815, 0.8789449795819618, 0.976477679903274, 0.8697197733897662, 0.9699984471867569, 0.9803922472089021, 0.931637326721186, 0.978056278705997, 0.8584701557802253, 0.9805636524927697, 0.9835029012054987, 0.9787885679879914, 0.9800360669592095, 0.5, 0.979964156279702, 0.9799827666795302, 0.9789479053355173, 0.9781547695827574, 0.9775597959508442, 0.8775806404219783, 0.9733273392697493, 0.9472442462428194, 0.8762803242227365, 0.8400877621459518, 0.982960017428974, 0.9822801587960966]}, {\"categories\": [\"0\", \"1\", \"2\", \"3\", \"4\", \"5\", \"6\", \"7\", \"8\", \"9\", \"10\", \"11\", \"12\", \"13\", \"14\", \"15\", \"16\", \"17\", \"18\", \"19\", \"20\", \"21\", \"22\", \"23\", \"24\", \"25\", \"26\", \"27\", \"28\", \"29\", \"30\", \"31\", \"32\", \"33\", \"34\", \"35\", \"36\", \"37\", \"38\", \"39\", \"40\", \"41\", \"42\", \"43\", \"44\", \"45\", \"49\", \"50\"], \"mode\": \"lines\", \"name\": \"average_precision_score_macro_max\", \"stepped\": true, \"type\": \"scatter\", \"data\": [0.9824558950520178, 0.9824558950520178, 0.9824558950520178, 0.9824558950520178, 0.9824558950520178, 0.9824558950520178, 0.9824558950520178, 0.9824558950520178, 0.9824558950520178, 0.9824558950520178, 0.9824558950520178, 0.9824558950520178, 0.9824558950520178, 0.9824558950520178, 0.9824558950520178, 0.9824558950520178, 0.9824558950520178, 0.9824558950520178, 0.9824558950520178, 0.9824558950520178, 0.9824558950520178, 0.9824558950520178, 0.9824558950520178, 0.9824558950520178, 0.9824558950520178, 0.9824558950520178, 0.9824558950520178, 0.9824558950520178, 0.9824558950520178, 0.9824558950520178, 0.9824558950520178, 0.9824558950520178, 0.9835029012054987, 0.9835029012054987, 0.9835029012054987, 0.9835029012054987, 0.9835029012054987, 0.9835029012054987, 0.9835029012054987, 0.9835029012054987, 0.9835029012054987, 0.9835029012054987, 0.9835029012054987, 0.9835029012054987, 0.9835029012054987, 0.9835029012054987, 0.9835029012054987, 0.9835029012054987]}]}, \"metricName\": null, \"primaryMetricName\": \"accuracy\", \"showLegend\": false}, \"run_metrics\": [{\"name\": \"experiment_status\", \"run_id\": \"AutoML_8d692d64-e5eb-4ca1-b421-5728dcd27d44\", \"categories\": [0, 1, 2, 3, 4, 5, 6, 7, 8, 9, 10, 11, 12, 13, 14], \"series\": [{\"data\": [\"DatasetEvaluation\", \"FeaturesGeneration\", \"DatasetFeaturization\", \"DatasetFeaturizationCompleted\", \"DatasetBalancing\", \"DatasetCrossValidationSplit\", \"ModelSelection\", \"BestRunExplainModel\", \"ModelExplanationDataSetSetup\", \"PickSurrogateModel\", \"EngineeredFeatureExplanations\", \"EngineeredFeatureExplanations\", \"RawFeaturesExplanations\", \"RawFeaturesExplanations\", \"BestRunExplainModel\"]}]}, {\"name\": \"experiment_status_description\", \"run_id\": \"AutoML_8d692d64-e5eb-4ca1-b421-5728dcd27d44\", \"categories\": [0, 1, 2, 3, 4, 5, 6, 7, 8, 9, 10, 11, 12, 13, 14], \"series\": [{\"data\": [\"Gathering dataset statistics.\", \"Generating features for the dataset.\", \"Beginning to fit featurizers and featurize the dataset.\", \"Completed fit featurizers and featurizing the dataset.\", \"Performing class balancing sweeping\", \"Generating individually featurized CV splits.\", \"Beginning model selection.\", \"Best run model explanations started\", \"Model explanations data setup completed\", \"Choosing LightGBM as the surrogate model for explanations\", \"Computation of engineered features started\", \"Computation of engineered features completed\", \"Computation of raw features started\", \"Computation of raw features completed\", \"Best run model explanations completed\"]}]}, {\"name\": \"average_precision_score_weighted\", \"run_id\": \"AutoML_8d692d64-e5eb-4ca1-b421-5728dcd27d44\", \"categories\": [0], \"series\": [{\"data\": [0.9935212975393259]}]}, {\"name\": \"log_loss\", \"run_id\": \"AutoML_8d692d64-e5eb-4ca1-b421-5728dcd27d44\", \"categories\": [0], \"series\": [{\"data\": [0.101750128683796]}]}, {\"name\": \"recall_score_weighted\", \"run_id\": \"AutoML_8d692d64-e5eb-4ca1-b421-5728dcd27d44\", \"categories\": [0], \"series\": [{\"data\": [0.9720551167281024]}]}, {\"name\": \"matthews_correlation\", \"run_id\": \"AutoML_8d692d64-e5eb-4ca1-b421-5728dcd27d44\", \"categories\": [0], \"series\": [{\"data\": [0.8943157425586676]}]}, {\"name\": \"weighted_accuracy\", \"run_id\": \"AutoML_8d692d64-e5eb-4ca1-b421-5728dcd27d44\", \"categories\": [0], \"series\": [{\"data\": [0.985047319287878]}]}, {\"name\": \"recall_score_micro\", \"run_id\": \"AutoML_8d692d64-e5eb-4ca1-b421-5728dcd27d44\", \"categories\": [0], \"series\": [{\"data\": [0.9720551167281024]}]}, {\"name\": \"average_precision_score_micro\", \"run_id\": \"AutoML_8d692d64-e5eb-4ca1-b421-5728dcd27d44\", \"categories\": [0], \"series\": [{\"data\": [0.9960225408442837]}]}, {\"name\": \"AUC_weighted\", \"run_id\": \"AutoML_8d692d64-e5eb-4ca1-b421-5728dcd27d44\", \"categories\": [0], \"series\": [{\"data\": [0.9925821499100321]}]}, {\"name\": \"f1_score_macro\", \"run_id\": \"AutoML_8d692d64-e5eb-4ca1-b421-5728dcd27d44\", \"categories\": [0], \"series\": [{\"data\": [0.9468745106693719]}]}, {\"name\": \"AUC_micro\", \"run_id\": \"AutoML_8d692d64-e5eb-4ca1-b421-5728dcd27d44\", \"categories\": [0], \"series\": [{\"data\": [0.9959635606771245]}]}, {\"name\": \"average_precision_score_macro\", \"run_id\": \"AutoML_8d692d64-e5eb-4ca1-b421-5728dcd27d44\", \"categories\": [0], \"series\": [{\"data\": [0.982960017428974]}]}, {\"name\": \"precision_score_macro\", \"run_id\": \"AutoML_8d692d64-e5eb-4ca1-b421-5728dcd27d44\", \"categories\": [0], \"series\": [{\"data\": [0.9577585834306142]}]}, {\"name\": \"recall_score_macro\", \"run_id\": \"AutoML_8d692d64-e5eb-4ca1-b421-5728dcd27d44\", \"categories\": [0], \"series\": [{\"data\": [0.9368171368231453]}]}, {\"name\": \"accuracy\", \"run_id\": \"AutoML_8d692d64-e5eb-4ca1-b421-5728dcd27d44\", \"categories\": [0], \"series\": [{\"data\": [0.9720551167281024]}]}, {\"name\": \"f1_score_weighted\", \"run_id\": \"AutoML_8d692d64-e5eb-4ca1-b421-5728dcd27d44\", \"categories\": [0], \"series\": [{\"data\": [0.9717237687767941]}]}, {\"name\": \"precision_score_weighted\", \"run_id\": \"AutoML_8d692d64-e5eb-4ca1-b421-5728dcd27d44\", \"categories\": [0], \"series\": [{\"data\": [0.9716987830206519]}]}, {\"name\": \"norm_macro_recall\", \"run_id\": \"AutoML_8d692d64-e5eb-4ca1-b421-5728dcd27d44\", \"categories\": [0], \"series\": [{\"data\": [0.8736342736462905]}]}, {\"name\": \"precision_score_micro\", \"run_id\": \"AutoML_8d692d64-e5eb-4ca1-b421-5728dcd27d44\", \"categories\": [0], \"series\": [{\"data\": [0.9720551167281024]}]}, {\"name\": \"f1_score_micro\", \"run_id\": \"AutoML_8d692d64-e5eb-4ca1-b421-5728dcd27d44\", \"categories\": [0], \"series\": [{\"data\": [0.9720551167281024]}]}, {\"name\": \"AUC_macro\", \"run_id\": \"AutoML_8d692d64-e5eb-4ca1-b421-5728dcd27d44\", \"categories\": [0], \"series\": [{\"data\": [0.992582149910032]}]}, {\"name\": \"balanced_accuracy\", \"run_id\": \"AutoML_8d692d64-e5eb-4ca1-b421-5728dcd27d44\", \"categories\": [0], \"series\": [{\"data\": [0.9368171368231453]}]}], \"run_logs\": \"\\nRun is completed.\", \"graph\": {}, \"widget_settings\": {\"childWidgetDisplay\": \"popup\", \"send_telemetry\": false, \"log_level\": \"INFO\", \"sdk_version\": \"1.20.0\"}, \"loading\": false}"
          },
          "metadata": {}
        },
        {
          "output_type": "stream",
          "name": "stdout",
          "text": [
            "\n",
            "\n",
            "****************************************************************************************************\n",
            "DATA GUARDRAILS: \n",
            "\n",
            "TYPE:         Class balancing detection\n",
            "STATUS:       ALERTED\n",
            "DESCRIPTION:  To decrease model bias, please cancel the current run and fix balancing problem.\n",
            "              Learn more about imbalanced data: https://aka.ms/AutomatedMLImbalancedData\n",
            "DETAILS:      Imbalanced data can lead to a falsely perceived positive effect of a model's accuracy because the input data has bias towards one class.\n",
            "+---------------------------------+---------------------------------+--------------------------------------+\n",
            "|Size of the smallest class       |Name/Label of the smallest class |Number of samples in the training data|\n",
            "+=================================+=================================+======================================+\n",
            "|1627                             |Attrited Customer                |10127                                 |\n",
            "+---------------------------------+---------------------------------+--------------------------------------+\n",
            "\n",
            "****************************************************************************************************\n",
            "\n",
            "TYPE:         Missing feature values imputation\n",
            "STATUS:       PASSED\n",
            "DESCRIPTION:  No feature missing values were detected in the training data.\n",
            "              Learn more about missing value imputation: https://aka.ms/AutomatedMLFeaturization\n",
            "\n",
            "****************************************************************************************************\n",
            "\n",
            "TYPE:         High cardinality feature detection\n",
            "STATUS:       PASSED\n",
            "DESCRIPTION:  Your inputs were analyzed, and no high cardinality features were detected.\n",
            "              Learn more about high cardinality feature handling: https://aka.ms/AutomatedMLFeaturization\n",
            "\n",
            "****************************************************************************************************\n",
            "\n",
            "****************************************************************************************************\n",
            "ITERATION: The iteration being evaluated.\n",
            "PIPELINE: A summary description of the pipeline being evaluated.\n",
            "DURATION: Time taken for the current iteration.\n",
            "METRIC: The result of computing score on the fitted pipeline.\n",
            "BEST: The best observed score thus far.\n",
            "****************************************************************************************************\n",
            "\n",
            " ITERATION   PIPELINE                                       DURATION      METRIC      BEST\n",
            "         0   MaxAbsScaler LightGBM                          0:00:57       0.9691    0.9691\n",
            "         1   MaxAbsScaler XGBoostClassifier                 0:01:24       0.9603    0.9691\n",
            "         2   MaxAbsScaler RandomForest                      0:00:57       0.8615    0.9691\n",
            "         3   MaxAbsScaler RandomForest                      0:00:59       0.8404    0.9691\n",
            "         4   MaxAbsScaler RandomForest                      0:00:51       0.8503    0.9691\n",
            "         5   MaxAbsScaler RandomForest                      0:00:58       0.7666    0.9691\n",
            "         6   SparseNormalizer XGBoostClassifier             0:01:12       0.9553    0.9691\n",
            "         7   SparseNormalizer XGBoostClassifier             0:01:01       0.9647    0.9691\n",
            "         8   SparseNormalizer XGBoostClassifier             0:00:58       0.9661    0.9691\n",
            "         9   SparseNormalizer XGBoostClassifier             0:01:01       0.9625    0.9691\n",
            "        10   SparseNormalizer XGBoostClassifier             0:01:20       0.9451    0.9691\n",
            "        11   StandardScalerWrapper RandomForest             0:01:27       0.8985    0.9691\n",
            "        12   MaxAbsScaler RandomForest                      0:00:59       0.8395    0.9691\n",
            "        13   SparseNormalizer XGBoostClassifier             0:00:48       0.8918    0.9691\n",
            "        14   MaxAbsScaler ExtremeRandomTrees                0:01:13       0.8393    0.9691\n",
            "        15   MaxAbsScaler LightGBM                          0:01:05       0.8993    0.9691\n",
            "        16   SparseNormalizer GradientBoosting              0:01:03       0.8393    0.9691\n",
            "        17   StandardScalerWrapper LogisticRegression       0:00:54       0.9107    0.9691\n",
            "        18   SparseNormalizer LightGBM                      0:00:41       0.9080    0.9691\n",
            "        19   MaxAbsScaler LogisticRegression                0:00:49       0.9116    0.9691\n",
            "        20   MaxAbsScaler LogisticRegression                0:01:12       0.9111    0.9691\n",
            "        21   SparseNormalizer XGBoostClassifier             0:01:09       0.9551    0.9691\n",
            "        22   SparseNormalizer XGBoostClassifier             0:01:21       0.9596    0.9691\n",
            "        23   MaxAbsScaler LogisticRegression                0:01:04       0.9120    0.9691\n",
            "        24   SparseNormalizer XGBoostClassifier             0:01:25       0.9640    0.9691\n",
            "        25   SparseNormalizer LightGBM                      0:01:18       0.8981    0.9691\n",
            "        26   SparseNormalizer XGBoostClassifier             0:01:12       0.9583    0.9691\n",
            "        27   SparseNormalizer XGBoostClassifier             0:01:32       0.9675    0.9691\n",
            "        28   SparseNormalizer XGBoostClassifier             0:01:04       0.9326    0.9691\n",
            "        29   SparseNormalizer XGBoostClassifier             0:01:10       0.9650    0.9691\n",
            "        30   MaxAbsScaler LightGBM                          0:01:11       0.8393    0.9691\n",
            "        31   SparseNormalizer XGBoostClassifier             0:01:08       0.9678    0.9691\n",
            "        32   StandardScalerWrapper XGBoostClassifier        0:01:03       0.9718    0.9718\n",
            "        33   SparseNormalizer XGBoostClassifier             0:01:22       0.9653    0.9718\n",
            "        34   StandardScalerWrapper XGBoostClassifier        0:01:09       0.9680    0.9718\n",
            "        35   SparseNormalizer XGBoostClassifier             0:01:19       0.8393    0.9718\n",
            "        36   SparseNormalizer XGBoostClassifier             0:02:49       0.9655    0.9718\n",
            "        37   SparseNormalizer XGBoostClassifier             0:01:51       0.9659    0.9718\n",
            "        38   SparseNormalizer XGBoostClassifier             0:02:22       0.9668    0.9718\n",
            "        39   SparseNormalizer XGBoostClassifier             0:01:28       0.9640    0.9718\n",
            "        40   StandardScalerWrapper XGBoostClassifier        0:01:22       0.9636    0.9718\n",
            "        41   MaxAbsScaler LogisticRegression                0:00:52       0.8612    0.9718\n",
            "        42   SparseNormalizer XGBoostClassifier             0:01:14       0.9608    0.9718\n",
            "        43   SparseNormalizer XGBoostClassifier             0:01:04       0.9453    0.9718\n",
            "        44   StandardScalerWrapper LogisticRegression       0:01:17       0.8614    0.9718\n",
            "        45   MaxAbsScaler ExtremeRandomTrees                0:00:59       0.8308    0.9718\n",
            "        46                                                  0:00:13          nan    0.9718\n",
            "        47                                                  0:00:08          nan    0.9718\n",
            "        48                                                  0:00:18          nan    0.9718\n",
            "        49    VotingEnsemble                                0:01:57       0.9721    0.9721\n",
            "        50    StackEnsemble                                 0:02:11       0.9712    0.9721\n"
          ]
        },
        {
          "output_type": "execute_result",
          "execution_count": 7,
          "data": {
            "text/plain": "{'runId': 'AutoML_8d692d64-e5eb-4ca1-b421-5728dcd27d44',\n 'target': 'demo-cluster',\n 'status': 'Completed',\n 'startTimeUtc': '2021-01-27T14:48:49.683936Z',\n 'endTimeUtc': '2021-01-27T15:10:57.475355Z',\n 'properties': {'num_iterations': '1000',\n  'training_type': 'TrainFull',\n  'acquisition_function': 'EI',\n  'primary_metric': 'accuracy',\n  'train_split': '0',\n  'acquisition_parameter': '0',\n  'num_cross_validation': '3',\n  'target': 'demo-cluster',\n  'AMLSettingsJsonString': '{\"path\":null,\"name\":\"demo-automl-experiment\",\"subscription_id\":\"a0a76bad-11a1-4a2d-9887-97a29122c8ed\",\"resource_group\":\"aml-quickstarts-136271\",\"workspace_name\":\"quick-starts-ws-136271\",\"region\":\"southcentralus\",\"compute_target\":\"demo-cluster\",\"spark_service\":null,\"azure_service\":\"remote\",\"many_models\":false,\"pipeline_fetch_max_batch_size\":1,\"iterations\":1000,\"primary_metric\":\"accuracy\",\"task_type\":\"classification\",\"data_script\":null,\"validation_size\":0.0,\"n_cross_validations\":3,\"y_min\":null,\"y_max\":null,\"num_classes\":null,\"featurization\":\"auto\",\"_ignore_package_version_incompatibilities\":false,\"is_timeseries\":false,\"max_cores_per_iteration\":1,\"max_concurrent_iterations\":5,\"iteration_timeout_minutes\":null,\"mem_in_mb\":null,\"enforce_time_on_windows\":false,\"experiment_timeout_minutes\":30,\"experiment_exit_score\":null,\"whitelist_models\":null,\"blacklist_algos\":[\"TensorFlowLinearClassifier\",\"TensorFlowDNN\"],\"supported_models\":[\"DecisionTree\",\"LightGBM\",\"LinearSVM\",\"GradientBoosting\",\"SVM\",\"SGD\",\"RandomForest\",\"ExtremeRandomTrees\",\"TensorFlowLinearClassifier\",\"KNN\",\"XGBoostClassifier\",\"TensorFlowDNN\",\"LogisticRegression\",\"MultinomialNaiveBayes\",\"AveragedPerceptronClassifier\",\"BernoulliNaiveBayes\"],\"auto_blacklist\":true,\"blacklist_samples_reached\":false,\"exclude_nan_labels\":true,\"verbosity\":20,\"_debug_log\":\"azureml_automl.log\",\"show_warnings\":false,\"model_explainability\":true,\"service_url\":null,\"sdk_url\":null,\"sdk_packages\":null,\"enable_onnx_compatible_models\":false,\"enable_split_onnx_featurizer_estimator_models\":false,\"vm_type\":\"STANDARD_DS3_V2\",\"telemetry_verbosity\":20,\"send_telemetry\":true,\"enable_dnn\":false,\"scenario\":\"SDK-1.13.0\",\"environment_label\":null,\"force_text_dnn\":false,\"enable_feature_sweeping\":true,\"enable_early_stopping\":true,\"early_stopping_n_iters\":10,\"metrics\":null,\"enable_ensembling\":true,\"enable_stack_ensembling\":true,\"ensemble_iterations\":15,\"enable_tf\":false,\"enable_subsampling\":null,\"subsample_seed\":null,\"enable_nimbusml\":false,\"enable_streaming\":false,\"force_streaming\":false,\"track_child_runs\":true,\"allowed_private_models\":[],\"label_column_name\":\"Attrition_Flag\",\"weight_column_name\":null,\"cv_split_column_names\":null,\"enable_local_managed\":false,\"_local_managed_run_id\":null,\"cost_mode\":1,\"lag_length\":0,\"metric_operation\":\"maximize\",\"preprocess\":true}',\n  'DataPrepJsonString': '{\\\\\"training_data\\\\\": \\\\\"{\\\\\\\\\\\\\"blocks\\\\\\\\\\\\\": [{\\\\\\\\\\\\\"id\\\\\\\\\\\\\": \\\\\\\\\\\\\"ffbaea49-ba92-4137-aaba-a2eca2ee2fef\\\\\\\\\\\\\", \\\\\\\\\\\\\"type\\\\\\\\\\\\\": \\\\\\\\\\\\\"Microsoft.DPrep.GetDatastoreFilesBlock\\\\\\\\\\\\\", \\\\\\\\\\\\\"arguments\\\\\\\\\\\\\": {\\\\\\\\\\\\\"datastores\\\\\\\\\\\\\": [{\\\\\\\\\\\\\"datastoreName\\\\\\\\\\\\\": \\\\\\\\\\\\\"workspaceblobstore\\\\\\\\\\\\\", \\\\\\\\\\\\\"path\\\\\\\\\\\\\": \\\\\\\\\\\\\"UI/01-27-2021_024326_UTC/BankChurners.csv\\\\\\\\\\\\\", \\\\\\\\\\\\\"resourceGroup\\\\\\\\\\\\\": \\\\\\\\\\\\\"aml-quickstarts-136271\\\\\\\\\\\\\", \\\\\\\\\\\\\"subscription\\\\\\\\\\\\\": \\\\\\\\\\\\\"a0a76bad-11a1-4a2d-9887-97a29122c8ed\\\\\\\\\\\\\", \\\\\\\\\\\\\"workspaceName\\\\\\\\\\\\\": \\\\\\\\\\\\\"quick-starts-ws-136271\\\\\\\\\\\\\"}]}, \\\\\\\\\\\\\"localData\\\\\\\\\\\\\": {}, \\\\\\\\\\\\\"isEnabled\\\\\\\\\\\\\": true, \\\\\\\\\\\\\"name\\\\\\\\\\\\\": null, \\\\\\\\\\\\\"annotation\\\\\\\\\\\\\": null}, {\\\\\\\\\\\\\"id\\\\\\\\\\\\\": \\\\\\\\\\\\\"97346d8f-71cf-47ed-8792-3c9dbd2221c0\\\\\\\\\\\\\", \\\\\\\\\\\\\"type\\\\\\\\\\\\\": \\\\\\\\\\\\\"Microsoft.DPrep.ParseDelimitedBlock\\\\\\\\\\\\\", \\\\\\\\\\\\\"arguments\\\\\\\\\\\\\": {\\\\\\\\\\\\\"columnHeadersMode\\\\\\\\\\\\\": 1, \\\\\\\\\\\\\"fileEncoding\\\\\\\\\\\\\": 0, \\\\\\\\\\\\\"handleQuotedLineBreaks\\\\\\\\\\\\\": false, \\\\\\\\\\\\\"preview\\\\\\\\\\\\\": false, \\\\\\\\\\\\\"separator\\\\\\\\\\\\\": \\\\\\\\\\\\\",\\\\\\\\\\\\\", \\\\\\\\\\\\\"skipRows\\\\\\\\\\\\\": 0, \\\\\\\\\\\\\"skipRowsMode\\\\\\\\\\\\\": 0}, \\\\\\\\\\\\\"localData\\\\\\\\\\\\\": {}, \\\\\\\\\\\\\"isEnabled\\\\\\\\\\\\\": true, \\\\\\\\\\\\\"name\\\\\\\\\\\\\": null, \\\\\\\\\\\\\"annotation\\\\\\\\\\\\\": null}, {\\\\\\\\\\\\\"id\\\\\\\\\\\\\": \\\\\\\\\\\\\"54f650ef-ba11-4c80-8b7b-d8db9e57e69b\\\\\\\\\\\\\", \\\\\\\\\\\\\"type\\\\\\\\\\\\\": \\\\\\\\\\\\\"Microsoft.DPrep.DropColumnsBlock\\\\\\\\\\\\\", \\\\\\\\\\\\\"arguments\\\\\\\\\\\\\": {\\\\\\\\\\\\\"columns\\\\\\\\\\\\\": {\\\\\\\\\\\\\"type\\\\\\\\\\\\\": 0, \\\\\\\\\\\\\"details\\\\\\\\\\\\\": {\\\\\\\\\\\\\"selectedColumns\\\\\\\\\\\\\": [\\\\\\\\\\\\\"Path\\\\\\\\\\\\\"]}}}, \\\\\\\\\\\\\"localData\\\\\\\\\\\\\": {}, \\\\\\\\\\\\\"isEnabled\\\\\\\\\\\\\": true, \\\\\\\\\\\\\"name\\\\\\\\\\\\\": null, \\\\\\\\\\\\\"annotation\\\\\\\\\\\\\": null}, {\\\\\\\\\\\\\"id\\\\\\\\\\\\\": \\\\\\\\\\\\\"41f2e703-c615-48f0-bcf1-718ef60631b1\\\\\\\\\\\\\", \\\\\\\\\\\\\"type\\\\\\\\\\\\\": \\\\\\\\\\\\\"Microsoft.DPrep.SetColumnTypesBlock\\\\\\\\\\\\\", \\\\\\\\\\\\\"arguments\\\\\\\\\\\\\": {\\\\\\\\\\\\\"columnConversion\\\\\\\\\\\\\": [{\\\\\\\\\\\\\"column\\\\\\\\\\\\\": {\\\\\\\\\\\\\"type\\\\\\\\\\\\\": 2, \\\\\\\\\\\\\"details\\\\\\\\\\\\\": {\\\\\\\\\\\\\"selectedColumn\\\\\\\\\\\\\": \\\\\\\\\\\\\"Path\\\\\\\\\\\\\"}}, \\\\\\\\\\\\\"typeProperty\\\\\\\\\\\\\": 0}, {\\\\\\\\\\\\\"column\\\\\\\\\\\\\": {\\\\\\\\\\\\\"type\\\\\\\\\\\\\": 2, \\\\\\\\\\\\\"details\\\\\\\\\\\\\": {\\\\\\\\\\\\\"selectedColumn\\\\\\\\\\\\\": \\\\\\\\\\\\\"CLIENTNUM\\\\\\\\\\\\\"}}, \\\\\\\\\\\\\"typeProperty\\\\\\\\\\\\\": 2}, {\\\\\\\\\\\\\"column\\\\\\\\\\\\\": {\\\\\\\\\\\\\"type\\\\\\\\\\\\\": 2, \\\\\\\\\\\\\"details\\\\\\\\\\\\\": {\\\\\\\\\\\\\"selectedColumn\\\\\\\\\\\\\": \\\\\\\\\\\\\"Attrition_Flag\\\\\\\\\\\\\"}}, \\\\\\\\\\\\\"typeProperty\\\\\\\\\\\\\": 0}, {\\\\\\\\\\\\\"column\\\\\\\\\\\\\": {\\\\\\\\\\\\\"type\\\\\\\\\\\\\": 2, \\\\\\\\\\\\\"details\\\\\\\\\\\\\": {\\\\\\\\\\\\\"selectedColumn\\\\\\\\\\\\\": \\\\\\\\\\\\\"Customer_Age\\\\\\\\\\\\\"}}, \\\\\\\\\\\\\"typeProperty\\\\\\\\\\\\\": 2}, {\\\\\\\\\\\\\"column\\\\\\\\\\\\\": {\\\\\\\\\\\\\"type\\\\\\\\\\\\\": 2, \\\\\\\\\\\\\"details\\\\\\\\\\\\\": {\\\\\\\\\\\\\"selectedColumn\\\\\\\\\\\\\": \\\\\\\\\\\\\"Gender\\\\\\\\\\\\\"}}, \\\\\\\\\\\\\"typeProperty\\\\\\\\\\\\\": 0}, {\\\\\\\\\\\\\"column\\\\\\\\\\\\\": {\\\\\\\\\\\\\"type\\\\\\\\\\\\\": 2, \\\\\\\\\\\\\"details\\\\\\\\\\\\\": {\\\\\\\\\\\\\"selectedColumn\\\\\\\\\\\\\": \\\\\\\\\\\\\"Dependent_count\\\\\\\\\\\\\"}}, \\\\\\\\\\\\\"typeProperty\\\\\\\\\\\\\": 2}, {\\\\\\\\\\\\\"column\\\\\\\\\\\\\": {\\\\\\\\\\\\\"type\\\\\\\\\\\\\": 2, \\\\\\\\\\\\\"details\\\\\\\\\\\\\": {\\\\\\\\\\\\\"selectedColumn\\\\\\\\\\\\\": \\\\\\\\\\\\\"Education_Level\\\\\\\\\\\\\"}}, \\\\\\\\\\\\\"typeProperty\\\\\\\\\\\\\": 0}, {\\\\\\\\\\\\\"column\\\\\\\\\\\\\": {\\\\\\\\\\\\\"type\\\\\\\\\\\\\": 2, \\\\\\\\\\\\\"details\\\\\\\\\\\\\": {\\\\\\\\\\\\\"selectedColumn\\\\\\\\\\\\\": \\\\\\\\\\\\\"Marital_Status\\\\\\\\\\\\\"}}, \\\\\\\\\\\\\"typeProperty\\\\\\\\\\\\\": 0}, {\\\\\\\\\\\\\"column\\\\\\\\\\\\\": {\\\\\\\\\\\\\"type\\\\\\\\\\\\\": 2, \\\\\\\\\\\\\"details\\\\\\\\\\\\\": {\\\\\\\\\\\\\"selectedColumn\\\\\\\\\\\\\": \\\\\\\\\\\\\"Income_Category\\\\\\\\\\\\\"}}, \\\\\\\\\\\\\"typeProperty\\\\\\\\\\\\\": 0}, {\\\\\\\\\\\\\"column\\\\\\\\\\\\\": {\\\\\\\\\\\\\"type\\\\\\\\\\\\\": 2, \\\\\\\\\\\\\"details\\\\\\\\\\\\\": {\\\\\\\\\\\\\"selectedColumn\\\\\\\\\\\\\": \\\\\\\\\\\\\"Card_Category\\\\\\\\\\\\\"}}, \\\\\\\\\\\\\"typeProperty\\\\\\\\\\\\\": 0}, {\\\\\\\\\\\\\"column\\\\\\\\\\\\\": {\\\\\\\\\\\\\"type\\\\\\\\\\\\\": 2, \\\\\\\\\\\\\"details\\\\\\\\\\\\\": {\\\\\\\\\\\\\"selectedColumn\\\\\\\\\\\\\": \\\\\\\\\\\\\"Months_on_book\\\\\\\\\\\\\"}}, \\\\\\\\\\\\\"typeProperty\\\\\\\\\\\\\": 2}, {\\\\\\\\\\\\\"column\\\\\\\\\\\\\": {\\\\\\\\\\\\\"type\\\\\\\\\\\\\": 2, \\\\\\\\\\\\\"details\\\\\\\\\\\\\": {\\\\\\\\\\\\\"selectedColumn\\\\\\\\\\\\\": \\\\\\\\\\\\\"Total_Relationship_Count\\\\\\\\\\\\\"}}, \\\\\\\\\\\\\"typeProperty\\\\\\\\\\\\\": 2}, {\\\\\\\\\\\\\"column\\\\\\\\\\\\\": {\\\\\\\\\\\\\"type\\\\\\\\\\\\\": 2, \\\\\\\\\\\\\"details\\\\\\\\\\\\\": {\\\\\\\\\\\\\"selectedColumn\\\\\\\\\\\\\": \\\\\\\\\\\\\"Months_Inactive_12_mon\\\\\\\\\\\\\"}}, \\\\\\\\\\\\\"typeProperty\\\\\\\\\\\\\": 2}, {\\\\\\\\\\\\\"column\\\\\\\\\\\\\": {\\\\\\\\\\\\\"type\\\\\\\\\\\\\": 2, \\\\\\\\\\\\\"details\\\\\\\\\\\\\": {\\\\\\\\\\\\\"selectedColumn\\\\\\\\\\\\\": \\\\\\\\\\\\\"Contacts_Count_12_mon\\\\\\\\\\\\\"}}, \\\\\\\\\\\\\"typeProperty\\\\\\\\\\\\\": 2}, {\\\\\\\\\\\\\"column\\\\\\\\\\\\\": {\\\\\\\\\\\\\"type\\\\\\\\\\\\\": 2, \\\\\\\\\\\\\"details\\\\\\\\\\\\\": {\\\\\\\\\\\\\"selectedColumn\\\\\\\\\\\\\": \\\\\\\\\\\\\"Credit_Limit\\\\\\\\\\\\\"}}, \\\\\\\\\\\\\"typeProperty\\\\\\\\\\\\\": 3}, {\\\\\\\\\\\\\"column\\\\\\\\\\\\\": {\\\\\\\\\\\\\"type\\\\\\\\\\\\\": 2, \\\\\\\\\\\\\"details\\\\\\\\\\\\\": {\\\\\\\\\\\\\"selectedColumn\\\\\\\\\\\\\": \\\\\\\\\\\\\"Total_Revolving_Bal\\\\\\\\\\\\\"}}, \\\\\\\\\\\\\"typeProperty\\\\\\\\\\\\\": 2}, {\\\\\\\\\\\\\"column\\\\\\\\\\\\\": {\\\\\\\\\\\\\"type\\\\\\\\\\\\\": 2, \\\\\\\\\\\\\"details\\\\\\\\\\\\\": {\\\\\\\\\\\\\"selectedColumn\\\\\\\\\\\\\": \\\\\\\\\\\\\"Avg_Open_To_Buy\\\\\\\\\\\\\"}}, \\\\\\\\\\\\\"typeProperty\\\\\\\\\\\\\": 3}, {\\\\\\\\\\\\\"column\\\\\\\\\\\\\": {\\\\\\\\\\\\\"type\\\\\\\\\\\\\": 2, \\\\\\\\\\\\\"details\\\\\\\\\\\\\": {\\\\\\\\\\\\\"selectedColumn\\\\\\\\\\\\\": \\\\\\\\\\\\\"Total_Amt_Chng_Q4_Q1\\\\\\\\\\\\\"}}, \\\\\\\\\\\\\"typeProperty\\\\\\\\\\\\\": 3}, {\\\\\\\\\\\\\"column\\\\\\\\\\\\\": {\\\\\\\\\\\\\"type\\\\\\\\\\\\\": 2, \\\\\\\\\\\\\"details\\\\\\\\\\\\\": {\\\\\\\\\\\\\"selectedColumn\\\\\\\\\\\\\": \\\\\\\\\\\\\"Total_Trans_Amt\\\\\\\\\\\\\"}}, \\\\\\\\\\\\\"typeProperty\\\\\\\\\\\\\": 2}, {\\\\\\\\\\\\\"column\\\\\\\\\\\\\": {\\\\\\\\\\\\\"type\\\\\\\\\\\\\": 2, \\\\\\\\\\\\\"details\\\\\\\\\\\\\": {\\\\\\\\\\\\\"selectedColumn\\\\\\\\\\\\\": \\\\\\\\\\\\\"Total_Trans_Ct\\\\\\\\\\\\\"}}, \\\\\\\\\\\\\"typeProperty\\\\\\\\\\\\\": 2}, {\\\\\\\\\\\\\"column\\\\\\\\\\\\\": {\\\\\\\\\\\\\"type\\\\\\\\\\\\\": 2, \\\\\\\\\\\\\"details\\\\\\\\\\\\\": {\\\\\\\\\\\\\"selectedColumn\\\\\\\\\\\\\": \\\\\\\\\\\\\"Total_Ct_Chng_Q4_Q1\\\\\\\\\\\\\"}}, \\\\\\\\\\\\\"typeProperty\\\\\\\\\\\\\": 3}, {\\\\\\\\\\\\\"column\\\\\\\\\\\\\": {\\\\\\\\\\\\\"type\\\\\\\\\\\\\": 2, \\\\\\\\\\\\\"details\\\\\\\\\\\\\": {\\\\\\\\\\\\\"selectedColumn\\\\\\\\\\\\\": \\\\\\\\\\\\\"Avg_Utilization_Ratio\\\\\\\\\\\\\"}}, \\\\\\\\\\\\\"typeProperty\\\\\\\\\\\\\": 3}]}, \\\\\\\\\\\\\"localData\\\\\\\\\\\\\": {}, \\\\\\\\\\\\\"isEnabled\\\\\\\\\\\\\": true, \\\\\\\\\\\\\"name\\\\\\\\\\\\\": null, \\\\\\\\\\\\\"annotation\\\\\\\\\\\\\": null}], \\\\\\\\\\\\\"inspectors\\\\\\\\\\\\\": [], \\\\\\\\\\\\\"meta\\\\\\\\\\\\\": {\\\\\\\\\\\\\"savedDatasetId\\\\\\\\\\\\\": \\\\\\\\\\\\\"e84903da-a8e6-4489-953d-77d1c09cc9b0\\\\\\\\\\\\\", \\\\\\\\\\\\\"datasetType\\\\\\\\\\\\\": \\\\\\\\\\\\\"tabular\\\\\\\\\\\\\", \\\\\\\\\\\\\"subscriptionId\\\\\\\\\\\\\": \\\\\\\\\\\\\"a0a76bad-11a1-4a2d-9887-97a29122c8ed\\\\\\\\\\\\\", \\\\\\\\\\\\\"workspaceId\\\\\\\\\\\\\": \\\\\\\\\\\\\"a0570dff-29d1-4f46-8a51-2b52c75fd387\\\\\\\\\\\\\", \\\\\\\\\\\\\"workspaceLocation\\\\\\\\\\\\\": \\\\\\\\\\\\\"southcentralus\\\\\\\\\\\\\"}}\\\\\", \\\\\"activities\\\\\": 0}',\n  'EnableSubsampling': None,\n  'runTemplate': 'AutoML',\n  'azureml.runsource': 'automl',\n  'display_task_type': 'classification',\n  'dependencies_versions': '{\"azureml-widgets\": \"1.20.0\", \"azureml-train\": \"1.20.0\", \"azureml-train-restclients-hyperdrive\": \"1.20.0\", \"azureml-train-core\": \"1.20.0\", \"azureml-train-automl\": \"1.20.0\", \"azureml-train-automl-runtime\": \"1.20.0\", \"azureml-train-automl-client\": \"1.20.0\", \"azureml-tensorboard\": \"1.20.0\", \"azureml-telemetry\": \"1.20.0\", \"azureml-sdk\": \"1.20.0\", \"azureml-samples\": \"0+unknown\", \"azureml-pipeline\": \"1.20.0\", \"azureml-pipeline-steps\": \"1.20.0\", \"azureml-pipeline-core\": \"1.20.0\", \"azureml-opendatasets\": \"1.20.0\", \"azureml-model-management-sdk\": \"1.0.1b6.post1\", \"azureml-mlflow\": \"1.20.0.post1\", \"azureml-interpret\": \"1.20.0\", \"azureml-explain-model\": \"1.20.0\", \"azureml-defaults\": \"1.20.0\", \"azureml-dataset-runtime\": \"1.20.0\", \"azureml-dataprep\": \"2.7.3\", \"azureml-dataprep-rslex\": \"1.5.0\", \"azureml-dataprep-native\": \"27.0.0\", \"azureml-datadrift\": \"1.20.0\", \"azureml-core\": \"1.20.0\", \"azureml-contrib-services\": \"1.20.0\", \"azureml-contrib-server\": \"1.20.0\", \"azureml-contrib-reinforcementlearning\": \"1.20.0\", \"azureml-contrib-pipeline-steps\": \"1.20.0\", \"azureml-contrib-notebook\": \"1.20.0\", \"azureml-contrib-interpret\": \"1.20.0\", \"azureml-contrib-gbdt\": \"1.20.0\", \"azureml-contrib-fairness\": \"1.20.0\", \"azureml-contrib-dataset\": \"1.20.0\", \"azureml-cli-common\": \"1.20.0\", \"azureml-automl-runtime\": \"1.20.0\", \"azureml-automl-core\": \"1.20.0\", \"azureml-accel-models\": \"1.20.0\"}',\n  '_aml_system_scenario_identification': 'Remote.Parent',\n  'ClientType': 'SDK',\n  'environment_cpu_name': 'AzureML-AutoML',\n  'environment_cpu_label': 'prod',\n  'environment_gpu_name': 'AzureML-AutoML-GPU',\n  'environment_gpu_label': 'prod',\n  'root_attribution': 'automl',\n  'attribution': 'AutoML',\n  'Orchestrator': 'AutoML',\n  'CancelUri': 'https://southcentralus.experiments.azureml.net/jasmine/v1.0/subscriptions/a0a76bad-11a1-4a2d-9887-97a29122c8ed/resourceGroups/aml-quickstarts-136271/providers/Microsoft.MachineLearningServices/workspaces/quick-starts-ws-136271/experimentids/9efc085c-5d8c-4933-8327-87ea0261b5c5/cancel/AutoML_8d692d64-e5eb-4ca1-b421-5728dcd27d44',\n  'ClientSdkVersion': '1.20.0.post1',\n  'snapshotId': '00000000-0000-0000-0000-000000000000',\n  'SetupRunId': 'AutoML_8d692d64-e5eb-4ca1-b421-5728dcd27d44_setup',\n  'SetupRunContainerId': 'dcid.AutoML_8d692d64-e5eb-4ca1-b421-5728dcd27d44_setup',\n  'FeaturizationRunJsonPath': 'featurizer_container.json',\n  'FeaturizationRunId': 'AutoML_8d692d64-e5eb-4ca1-b421-5728dcd27d44_featurize',\n  'ProblemInfoJsonString': '{\"dataset_num_categorical\": 0, \"is_sparse\": true, \"subsampling\": false, \"dataset_classes\": 2, \"dataset_features\": 146, \"dataset_samples\": 10127, \"single_frequency_class_detected\": false}',\n  'ModelExplainRunId': 'AutoML_8d692d64-e5eb-4ca1-b421-5728dcd27d44_ModelExplain'},\n 'inputDatasets': [{'dataset': {'id': 'e84903da-a8e6-4489-953d-77d1c09cc9b0'}, 'consumptionDetails': {'type': 'RunInput', 'inputName': 'training_data', 'mechanism': 'Direct'}}],\n 'outputDatasets': [],\n 'logFiles': {},\n 'submittedBy': 'ODL_User 136271'}"
          },
          "metadata": {}
        }
      ],
      "execution_count": 7,
      "metadata": {
        "gather": {
          "logged": 1611760767007
        },
        "jupyter": {
          "outputs_hidden": false,
          "source_hidden": false
        },
        "nteract": {
          "transient": {
            "deleting": false
          }
        }
      }
    },
    {
      "cell_type": "markdown",
      "source": [
        "## Best Model\n",
        "\n",
        "TODO: In the cell below, get the best model from the automl experiments and display all the properties of the model.\n",
        "\n"
      ],
      "metadata": {}
    },
    {
      "cell_type": "code",
      "source": [
        "# Retrieve the best AutoML model\n",
        "best_run, best_model = remote_run.get_output()\n",
        "best_metrics = best_run.get_metrics()"
      ],
      "outputs": [],
      "execution_count": 8,
      "metadata": {
        "gather": {
          "logged": 1611760798735
        },
        "jupyter": {
          "outputs_hidden": false,
          "source_hidden": false
        },
        "nteract": {
          "transient": {
            "deleting": false
          }
        }
      }
    },
    {
      "cell_type": "code",
      "source": [
        "#Save the best model\n",
        "# model = best_run.register_model(model_name = \"best-automl-model\", model_path = \"./outputs/\")\n",
        "model = best_run.register_model(model_name='best-automl-model',model_path='outputs/model.pkl', tags={'Method':'AutoML'}, properties={'accuracy': best_metrics['accuracy']})\n",
        "print(model)\n",
        "print(best_run)"
      ],
      "outputs": [
        {
          "output_type": "stream",
          "name": "stdout",
          "text": [
            "Model(workspace=Workspace.create(name='quick-starts-ws-136271', subscription_id='a0a76bad-11a1-4a2d-9887-97a29122c8ed', resource_group='aml-quickstarts-136271'), name=best-automl-model, id=best-automl-model:1, version=1, tags={'Method': 'AutoML'}, properties={'accuracy': '0.9720551167281024'})\n",
            "Run(Experiment: demo-automl-experiment,\n",
            "Id: AutoML_8d692d64-e5eb-4ca1-b421-5728dcd27d44_49,\n",
            "Type: azureml.scriptrun,\n",
            "Status: Completed)\n"
          ]
        }
      ],
      "execution_count": 9,
      "metadata": {
        "gather": {
          "logged": 1611760799224
        },
        "jupyter": {
          "outputs_hidden": false,
          "source_hidden": false
        },
        "nteract": {
          "transient": {
            "deleting": false
          }
        }
      }
    },
    {
      "cell_type": "code",
      "source": [
        "print(best_metrics[\"accuracy\"])\n",
        "print(best_model._final_estimator)"
      ],
      "outputs": [
        {
          "output_type": "stream",
          "name": "stdout",
          "text": [
            "0.9720551167281024\n",
            "PreFittedSoftVotingClassifier(classification_labels=None,\n",
            "                              estimators=[('32',\n",
            "                                           Pipeline(memory=None,\n",
            "                                                    steps=[('standardscalerwrapper',\n",
            "                                                            <azureml.automl.runtime.shared.model_wrappers.StandardScalerWrapper object at 0x7f4787359940>),\n",
            "                                                           ('xgboostclassifier',\n",
            "                                                            XGBoostClassifier(base_score=0.5,\n",
            "                                                                              booster='gbtree',\n",
            "                                                                              colsample_bylevel=1,\n",
            "                                                                              colsample_bynode=1,\n",
            "                                                                              colsample_bytree=1,\n",
            "                                                                              e...\n",
            "                                                                                 min_impurity_split=None,\n",
            "                                                                                 min_samples_leaf=0.01,\n",
            "                                                                                 min_samples_split=0.10368421052631578,\n",
            "                                                                                 min_weight_fraction_leaf=0.0,\n",
            "                                                                                 n_estimators=10,\n",
            "                                                                                 n_jobs=1,\n",
            "                                                                                 oob_score=True,\n",
            "                                                                                 random_state=None,\n",
            "                                                                                 verbose=0,\n",
            "                                                                                 warm_start=False))],\n",
            "                                                    verbose=False))],\n",
            "                              flatten_transform=None,\n",
            "                              weights=[0.2727272727272727, 0.18181818181818182,\n",
            "                                       0.2727272727272727, 0.09090909090909091,\n",
            "                                       0.09090909090909091,\n",
            "                                       0.09090909090909091])\n"
          ]
        }
      ],
      "execution_count": 10,
      "metadata": {
        "gather": {
          "logged": 1611760874351
        },
        "jupyter": {
          "outputs_hidden": false,
          "source_hidden": false
        },
        "nteract": {
          "transient": {
            "deleting": false
          }
        }
      }
    },
    {
      "cell_type": "markdown",
      "source": [
        "## Model Deployment\n",
        "\n",
        "Remember you have to deploy only one of the two models you trained.. Perform the steps in the rest of this notebook only if you wish to deploy this model.\n",
        "\n",
        "TODO: In the cell below, register the model, create an inference config and deploy the model as a web service."
      ],
      "metadata": {}
    },
    {
      "cell_type": "code",
      "source": [
        "from azureml.core import Environment\n",
        "from azureml.core.model import InferenceConfig\n",
        "from azureml.automl.core.shared import constants\n",
        "\n",
        "best_run.download_file('./outputs/model.pkl', './outputs/bankchurners-auto-model.pkl')\n",
        "best_run.download_file('./outputs/scoring_file_v_1_0_0.py', './outputs/score_aml.py')\n",
        "best_run.download_file('./automl_driver.py', './outputs/automl_driver.py')\n",
        "best_run.download_file(constants.CONDA_ENV_FILE_PATH, 'myenv.yml')\n",
        "\n",
        "myenv = Environment.from_conda_specification(name=\"myenv\", file_path=\"myenv.yml\")\n",
        "\n",
        "# Create the inference config\n",
        "\n",
        "inference_config = InferenceConfig(entry_script='./score.py', environment=myenv)\n"
      ],
      "outputs": [],
      "execution_count": 11,
      "metadata": {
        "gather": {
          "logged": 1611760878426
        },
        "jupyter": {
          "outputs_hidden": false,
          "source_hidden": false
        },
        "nteract": {
          "transient": {
            "deleting": false
          }
        }
      }
    },
    {
      "cell_type": "code",
      "source": [
        "f = open(\"envnew.yml\", \"w\")\n",
        "f.write(myenv.python.conda_dependencies.serialize_to_string())\n",
        "f.close()\n",
        "\n",
        "print(\"packages\", myenv.python.conda_dependencies.serialize_to_string())"
      ],
      "outputs": [],
      "execution_count": null,
      "metadata": {
        "collapsed": true,
        "gather": {
          "logged": 1611589874761
        },
        "jupyter": {
          "outputs_hidden": false,
          "source_hidden": false
        },
        "nteract": {
          "transient": {
            "deleting": false
          }
        }
      }
    },
    {
      "cell_type": "code",
      "source": [
        "# Deploy the model as a webservice\n",
        "from azureml.core.webservice import AciWebservice\n",
        "\n",
        "deployment_config = AciWebservice.deploy_configuration(\n",
        "    cpu_cores=1,\n",
        "    memory_gb = 1,\n",
        "    enable_app_insights = True\n",
        ")\n",
        "service = Model.deploy(ws, 'model-service', [model], inference_config, deployment_config)\n",
        "\n",
        "print(service.state)\n",
        "\n",
        "# Wait until deployment is complete\n",
        "service.wait_for_deployment(show_output = True)\n"
      ],
      "outputs": [
        {
          "output_type": "stream",
          "name": "stdout",
          "text": [
            "Transitioning\n",
            "Tips: You can try get_logs(): https://aka.ms/debugimage#dockerlog or local deployment: https://aka.ms/debugimage#debug-locally to debug if deployment takes longer than 10 minutes.\n",
            "Running..............................................................................................................................................................................................\n",
            "Succeeded\n",
            "ACI service creation operation finished, operation \"Succeeded\"\n"
          ]
        }
      ],
      "execution_count": 12,
      "metadata": {
        "gather": {
          "logged": 1611761855910
        }
      }
    },
    {
      "cell_type": "code",
      "source": [
        "print(service.get_logs)"
      ],
      "outputs": [
        {
          "output_type": "stream",
          "name": "stdout",
          "text": [
            "<bound method Webservice.get_logs of AciWebservice(workspace=Workspace.create(name='quick-starts-ws-136271', subscription_id='a0a76bad-11a1-4a2d-9887-97a29122c8ed', resource_group='aml-quickstarts-136271'), name=model-service, image_id=None, compute_type=None, state=ACI, scoring_uri=Healthy, tags=http://c6934c01-0d11-4f59-ae43-08c25aaff49e.southcentralus.azurecontainer.io/score, properties={}, created_by={'hasInferenceSchema': 'True', 'hasHttps': 'False'})>\n"
          ]
        }
      ],
      "execution_count": 13,
      "metadata": {
        "gather": {
          "logged": 1611761873265
        },
        "jupyter": {
          "outputs_hidden": false,
          "source_hidden": false
        },
        "nteract": {
          "transient": {
            "deleting": false
          }
        }
      }
    },
    {
      "cell_type": "markdown",
      "source": [
        "TODO: In the cell below, send a request to the web service you deployed to test it."
      ],
      "metadata": {
        "collapsed": true,
        "gather": {
          "logged": 1598431657736
        },
        "jupyter": {
          "outputs_hidden": false,
          "source_hidden": false
        },
        "nteract": {
          "transient": {
            "deleting": false
          }
        }
      }
    },
    {
      "cell_type": "code",
      "source": [
        "import json\n",
        "\n",
        "# Importing the data set for testing \n",
        "\n",
        "sample_data = dataset.to_pandas_dataframe().sample(10)\n",
        "data_sample = sample_data.pop('Attrition_Flag') \n",
        "\n",
        "test_sample = json.dumps({'data': data_sample.to_dict()})\n",
        "\n",
        "print(test_sample)"
      ],
      "outputs": [
        {
          "output_type": "stream",
          "name": "stdout",
          "text": [
            "{\"data\": {\"4354\": \"Existing Customer\", \"6875\": \"Existing Customer\", \"8241\": \"Existing Customer\", \"6161\": \"Existing Customer\", \"1658\": \"Existing Customer\", \"2388\": \"Existing Customer\", \"2277\": \"Existing Customer\", \"4784\": \"Existing Customer\", \"4717\": \"Existing Customer\", \"5958\": \"Attrited Customer\"}}\n"
          ]
        }
      ],
      "execution_count": 14,
      "metadata": {
        "gather": {
          "logged": 1611761885563
        }
      }
    },
    {
      "cell_type": "code",
      "source": [
        "import requests\n",
        "# scoring_uri = ''\n",
        "headers = {'Content-type': 'application/json'}\n",
        "\n",
        "response = requests.post(service.scoring_uri, test_sample, headers=headers)"
      ],
      "outputs": [],
      "execution_count": 15,
      "metadata": {
        "gather": {
          "logged": 1611761890869
        }
      }
    },
    {
      "cell_type": "code",
      "source": [
        "# Print results from the inference\n",
        "print(response.status_code)\n",
        "print(response.text)"
      ],
      "outputs": [
        {
          "output_type": "stream",
          "name": "stdout",
          "text": [
            "502\n",
            "If using all scalar values, you must pass an index\n"
          ]
        }
      ],
      "execution_count": 16,
      "metadata": {
        "gather": {
          "logged": 1611761893593
        },
        "scrolled": true
      }
    },
    {
      "cell_type": "markdown",
      "source": [
        "TODO: In the cell below, print the logs of the web service and delete the service"
      ],
      "metadata": {
        "collapsed": true,
        "gather": {
          "logged": 1598432765711
        },
        "jupyter": {
          "outputs_hidden": false,
          "source_hidden": false
        },
        "nteract": {
          "transient": {
            "deleting": false
          }
        }
      }
    },
    {
      "cell_type": "code",
      "source": [
        "# Print web service logs\n",
        "service_logs = service.get_logs()\n",
        "\n",
        "for line in service_logs.split('\\n'):\n",
        "    print(line)\n",
        "\n",
        "# Delete the service\n",
        "service.delete()"
      ],
      "outputs": [],
      "execution_count": null,
      "metadata": {
        "gather": {
          "logged": 1610781090481
        },
        "jupyter": {
          "outputs_hidden": false,
          "source_hidden": false
        },
        "nteract": {
          "transient": {
            "deleting": false
          }
        }
      }
    }
  ],
  "metadata": {
    "kernel_info": {
      "name": "python3"
    },
    "kernelspec": {
      "name": "python3",
      "language": "python",
      "display_name": "Python 3"
    },
    "language_info": {
      "name": "python",
      "version": "3.6.9",
      "mimetype": "text/x-python",
      "codemirror_mode": {
        "name": "ipython",
        "version": 3
      },
      "pygments_lexer": "ipython3",
      "nbconvert_exporter": "python",
      "file_extension": ".py"
    },
    "nteract": {
      "version": "nteract-front-end@1.0.0"
    }
  },
  "nbformat": 4,
  "nbformat_minor": 2
}