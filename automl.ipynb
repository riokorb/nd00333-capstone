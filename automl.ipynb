{
  "cells": [
    {
      "cell_type": "markdown",
      "source": [
        "# Automated ML\n",
        "\n",
        "TODO: Import Dependencies. In the cell below, import all the dependencies that you will need to complete the project."
      ],
      "metadata": {}
    },
    {
      "cell_type": "code",
      "source": [
        "from azureml.core import Experiment, Model, Webservice\n",
        "from azureml.core.workspace import Workspace\n",
        "from azureml.core.dataset import Dataset\n",
        "from azureml.train.automl import AutoMLConfig\n",
        "from azureml.core.compute import ComputeTarget, AmlCompute\n",
        "from azureml.core.compute_target import ComputeTargetException\n",
        "from azureml.pipeline.steps import AutoMLStep\n",
        "\n",
        "import pandas as pd"
      ],
      "outputs": [],
      "execution_count": 1,
      "metadata": {
        "gather": {
          "logged": 1612785339174
        },
        "jupyter": {
          "outputs_hidden": false,
          "source_hidden": false
        },
        "nteract": {
          "transient": {
            "deleting": false
          }
        }
      }
    },
    {
      "cell_type": "markdown",
      "source": [
        "## Dataset\n",
        "\n",
        "### Overview\n",
        "TODO: In this markdown cell, give an overview of the dataset you are using. Also mention the task you will be performing.\n",
        "We will be using the 'Credit Card customers' dataset from Kaggle and predicting if a customer is likely to churn.\n",
        "\n",
        "TODO: Get data. In the cell below, write code to access the data you will be using in this project. Remember that the dataset needs to be external."
      ],
      "metadata": {}
    },
    {
      "cell_type": "code",
      "source": [
        "ws = Workspace.from_config()\n",
        "\n",
        "# Choose a name for experiment\n",
        "experiment_name = 'demo-automl-experiment'\n",
        "\n",
        "experiment=Experiment(ws, experiment_name)\n",
        "\n",
        "# Prepare the datastore to upload data\n",
        "datastore = ws.get_default_datastore()\n",
        "\n",
        "# Set the upload location to target_path in datastore\n",
        "datastore.upload(src_dir='./', target_path = 'data')"
      ],
      "outputs": [
        {
          "output_type": "stream",
          "name": "stdout",
          "text": [
            "Performing interactive authentication. Please follow the instructions on the terminal.\n",
            "To sign in, use a web browser to open the page https://microsoft.com/devicelogin and enter the code E8YPJSNN8 to authenticate.\n",
            "You have logged in. Now let us find all the subscriptions to which you have access...\n",
            "Interactive authentication successfully completed.\n",
            "Uploading an estimated of 9 files\n",
            "Uploading ./.amlignore\n",
            "Uploaded ./.amlignore, 1 files out of an estimated total of 9\n",
            "Uploading ./.amlignore.amltmp\n",
            "Uploaded ./.amlignore.amltmp, 2 files out of an estimated total of 9\n",
            "Uploading ./automl.ipynb.amltmp\n",
            "Uploaded ./automl.ipynb.amltmp, 3 files out of an estimated total of 9\n",
            "Uploading ./automl.ipynb\n",
            "Uploaded ./automl.ipynb, 4 files out of an estimated total of 9\n",
            "Uploading ./hyperparameter_tuning.ipynb\n",
            "Uploaded ./hyperparameter_tuning.ipynb, 5 files out of an estimated total of 9\n",
            "Uploading ./score.py\n",
            "Uploaded ./score.py, 6 files out of an estimated total of 9\n",
            "Uploading ./train.py\n",
            "Uploaded ./train.py, 7 files out of an estimated total of 9\n",
            "Uploading ./.ipynb_aml_checkpoints/automl-checkpoint2021-1-8-11-49-48.ipynb\n",
            "Uploaded ./.ipynb_aml_checkpoints/automl-checkpoint2021-1-8-11-49-48.ipynb, 8 files out of an estimated total of 9\n",
            "Uploading ./.ipynb_aml_checkpoints/hyperparameter_tuning-checkpoint2021-1-8-11-51-49.ipynb\n",
            "Uploaded ./.ipynb_aml_checkpoints/hyperparameter_tuning-checkpoint2021-1-8-11-51-49.ipynb, 9 files out of an estimated total of 9\n",
            "Uploaded 9 files\n"
          ]
        },
        {
          "output_type": "execute_result",
          "execution_count": 2,
          "data": {
            "text/plain": "$AZUREML_DATAREFERENCE_56a25c2972504a6e8e4c55ba3e3e1f57"
          },
          "metadata": {}
        }
      ],
      "execution_count": 2,
      "metadata": {
        "gather": {
          "logged": 1612785367194
        },
        "jupyter": {
          "outputs_hidden": false,
          "source_hidden": false
        },
        "nteract": {
          "transient": {
            "deleting": false
          }
        }
      }
    },
    {
      "cell_type": "code",
      "source": [
        "# Choose a name for CPU cluster\n",
        "compute_name = \"demo-cluster\"\n",
        "\n",
        "# Verify that cluster does not already exist\n",
        "try:\n",
        "    compute_target = ComputeTarget(workspace=ws, name=compute_name)\n",
        "    print('Found existing cluster, use it.')\n",
        "except ComputeTargetException:\n",
        "    compute_config = AmlCompute.provisioning_configuration(vm_size='STANDARD_D2_V2',# for GPU, use \"STANDARD_NC6\"\n",
        "                                                           #vm_priority = 'lowpriority', # optional\n",
        "                                                           max_nodes=4)\n",
        "    compute_target = ComputeTarget.create(ws, compute_name, compute_config)\n",
        "\n",
        "compute_target.wait_for_completion(show_output=True)"
      ],
      "outputs": [
        {
          "output_type": "stream",
          "name": "stdout",
          "text": [
            "Found existing cluster, use it.\n",
            "\n",
            "Running\n"
          ]
        }
      ],
      "execution_count": 3,
      "metadata": {
        "collapsed": true,
        "gather": {
          "logged": 1612785376122
        },
        "jupyter": {
          "outputs_hidden": false,
          "source_hidden": false
        },
        "nteract": {
          "transient": {
            "deleting": false
          }
        }
      }
    },
    {
      "cell_type": "code",
      "source": [
        "dataset = Dataset.get_by_name(ws, name = \"bankchurners\")\n",
        "dataset"
      ],
      "outputs": [
        {
          "output_type": "execute_result",
          "execution_count": 4,
          "data": {
            "text/plain": "{\n  \"source\": [\n    \"('workspaceblobstore', 'UI/02-08-2021_115114_UTC/BankChurners.csv')\"\n  ],\n  \"definition\": [\n    \"GetDatastoreFiles\",\n    \"ParseDelimited\",\n    \"DropColumns\",\n    \"SetColumnTypes\"\n  ],\n  \"registration\": {\n    \"id\": \"e82585d3-5310-4452-a65a-033e2142d090\",\n    \"name\": \"bankchurners\",\n    \"version\": 1,\n    \"workspace\": \"Workspace.create(name='quick-starts-ws-138143', subscription_id='976ee174-3882-4721-b90a-b5fef6b72f24', resource_group='aml-quickstarts-138143')\"\n  }\n}"
          },
          "metadata": {}
        }
      ],
      "execution_count": 4,
      "metadata": {
        "collapsed": true,
        "gather": {
          "logged": 1612785384025
        },
        "jupyter": {
          "outputs_hidden": false,
          "source_hidden": false
        },
        "nteract": {
          "transient": {
            "deleting": false
          }
        }
      }
    },
    {
      "cell_type": "markdown",
      "source": [
        "## AutoML Configuration\n",
        "\n",
        "TODO: Explain why you chose the automl settings and cofiguration you used below."
      ],
      "metadata": {}
    },
    {
      "cell_type": "code",
      "source": [
        "# List the automl settings\n",
        "\n",
        "automl_settings = {\"featurization\":\"auto\",\n",
        "                   \"primary_metric\":\"accuracy\",\n",
        "                   \"enable_early_stopping\":True,\n",
        "                   \"max_concurrent_iterations\":5,\n",
        "                   \"enable_onnx_compatible_models\":True,\n",
        "                   \"n_cross_validations\": 3\n",
        "}\n",
        "\n",
        "# List the automl config\n",
        "\n",
        "automl_config = AutoMLConfig(compute_target= \"demo-cluster\",\n",
        "                             task=\"classification\",\n",
        "                             training_data=dataset,\n",
        "                             label_column_name=\"Attrition_Flag\",\n",
        "                             experiment_timeout_minutes=20,\n",
        "                             **automl_settings)"
      ],
      "outputs": [],
      "execution_count": 5,
      "metadata": {
        "gather": {
          "logged": 1612785394767
        },
        "jupyter": {
          "outputs_hidden": false,
          "source_hidden": false
        },
        "nteract": {
          "transient": {
            "deleting": false
          }
        }
      }
    },
    {
      "cell_type": "markdown",
      "source": [
        "## Run Details\n",
        "\n",
        "OPTIONAL: Write about the different models trained and their performance. Why do you think some models did better than others?\n",
        "\n",
        "TODO: In the cell below, use the `RunDetails` widget to show the different experiments."
      ],
      "metadata": {}
    },
    {
      "cell_type": "code",
      "source": [
        "from azureml.widgets import RunDetails\n",
        "\n",
        "# Submit the experiment\n",
        "remote_run = experiment.submit(automl_config)\n",
        "RunDetails(remote_run).show()"
      ],
      "outputs": [
        {
          "output_type": "stream",
          "name": "stdout",
          "text": [
            "Running on remote.\n"
          ]
        },
        {
          "output_type": "display_data",
          "data": {
            "text/plain": "_AutoMLWidget(widget_settings={'childWidgetDisplay': 'popup', 'send_telemetry': False, 'log_level': 'INFO', 's…",
            "application/vnd.jupyter.widget-view+json": {
              "version_major": 2,
              "version_minor": 0,
              "model_id": "4d1d70ee0ad0426f810bccdea612261d"
            }
          },
          "metadata": {}
        },
        {
          "output_type": "display_data",
          "data": {
            "application/aml.mini.widget.v1": "{\"status\": \"Completed\", \"workbench_run_details_uri\": \"https://ml.azure.com/experiments/demo-automl-experiment/runs/AutoML_d81a2ede-8205-4c13-870a-1cc62b1d5b00?wsid=/subscriptions/976ee174-3882-4721-b90a-b5fef6b72f24/resourcegroups/aml-quickstarts-138143/workspaces/quick-starts-ws-138143\", \"run_id\": \"AutoML_d81a2ede-8205-4c13-870a-1cc62b1d5b00\", \"run_properties\": {\"run_id\": \"AutoML_d81a2ede-8205-4c13-870a-1cc62b1d5b00\", \"created_utc\": \"2021-02-08T11:56:46.237934Z\", \"properties\": {\"num_iterations\": \"1000\", \"training_type\": \"TrainFull\", \"acquisition_function\": \"EI\", \"primary_metric\": \"accuracy\", \"train_split\": \"0\", \"acquisition_parameter\": \"0\", \"num_cross_validation\": \"3\", \"target\": \"demo-cluster\", \"AMLSettingsJsonString\": \"{\\\"path\\\":null,\\\"name\\\":\\\"demo-automl-experiment\\\",\\\"subscription_id\\\":\\\"976ee174-3882-4721-b90a-b5fef6b72f24\\\",\\\"resource_group\\\":\\\"aml-quickstarts-138143\\\",\\\"workspace_name\\\":\\\"quick-starts-ws-138143\\\",\\\"region\\\":\\\"southcentralus\\\",\\\"compute_target\\\":\\\"demo-cluster\\\",\\\"spark_service\\\":null,\\\"azure_service\\\":\\\"remote\\\",\\\"many_models\\\":false,\\\"pipeline_fetch_max_batch_size\\\":1,\\\"iterations\\\":1000,\\\"primary_metric\\\":\\\"accuracy\\\",\\\"task_type\\\":\\\"classification\\\",\\\"data_script\\\":null,\\\"validation_size\\\":0.0,\\\"n_cross_validations\\\":3,\\\"y_min\\\":null,\\\"y_max\\\":null,\\\"num_classes\\\":null,\\\"featurization\\\":\\\"auto\\\",\\\"_ignore_package_version_incompatibilities\\\":false,\\\"is_timeseries\\\":false,\\\"max_cores_per_iteration\\\":1,\\\"max_concurrent_iterations\\\":5,\\\"iteration_timeout_minutes\\\":null,\\\"mem_in_mb\\\":null,\\\"enforce_time_on_windows\\\":false,\\\"experiment_timeout_minutes\\\":20,\\\"experiment_exit_score\\\":null,\\\"whitelist_models\\\":null,\\\"blacklist_algos\\\":[\\\"TensorFlowLinearClassifier\\\",\\\"TensorFlowDNN\\\"],\\\"supported_models\\\":[\\\"GradientBoosting\\\",\\\"BernoulliNaiveBayes\\\",\\\"LinearSVM\\\",\\\"RandomForest\\\",\\\"SVM\\\",\\\"DecisionTree\\\",\\\"AveragedPerceptronClassifier\\\",\\\"TensorFlowDNN\\\",\\\"KNN\\\",\\\"LightGBM\\\",\\\"MultinomialNaiveBayes\\\",\\\"ExtremeRandomTrees\\\",\\\"XGBoostClassifier\\\",\\\"TensorFlowLinearClassifier\\\",\\\"LogisticRegression\\\",\\\"SGD\\\"],\\\"auto_blacklist\\\":true,\\\"blacklist_samples_reached\\\":false,\\\"exclude_nan_labels\\\":true,\\\"verbosity\\\":20,\\\"_debug_log\\\":\\\"azureml_automl.log\\\",\\\"show_warnings\\\":false,\\\"model_explainability\\\":true,\\\"service_url\\\":null,\\\"sdk_url\\\":null,\\\"sdk_packages\\\":null,\\\"enable_onnx_compatible_models\\\":true,\\\"enable_split_onnx_featurizer_estimator_models\\\":false,\\\"vm_type\\\":\\\"STANDARD_DS3_V2\\\",\\\"telemetry_verbosity\\\":20,\\\"send_telemetry\\\":true,\\\"enable_dnn\\\":false,\\\"scenario\\\":\\\"SDK-1.13.0\\\",\\\"environment_label\\\":null,\\\"force_text_dnn\\\":false,\\\"enable_feature_sweeping\\\":false,\\\"enable_early_stopping\\\":true,\\\"early_stopping_n_iters\\\":10,\\\"metrics\\\":null,\\\"enable_ensembling\\\":true,\\\"enable_stack_ensembling\\\":false,\\\"ensemble_iterations\\\":15,\\\"enable_tf\\\":false,\\\"enable_subsampling\\\":null,\\\"subsample_seed\\\":null,\\\"enable_nimbusml\\\":false,\\\"enable_streaming\\\":false,\\\"force_streaming\\\":false,\\\"track_child_runs\\\":true,\\\"allowed_private_models\\\":[],\\\"label_column_name\\\":\\\"Attrition_Flag\\\",\\\"weight_column_name\\\":null,\\\"cv_split_column_names\\\":null,\\\"enable_local_managed\\\":false,\\\"_local_managed_run_id\\\":null,\\\"cost_mode\\\":1,\\\"lag_length\\\":0,\\\"metric_operation\\\":\\\"maximize\\\",\\\"preprocess\\\":true}\", \"DataPrepJsonString\": \"{\\\\\\\"training_data\\\\\\\": \\\\\\\"{\\\\\\\\\\\\\\\"blocks\\\\\\\\\\\\\\\": [{\\\\\\\\\\\\\\\"id\\\\\\\\\\\\\\\": \\\\\\\\\\\\\\\"2d78be52-4730-4b1a-86df-addb6a81ae9f\\\\\\\\\\\\\\\", \\\\\\\\\\\\\\\"type\\\\\\\\\\\\\\\": \\\\\\\\\\\\\\\"Microsoft.DPrep.GetDatastoreFilesBlock\\\\\\\\\\\\\\\", \\\\\\\\\\\\\\\"arguments\\\\\\\\\\\\\\\": {\\\\\\\\\\\\\\\"datastores\\\\\\\\\\\\\\\": [{\\\\\\\\\\\\\\\"datastoreName\\\\\\\\\\\\\\\": \\\\\\\\\\\\\\\"workspaceblobstore\\\\\\\\\\\\\\\", \\\\\\\\\\\\\\\"path\\\\\\\\\\\\\\\": \\\\\\\\\\\\\\\"UI/02-08-2021_115114_UTC/BankChurners.csv\\\\\\\\\\\\\\\", \\\\\\\\\\\\\\\"resourceGroup\\\\\\\\\\\\\\\": \\\\\\\\\\\\\\\"aml-quickstarts-138143\\\\\\\\\\\\\\\", \\\\\\\\\\\\\\\"subscription\\\\\\\\\\\\\\\": \\\\\\\\\\\\\\\"976ee174-3882-4721-b90a-b5fef6b72f24\\\\\\\\\\\\\\\", \\\\\\\\\\\\\\\"workspaceName\\\\\\\\\\\\\\\": \\\\\\\\\\\\\\\"quick-starts-ws-138143\\\\\\\\\\\\\\\"}]}, \\\\\\\\\\\\\\\"localData\\\\\\\\\\\\\\\": {}, \\\\\\\\\\\\\\\"isEnabled\\\\\\\\\\\\\\\": true, \\\\\\\\\\\\\\\"name\\\\\\\\\\\\\\\": null, \\\\\\\\\\\\\\\"annotation\\\\\\\\\\\\\\\": null}, {\\\\\\\\\\\\\\\"id\\\\\\\\\\\\\\\": \\\\\\\\\\\\\\\"dd18f088-7deb-4861-a705-0b431b63ef90\\\\\\\\\\\\\\\", \\\\\\\\\\\\\\\"type\\\\\\\\\\\\\\\": \\\\\\\\\\\\\\\"Microsoft.DPrep.ParseDelimitedBlock\\\\\\\\\\\\\\\", \\\\\\\\\\\\\\\"arguments\\\\\\\\\\\\\\\": {\\\\\\\\\\\\\\\"columnHeadersMode\\\\\\\\\\\\\\\": 1, \\\\\\\\\\\\\\\"fileEncoding\\\\\\\\\\\\\\\": 0, \\\\\\\\\\\\\\\"handleQuotedLineBreaks\\\\\\\\\\\\\\\": false, \\\\\\\\\\\\\\\"preview\\\\\\\\\\\\\\\": false, \\\\\\\\\\\\\\\"separator\\\\\\\\\\\\\\\": \\\\\\\\\\\\\\\",\\\\\\\\\\\\\\\", \\\\\\\\\\\\\\\"skipRows\\\\\\\\\\\\\\\": 0, \\\\\\\\\\\\\\\"skipRowsMode\\\\\\\\\\\\\\\": 0}, \\\\\\\\\\\\\\\"localData\\\\\\\\\\\\\\\": {}, \\\\\\\\\\\\\\\"isEnabled\\\\\\\\\\\\\\\": true, \\\\\\\\\\\\\\\"name\\\\\\\\\\\\\\\": null, \\\\\\\\\\\\\\\"annotation\\\\\\\\\\\\\\\": null}, {\\\\\\\\\\\\\\\"id\\\\\\\\\\\\\\\": \\\\\\\\\\\\\\\"2e6b1705-d93e-4931-8a79-8d6c08a68d75\\\\\\\\\\\\\\\", \\\\\\\\\\\\\\\"type\\\\\\\\\\\\\\\": \\\\\\\\\\\\\\\"Microsoft.DPrep.DropColumnsBlock\\\\\\\\\\\\\\\", \\\\\\\\\\\\\\\"arguments\\\\\\\\\\\\\\\": {\\\\\\\\\\\\\\\"columns\\\\\\\\\\\\\\\": {\\\\\\\\\\\\\\\"type\\\\\\\\\\\\\\\": 0, \\\\\\\\\\\\\\\"details\\\\\\\\\\\\\\\": {\\\\\\\\\\\\\\\"selectedColumns\\\\\\\\\\\\\\\": [\\\\\\\\\\\\\\\"Path\\\\\\\\\\\\\\\"]}}}, \\\\\\\\\\\\\\\"localData\\\\\\\\\\\\\\\": {}, \\\\\\\\\\\\\\\"isEnabled\\\\\\\\\\\\\\\": true, \\\\\\\\\\\\\\\"name\\\\\\\\\\\\\\\": null, \\\\\\\\\\\\\\\"annotation\\\\\\\\\\\\\\\": null}, {\\\\\\\\\\\\\\\"id\\\\\\\\\\\\\\\": \\\\\\\\\\\\\\\"853b15fd-a9d3-463e-a530-2aa7b40ba9c0\\\\\\\\\\\\\\\", \\\\\\\\\\\\\\\"type\\\\\\\\\\\\\\\": \\\\\\\\\\\\\\\"Microsoft.DPrep.SetColumnTypesBlock\\\\\\\\\\\\\\\", \\\\\\\\\\\\\\\"arguments\\\\\\\\\\\\\\\": {\\\\\\\\\\\\\\\"columnConversion\\\\\\\\\\\\\\\": [{\\\\\\\\\\\\\\\"column\\\\\\\\\\\\\\\": {\\\\\\\\\\\\\\\"type\\\\\\\\\\\\\\\": 2, \\\\\\\\\\\\\\\"details\\\\\\\\\\\\\\\": {\\\\\\\\\\\\\\\"selectedColumn\\\\\\\\\\\\\\\": \\\\\\\\\\\\\\\"Path\\\\\\\\\\\\\\\"}}, \\\\\\\\\\\\\\\"typeProperty\\\\\\\\\\\\\\\": 0}, {\\\\\\\\\\\\\\\"column\\\\\\\\\\\\\\\": {\\\\\\\\\\\\\\\"type\\\\\\\\\\\\\\\": 2, \\\\\\\\\\\\\\\"details\\\\\\\\\\\\\\\": {\\\\\\\\\\\\\\\"selectedColumn\\\\\\\\\\\\\\\": \\\\\\\\\\\\\\\"CLIENTNUM\\\\\\\\\\\\\\\"}}, \\\\\\\\\\\\\\\"typeProperty\\\\\\\\\\\\\\\": 2}, {\\\\\\\\\\\\\\\"column\\\\\\\\\\\\\\\": {\\\\\\\\\\\\\\\"type\\\\\\\\\\\\\\\": 2, \\\\\\\\\\\\\\\"details\\\\\\\\\\\\\\\": {\\\\\\\\\\\\\\\"selectedColumn\\\\\\\\\\\\\\\": \\\\\\\\\\\\\\\"Attrition_Flag\\\\\\\\\\\\\\\"}}, \\\\\\\\\\\\\\\"typeProperty\\\\\\\\\\\\\\\": 0}, {\\\\\\\\\\\\\\\"column\\\\\\\\\\\\\\\": {\\\\\\\\\\\\\\\"type\\\\\\\\\\\\\\\": 2, \\\\\\\\\\\\\\\"details\\\\\\\\\\\\\\\": {\\\\\\\\\\\\\\\"selectedColumn\\\\\\\\\\\\\\\": \\\\\\\\\\\\\\\"Customer_Age\\\\\\\\\\\\\\\"}}, \\\\\\\\\\\\\\\"typeProperty\\\\\\\\\\\\\\\": 2}, {\\\\\\\\\\\\\\\"column\\\\\\\\\\\\\\\": {\\\\\\\\\\\\\\\"type\\\\\\\\\\\\\\\": 2, \\\\\\\\\\\\\\\"details\\\\\\\\\\\\\\\": {\\\\\\\\\\\\\\\"selectedColumn\\\\\\\\\\\\\\\": \\\\\\\\\\\\\\\"Gender\\\\\\\\\\\\\\\"}}, \\\\\\\\\\\\\\\"typeProperty\\\\\\\\\\\\\\\": 0}, {\\\\\\\\\\\\\\\"column\\\\\\\\\\\\\\\": {\\\\\\\\\\\\\\\"type\\\\\\\\\\\\\\\": 2, \\\\\\\\\\\\\\\"details\\\\\\\\\\\\\\\": {\\\\\\\\\\\\\\\"selectedColumn\\\\\\\\\\\\\\\": \\\\\\\\\\\\\\\"Dependent_count\\\\\\\\\\\\\\\"}}, \\\\\\\\\\\\\\\"typeProperty\\\\\\\\\\\\\\\": 2}, {\\\\\\\\\\\\\\\"column\\\\\\\\\\\\\\\": {\\\\\\\\\\\\\\\"type\\\\\\\\\\\\\\\": 2, \\\\\\\\\\\\\\\"details\\\\\\\\\\\\\\\": {\\\\\\\\\\\\\\\"selectedColumn\\\\\\\\\\\\\\\": \\\\\\\\\\\\\\\"Education_Level\\\\\\\\\\\\\\\"}}, \\\\\\\\\\\\\\\"typeProperty\\\\\\\\\\\\\\\": 0}, {\\\\\\\\\\\\\\\"column\\\\\\\\\\\\\\\": {\\\\\\\\\\\\\\\"type\\\\\\\\\\\\\\\": 2, \\\\\\\\\\\\\\\"details\\\\\\\\\\\\\\\": {\\\\\\\\\\\\\\\"selectedColumn\\\\\\\\\\\\\\\": \\\\\\\\\\\\\\\"Marital_Status\\\\\\\\\\\\\\\"}}, \\\\\\\\\\\\\\\"typeProperty\\\\\\\\\\\\\\\": 0}, {\\\\\\\\\\\\\\\"column\\\\\\\\\\\\\\\": {\\\\\\\\\\\\\\\"type\\\\\\\\\\\\\\\": 2, \\\\\\\\\\\\\\\"details\\\\\\\\\\\\\\\": {\\\\\\\\\\\\\\\"selectedColumn\\\\\\\\\\\\\\\": \\\\\\\\\\\\\\\"Income_Category\\\\\\\\\\\\\\\"}}, \\\\\\\\\\\\\\\"typeProperty\\\\\\\\\\\\\\\": 0}, {\\\\\\\\\\\\\\\"column\\\\\\\\\\\\\\\": {\\\\\\\\\\\\\\\"type\\\\\\\\\\\\\\\": 2, \\\\\\\\\\\\\\\"details\\\\\\\\\\\\\\\": {\\\\\\\\\\\\\\\"selectedColumn\\\\\\\\\\\\\\\": \\\\\\\\\\\\\\\"Card_Category\\\\\\\\\\\\\\\"}}, \\\\\\\\\\\\\\\"typeProperty\\\\\\\\\\\\\\\": 0}, {\\\\\\\\\\\\\\\"column\\\\\\\\\\\\\\\": {\\\\\\\\\\\\\\\"type\\\\\\\\\\\\\\\": 2, \\\\\\\\\\\\\\\"details\\\\\\\\\\\\\\\": {\\\\\\\\\\\\\\\"selectedColumn\\\\\\\\\\\\\\\": \\\\\\\\\\\\\\\"Months_on_book\\\\\\\\\\\\\\\"}}, \\\\\\\\\\\\\\\"typeProperty\\\\\\\\\\\\\\\": 2}, {\\\\\\\\\\\\\\\"column\\\\\\\\\\\\\\\": {\\\\\\\\\\\\\\\"type\\\\\\\\\\\\\\\": 2, \\\\\\\\\\\\\\\"details\\\\\\\\\\\\\\\": {\\\\\\\\\\\\\\\"selectedColumn\\\\\\\\\\\\\\\": \\\\\\\\\\\\\\\"Total_Relationship_Count\\\\\\\\\\\\\\\"}}, \\\\\\\\\\\\\\\"typeProperty\\\\\\\\\\\\\\\": 2}, {\\\\\\\\\\\\\\\"column\\\\\\\\\\\\\\\": {\\\\\\\\\\\\\\\"type\\\\\\\\\\\\\\\": 2, \\\\\\\\\\\\\\\"details\\\\\\\\\\\\\\\": {\\\\\\\\\\\\\\\"selectedColumn\\\\\\\\\\\\\\\": \\\\\\\\\\\\\\\"Months_Inactive_12_mon\\\\\\\\\\\\\\\"}}, \\\\\\\\\\\\\\\"typeProperty\\\\\\\\\\\\\\\": 2}, {\\\\\\\\\\\\\\\"column\\\\\\\\\\\\\\\": {\\\\\\\\\\\\\\\"type\\\\\\\\\\\\\\\": 2, \\\\\\\\\\\\\\\"details\\\\\\\\\\\\\\\": {\\\\\\\\\\\\\\\"selectedColumn\\\\\\\\\\\\\\\": \\\\\\\\\\\\\\\"Contacts_Count_12_mon\\\\\\\\\\\\\\\"}}, \\\\\\\\\\\\\\\"typeProperty\\\\\\\\\\\\\\\": 2}, {\\\\\\\\\\\\\\\"column\\\\\\\\\\\\\\\": {\\\\\\\\\\\\\\\"type\\\\\\\\\\\\\\\": 2, \\\\\\\\\\\\\\\"details\\\\\\\\\\\\\\\": {\\\\\\\\\\\\\\\"selectedColumn\\\\\\\\\\\\\\\": \\\\\\\\\\\\\\\"Credit_Limit\\\\\\\\\\\\\\\"}}, \\\\\\\\\\\\\\\"typeProperty\\\\\\\\\\\\\\\": 3}, {\\\\\\\\\\\\\\\"column\\\\\\\\\\\\\\\": {\\\\\\\\\\\\\\\"type\\\\\\\\\\\\\\\": 2, \\\\\\\\\\\\\\\"details\\\\\\\\\\\\\\\": {\\\\\\\\\\\\\\\"selectedColumn\\\\\\\\\\\\\\\": \\\\\\\\\\\\\\\"Total_Revolving_Bal\\\\\\\\\\\\\\\"}}, \\\\\\\\\\\\\\\"typeProperty\\\\\\\\\\\\\\\": 2}, {\\\\\\\\\\\\\\\"column\\\\\\\\\\\\\\\": {\\\\\\\\\\\\\\\"type\\\\\\\\\\\\\\\": 2, \\\\\\\\\\\\\\\"details\\\\\\\\\\\\\\\": {\\\\\\\\\\\\\\\"selectedColumn\\\\\\\\\\\\\\\": \\\\\\\\\\\\\\\"Avg_Open_To_Buy\\\\\\\\\\\\\\\"}}, \\\\\\\\\\\\\\\"typeProperty\\\\\\\\\\\\\\\": 3}, {\\\\\\\\\\\\\\\"column\\\\\\\\\\\\\\\": {\\\\\\\\\\\\\\\"type\\\\\\\\\\\\\\\": 2, \\\\\\\\\\\\\\\"details\\\\\\\\\\\\\\\": {\\\\\\\\\\\\\\\"selectedColumn\\\\\\\\\\\\\\\": \\\\\\\\\\\\\\\"Total_Amt_Chng_Q4_Q1\\\\\\\\\\\\\\\"}}, \\\\\\\\\\\\\\\"typeProperty\\\\\\\\\\\\\\\": 3}, {\\\\\\\\\\\\\\\"column\\\\\\\\\\\\\\\": {\\\\\\\\\\\\\\\"type\\\\\\\\\\\\\\\": 2, \\\\\\\\\\\\\\\"details\\\\\\\\\\\\\\\": {\\\\\\\\\\\\\\\"selectedColumn\\\\\\\\\\\\\\\": \\\\\\\\\\\\\\\"Total_Trans_Amt\\\\\\\\\\\\\\\"}}, \\\\\\\\\\\\\\\"typeProperty\\\\\\\\\\\\\\\": 2}, {\\\\\\\\\\\\\\\"column\\\\\\\\\\\\\\\": {\\\\\\\\\\\\\\\"type\\\\\\\\\\\\\\\": 2, \\\\\\\\\\\\\\\"details\\\\\\\\\\\\\\\": {\\\\\\\\\\\\\\\"selectedColumn\\\\\\\\\\\\\\\": \\\\\\\\\\\\\\\"Total_Trans_Ct\\\\\\\\\\\\\\\"}}, \\\\\\\\\\\\\\\"typeProperty\\\\\\\\\\\\\\\": 2}, {\\\\\\\\\\\\\\\"column\\\\\\\\\\\\\\\": {\\\\\\\\\\\\\\\"type\\\\\\\\\\\\\\\": 2, \\\\\\\\\\\\\\\"details\\\\\\\\\\\\\\\": {\\\\\\\\\\\\\\\"selectedColumn\\\\\\\\\\\\\\\": \\\\\\\\\\\\\\\"Total_Ct_Chng_Q4_Q1\\\\\\\\\\\\\\\"}}, \\\\\\\\\\\\\\\"typeProperty\\\\\\\\\\\\\\\": 3}, {\\\\\\\\\\\\\\\"column\\\\\\\\\\\\\\\": {\\\\\\\\\\\\\\\"type\\\\\\\\\\\\\\\": 2, \\\\\\\\\\\\\\\"details\\\\\\\\\\\\\\\": {\\\\\\\\\\\\\\\"selectedColumn\\\\\\\\\\\\\\\": \\\\\\\\\\\\\\\"Avg_Utilization_Ratio\\\\\\\\\\\\\\\"}}, \\\\\\\\\\\\\\\"typeProperty\\\\\\\\\\\\\\\": 3}]}, \\\\\\\\\\\\\\\"localData\\\\\\\\\\\\\\\": {}, \\\\\\\\\\\\\\\"isEnabled\\\\\\\\\\\\\\\": true, \\\\\\\\\\\\\\\"name\\\\\\\\\\\\\\\": null, \\\\\\\\\\\\\\\"annotation\\\\\\\\\\\\\\\": null}], \\\\\\\\\\\\\\\"inspectors\\\\\\\\\\\\\\\": [], \\\\\\\\\\\\\\\"meta\\\\\\\\\\\\\\\": {\\\\\\\\\\\\\\\"savedDatasetId\\\\\\\\\\\\\\\": \\\\\\\\\\\\\\\"e82585d3-5310-4452-a65a-033e2142d090\\\\\\\\\\\\\\\", \\\\\\\\\\\\\\\"datasetType\\\\\\\\\\\\\\\": \\\\\\\\\\\\\\\"tabular\\\\\\\\\\\\\\\", \\\\\\\\\\\\\\\"subscriptionId\\\\\\\\\\\\\\\": \\\\\\\\\\\\\\\"976ee174-3882-4721-b90a-b5fef6b72f24\\\\\\\\\\\\\\\", \\\\\\\\\\\\\\\"workspaceId\\\\\\\\\\\\\\\": \\\\\\\\\\\\\\\"e51a99b7-7416-4067-a52d-77dfd0192c9c\\\\\\\\\\\\\\\", \\\\\\\\\\\\\\\"workspaceLocation\\\\\\\\\\\\\\\": \\\\\\\\\\\\\\\"southcentralus\\\\\\\\\\\\\\\"}}\\\\\\\", \\\\\\\"activities\\\\\\\": 0}\", \"EnableSubsampling\": null, \"runTemplate\": \"AutoML\", \"azureml.runsource\": \"automl\", \"display_task_type\": \"classification\", \"dependencies_versions\": \"{\\\"azureml-widgets\\\": \\\"1.20.0\\\", \\\"azureml-train\\\": \\\"1.20.0\\\", \\\"azureml-train-restclients-hyperdrive\\\": \\\"1.20.0\\\", \\\"azureml-train-core\\\": \\\"1.20.0\\\", \\\"azureml-train-automl\\\": \\\"1.20.0\\\", \\\"azureml-train-automl-runtime\\\": \\\"1.20.0\\\", \\\"azureml-train-automl-client\\\": \\\"1.20.0\\\", \\\"azureml-tensorboard\\\": \\\"1.20.0\\\", \\\"azureml-telemetry\\\": \\\"1.20.0\\\", \\\"azureml-sdk\\\": \\\"1.20.0\\\", \\\"azureml-samples\\\": \\\"0+unknown\\\", \\\"azureml-pipeline\\\": \\\"1.20.0\\\", \\\"azureml-pipeline-steps\\\": \\\"1.20.0\\\", \\\"azureml-pipeline-core\\\": \\\"1.20.0\\\", \\\"azureml-opendatasets\\\": \\\"1.20.0\\\", \\\"azureml-model-management-sdk\\\": \\\"1.0.1b6.post1\\\", \\\"azureml-mlflow\\\": \\\"1.20.0.post1\\\", \\\"azureml-interpret\\\": \\\"1.20.0\\\", \\\"azureml-explain-model\\\": \\\"1.20.0\\\", \\\"azureml-defaults\\\": \\\"1.20.0\\\", \\\"azureml-dataset-runtime\\\": \\\"1.20.0\\\", \\\"azureml-dataprep\\\": \\\"2.7.3\\\", \\\"azureml-dataprep-rslex\\\": \\\"1.5.0\\\", \\\"azureml-dataprep-native\\\": \\\"27.0.0\\\", \\\"azureml-datadrift\\\": \\\"1.20.0\\\", \\\"azureml-core\\\": \\\"1.20.0\\\", \\\"azureml-contrib-services\\\": \\\"1.20.0\\\", \\\"azureml-contrib-server\\\": \\\"1.20.0\\\", \\\"azureml-contrib-reinforcementlearning\\\": \\\"1.20.0\\\", \\\"azureml-contrib-pipeline-steps\\\": \\\"1.20.0\\\", \\\"azureml-contrib-notebook\\\": \\\"1.20.0\\\", \\\"azureml-contrib-interpret\\\": \\\"1.20.0\\\", \\\"azureml-contrib-gbdt\\\": \\\"1.20.0\\\", \\\"azureml-contrib-fairness\\\": \\\"1.20.0\\\", \\\"azureml-contrib-dataset\\\": \\\"1.20.0\\\", \\\"azureml-cli-common\\\": \\\"1.20.0\\\", \\\"azureml-automl-runtime\\\": \\\"1.20.0\\\", \\\"azureml-automl-core\\\": \\\"1.20.0\\\", \\\"azureml-accel-models\\\": \\\"1.20.0\\\"}\", \"_aml_system_scenario_identification\": \"Remote.Parent\", \"ClientType\": \"SDK\", \"environment_cpu_name\": \"AzureML-AutoML\", \"environment_cpu_label\": \"prod\", \"environment_gpu_name\": \"AzureML-AutoML-GPU\", \"environment_gpu_label\": \"prod\", \"root_attribution\": \"automl\", \"attribution\": \"AutoML\", \"Orchestrator\": \"AutoML\", \"CancelUri\": \"https://southcentralus.experiments.azureml.net/jasmine/v1.0/subscriptions/976ee174-3882-4721-b90a-b5fef6b72f24/resourceGroups/aml-quickstarts-138143/providers/Microsoft.MachineLearningServices/workspaces/quick-starts-ws-138143/experimentids/4553de0f-1513-473a-9e17-5b4c35837d0e/cancel/AutoML_d81a2ede-8205-4c13-870a-1cc62b1d5b00\", \"ClientSdkVersion\": \"1.21.0\", \"snapshotId\": \"00000000-0000-0000-0000-000000000000\", \"SetupRunId\": \"AutoML_d81a2ede-8205-4c13-870a-1cc62b1d5b00_setup\", \"SetupRunContainerId\": \"dcid.AutoML_d81a2ede-8205-4c13-870a-1cc62b1d5b00_setup\", \"FeaturizationRunJsonPath\": \"featurizer_container.json\", \"FeaturizationRunId\": \"AutoML_d81a2ede-8205-4c13-870a-1cc62b1d5b00_featurize\", \"ProblemInfoJsonString\": \"{\\\"dataset_num_categorical\\\": 0, \\\"is_sparse\\\": true, \\\"subsampling\\\": false, \\\"dataset_classes\\\": 2, \\\"dataset_features\\\": 146, \\\"dataset_samples\\\": 10127, \\\"single_frequency_class_detected\\\": false}\", \"ModelExplainRunId\": \"AutoML_d81a2ede-8205-4c13-870a-1cc62b1d5b00_ModelExplain\"}, \"tags\": {\"model_explain_run\": \"best_run\", \"_aml_system_azureml.automlComponent\": \"AutoML\", \"pipeline_id\": \"\", \"score\": \"\", \"predicted_cost\": \"\", \"fit_time\": \"\", \"training_percent\": \"\", \"iteration\": \"\", \"run_preprocessor\": \"\", \"run_algorithm\": \"\", \"dynamic_whitelisting_iterations\": \"<25>;<30>;<35>;\", \"automl_best_child_run_id\": \"AutoML_d81a2ede-8205-4c13-870a-1cc62b1d5b00_38\", \"model_explain_best_run_child_id\": \"AutoML_d81a2ede-8205-4c13-870a-1cc62b1d5b00_38\"}, \"end_time_utc\": \"2021-02-08T12:14:47.029299Z\", \"status\": \"Completed\", \"log_files\": {}, \"log_groups\": [], \"run_duration\": \"0:18:00\"}, \"child_runs\": [{\"run_id\": \"AutoML_d81a2ede-8205-4c13-870a-1cc62b1d5b00_0\", \"run_number\": 5, \"metric\": null, \"status\": \"Completed\", \"run_type\": \"azureml.scriptrun\", \"training_percent\": \"100\", \"start_time\": \"2021-02-08T12:02:00.483159Z\", \"end_time\": \"2021-02-08T12:03:22.712729Z\", \"created_time\": \"2021-02-08T12:01:48.122201Z\", \"created_time_dt\": \"2021-02-08T12:01:48.122201Z\", \"duration\": \"0:01:34\", \"iteration\": \"0\", \"goal\": \"accuracy_max\", \"run_name\": \"MaxAbsScaler, LightGBM\", \"run_properties\": \"copy=True\", \"primary_metric\": 0.96909245, \"best_metric\": 0.96909245}, {\"run_id\": \"AutoML_d81a2ede-8205-4c13-870a-1cc62b1d5b00_4\", \"run_number\": 6, \"metric\": null, \"status\": \"Completed\", \"run_type\": \"azureml.scriptrun\", \"training_percent\": \"100\", \"start_time\": \"2021-02-08T12:01:59.772154Z\", \"end_time\": \"2021-02-08T12:03:20.527348Z\", \"created_time\": \"2021-02-08T12:01:48.271063Z\", \"created_time_dt\": \"2021-02-08T12:01:48.271063Z\", \"duration\": \"0:01:32\", \"iteration\": \"4\", \"goal\": \"accuracy_max\", \"run_name\": \"MaxAbsScaler, RandomForest\", \"run_properties\": \"copy=True\", \"primary_metric\": 0.85207735, \"best_metric\": 0.96909245}, {\"run_id\": \"AutoML_d81a2ede-8205-4c13-870a-1cc62b1d5b00_2\", \"run_number\": 7, \"metric\": null, \"status\": \"Completed\", \"run_type\": \"azureml.scriptrun\", \"training_percent\": \"100\", \"start_time\": \"2021-02-08T12:02:01.050528Z\", \"end_time\": \"2021-02-08T12:03:18.744717Z\", \"created_time\": \"2021-02-08T12:01:48.300481Z\", \"created_time_dt\": \"2021-02-08T12:01:48.300481Z\", \"duration\": \"0:01:30\", \"iteration\": \"2\", \"goal\": \"accuracy_max\", \"run_name\": \"MaxAbsScaler, RandomForest\", \"run_properties\": \"copy=True\", \"primary_metric\": 0.86165567, \"best_metric\": 0.96909245}, {\"run_id\": \"AutoML_d81a2ede-8205-4c13-870a-1cc62b1d5b00_3\", \"run_number\": 8, \"metric\": null, \"status\": \"Completed\", \"run_type\": \"azureml.scriptrun\", \"training_percent\": \"100\", \"start_time\": \"2021-02-08T12:02:02.256115Z\", \"end_time\": \"2021-02-08T12:03:13.701009Z\", \"created_time\": \"2021-02-08T12:01:48.311783Z\", \"created_time_dt\": \"2021-02-08T12:01:48.311783Z\", \"duration\": \"0:01:25\", \"iteration\": \"3\", \"goal\": \"accuracy_max\", \"run_name\": \"MaxAbsScaler, RandomForest\", \"run_properties\": \"copy=True\", \"primary_metric\": 0.83933968, \"best_metric\": 0.96909245}, {\"run_id\": \"AutoML_d81a2ede-8205-4c13-870a-1cc62b1d5b00_1\", \"run_number\": 9, \"metric\": null, \"status\": \"Completed\", \"run_type\": \"azureml.scriptrun\", \"training_percent\": \"100\", \"start_time\": \"2021-02-08T12:02:01.692901Z\", \"end_time\": \"2021-02-08T12:03:16.799289Z\", \"created_time\": \"2021-02-08T12:01:48.322118Z\", \"created_time_dt\": \"2021-02-08T12:01:48.322118Z\", \"duration\": \"0:01:28\", \"iteration\": \"1\", \"goal\": \"accuracy_max\", \"run_name\": \"MaxAbsScaler, XGBoostClassifier\", \"run_properties\": \"copy=True\", \"primary_metric\": 0.96030428, \"best_metric\": 0.96909245}, {\"run_id\": \"AutoML_d81a2ede-8205-4c13-870a-1cc62b1d5b00_5\", \"run_number\": 10, \"metric\": null, \"status\": \"Completed\", \"run_type\": \"azureml.scriptrun\", \"training_percent\": \"100\", \"start_time\": \"2021-02-08T12:03:33.539368Z\", \"end_time\": \"2021-02-08T12:04:46.436289Z\", \"created_time\": \"2021-02-08T12:03:18.811431Z\", \"created_time_dt\": \"2021-02-08T12:03:18.811431Z\", \"duration\": \"0:01:27\", \"iteration\": \"5\", \"goal\": \"accuracy_max\", \"run_name\": \"MaxAbsScaler, RandomForest\", \"run_properties\": \"copy=True\", \"primary_metric\": 0.77930115, \"best_metric\": 0.96909245}, {\"run_id\": \"AutoML_d81a2ede-8205-4c13-870a-1cc62b1d5b00_8\", \"run_number\": 11, \"metric\": null, \"status\": \"Completed\", \"run_type\": \"azureml.scriptrun\", \"training_percent\": \"100\", \"start_time\": \"2021-02-08T12:03:35.528473Z\", \"end_time\": \"2021-02-08T12:04:54.991951Z\", \"created_time\": \"2021-02-08T12:03:23.417453Z\", \"created_time_dt\": \"2021-02-08T12:03:23.417453Z\", \"duration\": \"0:01:31\", \"iteration\": \"8\", \"goal\": \"accuracy_max\", \"run_name\": \"SparseNormalizer, XGBoostClassifier\", \"run_properties\": \"<azureml.automl.runtime.shared.model_wrappers.SparseNormalizer object at 0x7f70ff60aba8\", \"primary_metric\": 0.96613007, \"best_metric\": 0.96909245}, {\"run_id\": \"AutoML_d81a2ede-8205-4c13-870a-1cc62b1d5b00_6\", \"run_number\": 12, \"metric\": null, \"status\": \"Completed\", \"run_type\": \"azureml.scriptrun\", \"training_percent\": \"100\", \"start_time\": \"2021-02-08T12:03:35.717013Z\", \"end_time\": \"2021-02-08T12:04:50.926267Z\", \"created_time\": \"2021-02-08T12:03:23.432994Z\", \"created_time_dt\": \"2021-02-08T12:03:23.432994Z\", \"duration\": \"0:01:27\", \"iteration\": \"6\", \"goal\": \"accuracy_max\", \"run_name\": \"SparseNormalizer, XGBoostClassifier\", \"run_properties\": \"<azureml.automl.runtime.shared.model_wrappers.SparseNormalizer object at 0x7f5ac80f9a58\", \"primary_metric\": 0.95526789, \"best_metric\": 0.96909245}, {\"run_id\": \"AutoML_d81a2ede-8205-4c13-870a-1cc62b1d5b00_7\", \"run_number\": 13, \"metric\": null, \"status\": \"Completed\", \"run_type\": \"azureml.scriptrun\", \"training_percent\": \"100\", \"start_time\": \"2021-02-08T12:03:36.094111Z\", \"end_time\": \"2021-02-08T12:04:52.398018Z\", \"created_time\": \"2021-02-08T12:03:23.482564Z\", \"created_time_dt\": \"2021-02-08T12:03:23.482564Z\", \"duration\": \"0:01:28\", \"iteration\": \"7\", \"goal\": \"accuracy_max\", \"run_name\": \"SparseNormalizer, XGBoostClassifier\", \"run_properties\": \"<azureml.automl.runtime.shared.model_wrappers.SparseNormalizer object at 0x7f3a5144aeb8\", \"primary_metric\": 0.96474779, \"best_metric\": 0.96909245}, {\"run_id\": \"AutoML_d81a2ede-8205-4c13-870a-1cc62b1d5b00_9\", \"run_number\": 14, \"metric\": null, \"status\": \"Completed\", \"run_type\": \"azureml.scriptrun\", \"training_percent\": \"100\", \"start_time\": \"2021-02-08T12:03:40.248942Z\", \"end_time\": \"2021-02-08T12:04:52.024288Z\", \"created_time\": \"2021-02-08T12:03:27.391069Z\", \"created_time_dt\": \"2021-02-08T12:03:27.391069Z\", \"duration\": \"0:01:24\", \"iteration\": \"9\", \"goal\": \"accuracy_max\", \"run_name\": \"SparseNormalizer, XGBoostClassifier\", \"run_properties\": \"<azureml.automl.runtime.shared.model_wrappers.SparseNormalizer object at 0x7f7393940978\", \"primary_metric\": 0.96247657, \"best_metric\": 0.96909245}, {\"run_id\": \"AutoML_d81a2ede-8205-4c13-870a-1cc62b1d5b00_10\", \"run_number\": 15, \"metric\": null, \"status\": \"Completed\", \"run_type\": \"azureml.scriptrun\", \"training_percent\": \"100\", \"start_time\": \"2021-02-08T12:05:03.710321Z\", \"end_time\": \"2021-02-08T12:06:09.417045Z\", \"created_time\": \"2021-02-08T12:04:48.699272Z\", \"created_time_dt\": \"2021-02-08T12:04:48.699272Z\", \"duration\": \"0:01:20\", \"iteration\": \"10\", \"goal\": \"accuracy_max\", \"run_name\": \"SparseNormalizer, XGBoostClassifier\", \"run_properties\": \"<azureml.automl.runtime.shared.model_wrappers.SparseNormalizer object at 0x7f9b2d061208\", \"primary_metric\": 0.94509757, \"best_metric\": 0.96909245}, {\"run_id\": \"AutoML_d81a2ede-8205-4c13-870a-1cc62b1d5b00_12\", \"run_number\": 16, \"metric\": null, \"status\": \"Completed\", \"run_type\": \"azureml.scriptrun\", \"training_percent\": \"100\", \"start_time\": \"2021-02-08T12:05:04.014017Z\", \"end_time\": \"2021-02-08T12:06:06.398225Z\", \"created_time\": \"2021-02-08T12:04:54.264574Z\", \"created_time_dt\": \"2021-02-08T12:04:54.264574Z\", \"duration\": \"0:01:12\", \"iteration\": \"12\", \"goal\": \"accuracy_max\", \"run_name\": \"StandardScalerWrapper, RandomForest\", \"run_properties\": \"<azureml.automl.runtime.shared.model_wrappers.StandardScalerWrapper object at 0x7f4339fe6710\", \"primary_metric\": 0.8945397, \"best_metric\": 0.96909245}, {\"run_id\": \"AutoML_d81a2ede-8205-4c13-870a-1cc62b1d5b00_11\", \"run_number\": 17, \"metric\": null, \"status\": \"Completed\", \"run_type\": \"azureml.scriptrun\", \"training_percent\": \"100\", \"start_time\": \"2021-02-08T12:05:04.544883Z\", \"end_time\": \"2021-02-08T12:06:10.137496Z\", \"created_time\": \"2021-02-08T12:04:54.265764Z\", \"created_time_dt\": \"2021-02-08T12:04:54.265764Z\", \"duration\": \"0:01:15\", \"iteration\": \"11\", \"goal\": \"accuracy_max\", \"run_name\": \"MaxAbsScaler, LogisticRegression\", \"run_properties\": \"copy=True\", \"primary_metric\": 0.91172096, \"best_metric\": 0.96909245}, {\"run_id\": \"AutoML_d81a2ede-8205-4c13-870a-1cc62b1d5b00_14\", \"run_number\": 18, \"metric\": null, \"status\": \"Completed\", \"run_type\": \"azureml.scriptrun\", \"training_percent\": \"100\", \"start_time\": \"2021-02-08T12:05:10.423269Z\", \"end_time\": \"2021-02-08T12:06:09.28426Z\", \"created_time\": \"2021-02-08T12:04:57.631681Z\", \"created_time_dt\": \"2021-02-08T12:04:57.631681Z\", \"duration\": \"0:01:11\", \"iteration\": \"14\", \"goal\": \"accuracy_max\", \"run_name\": \"MaxAbsScaler, LightGBM\", \"run_properties\": \"copy=True\", \"primary_metric\": 0.89927863, \"best_metric\": 0.96909245}, {\"run_id\": \"AutoML_d81a2ede-8205-4c13-870a-1cc62b1d5b00_13\", \"run_number\": 19, \"metric\": null, \"status\": \"Completed\", \"run_type\": \"azureml.scriptrun\", \"training_percent\": \"100\", \"start_time\": \"2021-02-08T12:05:09.239429Z\", \"end_time\": \"2021-02-08T12:06:46.709969Z\", \"created_time\": \"2021-02-08T12:04:57.644054Z\", \"created_time_dt\": \"2021-02-08T12:04:57.644054Z\", \"duration\": \"0:01:49\", \"iteration\": \"13\", \"goal\": \"accuracy_max\", \"run_name\": \"MaxAbsScaler, ExtremeRandomTrees\", \"run_properties\": \"copy=True\", \"primary_metric\": 0.83933968, \"best_metric\": 0.96909245}, {\"run_id\": \"AutoML_d81a2ede-8205-4c13-870a-1cc62b1d5b00_15\", \"run_number\": 20, \"metric\": null, \"status\": \"Completed\", \"run_type\": \"azureml.scriptrun\", \"training_percent\": \"100\", \"start_time\": \"2021-02-08T12:06:19.385061Z\", \"end_time\": \"2021-02-08T12:07:13.642372Z\", \"created_time\": \"2021-02-08T12:06:09.244625Z\", \"created_time_dt\": \"2021-02-08T12:06:09.244625Z\", \"duration\": \"0:01:04\", \"iteration\": \"15\", \"goal\": \"accuracy_max\", \"run_name\": \"MaxAbsScaler, LightGBM\", \"run_properties\": \"copy=True\", \"primary_metric\": 0.89345299, \"best_metric\": 0.96909245}, {\"run_id\": \"AutoML_d81a2ede-8205-4c13-870a-1cc62b1d5b00_16\", \"run_number\": 21, \"metric\": null, \"status\": \"Completed\", \"run_type\": \"azureml.scriptrun\", \"training_percent\": \"100\", \"start_time\": \"2021-02-08T12:06:26.446623Z\", \"end_time\": \"2021-02-08T12:07:18.454501Z\", \"created_time\": \"2021-02-08T12:06:13.613414Z\", \"created_time_dt\": \"2021-02-08T12:06:13.613414Z\", \"duration\": \"0:01:04\", \"iteration\": \"16\", \"goal\": \"accuracy_max\", \"run_name\": \"SparseNormalizer, LightGBM\", \"run_properties\": \"<azureml.automl.runtime.shared.model_wrappers.SparseNormalizer object at 0x7fcb6a4c5cc0\", \"primary_metric\": 0.90796881, \"best_metric\": 0.96909245}, {\"run_id\": \"AutoML_d81a2ede-8205-4c13-870a-1cc62b1d5b00_17\", \"run_number\": 22, \"metric\": null, \"status\": \"Completed\", \"run_type\": \"azureml.scriptrun\", \"training_percent\": \"100\", \"start_time\": \"2021-02-08T12:06:25.022701Z\", \"end_time\": \"2021-02-08T12:08:05.944641Z\", \"created_time\": \"2021-02-08T12:06:13.731954Z\", \"created_time_dt\": \"2021-02-08T12:06:13.731954Z\", \"duration\": \"0:01:52\", \"iteration\": \"17\", \"goal\": \"accuracy_max\", \"run_name\": \"MaxAbsScaler, ExtremeRandomTrees\", \"run_properties\": \"copy=True\", \"primary_metric\": 0.87449327, \"best_metric\": 0.96909245}, {\"run_id\": \"AutoML_d81a2ede-8205-4c13-870a-1cc62b1d5b00_18\", \"run_number\": 23, \"metric\": null, \"status\": \"Completed\", \"run_type\": \"azureml.scriptrun\", \"training_percent\": \"100\", \"start_time\": \"2021-02-08T12:06:25.504004Z\", \"end_time\": \"2021-02-08T12:07:28.30111Z\", \"created_time\": \"2021-02-08T12:06:13.750416Z\", \"created_time_dt\": \"2021-02-08T12:06:13.750416Z\", \"duration\": \"0:01:14\", \"iteration\": \"18\", \"goal\": \"accuracy_max\", \"run_name\": \"TruncatedSVDWrapper, XGBoostClassifier\", \"run_properties\": \"n_components=0.7026315789473684, random_state=None\", \"primary_metric\": 0.92337333, \"best_metric\": 0.96909245}, {\"run_id\": \"AutoML_d81a2ede-8205-4c13-870a-1cc62b1d5b00_19\", \"run_number\": 24, \"metric\": null, \"status\": \"Completed\", \"run_type\": \"azureml.scriptrun\", \"training_percent\": \"100\", \"start_time\": \"2021-02-08T12:07:01.661804Z\", \"end_time\": \"2021-02-08T12:08:12.908703Z\", \"created_time\": \"2021-02-08T12:06:49.11227Z\", \"created_time_dt\": \"2021-02-08T12:06:49.11227Z\", \"duration\": \"0:01:23\", \"iteration\": \"19\", \"goal\": \"accuracy_max\", \"run_name\": \"MaxAbsScaler, ExtremeRandomTrees\", \"run_properties\": \"copy=True\", \"primary_metric\": 0.87054379, \"best_metric\": 0.96909245}, {\"run_id\": \"AutoML_d81a2ede-8205-4c13-870a-1cc62b1d5b00_20\", \"run_number\": 25, \"metric\": null, \"status\": \"Completed\", \"run_type\": \"azureml.scriptrun\", \"training_percent\": \"100\", \"start_time\": \"2021-02-08T12:07:32.66342Z\", \"end_time\": \"2021-02-08T12:08:37.570857Z\", \"created_time\": \"2021-02-08T12:07:17.241011Z\", \"created_time_dt\": \"2021-02-08T12:07:17.241011Z\", \"duration\": \"0:01:20\", \"iteration\": \"20\", \"goal\": \"accuracy_max\", \"run_name\": \"SparseNormalizer, XGBoostClassifier\", \"run_properties\": \"<azureml.automl.runtime.shared.model_wrappers.SparseNormalizer object at 0x7f6986541d30\", \"primary_metric\": 0.95220678, \"best_metric\": 0.96909245}, {\"run_id\": \"AutoML_d81a2ede-8205-4c13-870a-1cc62b1d5b00_21\", \"run_number\": 26, \"metric\": null, \"status\": \"Completed\", \"run_type\": \"azureml.scriptrun\", \"training_percent\": \"100\", \"start_time\": \"2021-02-08T12:07:34.8952Z\", \"end_time\": \"2021-02-08T12:08:38.493011Z\", \"created_time\": \"2021-02-08T12:07:21.607462Z\", \"created_time_dt\": \"2021-02-08T12:07:21.607462Z\", \"duration\": \"0:01:16\", \"iteration\": \"21\", \"goal\": \"accuracy_max\", \"run_name\": \"MaxAbsScaler, LightGBM\", \"run_properties\": \"copy=True\", \"primary_metric\": 0.94963975, \"best_metric\": 0.96909245}, {\"run_id\": \"AutoML_d81a2ede-8205-4c13-870a-1cc62b1d5b00_22\", \"run_number\": 27, \"metric\": null, \"status\": \"Completed\", \"run_type\": \"azureml.scriptrun\", \"training_percent\": \"100\", \"start_time\": \"2021-02-08T12:07:45.819193Z\", \"end_time\": \"2021-02-08T12:08:50.748979Z\", \"created_time\": \"2021-02-08T12:07:31.649535Z\", \"created_time_dt\": \"2021-02-08T12:07:31.649535Z\", \"duration\": \"0:01:19\", \"iteration\": \"22\", \"goal\": \"accuracy_max\", \"run_name\": \"SparseNormalizer, XGBoostClassifier\", \"run_properties\": \"<azureml.automl.runtime.shared.model_wrappers.SparseNormalizer object at 0x7f31d6b54240\", \"primary_metric\": 0.95319414, \"best_metric\": 0.96909245}, {\"run_id\": \"AutoML_d81a2ede-8205-4c13-870a-1cc62b1d5b00_23\", \"run_number\": 28, \"metric\": null, \"status\": \"Completed\", \"run_type\": \"azureml.scriptrun\", \"training_percent\": \"100\", \"start_time\": \"2021-02-08T12:08:22.473255Z\", \"end_time\": \"2021-02-08T12:09:21.142205Z\", \"created_time\": \"2021-02-08T12:08:09.099928Z\", \"created_time_dt\": \"2021-02-08T12:08:09.099928Z\", \"duration\": \"0:01:12\", \"iteration\": \"23\", \"goal\": \"accuracy_max\", \"run_name\": \"MaxAbsScaler, LightGBM\", \"run_properties\": \"copy=True\", \"primary_metric\": 0.95852689, \"best_metric\": 0.96909245}, {\"run_id\": \"AutoML_d81a2ede-8205-4c13-870a-1cc62b1d5b00_24\", \"run_number\": 29, \"metric\": null, \"status\": \"Completed\", \"run_type\": \"azureml.scriptrun\", \"training_percent\": \"100\", \"start_time\": \"2021-02-08T12:08:28.401513Z\", \"end_time\": \"2021-02-08T12:09:27.761707Z\", \"created_time\": \"2021-02-08T12:08:15.918451Z\", \"created_time_dt\": \"2021-02-08T12:08:15.918451Z\", \"duration\": \"0:01:11\", \"iteration\": \"24\", \"goal\": \"accuracy_max\", \"run_name\": \"MaxAbsScaler, ExtremeRandomTrees\", \"run_properties\": \"copy=True\", \"primary_metric\": 0.90036499, \"best_metric\": 0.96909245}, {\"run_id\": \"AutoML_d81a2ede-8205-4c13-870a-1cc62b1d5b00_25\", \"run_number\": 30, \"metric\": null, \"status\": \"Completed\", \"run_type\": \"azureml.scriptrun\", \"training_percent\": \"100\", \"start_time\": \"2021-02-08T12:08:51.260712Z\", \"end_time\": \"2021-02-08T12:09:47.618261Z\", \"created_time\": \"2021-02-08T12:08:40.950267Z\", \"created_time_dt\": \"2021-02-08T12:08:40.950267Z\", \"duration\": \"0:01:06\", \"iteration\": \"25\", \"goal\": \"accuracy_max\", \"run_name\": \"StandardScalerWrapper, LightGBM\", \"run_properties\": \"<azureml.automl.runtime.shared.model_wrappers.StandardScalerWrapper object at 0x7f87040811d0\", \"primary_metric\": 0.83933968, \"best_metric\": 0.96909245}, {\"run_id\": \"AutoML_d81a2ede-8205-4c13-870a-1cc62b1d5b00_26\", \"run_number\": 31, \"metric\": null, \"status\": \"Completed\", \"run_type\": \"azureml.scriptrun\", \"training_percent\": \"100\", \"start_time\": \"2021-02-08T12:09:01.585059Z\", \"end_time\": \"2021-02-08T12:09:59.732123Z\", \"created_time\": \"2021-02-08T12:08:46.315607Z\", \"created_time_dt\": \"2021-02-08T12:08:46.315607Z\", \"duration\": \"0:01:13\", \"iteration\": \"26\", \"goal\": \"accuracy_max\", \"run_name\": \"SparseNormalizer, LightGBM\", \"run_properties\": \"<azureml.automl.runtime.shared.model_wrappers.SparseNormalizer object at 0x7f150baccd68\", \"primary_metric\": 0.93759283, \"best_metric\": 0.96909245}, {\"run_id\": \"AutoML_d81a2ede-8205-4c13-870a-1cc62b1d5b00_27\", \"run_number\": 32, \"metric\": null, \"status\": \"Completed\", \"run_type\": \"azureml.scriptrun\", \"training_percent\": \"100\", \"start_time\": \"2021-02-08T12:09:07.157643Z\", \"end_time\": \"2021-02-08T12:10:36.960522Z\", \"created_time\": \"2021-02-08T12:08:53.751597Z\", \"created_time_dt\": \"2021-02-08T12:08:53.751597Z\", \"duration\": \"0:01:43\", \"iteration\": \"27\", \"goal\": \"accuracy_max\", \"run_name\": \"SparseNormalizer, XGBoostClassifier\", \"run_properties\": \"<azureml.automl.runtime.shared.model_wrappers.SparseNormalizer object at 0x7f975a2c40f0\", \"primary_metric\": 0.96395761, \"best_metric\": 0.96909245}, {\"run_id\": \"AutoML_d81a2ede-8205-4c13-870a-1cc62b1d5b00_28\", \"run_number\": 33, \"metric\": null, \"status\": \"Completed\", \"run_type\": \"azureml.scriptrun\", \"training_percent\": \"100\", \"start_time\": \"2021-02-08T12:09:37.451706Z\", \"end_time\": \"2021-02-08T12:10:42.453473Z\", \"created_time\": \"2021-02-08T12:09:23.816512Z\", \"created_time_dt\": \"2021-02-08T12:09:23.816512Z\", \"duration\": \"0:01:18\", \"iteration\": \"28\", \"goal\": \"accuracy_max\", \"run_name\": \"SparseNormalizer, XGBoostClassifier\", \"run_properties\": \"<azureml.automl.runtime.shared.model_wrappers.SparseNormalizer object at 0x7f46625c9518\", \"primary_metric\": 0.95724302, \"best_metric\": 0.96909245}, {\"run_id\": \"AutoML_d81a2ede-8205-4c13-870a-1cc62b1d5b00_29\", \"run_number\": 34, \"metric\": null, \"status\": \"Completed\", \"run_type\": \"azureml.scriptrun\", \"training_percent\": \"100\", \"start_time\": \"2021-02-08T12:09:42.872428Z\", \"end_time\": \"2021-02-08T12:10:41.23467Z\", \"created_time\": \"2021-02-08T12:09:30.123456Z\", \"created_time_dt\": \"2021-02-08T12:09:30.123456Z\", \"duration\": \"0:01:11\", \"iteration\": \"29\", \"goal\": \"accuracy_max\", \"run_name\": \"StandardScalerWrapper, XGBoostClassifier\", \"run_properties\": \"<azureml.automl.runtime.shared.model_wrappers.StandardScalerWrapper object at 0x7f7da603a240\", \"primary_metric\": 0.96356278, \"best_metric\": 0.96909245}, {\"run_id\": \"AutoML_d81a2ede-8205-4c13-870a-1cc62b1d5b00_30\", \"run_number\": 35, \"metric\": null, \"status\": \"Completed\", \"run_type\": \"azureml.scriptrun\", \"training_percent\": \"100\", \"start_time\": \"2021-02-08T12:10:06.846146Z\", \"end_time\": \"2021-02-08T12:11:02.883454Z\", \"created_time\": \"2021-02-08T12:09:51.006449Z\", \"created_time_dt\": \"2021-02-08T12:09:51.006449Z\", \"duration\": \"0:01:11\", \"iteration\": \"30\", \"goal\": \"accuracy_max\", \"run_name\": \"StandardScalerWrapper, LightGBM\", \"run_properties\": \"<azureml.automl.runtime.shared.model_wrappers.StandardScalerWrapper object at 0x7f73e31c3390\", \"primary_metric\": 0.96060037, \"best_metric\": 0.96909245}, {\"run_id\": \"AutoML_d81a2ede-8205-4c13-870a-1cc62b1d5b00_31\", \"run_number\": 36, \"metric\": null, \"status\": \"Completed\", \"run_type\": \"azureml.scriptrun\", \"training_percent\": \"100\", \"start_time\": \"2021-02-08T12:10:13.009016Z\", \"end_time\": \"2021-02-08T12:11:51.407418Z\", \"created_time\": \"2021-02-08T12:10:01.810868Z\", \"created_time_dt\": \"2021-02-08T12:10:01.810868Z\", \"duration\": \"0:01:49\", \"iteration\": \"31\", \"goal\": \"accuracy_max\", \"run_name\": \"SparseNormalizer, XGBoostClassifier\", \"run_properties\": \"<azureml.automl.runtime.shared.model_wrappers.SparseNormalizer object at 0x7fac0135cd30\", \"primary_metric\": 0.96751252, \"best_metric\": 0.96909245}, {\"run_id\": \"AutoML_d81a2ede-8205-4c13-870a-1cc62b1d5b00_32\", \"run_number\": 37, \"metric\": null, \"status\": \"Canceled\", \"run_type\": \"azureml.scriptrun\", \"training_percent\": \"100\", \"start_time\": \"2021-02-08T12:10:58.941014Z\", \"end_time\": \"2021-02-08T12:12:14.355027Z\", \"created_time\": \"2021-02-08T12:10:40.561327Z\", \"created_time_dt\": \"2021-02-08T12:10:40.561327Z\", \"duration\": \"0:01:33\", \"iteration\": \"32\", \"goal\": null, \"run_name\": \"SparseNormalizer, XGBoostClassifier\", \"run_properties\": null}, {\"run_id\": \"AutoML_d81a2ede-8205-4c13-870a-1cc62b1d5b00_33\", \"run_number\": 38, \"metric\": null, \"status\": \"Completed\", \"run_type\": \"azureml.scriptrun\", \"training_percent\": \"100\", \"start_time\": \"2021-02-08T12:10:58.049021Z\", \"end_time\": \"2021-02-08T12:12:06.59749Z\", \"created_time\": \"2021-02-08T12:10:45.988668Z\", \"created_time_dt\": \"2021-02-08T12:10:45.988668Z\", \"duration\": \"0:01:20\", \"iteration\": \"33\", \"goal\": \"accuracy_max\", \"run_name\": \"SparseNormalizer, XGBoostClassifier\", \"run_properties\": \"<azureml.automl.runtime.shared.model_wrappers.SparseNormalizer object at 0x7f0f90defd30\", \"primary_metric\": 0.96336513, \"best_metric\": 0.96909245}, {\"run_id\": \"AutoML_d81a2ede-8205-4c13-870a-1cc62b1d5b00_34\", \"run_number\": 39, \"metric\": null, \"status\": \"Completed\", \"run_type\": \"azureml.scriptrun\", \"training_percent\": \"100\", \"start_time\": \"2021-02-08T12:10:57.552624Z\", \"end_time\": \"2021-02-08T12:12:01.349553Z\", \"created_time\": \"2021-02-08T12:10:46.124009Z\", \"created_time_dt\": \"2021-02-08T12:10:46.124009Z\", \"duration\": \"0:01:15\", \"iteration\": \"34\", \"goal\": \"accuracy_max\", \"run_name\": \"MaxAbsScaler, LightGBM\", \"run_properties\": \"copy=True\", \"primary_metric\": 0.93463042, \"best_metric\": 0.96909245}, {\"run_id\": \"AutoML_d81a2ede-8205-4c13-870a-1cc62b1d5b00_35\", \"run_number\": 40, \"metric\": null, \"status\": \"Canceled\", \"run_type\": \"azureml.scriptrun\", \"training_percent\": \"100\", \"start_time\": \"2021-02-08T12:11:19.011309Z\", \"end_time\": \"2021-02-08T12:12:14.797151Z\", \"created_time\": \"2021-02-08T12:11:06.016937Z\", \"created_time_dt\": \"2021-02-08T12:11:06.016937Z\", \"duration\": \"0:01:08\", \"iteration\": \"35\", \"goal\": \"accuracy_max\", \"run_name\": \"MaxAbsScaler, LightGBM\", \"run_properties\": \"copy=True\", \"primary_metric\": 0.83933968, \"best_metric\": 0.96909245}, {\"run_id\": \"AutoML_d81a2ede-8205-4c13-870a-1cc62b1d5b00_36\", \"run_number\": 41, \"metric\": null, \"status\": \"Canceled\", \"run_type\": \"azureml.scriptrun\", \"training_percent\": \"100\", \"start_time\": \"2021-02-08T12:12:05.411526Z\", \"end_time\": \"2021-02-08T12:12:15.997312Z\", \"created_time\": \"2021-02-08T12:11:53.705393Z\", \"created_time_dt\": \"2021-02-08T12:11:53.705393Z\", \"duration\": \"0:00:22\", \"iteration\": \"36\", \"goal\": null, \"run_name\": \"Canceled\", \"run_properties\": null}, {\"run_id\": \"AutoML_d81a2ede-8205-4c13-870a-1cc62b1d5b00_37\", \"run_number\": 42, \"metric\": null, \"status\": \"Canceled\", \"run_type\": \"azureml.scriptrun\", \"training_percent\": \"100\", \"start_time\": \"2021-02-08T12:12:03.825006Z\", \"end_time\": \"2021-02-08T12:12:22.475591Z\", \"created_time\": \"2021-02-08T12:12:03.825006Z\", \"created_time_dt\": \"2021-02-08T12:12:03.825006Z\", \"duration\": \"0:00:18\", \"iteration\": \"37\", \"goal\": null, \"run_name\": \"Canceled\", \"run_properties\": null}, {\"run_id\": \"AutoML_d81a2ede-8205-4c13-870a-1cc62b1d5b00_38\", \"run_number\": 43, \"metric\": null, \"status\": \"Completed\", \"run_type\": \"azureml.scriptrun\", \"training_percent\": \"100\", \"start_time\": \"2021-02-08T12:12:38.949512Z\", \"end_time\": \"2021-02-08T12:14:34.599956Z\", \"created_time\": \"2021-02-08T12:12:24.503603Z\", \"created_time_dt\": \"2021-02-08T12:12:24.503603Z\", \"duration\": \"0:02:10\", \"iteration\": \"38\", \"goal\": \"accuracy_max\", \"run_name\": \"VotingEnsemble\", \"run_properties\": \"classification_labels=None,\\n                              estimators=[('0',\\n                                           Pipeline(memory=None,\\n                                                    steps=[('maxabsscaler',\\n                                                            MaxAbsScaler(copy=True\", \"primary_metric\": 0.97047496, \"best_metric\": 0.97047496}], \"children_metrics\": {\"categories\": [0], \"series\": {\"average_precision_score_macro\": [{\"categories\": [\"0\", \"1\", \"2\", \"3\", \"4\", \"5\", \"6\", \"7\", \"8\", \"9\", \"10\", \"11\", \"12\", \"13\", \"14\", \"15\", \"16\", \"17\", \"18\", \"19\", \"20\", \"21\", \"22\", \"23\", \"24\", \"25\", \"26\", \"27\", \"28\", \"29\", \"30\", \"31\", \"33\", \"34\", \"35\", \"38\"], \"mode\": \"markers\", \"name\": \"average_precision_score_macro\", \"stepped\": false, \"type\": \"scatter\", \"data\": [0.9824558950520178, 0.9744367702996622, 0.8462074550852483, 0.8143234187751395, 0.8640349537657103, 0.8139117867552947, 0.965171173805525, 0.9794820588815588, 0.9789588117506662, 0.9751749324301507, 0.9506266723122662, 0.8826644614840159, 0.8903143801966374, 0.8296593885831793, 0.895748059504547, 0.9028526437769576, 0.8785049532173516, 0.842850858252875, 0.9229693727736389, 0.8484646493628784, 0.9621569150760889, 0.9589431792463822, 0.9603825222268094, 0.9696445781613353, 0.8925738519586037, 0.8586394464361917, 0.9387755834932415, 0.9781547695827574, 0.9708943938693023, 0.9775597959508442, 0.9698007172178379, 0.9803922472089021, 0.9771428748236511, 0.9383496881821571, 0.840822881096087, 0.9828947809268321]}, {\"categories\": [\"0\", \"1\", \"2\", \"3\", \"4\", \"5\", \"6\", \"7\", \"8\", \"9\", \"10\", \"11\", \"12\", \"13\", \"14\", \"15\", \"16\", \"17\", \"18\", \"19\", \"20\", \"21\", \"22\", \"23\", \"24\", \"25\", \"26\", \"27\", \"28\", \"29\", \"30\", \"31\", \"33\", \"34\", \"35\", \"38\"], \"mode\": \"lines\", \"name\": \"average_precision_score_macro_max\", \"stepped\": true, \"type\": \"scatter\", \"data\": [0.9824558950520178, 0.9824558950520178, 0.9824558950520178, 0.9824558950520178, 0.9824558950520178, 0.9824558950520178, 0.9824558950520178, 0.9824558950520178, 0.9824558950520178, 0.9824558950520178, 0.9824558950520178, 0.9824558950520178, 0.9824558950520178, 0.9824558950520178, 0.9824558950520178, 0.9824558950520178, 0.9824558950520178, 0.9824558950520178, 0.9824558950520178, 0.9824558950520178, 0.9824558950520178, 0.9824558950520178, 0.9824558950520178, 0.9824558950520178, 0.9824558950520178, 0.9824558950520178, 0.9824558950520178, 0.9824558950520178, 0.9824558950520178, 0.9824558950520178, 0.9824558950520178, 0.9824558950520178, 0.9824558950520178, 0.9824558950520178, 0.9824558950520178, 0.9828947809268321]}], \"recall_score_macro\": [{\"categories\": [\"0\", \"1\", \"2\", \"3\", \"4\", \"5\", \"6\", \"7\", \"8\", \"9\", \"10\", \"11\", \"12\", \"13\", \"14\", \"15\", \"16\", \"17\", \"18\", \"19\", \"20\", \"21\", \"22\", \"23\", \"24\", \"25\", \"26\", \"27\", \"28\", \"29\", \"30\", \"31\", \"33\", \"34\", \"35\", \"38\"], \"mode\": \"markers\", \"name\": \"recall_score_macro\", \"stepped\": false, \"type\": \"scatter\", \"data\": [0.9314043416327399, 0.9040121099643081, 0.577393724995728, 0.5, 0.8489973683537461, 0.8037012115056043, 0.8964903911397976, 0.9125994338674591, 0.9194740939472789, 0.909316093371718, 0.871431541356106, 0.7900042108738807, 0.7288406320295765, 0.5, 0.7134479943412143, 0.6846224646200962, 0.7671004754051828, 0.6249567970144706, 0.7994073608633686, 0.605167626737109, 0.8844943315069266, 0.8911598648881727, 0.8893560180920236, 0.9116146411797591, 0.7339672427673197, 0.5, 0.8502102107797395, 0.9132919412917789, 0.8958370191615125, 0.9126611933772933, 0.9154576909717305, 0.9237950067717106, 0.912356466671658, 0.842603045715587, 0.5, 0.9304996452408126]}, {\"categories\": [\"0\", \"1\", \"2\", \"3\", \"4\", \"5\", \"6\", \"7\", \"8\", \"9\", \"10\", \"11\", \"12\", \"13\", \"14\", \"15\", \"16\", \"17\", \"18\", \"19\", \"20\", \"21\", \"22\", \"23\", \"24\", \"25\", \"26\", \"27\", \"28\", \"29\", \"30\", \"31\", \"33\", \"34\", \"35\", \"38\"], \"mode\": \"lines\", \"name\": \"recall_score_macro_max\", \"stepped\": true, \"type\": \"scatter\", \"data\": [0.9314043416327399, 0.9314043416327399, 0.9314043416327399, 0.9314043416327399, 0.9314043416327399, 0.9314043416327399, 0.9314043416327399, 0.9314043416327399, 0.9314043416327399, 0.9314043416327399, 0.9314043416327399, 0.9314043416327399, 0.9314043416327399, 0.9314043416327399, 0.9314043416327399, 0.9314043416327399, 0.9314043416327399, 0.9314043416327399, 0.9314043416327399, 0.9314043416327399, 0.9314043416327399, 0.9314043416327399, 0.9314043416327399, 0.9314043416327399, 0.9314043416327399, 0.9314043416327399, 0.9314043416327399, 0.9314043416327399, 0.9314043416327399, 0.9314043416327399, 0.9314043416327399, 0.9314043416327399, 0.9314043416327399, 0.9314043416327399, 0.9314043416327399, 0.9314043416327399]}], \"recall_score_weighted\": [{\"categories\": [\"0\", \"1\", \"2\", \"3\", \"4\", \"5\", \"6\", \"7\", \"8\", \"9\", \"10\", \"11\", \"12\", \"13\", \"14\", \"15\", \"16\", \"17\", \"18\", \"19\", \"20\", \"21\", \"22\", \"23\", \"24\", \"25\", \"26\", \"27\", \"28\", \"29\", \"30\", \"31\", \"33\", \"34\", \"35\", \"38\"], \"mode\": \"markers\", \"name\": \"recall_score_weighted\", \"stepped\": false, \"type\": \"scatter\", \"data\": [0.9690924463167749, 0.9603042829559417, 0.861655666725177, 0.8393396817038207, 0.8520773506523902, 0.7793011526534434, 0.9552678895325025, 0.964747791235153, 0.9661300684570827, 0.9624765666140074, 0.9450975659703937, 0.9117209642501902, 0.8945396992569187, 0.8393396817038207, 0.8992786261775203, 0.8934529869521971, 0.9079688139956703, 0.8744932713123866, 0.9233733251418875, 0.8705437949798139, 0.952206775495875, 0.9496397519162132, 0.9531941372652274, 0.95852688549529, 0.9003649874202798, 0.8393396817038207, 0.9375928266339009, 0.9639576092680359, 0.9572430226434966, 0.963562781580949, 0.9606003744660933, 0.9675125212099935, 0.9633651336960973, 0.9346304195190451, 0.8393396817038207, 0.9704749575800129]}, {\"categories\": [\"0\", \"1\", \"2\", \"3\", \"4\", \"5\", \"6\", \"7\", \"8\", \"9\", \"10\", \"11\", \"12\", \"13\", \"14\", \"15\", \"16\", \"17\", \"18\", \"19\", \"20\", \"21\", \"22\", \"23\", \"24\", \"25\", \"26\", \"27\", \"28\", \"29\", \"30\", \"31\", \"33\", \"34\", \"35\", \"38\"], \"mode\": \"lines\", \"name\": \"recall_score_weighted_max\", \"stepped\": true, \"type\": \"scatter\", \"data\": [0.9690924463167749, 0.9690924463167749, 0.9690924463167749, 0.9690924463167749, 0.9690924463167749, 0.9690924463167749, 0.9690924463167749, 0.9690924463167749, 0.9690924463167749, 0.9690924463167749, 0.9690924463167749, 0.9690924463167749, 0.9690924463167749, 0.9690924463167749, 0.9690924463167749, 0.9690924463167749, 0.9690924463167749, 0.9690924463167749, 0.9690924463167749, 0.9690924463167749, 0.9690924463167749, 0.9690924463167749, 0.9690924463167749, 0.9690924463167749, 0.9690924463167749, 0.9690924463167749, 0.9690924463167749, 0.9690924463167749, 0.9690924463167749, 0.9690924463167749, 0.9690924463167749, 0.9690924463167749, 0.9690924463167749, 0.9690924463167749, 0.9690924463167749, 0.9704749575800129]}], \"precision_score_macro\": [{\"categories\": [\"0\", \"1\", \"2\", \"3\", \"4\", \"5\", \"6\", \"7\", \"8\", \"9\", \"10\", \"11\", \"12\", \"13\", \"14\", \"15\", \"16\", \"17\", \"18\", \"19\", \"20\", \"21\", \"22\", \"23\", \"24\", \"25\", \"26\", \"27\", \"28\", \"29\", \"30\", \"31\", \"33\", \"34\", \"35\", \"38\"], \"mode\": \"markers\", \"name\": \"precision_score_macro\", \"stepped\": false, \"type\": \"scatter\", \"data\": [0.9521154043040085, 0.944764167057652, 0.8891000380843511, 0.41966984085191034, 0.7456786154018848, 0.6857821311956241, 0.933425722830631, 0.9535005185997188, 0.9522701697833892, 0.9480363066634169, 0.9179744534063984, 0.8606859524975546, 0.8411623087755146, 0.41966984085191034, 0.88619366780255, 0.8985311716731538, 0.864939671884946, 0.8762799573313848, 0.9010062681261343, 0.8907876245709992, 0.9328885218480418, 0.9173078341603819, 0.9319476465052138, 0.9316000861014696, 0.8654318073973309, 0.41966984085191034, 0.9079081445250452, 0.9500272737088737, 0.9410202553265138, 0.9489954689594339, 0.9358661615513423, 0.9533681696005963, 0.9485742227062257, 0.9037207222914948, 0.41966984085191034, 0.9579928814983898]}, {\"categories\": [\"0\", \"1\", \"2\", \"3\", \"4\", \"5\", \"6\", \"7\", \"8\", \"9\", \"10\", \"11\", \"12\", \"13\", \"14\", \"15\", \"16\", \"17\", \"18\", \"19\", \"20\", \"21\", \"22\", \"23\", \"24\", \"25\", \"26\", \"27\", \"28\", \"29\", \"30\", \"31\", \"33\", \"34\", \"35\", \"38\"], \"mode\": \"lines\", \"name\": \"precision_score_macro_max\", \"stepped\": true, \"type\": \"scatter\", \"data\": [0.9521154043040085, 0.9521154043040085, 0.9521154043040085, 0.9521154043040085, 0.9521154043040085, 0.9521154043040085, 0.9521154043040085, 0.9535005185997188, 0.9535005185997188, 0.9535005185997188, 0.9535005185997188, 0.9535005185997188, 0.9535005185997188, 0.9535005185997188, 0.9535005185997188, 0.9535005185997188, 0.9535005185997188, 0.9535005185997188, 0.9535005185997188, 0.9535005185997188, 0.9535005185997188, 0.9535005185997188, 0.9535005185997188, 0.9535005185997188, 0.9535005185997188, 0.9535005185997188, 0.9535005185997188, 0.9535005185997188, 0.9535005185997188, 0.9535005185997188, 0.9535005185997188, 0.9535005185997188, 0.9535005185997188, 0.9535005185997188, 0.9535005185997188, 0.9579928814983898]}], \"AUC_macro\": [{\"categories\": [\"0\", \"1\", \"2\", \"3\", \"4\", \"5\", \"6\", \"7\", \"8\", \"9\", \"10\", \"11\", \"12\", \"13\", \"14\", \"15\", \"16\", \"17\", \"18\", \"19\", \"20\", \"21\", \"22\", \"23\", \"24\", \"25\", \"26\", \"27\", \"28\", \"29\", \"30\", \"31\", \"33\", \"34\", \"35\", \"38\"], \"mode\": \"markers\", \"name\": \"AUC_macro\", \"stepped\": false, \"type\": \"scatter\", \"data\": [0.992057578091878, 0.9888548014173875, 0.9073713489953427, 0.8895658961049083, 0.9221234519052807, 0.894112279923387, 0.9825238154189558, 0.9907526729577789, 0.9907405862997501, 0.988722082352789, 0.9736525541002378, 0.9304046910279006, 0.9519078454103571, 0.8999809767261101, 0.9509897812171021, 0.956590505120932, 0.9344450604863305, 0.9124494030558573, 0.9570014934864335, 0.9163661903162491, 0.9818035379964428, 0.9825368333494507, 0.979304363205402, 0.9874681010926137, 0.9512176105055671, 0.9146055569780674, 0.9724342211538795, 0.9902249548918166, 0.986415544882202, 0.9903761075764911, 0.9875030903443012, 0.9911782607608067, 0.9899120653525055, 0.9730138519996006, 0.9148462335725238, 0.9925784049261708]}, {\"categories\": [\"0\", \"1\", \"2\", \"3\", \"4\", \"5\", \"6\", \"7\", \"8\", \"9\", \"10\", \"11\", \"12\", \"13\", \"14\", \"15\", \"16\", \"17\", \"18\", \"19\", \"20\", \"21\", \"22\", \"23\", \"24\", \"25\", \"26\", \"27\", \"28\", \"29\", \"30\", \"31\", \"33\", \"34\", \"35\", \"38\"], \"mode\": \"lines\", \"name\": \"AUC_macro_max\", \"stepped\": true, \"type\": \"scatter\", \"data\": [0.992057578091878, 0.992057578091878, 0.992057578091878, 0.992057578091878, 0.992057578091878, 0.992057578091878, 0.992057578091878, 0.992057578091878, 0.992057578091878, 0.992057578091878, 0.992057578091878, 0.992057578091878, 0.992057578091878, 0.992057578091878, 0.992057578091878, 0.992057578091878, 0.992057578091878, 0.992057578091878, 0.992057578091878, 0.992057578091878, 0.992057578091878, 0.992057578091878, 0.992057578091878, 0.992057578091878, 0.992057578091878, 0.992057578091878, 0.992057578091878, 0.992057578091878, 0.992057578091878, 0.992057578091878, 0.992057578091878, 0.992057578091878, 0.992057578091878, 0.992057578091878, 0.992057578091878, 0.9925784049261708]}], \"precision_score_micro\": [{\"categories\": [\"0\", \"1\", \"2\", \"3\", \"4\", \"5\", \"6\", \"7\", \"8\", \"9\", \"10\", \"11\", \"12\", \"13\", \"14\", \"15\", \"16\", \"17\", \"18\", \"19\", \"20\", \"21\", \"22\", \"23\", \"24\", \"25\", \"26\", \"27\", \"28\", \"29\", \"30\", \"31\", \"33\", \"34\", \"35\", \"38\"], \"mode\": \"markers\", \"name\": \"precision_score_micro\", \"stepped\": false, \"type\": \"scatter\", \"data\": [0.9690924463167749, 0.9603042829559417, 0.861655666725177, 0.8393396817038207, 0.8520773506523902, 0.7793011526534434, 0.9552678895325025, 0.964747791235153, 0.9661300684570827, 0.9624765666140074, 0.9450975659703937, 0.9117209642501902, 0.8945396992569187, 0.8393396817038207, 0.8992786261775203, 0.8934529869521971, 0.9079688139956703, 0.8744932713123866, 0.9233733251418875, 0.8705437949798139, 0.952206775495875, 0.9496397519162132, 0.9531941372652274, 0.95852688549529, 0.9003649874202798, 0.8393396817038207, 0.9375928266339009, 0.9639576092680359, 0.9572430226434966, 0.963562781580949, 0.9606003744660933, 0.9675125212099935, 0.9633651336960973, 0.9346304195190451, 0.8393396817038207, 0.9704749575800129]}, {\"categories\": [\"0\", \"1\", \"2\", \"3\", \"4\", \"5\", \"6\", \"7\", \"8\", \"9\", \"10\", \"11\", \"12\", \"13\", \"14\", \"15\", \"16\", \"17\", \"18\", \"19\", \"20\", \"21\", \"22\", \"23\", \"24\", \"25\", \"26\", \"27\", \"28\", \"29\", \"30\", \"31\", \"33\", \"34\", \"35\", \"38\"], \"mode\": \"lines\", \"name\": \"precision_score_micro_max\", \"stepped\": true, \"type\": \"scatter\", \"data\": [0.9690924463167749, 0.9690924463167749, 0.9690924463167749, 0.9690924463167749, 0.9690924463167749, 0.9690924463167749, 0.9690924463167749, 0.9690924463167749, 0.9690924463167749, 0.9690924463167749, 0.9690924463167749, 0.9690924463167749, 0.9690924463167749, 0.9690924463167749, 0.9690924463167749, 0.9690924463167749, 0.9690924463167749, 0.9690924463167749, 0.9690924463167749, 0.9690924463167749, 0.9690924463167749, 0.9690924463167749, 0.9690924463167749, 0.9690924463167749, 0.9690924463167749, 0.9690924463167749, 0.9690924463167749, 0.9690924463167749, 0.9690924463167749, 0.9690924463167749, 0.9690924463167749, 0.9690924463167749, 0.9690924463167749, 0.9690924463167749, 0.9690924463167749, 0.9704749575800129]}], \"f1_score_micro\": [{\"categories\": [\"0\", \"1\", \"2\", \"3\", \"4\", \"5\", \"6\", \"7\", \"8\", \"9\", \"10\", \"11\", \"12\", \"13\", \"14\", \"15\", \"16\", \"17\", \"18\", \"19\", \"20\", \"21\", \"22\", \"23\", \"24\", \"25\", \"26\", \"27\", \"28\", \"29\", \"30\", \"31\", \"33\", \"34\", \"35\", \"38\"], \"mode\": \"markers\", \"name\": \"f1_score_micro\", \"stepped\": false, \"type\": \"scatter\", \"data\": [0.9690924463167749, 0.9603042829559417, 0.861655666725177, 0.8393396817038208, 0.8520773506523902, 0.7793011526534434, 0.9552678895325025, 0.964747791235153, 0.9661300684570827, 0.9624765666140074, 0.9450975659703937, 0.9117209642501902, 0.8945396992569187, 0.8393396817038208, 0.8992786261775203, 0.8934529869521971, 0.9079688139956702, 0.8744932713123866, 0.9233733251418875, 0.8705437949798139, 0.952206775495875, 0.9496397519162132, 0.9531941372652274, 0.95852688549529, 0.9003649874202798, 0.8393396817038208, 0.937592826633901, 0.9639576092680359, 0.9572430226434966, 0.963562781580949, 0.9606003744660933, 0.9675125212099935, 0.9633651336960973, 0.934630419519045, 0.8393396817038208, 0.9704749575800129]}, {\"categories\": [\"0\", \"1\", \"2\", \"3\", \"4\", \"5\", \"6\", \"7\", \"8\", \"9\", \"10\", \"11\", \"12\", \"13\", \"14\", \"15\", \"16\", \"17\", \"18\", \"19\", \"20\", \"21\", \"22\", \"23\", \"24\", \"25\", \"26\", \"27\", \"28\", \"29\", \"30\", \"31\", \"33\", \"34\", \"35\", \"38\"], \"mode\": \"lines\", \"name\": \"f1_score_micro_max\", \"stepped\": true, \"type\": \"scatter\", \"data\": [0.9690924463167749, 0.9690924463167749, 0.9690924463167749, 0.9690924463167749, 0.9690924463167749, 0.9690924463167749, 0.9690924463167749, 0.9690924463167749, 0.9690924463167749, 0.9690924463167749, 0.9690924463167749, 0.9690924463167749, 0.9690924463167749, 0.9690924463167749, 0.9690924463167749, 0.9690924463167749, 0.9690924463167749, 0.9690924463167749, 0.9690924463167749, 0.9690924463167749, 0.9690924463167749, 0.9690924463167749, 0.9690924463167749, 0.9690924463167749, 0.9690924463167749, 0.9690924463167749, 0.9690924463167749, 0.9690924463167749, 0.9690924463167749, 0.9690924463167749, 0.9690924463167749, 0.9690924463167749, 0.9690924463167749, 0.9690924463167749, 0.9690924463167749, 0.9704749575800129]}], \"f1_score_weighted\": [{\"categories\": [\"0\", \"1\", \"2\", \"3\", \"4\", \"5\", \"6\", \"7\", \"8\", \"9\", \"10\", \"11\", \"12\", \"13\", \"14\", \"15\", \"16\", \"17\", \"18\", \"19\", \"20\", \"21\", \"22\", \"23\", \"24\", \"25\", \"26\", \"27\", \"28\", \"29\", \"30\", \"31\", \"33\", \"34\", \"35\", \"38\"], \"mode\": \"markers\", \"name\": \"f1_score_weighted\", \"stepped\": false, \"type\": \"scatter\", \"data\": [0.9687295920410595, 0.959335006463559, 0.816388459100296, 0.7660348770601465, 0.864744550506506, 0.8049058716250528, 0.9542740612996686, 0.9639119242669937, 0.9654932737458966, 0.9616284203231528, 0.943480052066393, 0.906950482293122, 0.8842425153802965, 0.7660348770601465, 0.8849338793563856, 0.8743341712108954, 0.9009140734064971, 0.844098672916857, 0.9179496740013677, 0.8348376605127013, 0.9507957951378363, 0.9488329539856711, 0.9519695303116492, 0.9580330169767531, 0.8894733622671164, 0.7660348770601465, 0.9352343006899245, 0.9631780439371127, 0.9560868269423072, 0.9627814185304376, 0.9601208992960251, 0.9669654770367125, 0.9625924096212085, 0.9319807141157629, 0.7660348770601465, 0.9700129291729381]}, {\"categories\": [\"0\", \"1\", \"2\", \"3\", \"4\", \"5\", \"6\", \"7\", \"8\", \"9\", \"10\", \"11\", \"12\", \"13\", \"14\", \"15\", \"16\", \"17\", \"18\", \"19\", \"20\", \"21\", \"22\", \"23\", \"24\", \"25\", \"26\", \"27\", \"28\", \"29\", \"30\", \"31\", \"33\", \"34\", \"35\", \"38\"], \"mode\": \"lines\", \"name\": \"f1_score_weighted_max\", \"stepped\": true, \"type\": \"scatter\", \"data\": [0.9687295920410595, 0.9687295920410595, 0.9687295920410595, 0.9687295920410595, 0.9687295920410595, 0.9687295920410595, 0.9687295920410595, 0.9687295920410595, 0.9687295920410595, 0.9687295920410595, 0.9687295920410595, 0.9687295920410595, 0.9687295920410595, 0.9687295920410595, 0.9687295920410595, 0.9687295920410595, 0.9687295920410595, 0.9687295920410595, 0.9687295920410595, 0.9687295920410595, 0.9687295920410595, 0.9687295920410595, 0.9687295920410595, 0.9687295920410595, 0.9687295920410595, 0.9687295920410595, 0.9687295920410595, 0.9687295920410595, 0.9687295920410595, 0.9687295920410595, 0.9687295920410595, 0.9687295920410595, 0.9687295920410595, 0.9687295920410595, 0.9687295920410595, 0.9700129291729381]}], \"norm_macro_recall\": [{\"categories\": [\"0\", \"1\", \"2\", \"3\", \"4\", \"5\", \"6\", \"7\", \"8\", \"9\", \"10\", \"11\", \"12\", \"13\", \"14\", \"15\", \"16\", \"17\", \"18\", \"19\", \"20\", \"21\", \"22\", \"23\", \"24\", \"25\", \"26\", \"27\", \"28\", \"29\", \"30\", \"31\", \"33\", \"34\", \"35\", \"38\"], \"mode\": \"markers\", \"name\": \"norm_macro_recall\", \"stepped\": false, \"type\": \"scatter\", \"data\": [0.8628086832654799, 0.8080242199286163, 0.1547874499914561, 0.0, 0.6979947367074922, 0.6074024230112084, 0.7929807822795952, 0.8251988677349185, 0.8389481878945576, 0.8186321867434362, 0.7428630827122121, 0.5800084217477616, 0.4576812640591528, 0.0, 0.4268959886824288, 0.36924492924019253, 0.5342009508103654, 0.24991359402894134, 0.5988147217267374, 0.210335253474218, 0.7689886630138533, 0.7823197297763452, 0.778712036184047, 0.8232292823595181, 0.4679344855346393, 0.0, 0.7004204215594788, 0.826583882583558, 0.7916740383230249, 0.8253223867545868, 0.8309153819434609, 0.8475900135434212, 0.8247129333433162, 0.6852060914311738, 0.0, 0.8609992904816254]}, {\"categories\": [\"0\", \"1\", \"2\", \"3\", \"4\", \"5\", \"6\", \"7\", \"8\", \"9\", \"10\", \"11\", \"12\", \"13\", \"14\", \"15\", \"16\", \"17\", \"18\", \"19\", \"20\", \"21\", \"22\", \"23\", \"24\", \"25\", \"26\", \"27\", \"28\", \"29\", \"30\", \"31\", \"33\", \"34\", \"35\", \"38\"], \"mode\": \"lines\", \"name\": \"norm_macro_recall_max\", \"stepped\": true, \"type\": \"scatter\", \"data\": [0.8628086832654799, 0.8628086832654799, 0.8628086832654799, 0.8628086832654799, 0.8628086832654799, 0.8628086832654799, 0.8628086832654799, 0.8628086832654799, 0.8628086832654799, 0.8628086832654799, 0.8628086832654799, 0.8628086832654799, 0.8628086832654799, 0.8628086832654799, 0.8628086832654799, 0.8628086832654799, 0.8628086832654799, 0.8628086832654799, 0.8628086832654799, 0.8628086832654799, 0.8628086832654799, 0.8628086832654799, 0.8628086832654799, 0.8628086832654799, 0.8628086832654799, 0.8628086832654799, 0.8628086832654799, 0.8628086832654799, 0.8628086832654799, 0.8628086832654799, 0.8628086832654799, 0.8628086832654799, 0.8628086832654799, 0.8628086832654799, 0.8628086832654799, 0.8628086832654799]}], \"average_precision_score_weighted\": [{\"categories\": [\"0\", \"1\", \"2\", \"3\", \"4\", \"5\", \"6\", \"7\", \"8\", \"9\", \"10\", \"11\", \"12\", \"13\", \"14\", \"15\", \"16\", \"17\", \"18\", \"19\", \"20\", \"21\", \"22\", \"23\", \"24\", \"25\", \"26\", \"27\", \"28\", \"29\", \"30\", \"31\", \"33\", \"34\", \"35\", \"38\"], \"mode\": \"markers\", \"name\": \"average_precision_score_weighted\", \"stepped\": false, \"type\": \"scatter\", \"data\": [0.9932731307994235, 0.9903121269032459, 0.9363122727066754, 0.9225970498424751, 0.9441801406174682, 0.924271409658893, 0.9863391273871396, 0.9921683664203726, 0.992004385517849, 0.990502466389236, 0.9802261898638879, 0.9514436692438095, 0.9582759473941015, 0.9299768416960572, 0.9598764012538249, 0.963105069992734, 0.9514600159361303, 0.9364581726916579, 0.968916728175631, 0.9388047573379034, 0.9852688059742042, 0.9845486233160413, 0.9841998039936936, 0.9886442545326197, 0.9588401229394371, 0.9414537449857544, 0.9766306663919128, 0.9916766954081405, 0.988800352532761, 0.9915175099639928, 0.988676786967892, 0.9925158089768388, 0.9913066178779585, 0.9766328411977266, 0.9355091164590797, 0.9935179483184303]}, {\"categories\": [\"0\", \"1\", \"2\", \"3\", \"4\", \"5\", \"6\", \"7\", \"8\", \"9\", \"10\", \"11\", \"12\", \"13\", \"14\", \"15\", \"16\", \"17\", \"18\", \"19\", \"20\", \"21\", \"22\", \"23\", \"24\", \"25\", \"26\", \"27\", \"28\", \"29\", \"30\", \"31\", \"33\", \"34\", \"35\", \"38\"], \"mode\": \"lines\", \"name\": \"average_precision_score_weighted_max\", \"stepped\": true, \"type\": \"scatter\", \"data\": [0.9932731307994235, 0.9932731307994235, 0.9932731307994235, 0.9932731307994235, 0.9932731307994235, 0.9932731307994235, 0.9932731307994235, 0.9932731307994235, 0.9932731307994235, 0.9932731307994235, 0.9932731307994235, 0.9932731307994235, 0.9932731307994235, 0.9932731307994235, 0.9932731307994235, 0.9932731307994235, 0.9932731307994235, 0.9932731307994235, 0.9932731307994235, 0.9932731307994235, 0.9932731307994235, 0.9932731307994235, 0.9932731307994235, 0.9932731307994235, 0.9932731307994235, 0.9932731307994235, 0.9932731307994235, 0.9932731307994235, 0.9932731307994235, 0.9932731307994235, 0.9932731307994235, 0.9932731307994235, 0.9932731307994235, 0.9932731307994235, 0.9932731307994235, 0.9935179483184303]}], \"f1_score_macro\": [{\"categories\": [\"0\", \"1\", \"2\", \"3\", \"4\", \"5\", \"6\", \"7\", \"8\", \"9\", \"10\", \"11\", \"12\", \"13\", \"14\", \"15\", \"16\", \"17\", \"18\", \"19\", \"20\", \"21\", \"22\", \"23\", \"24\", \"25\", \"26\", \"27\", \"28\", \"29\", \"30\", \"31\", \"33\", \"34\", \"35\", \"38\"], \"mode\": \"markers\", \"name\": \"f1_score_macro\", \"stepped\": false, \"type\": \"scatter\", \"data\": [0.9413440452905671, 0.9227973818311415, 0.5909818440292026, 0.4563222431737475, 0.776873367858955, 0.7021364178547621, 0.9134434536115066, 0.9315234400928148, 0.9348458020351345, 0.9272707444129678, 0.8921663816017723, 0.8190583135189277, 0.7676017758390733, 0.4563222431737475, 0.7630632779711884, 0.7358351365801292, 0.8040028406980338, 0.6630817778408117, 0.838425571655955, 0.637532258939263, 0.9062493705336867, 0.9035196374437025, 0.9088007574554196, 0.9211788602990133, 0.7769637882122354, 0.4563222431737475, 0.8755389685010493, 0.9303477762996167, 0.9164686866381059, 0.9295497735795278, 0.9251524482305994, 0.9377350904507232, 0.9292496934031836, 0.8690349050023846, 0.4563222431737475, 0.9435458875644233]}, {\"categories\": [\"0\", \"1\", \"2\", \"3\", \"4\", \"5\", \"6\", \"7\", \"8\", \"9\", \"10\", \"11\", \"12\", \"13\", \"14\", \"15\", \"16\", \"17\", \"18\", \"19\", \"20\", \"21\", \"22\", \"23\", \"24\", \"25\", \"26\", \"27\", \"28\", \"29\", \"30\", \"31\", \"33\", \"34\", \"35\", \"38\"], \"mode\": \"lines\", \"name\": \"f1_score_macro_max\", \"stepped\": true, \"type\": \"scatter\", \"data\": [0.9413440452905671, 0.9413440452905671, 0.9413440452905671, 0.9413440452905671, 0.9413440452905671, 0.9413440452905671, 0.9413440452905671, 0.9413440452905671, 0.9413440452905671, 0.9413440452905671, 0.9413440452905671, 0.9413440452905671, 0.9413440452905671, 0.9413440452905671, 0.9413440452905671, 0.9413440452905671, 0.9413440452905671, 0.9413440452905671, 0.9413440452905671, 0.9413440452905671, 0.9413440452905671, 0.9413440452905671, 0.9413440452905671, 0.9413440452905671, 0.9413440452905671, 0.9413440452905671, 0.9413440452905671, 0.9413440452905671, 0.9413440452905671, 0.9413440452905671, 0.9413440452905671, 0.9413440452905671, 0.9413440452905671, 0.9413440452905671, 0.9413440452905671, 0.9435458875644233]}], \"average_precision_score_micro\": [{\"categories\": [\"0\", \"1\", \"2\", \"3\", \"4\", \"5\", \"6\", \"7\", \"8\", \"9\", \"10\", \"11\", \"12\", \"13\", \"14\", \"15\", \"16\", \"17\", \"18\", \"19\", \"20\", \"21\", \"22\", \"23\", \"24\", \"25\", \"26\", \"27\", \"28\", \"29\", \"30\", \"31\", \"33\", \"34\", \"35\", \"38\"], \"mode\": \"markers\", \"name\": \"average_precision_score_micro\", \"stepped\": false, \"type\": \"scatter\", \"data\": [0.9959695159351701, 0.9940395247952728, 0.9522697577295777, 0.944822238860113, 0.928619452115793, 0.8855997102391839, 0.9913929490917749, 0.9950718081291913, 0.9951254935036243, 0.9941030827629684, 0.9869312507237037, 0.9688807652796892, 0.9713638760778204, 0.948500427278856, 0.970346824384673, 0.9707458696902221, 0.9691774382408807, 0.9547265931336559, 0.9786235207521821, 0.955113213696699, 0.9904804617484642, 0.99111836213839, 0.9898053968762409, 0.9935136264881029, 0.9738662465646583, 0.9524135062919568, 0.9859005787720281, 0.9949150172206144, 0.9928284385957281, 0.9947753104064665, 0.9935441105221448, 0.9954690906862212, 0.9947336427074124, 0.9861101772107347, 0.9517901603679643, 0.9960398903328467]}, {\"categories\": [\"0\", \"1\", \"2\", \"3\", \"4\", \"5\", \"6\", \"7\", \"8\", \"9\", \"10\", \"11\", \"12\", \"13\", \"14\", \"15\", \"16\", \"17\", \"18\", \"19\", \"20\", \"21\", \"22\", \"23\", \"24\", \"25\", \"26\", \"27\", \"28\", \"29\", \"30\", \"31\", \"33\", \"34\", \"35\", \"38\"], \"mode\": \"lines\", \"name\": \"average_precision_score_micro_max\", \"stepped\": true, \"type\": \"scatter\", \"data\": [0.9959695159351701, 0.9959695159351701, 0.9959695159351701, 0.9959695159351701, 0.9959695159351701, 0.9959695159351701, 0.9959695159351701, 0.9959695159351701, 0.9959695159351701, 0.9959695159351701, 0.9959695159351701, 0.9959695159351701, 0.9959695159351701, 0.9959695159351701, 0.9959695159351701, 0.9959695159351701, 0.9959695159351701, 0.9959695159351701, 0.9959695159351701, 0.9959695159351701, 0.9959695159351701, 0.9959695159351701, 0.9959695159351701, 0.9959695159351701, 0.9959695159351701, 0.9959695159351701, 0.9959695159351701, 0.9959695159351701, 0.9959695159351701, 0.9959695159351701, 0.9959695159351701, 0.9959695159351701, 0.9959695159351701, 0.9959695159351701, 0.9959695159351701, 0.9960398903328467]}], \"weighted_accuracy\": [{\"categories\": [\"0\", \"1\", \"2\", \"3\", \"4\", \"5\", \"6\", \"7\", \"8\", \"9\", \"10\", \"11\", \"12\", \"13\", \"14\", \"15\", \"16\", \"17\", \"18\", \"19\", \"20\", \"21\", \"22\", \"23\", \"24\", \"25\", \"26\", \"27\", \"28\", \"29\", \"30\", \"31\", \"33\", \"34\", \"35\", \"38\"], \"mode\": \"markers\", \"name\": \"weighted_accuracy\", \"stepped\": false, \"type\": \"scatter\", \"data\": [0.9830073442583588, 0.9810769896365579, 0.9668629185955847, 0.9645956071695932, 0.8532568658658359, 0.7701571741842339, 0.9770163619147145, 0.9839831993499796, 0.9833632490354275, 0.9821036810715481, 0.9723193277034966, 0.956696463753078, 0.9556894152143985, 0.9645956071695932, 0.9679686797962445, 0.9705622886981143, 0.9600060204191697, 0.9667219906199681, 0.9691734150442542, 0.9684609209856735, 0.9772594679794034, 0.9712140550113953, 0.9768280351976069, 0.9758295180905049, 0.9619587660386294, 0.9645956071695932, 0.9698458186568494, 0.9826932872251626, 0.979936512275526, 0.9823428698467417, 0.9772833979789839, 0.983667206889916, 0.9822012335690897, 0.9686359924846316, 0.9645956071695932, 0.9852381215336857]}, {\"categories\": [\"0\", \"1\", \"2\", \"3\", \"4\", \"5\", \"6\", \"7\", \"8\", \"9\", \"10\", \"11\", \"12\", \"13\", \"14\", \"15\", \"16\", \"17\", \"18\", \"19\", \"20\", \"21\", \"22\", \"23\", \"24\", \"25\", \"26\", \"27\", \"28\", \"29\", \"30\", \"31\", \"33\", \"34\", \"35\", \"38\"], \"mode\": \"lines\", \"name\": \"weighted_accuracy_max\", \"stepped\": true, \"type\": \"scatter\", \"data\": [0.9830073442583588, 0.9830073442583588, 0.9830073442583588, 0.9830073442583588, 0.9830073442583588, 0.9830073442583588, 0.9830073442583588, 0.9839831993499796, 0.9839831993499796, 0.9839831993499796, 0.9839831993499796, 0.9839831993499796, 0.9839831993499796, 0.9839831993499796, 0.9839831993499796, 0.9839831993499796, 0.9839831993499796, 0.9839831993499796, 0.9839831993499796, 0.9839831993499796, 0.9839831993499796, 0.9839831993499796, 0.9839831993499796, 0.9839831993499796, 0.9839831993499796, 0.9839831993499796, 0.9839831993499796, 0.9839831993499796, 0.9839831993499796, 0.9839831993499796, 0.9839831993499796, 0.9839831993499796, 0.9839831993499796, 0.9839831993499796, 0.9839831993499796, 0.9852381215336857]}], \"precision_score_weighted\": [{\"categories\": [\"0\", \"1\", \"2\", \"3\", \"4\", \"5\", \"6\", \"7\", \"8\", \"9\", \"10\", \"11\", \"12\", \"13\", \"14\", \"15\", \"16\", \"17\", \"18\", \"19\", \"20\", \"21\", \"22\", \"23\", \"24\", \"25\", \"26\", \"27\", \"28\", \"29\", \"30\", \"31\", \"33\", \"34\", \"35\", \"38\"], \"mode\": \"markers\", \"name\": \"precision_score_weighted\", \"stepped\": false, \"type\": \"scatter\", \"data\": [0.968675144993376, 0.9595392927993626, 0.8700592812822885, 0.7045183772507437, 0.8953147758389268, 0.872955891467445, 0.9544061012265962, 0.9641992996300672, 0.9656160736682167, 0.9618203055991188, 0.9437457273755315, 0.9068684596915711, 0.8867189553102435, 0.7045183772507437, 0.8969946964390877, 0.894747539417322, 0.9027208244391364, 0.8754481595271874, 0.9211363885062895, 0.876014941241633, 0.9511984937231395, 0.9485614432538977, 0.9521288118086715, 0.95785849219719, 0.8952215308285086, 0.7045183772507437, 0.9354907618983627, 0.9633707515255866, 0.9563857451445479, 0.9629408188765288, 0.9600209647615964, 0.9670466824392544, 0.9627179992760713, 0.9324041590595011, 0.7045183772507437, 0.9700695482051099]}, {\"categories\": [\"0\", \"1\", \"2\", \"3\", \"4\", \"5\", \"6\", \"7\", \"8\", \"9\", \"10\", \"11\", \"12\", \"13\", \"14\", \"15\", \"16\", \"17\", \"18\", \"19\", \"20\", \"21\", \"22\", \"23\", \"24\", \"25\", \"26\", \"27\", \"28\", \"29\", \"30\", \"31\", \"33\", \"34\", \"35\", \"38\"], \"mode\": \"lines\", \"name\": \"precision_score_weighted_max\", \"stepped\": true, \"type\": \"scatter\", \"data\": [0.968675144993376, 0.968675144993376, 0.968675144993376, 0.968675144993376, 0.968675144993376, 0.968675144993376, 0.968675144993376, 0.968675144993376, 0.968675144993376, 0.968675144993376, 0.968675144993376, 0.968675144993376, 0.968675144993376, 0.968675144993376, 0.968675144993376, 0.968675144993376, 0.968675144993376, 0.968675144993376, 0.968675144993376, 0.968675144993376, 0.968675144993376, 0.968675144993376, 0.968675144993376, 0.968675144993376, 0.968675144993376, 0.968675144993376, 0.968675144993376, 0.968675144993376, 0.968675144993376, 0.968675144993376, 0.968675144993376, 0.968675144993376, 0.968675144993376, 0.968675144993376, 0.968675144993376, 0.9700695482051099]}], \"AUC_weighted\": [{\"categories\": [\"0\", \"1\", \"2\", \"3\", \"4\", \"5\", \"6\", \"7\", \"8\", \"9\", \"10\", \"11\", \"12\", \"13\", \"14\", \"15\", \"16\", \"17\", \"18\", \"19\", \"20\", \"21\", \"22\", \"23\", \"24\", \"25\", \"26\", \"27\", \"28\", \"29\", \"30\", \"31\", \"33\", \"34\", \"35\", \"38\"], \"mode\": \"markers\", \"name\": \"AUC_weighted\", \"stepped\": false, \"type\": \"scatter\", \"data\": [0.9920575780918782, 0.9888548014173875, 0.9073713489953427, 0.8895658961049083, 0.9221234519052807, 0.894112279923387, 0.9825238154189558, 0.9907526729577789, 0.9907405862997501, 0.988722082352789, 0.9736525541002377, 0.9304046910279006, 0.951907845410357, 0.8999809767261101, 0.9509897812171021, 0.956590505120932, 0.9344450604863305, 0.9124494030558573, 0.9570014934864335, 0.916366190316249, 0.9818035379964428, 0.9825368333494507, 0.979304363205402, 0.9874681010926137, 0.9512176105055671, 0.9146055569780674, 0.9724342211538795, 0.9902249548918166, 0.9864155448822021, 0.9903761075764911, 0.9875030903443011, 0.9911782607608065, 0.9899120653525055, 0.9730138519996007, 0.9148462335725237, 0.9925784049261708]}, {\"categories\": [\"0\", \"1\", \"2\", \"3\", \"4\", \"5\", \"6\", \"7\", \"8\", \"9\", \"10\", \"11\", \"12\", \"13\", \"14\", \"15\", \"16\", \"17\", \"18\", \"19\", \"20\", \"21\", \"22\", \"23\", \"24\", \"25\", \"26\", \"27\", \"28\", \"29\", \"30\", \"31\", \"33\", \"34\", \"35\", \"38\"], \"mode\": \"lines\", \"name\": \"AUC_weighted_max\", \"stepped\": true, \"type\": \"scatter\", \"data\": [0.9920575780918782, 0.9920575780918782, 0.9920575780918782, 0.9920575780918782, 0.9920575780918782, 0.9920575780918782, 0.9920575780918782, 0.9920575780918782, 0.9920575780918782, 0.9920575780918782, 0.9920575780918782, 0.9920575780918782, 0.9920575780918782, 0.9920575780918782, 0.9920575780918782, 0.9920575780918782, 0.9920575780918782, 0.9920575780918782, 0.9920575780918782, 0.9920575780918782, 0.9920575780918782, 0.9920575780918782, 0.9920575780918782, 0.9920575780918782, 0.9920575780918782, 0.9920575780918782, 0.9920575780918782, 0.9920575780918782, 0.9920575780918782, 0.9920575780918782, 0.9920575780918782, 0.9920575780918782, 0.9920575780918782, 0.9920575780918782, 0.9920575780918782, 0.9925784049261708]}], \"recall_score_micro\": [{\"categories\": [\"0\", \"1\", \"2\", \"3\", \"4\", \"5\", \"6\", \"7\", \"8\", \"9\", \"10\", \"11\", \"12\", \"13\", \"14\", \"15\", \"16\", \"17\", \"18\", \"19\", \"20\", \"21\", \"22\", \"23\", \"24\", \"25\", \"26\", \"27\", \"28\", \"29\", \"30\", \"31\", \"33\", \"34\", \"35\", \"38\"], \"mode\": \"markers\", \"name\": \"recall_score_micro\", \"stepped\": false, \"type\": \"scatter\", \"data\": [0.9690924463167749, 0.9603042829559417, 0.861655666725177, 0.8393396817038207, 0.8520773506523902, 0.7793011526534434, 0.9552678895325025, 0.964747791235153, 0.9661300684570827, 0.9624765666140074, 0.9450975659703937, 0.9117209642501902, 0.8945396992569187, 0.8393396817038207, 0.8992786261775203, 0.8934529869521971, 0.9079688139956703, 0.8744932713123866, 0.9233733251418875, 0.8705437949798139, 0.952206775495875, 0.9496397519162132, 0.9531941372652274, 0.95852688549529, 0.9003649874202798, 0.8393396817038207, 0.9375928266339009, 0.9639576092680359, 0.9572430226434966, 0.963562781580949, 0.9606003744660933, 0.9675125212099935, 0.9633651336960973, 0.9346304195190451, 0.8393396817038207, 0.9704749575800129]}, {\"categories\": [\"0\", \"1\", \"2\", \"3\", \"4\", \"5\", \"6\", \"7\", \"8\", \"9\", \"10\", \"11\", \"12\", \"13\", \"14\", \"15\", \"16\", \"17\", \"18\", \"19\", \"20\", \"21\", \"22\", \"23\", \"24\", \"25\", \"26\", \"27\", \"28\", \"29\", \"30\", \"31\", \"33\", \"34\", \"35\", \"38\"], \"mode\": \"lines\", \"name\": \"recall_score_micro_max\", \"stepped\": true, \"type\": \"scatter\", \"data\": [0.9690924463167749, 0.9690924463167749, 0.9690924463167749, 0.9690924463167749, 0.9690924463167749, 0.9690924463167749, 0.9690924463167749, 0.9690924463167749, 0.9690924463167749, 0.9690924463167749, 0.9690924463167749, 0.9690924463167749, 0.9690924463167749, 0.9690924463167749, 0.9690924463167749, 0.9690924463167749, 0.9690924463167749, 0.9690924463167749, 0.9690924463167749, 0.9690924463167749, 0.9690924463167749, 0.9690924463167749, 0.9690924463167749, 0.9690924463167749, 0.9690924463167749, 0.9690924463167749, 0.9690924463167749, 0.9690924463167749, 0.9690924463167749, 0.9690924463167749, 0.9690924463167749, 0.9690924463167749, 0.9690924463167749, 0.9690924463167749, 0.9690924463167749, 0.9704749575800129]}], \"AUC_micro\": [{\"categories\": [\"0\", \"1\", \"2\", \"3\", \"4\", \"5\", \"6\", \"7\", \"8\", \"9\", \"10\", \"11\", \"12\", \"13\", \"14\", \"15\", \"16\", \"17\", \"18\", \"19\", \"20\", \"21\", \"22\", \"23\", \"24\", \"25\", \"26\", \"27\", \"28\", \"29\", \"30\", \"31\", \"33\", \"34\", \"35\", \"38\"], \"mode\": \"markers\", \"name\": \"AUC_micro\", \"stepped\": false, \"type\": \"scatter\", \"data\": [0.9959000035607133, 0.9938827586041428, 0.9510734102558471, 0.9444008981181381, 0.9282988977303056, 0.880757593133885, 0.991231037305235, 0.9949607513920621, 0.9950074137612956, 0.9939695234818312, 0.9868287493972522, 0.9689278234222211, 0.9700710481251574, 0.9471963944597431, 0.9689901488186213, 0.9692469596559947, 0.9684435818154901, 0.9534291225449477, 0.9783593663460856, 0.9537955090550044, 0.9903425802647763, 0.9908435532451988, 0.9897741821593323, 0.9933242865516463, 0.9727972133229063, 0.9511900001435311, 0.9855061097149974, 0.9947965519498707, 0.9926556667712165, 0.9946406315503206, 0.9933728963155616, 0.9953665168100133, 0.9946180558670097, 0.9856701038466874, 0.9512057560843526, 0.9959517354370292]}, {\"categories\": [\"0\", \"1\", \"2\", \"3\", \"4\", \"5\", \"6\", \"7\", \"8\", \"9\", \"10\", \"11\", \"12\", \"13\", \"14\", \"15\", \"16\", \"17\", \"18\", \"19\", \"20\", \"21\", \"22\", \"23\", \"24\", \"25\", \"26\", \"27\", \"28\", \"29\", \"30\", \"31\", \"33\", \"34\", \"35\", \"38\"], \"mode\": \"lines\", \"name\": \"AUC_micro_max\", \"stepped\": true, \"type\": \"scatter\", \"data\": [0.9959000035607133, 0.9959000035607133, 0.9959000035607133, 0.9959000035607133, 0.9959000035607133, 0.9959000035607133, 0.9959000035607133, 0.9959000035607133, 0.9959000035607133, 0.9959000035607133, 0.9959000035607133, 0.9959000035607133, 0.9959000035607133, 0.9959000035607133, 0.9959000035607133, 0.9959000035607133, 0.9959000035607133, 0.9959000035607133, 0.9959000035607133, 0.9959000035607133, 0.9959000035607133, 0.9959000035607133, 0.9959000035607133, 0.9959000035607133, 0.9959000035607133, 0.9959000035607133, 0.9959000035607133, 0.9959000035607133, 0.9959000035607133, 0.9959000035607133, 0.9959000035607133, 0.9959000035607133, 0.9959000035607133, 0.9959000035607133, 0.9959000035607133, 0.9959517354370292]}], \"log_loss\": [{\"categories\": [\"0\", \"1\", \"2\", \"3\", \"4\", \"5\", \"6\", \"7\", \"8\", \"9\", \"10\", \"11\", \"12\", \"13\", \"14\", \"15\", \"16\", \"17\", \"18\", \"19\", \"20\", \"21\", \"22\", \"23\", \"24\", \"25\", \"26\", \"27\", \"28\", \"29\", \"30\", \"31\", \"33\", \"34\", \"35\", \"38\"], \"mode\": \"markers\", \"name\": \"log_loss\", \"stepped\": false, \"type\": \"scatter\", \"data\": [0.0803901865488858, 0.1105145632393635, 0.30081530328750694, 0.3420125341162514, 0.4549466411969158, 0.5118621615692803, 0.14717467317079877, 0.09330998839490913, 0.09160078892614475, 0.10527354662461168, 0.3016359814093408, 0.22469643682691295, 0.24313115260872353, 0.3204369444450216, 0.2573778209684448, 0.2625302790475366, 0.237049571507607, 0.2971027193333041, 0.33416939512201277, 0.30063053268601964, 0.16432947827306835, 0.12600209447941094, 0.16172944331005526, 0.10731159862620014, 0.22714192220589502, 0.4323757031984173, 0.16565273627081745, 0.09303392510537976, 0.12021019296544681, 0.1035178482538744, 0.10634775210609888, 0.0865966536917896, 0.09477053463921858, 0.16161197735981497, 0.44017128281766554, 0.08415240898209275]}, {\"categories\": [\"0\", \"1\", \"2\", \"3\", \"4\", \"5\", \"6\", \"7\", \"8\", \"9\", \"10\", \"11\", \"12\", \"13\", \"14\", \"15\", \"16\", \"17\", \"18\", \"19\", \"20\", \"21\", \"22\", \"23\", \"24\", \"25\", \"26\", \"27\", \"28\", \"29\", \"30\", \"31\", \"33\", \"34\", \"35\", \"38\"], \"mode\": \"lines\", \"name\": \"log_loss_min\", \"stepped\": true, \"type\": \"scatter\", \"data\": [0.0803901865488858, 0.0803901865488858, 0.0803901865488858, 0.0803901865488858, 0.0803901865488858, 0.0803901865488858, 0.0803901865488858, 0.0803901865488858, 0.0803901865488858, 0.0803901865488858, 0.0803901865488858, 0.0803901865488858, 0.0803901865488858, 0.0803901865488858, 0.0803901865488858, 0.0803901865488858, 0.0803901865488858, 0.0803901865488858, 0.0803901865488858, 0.0803901865488858, 0.0803901865488858, 0.0803901865488858, 0.0803901865488858, 0.0803901865488858, 0.0803901865488858, 0.0803901865488858, 0.0803901865488858, 0.0803901865488858, 0.0803901865488858, 0.0803901865488858, 0.0803901865488858, 0.0803901865488858, 0.0803901865488858, 0.0803901865488858, 0.0803901865488858, 0.0803901865488858]}], \"matthews_correlation\": [{\"categories\": [\"0\", \"1\", \"2\", \"3\", \"4\", \"5\", \"6\", \"7\", \"8\", \"9\", \"10\", \"11\", \"12\", \"13\", \"14\", \"15\", \"16\", \"17\", \"18\", \"19\", \"20\", \"21\", \"22\", \"23\", \"24\", \"25\", \"26\", \"27\", \"28\", \"29\", \"30\", \"31\", \"33\", \"34\", \"35\", \"38\"], \"mode\": \"markers\", \"name\": \"matthews_correlation\", \"stepped\": false, \"type\": \"scatter\", \"data\": [0.8832585968336769, 0.8477668255350471, 0.33413063378230135, 0.0, 0.5855799311027555, 0.4750596453176526, 0.8289587486195424, 0.8651281206898161, 0.8710946515858794, 0.856462166936624, 0.7877969468387236, 0.6467468994411427, 0.5586976375224829, 0.0, 0.5739508387067328, 0.5423926477303319, 0.6242852102019257, 0.43265566121663296, 0.69264407285806, 0.4053859654559379, 0.8158314424558685, 0.8080254258315159, 0.8201386275899868, 0.8429479625239796, 0.5841375655291181, 0.0, 0.7558937962709015, 0.8624883464506133, 0.8356158555291436, 0.8608440699704304, 0.8510052301061511, 0.8766287503656335, 0.8601614184148958, 0.7437091932091974, 0.0, 0.8880503713136555]}, {\"categories\": [\"0\", \"1\", \"2\", \"3\", \"4\", \"5\", \"6\", \"7\", \"8\", \"9\", \"10\", \"11\", \"12\", \"13\", \"14\", \"15\", \"16\", \"17\", \"18\", \"19\", \"20\", \"21\", \"22\", \"23\", \"24\", \"25\", \"26\", \"27\", \"28\", \"29\", \"30\", \"31\", \"33\", \"34\", \"35\", \"38\"], \"mode\": \"lines\", \"name\": \"matthews_correlation_max\", \"stepped\": true, \"type\": \"scatter\", \"data\": [0.8832585968336769, 0.8832585968336769, 0.8832585968336769, 0.8832585968336769, 0.8832585968336769, 0.8832585968336769, 0.8832585968336769, 0.8832585968336769, 0.8832585968336769, 0.8832585968336769, 0.8832585968336769, 0.8832585968336769, 0.8832585968336769, 0.8832585968336769, 0.8832585968336769, 0.8832585968336769, 0.8832585968336769, 0.8832585968336769, 0.8832585968336769, 0.8832585968336769, 0.8832585968336769, 0.8832585968336769, 0.8832585968336769, 0.8832585968336769, 0.8832585968336769, 0.8832585968336769, 0.8832585968336769, 0.8832585968336769, 0.8832585968336769, 0.8832585968336769, 0.8832585968336769, 0.8832585968336769, 0.8832585968336769, 0.8832585968336769, 0.8832585968336769, 0.8880503713136555]}], \"accuracy\": [{\"categories\": [\"0\", \"1\", \"2\", \"3\", \"4\", \"5\", \"6\", \"7\", \"8\", \"9\", \"10\", \"11\", \"12\", \"13\", \"14\", \"15\", \"16\", \"17\", \"18\", \"19\", \"20\", \"21\", \"22\", \"23\", \"24\", \"25\", \"26\", \"27\", \"28\", \"29\", \"30\", \"31\", \"33\", \"34\", \"35\", \"38\"], \"mode\": \"markers\", \"name\": \"accuracy\", \"stepped\": false, \"type\": \"scatter\", \"data\": [0.9690924463167749, 0.9603042829559417, 0.861655666725177, 0.8393396817038207, 0.8520773506523902, 0.7793011526534434, 0.9552678895325025, 0.964747791235153, 0.9661300684570827, 0.9624765666140074, 0.9450975659703937, 0.9117209642501902, 0.8945396992569187, 0.8393396817038207, 0.8992786261775203, 0.8934529869521971, 0.9079688139956703, 0.8744932713123866, 0.9233733251418875, 0.8705437949798139, 0.952206775495875, 0.9496397519162132, 0.9531941372652274, 0.95852688549529, 0.9003649874202798, 0.8393396817038207, 0.9375928266339009, 0.9639576092680359, 0.9572430226434966, 0.963562781580949, 0.9606003744660933, 0.9675125212099935, 0.9633651336960973, 0.9346304195190451, 0.8393396817038207, 0.9704749575800129]}, {\"categories\": [\"0\", \"1\", \"2\", \"3\", \"4\", \"5\", \"6\", \"7\", \"8\", \"9\", \"10\", \"11\", \"12\", \"13\", \"14\", \"15\", \"16\", \"17\", \"18\", \"19\", \"20\", \"21\", \"22\", \"23\", \"24\", \"25\", \"26\", \"27\", \"28\", \"29\", \"30\", \"31\", \"33\", \"34\", \"35\", \"38\"], \"mode\": \"lines\", \"name\": \"accuracy_max\", \"stepped\": true, \"type\": \"scatter\", \"data\": [0.9690924463167749, 0.9690924463167749, 0.9690924463167749, 0.9690924463167749, 0.9690924463167749, 0.9690924463167749, 0.9690924463167749, 0.9690924463167749, 0.9690924463167749, 0.9690924463167749, 0.9690924463167749, 0.9690924463167749, 0.9690924463167749, 0.9690924463167749, 0.9690924463167749, 0.9690924463167749, 0.9690924463167749, 0.9690924463167749, 0.9690924463167749, 0.9690924463167749, 0.9690924463167749, 0.9690924463167749, 0.9690924463167749, 0.9690924463167749, 0.9690924463167749, 0.9690924463167749, 0.9690924463167749, 0.9690924463167749, 0.9690924463167749, 0.9690924463167749, 0.9690924463167749, 0.9690924463167749, 0.9690924463167749, 0.9690924463167749, 0.9690924463167749, 0.9704749575800129]}], \"balanced_accuracy\": [{\"categories\": [\"0\", \"1\", \"2\", \"3\", \"4\", \"5\", \"6\", \"7\", \"8\", \"9\", \"10\", \"11\", \"12\", \"13\", \"14\", \"15\", \"16\", \"17\", \"18\", \"19\", \"20\", \"21\", \"22\", \"23\", \"24\", \"25\", \"26\", \"27\", \"28\", \"29\", \"30\", \"31\", \"33\", \"34\", \"35\", \"38\"], \"mode\": \"markers\", \"name\": \"balanced_accuracy\", \"stepped\": false, \"type\": \"scatter\", \"data\": [0.9314043416327399, 0.9040121099643081, 0.577393724995728, 0.5, 0.8489973683537461, 0.8037012115056043, 0.8964903911397976, 0.9125994338674591, 0.9194740939472789, 0.909316093371718, 0.871431541356106, 0.7900042108738807, 0.7288406320295765, 0.5, 0.7134479943412143, 0.6846224646200962, 0.7671004754051828, 0.6249567970144706, 0.7994073608633686, 0.605167626737109, 0.8844943315069266, 0.8911598648881727, 0.8893560180920236, 0.9116146411797591, 0.7339672427673197, 0.5, 0.8502102107797395, 0.9132919412917789, 0.8958370191615125, 0.9126611933772933, 0.9154576909717305, 0.9237950067717106, 0.912356466671658, 0.842603045715587, 0.5, 0.9304996452408126]}, {\"categories\": [\"0\", \"1\", \"2\", \"3\", \"4\", \"5\", \"6\", \"7\", \"8\", \"9\", \"10\", \"11\", \"12\", \"13\", \"14\", \"15\", \"16\", \"17\", \"18\", \"19\", \"20\", \"21\", \"22\", \"23\", \"24\", \"25\", \"26\", \"27\", \"28\", \"29\", \"30\", \"31\", \"33\", \"34\", \"35\", \"38\"], \"mode\": \"lines\", \"name\": \"balanced_accuracy_max\", \"stepped\": true, \"type\": \"scatter\", \"data\": [0.9314043416327399, 0.9314043416327399, 0.9314043416327399, 0.9314043416327399, 0.9314043416327399, 0.9314043416327399, 0.9314043416327399, 0.9314043416327399, 0.9314043416327399, 0.9314043416327399, 0.9314043416327399, 0.9314043416327399, 0.9314043416327399, 0.9314043416327399, 0.9314043416327399, 0.9314043416327399, 0.9314043416327399, 0.9314043416327399, 0.9314043416327399, 0.9314043416327399, 0.9314043416327399, 0.9314043416327399, 0.9314043416327399, 0.9314043416327399, 0.9314043416327399, 0.9314043416327399, 0.9314043416327399, 0.9314043416327399, 0.9314043416327399, 0.9314043416327399, 0.9314043416327399, 0.9314043416327399, 0.9314043416327399, 0.9314043416327399, 0.9314043416327399, 0.9314043416327399]}]}, \"metricName\": null, \"primaryMetricName\": \"accuracy\", \"showLegend\": false}, \"run_metrics\": [{\"name\": \"experiment_status\", \"run_id\": \"AutoML_d81a2ede-8205-4c13-870a-1cc62b1d5b00\", \"categories\": [0, 1, 2, 3, 4, 5, 6, 7, 8, 9, 10, 11, 12, 13, 14], \"series\": [{\"data\": [\"DatasetEvaluation\", \"FeaturesGeneration\", \"DatasetFeaturization\", \"DatasetFeaturizationCompleted\", \"DatasetBalancing\", \"DatasetCrossValidationSplit\", \"ModelSelection\", \"BestRunExplainModel\", \"ModelExplanationDataSetSetup\", \"PickSurrogateModel\", \"EngineeredFeatureExplanations\", \"EngineeredFeatureExplanations\", \"RawFeaturesExplanations\", \"RawFeaturesExplanations\", \"BestRunExplainModel\"]}]}, {\"name\": \"experiment_status_description\", \"run_id\": \"AutoML_d81a2ede-8205-4c13-870a-1cc62b1d5b00\", \"categories\": [0, 1, 2, 3, 4, 5, 6, 7, 8, 9, 10, 11, 12, 13, 14], \"series\": [{\"data\": [\"Gathering dataset statistics.\", \"Generating features for the dataset.\", \"Beginning to fit featurizers and featurize the dataset.\", \"Completed fit featurizers and featurizing the dataset.\", \"Performing class balancing sweeping\", \"Generating individually featurized CV splits.\", \"Beginning model selection.\", \"Best run model explanations started\", \"Model explanations data setup completed\", \"Choosing LightGBM as the surrogate model for explanations\", \"Computation of engineered features started\", \"Computation of engineered features completed\", \"Computation of raw features started\", \"Computation of raw features completed\", \"Best run model explanations completed\"]}]}, {\"name\": \"precision_score_macro\", \"run_id\": \"AutoML_d81a2ede-8205-4c13-870a-1cc62b1d5b00\", \"categories\": [0], \"series\": [{\"data\": [0.9579928814983898]}]}, {\"name\": \"average_precision_score_macro\", \"run_id\": \"AutoML_d81a2ede-8205-4c13-870a-1cc62b1d5b00\", \"categories\": [0], \"series\": [{\"data\": [0.9828947809268321]}]}, {\"name\": \"AUC_macro\", \"run_id\": \"AutoML_d81a2ede-8205-4c13-870a-1cc62b1d5b00\", \"categories\": [0], \"series\": [{\"data\": [0.9925784049261708]}]}, {\"name\": \"recall_score_weighted\", \"run_id\": \"AutoML_d81a2ede-8205-4c13-870a-1cc62b1d5b00\", \"categories\": [0], \"series\": [{\"data\": [0.9704749575800129]}]}, {\"name\": \"AUC_weighted\", \"run_id\": \"AutoML_d81a2ede-8205-4c13-870a-1cc62b1d5b00\", \"categories\": [0], \"series\": [{\"data\": [0.9925784049261708]}]}, {\"name\": \"f1_score_micro\", \"run_id\": \"AutoML_d81a2ede-8205-4c13-870a-1cc62b1d5b00\", \"categories\": [0], \"series\": [{\"data\": [0.9704749575800129]}]}, {\"name\": \"recall_score_macro\", \"run_id\": \"AutoML_d81a2ede-8205-4c13-870a-1cc62b1d5b00\", \"categories\": [0], \"series\": [{\"data\": [0.9304996452408126]}]}, {\"name\": \"log_loss\", \"run_id\": \"AutoML_d81a2ede-8205-4c13-870a-1cc62b1d5b00\", \"categories\": [0], \"series\": [{\"data\": [0.08415240898209275]}]}, {\"name\": \"f1_score_macro\", \"run_id\": \"AutoML_d81a2ede-8205-4c13-870a-1cc62b1d5b00\", \"categories\": [0], \"series\": [{\"data\": [0.9435458875644233]}]}, {\"name\": \"norm_macro_recall\", \"run_id\": \"AutoML_d81a2ede-8205-4c13-870a-1cc62b1d5b00\", \"categories\": [0], \"series\": [{\"data\": [0.8609992904816254]}]}, {\"name\": \"precision_score_weighted\", \"run_id\": \"AutoML_d81a2ede-8205-4c13-870a-1cc62b1d5b00\", \"categories\": [0], \"series\": [{\"data\": [0.9700695482051099]}]}, {\"name\": \"average_precision_score_weighted\", \"run_id\": \"AutoML_d81a2ede-8205-4c13-870a-1cc62b1d5b00\", \"categories\": [0], \"series\": [{\"data\": [0.9935179483184303]}]}, {\"name\": \"matthews_correlation\", \"run_id\": \"AutoML_d81a2ede-8205-4c13-870a-1cc62b1d5b00\", \"categories\": [0], \"series\": [{\"data\": [0.8880503713136555]}]}, {\"name\": \"accuracy\", \"run_id\": \"AutoML_d81a2ede-8205-4c13-870a-1cc62b1d5b00\", \"categories\": [0], \"series\": [{\"data\": [0.9704749575800129]}]}, {\"name\": \"AUC_micro\", \"run_id\": \"AutoML_d81a2ede-8205-4c13-870a-1cc62b1d5b00\", \"categories\": [0], \"series\": [{\"data\": [0.9959517354370292]}]}, {\"name\": \"weighted_accuracy\", \"run_id\": \"AutoML_d81a2ede-8205-4c13-870a-1cc62b1d5b00\", \"categories\": [0], \"series\": [{\"data\": [0.9852381215336857]}]}, {\"name\": \"average_precision_score_micro\", \"run_id\": \"AutoML_d81a2ede-8205-4c13-870a-1cc62b1d5b00\", \"categories\": [0], \"series\": [{\"data\": [0.9960398903328467]}]}, {\"name\": \"f1_score_weighted\", \"run_id\": \"AutoML_d81a2ede-8205-4c13-870a-1cc62b1d5b00\", \"categories\": [0], \"series\": [{\"data\": [0.9700129291729381]}]}, {\"name\": \"precision_score_micro\", \"run_id\": \"AutoML_d81a2ede-8205-4c13-870a-1cc62b1d5b00\", \"categories\": [0], \"series\": [{\"data\": [0.9704749575800129]}]}, {\"name\": \"balanced_accuracy\", \"run_id\": \"AutoML_d81a2ede-8205-4c13-870a-1cc62b1d5b00\", \"categories\": [0], \"series\": [{\"data\": [0.9304996452408126]}]}, {\"name\": \"recall_score_micro\", \"run_id\": \"AutoML_d81a2ede-8205-4c13-870a-1cc62b1d5b00\", \"categories\": [0], \"series\": [{\"data\": [0.9704749575800129]}]}], \"run_logs\": \"\\nRun is completed.\", \"graph\": {}, \"widget_settings\": {\"childWidgetDisplay\": \"popup\", \"send_telemetry\": false, \"log_level\": \"INFO\", \"sdk_version\": \"1.20.0\"}, \"loading\": false}"
          },
          "metadata": {}
        }
      ],
      "execution_count": 6,
      "metadata": {
        "gather": {
          "logged": 1612785407959
        }
      }
    },
    {
      "cell_type": "code",
      "source": [
        "remote_run.wait_for_completion(show_output = True)"
      ],
      "outputs": [
        {
          "output_type": "stream",
          "name": "stdout",
          "text": [
            "\n",
            "\n",
            "****************************************************************************************************\n",
            "DATA GUARDRAILS: \n",
            "\n",
            "TYPE:         Class balancing detection\n",
            "STATUS:       ALERTED\n",
            "DESCRIPTION:  To decrease model bias, please cancel the current run and fix balancing problem.\n",
            "              Learn more about imbalanced data: https://aka.ms/AutomatedMLImbalancedData\n",
            "DETAILS:      Imbalanced data can lead to a falsely perceived positive effect of a model's accuracy because the input data has bias towards one class.\n",
            "+---------------------------------+---------------------------------+--------------------------------------+\n",
            "|Size of the smallest class       |Name/Label of the smallest class |Number of samples in the training data|\n",
            "+=================================+=================================+======================================+\n",
            "|1627                             |Attrited Customer                |10127                                 |\n",
            "+---------------------------------+---------------------------------+--------------------------------------+\n",
            "\n",
            "****************************************************************************************************\n",
            "\n",
            "TYPE:         Missing feature values imputation\n",
            "STATUS:       PASSED\n",
            "DESCRIPTION:  No feature missing values were detected in the training data.\n",
            "              Learn more about missing value imputation: https://aka.ms/AutomatedMLFeaturization\n",
            "\n",
            "****************************************************************************************************\n",
            "\n",
            "TYPE:         High cardinality feature detection\n",
            "STATUS:       PASSED\n",
            "DESCRIPTION:  Your inputs were analyzed, and no high cardinality features were detected.\n",
            "              Learn more about high cardinality feature handling: https://aka.ms/AutomatedMLFeaturization\n",
            "\n",
            "****************************************************************************************************\n",
            "\n",
            "****************************************************************************************************\n",
            "ITERATION: The iteration being evaluated.\n",
            "PIPELINE: A summary description of the pipeline being evaluated.\n",
            "DURATION: Time taken for the current iteration.\n",
            "METRIC: The result of computing score on the fitted pipeline.\n",
            "BEST: The best observed score thus far.\n",
            "****************************************************************************************************\n",
            "\n",
            " ITERATION   PIPELINE                                       DURATION      METRIC      BEST\n",
            "         0   MaxAbsScaler LightGBM                          0:01:22       0.9691    0.9691\n",
            "         1   MaxAbsScaler XGBoostClassifier                 0:01:15       0.9603    0.9691\n",
            "         2   MaxAbsScaler RandomForest                      0:01:18       0.8617    0.9691\n",
            "         3   MaxAbsScaler RandomForest                      0:01:11       0.8393    0.9691\n",
            "         4   MaxAbsScaler RandomForest                      0:01:21       0.8521    0.9691\n",
            "         5   MaxAbsScaler RandomForest                      0:01:13       0.7793    0.9691\n",
            "         6   SparseNormalizer XGBoostClassifier             0:01:15       0.9553    0.9691\n",
            "         7   SparseNormalizer XGBoostClassifier             0:01:16       0.9647    0.9691\n",
            "         8   SparseNormalizer XGBoostClassifier             0:01:19       0.9661    0.9691\n",
            "         9   SparseNormalizer XGBoostClassifier             0:01:12       0.9625    0.9691\n",
            "        10   SparseNormalizer XGBoostClassifier             0:01:06       0.9451    0.9691\n",
            "        11   MaxAbsScaler LogisticRegression                0:01:06       0.9117    0.9691\n",
            "        12   StandardScalerWrapper RandomForest             0:01:02       0.8945    0.9691\n",
            "        13   MaxAbsScaler ExtremeRandomTrees                0:01:37       0.8393    0.9691\n",
            "        14   MaxAbsScaler LightGBM                          0:00:59       0.8993    0.9691\n",
            "        15   MaxAbsScaler LightGBM                          0:00:54       0.8935    0.9691\n",
            "        16   SparseNormalizer LightGBM                      0:00:52       0.9080    0.9691\n",
            "        17   MaxAbsScaler ExtremeRandomTrees                0:01:41       0.8745    0.9691\n",
            "        18   TruncatedSVDWrapper XGBoostClassifier          0:01:03       0.9234    0.9691\n",
            "        19   MaxAbsScaler ExtremeRandomTrees                0:01:11       0.8705    0.9691\n",
            "        20   SparseNormalizer XGBoostClassifier             0:01:05       0.9522    0.9691\n",
            "        21   MaxAbsScaler LightGBM                          0:01:04       0.9496    0.9691\n",
            "        22   SparseNormalizer XGBoostClassifier             0:01:05       0.9532    0.9691\n",
            "        23   MaxAbsScaler LightGBM                          0:00:59       0.9585    0.9691\n",
            "        24   MaxAbsScaler ExtremeRandomTrees                0:00:59       0.9004    0.9691\n",
            "        25   StandardScalerWrapper LightGBM                 0:00:56       0.8393    0.9691\n",
            "        26   SparseNormalizer LightGBM                      0:00:58       0.9376    0.9691\n",
            "        27   SparseNormalizer XGBoostClassifier             0:01:30       0.9640    0.9691\n",
            "        28   SparseNormalizer XGBoostClassifier             0:01:05       0.9572    0.9691\n",
            "        29   StandardScalerWrapper XGBoostClassifier        0:00:58       0.9636    0.9691\n",
            "        30   StandardScalerWrapper LightGBM                 0:00:56       0.9606    0.9691\n",
            "        31   SparseNormalizer XGBoostClassifier             0:01:38       0.9675    0.9691\n",
            "        32   SparseNormalizer XGBoostClassifier             0:01:15          nan    0.9691\n",
            "        33   SparseNormalizer XGBoostClassifier             0:01:09       0.9634    0.9691\n",
            "        34   MaxAbsScaler LightGBM                          0:01:04       0.9346    0.9691\n",
            "        35   MaxAbsScaler LightGBM                          0:00:56       0.8393    0.9691\n",
            "        36                                                  0:00:11          nan    0.9691\n",
            "        37                                                  0:00:19          nan    0.9691\n",
            "        38    VotingEnsemble                                0:01:56       0.9705    0.9705\n"
          ]
        },
        {
          "output_type": "execute_result",
          "execution_count": 7,
          "data": {
            "text/plain": "{'runId': 'AutoML_d81a2ede-8205-4c13-870a-1cc62b1d5b00',\n 'target': 'demo-cluster',\n 'status': 'Completed',\n 'startTimeUtc': '2021-02-08T11:57:00.994289Z',\n 'endTimeUtc': '2021-02-08T12:14:47.029299Z',\n 'properties': {'num_iterations': '1000',\n  'training_type': 'TrainFull',\n  'acquisition_function': 'EI',\n  'primary_metric': 'accuracy',\n  'train_split': '0',\n  'acquisition_parameter': '0',\n  'num_cross_validation': '3',\n  'target': 'demo-cluster',\n  'AMLSettingsJsonString': '{\"path\":null,\"name\":\"demo-automl-experiment\",\"subscription_id\":\"976ee174-3882-4721-b90a-b5fef6b72f24\",\"resource_group\":\"aml-quickstarts-138143\",\"workspace_name\":\"quick-starts-ws-138143\",\"region\":\"southcentralus\",\"compute_target\":\"demo-cluster\",\"spark_service\":null,\"azure_service\":\"remote\",\"many_models\":false,\"pipeline_fetch_max_batch_size\":1,\"iterations\":1000,\"primary_metric\":\"accuracy\",\"task_type\":\"classification\",\"data_script\":null,\"validation_size\":0.0,\"n_cross_validations\":3,\"y_min\":null,\"y_max\":null,\"num_classes\":null,\"featurization\":\"auto\",\"_ignore_package_version_incompatibilities\":false,\"is_timeseries\":false,\"max_cores_per_iteration\":1,\"max_concurrent_iterations\":5,\"iteration_timeout_minutes\":null,\"mem_in_mb\":null,\"enforce_time_on_windows\":false,\"experiment_timeout_minutes\":20,\"experiment_exit_score\":null,\"whitelist_models\":null,\"blacklist_algos\":[\"TensorFlowLinearClassifier\",\"TensorFlowDNN\"],\"supported_models\":[\"GradientBoosting\",\"BernoulliNaiveBayes\",\"LinearSVM\",\"RandomForest\",\"SVM\",\"DecisionTree\",\"AveragedPerceptronClassifier\",\"TensorFlowDNN\",\"KNN\",\"LightGBM\",\"MultinomialNaiveBayes\",\"ExtremeRandomTrees\",\"XGBoostClassifier\",\"TensorFlowLinearClassifier\",\"LogisticRegression\",\"SGD\"],\"auto_blacklist\":true,\"blacklist_samples_reached\":false,\"exclude_nan_labels\":true,\"verbosity\":20,\"_debug_log\":\"azureml_automl.log\",\"show_warnings\":false,\"model_explainability\":true,\"service_url\":null,\"sdk_url\":null,\"sdk_packages\":null,\"enable_onnx_compatible_models\":true,\"enable_split_onnx_featurizer_estimator_models\":false,\"vm_type\":\"STANDARD_DS3_V2\",\"telemetry_verbosity\":20,\"send_telemetry\":true,\"enable_dnn\":false,\"scenario\":\"SDK-1.13.0\",\"environment_label\":null,\"force_text_dnn\":false,\"enable_feature_sweeping\":false,\"enable_early_stopping\":true,\"early_stopping_n_iters\":10,\"metrics\":null,\"enable_ensembling\":true,\"enable_stack_ensembling\":false,\"ensemble_iterations\":15,\"enable_tf\":false,\"enable_subsampling\":null,\"subsample_seed\":null,\"enable_nimbusml\":false,\"enable_streaming\":false,\"force_streaming\":false,\"track_child_runs\":true,\"allowed_private_models\":[],\"label_column_name\":\"Attrition_Flag\",\"weight_column_name\":null,\"cv_split_column_names\":null,\"enable_local_managed\":false,\"_local_managed_run_id\":null,\"cost_mode\":1,\"lag_length\":0,\"metric_operation\":\"maximize\",\"preprocess\":true}',\n  'DataPrepJsonString': '{\\\\\"training_data\\\\\": \\\\\"{\\\\\\\\\\\\\"blocks\\\\\\\\\\\\\": [{\\\\\\\\\\\\\"id\\\\\\\\\\\\\": \\\\\\\\\\\\\"2d78be52-4730-4b1a-86df-addb6a81ae9f\\\\\\\\\\\\\", \\\\\\\\\\\\\"type\\\\\\\\\\\\\": \\\\\\\\\\\\\"Microsoft.DPrep.GetDatastoreFilesBlock\\\\\\\\\\\\\", \\\\\\\\\\\\\"arguments\\\\\\\\\\\\\": {\\\\\\\\\\\\\"datastores\\\\\\\\\\\\\": [{\\\\\\\\\\\\\"datastoreName\\\\\\\\\\\\\": \\\\\\\\\\\\\"workspaceblobstore\\\\\\\\\\\\\", \\\\\\\\\\\\\"path\\\\\\\\\\\\\": \\\\\\\\\\\\\"UI/02-08-2021_115114_UTC/BankChurners.csv\\\\\\\\\\\\\", \\\\\\\\\\\\\"resourceGroup\\\\\\\\\\\\\": \\\\\\\\\\\\\"aml-quickstarts-138143\\\\\\\\\\\\\", \\\\\\\\\\\\\"subscription\\\\\\\\\\\\\": \\\\\\\\\\\\\"976ee174-3882-4721-b90a-b5fef6b72f24\\\\\\\\\\\\\", \\\\\\\\\\\\\"workspaceName\\\\\\\\\\\\\": \\\\\\\\\\\\\"quick-starts-ws-138143\\\\\\\\\\\\\"}]}, \\\\\\\\\\\\\"localData\\\\\\\\\\\\\": {}, \\\\\\\\\\\\\"isEnabled\\\\\\\\\\\\\": true, \\\\\\\\\\\\\"name\\\\\\\\\\\\\": null, \\\\\\\\\\\\\"annotation\\\\\\\\\\\\\": null}, {\\\\\\\\\\\\\"id\\\\\\\\\\\\\": \\\\\\\\\\\\\"dd18f088-7deb-4861-a705-0b431b63ef90\\\\\\\\\\\\\", \\\\\\\\\\\\\"type\\\\\\\\\\\\\": \\\\\\\\\\\\\"Microsoft.DPrep.ParseDelimitedBlock\\\\\\\\\\\\\", \\\\\\\\\\\\\"arguments\\\\\\\\\\\\\": {\\\\\\\\\\\\\"columnHeadersMode\\\\\\\\\\\\\": 1, \\\\\\\\\\\\\"fileEncoding\\\\\\\\\\\\\": 0, \\\\\\\\\\\\\"handleQuotedLineBreaks\\\\\\\\\\\\\": false, \\\\\\\\\\\\\"preview\\\\\\\\\\\\\": false, \\\\\\\\\\\\\"separator\\\\\\\\\\\\\": \\\\\\\\\\\\\",\\\\\\\\\\\\\", \\\\\\\\\\\\\"skipRows\\\\\\\\\\\\\": 0, \\\\\\\\\\\\\"skipRowsMode\\\\\\\\\\\\\": 0}, \\\\\\\\\\\\\"localData\\\\\\\\\\\\\": {}, \\\\\\\\\\\\\"isEnabled\\\\\\\\\\\\\": true, \\\\\\\\\\\\\"name\\\\\\\\\\\\\": null, \\\\\\\\\\\\\"annotation\\\\\\\\\\\\\": null}, {\\\\\\\\\\\\\"id\\\\\\\\\\\\\": \\\\\\\\\\\\\"2e6b1705-d93e-4931-8a79-8d6c08a68d75\\\\\\\\\\\\\", \\\\\\\\\\\\\"type\\\\\\\\\\\\\": \\\\\\\\\\\\\"Microsoft.DPrep.DropColumnsBlock\\\\\\\\\\\\\", \\\\\\\\\\\\\"arguments\\\\\\\\\\\\\": {\\\\\\\\\\\\\"columns\\\\\\\\\\\\\": {\\\\\\\\\\\\\"type\\\\\\\\\\\\\": 0, \\\\\\\\\\\\\"details\\\\\\\\\\\\\": {\\\\\\\\\\\\\"selectedColumns\\\\\\\\\\\\\": [\\\\\\\\\\\\\"Path\\\\\\\\\\\\\"]}}}, \\\\\\\\\\\\\"localData\\\\\\\\\\\\\": {}, \\\\\\\\\\\\\"isEnabled\\\\\\\\\\\\\": true, \\\\\\\\\\\\\"name\\\\\\\\\\\\\": null, \\\\\\\\\\\\\"annotation\\\\\\\\\\\\\": null}, {\\\\\\\\\\\\\"id\\\\\\\\\\\\\": \\\\\\\\\\\\\"853b15fd-a9d3-463e-a530-2aa7b40ba9c0\\\\\\\\\\\\\", \\\\\\\\\\\\\"type\\\\\\\\\\\\\": \\\\\\\\\\\\\"Microsoft.DPrep.SetColumnTypesBlock\\\\\\\\\\\\\", \\\\\\\\\\\\\"arguments\\\\\\\\\\\\\": {\\\\\\\\\\\\\"columnConversion\\\\\\\\\\\\\": [{\\\\\\\\\\\\\"column\\\\\\\\\\\\\": {\\\\\\\\\\\\\"type\\\\\\\\\\\\\": 2, \\\\\\\\\\\\\"details\\\\\\\\\\\\\": {\\\\\\\\\\\\\"selectedColumn\\\\\\\\\\\\\": \\\\\\\\\\\\\"Path\\\\\\\\\\\\\"}}, \\\\\\\\\\\\\"typeProperty\\\\\\\\\\\\\": 0}, {\\\\\\\\\\\\\"column\\\\\\\\\\\\\": {\\\\\\\\\\\\\"type\\\\\\\\\\\\\": 2, \\\\\\\\\\\\\"details\\\\\\\\\\\\\": {\\\\\\\\\\\\\"selectedColumn\\\\\\\\\\\\\": \\\\\\\\\\\\\"CLIENTNUM\\\\\\\\\\\\\"}}, \\\\\\\\\\\\\"typeProperty\\\\\\\\\\\\\": 2}, {\\\\\\\\\\\\\"column\\\\\\\\\\\\\": {\\\\\\\\\\\\\"type\\\\\\\\\\\\\": 2, \\\\\\\\\\\\\"details\\\\\\\\\\\\\": {\\\\\\\\\\\\\"selectedColumn\\\\\\\\\\\\\": \\\\\\\\\\\\\"Attrition_Flag\\\\\\\\\\\\\"}}, \\\\\\\\\\\\\"typeProperty\\\\\\\\\\\\\": 0}, {\\\\\\\\\\\\\"column\\\\\\\\\\\\\": {\\\\\\\\\\\\\"type\\\\\\\\\\\\\": 2, \\\\\\\\\\\\\"details\\\\\\\\\\\\\": {\\\\\\\\\\\\\"selectedColumn\\\\\\\\\\\\\": \\\\\\\\\\\\\"Customer_Age\\\\\\\\\\\\\"}}, \\\\\\\\\\\\\"typeProperty\\\\\\\\\\\\\": 2}, {\\\\\\\\\\\\\"column\\\\\\\\\\\\\": {\\\\\\\\\\\\\"type\\\\\\\\\\\\\": 2, \\\\\\\\\\\\\"details\\\\\\\\\\\\\": {\\\\\\\\\\\\\"selectedColumn\\\\\\\\\\\\\": \\\\\\\\\\\\\"Gender\\\\\\\\\\\\\"}}, \\\\\\\\\\\\\"typeProperty\\\\\\\\\\\\\": 0}, {\\\\\\\\\\\\\"column\\\\\\\\\\\\\": {\\\\\\\\\\\\\"type\\\\\\\\\\\\\": 2, \\\\\\\\\\\\\"details\\\\\\\\\\\\\": {\\\\\\\\\\\\\"selectedColumn\\\\\\\\\\\\\": \\\\\\\\\\\\\"Dependent_count\\\\\\\\\\\\\"}}, \\\\\\\\\\\\\"typeProperty\\\\\\\\\\\\\": 2}, {\\\\\\\\\\\\\"column\\\\\\\\\\\\\": {\\\\\\\\\\\\\"type\\\\\\\\\\\\\": 2, \\\\\\\\\\\\\"details\\\\\\\\\\\\\": {\\\\\\\\\\\\\"selectedColumn\\\\\\\\\\\\\": \\\\\\\\\\\\\"Education_Level\\\\\\\\\\\\\"}}, \\\\\\\\\\\\\"typeProperty\\\\\\\\\\\\\": 0}, {\\\\\\\\\\\\\"column\\\\\\\\\\\\\": {\\\\\\\\\\\\\"type\\\\\\\\\\\\\": 2, \\\\\\\\\\\\\"details\\\\\\\\\\\\\": {\\\\\\\\\\\\\"selectedColumn\\\\\\\\\\\\\": \\\\\\\\\\\\\"Marital_Status\\\\\\\\\\\\\"}}, \\\\\\\\\\\\\"typeProperty\\\\\\\\\\\\\": 0}, {\\\\\\\\\\\\\"column\\\\\\\\\\\\\": {\\\\\\\\\\\\\"type\\\\\\\\\\\\\": 2, \\\\\\\\\\\\\"details\\\\\\\\\\\\\": {\\\\\\\\\\\\\"selectedColumn\\\\\\\\\\\\\": \\\\\\\\\\\\\"Income_Category\\\\\\\\\\\\\"}}, \\\\\\\\\\\\\"typeProperty\\\\\\\\\\\\\": 0}, {\\\\\\\\\\\\\"column\\\\\\\\\\\\\": {\\\\\\\\\\\\\"type\\\\\\\\\\\\\": 2, \\\\\\\\\\\\\"details\\\\\\\\\\\\\": {\\\\\\\\\\\\\"selectedColumn\\\\\\\\\\\\\": \\\\\\\\\\\\\"Card_Category\\\\\\\\\\\\\"}}, \\\\\\\\\\\\\"typeProperty\\\\\\\\\\\\\": 0}, {\\\\\\\\\\\\\"column\\\\\\\\\\\\\": {\\\\\\\\\\\\\"type\\\\\\\\\\\\\": 2, \\\\\\\\\\\\\"details\\\\\\\\\\\\\": {\\\\\\\\\\\\\"selectedColumn\\\\\\\\\\\\\": \\\\\\\\\\\\\"Months_on_book\\\\\\\\\\\\\"}}, \\\\\\\\\\\\\"typeProperty\\\\\\\\\\\\\": 2}, {\\\\\\\\\\\\\"column\\\\\\\\\\\\\": {\\\\\\\\\\\\\"type\\\\\\\\\\\\\": 2, \\\\\\\\\\\\\"details\\\\\\\\\\\\\": {\\\\\\\\\\\\\"selectedColumn\\\\\\\\\\\\\": \\\\\\\\\\\\\"Total_Relationship_Count\\\\\\\\\\\\\"}}, \\\\\\\\\\\\\"typeProperty\\\\\\\\\\\\\": 2}, {\\\\\\\\\\\\\"column\\\\\\\\\\\\\": {\\\\\\\\\\\\\"type\\\\\\\\\\\\\": 2, \\\\\\\\\\\\\"details\\\\\\\\\\\\\": {\\\\\\\\\\\\\"selectedColumn\\\\\\\\\\\\\": \\\\\\\\\\\\\"Months_Inactive_12_mon\\\\\\\\\\\\\"}}, \\\\\\\\\\\\\"typeProperty\\\\\\\\\\\\\": 2}, {\\\\\\\\\\\\\"column\\\\\\\\\\\\\": {\\\\\\\\\\\\\"type\\\\\\\\\\\\\": 2, \\\\\\\\\\\\\"details\\\\\\\\\\\\\": {\\\\\\\\\\\\\"selectedColumn\\\\\\\\\\\\\": \\\\\\\\\\\\\"Contacts_Count_12_mon\\\\\\\\\\\\\"}}, \\\\\\\\\\\\\"typeProperty\\\\\\\\\\\\\": 2}, {\\\\\\\\\\\\\"column\\\\\\\\\\\\\": {\\\\\\\\\\\\\"type\\\\\\\\\\\\\": 2, \\\\\\\\\\\\\"details\\\\\\\\\\\\\": {\\\\\\\\\\\\\"selectedColumn\\\\\\\\\\\\\": \\\\\\\\\\\\\"Credit_Limit\\\\\\\\\\\\\"}}, \\\\\\\\\\\\\"typeProperty\\\\\\\\\\\\\": 3}, {\\\\\\\\\\\\\"column\\\\\\\\\\\\\": {\\\\\\\\\\\\\"type\\\\\\\\\\\\\": 2, \\\\\\\\\\\\\"details\\\\\\\\\\\\\": {\\\\\\\\\\\\\"selectedColumn\\\\\\\\\\\\\": \\\\\\\\\\\\\"Total_Revolving_Bal\\\\\\\\\\\\\"}}, \\\\\\\\\\\\\"typeProperty\\\\\\\\\\\\\": 2}, {\\\\\\\\\\\\\"column\\\\\\\\\\\\\": {\\\\\\\\\\\\\"type\\\\\\\\\\\\\": 2, \\\\\\\\\\\\\"details\\\\\\\\\\\\\": {\\\\\\\\\\\\\"selectedColumn\\\\\\\\\\\\\": \\\\\\\\\\\\\"Avg_Open_To_Buy\\\\\\\\\\\\\"}}, \\\\\\\\\\\\\"typeProperty\\\\\\\\\\\\\": 3}, {\\\\\\\\\\\\\"column\\\\\\\\\\\\\": {\\\\\\\\\\\\\"type\\\\\\\\\\\\\": 2, \\\\\\\\\\\\\"details\\\\\\\\\\\\\": {\\\\\\\\\\\\\"selectedColumn\\\\\\\\\\\\\": \\\\\\\\\\\\\"Total_Amt_Chng_Q4_Q1\\\\\\\\\\\\\"}}, \\\\\\\\\\\\\"typeProperty\\\\\\\\\\\\\": 3}, {\\\\\\\\\\\\\"column\\\\\\\\\\\\\": {\\\\\\\\\\\\\"type\\\\\\\\\\\\\": 2, \\\\\\\\\\\\\"details\\\\\\\\\\\\\": {\\\\\\\\\\\\\"selectedColumn\\\\\\\\\\\\\": \\\\\\\\\\\\\"Total_Trans_Amt\\\\\\\\\\\\\"}}, \\\\\\\\\\\\\"typeProperty\\\\\\\\\\\\\": 2}, {\\\\\\\\\\\\\"column\\\\\\\\\\\\\": {\\\\\\\\\\\\\"type\\\\\\\\\\\\\": 2, \\\\\\\\\\\\\"details\\\\\\\\\\\\\": {\\\\\\\\\\\\\"selectedColumn\\\\\\\\\\\\\": \\\\\\\\\\\\\"Total_Trans_Ct\\\\\\\\\\\\\"}}, \\\\\\\\\\\\\"typeProperty\\\\\\\\\\\\\": 2}, {\\\\\\\\\\\\\"column\\\\\\\\\\\\\": {\\\\\\\\\\\\\"type\\\\\\\\\\\\\": 2, \\\\\\\\\\\\\"details\\\\\\\\\\\\\": {\\\\\\\\\\\\\"selectedColumn\\\\\\\\\\\\\": \\\\\\\\\\\\\"Total_Ct_Chng_Q4_Q1\\\\\\\\\\\\\"}}, \\\\\\\\\\\\\"typeProperty\\\\\\\\\\\\\": 3}, {\\\\\\\\\\\\\"column\\\\\\\\\\\\\": {\\\\\\\\\\\\\"type\\\\\\\\\\\\\": 2, \\\\\\\\\\\\\"details\\\\\\\\\\\\\": {\\\\\\\\\\\\\"selectedColumn\\\\\\\\\\\\\": \\\\\\\\\\\\\"Avg_Utilization_Ratio\\\\\\\\\\\\\"}}, \\\\\\\\\\\\\"typeProperty\\\\\\\\\\\\\": 3}]}, \\\\\\\\\\\\\"localData\\\\\\\\\\\\\": {}, \\\\\\\\\\\\\"isEnabled\\\\\\\\\\\\\": true, \\\\\\\\\\\\\"name\\\\\\\\\\\\\": null, \\\\\\\\\\\\\"annotation\\\\\\\\\\\\\": null}], \\\\\\\\\\\\\"inspectors\\\\\\\\\\\\\": [], \\\\\\\\\\\\\"meta\\\\\\\\\\\\\": {\\\\\\\\\\\\\"savedDatasetId\\\\\\\\\\\\\": \\\\\\\\\\\\\"e82585d3-5310-4452-a65a-033e2142d090\\\\\\\\\\\\\", \\\\\\\\\\\\\"datasetType\\\\\\\\\\\\\": \\\\\\\\\\\\\"tabular\\\\\\\\\\\\\", \\\\\\\\\\\\\"subscriptionId\\\\\\\\\\\\\": \\\\\\\\\\\\\"976ee174-3882-4721-b90a-b5fef6b72f24\\\\\\\\\\\\\", \\\\\\\\\\\\\"workspaceId\\\\\\\\\\\\\": \\\\\\\\\\\\\"e51a99b7-7416-4067-a52d-77dfd0192c9c\\\\\\\\\\\\\", \\\\\\\\\\\\\"workspaceLocation\\\\\\\\\\\\\": \\\\\\\\\\\\\"southcentralus\\\\\\\\\\\\\"}}\\\\\", \\\\\"activities\\\\\": 0}',\n  'EnableSubsampling': None,\n  'runTemplate': 'AutoML',\n  'azureml.runsource': 'automl',\n  'display_task_type': 'classification',\n  'dependencies_versions': '{\"azureml-widgets\": \"1.20.0\", \"azureml-train\": \"1.20.0\", \"azureml-train-restclients-hyperdrive\": \"1.20.0\", \"azureml-train-core\": \"1.20.0\", \"azureml-train-automl\": \"1.20.0\", \"azureml-train-automl-runtime\": \"1.20.0\", \"azureml-train-automl-client\": \"1.20.0\", \"azureml-tensorboard\": \"1.20.0\", \"azureml-telemetry\": \"1.20.0\", \"azureml-sdk\": \"1.20.0\", \"azureml-samples\": \"0+unknown\", \"azureml-pipeline\": \"1.20.0\", \"azureml-pipeline-steps\": \"1.20.0\", \"azureml-pipeline-core\": \"1.20.0\", \"azureml-opendatasets\": \"1.20.0\", \"azureml-model-management-sdk\": \"1.0.1b6.post1\", \"azureml-mlflow\": \"1.20.0.post1\", \"azureml-interpret\": \"1.20.0\", \"azureml-explain-model\": \"1.20.0\", \"azureml-defaults\": \"1.20.0\", \"azureml-dataset-runtime\": \"1.20.0\", \"azureml-dataprep\": \"2.7.3\", \"azureml-dataprep-rslex\": \"1.5.0\", \"azureml-dataprep-native\": \"27.0.0\", \"azureml-datadrift\": \"1.20.0\", \"azureml-core\": \"1.20.0\", \"azureml-contrib-services\": \"1.20.0\", \"azureml-contrib-server\": \"1.20.0\", \"azureml-contrib-reinforcementlearning\": \"1.20.0\", \"azureml-contrib-pipeline-steps\": \"1.20.0\", \"azureml-contrib-notebook\": \"1.20.0\", \"azureml-contrib-interpret\": \"1.20.0\", \"azureml-contrib-gbdt\": \"1.20.0\", \"azureml-contrib-fairness\": \"1.20.0\", \"azureml-contrib-dataset\": \"1.20.0\", \"azureml-cli-common\": \"1.20.0\", \"azureml-automl-runtime\": \"1.20.0\", \"azureml-automl-core\": \"1.20.0\", \"azureml-accel-models\": \"1.20.0\"}',\n  '_aml_system_scenario_identification': 'Remote.Parent',\n  'ClientType': 'SDK',\n  'environment_cpu_name': 'AzureML-AutoML',\n  'environment_cpu_label': 'prod',\n  'environment_gpu_name': 'AzureML-AutoML-GPU',\n  'environment_gpu_label': 'prod',\n  'root_attribution': 'automl',\n  'attribution': 'AutoML',\n  'Orchestrator': 'AutoML',\n  'CancelUri': 'https://southcentralus.experiments.azureml.net/jasmine/v1.0/subscriptions/976ee174-3882-4721-b90a-b5fef6b72f24/resourceGroups/aml-quickstarts-138143/providers/Microsoft.MachineLearningServices/workspaces/quick-starts-ws-138143/experimentids/4553de0f-1513-473a-9e17-5b4c35837d0e/cancel/AutoML_d81a2ede-8205-4c13-870a-1cc62b1d5b00',\n  'ClientSdkVersion': '1.21.0',\n  'snapshotId': '00000000-0000-0000-0000-000000000000',\n  'SetupRunId': 'AutoML_d81a2ede-8205-4c13-870a-1cc62b1d5b00_setup',\n  'SetupRunContainerId': 'dcid.AutoML_d81a2ede-8205-4c13-870a-1cc62b1d5b00_setup',\n  'FeaturizationRunJsonPath': 'featurizer_container.json',\n  'FeaturizationRunId': 'AutoML_d81a2ede-8205-4c13-870a-1cc62b1d5b00_featurize',\n  'ProblemInfoJsonString': '{\"dataset_num_categorical\": 0, \"is_sparse\": true, \"subsampling\": false, \"dataset_classes\": 2, \"dataset_features\": 146, \"dataset_samples\": 10127, \"single_frequency_class_detected\": false}',\n  'ModelExplainRunId': 'AutoML_d81a2ede-8205-4c13-870a-1cc62b1d5b00_ModelExplain'},\n 'inputDatasets': [{'dataset': {'id': 'e82585d3-5310-4452-a65a-033e2142d090'}, 'consumptionDetails': {'type': 'RunInput', 'inputName': 'training_data', 'mechanism': 'Direct'}}],\n 'outputDatasets': [],\n 'logFiles': {},\n 'submittedBy': 'ODL_User 138143'}"
          },
          "metadata": {}
        }
      ],
      "execution_count": 7,
      "metadata": {
        "gather": {
          "logged": 1612786907167
        }
      }
    },
    {
      "cell_type": "markdown",
      "source": [
        "## Best Model\n",
        "\n",
        "TODO: In the cell below, get the best model from the automl experiments and display all the properties of the model.\n",
        "\n"
      ],
      "metadata": {}
    },
    {
      "cell_type": "code",
      "source": [
        "# Retrieve the best AutoML model\n",
        "best_run, best_model = remote_run.get_output()\n",
        "best_metrics = best_run.get_metrics()\n",
        "\n",
        "# log parameters of all the estimators of the best AutoML Model\n",
        "best_model.steps[1][1].estimators"
      ],
      "outputs": [
        {
          "output_type": "stream",
          "name": "stderr",
          "text": [
            "WARNING:root:The version of the SDK does not match the version the model was trained on.\n",
            "WARNING:root:The consistency in the result may not be guaranteed.\n",
            "WARNING:root:Package:azureml-automl-core, training version:1.21.0, current version:1.20.0\n",
            "Package:azureml-automl-runtime, training version:1.21.0, current version:1.20.0\n",
            "Package:azureml-core, training version:1.21.0.post1, current version:1.20.0\n",
            "Package:azureml-dataprep, training version:2.8.2, current version:2.7.3\n",
            "Package:azureml-dataprep-native, training version:28.0.0, current version:27.0.0\n",
            "Package:azureml-dataprep-rslex, training version:1.6.0, current version:1.5.0\n",
            "Package:azureml-dataset-runtime, training version:1.21.0, current version:1.20.0\n",
            "Package:azureml-defaults, training version:1.21.0, current version:1.20.0\n",
            "Package:azureml-interpret, training version:1.21.0, current version:1.20.0\n",
            "Package:azureml-pipeline-core, training version:1.21.0, current version:1.20.0\n",
            "Package:azureml-telemetry, training version:1.21.0, current version:1.20.0\n",
            "Package:azureml-train-automl-client, training version:1.21.0, current version:1.20.0\n",
            "Package:azureml-train-automl-runtime, training version:1.21.0, current version:1.20.0\n",
            "WARNING:root:Please ensure the version of your local conda dependencies match the version on which your model was trained in order to properly retrieve your model.\n"
          ]
        },
        {
          "output_type": "execute_result",
          "execution_count": 8,
          "data": {
            "text/plain": "[('0',\n  Pipeline(memory=None,\n           steps=[('maxabsscaler', MaxAbsScaler(copy=True)),\n                  ('lightgbmclassifier',\n                   LightGBMClassifier(boosting_type='gbdt', class_weight=None,\n                                      colsample_bytree=1.0,\n                                      importance_type='split', learning_rate=0.1,\n                                      max_depth=-1, min_child_samples=20,\n                                      min_child_weight=0.001, min_split_gain=0.0,\n                                      n_estimators=100, n_jobs=1, num_leaves=31,\n                                      objective=None, random_state=None,\n                                      reg_alpha=0.0, reg_lambda=0.0, silent=True,\n                                      subsample=1.0, subsample_for_bin=200000,\n                                      subsample_freq=0, verbose=-10))],\n           verbose=False)),\n ('31',\n  Pipeline(memory=None,\n           steps=[('sparsenormalizer',\n                   <azureml.automl.runtime.shared.model_wrappers.SparseNormalizer object at 0x7f393334add8>),\n                  ('xgboostclassifier',\n                   XGBoostClassifier(base_score=0.5, booster='gbtree',\n                                     colsample_bylevel=1, colsample_bynode=1,\n                                     colsample_bytree=1, eta=0.1, gamma=0,\n                                     learning_rate=0.1, max_delta_step=0,\n                                     max_depth=3, max_leaves=0,\n                                     min_child_weight=1, missing=nan,\n                                     n_estimators=400, n_jobs=1, nthread=None,\n                                     objective='reg:logistic', random_state=0,\n                                     reg_alpha=0.3125, reg_lambda=0.9375,\n                                     scale_pos_weight=1, seed=None, silent=None,\n                                     subsample=0.8, tree_method='auto',\n                                     verbose=-10, verbosity=0))],\n           verbose=False)),\n ('8',\n  Pipeline(memory=None,\n           steps=[('sparsenormalizer',\n                   <azureml.automl.runtime.shared.model_wrappers.SparseNormalizer object at 0x7f39332e36d8>),\n                  ('xgboostclassifier',\n                   XGBoostClassifier(base_score=0.5, booster='gbtree',\n                                     colsample_bylevel=1, colsample_bynode=1,\n                                     colsample_bytree=0.8, eta=0.2, gamma=0,\n                                     learning_rate=0.1, max_delta_step=0,\n                                     max_depth=6, max_leaves=0,\n                                     min_child_weight=1, missing=nan,\n                                     n_estimators=100, n_jobs=1, nthread=None,\n                                     objective='reg:logistic', random_state=0,\n                                     reg_alpha=0, reg_lambda=1.9791666666666667,\n                                     scale_pos_weight=1, seed=None, silent=None,\n                                     subsample=0.8, tree_method='auto',\n                                     verbose=-10, verbosity=0))],\n           verbose=False)),\n ('7',\n  Pipeline(memory=None,\n           steps=[('sparsenormalizer',\n                   <azureml.automl.runtime.shared.model_wrappers.SparseNormalizer object at 0x7f39332e8e48>),\n                  ('xgboostclassifier',\n                   XGBoostClassifier(base_score=0.5, booster='gbtree',\n                                     colsample_bylevel=1, colsample_bynode=1,\n                                     colsample_bytree=0.5, eta=0.1, gamma=0,\n                                     learning_rate=0.1, max_delta_step=0,\n                                     max_depth=6, max_leaves=15,\n                                     min_child_weight=1, missing=nan,\n                                     n_estimators=100, n_jobs=1, nthread=None,\n                                     objective='reg:logistic', random_state=0,\n                                     reg_alpha=0, reg_lambda=2.0833333333333335,\n                                     scale_pos_weight=1, seed=None, silent=None,\n                                     subsample=1, tree_method='auto', verbose=-10,\n                                     verbosity=0))],\n           verbose=False)),\n ('27',\n  Pipeline(memory=None,\n           steps=[('sparsenormalizer',\n                   <azureml.automl.runtime.shared.model_wrappers.SparseNormalizer object at 0x7f39332ed630>),\n                  ('xgboostclassifier',\n                   XGBoostClassifier(base_score=0.5, booster='gbtree',\n                                     colsample_bylevel=1, colsample_bynode=1,\n                                     colsample_bytree=1, eta=0.3, gamma=0,\n                                     learning_rate=0.1, max_delta_step=0,\n                                     max_depth=6, max_leaves=31,\n                                     min_child_weight=1, missing=nan,\n                                     n_estimators=100, n_jobs=1, nthread=None,\n                                     objective='reg:logistic', random_state=0,\n                                     reg_alpha=0, reg_lambda=1.4583333333333335,\n                                     scale_pos_weight=1, seed=None, silent=None,\n                                     subsample=0.7, tree_method='auto',\n                                     verbose=-10, verbosity=0))],\n           verbose=False)),\n ('29',\n  Pipeline(memory=None,\n           steps=[('standardscalerwrapper',\n                   <azureml.automl.runtime.shared.model_wrappers.StandardScalerWrapper object at 0x7f39332efe80>),\n                  ('xgboostclassifier',\n                   XGBoostClassifier(base_score=0.5, booster='gbtree',\n                                     colsample_bylevel=1, colsample_bynode=1,\n                                     colsample_bytree=0.7, eta=0.3, gamma=0,\n                                     learning_rate=0.1, max_delta_step=0,\n                                     max_depth=6, max_leaves=63,\n                                     min_child_weight=1, missing=nan,\n                                     n_estimators=50, n_jobs=1, nthread=None,\n                                     objective='reg:logistic', random_state=0,\n                                     reg_alpha=0, reg_lambda=1.7708333333333335,\n                                     scale_pos_weight=1, seed=None, silent=None,\n                                     subsample=0.8, tree_method='auto',\n                                     verbose=-10, verbosity=0))],\n           verbose=False)),\n ('23',\n  Pipeline(memory=None,\n           steps=[('maxabsscaler', MaxAbsScaler(copy=True)),\n                  ('lightgbmclassifier',\n                   LightGBMClassifier(boosting_type='gbdt', class_weight=None,\n                                      colsample_bytree=0.4955555555555555,\n                                      importance_type='split', learning_rate=0.1,\n                                      max_bin=300, max_depth=7,\n                                      min_child_samples=629, min_child_weight=2,\n                                      min_split_gain=0.8421052631578947,\n                                      n_estimators=600, n_jobs=1, num_leaves=134,\n                                      objective=None, random_state=None,\n                                      reg_alpha=0.6842105263157894,\n                                      reg_lambda=0.21052631578947367, silent=True,\n                                      subsample=0.5447368421052632,\n                                      subsample_for_bin=200000, subsample_freq=0,\n                                      verbose=-10))],\n           verbose=False))]"
          },
          "metadata": {}
        }
      ],
      "execution_count": 8,
      "metadata": {
        "gather": {
          "logged": 1612787074673
        },
        "jupyter": {
          "outputs_hidden": false,
          "source_hidden": false
        },
        "nteract": {
          "transient": {
            "deleting": false
          }
        }
      }
    },
    {
      "cell_type": "code",
      "source": [
        "#Save the best model\n",
        "model = best_run.register_model(model_name='best-automl-model',model_path='outputs/model.pkl', tags={'Method':'AutoML'}, properties={'accuracy': best_metrics['accuracy']})\n",
        "print(model)\n",
        "print(best_run)"
      ],
      "outputs": [
        {
          "output_type": "stream",
          "name": "stdout",
          "text": [
            "Model(workspace=Workspace.create(name='quick-starts-ws-138143', subscription_id='976ee174-3882-4721-b90a-b5fef6b72f24', resource_group='aml-quickstarts-138143'), name=best-automl-model, id=best-automl-model:1, version=1, tags={'Method': 'AutoML'}, properties={'accuracy': '0.9704749575800129'})\n",
            "Run(Experiment: demo-automl-experiment,\n",
            "Id: AutoML_d81a2ede-8205-4c13-870a-1cc62b1d5b00_38,\n",
            "Type: azureml.scriptrun,\n",
            "Status: Completed)\n"
          ]
        }
      ],
      "execution_count": 9,
      "metadata": {
        "gather": {
          "logged": 1612787747688
        },
        "jupyter": {
          "outputs_hidden": false,
          "source_hidden": false
        },
        "nteract": {
          "transient": {
            "deleting": false
          }
        }
      }
    },
    {
      "cell_type": "code",
      "source": [
        "print(best_metrics[\"accuracy\"])\n",
        "print(best_model._final_estimator)"
      ],
      "outputs": [
        {
          "output_type": "stream",
          "name": "stdout",
          "text": [
            "0.9704749575800129\n",
            "PreFittedSoftVotingClassifier(classification_labels=None,\n",
            "                              estimators=[('0',\n",
            "                                           Pipeline(memory=None,\n",
            "                                                    steps=[('maxabsscaler',\n",
            "                                                            MaxAbsScaler(copy=True)),\n",
            "                                                           ('lightgbmclassifier',\n",
            "                                                            LightGBMClassifier(boosting_type='gbdt',\n",
            "                                                                               class_weight=None,\n",
            "                                                                               colsample_bytree=1.0,\n",
            "                                                                               importance_type='split',\n",
            "                                                                               learning_rate=0.1,\n",
            "                                                                               max_depth=-1,\n",
            "                                                                               min_child_samples=20,\n",
            "                                                                               min_child_weight=0.001,\n",
            "                                                                               min_spl...\n",
            "                                                                               min_child_weight=2,\n",
            "                                                                               min_split_gain=0.8421052631578947,\n",
            "                                                                               n_estimators=600,\n",
            "                                                                               n_jobs=1,\n",
            "                                                                               num_leaves=134,\n",
            "                                                                               objective=None,\n",
            "                                                                               random_state=None,\n",
            "                                                                               reg_alpha=0.6842105263157894,\n",
            "                                                                               reg_lambda=0.21052631578947367,\n",
            "                                                                               silent=True,\n",
            "                                                                               subsample=0.5447368421052632,\n",
            "                                                                               subsample_for_bin=200000,\n",
            "                                                                               subsample_freq=0,\n",
            "                                                                               verbose=-10))],\n",
            "                                                    verbose=False))],\n",
            "                              flatten_transform=None,\n",
            "                              weights=[0.3, 0.1, 0.1, 0.2, 0.1, 0.1, 0.1])\n"
          ]
        }
      ],
      "execution_count": 10,
      "metadata": {
        "gather": {
          "logged": 1612787756070
        },
        "jupyter": {
          "outputs_hidden": false,
          "source_hidden": false
        },
        "nteract": {
          "transient": {
            "deleting": false
          }
        }
      }
    },
    {
      "cell_type": "markdown",
      "source": [
        "## Model Deployment\n",
        "\n",
        "Remember you have to deploy only one of the two models you trained.. Perform the steps in the rest of this notebook only if you wish to deploy this model.\n",
        "\n",
        "TODO: In the cell below, register the model, create an inference config and deploy the model as a web service."
      ],
      "metadata": {}
    },
    {
      "cell_type": "code",
      "source": [
        "from azureml.core import Environment\n",
        "from azureml.core.model import InferenceConfig\n",
        "from azureml.automl.core.shared import constants\n",
        "\n",
        "best_run.download_file('./outputs/model.pkl', './outputs/bankchurners-auto-model.pkl')\n",
        "best_run.download_file('./outputs/scoring_file_v_1_0_0.py', './outputs/score_aml.py')\n",
        "best_run.download_file('./automl_driver.py', './outputs/automl_driver.py')\n",
        "best_run.download_file(constants.CONDA_ENV_FILE_PATH, 'myenv.yml')\n",
        "\n",
        "myenv = Environment.from_conda_specification(name=\"myenv\", file_path=\"myenv.yml\")\n",
        "\n",
        "# Create the inference config\n",
        "\n",
        "inference_config = InferenceConfig(entry_script='./score.py', environment=myenv)\n"
      ],
      "outputs": [],
      "execution_count": 11,
      "metadata": {
        "gather": {
          "logged": 1612787764893
        },
        "jupyter": {
          "outputs_hidden": false,
          "source_hidden": false
        },
        "nteract": {
          "transient": {
            "deleting": false
          }
        }
      }
    },
    {
      "cell_type": "code",
      "source": [
        "f = open(\"envnew.yml\", \"w\")\n",
        "f.write(myenv.python.conda_dependencies.serialize_to_string())\n",
        "f.close()\n",
        "\n",
        "print(\"packages\", myenv.python.conda_dependencies.serialize_to_string())\n"
      ],
      "outputs": [
        {
          "output_type": "stream",
          "name": "stdout",
          "text": [
            "packages # Conda environment specification. The dependencies defined in this file will\n",
            "# be automatically provisioned for runs with userManagedDependencies=False.\n",
            "\n",
            "# Details about the Conda environment file format:\n",
            "# https://conda.io/docs/user-guide/tasks/manage-environments.html#create-env-file-manually\n",
            "\n",
            "name: project_environment\n",
            "dependencies:\n",
            "  # The python interpreter version.\n",
            "  # Currently Azure ML only supports 3.5.2 and later.\n",
            "- python=3.6.2\n",
            "\n",
            "- pip:\n",
            "  - azureml-train-automl-runtime==1.21.0\n",
            "  - inference-schema\n",
            "  - azureml-interpret==1.21.0\n",
            "  - azureml-defaults==1.21.0\n",
            "- numpy>=1.16.0,<1.19.0\n",
            "- pandas==0.25.1\n",
            "- scikit-learn==0.22.1\n",
            "- py-xgboost<=0.90\n",
            "- fbprophet==0.5\n",
            "- holidays==0.9.11\n",
            "- psutil>=5.2.2,<6.0.0\n",
            "channels:\n",
            "- anaconda\n",
            "- conda-forge\n",
            "\n"
          ]
        }
      ],
      "execution_count": 12,
      "metadata": {
        "gather": {
          "logged": 1612787769417
        },
        "jupyter": {
          "outputs_hidden": false,
          "source_hidden": false
        },
        "nteract": {
          "transient": {
            "deleting": false
          }
        }
      }
    },
    {
      "cell_type": "code",
      "source": [
        "# Deploy the model as a webservice\n",
        "from azureml.core.webservice import AciWebservice\n",
        "\n",
        "deployment_config = AciWebservice.deploy_configuration(\n",
        "    cpu_cores=1,\n",
        "    memory_gb = 1,\n",
        "    enable_app_insights = True\n",
        ")\n",
        "service = Model.deploy(ws, 'model-service', [model], inference_config, deployment_config)\n",
        "\n",
        "print(service.state)\n",
        "\n",
        "# Wait until deployment is complete\n",
        "service.wait_for_deployment(show_output = True)\n"
      ],
      "outputs": [
        {
          "output_type": "stream",
          "name": "stdout",
          "text": [
            "Transitioning\n",
            "Tips: You can try get_logs(): https://aka.ms/debugimage#dockerlog or local deployment: https://aka.ms/debugimage#debug-locally to debug if deployment takes longer than 10 minutes.\n",
            "Running.......................................................................................................................................................................................\n",
            "Succeeded\n",
            "ACI service creation operation finished, operation \"Succeeded\"\n"
          ]
        }
      ],
      "execution_count": 13,
      "metadata": {
        "gather": {
          "logged": 1612788712630
        }
      }
    },
    {
      "cell_type": "code",
      "source": [
        "print(service.get_logs)"
      ],
      "outputs": [
        {
          "output_type": "stream",
          "name": "stdout",
          "text": [
            "<bound method Webservice.get_logs of AciWebservice(workspace=Workspace.create(name='quick-starts-ws-138143', subscription_id='976ee174-3882-4721-b90a-b5fef6b72f24', resource_group='aml-quickstarts-138143'), name=model-service, image_id=None, compute_type=None, state=ACI, scoring_uri=Healthy, tags=http://af1ec328-1599-4822-b329-47a1c31efa60.southcentralus.azurecontainer.io/score, properties={}, created_by={'hasInferenceSchema': 'True', 'hasHttps': 'False'})>\n"
          ]
        }
      ],
      "execution_count": 14,
      "metadata": {
        "gather": {
          "logged": 1612789432869
        },
        "jupyter": {
          "outputs_hidden": false,
          "source_hidden": false
        },
        "nteract": {
          "transient": {
            "deleting": false
          }
        }
      }
    },
    {
      "cell_type": "markdown",
      "source": [
        "TODO: In the cell below, send a request to the web service you deployed to test it."
      ],
      "metadata": {
        "collapsed": true,
        "gather": {
          "logged": 1598431657736
        },
        "jupyter": {
          "outputs_hidden": false,
          "source_hidden": false
        },
        "nteract": {
          "transient": {
            "deleting": false
          }
        }
      }
    },
    {
      "cell_type": "code",
      "source": [
        "import json\n",
        "\n",
        "# Importing the data set for testing \n",
        "\n",
        "sample_data = dataset.to_pandas_dataframe().sample(10)\n",
        "data_sample = sample_data.drop(\"Attrition_Flag\", axis=1)\n",
        "test_sample = json.dumps({\"data\": data_sample.to_dict()})\n",
        "\n",
        "print(test_sample)"
      ],
      "outputs": [
        {
          "output_type": "stream",
          "name": "stdout",
          "text": [
            "{\"data\": {\"CLIENTNUM\": {\"390\": 715022133, \"224\": 719662458, \"7699\": 713772333, \"4255\": 714119283, \"2587\": 711639708, \"6916\": 717862308, \"8531\": 771935283, \"9391\": 709410033, \"9941\": 716464533, \"3898\": 721202058}, \"Customer_Age\": {\"390\": 53, \"224\": 44, \"7699\": 45, \"4255\": 42, \"2587\": 42, \"6916\": 45, \"8531\": 47, \"9391\": 56, \"9941\": 32, \"3898\": 62}, \"Gender\": {\"390\": \"M\", \"224\": \"F\", \"7699\": \"F\", \"4255\": \"F\", \"2587\": \"M\", \"6916\": \"F\", \"8531\": \"F\", \"9391\": \"M\", \"9941\": \"F\", \"3898\": \"F\"}, \"Dependent_count\": {\"390\": 2, \"224\": 2, \"7699\": 3, \"4255\": 2, \"2587\": 3, \"6916\": 2, \"8531\": 4, \"9391\": 2, \"9941\": 1, \"3898\": 0}, \"Education_Level\": {\"390\": \"Graduate\", \"224\": \"Graduate\", \"7699\": \"Unknown\", \"4255\": \"Unknown\", \"2587\": \"Graduate\", \"6916\": \"College\", \"8531\": \"Graduate\", \"9391\": \"High School\", \"9941\": \"Graduate\", \"3898\": \"High School\"}, \"Marital_Status\": {\"390\": \"Married\", \"224\": \"Divorced\", \"7699\": \"Divorced\", \"4255\": \"Single\", \"2587\": \"Single\", \"6916\": \"Divorced\", \"8531\": \"Single\", \"9391\": \"Unknown\", \"9941\": \"Married\", \"3898\": \"Unknown\"}, \"Income_Category\": {\"390\": \"$60K - $80K\", \"224\": \"Less than $40K\", \"7699\": \"Less than $40K\", \"4255\": \"$40K - $60K\", \"2587\": \"$60K - $80K\", \"6916\": \"$40K - $60K\", \"8531\": \"$40K - $60K\", \"9391\": \"$80K - $120K\", \"9941\": \"Less than $40K\", \"3898\": \"$40K - $60K\"}, \"Card_Category\": {\"390\": \"Blue\", \"224\": \"Blue\", \"7699\": \"Blue\", \"4255\": \"Blue\", \"2587\": \"Blue\", \"6916\": \"Blue\", \"8531\": \"Blue\", \"9391\": \"Blue\", \"9941\": \"Blue\", \"3898\": \"Blue\"}, \"Months_on_book\": {\"390\": 47, \"224\": 27, \"7699\": 34, \"4255\": 34, \"2587\": 32, \"6916\": 27, \"8531\": 36, \"9391\": 36, \"9941\": 36, \"3898\": 49}, \"Total_Relationship_Count\": {\"390\": 6, \"224\": 5, \"7699\": 4, \"4255\": 3, \"2587\": 6, \"6916\": 6, \"8531\": 1, \"9391\": 1, \"9941\": 4, \"3898\": 4}, \"Months_Inactive_12_mon\": {\"390\": 2, \"224\": 2, \"7699\": 3, \"4255\": 3, \"2587\": 2, \"6916\": 3, \"8531\": 2, \"9391\": 1, \"9941\": 3, \"3898\": 1}, \"Contacts_Count_12_mon\": {\"390\": 2, \"224\": 2, \"7699\": 1, \"4255\": 3, \"2587\": 2, \"6916\": 2, \"8531\": 1, \"9391\": 1, \"9941\": 3, \"3898\": 1}, \"Credit_Limit\": {\"390\": 6363.0, \"224\": 1438.3, \"7699\": 3223.0, \"4255\": 2516.0, \"2587\": 1438.3, \"6916\": 2901.0, \"8531\": 2977.0, \"9391\": 4731.0, \"9941\": 9550.0, \"3898\": 4409.0}, \"Total_Revolving_Bal\": {\"390\": 1162, \"224\": 679, \"7699\": 243, \"4255\": 0, \"2587\": 0, \"6916\": 2384, \"8531\": 1927, \"9391\": 831, \"9941\": 2517, \"3898\": 785}, \"Avg_Open_To_Buy\": {\"390\": 5201.0, \"224\": 759.3, \"7699\": 2980.0, \"4255\": 2516.0, \"2587\": 1438.3, \"6916\": 517.0, \"8531\": 1050.0, \"9391\": 3900.0, \"9941\": 7033.0, \"3898\": 3624.0}, \"Total_Amt_Chng_Q4_Q1\": {\"390\": 0.644, \"224\": 0.859, \"7699\": 0.433, \"4255\": 0.53, \"2587\": 0.66, \"6916\": 0.717, \"8531\": 0.731, \"9391\": 0.96, \"9941\": 0.713, \"3898\": 0.838}, \"Total_Trans_Amt\": {\"390\": 1256, \"224\": 1117, \"7699\": 1979, \"4255\": 2257, \"2587\": 1794, \"6916\": 3835, \"8531\": 5217, \"9391\": 14952, \"9941\": 13783, \"3898\": 4160}, \"Total_Trans_Ct\": {\"390\": 26, \"224\": 29, \"7699\": 38, \"4255\": 51, \"2587\": 45, \"6916\": 78, \"8531\": 88, \"9391\": 118, \"9941\": 116, \"3898\": 61}, \"Total_Ct_Chng_Q4_Q1\": {\"390\": 1.0, \"224\": 1.071, \"7699\": 0.462, \"4255\": 0.545, \"2587\": 0.875, \"6916\": 0.592, \"8531\": 0.725, \"9391\": 0.788, \"9941\": 0.841, \"3898\": 0.649}, \"Avg_Utilization_Ratio\": {\"390\": 0.183, \"224\": 0.472, \"7699\": 0.075, \"4255\": 0.0, \"2587\": 0.0, \"6916\": 0.822, \"8531\": 0.647, \"9391\": 0.176, \"9941\": 0.264, \"3898\": 0.178}}}\n"
          ]
        }
      ],
      "execution_count": 15,
      "metadata": {
        "gather": {
          "logged": 1612789442185
        }
      }
    },
    {
      "cell_type": "code",
      "source": [
        "import requests\n",
        "scoring_uri = 'http://af1ec328-1599-4822-b329-47a1c31efa60.southcentralus.azurecontainer.io/score'\n",
        "headers = {'Content-type': 'application/json'}\n",
        "\n",
        "response = requests.post(scoring_uri, test_sample, headers=headers)"
      ],
      "outputs": [],
      "execution_count": 17,
      "metadata": {
        "collapsed": true,
        "gather": {
          "logged": 1612789508283
        },
        "jupyter": {
          "outputs_hidden": false,
          "source_hidden": false
        },
        "nteract": {
          "transient": {
            "deleting": false
          }
        }
      }
    },
    {
      "cell_type": "code",
      "source": [
        "# Print results from the inference\n",
        "print(response.status_code)\n",
        "print(response.text)"
      ],
      "outputs": [
        {
          "output_type": "stream",
          "name": "stdout",
          "text": [
            "200\n",
            "\"{\\\"result\\\": [\\\"Existing Customer\\\", \\\"Existing Customer\\\", \\\"Attrited Customer\\\", \\\"Attrited Customer\\\", \\\"Existing Customer\\\", \\\"Existing Customer\\\", \\\"Existing Customer\\\", \\\"Existing Customer\\\", \\\"Existing Customer\\\", \\\"Existing Customer\\\"]}\"\n"
          ]
        }
      ],
      "execution_count": 18,
      "metadata": {
        "collapsed": true,
        "gather": {
          "logged": 1612789513742
        },
        "jupyter": {
          "outputs_hidden": false,
          "source_hidden": false
        },
        "nteract": {
          "transient": {
            "deleting": false
          }
        }
      }
    },
    {
      "cell_type": "markdown",
      "source": [
        "TODO: In the cell below, print the logs of the web service and delete the service"
      ],
      "metadata": {
        "collapsed": true,
        "gather": {
          "logged": 1598432765711
        },
        "jupyter": {
          "outputs_hidden": false,
          "source_hidden": false
        },
        "nteract": {
          "transient": {
            "deleting": false
          }
        }
      }
    },
    {
      "cell_type": "code",
      "source": [
        "# Print web service logs\n",
        "service_logs = service.get_logs()\n",
        "\n",
        "for line in service_logs.split('\\n'):\n",
        "    print(line)\n",
        "\n",
        "# Delete the service\n",
        "service.delete()"
      ],
      "outputs": [
        {
          "output_type": "stream",
          "name": "stdout",
          "text": [
            "2021-02-08T12:51:31,339552900+00:00 - nginx/run \n",
            "2021-02-08T12:51:31,368879200+00:00 - iot-server/run \n",
            "2021-02-08T12:51:31,374213900+00:00 - rsyslog/run \n",
            "2021-02-08T12:51:31,398079200+00:00 - gunicorn/run \n",
            "rsyslogd: /azureml-envs/azureml_7785023fceb74e4facc1b1a577b1faf9/lib/libuuid.so.1: no version information available (required by rsyslogd)\n",
            "/usr/sbin/nginx: /azureml-envs/azureml_7785023fceb74e4facc1b1a577b1faf9/lib/libcrypto.so.1.0.0: no version information available (required by /usr/sbin/nginx)\n",
            "/usr/sbin/nginx: /azureml-envs/azureml_7785023fceb74e4facc1b1a577b1faf9/lib/libcrypto.so.1.0.0: no version information available (required by /usr/sbin/nginx)\n",
            "/usr/sbin/nginx: /azureml-envs/azureml_7785023fceb74e4facc1b1a577b1faf9/lib/libssl.so.1.0.0: no version information available (required by /usr/sbin/nginx)\n",
            "/usr/sbin/nginx: /azureml-envs/azureml_7785023fceb74e4facc1b1a577b1faf9/lib/libssl.so.1.0.0: no version information available (required by /usr/sbin/nginx)\n",
            "/usr/sbin/nginx: /azureml-envs/azureml_7785023fceb74e4facc1b1a577b1faf9/lib/libssl.so.1.0.0: no version information available (required by /usr/sbin/nginx)\n",
            "EdgeHubConnectionString and IOTEDGE_IOTHUBHOSTNAME are not set. Exiting...\n",
            "2021-02-08T12:51:33,013868200+00:00 - iot-server/finish 1 0\n",
            "2021-02-08T12:51:33,018097400+00:00 - Exit code 1 is normal. Not restarting iot-server.\n",
            "Starting gunicorn 19.9.0\n",
            "Listening at: http://127.0.0.1:31311 (68)\n",
            "Using worker: sync\n",
            "worker timeout is set to 300\n",
            "Booting worker with pid: 98\n",
            "SPARK_HOME not set. Skipping PySpark Initialization.\n",
            "Generating new fontManager, this may take some time...\n",
            "Initializing logger\n",
            "2021-02-08 12:51:44,985 | root | INFO | Starting up app insights client\n",
            "2021-02-08 12:51:44,986 | root | INFO | Starting up request id generator\n",
            "2021-02-08 12:51:44,986 | root | INFO | Starting up app insight hooks\n",
            "2021-02-08 12:51:44,986 | root | INFO | Invoking user's init function\n",
            "/azureml-envs/azureml_7785023fceb74e4facc1b1a577b1faf9/lib/python3.6/site-packages/numpy/core/numeric.py:2327: FutureWarning: elementwise comparison failed; returning scalar instead, but in the future will perform elementwise comparison\n",
            "  return bool(asarray(a1 == a2).all())\n",
            "azureml-models/best-automl-model/1/model.pkl\n",
            "2021-02-08 12:51:51,173 | root | INFO | Users's init has completed successfully\n",
            "2021-02-08 12:51:51,184 | root | INFO | Skipping middleware: dbg_model_info as it's not enabled.\n",
            "2021-02-08 12:51:51,184 | root | INFO | Skipping middleware: dbg_resource_usage as it's not enabled.\n",
            "2021-02-08 12:51:51,186 | root | INFO | Scoring timeout is found from os.environ: 60000 ms\n",
            "2021-02-08 12:51:51,206 | root | INFO | 200\n",
            "127.0.0.1 - - [08/Feb/2021:12:51:51 +0000] \"GET /swagger.json HTTP/1.0\" 200 3595 \"-\" \"Go-http-client/1.1\"\n",
            "2021-02-08 12:51:51,720 | root | INFO | 200\n",
            "127.0.0.1 - - [08/Feb/2021:12:51:51 +0000] \"GET /swagger.json HTTP/1.0\" 200 3595 \"-\" \"Go-http-client/1.1\"\n",
            "2021-02-08 13:04:29,724 | root | INFO | 200\n",
            "127.0.0.1 - - [08/Feb/2021:13:04:29 +0000] \"GET /swagger.json HTTP/1.0\" 200 3595 \"-\" \"Go-http-client/1.1\"\n",
            "2021-02-08 13:04:30,165 | root | INFO | 200\n",
            "127.0.0.1 - - [08/Feb/2021:13:04:30 +0000] \"GET /swagger.json HTTP/1.0\" 200 3595 \"-\" \"Go-http-client/1.1\"\n",
            "2021-02-08 13:05:07,861 | root | INFO | Validation Request Content-Type\n",
            "2021-02-08 13:05:07,862 | root | INFO | Scoring Timer is set to 60.0 seconds\n",
            "2021-02-08 13:05:08,008 | root | INFO | 200\n",
            "127.0.0.1 - - [08/Feb/2021:13:05:08 +0000] \"POST /score HTTP/1.0\" 200 246 \"-\" \"python-requests/2.25.1\"\n",
            "2021-02-08 13:06:16,317 | root | INFO | Validation Request Content-Type\n",
            "2021-02-08 13:06:16,318 | root | INFO | Scoring Timer is set to 60.0 seconds\n",
            "2021-02-08 13:06:16,336 | root | INFO | 200\n",
            "127.0.0.1 - - [08/Feb/2021:13:06:16 +0000] \"POST /score?verbose=true HTTP/1.0\" 200 656 \"-\" \"Go-http-client/1.1\"\n",
            "2021-02-08 13:06:22,115 | root | INFO | Validation Request Content-Type\n",
            "2021-02-08 13:06:22,116 | root | INFO | Scoring Timer is set to 60.0 seconds\n",
            "2021-02-08 13:06:22,134 | root | INFO | 200\n",
            "127.0.0.1 - - [08/Feb/2021:13:06:22 +0000] \"POST /score?verbose=true HTTP/1.0\" 200 656 \"-\" \"Go-http-client/1.1\"\n",
            "2021-02-08 13:06:27,952 | root | INFO | Validation Request Content-Type\n",
            "2021-02-08 13:06:27,952 | root | INFO | Scoring Timer is set to 60.0 seconds\n",
            "2021-02-08 13:06:27,963 | root | INFO | 200\n",
            "127.0.0.1 - - [08/Feb/2021:13:06:27 +0000] \"POST /score?verbose=true HTTP/1.0\" 200 656 \"-\" \"Go-http-client/1.1\"\n",
            "2021-02-08 13:06:31,341 | root | INFO | Validation Request Content-Type\n",
            "2021-02-08 13:06:31,342 | root | INFO | Scoring Timer is set to 60.0 seconds\n",
            "2021-02-08 13:06:31,358 | root | INFO | 200\n",
            "127.0.0.1 - - [08/Feb/2021:13:06:31 +0000] \"POST /score?verbose=true HTTP/1.0\" 200 656 \"-\" \"Go-http-client/1.1\"\n",
            "2021-02-08 13:06:37,379 | root | INFO | 200\n",
            "127.0.0.1 - - [08/Feb/2021:13:06:37 +0000] \"GET /swagger.json HTTP/1.0\" 200 3595 \"-\" \"Go-http-client/1.1\"\n",
            "2021-02-08 13:06:37,615 | root | INFO | 200\n",
            "127.0.0.1 - - [08/Feb/2021:13:06:37 +0000] \"GET /swagger.json HTTP/1.0\" 200 3595 \"-\" \"Go-http-client/1.1\"\n",
            "2021-02-08 13:06:49,623 | root | INFO | Validation Request Content-Type\n",
            "2021-02-08 13:06:49,624 | root | INFO | Scoring Timer is set to 60.0 seconds\n",
            "2021-02-08 13:06:49,640 | root | INFO | 200\n",
            "127.0.0.1 - - [08/Feb/2021:13:06:49 +0000] \"POST /score?verbose=true HTTP/1.0\" 200 656 \"-\" \"Go-http-client/1.1\"\n",
            "\n"
          ]
        }
      ],
      "execution_count": 19,
      "metadata": {
        "gather": {
          "logged": 1612789770372
        },
        "jupyter": {
          "outputs_hidden": false,
          "source_hidden": false
        },
        "nteract": {
          "transient": {
            "deleting": false
          }
        }
      }
    }
  ],
  "metadata": {
    "kernel_info": {
      "name": "python3"
    },
    "kernelspec": {
      "name": "python3",
      "language": "python",
      "display_name": "Python 3"
    },
    "language_info": {
      "name": "python",
      "version": "3.6.9",
      "mimetype": "text/x-python",
      "codemirror_mode": {
        "name": "ipython",
        "version": 3
      },
      "pygments_lexer": "ipython3",
      "nbconvert_exporter": "python",
      "file_extension": ".py"
    },
    "nteract": {
      "version": "nteract-front-end@1.0.0"
    }
  },
  "nbformat": 4,
  "nbformat_minor": 2
}