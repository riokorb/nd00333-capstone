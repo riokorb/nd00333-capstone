{
 "cells": [
  {
   "cell_type": "markdown",
   "metadata": {},
   "source": [
    "# Automated ML\n",
    "\n",
    "TODO: Import Dependencies. In the cell below, import all the dependencies that you will need to complete the project."
   ]
  },
  {
   "cell_type": "code",
   "execution_count": 1,
   "metadata": {
    "gather": {
     "logged": 1608131538779
    },
    "jupyter": {
     "outputs_hidden": false,
     "source_hidden": false
    },
    "nteract": {
     "transient": {
      "deleting": false
     }
    }
   },
   "outputs": [],
   "source": [
    "from azureml.core import Experiment, Model, Webservice\n",
    "from azureml.core.workspace import Workspace\n",
    "from azureml.core.dataset import Dataset\n",
    "from azureml.train.automl import AutoMLConfig\n",
    "from azureml.core.compute import ComputeTarget, AmlCompute\n",
    "from azureml.core.compute_target import ComputeTargetException\n",
    "from azureml.pipeline.steps import AutoMLStep\n",
    "\n",
    "import pandas as pd"
   ]
  },
  {
   "cell_type": "markdown",
   "metadata": {},
   "source": [
    "## Dataset\n",
    "\n",
    "### Overview\n",
    "TODO: In this markdown cell, give an overview of the dataset you are using. Also mention the task you will be performing.\n",
    "We will be using the 'Credit Card customers' dataset from Kaggle and predicting if a customer is likely to churn.\n",
    "\n",
    "TODO: Get data. In the cell below, write code to access the data you will be using in this project. Remember that the dataset needs to be external."
   ]
  },
  {
   "cell_type": "code",
   "execution_count": 2,
   "metadata": {
    "gather": {
     "logged": 1608131566035
    },
    "jupyter": {
     "outputs_hidden": false,
     "source_hidden": false
    },
    "nteract": {
     "transient": {
      "deleting": false
     }
    }
   },
   "outputs": [
    {
     "name": "stdout",
     "output_type": "stream",
     "text": [
      "Performing interactive authentication. Please follow the instructions on the terminal.\n",
      "To sign in, use a web browser to open the page https://microsoft.com/devicelogin and enter the code EB9M4V329 to authenticate.\n",
      "You have logged in. Now let us find all the subscriptions to which you have access...\n",
      "Interactive authentication successfully completed.\n",
      "Uploading an estimated of 2 files\n",
      "Uploading ./automl.ipynb\n",
      "Uploaded ./automl.ipynb, 1 files out of an estimated total of 2\n",
      "Uploading ./.ipynb_aml_checkpoints/automl-checkpoint2020-11-16-15-7-46.ipynb\n",
      "Uploaded ./.ipynb_aml_checkpoints/automl-checkpoint2020-11-16-15-7-46.ipynb, 2 files out of an estimated total of 2\n",
      "Uploaded 2 files\n"
     ]
    },
    {
     "data": {
      "text/plain": [
       "$AZUREML_DATAREFERENCE_eb3af9d69fbf4e1ab2e3c246f4812477"
      ]
     },
     "execution_count": 2,
     "metadata": {},
     "output_type": "execute_result"
    }
   ],
   "source": [
    "ws = Workspace.from_config()\n",
    "\n",
    "# choose a name for experiment\n",
    "experiment_name = 'demo-automl-experiment'\n",
    "\n",
    "experiment=Experiment(ws, experiment_name)\n",
    "\n",
    "# prepare the datastore to upload data\n",
    "datastore = ws.get_default_datastore()\n",
    "\n",
    "# set the upload location to target_path in datastore\n",
    "datastore.upload(src_dir='./', target_path = 'data')"
   ]
  },
  {
   "cell_type": "code",
   "execution_count": 4,
   "metadata": {
    "collapsed": true,
    "gather": {
     "logged": 1608131596163
    },
    "jupyter": {
     "outputs_hidden": false,
     "source_hidden": false
    },
    "nteract": {
     "transient": {
      "deleting": false
     }
    }
   },
   "outputs": [
    {
     "name": "stdout",
     "output_type": "stream",
     "text": [
      "Found existing cluster, use it.\n",
      "\n",
      "Running\n"
     ]
    }
   ],
   "source": [
    "# vm_size = \"Standard_D2_V2\"\n",
    "# compute_name = \"demo-cluster\"\n",
    "# compute_min_nodes = 0\n",
    "# compute_max_nodes = 4\n",
    "\n",
    "# if compute_name in ws.compute_targets:\n",
    "#     compute_target = ws.compute_targets[compute_name]\n",
    "#     if compute_target and type(compute_target) is AmlCompute:\n",
    "#         print(\"\")\n",
    "\n",
    "# NOTE: update the cluster name to match the existing cluster\n",
    "# Choose a name for your CPU cluster\n",
    "compute_name = \"demo-cluster\"\n",
    "\n",
    "# Verify that cluster does not exist already\n",
    "try:\n",
    "    compute_target = ComputeTarget(workspace=ws, name=compute_name)\n",
    "    print('Found existing cluster, use it.')\n",
    "except ComputeTargetException:\n",
    "    compute_config = AmlCompute.provisioning_configuration(vm_size='STANDARD_D2_V2',# for GPU, use \"STANDARD_NC6\"\n",
    "                                                           #vm_priority = 'lowpriority', # optional\n",
    "                                                           max_nodes=4)\n",
    "    compute_target = ComputeTarget.create(ws, compute_name, compute_config)\n",
    "\n",
    "compute_target.wait_for_completion(show_output=True, min_node_count = 1, timeout_in_minutes = 10)\n",
    "# For a more detailed view of current AmlCompute status, use get_status()."
   ]
  },
  {
   "cell_type": "code",
   "execution_count": 5,
   "metadata": {
    "collapsed": true,
    "gather": {
     "logged": 1608131611162
    },
    "jupyter": {
     "outputs_hidden": false,
     "source_hidden": false
    },
    "nteract": {
     "transient": {
      "deleting": false
     }
    }
   },
   "outputs": [
    {
     "data": {
      "text/plain": [
       "{\n",
       "  \"source\": [\n",
       "    \"('workspaceblobstore', 'UI/12-16-2020_030925_UTC/BankChurners.csv')\"\n",
       "  ],\n",
       "  \"definition\": [\n",
       "    \"GetDatastoreFiles\",\n",
       "    \"ParseDelimited\",\n",
       "    \"DropColumns\",\n",
       "    \"SetColumnTypes\"\n",
       "  ],\n",
       "  \"registration\": {\n",
       "    \"id\": \"ac326dd1-9965-4cfa-95e8-a2a4b204e220\",\n",
       "    \"name\": \"bankchurners\",\n",
       "    \"version\": 1,\n",
       "    \"description\": \"Bank churn dataset\",\n",
       "    \"workspace\": \"Workspace.create(name='quick-starts-ws-130726', subscription_id='de47103e-2da6-4f5e-88fc-d18b27fd249b', resource_group='aml-quickstarts-130726')\"\n",
       "  }\n",
       "}"
      ]
     },
     "execution_count": 5,
     "metadata": {},
     "output_type": "execute_result"
    }
   ],
   "source": [
    "dataset = Dataset.get_by_name(ws, name = \"bankchurners\")\n",
    "# dataset = data_prep.get_dataset(ws)\n",
    "dataset"
   ]
  },
  {
   "cell_type": "markdown",
   "metadata": {},
   "source": [
    "## AutoML Configuration\n",
    "\n",
    "TODO: Explain why you chose the automl settings and cofiguration you used below."
   ]
  },
  {
   "cell_type": "code",
   "execution_count": 8,
   "metadata": {
    "gather": {
     "logged": 1608131735711
    },
    "jupyter": {
     "outputs_hidden": false,
     "source_hidden": false
    },
    "nteract": {
     "transient": {
      "deleting": false
     }
    }
   },
   "outputs": [],
   "source": [
    "# TODO: Put your automl settings and config here\n",
    "\n",
    "# TODO: Put your automl config here\n",
    "automl_config = AutoMLConfig(\n",
    "    experiment_timeout_minutes = 30,\n",
    "    task = \"classification\",\n",
    "    compute_target = \"demo-cluster\",\n",
    "    max_concurrent_iterations = 5,\n",
    "    training_data = dataset,\n",
    "    primary_metric = \"accuracy\",\n",
    "    label_column_name = \"Attrition_Flag\",\n",
    "    n_cross_validations = 3,\n",
    "    enable_early_stopping = True\n",
    ")"
   ]
  },
  {
   "cell_type": "code",
   "execution_count": 9,
   "metadata": {
    "gather": {
     "logged": 1608133069958
    },
    "jupyter": {
     "outputs_hidden": false,
     "source_hidden": false
    },
    "nteract": {
     "transient": {
      "deleting": false
     }
    }
   },
   "outputs": [
    {
     "name": "stdout",
     "output_type": "stream",
     "text": [
      "Running on remote.\n",
      "No run_configuration provided, running on demo-cluster with default configuration\n",
      "Running on remote compute: demo-cluster\n",
      "Parent Run ID: AutoML_b672c35b-2c74-4abc-9f92-b03a17d57ddd\n",
      "\n",
      "Current status: FeaturesGeneration. Generating features for the dataset.\n",
      "Current status: DatasetFeaturization. Beginning to fit featurizers and featurize the dataset.\n",
      "Current status: DatasetBalancing. Performing class balancing sweeping\n",
      "Current status: DatasetCrossValidationSplit. Generating individually featurized CV splits.\n",
      "Current status: ModelSelection. Beginning model selection.\n",
      "\n",
      "****************************************************************************************************\n",
      "DATA GUARDRAILS: \n",
      "\n",
      "TYPE:         Class balancing detection\n",
      "STATUS:       ALERTED\n",
      "DESCRIPTION:  To decrease model bias, please cancel the current run and fix balancing problem.\n",
      "              Learn more about imbalanced data: https://aka.ms/AutomatedMLImbalancedData\n",
      "DETAILS:      Imbalanced data can lead to a falsely perceived positive effect of a model's accuracy because the input data has bias towards one class.\n",
      "+---------------------------------+---------------------------------+--------------------------------------+\n",
      "|Size of the smallest class       |Name/Label of the smallest class |Number of samples in the training data|\n",
      "+=================================+=================================+======================================+\n",
      "|1627                             |Attrited Customer                |10127                                 |\n",
      "+---------------------------------+---------------------------------+--------------------------------------+\n",
      "\n",
      "****************************************************************************************************\n",
      "\n",
      "TYPE:         Missing feature values imputation\n",
      "STATUS:       PASSED\n",
      "DESCRIPTION:  No feature missing values were detected in the training data.\n",
      "              Learn more about missing value imputation: https://aka.ms/AutomatedMLFeaturization\n",
      "\n",
      "****************************************************************************************************\n",
      "\n",
      "TYPE:         High cardinality feature detection\n",
      "STATUS:       PASSED\n",
      "DESCRIPTION:  Your inputs were analyzed, and no high cardinality features were detected.\n",
      "              Learn more about high cardinality feature handling: https://aka.ms/AutomatedMLFeaturization\n",
      "\n",
      "****************************************************************************************************\n",
      "\n",
      "****************************************************************************************************\n",
      "ITERATION: The iteration being evaluated.\n",
      "PIPELINE: A summary description of the pipeline being evaluated.\n",
      "DURATION: Time taken for the current iteration.\n",
      "METRIC: The result of computing score on the fitted pipeline.\n",
      "BEST: The best observed score thus far.\n",
      "****************************************************************************************************\n",
      "\n",
      " ITERATION   PIPELINE                                       DURATION      METRIC      BEST\n",
      "         3   MaxAbsScaler RandomForest                      0:00:51       0.8399    0.8399\n",
      "         2   MaxAbsScaler RandomForest                      0:00:55       0.8666    0.8666\n",
      "         4   MaxAbsScaler RandomForest                      0:00:55       0.8568    0.8666\n",
      "         0   MaxAbsScaler LightGBM                          0:00:52       0.9703    0.9703\n",
      "         1   MaxAbsScaler XGBoostClassifier                 0:01:44       0.9609    0.9703\n",
      "         5   MaxAbsScaler RandomForest                      0:00:45       0.7777    0.9703\n",
      "         6   SparseNormalizer XGBoostClassifier             0:01:12       0.9638    0.9703\n",
      "         7   SparseNormalizer XGBoostClassifier             0:01:04       0.9565    0.9703\n",
      "         9   SparseNormalizer XGBoostClassifier             0:00:54       0.9618    0.9703\n",
      "         8   SparseNormalizer XGBoostClassifier             0:01:11       0.9658    0.9703\n",
      "        10   SparseNormalizer XGBoostClassifier             0:01:10       0.9481    0.9703\n",
      "        11   StandardScalerWrapper RandomForest             0:01:06       0.8942    0.9703\n",
      "        12   SparseNormalizer XGBoostClassifier             0:01:17       0.9656    0.9703\n",
      "        13   MaxAbsScaler ExtremeRandomTrees                0:01:22       0.8784    0.9703\n",
      "        14   MaxAbsScaler ExtremeRandomTrees                0:01:25       0.8393    0.9703\n",
      "        15   MaxAbsScaler LightGBM                          0:01:07       0.8990    0.9703\n",
      "        16   MaxAbsScaler LogisticRegression                0:00:59       0.9117    0.9703\n",
      "        17   StandardScalerWrapper LogisticRegression       0:01:09       0.9112    0.9703\n",
      "        18   StandardScalerWrapper LogisticRegression       0:01:13       0.9119    0.9703\n",
      "        19   MaxAbsScaler LogisticRegression                0:01:02       0.9109    0.9703\n",
      "        20   MaxAbsScaler LightGBM                          0:00:57       0.9494    0.9703\n",
      "        21   MaxAbsScaler ExtremeRandomTrees                0:01:11       0.8677    0.9703\n",
      "        22   StandardScalerWrapper XGBoostClassifier        0:01:12       0.9693    0.9703\n",
      "        24   MaxAbsScaler LightGBM                          0:00:50       0.8393    0.9703\n",
      "        23   SparseNormalizer XGBoostClassifier             0:01:24       0.9606    0.9703\n",
      "        25   StandardScalerWrapper XGBoostClassifier        0:01:05       0.9718    0.9718\n",
      "        29   StandardScalerWrapper XGBoostClassifier        0:00:58       0.8888    0.9718\n",
      "        27   SparseNormalizer XGBoostClassifier             0:01:47       0.9674    0.9718\n",
      "        26   SparseNormalizer XGBoostClassifier             0:02:23       0.9691    0.9718\n",
      "        28   SparseNormalizer XGBoostClassifier             0:02:08       0.9662    0.9718\n",
      "        30   StandardScalerWrapper XGBoostClassifier        0:00:53       0.8393    0.9718\n",
      "        31   MaxAbsScaler LightGBM                          0:01:04       0.9067    0.9718\n",
      "        33   SparseNormalizer XGBoostClassifier             0:01:14       0.9598    0.9718\n",
      "        34   SparseNormalizer XGBoostClassifier             0:01:13       0.9683    0.9718\n",
      "        35   SparseNormalizer XGBoostClassifier             0:01:03       0.9439    0.9718\n",
      "        32   SparseNormalizer XGBoostClassifier             0:01:27       0.9646    0.9718\n",
      "        36   MaxAbsScaler LogisticRegression                0:00:51       0.8607    0.9718\n",
      "        37   MaxAbsScaler LogisticRegression                0:00:57       0.8613    0.9718\n",
      "        38   SparseNormalizer XGBoostClassifier             0:00:58       0.9576    0.9718\n",
      "        39   StandardScalerWrapper XGBoostClassifier        0:01:03       0.9659    0.9718\n",
      "        40   SparseNormalizer XGBoostClassifier             0:00:40          nan    0.9718\n",
      "        41                                                  0:00:18          nan    0.9718\n",
      "        42                                                  0:00:10          nan    0.9718\n",
      "        43                                                  0:00:21          nan    0.9718\n",
      "        44    VotingEnsemble                                0:01:44       0.9725    0.9725\n",
      "        45    StackEnsemble                                 0:01:48       0.9722    0.9725\n"
     ]
    }
   ],
   "source": [
    "# TODO: Submit your experiment\n",
    "remote_run = experiment.submit(automl_config, show_output = True)"
   ]
  },
  {
   "cell_type": "markdown",
   "metadata": {},
   "source": [
    "## Run Details\n",
    "\n",
    "OPTIONAL: Write about the different models trained and their performance. Why do you think some models did better than others?\n",
    "\n",
    "TODO: In the cell below, use the `RunDetails` widget to show the different experiments."
   ]
  },
  {
   "cell_type": "code",
   "execution_count": 10,
   "metadata": {
    "gather": {
     "logged": 1598431121770
    },
    "jupyter": {
     "outputs_hidden": false,
     "source_hidden": false
    },
    "nteract": {
     "transient": {
      "deleting": false
     }
    }
   },
   "outputs": [
    {
     "data": {
      "application/vnd.jupyter.widget-view+json": {
       "model_id": "62af33130a554cde9a585a507e9dd8eb",
       "version_major": 2,
       "version_minor": 0
      },
      "text/plain": [
       "_AutoMLWidget(widget_settings={'childWidgetDisplay': 'popup', 'send_telemetry': False, 'log_level': 'INFO', 's…"
      ]
     },
     "metadata": {},
     "output_type": "display_data"
    },
    {
     "data": {
      "application/aml.mini.widget.v1": "{\"status\": \"Completed\", \"workbench_run_details_uri\": \"https://ml.azure.com/experiments/demo-automl-experiment/runs/AutoML_b672c35b-2c74-4abc-9f92-b03a17d57ddd?wsid=/subscriptions/de47103e-2da6-4f5e-88fc-d18b27fd249b/resourcegroups/aml-quickstarts-130726/workspaces/quick-starts-ws-130726\", \"run_id\": \"AutoML_b672c35b-2c74-4abc-9f92-b03a17d57ddd\", \"run_properties\": {\"run_id\": \"AutoML_b672c35b-2c74-4abc-9f92-b03a17d57ddd\", \"created_utc\": \"2020-12-16T15:15:43.343725Z\", \"properties\": {\"num_iterations\": \"1000\", \"training_type\": \"TrainFull\", \"acquisition_function\": \"EI\", \"primary_metric\": \"accuracy\", \"train_split\": \"0\", \"acquisition_parameter\": \"0\", \"num_cross_validation\": \"3\", \"target\": \"demo-cluster\", \"AMLSettingsJsonString\": \"{\\\"path\\\":null,\\\"name\\\":\\\"demo-automl-experiment\\\",\\\"subscription_id\\\":\\\"de47103e-2da6-4f5e-88fc-d18b27fd249b\\\",\\\"resource_group\\\":\\\"aml-quickstarts-130726\\\",\\\"workspace_name\\\":\\\"quick-starts-ws-130726\\\",\\\"region\\\":\\\"southcentralus\\\",\\\"compute_target\\\":\\\"demo-cluster\\\",\\\"spark_service\\\":null,\\\"azure_service\\\":\\\"remote\\\",\\\"many_models\\\":false,\\\"pipeline_fetch_max_batch_size\\\":1,\\\"iterations\\\":1000,\\\"primary_metric\\\":\\\"accuracy\\\",\\\"task_type\\\":\\\"classification\\\",\\\"data_script\\\":null,\\\"validation_size\\\":0.0,\\\"n_cross_validations\\\":3,\\\"y_min\\\":null,\\\"y_max\\\":null,\\\"num_classes\\\":null,\\\"featurization\\\":\\\"auto\\\",\\\"_ignore_package_version_incompatibilities\\\":false,\\\"is_timeseries\\\":false,\\\"max_cores_per_iteration\\\":1,\\\"max_concurrent_iterations\\\":5,\\\"iteration_timeout_minutes\\\":null,\\\"mem_in_mb\\\":null,\\\"enforce_time_on_windows\\\":false,\\\"experiment_timeout_minutes\\\":30,\\\"experiment_exit_score\\\":null,\\\"whitelist_models\\\":null,\\\"blacklist_algos\\\":[\\\"TensorFlowLinearClassifier\\\",\\\"TensorFlowDNN\\\"],\\\"supported_models\\\":[\\\"LogisticRegression\\\",\\\"SVM\\\",\\\"MultinomialNaiveBayes\\\",\\\"KNN\\\",\\\"GradientBoosting\\\",\\\"AveragedPerceptronClassifier\\\",\\\"BernoulliNaiveBayes\\\",\\\"RandomForest\\\",\\\"ExtremeRandomTrees\\\",\\\"TensorFlowLinearClassifier\\\",\\\"TensorFlowDNN\\\",\\\"XGBoostClassifier\\\",\\\"LightGBM\\\",\\\"DecisionTree\\\",\\\"SGD\\\",\\\"LinearSVM\\\"],\\\"auto_blacklist\\\":true,\\\"blacklist_samples_reached\\\":false,\\\"exclude_nan_labels\\\":true,\\\"verbosity\\\":20,\\\"_debug_log\\\":\\\"azureml_automl.log\\\",\\\"show_warnings\\\":false,\\\"model_explainability\\\":true,\\\"service_url\\\":null,\\\"sdk_url\\\":null,\\\"sdk_packages\\\":null,\\\"enable_onnx_compatible_models\\\":false,\\\"enable_split_onnx_featurizer_estimator_models\\\":false,\\\"vm_type\\\":\\\"STANDARD_D2_V2\\\",\\\"telemetry_verbosity\\\":20,\\\"send_telemetry\\\":true,\\\"enable_dnn\\\":false,\\\"scenario\\\":\\\"SDK-1.13.0\\\",\\\"environment_label\\\":null,\\\"force_text_dnn\\\":false,\\\"enable_feature_sweeping\\\":true,\\\"enable_early_stopping\\\":true,\\\"early_stopping_n_iters\\\":10,\\\"metrics\\\":null,\\\"enable_ensembling\\\":true,\\\"enable_stack_ensembling\\\":true,\\\"ensemble_iterations\\\":15,\\\"enable_tf\\\":false,\\\"enable_subsampling\\\":null,\\\"subsample_seed\\\":null,\\\"enable_nimbusml\\\":false,\\\"enable_streaming\\\":false,\\\"force_streaming\\\":false,\\\"track_child_runs\\\":true,\\\"allowed_private_models\\\":[],\\\"label_column_name\\\":\\\"Attrition_Flag\\\",\\\"weight_column_name\\\":null,\\\"cv_split_column_names\\\":null,\\\"enable_local_managed\\\":false,\\\"_local_managed_run_id\\\":null,\\\"cost_mode\\\":1,\\\"lag_length\\\":0,\\\"metric_operation\\\":\\\"maximize\\\",\\\"preprocess\\\":true}\", \"DataPrepJsonString\": \"{\\\\\\\"training_data\\\\\\\": \\\\\\\"{\\\\\\\\\\\\\\\"blocks\\\\\\\\\\\\\\\": [{\\\\\\\\\\\\\\\"id\\\\\\\\\\\\\\\": \\\\\\\\\\\\\\\"7c7084f9-d9ed-4f33-b1b1-384751305090\\\\\\\\\\\\\\\", \\\\\\\\\\\\\\\"type\\\\\\\\\\\\\\\": \\\\\\\\\\\\\\\"Microsoft.DPrep.GetDatastoreFilesBlock\\\\\\\\\\\\\\\", \\\\\\\\\\\\\\\"arguments\\\\\\\\\\\\\\\": {\\\\\\\\\\\\\\\"datastores\\\\\\\\\\\\\\\": [{\\\\\\\\\\\\\\\"datastoreName\\\\\\\\\\\\\\\": \\\\\\\\\\\\\\\"workspaceblobstore\\\\\\\\\\\\\\\", \\\\\\\\\\\\\\\"path\\\\\\\\\\\\\\\": \\\\\\\\\\\\\\\"UI/12-16-2020_030925_UTC/BankChurners.csv\\\\\\\\\\\\\\\", \\\\\\\\\\\\\\\"resourceGroup\\\\\\\\\\\\\\\": \\\\\\\\\\\\\\\"aml-quickstarts-130726\\\\\\\\\\\\\\\", \\\\\\\\\\\\\\\"subscription\\\\\\\\\\\\\\\": \\\\\\\\\\\\\\\"de47103e-2da6-4f5e-88fc-d18b27fd249b\\\\\\\\\\\\\\\", \\\\\\\\\\\\\\\"workspaceName\\\\\\\\\\\\\\\": \\\\\\\\\\\\\\\"quick-starts-ws-130726\\\\\\\\\\\\\\\"}]}, \\\\\\\\\\\\\\\"localData\\\\\\\\\\\\\\\": {}, \\\\\\\\\\\\\\\"isEnabled\\\\\\\\\\\\\\\": true, \\\\\\\\\\\\\\\"name\\\\\\\\\\\\\\\": null, \\\\\\\\\\\\\\\"annotation\\\\\\\\\\\\\\\": null}, {\\\\\\\\\\\\\\\"id\\\\\\\\\\\\\\\": \\\\\\\\\\\\\\\"d3734b7e-e119-4319-8c43-70a57918288a\\\\\\\\\\\\\\\", \\\\\\\\\\\\\\\"type\\\\\\\\\\\\\\\": \\\\\\\\\\\\\\\"Microsoft.DPrep.ParseDelimitedBlock\\\\\\\\\\\\\\\", \\\\\\\\\\\\\\\"arguments\\\\\\\\\\\\\\\": {\\\\\\\\\\\\\\\"columnHeadersMode\\\\\\\\\\\\\\\": 1, \\\\\\\\\\\\\\\"fileEncoding\\\\\\\\\\\\\\\": 0, \\\\\\\\\\\\\\\"handleQuotedLineBreaks\\\\\\\\\\\\\\\": false, \\\\\\\\\\\\\\\"preview\\\\\\\\\\\\\\\": false, \\\\\\\\\\\\\\\"separator\\\\\\\\\\\\\\\": \\\\\\\\\\\\\\\",\\\\\\\\\\\\\\\", \\\\\\\\\\\\\\\"skipRows\\\\\\\\\\\\\\\": 0, \\\\\\\\\\\\\\\"skipRowsMode\\\\\\\\\\\\\\\": 0}, \\\\\\\\\\\\\\\"localData\\\\\\\\\\\\\\\": {}, \\\\\\\\\\\\\\\"isEnabled\\\\\\\\\\\\\\\": true, \\\\\\\\\\\\\\\"name\\\\\\\\\\\\\\\": null, \\\\\\\\\\\\\\\"annotation\\\\\\\\\\\\\\\": null}, {\\\\\\\\\\\\\\\"id\\\\\\\\\\\\\\\": \\\\\\\\\\\\\\\"d8cdceb8-3e6c-47dd-8f01-69f2d0c4bf93\\\\\\\\\\\\\\\", \\\\\\\\\\\\\\\"type\\\\\\\\\\\\\\\": \\\\\\\\\\\\\\\"Microsoft.DPrep.DropColumnsBlock\\\\\\\\\\\\\\\", \\\\\\\\\\\\\\\"arguments\\\\\\\\\\\\\\\": {\\\\\\\\\\\\\\\"columns\\\\\\\\\\\\\\\": {\\\\\\\\\\\\\\\"type\\\\\\\\\\\\\\\": 0, \\\\\\\\\\\\\\\"details\\\\\\\\\\\\\\\": {\\\\\\\\\\\\\\\"selectedColumns\\\\\\\\\\\\\\\": [\\\\\\\\\\\\\\\"Path\\\\\\\\\\\\\\\", \\\\\\\\\\\\\\\"Naive_Bayes_Classifier_Attrition_Flag_Card_Category_Contacts_Count_12_mon_Dependent_count_Education_Level_Months_Inactive_12_mon_1\\\\\\\\\\\\\\\", \\\\\\\\\\\\\\\"Naive_Bayes_Classifier_Attrition_Flag_Card_Category_Contacts_Count_12_mon_Dependent_count_Education_Level_Months_Inactive_12_mon_2\\\\\\\\\\\\\\\"]}}}, \\\\\\\\\\\\\\\"localData\\\\\\\\\\\\\\\": {}, \\\\\\\\\\\\\\\"isEnabled\\\\\\\\\\\\\\\": true, \\\\\\\\\\\\\\\"name\\\\\\\\\\\\\\\": null, \\\\\\\\\\\\\\\"annotation\\\\\\\\\\\\\\\": null}, {\\\\\\\\\\\\\\\"id\\\\\\\\\\\\\\\": \\\\\\\\\\\\\\\"b066d18a-a7ed-4ee5-8ab3-e9927412a3e8\\\\\\\\\\\\\\\", \\\\\\\\\\\\\\\"type\\\\\\\\\\\\\\\": \\\\\\\\\\\\\\\"Microsoft.DPrep.SetColumnTypesBlock\\\\\\\\\\\\\\\", \\\\\\\\\\\\\\\"arguments\\\\\\\\\\\\\\\": {\\\\\\\\\\\\\\\"columnConversion\\\\\\\\\\\\\\\": [{\\\\\\\\\\\\\\\"column\\\\\\\\\\\\\\\": {\\\\\\\\\\\\\\\"type\\\\\\\\\\\\\\\": 2, \\\\\\\\\\\\\\\"details\\\\\\\\\\\\\\\": {\\\\\\\\\\\\\\\"selectedColumn\\\\\\\\\\\\\\\": \\\\\\\\\\\\\\\"Path\\\\\\\\\\\\\\\"}}, \\\\\\\\\\\\\\\"typeProperty\\\\\\\\\\\\\\\": 0}, {\\\\\\\\\\\\\\\"column\\\\\\\\\\\\\\\": {\\\\\\\\\\\\\\\"type\\\\\\\\\\\\\\\": 2, \\\\\\\\\\\\\\\"details\\\\\\\\\\\\\\\": {\\\\\\\\\\\\\\\"selectedColumn\\\\\\\\\\\\\\\": \\\\\\\\\\\\\\\"CLIENTNUM\\\\\\\\\\\\\\\"}}, \\\\\\\\\\\\\\\"typeProperty\\\\\\\\\\\\\\\": 2}, {\\\\\\\\\\\\\\\"column\\\\\\\\\\\\\\\": {\\\\\\\\\\\\\\\"type\\\\\\\\\\\\\\\": 2, \\\\\\\\\\\\\\\"details\\\\\\\\\\\\\\\": {\\\\\\\\\\\\\\\"selectedColumn\\\\\\\\\\\\\\\": \\\\\\\\\\\\\\\"Attrition_Flag\\\\\\\\\\\\\\\"}}, \\\\\\\\\\\\\\\"typeProperty\\\\\\\\\\\\\\\": 0}, {\\\\\\\\\\\\\\\"column\\\\\\\\\\\\\\\": {\\\\\\\\\\\\\\\"type\\\\\\\\\\\\\\\": 2, \\\\\\\\\\\\\\\"details\\\\\\\\\\\\\\\": {\\\\\\\\\\\\\\\"selectedColumn\\\\\\\\\\\\\\\": \\\\\\\\\\\\\\\"Customer_Age\\\\\\\\\\\\\\\"}}, \\\\\\\\\\\\\\\"typeProperty\\\\\\\\\\\\\\\": 2}, {\\\\\\\\\\\\\\\"column\\\\\\\\\\\\\\\": {\\\\\\\\\\\\\\\"type\\\\\\\\\\\\\\\": 2, \\\\\\\\\\\\\\\"details\\\\\\\\\\\\\\\": {\\\\\\\\\\\\\\\"selectedColumn\\\\\\\\\\\\\\\": \\\\\\\\\\\\\\\"Gender\\\\\\\\\\\\\\\"}}, \\\\\\\\\\\\\\\"typeProperty\\\\\\\\\\\\\\\": 0}, {\\\\\\\\\\\\\\\"column\\\\\\\\\\\\\\\": {\\\\\\\\\\\\\\\"type\\\\\\\\\\\\\\\": 2, \\\\\\\\\\\\\\\"details\\\\\\\\\\\\\\\": {\\\\\\\\\\\\\\\"selectedColumn\\\\\\\\\\\\\\\": \\\\\\\\\\\\\\\"Dependent_count\\\\\\\\\\\\\\\"}}, \\\\\\\\\\\\\\\"typeProperty\\\\\\\\\\\\\\\": 2}, {\\\\\\\\\\\\\\\"column\\\\\\\\\\\\\\\": {\\\\\\\\\\\\\\\"type\\\\\\\\\\\\\\\": 2, \\\\\\\\\\\\\\\"details\\\\\\\\\\\\\\\": {\\\\\\\\\\\\\\\"selectedColumn\\\\\\\\\\\\\\\": \\\\\\\\\\\\\\\"Education_Level\\\\\\\\\\\\\\\"}}, \\\\\\\\\\\\\\\"typeProperty\\\\\\\\\\\\\\\": 0}, {\\\\\\\\\\\\\\\"column\\\\\\\\\\\\\\\": {\\\\\\\\\\\\\\\"type\\\\\\\\\\\\\\\": 2, \\\\\\\\\\\\\\\"details\\\\\\\\\\\\\\\": {\\\\\\\\\\\\\\\"selectedColumn\\\\\\\\\\\\\\\": \\\\\\\\\\\\\\\"Marital_Status\\\\\\\\\\\\\\\"}}, \\\\\\\\\\\\\\\"typeProperty\\\\\\\\\\\\\\\": 0}, {\\\\\\\\\\\\\\\"column\\\\\\\\\\\\\\\": {\\\\\\\\\\\\\\\"type\\\\\\\\\\\\\\\": 2, \\\\\\\\\\\\\\\"details\\\\\\\\\\\\\\\": {\\\\\\\\\\\\\\\"selectedColumn\\\\\\\\\\\\\\\": \\\\\\\\\\\\\\\"Income_Category\\\\\\\\\\\\\\\"}}, \\\\\\\\\\\\\\\"typeProperty\\\\\\\\\\\\\\\": 0}, {\\\\\\\\\\\\\\\"column\\\\\\\\\\\\\\\": {\\\\\\\\\\\\\\\"type\\\\\\\\\\\\\\\": 2, \\\\\\\\\\\\\\\"details\\\\\\\\\\\\\\\": {\\\\\\\\\\\\\\\"selectedColumn\\\\\\\\\\\\\\\": \\\\\\\\\\\\\\\"Card_Category\\\\\\\\\\\\\\\"}}, \\\\\\\\\\\\\\\"typeProperty\\\\\\\\\\\\\\\": 0}, {\\\\\\\\\\\\\\\"column\\\\\\\\\\\\\\\": {\\\\\\\\\\\\\\\"type\\\\\\\\\\\\\\\": 2, \\\\\\\\\\\\\\\"details\\\\\\\\\\\\\\\": {\\\\\\\\\\\\\\\"selectedColumn\\\\\\\\\\\\\\\": \\\\\\\\\\\\\\\"Months_on_book\\\\\\\\\\\\\\\"}}, \\\\\\\\\\\\\\\"typeProperty\\\\\\\\\\\\\\\": 2}, {\\\\\\\\\\\\\\\"column\\\\\\\\\\\\\\\": {\\\\\\\\\\\\\\\"type\\\\\\\\\\\\\\\": 2, \\\\\\\\\\\\\\\"details\\\\\\\\\\\\\\\": {\\\\\\\\\\\\\\\"selectedColumn\\\\\\\\\\\\\\\": \\\\\\\\\\\\\\\"Total_Relationship_Count\\\\\\\\\\\\\\\"}}, \\\\\\\\\\\\\\\"typeProperty\\\\\\\\\\\\\\\": 2}, {\\\\\\\\\\\\\\\"column\\\\\\\\\\\\\\\": {\\\\\\\\\\\\\\\"type\\\\\\\\\\\\\\\": 2, \\\\\\\\\\\\\\\"details\\\\\\\\\\\\\\\": {\\\\\\\\\\\\\\\"selectedColumn\\\\\\\\\\\\\\\": \\\\\\\\\\\\\\\"Months_Inactive_12_mon\\\\\\\\\\\\\\\"}}, \\\\\\\\\\\\\\\"typeProperty\\\\\\\\\\\\\\\": 2}, {\\\\\\\\\\\\\\\"column\\\\\\\\\\\\\\\": {\\\\\\\\\\\\\\\"type\\\\\\\\\\\\\\\": 2, \\\\\\\\\\\\\\\"details\\\\\\\\\\\\\\\": {\\\\\\\\\\\\\\\"selectedColumn\\\\\\\\\\\\\\\": \\\\\\\\\\\\\\\"Contacts_Count_12_mon\\\\\\\\\\\\\\\"}}, \\\\\\\\\\\\\\\"typeProperty\\\\\\\\\\\\\\\": 2}, {\\\\\\\\\\\\\\\"column\\\\\\\\\\\\\\\": {\\\\\\\\\\\\\\\"type\\\\\\\\\\\\\\\": 2, \\\\\\\\\\\\\\\"details\\\\\\\\\\\\\\\": {\\\\\\\\\\\\\\\"selectedColumn\\\\\\\\\\\\\\\": \\\\\\\\\\\\\\\"Credit_Limit\\\\\\\\\\\\\\\"}}, \\\\\\\\\\\\\\\"typeProperty\\\\\\\\\\\\\\\": 3}, {\\\\\\\\\\\\\\\"column\\\\\\\\\\\\\\\": {\\\\\\\\\\\\\\\"type\\\\\\\\\\\\\\\": 2, \\\\\\\\\\\\\\\"details\\\\\\\\\\\\\\\": {\\\\\\\\\\\\\\\"selectedColumn\\\\\\\\\\\\\\\": \\\\\\\\\\\\\\\"Total_Revolving_Bal\\\\\\\\\\\\\\\"}}, \\\\\\\\\\\\\\\"typeProperty\\\\\\\\\\\\\\\": 2}, {\\\\\\\\\\\\\\\"column\\\\\\\\\\\\\\\": {\\\\\\\\\\\\\\\"type\\\\\\\\\\\\\\\": 2, \\\\\\\\\\\\\\\"details\\\\\\\\\\\\\\\": {\\\\\\\\\\\\\\\"selectedColumn\\\\\\\\\\\\\\\": \\\\\\\\\\\\\\\"Avg_Open_To_Buy\\\\\\\\\\\\\\\"}}, \\\\\\\\\\\\\\\"typeProperty\\\\\\\\\\\\\\\": 3}, {\\\\\\\\\\\\\\\"column\\\\\\\\\\\\\\\": {\\\\\\\\\\\\\\\"type\\\\\\\\\\\\\\\": 2, \\\\\\\\\\\\\\\"details\\\\\\\\\\\\\\\": {\\\\\\\\\\\\\\\"selectedColumn\\\\\\\\\\\\\\\": \\\\\\\\\\\\\\\"Total_Amt_Chng_Q4_Q1\\\\\\\\\\\\\\\"}}, \\\\\\\\\\\\\\\"typeProperty\\\\\\\\\\\\\\\": 3}, {\\\\\\\\\\\\\\\"column\\\\\\\\\\\\\\\": {\\\\\\\\\\\\\\\"type\\\\\\\\\\\\\\\": 2, \\\\\\\\\\\\\\\"details\\\\\\\\\\\\\\\": {\\\\\\\\\\\\\\\"selectedColumn\\\\\\\\\\\\\\\": \\\\\\\\\\\\\\\"Total_Trans_Amt\\\\\\\\\\\\\\\"}}, \\\\\\\\\\\\\\\"typeProperty\\\\\\\\\\\\\\\": 2}, {\\\\\\\\\\\\\\\"column\\\\\\\\\\\\\\\": {\\\\\\\\\\\\\\\"type\\\\\\\\\\\\\\\": 2, \\\\\\\\\\\\\\\"details\\\\\\\\\\\\\\\": {\\\\\\\\\\\\\\\"selectedColumn\\\\\\\\\\\\\\\": \\\\\\\\\\\\\\\"Total_Trans_Ct\\\\\\\\\\\\\\\"}}, \\\\\\\\\\\\\\\"typeProperty\\\\\\\\\\\\\\\": 2}, {\\\\\\\\\\\\\\\"column\\\\\\\\\\\\\\\": {\\\\\\\\\\\\\\\"type\\\\\\\\\\\\\\\": 2, \\\\\\\\\\\\\\\"details\\\\\\\\\\\\\\\": {\\\\\\\\\\\\\\\"selectedColumn\\\\\\\\\\\\\\\": \\\\\\\\\\\\\\\"Total_Ct_Chng_Q4_Q1\\\\\\\\\\\\\\\"}}, \\\\\\\\\\\\\\\"typeProperty\\\\\\\\\\\\\\\": 3}, {\\\\\\\\\\\\\\\"column\\\\\\\\\\\\\\\": {\\\\\\\\\\\\\\\"type\\\\\\\\\\\\\\\": 2, \\\\\\\\\\\\\\\"details\\\\\\\\\\\\\\\": {\\\\\\\\\\\\\\\"selectedColumn\\\\\\\\\\\\\\\": \\\\\\\\\\\\\\\"Avg_Utilization_Ratio\\\\\\\\\\\\\\\"}}, \\\\\\\\\\\\\\\"typeProperty\\\\\\\\\\\\\\\": 3}, {\\\\\\\\\\\\\\\"column\\\\\\\\\\\\\\\": {\\\\\\\\\\\\\\\"type\\\\\\\\\\\\\\\": 2, \\\\\\\\\\\\\\\"details\\\\\\\\\\\\\\\": {\\\\\\\\\\\\\\\"selectedColumn\\\\\\\\\\\\\\\": \\\\\\\\\\\\\\\"Naive_Bayes_Classifier_Attrition_Flag_Card_Category_Contacts_Count_12_mon_Dependent_count_Education_Level_Months_Inactive_12_mon_1\\\\\\\\\\\\\\\"}}, \\\\\\\\\\\\\\\"typeProperty\\\\\\\\\\\\\\\": 3}, {\\\\\\\\\\\\\\\"column\\\\\\\\\\\\\\\": {\\\\\\\\\\\\\\\"type\\\\\\\\\\\\\\\": 2, \\\\\\\\\\\\\\\"details\\\\\\\\\\\\\\\": {\\\\\\\\\\\\\\\"selectedColumn\\\\\\\\\\\\\\\": \\\\\\\\\\\\\\\"Naive_Bayes_Classifier_Attrition_Flag_Card_Category_Contacts_Count_12_mon_Dependent_count_Education_Level_Months_Inactive_12_mon_2\\\\\\\\\\\\\\\"}}, \\\\\\\\\\\\\\\"typeProperty\\\\\\\\\\\\\\\": 3}]}, \\\\\\\\\\\\\\\"localData\\\\\\\\\\\\\\\": {}, \\\\\\\\\\\\\\\"isEnabled\\\\\\\\\\\\\\\": true, \\\\\\\\\\\\\\\"name\\\\\\\\\\\\\\\": null, \\\\\\\\\\\\\\\"annotation\\\\\\\\\\\\\\\": null}], \\\\\\\\\\\\\\\"inspectors\\\\\\\\\\\\\\\": [], \\\\\\\\\\\\\\\"meta\\\\\\\\\\\\\\\": {\\\\\\\\\\\\\\\"savedDatasetId\\\\\\\\\\\\\\\": \\\\\\\\\\\\\\\"ac326dd1-9965-4cfa-95e8-a2a4b204e220\\\\\\\\\\\\\\\", \\\\\\\\\\\\\\\"datasetType\\\\\\\\\\\\\\\": \\\\\\\\\\\\\\\"tabular\\\\\\\\\\\\\\\", \\\\\\\\\\\\\\\"subscriptionId\\\\\\\\\\\\\\\": \\\\\\\\\\\\\\\"de47103e-2da6-4f5e-88fc-d18b27fd249b\\\\\\\\\\\\\\\", \\\\\\\\\\\\\\\"workspaceId\\\\\\\\\\\\\\\": \\\\\\\\\\\\\\\"81ca8ed0-af53-416b-82f4-38714e53b3d2\\\\\\\\\\\\\\\", \\\\\\\\\\\\\\\"workspaceLocation\\\\\\\\\\\\\\\": \\\\\\\\\\\\\\\"southcentralus\\\\\\\\\\\\\\\"}}\\\\\\\", \\\\\\\"activities\\\\\\\": 0}\", \"EnableSubsampling\": null, \"runTemplate\": \"AutoML\", \"azureml.runsource\": \"automl\", \"display_task_type\": \"classification\", \"dependencies_versions\": \"{\\\"azureml-widgets\\\": \\\"1.19.0\\\", \\\"azureml-train\\\": \\\"1.19.0\\\", \\\"azureml-train-restclients-hyperdrive\\\": \\\"1.19.0\\\", \\\"azureml-train-core\\\": \\\"1.19.0\\\", \\\"azureml-train-automl\\\": \\\"1.19.0\\\", \\\"azureml-train-automl-runtime\\\": \\\"1.19.0\\\", \\\"azureml-train-automl-client\\\": \\\"1.19.0\\\", \\\"azureml-tensorboard\\\": \\\"1.19.0\\\", \\\"azureml-telemetry\\\": \\\"1.19.0\\\", \\\"azureml-sdk\\\": \\\"1.19.0\\\", \\\"azureml-samples\\\": \\\"0+unknown\\\", \\\"azureml-pipeline\\\": \\\"1.19.0\\\", \\\"azureml-pipeline-steps\\\": \\\"1.19.0\\\", \\\"azureml-pipeline-core\\\": \\\"1.19.0\\\", \\\"azureml-opendatasets\\\": \\\"1.19.0\\\", \\\"azureml-model-management-sdk\\\": \\\"1.0.1b6.post1\\\", \\\"azureml-mlflow\\\": \\\"1.19.0\\\", \\\"azureml-interpret\\\": \\\"1.19.0\\\", \\\"azureml-explain-model\\\": \\\"1.19.0\\\", \\\"azureml-defaults\\\": \\\"1.19.0\\\", \\\"azureml-dataset-runtime\\\": \\\"1.19.0\\\", \\\"azureml-dataprep\\\": \\\"2.6.1\\\", \\\"azureml-dataprep-rslex\\\": \\\"1.4.0\\\", \\\"azureml-dataprep-native\\\": \\\"26.0.0\\\", \\\"azureml-datadrift\\\": \\\"1.19.0\\\", \\\"azureml-core\\\": \\\"1.19.0\\\", \\\"azureml-contrib-services\\\": \\\"1.19.0\\\", \\\"azureml-contrib-server\\\": \\\"1.19.0\\\", \\\"azureml-contrib-reinforcementlearning\\\": \\\"1.19.0\\\", \\\"azureml-contrib-pipeline-steps\\\": \\\"1.19.0\\\", \\\"azureml-contrib-notebook\\\": \\\"1.19.0\\\", \\\"azureml-contrib-interpret\\\": \\\"1.19.0\\\", \\\"azureml-contrib-gbdt\\\": \\\"1.19.0\\\", \\\"azureml-contrib-fairness\\\": \\\"1.19.0\\\", \\\"azureml-contrib-dataset\\\": \\\"1.19.0\\\", \\\"azureml-cli-common\\\": \\\"1.19.0\\\", \\\"azureml-automl-runtime\\\": \\\"1.19.0\\\", \\\"azureml-automl-core\\\": \\\"1.19.0\\\", \\\"azureml-accel-models\\\": \\\"1.19.0\\\"}\", \"_aml_system_scenario_identification\": \"Remote.Parent\", \"ClientType\": \"SDK\", \"environment_cpu_name\": \"AzureML-AutoML\", \"environment_cpu_version\": \"49\", \"environment_gpu_name\": \"AzureML-AutoML-GPU\", \"environment_gpu_version\": \"37\", \"root_attribution\": \"automl\", \"attribution\": \"AutoML\", \"Orchestrator\": \"AutoML\", \"CancelUri\": \"https://southcentralus.experiments.azureml.net/jasmine/v1.0/subscriptions/de47103e-2da6-4f5e-88fc-d18b27fd249b/resourceGroups/aml-quickstarts-130726/providers/Microsoft.MachineLearningServices/workspaces/quick-starts-ws-130726/experimentids/78b90515-e146-47a4-81fa-3961fa29cb27/cancel/AutoML_b672c35b-2c74-4abc-9f92-b03a17d57ddd\", \"ClientSdkVersion\": \"1.18.0.post1\", \"snapshotId\": \"00000000-0000-0000-0000-000000000000\", \"SetupRunId\": \"AutoML_b672c35b-2c74-4abc-9f92-b03a17d57ddd_setup\", \"SetupRunContainerId\": \"dcid.AutoML_b672c35b-2c74-4abc-9f92-b03a17d57ddd_setup\", \"FeaturizationRunJsonPath\": \"featurizer_container.json\", \"FeaturizationRunId\": \"AutoML_b672c35b-2c74-4abc-9f92-b03a17d57ddd_featurize\", \"ProblemInfoJsonString\": \"{\\\"dataset_num_categorical\\\": 0, \\\"is_sparse\\\": true, \\\"subsampling\\\": false, \\\"dataset_classes\\\": 2, \\\"dataset_features\\\": 146, \\\"dataset_samples\\\": 10127, \\\"single_frequency_class_detected\\\": false}\", \"ModelExplainRunId\": \"AutoML_b672c35b-2c74-4abc-9f92-b03a17d57ddd_ModelExplain\"}, \"tags\": {\"model_explain_run\": \"best_run\", \"_aml_system_azureml.automlComponent\": \"AutoML\", \"pipeline_id\": \"\", \"score\": \"\", \"predicted_cost\": \"\", \"fit_time\": \"\", \"training_percent\": \"\", \"iteration\": \"\", \"run_preprocessor\": \"\", \"run_algorithm\": \"\", \"dynamic_whitelisting_iterations\": \"<24>;<30>;<35>;<40>;\", \"automl_best_child_run_id\": \"AutoML_b672c35b-2c74-4abc-9f92-b03a17d57ddd_44\"}, \"end_time_utc\": \"2020-12-16T15:37:41.083673Z\", \"status\": \"Completed\", \"log_files\": {}, \"log_groups\": [], \"run_duration\": \"0:21:57\"}, \"child_runs\": [{\"run_id\": \"AutoML_b672c35b-2c74-4abc-9f92-b03a17d57ddd_0\", \"run_number\": 5, \"metric\": null, \"status\": \"Completed\", \"run_type\": \"azureml.scriptrun\", \"training_percent\": \"100\", \"start_time\": \"2020-12-16T15:23:01.01475Z\", \"end_time\": \"2020-12-16T15:23:53.096776Z\", \"created_time\": \"2020-12-16T15:21:55.658052Z\", \"created_time_dt\": \"2020-12-16T15:21:55.658052Z\", \"duration\": \"0:01:57\", \"iteration\": \"0\", \"goal\": \"accuracy_max\", \"run_name\": \"MaxAbsScaler, LightGBM\", \"run_properties\": \"copy=True\", \"primary_metric\": 0.97027751, \"best_metric\": 0.97027751}, {\"run_id\": \"AutoML_b672c35b-2c74-4abc-9f92-b03a17d57ddd_1\", \"run_number\": 6, \"metric\": null, \"status\": \"Completed\", \"run_type\": \"azureml.scriptrun\", \"training_percent\": \"100\", \"start_time\": \"2020-12-16T15:22:06.953287Z\", \"end_time\": \"2020-12-16T15:23:50.924181Z\", \"created_time\": \"2020-12-16T15:21:55.67551Z\", \"created_time_dt\": \"2020-12-16T15:21:55.67551Z\", \"duration\": \"0:01:55\", \"iteration\": \"1\", \"goal\": \"accuracy_max\", \"run_name\": \"MaxAbsScaler, XGBoostClassifier\", \"run_properties\": \"copy=True\", \"primary_metric\": 0.96089664, \"best_metric\": 0.97027751}, {\"run_id\": \"AutoML_b672c35b-2c74-4abc-9f92-b03a17d57ddd_3\", \"run_number\": 7, \"metric\": null, \"status\": \"Completed\", \"run_type\": \"azureml.scriptrun\", \"training_percent\": \"100\", \"start_time\": \"2020-12-16T15:22:06.92323Z\", \"end_time\": \"2020-12-16T15:22:57.443306Z\", \"created_time\": \"2020-12-16T15:21:55.684509Z\", \"created_time_dt\": \"2020-12-16T15:21:55.684509Z\", \"duration\": \"0:01:01\", \"iteration\": \"3\", \"goal\": \"accuracy_max\", \"run_name\": \"MaxAbsScaler, RandomForest\", \"run_properties\": \"copy=True\", \"primary_metric\": 0.83993207, \"best_metric\": 0.97027751}, {\"run_id\": \"AutoML_b672c35b-2c74-4abc-9f92-b03a17d57ddd_2\", \"run_number\": 8, \"metric\": null, \"status\": \"Completed\", \"run_type\": \"azureml.scriptrun\", \"training_percent\": \"100\", \"start_time\": \"2020-12-16T15:22:07.935015Z\", \"end_time\": \"2020-12-16T15:23:02.582018Z\", \"created_time\": \"2020-12-16T15:21:55.692719Z\", \"created_time_dt\": \"2020-12-16T15:21:55.692719Z\", \"duration\": \"0:01:06\", \"iteration\": \"2\", \"goal\": \"accuracy_max\", \"run_name\": \"MaxAbsScaler, RandomForest\", \"run_properties\": \"copy=True\", \"primary_metric\": 0.86659365, \"best_metric\": 0.97027751}, {\"run_id\": \"AutoML_b672c35b-2c74-4abc-9f92-b03a17d57ddd_4\", \"run_number\": 9, \"metric\": null, \"status\": \"Completed\", \"run_type\": \"azureml.scriptrun\", \"training_percent\": \"100\", \"start_time\": \"2020-12-16T15:22:07.993751Z\", \"end_time\": \"2020-12-16T15:23:02.647793Z\", \"created_time\": \"2020-12-16T15:21:55.710282Z\", \"created_time_dt\": \"2020-12-16T15:21:55.710282Z\", \"duration\": \"0:01:06\", \"iteration\": \"4\", \"goal\": \"accuracy_max\", \"run_name\": \"MaxAbsScaler, RandomForest\", \"run_properties\": \"copy=True\", \"primary_metric\": 0.85681888, \"best_metric\": 0.97027751}, {\"run_id\": \"AutoML_b672c35b-2c74-4abc-9f92-b03a17d57ddd_5\", \"run_number\": 10, \"metric\": null, \"status\": \"Completed\", \"run_type\": \"azureml.scriptrun\", \"training_percent\": \"100\", \"start_time\": \"2020-12-16T15:23:17.248887Z\", \"end_time\": \"2020-12-16T15:24:02.067916Z\", \"created_time\": \"2020-12-16T15:23:00.680947Z\", \"created_time_dt\": \"2020-12-16T15:23:00.680947Z\", \"duration\": \"0:01:01\", \"iteration\": \"5\", \"goal\": \"accuracy_max\", \"run_name\": \"MaxAbsScaler, RandomForest\", \"run_properties\": \"copy=True\", \"primary_metric\": 0.77772216, \"best_metric\": 0.97027751}, {\"run_id\": \"AutoML_b672c35b-2c74-4abc-9f92-b03a17d57ddd_7\", \"run_number\": 11, \"metric\": null, \"status\": \"Completed\", \"run_type\": \"azureml.scriptrun\", \"training_percent\": \"100\", \"start_time\": \"2020-12-16T15:23:51.551722Z\", \"end_time\": \"2020-12-16T15:24:55.3325Z\", \"created_time\": \"2020-12-16T15:23:10.390709Z\", \"created_time_dt\": \"2020-12-16T15:23:10.390709Z\", \"duration\": \"0:01:44\", \"iteration\": \"7\", \"goal\": \"accuracy_max\", \"run_name\": \"SparseNormalizer, XGBoostClassifier\", \"run_properties\": \"<azureml.automl.runtime.shared.model_wrappers.SparseNormalizer object at 0x7f780af3bbe0\", \"primary_metric\": 0.95645302, \"best_metric\": 0.97027751}, {\"run_id\": \"AutoML_b672c35b-2c74-4abc-9f92-b03a17d57ddd_6\", \"run_number\": 12, \"metric\": null, \"status\": \"Completed\", \"run_type\": \"azureml.scriptrun\", \"training_percent\": \"100\", \"start_time\": \"2020-12-16T15:23:21.415775Z\", \"end_time\": \"2020-12-16T15:24:33.602247Z\", \"created_time\": \"2020-12-16T15:23:10.415385Z\", \"created_time_dt\": \"2020-12-16T15:23:10.415385Z\", \"duration\": \"0:01:23\", \"iteration\": \"6\", \"goal\": \"accuracy_max\", \"run_name\": \"SparseNormalizer, XGBoostClassifier\", \"run_properties\": \"<azureml.automl.runtime.shared.model_wrappers.SparseNormalizer object at 0x7f65bf436320\", \"primary_metric\": 0.96376046, \"best_metric\": 0.97027751}, {\"run_id\": \"AutoML_b672c35b-2c74-4abc-9f92-b03a17d57ddd_8\", \"run_number\": 13, \"metric\": null, \"status\": \"Completed\", \"run_type\": \"azureml.scriptrun\", \"training_percent\": \"100\", \"start_time\": \"2020-12-16T15:24:05.973952Z\", \"end_time\": \"2020-12-16T15:25:16.703024Z\", \"created_time\": \"2020-12-16T15:23:53.083886Z\", \"created_time_dt\": \"2020-12-16T15:23:53.083886Z\", \"duration\": \"0:01:23\", \"iteration\": \"8\", \"goal\": \"accuracy_max\", \"run_name\": \"SparseNormalizer, XGBoostClassifier\", \"run_properties\": \"<azureml.automl.runtime.shared.model_wrappers.SparseNormalizer object at 0x7fec887d7898\", \"primary_metric\": 0.96583395, \"best_metric\": 0.97027751}, {\"run_id\": \"AutoML_b672c35b-2c74-4abc-9f92-b03a17d57ddd_9\", \"run_number\": 14, \"metric\": null, \"status\": \"Completed\", \"run_type\": \"azureml.scriptrun\", \"training_percent\": \"100\", \"start_time\": \"2020-12-16T15:24:08.107432Z\", \"end_time\": \"2020-12-16T15:25:02.343919Z\", \"created_time\": \"2020-12-16T15:23:57.332655Z\", \"created_time_dt\": \"2020-12-16T15:23:57.332655Z\", \"duration\": \"0:01:05\", \"iteration\": \"9\", \"goal\": \"accuracy_max\", \"run_name\": \"SparseNormalizer, XGBoostClassifier\", \"run_properties\": \"<azureml.automl.runtime.shared.model_wrappers.SparseNormalizer object at 0x7fa1b946f6a0\", \"primary_metric\": 0.96178521, \"best_metric\": 0.97027751}, {\"run_id\": \"AutoML_b672c35b-2c74-4abc-9f92-b03a17d57ddd_10\", \"run_number\": 15, \"metric\": null, \"status\": \"Completed\", \"run_type\": \"azureml.scriptrun\", \"training_percent\": \"100\", \"start_time\": \"2020-12-16T15:24:37.416087Z\", \"end_time\": \"2020-12-16T15:25:47.580621Z\", \"created_time\": \"2020-12-16T15:24:03.823345Z\", \"created_time_dt\": \"2020-12-16T15:24:03.823345Z\", \"duration\": \"0:01:43\", \"iteration\": \"10\", \"goal\": \"accuracy_max\", \"run_name\": \"SparseNormalizer, XGBoostClassifier\", \"run_properties\": \"<azureml.automl.runtime.shared.model_wrappers.SparseNormalizer object at 0x7f423e7aa828\", \"primary_metric\": 0.94805974, \"best_metric\": 0.97027751}, {\"run_id\": \"AutoML_b672c35b-2c74-4abc-9f92-b03a17d57ddd_11\", \"run_number\": 16, \"metric\": null, \"status\": \"Completed\", \"run_type\": \"azureml.scriptrun\", \"training_percent\": \"100\", \"start_time\": \"2020-12-16T15:25:00.643926Z\", \"end_time\": \"2020-12-16T15:26:06.3052Z\", \"created_time\": \"2020-12-16T15:24:35.838394Z\", \"created_time_dt\": \"2020-12-16T15:24:35.838394Z\", \"duration\": \"0:01:30\", \"iteration\": \"11\", \"goal\": \"accuracy_max\", \"run_name\": \"StandardScalerWrapper, RandomForest\", \"run_properties\": \"<azureml.automl.runtime.shared.model_wrappers.StandardScalerWrapper object at 0x7f6114a63978\", \"primary_metric\": 0.89424349, \"best_metric\": 0.97027751}, {\"run_id\": \"AutoML_b672c35b-2c74-4abc-9f92-b03a17d57ddd_12\", \"run_number\": 17, \"metric\": null, \"status\": \"Completed\", \"run_type\": \"azureml.scriptrun\", \"training_percent\": \"100\", \"start_time\": \"2020-12-16T15:25:09.484797Z\", \"end_time\": \"2020-12-16T15:26:26.832578Z\", \"created_time\": \"2020-12-16T15:24:57.167603Z\", \"created_time_dt\": \"2020-12-16T15:24:57.167603Z\", \"duration\": \"0:01:29\", \"iteration\": \"12\", \"goal\": \"accuracy_max\", \"run_name\": \"SparseNormalizer, XGBoostClassifier\", \"run_properties\": \"<azureml.automl.runtime.shared.model_wrappers.SparseNormalizer object at 0x7fb635decd68\", \"primary_metric\": 0.96563665, \"best_metric\": 0.97027751}, {\"run_id\": \"AutoML_b672c35b-2c74-4abc-9f92-b03a17d57ddd_13\", \"run_number\": 18, \"metric\": null, \"status\": \"Completed\", \"run_type\": \"azureml.scriptrun\", \"training_percent\": \"100\", \"start_time\": \"2020-12-16T15:25:19.725922Z\", \"end_time\": \"2020-12-16T15:26:41.481823Z\", \"created_time\": \"2020-12-16T15:25:04.099403Z\", \"created_time_dt\": \"2020-12-16T15:25:04.099403Z\", \"duration\": \"0:01:37\", \"iteration\": \"13\", \"goal\": \"accuracy_max\", \"run_name\": \"MaxAbsScaler, ExtremeRandomTrees\", \"run_properties\": \"copy=True\", \"primary_metric\": 0.87844327, \"best_metric\": 0.97027751}, {\"run_id\": \"AutoML_b672c35b-2c74-4abc-9f92-b03a17d57ddd_14\", \"run_number\": 19, \"metric\": null, \"status\": \"Completed\", \"run_type\": \"azureml.scriptrun\", \"training_percent\": \"100\", \"start_time\": \"2020-12-16T15:25:51.509892Z\", \"end_time\": \"2020-12-16T15:27:16.312635Z\", \"created_time\": \"2020-12-16T15:25:18.491788Z\", \"created_time_dt\": \"2020-12-16T15:25:18.491788Z\", \"duration\": \"0:01:57\", \"iteration\": \"14\", \"goal\": \"accuracy_max\", \"run_name\": \"MaxAbsScaler, ExtremeRandomTrees\", \"run_properties\": \"copy=True\", \"primary_metric\": 0.83933965, \"best_metric\": 0.97027751}, {\"run_id\": \"AutoML_b672c35b-2c74-4abc-9f92-b03a17d57ddd_15\", \"run_number\": 20, \"metric\": null, \"status\": \"Completed\", \"run_type\": \"azureml.scriptrun\", \"training_percent\": \"100\", \"start_time\": \"2020-12-16T15:26:08.272839Z\", \"end_time\": \"2020-12-16T15:27:15.414858Z\", \"created_time\": \"2020-12-16T15:25:49.368802Z\", \"created_time_dt\": \"2020-12-16T15:25:49.368802Z\", \"duration\": \"0:01:26\", \"iteration\": \"15\", \"goal\": \"accuracy_max\", \"run_name\": \"MaxAbsScaler, LightGBM\", \"run_properties\": \"copy=True\", \"primary_metric\": 0.89898259, \"best_metric\": 0.97027751}, {\"run_id\": \"AutoML_b672c35b-2c74-4abc-9f92-b03a17d57ddd_16\", \"run_number\": 21, \"metric\": null, \"status\": \"Completed\", \"run_type\": \"azureml.scriptrun\", \"training_percent\": \"100\", \"start_time\": \"2020-12-16T15:26:30.92245Z\", \"end_time\": \"2020-12-16T15:27:29.974548Z\", \"created_time\": \"2020-12-16T15:26:08.944677Z\", \"created_time_dt\": \"2020-12-16T15:26:08.944677Z\", \"duration\": \"0:01:21\", \"iteration\": \"16\", \"goal\": \"accuracy_max\", \"run_name\": \"MaxAbsScaler, LogisticRegression\", \"run_properties\": \"copy=True\", \"primary_metric\": 0.91172076, \"best_metric\": 0.97027751}, {\"run_id\": \"AutoML_b672c35b-2c74-4abc-9f92-b03a17d57ddd_17\", \"run_number\": 22, \"metric\": null, \"status\": \"Completed\", \"run_type\": \"azureml.scriptrun\", \"training_percent\": \"100\", \"start_time\": \"2020-12-16T15:26:46.383591Z\", \"end_time\": \"2020-12-16T15:27:55.209608Z\", \"created_time\": \"2020-12-16T15:26:28.547009Z\", \"created_time_dt\": \"2020-12-16T15:26:28.547009Z\", \"duration\": \"0:01:26\", \"iteration\": \"17\", \"goal\": \"accuracy_max\", \"run_name\": \"StandardScalerWrapper, LogisticRegression\", \"run_properties\": \"<azureml.automl.runtime.shared.model_wrappers.StandardScalerWrapper object at 0x7fece061e358\", \"primary_metric\": 0.91122737, \"best_metric\": 0.97027751}, {\"run_id\": \"AutoML_b672c35b-2c74-4abc-9f92-b03a17d57ddd_18\", \"run_number\": 23, \"metric\": null, \"status\": \"Completed\", \"run_type\": \"azureml.scriptrun\", \"training_percent\": \"100\", \"start_time\": \"2020-12-16T15:27:20.044655Z\", \"end_time\": \"2020-12-16T15:28:32.752626Z\", \"created_time\": \"2020-12-16T15:26:43.679767Z\", \"created_time_dt\": \"2020-12-16T15:26:43.679767Z\", \"duration\": \"0:01:49\", \"iteration\": \"18\", \"goal\": \"accuracy_max\", \"run_name\": \"StandardScalerWrapper, LogisticRegression\", \"run_properties\": \"<azureml.automl.runtime.shared.model_wrappers.StandardScalerWrapper object at 0x7f542897fc88\", \"primary_metric\": 0.91191847, \"best_metric\": 0.97027751}, {\"run_id\": \"AutoML_b672c35b-2c74-4abc-9f92-b03a17d57ddd_19\", \"run_number\": 24, \"metric\": null, \"status\": \"Completed\", \"run_type\": \"azureml.scriptrun\", \"training_percent\": \"100\", \"start_time\": \"2020-12-16T15:27:31.777304Z\", \"end_time\": \"2020-12-16T15:28:34.14281Z\", \"created_time\": \"2020-12-16T15:27:17.705162Z\", \"created_time_dt\": \"2020-12-16T15:27:17.705162Z\", \"duration\": \"0:01:16\", \"iteration\": \"19\", \"goal\": \"accuracy_max\", \"run_name\": \"MaxAbsScaler, LogisticRegression\", \"run_properties\": \"copy=True\", \"primary_metric\": 0.91093078, \"best_metric\": 0.97027751}, {\"run_id\": \"AutoML_b672c35b-2c74-4abc-9f92-b03a17d57ddd_20\", \"run_number\": 25, \"metric\": null, \"status\": \"Completed\", \"run_type\": \"azureml.scriptrun\", \"training_percent\": \"100\", \"start_time\": \"2020-12-16T15:27:39.143603Z\", \"end_time\": \"2020-12-16T15:28:36.067324Z\", \"created_time\": \"2020-12-16T15:27:22.23268Z\", \"created_time_dt\": \"2020-12-16T15:27:22.23268Z\", \"duration\": \"0:01:13\", \"iteration\": \"20\", \"goal\": \"accuracy_max\", \"run_name\": \"MaxAbsScaler, LightGBM\", \"run_properties\": \"copy=True\", \"primary_metric\": 0.94944219, \"best_metric\": 0.97027751}, {\"run_id\": \"AutoML_b672c35b-2c74-4abc-9f92-b03a17d57ddd_21\", \"run_number\": 26, \"metric\": null, \"status\": \"Completed\", \"run_type\": \"azureml.scriptrun\", \"training_percent\": \"100\", \"start_time\": \"2020-12-16T15:27:58.186372Z\", \"end_time\": \"2020-12-16T15:29:09.560683Z\", \"created_time\": \"2020-12-16T15:27:31.810367Z\", \"created_time_dt\": \"2020-12-16T15:27:31.810367Z\", \"duration\": \"0:01:37\", \"iteration\": \"21\", \"goal\": \"accuracy_max\", \"run_name\": \"MaxAbsScaler, ExtremeRandomTrees\", \"run_properties\": \"copy=True\", \"primary_metric\": 0.86767971, \"best_metric\": 0.97027751}, {\"run_id\": \"AutoML_b672c35b-2c74-4abc-9f92-b03a17d57ddd_22\", \"run_number\": 27, \"metric\": null, \"status\": \"Completed\", \"run_type\": \"azureml.scriptrun\", \"training_percent\": \"100\", \"start_time\": \"2020-12-16T15:28:36.154115Z\", \"end_time\": \"2020-12-16T15:29:48.30009Z\", \"created_time\": \"2020-12-16T15:27:57.136013Z\", \"created_time_dt\": \"2020-12-16T15:27:57.136013Z\", \"duration\": \"0:01:51\", \"iteration\": \"22\", \"goal\": \"accuracy_max\", \"run_name\": \"StandardScalerWrapper, XGBoostClassifier\", \"run_properties\": \"<azureml.automl.runtime.shared.model_wrappers.StandardScalerWrapper object at 0x7f88072ccb00\", \"primary_metric\": 0.96929009, \"best_metric\": 0.97027751}, {\"run_id\": \"AutoML_b672c35b-2c74-4abc-9f92-b03a17d57ddd_23\", \"run_number\": 28, \"metric\": null, \"status\": \"Completed\", \"run_type\": \"azureml.scriptrun\", \"training_percent\": \"100\", \"start_time\": \"2020-12-16T15:28:47.51754Z\", \"end_time\": \"2020-12-16T15:30:11.884187Z\", \"created_time\": \"2020-12-16T15:28:34.800649Z\", \"created_time_dt\": \"2020-12-16T15:28:34.800649Z\", \"duration\": \"0:01:37\", \"iteration\": \"23\", \"goal\": \"accuracy_max\", \"run_name\": \"SparseNormalizer, XGBoostClassifier\", \"run_properties\": \"<azureml.automl.runtime.shared.model_wrappers.SparseNormalizer object at 0x7f24f62f8470\", \"primary_metric\": 0.96060026, \"best_metric\": 0.97027751}, {\"run_id\": \"AutoML_b672c35b-2c74-4abc-9f92-b03a17d57ddd_24\", \"run_number\": 29, \"metric\": null, \"status\": \"Completed\", \"run_type\": \"azureml.scriptrun\", \"training_percent\": \"100\", \"start_time\": \"2020-12-16T15:28:53.359267Z\", \"end_time\": \"2020-12-16T15:29:43.02991Z\", \"created_time\": \"2020-12-16T15:28:39.59997Z\", \"created_time_dt\": \"2020-12-16T15:28:39.59997Z\", \"duration\": \"0:01:03\", \"iteration\": \"24\", \"goal\": \"accuracy_max\", \"run_name\": \"MaxAbsScaler, LightGBM\", \"run_properties\": \"copy=True\", \"primary_metric\": 0.83933965, \"best_metric\": 0.97027751}, {\"run_id\": \"AutoML_b672c35b-2c74-4abc-9f92-b03a17d57ddd_25\", \"run_number\": 30, \"metric\": null, \"status\": \"Completed\", \"run_type\": \"azureml.scriptrun\", \"training_percent\": \"100\", \"start_time\": \"2020-12-16T15:29:10.773212Z\", \"end_time\": \"2020-12-16T15:30:15.965986Z\", \"created_time\": \"2020-12-16T15:28:39.604314Z\", \"created_time_dt\": \"2020-12-16T15:28:39.604314Z\", \"duration\": \"0:01:36\", \"iteration\": \"25\", \"goal\": \"accuracy_max\", \"run_name\": \"StandardScalerWrapper, XGBoostClassifier\", \"run_properties\": \"<azureml.automl.runtime.shared.model_wrappers.StandardScalerWrapper object at 0x7fbb235f42b0\", \"primary_metric\": 0.97175862, \"best_metric\": 0.97175862}, {\"run_id\": \"AutoML_b672c35b-2c74-4abc-9f92-b03a17d57ddd_26\", \"run_number\": 31, \"metric\": null, \"status\": \"Completed\", \"run_type\": \"azureml.scriptrun\", \"training_percent\": \"100\", \"start_time\": \"2020-12-16T15:29:48.870916Z\", \"end_time\": \"2020-12-16T15:32:11.594394Z\", \"created_time\": \"2020-12-16T15:29:11.402409Z\", \"created_time_dt\": \"2020-12-16T15:29:11.402409Z\", \"duration\": \"0:03:00\", \"iteration\": \"26\", \"goal\": \"accuracy_max\", \"run_name\": \"SparseNormalizer, XGBoostClassifier\", \"run_properties\": \"<azureml.automl.runtime.shared.model_wrappers.SparseNormalizer object at 0x7f5cf4a396a0\", \"primary_metric\": 0.96909253, \"best_metric\": 0.97175862}, {\"run_id\": \"AutoML_b672c35b-2c74-4abc-9f92-b03a17d57ddd_27\", \"run_number\": 32, \"metric\": null, \"status\": \"Completed\", \"run_type\": \"azureml.scriptrun\", \"training_percent\": \"100\", \"start_time\": \"2020-12-16T15:29:58.699082Z\", \"end_time\": \"2020-12-16T15:31:45.272191Z\", \"created_time\": \"2020-12-16T15:29:45.268409Z\", \"created_time_dt\": \"2020-12-16T15:29:45.268409Z\", \"duration\": \"0:02:00\", \"iteration\": \"27\", \"goal\": \"accuracy_max\", \"run_name\": \"SparseNormalizer, XGBoostClassifier\", \"run_properties\": \"<azureml.automl.runtime.shared.model_wrappers.SparseNormalizer object at 0x7f8edd202ba8\", \"primary_metric\": 0.96741384, \"best_metric\": 0.97175862}, {\"run_id\": \"AutoML_b672c35b-2c74-4abc-9f92-b03a17d57ddd_28\", \"run_number\": 33, \"metric\": null, \"status\": \"Completed\", \"run_type\": \"azureml.scriptrun\", \"training_percent\": \"100\", \"start_time\": \"2020-12-16T15:30:16.853869Z\", \"end_time\": \"2020-12-16T15:32:25.276059Z\", \"created_time\": \"2020-12-16T15:29:50.058182Z\", \"created_time_dt\": \"2020-12-16T15:29:50.058182Z\", \"duration\": \"0:02:35\", \"iteration\": \"28\", \"goal\": \"accuracy_max\", \"run_name\": \"SparseNormalizer, XGBoostClassifier\", \"run_properties\": \"<azureml.automl.runtime.shared.model_wrappers.SparseNormalizer object at 0x7fd1d4a38710\", \"primary_metric\": 0.96622892, \"best_metric\": 0.97175862}, {\"run_id\": \"AutoML_b672c35b-2c74-4abc-9f92-b03a17d57ddd_29\", \"run_number\": 34, \"metric\": null, \"status\": \"Completed\", \"run_type\": \"azureml.scriptrun\", \"training_percent\": \"100\", \"start_time\": \"2020-12-16T15:30:28.266806Z\", \"end_time\": \"2020-12-16T15:31:26.399438Z\", \"created_time\": \"2020-12-16T15:30:13.939636Z\", \"created_time_dt\": \"2020-12-16T15:30:13.939636Z\", \"duration\": \"0:01:12\", \"iteration\": \"29\", \"goal\": \"accuracy_max\", \"run_name\": \"StandardScalerWrapper, XGBoostClassifier\", \"run_properties\": \"<azureml.automl.runtime.shared.model_wrappers.StandardScalerWrapper object at 0x7f3d50020860\", \"primary_metric\": 0.8888123, \"best_metric\": 0.97175862}, {\"run_id\": \"AutoML_b672c35b-2c74-4abc-9f92-b03a17d57ddd_30\", \"run_number\": 35, \"metric\": null, \"status\": \"Completed\", \"run_type\": \"azureml.scriptrun\", \"training_percent\": \"100\", \"start_time\": \"2020-12-16T15:31:32.776628Z\", \"end_time\": \"2020-12-16T15:32:26.233204Z\", \"created_time\": \"2020-12-16T15:30:20.130595Z\", \"created_time_dt\": \"2020-12-16T15:30:20.130595Z\", \"duration\": \"0:02:06\", \"iteration\": \"30\", \"goal\": \"accuracy_max\", \"run_name\": \"StandardScalerWrapper, XGBoostClassifier\", \"run_properties\": \"<azureml.automl.runtime.shared.model_wrappers.StandardScalerWrapper object at 0x7f51d8860e48\", \"primary_metric\": 0.83933965, \"best_metric\": 0.97175862}, {\"run_id\": \"AutoML_b672c35b-2c74-4abc-9f92-b03a17d57ddd_31\", \"run_number\": 36, \"metric\": null, \"status\": \"Completed\", \"run_type\": \"azureml.scriptrun\", \"training_percent\": \"100\", \"start_time\": \"2020-12-16T15:31:46.912117Z\", \"end_time\": \"2020-12-16T15:32:50.813069Z\", \"created_time\": \"2020-12-16T15:31:28.243023Z\", \"created_time_dt\": \"2020-12-16T15:31:28.243023Z\", \"duration\": \"0:01:22\", \"iteration\": \"31\", \"goal\": \"accuracy_max\", \"run_name\": \"MaxAbsScaler, LightGBM\", \"run_properties\": \"copy=True\", \"primary_metric\": 0.90668539, \"best_metric\": 0.97175862}, {\"run_id\": \"AutoML_b672c35b-2c74-4abc-9f92-b03a17d57ddd_32\", \"run_number\": 37, \"metric\": null, \"status\": \"Completed\", \"run_type\": \"azureml.scriptrun\", \"training_percent\": \"100\", \"start_time\": \"2020-12-16T15:32:31.138325Z\", \"end_time\": \"2020-12-16T15:33:58.570987Z\", \"created_time\": \"2020-12-16T15:31:46.96514Z\", \"created_time_dt\": \"2020-12-16T15:31:46.96514Z\", \"duration\": \"0:02:11\", \"iteration\": \"32\", \"goal\": \"accuracy_max\", \"run_name\": \"SparseNormalizer, XGBoostClassifier\", \"run_properties\": \"<azureml.automl.runtime.shared.model_wrappers.SparseNormalizer object at 0x7fcb1831b8d0\", \"primary_metric\": 0.96464903, \"best_metric\": 0.97175862}, {\"run_id\": \"AutoML_b672c35b-2c74-4abc-9f92-b03a17d57ddd_33\", \"run_number\": 38, \"metric\": null, \"status\": \"Completed\", \"run_type\": \"azureml.scriptrun\", \"training_percent\": \"100\", \"start_time\": \"2020-12-16T15:32:26.862645Z\", \"end_time\": \"2020-12-16T15:33:40.520848Z\", \"created_time\": \"2020-12-16T15:32:13.314427Z\", \"created_time_dt\": \"2020-12-16T15:32:13.314427Z\", \"duration\": \"0:01:27\", \"iteration\": \"33\", \"goal\": \"accuracy_max\", \"run_name\": \"SparseNormalizer, XGBoostClassifier\", \"run_properties\": \"<azureml.automl.runtime.shared.model_wrappers.SparseNormalizer object at 0x7fc390446c88\", \"primary_metric\": 0.9598104, \"best_metric\": 0.97175862}, {\"run_id\": \"AutoML_b672c35b-2c74-4abc-9f92-b03a17d57ddd_34\", \"run_number\": 39, \"metric\": null, \"status\": \"Completed\", \"run_type\": \"azureml.scriptrun\", \"training_percent\": \"100\", \"start_time\": \"2020-12-16T15:32:39.774818Z\", \"end_time\": \"2020-12-16T15:33:52.775814Z\", \"created_time\": \"2020-12-16T15:32:27.5005Z\", \"created_time_dt\": \"2020-12-16T15:32:27.5005Z\", \"duration\": \"0:01:25\", \"iteration\": \"34\", \"goal\": \"accuracy_max\", \"run_name\": \"SparseNormalizer, XGBoostClassifier\", \"run_properties\": \"<azureml.automl.runtime.shared.model_wrappers.SparseNormalizer object at 0x7fc52e6fc898\", \"primary_metric\": 0.96830253, \"best_metric\": 0.97175862}, {\"run_id\": \"AutoML_b672c35b-2c74-4abc-9f92-b03a17d57ddd_35\", \"run_number\": 40, \"metric\": null, \"status\": \"Completed\", \"run_type\": \"azureml.scriptrun\", \"training_percent\": \"100\", \"start_time\": \"2020-12-16T15:32:51.723549Z\", \"end_time\": \"2020-12-16T15:33:55.034321Z\", \"created_time\": \"2020-12-16T15:32:32.105107Z\", \"created_time_dt\": \"2020-12-16T15:32:32.105107Z\", \"duration\": \"0:01:22\", \"iteration\": \"35\", \"goal\": \"accuracy_max\", \"run_name\": \"SparseNormalizer, XGBoostClassifier\", \"run_properties\": \"<azureml.automl.runtime.shared.model_wrappers.SparseNormalizer object at 0x7fd7f0163358\", \"primary_metric\": 0.94391218, \"best_metric\": 0.97175862}, {\"run_id\": \"AutoML_b672c35b-2c74-4abc-9f92-b03a17d57ddd_36\", \"run_number\": 41, \"metric\": null, \"status\": \"Completed\", \"run_type\": \"azureml.scriptrun\", \"training_percent\": \"100\", \"start_time\": \"2020-12-16T15:33:44.293671Z\", \"end_time\": \"2020-12-16T15:34:35.371871Z\", \"created_time\": \"2020-12-16T15:32:53.595928Z\", \"created_time_dt\": \"2020-12-16T15:32:53.595928Z\", \"duration\": \"0:01:41\", \"iteration\": \"36\", \"goal\": \"accuracy_max\", \"run_name\": \"MaxAbsScaler, LogisticRegression\", \"run_properties\": \"copy=True\", \"primary_metric\": 0.86066945, \"best_metric\": 0.97175862}, {\"run_id\": \"AutoML_b672c35b-2c74-4abc-9f92-b03a17d57ddd_37\", \"run_number\": 42, \"metric\": null, \"status\": \"Completed\", \"run_type\": \"azureml.scriptrun\", \"training_percent\": \"100\", \"start_time\": \"2020-12-16T15:33:58.9164Z\", \"end_time\": \"2020-12-16T15:34:56.397216Z\", \"created_time\": \"2020-12-16T15:33:42.834827Z\", \"created_time_dt\": \"2020-12-16T15:33:42.834827Z\", \"duration\": \"0:01:13\", \"iteration\": \"37\", \"goal\": \"accuracy_max\", \"run_name\": \"MaxAbsScaler, LogisticRegression\", \"run_properties\": \"copy=True\", \"primary_metric\": 0.86126204, \"best_metric\": 0.97175862}, {\"run_id\": \"AutoML_b672c35b-2c74-4abc-9f92-b03a17d57ddd_38\", \"run_number\": 43, \"metric\": null, \"status\": \"Completed\", \"run_type\": \"azureml.scriptrun\", \"training_percent\": \"100\", \"start_time\": \"2020-12-16T15:34:07.291095Z\", \"end_time\": \"2020-12-16T15:35:05.356706Z\", \"created_time\": \"2020-12-16T15:33:54.774871Z\", \"created_time_dt\": \"2020-12-16T15:33:54.774871Z\", \"duration\": \"0:01:10\", \"iteration\": \"38\", \"goal\": \"accuracy_max\", \"run_name\": \"SparseNormalizer, XGBoostClassifier\", \"run_properties\": \"<azureml.automl.runtime.shared.model_wrappers.SparseNormalizer object at 0x7fbe6015ff28\", \"primary_metric\": 0.95763814, \"best_metric\": 0.97175862}, {\"run_id\": \"AutoML_b672c35b-2c74-4abc-9f92-b03a17d57ddd_39\", \"run_number\": 44, \"metric\": null, \"status\": \"Completed\", \"run_type\": \"azureml.scriptrun\", \"training_percent\": \"100\", \"start_time\": \"2020-12-16T15:34:08.408343Z\", \"end_time\": \"2020-12-16T15:35:11.040957Z\", \"created_time\": \"2020-12-16T15:33:58.493372Z\", \"created_time_dt\": \"2020-12-16T15:33:58.493372Z\", \"duration\": \"0:01:12\", \"iteration\": \"39\", \"goal\": \"accuracy_max\", \"run_name\": \"StandardScalerWrapper, XGBoostClassifier\", \"run_properties\": \"<azureml.automl.runtime.shared.model_wrappers.StandardScalerWrapper object at 0x7f74c0602320\", \"primary_metric\": 0.96593254, \"best_metric\": 0.97175862}, {\"run_id\": \"AutoML_b672c35b-2c74-4abc-9f92-b03a17d57ddd_40\", \"run_number\": 45, \"metric\": null, \"status\": \"Canceled\", \"run_type\": \"azureml.scriptrun\", \"training_percent\": \"100\", \"start_time\": \"2020-12-16T15:34:39.605963Z\", \"end_time\": \"2020-12-16T15:35:19.459137Z\", \"created_time\": \"2020-12-16T15:34:02.802874Z\", \"created_time_dt\": \"2020-12-16T15:34:02.802874Z\", \"duration\": \"0:01:16\", \"iteration\": \"40\", \"goal\": null, \"run_name\": \"SparseNormalizer, XGBoostClassifier\", \"run_properties\": null}, {\"run_id\": \"AutoML_b672c35b-2c74-4abc-9f92-b03a17d57ddd_41\", \"run_number\": 46, \"metric\": null, \"status\": \"Canceled\", \"run_type\": \"azureml.scriptrun\", \"training_percent\": \"100\", \"start_time\": \"2020-12-16T15:35:00.70879Z\", \"end_time\": \"2020-12-16T15:35:18.937399Z\", \"created_time\": \"2020-12-16T15:34:37.659194Z\", \"created_time_dt\": \"2020-12-16T15:34:37.659194Z\", \"duration\": \"0:00:41\", \"iteration\": \"41\", \"goal\": null, \"run_name\": \"Canceled\", \"run_properties\": null}, {\"run_id\": \"AutoML_b672c35b-2c74-4abc-9f92-b03a17d57ddd_42\", \"run_number\": 47, \"metric\": null, \"status\": \"Canceled\", \"run_type\": \"azureml.scriptrun\", \"training_percent\": \"100\", \"start_time\": \"2020-12-16T15:35:09.312432Z\", \"end_time\": \"2020-12-16T15:35:18.970776Z\", \"created_time\": \"2020-12-16T15:34:58.977351Z\", \"created_time_dt\": \"2020-12-16T15:34:58.977351Z\", \"duration\": \"0:00:19\", \"iteration\": \"42\", \"goal\": null, \"run_name\": \"Canceled\", \"run_properties\": null}, {\"run_id\": \"AutoML_b672c35b-2c74-4abc-9f92-b03a17d57ddd_43\", \"run_number\": 48, \"metric\": null, \"status\": \"Canceled\", \"run_type\": \"azureml.scriptrun\", \"training_percent\": \"100\", \"start_time\": \"2020-12-16T15:35:07.123765Z\", \"end_time\": \"2020-12-16T15:35:28.3227Z\", \"created_time\": \"2020-12-16T15:35:07.123765Z\", \"created_time_dt\": \"2020-12-16T15:35:07.123765Z\", \"duration\": \"0:00:21\", \"iteration\": \"43\", \"goal\": null, \"run_name\": \"Canceled\", \"run_properties\": null}, {\"run_id\": \"AutoML_b672c35b-2c74-4abc-9f92-b03a17d57ddd_44\", \"run_number\": 49, \"metric\": null, \"status\": \"Completed\", \"run_type\": \"azureml.scriptrun\", \"training_percent\": \"100\", \"start_time\": \"2020-12-16T15:35:48.605872Z\", \"end_time\": \"2020-12-16T15:37:32.386513Z\", \"created_time\": \"2020-12-16T15:35:29.50328Z\", \"created_time_dt\": \"2020-12-16T15:35:29.50328Z\", \"duration\": \"0:02:02\", \"iteration\": \"44\", \"goal\": \"accuracy_max\", \"run_name\": \"VotingEnsemble\", \"run_properties\": \"classification_labels=None,\\n                              estimators=[('25',\\n                                           Pipeline(memory=None,\\n                                                    steps=[('standardscalerwrapper',\\n                                                            <azureml.automl.runtime.shared.model_wrappers.StandardScalerWrapper object at 0x7f00863c8d30>\", \"primary_metric\": 0.97254871, \"best_metric\": 0.97254871}, {\"run_id\": \"AutoML_b672c35b-2c74-4abc-9f92-b03a17d57ddd_45\", \"run_number\": 50, \"metric\": null, \"status\": \"Completed\", \"run_type\": \"azureml.scriptrun\", \"training_percent\": \"100\", \"start_time\": \"2020-12-16T15:35:40.388383Z\", \"end_time\": \"2020-12-16T15:37:27.975785Z\", \"created_time\": \"2020-12-16T15:35:29.532774Z\", \"created_time_dt\": \"2020-12-16T15:35:29.532774Z\", \"duration\": \"0:01:58\", \"iteration\": \"45\", \"goal\": \"accuracy_max\", \"run_name\": \"StackEnsemble\", \"run_properties\": \"base_learners=[('25',\\n                                        Pipeline(memory=None,\\n                                                 steps=[('standardscalerwrapper',\\n                                                         <azureml.automl.runtime.shared.model_wrappers.StandardScalerWrapper object at 0x7f7657462940>\", \"primary_metric\": 0.97215371, \"best_metric\": 0.97254871}], \"children_metrics\": {\"categories\": [0], \"series\": {\"recall_score_micro\": [{\"categories\": [\"0\", \"1\", \"2\", \"3\", \"4\", \"5\", \"6\", \"7\", \"8\", \"9\", \"10\", \"11\", \"12\", \"13\", \"14\", \"15\", \"16\", \"17\", \"18\", \"19\", \"20\", \"21\", \"22\", \"23\", \"24\", \"25\", \"26\", \"27\", \"28\", \"29\", \"30\", \"31\", \"32\", \"33\", \"34\", \"35\", \"36\", \"37\", \"38\", \"39\", \"44\", \"45\"], \"mode\": \"markers\", \"name\": \"recall_score_micro\", \"stepped\": false, \"type\": \"scatter\", \"data\": [0.970277514481306, 0.960896641507226, 0.86659364577848, 0.8399320695102684, 0.8568188812825462, 0.7777221637118951, 0.9637604587209644, 0.9564530162073606, 0.9658339476917676, 0.9617852085893159, 0.9480597390439413, 0.8942434907261131, 0.9656366508688783, 0.878443274237903, 0.8393396524486572, 0.8989825931776959, 0.9117207594640453, 0.9112273711310047, 0.9119184658592241, 0.9109307822830729, 0.9494421917968522, 0.8676797144696039, 0.9692900942016266, 0.9606002574454391, 0.8393396524486572, 0.9717586156456615, 0.9690925340822655, 0.9674138435433854, 0.9662289216546721, 0.8888122988707506, 0.8393396524486572, 0.9066853899713299, 0.9646490258030541, 0.9598103972851207, 0.9683025276461296, 0.9439121759990639, 0.8606694459072025, 0.8612620384997952, 0.9576381428822187, 0.9659325375928852, 0.9725487098472879, 0.9721537066292201]}, {\"categories\": [\"0\", \"1\", \"2\", \"3\", \"4\", \"5\", \"6\", \"7\", \"8\", \"9\", \"10\", \"11\", \"12\", \"13\", \"14\", \"15\", \"16\", \"17\", \"18\", \"19\", \"20\", \"21\", \"22\", \"23\", \"24\", \"25\", \"26\", \"27\", \"28\", \"29\", \"30\", \"31\", \"32\", \"33\", \"34\", \"35\", \"36\", \"37\", \"38\", \"39\", \"44\", \"45\"], \"mode\": \"lines\", \"name\": \"recall_score_micro_max\", \"stepped\": true, \"type\": \"scatter\", \"data\": [0.970277514481306, 0.970277514481306, 0.970277514481306, 0.970277514481306, 0.970277514481306, 0.970277514481306, 0.970277514481306, 0.970277514481306, 0.970277514481306, 0.970277514481306, 0.970277514481306, 0.970277514481306, 0.970277514481306, 0.970277514481306, 0.970277514481306, 0.970277514481306, 0.970277514481306, 0.970277514481306, 0.970277514481306, 0.970277514481306, 0.970277514481306, 0.970277514481306, 0.970277514481306, 0.970277514481306, 0.970277514481306, 0.9717586156456615, 0.9717586156456615, 0.9717586156456615, 0.9717586156456615, 0.9717586156456615, 0.9717586156456615, 0.9717586156456615, 0.9717586156456615, 0.9717586156456615, 0.9717586156456615, 0.9717586156456615, 0.9717586156456615, 0.9717586156456615, 0.9717586156456615, 0.9717586156456615, 0.9725487098472879, 0.9725487098472879]}], \"recall_score_weighted\": [{\"categories\": [\"0\", \"1\", \"2\", \"3\", \"4\", \"5\", \"6\", \"7\", \"8\", \"9\", \"10\", \"11\", \"12\", \"13\", \"14\", \"15\", \"16\", \"17\", \"18\", \"19\", \"20\", \"21\", \"22\", \"23\", \"24\", \"25\", \"26\", \"27\", \"28\", \"29\", \"30\", \"31\", \"32\", \"33\", \"34\", \"35\", \"36\", \"37\", \"38\", \"39\", \"44\", \"45\"], \"mode\": \"markers\", \"name\": \"recall_score_weighted\", \"stepped\": false, \"type\": \"scatter\", \"data\": [0.970277514481306, 0.960896641507226, 0.86659364577848, 0.8399320695102684, 0.8568188812825462, 0.7777221637118951, 0.9637604587209644, 0.9564530162073606, 0.9658339476917676, 0.9617852085893159, 0.9480597390439413, 0.8942434907261131, 0.9656366508688783, 0.878443274237903, 0.8393396524486572, 0.8989825931776959, 0.9117207594640453, 0.9112273711310047, 0.9119184658592241, 0.9109307822830729, 0.9494421917968522, 0.8676797144696039, 0.9692900942016266, 0.9606002574454391, 0.8393396524486572, 0.9717586156456615, 0.9690925340822655, 0.9674138435433854, 0.9662289216546721, 0.8888122988707506, 0.8393396524486572, 0.9066853899713299, 0.9646490258030541, 0.9598103972851207, 0.9683025276461296, 0.9439121759990639, 0.8606694459072025, 0.8612620384997952, 0.9576381428822187, 0.9659325375928852, 0.9725487098472879, 0.9721537066292201]}, {\"categories\": [\"0\", \"1\", \"2\", \"3\", \"4\", \"5\", \"6\", \"7\", \"8\", \"9\", \"10\", \"11\", \"12\", \"13\", \"14\", \"15\", \"16\", \"17\", \"18\", \"19\", \"20\", \"21\", \"22\", \"23\", \"24\", \"25\", \"26\", \"27\", \"28\", \"29\", \"30\", \"31\", \"32\", \"33\", \"34\", \"35\", \"36\", \"37\", \"38\", \"39\", \"44\", \"45\"], \"mode\": \"lines\", \"name\": \"recall_score_weighted_max\", \"stepped\": true, \"type\": \"scatter\", \"data\": [0.970277514481306, 0.970277514481306, 0.970277514481306, 0.970277514481306, 0.970277514481306, 0.970277514481306, 0.970277514481306, 0.970277514481306, 0.970277514481306, 0.970277514481306, 0.970277514481306, 0.970277514481306, 0.970277514481306, 0.970277514481306, 0.970277514481306, 0.970277514481306, 0.970277514481306, 0.970277514481306, 0.970277514481306, 0.970277514481306, 0.970277514481306, 0.970277514481306, 0.970277514481306, 0.970277514481306, 0.970277514481306, 0.9717586156456615, 0.9717586156456615, 0.9717586156456615, 0.9717586156456615, 0.9717586156456615, 0.9717586156456615, 0.9717586156456615, 0.9717586156456615, 0.9717586156456615, 0.9717586156456615, 0.9717586156456615, 0.9717586156456615, 0.9717586156456615, 0.9717586156456615, 0.9717586156456615, 0.9725487098472879, 0.9725487098472879]}], \"precision_score_micro\": [{\"categories\": [\"0\", \"1\", \"2\", \"3\", \"4\", \"5\", \"6\", \"7\", \"8\", \"9\", \"10\", \"11\", \"12\", \"13\", \"14\", \"15\", \"16\", \"17\", \"18\", \"19\", \"20\", \"21\", \"22\", \"23\", \"24\", \"25\", \"26\", \"27\", \"28\", \"29\", \"30\", \"31\", \"32\", \"33\", \"34\", \"35\", \"36\", \"37\", \"38\", \"39\", \"44\", \"45\"], \"mode\": \"markers\", \"name\": \"precision_score_micro\", \"stepped\": false, \"type\": \"scatter\", \"data\": [0.970277514481306, 0.960896641507226, 0.86659364577848, 0.8399320695102684, 0.8568188812825462, 0.7777221637118951, 0.9637604587209644, 0.9564530162073606, 0.9658339476917676, 0.9617852085893159, 0.9480597390439413, 0.8942434907261131, 0.9656366508688783, 0.878443274237903, 0.8393396524486572, 0.8989825931776959, 0.9117207594640453, 0.9112273711310047, 0.9119184658592241, 0.9109307822830729, 0.9494421917968522, 0.8676797144696039, 0.9692900942016266, 0.9606002574454391, 0.8393396524486572, 0.9717586156456615, 0.9690925340822655, 0.9674138435433854, 0.9662289216546721, 0.8888122988707506, 0.8393396524486572, 0.9066853899713299, 0.9646490258030541, 0.9598103972851207, 0.9683025276461296, 0.9439121759990639, 0.8606694459072025, 0.8612620384997952, 0.9576381428822187, 0.9659325375928852, 0.9725487098472879, 0.9721537066292201]}, {\"categories\": [\"0\", \"1\", \"2\", \"3\", \"4\", \"5\", \"6\", \"7\", \"8\", \"9\", \"10\", \"11\", \"12\", \"13\", \"14\", \"15\", \"16\", \"17\", \"18\", \"19\", \"20\", \"21\", \"22\", \"23\", \"24\", \"25\", \"26\", \"27\", \"28\", \"29\", \"30\", \"31\", \"32\", \"33\", \"34\", \"35\", \"36\", \"37\", \"38\", \"39\", \"44\", \"45\"], \"mode\": \"lines\", \"name\": \"precision_score_micro_max\", \"stepped\": true, \"type\": \"scatter\", \"data\": [0.970277514481306, 0.970277514481306, 0.970277514481306, 0.970277514481306, 0.970277514481306, 0.970277514481306, 0.970277514481306, 0.970277514481306, 0.970277514481306, 0.970277514481306, 0.970277514481306, 0.970277514481306, 0.970277514481306, 0.970277514481306, 0.970277514481306, 0.970277514481306, 0.970277514481306, 0.970277514481306, 0.970277514481306, 0.970277514481306, 0.970277514481306, 0.970277514481306, 0.970277514481306, 0.970277514481306, 0.970277514481306, 0.9717586156456615, 0.9717586156456615, 0.9717586156456615, 0.9717586156456615, 0.9717586156456615, 0.9717586156456615, 0.9717586156456615, 0.9717586156456615, 0.9717586156456615, 0.9717586156456615, 0.9717586156456615, 0.9717586156456615, 0.9717586156456615, 0.9717586156456615, 0.9717586156456615, 0.9725487098472879, 0.9725487098472879]}], \"f1_score_macro\": [{\"categories\": [\"0\", \"1\", \"2\", \"3\", \"4\", \"5\", \"6\", \"7\", \"8\", \"9\", \"10\", \"11\", \"12\", \"13\", \"14\", \"15\", \"16\", \"17\", \"18\", \"19\", \"20\", \"21\", \"22\", \"23\", \"24\", \"25\", \"26\", \"27\", \"28\", \"29\", \"30\", \"31\", \"32\", \"33\", \"34\", \"35\", \"36\", \"37\", \"38\", \"39\", \"44\", \"45\"], \"mode\": \"markers\", \"name\": \"f1_score_macro\", \"stepped\": false, \"type\": \"scatter\", \"data\": [0.9438789775950266, 0.9239178652931188, 0.6113332478204282, 0.460292026317286, 0.7814053443975876, 0.6996806368186358, 0.9297846997386019, 0.9161829973465331, 0.9342472880587831, 0.9259199835551696, 0.8982404817937656, 0.760299909118174, 0.9343203094908136, 0.6820487743604681, 0.4563207068950976, 0.7614089688312052, 0.8192116177251519, 0.8180677969756337, 0.8207080025711244, 0.8223543761055057, 0.9028813507778896, 0.6257343381588537, 0.9417188330471827, 0.9226066690445274, 0.4563207068950976, 0.9464577495426152, 0.9409245085280742, 0.9376750541805267, 0.9354440235076414, 0.7534936081494471, 0.4563207068950976, 0.784955847763421, 0.9323743161641431, 0.9213745883654751, 0.9392646543064496, 0.8913735212614369, 0.7860626191679293, 0.7870394048021015, 0.9174480832648588, 0.9344230523994342, 0.9480740320994143, 0.9472796509255806]}, {\"categories\": [\"0\", \"1\", \"2\", \"3\", \"4\", \"5\", \"6\", \"7\", \"8\", \"9\", \"10\", \"11\", \"12\", \"13\", \"14\", \"15\", \"16\", \"17\", \"18\", \"19\", \"20\", \"21\", \"22\", \"23\", \"24\", \"25\", \"26\", \"27\", \"28\", \"29\", \"30\", \"31\", \"32\", \"33\", \"34\", \"35\", \"36\", \"37\", \"38\", \"39\", \"44\", \"45\"], \"mode\": \"lines\", \"name\": \"f1_score_macro_max\", \"stepped\": true, \"type\": \"scatter\", \"data\": [0.9438789775950266, 0.9438789775950266, 0.9438789775950266, 0.9438789775950266, 0.9438789775950266, 0.9438789775950266, 0.9438789775950266, 0.9438789775950266, 0.9438789775950266, 0.9438789775950266, 0.9438789775950266, 0.9438789775950266, 0.9438789775950266, 0.9438789775950266, 0.9438789775950266, 0.9438789775950266, 0.9438789775950266, 0.9438789775950266, 0.9438789775950266, 0.9438789775950266, 0.9438789775950266, 0.9438789775950266, 0.9438789775950266, 0.9438789775950266, 0.9438789775950266, 0.9464577495426152, 0.9464577495426152, 0.9464577495426152, 0.9464577495426152, 0.9464577495426152, 0.9464577495426152, 0.9464577495426152, 0.9464577495426152, 0.9464577495426152, 0.9464577495426152, 0.9464577495426152, 0.9464577495426152, 0.9464577495426152, 0.9464577495426152, 0.9464577495426152, 0.9480740320994143, 0.9480740320994143]}], \"average_precision_score_macro\": [{\"categories\": [\"0\", \"1\", \"2\", \"3\", \"4\", \"5\", \"6\", \"7\", \"8\", \"9\", \"10\", \"11\", \"12\", \"13\", \"14\", \"15\", \"16\", \"17\", \"18\", \"19\", \"20\", \"21\", \"22\", \"23\", \"24\", \"25\", \"26\", \"27\", \"28\", \"29\", \"30\", \"31\", \"32\", \"33\", \"34\", \"35\", \"36\", \"37\", \"38\", \"39\", \"44\", \"45\"], \"mode\": \"markers\", \"name\": \"average_precision_score_macro\", \"stepped\": false, \"type\": \"scatter\", \"data\": [0.9831183543700662, 0.9751955570154397, 0.8708831036285218, 0.8331676021858384, 0.8663428661171411, 0.8131982183283138, 0.979342958002252, 0.9675852851349962, 0.9793186882066666, 0.9761802324811706, 0.9568809937330207, 0.890549490013627, 0.9795765421868117, 0.8421195206209068, 0.8276571244201278, 0.893638180396489, 0.8831179239005564, 0.8810787240239076, 0.882296962348081, 0.8834751287042906, 0.9587287065084801, 0.8516323567792835, 0.982935592844686, 0.9750491519375438, 0.859075952867656, 0.9832757404496072, 0.9812337810847782, 0.9808325359470244, 0.9800755624753789, 0.8128785690788122, 0.5, 0.9091501910489049, 0.9793905246986716, 0.9722366631925344, 0.9816105071753105, 0.9423501300030367, 0.8779436511784843, 0.8779457525912259, 0.9697622405713134, 0.979082610953549, 0.982941145467349, 0.9823287083402761]}, {\"categories\": [\"0\", \"1\", \"2\", \"3\", \"4\", \"5\", \"6\", \"7\", \"8\", \"9\", \"10\", \"11\", \"12\", \"13\", \"14\", \"15\", \"16\", \"17\", \"18\", \"19\", \"20\", \"21\", \"22\", \"23\", \"24\", \"25\", \"26\", \"27\", \"28\", \"29\", \"30\", \"31\", \"32\", \"33\", \"34\", \"35\", \"36\", \"37\", \"38\", \"39\", \"44\", \"45\"], \"mode\": \"lines\", \"name\": \"average_precision_score_macro_max\", \"stepped\": true, \"type\": \"scatter\", \"data\": [0.9831183543700662, 0.9831183543700662, 0.9831183543700662, 0.9831183543700662, 0.9831183543700662, 0.9831183543700662, 0.9831183543700662, 0.9831183543700662, 0.9831183543700662, 0.9831183543700662, 0.9831183543700662, 0.9831183543700662, 0.9831183543700662, 0.9831183543700662, 0.9831183543700662, 0.9831183543700662, 0.9831183543700662, 0.9831183543700662, 0.9831183543700662, 0.9831183543700662, 0.9831183543700662, 0.9831183543700662, 0.9831183543700662, 0.9831183543700662, 0.9831183543700662, 0.9832757404496072, 0.9832757404496072, 0.9832757404496072, 0.9832757404496072, 0.9832757404496072, 0.9832757404496072, 0.9832757404496072, 0.9832757404496072, 0.9832757404496072, 0.9832757404496072, 0.9832757404496072, 0.9832757404496072, 0.9832757404496072, 0.9832757404496072, 0.9832757404496072, 0.9832757404496072, 0.9832757404496072]}], \"matthews_correlation\": [{\"categories\": [\"0\", \"1\", \"2\", \"3\", \"4\", \"5\", \"6\", \"7\", \"8\", \"9\", \"10\", \"11\", \"12\", \"13\", \"14\", \"15\", \"16\", \"17\", \"18\", \"19\", \"20\", \"21\", \"22\", \"23\", \"24\", \"25\", \"26\", \"27\", \"28\", \"29\", \"30\", \"31\", \"32\", \"33\", \"34\", \"35\", \"36\", \"37\", \"38\", \"39\", \"44\", \"45\"], \"mode\": \"markers\", \"name\": \"matthews_correlation\", \"stepped\": false, \"type\": \"scatter\", \"data\": [0.8881505492031952, 0.8501561608905858, 0.37520885898985695, 0.033075104588632935, 0.5914737841376095, 0.46995729555702476, 0.8614257139344593, 0.8337948749050489, 0.8698703971448537, 0.8538834620700224, 0.7996639485719598, 0.5549711291023353, 0.8694862174850644, 0.45728122015720735, 0.0, 0.5719743188883886, 0.646774764160054, 0.6445860587546867, 0.648769875099351, 0.6491447791979178, 0.8068998992200677, 0.385060165282704, 0.883975779397102, 0.8486577895098991, 0.0, 0.8934723666826399, 0.8827820962574121, 0.8763186033025154, 0.8718096347426272, 0.5312780712258419, 0.0, 0.6096112900211383, 0.8657321234626122, 0.8456535509392835, 0.8796094493771279, 0.7849560574593255, 0.5993404079688716, 0.6014497947667038, 0.8372485418633429, 0.8704396382814908, 0.8965872177303864, 0.8950619210330043]}, {\"categories\": [\"0\", \"1\", \"2\", \"3\", \"4\", \"5\", \"6\", \"7\", \"8\", \"9\", \"10\", \"11\", \"12\", \"13\", \"14\", \"15\", \"16\", \"17\", \"18\", \"19\", \"20\", \"21\", \"22\", \"23\", \"24\", \"25\", \"26\", \"27\", \"28\", \"29\", \"30\", \"31\", \"32\", \"33\", \"34\", \"35\", \"36\", \"37\", \"38\", \"39\", \"44\", \"45\"], \"mode\": \"lines\", \"name\": \"matthews_correlation_max\", \"stepped\": true, \"type\": \"scatter\", \"data\": [0.8881505492031952, 0.8881505492031952, 0.8881505492031952, 0.8881505492031952, 0.8881505492031952, 0.8881505492031952, 0.8881505492031952, 0.8881505492031952, 0.8881505492031952, 0.8881505492031952, 0.8881505492031952, 0.8881505492031952, 0.8881505492031952, 0.8881505492031952, 0.8881505492031952, 0.8881505492031952, 0.8881505492031952, 0.8881505492031952, 0.8881505492031952, 0.8881505492031952, 0.8881505492031952, 0.8881505492031952, 0.8881505492031952, 0.8881505492031952, 0.8881505492031952, 0.8934723666826399, 0.8934723666826399, 0.8934723666826399, 0.8934723666826399, 0.8934723666826399, 0.8934723666826399, 0.8934723666826399, 0.8934723666826399, 0.8934723666826399, 0.8934723666826399, 0.8934723666826399, 0.8934723666826399, 0.8934723666826399, 0.8934723666826399, 0.8934723666826399, 0.8965872177303864, 0.8965872177303864]}], \"norm_macro_recall\": [{\"categories\": [\"0\", \"1\", \"2\", \"3\", \"4\", \"5\", \"6\", \"7\", \"8\", \"9\", \"10\", \"11\", \"12\", \"13\", \"14\", \"15\", \"16\", \"17\", \"18\", \"19\", \"20\", \"21\", \"22\", \"23\", \"24\", \"25\", \"26\", \"27\", \"28\", \"29\", \"30\", \"31\", \"32\", \"33\", \"34\", \"35\", \"36\", \"37\", \"38\", \"39\", \"44\", \"45\"], \"mode\": \"markers\", \"name\": \"norm_macro_recall\", \"stepped\": false, \"type\": \"scatter\", \"data\": [0.8724442866743587, 0.8089391632006553, 0.17707694068158908, 0.0038684719535783487, 0.6998261639697686, 0.6016405523568865, 0.8241820974927765, 0.8027873471921744, 0.8376776080693684, 0.8151863559563953, 0.7557359232281552, 0.43552530782997034, 0.8441884858748212, 0.2799194453679439, 0.0, 0.4226925831343831, 0.5805699136050421, 0.5783582780271511, 0.5866681612810434, 0.6007590641481177, 0.7791486183676671, 0.19622240664783405, 0.8641197143480657, 0.7984922700184062, 0.0, 0.8737020522258699, 0.8564707826388148, 0.8494916851209234, 0.8455889381330763, 0.43195119634532914, 0.0, 0.46958124177732125, 0.8392890627517785, 0.7998783939973836, 0.8510650821996855, 0.750562343076163, 0.7059141528583718, 0.7085610310691463, 0.7959785949679935, 0.8376361783439187, 0.8795425942421277, 0.8771401382231597]}, {\"categories\": [\"0\", \"1\", \"2\", \"3\", \"4\", \"5\", \"6\", \"7\", \"8\", \"9\", \"10\", \"11\", \"12\", \"13\", \"14\", \"15\", \"16\", \"17\", \"18\", \"19\", \"20\", \"21\", \"22\", \"23\", \"24\", \"25\", \"26\", \"27\", \"28\", \"29\", \"30\", \"31\", \"32\", \"33\", \"34\", \"35\", \"36\", \"37\", \"38\", \"39\", \"44\", \"45\"], \"mode\": \"lines\", \"name\": \"norm_macro_recall_max\", \"stepped\": true, \"type\": \"scatter\", \"data\": [0.8724442866743587, 0.8724442866743587, 0.8724442866743587, 0.8724442866743587, 0.8724442866743587, 0.8724442866743587, 0.8724442866743587, 0.8724442866743587, 0.8724442866743587, 0.8724442866743587, 0.8724442866743587, 0.8724442866743587, 0.8724442866743587, 0.8724442866743587, 0.8724442866743587, 0.8724442866743587, 0.8724442866743587, 0.8724442866743587, 0.8724442866743587, 0.8724442866743587, 0.8724442866743587, 0.8724442866743587, 0.8724442866743587, 0.8724442866743587, 0.8724442866743587, 0.8737020522258699, 0.8737020522258699, 0.8737020522258699, 0.8737020522258699, 0.8737020522258699, 0.8737020522258699, 0.8737020522258699, 0.8737020522258699, 0.8737020522258699, 0.8737020522258699, 0.8737020522258699, 0.8737020522258699, 0.8737020522258699, 0.8737020522258699, 0.8737020522258699, 0.8795425942421277, 0.8795425942421277]}], \"recall_score_macro\": [{\"categories\": [\"0\", \"1\", \"2\", \"3\", \"4\", \"5\", \"6\", \"7\", \"8\", \"9\", \"10\", \"11\", \"12\", \"13\", \"14\", \"15\", \"16\", \"17\", \"18\", \"19\", \"20\", \"21\", \"22\", \"23\", \"24\", \"25\", \"26\", \"27\", \"28\", \"29\", \"30\", \"31\", \"32\", \"33\", \"34\", \"35\", \"36\", \"37\", \"38\", \"39\", \"44\", \"45\"], \"mode\": \"markers\", \"name\": \"recall_score_macro\", \"stepped\": false, \"type\": \"scatter\", \"data\": [0.9362221433371793, 0.9044695816003276, 0.5885384703407945, 0.5019342359767892, 0.8499130819848842, 0.8008202761784432, 0.9120910487463881, 0.9013936735960871, 0.9188388040346842, 0.9075931779781977, 0.8778679616140778, 0.7177626539149852, 0.9220942429374106, 0.6399597226839719, 0.5, 0.7113462915671915, 0.7902849568025211, 0.7891791390135756, 0.7933340806405217, 0.8003795320740589, 0.8895743091838336, 0.5981112033239171, 0.9320598571740328, 0.899246135009203, 0.5, 0.9368510261129349, 0.9282353913194074, 0.9247458425604617, 0.9227944690665382, 0.7159755981726645, 0.5, 0.7347906208886607, 0.9196445313758893, 0.8999391969986918, 0.9255325410998427, 0.8752811715380814, 0.852957076429186, 0.8542805155345731, 0.8979892974839968, 0.9188180891719594, 0.9397712971210638, 0.9385700691115799]}, {\"categories\": [\"0\", \"1\", \"2\", \"3\", \"4\", \"5\", \"6\", \"7\", \"8\", \"9\", \"10\", \"11\", \"12\", \"13\", \"14\", \"15\", \"16\", \"17\", \"18\", \"19\", \"20\", \"21\", \"22\", \"23\", \"24\", \"25\", \"26\", \"27\", \"28\", \"29\", \"30\", \"31\", \"32\", \"33\", \"34\", \"35\", \"36\", \"37\", \"38\", \"39\", \"44\", \"45\"], \"mode\": \"lines\", \"name\": \"recall_score_macro_max\", \"stepped\": true, \"type\": \"scatter\", \"data\": [0.9362221433371793, 0.9362221433371793, 0.9362221433371793, 0.9362221433371793, 0.9362221433371793, 0.9362221433371793, 0.9362221433371793, 0.9362221433371793, 0.9362221433371793, 0.9362221433371793, 0.9362221433371793, 0.9362221433371793, 0.9362221433371793, 0.9362221433371793, 0.9362221433371793, 0.9362221433371793, 0.9362221433371793, 0.9362221433371793, 0.9362221433371793, 0.9362221433371793, 0.9362221433371793, 0.9362221433371793, 0.9362221433371793, 0.9362221433371793, 0.9362221433371793, 0.9368510261129349, 0.9368510261129349, 0.9368510261129349, 0.9368510261129349, 0.9368510261129349, 0.9368510261129349, 0.9368510261129349, 0.9368510261129349, 0.9368510261129349, 0.9368510261129349, 0.9368510261129349, 0.9368510261129349, 0.9368510261129349, 0.9368510261129349, 0.9368510261129349, 0.9397712971210638, 0.9397712971210638]}], \"average_precision_score_weighted\": [{\"categories\": [\"0\", \"1\", \"2\", \"3\", \"4\", \"5\", \"6\", \"7\", \"8\", \"9\", \"10\", \"11\", \"12\", \"13\", \"14\", \"15\", \"16\", \"17\", \"18\", \"19\", \"20\", \"21\", \"22\", \"23\", \"24\", \"25\", \"26\", \"27\", \"28\", \"29\", \"30\", \"31\", \"32\", \"33\", \"34\", \"35\", \"36\", \"37\", \"38\", \"39\", \"44\", \"45\"], \"mode\": \"markers\", \"name\": \"average_precision_score_weighted\", \"stepped\": false, \"type\": \"scatter\", \"data\": [0.9934895229147904, 0.9905301873430603, 0.9462950145790296, 0.9319691130189575, 0.9457559822102019, 0.9227112818848163, 0.9921124178674737, 0.9873774256889515, 0.9921001421822995, 0.990908562981799, 0.9830531197628777, 0.9580449603187361, 0.9922380999082357, 0.9362684055678724, 0.9291726987188097, 0.9589220533995296, 0.9516907536166589, 0.9504659098464652, 0.9513262693452763, 0.9522743750146345, 0.9844957248125917, 0.9400170327152756, 0.9933693092178939, 0.9904072963238112, 0.9427351321959468, 0.9935952117768382, 0.9928007439570087, 0.9926472986547031, 0.9923703262924205, 0.9180169572832203, 0.7303764405786032, 0.9647953070303427, 0.992065537969557, 0.9892871023146709, 0.9929963082610217, 0.9754723840536003, 0.950994433520329, 0.9509913487960899, 0.9884633893531557, 0.9920124906404405, 0.9934139121535734, 0.9931385936067035]}, {\"categories\": [\"0\", \"1\", \"2\", \"3\", \"4\", \"5\", \"6\", \"7\", \"8\", \"9\", \"10\", \"11\", \"12\", \"13\", \"14\", \"15\", \"16\", \"17\", \"18\", \"19\", \"20\", \"21\", \"22\", \"23\", \"24\", \"25\", \"26\", \"27\", \"28\", \"29\", \"30\", \"31\", \"32\", \"33\", \"34\", \"35\", \"36\", \"37\", \"38\", \"39\", \"44\", \"45\"], \"mode\": \"lines\", \"name\": \"average_precision_score_weighted_max\", \"stepped\": true, \"type\": \"scatter\", \"data\": [0.9934895229147904, 0.9934895229147904, 0.9934895229147904, 0.9934895229147904, 0.9934895229147904, 0.9934895229147904, 0.9934895229147904, 0.9934895229147904, 0.9934895229147904, 0.9934895229147904, 0.9934895229147904, 0.9934895229147904, 0.9934895229147904, 0.9934895229147904, 0.9934895229147904, 0.9934895229147904, 0.9934895229147904, 0.9934895229147904, 0.9934895229147904, 0.9934895229147904, 0.9934895229147904, 0.9934895229147904, 0.9934895229147904, 0.9934895229147904, 0.9934895229147904, 0.9935952117768382, 0.9935952117768382, 0.9935952117768382, 0.9935952117768382, 0.9935952117768382, 0.9935952117768382, 0.9935952117768382, 0.9935952117768382, 0.9935952117768382, 0.9935952117768382, 0.9935952117768382, 0.9935952117768382, 0.9935952117768382, 0.9935952117768382, 0.9935952117768382, 0.9935952117768382, 0.9935952117768382]}], \"accuracy\": [{\"categories\": [\"0\", \"1\", \"2\", \"3\", \"4\", \"5\", \"6\", \"7\", \"8\", \"9\", \"10\", \"11\", \"12\", \"13\", \"14\", \"15\", \"16\", \"17\", \"18\", \"19\", \"20\", \"21\", \"22\", \"23\", \"24\", \"25\", \"26\", \"27\", \"28\", \"29\", \"30\", \"31\", \"32\", \"33\", \"34\", \"35\", \"36\", \"37\", \"38\", \"39\", \"44\", \"45\"], \"mode\": \"markers\", \"name\": \"accuracy\", \"stepped\": false, \"type\": \"scatter\", \"data\": [0.970277514481306, 0.960896641507226, 0.86659364577848, 0.8399320695102684, 0.8568188812825462, 0.7777221637118951, 0.9637604587209644, 0.9564530162073606, 0.9658339476917676, 0.9617852085893159, 0.9480597390439413, 0.8942434907261131, 0.9656366508688783, 0.878443274237903, 0.8393396524486572, 0.8989825931776959, 0.9117207594640453, 0.9112273711310047, 0.9119184658592241, 0.9109307822830729, 0.9494421917968522, 0.8676797144696039, 0.9692900942016266, 0.9606002574454391, 0.8393396524486572, 0.9717586156456615, 0.9690925340822655, 0.9674138435433854, 0.9662289216546721, 0.8888122988707506, 0.8393396524486572, 0.9066853899713299, 0.9646490258030541, 0.9598103972851207, 0.9683025276461296, 0.9439121759990639, 0.8606694459072025, 0.8612620384997952, 0.9576381428822187, 0.9659325375928852, 0.9725487098472879, 0.9721537066292201]}, {\"categories\": [\"0\", \"1\", \"2\", \"3\", \"4\", \"5\", \"6\", \"7\", \"8\", \"9\", \"10\", \"11\", \"12\", \"13\", \"14\", \"15\", \"16\", \"17\", \"18\", \"19\", \"20\", \"21\", \"22\", \"23\", \"24\", \"25\", \"26\", \"27\", \"28\", \"29\", \"30\", \"31\", \"32\", \"33\", \"34\", \"35\", \"36\", \"37\", \"38\", \"39\", \"44\", \"45\"], \"mode\": \"lines\", \"name\": \"accuracy_max\", \"stepped\": true, \"type\": \"scatter\", \"data\": [0.970277514481306, 0.970277514481306, 0.970277514481306, 0.970277514481306, 0.970277514481306, 0.970277514481306, 0.970277514481306, 0.970277514481306, 0.970277514481306, 0.970277514481306, 0.970277514481306, 0.970277514481306, 0.970277514481306, 0.970277514481306, 0.970277514481306, 0.970277514481306, 0.970277514481306, 0.970277514481306, 0.970277514481306, 0.970277514481306, 0.970277514481306, 0.970277514481306, 0.970277514481306, 0.970277514481306, 0.970277514481306, 0.9717586156456615, 0.9717586156456615, 0.9717586156456615, 0.9717586156456615, 0.9717586156456615, 0.9717586156456615, 0.9717586156456615, 0.9717586156456615, 0.9717586156456615, 0.9717586156456615, 0.9717586156456615, 0.9717586156456615, 0.9717586156456615, 0.9717586156456615, 0.9717586156456615, 0.9725487098472879, 0.9725487098472879]}], \"weighted_accuracy\": [{\"categories\": [\"0\", \"1\", \"2\", \"3\", \"4\", \"5\", \"6\", \"7\", \"8\", \"9\", \"10\", \"11\", \"12\", \"13\", \"14\", \"15\", \"16\", \"17\", \"18\", \"19\", \"20\", \"21\", \"22\", \"23\", \"24\", \"25\", \"26\", \"27\", \"28\", \"29\", \"30\", \"31\", \"32\", \"33\", \"34\", \"35\", \"36\", \"37\", \"38\", \"39\", \"44\", \"45\"], \"mode\": \"markers\", \"name\": \"weighted_accuracy\", \"stepped\": false, \"type\": \"scatter\", \"data\": [0.9828924359185723, 0.9817413110655648, 0.969067405169962, 0.9646971662598057, 0.8593162324058151, 0.7690356870624299, 0.982844458898823, 0.9768199524761192, 0.9832029916397006, 0.9818396415564229, 0.9740513146720519, 0.9595356280627082, 0.9817030959833138, 0.966571553875176, 0.9645746713923881, 0.9682769879946975, 0.9565843908124944, 0.9563068358537358, 0.9557196325156466, 0.9517391333280271, 0.9715315432389859, 0.9673745075129782, 0.9830494426422112, 0.9833154228736315, 0.9645746713923881, 0.9846859689095216, 0.9841973591210466, 0.9831844597920268, 0.9822813987232945, 0.9525793326285266, 0.9645746713923881, 0.9700262119609615, 0.9812922989346696, 0.9819577809220994, 0.9841140396226905, 0.9693663108887147, 0.8636243067920036, 0.8639424978020367, 0.9796596649857641, 0.9833894639619416, 0.9846831411414669, 0.984594166005269]}, {\"categories\": [\"0\", \"1\", \"2\", \"3\", \"4\", \"5\", \"6\", \"7\", \"8\", \"9\", \"10\", \"11\", \"12\", \"13\", \"14\", \"15\", \"16\", \"17\", \"18\", \"19\", \"20\", \"21\", \"22\", \"23\", \"24\", \"25\", \"26\", \"27\", \"28\", \"29\", \"30\", \"31\", \"32\", \"33\", \"34\", \"35\", \"36\", \"37\", \"38\", \"39\", \"44\", \"45\"], \"mode\": \"lines\", \"name\": \"weighted_accuracy_max\", \"stepped\": true, \"type\": \"scatter\", \"data\": [0.9828924359185723, 0.9828924359185723, 0.9828924359185723, 0.9828924359185723, 0.9828924359185723, 0.9828924359185723, 0.9828924359185723, 0.9828924359185723, 0.9832029916397006, 0.9832029916397006, 0.9832029916397006, 0.9832029916397006, 0.9832029916397006, 0.9832029916397006, 0.9832029916397006, 0.9832029916397006, 0.9832029916397006, 0.9832029916397006, 0.9832029916397006, 0.9832029916397006, 0.9832029916397006, 0.9832029916397006, 0.9832029916397006, 0.9833154228736315, 0.9833154228736315, 0.9846859689095216, 0.9846859689095216, 0.9846859689095216, 0.9846859689095216, 0.9846859689095216, 0.9846859689095216, 0.9846859689095216, 0.9846859689095216, 0.9846859689095216, 0.9846859689095216, 0.9846859689095216, 0.9846859689095216, 0.9846859689095216, 0.9846859689095216, 0.9846859689095216, 0.9846859689095216, 0.9846859689095216]}], \"f1_score_micro\": [{\"categories\": [\"0\", \"1\", \"2\", \"3\", \"4\", \"5\", \"6\", \"7\", \"8\", \"9\", \"10\", \"11\", \"12\", \"13\", \"14\", \"15\", \"16\", \"17\", \"18\", \"19\", \"20\", \"21\", \"22\", \"23\", \"24\", \"25\", \"26\", \"27\", \"28\", \"29\", \"30\", \"31\", \"32\", \"33\", \"34\", \"35\", \"36\", \"37\", \"38\", \"39\", \"44\", \"45\"], \"mode\": \"markers\", \"name\": \"f1_score_micro\", \"stepped\": false, \"type\": \"scatter\", \"data\": [0.970277514481306, 0.960896641507226, 0.86659364577848, 0.8399320695102687, 0.8568188812825465, 0.7777221637118953, 0.9637604587209644, 0.9564530162073606, 0.9658339476917676, 0.9617852085893159, 0.9480597390439413, 0.8942434907261131, 0.9656366508688783, 0.878443274237903, 0.8393396524486572, 0.8989825931776959, 0.9117207594640454, 0.9112273711310047, 0.9119184658592242, 0.910930782283073, 0.9494421917968522, 0.8676797144696039, 0.9692900942016266, 0.9606002574454391, 0.8393396524486572, 0.9717586156456615, 0.9690925340822655, 0.9674138435433854, 0.9662289216546721, 0.8888122988707506, 0.8393396524486572, 0.9066853899713299, 0.9646490258030541, 0.9598103972851207, 0.9683025276461296, 0.9439121759990639, 0.8606694459072025, 0.8612620384997952, 0.9576381428822187, 0.9659325375928852, 0.9725487098472879, 0.9721537066292201]}, {\"categories\": [\"0\", \"1\", \"2\", \"3\", \"4\", \"5\", \"6\", \"7\", \"8\", \"9\", \"10\", \"11\", \"12\", \"13\", \"14\", \"15\", \"16\", \"17\", \"18\", \"19\", \"20\", \"21\", \"22\", \"23\", \"24\", \"25\", \"26\", \"27\", \"28\", \"29\", \"30\", \"31\", \"32\", \"33\", \"34\", \"35\", \"36\", \"37\", \"38\", \"39\", \"44\", \"45\"], \"mode\": \"lines\", \"name\": \"f1_score_micro_max\", \"stepped\": true, \"type\": \"scatter\", \"data\": [0.970277514481306, 0.970277514481306, 0.970277514481306, 0.970277514481306, 0.970277514481306, 0.970277514481306, 0.970277514481306, 0.970277514481306, 0.970277514481306, 0.970277514481306, 0.970277514481306, 0.970277514481306, 0.970277514481306, 0.970277514481306, 0.970277514481306, 0.970277514481306, 0.970277514481306, 0.970277514481306, 0.970277514481306, 0.970277514481306, 0.970277514481306, 0.970277514481306, 0.970277514481306, 0.970277514481306, 0.970277514481306, 0.9717586156456615, 0.9717586156456615, 0.9717586156456615, 0.9717586156456615, 0.9717586156456615, 0.9717586156456615, 0.9717586156456615, 0.9717586156456615, 0.9717586156456615, 0.9717586156456615, 0.9717586156456615, 0.9717586156456615, 0.9717586156456615, 0.9717586156456615, 0.9717586156456615, 0.9725487098472879, 0.9725487098472879]}], \"precision_score_weighted\": [{\"categories\": [\"0\", \"1\", \"2\", \"3\", \"4\", \"5\", \"6\", \"7\", \"8\", \"9\", \"10\", \"11\", \"12\", \"13\", \"14\", \"15\", \"16\", \"17\", \"18\", \"19\", \"20\", \"21\", \"22\", \"23\", \"24\", \"25\", \"26\", \"27\", \"28\", \"29\", \"30\", \"31\", \"32\", \"33\", \"34\", \"35\", \"36\", \"37\", \"38\", \"39\", \"44\", \"45\"], \"mode\": \"markers\", \"name\": \"precision_score_weighted\", \"stepped\": false, \"type\": \"scatter\", \"data\": [0.9699451274571462, 0.9601732636303515, 0.8790718867467645, 0.7560000976856885, 0.8964343992434008, 0.8716653277657024, 0.9631680334158239, 0.9555694355219928, 0.9652925861925383, 0.9611113556679131, 0.9468360156628579, 0.8886318478046776, 0.9650871317117434, 0.8778825439783281, 0.7045278727379589, 0.8968743915795052, 0.9067384162856708, 0.9062511706981824, 0.9070801919409747, 0.9064412191274472, 0.948297804553226, 0.8721709825901724, 0.9688798110527793, 0.9600479036358728, 0.7045278727379589, 0.971421159828644, 0.9686638904058548, 0.9669233873122879, 0.965695590043491, 0.8794104694456788, 0.7045278727379589, 0.9048479112626474, 0.9640890544292687, 0.9591267787980629, 0.9678452579203398, 0.9425928849820039, 0.8981424609001372, 0.8987689701810875, 0.9567634163809239, 0.9654292913760498, 0.9722587881302784, 0.9718605023908605]}, {\"categories\": [\"0\", \"1\", \"2\", \"3\", \"4\", \"5\", \"6\", \"7\", \"8\", \"9\", \"10\", \"11\", \"12\", \"13\", \"14\", \"15\", \"16\", \"17\", \"18\", \"19\", \"20\", \"21\", \"22\", \"23\", \"24\", \"25\", \"26\", \"27\", \"28\", \"29\", \"30\", \"31\", \"32\", \"33\", \"34\", \"35\", \"36\", \"37\", \"38\", \"39\", \"44\", \"45\"], \"mode\": \"lines\", \"name\": \"precision_score_weighted_max\", \"stepped\": true, \"type\": \"scatter\", \"data\": [0.9699451274571462, 0.9699451274571462, 0.9699451274571462, 0.9699451274571462, 0.9699451274571462, 0.9699451274571462, 0.9699451274571462, 0.9699451274571462, 0.9699451274571462, 0.9699451274571462, 0.9699451274571462, 0.9699451274571462, 0.9699451274571462, 0.9699451274571462, 0.9699451274571462, 0.9699451274571462, 0.9699451274571462, 0.9699451274571462, 0.9699451274571462, 0.9699451274571462, 0.9699451274571462, 0.9699451274571462, 0.9699451274571462, 0.9699451274571462, 0.9699451274571462, 0.971421159828644, 0.971421159828644, 0.971421159828644, 0.971421159828644, 0.971421159828644, 0.971421159828644, 0.971421159828644, 0.971421159828644, 0.971421159828644, 0.971421159828644, 0.971421159828644, 0.971421159828644, 0.971421159828644, 0.971421159828644, 0.971421159828644, 0.9722587881302784, 0.9722587881302784]}], \"AUC_macro\": [{\"categories\": [\"0\", \"1\", \"2\", \"3\", \"4\", \"5\", \"6\", \"7\", \"8\", \"9\", \"10\", \"11\", \"12\", \"13\", \"14\", \"15\", \"16\", \"17\", \"18\", \"19\", \"20\", \"21\", \"22\", \"23\", \"24\", \"25\", \"26\", \"27\", \"28\", \"29\", \"30\", \"31\", \"32\", \"33\", \"34\", \"35\", \"36\", \"37\", \"38\", \"39\", \"44\", \"45\"], \"mode\": \"markers\", \"name\": \"AUC_macro\", \"stepped\": false, \"type\": \"scatter\", \"data\": [0.9922356433086973, 0.9889836211853323, 0.9217002483405037, 0.9035999034724972, 0.9250887636062365, 0.887601270783937, 0.990703112247029, 0.9841717147083563, 0.9907420239278665, 0.9892456401185284, 0.9780979573296591, 0.9495741060839187, 0.9911152666336567, 0.9123576731020316, 0.8993161746574184, 0.9494900141559427, 0.9308528557629376, 0.9280548237475124, 0.9301735027632908, 0.9324979824930467, 0.9826084349218019, 0.9178636739068254, 0.9923981305698554, 0.9886397529537314, 0.919005423913794, 0.9926667338233468, 0.9915387264651333, 0.9914559617066613, 0.991116668122555, 0.8876108058564505, 0.5, 0.9555687528039144, 0.9909107684946399, 0.9871843915539, 0.9918878141577968, 0.9660814778817484, 0.933411774164029, 0.9333970024799075, 0.9863653142185654, 0.9906855678403884, 0.9919520672639989, 0.991461221910941]}, {\"categories\": [\"0\", \"1\", \"2\", \"3\", \"4\", \"5\", \"6\", \"7\", \"8\", \"9\", \"10\", \"11\", \"12\", \"13\", \"14\", \"15\", \"16\", \"17\", \"18\", \"19\", \"20\", \"21\", \"22\", \"23\", \"24\", \"25\", \"26\", \"27\", \"28\", \"29\", \"30\", \"31\", \"32\", \"33\", \"34\", \"35\", \"36\", \"37\", \"38\", \"39\", \"44\", \"45\"], \"mode\": \"lines\", \"name\": \"AUC_macro_max\", \"stepped\": true, \"type\": \"scatter\", \"data\": [0.9922356433086973, 0.9922356433086973, 0.9922356433086973, 0.9922356433086973, 0.9922356433086973, 0.9922356433086973, 0.9922356433086973, 0.9922356433086973, 0.9922356433086973, 0.9922356433086973, 0.9922356433086973, 0.9922356433086973, 0.9922356433086973, 0.9922356433086973, 0.9922356433086973, 0.9922356433086973, 0.9922356433086973, 0.9922356433086973, 0.9922356433086973, 0.9922356433086973, 0.9922356433086973, 0.9922356433086973, 0.9923981305698554, 0.9923981305698554, 0.9923981305698554, 0.9926667338233468, 0.9926667338233468, 0.9926667338233468, 0.9926667338233468, 0.9926667338233468, 0.9926667338233468, 0.9926667338233468, 0.9926667338233468, 0.9926667338233468, 0.9926667338233468, 0.9926667338233468, 0.9926667338233468, 0.9926667338233468, 0.9926667338233468, 0.9926667338233468, 0.9926667338233468, 0.9926667338233468]}], \"AUC_micro\": [{\"categories\": [\"0\", \"1\", \"2\", \"3\", \"4\", \"5\", \"6\", \"7\", \"8\", \"9\", \"10\", \"11\", \"12\", \"13\", \"14\", \"15\", \"16\", \"17\", \"18\", \"19\", \"20\", \"21\", \"22\", \"23\", \"24\", \"25\", \"26\", \"27\", \"28\", \"29\", \"30\", \"31\", \"32\", \"33\", \"34\", \"35\", \"36\", \"37\", \"38\", \"39\", \"44\", \"45\"], \"mode\": \"markers\", \"name\": \"AUC_micro\", \"stepped\": false, \"type\": \"scatter\", \"data\": [0.9959725625403092, 0.9939952977760519, 0.9551323345584529, 0.948181046154732, 0.9298700704379326, 0.8802485090473967, 0.9949347711243207, 0.9919750391821666, 0.9950576220809758, 0.9941995337108221, 0.9888508419835954, 0.9690013480345999, 0.9952556094726499, 0.9537865619493827, 0.9469887488227299, 0.9682661986596015, 0.9691023407029976, 0.9682333398833576, 0.9688736422849579, 0.9694754698546979, 0.990874311044727, 0.953898303648293, 0.9960251055920143, 0.9934446210527829, 0.9523102431182889, 0.9961338918779249, 0.9955743833926385, 0.9954732283409548, 0.9953221876430938, 0.9501034484973631, 0.8393396524486572, 0.9741294574181056, 0.9951920659741246, 0.9931237114515925, 0.995675353648405, 0.9844486219462131, 0.9360451092145349, 0.9361030647144064, 0.9926809098053372, 0.9948876593713162, 0.9958453976190415, 0.9955888297368997]}, {\"categories\": [\"0\", \"1\", \"2\", \"3\", \"4\", \"5\", \"6\", \"7\", \"8\", \"9\", \"10\", \"11\", \"12\", \"13\", \"14\", \"15\", \"16\", \"17\", \"18\", \"19\", \"20\", \"21\", \"22\", \"23\", \"24\", \"25\", \"26\", \"27\", \"28\", \"29\", \"30\", \"31\", \"32\", \"33\", \"34\", \"35\", \"36\", \"37\", \"38\", \"39\", \"44\", \"45\"], \"mode\": \"lines\", \"name\": \"AUC_micro_max\", \"stepped\": true, \"type\": \"scatter\", \"data\": [0.9959725625403092, 0.9959725625403092, 0.9959725625403092, 0.9959725625403092, 0.9959725625403092, 0.9959725625403092, 0.9959725625403092, 0.9959725625403092, 0.9959725625403092, 0.9959725625403092, 0.9959725625403092, 0.9959725625403092, 0.9959725625403092, 0.9959725625403092, 0.9959725625403092, 0.9959725625403092, 0.9959725625403092, 0.9959725625403092, 0.9959725625403092, 0.9959725625403092, 0.9959725625403092, 0.9959725625403092, 0.9960251055920143, 0.9960251055920143, 0.9960251055920143, 0.9961338918779249, 0.9961338918779249, 0.9961338918779249, 0.9961338918779249, 0.9961338918779249, 0.9961338918779249, 0.9961338918779249, 0.9961338918779249, 0.9961338918779249, 0.9961338918779249, 0.9961338918779249, 0.9961338918779249, 0.9961338918779249, 0.9961338918779249, 0.9961338918779249, 0.9961338918779249, 0.9961338918779249]}], \"average_precision_score_micro\": [{\"categories\": [\"0\", \"1\", \"2\", \"3\", \"4\", \"5\", \"6\", \"7\", \"8\", \"9\", \"10\", \"11\", \"12\", \"13\", \"14\", \"15\", \"16\", \"17\", \"18\", \"19\", \"20\", \"21\", \"22\", \"23\", \"24\", \"25\", \"26\", \"27\", \"28\", \"29\", \"30\", \"31\", \"32\", \"33\", \"34\", \"35\", \"36\", \"37\", \"38\", \"39\", \"44\", \"45\"], \"mode\": \"markers\", \"name\": \"average_precision_score_micro\", \"stepped\": false, \"type\": \"scatter\", \"data\": [0.9960214813421931, 0.9941232720270942, 0.9560212173462089, 0.9497568289737246, 0.93050785560041, 0.8855864466159797, 0.9950430686111108, 0.9921327325034874, 0.9951438767193651, 0.9943429868817891, 0.9890265859395648, 0.9703383262996765, 0.9953241471292559, 0.9551200436624939, 0.9482700389914497, 0.9696675075317525, 0.9691202983105235, 0.9681543700906415, 0.9689259286592063, 0.9697291832162024, 0.9911412850226076, 0.9552508184031357, 0.9959671340837174, 0.99355451982727, 0.9541573577051473, 0.9961648607634294, 0.9956220797743859, 0.9954992076091362, 0.9953688145916426, 0.9439461888569537, 0.7848580465136304, 0.9750044033516789, 0.9951709732226398, 0.9932147136884986, 0.9957571423741207, 0.9833521935151786, 0.9361711987809422, 0.9362197314590386, 0.9928741658212642, 0.9949897663862218, 0.9959273803071311, 0.9956722225401338]}, {\"categories\": [\"0\", \"1\", \"2\", \"3\", \"4\", \"5\", \"6\", \"7\", \"8\", \"9\", \"10\", \"11\", \"12\", \"13\", \"14\", \"15\", \"16\", \"17\", \"18\", \"19\", \"20\", \"21\", \"22\", \"23\", \"24\", \"25\", \"26\", \"27\", \"28\", \"29\", \"30\", \"31\", \"32\", \"33\", \"34\", \"35\", \"36\", \"37\", \"38\", \"39\", \"44\", \"45\"], \"mode\": \"lines\", \"name\": \"average_precision_score_micro_max\", \"stepped\": true, \"type\": \"scatter\", \"data\": [0.9960214813421931, 0.9960214813421931, 0.9960214813421931, 0.9960214813421931, 0.9960214813421931, 0.9960214813421931, 0.9960214813421931, 0.9960214813421931, 0.9960214813421931, 0.9960214813421931, 0.9960214813421931, 0.9960214813421931, 0.9960214813421931, 0.9960214813421931, 0.9960214813421931, 0.9960214813421931, 0.9960214813421931, 0.9960214813421931, 0.9960214813421931, 0.9960214813421931, 0.9960214813421931, 0.9960214813421931, 0.9960214813421931, 0.9960214813421931, 0.9960214813421931, 0.9961648607634294, 0.9961648607634294, 0.9961648607634294, 0.9961648607634294, 0.9961648607634294, 0.9961648607634294, 0.9961648607634294, 0.9961648607634294, 0.9961648607634294, 0.9961648607634294, 0.9961648607634294, 0.9961648607634294, 0.9961648607634294, 0.9961648607634294, 0.9961648607634294, 0.9961648607634294, 0.9961648607634294]}], \"log_loss\": [{\"categories\": [\"0\", \"1\", \"2\", \"3\", \"4\", \"5\", \"6\", \"7\", \"8\", \"9\", \"10\", \"11\", \"12\", \"13\", \"14\", \"15\", \"16\", \"17\", \"18\", \"19\", \"20\", \"21\", \"22\", \"23\", \"24\", \"25\", \"26\", \"27\", \"28\", \"29\", \"30\", \"31\", \"32\", \"33\", \"34\", \"35\", \"36\", \"37\", \"38\", \"39\", \"44\", \"45\"], \"mode\": \"markers\", \"name\": \"log_loss\", \"stepped\": false, \"type\": \"scatter\", \"data\": [0.07939693282815186, 0.10971395602107914, 0.2913427754845546, 0.3213695951964539, 0.45774821118983394, 0.515449246874225, 0.09370850731205323, 0.14449310981098398, 0.09114667062762334, 0.10390563367766853, 0.2944276093207842, 0.24611440531534493, 0.08840387705587198, 0.29584071911752485, 0.320088810953659, 0.2603572611253176, 0.22413978380160474, 0.22675548956027228, 0.22479534742703947, 0.2238917020372718, 0.12573534849899384, 0.30060266894500415, 0.07970280678792173, 0.1169426999991751, 0.4409217255650451, 0.0792547245670799, 0.08844179878600773, 0.08603331841523472, 0.08848198982254334, 0.38641569887843596, 0.4409339391630316, 0.22958742883837943, 0.08855660216110604, 0.11394892858851062, 0.08402848807107711, 0.29762895954592306, 0.32462202299703385, 0.32435502169833774, 0.11804986533400381, 0.10172912818602764, 0.0896549881146302, 0.08754252305427397]}, {\"categories\": [\"0\", \"1\", \"2\", \"3\", \"4\", \"5\", \"6\", \"7\", \"8\", \"9\", \"10\", \"11\", \"12\", \"13\", \"14\", \"15\", \"16\", \"17\", \"18\", \"19\", \"20\", \"21\", \"22\", \"23\", \"24\", \"25\", \"26\", \"27\", \"28\", \"29\", \"30\", \"31\", \"32\", \"33\", \"34\", \"35\", \"36\", \"37\", \"38\", \"39\", \"44\", \"45\"], \"mode\": \"lines\", \"name\": \"log_loss_min\", \"stepped\": true, \"type\": \"scatter\", \"data\": [0.07939693282815186, 0.07939693282815186, 0.07939693282815186, 0.07939693282815186, 0.07939693282815186, 0.07939693282815186, 0.07939693282815186, 0.07939693282815186, 0.07939693282815186, 0.07939693282815186, 0.07939693282815186, 0.07939693282815186, 0.07939693282815186, 0.07939693282815186, 0.07939693282815186, 0.07939693282815186, 0.07939693282815186, 0.07939693282815186, 0.07939693282815186, 0.07939693282815186, 0.07939693282815186, 0.07939693282815186, 0.07939693282815186, 0.07939693282815186, 0.07939693282815186, 0.0792547245670799, 0.0792547245670799, 0.0792547245670799, 0.0792547245670799, 0.0792547245670799, 0.0792547245670799, 0.0792547245670799, 0.0792547245670799, 0.0792547245670799, 0.0792547245670799, 0.0792547245670799, 0.0792547245670799, 0.0792547245670799, 0.0792547245670799, 0.0792547245670799, 0.0792547245670799, 0.0792547245670799]}], \"f1_score_weighted\": [{\"categories\": [\"0\", \"1\", \"2\", \"3\", \"4\", \"5\", \"6\", \"7\", \"8\", \"9\", \"10\", \"11\", \"12\", \"13\", \"14\", \"15\", \"16\", \"17\", \"18\", \"19\", \"20\", \"21\", \"22\", \"23\", \"24\", \"25\", \"26\", \"27\", \"28\", \"29\", \"30\", \"31\", \"32\", \"33\", \"34\", \"35\", \"36\", \"37\", \"38\", \"39\", \"44\", \"45\"], \"mode\": \"markers\", \"name\": \"f1_score_weighted\", \"stepped\": false, \"type\": \"scatter\", \"data\": [0.9700037899084323, 0.9599074446098296, 0.8253161019896297, 0.7674584949480465, 0.8686057344452257, 0.8035784669592901, 0.9629595250554545, 0.9556213764296467, 0.9651888613947676, 0.9608918169188153, 0.9465775158636852, 0.8819141479006788, 0.9651320075857593, 0.8515529102377516, 0.7660378911071191, 0.884368437012694, 0.9069672808429772, 0.9064445319528153, 0.9075049531796132, 0.9074883493528874, 0.9485608522368603, 0.8297049088505238, 0.9689382697229992, 0.9593864849399751, 0.7660378911071191, 0.9714375934223044, 0.9686239489691402, 0.9669050447425097, 0.9657113173114142, 0.877517331484902, 0.7660378911071191, 0.8949031138732071, 0.9641002180026178, 0.9586787994146714, 0.9677793532122649, 0.9426447098047285, 0.8718380668958843, 0.8724041645349748, 0.9565629515513338, 0.9652475404487845, 0.972283350686303, 0.9718692867803137]}, {\"categories\": [\"0\", \"1\", \"2\", \"3\", \"4\", \"5\", \"6\", \"7\", \"8\", \"9\", \"10\", \"11\", \"12\", \"13\", \"14\", \"15\", \"16\", \"17\", \"18\", \"19\", \"20\", \"21\", \"22\", \"23\", \"24\", \"25\", \"26\", \"27\", \"28\", \"29\", \"30\", \"31\", \"32\", \"33\", \"34\", \"35\", \"36\", \"37\", \"38\", \"39\", \"44\", \"45\"], \"mode\": \"lines\", \"name\": \"f1_score_weighted_max\", \"stepped\": true, \"type\": \"scatter\", \"data\": [0.9700037899084323, 0.9700037899084323, 0.9700037899084323, 0.9700037899084323, 0.9700037899084323, 0.9700037899084323, 0.9700037899084323, 0.9700037899084323, 0.9700037899084323, 0.9700037899084323, 0.9700037899084323, 0.9700037899084323, 0.9700037899084323, 0.9700037899084323, 0.9700037899084323, 0.9700037899084323, 0.9700037899084323, 0.9700037899084323, 0.9700037899084323, 0.9700037899084323, 0.9700037899084323, 0.9700037899084323, 0.9700037899084323, 0.9700037899084323, 0.9700037899084323, 0.9714375934223044, 0.9714375934223044, 0.9714375934223044, 0.9714375934223044, 0.9714375934223044, 0.9714375934223044, 0.9714375934223044, 0.9714375934223044, 0.9714375934223044, 0.9714375934223044, 0.9714375934223044, 0.9714375934223044, 0.9714375934223044, 0.9714375934223044, 0.9714375934223044, 0.972283350686303, 0.972283350686303]}], \"balanced_accuracy\": [{\"categories\": [\"0\", \"1\", \"2\", \"3\", \"4\", \"5\", \"6\", \"7\", \"8\", \"9\", \"10\", \"11\", \"12\", \"13\", \"14\", \"15\", \"16\", \"17\", \"18\", \"19\", \"20\", \"21\", \"22\", \"23\", \"24\", \"25\", \"26\", \"27\", \"28\", \"29\", \"30\", \"31\", \"32\", \"33\", \"34\", \"35\", \"36\", \"37\", \"38\", \"39\", \"44\", \"45\"], \"mode\": \"markers\", \"name\": \"balanced_accuracy\", \"stepped\": false, \"type\": \"scatter\", \"data\": [0.9362221433371793, 0.9044695816003276, 0.5885384703407945, 0.5019342359767892, 0.8499130819848842, 0.8008202761784432, 0.9120910487463881, 0.9013936735960871, 0.9188388040346842, 0.9075931779781977, 0.8778679616140778, 0.7177626539149852, 0.9220942429374106, 0.6399597226839719, 0.5, 0.7113462915671915, 0.7902849568025211, 0.7891791390135756, 0.7933340806405217, 0.8003795320740589, 0.8895743091838336, 0.5981112033239171, 0.9320598571740328, 0.899246135009203, 0.5, 0.9368510261129349, 0.9282353913194074, 0.9247458425604617, 0.9227944690665382, 0.7159755981726645, 0.5, 0.7347906208886607, 0.9196445313758893, 0.8999391969986918, 0.9255325410998427, 0.8752811715380814, 0.852957076429186, 0.8542805155345731, 0.8979892974839968, 0.9188180891719594, 0.9397712971210638, 0.9385700691115799]}, {\"categories\": [\"0\", \"1\", \"2\", \"3\", \"4\", \"5\", \"6\", \"7\", \"8\", \"9\", \"10\", \"11\", \"12\", \"13\", \"14\", \"15\", \"16\", \"17\", \"18\", \"19\", \"20\", \"21\", \"22\", \"23\", \"24\", \"25\", \"26\", \"27\", \"28\", \"29\", \"30\", \"31\", \"32\", \"33\", \"34\", \"35\", \"36\", \"37\", \"38\", \"39\", \"44\", \"45\"], \"mode\": \"lines\", \"name\": \"balanced_accuracy_max\", \"stepped\": true, \"type\": \"scatter\", \"data\": [0.9362221433371793, 0.9362221433371793, 0.9362221433371793, 0.9362221433371793, 0.9362221433371793, 0.9362221433371793, 0.9362221433371793, 0.9362221433371793, 0.9362221433371793, 0.9362221433371793, 0.9362221433371793, 0.9362221433371793, 0.9362221433371793, 0.9362221433371793, 0.9362221433371793, 0.9362221433371793, 0.9362221433371793, 0.9362221433371793, 0.9362221433371793, 0.9362221433371793, 0.9362221433371793, 0.9362221433371793, 0.9362221433371793, 0.9362221433371793, 0.9362221433371793, 0.9368510261129349, 0.9368510261129349, 0.9368510261129349, 0.9368510261129349, 0.9368510261129349, 0.9368510261129349, 0.9368510261129349, 0.9368510261129349, 0.9368510261129349, 0.9368510261129349, 0.9368510261129349, 0.9368510261129349, 0.9368510261129349, 0.9368510261129349, 0.9368510261129349, 0.9397712971210638, 0.9397712971210638]}], \"AUC_weighted\": [{\"categories\": [\"0\", \"1\", \"2\", \"3\", \"4\", \"5\", \"6\", \"7\", \"8\", \"9\", \"10\", \"11\", \"12\", \"13\", \"14\", \"15\", \"16\", \"17\", \"18\", \"19\", \"20\", \"21\", \"22\", \"23\", \"24\", \"25\", \"26\", \"27\", \"28\", \"29\", \"30\", \"31\", \"32\", \"33\", \"34\", \"35\", \"36\", \"37\", \"38\", \"39\", \"44\", \"45\"], \"mode\": \"markers\", \"name\": \"AUC_weighted\", \"stepped\": false, \"type\": \"scatter\", \"data\": [0.9922356433086973, 0.9889836211853323, 0.9217002483405038, 0.9035999034724972, 0.9250887636062365, 0.887601270783937, 0.990703112247029, 0.9841717147083563, 0.9907420239278665, 0.9892456401185284, 0.9780979573296592, 0.9495741060839187, 0.9911152666336567, 0.9123576731020316, 0.8993161746574184, 0.9494900141559427, 0.9308528557629376, 0.9280548237475124, 0.9301735027632908, 0.9324979824930469, 0.9826084349218019, 0.9178636739068254, 0.9923981305698554, 0.9886397529537315, 0.919005423913794, 0.9926667338233469, 0.9915387264651333, 0.9914559617066613, 0.991116668122555, 0.8876108058564505, 0.5, 0.9555687528039144, 0.9909107684946399, 0.9871843915539, 0.9918878141577968, 0.9660814778817484, 0.933411774164029, 0.9333970024799075, 0.9863653142185652, 0.9906855678403885, 0.9919520672639991, 0.991461221910941]}, {\"categories\": [\"0\", \"1\", \"2\", \"3\", \"4\", \"5\", \"6\", \"7\", \"8\", \"9\", \"10\", \"11\", \"12\", \"13\", \"14\", \"15\", \"16\", \"17\", \"18\", \"19\", \"20\", \"21\", \"22\", \"23\", \"24\", \"25\", \"26\", \"27\", \"28\", \"29\", \"30\", \"31\", \"32\", \"33\", \"34\", \"35\", \"36\", \"37\", \"38\", \"39\", \"44\", \"45\"], \"mode\": \"lines\", \"name\": \"AUC_weighted_max\", \"stepped\": true, \"type\": \"scatter\", \"data\": [0.9922356433086973, 0.9922356433086973, 0.9922356433086973, 0.9922356433086973, 0.9922356433086973, 0.9922356433086973, 0.9922356433086973, 0.9922356433086973, 0.9922356433086973, 0.9922356433086973, 0.9922356433086973, 0.9922356433086973, 0.9922356433086973, 0.9922356433086973, 0.9922356433086973, 0.9922356433086973, 0.9922356433086973, 0.9922356433086973, 0.9922356433086973, 0.9922356433086973, 0.9922356433086973, 0.9922356433086973, 0.9923981305698554, 0.9923981305698554, 0.9923981305698554, 0.9926667338233469, 0.9926667338233469, 0.9926667338233469, 0.9926667338233469, 0.9926667338233469, 0.9926667338233469, 0.9926667338233469, 0.9926667338233469, 0.9926667338233469, 0.9926667338233469, 0.9926667338233469, 0.9926667338233469, 0.9926667338233469, 0.9926667338233469, 0.9926667338233469, 0.9926667338233469, 0.9926667338233469]}], \"precision_score_macro\": [{\"categories\": [\"0\", \"1\", \"2\", \"3\", \"4\", \"5\", \"6\", \"7\", \"8\", \"9\", \"10\", \"11\", \"12\", \"13\", \"14\", \"15\", \"16\", \"17\", \"18\", \"19\", \"20\", \"21\", \"22\", \"23\", \"24\", \"25\", \"26\", \"27\", \"28\", \"29\", \"30\", \"31\", \"32\", \"33\", \"34\", \"35\", \"36\", \"37\", \"38\", \"39\", \"44\", \"45\"], \"mode\": \"markers\", \"name\": \"precision_score_macro\", \"stepped\": false, \"type\": \"scatter\", \"data\": [0.9521048547237333, 0.946766446345459, 0.9105315282820913, 0.5865877867157945, 0.7499631809558213, 0.683550114434423, 0.9501918666963359, 0.9330496073532834, 0.95166324627432, 0.947232490223759, 0.9232621163649949, 0.8548094352489496, 0.9477767626249213, 0.87443050300337, 0.4196698262243286, 0.8871065938849659, 0.8602904565927264, 0.8592516464893016, 0.8587585511157446, 0.8507207744159256, 0.9178354478771444, 0.8831123203231358, 0.9521595029280311, 0.9510249860786774, 0.4196698262243286, 0.9568736115705138, 0.9549731639448691, 0.9520152298870231, 0.9494347509507312, 0.8268746465654068, 0.4196698262243286, 0.8957356444637418, 0.9465339351181997, 0.9470671076114794, 0.9545709270657353, 0.9106697883005784, 0.7545174343383688, 0.7553560222895186, 0.9403470440483007, 0.9523590323104355, 0.9570140566711259, 0.9567190251260037]}, {\"categories\": [\"0\", \"1\", \"2\", \"3\", \"4\", \"5\", \"6\", \"7\", \"8\", \"9\", \"10\", \"11\", \"12\", \"13\", \"14\", \"15\", \"16\", \"17\", \"18\", \"19\", \"20\", \"21\", \"22\", \"23\", \"24\", \"25\", \"26\", \"27\", \"28\", \"29\", \"30\", \"31\", \"32\", \"33\", \"34\", \"35\", \"36\", \"37\", \"38\", \"39\", \"44\", \"45\"], \"mode\": \"lines\", \"name\": \"precision_score_macro_max\", \"stepped\": true, \"type\": \"scatter\", \"data\": [0.9521048547237333, 0.9521048547237333, 0.9521048547237333, 0.9521048547237333, 0.9521048547237333, 0.9521048547237333, 0.9521048547237333, 0.9521048547237333, 0.9521048547237333, 0.9521048547237333, 0.9521048547237333, 0.9521048547237333, 0.9521048547237333, 0.9521048547237333, 0.9521048547237333, 0.9521048547237333, 0.9521048547237333, 0.9521048547237333, 0.9521048547237333, 0.9521048547237333, 0.9521048547237333, 0.9521048547237333, 0.9521595029280311, 0.9521595029280311, 0.9521595029280311, 0.9568736115705138, 0.9568736115705138, 0.9568736115705138, 0.9568736115705138, 0.9568736115705138, 0.9568736115705138, 0.9568736115705138, 0.9568736115705138, 0.9568736115705138, 0.9568736115705138, 0.9568736115705138, 0.9568736115705138, 0.9568736115705138, 0.9568736115705138, 0.9568736115705138, 0.9570140566711259, 0.9570140566711259]}]}, \"metricName\": null, \"primaryMetricName\": \"accuracy\", \"showLegend\": false}, \"run_metrics\": [{\"name\": \"experiment_status\", \"run_id\": \"AutoML_b672c35b-2c74-4abc-9f92-b03a17d57ddd\", \"categories\": [0, 1, 2, 3, 4, 5, 6], \"series\": [{\"data\": [\"DatasetEvaluation\", \"FeaturesGeneration\", \"DatasetFeaturization\", \"DatasetFeaturizationCompleted\", \"DatasetBalancing\", \"DatasetCrossValidationSplit\", \"ModelSelection\"]}]}, {\"name\": \"experiment_status_description\", \"run_id\": \"AutoML_b672c35b-2c74-4abc-9f92-b03a17d57ddd\", \"categories\": [0, 1, 2, 3, 4, 5, 6], \"series\": [{\"data\": [\"Gathering dataset statistics.\", \"Generating features for the dataset.\", \"Beginning to fit featurizers and featurize the dataset.\", \"Completed fit featurizers and featurizing the dataset.\", \"Performing class balancing sweeping\", \"Generating individually featurized CV splits.\", \"Beginning model selection.\"]}]}, {\"name\": \"precision_score_macro\", \"run_id\": \"AutoML_b672c35b-2c74-4abc-9f92-b03a17d57ddd\", \"categories\": [0], \"series\": [{\"data\": [0.9570140566711259]}]}, {\"name\": \"matthews_correlation\", \"run_id\": \"AutoML_b672c35b-2c74-4abc-9f92-b03a17d57ddd\", \"categories\": [0], \"series\": [{\"data\": [0.8965872177303864]}]}, {\"name\": \"average_precision_score_macro\", \"run_id\": \"AutoML_b672c35b-2c74-4abc-9f92-b03a17d57ddd\", \"categories\": [0], \"series\": [{\"data\": [0.982941145467349]}]}, {\"name\": \"recall_score_macro\", \"run_id\": \"AutoML_b672c35b-2c74-4abc-9f92-b03a17d57ddd\", \"categories\": [0], \"series\": [{\"data\": [0.9397712971210638]}]}, {\"name\": \"precision_score_micro\", \"run_id\": \"AutoML_b672c35b-2c74-4abc-9f92-b03a17d57ddd\", \"categories\": [0], \"series\": [{\"data\": [0.9725487098472879]}]}, {\"name\": \"precision_score_weighted\", \"run_id\": \"AutoML_b672c35b-2c74-4abc-9f92-b03a17d57ddd\", \"categories\": [0], \"series\": [{\"data\": [0.9722587881302784]}]}, {\"name\": \"recall_score_micro\", \"run_id\": \"AutoML_b672c35b-2c74-4abc-9f92-b03a17d57ddd\", \"categories\": [0], \"series\": [{\"data\": [0.9725487098472879]}]}, {\"name\": \"log_loss\", \"run_id\": \"AutoML_b672c35b-2c74-4abc-9f92-b03a17d57ddd\", \"categories\": [0], \"series\": [{\"data\": [0.0896549881146302]}]}, {\"name\": \"f1_score_macro\", \"run_id\": \"AutoML_b672c35b-2c74-4abc-9f92-b03a17d57ddd\", \"categories\": [0], \"series\": [{\"data\": [0.9480740320994143]}]}, {\"name\": \"AUC_macro\", \"run_id\": \"AutoML_b672c35b-2c74-4abc-9f92-b03a17d57ddd\", \"categories\": [0], \"series\": [{\"data\": [0.9919520672639989]}]}, {\"name\": \"recall_score_weighted\", \"run_id\": \"AutoML_b672c35b-2c74-4abc-9f92-b03a17d57ddd\", \"categories\": [0], \"series\": [{\"data\": [0.9725487098472879]}]}, {\"name\": \"balanced_accuracy\", \"run_id\": \"AutoML_b672c35b-2c74-4abc-9f92-b03a17d57ddd\", \"categories\": [0], \"series\": [{\"data\": [0.9397712971210638]}]}, {\"name\": \"AUC_weighted\", \"run_id\": \"AutoML_b672c35b-2c74-4abc-9f92-b03a17d57ddd\", \"categories\": [0], \"series\": [{\"data\": [0.9919520672639991]}]}, {\"name\": \"accuracy\", \"run_id\": \"AutoML_b672c35b-2c74-4abc-9f92-b03a17d57ddd\", \"categories\": [0], \"series\": [{\"data\": [0.9725487098472879]}]}, {\"name\": \"AUC_micro\", \"run_id\": \"AutoML_b672c35b-2c74-4abc-9f92-b03a17d57ddd\", \"categories\": [0], \"series\": [{\"data\": [0.9958453976190415]}]}, {\"name\": \"average_precision_score_micro\", \"run_id\": \"AutoML_b672c35b-2c74-4abc-9f92-b03a17d57ddd\", \"categories\": [0], \"series\": [{\"data\": [0.9959273803071311]}]}, {\"name\": \"f1_score_micro\", \"run_id\": \"AutoML_b672c35b-2c74-4abc-9f92-b03a17d57ddd\", \"categories\": [0], \"series\": [{\"data\": [0.9725487098472879]}]}, {\"name\": \"f1_score_weighted\", \"run_id\": \"AutoML_b672c35b-2c74-4abc-9f92-b03a17d57ddd\", \"categories\": [0], \"series\": [{\"data\": [0.972283350686303]}]}, {\"name\": \"weighted_accuracy\", \"run_id\": \"AutoML_b672c35b-2c74-4abc-9f92-b03a17d57ddd\", \"categories\": [0], \"series\": [{\"data\": [0.9846831411414669]}]}, {\"name\": \"average_precision_score_weighted\", \"run_id\": \"AutoML_b672c35b-2c74-4abc-9f92-b03a17d57ddd\", \"categories\": [0], \"series\": [{\"data\": [0.9934139121535734]}]}, {\"name\": \"norm_macro_recall\", \"run_id\": \"AutoML_b672c35b-2c74-4abc-9f92-b03a17d57ddd\", \"categories\": [0], \"series\": [{\"data\": [0.8795425942421277]}]}], \"run_logs\": \"\\nRun is completed.\", \"graph\": {}, \"widget_settings\": {\"childWidgetDisplay\": \"popup\", \"send_telemetry\": false, \"log_level\": \"INFO\", \"sdk_version\": \"1.19.0\"}, \"loading\": false}"
     },
     "metadata": {},
     "output_type": "display_data"
    },
    {
     "name": "stdout",
     "output_type": "stream",
     "text": [
      "\n",
      "\n",
      "****************************************************************************************************\n",
      "DATA GUARDRAILS: \n",
      "\n",
      "TYPE:         Class balancing detection\n",
      "STATUS:       ALERTED\n",
      "DESCRIPTION:  To decrease model bias, please cancel the current run and fix balancing problem.\n",
      "              Learn more about imbalanced data: https://aka.ms/AutomatedMLImbalancedData\n",
      "DETAILS:      Imbalanced data can lead to a falsely perceived positive effect of a model's accuracy because the input data has bias towards one class.\n",
      "+---------------------------------+---------------------------------+--------------------------------------+\n",
      "|Size of the smallest class       |Name/Label of the smallest class |Number of samples in the training data|\n",
      "+=================================+=================================+======================================+\n",
      "|1627                             |Attrited Customer                |10127                                 |\n",
      "+---------------------------------+---------------------------------+--------------------------------------+\n",
      "\n",
      "****************************************************************************************************\n",
      "\n",
      "TYPE:         Missing feature values imputation\n",
      "STATUS:       PASSED\n",
      "DESCRIPTION:  No feature missing values were detected in the training data.\n",
      "              Learn more about missing value imputation: https://aka.ms/AutomatedMLFeaturization\n",
      "\n",
      "****************************************************************************************************\n",
      "\n",
      "TYPE:         High cardinality feature detection\n",
      "STATUS:       PASSED\n",
      "DESCRIPTION:  Your inputs were analyzed, and no high cardinality features were detected.\n",
      "              Learn more about high cardinality feature handling: https://aka.ms/AutomatedMLFeaturization\n",
      "\n",
      "****************************************************************************************************\n",
      "\n",
      "****************************************************************************************************\n",
      "ITERATION: The iteration being evaluated.\n",
      "PIPELINE: A summary description of the pipeline being evaluated.\n",
      "DURATION: Time taken for the current iteration.\n",
      "METRIC: The result of computing score on the fitted pipeline.\n",
      "BEST: The best observed score thus far.\n",
      "****************************************************************************************************\n",
      "\n",
      " ITERATION   PIPELINE                                       DURATION      METRIC      BEST\n",
      "         0   MaxAbsScaler LightGBM                          0:00:52       0.9703    0.9703\n",
      "         1   MaxAbsScaler XGBoostClassifier                 0:01:44       0.9609    0.9703\n",
      "         2   MaxAbsScaler RandomForest                      0:00:55       0.8666    0.9703\n",
      "         3   MaxAbsScaler RandomForest                      0:00:51       0.8399    0.9703\n",
      "         4   MaxAbsScaler RandomForest                      0:00:55       0.8568    0.9703\n",
      "         5   MaxAbsScaler RandomForest                      0:00:45       0.7777    0.9703\n",
      "         6   SparseNormalizer XGBoostClassifier             0:01:12       0.9638    0.9703\n",
      "         7   SparseNormalizer XGBoostClassifier             0:01:04       0.9565    0.9703\n",
      "         8   SparseNormalizer XGBoostClassifier             0:01:11       0.9658    0.9703\n",
      "         9   SparseNormalizer XGBoostClassifier             0:00:54       0.9618    0.9703\n",
      "        10   SparseNormalizer XGBoostClassifier             0:01:10       0.9481    0.9703\n",
      "        11   StandardScalerWrapper RandomForest             0:01:06       0.8942    0.9703\n",
      "        12   SparseNormalizer XGBoostClassifier             0:01:17       0.9656    0.9703\n",
      "        13   MaxAbsScaler ExtremeRandomTrees                0:01:22       0.8784    0.9703\n",
      "        14   MaxAbsScaler ExtremeRandomTrees                0:01:25       0.8393    0.9703\n",
      "        15   MaxAbsScaler LightGBM                          0:01:07       0.8990    0.9703\n",
      "        16   MaxAbsScaler LogisticRegression                0:00:59       0.9117    0.9703\n",
      "        17   StandardScalerWrapper LogisticRegression       0:01:09       0.9112    0.9703\n",
      "        18   StandardScalerWrapper LogisticRegression       0:01:13       0.9119    0.9703\n",
      "        19   MaxAbsScaler LogisticRegression                0:01:02       0.9109    0.9703\n",
      "        20   MaxAbsScaler LightGBM                          0:00:57       0.9494    0.9703\n",
      "        21   MaxAbsScaler ExtremeRandomTrees                0:01:11       0.8677    0.9703\n",
      "        22   StandardScalerWrapper XGBoostClassifier        0:01:12       0.9693    0.9703\n",
      "        23   SparseNormalizer XGBoostClassifier             0:01:24       0.9606    0.9703\n",
      "        24   MaxAbsScaler LightGBM                          0:00:50       0.8393    0.9703\n"
     ]
    }
   ],
   "source": [
    "from azureml.widgets import RunDetails\n",
    "RunDetails(remote_run).show()\n",
    "remote_run.wait_for_completion(show_output = True)"
   ]
  },
  {
   "cell_type": "markdown",
   "metadata": {},
   "source": [
    "## Best Model\n",
    "\n",
    "TODO: In the cell below, get the best model from the automl experiments and display all the properties of the model.\n",
    "\n"
   ]
  },
  {
   "cell_type": "code",
   "execution_count": 11,
   "metadata": {
    "gather": {
     "logged": 1608133307753
    },
    "jupyter": {
     "outputs_hidden": false,
     "source_hidden": false
    },
    "nteract": {
     "transient": {
      "deleting": false
     }
    }
   },
   "outputs": [],
   "source": [
    "# Retrieve and save the best AutoML model\n",
    "best_run, best_model = remote_run.get_output()\n",
    "best_metrics = best_run.get_metrics()"
   ]
  },
  {
   "cell_type": "code",
   "execution_count": 12,
   "metadata": {
    "gather": {
     "logged": 1608133319334
    },
    "jupyter": {
     "outputs_hidden": false,
     "source_hidden": false
    },
    "nteract": {
     "transient": {
      "deleting": false
     }
    }
   },
   "outputs": [
    {
     "name": "stdout",
     "output_type": "stream",
     "text": [
      "Run(Experiment: demo-automl-experiment,\n",
      "Id: AutoML_b672c35b-2c74-4abc-9f92-b03a17d57ddd_44,\n",
      "Type: azureml.scriptrun,\n",
      "Status: Completed)\n"
     ]
    }
   ],
   "source": [
    "#TODO: Save the best model\n",
    "model = best_run.register_model(model_name = \"best_automl_model\", model_path = \"./outputs/\")\n",
    "# model = best_automl_run.register_model(model_name = 'best_automl_model', model_path = 'outputs/model.pkl', model_framework=Model.Framework.SCIKITLEARN)\n",
    "print(best_run)"
   ]
  },
  {
   "cell_type": "code",
   "execution_count": 13,
   "metadata": {
    "gather": {
     "logged": 1608133329723
    },
    "jupyter": {
     "outputs_hidden": false,
     "source_hidden": false
    },
    "nteract": {
     "transient": {
      "deleting": false
     }
    }
   },
   "outputs": [
    {
     "name": "stdout",
     "output_type": "stream",
     "text": [
      "0.9725487098472879\n",
      "PreFittedSoftVotingClassifier(classification_labels=None,\n",
      "                              estimators=[('25',\n",
      "                                           Pipeline(memory=None,\n",
      "                                                    steps=[('standardscalerwrapper',\n",
      "                                                            <azureml.automl.runtime.shared.model_wrappers.StandardScalerWrapper object at 0x7f1260ee6b70>),\n",
      "                                                           ('xgboostclassifier',\n",
      "                                                            XGBoostClassifier(base_score=0.5,\n",
      "                                                                              booster='gbtree',\n",
      "                                                                              colsample_bylevel=1,\n",
      "                                                                              colsample_bynode=1,\n",
      "                                                                              colsample_bytree=1,\n",
      "                                                                              e...\n",
      "                                                           ('logisticregression',\n",
      "                                                            LogisticRegression(C=232.99518105153672,\n",
      "                                                                               class_weight='balanced',\n",
      "                                                                               dual=False,\n",
      "                                                                               fit_intercept=True,\n",
      "                                                                               intercept_scaling=1,\n",
      "                                                                               l1_ratio=None,\n",
      "                                                                               max_iter=100,\n",
      "                                                                               multi_class='ovr',\n",
      "                                                                               n_jobs=1,\n",
      "                                                                               penalty='l2',\n",
      "                                                                               random_state=None,\n",
      "                                                                               solver='saga',\n",
      "                                                                               tol=0.0001,\n",
      "                                                                               verbose=0,\n",
      "                                                                               warm_start=False))],\n",
      "                                                    verbose=False))],\n",
      "                              flatten_transform=None,\n",
      "                              weights=[0.25, 0.25, 0.125, 0.125, 0.125, 0.125])\n"
     ]
    }
   ],
   "source": [
    "print(best_metrics[\"accuracy\"])\n",
    "print(best_model._final_estimator)\n",
    "# print(best_model)"
   ]
  },
  {
   "cell_type": "markdown",
   "metadata": {},
   "source": [
    "## Model Deployment\n",
    "\n",
    "Remember you have to deploy only one of the two models you trained.. Perform the steps in the rest of this notebook only if you wish to deploy this model.\n",
    "\n",
    "TODO: In the cell below, register the model, create an inference config and deploy the model as a web service."
   ]
  },
  {
   "cell_type": "code",
   "execution_count": null,
   "metadata": {
    "gather": {
     "logged": 1598431435189
    },
    "jupyter": {
     "outputs_hidden": false,
     "source_hidden": false
    },
    "nteract": {
     "transient": {
      "deleting": false
     }
    }
   },
   "outputs": [],
   "source": [
    "from azureml.core import Environment\n",
    "from azureml.core.model import InferenceConfig\n",
    "# from azureml.core.webservice import LocalWebservice\n",
    "\n",
    "# Copy the created scoring_file_v_1_0_0.py file from the automl run as score.py\n",
    "\n",
    "script_name='score.py'\n",
    "best_run.download_file('outputs/scoring_file_v_1_0_0.py', script_name)\n",
    "\n",
    "# Create the inference config\n",
    "env = best_run.get_environment()\n",
    "\n",
    "inference_config = InferenceConfig(entry_script=script_file_name, environment=env)\n",
    "\n",
    "# Deploy the model as a webservice\n",
    "\n",
    "# local_config = LocalWebservice.deploy_configuration(port=9000)\n",
    "web_service = Model.deploy(ws, 'model-service', [model], inference_config, overwrite=True)\n",
    "# local_service = Model.deploy(ws, 'model-service', [auto_ml], inference_config, local_config)\n",
    "web_service.wait_for_deployment(show_output=True)\n",
    "web_service.update(enable_app_insights=True)\n",
    "\n",
    "# rest_service = Model.deploy(ws, 'best-model-service', [model], inference_config=inference_config, overwrite=True)\n",
    "# rest_service.wait_for_deployment(show_output=True)\n",
    "# rest_service.update(enable_app_insights=True)"
   ]
  },
  {
   "cell_type": "markdown",
   "metadata": {
    "collapsed": true,
    "gather": {
     "logged": 1598431657736
    },
    "jupyter": {
     "outputs_hidden": false,
     "source_hidden": false
    },
    "nteract": {
     "transient": {
      "deleting": false
     }
    }
   },
   "source": [
    "TODO: In the cell below, send a request to the web service you deployed to test it."
   ]
  },
  {
   "cell_type": "code",
   "execution_count": null,
   "metadata": {
    "gather": {
     "logged": 1598432707604
    },
    "jupyter": {
     "outputs_hidden": false,
     "source_hidden": false
    },
    "nteract": {
     "transient": {
      "deleting": false
     }
    }
   },
   "outputs": [],
   "source": [
    "import json\n",
    "\n",
    "data_sample = dataset.to_pandas_dataframe().sample(3)\n",
    "# y_true = data_sample.pop('legitimate')\n",
    "test_sample = json.dumps({'data':data_sample.to_dict(orient='records')})\n",
    "print(test_sample)\n",
    "\n",
    "# data= ({'data':test_df[0:3].to_dict(orient='records')})\n",
    "# test_sample=json.dumps(data)\n",
    "# output= service.run(test_sample)\n",
    "# print(output)"
   ]
  },
  {
   "cell_type": "markdown",
   "metadata": {
    "collapsed": true,
    "gather": {
     "logged": 1598432765711
    },
    "jupyter": {
     "outputs_hidden": false,
     "source_hidden": false
    },
    "nteract": {
     "transient": {
      "deleting": false
     }
    }
   },
   "source": [
    "TODO: In the cell below, print the logs of the web service and delete the service"
   ]
  },
  {
   "cell_type": "code",
   "execution_count": null,
   "metadata": {
    "jupyter": {
     "outputs_hidden": false,
     "source_hidden": false
    },
    "nteract": {
     "transient": {
      "deleting": false
     }
    }
   },
   "outputs": [],
   "source": [
    "# Print web service logs\n",
    "service_logs = web_service.get_logs()\n",
    "\n",
    "for line in service_logs.split('\\n'):\n",
    "    print(line)\n",
    "\n",
    "# Delete the service\n",
    "service.delete()"
   ]
  }
 ],
 "metadata": {
  "kernel_info": {
   "name": "python3"
  },
  "kernelspec": {
   "display_name": "Python 3",
   "language": "python",
   "name": "python3"
  },
  "language_info": {
   "codemirror_mode": {
    "name": "ipython",
    "version": 3
   },
   "file_extension": ".py",
   "mimetype": "text/x-python",
   "name": "python",
   "nbconvert_exporter": "python",
   "pygments_lexer": "ipython3",
   "version": "3.7.6"
  },
  "nteract": {
   "version": "nteract-front-end@1.0.0"
  }
 },
 "nbformat": 4,
 "nbformat_minor": 2
}
