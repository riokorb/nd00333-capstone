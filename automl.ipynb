{
 "cells": [
  {
   "cell_type": "markdown",
   "metadata": {},
   "source": [
    "# Automated ML\n",
    "\n",
    "TODO: Import Dependencies. In the cell below, import all the dependencies that you will need to complete the project."
   ]
  },
  {
   "cell_type": "code",
   "execution_count": 2,
   "metadata": {
    "gather": {
     "logged": 1610625473943
    },
    "jupyter": {
     "outputs_hidden": false,
     "source_hidden": false
    },
    "nteract": {
     "transient": {
      "deleting": false
     }
    }
   },
   "outputs": [],
   "source": [
    "from azureml.core import Experiment, Model, Webservice\n",
    "from azureml.core.workspace import Workspace\n",
    "from azureml.core.dataset import Dataset\n",
    "from azureml.train.automl import AutoMLConfig\n",
    "from azureml.core.compute import ComputeTarget, AmlCompute\n",
    "from azureml.core.compute_target import ComputeTargetException\n",
    "from azureml.pipeline.steps import AutoMLStep\n",
    "\n",
    "import pandas as pd"
   ]
  },
  {
   "cell_type": "markdown",
   "metadata": {},
   "source": [
    "## Dataset\n",
    "\n",
    "### Overview\n",
    "TODO: In this markdown cell, give an overview of the dataset you are using. Also mention the task you will be performing.\n",
    "We will be using the 'Credit Card customers' dataset from Kaggle and predicting if a customer is likely to churn.\n",
    "\n",
    "TODO: Get data. In the cell below, write code to access the data you will be using in this project. Remember that the dataset needs to be external."
   ]
  },
  {
   "cell_type": "code",
   "execution_count": 3,
   "metadata": {
    "gather": {
     "logged": 1610625496637
    },
    "jupyter": {
     "outputs_hidden": false,
     "source_hidden": false
    },
    "nteract": {
     "transient": {
      "deleting": false
     }
    }
   },
   "outputs": [
    {
     "name": "stdout",
     "output_type": "stream",
     "text": [
      "Performing interactive authentication. Please follow the instructions on the terminal.\n",
      "To sign in, use a web browser to open the page https://microsoft.com/devicelogin and enter the code A6APCTYDP to authenticate.\n",
      "You have logged in. Now let us find all the subscriptions to which you have access...\n",
      "Interactive authentication successfully completed.\n",
      "Uploading an estimated of 4 files\n",
      "Uploading ./automl.ipynb\n",
      "Uploaded ./automl.ipynb, 1 files out of an estimated total of 4\n",
      "Uploading ./automl.ipynb.amltemp\n",
      "Uploaded ./automl.ipynb.amltemp, 2 files out of an estimated total of 4\n",
      "Uploading ./score.py\n",
      "Uploaded ./score.py, 3 files out of an estimated total of 4\n",
      "Uploading ./.ipynb_aml_checkpoints/automl-checkpoint2021-0-14-11-50-57.ipynb\n",
      "Uploaded ./.ipynb_aml_checkpoints/automl-checkpoint2021-0-14-11-50-57.ipynb, 4 files out of an estimated total of 4\n",
      "Uploaded 4 files\n"
     ]
    },
    {
     "data": {
      "text/plain": [
       "$AZUREML_DATAREFERENCE_ffa5f4216f144b8a8057e8723bcf6ea9"
      ]
     },
     "execution_count": 3,
     "metadata": {},
     "output_type": "execute_result"
    }
   ],
   "source": [
    "ws = Workspace.from_config()\n",
    "\n",
    "# Choose a name for experiment\n",
    "experiment_name = 'demo-automl-experiment'\n",
    "\n",
    "experiment=Experiment(ws, experiment_name)\n",
    "\n",
    "# Prepare the datastore to upload data\n",
    "datastore = ws.get_default_datastore()\n",
    "\n",
    "# Set the upload location to target_path in datastore\n",
    "datastore.upload(src_dir='./', target_path = 'data')"
   ]
  },
  {
   "cell_type": "code",
   "execution_count": 4,
   "metadata": {
    "collapsed": true,
    "gather": {
     "logged": 1610625502285
    },
    "jupyter": {
     "outputs_hidden": false,
     "source_hidden": false
    },
    "nteract": {
     "transient": {
      "deleting": false
     }
    }
   },
   "outputs": [
    {
     "name": "stdout",
     "output_type": "stream",
     "text": [
      "Found existing cluster, use it.\n",
      "\n",
      "Running\n"
     ]
    }
   ],
   "source": [
    "# Choose a name for CPU cluster\n",
    "compute_name = \"demo-cluster\"\n",
    "\n",
    "# Verify that cluster does not already exist\n",
    "try:\n",
    "    compute_target = ComputeTarget(workspace=ws, name=compute_name)\n",
    "    print('Found existing cluster, use it.')\n",
    "except ComputeTargetException:\n",
    "    compute_config = AmlCompute.provisioning_configuration(vm_size='STANDARD_D2_V2',# for GPU, use \"STANDARD_NC6\"\n",
    "                                                           #vm_priority = 'lowpriority', # optional\n",
    "                                                           max_nodes=4)\n",
    "    compute_target = ComputeTarget.create(ws, compute_name, compute_config)\n",
    "\n",
    "compute_target.wait_for_completion(show_output=True)"
   ]
  },
  {
   "cell_type": "code",
   "execution_count": 5,
   "metadata": {
    "collapsed": true,
    "gather": {
     "logged": 1610625505406
    },
    "jupyter": {
     "outputs_hidden": false,
     "source_hidden": false
    },
    "nteract": {
     "transient": {
      "deleting": false
     }
    }
   },
   "outputs": [
    {
     "data": {
      "text/plain": [
       "{\n",
       "  \"source\": [\n",
       "    \"('workspaceblobstore', 'UI/01-14-2021_115245_UTC/BankChurners.csv')\"\n",
       "  ],\n",
       "  \"definition\": [\n",
       "    \"GetDatastoreFiles\",\n",
       "    \"ParseDelimited\",\n",
       "    \"DropColumns\",\n",
       "    \"SetColumnTypes\"\n",
       "  ],\n",
       "  \"registration\": {\n",
       "    \"id\": \"e30927c2-bfd1-4d2f-9263-4a2c008dca64\",\n",
       "    \"name\": \"bankchurners\",\n",
       "    \"version\": 1,\n",
       "    \"description\": \"bc dataset\",\n",
       "    \"workspace\": \"Workspace.create(name='quick-starts-ws-134654', subscription_id='3d1a56d2-7c81-4118-9790-f85d1acf0c77', resource_group='aml-quickstarts-134654')\"\n",
       "  }\n",
       "}"
      ]
     },
     "execution_count": 5,
     "metadata": {},
     "output_type": "execute_result"
    }
   ],
   "source": [
    "dataset = Dataset.get_by_name(ws, name = \"bankchurners\")\n",
    "dataset"
   ]
  },
  {
   "cell_type": "markdown",
   "metadata": {},
   "source": [
    "## AutoML Configuration\n",
    "\n",
    "TODO: Explain why you chose the automl settings and cofiguration you used below."
   ]
  },
  {
   "cell_type": "code",
   "execution_count": 6,
   "metadata": {
    "gather": {
     "logged": 1610625505496
    },
    "jupyter": {
     "outputs_hidden": false,
     "source_hidden": false
    },
    "nteract": {
     "transient": {
      "deleting": false
     }
    }
   },
   "outputs": [],
   "source": [
    "# List the automl config\n",
    "automl_config = AutoMLConfig(\n",
    "    experiment_timeout_minutes = 30,\n",
    "    task = \"classification\",\n",
    "    compute_target = \"demo-cluster\",\n",
    "    max_concurrent_iterations = 5,\n",
    "    training_data = dataset,\n",
    "    primary_metric = \"accuracy\",\n",
    "    label_column_name = \"Attrition_Flag\",\n",
    "    n_cross_validations = 3,\n",
    "    enable_early_stopping = True\n",
    ")"
   ]
  },
  {
   "cell_type": "code",
   "execution_count": 7,
   "metadata": {
    "gather": {
     "logged": 1610626488089
    },
    "jupyter": {
     "outputs_hidden": false,
     "source_hidden": false
    },
    "nteract": {
     "transient": {
      "deleting": false
     }
    }
   },
   "outputs": [
    {
     "name": "stdout",
     "output_type": "stream",
     "text": [
      "Running on remote.\n",
      "No run_configuration provided, running on demo-cluster with default configuration\n",
      "Running on remote compute: demo-cluster\n",
      "Parent Run ID: AutoML_81dfe262-4304-41ca-8572-ddde08afa446\n",
      "\n",
      "Current status: FeaturesGeneration. Generating features for the dataset.\n",
      "Current status: DatasetBalancing. Performing class balancing sweeping\n",
      "Current status: DatasetCrossValidationSplit. Generating individually featurized CV splits.\n",
      "Current status: ModelSelection. Beginning model selection.\n",
      "\n",
      "****************************************************************************************************\n",
      "DATA GUARDRAILS: \n",
      "\n",
      "TYPE:         Class balancing detection\n",
      "STATUS:       ALERTED\n",
      "DESCRIPTION:  To decrease model bias, please cancel the current run and fix balancing problem.\n",
      "              Learn more about imbalanced data: https://aka.ms/AutomatedMLImbalancedData\n",
      "DETAILS:      Imbalanced data can lead to a falsely perceived positive effect of a model's accuracy because the input data has bias towards one class.\n",
      "+---------------------------------+---------------------------------+--------------------------------------+\n",
      "|Size of the smallest class       |Name/Label of the smallest class |Number of samples in the training data|\n",
      "+=================================+=================================+======================================+\n",
      "|1627                             |Attrited Customer                |10127                                 |\n",
      "+---------------------------------+---------------------------------+--------------------------------------+\n",
      "\n",
      "****************************************************************************************************\n",
      "\n",
      "TYPE:         Missing feature values imputation\n",
      "STATUS:       PASSED\n",
      "DESCRIPTION:  No feature missing values were detected in the training data.\n",
      "              Learn more about missing value imputation: https://aka.ms/AutomatedMLFeaturization\n",
      "\n",
      "****************************************************************************************************\n",
      "\n",
      "TYPE:         High cardinality feature detection\n",
      "STATUS:       PASSED\n",
      "DESCRIPTION:  Your inputs were analyzed, and no high cardinality features were detected.\n",
      "              Learn more about high cardinality feature handling: https://aka.ms/AutomatedMLFeaturization\n",
      "\n",
      "****************************************************************************************************\n",
      "\n",
      "****************************************************************************************************\n",
      "ITERATION: The iteration being evaluated.\n",
      "PIPELINE: A summary description of the pipeline being evaluated.\n",
      "DURATION: Time taken for the current iteration.\n",
      "METRIC: The result of computing score on the fitted pipeline.\n",
      "BEST: The best observed score thus far.\n",
      "****************************************************************************************************\n",
      "\n",
      " ITERATION   PIPELINE                                       DURATION      METRIC      BEST\n",
      "         0   MaxAbsScaler LightGBM                          0:00:49       0.9691    0.9691\n",
      "         1   MaxAbsScaler XGBoostClassifier                 0:00:47       0.9603    0.9691\n",
      "         2   MaxAbsScaler RandomForest                      0:00:46       0.8595    0.9691\n",
      "         3   MaxAbsScaler RandomForest                      0:00:49       0.8512    0.9691\n",
      "         4   MaxAbsScaler RandomForest                      0:00:43       0.8573    0.9691\n",
      "         5   MaxAbsScaler RandomForest                      0:00:43       0.7350    0.9691\n",
      "         6   SparseNormalizer XGBoostClassifier             0:00:53       0.9647    0.9691\n",
      "         9   SparseNormalizer XGBoostClassifier             0:00:50       0.9625    0.9691\n",
      "         7   SparseNormalizer XGBoostClassifier             0:00:46       0.9553    0.9691\n",
      "         8   SparseNormalizer XGBoostClassifier             0:00:58       0.9661    0.9691\n",
      "        11   StandardScalerWrapper RandomForest             0:00:46       0.8973    0.9691\n",
      "        13   MaxAbsScaler LogisticRegression                0:00:46       0.9116    0.9691\n",
      "        12   MaxAbsScaler ExtremeRandomTrees                0:01:03       0.8782    0.9691\n",
      "        10   SparseNormalizer XGBoostClassifier             0:01:25       0.9451    0.9691\n",
      "        14   MaxAbsScaler ExtremeRandomTrees                0:01:04       0.8393    0.9691\n",
      "        15   MaxAbsScaler LightGBM                          0:00:44       0.8935    0.9691\n",
      "        16   SparseNormalizer LightGBM                      0:00:42       0.9080    0.9691\n",
      "        17   MaxAbsScaler ExtremeRandomTrees                0:00:47       0.8703    0.9691\n",
      "        19   MaxAbsScaler LightGBM                          0:00:42       0.9114    0.9691\n",
      "        18   SparseNormalizer XGBoostClassifier             0:01:16       0.9653    0.9691\n",
      "        20   MaxAbsScaler LightGBM                          0:00:54       0.9496    0.9691\n",
      "        21   SparseNormalizer XGBoostClassifier             0:01:03       0.9679    0.9691\n",
      "        22   SparseNormalizer LightGBM                      0:00:45       0.8795    0.9691\n",
      "        23   SparseNormalizer XGBoostClassifier             0:01:06       0.9653    0.9691\n",
      "        24   SparseNormalizer LightGBM                      0:00:54       0.9574    0.9691\n",
      "        25   SparseNormalizer LightGBM                      0:00:45       0.9623    0.9691\n",
      "        26   SparseNormalizer XGBoostClassifier             0:01:07       0.9678    0.9691\n",
      "        27   StandardScalerWrapper LogisticRegression       0:01:04       0.9106    0.9691\n",
      "        28   MaxAbsScaler LogisticRegression                0:00:51       0.9115    0.9691\n",
      "        30   SparseNormalizer LightGBM                      0:00:45       0.8539    0.9691\n",
      "        29   SparseNormalizer XGBoostClassifier             0:01:00       0.9640    0.9691\n",
      "        31   SparseNormalizer XGBoostClassifier             0:01:19       0.9664    0.9691\n",
      "        34   SparseNormalizer XGBoostClassifier             0:00:51       0.9578    0.9691\n",
      "        32   SparseNormalizer XGBoostClassifier             0:01:40       0.9655    0.9691\n",
      "        33   SparseNormalizer XGBoostClassifier             0:01:20       0.9660    0.9691\n",
      "        35   MaxAbsScaler LightGBM                          0:00:58       0.8393    0.9691\n",
      "        36                                                  0:00:08          nan    0.9691\n",
      "        37                                                  0:00:18          nan    0.9691\n",
      "        38    VotingEnsemble                                0:01:24       0.9708    0.9708\n",
      "        39    StackEnsemble                                 0:01:41       0.9704    0.9708\n"
     ]
    }
   ],
   "source": [
    "# Submit the experiment\n",
    "remote_run = experiment.submit(automl_config, show_output = True)"
   ]
  },
  {
   "cell_type": "markdown",
   "metadata": {},
   "source": [
    "## Run Details\n",
    "\n",
    "OPTIONAL: Write about the different models trained and their performance. Why do you think some models did better than others?\n",
    "\n",
    "TODO: In the cell below, use the `RunDetails` widget to show the different experiments."
   ]
  },
  {
   "cell_type": "code",
   "execution_count": 8,
   "metadata": {
    "gather": {
     "logged": 1610626610562
    },
    "jupyter": {
     "outputs_hidden": false,
     "source_hidden": false
    },
    "nteract": {
     "transient": {
      "deleting": false
     }
    }
   },
   "outputs": [
    {
     "data": {
      "application/vnd.jupyter.widget-view+json": {
       "model_id": "eb5566f221594477b459953b2eb22ca7",
       "version_major": 2,
       "version_minor": 0
      },
      "text/plain": [
       "_AutoMLWidget(widget_settings={'childWidgetDisplay': 'popup', 'send_telemetry': False, 'log_level': 'INFO', 's…"
      ]
     },
     "metadata": {},
     "output_type": "display_data"
    },
    {
     "data": {
      "application/aml.mini.widget.v1": "{\"status\": \"Completed\", \"workbench_run_details_uri\": \"https://ml.azure.com/experiments/demo-automl-experiment/runs/AutoML_81dfe262-4304-41ca-8572-ddde08afa446?wsid=/subscriptions/3d1a56d2-7c81-4118-9790-f85d1acf0c77/resourcegroups/aml-quickstarts-134654/workspaces/quick-starts-ws-134654\", \"run_id\": \"AutoML_81dfe262-4304-41ca-8572-ddde08afa446\", \"run_properties\": {\"run_id\": \"AutoML_81dfe262-4304-41ca-8572-ddde08afa446\", \"created_utc\": \"2021-01-14T11:58:27.345319Z\", \"properties\": {\"num_iterations\": \"1000\", \"training_type\": \"TrainFull\", \"acquisition_function\": \"EI\", \"primary_metric\": \"accuracy\", \"train_split\": \"0\", \"acquisition_parameter\": \"0\", \"num_cross_validation\": \"3\", \"target\": \"demo-cluster\", \"AMLSettingsJsonString\": \"{\\\"path\\\":null,\\\"name\\\":\\\"demo-automl-experiment\\\",\\\"subscription_id\\\":\\\"3d1a56d2-7c81-4118-9790-f85d1acf0c77\\\",\\\"resource_group\\\":\\\"aml-quickstarts-134654\\\",\\\"workspace_name\\\":\\\"quick-starts-ws-134654\\\",\\\"region\\\":\\\"southcentralus\\\",\\\"compute_target\\\":\\\"demo-cluster\\\",\\\"spark_service\\\":null,\\\"azure_service\\\":\\\"remote\\\",\\\"many_models\\\":false,\\\"pipeline_fetch_max_batch_size\\\":1,\\\"iterations\\\":1000,\\\"primary_metric\\\":\\\"accuracy\\\",\\\"task_type\\\":\\\"classification\\\",\\\"data_script\\\":null,\\\"validation_size\\\":0.0,\\\"n_cross_validations\\\":3,\\\"y_min\\\":null,\\\"y_max\\\":null,\\\"num_classes\\\":null,\\\"featurization\\\":\\\"auto\\\",\\\"_ignore_package_version_incompatibilities\\\":false,\\\"is_timeseries\\\":false,\\\"max_cores_per_iteration\\\":1,\\\"max_concurrent_iterations\\\":5,\\\"iteration_timeout_minutes\\\":null,\\\"mem_in_mb\\\":null,\\\"enforce_time_on_windows\\\":false,\\\"experiment_timeout_minutes\\\":30,\\\"experiment_exit_score\\\":null,\\\"whitelist_models\\\":null,\\\"blacklist_algos\\\":[\\\"TensorFlowLinearClassifier\\\",\\\"TensorFlowDNN\\\"],\\\"supported_models\\\":[\\\"LinearSVM\\\",\\\"XGBoostClassifier\\\",\\\"MultinomialNaiveBayes\\\",\\\"TensorFlowLinearClassifier\\\",\\\"SVM\\\",\\\"ExtremeRandomTrees\\\",\\\"SGD\\\",\\\"LightGBM\\\",\\\"AveragedPerceptronClassifier\\\",\\\"TensorFlowDNN\\\",\\\"KNN\\\",\\\"RandomForest\\\",\\\"DecisionTree\\\",\\\"LogisticRegression\\\",\\\"GradientBoosting\\\",\\\"BernoulliNaiveBayes\\\"],\\\"auto_blacklist\\\":true,\\\"blacklist_samples_reached\\\":false,\\\"exclude_nan_labels\\\":true,\\\"verbosity\\\":20,\\\"_debug_log\\\":\\\"azureml_automl.log\\\",\\\"show_warnings\\\":false,\\\"model_explainability\\\":true,\\\"service_url\\\":null,\\\"sdk_url\\\":null,\\\"sdk_packages\\\":null,\\\"enable_onnx_compatible_models\\\":false,\\\"enable_split_onnx_featurizer_estimator_models\\\":false,\\\"vm_type\\\":\\\"STANDARD_DS3_V2\\\",\\\"telemetry_verbosity\\\":20,\\\"send_telemetry\\\":true,\\\"enable_dnn\\\":false,\\\"scenario\\\":\\\"SDK-1.13.0\\\",\\\"environment_label\\\":null,\\\"force_text_dnn\\\":false,\\\"enable_feature_sweeping\\\":true,\\\"enable_early_stopping\\\":true,\\\"early_stopping_n_iters\\\":10,\\\"metrics\\\":null,\\\"enable_ensembling\\\":true,\\\"enable_stack_ensembling\\\":true,\\\"ensemble_iterations\\\":15,\\\"enable_tf\\\":false,\\\"enable_subsampling\\\":null,\\\"subsample_seed\\\":null,\\\"enable_nimbusml\\\":false,\\\"enable_streaming\\\":false,\\\"force_streaming\\\":false,\\\"track_child_runs\\\":true,\\\"allowed_private_models\\\":[],\\\"label_column_name\\\":\\\"Attrition_Flag\\\",\\\"weight_column_name\\\":null,\\\"cv_split_column_names\\\":null,\\\"enable_local_managed\\\":false,\\\"_local_managed_run_id\\\":null,\\\"cost_mode\\\":1,\\\"lag_length\\\":0,\\\"metric_operation\\\":\\\"maximize\\\",\\\"preprocess\\\":true}\", \"DataPrepJsonString\": \"{\\\\\\\"training_data\\\\\\\": \\\\\\\"{\\\\\\\\\\\\\\\"blocks\\\\\\\\\\\\\\\": [{\\\\\\\\\\\\\\\"id\\\\\\\\\\\\\\\": \\\\\\\\\\\\\\\"00508fa1-a651-42e9-b743-c27c632bf62f\\\\\\\\\\\\\\\", \\\\\\\\\\\\\\\"type\\\\\\\\\\\\\\\": \\\\\\\\\\\\\\\"Microsoft.DPrep.GetDatastoreFilesBlock\\\\\\\\\\\\\\\", \\\\\\\\\\\\\\\"arguments\\\\\\\\\\\\\\\": {\\\\\\\\\\\\\\\"datastores\\\\\\\\\\\\\\\": [{\\\\\\\\\\\\\\\"datastoreName\\\\\\\\\\\\\\\": \\\\\\\\\\\\\\\"workspaceblobstore\\\\\\\\\\\\\\\", \\\\\\\\\\\\\\\"path\\\\\\\\\\\\\\\": \\\\\\\\\\\\\\\"UI/01-14-2021_115245_UTC/BankChurners.csv\\\\\\\\\\\\\\\", \\\\\\\\\\\\\\\"resourceGroup\\\\\\\\\\\\\\\": \\\\\\\\\\\\\\\"aml-quickstarts-134654\\\\\\\\\\\\\\\", \\\\\\\\\\\\\\\"subscription\\\\\\\\\\\\\\\": \\\\\\\\\\\\\\\"3d1a56d2-7c81-4118-9790-f85d1acf0c77\\\\\\\\\\\\\\\", \\\\\\\\\\\\\\\"workspaceName\\\\\\\\\\\\\\\": \\\\\\\\\\\\\\\"quick-starts-ws-134654\\\\\\\\\\\\\\\"}]}, \\\\\\\\\\\\\\\"localData\\\\\\\\\\\\\\\": {}, \\\\\\\\\\\\\\\"isEnabled\\\\\\\\\\\\\\\": true, \\\\\\\\\\\\\\\"name\\\\\\\\\\\\\\\": null, \\\\\\\\\\\\\\\"annotation\\\\\\\\\\\\\\\": null}, {\\\\\\\\\\\\\\\"id\\\\\\\\\\\\\\\": \\\\\\\\\\\\\\\"1f88391c-d9a7-47c3-b7ba-de720f121827\\\\\\\\\\\\\\\", \\\\\\\\\\\\\\\"type\\\\\\\\\\\\\\\": \\\\\\\\\\\\\\\"Microsoft.DPrep.ParseDelimitedBlock\\\\\\\\\\\\\\\", \\\\\\\\\\\\\\\"arguments\\\\\\\\\\\\\\\": {\\\\\\\\\\\\\\\"columnHeadersMode\\\\\\\\\\\\\\\": 1, \\\\\\\\\\\\\\\"fileEncoding\\\\\\\\\\\\\\\": 0, \\\\\\\\\\\\\\\"handleQuotedLineBreaks\\\\\\\\\\\\\\\": false, \\\\\\\\\\\\\\\"preview\\\\\\\\\\\\\\\": false, \\\\\\\\\\\\\\\"separator\\\\\\\\\\\\\\\": \\\\\\\\\\\\\\\",\\\\\\\\\\\\\\\", \\\\\\\\\\\\\\\"skipRows\\\\\\\\\\\\\\\": 0, \\\\\\\\\\\\\\\"skipRowsMode\\\\\\\\\\\\\\\": 0}, \\\\\\\\\\\\\\\"localData\\\\\\\\\\\\\\\": {}, \\\\\\\\\\\\\\\"isEnabled\\\\\\\\\\\\\\\": true, \\\\\\\\\\\\\\\"name\\\\\\\\\\\\\\\": null, \\\\\\\\\\\\\\\"annotation\\\\\\\\\\\\\\\": null}, {\\\\\\\\\\\\\\\"id\\\\\\\\\\\\\\\": \\\\\\\\\\\\\\\"0a0cbad9-5092-42c7-aec7-1b84a54e74fe\\\\\\\\\\\\\\\", \\\\\\\\\\\\\\\"type\\\\\\\\\\\\\\\": \\\\\\\\\\\\\\\"Microsoft.DPrep.DropColumnsBlock\\\\\\\\\\\\\\\", \\\\\\\\\\\\\\\"arguments\\\\\\\\\\\\\\\": {\\\\\\\\\\\\\\\"columns\\\\\\\\\\\\\\\": {\\\\\\\\\\\\\\\"type\\\\\\\\\\\\\\\": 0, \\\\\\\\\\\\\\\"details\\\\\\\\\\\\\\\": {\\\\\\\\\\\\\\\"selectedColumns\\\\\\\\\\\\\\\": [\\\\\\\\\\\\\\\"Path\\\\\\\\\\\\\\\"]}}}, \\\\\\\\\\\\\\\"localData\\\\\\\\\\\\\\\": {}, \\\\\\\\\\\\\\\"isEnabled\\\\\\\\\\\\\\\": true, \\\\\\\\\\\\\\\"name\\\\\\\\\\\\\\\": null, \\\\\\\\\\\\\\\"annotation\\\\\\\\\\\\\\\": null}, {\\\\\\\\\\\\\\\"id\\\\\\\\\\\\\\\": \\\\\\\\\\\\\\\"fb36f008-edaf-4451-a1aa-a7d19915c6d9\\\\\\\\\\\\\\\", \\\\\\\\\\\\\\\"type\\\\\\\\\\\\\\\": \\\\\\\\\\\\\\\"Microsoft.DPrep.SetColumnTypesBlock\\\\\\\\\\\\\\\", \\\\\\\\\\\\\\\"arguments\\\\\\\\\\\\\\\": {\\\\\\\\\\\\\\\"columnConversion\\\\\\\\\\\\\\\": [{\\\\\\\\\\\\\\\"column\\\\\\\\\\\\\\\": {\\\\\\\\\\\\\\\"type\\\\\\\\\\\\\\\": 2, \\\\\\\\\\\\\\\"details\\\\\\\\\\\\\\\": {\\\\\\\\\\\\\\\"selectedColumn\\\\\\\\\\\\\\\": \\\\\\\\\\\\\\\"Path\\\\\\\\\\\\\\\"}}, \\\\\\\\\\\\\\\"typeProperty\\\\\\\\\\\\\\\": 0}, {\\\\\\\\\\\\\\\"column\\\\\\\\\\\\\\\": {\\\\\\\\\\\\\\\"type\\\\\\\\\\\\\\\": 2, \\\\\\\\\\\\\\\"details\\\\\\\\\\\\\\\": {\\\\\\\\\\\\\\\"selectedColumn\\\\\\\\\\\\\\\": \\\\\\\\\\\\\\\"CLIENTNUM\\\\\\\\\\\\\\\"}}, \\\\\\\\\\\\\\\"typeProperty\\\\\\\\\\\\\\\": 2}, {\\\\\\\\\\\\\\\"column\\\\\\\\\\\\\\\": {\\\\\\\\\\\\\\\"type\\\\\\\\\\\\\\\": 2, \\\\\\\\\\\\\\\"details\\\\\\\\\\\\\\\": {\\\\\\\\\\\\\\\"selectedColumn\\\\\\\\\\\\\\\": \\\\\\\\\\\\\\\"Attrition_Flag\\\\\\\\\\\\\\\"}}, \\\\\\\\\\\\\\\"typeProperty\\\\\\\\\\\\\\\": 0}, {\\\\\\\\\\\\\\\"column\\\\\\\\\\\\\\\": {\\\\\\\\\\\\\\\"type\\\\\\\\\\\\\\\": 2, \\\\\\\\\\\\\\\"details\\\\\\\\\\\\\\\": {\\\\\\\\\\\\\\\"selectedColumn\\\\\\\\\\\\\\\": \\\\\\\\\\\\\\\"Customer_Age\\\\\\\\\\\\\\\"}}, \\\\\\\\\\\\\\\"typeProperty\\\\\\\\\\\\\\\": 2}, {\\\\\\\\\\\\\\\"column\\\\\\\\\\\\\\\": {\\\\\\\\\\\\\\\"type\\\\\\\\\\\\\\\": 2, \\\\\\\\\\\\\\\"details\\\\\\\\\\\\\\\": {\\\\\\\\\\\\\\\"selectedColumn\\\\\\\\\\\\\\\": \\\\\\\\\\\\\\\"Gender\\\\\\\\\\\\\\\"}}, \\\\\\\\\\\\\\\"typeProperty\\\\\\\\\\\\\\\": 0}, {\\\\\\\\\\\\\\\"column\\\\\\\\\\\\\\\": {\\\\\\\\\\\\\\\"type\\\\\\\\\\\\\\\": 2, \\\\\\\\\\\\\\\"details\\\\\\\\\\\\\\\": {\\\\\\\\\\\\\\\"selectedColumn\\\\\\\\\\\\\\\": \\\\\\\\\\\\\\\"Dependent_count\\\\\\\\\\\\\\\"}}, \\\\\\\\\\\\\\\"typeProperty\\\\\\\\\\\\\\\": 2}, {\\\\\\\\\\\\\\\"column\\\\\\\\\\\\\\\": {\\\\\\\\\\\\\\\"type\\\\\\\\\\\\\\\": 2, \\\\\\\\\\\\\\\"details\\\\\\\\\\\\\\\": {\\\\\\\\\\\\\\\"selectedColumn\\\\\\\\\\\\\\\": \\\\\\\\\\\\\\\"Education_Level\\\\\\\\\\\\\\\"}}, \\\\\\\\\\\\\\\"typeProperty\\\\\\\\\\\\\\\": 0}, {\\\\\\\\\\\\\\\"column\\\\\\\\\\\\\\\": {\\\\\\\\\\\\\\\"type\\\\\\\\\\\\\\\": 2, \\\\\\\\\\\\\\\"details\\\\\\\\\\\\\\\": {\\\\\\\\\\\\\\\"selectedColumn\\\\\\\\\\\\\\\": \\\\\\\\\\\\\\\"Marital_Status\\\\\\\\\\\\\\\"}}, \\\\\\\\\\\\\\\"typeProperty\\\\\\\\\\\\\\\": 0}, {\\\\\\\\\\\\\\\"column\\\\\\\\\\\\\\\": {\\\\\\\\\\\\\\\"type\\\\\\\\\\\\\\\": 2, \\\\\\\\\\\\\\\"details\\\\\\\\\\\\\\\": {\\\\\\\\\\\\\\\"selectedColumn\\\\\\\\\\\\\\\": \\\\\\\\\\\\\\\"Income_Category\\\\\\\\\\\\\\\"}}, \\\\\\\\\\\\\\\"typeProperty\\\\\\\\\\\\\\\": 0}, {\\\\\\\\\\\\\\\"column\\\\\\\\\\\\\\\": {\\\\\\\\\\\\\\\"type\\\\\\\\\\\\\\\": 2, \\\\\\\\\\\\\\\"details\\\\\\\\\\\\\\\": {\\\\\\\\\\\\\\\"selectedColumn\\\\\\\\\\\\\\\": \\\\\\\\\\\\\\\"Card_Category\\\\\\\\\\\\\\\"}}, \\\\\\\\\\\\\\\"typeProperty\\\\\\\\\\\\\\\": 0}, {\\\\\\\\\\\\\\\"column\\\\\\\\\\\\\\\": {\\\\\\\\\\\\\\\"type\\\\\\\\\\\\\\\": 2, \\\\\\\\\\\\\\\"details\\\\\\\\\\\\\\\": {\\\\\\\\\\\\\\\"selectedColumn\\\\\\\\\\\\\\\": \\\\\\\\\\\\\\\"Months_on_book\\\\\\\\\\\\\\\"}}, \\\\\\\\\\\\\\\"typeProperty\\\\\\\\\\\\\\\": 2}, {\\\\\\\\\\\\\\\"column\\\\\\\\\\\\\\\": {\\\\\\\\\\\\\\\"type\\\\\\\\\\\\\\\": 2, \\\\\\\\\\\\\\\"details\\\\\\\\\\\\\\\": {\\\\\\\\\\\\\\\"selectedColumn\\\\\\\\\\\\\\\": \\\\\\\\\\\\\\\"Total_Relationship_Count\\\\\\\\\\\\\\\"}}, \\\\\\\\\\\\\\\"typeProperty\\\\\\\\\\\\\\\": 2}, {\\\\\\\\\\\\\\\"column\\\\\\\\\\\\\\\": {\\\\\\\\\\\\\\\"type\\\\\\\\\\\\\\\": 2, \\\\\\\\\\\\\\\"details\\\\\\\\\\\\\\\": {\\\\\\\\\\\\\\\"selectedColumn\\\\\\\\\\\\\\\": \\\\\\\\\\\\\\\"Months_Inactive_12_mon\\\\\\\\\\\\\\\"}}, \\\\\\\\\\\\\\\"typeProperty\\\\\\\\\\\\\\\": 2}, {\\\\\\\\\\\\\\\"column\\\\\\\\\\\\\\\": {\\\\\\\\\\\\\\\"type\\\\\\\\\\\\\\\": 2, \\\\\\\\\\\\\\\"details\\\\\\\\\\\\\\\": {\\\\\\\\\\\\\\\"selectedColumn\\\\\\\\\\\\\\\": \\\\\\\\\\\\\\\"Contacts_Count_12_mon\\\\\\\\\\\\\\\"}}, \\\\\\\\\\\\\\\"typeProperty\\\\\\\\\\\\\\\": 2}, {\\\\\\\\\\\\\\\"column\\\\\\\\\\\\\\\": {\\\\\\\\\\\\\\\"type\\\\\\\\\\\\\\\": 2, \\\\\\\\\\\\\\\"details\\\\\\\\\\\\\\\": {\\\\\\\\\\\\\\\"selectedColumn\\\\\\\\\\\\\\\": \\\\\\\\\\\\\\\"Credit_Limit\\\\\\\\\\\\\\\"}}, \\\\\\\\\\\\\\\"typeProperty\\\\\\\\\\\\\\\": 3}, {\\\\\\\\\\\\\\\"column\\\\\\\\\\\\\\\": {\\\\\\\\\\\\\\\"type\\\\\\\\\\\\\\\": 2, \\\\\\\\\\\\\\\"details\\\\\\\\\\\\\\\": {\\\\\\\\\\\\\\\"selectedColumn\\\\\\\\\\\\\\\": \\\\\\\\\\\\\\\"Total_Revolving_Bal\\\\\\\\\\\\\\\"}}, \\\\\\\\\\\\\\\"typeProperty\\\\\\\\\\\\\\\": 2}, {\\\\\\\\\\\\\\\"column\\\\\\\\\\\\\\\": {\\\\\\\\\\\\\\\"type\\\\\\\\\\\\\\\": 2, \\\\\\\\\\\\\\\"details\\\\\\\\\\\\\\\": {\\\\\\\\\\\\\\\"selectedColumn\\\\\\\\\\\\\\\": \\\\\\\\\\\\\\\"Avg_Open_To_Buy\\\\\\\\\\\\\\\"}}, \\\\\\\\\\\\\\\"typeProperty\\\\\\\\\\\\\\\": 3}, {\\\\\\\\\\\\\\\"column\\\\\\\\\\\\\\\": {\\\\\\\\\\\\\\\"type\\\\\\\\\\\\\\\": 2, \\\\\\\\\\\\\\\"details\\\\\\\\\\\\\\\": {\\\\\\\\\\\\\\\"selectedColumn\\\\\\\\\\\\\\\": \\\\\\\\\\\\\\\"Total_Amt_Chng_Q4_Q1\\\\\\\\\\\\\\\"}}, \\\\\\\\\\\\\\\"typeProperty\\\\\\\\\\\\\\\": 3}, {\\\\\\\\\\\\\\\"column\\\\\\\\\\\\\\\": {\\\\\\\\\\\\\\\"type\\\\\\\\\\\\\\\": 2, \\\\\\\\\\\\\\\"details\\\\\\\\\\\\\\\": {\\\\\\\\\\\\\\\"selectedColumn\\\\\\\\\\\\\\\": \\\\\\\\\\\\\\\"Total_Trans_Amt\\\\\\\\\\\\\\\"}}, \\\\\\\\\\\\\\\"typeProperty\\\\\\\\\\\\\\\": 2}, {\\\\\\\\\\\\\\\"column\\\\\\\\\\\\\\\": {\\\\\\\\\\\\\\\"type\\\\\\\\\\\\\\\": 2, \\\\\\\\\\\\\\\"details\\\\\\\\\\\\\\\": {\\\\\\\\\\\\\\\"selectedColumn\\\\\\\\\\\\\\\": \\\\\\\\\\\\\\\"Total_Trans_Ct\\\\\\\\\\\\\\\"}}, \\\\\\\\\\\\\\\"typeProperty\\\\\\\\\\\\\\\": 2}, {\\\\\\\\\\\\\\\"column\\\\\\\\\\\\\\\": {\\\\\\\\\\\\\\\"type\\\\\\\\\\\\\\\": 2, \\\\\\\\\\\\\\\"details\\\\\\\\\\\\\\\": {\\\\\\\\\\\\\\\"selectedColumn\\\\\\\\\\\\\\\": \\\\\\\\\\\\\\\"Total_Ct_Chng_Q4_Q1\\\\\\\\\\\\\\\"}}, \\\\\\\\\\\\\\\"typeProperty\\\\\\\\\\\\\\\": 3}, {\\\\\\\\\\\\\\\"column\\\\\\\\\\\\\\\": {\\\\\\\\\\\\\\\"type\\\\\\\\\\\\\\\": 2, \\\\\\\\\\\\\\\"details\\\\\\\\\\\\\\\": {\\\\\\\\\\\\\\\"selectedColumn\\\\\\\\\\\\\\\": \\\\\\\\\\\\\\\"Avg_Utilization_Ratio\\\\\\\\\\\\\\\"}}, \\\\\\\\\\\\\\\"typeProperty\\\\\\\\\\\\\\\": 3}]}, \\\\\\\\\\\\\\\"localData\\\\\\\\\\\\\\\": {}, \\\\\\\\\\\\\\\"isEnabled\\\\\\\\\\\\\\\": true, \\\\\\\\\\\\\\\"name\\\\\\\\\\\\\\\": null, \\\\\\\\\\\\\\\"annotation\\\\\\\\\\\\\\\": null}], \\\\\\\\\\\\\\\"inspectors\\\\\\\\\\\\\\\": [], \\\\\\\\\\\\\\\"meta\\\\\\\\\\\\\\\": {\\\\\\\\\\\\\\\"savedDatasetId\\\\\\\\\\\\\\\": \\\\\\\\\\\\\\\"e30927c2-bfd1-4d2f-9263-4a2c008dca64\\\\\\\\\\\\\\\", \\\\\\\\\\\\\\\"datasetType\\\\\\\\\\\\\\\": \\\\\\\\\\\\\\\"tabular\\\\\\\\\\\\\\\", \\\\\\\\\\\\\\\"subscriptionId\\\\\\\\\\\\\\\": \\\\\\\\\\\\\\\"3d1a56d2-7c81-4118-9790-f85d1acf0c77\\\\\\\\\\\\\\\", \\\\\\\\\\\\\\\"workspaceId\\\\\\\\\\\\\\\": \\\\\\\\\\\\\\\"79054f72-7ba9-41a0-b184-2050e2af404a\\\\\\\\\\\\\\\", \\\\\\\\\\\\\\\"workspaceLocation\\\\\\\\\\\\\\\": \\\\\\\\\\\\\\\"southcentralus\\\\\\\\\\\\\\\"}}\\\\\\\", \\\\\\\"activities\\\\\\\": 0}\", \"EnableSubsampling\": null, \"runTemplate\": \"AutoML\", \"azureml.runsource\": \"automl\", \"display_task_type\": \"classification\", \"dependencies_versions\": \"{\\\"azureml-widgets\\\": \\\"1.19.0\\\", \\\"azureml-train\\\": \\\"1.19.0\\\", \\\"azureml-train-restclients-hyperdrive\\\": \\\"1.19.0\\\", \\\"azureml-train-core\\\": \\\"1.19.0\\\", \\\"azureml-train-automl\\\": \\\"1.19.0\\\", \\\"azureml-train-automl-runtime\\\": \\\"1.19.0\\\", \\\"azureml-train-automl-client\\\": \\\"1.19.0\\\", \\\"azureml-tensorboard\\\": \\\"1.19.0\\\", \\\"azureml-telemetry\\\": \\\"1.19.0\\\", \\\"azureml-sdk\\\": \\\"1.19.0\\\", \\\"azureml-samples\\\": \\\"0+unknown\\\", \\\"azureml-pipeline\\\": \\\"1.19.0\\\", \\\"azureml-pipeline-steps\\\": \\\"1.19.0\\\", \\\"azureml-pipeline-core\\\": \\\"1.19.0\\\", \\\"azureml-opendatasets\\\": \\\"1.19.0\\\", \\\"azureml-model-management-sdk\\\": \\\"1.0.1b6.post1\\\", \\\"azureml-mlflow\\\": \\\"1.19.0\\\", \\\"azureml-interpret\\\": \\\"1.19.0\\\", \\\"azureml-explain-model\\\": \\\"1.19.0\\\", \\\"azureml-defaults\\\": \\\"1.19.0\\\", \\\"azureml-dataset-runtime\\\": \\\"1.19.0\\\", \\\"azureml-dataprep\\\": \\\"2.6.1\\\", \\\"azureml-dataprep-rslex\\\": \\\"1.4.0\\\", \\\"azureml-dataprep-native\\\": \\\"26.0.0\\\", \\\"azureml-datadrift\\\": \\\"1.19.0\\\", \\\"azureml-core\\\": \\\"1.19.0\\\", \\\"azureml-contrib-services\\\": \\\"1.19.0\\\", \\\"azureml-contrib-server\\\": \\\"1.19.0\\\", \\\"azureml-contrib-reinforcementlearning\\\": \\\"1.19.0\\\", \\\"azureml-contrib-pipeline-steps\\\": \\\"1.19.0\\\", \\\"azureml-contrib-notebook\\\": \\\"1.19.0\\\", \\\"azureml-contrib-interpret\\\": \\\"1.19.0\\\", \\\"azureml-contrib-gbdt\\\": \\\"1.19.0\\\", \\\"azureml-contrib-fairness\\\": \\\"1.19.0\\\", \\\"azureml-contrib-dataset\\\": \\\"1.19.0\\\", \\\"azureml-cli-common\\\": \\\"1.19.0\\\", \\\"azureml-automl-runtime\\\": \\\"1.19.0\\\", \\\"azureml-automl-core\\\": \\\"1.19.0\\\", \\\"azureml-accel-models\\\": \\\"1.19.0\\\"}\", \"_aml_system_scenario_identification\": \"Remote.Parent\", \"ClientType\": \"SDK\", \"environment_cpu_name\": \"AzureML-AutoML\", \"environment_cpu_label\": \"prod\", \"environment_gpu_name\": \"AzureML-AutoML-GPU\", \"environment_gpu_label\": \"prod\", \"root_attribution\": \"automl\", \"attribution\": \"AutoML\", \"Orchestrator\": \"AutoML\", \"CancelUri\": \"https://southcentralus.experiments.azureml.net/jasmine/v1.0/subscriptions/3d1a56d2-7c81-4118-9790-f85d1acf0c77/resourceGroups/aml-quickstarts-134654/providers/Microsoft.MachineLearningServices/workspaces/quick-starts-ws-134654/experimentids/9c2f41e7-2d92-48f6-9325-757089f1462d/cancel/AutoML_81dfe262-4304-41ca-8572-ddde08afa446\", \"ClientSdkVersion\": \"1.19.0\", \"snapshotId\": \"00000000-0000-0000-0000-000000000000\", \"SetupRunId\": \"AutoML_81dfe262-4304-41ca-8572-ddde08afa446_setup\", \"SetupRunContainerId\": \"dcid.AutoML_81dfe262-4304-41ca-8572-ddde08afa446_setup\", \"FeaturizationRunJsonPath\": \"featurizer_container.json\", \"FeaturizationRunId\": \"AutoML_81dfe262-4304-41ca-8572-ddde08afa446_featurize\", \"ProblemInfoJsonString\": \"{\\\"dataset_num_categorical\\\": 0, \\\"is_sparse\\\": true, \\\"subsampling\\\": false, \\\"dataset_classes\\\": 2, \\\"dataset_features\\\": 146, \\\"dataset_samples\\\": 10127, \\\"single_frequency_class_detected\\\": false}\", \"ModelExplainRunId\": \"AutoML_81dfe262-4304-41ca-8572-ddde08afa446_ModelExplain\"}, \"tags\": {\"model_explain_run\": \"best_run\", \"_aml_system_azureml.automlComponent\": \"AutoML\", \"pipeline_id\": \"\", \"score\": \"\", \"predicted_cost\": \"\", \"fit_time\": \"\", \"training_percent\": \"\", \"iteration\": \"\", \"run_preprocessor\": \"\", \"run_algorithm\": \"\", \"dynamic_whitelisting_iterations\": \"<25>;<30>;<35>;\", \"automl_best_child_run_id\": \"AutoML_81dfe262-4304-41ca-8572-ddde08afa446_38\", \"model_explain_best_run_child_id\": \"AutoML_81dfe262-4304-41ca-8572-ddde08afa446_38\"}, \"end_time_utc\": \"2021-01-14T12:14:46.138694Z\", \"status\": \"Completed\", \"log_files\": {}, \"log_groups\": [], \"run_duration\": \"0:16:18\"}, \"child_runs\": [{\"run_id\": \"AutoML_81dfe262-4304-41ca-8572-ddde08afa446_0\", \"run_number\": 5, \"metric\": null, \"status\": \"Completed\", \"run_type\": \"azureml.scriptrun\", \"training_percent\": \"100\", \"start_time\": \"2021-01-14T12:04:05.413232Z\", \"end_time\": \"2021-01-14T12:04:54.022856Z\", \"created_time\": \"2021-01-14T12:03:52.727581Z\", \"created_time_dt\": \"2021-01-14T12:03:52.727581Z\", \"duration\": \"0:01:01\", \"iteration\": \"0\", \"goal\": \"accuracy_max\", \"run_name\": \"MaxAbsScaler, LightGBM\", \"run_properties\": \"copy=True\", \"primary_metric\": 0.96909245, \"best_metric\": 0.96909245}, {\"run_id\": \"AutoML_81dfe262-4304-41ca-8572-ddde08afa446_2\", \"run_number\": 6, \"metric\": null, \"status\": \"Completed\", \"run_type\": \"azureml.scriptrun\", \"training_percent\": \"100\", \"start_time\": \"2021-01-14T12:04:05.909025Z\", \"end_time\": \"2021-01-14T12:04:51.593146Z\", \"created_time\": \"2021-01-14T12:03:52.740222Z\", \"created_time_dt\": \"2021-01-14T12:03:52.740222Z\", \"duration\": \"0:00:58\", \"iteration\": \"2\", \"goal\": \"accuracy_max\", \"run_name\": \"MaxAbsScaler, RandomForest\", \"run_properties\": \"copy=True\", \"primary_metric\": 0.85948265, \"best_metric\": 0.96909245}, {\"run_id\": \"AutoML_81dfe262-4304-41ca-8572-ddde08afa446_1\", \"run_number\": 7, \"metric\": null, \"status\": \"Completed\", \"run_type\": \"azureml.scriptrun\", \"training_percent\": \"100\", \"start_time\": \"2021-01-14T12:04:07.825606Z\", \"end_time\": \"2021-01-14T12:04:54.510951Z\", \"created_time\": \"2021-01-14T12:03:52.742225Z\", \"created_time_dt\": \"2021-01-14T12:03:52.742225Z\", \"duration\": \"0:01:01\", \"iteration\": \"1\", \"goal\": \"accuracy_max\", \"run_name\": \"MaxAbsScaler, XGBoostClassifier\", \"run_properties\": \"copy=True\", \"primary_metric\": 0.96030428, \"best_metric\": 0.96909245}, {\"run_id\": \"AutoML_81dfe262-4304-41ca-8572-ddde08afa446_3\", \"run_number\": 8, \"metric\": null, \"status\": \"Completed\", \"run_type\": \"azureml.scriptrun\", \"training_percent\": \"100\", \"start_time\": \"2021-01-14T12:04:05.635893Z\", \"end_time\": \"2021-01-14T12:04:54.283991Z\", \"created_time\": \"2021-01-14T12:03:52.792397Z\", \"created_time_dt\": \"2021-01-14T12:03:52.792397Z\", \"duration\": \"0:01:01\", \"iteration\": \"3\", \"goal\": \"accuracy_max\", \"run_name\": \"MaxAbsScaler, RandomForest\", \"run_properties\": \"copy=True\", \"primary_metric\": 0.85119016, \"best_metric\": 0.96909245}, {\"run_id\": \"AutoML_81dfe262-4304-41ca-8572-ddde08afa446_4\", \"run_number\": 9, \"metric\": null, \"status\": \"Completed\", \"run_type\": \"azureml.scriptrun\", \"training_percent\": \"100\", \"start_time\": \"2021-01-14T12:04:06.093591Z\", \"end_time\": \"2021-01-14T12:04:48.885503Z\", \"created_time\": \"2021-01-14T12:03:52.790022Z\", \"created_time_dt\": \"2021-01-14T12:03:52.790022Z\", \"duration\": \"0:00:56\", \"iteration\": \"4\", \"goal\": \"accuracy_max\", \"run_name\": \"MaxAbsScaler, RandomForest\", \"run_properties\": \"copy=True\", \"primary_metric\": 0.85731236, \"best_metric\": 0.96909245}, {\"run_id\": \"AutoML_81dfe262-4304-41ca-8572-ddde08afa446_5\", \"run_number\": 10, \"metric\": null, \"status\": \"Completed\", \"run_type\": \"azureml.scriptrun\", \"training_percent\": \"100\", \"start_time\": \"2021-01-14T12:05:05.464407Z\", \"end_time\": \"2021-01-14T12:05:48.774146Z\", \"created_time\": \"2021-01-14T12:04:51.836799Z\", \"created_time_dt\": \"2021-01-14T12:04:51.836799Z\", \"duration\": \"0:00:56\", \"iteration\": \"5\", \"goal\": \"accuracy_max\", \"run_name\": \"MaxAbsScaler, RandomForest\", \"run_properties\": \"copy=True\", \"primary_metric\": 0.73496571, \"best_metric\": 0.96909245}, {\"run_id\": \"AutoML_81dfe262-4304-41ca-8572-ddde08afa446_6\", \"run_number\": 11, \"metric\": null, \"status\": \"Completed\", \"run_type\": \"azureml.scriptrun\", \"training_percent\": \"100\", \"start_time\": \"2021-01-14T12:05:06.532983Z\", \"end_time\": \"2021-01-14T12:05:59.838036Z\", \"created_time\": \"2021-01-14T12:04:55.421707Z\", \"created_time_dt\": \"2021-01-14T12:04:55.421707Z\", \"duration\": \"0:01:04\", \"iteration\": \"6\", \"goal\": \"accuracy_max\", \"run_name\": \"SparseNormalizer, XGBoostClassifier\", \"run_properties\": \"<azureml.automl.runtime.shared.model_wrappers.SparseNormalizer object at 0x7fd4ad2e6748\", \"primary_metric\": 0.96474779, \"best_metric\": 0.96909245}, {\"run_id\": \"AutoML_81dfe262-4304-41ca-8572-ddde08afa446_8\", \"run_number\": 12, \"metric\": null, \"status\": \"Completed\", \"run_type\": \"azureml.scriptrun\", \"training_percent\": \"100\", \"start_time\": \"2021-01-14T12:05:11.323649Z\", \"end_time\": \"2021-01-14T12:06:09.696315Z\", \"created_time\": \"2021-01-14T12:04:59.259298Z\", \"created_time_dt\": \"2021-01-14T12:04:59.259298Z\", \"duration\": \"0:01:10\", \"iteration\": \"8\", \"goal\": \"accuracy_max\", \"run_name\": \"SparseNormalizer, XGBoostClassifier\", \"run_properties\": \"<azureml.automl.runtime.shared.model_wrappers.SparseNormalizer object at 0x7f5c19c08128\", \"primary_metric\": 0.96613007, \"best_metric\": 0.96909245}, {\"run_id\": \"AutoML_81dfe262-4304-41ca-8572-ddde08afa446_9\", \"run_number\": 13, \"metric\": null, \"status\": \"Completed\", \"run_type\": \"azureml.scriptrun\", \"training_percent\": \"100\", \"start_time\": \"2021-01-14T12:05:09.795928Z\", \"end_time\": \"2021-01-14T12:06:00.185013Z\", \"created_time\": \"2021-01-14T12:04:59.266833Z\", \"created_time_dt\": \"2021-01-14T12:04:59.266833Z\", \"duration\": \"0:01:00\", \"iteration\": \"9\", \"goal\": \"accuracy_max\", \"run_name\": \"SparseNormalizer, XGBoostClassifier\", \"run_properties\": \"<azureml.automl.runtime.shared.model_wrappers.SparseNormalizer object at 0x7f5114f8ee80\", \"primary_metric\": 0.96247657, \"best_metric\": 0.96909245}, {\"run_id\": \"AutoML_81dfe262-4304-41ca-8572-ddde08afa446_7\", \"run_number\": 14, \"metric\": null, \"status\": \"Completed\", \"run_type\": \"azureml.scriptrun\", \"training_percent\": \"100\", \"start_time\": \"2021-01-14T12:05:18.63972Z\", \"end_time\": \"2021-01-14T12:06:04.781949Z\", \"created_time\": \"2021-01-14T12:04:59.274321Z\", \"created_time_dt\": \"2021-01-14T12:04:59.274321Z\", \"duration\": \"0:01:05\", \"iteration\": \"7\", \"goal\": \"accuracy_max\", \"run_name\": \"SparseNormalizer, XGBoostClassifier\", \"run_properties\": \"<azureml.automl.runtime.shared.model_wrappers.SparseNormalizer object at 0x7f5e9e7a22e8\", \"primary_metric\": 0.95526789, \"best_metric\": 0.96909245}, {\"run_id\": \"AutoML_81dfe262-4304-41ca-8572-ddde08afa446_10\", \"run_number\": 15, \"metric\": null, \"status\": \"Completed\", \"run_type\": \"azureml.scriptrun\", \"training_percent\": \"100\", \"start_time\": \"2021-01-14T12:06:05.124794Z\", \"end_time\": \"2021-01-14T12:07:30.216397Z\", \"created_time\": \"2021-01-14T12:05:50.41174Z\", \"created_time_dt\": \"2021-01-14T12:05:50.41174Z\", \"duration\": \"0:01:39\", \"iteration\": \"10\", \"goal\": \"accuracy_max\", \"run_name\": \"SparseNormalizer, XGBoostClassifier\", \"run_properties\": \"<azureml.automl.runtime.shared.model_wrappers.SparseNormalizer object at 0x7f641b232da0\", \"primary_metric\": 0.94509757, \"best_metric\": 0.96909245}, {\"run_id\": \"AutoML_81dfe262-4304-41ca-8572-ddde08afa446_11\", \"run_number\": 16, \"metric\": null, \"status\": \"Completed\", \"run_type\": \"azureml.scriptrun\", \"training_percent\": \"100\", \"start_time\": \"2021-01-14T12:06:15.128895Z\", \"end_time\": \"2021-01-14T12:07:01.502431Z\", \"created_time\": \"2021-01-14T12:06:02.358443Z\", \"created_time_dt\": \"2021-01-14T12:06:02.358443Z\", \"duration\": \"0:00:59\", \"iteration\": \"11\", \"goal\": \"accuracy_max\", \"run_name\": \"StandardScalerWrapper, RandomForest\", \"run_properties\": \"<azureml.automl.runtime.shared.model_wrappers.StandardScalerWrapper object at 0x7fe1d5aa0550\", \"primary_metric\": 0.89730463, \"best_metric\": 0.96909245}, {\"run_id\": \"AutoML_81dfe262-4304-41ca-8572-ddde08afa446_12\", \"run_number\": 17, \"metric\": null, \"status\": \"Completed\", \"run_type\": \"azureml.scriptrun\", \"training_percent\": \"100\", \"start_time\": \"2021-01-14T12:06:16.06251Z\", \"end_time\": \"2021-01-14T12:07:18.697793Z\", \"created_time\": \"2021-01-14T12:06:02.369778Z\", \"created_time_dt\": \"2021-01-14T12:06:02.369778Z\", \"duration\": \"0:01:16\", \"iteration\": \"12\", \"goal\": \"accuracy_max\", \"run_name\": \"MaxAbsScaler, ExtremeRandomTrees\", \"run_properties\": \"copy=True\", \"primary_metric\": 0.87824571, \"best_metric\": 0.96909245}, {\"run_id\": \"AutoML_81dfe262-4304-41ca-8572-ddde08afa446_13\", \"run_number\": 18, \"metric\": null, \"status\": \"Completed\", \"run_type\": \"azureml.scriptrun\", \"training_percent\": \"100\", \"start_time\": \"2021-01-14T12:06:18.123538Z\", \"end_time\": \"2021-01-14T12:07:03.838849Z\", \"created_time\": \"2021-01-14T12:06:06.520819Z\", \"created_time_dt\": \"2021-01-14T12:06:06.520819Z\", \"duration\": \"0:00:57\", \"iteration\": \"13\", \"goal\": \"accuracy_max\", \"run_name\": \"MaxAbsScaler, LogisticRegression\", \"run_properties\": \"copy=True\", \"primary_metric\": 0.9116222, \"best_metric\": 0.96909245}, {\"run_id\": \"AutoML_81dfe262-4304-41ca-8572-ddde08afa446_14\", \"run_number\": 19, \"metric\": null, \"status\": \"Completed\", \"run_type\": \"azureml.scriptrun\", \"training_percent\": \"100\", \"start_time\": \"2021-01-14T12:06:23.417453Z\", \"end_time\": \"2021-01-14T12:07:27.391685Z\", \"created_time\": \"2021-01-14T12:06:11.459878Z\", \"created_time_dt\": \"2021-01-14T12:06:11.459878Z\", \"duration\": \"0:01:15\", \"iteration\": \"14\", \"goal\": \"accuracy_max\", \"run_name\": \"MaxAbsScaler, ExtremeRandomTrees\", \"run_properties\": \"copy=True\", \"primary_metric\": 0.83933968, \"best_metric\": 0.96909245}, {\"run_id\": \"AutoML_81dfe262-4304-41ca-8572-ddde08afa446_15\", \"run_number\": 20, \"metric\": null, \"status\": \"Completed\", \"run_type\": \"azureml.scriptrun\", \"training_percent\": \"100\", \"start_time\": \"2021-01-14T12:07:18.512961Z\", \"end_time\": \"2021-01-14T12:08:02.741599Z\", \"created_time\": \"2021-01-14T12:07:04.025817Z\", \"created_time_dt\": \"2021-01-14T12:07:04.025817Z\", \"duration\": \"0:00:58\", \"iteration\": \"15\", \"goal\": \"accuracy_max\", \"run_name\": \"MaxAbsScaler, LightGBM\", \"run_properties\": \"copy=True\", \"primary_metric\": 0.89345299, \"best_metric\": 0.96909245}, {\"run_id\": \"AutoML_81dfe262-4304-41ca-8572-ddde08afa446_16\", \"run_number\": 21, \"metric\": null, \"status\": \"Completed\", \"run_type\": \"azureml.scriptrun\", \"training_percent\": \"100\", \"start_time\": \"2021-01-14T12:07:21.774629Z\", \"end_time\": \"2021-01-14T12:08:03.667777Z\", \"created_time\": \"2021-01-14T12:07:10.536534Z\", \"created_time_dt\": \"2021-01-14T12:07:10.536534Z\", \"duration\": \"0:00:53\", \"iteration\": \"16\", \"goal\": \"accuracy_max\", \"run_name\": \"SparseNormalizer, LightGBM\", \"run_properties\": \"<azureml.automl.runtime.shared.model_wrappers.SparseNormalizer object at 0x7f64240c1c88\", \"primary_metric\": 0.90796881, \"best_metric\": 0.96909245}, {\"run_id\": \"AutoML_81dfe262-4304-41ca-8572-ddde08afa446_17\", \"run_number\": 22, \"metric\": null, \"status\": \"Completed\", \"run_type\": \"azureml.scriptrun\", \"training_percent\": \"100\", \"start_time\": \"2021-01-14T12:07:32.149928Z\", \"end_time\": \"2021-01-14T12:08:18.79631Z\", \"created_time\": \"2021-01-14T12:07:20.486744Z\", \"created_time_dt\": \"2021-01-14T12:07:20.486744Z\", \"duration\": \"0:00:58\", \"iteration\": \"17\", \"goal\": \"accuracy_max\", \"run_name\": \"MaxAbsScaler, ExtremeRandomTrees\", \"run_properties\": \"copy=True\", \"primary_metric\": 0.870346, \"best_metric\": 0.96909245}, {\"run_id\": \"AutoML_81dfe262-4304-41ca-8572-ddde08afa446_18\", \"run_number\": 23, \"metric\": null, \"status\": \"Completed\", \"run_type\": \"azureml.scriptrun\", \"training_percent\": \"100\", \"start_time\": \"2021-01-14T12:07:45.43642Z\", \"end_time\": \"2021-01-14T12:09:01.584299Z\", \"created_time\": \"2021-01-14T12:07:29.453219Z\", \"created_time_dt\": \"2021-01-14T12:07:29.453219Z\", \"duration\": \"0:01:32\", \"iteration\": \"18\", \"goal\": \"accuracy_max\", \"run_name\": \"SparseNormalizer, XGBoostClassifier\", \"run_properties\": \"<azureml.automl.runtime.shared.model_wrappers.SparseNormalizer object at 0x7f728c6e5390\", \"primary_metric\": 0.96534003, \"best_metric\": 0.96909245}, {\"run_id\": \"AutoML_81dfe262-4304-41ca-8572-ddde08afa446_19\", \"run_number\": 24, \"metric\": null, \"status\": \"Completed\", \"run_type\": \"azureml.scriptrun\", \"training_percent\": \"100\", \"start_time\": \"2021-01-14T12:07:44.755564Z\", \"end_time\": \"2021-01-14T12:08:26.630017Z\", \"created_time\": \"2021-01-14T12:07:32.908564Z\", \"created_time_dt\": \"2021-01-14T12:07:32.908564Z\", \"duration\": \"0:00:53\", \"iteration\": \"19\", \"goal\": \"accuracy_max\", \"run_name\": \"MaxAbsScaler, LightGBM\", \"run_properties\": \"copy=True\", \"primary_metric\": 0.91142502, \"best_metric\": 0.96909245}, {\"run_id\": \"AutoML_81dfe262-4304-41ca-8572-ddde08afa446_20\", \"run_number\": 25, \"metric\": null, \"status\": \"Completed\", \"run_type\": \"azureml.scriptrun\", \"training_percent\": \"100\", \"start_time\": \"2021-01-14T12:08:17.282747Z\", \"end_time\": \"2021-01-14T12:09:11.317685Z\", \"created_time\": \"2021-01-14T12:08:04.981897Z\", \"created_time_dt\": \"2021-01-14T12:08:04.981897Z\", \"duration\": \"0:01:06\", \"iteration\": \"20\", \"goal\": \"accuracy_max\", \"run_name\": \"MaxAbsScaler, LightGBM\", \"run_properties\": \"copy=True\", \"primary_metric\": 0.94963975, \"best_metric\": 0.96909245}, {\"run_id\": \"AutoML_81dfe262-4304-41ca-8572-ddde08afa446_21\", \"run_number\": 26, \"metric\": null, \"status\": \"Completed\", \"run_type\": \"azureml.scriptrun\", \"training_percent\": \"100\", \"start_time\": \"2021-01-14T12:08:19.690217Z\", \"end_time\": \"2021-01-14T12:09:22.297035Z\", \"created_time\": \"2021-01-14T12:08:08.148129Z\", \"created_time_dt\": \"2021-01-14T12:08:08.148129Z\", \"duration\": \"0:01:14\", \"iteration\": \"21\", \"goal\": \"accuracy_max\", \"run_name\": \"SparseNormalizer, XGBoostClassifier\", \"run_properties\": \"<azureml.automl.runtime.shared.model_wrappers.SparseNormalizer object at 0x7f89453d53c8\", \"primary_metric\": 0.96790752, \"best_metric\": 0.96909245}, {\"run_id\": \"AutoML_81dfe262-4304-41ca-8572-ddde08afa446_22\", \"run_number\": 27, \"metric\": null, \"status\": \"Completed\", \"run_type\": \"azureml.scriptrun\", \"training_percent\": \"100\", \"start_time\": \"2021-01-14T12:08:34.565739Z\", \"end_time\": \"2021-01-14T12:09:19.315075Z\", \"created_time\": \"2021-01-14T12:08:22.71342Z\", \"created_time_dt\": \"2021-01-14T12:08:22.71342Z\", \"duration\": \"0:00:56\", \"iteration\": \"22\", \"goal\": \"accuracy_max\", \"run_name\": \"SparseNormalizer, LightGBM\", \"run_properties\": \"<azureml.automl.runtime.shared.model_wrappers.SparseNormalizer object at 0x7f4bdc4476a0\", \"primary_metric\": 0.87953104, \"best_metric\": 0.96909245}, {\"run_id\": \"AutoML_81dfe262-4304-41ca-8572-ddde08afa446_23\", \"run_number\": 28, \"metric\": null, \"status\": \"Completed\", \"run_type\": \"azureml.scriptrun\", \"training_percent\": \"100\", \"start_time\": \"2021-01-14T12:08:45.758441Z\", \"end_time\": \"2021-01-14T12:09:52.07603Z\", \"created_time\": \"2021-01-14T12:08:29.041036Z\", \"created_time_dt\": \"2021-01-14T12:08:29.041036Z\", \"duration\": \"0:01:23\", \"iteration\": \"23\", \"goal\": \"accuracy_max\", \"run_name\": \"SparseNormalizer, XGBoostClassifier\", \"run_properties\": \"<azureml.automl.runtime.shared.model_wrappers.SparseNormalizer object at 0x7f4b103b9e48\", \"primary_metric\": 0.96534015, \"best_metric\": 0.96909245}, {\"run_id\": \"AutoML_81dfe262-4304-41ca-8572-ddde08afa446_24\", \"run_number\": 29, \"metric\": null, \"status\": \"Completed\", \"run_type\": \"azureml.scriptrun\", \"training_percent\": \"100\", \"start_time\": \"2021-01-14T12:09:15.964065Z\", \"end_time\": \"2021-01-14T12:10:09.749043Z\", \"created_time\": \"2021-01-14T12:09:03.898146Z\", \"created_time_dt\": \"2021-01-14T12:09:03.898146Z\", \"duration\": \"0:01:05\", \"iteration\": \"24\", \"goal\": \"accuracy_max\", \"run_name\": \"SparseNormalizer, LightGBM\", \"run_properties\": \"<azureml.automl.runtime.shared.model_wrappers.SparseNormalizer object at 0x7fbace61e5c0\", \"primary_metric\": 0.95744067, \"best_metric\": 0.96909245}, {\"run_id\": \"AutoML_81dfe262-4304-41ca-8572-ddde08afa446_25\", \"run_number\": 30, \"metric\": null, \"status\": \"Completed\", \"run_type\": \"azureml.scriptrun\", \"training_percent\": \"100\", \"start_time\": \"2021-01-14T12:09:30.853555Z\", \"end_time\": \"2021-01-14T12:10:15.455972Z\", \"created_time\": \"2021-01-14T12:09:14.573931Z\", \"created_time_dt\": \"2021-01-14T12:09:14.573931Z\", \"duration\": \"0:01:00\", \"iteration\": \"25\", \"goal\": \"accuracy_max\", \"run_name\": \"SparseNormalizer, LightGBM\", \"run_properties\": \"<azureml.automl.runtime.shared.model_wrappers.SparseNormalizer object at 0x7fd1b0dfc048\", \"primary_metric\": 0.96227895, \"best_metric\": 0.96909245}, {\"run_id\": \"AutoML_81dfe262-4304-41ca-8572-ddde08afa446_26\", \"run_number\": 31, \"metric\": null, \"status\": \"Completed\", \"run_type\": \"azureml.scriptrun\", \"training_percent\": \"100\", \"start_time\": \"2021-01-14T12:09:36.828228Z\", \"end_time\": \"2021-01-14T12:10:44.304471Z\", \"created_time\": \"2021-01-14T12:09:21.254621Z\", \"created_time_dt\": \"2021-01-14T12:09:21.254621Z\", \"duration\": \"0:01:23\", \"iteration\": \"26\", \"goal\": \"accuracy_max\", \"run_name\": \"SparseNormalizer, XGBoostClassifier\", \"run_properties\": \"<azureml.automl.runtime.shared.model_wrappers.SparseNormalizer object at 0x7f5da11bc550\", \"primary_metric\": 0.96780885, \"best_metric\": 0.96909245}, {\"run_id\": \"AutoML_81dfe262-4304-41ca-8572-ddde08afa446_27\", \"run_number\": 32, \"metric\": null, \"status\": \"Completed\", \"run_type\": \"azureml.scriptrun\", \"training_percent\": \"100\", \"start_time\": \"2021-01-14T12:09:40.720636Z\", \"end_time\": \"2021-01-14T12:10:44.520585Z\", \"created_time\": \"2021-01-14T12:09:28.391294Z\", \"created_time_dt\": \"2021-01-14T12:09:28.391294Z\", \"duration\": \"0:01:16\", \"iteration\": \"27\", \"goal\": \"accuracy_max\", \"run_name\": \"StandardScalerWrapper, LogisticRegression\", \"run_properties\": \"<azureml.automl.runtime.shared.model_wrappers.StandardScalerWrapper object at 0x7fc6bd76efd0\", \"primary_metric\": 0.91063481, \"best_metric\": 0.96909245}, {\"run_id\": \"AutoML_81dfe262-4304-41ca-8572-ddde08afa446_28\", \"run_number\": 33, \"metric\": null, \"status\": \"Completed\", \"run_type\": \"azureml.scriptrun\", \"training_percent\": \"100\", \"start_time\": \"2021-01-14T12:10:07.366269Z\", \"end_time\": \"2021-01-14T12:10:58.009872Z\", \"created_time\": \"2021-01-14T12:09:54.330949Z\", \"created_time_dt\": \"2021-01-14T12:09:54.330949Z\", \"duration\": \"0:01:03\", \"iteration\": \"28\", \"goal\": \"accuracy_max\", \"run_name\": \"MaxAbsScaler, LogisticRegression\", \"run_properties\": \"copy=True\", \"primary_metric\": 0.91152335, \"best_metric\": 0.96909245}, {\"run_id\": \"AutoML_81dfe262-4304-41ca-8572-ddde08afa446_29\", \"run_number\": 34, \"metric\": null, \"status\": \"Completed\", \"run_type\": \"azureml.scriptrun\", \"training_percent\": \"100\", \"start_time\": \"2021-01-14T12:10:24.045729Z\", \"end_time\": \"2021-01-14T12:11:23.600234Z\", \"created_time\": \"2021-01-14T12:10:11.563736Z\", \"created_time_dt\": \"2021-01-14T12:10:11.563736Z\", \"duration\": \"0:01:12\", \"iteration\": \"29\", \"goal\": \"accuracy_max\", \"run_name\": \"SparseNormalizer, XGBoostClassifier\", \"run_properties\": \"<azureml.automl.runtime.shared.model_wrappers.SparseNormalizer object at 0x7f958a326b00\", \"primary_metric\": 0.96395761, \"best_metric\": 0.96909245}, {\"run_id\": \"AutoML_81dfe262-4304-41ca-8572-ddde08afa446_30\", \"run_number\": 35, \"metric\": null, \"status\": \"Completed\", \"run_type\": \"azureml.scriptrun\", \"training_percent\": \"100\", \"start_time\": \"2021-01-14T12:10:29.98376Z\", \"end_time\": \"2021-01-14T12:11:14.823406Z\", \"created_time\": \"2021-01-14T12:10:18.105477Z\", \"created_time_dt\": \"2021-01-14T12:10:18.105477Z\", \"duration\": \"0:00:56\", \"iteration\": \"30\", \"goal\": \"accuracy_max\", \"run_name\": \"SparseNormalizer, LightGBM\", \"run_properties\": \"<azureml.automl.runtime.shared.model_wrappers.SparseNormalizer object at 0x7f355d682ac8\", \"primary_metric\": 0.85385431, \"best_metric\": 0.96909245}, {\"run_id\": \"AutoML_81dfe262-4304-41ca-8572-ddde08afa446_31\", \"run_number\": 36, \"metric\": null, \"status\": \"Completed\", \"run_type\": \"azureml.scriptrun\", \"training_percent\": \"100\", \"start_time\": \"2021-01-14T12:10:57.38216Z\", \"end_time\": \"2021-01-14T12:12:16.401964Z\", \"created_time\": \"2021-01-14T12:10:46.271444Z\", \"created_time_dt\": \"2021-01-14T12:10:46.271444Z\", \"duration\": \"0:01:30\", \"iteration\": \"31\", \"goal\": \"accuracy_max\", \"run_name\": \"SparseNormalizer, XGBoostClassifier\", \"run_properties\": \"<azureml.automl.runtime.shared.model_wrappers.SparseNormalizer object at 0x7f78ea42d208\", \"primary_metric\": 0.96642631, \"best_metric\": 0.96909245}, {\"run_id\": \"AutoML_81dfe262-4304-41ca-8572-ddde08afa446_32\", \"run_number\": 37, \"metric\": null, \"status\": \"Canceled\", \"run_type\": \"azureml.scriptrun\", \"training_percent\": \"100\", \"start_time\": \"2021-01-14T12:10:59.504609Z\", \"end_time\": \"2021-01-14T12:12:39.804193Z\", \"created_time\": \"2021-01-14T12:10:46.277301Z\", \"created_time_dt\": \"2021-01-14T12:10:46.277301Z\", \"duration\": \"0:01:53\", \"iteration\": \"32\", \"goal\": \"accuracy_max\", \"run_name\": \"SparseNormalizer, XGBoostClassifier\", \"run_properties\": \"<azureml.automl.runtime.shared.model_wrappers.SparseNormalizer object at 0x7fd643111588\", \"primary_metric\": 0.96553768, \"best_metric\": 0.96909245}, {\"run_id\": \"AutoML_81dfe262-4304-41ca-8572-ddde08afa446_33\", \"run_number\": 38, \"metric\": null, \"status\": \"Completed\", \"run_type\": \"azureml.scriptrun\", \"training_percent\": \"100\", \"start_time\": \"2021-01-14T12:11:12.685654Z\", \"end_time\": \"2021-01-14T12:12:32.959239Z\", \"created_time\": \"2021-01-14T12:10:59.877853Z\", \"created_time_dt\": \"2021-01-14T12:10:59.877853Z\", \"duration\": \"0:01:33\", \"iteration\": \"33\", \"goal\": \"accuracy_max\", \"run_name\": \"SparseNormalizer, XGBoostClassifier\", \"run_properties\": \"<azureml.automl.runtime.shared.model_wrappers.SparseNormalizer object at 0x7f432630f208\", \"primary_metric\": 0.96603145, \"best_metric\": 0.96909245}, {\"run_id\": \"AutoML_81dfe262-4304-41ca-8572-ddde08afa446_34\", \"run_number\": 39, \"metric\": null, \"status\": \"Completed\", \"run_type\": \"azureml.scriptrun\", \"training_percent\": \"100\", \"start_time\": \"2021-01-14T12:11:28.981204Z\", \"end_time\": \"2021-01-14T12:12:20.397733Z\", \"created_time\": \"2021-01-14T12:11:16.575943Z\", \"created_time_dt\": \"2021-01-14T12:11:16.575943Z\", \"duration\": \"0:01:03\", \"iteration\": \"34\", \"goal\": \"accuracy_max\", \"run_name\": \"SparseNormalizer, XGBoostClassifier\", \"run_properties\": \"<azureml.automl.runtime.shared.model_wrappers.SparseNormalizer object at 0x7f0d8477b898\", \"primary_metric\": 0.95783532, \"best_metric\": 0.96909245}, {\"run_id\": \"AutoML_81dfe262-4304-41ca-8572-ddde08afa446_35\", \"run_number\": 40, \"metric\": null, \"status\": \"Canceled\", \"run_type\": \"azureml.scriptrun\", \"training_percent\": \"100\", \"start_time\": \"2021-01-14T12:11:38.39953Z\", \"end_time\": \"2021-01-14T12:12:36.151702Z\", \"created_time\": \"2021-01-14T12:11:26.227038Z\", \"created_time_dt\": \"2021-01-14T12:11:26.227038Z\", \"duration\": \"0:01:09\", \"iteration\": \"35\", \"goal\": \"accuracy_max\", \"run_name\": \"MaxAbsScaler, LightGBM\", \"run_properties\": \"copy=True\", \"primary_metric\": 0.83933968, \"best_metric\": 0.96909245}, {\"run_id\": \"AutoML_81dfe262-4304-41ca-8572-ddde08afa446_36\", \"run_number\": 41, \"metric\": null, \"status\": \"Canceled\", \"run_type\": \"azureml.scriptrun\", \"training_percent\": \"100\", \"start_time\": \"2021-01-14T12:12:33.591683Z\", \"end_time\": \"2021-01-14T12:12:41.495808Z\", \"created_time\": \"2021-01-14T12:12:18.58023Z\", \"created_time_dt\": \"2021-01-14T12:12:18.58023Z\", \"duration\": \"0:00:22\", \"iteration\": \"36\", \"goal\": null, \"run_name\": \"Canceled\", \"run_properties\": null}, {\"run_id\": \"AutoML_81dfe262-4304-41ca-8572-ddde08afa446_37\", \"run_number\": 42, \"metric\": null, \"status\": \"Canceled\", \"run_type\": \"azureml.scriptrun\", \"training_percent\": \"100\", \"start_time\": \"2021-01-14T12:12:22.648846Z\", \"end_time\": \"2021-01-14T12:12:40.737386Z\", \"created_time\": \"2021-01-14T12:12:22.648846Z\", \"created_time_dt\": \"2021-01-14T12:12:22.648846Z\", \"duration\": \"0:00:18\", \"iteration\": \"37\", \"goal\": null, \"run_name\": \"Canceled\", \"run_properties\": null}, {\"run_id\": \"AutoML_81dfe262-4304-41ca-8572-ddde08afa446_38\", \"run_number\": 43, \"metric\": null, \"status\": \"Completed\", \"run_type\": \"azureml.scriptrun\", \"training_percent\": \"100\", \"start_time\": \"2021-01-14T12:12:55.316958Z\", \"end_time\": \"2021-01-14T12:14:19.811392Z\", \"created_time\": \"2021-01-14T12:12:42.366877Z\", \"created_time_dt\": \"2021-01-14T12:12:42.366877Z\", \"duration\": \"0:01:37\", \"iteration\": \"38\", \"goal\": \"accuracy_max\", \"run_name\": \"VotingEnsemble\", \"run_properties\": \"classification_labels=None,\\n                              estimators=[('0',\\n                                           Pipeline(memory=None,\\n                                                    steps=[('maxabsscaler',\\n                                                            MaxAbsScaler(copy=True\", \"primary_metric\": 0.97077117, \"best_metric\": 0.97077117}, {\"run_id\": \"AutoML_81dfe262-4304-41ca-8572-ddde08afa446_39\", \"run_number\": 44, \"metric\": null, \"status\": \"Completed\", \"run_type\": \"azureml.scriptrun\", \"training_percent\": \"100\", \"start_time\": \"2021-01-14T12:12:54.411116Z\", \"end_time\": \"2021-01-14T12:14:34.949394Z\", \"created_time\": \"2021-01-14T12:12:42.37927Z\", \"created_time_dt\": \"2021-01-14T12:12:42.37927Z\", \"duration\": \"0:01:52\", \"iteration\": \"39\", \"goal\": \"accuracy_max\", \"run_name\": \"StackEnsemble\", \"run_properties\": \"base_learners=[('0',\\n                                        Pipeline(memory=None,\\n                                                 steps=[('maxabsscaler',\\n                                                         MaxAbsScaler(copy=True\", \"primary_metric\": 0.97037616, \"best_metric\": 0.97077117}], \"children_metrics\": {\"categories\": [0], \"series\": {\"recall_score_macro\": [{\"categories\": [\"0\", \"1\", \"2\", \"3\", \"4\", \"5\", \"6\", \"7\", \"8\", \"9\", \"10\", \"11\", \"12\", \"13\", \"14\", \"15\", \"16\", \"17\", \"18\", \"19\", \"20\", \"21\", \"22\", \"23\", \"24\", \"25\", \"26\", \"27\", \"28\", \"29\", \"30\", \"31\", \"32\", \"33\", \"34\", \"35\", \"38\", \"39\"], \"mode\": \"markers\", \"name\": \"recall_score_macro\", \"stepped\": false, \"type\": \"scatter\", \"data\": [0.9314043416327399, 0.9040121099643081, 0.5704159521565457, 0.5383011490667382, 0.8505125659916546, 0.7944238283713151, 0.9125994338674591, 0.8964903911397976, 0.9194740939472789, 0.909316093371718, 0.871431541356106, 0.7272157817097494, 0.6404173029200572, 0.7899448777778799, 0.5, 0.6846224646200962, 0.7671004754051828, 0.6045953476662757, 0.9170616369757799, 0.7761017979414596, 0.8911598648881727, 0.9244832713605846, 0.6262037825829266, 0.9186795296388226, 0.9010765172302522, 0.9155382457145382, 0.9231603538895715, 0.7860950314379496, 0.798995164774416, 0.9132919412917789, 0.5488167961365592, 0.9221737434741226, 0.9193796446012273, 0.9211543668927842, 0.8957368509159392, 0.5, 0.932632559963276, 0.9316825269832892]}, {\"categories\": [\"0\", \"1\", \"2\", \"3\", \"4\", \"5\", \"6\", \"7\", \"8\", \"9\", \"10\", \"11\", \"12\", \"13\", \"14\", \"15\", \"16\", \"17\", \"18\", \"19\", \"20\", \"21\", \"22\", \"23\", \"24\", \"25\", \"26\", \"27\", \"28\", \"29\", \"30\", \"31\", \"32\", \"33\", \"34\", \"35\", \"38\", \"39\"], \"mode\": \"lines\", \"name\": \"recall_score_macro_max\", \"stepped\": true, \"type\": \"scatter\", \"data\": [0.9314043416327399, 0.9314043416327399, 0.9314043416327399, 0.9314043416327399, 0.9314043416327399, 0.9314043416327399, 0.9314043416327399, 0.9314043416327399, 0.9314043416327399, 0.9314043416327399, 0.9314043416327399, 0.9314043416327399, 0.9314043416327399, 0.9314043416327399, 0.9314043416327399, 0.9314043416327399, 0.9314043416327399, 0.9314043416327399, 0.9314043416327399, 0.9314043416327399, 0.9314043416327399, 0.9314043416327399, 0.9314043416327399, 0.9314043416327399, 0.9314043416327399, 0.9314043416327399, 0.9314043416327399, 0.9314043416327399, 0.9314043416327399, 0.9314043416327399, 0.9314043416327399, 0.9314043416327399, 0.9314043416327399, 0.9314043416327399, 0.9314043416327399, 0.9314043416327399, 0.932632559963276, 0.932632559963276]}], \"average_precision_score_weighted\": [{\"categories\": [\"0\", \"1\", \"2\", \"3\", \"4\", \"5\", \"6\", \"7\", \"8\", \"9\", \"10\", \"11\", \"12\", \"13\", \"14\", \"15\", \"16\", \"17\", \"18\", \"19\", \"20\", \"21\", \"22\", \"23\", \"24\", \"25\", \"26\", \"27\", \"28\", \"29\", \"30\", \"31\", \"32\", \"33\", \"34\", \"35\", \"38\", \"39\"], \"mode\": \"markers\", \"name\": \"average_precision_score_weighted\", \"stepped\": false, \"type\": \"scatter\", \"data\": [0.9932731307994235, 0.9903121269032459, 0.9332935623478212, 0.9304569246762092, 0.9478858379548787, 0.9245786875391403, 0.9921683664203726, 0.9863391273871396, 0.992004385517849, 0.990502466389236, 0.9802261898638879, 0.9592291794836916, 0.9364906848577247, 0.9514426235437479, 0.9294571009998821, 0.963105069992734, 0.9514600159361303, 0.939682197713641, 0.9918054576898546, 0.9480542632523795, 0.9845486233160413, 0.9928973525155876, 0.9721167118228005, 0.9918742333417451, 0.9875741165431672, 0.9904774392008399, 0.9925615622445529, 0.950333435839419, 0.9520597327711515, 0.9916766954081405, 0.9448976328927473, 0.9921291690267623, 0.9923080276226587, 0.9922562203718547, 0.9884694229917014, 0.9507426401072855, 0.992669727285235, 0.9926737658026453]}, {\"categories\": [\"0\", \"1\", \"2\", \"3\", \"4\", \"5\", \"6\", \"7\", \"8\", \"9\", \"10\", \"11\", \"12\", \"13\", \"14\", \"15\", \"16\", \"17\", \"18\", \"19\", \"20\", \"21\", \"22\", \"23\", \"24\", \"25\", \"26\", \"27\", \"28\", \"29\", \"30\", \"31\", \"32\", \"33\", \"34\", \"35\", \"38\", \"39\"], \"mode\": \"lines\", \"name\": \"average_precision_score_weighted_max\", \"stepped\": true, \"type\": \"scatter\", \"data\": [0.9932731307994235, 0.9932731307994235, 0.9932731307994235, 0.9932731307994235, 0.9932731307994235, 0.9932731307994235, 0.9932731307994235, 0.9932731307994235, 0.9932731307994235, 0.9932731307994235, 0.9932731307994235, 0.9932731307994235, 0.9932731307994235, 0.9932731307994235, 0.9932731307994235, 0.9932731307994235, 0.9932731307994235, 0.9932731307994235, 0.9932731307994235, 0.9932731307994235, 0.9932731307994235, 0.9932731307994235, 0.9932731307994235, 0.9932731307994235, 0.9932731307994235, 0.9932731307994235, 0.9932731307994235, 0.9932731307994235, 0.9932731307994235, 0.9932731307994235, 0.9932731307994235, 0.9932731307994235, 0.9932731307994235, 0.9932731307994235, 0.9932731307994235, 0.9932731307994235, 0.9932731307994235, 0.9932731307994235]}], \"AUC_micro\": [{\"categories\": [\"0\", \"1\", \"2\", \"3\", \"4\", \"5\", \"6\", \"7\", \"8\", \"9\", \"10\", \"11\", \"12\", \"13\", \"14\", \"15\", \"16\", \"17\", \"18\", \"19\", \"20\", \"21\", \"22\", \"23\", \"24\", \"25\", \"26\", \"27\", \"28\", \"29\", \"30\", \"31\", \"32\", \"33\", \"34\", \"35\", \"38\", \"39\"], \"mode\": \"markers\", \"name\": \"AUC_micro\", \"stepped\": false, \"type\": \"scatter\", \"data\": [0.9959000035607133, 0.9938827586041428, 0.9499506109447694, 0.9473368210449219, 0.9337166748987086, 0.8649925561654489, 0.9949607513920621, 0.991231037305235, 0.9950074137612956, 0.9939695234818312, 0.9868287493972522, 0.9706183625281891, 0.9538369961028162, 0.9689279112483838, 0.9470967534050864, 0.9692469596559947, 0.9684435818154901, 0.9538959654581634, 0.9949203758325127, 0.9662485936751262, 0.9908435532451988, 0.9955672762249742, 0.9692806989429124, 0.9949851918613732, 0.9924176170747251, 0.9942971242475295, 0.9954007359882531, 0.968118425994622, 0.9693600300143471, 0.9947965519498707, 0.9552806983545561, 0.9951970789946056, 0.9952155136398849, 0.9952504234714218, 0.9925359450685006, 0.955268245876963, 0.9953594204153201, 0.9952754460019418]}, {\"categories\": [\"0\", \"1\", \"2\", \"3\", \"4\", \"5\", \"6\", \"7\", \"8\", \"9\", \"10\", \"11\", \"12\", \"13\", \"14\", \"15\", \"16\", \"17\", \"18\", \"19\", \"20\", \"21\", \"22\", \"23\", \"24\", \"25\", \"26\", \"27\", \"28\", \"29\", \"30\", \"31\", \"32\", \"33\", \"34\", \"35\", \"38\", \"39\"], \"mode\": \"lines\", \"name\": \"AUC_micro_max\", \"stepped\": true, \"type\": \"scatter\", \"data\": [0.9959000035607133, 0.9959000035607133, 0.9959000035607133, 0.9959000035607133, 0.9959000035607133, 0.9959000035607133, 0.9959000035607133, 0.9959000035607133, 0.9959000035607133, 0.9959000035607133, 0.9959000035607133, 0.9959000035607133, 0.9959000035607133, 0.9959000035607133, 0.9959000035607133, 0.9959000035607133, 0.9959000035607133, 0.9959000035607133, 0.9959000035607133, 0.9959000035607133, 0.9959000035607133, 0.9959000035607133, 0.9959000035607133, 0.9959000035607133, 0.9959000035607133, 0.9959000035607133, 0.9959000035607133, 0.9959000035607133, 0.9959000035607133, 0.9959000035607133, 0.9959000035607133, 0.9959000035607133, 0.9959000035607133, 0.9959000035607133, 0.9959000035607133, 0.9959000035607133, 0.9959000035607133, 0.9959000035607133]}], \"AUC_macro\": [{\"categories\": [\"0\", \"1\", \"2\", \"3\", \"4\", \"5\", \"6\", \"7\", \"8\", \"9\", \"10\", \"11\", \"12\", \"13\", \"14\", \"15\", \"16\", \"17\", \"18\", \"19\", \"20\", \"21\", \"22\", \"23\", \"24\", \"25\", \"26\", \"27\", \"28\", \"29\", \"30\", \"31\", \"32\", \"33\", \"34\", \"35\", \"38\", \"39\"], \"mode\": \"markers\", \"name\": \"AUC_macro\", \"stepped\": false, \"type\": \"scatter\", \"data\": [0.992057578091878, 0.9888548014173875, 0.9059018005020191, 0.8984419669803742, 0.9276418796530184, 0.8925816935682378, 0.9907526729577789, 0.9825238154189558, 0.9907405862997501, 0.988722082352789, 0.9736525541002378, 0.9521755879144385, 0.9124588315825323, 0.9304048518898581, 0.8995444039302495, 0.956590505120932, 0.9344450604863305, 0.9169028140650121, 0.9904921610483473, 0.9236604519331125, 0.9825368333494507, 0.9916242395261344, 0.9640799638010429, 0.9904271800275514, 0.9860742691000136, 0.9893240245275127, 0.9913749738298835, 0.9277517202579811, 0.932016822525943, 0.9902249548918166, 0.9281376282331589, 0.9908753169862017, 0.9909295272785017, 0.991016141247635, 0.9861755074617281, 0.9299318780373662, 0.9911393285327788, 0.9911159927266885]}, {\"categories\": [\"0\", \"1\", \"2\", \"3\", \"4\", \"5\", \"6\", \"7\", \"8\", \"9\", \"10\", \"11\", \"12\", \"13\", \"14\", \"15\", \"16\", \"17\", \"18\", \"19\", \"20\", \"21\", \"22\", \"23\", \"24\", \"25\", \"26\", \"27\", \"28\", \"29\", \"30\", \"31\", \"32\", \"33\", \"34\", \"35\", \"38\", \"39\"], \"mode\": \"lines\", \"name\": \"AUC_macro_max\", \"stepped\": true, \"type\": \"scatter\", \"data\": [0.992057578091878, 0.992057578091878, 0.992057578091878, 0.992057578091878, 0.992057578091878, 0.992057578091878, 0.992057578091878, 0.992057578091878, 0.992057578091878, 0.992057578091878, 0.992057578091878, 0.992057578091878, 0.992057578091878, 0.992057578091878, 0.992057578091878, 0.992057578091878, 0.992057578091878, 0.992057578091878, 0.992057578091878, 0.992057578091878, 0.992057578091878, 0.992057578091878, 0.992057578091878, 0.992057578091878, 0.992057578091878, 0.992057578091878, 0.992057578091878, 0.992057578091878, 0.992057578091878, 0.992057578091878, 0.992057578091878, 0.992057578091878, 0.992057578091878, 0.992057578091878, 0.992057578091878, 0.992057578091878, 0.992057578091878, 0.992057578091878]}], \"balanced_accuracy\": [{\"categories\": [\"0\", \"1\", \"2\", \"3\", \"4\", \"5\", \"6\", \"7\", \"8\", \"9\", \"10\", \"11\", \"12\", \"13\", \"14\", \"15\", \"16\", \"17\", \"18\", \"19\", \"20\", \"21\", \"22\", \"23\", \"24\", \"25\", \"26\", \"27\", \"28\", \"29\", \"30\", \"31\", \"32\", \"33\", \"34\", \"35\", \"38\", \"39\"], \"mode\": \"markers\", \"name\": \"balanced_accuracy\", \"stepped\": false, \"type\": \"scatter\", \"data\": [0.9314043416327399, 0.9040121099643081, 0.5704159521565457, 0.5383011490667382, 0.8505125659916546, 0.7944238283713151, 0.9125994338674591, 0.8964903911397976, 0.9194740939472789, 0.909316093371718, 0.871431541356106, 0.7272157817097494, 0.6404173029200572, 0.7899448777778799, 0.5, 0.6846224646200962, 0.7671004754051828, 0.6045953476662757, 0.9170616369757799, 0.7761017979414596, 0.8911598648881727, 0.9244832713605846, 0.6262037825829266, 0.9186795296388226, 0.9010765172302522, 0.9155382457145382, 0.9231603538895715, 0.7860950314379496, 0.798995164774416, 0.9132919412917789, 0.5488167961365592, 0.9221737434741226, 0.9193796446012273, 0.9211543668927842, 0.8957368509159392, 0.5, 0.932632559963276, 0.9316825269832892]}, {\"categories\": [\"0\", \"1\", \"2\", \"3\", \"4\", \"5\", \"6\", \"7\", \"8\", \"9\", \"10\", \"11\", \"12\", \"13\", \"14\", \"15\", \"16\", \"17\", \"18\", \"19\", \"20\", \"21\", \"22\", \"23\", \"24\", \"25\", \"26\", \"27\", \"28\", \"29\", \"30\", \"31\", \"32\", \"33\", \"34\", \"35\", \"38\", \"39\"], \"mode\": \"lines\", \"name\": \"balanced_accuracy_max\", \"stepped\": true, \"type\": \"scatter\", \"data\": [0.9314043416327399, 0.9314043416327399, 0.9314043416327399, 0.9314043416327399, 0.9314043416327399, 0.9314043416327399, 0.9314043416327399, 0.9314043416327399, 0.9314043416327399, 0.9314043416327399, 0.9314043416327399, 0.9314043416327399, 0.9314043416327399, 0.9314043416327399, 0.9314043416327399, 0.9314043416327399, 0.9314043416327399, 0.9314043416327399, 0.9314043416327399, 0.9314043416327399, 0.9314043416327399, 0.9314043416327399, 0.9314043416327399, 0.9314043416327399, 0.9314043416327399, 0.9314043416327399, 0.9314043416327399, 0.9314043416327399, 0.9314043416327399, 0.9314043416327399, 0.9314043416327399, 0.9314043416327399, 0.9314043416327399, 0.9314043416327399, 0.9314043416327399, 0.9314043416327399, 0.932632559963276, 0.932632559963276]}], \"recall_score_micro\": [{\"categories\": [\"0\", \"1\", \"2\", \"3\", \"4\", \"5\", \"6\", \"7\", \"8\", \"9\", \"10\", \"11\", \"12\", \"13\", \"14\", \"15\", \"16\", \"17\", \"18\", \"19\", \"20\", \"21\", \"22\", \"23\", \"24\", \"25\", \"26\", \"27\", \"28\", \"29\", \"30\", \"31\", \"32\", \"33\", \"34\", \"35\", \"38\", \"39\"], \"mode\": \"markers\", \"name\": \"recall_score_micro\", \"stepped\": false, \"type\": \"scatter\", \"data\": [0.9690924463167749, 0.9603042829559417, 0.859482651688023, 0.8511901585629863, 0.8573123573810778, 0.7349657129483355, 0.964747791235153, 0.9552678895325025, 0.9661300684570827, 0.9624765666140074, 0.9450975659703937, 0.8973046340179041, 0.8782457141185418, 0.9116221988180914, 0.8393396817038207, 0.8934529869521971, 0.9079688139956703, 0.8703460008191447, 0.9653400327657832, 0.9114250190158563, 0.9496397519162132, 0.9679075244280616, 0.8795310397285121, 0.9653401497864373, 0.9574406705283484, 0.9622789479843193, 0.9678088467614533, 0.9106348077935756, 0.911523345620502, 0.9639576092680359, 0.8538543092855889, 0.9664263062430519, 0.9655376806506348, 0.9660314493008015, 0.9578353226844539, 0.8393396817038207, 0.9707711661108185, 0.9703761628927506]}, {\"categories\": [\"0\", \"1\", \"2\", \"3\", \"4\", \"5\", \"6\", \"7\", \"8\", \"9\", \"10\", \"11\", \"12\", \"13\", \"14\", \"15\", \"16\", \"17\", \"18\", \"19\", \"20\", \"21\", \"22\", \"23\", \"24\", \"25\", \"26\", \"27\", \"28\", \"29\", \"30\", \"31\", \"32\", \"33\", \"34\", \"35\", \"38\", \"39\"], \"mode\": \"lines\", \"name\": \"recall_score_micro_max\", \"stepped\": true, \"type\": \"scatter\", \"data\": [0.9690924463167749, 0.9690924463167749, 0.9690924463167749, 0.9690924463167749, 0.9690924463167749, 0.9690924463167749, 0.9690924463167749, 0.9690924463167749, 0.9690924463167749, 0.9690924463167749, 0.9690924463167749, 0.9690924463167749, 0.9690924463167749, 0.9690924463167749, 0.9690924463167749, 0.9690924463167749, 0.9690924463167749, 0.9690924463167749, 0.9690924463167749, 0.9690924463167749, 0.9690924463167749, 0.9690924463167749, 0.9690924463167749, 0.9690924463167749, 0.9690924463167749, 0.9690924463167749, 0.9690924463167749, 0.9690924463167749, 0.9690924463167749, 0.9690924463167749, 0.9690924463167749, 0.9690924463167749, 0.9690924463167749, 0.9690924463167749, 0.9690924463167749, 0.9690924463167749, 0.9707711661108185, 0.9707711661108185]}], \"precision_score_macro\": [{\"categories\": [\"0\", \"1\", \"2\", \"3\", \"4\", \"5\", \"6\", \"7\", \"8\", \"9\", \"10\", \"11\", \"12\", \"13\", \"14\", \"15\", \"16\", \"17\", \"18\", \"19\", \"20\", \"21\", \"22\", \"23\", \"24\", \"25\", \"26\", \"27\", \"28\", \"29\", \"30\", \"31\", \"32\", \"33\", \"34\", \"35\", \"38\", \"39\"], \"mode\": \"markers\", \"name\": \"precision_score_macro\", \"stepped\": false, \"type\": \"scatter\", \"data\": [0.9521154043040085, 0.944764167057652, 0.8771307765645288, 0.884771488136132, 0.7505894940017841, 0.6672859662968227, 0.9535005185997188, 0.933425722830631, 0.9522701697833892, 0.9480363066634169, 0.9179744534063984, 0.8595771487078908, 0.8730180320745914, 0.8603580962615537, 0.41966984085191034, 0.8985311716731538, 0.864939671884946, 0.892416759027025, 0.9515904357124993, 0.87113263449022, 0.9173078341603819, 0.9541024201099102, 0.926158349279777, 0.9499332322910862, 0.9367427966886609, 0.9417879038443838, 0.9549479256044672, 0.8595302658518955, 0.8536986751829954, 0.9500272737088737, 0.9006824125586498, 0.950791691792439, 0.9500509702816234, 0.9502813717479288, 0.9435068021201398, 0.41966984085191034, 0.9570745729436184, 0.9565395147725061]}, {\"categories\": [\"0\", \"1\", \"2\", \"3\", \"4\", \"5\", \"6\", \"7\", \"8\", \"9\", \"10\", \"11\", \"12\", \"13\", \"14\", \"15\", \"16\", \"17\", \"18\", \"19\", \"20\", \"21\", \"22\", \"23\", \"24\", \"25\", \"26\", \"27\", \"28\", \"29\", \"30\", \"31\", \"32\", \"33\", \"34\", \"35\", \"38\", \"39\"], \"mode\": \"lines\", \"name\": \"precision_score_macro_max\", \"stepped\": true, \"type\": \"scatter\", \"data\": [0.9521154043040085, 0.9521154043040085, 0.9521154043040085, 0.9521154043040085, 0.9521154043040085, 0.9521154043040085, 0.9535005185997188, 0.9535005185997188, 0.9535005185997188, 0.9535005185997188, 0.9535005185997188, 0.9535005185997188, 0.9535005185997188, 0.9535005185997188, 0.9535005185997188, 0.9535005185997188, 0.9535005185997188, 0.9535005185997188, 0.9535005185997188, 0.9535005185997188, 0.9535005185997188, 0.9541024201099102, 0.9541024201099102, 0.9541024201099102, 0.9541024201099102, 0.9541024201099102, 0.9549479256044672, 0.9549479256044672, 0.9549479256044672, 0.9549479256044672, 0.9549479256044672, 0.9549479256044672, 0.9549479256044672, 0.9549479256044672, 0.9549479256044672, 0.9549479256044672, 0.9570745729436184, 0.9570745729436184]}], \"f1_score_macro\": [{\"categories\": [\"0\", \"1\", \"2\", \"3\", \"4\", \"5\", \"6\", \"7\", \"8\", \"9\", \"10\", \"11\", \"12\", \"13\", \"14\", \"15\", \"16\", \"17\", \"18\", \"19\", \"20\", \"21\", \"22\", \"23\", \"24\", \"25\", \"26\", \"27\", \"28\", \"29\", \"30\", \"31\", \"32\", \"33\", \"34\", \"35\", \"38\", \"39\"], \"mode\": \"markers\", \"name\": \"f1_score_macro\", \"stepped\": false, \"type\": \"scatter\", \"data\": [0.9413440452905671, 0.9227973818311415, 0.5808073945115785, 0.5295513521731341, 0.782099045299602, 0.6668955206848722, 0.9315234400928148, 0.9134434536115066, 0.9348458020351345, 0.9272707444129678, 0.8921663816017723, 0.7696365681540754, 0.6820778167258709, 0.8189109491034415, 0.4563222431737475, 0.7358351365801292, 0.8040028406980338, 0.6367027620459674, 0.9332170241569044, 0.8124607613300814, 0.9035196374437025, 0.9385002518200786, 0.6654549121838945, 0.9334124588940385, 0.9176676590465185, 0.9279125614374527, 0.9381307013988244, 0.8160069678364237, 0.822545572126495, 0.9303477762996167, 0.5468668324460705, 0.9357146553422684, 0.933833823304904, 0.9348782777428761, 0.9174390035151889, 0.4563222431737475, 0.9443023658409873, 0.9435296711935544]}, {\"categories\": [\"0\", \"1\", \"2\", \"3\", \"4\", \"5\", \"6\", \"7\", \"8\", \"9\", \"10\", \"11\", \"12\", \"13\", \"14\", \"15\", \"16\", \"17\", \"18\", \"19\", \"20\", \"21\", \"22\", \"23\", \"24\", \"25\", \"26\", \"27\", \"28\", \"29\", \"30\", \"31\", \"32\", \"33\", \"34\", \"35\", \"38\", \"39\"], \"mode\": \"lines\", \"name\": \"f1_score_macro_max\", \"stepped\": true, \"type\": \"scatter\", \"data\": [0.9413440452905671, 0.9413440452905671, 0.9413440452905671, 0.9413440452905671, 0.9413440452905671, 0.9413440452905671, 0.9413440452905671, 0.9413440452905671, 0.9413440452905671, 0.9413440452905671, 0.9413440452905671, 0.9413440452905671, 0.9413440452905671, 0.9413440452905671, 0.9413440452905671, 0.9413440452905671, 0.9413440452905671, 0.9413440452905671, 0.9413440452905671, 0.9413440452905671, 0.9413440452905671, 0.9413440452905671, 0.9413440452905671, 0.9413440452905671, 0.9413440452905671, 0.9413440452905671, 0.9413440452905671, 0.9413440452905671, 0.9413440452905671, 0.9413440452905671, 0.9413440452905671, 0.9413440452905671, 0.9413440452905671, 0.9413440452905671, 0.9413440452905671, 0.9413440452905671, 0.9443023658409873, 0.9443023658409873]}], \"accuracy\": [{\"categories\": [\"0\", \"1\", \"2\", \"3\", \"4\", \"5\", \"6\", \"7\", \"8\", \"9\", \"10\", \"11\", \"12\", \"13\", \"14\", \"15\", \"16\", \"17\", \"18\", \"19\", \"20\", \"21\", \"22\", \"23\", \"24\", \"25\", \"26\", \"27\", \"28\", \"29\", \"30\", \"31\", \"32\", \"33\", \"34\", \"35\", \"38\", \"39\"], \"mode\": \"markers\", \"name\": \"accuracy\", \"stepped\": false, \"type\": \"scatter\", \"data\": [0.9690924463167749, 0.9603042829559417, 0.859482651688023, 0.8511901585629863, 0.8573123573810778, 0.7349657129483355, 0.964747791235153, 0.9552678895325025, 0.9661300684570827, 0.9624765666140074, 0.9450975659703937, 0.8973046340179041, 0.8782457141185418, 0.9116221988180914, 0.8393396817038207, 0.8934529869521971, 0.9079688139956703, 0.8703460008191447, 0.9653400327657832, 0.9114250190158563, 0.9496397519162132, 0.9679075244280616, 0.8795310397285121, 0.9653401497864373, 0.9574406705283484, 0.9622789479843193, 0.9678088467614533, 0.9106348077935756, 0.911523345620502, 0.9639576092680359, 0.8538543092855889, 0.9664263062430519, 0.9655376806506348, 0.9660314493008015, 0.9578353226844539, 0.8393396817038207, 0.9707711661108185, 0.9703761628927506]}, {\"categories\": [\"0\", \"1\", \"2\", \"3\", \"4\", \"5\", \"6\", \"7\", \"8\", \"9\", \"10\", \"11\", \"12\", \"13\", \"14\", \"15\", \"16\", \"17\", \"18\", \"19\", \"20\", \"21\", \"22\", \"23\", \"24\", \"25\", \"26\", \"27\", \"28\", \"29\", \"30\", \"31\", \"32\", \"33\", \"34\", \"35\", \"38\", \"39\"], \"mode\": \"lines\", \"name\": \"accuracy_max\", \"stepped\": true, \"type\": \"scatter\", \"data\": [0.9690924463167749, 0.9690924463167749, 0.9690924463167749, 0.9690924463167749, 0.9690924463167749, 0.9690924463167749, 0.9690924463167749, 0.9690924463167749, 0.9690924463167749, 0.9690924463167749, 0.9690924463167749, 0.9690924463167749, 0.9690924463167749, 0.9690924463167749, 0.9690924463167749, 0.9690924463167749, 0.9690924463167749, 0.9690924463167749, 0.9690924463167749, 0.9690924463167749, 0.9690924463167749, 0.9690924463167749, 0.9690924463167749, 0.9690924463167749, 0.9690924463167749, 0.9690924463167749, 0.9690924463167749, 0.9690924463167749, 0.9690924463167749, 0.9690924463167749, 0.9690924463167749, 0.9690924463167749, 0.9690924463167749, 0.9690924463167749, 0.9690924463167749, 0.9690924463167749, 0.9707711661108185, 0.9707711661108185]}], \"matthews_correlation\": [{\"categories\": [\"0\", \"1\", \"2\", \"3\", \"4\", \"5\", \"6\", \"7\", \"8\", \"9\", \"10\", \"11\", \"12\", \"13\", \"14\", \"15\", \"16\", \"17\", \"18\", \"19\", \"20\", \"21\", \"22\", \"23\", \"24\", \"25\", \"26\", \"27\", \"28\", \"29\", \"30\", \"31\", \"32\", \"33\", \"34\", \"35\", \"38\", \"39\"], \"mode\": \"markers\", \"name\": \"matthews_correlation\", \"stepped\": false, \"type\": \"scatter\", \"data\": [0.8832585968336769, 0.8477668255350471, 0.3126502930430329, 0.23577642752666497, 0.5927279420236938, 0.4438184511101612, 0.8651281206898161, 0.8289587486195424, 0.8710946515858794, 0.856462166936624, 0.7877969468387236, 0.5707357441204618, 0.45656717729771984, 0.6463904163579098, 0.0, 0.5423926477303319, 0.6242852102019257, 0.40502454713486946, 0.8679512120083407, 0.6400315726871982, 0.8080254258315159, 0.8780854850795135, 0.4600894759368382, 0.8680479718280679, 0.8370382224786503, 0.8568555482678333, 0.8775241578547458, 0.6413467669663732, 0.6503510017351878, 0.8624883464506133, 0.2637324802769625, 0.8724830533908284, 0.8688755350115303, 0.8709066803148392, 0.8378552169070669, 0.0, 0.8893595975797717, 0.8878556665841554]}, {\"categories\": [\"0\", \"1\", \"2\", \"3\", \"4\", \"5\", \"6\", \"7\", \"8\", \"9\", \"10\", \"11\", \"12\", \"13\", \"14\", \"15\", \"16\", \"17\", \"18\", \"19\", \"20\", \"21\", \"22\", \"23\", \"24\", \"25\", \"26\", \"27\", \"28\", \"29\", \"30\", \"31\", \"32\", \"33\", \"34\", \"35\", \"38\", \"39\"], \"mode\": \"lines\", \"name\": \"matthews_correlation_max\", \"stepped\": true, \"type\": \"scatter\", \"data\": [0.8832585968336769, 0.8832585968336769, 0.8832585968336769, 0.8832585968336769, 0.8832585968336769, 0.8832585968336769, 0.8832585968336769, 0.8832585968336769, 0.8832585968336769, 0.8832585968336769, 0.8832585968336769, 0.8832585968336769, 0.8832585968336769, 0.8832585968336769, 0.8832585968336769, 0.8832585968336769, 0.8832585968336769, 0.8832585968336769, 0.8832585968336769, 0.8832585968336769, 0.8832585968336769, 0.8832585968336769, 0.8832585968336769, 0.8832585968336769, 0.8832585968336769, 0.8832585968336769, 0.8832585968336769, 0.8832585968336769, 0.8832585968336769, 0.8832585968336769, 0.8832585968336769, 0.8832585968336769, 0.8832585968336769, 0.8832585968336769, 0.8832585968336769, 0.8832585968336769, 0.8893595975797717, 0.8893595975797717]}], \"precision_score_micro\": [{\"categories\": [\"0\", \"1\", \"2\", \"3\", \"4\", \"5\", \"6\", \"7\", \"8\", \"9\", \"10\", \"11\", \"12\", \"13\", \"14\", \"15\", \"16\", \"17\", \"18\", \"19\", \"20\", \"21\", \"22\", \"23\", \"24\", \"25\", \"26\", \"27\", \"28\", \"29\", \"30\", \"31\", \"32\", \"33\", \"34\", \"35\", \"38\", \"39\"], \"mode\": \"markers\", \"name\": \"precision_score_micro\", \"stepped\": false, \"type\": \"scatter\", \"data\": [0.9690924463167749, 0.9603042829559417, 0.859482651688023, 0.8511901585629863, 0.8573123573810778, 0.7349657129483355, 0.964747791235153, 0.9552678895325025, 0.9661300684570827, 0.9624765666140074, 0.9450975659703937, 0.8973046340179041, 0.8782457141185418, 0.9116221988180914, 0.8393396817038207, 0.8934529869521971, 0.9079688139956703, 0.8703460008191447, 0.9653400327657832, 0.9114250190158563, 0.9496397519162132, 0.9679075244280616, 0.8795310397285121, 0.9653401497864373, 0.9574406705283484, 0.9622789479843193, 0.9678088467614533, 0.9106348077935756, 0.911523345620502, 0.9639576092680359, 0.8538543092855889, 0.9664263062430519, 0.9655376806506348, 0.9660314493008015, 0.9578353226844539, 0.8393396817038207, 0.9707711661108185, 0.9703761628927506]}, {\"categories\": [\"0\", \"1\", \"2\", \"3\", \"4\", \"5\", \"6\", \"7\", \"8\", \"9\", \"10\", \"11\", \"12\", \"13\", \"14\", \"15\", \"16\", \"17\", \"18\", \"19\", \"20\", \"21\", \"22\", \"23\", \"24\", \"25\", \"26\", \"27\", \"28\", \"29\", \"30\", \"31\", \"32\", \"33\", \"34\", \"35\", \"38\", \"39\"], \"mode\": \"lines\", \"name\": \"precision_score_micro_max\", \"stepped\": true, \"type\": \"scatter\", \"data\": [0.9690924463167749, 0.9690924463167749, 0.9690924463167749, 0.9690924463167749, 0.9690924463167749, 0.9690924463167749, 0.9690924463167749, 0.9690924463167749, 0.9690924463167749, 0.9690924463167749, 0.9690924463167749, 0.9690924463167749, 0.9690924463167749, 0.9690924463167749, 0.9690924463167749, 0.9690924463167749, 0.9690924463167749, 0.9690924463167749, 0.9690924463167749, 0.9690924463167749, 0.9690924463167749, 0.9690924463167749, 0.9690924463167749, 0.9690924463167749, 0.9690924463167749, 0.9690924463167749, 0.9690924463167749, 0.9690924463167749, 0.9690924463167749, 0.9690924463167749, 0.9690924463167749, 0.9690924463167749, 0.9690924463167749, 0.9690924463167749, 0.9690924463167749, 0.9690924463167749, 0.9707711661108185, 0.9707711661108185]}], \"f1_score_weighted\": [{\"categories\": [\"0\", \"1\", \"2\", \"3\", \"4\", \"5\", \"6\", \"7\", \"8\", \"9\", \"10\", \"11\", \"12\", \"13\", \"14\", \"15\", \"16\", \"17\", \"18\", \"19\", \"20\", \"21\", \"22\", \"23\", \"24\", \"25\", \"26\", \"27\", \"28\", \"29\", \"30\", \"31\", \"32\", \"33\", \"34\", \"35\", \"38\", \"39\"], \"mode\": \"markers\", \"name\": \"f1_score_weighted\", \"stepped\": false, \"type\": \"scatter\", \"data\": [0.9687295920410595, 0.959335006463559, 0.812393816580236, 0.7938285220323915, 0.8690237040710612, 0.769054923861388, 0.9639119242669937, 0.9542740612996686, 0.9654932737458966, 0.9616284203231528, 0.943480052066393, 0.8860333602305657, 0.8514520946068252, 0.9068606023397153, 0.7660348770601465, 0.8743341712108954, 0.9009140734064971, 0.8343898741706389, 0.9646464616299714, 0.9049503483192797, 0.9488329539856711, 0.9673655453831742, 0.8474623170169684, 0.9647162452178089, 0.9565305654310928, 0.9616893736321727, 0.9672233931521003, 0.9055755921903651, 0.9078407541964081, 0.9631780439371127, 0.7995357024393805, 0.9658735477230908, 0.9649222875923985, 0.9654640268915103, 0.9566211773837953, 0.7660348770601465, 0.9703692218500577, 0.9699600660309794]}, {\"categories\": [\"0\", \"1\", \"2\", \"3\", \"4\", \"5\", \"6\", \"7\", \"8\", \"9\", \"10\", \"11\", \"12\", \"13\", \"14\", \"15\", \"16\", \"17\", \"18\", \"19\", \"20\", \"21\", \"22\", \"23\", \"24\", \"25\", \"26\", \"27\", \"28\", \"29\", \"30\", \"31\", \"32\", \"33\", \"34\", \"35\", \"38\", \"39\"], \"mode\": \"lines\", \"name\": \"f1_score_weighted_max\", \"stepped\": true, \"type\": \"scatter\", \"data\": [0.9687295920410595, 0.9687295920410595, 0.9687295920410595, 0.9687295920410595, 0.9687295920410595, 0.9687295920410595, 0.9687295920410595, 0.9687295920410595, 0.9687295920410595, 0.9687295920410595, 0.9687295920410595, 0.9687295920410595, 0.9687295920410595, 0.9687295920410595, 0.9687295920410595, 0.9687295920410595, 0.9687295920410595, 0.9687295920410595, 0.9687295920410595, 0.9687295920410595, 0.9687295920410595, 0.9687295920410595, 0.9687295920410595, 0.9687295920410595, 0.9687295920410595, 0.9687295920410595, 0.9687295920410595, 0.9687295920410595, 0.9687295920410595, 0.9687295920410595, 0.9687295920410595, 0.9687295920410595, 0.9687295920410595, 0.9687295920410595, 0.9687295920410595, 0.9687295920410595, 0.9703692218500577, 0.9703692218500577]}], \"recall_score_weighted\": [{\"categories\": [\"0\", \"1\", \"2\", \"3\", \"4\", \"5\", \"6\", \"7\", \"8\", \"9\", \"10\", \"11\", \"12\", \"13\", \"14\", \"15\", \"16\", \"17\", \"18\", \"19\", \"20\", \"21\", \"22\", \"23\", \"24\", \"25\", \"26\", \"27\", \"28\", \"29\", \"30\", \"31\", \"32\", \"33\", \"34\", \"35\", \"38\", \"39\"], \"mode\": \"markers\", \"name\": \"recall_score_weighted\", \"stepped\": false, \"type\": \"scatter\", \"data\": [0.9690924463167749, 0.9603042829559417, 0.859482651688023, 0.8511901585629863, 0.8573123573810778, 0.7349657129483355, 0.964747791235153, 0.9552678895325025, 0.9661300684570827, 0.9624765666140074, 0.9450975659703937, 0.8973046340179041, 0.8782457141185418, 0.9116221988180914, 0.8393396817038207, 0.8934529869521971, 0.9079688139956703, 0.8703460008191447, 0.9653400327657832, 0.9114250190158563, 0.9496397519162132, 0.9679075244280616, 0.8795310397285121, 0.9653401497864373, 0.9574406705283484, 0.9622789479843193, 0.9678088467614533, 0.9106348077935756, 0.911523345620502, 0.9639576092680359, 0.8538543092855889, 0.9664263062430519, 0.9655376806506348, 0.9660314493008015, 0.9578353226844539, 0.8393396817038207, 0.9707711661108185, 0.9703761628927506]}, {\"categories\": [\"0\", \"1\", \"2\", \"3\", \"4\", \"5\", \"6\", \"7\", \"8\", \"9\", \"10\", \"11\", \"12\", \"13\", \"14\", \"15\", \"16\", \"17\", \"18\", \"19\", \"20\", \"21\", \"22\", \"23\", \"24\", \"25\", \"26\", \"27\", \"28\", \"29\", \"30\", \"31\", \"32\", \"33\", \"34\", \"35\", \"38\", \"39\"], \"mode\": \"lines\", \"name\": \"recall_score_weighted_max\", \"stepped\": true, \"type\": \"scatter\", \"data\": [0.9690924463167749, 0.9690924463167749, 0.9690924463167749, 0.9690924463167749, 0.9690924463167749, 0.9690924463167749, 0.9690924463167749, 0.9690924463167749, 0.9690924463167749, 0.9690924463167749, 0.9690924463167749, 0.9690924463167749, 0.9690924463167749, 0.9690924463167749, 0.9690924463167749, 0.9690924463167749, 0.9690924463167749, 0.9690924463167749, 0.9690924463167749, 0.9690924463167749, 0.9690924463167749, 0.9690924463167749, 0.9690924463167749, 0.9690924463167749, 0.9690924463167749, 0.9690924463167749, 0.9690924463167749, 0.9690924463167749, 0.9690924463167749, 0.9690924463167749, 0.9690924463167749, 0.9690924463167749, 0.9690924463167749, 0.9690924463167749, 0.9690924463167749, 0.9690924463167749, 0.9707711661108185, 0.9707711661108185]}], \"average_precision_score_macro\": [{\"categories\": [\"0\", \"1\", \"2\", \"3\", \"4\", \"5\", \"6\", \"7\", \"8\", \"9\", \"10\", \"11\", \"12\", \"13\", \"14\", \"15\", \"16\", \"17\", \"18\", \"19\", \"20\", \"21\", \"22\", \"23\", \"24\", \"25\", \"26\", \"27\", \"28\", \"29\", \"30\", \"31\", \"32\", \"33\", \"34\", \"35\", \"38\", \"39\"], \"mode\": \"markers\", \"name\": \"average_precision_score_macro\", \"stepped\": false, \"type\": \"scatter\", \"data\": [0.9824558950520178, 0.9744367702996622, 0.840802225516998, 0.8337353114577385, 0.8719502260756694, 0.8167774065266707, 0.9794820588815588, 0.965171173805525, 0.9789588117506662, 0.9751749324301507, 0.9506266723122662, 0.8926236277999259, 0.8428281914333707, 0.8826617722115534, 0.8280312629109027, 0.9028526437769576, 0.8785049532173516, 0.850957868314128, 0.9784659645006984, 0.8754014161860274, 0.9589431792463822, 0.9815311405299902, 0.9282631604996737, 0.9787885679879914, 0.9669396140317343, 0.9747312413809993, 0.9805636524927697, 0.8809373889587766, 0.8833180923013421, 0.9781547695827574, 0.860350910373311, 0.9793737232532171, 0.979964156279702, 0.9797779728941333, 0.9698931174657193, 0.8800309681706979, 0.9810398606484153, 0.9810999293632822]}, {\"categories\": [\"0\", \"1\", \"2\", \"3\", \"4\", \"5\", \"6\", \"7\", \"8\", \"9\", \"10\", \"11\", \"12\", \"13\", \"14\", \"15\", \"16\", \"17\", \"18\", \"19\", \"20\", \"21\", \"22\", \"23\", \"24\", \"25\", \"26\", \"27\", \"28\", \"29\", \"30\", \"31\", \"32\", \"33\", \"34\", \"35\", \"38\", \"39\"], \"mode\": \"lines\", \"name\": \"average_precision_score_macro_max\", \"stepped\": true, \"type\": \"scatter\", \"data\": [0.9824558950520178, 0.9824558950520178, 0.9824558950520178, 0.9824558950520178, 0.9824558950520178, 0.9824558950520178, 0.9824558950520178, 0.9824558950520178, 0.9824558950520178, 0.9824558950520178, 0.9824558950520178, 0.9824558950520178, 0.9824558950520178, 0.9824558950520178, 0.9824558950520178, 0.9824558950520178, 0.9824558950520178, 0.9824558950520178, 0.9824558950520178, 0.9824558950520178, 0.9824558950520178, 0.9824558950520178, 0.9824558950520178, 0.9824558950520178, 0.9824558950520178, 0.9824558950520178, 0.9824558950520178, 0.9824558950520178, 0.9824558950520178, 0.9824558950520178, 0.9824558950520178, 0.9824558950520178, 0.9824558950520178, 0.9824558950520178, 0.9824558950520178, 0.9824558950520178, 0.9824558950520178, 0.9824558950520178]}], \"f1_score_micro\": [{\"categories\": [\"0\", \"1\", \"2\", \"3\", \"4\", \"5\", \"6\", \"7\", \"8\", \"9\", \"10\", \"11\", \"12\", \"13\", \"14\", \"15\", \"16\", \"17\", \"18\", \"19\", \"20\", \"21\", \"22\", \"23\", \"24\", \"25\", \"26\", \"27\", \"28\", \"29\", \"30\", \"31\", \"32\", \"33\", \"34\", \"35\", \"38\", \"39\"], \"mode\": \"markers\", \"name\": \"f1_score_micro\", \"stepped\": false, \"type\": \"scatter\", \"data\": [0.9690924463167749, 0.9603042829559417, 0.859482651688023, 0.8511901585629863, 0.8573123573810778, 0.7349657129483355, 0.964747791235153, 0.9552678895325025, 0.9661300684570827, 0.9624765666140074, 0.9450975659703937, 0.8973046340179041, 0.8782457141185418, 0.9116221988180914, 0.8393396817038208, 0.8934529869521971, 0.9079688139956702, 0.8703460008191447, 0.9653400327657832, 0.9114250190158563, 0.9496397519162132, 0.9679075244280616, 0.8795310397285121, 0.9653401497864373, 0.9574406705283484, 0.9622789479843193, 0.9678088467614533, 0.9106348077935756, 0.911523345620502, 0.9639576092680359, 0.8538543092855889, 0.9664263062430519, 0.9655376806506348, 0.9660314493008015, 0.9578353226844539, 0.8393396817038208, 0.9707711661108185, 0.9703761628927506]}, {\"categories\": [\"0\", \"1\", \"2\", \"3\", \"4\", \"5\", \"6\", \"7\", \"8\", \"9\", \"10\", \"11\", \"12\", \"13\", \"14\", \"15\", \"16\", \"17\", \"18\", \"19\", \"20\", \"21\", \"22\", \"23\", \"24\", \"25\", \"26\", \"27\", \"28\", \"29\", \"30\", \"31\", \"32\", \"33\", \"34\", \"35\", \"38\", \"39\"], \"mode\": \"lines\", \"name\": \"f1_score_micro_max\", \"stepped\": true, \"type\": \"scatter\", \"data\": [0.9690924463167749, 0.9690924463167749, 0.9690924463167749, 0.9690924463167749, 0.9690924463167749, 0.9690924463167749, 0.9690924463167749, 0.9690924463167749, 0.9690924463167749, 0.9690924463167749, 0.9690924463167749, 0.9690924463167749, 0.9690924463167749, 0.9690924463167749, 0.9690924463167749, 0.9690924463167749, 0.9690924463167749, 0.9690924463167749, 0.9690924463167749, 0.9690924463167749, 0.9690924463167749, 0.9690924463167749, 0.9690924463167749, 0.9690924463167749, 0.9690924463167749, 0.9690924463167749, 0.9690924463167749, 0.9690924463167749, 0.9690924463167749, 0.9690924463167749, 0.9690924463167749, 0.9690924463167749, 0.9690924463167749, 0.9690924463167749, 0.9690924463167749, 0.9690924463167749, 0.9707711661108185, 0.9707711661108185]}], \"weighted_accuracy\": [{\"categories\": [\"0\", \"1\", \"2\", \"3\", \"4\", \"5\", \"6\", \"7\", \"8\", \"9\", \"10\", \"11\", \"12\", \"13\", \"14\", \"15\", \"16\", \"17\", \"18\", \"19\", \"20\", \"21\", \"22\", \"23\", \"24\", \"25\", \"26\", \"27\", \"28\", \"29\", \"30\", \"31\", \"32\", \"33\", \"34\", \"35\", \"38\", \"39\"], \"mode\": \"markers\", \"name\": \"weighted_accuracy\", \"stepped\": false, \"type\": \"scatter\", \"data\": [0.9830073442583588, 0.9810769896365579, 0.9663966189230826, 0.9665262089196043, 0.8597844494108986, 0.7130196310014885, 0.9839831993499796, 0.9770163619147145, 0.9833632490354275, 0.9821036810715481, 0.9723193277034966, 0.9602209052132791, 0.9661720243340626, 0.9565824274698912, 0.9645956071695932, 0.9705622886981143, 0.9600060204191697, 0.9684830191333841, 0.9831832240979582, 0.9614101801944676, 0.9712140550113953, 0.98393825236698, 0.9727314099338349, 0.9825515048264418, 0.9782465784092854, 0.9795718627583628, 0.9842870914448009, 0.9566427789839902, 0.9530771062153868, 0.9826932872251626, 0.9667023621400999, 0.9827834020244589, 0.9825895401283898, 0.9826112496448483, 0.980791785497752, 0.9645956071695932, 0.9848469975433004, 0.9846658711980929]}, {\"categories\": [\"0\", \"1\", \"2\", \"3\", \"4\", \"5\", \"6\", \"7\", \"8\", \"9\", \"10\", \"11\", \"12\", \"13\", \"14\", \"15\", \"16\", \"17\", \"18\", \"19\", \"20\", \"21\", \"22\", \"23\", \"24\", \"25\", \"26\", \"27\", \"28\", \"29\", \"30\", \"31\", \"32\", \"33\", \"34\", \"35\", \"38\", \"39\"], \"mode\": \"lines\", \"name\": \"weighted_accuracy_max\", \"stepped\": true, \"type\": \"scatter\", \"data\": [0.9830073442583588, 0.9830073442583588, 0.9830073442583588, 0.9830073442583588, 0.9830073442583588, 0.9830073442583588, 0.9839831993499796, 0.9839831993499796, 0.9839831993499796, 0.9839831993499796, 0.9839831993499796, 0.9839831993499796, 0.9839831993499796, 0.9839831993499796, 0.9839831993499796, 0.9839831993499796, 0.9839831993499796, 0.9839831993499796, 0.9839831993499796, 0.9839831993499796, 0.9839831993499796, 0.9839831993499796, 0.9839831993499796, 0.9839831993499796, 0.9839831993499796, 0.9839831993499796, 0.9842870914448009, 0.9842870914448009, 0.9842870914448009, 0.9842870914448009, 0.9842870914448009, 0.9842870914448009, 0.9842870914448009, 0.9842870914448009, 0.9842870914448009, 0.9842870914448009, 0.9848469975433004, 0.9848469975433004]}], \"precision_score_weighted\": [{\"categories\": [\"0\", \"1\", \"2\", \"3\", \"4\", \"5\", \"6\", \"7\", \"8\", \"9\", \"10\", \"11\", \"12\", \"13\", \"14\", \"15\", \"16\", \"17\", \"18\", \"19\", \"20\", \"21\", \"22\", \"23\", \"24\", \"25\", \"26\", \"27\", \"28\", \"29\", \"30\", \"31\", \"32\", \"33\", \"34\", \"35\", \"38\", \"39\"], \"mode\": \"markers\", \"name\": \"precision_score_weighted\", \"stepped\": false, \"type\": \"scatter\", \"data\": [0.968675144993376, 0.9595392927993626, 0.8648164765066694, 0.8612134638041998, 0.8967059865896866, 0.8722617145684147, 0.9641992996300672, 0.9544061012265962, 0.9656160736682167, 0.9618203055991188, 0.9437457273755315, 0.8921676308496843, 0.8775832773751495, 0.906752766493566, 0.7045183772507437, 0.894747539417322, 0.9027208244391364, 0.8763873129888754, 0.9647748707868476, 0.9066930737637534, 0.9485614432538977, 0.9674097943369739, 0.8916173983730921, 0.9647518751667489, 0.9565435001742765, 0.9616597743237096, 0.9673203615853755, 0.9055816844185639, 0.9070050944791003, 0.9633707515255866, 0.8682241413790739, 0.9658932066183342, 0.9649613585985719, 0.9655209711717126, 0.9570202984138368, 0.7045183772507437, 0.9703750971175443, 0.9699748405378564]}, {\"categories\": [\"0\", \"1\", \"2\", \"3\", \"4\", \"5\", \"6\", \"7\", \"8\", \"9\", \"10\", \"11\", \"12\", \"13\", \"14\", \"15\", \"16\", \"17\", \"18\", \"19\", \"20\", \"21\", \"22\", \"23\", \"24\", \"25\", \"26\", \"27\", \"28\", \"29\", \"30\", \"31\", \"32\", \"33\", \"34\", \"35\", \"38\", \"39\"], \"mode\": \"lines\", \"name\": \"precision_score_weighted_max\", \"stepped\": true, \"type\": \"scatter\", \"data\": [0.968675144993376, 0.968675144993376, 0.968675144993376, 0.968675144993376, 0.968675144993376, 0.968675144993376, 0.968675144993376, 0.968675144993376, 0.968675144993376, 0.968675144993376, 0.968675144993376, 0.968675144993376, 0.968675144993376, 0.968675144993376, 0.968675144993376, 0.968675144993376, 0.968675144993376, 0.968675144993376, 0.968675144993376, 0.968675144993376, 0.968675144993376, 0.968675144993376, 0.968675144993376, 0.968675144993376, 0.968675144993376, 0.968675144993376, 0.968675144993376, 0.968675144993376, 0.968675144993376, 0.968675144993376, 0.968675144993376, 0.968675144993376, 0.968675144993376, 0.968675144993376, 0.968675144993376, 0.968675144993376, 0.9703750971175443, 0.9703750971175443]}], \"norm_macro_recall\": [{\"categories\": [\"0\", \"1\", \"2\", \"3\", \"4\", \"5\", \"6\", \"7\", \"8\", \"9\", \"10\", \"11\", \"12\", \"13\", \"14\", \"15\", \"16\", \"17\", \"18\", \"19\", \"20\", \"21\", \"22\", \"23\", \"24\", \"25\", \"26\", \"27\", \"28\", \"29\", \"30\", \"31\", \"32\", \"33\", \"34\", \"35\", \"38\", \"39\"], \"mode\": \"markers\", \"name\": \"norm_macro_recall\", \"stepped\": false, \"type\": \"scatter\", \"data\": [0.8628086832654799, 0.8080242199286163, 0.14083190431309153, 0.07660229813347641, 0.7010251319833092, 0.58884765674263, 0.8251988677349185, 0.7929807822795952, 0.8389481878945576, 0.8186321867434362, 0.7428630827122121, 0.4544315634194989, 0.2808346058401143, 0.5798897555557597, 0.0, 0.36924492924019253, 0.5342009508103654, 0.20919069533255139, 0.8341232739515597, 0.5522035958829191, 0.7823197297763452, 0.8489665427211692, 0.25240756516585344, 0.8373590592776453, 0.8021530344605043, 0.8310764914290765, 0.8463207077791427, 0.572190062875899, 0.5979903295488321, 0.826583882583558, 0.09763359227311834, 0.8443474869482452, 0.8387592892024548, 0.8423087337855684, 0.7914737018318783, 0.0, 0.8652651199265521, 0.8633650539665784]}, {\"categories\": [\"0\", \"1\", \"2\", \"3\", \"4\", \"5\", \"6\", \"7\", \"8\", \"9\", \"10\", \"11\", \"12\", \"13\", \"14\", \"15\", \"16\", \"17\", \"18\", \"19\", \"20\", \"21\", \"22\", \"23\", \"24\", \"25\", \"26\", \"27\", \"28\", \"29\", \"30\", \"31\", \"32\", \"33\", \"34\", \"35\", \"38\", \"39\"], \"mode\": \"lines\", \"name\": \"norm_macro_recall_max\", \"stepped\": true, \"type\": \"scatter\", \"data\": [0.8628086832654799, 0.8628086832654799, 0.8628086832654799, 0.8628086832654799, 0.8628086832654799, 0.8628086832654799, 0.8628086832654799, 0.8628086832654799, 0.8628086832654799, 0.8628086832654799, 0.8628086832654799, 0.8628086832654799, 0.8628086832654799, 0.8628086832654799, 0.8628086832654799, 0.8628086832654799, 0.8628086832654799, 0.8628086832654799, 0.8628086832654799, 0.8628086832654799, 0.8628086832654799, 0.8628086832654799, 0.8628086832654799, 0.8628086832654799, 0.8628086832654799, 0.8628086832654799, 0.8628086832654799, 0.8628086832654799, 0.8628086832654799, 0.8628086832654799, 0.8628086832654799, 0.8628086832654799, 0.8628086832654799, 0.8628086832654799, 0.8628086832654799, 0.8628086832654799, 0.8652651199265521, 0.8652651199265521]}], \"AUC_weighted\": [{\"categories\": [\"0\", \"1\", \"2\", \"3\", \"4\", \"5\", \"6\", \"7\", \"8\", \"9\", \"10\", \"11\", \"12\", \"13\", \"14\", \"15\", \"16\", \"17\", \"18\", \"19\", \"20\", \"21\", \"22\", \"23\", \"24\", \"25\", \"26\", \"27\", \"28\", \"29\", \"30\", \"31\", \"32\", \"33\", \"34\", \"35\", \"38\", \"39\"], \"mode\": \"markers\", \"name\": \"AUC_weighted\", \"stepped\": false, \"type\": \"scatter\", \"data\": [0.9920575780918782, 0.9888548014173875, 0.9059018005020191, 0.8984419669803742, 0.9276418796530184, 0.8925816935682378, 0.9907526729577789, 0.9825238154189558, 0.9907405862997501, 0.988722082352789, 0.9736525541002377, 0.9521755879144385, 0.9124588315825323, 0.930404851889858, 0.8995444039302495, 0.956590505120932, 0.9344450604863305, 0.9169028140650121, 0.9904921610483473, 0.9236604519331125, 0.9825368333494507, 0.9916242395261344, 0.964079963801043, 0.9904271800275511, 0.9860742691000136, 0.9893240245275127, 0.9913749738298835, 0.9277517202579811, 0.932016822525943, 0.9902249548918166, 0.9281376282331589, 0.9908753169862018, 0.9909295272785017, 0.991016141247635, 0.9861755074617281, 0.9299318780373662, 0.9911393285327788, 0.9911159927266885]}, {\"categories\": [\"0\", \"1\", \"2\", \"3\", \"4\", \"5\", \"6\", \"7\", \"8\", \"9\", \"10\", \"11\", \"12\", \"13\", \"14\", \"15\", \"16\", \"17\", \"18\", \"19\", \"20\", \"21\", \"22\", \"23\", \"24\", \"25\", \"26\", \"27\", \"28\", \"29\", \"30\", \"31\", \"32\", \"33\", \"34\", \"35\", \"38\", \"39\"], \"mode\": \"lines\", \"name\": \"AUC_weighted_max\", \"stepped\": true, \"type\": \"scatter\", \"data\": [0.9920575780918782, 0.9920575780918782, 0.9920575780918782, 0.9920575780918782, 0.9920575780918782, 0.9920575780918782, 0.9920575780918782, 0.9920575780918782, 0.9920575780918782, 0.9920575780918782, 0.9920575780918782, 0.9920575780918782, 0.9920575780918782, 0.9920575780918782, 0.9920575780918782, 0.9920575780918782, 0.9920575780918782, 0.9920575780918782, 0.9920575780918782, 0.9920575780918782, 0.9920575780918782, 0.9920575780918782, 0.9920575780918782, 0.9920575780918782, 0.9920575780918782, 0.9920575780918782, 0.9920575780918782, 0.9920575780918782, 0.9920575780918782, 0.9920575780918782, 0.9920575780918782, 0.9920575780918782, 0.9920575780918782, 0.9920575780918782, 0.9920575780918782, 0.9920575780918782, 0.9920575780918782, 0.9920575780918782]}], \"log_loss\": [{\"categories\": [\"0\", \"1\", \"2\", \"3\", \"4\", \"5\", \"6\", \"7\", \"8\", \"9\", \"10\", \"11\", \"12\", \"13\", \"14\", \"15\", \"16\", \"17\", \"18\", \"19\", \"20\", \"21\", \"22\", \"23\", \"24\", \"25\", \"26\", \"27\", \"28\", \"29\", \"30\", \"31\", \"32\", \"33\", \"34\", \"35\", \"38\", \"39\"], \"mode\": \"markers\", \"name\": \"log_loss\", \"stepped\": false, \"type\": \"scatter\", \"data\": [0.0803901865488858, 0.1105145632393635, 0.30852890529219046, 0.31754514993362076, 0.46583424164653314, 0.5128935150102055, 0.09330998839490913, 0.14717467317079877, 0.09160078892614475, 0.10527354662461168, 0.3016359814093408, 0.24037157924413977, 0.29564410730098106, 0.22469573027472176, 0.31956634056491656, 0.2625302790475366, 0.237049571507607, 0.29957549321275745, 0.0919364201765127, 0.23512113434457868, 0.12600209447941094, 0.0846944174243206, 0.2695375527626354, 0.09025504921896248, 0.12079607814410848, 0.0984142952653405, 0.08646745917536762, 0.22702614379669753, 0.22389050966797297, 0.09303392510537976, 0.31080126652262335, 0.08937305700403249, 0.0981375007719754, 0.08798307580009952, 0.11970857664687982, 0.4408053549663096, 0.12961411245592236, 0.09199275373569649]}, {\"categories\": [\"0\", \"1\", \"2\", \"3\", \"4\", \"5\", \"6\", \"7\", \"8\", \"9\", \"10\", \"11\", \"12\", \"13\", \"14\", \"15\", \"16\", \"17\", \"18\", \"19\", \"20\", \"21\", \"22\", \"23\", \"24\", \"25\", \"26\", \"27\", \"28\", \"29\", \"30\", \"31\", \"32\", \"33\", \"34\", \"35\", \"38\", \"39\"], \"mode\": \"lines\", \"name\": \"log_loss_min\", \"stepped\": true, \"type\": \"scatter\", \"data\": [0.0803901865488858, 0.0803901865488858, 0.0803901865488858, 0.0803901865488858, 0.0803901865488858, 0.0803901865488858, 0.0803901865488858, 0.0803901865488858, 0.0803901865488858, 0.0803901865488858, 0.0803901865488858, 0.0803901865488858, 0.0803901865488858, 0.0803901865488858, 0.0803901865488858, 0.0803901865488858, 0.0803901865488858, 0.0803901865488858, 0.0803901865488858, 0.0803901865488858, 0.0803901865488858, 0.0803901865488858, 0.0803901865488858, 0.0803901865488858, 0.0803901865488858, 0.0803901865488858, 0.0803901865488858, 0.0803901865488858, 0.0803901865488858, 0.0803901865488858, 0.0803901865488858, 0.0803901865488858, 0.0803901865488858, 0.0803901865488858, 0.0803901865488858, 0.0803901865488858, 0.0803901865488858, 0.0803901865488858]}], \"average_precision_score_micro\": [{\"categories\": [\"0\", \"1\", \"2\", \"3\", \"4\", \"5\", \"6\", \"7\", \"8\", \"9\", \"10\", \"11\", \"12\", \"13\", \"14\", \"15\", \"16\", \"17\", \"18\", \"19\", \"20\", \"21\", \"22\", \"23\", \"24\", \"25\", \"26\", \"27\", \"28\", \"29\", \"30\", \"31\", \"32\", \"33\", \"34\", \"35\", \"38\", \"39\"], \"mode\": \"markers\", \"name\": \"average_precision_score_micro\", \"stepped\": false, \"type\": \"scatter\", \"data\": [0.9959695159351701, 0.9940395247952728, 0.9499189516766472, 0.9480324878725878, 0.9338560120019359, 0.8744218256814861, 0.9950718081291913, 0.9913929490917749, 0.9951254935036243, 0.9941030827629684, 0.9869312507237037, 0.9719836986283891, 0.9551362997858135, 0.9688805120860978, 0.9484408892622245, 0.9707458696902221, 0.9691774382408807, 0.955189139944762, 0.9950264685996523, 0.9661910266212127, 0.99111836213839, 0.995616664481231, 0.9707570872998194, 0.9950684776312463, 0.9926273683507308, 0.9944412630695242, 0.995454090433414, 0.9679683703533133, 0.9694827952945051, 0.9949150172206144, 0.9573050006246281, 0.9952818477916513, 0.9952786382312242, 0.9953037452914965, 0.9927426716018718, 0.9567245018936342, 0.9954060883669477, 0.9953012321583968]}, {\"categories\": [\"0\", \"1\", \"2\", \"3\", \"4\", \"5\", \"6\", \"7\", \"8\", \"9\", \"10\", \"11\", \"12\", \"13\", \"14\", \"15\", \"16\", \"17\", \"18\", \"19\", \"20\", \"21\", \"22\", \"23\", \"24\", \"25\", \"26\", \"27\", \"28\", \"29\", \"30\", \"31\", \"32\", \"33\", \"34\", \"35\", \"38\", \"39\"], \"mode\": \"lines\", \"name\": \"average_precision_score_micro_max\", \"stepped\": true, \"type\": \"scatter\", \"data\": [0.9959695159351701, 0.9959695159351701, 0.9959695159351701, 0.9959695159351701, 0.9959695159351701, 0.9959695159351701, 0.9959695159351701, 0.9959695159351701, 0.9959695159351701, 0.9959695159351701, 0.9959695159351701, 0.9959695159351701, 0.9959695159351701, 0.9959695159351701, 0.9959695159351701, 0.9959695159351701, 0.9959695159351701, 0.9959695159351701, 0.9959695159351701, 0.9959695159351701, 0.9959695159351701, 0.9959695159351701, 0.9959695159351701, 0.9959695159351701, 0.9959695159351701, 0.9959695159351701, 0.9959695159351701, 0.9959695159351701, 0.9959695159351701, 0.9959695159351701, 0.9959695159351701, 0.9959695159351701, 0.9959695159351701, 0.9959695159351701, 0.9959695159351701, 0.9959695159351701, 0.9959695159351701, 0.9959695159351701]}]}, \"metricName\": null, \"primaryMetricName\": \"accuracy\", \"showLegend\": false}, \"run_metrics\": [{\"name\": \"experiment_status\", \"run_id\": \"AutoML_81dfe262-4304-41ca-8572-ddde08afa446\", \"categories\": [0, 1, 2, 3, 4, 5, 6, 7, 8, 9, 10, 11, 12, 13, 14], \"series\": [{\"data\": [\"DatasetEvaluation\", \"FeaturesGeneration\", \"DatasetFeaturization\", \"DatasetFeaturizationCompleted\", \"DatasetBalancing\", \"DatasetCrossValidationSplit\", \"ModelSelection\", \"BestRunExplainModel\", \"ModelExplanationDataSetSetup\", \"PickSurrogateModel\", \"EngineeredFeatureExplanations\", \"EngineeredFeatureExplanations\", \"RawFeaturesExplanations\", \"RawFeaturesExplanations\", \"BestRunExplainModel\"]}]}, {\"name\": \"experiment_status_description\", \"run_id\": \"AutoML_81dfe262-4304-41ca-8572-ddde08afa446\", \"categories\": [0, 1, 2, 3, 4, 5, 6, 7, 8, 9, 10, 11, 12, 13, 14], \"series\": [{\"data\": [\"Gathering dataset statistics.\", \"Generating features for the dataset.\", \"Beginning to fit featurizers and featurize the dataset.\", \"Completed fit featurizers and featurizing the dataset.\", \"Performing class balancing sweeping\", \"Generating individually featurized CV splits.\", \"Beginning model selection.\", \"Best run model explanations started\", \"Model explanations data setup completed\", \"Choosing LightGBM as the surrogate model for explanations\", \"Computation of engineered features started\", \"Computation of engineered features completed\", \"Computation of raw features started\", \"Computation of raw features completed\", \"Best run model explanations completed\"]}]}, {\"name\": \"f1_score_macro\", \"run_id\": \"AutoML_81dfe262-4304-41ca-8572-ddde08afa446\", \"categories\": [0], \"series\": [{\"data\": [0.9443023658409873]}]}, {\"name\": \"recall_score_macro\", \"run_id\": \"AutoML_81dfe262-4304-41ca-8572-ddde08afa446\", \"categories\": [0], \"series\": [{\"data\": [0.932632559963276]}]}, {\"name\": \"AUC_macro\", \"run_id\": \"AutoML_81dfe262-4304-41ca-8572-ddde08afa446\", \"categories\": [0], \"series\": [{\"data\": [0.9911393285327788]}]}, {\"name\": \"weighted_accuracy\", \"run_id\": \"AutoML_81dfe262-4304-41ca-8572-ddde08afa446\", \"categories\": [0], \"series\": [{\"data\": [0.9848469975433004]}]}, {\"name\": \"log_loss\", \"run_id\": \"AutoML_81dfe262-4304-41ca-8572-ddde08afa446\", \"categories\": [0], \"series\": [{\"data\": [0.12961411245592236]}]}, {\"name\": \"f1_score_micro\", \"run_id\": \"AutoML_81dfe262-4304-41ca-8572-ddde08afa446\", \"categories\": [0], \"series\": [{\"data\": [0.9707711661108185]}]}, {\"name\": \"precision_score_macro\", \"run_id\": \"AutoML_81dfe262-4304-41ca-8572-ddde08afa446\", \"categories\": [0], \"series\": [{\"data\": [0.9570745729436184]}]}, {\"name\": \"f1_score_weighted\", \"run_id\": \"AutoML_81dfe262-4304-41ca-8572-ddde08afa446\", \"categories\": [0], \"series\": [{\"data\": [0.9703692218500577]}]}, {\"name\": \"average_precision_score_micro\", \"run_id\": \"AutoML_81dfe262-4304-41ca-8572-ddde08afa446\", \"categories\": [0], \"series\": [{\"data\": [0.9954060883669477]}]}, {\"name\": \"balanced_accuracy\", \"run_id\": \"AutoML_81dfe262-4304-41ca-8572-ddde08afa446\", \"categories\": [0], \"series\": [{\"data\": [0.932632559963276]}]}, {\"name\": \"matthews_correlation\", \"run_id\": \"AutoML_81dfe262-4304-41ca-8572-ddde08afa446\", \"categories\": [0], \"series\": [{\"data\": [0.8893595975797717]}]}, {\"name\": \"recall_score_micro\", \"run_id\": \"AutoML_81dfe262-4304-41ca-8572-ddde08afa446\", \"categories\": [0], \"series\": [{\"data\": [0.9707711661108185]}]}, {\"name\": \"precision_score_weighted\", \"run_id\": \"AutoML_81dfe262-4304-41ca-8572-ddde08afa446\", \"categories\": [0], \"series\": [{\"data\": [0.9703750971175443]}]}, {\"name\": \"AUC_micro\", \"run_id\": \"AutoML_81dfe262-4304-41ca-8572-ddde08afa446\", \"categories\": [0], \"series\": [{\"data\": [0.9953594204153201]}]}, {\"name\": \"norm_macro_recall\", \"run_id\": \"AutoML_81dfe262-4304-41ca-8572-ddde08afa446\", \"categories\": [0], \"series\": [{\"data\": [0.8652651199265521]}]}, {\"name\": \"recall_score_weighted\", \"run_id\": \"AutoML_81dfe262-4304-41ca-8572-ddde08afa446\", \"categories\": [0], \"series\": [{\"data\": [0.9707711661108185]}]}, {\"name\": \"average_precision_score_weighted\", \"run_id\": \"AutoML_81dfe262-4304-41ca-8572-ddde08afa446\", \"categories\": [0], \"series\": [{\"data\": [0.992669727285235]}]}, {\"name\": \"precision_score_micro\", \"run_id\": \"AutoML_81dfe262-4304-41ca-8572-ddde08afa446\", \"categories\": [0], \"series\": [{\"data\": [0.9707711661108185]}]}, {\"name\": \"average_precision_score_macro\", \"run_id\": \"AutoML_81dfe262-4304-41ca-8572-ddde08afa446\", \"categories\": [0], \"series\": [{\"data\": [0.9810398606484153]}]}, {\"name\": \"accuracy\", \"run_id\": \"AutoML_81dfe262-4304-41ca-8572-ddde08afa446\", \"categories\": [0], \"series\": [{\"data\": [0.9707711661108185]}]}, {\"name\": \"AUC_weighted\", \"run_id\": \"AutoML_81dfe262-4304-41ca-8572-ddde08afa446\", \"categories\": [0], \"series\": [{\"data\": [0.9911393285327788]}]}], \"run_logs\": \"\\nRun is completed.\", \"graph\": {}, \"widget_settings\": {\"childWidgetDisplay\": \"popup\", \"send_telemetry\": false, \"log_level\": \"INFO\", \"sdk_version\": \"1.19.0\"}, \"loading\": false}"
     },
     "metadata": {},
     "output_type": "display_data"
    },
    {
     "name": "stdout",
     "output_type": "stream",
     "text": [
      "\n",
      "\n",
      "****************************************************************************************************\n",
      "DATA GUARDRAILS: \n",
      "\n",
      "TYPE:         Class balancing detection\n",
      "STATUS:       ALERTED\n",
      "DESCRIPTION:  To decrease model bias, please cancel the current run and fix balancing problem.\n",
      "              Learn more about imbalanced data: https://aka.ms/AutomatedMLImbalancedData\n",
      "DETAILS:      Imbalanced data can lead to a falsely perceived positive effect of a model's accuracy because the input data has bias towards one class.\n",
      "+---------------------------------+---------------------------------+--------------------------------------+\n",
      "|Size of the smallest class       |Name/Label of the smallest class |Number of samples in the training data|\n",
      "+=================================+=================================+======================================+\n",
      "|1627                             |Attrited Customer                |10127                                 |\n",
      "+---------------------------------+---------------------------------+--------------------------------------+\n",
      "\n",
      "****************************************************************************************************\n",
      "\n",
      "TYPE:         Missing feature values imputation\n",
      "STATUS:       PASSED\n",
      "DESCRIPTION:  No feature missing values were detected in the training data.\n",
      "              Learn more about missing value imputation: https://aka.ms/AutomatedMLFeaturization\n",
      "\n",
      "****************************************************************************************************\n",
      "\n",
      "TYPE:         High cardinality feature detection\n",
      "STATUS:       PASSED\n",
      "DESCRIPTION:  Your inputs were analyzed, and no high cardinality features were detected.\n",
      "              Learn more about high cardinality feature handling: https://aka.ms/AutomatedMLFeaturization\n",
      "\n",
      "****************************************************************************************************\n",
      "\n",
      "****************************************************************************************************\n",
      "ITERATION: The iteration being evaluated.\n",
      "PIPELINE: A summary description of the pipeline being evaluated.\n",
      "DURATION: Time taken for the current iteration.\n",
      "METRIC: The result of computing score on the fitted pipeline.\n",
      "BEST: The best observed score thus far.\n",
      "****************************************************************************************************\n",
      "\n",
      " ITERATION   PIPELINE                                       DURATION      METRIC      BEST\n",
      "         0   MaxAbsScaler LightGBM                          0:00:49       0.9691    0.9691\n",
      "         1   MaxAbsScaler XGBoostClassifier                 0:00:47       0.9603    0.9691\n",
      "         2   MaxAbsScaler RandomForest                      0:00:46       0.8595    0.9691\n",
      "         3   MaxAbsScaler RandomForest                      0:00:49       0.8512    0.9691\n",
      "         4   MaxAbsScaler RandomForest                      0:00:43       0.8573    0.9691\n",
      "         5   MaxAbsScaler RandomForest                      0:00:43       0.7350    0.9691\n",
      "         6   SparseNormalizer XGBoostClassifier             0:00:53       0.9647    0.9691\n",
      "         7   SparseNormalizer XGBoostClassifier             0:00:46       0.9553    0.9691\n",
      "         8   SparseNormalizer XGBoostClassifier             0:00:58       0.9661    0.9691\n",
      "         9   SparseNormalizer XGBoostClassifier             0:00:50       0.9625    0.9691\n",
      "        10   SparseNormalizer XGBoostClassifier             0:01:25       0.9451    0.9691\n",
      "        11   StandardScalerWrapper RandomForest             0:00:46       0.8973    0.9691\n",
      "        12   MaxAbsScaler ExtremeRandomTrees                0:01:03       0.8782    0.9691\n",
      "        13   MaxAbsScaler LogisticRegression                0:00:46       0.9116    0.9691\n",
      "        14   MaxAbsScaler ExtremeRandomTrees                0:01:04       0.8393    0.9691\n",
      "        15   MaxAbsScaler LightGBM                          0:00:44       0.8935    0.9691\n",
      "        16   SparseNormalizer LightGBM                      0:00:42       0.9080    0.9691\n",
      "        17   MaxAbsScaler ExtremeRandomTrees                0:00:47       0.8703    0.9691\n",
      "        18   SparseNormalizer XGBoostClassifier             0:01:16       0.9653    0.9691\n",
      "        19   MaxAbsScaler LightGBM                          0:00:42       0.9114    0.9691\n",
      "        20   MaxAbsScaler LightGBM                          0:00:54       0.9496    0.9691\n",
      "        21   SparseNormalizer XGBoostClassifier             0:01:03       0.9679    0.9691\n",
      "        22   SparseNormalizer LightGBM                      0:00:45       0.8795    0.9691\n",
      "        23   SparseNormalizer XGBoostClassifier             0:01:06       0.9653    0.9691\n",
      "        24   SparseNormalizer LightGBM                      0:00:54       0.9574    0.9691\n",
      "        25   SparseNormalizer LightGBM                      0:00:45       0.9623    0.9691\n",
      "        26   SparseNormalizer XGBoostClassifier             0:01:07       0.9678    0.9691\n",
      "        27   StandardScalerWrapper LogisticRegression       0:01:04       0.9106    0.9691\n",
      "        28   MaxAbsScaler LogisticRegression                0:00:51       0.9115    0.9691\n",
      "        29   SparseNormalizer XGBoostClassifier             0:01:00       0.9640    0.9691\n",
      "        30   SparseNormalizer LightGBM                      0:00:45       0.8539    0.9691\n",
      "        31   SparseNormalizer XGBoostClassifier             0:01:19       0.9664    0.9691\n",
      "        32   SparseNormalizer XGBoostClassifier             0:01:40       0.9655    0.9691\n",
      "        33   SparseNormalizer XGBoostClassifier             0:01:20       0.9660    0.9691\n",
      "        34   SparseNormalizer XGBoostClassifier             0:00:51       0.9578    0.9691\n",
      "        35   MaxAbsScaler LightGBM                          0:00:58       0.8393    0.9691\n",
      "        36                                                  0:00:08          nan    0.9691\n",
      "        37                                                  0:00:18          nan    0.9691\n",
      "        38    VotingEnsemble                                0:01:24       0.9708    0.9708\n",
      "        39    StackEnsemble                                 0:01:41       0.9704    0.9708\n"
     ]
    },
    {
     "data": {
      "text/plain": [
       "{'runId': 'AutoML_81dfe262-4304-41ca-8572-ddde08afa446',\n",
       " 'target': 'demo-cluster',\n",
       " 'status': 'Completed',\n",
       " 'startTimeUtc': '2021-01-14T11:58:48.396263Z',\n",
       " 'endTimeUtc': '2021-01-14T12:14:46.138694Z',\n",
       " 'properties': {'num_iterations': '1000',\n",
       "  'training_type': 'TrainFull',\n",
       "  'acquisition_function': 'EI',\n",
       "  'primary_metric': 'accuracy',\n",
       "  'train_split': '0',\n",
       "  'acquisition_parameter': '0',\n",
       "  'num_cross_validation': '3',\n",
       "  'target': 'demo-cluster',\n",
       "  'AMLSettingsJsonString': '{\"path\":null,\"name\":\"demo-automl-experiment\",\"subscription_id\":\"3d1a56d2-7c81-4118-9790-f85d1acf0c77\",\"resource_group\":\"aml-quickstarts-134654\",\"workspace_name\":\"quick-starts-ws-134654\",\"region\":\"southcentralus\",\"compute_target\":\"demo-cluster\",\"spark_service\":null,\"azure_service\":\"remote\",\"many_models\":false,\"pipeline_fetch_max_batch_size\":1,\"iterations\":1000,\"primary_metric\":\"accuracy\",\"task_type\":\"classification\",\"data_script\":null,\"validation_size\":0.0,\"n_cross_validations\":3,\"y_min\":null,\"y_max\":null,\"num_classes\":null,\"featurization\":\"auto\",\"_ignore_package_version_incompatibilities\":false,\"is_timeseries\":false,\"max_cores_per_iteration\":1,\"max_concurrent_iterations\":5,\"iteration_timeout_minutes\":null,\"mem_in_mb\":null,\"enforce_time_on_windows\":false,\"experiment_timeout_minutes\":30,\"experiment_exit_score\":null,\"whitelist_models\":null,\"blacklist_algos\":[\"TensorFlowLinearClassifier\",\"TensorFlowDNN\"],\"supported_models\":[\"LinearSVM\",\"XGBoostClassifier\",\"MultinomialNaiveBayes\",\"TensorFlowLinearClassifier\",\"SVM\",\"ExtremeRandomTrees\",\"SGD\",\"LightGBM\",\"AveragedPerceptronClassifier\",\"TensorFlowDNN\",\"KNN\",\"RandomForest\",\"DecisionTree\",\"LogisticRegression\",\"GradientBoosting\",\"BernoulliNaiveBayes\"],\"auto_blacklist\":true,\"blacklist_samples_reached\":false,\"exclude_nan_labels\":true,\"verbosity\":20,\"_debug_log\":\"azureml_automl.log\",\"show_warnings\":false,\"model_explainability\":true,\"service_url\":null,\"sdk_url\":null,\"sdk_packages\":null,\"enable_onnx_compatible_models\":false,\"enable_split_onnx_featurizer_estimator_models\":false,\"vm_type\":\"STANDARD_DS3_V2\",\"telemetry_verbosity\":20,\"send_telemetry\":true,\"enable_dnn\":false,\"scenario\":\"SDK-1.13.0\",\"environment_label\":null,\"force_text_dnn\":false,\"enable_feature_sweeping\":true,\"enable_early_stopping\":true,\"early_stopping_n_iters\":10,\"metrics\":null,\"enable_ensembling\":true,\"enable_stack_ensembling\":true,\"ensemble_iterations\":15,\"enable_tf\":false,\"enable_subsampling\":null,\"subsample_seed\":null,\"enable_nimbusml\":false,\"enable_streaming\":false,\"force_streaming\":false,\"track_child_runs\":true,\"allowed_private_models\":[],\"label_column_name\":\"Attrition_Flag\",\"weight_column_name\":null,\"cv_split_column_names\":null,\"enable_local_managed\":false,\"_local_managed_run_id\":null,\"cost_mode\":1,\"lag_length\":0,\"metric_operation\":\"maximize\",\"preprocess\":true}',\n",
       "  'DataPrepJsonString': '{\\\\\"training_data\\\\\": \\\\\"{\\\\\\\\\\\\\"blocks\\\\\\\\\\\\\": [{\\\\\\\\\\\\\"id\\\\\\\\\\\\\": \\\\\\\\\\\\\"00508fa1-a651-42e9-b743-c27c632bf62f\\\\\\\\\\\\\", \\\\\\\\\\\\\"type\\\\\\\\\\\\\": \\\\\\\\\\\\\"Microsoft.DPrep.GetDatastoreFilesBlock\\\\\\\\\\\\\", \\\\\\\\\\\\\"arguments\\\\\\\\\\\\\": {\\\\\\\\\\\\\"datastores\\\\\\\\\\\\\": [{\\\\\\\\\\\\\"datastoreName\\\\\\\\\\\\\": \\\\\\\\\\\\\"workspaceblobstore\\\\\\\\\\\\\", \\\\\\\\\\\\\"path\\\\\\\\\\\\\": \\\\\\\\\\\\\"UI/01-14-2021_115245_UTC/BankChurners.csv\\\\\\\\\\\\\", \\\\\\\\\\\\\"resourceGroup\\\\\\\\\\\\\": \\\\\\\\\\\\\"aml-quickstarts-134654\\\\\\\\\\\\\", \\\\\\\\\\\\\"subscription\\\\\\\\\\\\\": \\\\\\\\\\\\\"3d1a56d2-7c81-4118-9790-f85d1acf0c77\\\\\\\\\\\\\", \\\\\\\\\\\\\"workspaceName\\\\\\\\\\\\\": \\\\\\\\\\\\\"quick-starts-ws-134654\\\\\\\\\\\\\"}]}, \\\\\\\\\\\\\"localData\\\\\\\\\\\\\": {}, \\\\\\\\\\\\\"isEnabled\\\\\\\\\\\\\": true, \\\\\\\\\\\\\"name\\\\\\\\\\\\\": null, \\\\\\\\\\\\\"annotation\\\\\\\\\\\\\": null}, {\\\\\\\\\\\\\"id\\\\\\\\\\\\\": \\\\\\\\\\\\\"1f88391c-d9a7-47c3-b7ba-de720f121827\\\\\\\\\\\\\", \\\\\\\\\\\\\"type\\\\\\\\\\\\\": \\\\\\\\\\\\\"Microsoft.DPrep.ParseDelimitedBlock\\\\\\\\\\\\\", \\\\\\\\\\\\\"arguments\\\\\\\\\\\\\": {\\\\\\\\\\\\\"columnHeadersMode\\\\\\\\\\\\\": 1, \\\\\\\\\\\\\"fileEncoding\\\\\\\\\\\\\": 0, \\\\\\\\\\\\\"handleQuotedLineBreaks\\\\\\\\\\\\\": false, \\\\\\\\\\\\\"preview\\\\\\\\\\\\\": false, \\\\\\\\\\\\\"separator\\\\\\\\\\\\\": \\\\\\\\\\\\\",\\\\\\\\\\\\\", \\\\\\\\\\\\\"skipRows\\\\\\\\\\\\\": 0, \\\\\\\\\\\\\"skipRowsMode\\\\\\\\\\\\\": 0}, \\\\\\\\\\\\\"localData\\\\\\\\\\\\\": {}, \\\\\\\\\\\\\"isEnabled\\\\\\\\\\\\\": true, \\\\\\\\\\\\\"name\\\\\\\\\\\\\": null, \\\\\\\\\\\\\"annotation\\\\\\\\\\\\\": null}, {\\\\\\\\\\\\\"id\\\\\\\\\\\\\": \\\\\\\\\\\\\"0a0cbad9-5092-42c7-aec7-1b84a54e74fe\\\\\\\\\\\\\", \\\\\\\\\\\\\"type\\\\\\\\\\\\\": \\\\\\\\\\\\\"Microsoft.DPrep.DropColumnsBlock\\\\\\\\\\\\\", \\\\\\\\\\\\\"arguments\\\\\\\\\\\\\": {\\\\\\\\\\\\\"columns\\\\\\\\\\\\\": {\\\\\\\\\\\\\"type\\\\\\\\\\\\\": 0, \\\\\\\\\\\\\"details\\\\\\\\\\\\\": {\\\\\\\\\\\\\"selectedColumns\\\\\\\\\\\\\": [\\\\\\\\\\\\\"Path\\\\\\\\\\\\\"]}}}, \\\\\\\\\\\\\"localData\\\\\\\\\\\\\": {}, \\\\\\\\\\\\\"isEnabled\\\\\\\\\\\\\": true, \\\\\\\\\\\\\"name\\\\\\\\\\\\\": null, \\\\\\\\\\\\\"annotation\\\\\\\\\\\\\": null}, {\\\\\\\\\\\\\"id\\\\\\\\\\\\\": \\\\\\\\\\\\\"fb36f008-edaf-4451-a1aa-a7d19915c6d9\\\\\\\\\\\\\", \\\\\\\\\\\\\"type\\\\\\\\\\\\\": \\\\\\\\\\\\\"Microsoft.DPrep.SetColumnTypesBlock\\\\\\\\\\\\\", \\\\\\\\\\\\\"arguments\\\\\\\\\\\\\": {\\\\\\\\\\\\\"columnConversion\\\\\\\\\\\\\": [{\\\\\\\\\\\\\"column\\\\\\\\\\\\\": {\\\\\\\\\\\\\"type\\\\\\\\\\\\\": 2, \\\\\\\\\\\\\"details\\\\\\\\\\\\\": {\\\\\\\\\\\\\"selectedColumn\\\\\\\\\\\\\": \\\\\\\\\\\\\"Path\\\\\\\\\\\\\"}}, \\\\\\\\\\\\\"typeProperty\\\\\\\\\\\\\": 0}, {\\\\\\\\\\\\\"column\\\\\\\\\\\\\": {\\\\\\\\\\\\\"type\\\\\\\\\\\\\": 2, \\\\\\\\\\\\\"details\\\\\\\\\\\\\": {\\\\\\\\\\\\\"selectedColumn\\\\\\\\\\\\\": \\\\\\\\\\\\\"CLIENTNUM\\\\\\\\\\\\\"}}, \\\\\\\\\\\\\"typeProperty\\\\\\\\\\\\\": 2}, {\\\\\\\\\\\\\"column\\\\\\\\\\\\\": {\\\\\\\\\\\\\"type\\\\\\\\\\\\\": 2, \\\\\\\\\\\\\"details\\\\\\\\\\\\\": {\\\\\\\\\\\\\"selectedColumn\\\\\\\\\\\\\": \\\\\\\\\\\\\"Attrition_Flag\\\\\\\\\\\\\"}}, \\\\\\\\\\\\\"typeProperty\\\\\\\\\\\\\": 0}, {\\\\\\\\\\\\\"column\\\\\\\\\\\\\": {\\\\\\\\\\\\\"type\\\\\\\\\\\\\": 2, \\\\\\\\\\\\\"details\\\\\\\\\\\\\": {\\\\\\\\\\\\\"selectedColumn\\\\\\\\\\\\\": \\\\\\\\\\\\\"Customer_Age\\\\\\\\\\\\\"}}, \\\\\\\\\\\\\"typeProperty\\\\\\\\\\\\\": 2}, {\\\\\\\\\\\\\"column\\\\\\\\\\\\\": {\\\\\\\\\\\\\"type\\\\\\\\\\\\\": 2, \\\\\\\\\\\\\"details\\\\\\\\\\\\\": {\\\\\\\\\\\\\"selectedColumn\\\\\\\\\\\\\": \\\\\\\\\\\\\"Gender\\\\\\\\\\\\\"}}, \\\\\\\\\\\\\"typeProperty\\\\\\\\\\\\\": 0}, {\\\\\\\\\\\\\"column\\\\\\\\\\\\\": {\\\\\\\\\\\\\"type\\\\\\\\\\\\\": 2, \\\\\\\\\\\\\"details\\\\\\\\\\\\\": {\\\\\\\\\\\\\"selectedColumn\\\\\\\\\\\\\": \\\\\\\\\\\\\"Dependent_count\\\\\\\\\\\\\"}}, \\\\\\\\\\\\\"typeProperty\\\\\\\\\\\\\": 2}, {\\\\\\\\\\\\\"column\\\\\\\\\\\\\": {\\\\\\\\\\\\\"type\\\\\\\\\\\\\": 2, \\\\\\\\\\\\\"details\\\\\\\\\\\\\": {\\\\\\\\\\\\\"selectedColumn\\\\\\\\\\\\\": \\\\\\\\\\\\\"Education_Level\\\\\\\\\\\\\"}}, \\\\\\\\\\\\\"typeProperty\\\\\\\\\\\\\": 0}, {\\\\\\\\\\\\\"column\\\\\\\\\\\\\": {\\\\\\\\\\\\\"type\\\\\\\\\\\\\": 2, \\\\\\\\\\\\\"details\\\\\\\\\\\\\": {\\\\\\\\\\\\\"selectedColumn\\\\\\\\\\\\\": \\\\\\\\\\\\\"Marital_Status\\\\\\\\\\\\\"}}, \\\\\\\\\\\\\"typeProperty\\\\\\\\\\\\\": 0}, {\\\\\\\\\\\\\"column\\\\\\\\\\\\\": {\\\\\\\\\\\\\"type\\\\\\\\\\\\\": 2, \\\\\\\\\\\\\"details\\\\\\\\\\\\\": {\\\\\\\\\\\\\"selectedColumn\\\\\\\\\\\\\": \\\\\\\\\\\\\"Income_Category\\\\\\\\\\\\\"}}, \\\\\\\\\\\\\"typeProperty\\\\\\\\\\\\\": 0}, {\\\\\\\\\\\\\"column\\\\\\\\\\\\\": {\\\\\\\\\\\\\"type\\\\\\\\\\\\\": 2, \\\\\\\\\\\\\"details\\\\\\\\\\\\\": {\\\\\\\\\\\\\"selectedColumn\\\\\\\\\\\\\": \\\\\\\\\\\\\"Card_Category\\\\\\\\\\\\\"}}, \\\\\\\\\\\\\"typeProperty\\\\\\\\\\\\\": 0}, {\\\\\\\\\\\\\"column\\\\\\\\\\\\\": {\\\\\\\\\\\\\"type\\\\\\\\\\\\\": 2, \\\\\\\\\\\\\"details\\\\\\\\\\\\\": {\\\\\\\\\\\\\"selectedColumn\\\\\\\\\\\\\": \\\\\\\\\\\\\"Months_on_book\\\\\\\\\\\\\"}}, \\\\\\\\\\\\\"typeProperty\\\\\\\\\\\\\": 2}, {\\\\\\\\\\\\\"column\\\\\\\\\\\\\": {\\\\\\\\\\\\\"type\\\\\\\\\\\\\": 2, \\\\\\\\\\\\\"details\\\\\\\\\\\\\": {\\\\\\\\\\\\\"selectedColumn\\\\\\\\\\\\\": \\\\\\\\\\\\\"Total_Relationship_Count\\\\\\\\\\\\\"}}, \\\\\\\\\\\\\"typeProperty\\\\\\\\\\\\\": 2}, {\\\\\\\\\\\\\"column\\\\\\\\\\\\\": {\\\\\\\\\\\\\"type\\\\\\\\\\\\\": 2, \\\\\\\\\\\\\"details\\\\\\\\\\\\\": {\\\\\\\\\\\\\"selectedColumn\\\\\\\\\\\\\": \\\\\\\\\\\\\"Months_Inactive_12_mon\\\\\\\\\\\\\"}}, \\\\\\\\\\\\\"typeProperty\\\\\\\\\\\\\": 2}, {\\\\\\\\\\\\\"column\\\\\\\\\\\\\": {\\\\\\\\\\\\\"type\\\\\\\\\\\\\": 2, \\\\\\\\\\\\\"details\\\\\\\\\\\\\": {\\\\\\\\\\\\\"selectedColumn\\\\\\\\\\\\\": \\\\\\\\\\\\\"Contacts_Count_12_mon\\\\\\\\\\\\\"}}, \\\\\\\\\\\\\"typeProperty\\\\\\\\\\\\\": 2}, {\\\\\\\\\\\\\"column\\\\\\\\\\\\\": {\\\\\\\\\\\\\"type\\\\\\\\\\\\\": 2, \\\\\\\\\\\\\"details\\\\\\\\\\\\\": {\\\\\\\\\\\\\"selectedColumn\\\\\\\\\\\\\": \\\\\\\\\\\\\"Credit_Limit\\\\\\\\\\\\\"}}, \\\\\\\\\\\\\"typeProperty\\\\\\\\\\\\\": 3}, {\\\\\\\\\\\\\"column\\\\\\\\\\\\\": {\\\\\\\\\\\\\"type\\\\\\\\\\\\\": 2, \\\\\\\\\\\\\"details\\\\\\\\\\\\\": {\\\\\\\\\\\\\"selectedColumn\\\\\\\\\\\\\": \\\\\\\\\\\\\"Total_Revolving_Bal\\\\\\\\\\\\\"}}, \\\\\\\\\\\\\"typeProperty\\\\\\\\\\\\\": 2}, {\\\\\\\\\\\\\"column\\\\\\\\\\\\\": {\\\\\\\\\\\\\"type\\\\\\\\\\\\\": 2, \\\\\\\\\\\\\"details\\\\\\\\\\\\\": {\\\\\\\\\\\\\"selectedColumn\\\\\\\\\\\\\": \\\\\\\\\\\\\"Avg_Open_To_Buy\\\\\\\\\\\\\"}}, \\\\\\\\\\\\\"typeProperty\\\\\\\\\\\\\": 3}, {\\\\\\\\\\\\\"column\\\\\\\\\\\\\": {\\\\\\\\\\\\\"type\\\\\\\\\\\\\": 2, \\\\\\\\\\\\\"details\\\\\\\\\\\\\": {\\\\\\\\\\\\\"selectedColumn\\\\\\\\\\\\\": \\\\\\\\\\\\\"Total_Amt_Chng_Q4_Q1\\\\\\\\\\\\\"}}, \\\\\\\\\\\\\"typeProperty\\\\\\\\\\\\\": 3}, {\\\\\\\\\\\\\"column\\\\\\\\\\\\\": {\\\\\\\\\\\\\"type\\\\\\\\\\\\\": 2, \\\\\\\\\\\\\"details\\\\\\\\\\\\\": {\\\\\\\\\\\\\"selectedColumn\\\\\\\\\\\\\": \\\\\\\\\\\\\"Total_Trans_Amt\\\\\\\\\\\\\"}}, \\\\\\\\\\\\\"typeProperty\\\\\\\\\\\\\": 2}, {\\\\\\\\\\\\\"column\\\\\\\\\\\\\": {\\\\\\\\\\\\\"type\\\\\\\\\\\\\": 2, \\\\\\\\\\\\\"details\\\\\\\\\\\\\": {\\\\\\\\\\\\\"selectedColumn\\\\\\\\\\\\\": \\\\\\\\\\\\\"Total_Trans_Ct\\\\\\\\\\\\\"}}, \\\\\\\\\\\\\"typeProperty\\\\\\\\\\\\\": 2}, {\\\\\\\\\\\\\"column\\\\\\\\\\\\\": {\\\\\\\\\\\\\"type\\\\\\\\\\\\\": 2, \\\\\\\\\\\\\"details\\\\\\\\\\\\\": {\\\\\\\\\\\\\"selectedColumn\\\\\\\\\\\\\": \\\\\\\\\\\\\"Total_Ct_Chng_Q4_Q1\\\\\\\\\\\\\"}}, \\\\\\\\\\\\\"typeProperty\\\\\\\\\\\\\": 3}, {\\\\\\\\\\\\\"column\\\\\\\\\\\\\": {\\\\\\\\\\\\\"type\\\\\\\\\\\\\": 2, \\\\\\\\\\\\\"details\\\\\\\\\\\\\": {\\\\\\\\\\\\\"selectedColumn\\\\\\\\\\\\\": \\\\\\\\\\\\\"Avg_Utilization_Ratio\\\\\\\\\\\\\"}}, \\\\\\\\\\\\\"typeProperty\\\\\\\\\\\\\": 3}]}, \\\\\\\\\\\\\"localData\\\\\\\\\\\\\": {}, \\\\\\\\\\\\\"isEnabled\\\\\\\\\\\\\": true, \\\\\\\\\\\\\"name\\\\\\\\\\\\\": null, \\\\\\\\\\\\\"annotation\\\\\\\\\\\\\": null}], \\\\\\\\\\\\\"inspectors\\\\\\\\\\\\\": [], \\\\\\\\\\\\\"meta\\\\\\\\\\\\\": {\\\\\\\\\\\\\"savedDatasetId\\\\\\\\\\\\\": \\\\\\\\\\\\\"e30927c2-bfd1-4d2f-9263-4a2c008dca64\\\\\\\\\\\\\", \\\\\\\\\\\\\"datasetType\\\\\\\\\\\\\": \\\\\\\\\\\\\"tabular\\\\\\\\\\\\\", \\\\\\\\\\\\\"subscriptionId\\\\\\\\\\\\\": \\\\\\\\\\\\\"3d1a56d2-7c81-4118-9790-f85d1acf0c77\\\\\\\\\\\\\", \\\\\\\\\\\\\"workspaceId\\\\\\\\\\\\\": \\\\\\\\\\\\\"79054f72-7ba9-41a0-b184-2050e2af404a\\\\\\\\\\\\\", \\\\\\\\\\\\\"workspaceLocation\\\\\\\\\\\\\": \\\\\\\\\\\\\"southcentralus\\\\\\\\\\\\\"}}\\\\\", \\\\\"activities\\\\\": 0}',\n",
       "  'EnableSubsampling': None,\n",
       "  'runTemplate': 'AutoML',\n",
       "  'azureml.runsource': 'automl',\n",
       "  'display_task_type': 'classification',\n",
       "  'dependencies_versions': '{\"azureml-widgets\": \"1.19.0\", \"azureml-train\": \"1.19.0\", \"azureml-train-restclients-hyperdrive\": \"1.19.0\", \"azureml-train-core\": \"1.19.0\", \"azureml-train-automl\": \"1.19.0\", \"azureml-train-automl-runtime\": \"1.19.0\", \"azureml-train-automl-client\": \"1.19.0\", \"azureml-tensorboard\": \"1.19.0\", \"azureml-telemetry\": \"1.19.0\", \"azureml-sdk\": \"1.19.0\", \"azureml-samples\": \"0+unknown\", \"azureml-pipeline\": \"1.19.0\", \"azureml-pipeline-steps\": \"1.19.0\", \"azureml-pipeline-core\": \"1.19.0\", \"azureml-opendatasets\": \"1.19.0\", \"azureml-model-management-sdk\": \"1.0.1b6.post1\", \"azureml-mlflow\": \"1.19.0\", \"azureml-interpret\": \"1.19.0\", \"azureml-explain-model\": \"1.19.0\", \"azureml-defaults\": \"1.19.0\", \"azureml-dataset-runtime\": \"1.19.0\", \"azureml-dataprep\": \"2.6.1\", \"azureml-dataprep-rslex\": \"1.4.0\", \"azureml-dataprep-native\": \"26.0.0\", \"azureml-datadrift\": \"1.19.0\", \"azureml-core\": \"1.19.0\", \"azureml-contrib-services\": \"1.19.0\", \"azureml-contrib-server\": \"1.19.0\", \"azureml-contrib-reinforcementlearning\": \"1.19.0\", \"azureml-contrib-pipeline-steps\": \"1.19.0\", \"azureml-contrib-notebook\": \"1.19.0\", \"azureml-contrib-interpret\": \"1.19.0\", \"azureml-contrib-gbdt\": \"1.19.0\", \"azureml-contrib-fairness\": \"1.19.0\", \"azureml-contrib-dataset\": \"1.19.0\", \"azureml-cli-common\": \"1.19.0\", \"azureml-automl-runtime\": \"1.19.0\", \"azureml-automl-core\": \"1.19.0\", \"azureml-accel-models\": \"1.19.0\"}',\n",
       "  '_aml_system_scenario_identification': 'Remote.Parent',\n",
       "  'ClientType': 'SDK',\n",
       "  'environment_cpu_name': 'AzureML-AutoML',\n",
       "  'environment_cpu_label': 'prod',\n",
       "  'environment_gpu_name': 'AzureML-AutoML-GPU',\n",
       "  'environment_gpu_label': 'prod',\n",
       "  'root_attribution': 'automl',\n",
       "  'attribution': 'AutoML',\n",
       "  'Orchestrator': 'AutoML',\n",
       "  'CancelUri': 'https://southcentralus.experiments.azureml.net/jasmine/v1.0/subscriptions/3d1a56d2-7c81-4118-9790-f85d1acf0c77/resourceGroups/aml-quickstarts-134654/providers/Microsoft.MachineLearningServices/workspaces/quick-starts-ws-134654/experimentids/9c2f41e7-2d92-48f6-9325-757089f1462d/cancel/AutoML_81dfe262-4304-41ca-8572-ddde08afa446',\n",
       "  'ClientSdkVersion': '1.19.0',\n",
       "  'snapshotId': '00000000-0000-0000-0000-000000000000',\n",
       "  'SetupRunId': 'AutoML_81dfe262-4304-41ca-8572-ddde08afa446_setup',\n",
       "  'SetupRunContainerId': 'dcid.AutoML_81dfe262-4304-41ca-8572-ddde08afa446_setup',\n",
       "  'FeaturizationRunJsonPath': 'featurizer_container.json',\n",
       "  'FeaturizationRunId': 'AutoML_81dfe262-4304-41ca-8572-ddde08afa446_featurize',\n",
       "  'ProblemInfoJsonString': '{\"dataset_num_categorical\": 0, \"is_sparse\": true, \"subsampling\": false, \"dataset_classes\": 2, \"dataset_features\": 146, \"dataset_samples\": 10127, \"single_frequency_class_detected\": false}',\n",
       "  'ModelExplainRunId': 'AutoML_81dfe262-4304-41ca-8572-ddde08afa446_ModelExplain'},\n",
       " 'inputDatasets': [{'dataset': {'id': 'e30927c2-bfd1-4d2f-9263-4a2c008dca64'}, 'consumptionDetails': {'type': 'RunInput', 'inputName': 'training_data', 'mechanism': 'Direct'}}],\n",
       " 'outputDatasets': [],\n",
       " 'logFiles': {}}"
      ]
     },
     "execution_count": 8,
     "metadata": {},
     "output_type": "execute_result"
    }
   ],
   "source": [
    "from azureml.widgets import RunDetails\n",
    "RunDetails(remote_run).show()\n",
    "remote_run.wait_for_completion(show_output = True)"
   ]
  },
  {
   "cell_type": "markdown",
   "metadata": {},
   "source": [
    "## Best Model\n",
    "\n",
    "TODO: In the cell below, get the best model from the automl experiments and display all the properties of the model.\n",
    "\n"
   ]
  },
  {
   "cell_type": "code",
   "execution_count": 9,
   "metadata": {
    "gather": {
     "logged": 1610626638871
    },
    "jupyter": {
     "outputs_hidden": false,
     "source_hidden": false
    },
    "nteract": {
     "transient": {
      "deleting": false
     }
    }
   },
   "outputs": [],
   "source": [
    "# Retrieve the best AutoML model\n",
    "best_run, best_model = remote_run.get_output()\n",
    "best_metrics = best_run.get_metrics()"
   ]
  },
  {
   "cell_type": "code",
   "execution_count": 31,
   "metadata": {
    "gather": {
     "logged": 1610631473663
    },
    "jupyter": {
     "outputs_hidden": false,
     "source_hidden": false
    },
    "nteract": {
     "transient": {
      "deleting": false
     }
    }
   },
   "outputs": [
    {
     "name": "stdout",
     "output_type": "stream",
     "text": [
      "Model(workspace=Workspace.create(name='quick-starts-ws-134654', subscription_id='3d1a56d2-7c81-4118-9790-f85d1acf0c77', resource_group='aml-quickstarts-134654'), name=best-automl-model, id=best-automl-model:1, version=1, tags={'Method': 'AutoML'}, properties={'accuracy': '0.9707711661108185'})\n",
      "Run(Experiment: demo-automl-experiment,\n",
      "Id: AutoML_81dfe262-4304-41ca-8572-ddde08afa446_38,\n",
      "Type: azureml.scriptrun,\n",
      "Status: Completed)\n"
     ]
    }
   ],
   "source": [
    "#Save the best model\n",
    "# model = best_run.register_model(model_name = \"best-automl-model\", model_path = \"./outputs/\")\n",
    "model = best_run.register_model(model_name='best-automl-model',model_path='outputs/model.pkl', tags={'Method':'AutoML'}, properties={'accuracy': best_metrics['accuracy']})\n",
    "print(model)\n",
    "print(best_run)"
   ]
  },
  {
   "cell_type": "code",
   "execution_count": 11,
   "metadata": {
    "gather": {
     "logged": 1610626640849
    },
    "jupyter": {
     "outputs_hidden": false,
     "source_hidden": false
    },
    "nteract": {
     "transient": {
      "deleting": false
     }
    }
   },
   "outputs": [
    {
     "name": "stdout",
     "output_type": "stream",
     "text": [
      "0.9707711661108185\n",
      "PreFittedSoftVotingClassifier(classification_labels=None,\n",
      "                              estimators=[('0',\n",
      "                                           Pipeline(memory=None,\n",
      "                                                    steps=[('maxabsscaler',\n",
      "                                                            MaxAbsScaler(copy=True)),\n",
      "                                                           ('lightgbmclassifier',\n",
      "                                                            LightGBMClassifier(boosting_type='gbdt',\n",
      "                                                                               class_weight=None,\n",
      "                                                                               colsample_bytree=1.0,\n",
      "                                                                               importance_type='split',\n",
      "                                                                               learning_rate=0.1,\n",
      "                                                                               max_depth=-1,\n",
      "                                                                               min_child_samples=20,\n",
      "                                                                               min_child_weight=0.001,\n",
      "                                                                               min_spl...\n",
      "                                                                                   min_samples_leaf=0.01,\n",
      "                                                                                   min_samples_split=0.01,\n",
      "                                                                                   min_weight_fraction_leaf=0.0,\n",
      "                                                                                   n_estimators=25,\n",
      "                                                                                   n_jobs=1,\n",
      "                                                                                   oob_score=True,\n",
      "                                                                                   random_state=None,\n",
      "                                                                                   verbose=0,\n",
      "                                                                                   warm_start=False))],\n",
      "                                                    verbose=False))],\n",
      "                              flatten_transform=None,\n",
      "                              weights=[0.3333333333333333, 0.08333333333333333,\n",
      "                                       0.16666666666666666, 0.08333333333333333,\n",
      "                                       0.08333333333333333, 0.08333333333333333,\n",
      "                                       0.16666666666666666])\n"
     ]
    }
   ],
   "source": [
    "print(best_metrics[\"accuracy\"])\n",
    "print(best_model._final_estimator)"
   ]
  },
  {
   "cell_type": "markdown",
   "metadata": {},
   "source": [
    "## Model Deployment\n",
    "\n",
    "Remember you have to deploy only one of the two models you trained.. Perform the steps in the rest of this notebook only if you wish to deploy this model.\n",
    "\n",
    "TODO: In the cell below, register the model, create an inference config and deploy the model as a web service."
   ]
  },
  {
   "cell_type": "code",
   "execution_count": 32,
   "metadata": {
    "gather": {
     "logged": 1610631486799
    },
    "jupyter": {
     "outputs_hidden": false,
     "source_hidden": false
    },
    "nteract": {
     "transient": {
      "deleting": false
     }
    }
   },
   "outputs": [],
   "source": [
    "from azureml.core import Environment\n",
    "from azureml.core.model import InferenceConfig\n",
    "from azureml.automl.core.shared import constants\n",
    "\n",
    "best_run.download_file('./outputs/model.pkl', './outputs/bankchurners-auto-model.pkl')\n",
    "best_run.download_file('./outputs/scoring_file_v_1_0_0.py', './outputs/score_aml.py')\n",
    "best_run.download_file('./automl_driver.py', './outputs/automl_driver.py')\n",
    "\n",
    "# best_run.download_file(constants.CONDA_ENV_FILE_PATH, 'myenv.yml')\n",
    "\n",
    "myenv = Environment.from_conda_specification(name=\"myenv\", file_path=\"myenv.yml\")\n",
    "\n",
    "# Create the inference config\n",
    "\n",
    "inference_config = InferenceConfig(entry_script='./score.py', environment=myenv)\n"
   ]
  },
  {
   "cell_type": "code",
   "execution_count": 24,
   "metadata": {
    "collapsed": true,
    "gather": {
     "logged": 1610629290968
    },
    "jupyter": {
     "outputs_hidden": false,
     "source_hidden": false
    },
    "nteract": {
     "transient": {
      "deleting": false
     }
    }
   },
   "outputs": [
    {
     "name": "stdout",
     "output_type": "stream",
     "text": [
      "packages # Conda environment specification. The dependencies defined in this file will\n",
      "# be automatically provisioned for runs with userManagedDependencies=False.\n",
      "\n",
      "# Details about the Conda environment file format:\n",
      "# https://conda.io/docs/user-guide/tasks/manage-environments.html#create-env-file-manually\n",
      "\n",
      "name: project_environment\n",
      "dependencies:\n",
      "  # The python interpreter version.\n",
      "  # Currently Azure ML only supports 3.5.2 and later.\n",
      "- python=3.6.2\n",
      "\n",
      "- pip:\n",
      "  - azureml-train-automl-runtime==1.19.0\n",
      "  - inference-schema\n",
      "  - azureml-interpret==1.19.0\n",
      "  - azureml-defaults==1.19.0\n",
      "- numpy>=1.16.0,<1.19.0\n",
      "- pandas==0.25.1\n",
      "- scikit-learn==0.22.1\n",
      "- py-xgboost<=0.90\n",
      "- fbprophet==0.5\n",
      "- holidays==0.9.11\n",
      "- psutil>=5.2.2,<6.0.0\n",
      "channels:\n",
      "- anaconda\n",
      "- conda-forge\n",
      "\n"
     ]
    }
   ],
   "source": [
    "f = open(\"envnew.yml\", \"w\")\n",
    "f.write(myenv.python.conda_dependencies.serialize_to_string())\n",
    "f.close()\n",
    "\n",
    "print(\"packages\", myenv.python.conda_dependencies.serialize_to_string())"
   ]
  },
  {
   "cell_type": "code",
   "execution_count": 33,
   "metadata": {
    "gather": {
     "logged": 1610631715710
    }
   },
   "outputs": [
    {
     "name": "stdout",
     "output_type": "stream",
     "text": [
      "Transitioning\n",
      "Tips: You can try get_logs(): https://aka.ms/debugimage#dockerlog or local deployment: https://aka.ms/debugimage#debug-locally to debug if deployment takes longer than 10 minutes.\n",
      "Running..........................................\n",
      "Succeeded\n",
      "ACI service creation operation finished, operation \"Succeeded\"\n"
     ]
    }
   ],
   "source": [
    "# Deploy the model as a webservice\n",
    "from azureml.core.webservice import AciWebservice\n",
    "\n",
    "deployment_config = AciWebservice.deploy_configuration(\n",
    "    cpu_cores=1,\n",
    "    memory_gb = 1,\n",
    "    enable_app_insights = True\n",
    ")\n",
    "service = Model.deploy(ws, 'model-service', [model], inference_config, deployment_config)\n",
    "\n",
    "print(service.state)\n",
    "\n",
    "# Wait until deployment is complete\n",
    "service.wait_for_deployment(show_output = True)\n"
   ]
  },
  {
   "cell_type": "code",
   "execution_count": 30,
   "metadata": {
    "collapsed": true,
    "gather": {
     "logged": 1610631393950
    },
    "jupyter": {
     "outputs_hidden": false,
     "source_hidden": false
    },
    "nteract": {
     "transient": {
      "deleting": false
     }
    }
   },
   "outputs": [
    {
     "name": "stdout",
     "output_type": "stream",
     "text": [
      "<bound method Webservice.get_logs of AciWebservice(workspace=Workspace.create(name='quick-starts-ws-134654', subscription_id='3d1a56d2-7c81-4118-9790-f85d1acf0c77', resource_group='aml-quickstarts-134654'), name=model-service, image_id=None, compute_type=None, state=ACI, scoring_uri=Failed, tags=None, properties={}, created_by={'hasInferenceSchema': 'False', 'hasHttps': 'False'})>\n"
     ]
    }
   ],
   "source": [
    "print(service.get_logs)"
   ]
  },
  {
   "cell_type": "markdown",
   "metadata": {
    "collapsed": true,
    "gather": {
     "logged": 1598431657736
    },
    "jupyter": {
     "outputs_hidden": false,
     "source_hidden": false
    },
    "nteract": {
     "transient": {
      "deleting": false
     }
    }
   },
   "source": [
    "TODO: In the cell below, send a request to the web service you deployed to test it."
   ]
  },
  {
   "cell_type": "code",
   "execution_count": null,
   "metadata": {
    "gather": {
     "logged": 1598432707604
    },
    "jupyter": {
     "outputs_hidden": false,
     "source_hidden": false
    },
    "nteract": {
     "transient": {
      "deleting": false
     }
    }
   },
   "outputs": [],
   "source": [
    "import json\n",
    "\n",
    "data_sample = dataset.to_pandas_dataframe().sample(3)\n",
    "test_sample = json.dumps({'data':data_sample.to_dict(orient='records')})\n",
    "print(test_sample)\n"
   ]
  },
  {
   "cell_type": "markdown",
   "metadata": {
    "collapsed": true,
    "gather": {
     "logged": 1598432765711
    },
    "jupyter": {
     "outputs_hidden": false,
     "source_hidden": false
    },
    "nteract": {
     "transient": {
      "deleting": false
     }
    }
   },
   "source": [
    "TODO: In the cell below, print the logs of the web service and delete the service"
   ]
  },
  {
   "cell_type": "code",
   "execution_count": null,
   "metadata": {
    "jupyter": {
     "outputs_hidden": false,
     "source_hidden": false
    },
    "nteract": {
     "transient": {
      "deleting": false
     }
    }
   },
   "outputs": [],
   "source": [
    "# Print web service logs\n",
    "service_logs = service.get_logs()\n",
    "\n",
    "for line in service_logs.split('\\n'):\n",
    "    print(line)\n",
    "\n",
    "# Delete the service\n",
    "service.delete()"
   ]
  }
 ],
 "metadata": {
  "kernel_info": {
   "name": "python3"
  },
  "kernelspec": {
   "display_name": "Python 3",
   "language": "python",
   "name": "python3"
  },
  "language_info": {
   "codemirror_mode": {
    "name": "ipython",
    "version": 3
   },
   "file_extension": ".py",
   "mimetype": "text/x-python",
   "name": "python",
   "nbconvert_exporter": "python",
   "pygments_lexer": "ipython3",
   "version": "3.7.6"
  },
  "nteract": {
   "version": "nteract-front-end@1.0.0"
  }
 },
 "nbformat": 4,
 "nbformat_minor": 2
}
