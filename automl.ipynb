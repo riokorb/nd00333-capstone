{
  "cells": [
    {
      "cell_type": "markdown",
      "source": [
        "# Automated ML\n",
        "\n",
        "TODO: Import Dependencies. In the cell below, import all the dependencies that you will need to complete the project."
      ],
      "metadata": {}
    },
    {
      "cell_type": "code",
      "source": [
        "from azureml.core import Experiment, Model, Webservice\n",
        "from azureml.core.workspace import Workspace\n",
        "from azureml.core.dataset import Dataset\n",
        "from azureml.train.automl import AutoMLConfig\n",
        "from azureml.core.compute import ComputeTarget, AmlCompute\n",
        "from azureml.core.compute_target import ComputeTargetException\n",
        "from azureml.pipeline.steps import AutoMLStep\n",
        "\n",
        "import pandas as pd"
      ],
      "outputs": [],
      "execution_count": 1,
      "metadata": {
        "gather": {
          "logged": 1610776612135
        },
        "jupyter": {
          "outputs_hidden": false,
          "source_hidden": false
        },
        "nteract": {
          "transient": {
            "deleting": false
          }
        }
      }
    },
    {
      "cell_type": "markdown",
      "source": [
        "## Dataset\n",
        "\n",
        "### Overview\n",
        "TODO: In this markdown cell, give an overview of the dataset you are using. Also mention the task you will be performing.\n",
        "We will be using the 'Credit Card customers' dataset from Kaggle and predicting if a customer is likely to churn.\n",
        "\n",
        "TODO: Get data. In the cell below, write code to access the data you will be using in this project. Remember that the dataset needs to be external."
      ],
      "metadata": {}
    },
    {
      "cell_type": "code",
      "source": [
        "ws = Workspace.from_config()\n",
        "\n",
        "# Choose a name for experiment\n",
        "experiment_name = 'demo-automl-experiment'\n",
        "\n",
        "experiment=Experiment(ws, experiment_name)\n",
        "\n",
        "# Prepare the datastore to upload data\n",
        "datastore = ws.get_default_datastore()\n",
        "\n",
        "# Set the upload location to target_path in datastore\n",
        "datastore.upload(src_dir='./', target_path = 'data')"
      ],
      "outputs": [
        {
          "output_type": "stream",
          "name": "stdout",
          "text": [
            "Uploading an estimated of 8 files\n",
            "Target already exists. Skipping upload for data/automl.ipynb\n",
            "Target already exists. Skipping upload for data/automl.ipynb.amltemp\n",
            "Target already exists. Skipping upload for data/hyperparameter_tuning.ipynb\n",
            "Target already exists. Skipping upload for data/score.py\n",
            "Target already exists. Skipping upload for data/train.py\n",
            "Target already exists. Skipping upload for data/.ipynb_aml_checkpoints/automl-checkpoint2021-0-16-5-50-12.ipynb\n",
            "Target already exists. Skipping upload for data/.ipynb_aml_checkpoints/automl-checkpoint2021-0-16-5-53-45.ipynb\n",
            "Target already exists. Skipping upload for data/.ipynb_aml_checkpoints/hyperparameter_tuning-checkpoint2021-0-16-5-52-52.ipynb\n",
            "Uploaded 0 files\n"
          ]
        },
        {
          "output_type": "execute_result",
          "execution_count": 2,
          "data": {
            "text/plain": "$AZUREML_DATAREFERENCE_de3e1ba6e9de469b9885d690f1cd5c10"
          },
          "metadata": {}
        }
      ],
      "execution_count": 2,
      "metadata": {
        "gather": {
          "logged": 1610776616855
        },
        "jupyter": {
          "outputs_hidden": false,
          "source_hidden": false
        },
        "nteract": {
          "transient": {
            "deleting": false
          }
        }
      }
    },
    {
      "cell_type": "code",
      "source": [
        "# Choose a name for CPU cluster\n",
        "compute_name = \"demo-cluster\"\n",
        "\n",
        "# Verify that cluster does not already exist\n",
        "try:\n",
        "    compute_target = ComputeTarget(workspace=ws, name=compute_name)\n",
        "    print('Found existing cluster, use it.')\n",
        "except ComputeTargetException:\n",
        "    compute_config = AmlCompute.provisioning_configuration(vm_size='STANDARD_D2_V2',# for GPU, use \"STANDARD_NC6\"\n",
        "                                                           #vm_priority = 'lowpriority', # optional\n",
        "                                                           max_nodes=4)\n",
        "    compute_target = ComputeTarget.create(ws, compute_name, compute_config)\n",
        "\n",
        "compute_target.wait_for_completion(show_output=True)"
      ],
      "outputs": [
        {
          "output_type": "stream",
          "name": "stdout",
          "text": [
            "Found existing cluster, use it.\n",
            "Succeeded\n",
            "AmlCompute wait for completion finished\n",
            "\n",
            "Minimum number of nodes requested have been provisioned\n"
          ]
        }
      ],
      "execution_count": 3,
      "metadata": {
        "collapsed": true,
        "gather": {
          "logged": 1610776617214
        },
        "jupyter": {
          "outputs_hidden": false,
          "source_hidden": false
        },
        "nteract": {
          "transient": {
            "deleting": false
          }
        }
      }
    },
    {
      "cell_type": "code",
      "source": [
        "dataset = Dataset.get_by_name(ws, name = \"bankchurners\")\n",
        "dataset"
      ],
      "outputs": [
        {
          "output_type": "execute_result",
          "execution_count": 4,
          "data": {
            "text/plain": "{\n  \"source\": [\n    \"('workspaceblobstore', 'UI/01-16-2021_055411_UTC/BankChurners.csv')\"\n  ],\n  \"definition\": [\n    \"GetDatastoreFiles\",\n    \"ParseDelimited\",\n    \"DropColumns\",\n    \"SetColumnTypes\"\n  ],\n  \"registration\": {\n    \"id\": \"f306c80b-3ff7-4219-a115-818e1ab8165e\",\n    \"name\": \"bankchurners\",\n    \"version\": 1,\n    \"description\": \"Bank churners dataset\",\n    \"workspace\": \"Workspace.create(name='quick-starts-ws-134840', subscription_id='d4ad7261-832d-46b2-b093-22156001df5b', resource_group='aml-quickstarts-134840')\"\n  }\n}"
          },
          "metadata": {}
        }
      ],
      "execution_count": 4,
      "metadata": {
        "collapsed": true,
        "gather": {
          "logged": 1610776619490
        },
        "jupyter": {
          "outputs_hidden": false,
          "source_hidden": false
        },
        "nteract": {
          "transient": {
            "deleting": false
          }
        }
      }
    },
    {
      "cell_type": "markdown",
      "source": [
        "## AutoML Configuration\n",
        "\n",
        "TODO: Explain why you chose the automl settings and cofiguration you used below."
      ],
      "metadata": {}
    },
    {
      "cell_type": "code",
      "source": [
        "# List the automl config\n",
        "automl_config = AutoMLConfig(\n",
        "    experiment_timeout_minutes = 30,\n",
        "    task = \"classification\",\n",
        "    compute_target = \"demo-cluster\",\n",
        "    max_concurrent_iterations = 5,\n",
        "    training_data = dataset,\n",
        "    primary_metric = \"accuracy\",\n",
        "    label_column_name = \"Attrition_Flag\",\n",
        "    n_cross_validations = 3,\n",
        "    enable_early_stopping = True\n",
        ")"
      ],
      "outputs": [],
      "execution_count": 5,
      "metadata": {
        "gather": {
          "logged": 1610776619532
        },
        "jupyter": {
          "outputs_hidden": false,
          "source_hidden": false
        },
        "nteract": {
          "transient": {
            "deleting": false
          }
        }
      }
    },
    {
      "cell_type": "code",
      "source": [
        "# Submit the experiment\n",
        "remote_run = experiment.submit(automl_config, show_output = True)"
      ],
      "outputs": [
        {
          "output_type": "stream",
          "name": "stdout",
          "text": [
            "Running on remote.\n",
            "No run_configuration provided, running on demo-cluster with default configuration\n",
            "Running on remote compute: demo-cluster\n",
            "Parent Run ID: AutoML_1d2a8642-b286-4f81-9bbc-4a9dadbd6b30\n",
            "\n",
            "Current status: FeaturesGeneration. Generating features for the dataset.\n",
            "Current status: DatasetFeaturization. Beginning to fit featurizers and featurize the dataset.\n",
            "Current status: DatasetCrossValidationSplit. Generating individually featurized CV splits.\n",
            "Current status: ModelSelection. Beginning model selection.\n",
            "\n",
            "****************************************************************************************************\n",
            "DATA GUARDRAILS: \n",
            "\n",
            "TYPE:         Class balancing detection\n",
            "STATUS:       ALERTED\n",
            "DESCRIPTION:  To decrease model bias, please cancel the current run and fix balancing problem.\n",
            "              Learn more about imbalanced data: https://aka.ms/AutomatedMLImbalancedData\n",
            "DETAILS:      Imbalanced data can lead to a falsely perceived positive effect of a model's accuracy because the input data has bias towards one class.\n",
            "+---------------------------------+---------------------------------+--------------------------------------+\n",
            "|Size of the smallest class       |Name/Label of the smallest class |Number of samples in the training data|\n",
            "+=================================+=================================+======================================+\n",
            "|1627                             |Attrited Customer                |10127                                 |\n",
            "+---------------------------------+---------------------------------+--------------------------------------+\n",
            "\n",
            "****************************************************************************************************\n",
            "\n",
            "TYPE:         Missing feature values imputation\n",
            "STATUS:       PASSED\n",
            "DESCRIPTION:  No feature missing values were detected in the training data.\n",
            "              Learn more about missing value imputation: https://aka.ms/AutomatedMLFeaturization\n",
            "\n",
            "****************************************************************************************************\n",
            "\n",
            "TYPE:         High cardinality feature detection\n",
            "STATUS:       PASSED\n",
            "DESCRIPTION:  Your inputs were analyzed, and no high cardinality features were detected.\n",
            "              Learn more about high cardinality feature handling: https://aka.ms/AutomatedMLFeaturization\n",
            "\n",
            "****************************************************************************************************\n",
            "\n",
            "****************************************************************************************************\n",
            "ITERATION: The iteration being evaluated.\n",
            "PIPELINE: A summary description of the pipeline being evaluated.\n",
            "DURATION: Time taken for the current iteration.\n",
            "METRIC: The result of computing score on the fitted pipeline.\n",
            "BEST: The best observed score thus far.\n",
            "****************************************************************************************************\n",
            "\n",
            " ITERATION   PIPELINE                                       DURATION      METRIC      BEST\n",
            "         1   MaxAbsScaler XGBoostClassifier                 0:00:57       0.9603    0.9603\n",
            "         2   MaxAbsScaler RandomForest                      0:00:42       0.8662    0.9603\n",
            "         4   MaxAbsScaler RandomForest                      0:00:42       0.8444    0.9603\n",
            "         0   MaxAbsScaler LightGBM                          0:00:55       0.9691    0.9691\n",
            "         6   StandardScalerWrapper XGBoostClassifier        0:00:44       0.9394    0.9691\n",
            "         7   SparseNormalizer XGBoostClassifier             0:00:57       0.9647    0.9691\n",
            "         9   SparseNormalizer XGBoostClassifier             0:01:05       0.9661    0.9691\n",
            "         3   MaxAbsScaler RandomForest                      0:03:19       0.8422    0.9691\n",
            "         5   MaxAbsScaler RandomForest                      0:03:31       0.7577    0.9691\n",
            "        10   StandardScalerWrapper XGBoostClassifier        0:00:49       0.9265    0.9691\n",
            "         8   SparseNormalizer XGBoostClassifier             0:03:11       0.9553    0.9691\n",
            "        11   StandardScalerWrapper LightGBM                 0:01:09       0.9595    0.9691\n",
            "        12   SparseNormalizer XGBoostClassifier             0:00:57       0.8918    0.9691\n",
            "        13   StandardScalerWrapper RandomForest             0:00:56       0.8982    0.9691\n",
            "        14   MaxAbsScaler LogisticRegression                0:00:46       0.9117    0.9691\n",
            "        15   MaxAbsScaler LightGBM                          0:00:52       0.8993    0.9691\n",
            "        16   MaxAbsScaler LightGBM                          0:00:53       0.8639    0.9691\n",
            "        17   SparseNormalizer XGBoostClassifier             0:00:58       0.9679    0.9691\n",
            "        18   SparseNormalizer LightGBM                      0:00:52       0.9080    0.9691\n",
            "        19   SparseNormalizer XGBoostClassifier             0:00:55       0.9348    0.9691\n",
            "        20   StandardScalerWrapper LightGBM                 0:00:45       0.9161    0.9691\n",
            "        21   SparseNormalizer LightGBM                      0:00:49       0.8667    0.9691\n",
            "        22   MaxAbsScaler LightGBM                          0:00:44       0.9556    0.9691\n",
            "        23   MaxAbsScaler LogisticRegression                0:00:45       0.9109    0.9691\n",
            "        24   StandardScalerWrapper LightGBM                 0:00:51       0.9548    0.9691\n",
            "        25   SparseNormalizer LightGBM                      0:01:07       0.8539    0.9691\n",
            "        26   MaxAbsScaler ExtremeRandomTrees                0:00:41       0.8572    0.9691\n",
            "        27   SparseNormalizer XGBoostClassifier             0:00:44       0.9009    0.9691\n",
            "        28   SparseNormalizer XGBoostClassifier             0:00:46       0.9551    0.9691\n",
            "        29   SparseNormalizer XGBoostClassifier             0:00:57       0.9664    0.9691\n",
            "        30   StandardScalerWrapper LightGBM                 0:00:47       0.9606    0.9691\n",
            "        31   SparseNormalizer LightGBM                      0:00:47       0.9609    0.9691\n",
            "        32   SparseNormalizer XGBoostClassifier             0:01:06       0.9661    0.9691\n",
            "        33   SparseNormalizer XGBoostClassifier             0:00:49       0.9552    0.9691\n",
            "        34                                                  0:00:22          nan    0.9691\n",
            "        35   MaxAbsScaler LightGBM                          0:00:24          nan    0.9691\n",
            "        36                                                  0:00:19          nan    0.9691\n",
            "        37                                                  0:00:27          nan    0.9691\n",
            "        38    VotingEnsemble                                0:01:21       0.9706    0.9706\n",
            "        39    StackEnsemble                                 0:01:22       0.9696    0.9706\n"
          ]
        }
      ],
      "execution_count": 6,
      "metadata": {
        "gather": {
          "logged": 1610779079750
        },
        "jupyter": {
          "outputs_hidden": false,
          "source_hidden": false
        },
        "nteract": {
          "transient": {
            "deleting": false
          }
        }
      }
    },
    {
      "cell_type": "markdown",
      "source": [
        "## Run Details\n",
        "\n",
        "OPTIONAL: Write about the different models trained and their performance. Why do you think some models did better than others?\n",
        "\n",
        "TODO: In the cell below, use the `RunDetails` widget to show the different experiments."
      ],
      "metadata": {}
    },
    {
      "cell_type": "code",
      "source": [
        "from azureml.widgets import RunDetails\n",
        "RunDetails(remote_run).show()\n",
        "remote_run.wait_for_completion(show_output = True)"
      ],
      "outputs": [
        {
          "output_type": "display_data",
          "data": {
            "text/plain": "_AutoMLWidget(widget_settings={'childWidgetDisplay': 'popup', 'send_telemetry': False, 'log_level': 'INFO', 's…",
            "application/vnd.jupyter.widget-view+json": {
              "version_major": 2,
              "version_minor": 0,
              "model_id": "88bc4f1158bb4ef5a0ce818584064083"
            }
          },
          "metadata": {}
        },
        {
          "output_type": "display_data",
          "data": {
            "application/aml.mini.widget.v1": "{\"status\": \"Completed\", \"workbench_run_details_uri\": \"https://ml.azure.com/experiments/demo-automl-experiment/runs/AutoML_1d2a8642-b286-4f81-9bbc-4a9dadbd6b30?wsid=/subscriptions/d4ad7261-832d-46b2-b093-22156001df5b/resourcegroups/aml-quickstarts-134840/workspaces/quick-starts-ws-134840\", \"run_id\": \"AutoML_1d2a8642-b286-4f81-9bbc-4a9dadbd6b30\", \"run_properties\": {\"run_id\": \"AutoML_1d2a8642-b286-4f81-9bbc-4a9dadbd6b30\", \"created_utc\": \"2021-01-16T05:57:02.036215Z\", \"properties\": {\"num_iterations\": \"1000\", \"training_type\": \"TrainFull\", \"acquisition_function\": \"EI\", \"primary_metric\": \"accuracy\", \"train_split\": \"0\", \"acquisition_parameter\": \"0\", \"num_cross_validation\": \"3\", \"target\": \"demo-cluster\", \"AMLSettingsJsonString\": \"{\\\"path\\\":null,\\\"name\\\":\\\"demo-automl-experiment\\\",\\\"subscription_id\\\":\\\"d4ad7261-832d-46b2-b093-22156001df5b\\\",\\\"resource_group\\\":\\\"aml-quickstarts-134840\\\",\\\"workspace_name\\\":\\\"quick-starts-ws-134840\\\",\\\"region\\\":\\\"southcentralus\\\",\\\"compute_target\\\":\\\"demo-cluster\\\",\\\"spark_service\\\":null,\\\"azure_service\\\":\\\"remote\\\",\\\"many_models\\\":false,\\\"pipeline_fetch_max_batch_size\\\":1,\\\"iterations\\\":1000,\\\"primary_metric\\\":\\\"accuracy\\\",\\\"task_type\\\":\\\"classification\\\",\\\"data_script\\\":null,\\\"validation_size\\\":0.0,\\\"n_cross_validations\\\":3,\\\"y_min\\\":null,\\\"y_max\\\":null,\\\"num_classes\\\":null,\\\"featurization\\\":\\\"auto\\\",\\\"_ignore_package_version_incompatibilities\\\":false,\\\"is_timeseries\\\":false,\\\"max_cores_per_iteration\\\":1,\\\"max_concurrent_iterations\\\":5,\\\"iteration_timeout_minutes\\\":null,\\\"mem_in_mb\\\":null,\\\"enforce_time_on_windows\\\":false,\\\"experiment_timeout_minutes\\\":30,\\\"experiment_exit_score\\\":null,\\\"whitelist_models\\\":null,\\\"blacklist_algos\\\":[\\\"TensorFlowLinearClassifier\\\",\\\"TensorFlowDNN\\\"],\\\"supported_models\\\":[\\\"LinearSVM\\\",\\\"KNN\\\",\\\"AveragedPerceptronClassifier\\\",\\\"TensorFlowLinearClassifier\\\",\\\"SGD\\\",\\\"MultinomialNaiveBayes\\\",\\\"TensorFlowDNN\\\",\\\"DecisionTree\\\",\\\"LightGBM\\\",\\\"LogisticRegression\\\",\\\"BernoulliNaiveBayes\\\",\\\"SVM\\\",\\\"ExtremeRandomTrees\\\",\\\"GradientBoosting\\\",\\\"XGBoostClassifier\\\",\\\"RandomForest\\\"],\\\"auto_blacklist\\\":true,\\\"blacklist_samples_reached\\\":false,\\\"exclude_nan_labels\\\":true,\\\"verbosity\\\":20,\\\"_debug_log\\\":\\\"azureml_automl.log\\\",\\\"show_warnings\\\":false,\\\"model_explainability\\\":true,\\\"service_url\\\":null,\\\"sdk_url\\\":null,\\\"sdk_packages\\\":null,\\\"enable_onnx_compatible_models\\\":false,\\\"enable_split_onnx_featurizer_estimator_models\\\":false,\\\"vm_type\\\":\\\"STANDARD_D2_V2\\\",\\\"telemetry_verbosity\\\":20,\\\"send_telemetry\\\":true,\\\"enable_dnn\\\":false,\\\"scenario\\\":\\\"SDK-1.13.0\\\",\\\"environment_label\\\":null,\\\"force_text_dnn\\\":false,\\\"enable_feature_sweeping\\\":true,\\\"enable_early_stopping\\\":true,\\\"early_stopping_n_iters\\\":10,\\\"metrics\\\":null,\\\"enable_ensembling\\\":true,\\\"enable_stack_ensembling\\\":true,\\\"ensemble_iterations\\\":15,\\\"enable_tf\\\":false,\\\"enable_subsampling\\\":null,\\\"subsample_seed\\\":null,\\\"enable_nimbusml\\\":false,\\\"enable_streaming\\\":false,\\\"force_streaming\\\":false,\\\"track_child_runs\\\":true,\\\"allowed_private_models\\\":[],\\\"label_column_name\\\":\\\"Attrition_Flag\\\",\\\"weight_column_name\\\":null,\\\"cv_split_column_names\\\":null,\\\"enable_local_managed\\\":false,\\\"_local_managed_run_id\\\":null,\\\"cost_mode\\\":1,\\\"lag_length\\\":0,\\\"metric_operation\\\":\\\"maximize\\\",\\\"preprocess\\\":true}\", \"DataPrepJsonString\": \"{\\\\\\\"training_data\\\\\\\": \\\\\\\"{\\\\\\\\\\\\\\\"blocks\\\\\\\\\\\\\\\": [{\\\\\\\\\\\\\\\"id\\\\\\\\\\\\\\\": \\\\\\\\\\\\\\\"94c7828d-f22d-4c6b-ad53-620608a8573c\\\\\\\\\\\\\\\", \\\\\\\\\\\\\\\"type\\\\\\\\\\\\\\\": \\\\\\\\\\\\\\\"Microsoft.DPrep.GetDatastoreFilesBlock\\\\\\\\\\\\\\\", \\\\\\\\\\\\\\\"arguments\\\\\\\\\\\\\\\": {\\\\\\\\\\\\\\\"datastores\\\\\\\\\\\\\\\": [{\\\\\\\\\\\\\\\"datastoreName\\\\\\\\\\\\\\\": \\\\\\\\\\\\\\\"workspaceblobstore\\\\\\\\\\\\\\\", \\\\\\\\\\\\\\\"path\\\\\\\\\\\\\\\": \\\\\\\\\\\\\\\"UI/01-16-2021_055411_UTC/BankChurners.csv\\\\\\\\\\\\\\\", \\\\\\\\\\\\\\\"resourceGroup\\\\\\\\\\\\\\\": \\\\\\\\\\\\\\\"aml-quickstarts-134840\\\\\\\\\\\\\\\", \\\\\\\\\\\\\\\"subscription\\\\\\\\\\\\\\\": \\\\\\\\\\\\\\\"d4ad7261-832d-46b2-b093-22156001df5b\\\\\\\\\\\\\\\", \\\\\\\\\\\\\\\"workspaceName\\\\\\\\\\\\\\\": \\\\\\\\\\\\\\\"quick-starts-ws-134840\\\\\\\\\\\\\\\"}]}, \\\\\\\\\\\\\\\"localData\\\\\\\\\\\\\\\": {}, \\\\\\\\\\\\\\\"isEnabled\\\\\\\\\\\\\\\": true, \\\\\\\\\\\\\\\"name\\\\\\\\\\\\\\\": null, \\\\\\\\\\\\\\\"annotation\\\\\\\\\\\\\\\": null}, {\\\\\\\\\\\\\\\"id\\\\\\\\\\\\\\\": \\\\\\\\\\\\\\\"6114fc4c-8ad9-49dd-99aa-32ed604c63d8\\\\\\\\\\\\\\\", \\\\\\\\\\\\\\\"type\\\\\\\\\\\\\\\": \\\\\\\\\\\\\\\"Microsoft.DPrep.ParseDelimitedBlock\\\\\\\\\\\\\\\", \\\\\\\\\\\\\\\"arguments\\\\\\\\\\\\\\\": {\\\\\\\\\\\\\\\"columnHeadersMode\\\\\\\\\\\\\\\": 1, \\\\\\\\\\\\\\\"fileEncoding\\\\\\\\\\\\\\\": 0, \\\\\\\\\\\\\\\"handleQuotedLineBreaks\\\\\\\\\\\\\\\": false, \\\\\\\\\\\\\\\"preview\\\\\\\\\\\\\\\": false, \\\\\\\\\\\\\\\"separator\\\\\\\\\\\\\\\": \\\\\\\\\\\\\\\",\\\\\\\\\\\\\\\", \\\\\\\\\\\\\\\"skipRows\\\\\\\\\\\\\\\": 0, \\\\\\\\\\\\\\\"skipRowsMode\\\\\\\\\\\\\\\": 0}, \\\\\\\\\\\\\\\"localData\\\\\\\\\\\\\\\": {}, \\\\\\\\\\\\\\\"isEnabled\\\\\\\\\\\\\\\": true, \\\\\\\\\\\\\\\"name\\\\\\\\\\\\\\\": null, \\\\\\\\\\\\\\\"annotation\\\\\\\\\\\\\\\": null}, {\\\\\\\\\\\\\\\"id\\\\\\\\\\\\\\\": \\\\\\\\\\\\\\\"00bbec85-3afa-4503-9770-ec2ca2ec2504\\\\\\\\\\\\\\\", \\\\\\\\\\\\\\\"type\\\\\\\\\\\\\\\": \\\\\\\\\\\\\\\"Microsoft.DPrep.DropColumnsBlock\\\\\\\\\\\\\\\", \\\\\\\\\\\\\\\"arguments\\\\\\\\\\\\\\\": {\\\\\\\\\\\\\\\"columns\\\\\\\\\\\\\\\": {\\\\\\\\\\\\\\\"type\\\\\\\\\\\\\\\": 0, \\\\\\\\\\\\\\\"details\\\\\\\\\\\\\\\": {\\\\\\\\\\\\\\\"selectedColumns\\\\\\\\\\\\\\\": [\\\\\\\\\\\\\\\"Path\\\\\\\\\\\\\\\"]}}}, \\\\\\\\\\\\\\\"localData\\\\\\\\\\\\\\\": {}, \\\\\\\\\\\\\\\"isEnabled\\\\\\\\\\\\\\\": true, \\\\\\\\\\\\\\\"name\\\\\\\\\\\\\\\": null, \\\\\\\\\\\\\\\"annotation\\\\\\\\\\\\\\\": null}, {\\\\\\\\\\\\\\\"id\\\\\\\\\\\\\\\": \\\\\\\\\\\\\\\"997b1551-a2ee-49f7-9567-bf65bfb813b6\\\\\\\\\\\\\\\", \\\\\\\\\\\\\\\"type\\\\\\\\\\\\\\\": \\\\\\\\\\\\\\\"Microsoft.DPrep.SetColumnTypesBlock\\\\\\\\\\\\\\\", \\\\\\\\\\\\\\\"arguments\\\\\\\\\\\\\\\": {\\\\\\\\\\\\\\\"columnConversion\\\\\\\\\\\\\\\": [{\\\\\\\\\\\\\\\"column\\\\\\\\\\\\\\\": {\\\\\\\\\\\\\\\"type\\\\\\\\\\\\\\\": 2, \\\\\\\\\\\\\\\"details\\\\\\\\\\\\\\\": {\\\\\\\\\\\\\\\"selectedColumn\\\\\\\\\\\\\\\": \\\\\\\\\\\\\\\"Path\\\\\\\\\\\\\\\"}}, \\\\\\\\\\\\\\\"typeProperty\\\\\\\\\\\\\\\": 0}, {\\\\\\\\\\\\\\\"column\\\\\\\\\\\\\\\": {\\\\\\\\\\\\\\\"type\\\\\\\\\\\\\\\": 2, \\\\\\\\\\\\\\\"details\\\\\\\\\\\\\\\": {\\\\\\\\\\\\\\\"selectedColumn\\\\\\\\\\\\\\\": \\\\\\\\\\\\\\\"CLIENTNUM\\\\\\\\\\\\\\\"}}, \\\\\\\\\\\\\\\"typeProperty\\\\\\\\\\\\\\\": 2}, {\\\\\\\\\\\\\\\"column\\\\\\\\\\\\\\\": {\\\\\\\\\\\\\\\"type\\\\\\\\\\\\\\\": 2, \\\\\\\\\\\\\\\"details\\\\\\\\\\\\\\\": {\\\\\\\\\\\\\\\"selectedColumn\\\\\\\\\\\\\\\": \\\\\\\\\\\\\\\"Attrition_Flag\\\\\\\\\\\\\\\"}}, \\\\\\\\\\\\\\\"typeProperty\\\\\\\\\\\\\\\": 0}, {\\\\\\\\\\\\\\\"column\\\\\\\\\\\\\\\": {\\\\\\\\\\\\\\\"type\\\\\\\\\\\\\\\": 2, \\\\\\\\\\\\\\\"details\\\\\\\\\\\\\\\": {\\\\\\\\\\\\\\\"selectedColumn\\\\\\\\\\\\\\\": \\\\\\\\\\\\\\\"Customer_Age\\\\\\\\\\\\\\\"}}, \\\\\\\\\\\\\\\"typeProperty\\\\\\\\\\\\\\\": 2}, {\\\\\\\\\\\\\\\"column\\\\\\\\\\\\\\\": {\\\\\\\\\\\\\\\"type\\\\\\\\\\\\\\\": 2, \\\\\\\\\\\\\\\"details\\\\\\\\\\\\\\\": {\\\\\\\\\\\\\\\"selectedColumn\\\\\\\\\\\\\\\": \\\\\\\\\\\\\\\"Gender\\\\\\\\\\\\\\\"}}, \\\\\\\\\\\\\\\"typeProperty\\\\\\\\\\\\\\\": 0}, {\\\\\\\\\\\\\\\"column\\\\\\\\\\\\\\\": {\\\\\\\\\\\\\\\"type\\\\\\\\\\\\\\\": 2, \\\\\\\\\\\\\\\"details\\\\\\\\\\\\\\\": {\\\\\\\\\\\\\\\"selectedColumn\\\\\\\\\\\\\\\": \\\\\\\\\\\\\\\"Dependent_count\\\\\\\\\\\\\\\"}}, \\\\\\\\\\\\\\\"typeProperty\\\\\\\\\\\\\\\": 2}, {\\\\\\\\\\\\\\\"column\\\\\\\\\\\\\\\": {\\\\\\\\\\\\\\\"type\\\\\\\\\\\\\\\": 2, \\\\\\\\\\\\\\\"details\\\\\\\\\\\\\\\": {\\\\\\\\\\\\\\\"selectedColumn\\\\\\\\\\\\\\\": \\\\\\\\\\\\\\\"Education_Level\\\\\\\\\\\\\\\"}}, \\\\\\\\\\\\\\\"typeProperty\\\\\\\\\\\\\\\": 0}, {\\\\\\\\\\\\\\\"column\\\\\\\\\\\\\\\": {\\\\\\\\\\\\\\\"type\\\\\\\\\\\\\\\": 2, \\\\\\\\\\\\\\\"details\\\\\\\\\\\\\\\": {\\\\\\\\\\\\\\\"selectedColumn\\\\\\\\\\\\\\\": \\\\\\\\\\\\\\\"Marital_Status\\\\\\\\\\\\\\\"}}, \\\\\\\\\\\\\\\"typeProperty\\\\\\\\\\\\\\\": 0}, {\\\\\\\\\\\\\\\"column\\\\\\\\\\\\\\\": {\\\\\\\\\\\\\\\"type\\\\\\\\\\\\\\\": 2, \\\\\\\\\\\\\\\"details\\\\\\\\\\\\\\\": {\\\\\\\\\\\\\\\"selectedColumn\\\\\\\\\\\\\\\": \\\\\\\\\\\\\\\"Income_Category\\\\\\\\\\\\\\\"}}, \\\\\\\\\\\\\\\"typeProperty\\\\\\\\\\\\\\\": 0}, {\\\\\\\\\\\\\\\"column\\\\\\\\\\\\\\\": {\\\\\\\\\\\\\\\"type\\\\\\\\\\\\\\\": 2, \\\\\\\\\\\\\\\"details\\\\\\\\\\\\\\\": {\\\\\\\\\\\\\\\"selectedColumn\\\\\\\\\\\\\\\": \\\\\\\\\\\\\\\"Card_Category\\\\\\\\\\\\\\\"}}, \\\\\\\\\\\\\\\"typeProperty\\\\\\\\\\\\\\\": 0}, {\\\\\\\\\\\\\\\"column\\\\\\\\\\\\\\\": {\\\\\\\\\\\\\\\"type\\\\\\\\\\\\\\\": 2, \\\\\\\\\\\\\\\"details\\\\\\\\\\\\\\\": {\\\\\\\\\\\\\\\"selectedColumn\\\\\\\\\\\\\\\": \\\\\\\\\\\\\\\"Months_on_book\\\\\\\\\\\\\\\"}}, \\\\\\\\\\\\\\\"typeProperty\\\\\\\\\\\\\\\": 2}, {\\\\\\\\\\\\\\\"column\\\\\\\\\\\\\\\": {\\\\\\\\\\\\\\\"type\\\\\\\\\\\\\\\": 2, \\\\\\\\\\\\\\\"details\\\\\\\\\\\\\\\": {\\\\\\\\\\\\\\\"selectedColumn\\\\\\\\\\\\\\\": \\\\\\\\\\\\\\\"Total_Relationship_Count\\\\\\\\\\\\\\\"}}, \\\\\\\\\\\\\\\"typeProperty\\\\\\\\\\\\\\\": 2}, {\\\\\\\\\\\\\\\"column\\\\\\\\\\\\\\\": {\\\\\\\\\\\\\\\"type\\\\\\\\\\\\\\\": 2, \\\\\\\\\\\\\\\"details\\\\\\\\\\\\\\\": {\\\\\\\\\\\\\\\"selectedColumn\\\\\\\\\\\\\\\": \\\\\\\\\\\\\\\"Months_Inactive_12_mon\\\\\\\\\\\\\\\"}}, \\\\\\\\\\\\\\\"typeProperty\\\\\\\\\\\\\\\": 2}, {\\\\\\\\\\\\\\\"column\\\\\\\\\\\\\\\": {\\\\\\\\\\\\\\\"type\\\\\\\\\\\\\\\": 2, \\\\\\\\\\\\\\\"details\\\\\\\\\\\\\\\": {\\\\\\\\\\\\\\\"selectedColumn\\\\\\\\\\\\\\\": \\\\\\\\\\\\\\\"Contacts_Count_12_mon\\\\\\\\\\\\\\\"}}, \\\\\\\\\\\\\\\"typeProperty\\\\\\\\\\\\\\\": 2}, {\\\\\\\\\\\\\\\"column\\\\\\\\\\\\\\\": {\\\\\\\\\\\\\\\"type\\\\\\\\\\\\\\\": 2, \\\\\\\\\\\\\\\"details\\\\\\\\\\\\\\\": {\\\\\\\\\\\\\\\"selectedColumn\\\\\\\\\\\\\\\": \\\\\\\\\\\\\\\"Credit_Limit\\\\\\\\\\\\\\\"}}, \\\\\\\\\\\\\\\"typeProperty\\\\\\\\\\\\\\\": 3}, {\\\\\\\\\\\\\\\"column\\\\\\\\\\\\\\\": {\\\\\\\\\\\\\\\"type\\\\\\\\\\\\\\\": 2, \\\\\\\\\\\\\\\"details\\\\\\\\\\\\\\\": {\\\\\\\\\\\\\\\"selectedColumn\\\\\\\\\\\\\\\": \\\\\\\\\\\\\\\"Total_Revolving_Bal\\\\\\\\\\\\\\\"}}, \\\\\\\\\\\\\\\"typeProperty\\\\\\\\\\\\\\\": 2}, {\\\\\\\\\\\\\\\"column\\\\\\\\\\\\\\\": {\\\\\\\\\\\\\\\"type\\\\\\\\\\\\\\\": 2, \\\\\\\\\\\\\\\"details\\\\\\\\\\\\\\\": {\\\\\\\\\\\\\\\"selectedColumn\\\\\\\\\\\\\\\": \\\\\\\\\\\\\\\"Avg_Open_To_Buy\\\\\\\\\\\\\\\"}}, \\\\\\\\\\\\\\\"typeProperty\\\\\\\\\\\\\\\": 3}, {\\\\\\\\\\\\\\\"column\\\\\\\\\\\\\\\": {\\\\\\\\\\\\\\\"type\\\\\\\\\\\\\\\": 2, \\\\\\\\\\\\\\\"details\\\\\\\\\\\\\\\": {\\\\\\\\\\\\\\\"selectedColumn\\\\\\\\\\\\\\\": \\\\\\\\\\\\\\\"Total_Amt_Chng_Q4_Q1\\\\\\\\\\\\\\\"}}, \\\\\\\\\\\\\\\"typeProperty\\\\\\\\\\\\\\\": 3}, {\\\\\\\\\\\\\\\"column\\\\\\\\\\\\\\\": {\\\\\\\\\\\\\\\"type\\\\\\\\\\\\\\\": 2, \\\\\\\\\\\\\\\"details\\\\\\\\\\\\\\\": {\\\\\\\\\\\\\\\"selectedColumn\\\\\\\\\\\\\\\": \\\\\\\\\\\\\\\"Total_Trans_Amt\\\\\\\\\\\\\\\"}}, \\\\\\\\\\\\\\\"typeProperty\\\\\\\\\\\\\\\": 2}, {\\\\\\\\\\\\\\\"column\\\\\\\\\\\\\\\": {\\\\\\\\\\\\\\\"type\\\\\\\\\\\\\\\": 2, \\\\\\\\\\\\\\\"details\\\\\\\\\\\\\\\": {\\\\\\\\\\\\\\\"selectedColumn\\\\\\\\\\\\\\\": \\\\\\\\\\\\\\\"Total_Trans_Ct\\\\\\\\\\\\\\\"}}, \\\\\\\\\\\\\\\"typeProperty\\\\\\\\\\\\\\\": 2}, {\\\\\\\\\\\\\\\"column\\\\\\\\\\\\\\\": {\\\\\\\\\\\\\\\"type\\\\\\\\\\\\\\\": 2, \\\\\\\\\\\\\\\"details\\\\\\\\\\\\\\\": {\\\\\\\\\\\\\\\"selectedColumn\\\\\\\\\\\\\\\": \\\\\\\\\\\\\\\"Total_Ct_Chng_Q4_Q1\\\\\\\\\\\\\\\"}}, \\\\\\\\\\\\\\\"typeProperty\\\\\\\\\\\\\\\": 3}, {\\\\\\\\\\\\\\\"column\\\\\\\\\\\\\\\": {\\\\\\\\\\\\\\\"type\\\\\\\\\\\\\\\": 2, \\\\\\\\\\\\\\\"details\\\\\\\\\\\\\\\": {\\\\\\\\\\\\\\\"selectedColumn\\\\\\\\\\\\\\\": \\\\\\\\\\\\\\\"Avg_Utilization_Ratio\\\\\\\\\\\\\\\"}}, \\\\\\\\\\\\\\\"typeProperty\\\\\\\\\\\\\\\": 3}]}, \\\\\\\\\\\\\\\"localData\\\\\\\\\\\\\\\": {}, \\\\\\\\\\\\\\\"isEnabled\\\\\\\\\\\\\\\": true, \\\\\\\\\\\\\\\"name\\\\\\\\\\\\\\\": null, \\\\\\\\\\\\\\\"annotation\\\\\\\\\\\\\\\": null}], \\\\\\\\\\\\\\\"inspectors\\\\\\\\\\\\\\\": [], \\\\\\\\\\\\\\\"meta\\\\\\\\\\\\\\\": {\\\\\\\\\\\\\\\"savedDatasetId\\\\\\\\\\\\\\\": \\\\\\\\\\\\\\\"f306c80b-3ff7-4219-a115-818e1ab8165e\\\\\\\\\\\\\\\", \\\\\\\\\\\\\\\"datasetType\\\\\\\\\\\\\\\": \\\\\\\\\\\\\\\"tabular\\\\\\\\\\\\\\\", \\\\\\\\\\\\\\\"subscriptionId\\\\\\\\\\\\\\\": \\\\\\\\\\\\\\\"d4ad7261-832d-46b2-b093-22156001df5b\\\\\\\\\\\\\\\", \\\\\\\\\\\\\\\"workspaceId\\\\\\\\\\\\\\\": \\\\\\\\\\\\\\\"a03c31cd-5c45-4014-8403-0c7d229497e9\\\\\\\\\\\\\\\", \\\\\\\\\\\\\\\"workspaceLocation\\\\\\\\\\\\\\\": \\\\\\\\\\\\\\\"southcentralus\\\\\\\\\\\\\\\"}}\\\\\\\", \\\\\\\"activities\\\\\\\": 0}\", \"EnableSubsampling\": null, \"runTemplate\": \"AutoML\", \"azureml.runsource\": \"automl\", \"display_task_type\": \"classification\", \"dependencies_versions\": \"{\\\"azureml-widgets\\\": \\\"1.19.0\\\", \\\"azureml-train\\\": \\\"1.19.0\\\", \\\"azureml-train-restclients-hyperdrive\\\": \\\"1.19.0\\\", \\\"azureml-train-core\\\": \\\"1.19.0\\\", \\\"azureml-train-automl\\\": \\\"1.19.0\\\", \\\"azureml-train-automl-runtime\\\": \\\"1.19.0\\\", \\\"azureml-train-automl-client\\\": \\\"1.19.0\\\", \\\"azureml-tensorboard\\\": \\\"1.19.0\\\", \\\"azureml-telemetry\\\": \\\"1.19.0\\\", \\\"azureml-sdk\\\": \\\"1.19.0\\\", \\\"azureml-samples\\\": \\\"0+unknown\\\", \\\"azureml-pipeline\\\": \\\"1.19.0\\\", \\\"azureml-pipeline-steps\\\": \\\"1.19.0\\\", \\\"azureml-pipeline-core\\\": \\\"1.19.0\\\", \\\"azureml-opendatasets\\\": \\\"1.19.0\\\", \\\"azureml-model-management-sdk\\\": \\\"1.0.1b6.post1\\\", \\\"azureml-mlflow\\\": \\\"1.19.0\\\", \\\"azureml-interpret\\\": \\\"1.19.0\\\", \\\"azureml-explain-model\\\": \\\"1.19.0\\\", \\\"azureml-defaults\\\": \\\"1.19.0\\\", \\\"azureml-dataset-runtime\\\": \\\"1.19.0.post1\\\", \\\"azureml-dataprep\\\": \\\"2.6.1\\\", \\\"azureml-dataprep-rslex\\\": \\\"1.4.0\\\", \\\"azureml-dataprep-native\\\": \\\"26.0.0\\\", \\\"azureml-datadrift\\\": \\\"1.19.0\\\", \\\"azureml-core\\\": \\\"1.19.0\\\", \\\"azureml-contrib-services\\\": \\\"1.19.0\\\", \\\"azureml-contrib-server\\\": \\\"1.19.0\\\", \\\"azureml-contrib-reinforcementlearning\\\": \\\"1.19.0\\\", \\\"azureml-contrib-pipeline-steps\\\": \\\"1.19.0\\\", \\\"azureml-contrib-notebook\\\": \\\"1.19.0\\\", \\\"azureml-contrib-interpret\\\": \\\"1.19.0\\\", \\\"azureml-contrib-gbdt\\\": \\\"1.19.0\\\", \\\"azureml-contrib-fairness\\\": \\\"1.19.0\\\", \\\"azureml-contrib-dataset\\\": \\\"1.19.0\\\", \\\"azureml-cli-common\\\": \\\"1.19.0\\\", \\\"azureml-automl-runtime\\\": \\\"1.19.0\\\", \\\"azureml-automl-core\\\": \\\"1.19.0\\\", \\\"azureml-accel-models\\\": \\\"1.19.0\\\"}\", \"_aml_system_scenario_identification\": \"Remote.Parent\", \"ClientType\": \"SDK\", \"environment_cpu_name\": \"AzureML-AutoML\", \"environment_cpu_label\": \"prod\", \"environment_gpu_name\": \"AzureML-AutoML-GPU\", \"environment_gpu_label\": \"prod\", \"root_attribution\": \"automl\", \"attribution\": \"AutoML\", \"Orchestrator\": \"AutoML\", \"CancelUri\": \"https://southcentralus.experiments.azureml.net/jasmine/v1.0/subscriptions/d4ad7261-832d-46b2-b093-22156001df5b/resourceGroups/aml-quickstarts-134840/providers/Microsoft.MachineLearningServices/workspaces/quick-starts-ws-134840/experimentids/c583da0f-89c5-4412-9765-6531dcf01506/cancel/AutoML_1d2a8642-b286-4f81-9bbc-4a9dadbd6b30\", \"ClientSdkVersion\": \"1.19.0\", \"snapshotId\": \"00000000-0000-0000-0000-000000000000\", \"SetupRunId\": \"AutoML_1d2a8642-b286-4f81-9bbc-4a9dadbd6b30_setup\", \"SetupRunContainerId\": \"dcid.AutoML_1d2a8642-b286-4f81-9bbc-4a9dadbd6b30_setup\", \"FeaturizationRunJsonPath\": \"featurizer_container.json\", \"FeaturizationRunId\": \"AutoML_1d2a8642-b286-4f81-9bbc-4a9dadbd6b30_featurize\", \"ProblemInfoJsonString\": \"{\\\"dataset_num_categorical\\\": 0, \\\"is_sparse\\\": true, \\\"subsampling\\\": false, \\\"dataset_classes\\\": 2, \\\"dataset_features\\\": 146, \\\"dataset_samples\\\": 10127, \\\"single_frequency_class_detected\\\": false}\", \"ModelExplainRunId\": \"AutoML_1d2a8642-b286-4f81-9bbc-4a9dadbd6b30_ModelExplain\"}, \"tags\": {\"model_explain_run\": \"best_run\", \"_aml_system_azureml.automlComponent\": \"AutoML\", \"pipeline_id\": \"\", \"score\": \"\", \"predicted_cost\": \"\", \"fit_time\": \"\", \"training_percent\": \"\", \"iteration\": \"\", \"run_preprocessor\": \"\", \"run_algorithm\": \"\", \"dynamic_whitelisting_iterations\": \"<25>;<30>;<35>;\", \"automl_best_child_run_id\": \"AutoML_1d2a8642-b286-4f81-9bbc-4a9dadbd6b30_38\", \"model_explain_best_run_child_id\": \"AutoML_1d2a8642-b286-4f81-9bbc-4a9dadbd6b30_38\"}, \"end_time_utc\": \"2021-01-16T06:37:50.599921Z\", \"status\": \"Completed\", \"log_files\": {}, \"log_groups\": [], \"run_duration\": \"0:40:48\"}, \"child_runs\": [{\"run_id\": \"AutoML_1d2a8642-b286-4f81-9bbc-4a9dadbd6b30_1\", \"run_number\": 5, \"metric\": null, \"status\": \"Completed\", \"run_type\": \"azureml.scriptrun\", \"training_percent\": \"100\", \"start_time\": \"2021-01-16T06:10:23.636029Z\", \"end_time\": \"2021-01-16T06:11:20.684147Z\", \"created_time\": \"2021-01-16T06:10:12.834697Z\", \"created_time_dt\": \"2021-01-16T06:10:12.834697Z\", \"duration\": \"0:01:07\", \"iteration\": \"1\", \"goal\": \"accuracy_max\", \"run_name\": \"MaxAbsScaler, XGBoostClassifier\", \"run_properties\": \"copy=True\", \"primary_metric\": 0.96030428, \"best_metric\": 0.96909245}, {\"run_id\": \"AutoML_1d2a8642-b286-4f81-9bbc-4a9dadbd6b30_2\", \"run_number\": 6, \"metric\": null, \"status\": \"Completed\", \"run_type\": \"azureml.scriptrun\", \"training_percent\": \"100\", \"start_time\": \"2021-01-16T06:11:26.78972Z\", \"end_time\": \"2021-01-16T06:12:09.046405Z\", \"created_time\": \"2021-01-16T06:10:12.83594Z\", \"created_time_dt\": \"2021-01-16T06:10:12.83594Z\", \"duration\": \"0:01:56\", \"iteration\": \"2\", \"goal\": \"accuracy_max\", \"run_name\": \"MaxAbsScaler, RandomForest\", \"run_properties\": \"copy=True\", \"primary_metric\": 0.86619855, \"best_metric\": 0.96909245}, {\"run_id\": \"AutoML_1d2a8642-b286-4f81-9bbc-4a9dadbd6b30_4\", \"run_number\": 7, \"metric\": null, \"status\": \"Completed\", \"run_type\": \"azureml.scriptrun\", \"training_percent\": \"100\", \"start_time\": \"2021-01-16T06:12:12.010241Z\", \"end_time\": \"2021-01-16T06:12:53.879166Z\", \"created_time\": \"2021-01-16T06:10:12.858649Z\", \"created_time_dt\": \"2021-01-16T06:10:12.858649Z\", \"duration\": \"0:02:41\", \"iteration\": \"4\", \"goal\": \"accuracy_max\", \"run_name\": \"MaxAbsScaler, RandomForest\", \"run_properties\": \"copy=True\", \"primary_metric\": 0.84437827, \"best_metric\": 0.96909245}, {\"run_id\": \"AutoML_1d2a8642-b286-4f81-9bbc-4a9dadbd6b30_3\", \"run_number\": 8, \"metric\": null, \"status\": \"Completed\", \"run_type\": \"azureml.scriptrun\", \"training_percent\": \"100\", \"start_time\": \"2021-01-16T06:13:38.097018Z\", \"end_time\": \"2021-01-16T06:16:57.028903Z\", \"created_time\": \"2021-01-16T06:10:12.896098Z\", \"created_time_dt\": \"2021-01-16T06:10:12.896098Z\", \"duration\": \"0:06:44\", \"iteration\": \"3\", \"goal\": \"accuracy_max\", \"run_name\": \"MaxAbsScaler, RandomForest\", \"run_properties\": \"copy=True\", \"primary_metric\": 0.84220341, \"best_metric\": 0.96909245}, {\"run_id\": \"AutoML_1d2a8642-b286-4f81-9bbc-4a9dadbd6b30_0\", \"run_number\": 9, \"metric\": null, \"status\": \"Completed\", \"run_type\": \"azureml.scriptrun\", \"training_percent\": \"100\", \"start_time\": \"2021-01-16T06:13:00.48375Z\", \"end_time\": \"2021-01-16T06:13:55.757065Z\", \"created_time\": \"2021-01-16T06:10:13.007375Z\", \"created_time_dt\": \"2021-01-16T06:10:13.007375Z\", \"duration\": \"0:03:42\", \"iteration\": \"0\", \"goal\": \"accuracy_max\", \"run_name\": \"MaxAbsScaler, LightGBM\", \"run_properties\": \"copy=True\", \"primary_metric\": 0.96909245, \"best_metric\": 0.96909245}, {\"run_id\": \"AutoML_1d2a8642-b286-4f81-9bbc-4a9dadbd6b30_5\", \"run_number\": 10, \"metric\": null, \"status\": \"Completed\", \"run_type\": \"azureml.scriptrun\", \"training_percent\": \"100\", \"start_time\": \"2021-01-16T06:13:40.148902Z\", \"end_time\": \"2021-01-16T06:17:10.859028Z\", \"created_time\": \"2021-01-16T06:11:22.928815Z\", \"created_time_dt\": \"2021-01-16T06:11:22.928815Z\", \"duration\": \"0:05:47\", \"iteration\": \"5\", \"goal\": \"accuracy_max\", \"run_name\": \"MaxAbsScaler, RandomForest\", \"run_properties\": \"copy=True\", \"primary_metric\": 0.75767998, \"best_metric\": 0.96909245}, {\"run_id\": \"AutoML_1d2a8642-b286-4f81-9bbc-4a9dadbd6b30_6\", \"run_number\": 11, \"metric\": null, \"status\": \"Completed\", \"run_type\": \"azureml.scriptrun\", \"training_percent\": \"100\", \"start_time\": \"2021-01-16T06:13:58.144142Z\", \"end_time\": \"2021-01-16T06:14:42.510607Z\", \"created_time\": \"2021-01-16T06:12:12.486216Z\", \"created_time_dt\": \"2021-01-16T06:12:12.486216Z\", \"duration\": \"0:02:30\", \"iteration\": \"6\", \"goal\": \"accuracy_max\", \"run_name\": \"StandardScalerWrapper, XGBoostClassifier\", \"run_properties\": \"<azureml.automl.runtime.shared.model_wrappers.StandardScalerWrapper object at 0x7f614c0c13c8\", \"primary_metric\": 0.93937037, \"best_metric\": 0.96909245}, {\"run_id\": \"AutoML_1d2a8642-b286-4f81-9bbc-4a9dadbd6b30_7\", \"run_number\": 12, \"metric\": null, \"status\": \"Completed\", \"run_type\": \"azureml.scriptrun\", \"training_percent\": \"100\", \"start_time\": \"2021-01-16T06:14:44.045009Z\", \"end_time\": \"2021-01-16T06:15:40.694891Z\", \"created_time\": \"2021-01-16T06:12:56.713635Z\", \"created_time_dt\": \"2021-01-16T06:12:56.713635Z\", \"duration\": \"0:02:43\", \"iteration\": \"7\", \"goal\": \"accuracy_max\", \"run_name\": \"SparseNormalizer, XGBoostClassifier\", \"run_properties\": \"<azureml.automl.runtime.shared.model_wrappers.SparseNormalizer object at 0x7f3274a62ac8\", \"primary_metric\": 0.96474779, \"best_metric\": 0.96909245}, {\"run_id\": \"AutoML_1d2a8642-b286-4f81-9bbc-4a9dadbd6b30_8\", \"run_number\": 13, \"metric\": null, \"status\": \"Completed\", \"run_type\": \"azureml.scriptrun\", \"training_percent\": \"100\", \"start_time\": \"2021-01-16T06:15:18.282423Z\", \"end_time\": \"2021-01-16T06:18:28.973395Z\", \"created_time\": \"2021-01-16T06:13:58.627618Z\", \"created_time_dt\": \"2021-01-16T06:13:58.627618Z\", \"duration\": \"0:04:30\", \"iteration\": \"8\", \"goal\": \"accuracy_max\", \"run_name\": \"SparseNormalizer, XGBoostClassifier\", \"run_properties\": \"<azureml.automl.runtime.shared.model_wrappers.SparseNormalizer object at 0x7f4e01a2bc18\", \"primary_metric\": 0.95526789, \"best_metric\": 0.96909245}, {\"run_id\": \"AutoML_1d2a8642-b286-4f81-9bbc-4a9dadbd6b30_9\", \"run_number\": 14, \"metric\": null, \"status\": \"Completed\", \"run_type\": \"azureml.scriptrun\", \"training_percent\": \"100\", \"start_time\": \"2021-01-16T06:15:42.301994Z\", \"end_time\": \"2021-01-16T06:16:47.172141Z\", \"created_time\": \"2021-01-16T06:14:45.588189Z\", \"created_time_dt\": \"2021-01-16T06:14:45.588189Z\", \"duration\": \"0:02:01\", \"iteration\": \"9\", \"goal\": \"accuracy_max\", \"run_name\": \"SparseNormalizer, XGBoostClassifier\", \"run_properties\": \"<azureml.automl.runtime.shared.model_wrappers.SparseNormalizer object at 0x7f989c8d7e80\", \"primary_metric\": 0.96613007, \"best_metric\": 0.96909245}, {\"run_id\": \"AutoML_1d2a8642-b286-4f81-9bbc-4a9dadbd6b30_10\", \"run_number\": 15, \"metric\": null, \"status\": \"Completed\", \"run_type\": \"azureml.scriptrun\", \"training_percent\": \"100\", \"start_time\": \"2021-01-16T06:16:59.648597Z\", \"end_time\": \"2021-01-16T06:17:49.111257Z\", \"created_time\": \"2021-01-16T06:15:46.738313Z\", \"created_time_dt\": \"2021-01-16T06:15:46.738313Z\", \"duration\": \"0:02:02\", \"iteration\": \"10\", \"goal\": \"accuracy_max\", \"run_name\": \"StandardScalerWrapper, XGBoostClassifier\", \"run_properties\": \"<azureml.automl.runtime.shared.model_wrappers.StandardScalerWrapper object at 0x7fdebb15d860\", \"primary_metric\": 0.92653318, \"best_metric\": 0.96909245}, {\"run_id\": \"AutoML_1d2a8642-b286-4f81-9bbc-4a9dadbd6b30_11\", \"run_number\": 16, \"metric\": null, \"status\": \"Completed\", \"run_type\": \"azureml.scriptrun\", \"training_percent\": \"100\", \"start_time\": \"2021-01-16T06:19:26.621791Z\", \"end_time\": \"2021-01-16T06:20:36.071008Z\", \"created_time\": \"2021-01-16T06:16:50.009616Z\", \"created_time_dt\": \"2021-01-16T06:16:50.009616Z\", \"duration\": \"0:03:46\", \"iteration\": \"11\", \"goal\": \"accuracy_max\", \"run_name\": \"StandardScalerWrapper, LightGBM\", \"run_properties\": \"<azureml.automl.runtime.shared.model_wrappers.StandardScalerWrapper object at 0x7f908b19a0b8\", \"primary_metric\": 0.95951445, \"best_metric\": 0.96909245}, {\"run_id\": \"AutoML_1d2a8642-b286-4f81-9bbc-4a9dadbd6b30_12\", \"run_number\": 17, \"metric\": null, \"status\": \"Completed\", \"run_type\": \"azureml.scriptrun\", \"training_percent\": \"100\", \"start_time\": \"2021-01-16T06:20:01.312091Z\", \"end_time\": \"2021-01-16T06:20:58.77117Z\", \"created_time\": \"2021-01-16T06:16:59.365317Z\", \"created_time_dt\": \"2021-01-16T06:16:59.365317Z\", \"duration\": \"0:03:59\", \"iteration\": \"12\", \"goal\": \"accuracy_max\", \"run_name\": \"SparseNormalizer, XGBoostClassifier\", \"run_properties\": \"<azureml.automl.runtime.shared.model_wrappers.SparseNormalizer object at 0x7f5c65119470\", \"primary_metric\": 0.89177465, \"best_metric\": 0.96909245}, {\"run_id\": \"AutoML_1d2a8642-b286-4f81-9bbc-4a9dadbd6b30_13\", \"run_number\": 18, \"metric\": null, \"status\": \"Completed\", \"run_type\": \"azureml.scriptrun\", \"training_percent\": \"100\", \"start_time\": \"2021-01-16T06:20:35.815311Z\", \"end_time\": \"2021-01-16T06:21:31.351577Z\", \"created_time\": \"2021-01-16T06:17:13.272272Z\", \"created_time_dt\": \"2021-01-16T06:17:13.272272Z\", \"duration\": \"0:04:18\", \"iteration\": \"13\", \"goal\": \"accuracy_max\", \"run_name\": \"StandardScalerWrapper, RandomForest\", \"run_properties\": \"<azureml.automl.runtime.shared.model_wrappers.StandardScalerWrapper object at 0x7ff78d822128\", \"primary_metric\": 0.89819282, \"best_metric\": 0.96909245}, {\"run_id\": \"AutoML_1d2a8642-b286-4f81-9bbc-4a9dadbd6b30_14\", \"run_number\": 19, \"metric\": null, \"status\": \"Completed\", \"run_type\": \"azureml.scriptrun\", \"training_percent\": \"100\", \"start_time\": \"2021-01-16T06:20:53.706362Z\", \"end_time\": \"2021-01-16T06:21:40.004577Z\", \"created_time\": \"2021-01-16T06:17:51.384353Z\", \"created_time_dt\": \"2021-01-16T06:17:51.384353Z\", \"duration\": \"0:03:48\", \"iteration\": \"14\", \"goal\": \"accuracy_max\", \"run_name\": \"MaxAbsScaler, LogisticRegression\", \"run_properties\": \"copy=True\", \"primary_metric\": 0.91172096, \"best_metric\": 0.96909245}, {\"run_id\": \"AutoML_1d2a8642-b286-4f81-9bbc-4a9dadbd6b30_15\", \"run_number\": 20, \"metric\": null, \"status\": \"Completed\", \"run_type\": \"azureml.scriptrun\", \"training_percent\": \"100\", \"start_time\": \"2021-01-16T06:21:03.721923Z\", \"end_time\": \"2021-01-16T06:21:55.82081Z\", \"created_time\": \"2021-01-16T06:18:31.201599Z\", \"created_time_dt\": \"2021-01-16T06:18:31.201599Z\", \"duration\": \"0:03:24\", \"iteration\": \"15\", \"goal\": \"accuracy_max\", \"run_name\": \"MaxAbsScaler, LightGBM\", \"run_properties\": \"copy=True\", \"primary_metric\": 0.89927863, \"best_metric\": 0.96909245}, {\"run_id\": \"AutoML_1d2a8642-b286-4f81-9bbc-4a9dadbd6b30_16\", \"run_number\": 21, \"metric\": null, \"status\": \"Completed\", \"run_type\": \"azureml.scriptrun\", \"training_percent\": \"100\", \"start_time\": \"2021-01-16T06:21:57.229467Z\", \"end_time\": \"2021-01-16T06:22:49.883423Z\", \"created_time\": \"2021-01-16T06:20:44.005717Z\", \"created_time_dt\": \"2021-01-16T06:20:44.005717Z\", \"duration\": \"0:02:05\", \"iteration\": \"16\", \"goal\": \"accuracy_max\", \"run_name\": \"MaxAbsScaler, LightGBM\", \"run_properties\": \"copy=True\", \"primary_metric\": 0.86392786, \"best_metric\": 0.96909245}, {\"run_id\": \"AutoML_1d2a8642-b286-4f81-9bbc-4a9dadbd6b30_17\", \"run_number\": 22, \"metric\": null, \"status\": \"Completed\", \"run_type\": \"azureml.scriptrun\", \"training_percent\": \"100\", \"start_time\": \"2021-01-16T06:22:54.001141Z\", \"end_time\": \"2021-01-16T06:23:52.415613Z\", \"created_time\": \"2021-01-16T06:21:00.880669Z\", \"created_time_dt\": \"2021-01-16T06:21:00.880669Z\", \"duration\": \"0:02:51\", \"iteration\": \"17\", \"goal\": \"accuracy_max\", \"run_name\": \"SparseNormalizer, XGBoostClassifier\", \"run_properties\": \"<azureml.automl.runtime.shared.model_wrappers.SparseNormalizer object at 0x7f666ef868d0\", \"primary_metric\": 0.96790752, \"best_metric\": 0.96909245}, {\"run_id\": \"AutoML_1d2a8642-b286-4f81-9bbc-4a9dadbd6b30_18\", \"run_number\": 23, \"metric\": null, \"status\": \"Completed\", \"run_type\": \"azureml.scriptrun\", \"training_percent\": \"100\", \"start_time\": \"2021-01-16T06:23:32.655986Z\", \"end_time\": \"2021-01-16T06:24:24.743138Z\", \"created_time\": \"2021-01-16T06:21:33.44685Z\", \"created_time_dt\": \"2021-01-16T06:21:33.44685Z\", \"duration\": \"0:02:51\", \"iteration\": \"18\", \"goal\": \"accuracy_max\", \"run_name\": \"SparseNormalizer, LightGBM\", \"run_properties\": \"<azureml.automl.runtime.shared.model_wrappers.SparseNormalizer object at 0x7f2812f6c5f8\", \"primary_metric\": 0.90796881, \"best_metric\": 0.96909245}, {\"run_id\": \"AutoML_1d2a8642-b286-4f81-9bbc-4a9dadbd6b30_19\", \"run_number\": 24, \"metric\": null, \"status\": \"Completed\", \"run_type\": \"azureml.scriptrun\", \"training_percent\": \"100\", \"start_time\": \"2021-01-16T06:24:29.612967Z\", \"end_time\": \"2021-01-16T06:25:25.022009Z\", \"created_time\": \"2021-01-16T06:21:42.404694Z\", \"created_time_dt\": \"2021-01-16T06:21:42.404694Z\", \"duration\": \"0:03:42\", \"iteration\": \"19\", \"goal\": \"accuracy_max\", \"run_name\": \"SparseNormalizer, XGBoostClassifier\", \"run_properties\": \"<azureml.automl.runtime.shared.model_wrappers.SparseNormalizer object at 0x7f89ba5c6d30\", \"primary_metric\": 0.93482766, \"best_metric\": 0.96909245}, {\"run_id\": \"AutoML_1d2a8642-b286-4f81-9bbc-4a9dadbd6b30_20\", \"run_number\": 25, \"metric\": null, \"status\": \"Completed\", \"run_type\": \"azureml.scriptrun\", \"training_percent\": \"100\", \"start_time\": \"2021-01-16T06:25:29.425204Z\", \"end_time\": \"2021-01-16T06:26:13.966567Z\", \"created_time\": \"2021-01-16T06:21:57.895505Z\", \"created_time_dt\": \"2021-01-16T06:21:57.895505Z\", \"duration\": \"0:04:16\", \"iteration\": \"20\", \"goal\": \"accuracy_max\", \"run_name\": \"StandardScalerWrapper, LightGBM\", \"run_properties\": \"<azureml.automl.runtime.shared.model_wrappers.StandardScalerWrapper object at 0x7fb8d15bbbe0\", \"primary_metric\": 0.91606594, \"best_metric\": 0.96909245}, {\"run_id\": \"AutoML_1d2a8642-b286-4f81-9bbc-4a9dadbd6b30_21\", \"run_number\": 26, \"metric\": null, \"status\": \"Completed\", \"run_type\": \"azureml.scriptrun\", \"training_percent\": \"100\", \"start_time\": \"2021-01-16T06:26:13.708526Z\", \"end_time\": \"2021-01-16T06:27:02.82384Z\", \"created_time\": \"2021-01-16T06:22:52.16896Z\", \"created_time_dt\": \"2021-01-16T06:22:52.16896Z\", \"duration\": \"0:04:10\", \"iteration\": \"21\", \"goal\": \"accuracy_max\", \"run_name\": \"SparseNormalizer, LightGBM\", \"run_properties\": \"<azureml.automl.runtime.shared.model_wrappers.SparseNormalizer object at 0x7f631270cc50\", \"primary_metric\": 0.86669232, \"best_metric\": 0.96909245}, {\"run_id\": \"AutoML_1d2a8642-b286-4f81-9bbc-4a9dadbd6b30_22\", \"run_number\": 27, \"metric\": null, \"status\": \"Completed\", \"run_type\": \"azureml.scriptrun\", \"training_percent\": \"100\", \"start_time\": \"2021-01-16T06:29:07.901722Z\", \"end_time\": \"2021-01-16T06:29:52.006128Z\", \"created_time\": \"2021-01-16T06:23:54.694052Z\", \"created_time_dt\": \"2021-01-16T06:23:54.694052Z\", \"duration\": \"0:05:57\", \"iteration\": \"22\", \"goal\": \"accuracy_max\", \"run_name\": \"MaxAbsScaler, LightGBM\", \"run_properties\": \"copy=True\", \"primary_metric\": 0.95556448, \"best_metric\": 0.96909245}, {\"run_id\": \"AutoML_1d2a8642-b286-4f81-9bbc-4a9dadbd6b30_23\", \"run_number\": 28, \"metric\": null, \"status\": \"Completed\", \"run_type\": \"azureml.scriptrun\", \"training_percent\": \"100\", \"start_time\": \"2021-01-16T06:29:58.126781Z\", \"end_time\": \"2021-01-16T06:30:42.7462Z\", \"created_time\": \"2021-01-16T06:24:27.208096Z\", \"created_time_dt\": \"2021-01-16T06:24:27.208096Z\", \"duration\": \"0:06:15\", \"iteration\": \"23\", \"goal\": \"accuracy_max\", \"run_name\": \"MaxAbsScaler, LogisticRegression\", \"run_properties\": \"copy=True\", \"primary_metric\": 0.91093087, \"best_metric\": 0.96909245}, {\"run_id\": \"AutoML_1d2a8642-b286-4f81-9bbc-4a9dadbd6b30_24\", \"run_number\": 29, \"metric\": null, \"status\": \"Completed\", \"run_type\": \"azureml.scriptrun\", \"training_percent\": \"100\", \"start_time\": \"2021-01-16T06:30:42.342993Z\", \"end_time\": \"2021-01-16T06:31:32.944734Z\", \"created_time\": \"2021-01-16T06:25:27.312916Z\", \"created_time_dt\": \"2021-01-16T06:25:27.312916Z\", \"duration\": \"0:06:05\", \"iteration\": \"24\", \"goal\": \"accuracy_max\", \"run_name\": \"StandardScalerWrapper, LightGBM\", \"run_properties\": \"<azureml.automl.runtime.shared.model_wrappers.StandardScalerWrapper object at 0x7fa66b512d30\", \"primary_metric\": 0.9547745, \"best_metric\": 0.96909245}, {\"run_id\": \"AutoML_1d2a8642-b286-4f81-9bbc-4a9dadbd6b30_25\", \"run_number\": 30, \"metric\": null, \"status\": \"Completed\", \"run_type\": \"azureml.scriptrun\", \"training_percent\": \"100\", \"start_time\": \"2021-01-16T06:31:35.035791Z\", \"end_time\": \"2021-01-16T06:32:41.705868Z\", \"created_time\": \"2021-01-16T06:26:17.109449Z\", \"created_time_dt\": \"2021-01-16T06:26:17.109449Z\", \"duration\": \"0:06:24\", \"iteration\": \"25\", \"goal\": \"accuracy_max\", \"run_name\": \"SparseNormalizer, LightGBM\", \"run_properties\": \"<azureml.automl.runtime.shared.model_wrappers.SparseNormalizer object at 0x7f8364b1e828\", \"primary_metric\": 0.85385431, \"best_metric\": 0.96909245}, {\"run_id\": \"AutoML_1d2a8642-b286-4f81-9bbc-4a9dadbd6b30_26\", \"run_number\": 31, \"metric\": null, \"status\": \"Completed\", \"run_type\": \"azureml.scriptrun\", \"training_percent\": \"100\", \"start_time\": \"2021-01-16T06:31:55.376986Z\", \"end_time\": \"2021-01-16T06:32:36.19254Z\", \"created_time\": \"2021-01-16T06:27:05.065813Z\", \"created_time_dt\": \"2021-01-16T06:27:05.065813Z\", \"duration\": \"0:05:31\", \"iteration\": \"26\", \"goal\": \"accuracy_max\", \"run_name\": \"MaxAbsScaler, ExtremeRandomTrees\", \"run_properties\": \"copy=True\", \"primary_metric\": 0.85721181, \"best_metric\": 0.96909245}, {\"run_id\": \"AutoML_1d2a8642-b286-4f81-9bbc-4a9dadbd6b30_27\", \"run_number\": 32, \"metric\": null, \"status\": \"Completed\", \"run_type\": \"azureml.scriptrun\", \"training_percent\": \"100\", \"start_time\": \"2021-01-16T06:32:43.214263Z\", \"end_time\": \"2021-01-16T06:33:27.236612Z\", \"created_time\": \"2021-01-16T06:29:57.214208Z\", \"created_time_dt\": \"2021-01-16T06:29:57.214208Z\", \"duration\": \"0:03:30\", \"iteration\": \"27\", \"goal\": \"accuracy_max\", \"run_name\": \"SparseNormalizer, XGBoostClassifier\", \"run_properties\": \"<azureml.automl.runtime.shared.model_wrappers.SparseNormalizer object at 0x7fda2eeaacc0\", \"primary_metric\": 0.90085934, \"best_metric\": 0.96909245}, {\"run_id\": \"AutoML_1d2a8642-b286-4f81-9bbc-4a9dadbd6b30_28\", \"run_number\": 33, \"metric\": null, \"status\": \"Completed\", \"run_type\": \"azureml.scriptrun\", \"training_percent\": \"100\", \"start_time\": \"2021-01-16T06:32:42.534065Z\", \"end_time\": \"2021-01-16T06:33:28.722025Z\", \"created_time\": \"2021-01-16T06:30:44.920707Z\", \"created_time_dt\": \"2021-01-16T06:30:44.920707Z\", \"duration\": \"0:02:43\", \"iteration\": \"28\", \"goal\": \"accuracy_max\", \"run_name\": \"SparseNormalizer, XGBoostClassifier\", \"run_properties\": \"<azureml.automl.runtime.shared.model_wrappers.SparseNormalizer object at 0x7efce595efd0\", \"primary_metric\": 0.95507065, \"best_metric\": 0.96909245}, {\"run_id\": \"AutoML_1d2a8642-b286-4f81-9bbc-4a9dadbd6b30_29\", \"run_number\": 34, \"metric\": null, \"status\": \"Completed\", \"run_type\": \"azureml.scriptrun\", \"training_percent\": \"100\", \"start_time\": \"2021-01-16T06:33:04.579964Z\", \"end_time\": \"2021-01-16T06:34:01.41542Z\", \"created_time\": \"2021-01-16T06:31:35.327484Z\", \"created_time_dt\": \"2021-01-16T06:31:35.327484Z\", \"duration\": \"0:02:26\", \"iteration\": \"29\", \"goal\": \"accuracy_max\", \"run_name\": \"SparseNormalizer, XGBoostClassifier\", \"run_properties\": \"<azureml.automl.runtime.shared.model_wrappers.SparseNormalizer object at 0x7f77f78ce470\", \"primary_metric\": 0.96642631, \"best_metric\": 0.96909245}, {\"run_id\": \"AutoML_1d2a8642-b286-4f81-9bbc-4a9dadbd6b30_30\", \"run_number\": 35, \"metric\": null, \"status\": \"Completed\", \"run_type\": \"azureml.scriptrun\", \"training_percent\": \"100\", \"start_time\": \"2021-01-16T06:33:32.253143Z\", \"end_time\": \"2021-01-16T06:34:19.503311Z\", \"created_time\": \"2021-01-16T06:32:39.64977Z\", \"created_time_dt\": \"2021-01-16T06:32:39.64977Z\", \"duration\": \"0:01:39\", \"iteration\": \"30\", \"goal\": \"accuracy_max\", \"run_name\": \"StandardScalerWrapper, LightGBM\", \"run_properties\": \"<azureml.automl.runtime.shared.model_wrappers.StandardScalerWrapper object at 0x7fbfb17321d0\", \"primary_metric\": 0.96060037, \"best_metric\": 0.96909245}, {\"run_id\": \"AutoML_1d2a8642-b286-4f81-9bbc-4a9dadbd6b30_31\", \"run_number\": 36, \"metric\": null, \"status\": \"Completed\", \"run_type\": \"azureml.scriptrun\", \"training_percent\": \"100\", \"start_time\": \"2021-01-16T06:33:53.361249Z\", \"end_time\": \"2021-01-16T06:34:40.677823Z\", \"created_time\": \"2021-01-16T06:32:43.704746Z\", \"created_time_dt\": \"2021-01-16T06:32:43.704746Z\", \"duration\": \"0:01:56\", \"iteration\": \"31\", \"goal\": \"accuracy_max\", \"run_name\": \"SparseNormalizer, LightGBM\", \"run_properties\": \"<azureml.automl.runtime.shared.model_wrappers.SparseNormalizer object at 0x7f8d6540c898\", \"primary_metric\": 0.96089661, \"best_metric\": 0.96909245}, {\"run_id\": \"AutoML_1d2a8642-b286-4f81-9bbc-4a9dadbd6b30_32\", \"run_number\": 37, \"metric\": null, \"status\": \"Completed\", \"run_type\": \"azureml.scriptrun\", \"training_percent\": \"100\", \"start_time\": \"2021-01-16T06:34:22.986158Z\", \"end_time\": \"2021-01-16T06:35:28.571046Z\", \"created_time\": \"2021-01-16T06:33:29.483788Z\", \"created_time_dt\": \"2021-01-16T06:33:29.483788Z\", \"duration\": \"0:01:59\", \"iteration\": \"32\", \"goal\": \"accuracy_max\", \"run_name\": \"SparseNormalizer, XGBoostClassifier\", \"run_properties\": \"<azureml.automl.runtime.shared.model_wrappers.SparseNormalizer object at 0x7f6e25321710\", \"primary_metric\": 0.96613016, \"best_metric\": 0.96909245}, {\"run_id\": \"AutoML_1d2a8642-b286-4f81-9bbc-4a9dadbd6b30_33\", \"run_number\": 38, \"metric\": null, \"status\": \"Completed\", \"run_type\": \"azureml.scriptrun\", \"training_percent\": \"100\", \"start_time\": \"2021-01-16T06:34:42.91844Z\", \"end_time\": \"2021-01-16T06:35:31.592786Z\", \"created_time\": \"2021-01-16T06:33:45.136052Z\", \"created_time_dt\": \"2021-01-16T06:33:45.136052Z\", \"duration\": \"0:01:46\", \"iteration\": \"33\", \"goal\": \"accuracy_max\", \"run_name\": \"SparseNormalizer, XGBoostClassifier\", \"run_properties\": \"<azureml.automl.runtime.shared.model_wrappers.SparseNormalizer object at 0x7f50f00db4a8\", \"primary_metric\": 0.95516953, \"best_metric\": 0.96909245}, {\"run_id\": \"AutoML_1d2a8642-b286-4f81-9bbc-4a9dadbd6b30_34\", \"run_number\": 39, \"metric\": null, \"status\": \"Canceled\", \"run_type\": \"azureml.scriptrun\", \"training_percent\": \"100\", \"start_time\": \"2021-01-16T06:35:29.148505Z\", \"end_time\": \"2021-01-16T06:35:51.571341Z\", \"created_time\": \"2021-01-16T06:34:03.539567Z\", \"created_time_dt\": \"2021-01-16T06:34:03.539567Z\", \"duration\": \"0:01:48\", \"iteration\": \"34\", \"goal\": null, \"run_name\": \"Canceled\", \"run_properties\": null}, {\"run_id\": \"AutoML_1d2a8642-b286-4f81-9bbc-4a9dadbd6b30_35\", \"run_number\": 40, \"metric\": null, \"status\": \"Canceled\", \"run_type\": \"azureml.scriptrun\", \"training_percent\": \"100\", \"start_time\": \"2021-01-16T06:35:29.574353Z\", \"end_time\": \"2021-01-16T06:35:54.003607Z\", \"created_time\": \"2021-01-16T06:34:22.551144Z\", \"created_time_dt\": \"2021-01-16T06:34:22.551144Z\", \"duration\": \"0:01:31\", \"iteration\": \"35\", \"goal\": null, \"run_name\": \"MaxAbsScaler, LightGBM\", \"run_properties\": null}, {\"run_id\": \"AutoML_1d2a8642-b286-4f81-9bbc-4a9dadbd6b30_36\", \"run_number\": 41, \"metric\": null, \"status\": \"Canceled\", \"run_type\": \"azureml.scriptrun\", \"training_percent\": \"100\", \"start_time\": \"2021-01-16T06:35:32.531015Z\", \"end_time\": \"2021-01-16T06:35:51.961276Z\", \"created_time\": \"2021-01-16T06:34:43.041259Z\", \"created_time_dt\": \"2021-01-16T06:34:43.041259Z\", \"duration\": \"0:01:08\", \"iteration\": \"36\", \"goal\": null, \"run_name\": \"Canceled\", \"run_properties\": null}, {\"run_id\": \"AutoML_1d2a8642-b286-4f81-9bbc-4a9dadbd6b30_37\", \"run_number\": 42, \"metric\": null, \"status\": \"Canceled\", \"run_type\": \"azureml.scriptrun\", \"training_percent\": \"100\", \"start_time\": \"2021-01-16T06:35:30.866894Z\", \"end_time\": \"2021-01-16T06:35:57.703527Z\", \"created_time\": \"2021-01-16T06:35:30.866894Z\", \"created_time_dt\": \"2021-01-16T06:35:30.866894Z\", \"duration\": \"0:00:26\", \"iteration\": \"37\", \"goal\": null, \"run_name\": \"Canceled\", \"run_properties\": null}, {\"run_id\": \"AutoML_1d2a8642-b286-4f81-9bbc-4a9dadbd6b30_38\", \"run_number\": 43, \"metric\": null, \"status\": \"Completed\", \"run_type\": \"azureml.scriptrun\", \"training_percent\": \"100\", \"start_time\": \"2021-01-16T06:36:12.110802Z\", \"end_time\": \"2021-01-16T06:37:32.721267Z\", \"created_time\": \"2021-01-16T06:35:58.870015Z\", \"created_time_dt\": \"2021-01-16T06:35:58.870015Z\", \"duration\": \"0:01:33\", \"iteration\": \"38\", \"goal\": \"accuracy_max\", \"run_name\": \"VotingEnsemble\", \"run_properties\": \"classification_labels=None,\\n                              estimators=[('0',\\n                                           Pipeline(memory=None,\\n                                                    steps=[('maxabsscaler',\\n                                                            MaxAbsScaler(copy=True\", \"primary_metric\": 0.97057364, \"best_metric\": 0.97057364}, {\"run_id\": \"AutoML_1d2a8642-b286-4f81-9bbc-4a9dadbd6b30_39\", \"run_number\": 44, \"metric\": null, \"status\": \"Completed\", \"run_type\": \"azureml.scriptrun\", \"training_percent\": \"100\", \"start_time\": \"2021-01-16T06:36:12.122652Z\", \"end_time\": \"2021-01-16T06:37:34.399206Z\", \"created_time\": \"2021-01-16T06:35:59.049883Z\", \"created_time_dt\": \"2021-01-16T06:35:59.049883Z\", \"duration\": \"0:01:35\", \"iteration\": \"39\", \"goal\": \"accuracy_max\", \"run_name\": \"StackEnsemble\", \"run_properties\": \"base_learners=[('0',\\n                                        Pipeline(memory=None,\\n                                                 steps=[('maxabsscaler',\\n                                                         MaxAbsScaler(copy=True\", \"primary_metric\": 0.96958627, \"best_metric\": 0.97057364}], \"children_metrics\": {\"categories\": [0], \"series\": {\"matthews_correlation\": [{\"categories\": [\"0\", \"1\", \"2\", \"3\", \"4\", \"5\", \"6\", \"7\", \"8\", \"9\", \"10\", \"11\", \"12\", \"13\", \"14\", \"15\", \"16\", \"17\", \"18\", \"19\", \"20\", \"21\", \"22\", \"23\", \"24\", \"25\", \"26\", \"27\", \"28\", \"29\", \"30\", \"31\", \"32\", \"33\", \"38\", \"39\"], \"mode\": \"markers\", \"name\": \"matthews_correlation\", \"stepped\": false, \"type\": \"scatter\", \"data\": [0.8832585968336769, 0.8477668255350471, 0.3764786699764125, 0.09825637553123075, 0.5796525464232237, 0.4527992675189787, 0.7604818253412797, 0.8651281206898161, 0.8289587486195424, 0.8710946515858794, 0.7054638044033635, 0.8469255855800454, 0.5504008000693412, 0.5705745303342978, 0.6467468994411427, 0.5739508387067328, 0.3603207788619253, 0.8780854850795135, 0.6242852102019257, 0.7418597531370343, 0.6601176020476732, 0.3809036663871436, 0.8307668841114829, 0.6468469806142142, 0.8259093211176998, 0.2637324802769625, 0.2846608579362872, 0.5831088400716552, 0.8275518543561523, 0.8724830533908284, 0.8510052301061511, 0.8507128073525573, 0.8712160742247512, 0.8262540283530742, 0.8885942105651785, 0.8849977996078584]}, {\"categories\": [\"0\", \"1\", \"2\", \"3\", \"4\", \"5\", \"6\", \"7\", \"8\", \"9\", \"10\", \"11\", \"12\", \"13\", \"14\", \"15\", \"16\", \"17\", \"18\", \"19\", \"20\", \"21\", \"22\", \"23\", \"24\", \"25\", \"26\", \"27\", \"28\", \"29\", \"30\", \"31\", \"32\", \"33\", \"38\", \"39\"], \"mode\": \"lines\", \"name\": \"matthews_correlation_max\", \"stepped\": true, \"type\": \"scatter\", \"data\": [0.8832585968336769, 0.8832585968336769, 0.8832585968336769, 0.8832585968336769, 0.8832585968336769, 0.8832585968336769, 0.8832585968336769, 0.8832585968336769, 0.8832585968336769, 0.8832585968336769, 0.8832585968336769, 0.8832585968336769, 0.8832585968336769, 0.8832585968336769, 0.8832585968336769, 0.8832585968336769, 0.8832585968336769, 0.8832585968336769, 0.8832585968336769, 0.8832585968336769, 0.8832585968336769, 0.8832585968336769, 0.8832585968336769, 0.8832585968336769, 0.8832585968336769, 0.8832585968336769, 0.8832585968336769, 0.8832585968336769, 0.8832585968336769, 0.8832585968336769, 0.8832585968336769, 0.8832585968336769, 0.8832585968336769, 0.8832585968336769, 0.8885942105651785, 0.8885942105651785]}], \"f1_score_macro\": [{\"categories\": [\"0\", \"1\", \"2\", \"3\", \"4\", \"5\", \"6\", \"7\", \"8\", \"9\", \"10\", \"11\", \"12\", \"13\", \"14\", \"15\", \"16\", \"17\", \"18\", \"19\", \"20\", \"21\", \"22\", \"23\", \"24\", \"25\", \"26\", \"27\", \"28\", \"29\", \"30\", \"31\", \"32\", \"33\", \"38\", \"39\"], \"mode\": \"markers\", \"name\": \"f1_score_macro\", \"stepped\": false, \"type\": \"scatter\", \"data\": [0.9413440452905671, 0.9227973818311415, 0.6154144428235678, 0.47692914791172597, 0.770204781594776, 0.6830963827629605, 0.8756358519315164, 0.9315234400928148, 0.9134434536115066, 0.9348458020351345, 0.8462332377717262, 0.9232036216085389, 0.765956696010902, 0.7671426447009342, 0.8190583135189277, 0.7630632779711884, 0.5988012559540382, 0.9385002518200786, 0.8040028406980338, 0.8656529177778539, 0.821790196685383, 0.614626689092416, 0.9148516140750386, 0.8204545914120467, 0.9116298823032892, 0.5468668324460705, 0.5784256915475251, 0.7743748591301013, 0.912651033179012, 0.9357146553422684, 0.9251524482305994, 0.9245871211758354, 0.935023732713705, 0.9105714243552336, 0.9438882284359965, 0.9421565428954027]}, {\"categories\": [\"0\", \"1\", \"2\", \"3\", \"4\", \"5\", \"6\", \"7\", \"8\", \"9\", \"10\", \"11\", \"12\", \"13\", \"14\", \"15\", \"16\", \"17\", \"18\", \"19\", \"20\", \"21\", \"22\", \"23\", \"24\", \"25\", \"26\", \"27\", \"28\", \"29\", \"30\", \"31\", \"32\", \"33\", \"38\", \"39\"], \"mode\": \"lines\", \"name\": \"f1_score_macro_max\", \"stepped\": true, \"type\": \"scatter\", \"data\": [0.9413440452905671, 0.9413440452905671, 0.9413440452905671, 0.9413440452905671, 0.9413440452905671, 0.9413440452905671, 0.9413440452905671, 0.9413440452905671, 0.9413440452905671, 0.9413440452905671, 0.9413440452905671, 0.9413440452905671, 0.9413440452905671, 0.9413440452905671, 0.9413440452905671, 0.9413440452905671, 0.9413440452905671, 0.9413440452905671, 0.9413440452905671, 0.9413440452905671, 0.9413440452905671, 0.9413440452905671, 0.9413440452905671, 0.9413440452905671, 0.9413440452905671, 0.9413440452905671, 0.9413440452905671, 0.9413440452905671, 0.9413440452905671, 0.9413440452905671, 0.9413440452905671, 0.9413440452905671, 0.9413440452905671, 0.9413440452905671, 0.9438882284359965, 0.9438882284359965]}], \"precision_score_micro\": [{\"categories\": [\"0\", \"1\", \"2\", \"3\", \"4\", \"5\", \"6\", \"7\", \"8\", \"9\", \"10\", \"11\", \"12\", \"13\", \"14\", \"15\", \"16\", \"17\", \"18\", \"19\", \"20\", \"21\", \"22\", \"23\", \"24\", \"25\", \"26\", \"27\", \"28\", \"29\", \"30\", \"31\", \"32\", \"33\", \"38\", \"39\"], \"mode\": \"markers\", \"name\": \"precision_score_micro\", \"stepped\": false, \"type\": \"scatter\", \"data\": [0.9690924463167749, 0.9603042829559417, 0.8661985547949212, 0.8422034111520683, 0.8443782692645252, 0.7576799777660757, 0.9393703703703703, 0.964747791235153, 0.9552678895325025, 0.9661300684570827, 0.9265331753554502, 0.9595144520507869, 0.8917746474752793, 0.8981928207828682, 0.9117209642501902, 0.8992786261775203, 0.8639278567667192, 0.9679075244280616, 0.9079688139956703, 0.9348276578316073, 0.9160659411386108, 0.8666923234450881, 0.9555644783804341, 0.9109308700485635, 0.9547745011994616, 0.8538543092855889, 0.8572118073840033, 0.9008593411737172, 0.9550706512199404, 0.9664263062430519, 0.9606003744660933, 0.9608966122520625, 0.9661301562225733, 0.9551695336726933, 0.970573635246621, 0.9695862734772688]}, {\"categories\": [\"0\", \"1\", \"2\", \"3\", \"4\", \"5\", \"6\", \"7\", \"8\", \"9\", \"10\", \"11\", \"12\", \"13\", \"14\", \"15\", \"16\", \"17\", \"18\", \"19\", \"20\", \"21\", \"22\", \"23\", \"24\", \"25\", \"26\", \"27\", \"28\", \"29\", \"30\", \"31\", \"32\", \"33\", \"38\", \"39\"], \"mode\": \"lines\", \"name\": \"precision_score_micro_max\", \"stepped\": true, \"type\": \"scatter\", \"data\": [0.9690924463167749, 0.9690924463167749, 0.9690924463167749, 0.9690924463167749, 0.9690924463167749, 0.9690924463167749, 0.9690924463167749, 0.9690924463167749, 0.9690924463167749, 0.9690924463167749, 0.9690924463167749, 0.9690924463167749, 0.9690924463167749, 0.9690924463167749, 0.9690924463167749, 0.9690924463167749, 0.9690924463167749, 0.9690924463167749, 0.9690924463167749, 0.9690924463167749, 0.9690924463167749, 0.9690924463167749, 0.9690924463167749, 0.9690924463167749, 0.9690924463167749, 0.9690924463167749, 0.9690924463167749, 0.9690924463167749, 0.9690924463167749, 0.9690924463167749, 0.9690924463167749, 0.9690924463167749, 0.9690924463167749, 0.9690924463167749, 0.970573635246621, 0.970573635246621]}], \"average_precision_score_micro\": [{\"categories\": [\"0\", \"1\", \"2\", \"3\", \"4\", \"5\", \"6\", \"7\", \"8\", \"9\", \"10\", \"11\", \"12\", \"13\", \"14\", \"15\", \"16\", \"17\", \"18\", \"19\", \"20\", \"21\", \"22\", \"23\", \"24\", \"25\", \"26\", \"27\", \"28\", \"29\", \"30\", \"31\", \"32\", \"33\", \"38\", \"39\"], \"mode\": \"markers\", \"name\": \"average_precision_score_micro\", \"stepped\": false, \"type\": \"scatter\", \"data\": [0.9959695159351701, 0.9940395247952728, 0.956168539949561, 0.9462469167417686, 0.9281812634595146, 0.8808867464809719, 0.9868251624716543, 0.9950718081291913, 0.9913929490917749, 0.9951254935036243, 0.9807982345496993, 0.9931876773767853, 0.9567922101946431, 0.9689229234897866, 0.9688807927304501, 0.970346824384673, 0.9600895338894406, 0.995616664481231, 0.9691774382408807, 0.9842917064205302, 0.9767408679066308, 0.9658295589477213, 0.9924719649452044, 0.9694438336905292, 0.9925787233797302, 0.9573050006246281, 0.9464961402704538, 0.9593948324301237, 0.9918317324404127, 0.9952818477916513, 0.9935441105221448, 0.9940293136561854, 0.9952617371969629, 0.9925146058188203, 0.9957372256726953, 0.995437776782087]}, {\"categories\": [\"0\", \"1\", \"2\", \"3\", \"4\", \"5\", \"6\", \"7\", \"8\", \"9\", \"10\", \"11\", \"12\", \"13\", \"14\", \"15\", \"16\", \"17\", \"18\", \"19\", \"20\", \"21\", \"22\", \"23\", \"24\", \"25\", \"26\", \"27\", \"28\", \"29\", \"30\", \"31\", \"32\", \"33\", \"38\", \"39\"], \"mode\": \"lines\", \"name\": \"average_precision_score_micro_max\", \"stepped\": true, \"type\": \"scatter\", \"data\": [0.9959695159351701, 0.9959695159351701, 0.9959695159351701, 0.9959695159351701, 0.9959695159351701, 0.9959695159351701, 0.9959695159351701, 0.9959695159351701, 0.9959695159351701, 0.9959695159351701, 0.9959695159351701, 0.9959695159351701, 0.9959695159351701, 0.9959695159351701, 0.9959695159351701, 0.9959695159351701, 0.9959695159351701, 0.9959695159351701, 0.9959695159351701, 0.9959695159351701, 0.9959695159351701, 0.9959695159351701, 0.9959695159351701, 0.9959695159351701, 0.9959695159351701, 0.9959695159351701, 0.9959695159351701, 0.9959695159351701, 0.9959695159351701, 0.9959695159351701, 0.9959695159351701, 0.9959695159351701, 0.9959695159351701, 0.9959695159351701, 0.9959695159351701, 0.9959695159351701]}], \"f1_score_micro\": [{\"categories\": [\"0\", \"1\", \"2\", \"3\", \"4\", \"5\", \"6\", \"7\", \"8\", \"9\", \"10\", \"11\", \"12\", \"13\", \"14\", \"15\", \"16\", \"17\", \"18\", \"19\", \"20\", \"21\", \"22\", \"23\", \"24\", \"25\", \"26\", \"27\", \"28\", \"29\", \"30\", \"31\", \"32\", \"33\", \"38\", \"39\"], \"mode\": \"markers\", \"name\": \"f1_score_micro\", \"stepped\": false, \"type\": \"scatter\", \"data\": [0.9690924463167749, 0.9603042829559417, 0.8661985547949212, 0.8422034111520683, 0.8443782692645252, 0.7576799777660757, 0.9393703703703703, 0.964747791235153, 0.9552678895325025, 0.9661300684570827, 0.9265331753554502, 0.9595144520507869, 0.8917746474752795, 0.8981928207828682, 0.9117209642501902, 0.8992786261775203, 0.8639278567667192, 0.9679075244280616, 0.9079688139956702, 0.9348276578316073, 0.9160659411386108, 0.8666923234450881, 0.9555644783804341, 0.9109308700485635, 0.9547745011994616, 0.8538543092855889, 0.8572118073840033, 0.9008593411737172, 0.9550706512199404, 0.9664263062430519, 0.9606003744660933, 0.9608966122520625, 0.9661301562225733, 0.9551695336726933, 0.970573635246621, 0.9695862734772688]}, {\"categories\": [\"0\", \"1\", \"2\", \"3\", \"4\", \"5\", \"6\", \"7\", \"8\", \"9\", \"10\", \"11\", \"12\", \"13\", \"14\", \"15\", \"16\", \"17\", \"18\", \"19\", \"20\", \"21\", \"22\", \"23\", \"24\", \"25\", \"26\", \"27\", \"28\", \"29\", \"30\", \"31\", \"32\", \"33\", \"38\", \"39\"], \"mode\": \"lines\", \"name\": \"f1_score_micro_max\", \"stepped\": true, \"type\": \"scatter\", \"data\": [0.9690924463167749, 0.9690924463167749, 0.9690924463167749, 0.9690924463167749, 0.9690924463167749, 0.9690924463167749, 0.9690924463167749, 0.9690924463167749, 0.9690924463167749, 0.9690924463167749, 0.9690924463167749, 0.9690924463167749, 0.9690924463167749, 0.9690924463167749, 0.9690924463167749, 0.9690924463167749, 0.9690924463167749, 0.9690924463167749, 0.9690924463167749, 0.9690924463167749, 0.9690924463167749, 0.9690924463167749, 0.9690924463167749, 0.9690924463167749, 0.9690924463167749, 0.9690924463167749, 0.9690924463167749, 0.9690924463167749, 0.9690924463167749, 0.9690924463167749, 0.9690924463167749, 0.9690924463167749, 0.9690924463167749, 0.9690924463167749, 0.970573635246621, 0.970573635246621]}], \"f1_score_weighted\": [{\"categories\": [\"0\", \"1\", \"2\", \"3\", \"4\", \"5\", \"6\", \"7\", \"8\", \"9\", \"10\", \"11\", \"12\", \"13\", \"14\", \"15\", \"16\", \"17\", \"18\", \"19\", \"20\", \"21\", \"22\", \"23\", \"24\", \"25\", \"26\", \"27\", \"28\", \"29\", \"30\", \"31\", \"32\", \"33\", \"38\", \"39\"], \"mode\": \"markers\", \"name\": \"f1_score_weighted\", \"stepped\": false, \"type\": \"scatter\", \"data\": [0.9687295920410595, 0.959335006463559, 0.8260847887566719, 0.7736544092530653, 0.8588227499270281, 0.7873057722831, 0.936124402501045, 0.9639119242669937, 0.9542740612996686, 0.9654932737458966, 0.9216976939943408, 0.9590906479392856, 0.8824529892329935, 0.8857033748115626, 0.906950482293122, 0.8849338793563856, 0.8202223447985039, 0.9673655453831742, 0.9009140734064971, 0.9310904315531374, 0.9097541157186751, 0.8260878745396708, 0.954832656321822, 0.9069642375025161, 0.9535553524177742, 0.7995357024393805, 0.810416156435631, 0.8890918877259247, 0.953981505977398, 0.9658735477230908, 0.9601208992960251, 0.960111725371528, 0.9655398288434339, 0.9534587163756667, 0.9701513476750437, 0.9692032750016298]}, {\"categories\": [\"0\", \"1\", \"2\", \"3\", \"4\", \"5\", \"6\", \"7\", \"8\", \"9\", \"10\", \"11\", \"12\", \"13\", \"14\", \"15\", \"16\", \"17\", \"18\", \"19\", \"20\", \"21\", \"22\", \"23\", \"24\", \"25\", \"26\", \"27\", \"28\", \"29\", \"30\", \"31\", \"32\", \"33\", \"38\", \"39\"], \"mode\": \"lines\", \"name\": \"f1_score_weighted_max\", \"stepped\": true, \"type\": \"scatter\", \"data\": [0.9687295920410595, 0.9687295920410595, 0.9687295920410595, 0.9687295920410595, 0.9687295920410595, 0.9687295920410595, 0.9687295920410595, 0.9687295920410595, 0.9687295920410595, 0.9687295920410595, 0.9687295920410595, 0.9687295920410595, 0.9687295920410595, 0.9687295920410595, 0.9687295920410595, 0.9687295920410595, 0.9687295920410595, 0.9687295920410595, 0.9687295920410595, 0.9687295920410595, 0.9687295920410595, 0.9687295920410595, 0.9687295920410595, 0.9687295920410595, 0.9687295920410595, 0.9687295920410595, 0.9687295920410595, 0.9687295920410595, 0.9687295920410595, 0.9687295920410595, 0.9687295920410595, 0.9687295920410595, 0.9687295920410595, 0.9687295920410595, 0.9701513476750437, 0.9701513476750437]}], \"weighted_accuracy\": [{\"categories\": [\"0\", \"1\", \"2\", \"3\", \"4\", \"5\", \"6\", \"7\", \"8\", \"9\", \"10\", \"11\", \"12\", \"13\", \"14\", \"15\", \"16\", \"17\", \"18\", \"19\", \"20\", \"21\", \"22\", \"23\", \"24\", \"25\", \"26\", \"27\", \"28\", \"29\", \"30\", \"31\", \"32\", \"33\", \"38\", \"39\"], \"mode\": \"markers\", \"name\": \"weighted_accuracy\", \"stepped\": false, \"type\": \"scatter\", \"data\": [0.9830073442583588, 0.9810769896365579, 0.9682005599451543, 0.9647778072024097, 0.8427581550928237, 0.7444711912395223, 0.9754756185980206, 0.9839831993499796, 0.9770163619147145, 0.9833632490354275, 0.9699772656561233, 0.9761450608677071, 0.9511203243047893, 0.9633476787785912, 0.956696463753078, 0.9679686797962445, 0.9691127358295102, 0.98393825236698, 0.9600060204191697, 0.9733454888291962, 0.9650760795498359, 0.9691418454806882, 0.9753523422425602, 0.9534938981926376, 0.9781140617387107, 0.9667023621400999, 0.9622632624403692, 0.9645081732260632, 0.9775358818479685, 0.9827834020244589, 0.9772833979789839, 0.980192039824292, 0.9829022261693788, 0.9817836904329328, 0.9848904667827686, 0.983667651010717]}, {\"categories\": [\"0\", \"1\", \"2\", \"3\", \"4\", \"5\", \"6\", \"7\", \"8\", \"9\", \"10\", \"11\", \"12\", \"13\", \"14\", \"15\", \"16\", \"17\", \"18\", \"19\", \"20\", \"21\", \"22\", \"23\", \"24\", \"25\", \"26\", \"27\", \"28\", \"29\", \"30\", \"31\", \"32\", \"33\", \"38\", \"39\"], \"mode\": \"lines\", \"name\": \"weighted_accuracy_max\", \"stepped\": true, \"type\": \"scatter\", \"data\": [0.9830073442583588, 0.9830073442583588, 0.9830073442583588, 0.9830073442583588, 0.9830073442583588, 0.9830073442583588, 0.9830073442583588, 0.9839831993499796, 0.9839831993499796, 0.9839831993499796, 0.9839831993499796, 0.9839831993499796, 0.9839831993499796, 0.9839831993499796, 0.9839831993499796, 0.9839831993499796, 0.9839831993499796, 0.9839831993499796, 0.9839831993499796, 0.9839831993499796, 0.9839831993499796, 0.9839831993499796, 0.9839831993499796, 0.9839831993499796, 0.9839831993499796, 0.9839831993499796, 0.9839831993499796, 0.9839831993499796, 0.9839831993499796, 0.9839831993499796, 0.9839831993499796, 0.9839831993499796, 0.9839831993499796, 0.9839831993499796, 0.9848904667827686, 0.9848904667827686]}], \"norm_macro_recall\": [{\"categories\": [\"0\", \"1\", \"2\", \"3\", \"4\", \"5\", \"6\", \"7\", \"8\", \"9\", \"10\", \"11\", \"12\", \"13\", \"14\", \"15\", \"16\", \"17\", \"18\", \"19\", \"20\", \"21\", \"22\", \"23\", \"24\", \"25\", \"26\", \"27\", \"28\", \"29\", \"30\", \"31\", \"32\", \"33\", \"38\", \"39\"], \"mode\": \"markers\", \"name\": \"norm_macro_recall\", \"stepped\": false, \"type\": \"scatter\", \"data\": [0.8628086832654799, 0.8080242199286163, 0.18017754913901504, 0.020104386538644325, 0.6986589277035818, 0.5884448031843413, 0.6828702115181914, 0.8251988677349185, 0.7929807822795952, 0.8389481878945576, 0.6175752717567934, 0.8288642944056267, 0.4621820526068296, 0.44357410575327677, 0.5800084217477616, 0.4268959886824288, 0.1577112864711566, 0.8489665427211692, 0.5342009508103654, 0.6612134042223544, 0.5671589950493038, 0.17857968800875934, 0.8040223372899918, 0.5914094498256611, 0.7831502237359631, 0.09763359227311834, 0.14772021470396512, 0.4566989296015093, 0.7885192427263341, 0.8443474869482452, 0.8309153819434609, 0.8173649147078889, 0.8415120745258728, 0.7660977954158071, 0.8636472661796781, 0.8629812807671419]}, {\"categories\": [\"0\", \"1\", \"2\", \"3\", \"4\", \"5\", \"6\", \"7\", \"8\", \"9\", \"10\", \"11\", \"12\", \"13\", \"14\", \"15\", \"16\", \"17\", \"18\", \"19\", \"20\", \"21\", \"22\", \"23\", \"24\", \"25\", \"26\", \"27\", \"28\", \"29\", \"30\", \"31\", \"32\", \"33\", \"38\", \"39\"], \"mode\": \"lines\", \"name\": \"norm_macro_recall_max\", \"stepped\": true, \"type\": \"scatter\", \"data\": [0.8628086832654799, 0.8628086832654799, 0.8628086832654799, 0.8628086832654799, 0.8628086832654799, 0.8628086832654799, 0.8628086832654799, 0.8628086832654799, 0.8628086832654799, 0.8628086832654799, 0.8628086832654799, 0.8628086832654799, 0.8628086832654799, 0.8628086832654799, 0.8628086832654799, 0.8628086832654799, 0.8628086832654799, 0.8628086832654799, 0.8628086832654799, 0.8628086832654799, 0.8628086832654799, 0.8628086832654799, 0.8628086832654799, 0.8628086832654799, 0.8628086832654799, 0.8628086832654799, 0.8628086832654799, 0.8628086832654799, 0.8628086832654799, 0.8628086832654799, 0.8628086832654799, 0.8628086832654799, 0.8628086832654799, 0.8628086832654799, 0.8636472661796781, 0.8636472661796781]}], \"AUC_weighted\": [{\"categories\": [\"0\", \"1\", \"2\", \"3\", \"4\", \"5\", \"6\", \"7\", \"8\", \"9\", \"10\", \"11\", \"12\", \"13\", \"14\", \"15\", \"16\", \"17\", \"18\", \"19\", \"20\", \"21\", \"22\", \"23\", \"24\", \"25\", \"26\", \"27\", \"28\", \"29\", \"30\", \"31\", \"32\", \"33\", \"38\", \"39\"], \"mode\": \"markers\", \"name\": \"AUC_weighted\", \"stepped\": false, \"type\": \"scatter\", \"data\": [0.9920575780918782, 0.9888548014173875, 0.921377717983733, 0.8968131423753581, 0.9245204194320671, 0.8881080817694431, 0.9758529616679343, 0.9907526729577789, 0.9825238154189558, 0.9907405862997501, 0.9612762795597621, 0.9866454574166547, 0.9095383964939634, 0.9449714967868353, 0.930403427773892, 0.9509897812171021, 0.935149826864185, 0.9916242395261344, 0.9344450604863305, 0.9707975473824139, 0.9528216367959389, 0.9543624037597075, 0.9855239929020256, 0.931813639686338, 0.9864645529442809, 0.9281376282331589, 0.8904350016371597, 0.9163788836829408, 0.9835685519083815, 0.9908753169862018, 0.9875030903443011, 0.9887274622260062, 0.9908934355236555, 0.986817923875731, 0.9917135679273031, 0.9912736782162103]}, {\"categories\": [\"0\", \"1\", \"2\", \"3\", \"4\", \"5\", \"6\", \"7\", \"8\", \"9\", \"10\", \"11\", \"12\", \"13\", \"14\", \"15\", \"16\", \"17\", \"18\", \"19\", \"20\", \"21\", \"22\", \"23\", \"24\", \"25\", \"26\", \"27\", \"28\", \"29\", \"30\", \"31\", \"32\", \"33\", \"38\", \"39\"], \"mode\": \"lines\", \"name\": \"AUC_weighted_max\", \"stepped\": true, \"type\": \"scatter\", \"data\": [0.9920575780918782, 0.9920575780918782, 0.9920575780918782, 0.9920575780918782, 0.9920575780918782, 0.9920575780918782, 0.9920575780918782, 0.9920575780918782, 0.9920575780918782, 0.9920575780918782, 0.9920575780918782, 0.9920575780918782, 0.9920575780918782, 0.9920575780918782, 0.9920575780918782, 0.9920575780918782, 0.9920575780918782, 0.9920575780918782, 0.9920575780918782, 0.9920575780918782, 0.9920575780918782, 0.9920575780918782, 0.9920575780918782, 0.9920575780918782, 0.9920575780918782, 0.9920575780918782, 0.9920575780918782, 0.9920575780918782, 0.9920575780918782, 0.9920575780918782, 0.9920575780918782, 0.9920575780918782, 0.9920575780918782, 0.9920575780918782, 0.9920575780918782, 0.9920575780918782]}], \"recall_score_macro\": [{\"categories\": [\"0\", \"1\", \"2\", \"3\", \"4\", \"5\", \"6\", \"7\", \"8\", \"9\", \"10\", \"11\", \"12\", \"13\", \"14\", \"15\", \"16\", \"17\", \"18\", \"19\", \"20\", \"21\", \"22\", \"23\", \"24\", \"25\", \"26\", \"27\", \"28\", \"29\", \"30\", \"31\", \"32\", \"33\", \"38\", \"39\"], \"mode\": \"markers\", \"name\": \"recall_score_macro\", \"stepped\": false, \"type\": \"scatter\", \"data\": [0.9314043416327399, 0.9040121099643081, 0.5900887745695075, 0.5100521932693222, 0.8493294638517909, 0.7942224015921706, 0.8414351057590957, 0.9125994338674591, 0.8964903911397976, 0.9194740939472789, 0.8087876358783967, 0.9144321472028133, 0.7310910263034147, 0.7217870528766385, 0.7900042108738807, 0.7134479943412143, 0.5788556432355783, 0.9244832713605846, 0.7671004754051828, 0.8306067021111773, 0.7835794975246518, 0.5892898440043797, 0.902011168644996, 0.7957047249128305, 0.8915751118679816, 0.5488167961365592, 0.5738601073519826, 0.7283494648007546, 0.8942596213631671, 0.9221737434741226, 0.9154576909717305, 0.9086824573539444, 0.9207560372629363, 0.8830488977079036, 0.9318236330898392, 0.9314906403835709]}, {\"categories\": [\"0\", \"1\", \"2\", \"3\", \"4\", \"5\", \"6\", \"7\", \"8\", \"9\", \"10\", \"11\", \"12\", \"13\", \"14\", \"15\", \"16\", \"17\", \"18\", \"19\", \"20\", \"21\", \"22\", \"23\", \"24\", \"25\", \"26\", \"27\", \"28\", \"29\", \"30\", \"31\", \"32\", \"33\", \"38\", \"39\"], \"mode\": \"lines\", \"name\": \"recall_score_macro_max\", \"stepped\": true, \"type\": \"scatter\", \"data\": [0.9314043416327399, 0.9314043416327399, 0.9314043416327399, 0.9314043416327399, 0.9314043416327399, 0.9314043416327399, 0.9314043416327399, 0.9314043416327399, 0.9314043416327399, 0.9314043416327399, 0.9314043416327399, 0.9314043416327399, 0.9314043416327399, 0.9314043416327399, 0.9314043416327399, 0.9314043416327399, 0.9314043416327399, 0.9314043416327399, 0.9314043416327399, 0.9314043416327399, 0.9314043416327399, 0.9314043416327399, 0.9314043416327399, 0.9314043416327399, 0.9314043416327399, 0.9314043416327399, 0.9314043416327399, 0.9314043416327399, 0.9314043416327399, 0.9314043416327399, 0.9314043416327399, 0.9314043416327399, 0.9314043416327399, 0.9314043416327399, 0.9318236330898392, 0.9318236330898392]}], \"precision_score_weighted\": [{\"categories\": [\"0\", \"1\", \"2\", \"3\", \"4\", \"5\", \"6\", \"7\", \"8\", \"9\", \"10\", \"11\", \"12\", \"13\", \"14\", \"15\", \"16\", \"17\", \"18\", \"19\", \"20\", \"21\", \"22\", \"23\", \"24\", \"25\", \"26\", \"27\", \"28\", \"29\", \"30\", \"31\", \"32\", \"33\", \"38\", \"39\"], \"mode\": \"markers\", \"name\": \"precision_score_weighted\", \"stepped\": false, \"type\": \"scatter\", \"data\": [0.968675144993376, 0.9595392927993626, 0.8744629116750708, 0.8055485106754015, 0.8955255968150507, 0.8698713918475417, 0.9378609414128651, 0.9641992996300672, 0.9544061012265962, 0.9656160736682167, 0.9239076865128495, 0.9589489554003872, 0.8831778810531973, 0.8930898771084369, 0.9068684596915711, 0.8969946964390877, 0.8775941208540584, 0.9674097943369739, 0.9027208244391364, 0.933093526854938, 0.9124908322172715, 0.8780459499850185, 0.9546802795679525, 0.9062151016712394, 0.953771922007987, 0.8682241413790739, 0.8484199832311097, 0.8960807555567798, 0.9541129827353346, 0.9658932066183342, 0.9600209647615964, 0.9601627034566019, 0.9655846742954385, 0.9545128688663952, 0.9701719614752977, 0.9691928328564807]}, {\"categories\": [\"0\", \"1\", \"2\", \"3\", \"4\", \"5\", \"6\", \"7\", \"8\", \"9\", \"10\", \"11\", \"12\", \"13\", \"14\", \"15\", \"16\", \"17\", \"18\", \"19\", \"20\", \"21\", \"22\", \"23\", \"24\", \"25\", \"26\", \"27\", \"28\", \"29\", \"30\", \"31\", \"32\", \"33\", \"38\", \"39\"], \"mode\": \"lines\", \"name\": \"precision_score_weighted_max\", \"stepped\": true, \"type\": \"scatter\", \"data\": [0.968675144993376, 0.968675144993376, 0.968675144993376, 0.968675144993376, 0.968675144993376, 0.968675144993376, 0.968675144993376, 0.968675144993376, 0.968675144993376, 0.968675144993376, 0.968675144993376, 0.968675144993376, 0.968675144993376, 0.968675144993376, 0.968675144993376, 0.968675144993376, 0.968675144993376, 0.968675144993376, 0.968675144993376, 0.968675144993376, 0.968675144993376, 0.968675144993376, 0.968675144993376, 0.968675144993376, 0.968675144993376, 0.968675144993376, 0.968675144993376, 0.968675144993376, 0.968675144993376, 0.968675144993376, 0.968675144993376, 0.968675144993376, 0.968675144993376, 0.968675144993376, 0.9701719614752977, 0.9701719614752977]}], \"accuracy\": [{\"categories\": [\"0\", \"1\", \"2\", \"3\", \"4\", \"5\", \"6\", \"7\", \"8\", \"9\", \"10\", \"11\", \"12\", \"13\", \"14\", \"15\", \"16\", \"17\", \"18\", \"19\", \"20\", \"21\", \"22\", \"23\", \"24\", \"25\", \"26\", \"27\", \"28\", \"29\", \"30\", \"31\", \"32\", \"33\", \"38\", \"39\"], \"mode\": \"markers\", \"name\": \"accuracy\", \"stepped\": false, \"type\": \"scatter\", \"data\": [0.9690924463167749, 0.9603042829559417, 0.8661985547949212, 0.8422034111520683, 0.8443782692645252, 0.7576799777660757, 0.9393703703703703, 0.964747791235153, 0.9552678895325025, 0.9661300684570827, 0.9265331753554502, 0.9595144520507869, 0.8917746474752793, 0.8981928207828682, 0.9117209642501902, 0.8992786261775203, 0.8639278567667192, 0.9679075244280616, 0.9079688139956703, 0.9348276578316073, 0.9160659411386108, 0.8666923234450881, 0.9555644783804341, 0.9109308700485635, 0.9547745011994616, 0.8538543092855889, 0.8572118073840033, 0.9008593411737172, 0.9550706512199404, 0.9664263062430519, 0.9606003744660933, 0.9608966122520625, 0.9661301562225733, 0.9551695336726933, 0.970573635246621, 0.9695862734772688]}, {\"categories\": [\"0\", \"1\", \"2\", \"3\", \"4\", \"5\", \"6\", \"7\", \"8\", \"9\", \"10\", \"11\", \"12\", \"13\", \"14\", \"15\", \"16\", \"17\", \"18\", \"19\", \"20\", \"21\", \"22\", \"23\", \"24\", \"25\", \"26\", \"27\", \"28\", \"29\", \"30\", \"31\", \"32\", \"33\", \"38\", \"39\"], \"mode\": \"lines\", \"name\": \"accuracy_max\", \"stepped\": true, \"type\": \"scatter\", \"data\": [0.9690924463167749, 0.9690924463167749, 0.9690924463167749, 0.9690924463167749, 0.9690924463167749, 0.9690924463167749, 0.9690924463167749, 0.9690924463167749, 0.9690924463167749, 0.9690924463167749, 0.9690924463167749, 0.9690924463167749, 0.9690924463167749, 0.9690924463167749, 0.9690924463167749, 0.9690924463167749, 0.9690924463167749, 0.9690924463167749, 0.9690924463167749, 0.9690924463167749, 0.9690924463167749, 0.9690924463167749, 0.9690924463167749, 0.9690924463167749, 0.9690924463167749, 0.9690924463167749, 0.9690924463167749, 0.9690924463167749, 0.9690924463167749, 0.9690924463167749, 0.9690924463167749, 0.9690924463167749, 0.9690924463167749, 0.9690924463167749, 0.970573635246621, 0.970573635246621]}], \"AUC_micro\": [{\"categories\": [\"0\", \"1\", \"2\", \"3\", \"4\", \"5\", \"6\", \"7\", \"8\", \"9\", \"10\", \"11\", \"12\", \"13\", \"14\", \"15\", \"16\", \"17\", \"18\", \"19\", \"20\", \"21\", \"22\", \"23\", \"24\", \"25\", \"26\", \"27\", \"28\", \"29\", \"30\", \"31\", \"32\", \"33\", \"38\", \"39\"], \"mode\": \"markers\", \"name\": \"AUC_micro\", \"stepped\": false, \"type\": \"scatter\", \"data\": [0.9959000035607133, 0.9938827586041428, 0.9548552161992121, 0.9463380814518801, 0.9268911340509285, 0.8747244981115553, 0.9864779095047128, 0.9949607513920621, 0.991231037305235, 0.9950074137612956, 0.9803752342775245, 0.9929928176300092, 0.9569973782785001, 0.9675581785986703, 0.9689275308879067, 0.9689901488186213, 0.9583410428039708, 0.9955672762249742, 0.9684435818154901, 0.9838737957105664, 0.9760583109514283, 0.9639090858482452, 0.9922433863524271, 0.9693545357981911, 0.9923516592277467, 0.9552806983545561, 0.9458822575824972, 0.9606941815832825, 0.9916439352025703, 0.9951970789946056, 0.9933728963155616, 0.9938556978106909, 0.9951767195536166, 0.9922905768963398, 0.9956742825176278, 0.9953994979890656]}, {\"categories\": [\"0\", \"1\", \"2\", \"3\", \"4\", \"5\", \"6\", \"7\", \"8\", \"9\", \"10\", \"11\", \"12\", \"13\", \"14\", \"15\", \"16\", \"17\", \"18\", \"19\", \"20\", \"21\", \"22\", \"23\", \"24\", \"25\", \"26\", \"27\", \"28\", \"29\", \"30\", \"31\", \"32\", \"33\", \"38\", \"39\"], \"mode\": \"lines\", \"name\": \"AUC_micro_max\", \"stepped\": true, \"type\": \"scatter\", \"data\": [0.9959000035607133, 0.9959000035607133, 0.9959000035607133, 0.9959000035607133, 0.9959000035607133, 0.9959000035607133, 0.9959000035607133, 0.9959000035607133, 0.9959000035607133, 0.9959000035607133, 0.9959000035607133, 0.9959000035607133, 0.9959000035607133, 0.9959000035607133, 0.9959000035607133, 0.9959000035607133, 0.9959000035607133, 0.9959000035607133, 0.9959000035607133, 0.9959000035607133, 0.9959000035607133, 0.9959000035607133, 0.9959000035607133, 0.9959000035607133, 0.9959000035607133, 0.9959000035607133, 0.9959000035607133, 0.9959000035607133, 0.9959000035607133, 0.9959000035607133, 0.9959000035607133, 0.9959000035607133, 0.9959000035607133, 0.9959000035607133, 0.9959000035607133, 0.9959000035607133]}], \"average_precision_score_weighted\": [{\"categories\": [\"0\", \"1\", \"2\", \"3\", \"4\", \"5\", \"6\", \"7\", \"8\", \"9\", \"10\", \"11\", \"12\", \"13\", \"14\", \"15\", \"16\", \"17\", \"18\", \"19\", \"20\", \"21\", \"22\", \"23\", \"24\", \"25\", \"26\", \"27\", \"28\", \"29\", \"30\", \"31\", \"32\", \"33\", \"38\", \"39\"], \"mode\": \"markers\", \"name\": \"average_precision_score_weighted\", \"stepped\": false, \"type\": \"scatter\", \"data\": [0.9932731307994235, 0.9903121269032459, 0.944671250312039, 0.9296956390419288, 0.9460680812016716, 0.9238945602058459, 0.9796251883527937, 0.9921683664203726, 0.9863391273871396, 0.992004385517849, 0.9701440684538843, 0.9882553485671858, 0.9349663590450739, 0.9557930825527836, 0.9514412929258785, 0.9598764012538249, 0.9533983121567275, 0.9928973525155876, 0.9514600159361303, 0.9759679381928782, 0.9629129522298937, 0.9614509878390218, 0.9869049055114347, 0.9520297798133285, 0.9876539267930632, 0.9448976328927473, 0.9224409740148504, 0.9422560326520065, 0.9870549517153844, 0.9921291690267623, 0.988676786967892, 0.9898575157385783, 0.9922262852167968, 0.9886919048294837, 0.9929598953875352, 0.9927360915761371]}, {\"categories\": [\"0\", \"1\", \"2\", \"3\", \"4\", \"5\", \"6\", \"7\", \"8\", \"9\", \"10\", \"11\", \"12\", \"13\", \"14\", \"15\", \"16\", \"17\", \"18\", \"19\", \"20\", \"21\", \"22\", \"23\", \"24\", \"25\", \"26\", \"27\", \"28\", \"29\", \"30\", \"31\", \"32\", \"33\", \"38\", \"39\"], \"mode\": \"lines\", \"name\": \"average_precision_score_weighted_max\", \"stepped\": true, \"type\": \"scatter\", \"data\": [0.9932731307994235, 0.9932731307994235, 0.9932731307994235, 0.9932731307994235, 0.9932731307994235, 0.9932731307994235, 0.9932731307994235, 0.9932731307994235, 0.9932731307994235, 0.9932731307994235, 0.9932731307994235, 0.9932731307994235, 0.9932731307994235, 0.9932731307994235, 0.9932731307994235, 0.9932731307994235, 0.9932731307994235, 0.9932731307994235, 0.9932731307994235, 0.9932731307994235, 0.9932731307994235, 0.9932731307994235, 0.9932731307994235, 0.9932731307994235, 0.9932731307994235, 0.9932731307994235, 0.9932731307994235, 0.9932731307994235, 0.9932731307994235, 0.9932731307994235, 0.9932731307994235, 0.9932731307994235, 0.9932731307994235, 0.9932731307994235, 0.9932731307994235, 0.9932731307994235]}], \"average_precision_score_macro\": [{\"categories\": [\"0\", \"1\", \"2\", \"3\", \"4\", \"5\", \"6\", \"7\", \"8\", \"9\", \"10\", \"11\", \"12\", \"13\", \"14\", \"15\", \"16\", \"17\", \"18\", \"19\", \"20\", \"21\", \"22\", \"23\", \"24\", \"25\", \"26\", \"27\", \"28\", \"29\", \"30\", \"31\", \"32\", \"33\", \"38\", \"39\"], \"mode\": \"markers\", \"name\": \"average_precision_score_macro\", \"stepped\": false, \"type\": \"scatter\", \"data\": [0.9824558950520178, 0.9744367702996622, 0.8646725692545082, 0.8348670762673961, 0.8686918351701479, 0.82083338993783, 0.9466168248163722, 0.9794820588815588, 0.965171173805525, 0.9789588117506662, 0.9241996467623501, 0.9688212235462474, 0.8415106811514027, 0.8858351722366572, 0.8826565557345022, 0.895748059504547, 0.8843028690471861, 0.9815311405299902, 0.8785049532173516, 0.9377277436951603, 0.9049148973568757, 0.8993752241449903, 0.9650541201851407, 0.8834093829128856, 0.9669783917771347, 0.860350910373311, 0.8123199723734444, 0.8645433322980737, 0.9668195010649593, 0.9793737232532171, 0.9698007172178379, 0.9729497570541693, 0.979647691663942, 0.9702127697564246, 0.981641041499326, 0.9811742480060078]}, {\"categories\": [\"0\", \"1\", \"2\", \"3\", \"4\", \"5\", \"6\", \"7\", \"8\", \"9\", \"10\", \"11\", \"12\", \"13\", \"14\", \"15\", \"16\", \"17\", \"18\", \"19\", \"20\", \"21\", \"22\", \"23\", \"24\", \"25\", \"26\", \"27\", \"28\", \"29\", \"30\", \"31\", \"32\", \"33\", \"38\", \"39\"], \"mode\": \"lines\", \"name\": \"average_precision_score_macro_max\", \"stepped\": true, \"type\": \"scatter\", \"data\": [0.9824558950520178, 0.9824558950520178, 0.9824558950520178, 0.9824558950520178, 0.9824558950520178, 0.9824558950520178, 0.9824558950520178, 0.9824558950520178, 0.9824558950520178, 0.9824558950520178, 0.9824558950520178, 0.9824558950520178, 0.9824558950520178, 0.9824558950520178, 0.9824558950520178, 0.9824558950520178, 0.9824558950520178, 0.9824558950520178, 0.9824558950520178, 0.9824558950520178, 0.9824558950520178, 0.9824558950520178, 0.9824558950520178, 0.9824558950520178, 0.9824558950520178, 0.9824558950520178, 0.9824558950520178, 0.9824558950520178, 0.9824558950520178, 0.9824558950520178, 0.9824558950520178, 0.9824558950520178, 0.9824558950520178, 0.9824558950520178, 0.9824558950520178, 0.9824558950520178]}], \"log_loss\": [{\"categories\": [\"0\", \"1\", \"2\", \"3\", \"4\", \"5\", \"6\", \"7\", \"8\", \"9\", \"10\", \"11\", \"12\", \"13\", \"14\", \"15\", \"16\", \"17\", \"18\", \"19\", \"20\", \"21\", \"22\", \"23\", \"24\", \"25\", \"26\", \"27\", \"28\", \"29\", \"30\", \"31\", \"32\", \"33\", \"38\", \"39\"], \"mode\": \"markers\", \"name\": \"log_loss\", \"stepped\": false, \"type\": \"scatter\", \"data\": [0.0803901865488858, 0.1105145632393635, 0.2936285370798734, 0.3266455940059456, 0.4717258158808943, 0.5168463639888174, 0.3144593908989237, 0.09330998839490913, 0.14717467317079877, 0.09160078892614475, 0.1921093876899824, 0.10797434307994302, 0.38040455456767147, 0.24968518243094925, 0.2246981912364038, 0.2573778209684448, 0.3001178305074476, 0.0846944174243206, 0.237049571507607, 0.20743420144227068, 0.20784743883554122, 0.2894988875721094, 0.11894363765278826, 0.22352142026949928, 0.12768096762045295, 0.31080126652262335, 0.3115956975656222, 0.28214022298555225, 0.14733876453397157, 0.08937305700403249, 0.10634775210609888, 0.10658746071090079, 0.09227165857933232, 0.12663882894442935, 0.10608855418705349, 0.09117269391824301]}, {\"categories\": [\"0\", \"1\", \"2\", \"3\", \"4\", \"5\", \"6\", \"7\", \"8\", \"9\", \"10\", \"11\", \"12\", \"13\", \"14\", \"15\", \"16\", \"17\", \"18\", \"19\", \"20\", \"21\", \"22\", \"23\", \"24\", \"25\", \"26\", \"27\", \"28\", \"29\", \"30\", \"31\", \"32\", \"33\", \"38\", \"39\"], \"mode\": \"lines\", \"name\": \"log_loss_min\", \"stepped\": true, \"type\": \"scatter\", \"data\": [0.0803901865488858, 0.0803901865488858, 0.0803901865488858, 0.0803901865488858, 0.0803901865488858, 0.0803901865488858, 0.0803901865488858, 0.0803901865488858, 0.0803901865488858, 0.0803901865488858, 0.0803901865488858, 0.0803901865488858, 0.0803901865488858, 0.0803901865488858, 0.0803901865488858, 0.0803901865488858, 0.0803901865488858, 0.0803901865488858, 0.0803901865488858, 0.0803901865488858, 0.0803901865488858, 0.0803901865488858, 0.0803901865488858, 0.0803901865488858, 0.0803901865488858, 0.0803901865488858, 0.0803901865488858, 0.0803901865488858, 0.0803901865488858, 0.0803901865488858, 0.0803901865488858, 0.0803901865488858, 0.0803901865488858, 0.0803901865488858, 0.0803901865488858, 0.0803901865488858]}], \"AUC_macro\": [{\"categories\": [\"0\", \"1\", \"2\", \"3\", \"4\", \"5\", \"6\", \"7\", \"8\", \"9\", \"10\", \"11\", \"12\", \"13\", \"14\", \"15\", \"16\", \"17\", \"18\", \"19\", \"20\", \"21\", \"22\", \"23\", \"24\", \"25\", \"26\", \"27\", \"28\", \"29\", \"30\", \"31\", \"32\", \"33\", \"38\", \"39\"], \"mode\": \"markers\", \"name\": \"AUC_macro\", \"stepped\": false, \"type\": \"scatter\", \"data\": [0.992057578091878, 0.9888548014173875, 0.9213777179837331, 0.8968131423753581, 0.9245204194320671, 0.8881080817694431, 0.9758529616679343, 0.9907526729577789, 0.9825238154189558, 0.9907405862997501, 0.9612762795597621, 0.9866454574166547, 0.9095383964939633, 0.9449714967868351, 0.9304034277738918, 0.9509897812171021, 0.935149826864185, 0.9916242395261344, 0.9344450604863305, 0.9707975473824139, 0.9528216367959389, 0.9543624037597075, 0.9855239929020256, 0.931813639686338, 0.9864645529442809, 0.9281376282331589, 0.8904350016371597, 0.9163788836829408, 0.9835685519083815, 0.9908753169862017, 0.9875030903443012, 0.9887274622260062, 0.9908934355236555, 0.986817923875731, 0.9917135679273031, 0.9912736782162103]}, {\"categories\": [\"0\", \"1\", \"2\", \"3\", \"4\", \"5\", \"6\", \"7\", \"8\", \"9\", \"10\", \"11\", \"12\", \"13\", \"14\", \"15\", \"16\", \"17\", \"18\", \"19\", \"20\", \"21\", \"22\", \"23\", \"24\", \"25\", \"26\", \"27\", \"28\", \"29\", \"30\", \"31\", \"32\", \"33\", \"38\", \"39\"], \"mode\": \"lines\", \"name\": \"AUC_macro_max\", \"stepped\": true, \"type\": \"scatter\", \"data\": [0.992057578091878, 0.992057578091878, 0.992057578091878, 0.992057578091878, 0.992057578091878, 0.992057578091878, 0.992057578091878, 0.992057578091878, 0.992057578091878, 0.992057578091878, 0.992057578091878, 0.992057578091878, 0.992057578091878, 0.992057578091878, 0.992057578091878, 0.992057578091878, 0.992057578091878, 0.992057578091878, 0.992057578091878, 0.992057578091878, 0.992057578091878, 0.992057578091878, 0.992057578091878, 0.992057578091878, 0.992057578091878, 0.992057578091878, 0.992057578091878, 0.992057578091878, 0.992057578091878, 0.992057578091878, 0.992057578091878, 0.992057578091878, 0.992057578091878, 0.992057578091878, 0.992057578091878, 0.992057578091878]}], \"recall_score_micro\": [{\"categories\": [\"0\", \"1\", \"2\", \"3\", \"4\", \"5\", \"6\", \"7\", \"8\", \"9\", \"10\", \"11\", \"12\", \"13\", \"14\", \"15\", \"16\", \"17\", \"18\", \"19\", \"20\", \"21\", \"22\", \"23\", \"24\", \"25\", \"26\", \"27\", \"28\", \"29\", \"30\", \"31\", \"32\", \"33\", \"38\", \"39\"], \"mode\": \"markers\", \"name\": \"recall_score_micro\", \"stepped\": false, \"type\": \"scatter\", \"data\": [0.9690924463167749, 0.9603042829559417, 0.8661985547949212, 0.8422034111520683, 0.8443782692645252, 0.7576799777660757, 0.9393703703703703, 0.964747791235153, 0.9552678895325025, 0.9661300684570827, 0.9265331753554502, 0.9595144520507869, 0.8917746474752793, 0.8981928207828682, 0.9117209642501902, 0.8992786261775203, 0.8639278567667192, 0.9679075244280616, 0.9079688139956703, 0.9348276578316073, 0.9160659411386108, 0.8666923234450881, 0.9555644783804341, 0.9109308700485635, 0.9547745011994616, 0.8538543092855889, 0.8572118073840033, 0.9008593411737172, 0.9550706512199404, 0.9664263062430519, 0.9606003744660933, 0.9608966122520625, 0.9661301562225733, 0.9551695336726933, 0.970573635246621, 0.9695862734772688]}, {\"categories\": [\"0\", \"1\", \"2\", \"3\", \"4\", \"5\", \"6\", \"7\", \"8\", \"9\", \"10\", \"11\", \"12\", \"13\", \"14\", \"15\", \"16\", \"17\", \"18\", \"19\", \"20\", \"21\", \"22\", \"23\", \"24\", \"25\", \"26\", \"27\", \"28\", \"29\", \"30\", \"31\", \"32\", \"33\", \"38\", \"39\"], \"mode\": \"lines\", \"name\": \"recall_score_micro_max\", \"stepped\": true, \"type\": \"scatter\", \"data\": [0.9690924463167749, 0.9690924463167749, 0.9690924463167749, 0.9690924463167749, 0.9690924463167749, 0.9690924463167749, 0.9690924463167749, 0.9690924463167749, 0.9690924463167749, 0.9690924463167749, 0.9690924463167749, 0.9690924463167749, 0.9690924463167749, 0.9690924463167749, 0.9690924463167749, 0.9690924463167749, 0.9690924463167749, 0.9690924463167749, 0.9690924463167749, 0.9690924463167749, 0.9690924463167749, 0.9690924463167749, 0.9690924463167749, 0.9690924463167749, 0.9690924463167749, 0.9690924463167749, 0.9690924463167749, 0.9690924463167749, 0.9690924463167749, 0.9690924463167749, 0.9690924463167749, 0.9690924463167749, 0.9690924463167749, 0.9690924463167749, 0.970573635246621, 0.970573635246621]}], \"precision_score_macro\": [{\"categories\": [\"0\", \"1\", \"2\", \"3\", \"4\", \"5\", \"6\", \"7\", \"8\", \"9\", \"10\", \"11\", \"12\", \"13\", \"14\", \"15\", \"16\", \"17\", \"18\", \"19\", \"20\", \"21\", \"22\", \"23\", \"24\", \"25\", \"26\", \"27\", \"28\", \"29\", \"30\", \"31\", \"32\", \"33\", \"38\", \"39\"], \"mode\": \"markers\", \"name\": \"precision_score_macro\", \"stepped\": false, \"type\": \"scatter\", \"data\": [0.9521154043040085, 0.944764167057652, 0.8951134049141043, 0.7223272935769668, 0.7408211846080461, 0.6743824254788375, 0.9234698433154437, 0.9535005185997188, 0.933425722830631, 0.9522701697833892, 0.9029404193523437, 0.9327266184021274, 0.8279248742622262, 0.8674563100266662, 0.8606859524975546, 0.88619366780255, 0.9118867682800958, 0.9541024201099102, 0.864939671884946, 0.9163316456414717, 0.8845538403980013, 0.9069124423331342, 0.9292353437064921, 0.8537955098766129, 0.9355624041980057, 0.9006824125586498, 0.8229716493274527, 0.872296596634067, 0.934331161037678, 0.950791691792439, 0.9358661615513423, 0.9427360444753382, 0.9509954854677644, 0.9456396061021031, 0.9571463891267564, 0.9538196300683869]}, {\"categories\": [\"0\", \"1\", \"2\", \"3\", \"4\", \"5\", \"6\", \"7\", \"8\", \"9\", \"10\", \"11\", \"12\", \"13\", \"14\", \"15\", \"16\", \"17\", \"18\", \"19\", \"20\", \"21\", \"22\", \"23\", \"24\", \"25\", \"26\", \"27\", \"28\", \"29\", \"30\", \"31\", \"32\", \"33\", \"38\", \"39\"], \"mode\": \"lines\", \"name\": \"precision_score_macro_max\", \"stepped\": true, \"type\": \"scatter\", \"data\": [0.9521154043040085, 0.9521154043040085, 0.9521154043040085, 0.9521154043040085, 0.9521154043040085, 0.9521154043040085, 0.9521154043040085, 0.9535005185997188, 0.9535005185997188, 0.9535005185997188, 0.9535005185997188, 0.9535005185997188, 0.9535005185997188, 0.9535005185997188, 0.9535005185997188, 0.9535005185997188, 0.9535005185997188, 0.9541024201099102, 0.9541024201099102, 0.9541024201099102, 0.9541024201099102, 0.9541024201099102, 0.9541024201099102, 0.9541024201099102, 0.9541024201099102, 0.9541024201099102, 0.9541024201099102, 0.9541024201099102, 0.9541024201099102, 0.9541024201099102, 0.9541024201099102, 0.9541024201099102, 0.9541024201099102, 0.9541024201099102, 0.9571463891267564, 0.9571463891267564]}], \"recall_score_weighted\": [{\"categories\": [\"0\", \"1\", \"2\", \"3\", \"4\", \"5\", \"6\", \"7\", \"8\", \"9\", \"10\", \"11\", \"12\", \"13\", \"14\", \"15\", \"16\", \"17\", \"18\", \"19\", \"20\", \"21\", \"22\", \"23\", \"24\", \"25\", \"26\", \"27\", \"28\", \"29\", \"30\", \"31\", \"32\", \"33\", \"38\", \"39\"], \"mode\": \"markers\", \"name\": \"recall_score_weighted\", \"stepped\": false, \"type\": \"scatter\", \"data\": [0.9690924463167749, 0.9603042829559417, 0.8661985547949212, 0.8422034111520683, 0.8443782692645252, 0.7576799777660757, 0.9393703703703703, 0.964747791235153, 0.9552678895325025, 0.9661300684570827, 0.9265331753554502, 0.9595144520507869, 0.8917746474752793, 0.8981928207828682, 0.9117209642501902, 0.8992786261775203, 0.8639278567667192, 0.9679075244280616, 0.9079688139956703, 0.9348276578316073, 0.9160659411386108, 0.8666923234450881, 0.9555644783804341, 0.9109308700485635, 0.9547745011994616, 0.8538543092855889, 0.8572118073840033, 0.9008593411737172, 0.9550706512199404, 0.9664263062430519, 0.9606003744660933, 0.9608966122520625, 0.9661301562225733, 0.9551695336726933, 0.970573635246621, 0.9695862734772688]}, {\"categories\": [\"0\", \"1\", \"2\", \"3\", \"4\", \"5\", \"6\", \"7\", \"8\", \"9\", \"10\", \"11\", \"12\", \"13\", \"14\", \"15\", \"16\", \"17\", \"18\", \"19\", \"20\", \"21\", \"22\", \"23\", \"24\", \"25\", \"26\", \"27\", \"28\", \"29\", \"30\", \"31\", \"32\", \"33\", \"38\", \"39\"], \"mode\": \"lines\", \"name\": \"recall_score_weighted_max\", \"stepped\": true, \"type\": \"scatter\", \"data\": [0.9690924463167749, 0.9690924463167749, 0.9690924463167749, 0.9690924463167749, 0.9690924463167749, 0.9690924463167749, 0.9690924463167749, 0.9690924463167749, 0.9690924463167749, 0.9690924463167749, 0.9690924463167749, 0.9690924463167749, 0.9690924463167749, 0.9690924463167749, 0.9690924463167749, 0.9690924463167749, 0.9690924463167749, 0.9690924463167749, 0.9690924463167749, 0.9690924463167749, 0.9690924463167749, 0.9690924463167749, 0.9690924463167749, 0.9690924463167749, 0.9690924463167749, 0.9690924463167749, 0.9690924463167749, 0.9690924463167749, 0.9690924463167749, 0.9690924463167749, 0.9690924463167749, 0.9690924463167749, 0.9690924463167749, 0.9690924463167749, 0.970573635246621, 0.970573635246621]}], \"balanced_accuracy\": [{\"categories\": [\"0\", \"1\", \"2\", \"3\", \"4\", \"5\", \"6\", \"7\", \"8\", \"9\", \"10\", \"11\", \"12\", \"13\", \"14\", \"15\", \"16\", \"17\", \"18\", \"19\", \"20\", \"21\", \"22\", \"23\", \"24\", \"25\", \"26\", \"27\", \"28\", \"29\", \"30\", \"31\", \"32\", \"33\", \"38\", \"39\"], \"mode\": \"markers\", \"name\": \"balanced_accuracy\", \"stepped\": false, \"type\": \"scatter\", \"data\": [0.9314043416327399, 0.9040121099643081, 0.5900887745695075, 0.5100521932693222, 0.8493294638517909, 0.7942224015921706, 0.8414351057590957, 0.9125994338674591, 0.8964903911397976, 0.9194740939472789, 0.8087876358783967, 0.9144321472028133, 0.7310910263034147, 0.7217870528766385, 0.7900042108738807, 0.7134479943412143, 0.5788556432355783, 0.9244832713605846, 0.7671004754051828, 0.8306067021111773, 0.7835794975246518, 0.5892898440043797, 0.902011168644996, 0.7957047249128305, 0.8915751118679816, 0.5488167961365592, 0.5738601073519826, 0.7283494648007546, 0.8942596213631671, 0.9221737434741226, 0.9154576909717305, 0.9086824573539444, 0.9207560372629363, 0.8830488977079036, 0.9318236330898392, 0.9314906403835709]}, {\"categories\": [\"0\", \"1\", \"2\", \"3\", \"4\", \"5\", \"6\", \"7\", \"8\", \"9\", \"10\", \"11\", \"12\", \"13\", \"14\", \"15\", \"16\", \"17\", \"18\", \"19\", \"20\", \"21\", \"22\", \"23\", \"24\", \"25\", \"26\", \"27\", \"28\", \"29\", \"30\", \"31\", \"32\", \"33\", \"38\", \"39\"], \"mode\": \"lines\", \"name\": \"balanced_accuracy_max\", \"stepped\": true, \"type\": \"scatter\", \"data\": [0.9314043416327399, 0.9314043416327399, 0.9314043416327399, 0.9314043416327399, 0.9314043416327399, 0.9314043416327399, 0.9314043416327399, 0.9314043416327399, 0.9314043416327399, 0.9314043416327399, 0.9314043416327399, 0.9314043416327399, 0.9314043416327399, 0.9314043416327399, 0.9314043416327399, 0.9314043416327399, 0.9314043416327399, 0.9314043416327399, 0.9314043416327399, 0.9314043416327399, 0.9314043416327399, 0.9314043416327399, 0.9314043416327399, 0.9314043416327399, 0.9314043416327399, 0.9314043416327399, 0.9314043416327399, 0.9314043416327399, 0.9314043416327399, 0.9314043416327399, 0.9314043416327399, 0.9314043416327399, 0.9314043416327399, 0.9314043416327399, 0.9318236330898392, 0.9318236330898392]}]}, \"metricName\": null, \"primaryMetricName\": \"accuracy\", \"showLegend\": false}, \"run_metrics\": [{\"name\": \"experiment_status\", \"run_id\": \"AutoML_1d2a8642-b286-4f81-9bbc-4a9dadbd6b30\", \"categories\": [0, 1, 2, 3, 4, 5, 6, 7, 8, 9, 10, 11, 12, 13, 14], \"series\": [{\"data\": [\"DatasetEvaluation\", \"FeaturesGeneration\", \"DatasetFeaturization\", \"DatasetFeaturizationCompleted\", \"DatasetBalancing\", \"DatasetCrossValidationSplit\", \"ModelSelection\", \"BestRunExplainModel\", \"ModelExplanationDataSetSetup\", \"PickSurrogateModel\", \"EngineeredFeatureExplanations\", \"EngineeredFeatureExplanations\", \"RawFeaturesExplanations\", \"RawFeaturesExplanations\", \"BestRunExplainModel\"]}]}, {\"name\": \"experiment_status_description\", \"run_id\": \"AutoML_1d2a8642-b286-4f81-9bbc-4a9dadbd6b30\", \"categories\": [0, 1, 2, 3, 4, 5, 6, 7, 8, 9, 10, 11, 12, 13, 14], \"series\": [{\"data\": [\"Gathering dataset statistics.\", \"Generating features for the dataset.\", \"Beginning to fit featurizers and featurize the dataset.\", \"Completed fit featurizers and featurizing the dataset.\", \"Performing class balancing sweeping\", \"Generating individually featurized CV splits.\", \"Beginning model selection.\", \"Best run model explanations started\", \"Model explanations data setup completed\", \"Choosing LightGBM as the surrogate model for explanations\", \"Computation of engineered features started\", \"Computation of engineered features completed\", \"Computation of raw features started\", \"Computation of raw features completed\", \"Best run model explanations completed\"]}]}, {\"name\": \"weighted_accuracy\", \"run_id\": \"AutoML_1d2a8642-b286-4f81-9bbc-4a9dadbd6b30\", \"categories\": [0], \"series\": [{\"data\": [0.9848904667827686]}]}, {\"name\": \"precision_score_micro\", \"run_id\": \"AutoML_1d2a8642-b286-4f81-9bbc-4a9dadbd6b30\", \"categories\": [0], \"series\": [{\"data\": [0.970573635246621]}]}, {\"name\": \"average_precision_score_weighted\", \"run_id\": \"AutoML_1d2a8642-b286-4f81-9bbc-4a9dadbd6b30\", \"categories\": [0], \"series\": [{\"data\": [0.9929598953875352]}]}, {\"name\": \"log_loss\", \"run_id\": \"AutoML_1d2a8642-b286-4f81-9bbc-4a9dadbd6b30\", \"categories\": [0], \"series\": [{\"data\": [0.10608855418705349]}]}, {\"name\": \"AUC_weighted\", \"run_id\": \"AutoML_1d2a8642-b286-4f81-9bbc-4a9dadbd6b30\", \"categories\": [0], \"series\": [{\"data\": [0.9917135679273031]}]}, {\"name\": \"AUC_macro\", \"run_id\": \"AutoML_1d2a8642-b286-4f81-9bbc-4a9dadbd6b30\", \"categories\": [0], \"series\": [{\"data\": [0.9917135679273031]}]}, {\"name\": \"f1_score_macro\", \"run_id\": \"AutoML_1d2a8642-b286-4f81-9bbc-4a9dadbd6b30\", \"categories\": [0], \"series\": [{\"data\": [0.9438882284359965]}]}, {\"name\": \"average_precision_score_macro\", \"run_id\": \"AutoML_1d2a8642-b286-4f81-9bbc-4a9dadbd6b30\", \"categories\": [0], \"series\": [{\"data\": [0.981641041499326]}]}, {\"name\": \"balanced_accuracy\", \"run_id\": \"AutoML_1d2a8642-b286-4f81-9bbc-4a9dadbd6b30\", \"categories\": [0], \"series\": [{\"data\": [0.9318236330898392]}]}, {\"name\": \"accuracy\", \"run_id\": \"AutoML_1d2a8642-b286-4f81-9bbc-4a9dadbd6b30\", \"categories\": [0], \"series\": [{\"data\": [0.970573635246621]}]}, {\"name\": \"precision_score_macro\", \"run_id\": \"AutoML_1d2a8642-b286-4f81-9bbc-4a9dadbd6b30\", \"categories\": [0], \"series\": [{\"data\": [0.9571463891267564]}]}, {\"name\": \"f1_score_micro\", \"run_id\": \"AutoML_1d2a8642-b286-4f81-9bbc-4a9dadbd6b30\", \"categories\": [0], \"series\": [{\"data\": [0.970573635246621]}]}, {\"name\": \"average_precision_score_micro\", \"run_id\": \"AutoML_1d2a8642-b286-4f81-9bbc-4a9dadbd6b30\", \"categories\": [0], \"series\": [{\"data\": [0.9957372256726953]}]}, {\"name\": \"matthews_correlation\", \"run_id\": \"AutoML_1d2a8642-b286-4f81-9bbc-4a9dadbd6b30\", \"categories\": [0], \"series\": [{\"data\": [0.8885942105651785]}]}, {\"name\": \"f1_score_weighted\", \"run_id\": \"AutoML_1d2a8642-b286-4f81-9bbc-4a9dadbd6b30\", \"categories\": [0], \"series\": [{\"data\": [0.9701513476750437]}]}, {\"name\": \"recall_score_micro\", \"run_id\": \"AutoML_1d2a8642-b286-4f81-9bbc-4a9dadbd6b30\", \"categories\": [0], \"series\": [{\"data\": [0.970573635246621]}]}, {\"name\": \"norm_macro_recall\", \"run_id\": \"AutoML_1d2a8642-b286-4f81-9bbc-4a9dadbd6b30\", \"categories\": [0], \"series\": [{\"data\": [0.8636472661796781]}]}, {\"name\": \"recall_score_weighted\", \"run_id\": \"AutoML_1d2a8642-b286-4f81-9bbc-4a9dadbd6b30\", \"categories\": [0], \"series\": [{\"data\": [0.970573635246621]}]}, {\"name\": \"precision_score_weighted\", \"run_id\": \"AutoML_1d2a8642-b286-4f81-9bbc-4a9dadbd6b30\", \"categories\": [0], \"series\": [{\"data\": [0.9701719614752977]}]}, {\"name\": \"AUC_micro\", \"run_id\": \"AutoML_1d2a8642-b286-4f81-9bbc-4a9dadbd6b30\", \"categories\": [0], \"series\": [{\"data\": [0.9956742825176278]}]}, {\"name\": \"recall_score_macro\", \"run_id\": \"AutoML_1d2a8642-b286-4f81-9bbc-4a9dadbd6b30\", \"categories\": [0], \"series\": [{\"data\": [0.9318236330898392]}]}], \"run_logs\": \"\\nRun is completed.\", \"graph\": {}, \"widget_settings\": {\"childWidgetDisplay\": \"popup\", \"send_telemetry\": false, \"log_level\": \"INFO\", \"sdk_version\": \"1.19.0\"}, \"loading\": false}"
          },
          "metadata": {}
        },
        {
          "output_type": "stream",
          "name": "stdout",
          "text": [
            "\n",
            "\n",
            "****************************************************************************************************\n",
            "DATA GUARDRAILS: \n",
            "\n",
            "TYPE:         Class balancing detection\n",
            "STATUS:       ALERTED\n",
            "DESCRIPTION:  To decrease model bias, please cancel the current run and fix balancing problem.\n",
            "              Learn more about imbalanced data: https://aka.ms/AutomatedMLImbalancedData\n",
            "DETAILS:      Imbalanced data can lead to a falsely perceived positive effect of a model's accuracy because the input data has bias towards one class.\n",
            "+---------------------------------+---------------------------------+--------------------------------------+\n",
            "|Size of the smallest class       |Name/Label of the smallest class |Number of samples in the training data|\n",
            "+=================================+=================================+======================================+\n",
            "|1627                             |Attrited Customer                |10127                                 |\n",
            "+---------------------------------+---------------------------------+--------------------------------------+\n",
            "\n",
            "****************************************************************************************************\n",
            "\n",
            "TYPE:         Missing feature values imputation\n",
            "STATUS:       PASSED\n",
            "DESCRIPTION:  No feature missing values were detected in the training data.\n",
            "              Learn more about missing value imputation: https://aka.ms/AutomatedMLFeaturization\n",
            "\n",
            "****************************************************************************************************\n",
            "\n",
            "TYPE:         High cardinality feature detection\n",
            "STATUS:       PASSED\n",
            "DESCRIPTION:  Your inputs were analyzed, and no high cardinality features were detected.\n",
            "              Learn more about high cardinality feature handling: https://aka.ms/AutomatedMLFeaturization\n",
            "\n",
            "****************************************************************************************************\n",
            "\n",
            "****************************************************************************************************\n",
            "ITERATION: The iteration being evaluated.\n",
            "PIPELINE: A summary description of the pipeline being evaluated.\n",
            "DURATION: Time taken for the current iteration.\n",
            "METRIC: The result of computing score on the fitted pipeline.\n",
            "BEST: The best observed score thus far.\n",
            "****************************************************************************************************\n",
            "\n",
            " ITERATION   PIPELINE                                       DURATION      METRIC      BEST\n",
            "         0   MaxAbsScaler LightGBM                          0:00:55       0.9691    0.9691\n",
            "         1   MaxAbsScaler XGBoostClassifier                 0:00:57       0.9603    0.9691\n",
            "         2   MaxAbsScaler RandomForest                      0:00:42       0.8662    0.9691\n",
            "         3   MaxAbsScaler RandomForest                      0:03:19       0.8422    0.9691\n",
            "         4   MaxAbsScaler RandomForest                      0:00:42       0.8444    0.9691\n",
            "         5   MaxAbsScaler RandomForest                      0:03:31       0.7577    0.9691\n",
            "         6   StandardScalerWrapper XGBoostClassifier        0:00:44       0.9394    0.9691\n",
            "         7   SparseNormalizer XGBoostClassifier             0:00:57       0.9647    0.9691\n",
            "         8   SparseNormalizer XGBoostClassifier             0:03:11       0.9553    0.9691\n",
            "         9   SparseNormalizer XGBoostClassifier             0:01:05       0.9661    0.9691\n",
            "        10   StandardScalerWrapper XGBoostClassifier        0:00:49       0.9265    0.9691\n",
            "        11   StandardScalerWrapper LightGBM                 0:01:09       0.9595    0.9691\n",
            "        12   SparseNormalizer XGBoostClassifier             0:00:57       0.8918    0.9691\n",
            "        13   StandardScalerWrapper RandomForest             0:00:56       0.8982    0.9691\n",
            "        14   MaxAbsScaler LogisticRegression                0:00:46       0.9117    0.9691\n",
            "        15   MaxAbsScaler LightGBM                          0:00:52       0.8993    0.9691\n",
            "        16   MaxAbsScaler LightGBM                          0:00:53       0.8639    0.9691\n",
            "        17   SparseNormalizer XGBoostClassifier             0:00:58       0.9679    0.9691\n",
            "        18   SparseNormalizer LightGBM                      0:00:52       0.9080    0.9691\n",
            "        19   SparseNormalizer XGBoostClassifier             0:00:55       0.9348    0.9691\n",
            "        20   StandardScalerWrapper LightGBM                 0:00:45       0.9161    0.9691\n",
            "        21   SparseNormalizer LightGBM                      0:00:49       0.8667    0.9691\n",
            "        22   MaxAbsScaler LightGBM                          0:00:44       0.9556    0.9691\n",
            "        23   MaxAbsScaler LogisticRegression                0:00:45       0.9109    0.9691\n",
            "        24   StandardScalerWrapper LightGBM                 0:00:51       0.9548    0.9691\n",
            "        25   SparseNormalizer LightGBM                      0:01:07       0.8539    0.9691\n",
            "        26   MaxAbsScaler ExtremeRandomTrees                0:00:41       0.8572    0.9691\n",
            "        27   SparseNormalizer XGBoostClassifier             0:00:44       0.9009    0.9691\n",
            "        28   SparseNormalizer XGBoostClassifier             0:00:46       0.9551    0.9691\n",
            "        29   SparseNormalizer XGBoostClassifier             0:00:57       0.9664    0.9691\n",
            "        30   StandardScalerWrapper LightGBM                 0:00:47       0.9606    0.9691\n",
            "        31   SparseNormalizer LightGBM                      0:00:47       0.9609    0.9691\n",
            "        32   SparseNormalizer XGBoostClassifier             0:01:06       0.9661    0.9691\n",
            "        33   SparseNormalizer XGBoostClassifier             0:00:49       0.9552    0.9691\n",
            "        34                                                  0:00:22          nan    0.9691\n",
            "        35   MaxAbsScaler LightGBM                          0:00:24          nan    0.9691\n",
            "        36                                                  0:00:19          nan    0.9691\n",
            "        37                                                  0:00:27          nan    0.9691\n",
            "        38    VotingEnsemble                                0:01:21       0.9706    0.9706\n",
            "        39    StackEnsemble                                 0:01:22       0.9696    0.9706\n"
          ]
        },
        {
          "output_type": "execute_result",
          "execution_count": 7,
          "data": {
            "text/plain": "{'runId': 'AutoML_1d2a8642-b286-4f81-9bbc-4a9dadbd6b30',\n 'target': 'demo-cluster',\n 'status': 'Completed',\n 'startTimeUtc': '2021-01-16T05:57:19.374289Z',\n 'endTimeUtc': '2021-01-16T06:37:50.599921Z',\n 'properties': {'num_iterations': '1000',\n  'training_type': 'TrainFull',\n  'acquisition_function': 'EI',\n  'primary_metric': 'accuracy',\n  'train_split': '0',\n  'acquisition_parameter': '0',\n  'num_cross_validation': '3',\n  'target': 'demo-cluster',\n  'AMLSettingsJsonString': '{\"path\":null,\"name\":\"demo-automl-experiment\",\"subscription_id\":\"d4ad7261-832d-46b2-b093-22156001df5b\",\"resource_group\":\"aml-quickstarts-134840\",\"workspace_name\":\"quick-starts-ws-134840\",\"region\":\"southcentralus\",\"compute_target\":\"demo-cluster\",\"spark_service\":null,\"azure_service\":\"remote\",\"many_models\":false,\"pipeline_fetch_max_batch_size\":1,\"iterations\":1000,\"primary_metric\":\"accuracy\",\"task_type\":\"classification\",\"data_script\":null,\"validation_size\":0.0,\"n_cross_validations\":3,\"y_min\":null,\"y_max\":null,\"num_classes\":null,\"featurization\":\"auto\",\"_ignore_package_version_incompatibilities\":false,\"is_timeseries\":false,\"max_cores_per_iteration\":1,\"max_concurrent_iterations\":5,\"iteration_timeout_minutes\":null,\"mem_in_mb\":null,\"enforce_time_on_windows\":false,\"experiment_timeout_minutes\":30,\"experiment_exit_score\":null,\"whitelist_models\":null,\"blacklist_algos\":[\"TensorFlowLinearClassifier\",\"TensorFlowDNN\"],\"supported_models\":[\"LinearSVM\",\"KNN\",\"AveragedPerceptronClassifier\",\"TensorFlowLinearClassifier\",\"SGD\",\"MultinomialNaiveBayes\",\"TensorFlowDNN\",\"DecisionTree\",\"LightGBM\",\"LogisticRegression\",\"BernoulliNaiveBayes\",\"SVM\",\"ExtremeRandomTrees\",\"GradientBoosting\",\"XGBoostClassifier\",\"RandomForest\"],\"auto_blacklist\":true,\"blacklist_samples_reached\":false,\"exclude_nan_labels\":true,\"verbosity\":20,\"_debug_log\":\"azureml_automl.log\",\"show_warnings\":false,\"model_explainability\":true,\"service_url\":null,\"sdk_url\":null,\"sdk_packages\":null,\"enable_onnx_compatible_models\":false,\"enable_split_onnx_featurizer_estimator_models\":false,\"vm_type\":\"STANDARD_D2_V2\",\"telemetry_verbosity\":20,\"send_telemetry\":true,\"enable_dnn\":false,\"scenario\":\"SDK-1.13.0\",\"environment_label\":null,\"force_text_dnn\":false,\"enable_feature_sweeping\":true,\"enable_early_stopping\":true,\"early_stopping_n_iters\":10,\"metrics\":null,\"enable_ensembling\":true,\"enable_stack_ensembling\":true,\"ensemble_iterations\":15,\"enable_tf\":false,\"enable_subsampling\":null,\"subsample_seed\":null,\"enable_nimbusml\":false,\"enable_streaming\":false,\"force_streaming\":false,\"track_child_runs\":true,\"allowed_private_models\":[],\"label_column_name\":\"Attrition_Flag\",\"weight_column_name\":null,\"cv_split_column_names\":null,\"enable_local_managed\":false,\"_local_managed_run_id\":null,\"cost_mode\":1,\"lag_length\":0,\"metric_operation\":\"maximize\",\"preprocess\":true}',\n  'DataPrepJsonString': '{\\\\\"training_data\\\\\": \\\\\"{\\\\\\\\\\\\\"blocks\\\\\\\\\\\\\": [{\\\\\\\\\\\\\"id\\\\\\\\\\\\\": \\\\\\\\\\\\\"94c7828d-f22d-4c6b-ad53-620608a8573c\\\\\\\\\\\\\", \\\\\\\\\\\\\"type\\\\\\\\\\\\\": \\\\\\\\\\\\\"Microsoft.DPrep.GetDatastoreFilesBlock\\\\\\\\\\\\\", \\\\\\\\\\\\\"arguments\\\\\\\\\\\\\": {\\\\\\\\\\\\\"datastores\\\\\\\\\\\\\": [{\\\\\\\\\\\\\"datastoreName\\\\\\\\\\\\\": \\\\\\\\\\\\\"workspaceblobstore\\\\\\\\\\\\\", \\\\\\\\\\\\\"path\\\\\\\\\\\\\": \\\\\\\\\\\\\"UI/01-16-2021_055411_UTC/BankChurners.csv\\\\\\\\\\\\\", \\\\\\\\\\\\\"resourceGroup\\\\\\\\\\\\\": \\\\\\\\\\\\\"aml-quickstarts-134840\\\\\\\\\\\\\", \\\\\\\\\\\\\"subscription\\\\\\\\\\\\\": \\\\\\\\\\\\\"d4ad7261-832d-46b2-b093-22156001df5b\\\\\\\\\\\\\", \\\\\\\\\\\\\"workspaceName\\\\\\\\\\\\\": \\\\\\\\\\\\\"quick-starts-ws-134840\\\\\\\\\\\\\"}]}, \\\\\\\\\\\\\"localData\\\\\\\\\\\\\": {}, \\\\\\\\\\\\\"isEnabled\\\\\\\\\\\\\": true, \\\\\\\\\\\\\"name\\\\\\\\\\\\\": null, \\\\\\\\\\\\\"annotation\\\\\\\\\\\\\": null}, {\\\\\\\\\\\\\"id\\\\\\\\\\\\\": \\\\\\\\\\\\\"6114fc4c-8ad9-49dd-99aa-32ed604c63d8\\\\\\\\\\\\\", \\\\\\\\\\\\\"type\\\\\\\\\\\\\": \\\\\\\\\\\\\"Microsoft.DPrep.ParseDelimitedBlock\\\\\\\\\\\\\", \\\\\\\\\\\\\"arguments\\\\\\\\\\\\\": {\\\\\\\\\\\\\"columnHeadersMode\\\\\\\\\\\\\": 1, \\\\\\\\\\\\\"fileEncoding\\\\\\\\\\\\\": 0, \\\\\\\\\\\\\"handleQuotedLineBreaks\\\\\\\\\\\\\": false, \\\\\\\\\\\\\"preview\\\\\\\\\\\\\": false, \\\\\\\\\\\\\"separator\\\\\\\\\\\\\": \\\\\\\\\\\\\",\\\\\\\\\\\\\", \\\\\\\\\\\\\"skipRows\\\\\\\\\\\\\": 0, \\\\\\\\\\\\\"skipRowsMode\\\\\\\\\\\\\": 0}, \\\\\\\\\\\\\"localData\\\\\\\\\\\\\": {}, \\\\\\\\\\\\\"isEnabled\\\\\\\\\\\\\": true, \\\\\\\\\\\\\"name\\\\\\\\\\\\\": null, \\\\\\\\\\\\\"annotation\\\\\\\\\\\\\": null}, {\\\\\\\\\\\\\"id\\\\\\\\\\\\\": \\\\\\\\\\\\\"00bbec85-3afa-4503-9770-ec2ca2ec2504\\\\\\\\\\\\\", \\\\\\\\\\\\\"type\\\\\\\\\\\\\": \\\\\\\\\\\\\"Microsoft.DPrep.DropColumnsBlock\\\\\\\\\\\\\", \\\\\\\\\\\\\"arguments\\\\\\\\\\\\\": {\\\\\\\\\\\\\"columns\\\\\\\\\\\\\": {\\\\\\\\\\\\\"type\\\\\\\\\\\\\": 0, \\\\\\\\\\\\\"details\\\\\\\\\\\\\": {\\\\\\\\\\\\\"selectedColumns\\\\\\\\\\\\\": [\\\\\\\\\\\\\"Path\\\\\\\\\\\\\"]}}}, \\\\\\\\\\\\\"localData\\\\\\\\\\\\\": {}, \\\\\\\\\\\\\"isEnabled\\\\\\\\\\\\\": true, \\\\\\\\\\\\\"name\\\\\\\\\\\\\": null, \\\\\\\\\\\\\"annotation\\\\\\\\\\\\\": null}, {\\\\\\\\\\\\\"id\\\\\\\\\\\\\": \\\\\\\\\\\\\"997b1551-a2ee-49f7-9567-bf65bfb813b6\\\\\\\\\\\\\", \\\\\\\\\\\\\"type\\\\\\\\\\\\\": \\\\\\\\\\\\\"Microsoft.DPrep.SetColumnTypesBlock\\\\\\\\\\\\\", \\\\\\\\\\\\\"arguments\\\\\\\\\\\\\": {\\\\\\\\\\\\\"columnConversion\\\\\\\\\\\\\": [{\\\\\\\\\\\\\"column\\\\\\\\\\\\\": {\\\\\\\\\\\\\"type\\\\\\\\\\\\\": 2, \\\\\\\\\\\\\"details\\\\\\\\\\\\\": {\\\\\\\\\\\\\"selectedColumn\\\\\\\\\\\\\": \\\\\\\\\\\\\"Path\\\\\\\\\\\\\"}}, \\\\\\\\\\\\\"typeProperty\\\\\\\\\\\\\": 0}, {\\\\\\\\\\\\\"column\\\\\\\\\\\\\": {\\\\\\\\\\\\\"type\\\\\\\\\\\\\": 2, \\\\\\\\\\\\\"details\\\\\\\\\\\\\": {\\\\\\\\\\\\\"selectedColumn\\\\\\\\\\\\\": \\\\\\\\\\\\\"CLIENTNUM\\\\\\\\\\\\\"}}, \\\\\\\\\\\\\"typeProperty\\\\\\\\\\\\\": 2}, {\\\\\\\\\\\\\"column\\\\\\\\\\\\\": {\\\\\\\\\\\\\"type\\\\\\\\\\\\\": 2, \\\\\\\\\\\\\"details\\\\\\\\\\\\\": {\\\\\\\\\\\\\"selectedColumn\\\\\\\\\\\\\": \\\\\\\\\\\\\"Attrition_Flag\\\\\\\\\\\\\"}}, \\\\\\\\\\\\\"typeProperty\\\\\\\\\\\\\": 0}, {\\\\\\\\\\\\\"column\\\\\\\\\\\\\": {\\\\\\\\\\\\\"type\\\\\\\\\\\\\": 2, \\\\\\\\\\\\\"details\\\\\\\\\\\\\": {\\\\\\\\\\\\\"selectedColumn\\\\\\\\\\\\\": \\\\\\\\\\\\\"Customer_Age\\\\\\\\\\\\\"}}, \\\\\\\\\\\\\"typeProperty\\\\\\\\\\\\\": 2}, {\\\\\\\\\\\\\"column\\\\\\\\\\\\\": {\\\\\\\\\\\\\"type\\\\\\\\\\\\\": 2, \\\\\\\\\\\\\"details\\\\\\\\\\\\\": {\\\\\\\\\\\\\"selectedColumn\\\\\\\\\\\\\": \\\\\\\\\\\\\"Gender\\\\\\\\\\\\\"}}, \\\\\\\\\\\\\"typeProperty\\\\\\\\\\\\\": 0}, {\\\\\\\\\\\\\"column\\\\\\\\\\\\\": {\\\\\\\\\\\\\"type\\\\\\\\\\\\\": 2, \\\\\\\\\\\\\"details\\\\\\\\\\\\\": {\\\\\\\\\\\\\"selectedColumn\\\\\\\\\\\\\": \\\\\\\\\\\\\"Dependent_count\\\\\\\\\\\\\"}}, \\\\\\\\\\\\\"typeProperty\\\\\\\\\\\\\": 2}, {\\\\\\\\\\\\\"column\\\\\\\\\\\\\": {\\\\\\\\\\\\\"type\\\\\\\\\\\\\": 2, \\\\\\\\\\\\\"details\\\\\\\\\\\\\": {\\\\\\\\\\\\\"selectedColumn\\\\\\\\\\\\\": \\\\\\\\\\\\\"Education_Level\\\\\\\\\\\\\"}}, \\\\\\\\\\\\\"typeProperty\\\\\\\\\\\\\": 0}, {\\\\\\\\\\\\\"column\\\\\\\\\\\\\": {\\\\\\\\\\\\\"type\\\\\\\\\\\\\": 2, \\\\\\\\\\\\\"details\\\\\\\\\\\\\": {\\\\\\\\\\\\\"selectedColumn\\\\\\\\\\\\\": \\\\\\\\\\\\\"Marital_Status\\\\\\\\\\\\\"}}, \\\\\\\\\\\\\"typeProperty\\\\\\\\\\\\\": 0}, {\\\\\\\\\\\\\"column\\\\\\\\\\\\\": {\\\\\\\\\\\\\"type\\\\\\\\\\\\\": 2, \\\\\\\\\\\\\"details\\\\\\\\\\\\\": {\\\\\\\\\\\\\"selectedColumn\\\\\\\\\\\\\": \\\\\\\\\\\\\"Income_Category\\\\\\\\\\\\\"}}, \\\\\\\\\\\\\"typeProperty\\\\\\\\\\\\\": 0}, {\\\\\\\\\\\\\"column\\\\\\\\\\\\\": {\\\\\\\\\\\\\"type\\\\\\\\\\\\\": 2, \\\\\\\\\\\\\"details\\\\\\\\\\\\\": {\\\\\\\\\\\\\"selectedColumn\\\\\\\\\\\\\": \\\\\\\\\\\\\"Card_Category\\\\\\\\\\\\\"}}, \\\\\\\\\\\\\"typeProperty\\\\\\\\\\\\\": 0}, {\\\\\\\\\\\\\"column\\\\\\\\\\\\\": {\\\\\\\\\\\\\"type\\\\\\\\\\\\\": 2, \\\\\\\\\\\\\"details\\\\\\\\\\\\\": {\\\\\\\\\\\\\"selectedColumn\\\\\\\\\\\\\": \\\\\\\\\\\\\"Months_on_book\\\\\\\\\\\\\"}}, \\\\\\\\\\\\\"typeProperty\\\\\\\\\\\\\": 2}, {\\\\\\\\\\\\\"column\\\\\\\\\\\\\": {\\\\\\\\\\\\\"type\\\\\\\\\\\\\": 2, \\\\\\\\\\\\\"details\\\\\\\\\\\\\": {\\\\\\\\\\\\\"selectedColumn\\\\\\\\\\\\\": \\\\\\\\\\\\\"Total_Relationship_Count\\\\\\\\\\\\\"}}, \\\\\\\\\\\\\"typeProperty\\\\\\\\\\\\\": 2}, {\\\\\\\\\\\\\"column\\\\\\\\\\\\\": {\\\\\\\\\\\\\"type\\\\\\\\\\\\\": 2, \\\\\\\\\\\\\"details\\\\\\\\\\\\\": {\\\\\\\\\\\\\"selectedColumn\\\\\\\\\\\\\": \\\\\\\\\\\\\"Months_Inactive_12_mon\\\\\\\\\\\\\"}}, \\\\\\\\\\\\\"typeProperty\\\\\\\\\\\\\": 2}, {\\\\\\\\\\\\\"column\\\\\\\\\\\\\": {\\\\\\\\\\\\\"type\\\\\\\\\\\\\": 2, \\\\\\\\\\\\\"details\\\\\\\\\\\\\": {\\\\\\\\\\\\\"selectedColumn\\\\\\\\\\\\\": \\\\\\\\\\\\\"Contacts_Count_12_mon\\\\\\\\\\\\\"}}, \\\\\\\\\\\\\"typeProperty\\\\\\\\\\\\\": 2}, {\\\\\\\\\\\\\"column\\\\\\\\\\\\\": {\\\\\\\\\\\\\"type\\\\\\\\\\\\\": 2, \\\\\\\\\\\\\"details\\\\\\\\\\\\\": {\\\\\\\\\\\\\"selectedColumn\\\\\\\\\\\\\": \\\\\\\\\\\\\"Credit_Limit\\\\\\\\\\\\\"}}, \\\\\\\\\\\\\"typeProperty\\\\\\\\\\\\\": 3}, {\\\\\\\\\\\\\"column\\\\\\\\\\\\\": {\\\\\\\\\\\\\"type\\\\\\\\\\\\\": 2, \\\\\\\\\\\\\"details\\\\\\\\\\\\\": {\\\\\\\\\\\\\"selectedColumn\\\\\\\\\\\\\": \\\\\\\\\\\\\"Total_Revolving_Bal\\\\\\\\\\\\\"}}, \\\\\\\\\\\\\"typeProperty\\\\\\\\\\\\\": 2}, {\\\\\\\\\\\\\"column\\\\\\\\\\\\\": {\\\\\\\\\\\\\"type\\\\\\\\\\\\\": 2, \\\\\\\\\\\\\"details\\\\\\\\\\\\\": {\\\\\\\\\\\\\"selectedColumn\\\\\\\\\\\\\": \\\\\\\\\\\\\"Avg_Open_To_Buy\\\\\\\\\\\\\"}}, \\\\\\\\\\\\\"typeProperty\\\\\\\\\\\\\": 3}, {\\\\\\\\\\\\\"column\\\\\\\\\\\\\": {\\\\\\\\\\\\\"type\\\\\\\\\\\\\": 2, \\\\\\\\\\\\\"details\\\\\\\\\\\\\": {\\\\\\\\\\\\\"selectedColumn\\\\\\\\\\\\\": \\\\\\\\\\\\\"Total_Amt_Chng_Q4_Q1\\\\\\\\\\\\\"}}, \\\\\\\\\\\\\"typeProperty\\\\\\\\\\\\\": 3}, {\\\\\\\\\\\\\"column\\\\\\\\\\\\\": {\\\\\\\\\\\\\"type\\\\\\\\\\\\\": 2, \\\\\\\\\\\\\"details\\\\\\\\\\\\\": {\\\\\\\\\\\\\"selectedColumn\\\\\\\\\\\\\": \\\\\\\\\\\\\"Total_Trans_Amt\\\\\\\\\\\\\"}}, \\\\\\\\\\\\\"typeProperty\\\\\\\\\\\\\": 2}, {\\\\\\\\\\\\\"column\\\\\\\\\\\\\": {\\\\\\\\\\\\\"type\\\\\\\\\\\\\": 2, \\\\\\\\\\\\\"details\\\\\\\\\\\\\": {\\\\\\\\\\\\\"selectedColumn\\\\\\\\\\\\\": \\\\\\\\\\\\\"Total_Trans_Ct\\\\\\\\\\\\\"}}, \\\\\\\\\\\\\"typeProperty\\\\\\\\\\\\\": 2}, {\\\\\\\\\\\\\"column\\\\\\\\\\\\\": {\\\\\\\\\\\\\"type\\\\\\\\\\\\\": 2, \\\\\\\\\\\\\"details\\\\\\\\\\\\\": {\\\\\\\\\\\\\"selectedColumn\\\\\\\\\\\\\": \\\\\\\\\\\\\"Total_Ct_Chng_Q4_Q1\\\\\\\\\\\\\"}}, \\\\\\\\\\\\\"typeProperty\\\\\\\\\\\\\": 3}, {\\\\\\\\\\\\\"column\\\\\\\\\\\\\": {\\\\\\\\\\\\\"type\\\\\\\\\\\\\": 2, \\\\\\\\\\\\\"details\\\\\\\\\\\\\": {\\\\\\\\\\\\\"selectedColumn\\\\\\\\\\\\\": \\\\\\\\\\\\\"Avg_Utilization_Ratio\\\\\\\\\\\\\"}}, \\\\\\\\\\\\\"typeProperty\\\\\\\\\\\\\": 3}]}, \\\\\\\\\\\\\"localData\\\\\\\\\\\\\": {}, \\\\\\\\\\\\\"isEnabled\\\\\\\\\\\\\": true, \\\\\\\\\\\\\"name\\\\\\\\\\\\\": null, \\\\\\\\\\\\\"annotation\\\\\\\\\\\\\": null}], \\\\\\\\\\\\\"inspectors\\\\\\\\\\\\\": [], \\\\\\\\\\\\\"meta\\\\\\\\\\\\\": {\\\\\\\\\\\\\"savedDatasetId\\\\\\\\\\\\\": \\\\\\\\\\\\\"f306c80b-3ff7-4219-a115-818e1ab8165e\\\\\\\\\\\\\", \\\\\\\\\\\\\"datasetType\\\\\\\\\\\\\": \\\\\\\\\\\\\"tabular\\\\\\\\\\\\\", \\\\\\\\\\\\\"subscriptionId\\\\\\\\\\\\\": \\\\\\\\\\\\\"d4ad7261-832d-46b2-b093-22156001df5b\\\\\\\\\\\\\", \\\\\\\\\\\\\"workspaceId\\\\\\\\\\\\\": \\\\\\\\\\\\\"a03c31cd-5c45-4014-8403-0c7d229497e9\\\\\\\\\\\\\", \\\\\\\\\\\\\"workspaceLocation\\\\\\\\\\\\\": \\\\\\\\\\\\\"southcentralus\\\\\\\\\\\\\"}}\\\\\", \\\\\"activities\\\\\": 0}',\n  'EnableSubsampling': None,\n  'runTemplate': 'AutoML',\n  'azureml.runsource': 'automl',\n  'display_task_type': 'classification',\n  'dependencies_versions': '{\"azureml-widgets\": \"1.19.0\", \"azureml-train\": \"1.19.0\", \"azureml-train-restclients-hyperdrive\": \"1.19.0\", \"azureml-train-core\": \"1.19.0\", \"azureml-train-automl\": \"1.19.0\", \"azureml-train-automl-runtime\": \"1.19.0\", \"azureml-train-automl-client\": \"1.19.0\", \"azureml-tensorboard\": \"1.19.0\", \"azureml-telemetry\": \"1.19.0\", \"azureml-sdk\": \"1.19.0\", \"azureml-samples\": \"0+unknown\", \"azureml-pipeline\": \"1.19.0\", \"azureml-pipeline-steps\": \"1.19.0\", \"azureml-pipeline-core\": \"1.19.0\", \"azureml-opendatasets\": \"1.19.0\", \"azureml-model-management-sdk\": \"1.0.1b6.post1\", \"azureml-mlflow\": \"1.19.0\", \"azureml-interpret\": \"1.19.0\", \"azureml-explain-model\": \"1.19.0\", \"azureml-defaults\": \"1.19.0\", \"azureml-dataset-runtime\": \"1.19.0.post1\", \"azureml-dataprep\": \"2.6.1\", \"azureml-dataprep-rslex\": \"1.4.0\", \"azureml-dataprep-native\": \"26.0.0\", \"azureml-datadrift\": \"1.19.0\", \"azureml-core\": \"1.19.0\", \"azureml-contrib-services\": \"1.19.0\", \"azureml-contrib-server\": \"1.19.0\", \"azureml-contrib-reinforcementlearning\": \"1.19.0\", \"azureml-contrib-pipeline-steps\": \"1.19.0\", \"azureml-contrib-notebook\": \"1.19.0\", \"azureml-contrib-interpret\": \"1.19.0\", \"azureml-contrib-gbdt\": \"1.19.0\", \"azureml-contrib-fairness\": \"1.19.0\", \"azureml-contrib-dataset\": \"1.19.0\", \"azureml-cli-common\": \"1.19.0\", \"azureml-automl-runtime\": \"1.19.0\", \"azureml-automl-core\": \"1.19.0\", \"azureml-accel-models\": \"1.19.0\"}',\n  '_aml_system_scenario_identification': 'Remote.Parent',\n  'ClientType': 'SDK',\n  'environment_cpu_name': 'AzureML-AutoML',\n  'environment_cpu_label': 'prod',\n  'environment_gpu_name': 'AzureML-AutoML-GPU',\n  'environment_gpu_label': 'prod',\n  'root_attribution': 'automl',\n  'attribution': 'AutoML',\n  'Orchestrator': 'AutoML',\n  'CancelUri': 'https://southcentralus.experiments.azureml.net/jasmine/v1.0/subscriptions/d4ad7261-832d-46b2-b093-22156001df5b/resourceGroups/aml-quickstarts-134840/providers/Microsoft.MachineLearningServices/workspaces/quick-starts-ws-134840/experimentids/c583da0f-89c5-4412-9765-6531dcf01506/cancel/AutoML_1d2a8642-b286-4f81-9bbc-4a9dadbd6b30',\n  'ClientSdkVersion': '1.19.0',\n  'snapshotId': '00000000-0000-0000-0000-000000000000',\n  'SetupRunId': 'AutoML_1d2a8642-b286-4f81-9bbc-4a9dadbd6b30_setup',\n  'SetupRunContainerId': 'dcid.AutoML_1d2a8642-b286-4f81-9bbc-4a9dadbd6b30_setup',\n  'FeaturizationRunJsonPath': 'featurizer_container.json',\n  'FeaturizationRunId': 'AutoML_1d2a8642-b286-4f81-9bbc-4a9dadbd6b30_featurize',\n  'ProblemInfoJsonString': '{\"dataset_num_categorical\": 0, \"is_sparse\": true, \"subsampling\": false, \"dataset_classes\": 2, \"dataset_features\": 146, \"dataset_samples\": 10127, \"single_frequency_class_detected\": false}',\n  'ModelExplainRunId': 'AutoML_1d2a8642-b286-4f81-9bbc-4a9dadbd6b30_ModelExplain'},\n 'inputDatasets': [{'dataset': {'id': 'f306c80b-3ff7-4219-a115-818e1ab8165e'}, 'consumptionDetails': {'type': 'RunInput', 'inputName': 'training_data', 'mechanism': 'Direct'}}],\n 'outputDatasets': [],\n 'logFiles': {}}"
          },
          "metadata": {}
        }
      ],
      "execution_count": 7,
      "metadata": {
        "gather": {
          "logged": 1610779188305
        },
        "jupyter": {
          "outputs_hidden": false,
          "source_hidden": false
        },
        "nteract": {
          "transient": {
            "deleting": false
          }
        }
      }
    },
    {
      "cell_type": "markdown",
      "source": [
        "## Best Model\n",
        "\n",
        "TODO: In the cell below, get the best model from the automl experiments and display all the properties of the model.\n",
        "\n"
      ],
      "metadata": {}
    },
    {
      "cell_type": "code",
      "source": [
        "# Retrieve the best AutoML model\n",
        "best_run, best_model = remote_run.get_output()\n",
        "best_metrics = best_run.get_metrics()"
      ],
      "outputs": [],
      "execution_count": 8,
      "metadata": {
        "gather": {
          "logged": 1610779212465
        },
        "jupyter": {
          "outputs_hidden": false,
          "source_hidden": false
        },
        "nteract": {
          "transient": {
            "deleting": false
          }
        }
      }
    },
    {
      "cell_type": "code",
      "source": [
        "#Save the best model\n",
        "# model = best_run.register_model(model_name = \"best-automl-model\", model_path = \"./outputs/\")\n",
        "model = best_run.register_model(model_name='best-automl-model',model_path='outputs/model.pkl', tags={'Method':'AutoML'}, properties={'accuracy': best_metrics['accuracy']})\n",
        "print(model)\n",
        "print(best_run)"
      ],
      "outputs": [
        {
          "output_type": "stream",
          "name": "stdout",
          "text": [
            "Model(workspace=Workspace.create(name='quick-starts-ws-134840', subscription_id='d4ad7261-832d-46b2-b093-22156001df5b', resource_group='aml-quickstarts-134840'), name=best-automl-model, id=best-automl-model:1, version=1, tags={'Method': 'AutoML'}, properties={'accuracy': '0.970573635246621'})\n",
            "Run(Experiment: demo-automl-experiment,\n",
            "Id: AutoML_1d2a8642-b286-4f81-9bbc-4a9dadbd6b30_38,\n",
            "Type: azureml.scriptrun,\n",
            "Status: Completed)\n"
          ]
        }
      ],
      "execution_count": 9,
      "metadata": {
        "gather": {
          "logged": 1610779213051
        },
        "jupyter": {
          "outputs_hidden": false,
          "source_hidden": false
        },
        "nteract": {
          "transient": {
            "deleting": false
          }
        }
      }
    },
    {
      "cell_type": "code",
      "source": [
        "print(best_metrics[\"accuracy\"])\n",
        "print(best_model._final_estimator)"
      ],
      "outputs": [
        {
          "output_type": "stream",
          "name": "stdout",
          "text": [
            "0.970573635246621\n",
            "PreFittedSoftVotingClassifier(classification_labels=None,\n",
            "                              estimators=[('0',\n",
            "                                           Pipeline(memory=None,\n",
            "                                                    steps=[('maxabsscaler',\n",
            "                                                            MaxAbsScaler(copy=True)),\n",
            "                                                           ('lightgbmclassifier',\n",
            "                                                            LightGBMClassifier(boosting_type='gbdt',\n",
            "                                                                               class_weight=None,\n",
            "                                                                               colsample_bytree=1.0,\n",
            "                                                                               importance_type='split',\n",
            "                                                                               learning_rate=0.1,\n",
            "                                                                               max_depth=-1,\n",
            "                                                                               min_child_samples=20,\n",
            "                                                                               min_child_weight=0.001,\n",
            "                                                                               min_spl...\n",
            "                                                                                   min_samples_leaf=0.01,\n",
            "                                                                                   min_samples_split=0.01,\n",
            "                                                                                   min_weight_fraction_leaf=0.0,\n",
            "                                                                                   n_estimators=25,\n",
            "                                                                                   n_jobs=1,\n",
            "                                                                                   oob_score=True,\n",
            "                                                                                   random_state=None,\n",
            "                                                                                   verbose=0,\n",
            "                                                                                   warm_start=False))],\n",
            "                                                    verbose=False))],\n",
            "                              flatten_transform=None,\n",
            "                              weights=[0.25, 0.16666666666666666,\n",
            "                                       0.08333333333333333, 0.08333333333333333,\n",
            "                                       0.08333333333333333, 0.16666666666666666,\n",
            "                                       0.08333333333333333,\n",
            "                                       0.08333333333333333])\n"
          ]
        }
      ],
      "execution_count": 10,
      "metadata": {
        "gather": {
          "logged": 1610779213121
        },
        "jupyter": {
          "outputs_hidden": false,
          "source_hidden": false
        },
        "nteract": {
          "transient": {
            "deleting": false
          }
        }
      }
    },
    {
      "cell_type": "markdown",
      "source": [
        "## Model Deployment\n",
        "\n",
        "Remember you have to deploy only one of the two models you trained.. Perform the steps in the rest of this notebook only if you wish to deploy this model.\n",
        "\n",
        "TODO: In the cell below, register the model, create an inference config and deploy the model as a web service."
      ],
      "metadata": {}
    },
    {
      "cell_type": "code",
      "source": [
        "from azureml.core import Environment\n",
        "from azureml.core.model import InferenceConfig\n",
        "from azureml.automl.core.shared import constants\n",
        "\n",
        "best_run.download_file('./outputs/model.pkl', './outputs/bankchurners-auto-model.pkl')\n",
        "best_run.download_file('./outputs/scoring_file_v_1_0_0.py', './outputs/score_aml.py')\n",
        "best_run.download_file('./automl_driver.py', './outputs/automl_driver.py')\n",
        "best_run.download_file(constants.CONDA_ENV_FILE_PATH, 'myenv.yml')\n",
        "\n",
        "myenv = Environment.from_conda_specification(name=\"myenv\", file_path=\"myenv.yml\")\n",
        "\n",
        "# Create the inference config\n",
        "\n",
        "inference_config = InferenceConfig(entry_script='./score.py', environment=myenv)\n"
      ],
      "outputs": [],
      "execution_count": 18,
      "metadata": {
        "gather": {
          "logged": 1610779589108
        },
        "jupyter": {
          "outputs_hidden": false,
          "source_hidden": false
        },
        "nteract": {
          "transient": {
            "deleting": false
          }
        }
      }
    },
    {
      "cell_type": "code",
      "source": [
        "f = open(\"envnew.yml\", \"w\")\n",
        "f.write(myenv.python.conda_dependencies.serialize_to_string())\n",
        "f.close()\n",
        "\n",
        "print(\"packages\", myenv.python.conda_dependencies.serialize_to_string())"
      ],
      "outputs": [
        {
          "output_type": "stream",
          "name": "stdout",
          "text": [
            "packages # Conda environment specification. The dependencies defined in this file will\n",
            "# be automatically provisioned for runs with userManagedDependencies=False.\n",
            "\n",
            "# Details about the Conda environment file format:\n",
            "# https://conda.io/docs/user-guide/tasks/manage-environments.html#create-env-file-manually\n",
            "\n",
            "name: project_environment\n",
            "dependencies:\n",
            "  # The python interpreter version.\n",
            "  # Currently Azure ML only supports 3.5.2 and later.\n",
            "- python=3.6.2\n",
            "\n",
            "- pip:\n",
            "  - azureml-train-automl-runtime==1.19.0\n",
            "  - inference-schema\n",
            "  - azureml-interpret==1.19.0\n",
            "  - azureml-defaults==1.19.0\n",
            "- numpy>=1.16.0,<1.19.0\n",
            "- pandas==0.25.1\n",
            "- scikit-learn==0.22.1\n",
            "- py-xgboost<=0.90\n",
            "- fbprophet==0.5\n",
            "- holidays==0.9.11\n",
            "- psutil>=5.2.2,<6.0.0\n",
            "channels:\n",
            "- anaconda\n",
            "- conda-forge\n",
            "\n"
          ]
        }
      ],
      "execution_count": 19,
      "metadata": {
        "collapsed": true,
        "gather": {
          "logged": 1610779591140
        },
        "jupyter": {
          "outputs_hidden": false,
          "source_hidden": false
        },
        "nteract": {
          "transient": {
            "deleting": false
          }
        }
      }
    },
    {
      "cell_type": "code",
      "source": [
        "# Deploy the model as a webservice\n",
        "from azureml.core.webservice import AciWebservice\n",
        "\n",
        "deployment_config = AciWebservice.deploy_configuration(\n",
        "    cpu_cores=1,\n",
        "    memory_gb = 1,\n",
        "    enable_app_insights = True\n",
        ")\n",
        "service = Model.deploy(ws, 'model-service', [model], inference_config, deployment_config)\n",
        "\n",
        "print(service.state)\n",
        "\n",
        "# Wait until deployment is complete\n",
        "service.wait_for_deployment(show_output = True)\n"
      ],
      "outputs": [
        {
          "output_type": "stream",
          "name": "stdout",
          "text": [
            "Transitioning\n",
            "Tips: You can try get_logs(): https://aka.ms/debugimage#dockerlog or local deployment: https://aka.ms/debugimage#debug-locally to debug if deployment takes longer than 10 minutes.\n",
            "Running.............................................................................................................................................................................................\n",
            "Succeeded\n",
            "ACI service creation operation finished, operation \"Succeeded\"\n"
          ]
        }
      ],
      "execution_count": 20,
      "metadata": {
        "gather": {
          "logged": 1610780589245
        }
      }
    },
    {
      "cell_type": "code",
      "source": [
        "print(service.get_logs)"
      ],
      "outputs": [
        {
          "output_type": "stream",
          "name": "stdout",
          "text": [
            "<bound method Webservice.get_logs of AciWebservice(workspace=Workspace.create(name='quick-starts-ws-134840', subscription_id='d4ad7261-832d-46b2-b093-22156001df5b', resource_group='aml-quickstarts-134840'), name=model-service, image_id=None, compute_type=None, state=ACI, scoring_uri=Healthy, tags=http://4b920478-178e-41ef-8706-d7603e1a2fbb.southcentralus.azurecontainer.io/score, properties={}, created_by={'hasInferenceSchema': 'True', 'hasHttps': 'False'})>\n"
          ]
        }
      ],
      "execution_count": 21,
      "metadata": {
        "collapsed": true,
        "gather": {
          "logged": 1610780589376
        },
        "jupyter": {
          "outputs_hidden": false,
          "source_hidden": false
        },
        "nteract": {
          "transient": {
            "deleting": false
          }
        }
      }
    },
    {
      "cell_type": "markdown",
      "source": [
        "TODO: In the cell below, send a request to the web service you deployed to test it."
      ],
      "metadata": {
        "collapsed": true,
        "gather": {
          "logged": 1598431657736
        },
        "jupyter": {
          "outputs_hidden": false,
          "source_hidden": false
        },
        "nteract": {
          "transient": {
            "deleting": false
          }
        }
      }
    },
    {
      "cell_type": "code",
      "source": [
        "import json\n",
        "\n",
        "data_sample = dataset.to_pandas_dataframe().sample(3)\n",
        "test_sample = json.dumps({'data':data_sample.to_dict(orient='records')})\n",
        "print(test_sample)\n"
      ],
      "outputs": [
        {
          "output_type": "stream",
          "name": "stdout",
          "text": [
            "{\"data\": [{\"CLIENTNUM\": 719163108, \"Attrition_Flag\": \"Existing Customer\", \"Customer_Age\": 44, \"Gender\": \"M\", \"Dependent_count\": 3, \"Education_Level\": \"Graduate\", \"Marital_Status\": \"Married\", \"Income_Category\": \"$120K +\", \"Card_Category\": \"Blue\", \"Months_on_book\": 31, \"Total_Relationship_Count\": 2, \"Months_Inactive_12_mon\": 2, \"Contacts_Count_12_mon\": 3, \"Credit_Limit\": 3977.0, \"Total_Revolving_Bal\": 1325, \"Avg_Open_To_Buy\": 2652.0, \"Total_Amt_Chng_Q4_Q1\": 0.769, \"Total_Trans_Amt\": 4076, \"Total_Trans_Ct\": 62, \"Total_Ct_Chng_Q4_Q1\": 0.632, \"Avg_Utilization_Ratio\": 0.333}, {\"CLIENTNUM\": 712146558, \"Attrition_Flag\": \"Existing Customer\", \"Customer_Age\": 48, \"Gender\": \"F\", \"Dependent_count\": 5, \"Education_Level\": \"Uneducated\", \"Marital_Status\": \"Married\", \"Income_Category\": \"Less than $40K\", \"Card_Category\": \"Blue\", \"Months_on_book\": 30, \"Total_Relationship_Count\": 3, \"Months_Inactive_12_mon\": 2, \"Contacts_Count_12_mon\": 3, \"Credit_Limit\": 2364.0, \"Total_Revolving_Bal\": 1619, \"Avg_Open_To_Buy\": 745.0, \"Total_Amt_Chng_Q4_Q1\": 0.585, \"Total_Trans_Amt\": 3230, \"Total_Trans_Ct\": 65, \"Total_Ct_Chng_Q4_Q1\": 0.711, \"Avg_Utilization_Ratio\": 0.685}, {\"CLIENTNUM\": 826709658, \"Attrition_Flag\": \"Attrited Customer\", \"Customer_Age\": 45, \"Gender\": \"F\", \"Dependent_count\": 3, \"Education_Level\": \"Graduate\", \"Marital_Status\": \"Divorced\", \"Income_Category\": \"$40K - $60K\", \"Card_Category\": \"Blue\", \"Months_on_book\": 41, \"Total_Relationship_Count\": 1, \"Months_Inactive_12_mon\": 3, \"Contacts_Count_12_mon\": 3, \"Credit_Limit\": 1477.0, \"Total_Revolving_Bal\": 0, \"Avg_Open_To_Buy\": 1477.0, \"Total_Amt_Chng_Q4_Q1\": 0.768, \"Total_Trans_Amt\": 2214, \"Total_Trans_Ct\": 43, \"Total_Ct_Chng_Q4_Q1\": 0.654, \"Avg_Utilization_Ratio\": 0.0}]}\n"
          ]
        }
      ],
      "execution_count": 22,
      "metadata": {
        "gather": {
          "logged": 1610781082796
        },
        "jupyter": {
          "outputs_hidden": false,
          "source_hidden": false
        },
        "nteract": {
          "transient": {
            "deleting": false
          }
        }
      }
    },
    {
      "cell_type": "markdown",
      "source": [
        "TODO: In the cell below, print the logs of the web service and delete the service"
      ],
      "metadata": {
        "collapsed": true,
        "gather": {
          "logged": 1598432765711
        },
        "jupyter": {
          "outputs_hidden": false,
          "source_hidden": false
        },
        "nteract": {
          "transient": {
            "deleting": false
          }
        }
      }
    },
    {
      "cell_type": "code",
      "source": [
        "# Print web service logs\n",
        "service_logs = service.get_logs()\n",
        "\n",
        "for line in service_logs.split('\\n'):\n",
        "    print(line)\n",
        "\n",
        "# Delete the service\n",
        "service.delete()"
      ],
      "outputs": [
        {
          "output_type": "stream",
          "name": "stdout",
          "text": [
            "2021-01-16T07:02:56,956579545+00:00 - iot-server/run \n",
            "2021-01-16T07:02:56,958276597+00:00 - rsyslog/run \n",
            "2021-01-16T07:02:56,961702102+00:00 - nginx/run \n",
            "2021-01-16T07:02:56,960968380+00:00 - gunicorn/run \n",
            "/usr/sbin/nginx: /azureml-envs/azureml_9c539d20199ae6be65c41c0382029684/lib/libcrypto.so.1.0.0: no version information available (required by /usr/sbin/nginx)\n",
            "/usr/sbin/nginx: /azureml-envs/azureml_9c539d20199ae6be65c41c0382029684/lib/libcrypto.so.1.0.0: no version information available (required by /usr/sbin/nginx)\n",
            "/usr/sbin/nginx: /azureml-envs/azureml_9c539d20199ae6be65c41c0382029684/lib/libssl.so.1.0.0: no version information available (required by /usr/sbin/nginx)\n",
            "/usr/sbin/nginx: /azureml-envs/azureml_9c539d20199ae6be65c41c0382029684/lib/libssl.so.1.0.0: no version information available (required by /usr/sbin/nginx)\n",
            "/usr/sbin/nginx: /azureml-envs/azureml_9c539d20199ae6be65c41c0382029684/lib/libssl.so.1.0.0: no version information available (required by /usr/sbin/nginx)\n",
            "rsyslogd: /azureml-envs/azureml_9c539d20199ae6be65c41c0382029684/lib/libuuid.so.1: no version information available (required by rsyslogd)\n",
            "EdgeHubConnectionString and IOTEDGE_IOTHUBHOSTNAME are not set. Exiting...\n",
            "2021-01-16T07:02:57,165192838+00:00 - iot-server/finish 1 0\n",
            "2021-01-16T07:02:57,167163398+00:00 - Exit code 1 is normal. Not restarting iot-server.\n",
            "Starting gunicorn 19.9.0\n",
            "Listening at: http://127.0.0.1:31311 (14)\n",
            "Using worker: sync\n",
            "worker timeout is set to 300\n",
            "Booting worker with pid: 43\n",
            "SPARK_HOME not set. Skipping PySpark Initialization.\n",
            "Generating new fontManager, this may take some time...\n",
            "Initializing logger\n",
            "2021-01-16 07:03:00,589 | root | INFO | Starting up app insights client\n",
            "Starting up app insights client\n",
            "2021-01-16 07:03:00,590 | root | INFO | Starting up request id generator\n",
            "Starting up request id generator\n",
            "2021-01-16 07:03:00,590 | root | INFO | Starting up app insight hooks\n",
            "Starting up app insight hooks\n",
            "2021-01-16 07:03:00,590 | root | INFO | Invoking user's init function\n",
            "Invoking user's init function\n",
            "/azureml-envs/azureml_9c539d20199ae6be65c41c0382029684/lib/python3.6/site-packages/numpy/core/numeric.py:2327: FutureWarning: elementwise comparison failed; returning scalar instead, but in the future will perform elementwise comparison\n",
            "  return bool(asarray(a1 == a2).all())\n",
            "azureml-models/best-automl-model/1/model.pkl\n",
            "2021-01-16 07:03:02,077 | root | INFO | Users's init has completed successfully\n",
            "Users's init has completed successfully\n",
            "2021-01-16 07:03:02,154 | root | INFO | Skipping middleware: dbg_model_info as it's not enabled.\n",
            "Skipping middleware: dbg_model_info as it's not enabled.\n",
            "2021-01-16 07:03:02,154 | root | INFO | Skipping middleware: dbg_resource_usage as it's not enabled.\n",
            "Skipping middleware: dbg_resource_usage as it's not enabled.\n",
            "2021-01-16 07:03:02,156 | root | INFO | Scoring timeout is found from os.environ: 60000 ms\n",
            "Scoring timeout is found from os.environ: 60000 ms\n",
            "2021-01-16 07:03:05,106 | root | INFO | 200\n",
            "200\n",
            "127.0.0.1 - - [16/Jan/2021:07:03:05 +0000] \"GET /swagger.json HTTP/1.0\" 200 3595 \"-\" \"Go-http-client/1.1\"\n",
            "2021-01-16 07:03:08,935 | root | INFO | 200\n",
            "200\n",
            "127.0.0.1 - - [16/Jan/2021:07:03:08 +0000] \"GET /swagger.json HTTP/1.0\" 200 3595 \"-\" \"Go-http-client/1.1\"\n",
            "\n"
          ]
        }
      ],
      "execution_count": 23,
      "metadata": {
        "jupyter": {
          "outputs_hidden": false,
          "source_hidden": false
        },
        "nteract": {
          "transient": {
            "deleting": false
          }
        },
        "gather": {
          "logged": 1610781090481
        }
      }
    }
  ],
  "metadata": {
    "kernel_info": {
      "name": "python3"
    },
    "kernelspec": {
      "name": "python3",
      "language": "python",
      "display_name": "Python 3"
    },
    "language_info": {
      "name": "python",
      "version": "3.6.9",
      "mimetype": "text/x-python",
      "codemirror_mode": {
        "name": "ipython",
        "version": 3
      },
      "pygments_lexer": "ipython3",
      "nbconvert_exporter": "python",
      "file_extension": ".py"
    },
    "nteract": {
      "version": "nteract-front-end@1.0.0"
    }
  },
  "nbformat": 4,
  "nbformat_minor": 2
}