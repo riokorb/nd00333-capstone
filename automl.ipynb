{
  "cells": [
    {
      "cell_type": "markdown",
      "source": [
        "# Automated ML\n",
        "\n",
        "TODO: Import Dependencies. In the cell below, import all the dependencies that you will need to complete the project."
      ],
      "metadata": {}
    },
    {
      "cell_type": "code",
      "source": [
        "from azureml.core import Experiment, Model, Webservice\n",
        "from azureml.core.workspace import Workspace\n",
        "from azureml.core.dataset import Dataset\n",
        "from azureml.train.automl import AutoMLConfig\n",
        "from azureml.core.compute import ComputeTarget, AmlCompute\n",
        "from azureml.core.compute_target import ComputeTargetException\n",
        "from azureml.pipeline.steps import AutoMLStep\n",
        "\n",
        "import pandas as pd"
      ],
      "outputs": [],
      "execution_count": 1,
      "metadata": {
        "gather": {
          "logged": 1611842587333
        },
        "jupyter": {
          "outputs_hidden": false,
          "source_hidden": false
        },
        "nteract": {
          "transient": {
            "deleting": false
          }
        }
      }
    },
    {
      "cell_type": "markdown",
      "source": [
        "## Dataset\n",
        "\n",
        "### Overview\n",
        "TODO: In this markdown cell, give an overview of the dataset you are using. Also mention the task you will be performing.\n",
        "We will be using the 'Credit Card customers' dataset from Kaggle and predicting if a customer is likely to churn.\n",
        "\n",
        "TODO: Get data. In the cell below, write code to access the data you will be using in this project. Remember that the dataset needs to be external."
      ],
      "metadata": {}
    },
    {
      "cell_type": "code",
      "source": [
        "ws = Workspace.from_config()\n",
        "\n",
        "# Choose a name for experiment\n",
        "experiment_name = 'demo-automl-experiment'\n",
        "\n",
        "experiment=Experiment(ws, experiment_name)\n",
        "\n",
        "# Prepare the datastore to upload data\n",
        "datastore = ws.get_default_datastore()\n",
        "\n",
        "# Set the upload location to target_path in datastore\n",
        "datastore.upload(src_dir='./', target_path = 'data')"
      ],
      "outputs": [
        {
          "output_type": "stream",
          "name": "stdout",
          "text": [
            "Performing interactive authentication. Please follow the instructions on the terminal.\n",
            "To sign in, use a web browser to open the page https://microsoft.com/devicelogin and enter the code E6CJBPPYH to authenticate.\n",
            "You have logged in. Now let us find all the subscriptions to which you have access...\n",
            "Interactive authentication successfully completed.\n",
            "Uploading an estimated of 6 files\n",
            "Uploading ./automl.ipynb\n",
            "Uploaded ./automl.ipynb, 1 files out of an estimated total of 6\n",
            "Uploading ./hyperparameter_tuning.ipynb\n",
            "Uploaded ./hyperparameter_tuning.ipynb, 2 files out of an estimated total of 6\n",
            "Uploading ./score.py\n",
            "Uploaded ./score.py, 3 files out of an estimated total of 6\n",
            "Uploading ./train.py\n",
            "Uploaded ./train.py, 4 files out of an estimated total of 6\n",
            "Uploading ./.ipynb_aml_checkpoints/automl-checkpoint2021-0-28-14-2-55.ipynb\n",
            "Uploaded ./.ipynb_aml_checkpoints/automl-checkpoint2021-0-28-14-2-55.ipynb, 5 files out of an estimated total of 6\n",
            "Uploading ./.ipynb_aml_checkpoints/hyperparameter_tuning-checkpoint2021-0-28-14-2-59.ipynb\n",
            "Uploaded ./.ipynb_aml_checkpoints/hyperparameter_tuning-checkpoint2021-0-28-14-2-59.ipynb, 6 files out of an estimated total of 6\n",
            "Uploaded 6 files\n"
          ]
        },
        {
          "output_type": "execute_result",
          "execution_count": 2,
          "data": {
            "text/plain": "$AZUREML_DATAREFERENCE_212a7d15f47846bdb539c88201ff181d"
          },
          "metadata": {}
        }
      ],
      "execution_count": 2,
      "metadata": {
        "gather": {
          "logged": 1611842611310
        },
        "jupyter": {
          "outputs_hidden": false,
          "source_hidden": false
        },
        "nteract": {
          "transient": {
            "deleting": false
          }
        }
      }
    },
    {
      "cell_type": "code",
      "source": [
        "# Choose a name for CPU cluster\n",
        "compute_name = \"demo-cluster\"\n",
        "\n",
        "# Verify that cluster does not already exist\n",
        "try:\n",
        "    compute_target = ComputeTarget(workspace=ws, name=compute_name)\n",
        "    print('Found existing cluster, use it.')\n",
        "except ComputeTargetException:\n",
        "    compute_config = AmlCompute.provisioning_configuration(vm_size='STANDARD_D2_V2',# for GPU, use \"STANDARD_NC6\"\n",
        "                                                           #vm_priority = 'lowpriority', # optional\n",
        "                                                           max_nodes=4)\n",
        "    compute_target = ComputeTarget.create(ws, compute_name, compute_config)\n",
        "\n",
        "compute_target.wait_for_completion(show_output=True)"
      ],
      "outputs": [
        {
          "output_type": "stream",
          "name": "stdout",
          "text": [
            "Found existing cluster, use it.\n",
            "\n",
            "Running\n"
          ]
        }
      ],
      "execution_count": 3,
      "metadata": {
        "collapsed": true,
        "gather": {
          "logged": 1611842618282
        },
        "jupyter": {
          "outputs_hidden": false,
          "source_hidden": false
        },
        "nteract": {
          "transient": {
            "deleting": false
          }
        }
      }
    },
    {
      "cell_type": "code",
      "source": [
        "dataset = Dataset.get_by_name(ws, name = \"bankchurners\")\n",
        "dataset"
      ],
      "outputs": [
        {
          "output_type": "execute_result",
          "execution_count": 5,
          "data": {
            "text/plain": "{\n  \"source\": [\n    \"('workspaceblobstore', 'UI/01-28-2021_020402_UTC/BankChurners.csv')\"\n  ],\n  \"definition\": [\n    \"GetDatastoreFiles\",\n    \"ParseDelimited\",\n    \"DropColumns\",\n    \"SetColumnTypes\"\n  ],\n  \"registration\": {\n    \"id\": \"79bf3402-85fb-4462-afcc-de1b593bbecf\",\n    \"name\": \"bankchurners\",\n    \"version\": 1,\n    \"workspace\": \"Workspace.create(name='quick-starts-ws-136389', subscription_id='f5091c60-1c3c-430f-8d81-d802f6bf2414', resource_group='aml-quickstarts-136389')\"\n  }\n}"
          },
          "metadata": {}
        }
      ],
      "execution_count": 5,
      "metadata": {
        "collapsed": true,
        "gather": {
          "logged": 1611842679423
        },
        "jupyter": {
          "outputs_hidden": false,
          "source_hidden": false
        },
        "nteract": {
          "transient": {
            "deleting": false
          }
        }
      }
    },
    {
      "cell_type": "markdown",
      "source": [
        "## AutoML Configuration\n",
        "\n",
        "TODO: Explain why you chose the automl settings and cofiguration you used below."
      ],
      "metadata": {}
    },
    {
      "cell_type": "code",
      "source": [
        "# List the automl config\n",
        "automl_config = AutoMLConfig(\n",
        "    experiment_timeout_minutes = 30,\n",
        "    task = \"classification\",\n",
        "    compute_target = \"demo-cluster\",\n",
        "    max_concurrent_iterations = 5,\n",
        "    training_data = dataset,\n",
        "    primary_metric = \"accuracy\",\n",
        "    label_column_name = \"Attrition_Flag\",\n",
        "    n_cross_validations = 3,\n",
        "    enable_early_stopping = True\n",
        ")"
      ],
      "outputs": [],
      "execution_count": 6,
      "metadata": {
        "gather": {
          "logged": 1611842684490
        },
        "jupyter": {
          "outputs_hidden": false,
          "source_hidden": false
        },
        "nteract": {
          "transient": {
            "deleting": false
          }
        }
      }
    },
    {
      "cell_type": "code",
      "source": [
        "# Submit the experiment\n",
        "remote_run = experiment.submit(automl_config, show_output = True)"
      ],
      "outputs": [
        {
          "output_type": "stream",
          "name": "stdout",
          "text": [
            "Running on remote.\n",
            "No run_configuration provided, running on demo-cluster with default configuration\n",
            "Running on remote compute: demo-cluster\n",
            "Parent Run ID: AutoML_2aa9bad3-2ac6-4205-ac66-21667fe9859c\n",
            "\n",
            "Current status: FeaturesGeneration. Generating features for the dataset.\n",
            "Current status: DatasetFeaturization. Beginning to fit featurizers and featurize the dataset.\n",
            "Current status: DatasetCrossValidationSplit. Generating individually featurized CV splits.\n",
            "Current status: ModelSelection. Beginning model selection.\n",
            "\n",
            "****************************************************************************************************\n",
            "DATA GUARDRAILS: \n",
            "\n",
            "TYPE:         Class balancing detection\n",
            "STATUS:       ALERTED\n",
            "DESCRIPTION:  To decrease model bias, please cancel the current run and fix balancing problem.\n",
            "              Learn more about imbalanced data: https://aka.ms/AutomatedMLImbalancedData\n",
            "DETAILS:      Imbalanced data can lead to a falsely perceived positive effect of a model's accuracy because the input data has bias towards one class.\n",
            "+---------------------------------+---------------------------------+--------------------------------------+\n",
            "|Size of the smallest class       |Name/Label of the smallest class |Number of samples in the training data|\n",
            "+=================================+=================================+======================================+\n",
            "|1627                             |Attrited Customer                |10127                                 |\n",
            "+---------------------------------+---------------------------------+--------------------------------------+\n",
            "\n",
            "****************************************************************************************************\n",
            "\n",
            "TYPE:         Missing feature values imputation\n",
            "STATUS:       PASSED\n",
            "DESCRIPTION:  No feature missing values were detected in the training data.\n",
            "              Learn more about missing value imputation: https://aka.ms/AutomatedMLFeaturization\n",
            "\n",
            "****************************************************************************************************\n",
            "\n",
            "TYPE:         High cardinality feature detection\n",
            "STATUS:       PASSED\n",
            "DESCRIPTION:  Your inputs were analyzed, and no high cardinality features were detected.\n",
            "              Learn more about high cardinality feature handling: https://aka.ms/AutomatedMLFeaturization\n",
            "\n",
            "****************************************************************************************************\n",
            "\n",
            "****************************************************************************************************\n",
            "ITERATION: The iteration being evaluated.\n",
            "PIPELINE: A summary description of the pipeline being evaluated.\n",
            "DURATION: Time taken for the current iteration.\n",
            "METRIC: The result of computing score on the fitted pipeline.\n",
            "BEST: The best observed score thus far.\n",
            "****************************************************************************************************\n",
            "\n",
            " ITERATION   PIPELINE                                       DURATION      METRIC      BEST\n",
            "         3   MaxAbsScaler RandomForest                      0:00:44       0.8458    0.8458\n",
            "         0   MaxAbsScaler LightGBM                          0:00:51       0.9691    0.9691\n",
            "         1   MaxAbsScaler XGBoostClassifier                 0:00:54       0.9603    0.9691\n",
            "         2   MaxAbsScaler RandomForest                      0:00:43       0.8666    0.9691\n",
            "         4   MaxAbsScaler RandomForest                      0:00:49       0.8529    0.9691\n",
            "         5   MaxAbsScaler RandomForest                      0:00:47       0.7573    0.9691\n",
            "         6   SparseNormalizer XGBoostClassifier             0:00:51       0.9553    0.9691\n",
            "         7   SparseNormalizer XGBoostClassifier             0:00:52       0.9647    0.9691\n",
            "         8   SparseNormalizer XGBoostClassifier             0:00:57       0.9661    0.9691\n",
            "         9   SparseNormalizer XGBoostClassifier             0:00:51       0.9625    0.9691\n",
            "        10   SparseNormalizer XGBoostClassifier             0:00:50       0.9451    0.9691\n",
            "        11   StandardScalerWrapper RandomForest             0:00:48       0.9008    0.9691\n",
            "        14   MaxAbsScaler LogisticRegression                0:00:48       0.9117    0.9691\n",
            "        12   SparseNormalizer XGBoostClassifier             0:01:34       0.9664    0.9691\n",
            "        13   MaxAbsScaler ExtremeRandomTrees                0:01:26       0.8393    0.9691\n",
            "        17   SparseNormalizer LightGBM                      0:00:44       0.9080    0.9691\n",
            "        15   MaxAbsScaler LightGBM                          0:01:05       0.8993    0.9691\n",
            "        16   MaxAbsScaler ExtremeRandomTrees                0:01:11       0.8757    0.9691\n",
            "        19   MaxAbsScaler LightGBM                          0:00:47       0.9566    0.9691\n",
            "        18   SparseNormalizer XGBoostClassifier             0:01:02       0.9653    0.9691\n",
            "        20   MaxAbsScaler LightGBM                          0:00:50       0.9496    0.9691\n",
            "        21   MaxAbsScaler ExtremeRandomTrees                0:01:08       0.8694    0.9691\n",
            "        22   StandardScalerWrapper ExtremeRandomTrees       0:01:01       0.8467    0.9691\n",
            "        23   MaxAbsScaler LogisticRegression                0:00:46       0.9109    0.9691\n",
            "        24   MaxAbsScaler LightGBM                          0:01:18       0.9585    0.9691\n",
            "        25   SparseNormalizer LightGBM                      0:01:11       0.8539    0.9691\n",
            "        27   SparseNormalizer XGBoostClassifier             0:01:16       0.9035    0.9691\n",
            "        26   SparseNormalizer LightGBM                      0:01:25       0.9203    0.9691\n",
            "        28   StandardScalerWrapper RandomForest             0:01:19       0.8903    0.9691\n",
            "        30   MaxAbsScaler LightGBM                          0:00:58       0.8393    0.9691\n",
            "        29   StandardScalerWrapper XGBoostClassifier        0:01:17       0.9680    0.9691\n",
            "        32   SparseNormalizer XGBoostClassifier             0:01:08       0.9652    0.9691\n",
            "        31   SparseNormalizer XGBoostClassifier             0:01:31       0.9675    0.9691\n",
            "        33   SparseNormalizer XGBoostClassifier             0:01:07       0.9608    0.9691\n",
            "        34   SparseNormalizer XGBoostClassifier             0:00:59       0.9634    0.9691\n",
            "        35   SparseNormalizer LightGBM                      0:00:50       0.9635    0.9691\n",
            "        36                                                  0:00:10          nan    0.9691\n",
            "        37                                                  0:00:19          nan    0.9691\n",
            "        38    VotingEnsemble                                0:01:26       0.9706    0.9706\n",
            "        39    StackEnsemble                                 0:01:29       0.9701    0.9706\n"
          ]
        }
      ],
      "execution_count": 7,
      "metadata": {
        "gather": {
          "logged": 1611843747449
        },
        "jupyter": {
          "outputs_hidden": false,
          "source_hidden": false
        },
        "nteract": {
          "transient": {
            "deleting": false
          }
        }
      }
    },
    {
      "cell_type": "markdown",
      "source": [
        "## Run Details\n",
        "\n",
        "OPTIONAL: Write about the different models trained and their performance. Why do you think some models did better than others?\n",
        "\n",
        "TODO: In the cell below, use the `RunDetails` widget to show the different experiments."
      ],
      "metadata": {}
    },
    {
      "cell_type": "code",
      "source": [
        "from azureml.widgets import RunDetails\n",
        "RunDetails(remote_run).show()\n",
        "remote_run.wait_for_completion(show_output = True)"
      ],
      "outputs": [
        {
          "output_type": "display_data",
          "data": {
            "text/plain": "_AutoMLWidget(widget_settings={'childWidgetDisplay': 'popup', 'send_telemetry': False, 'log_level': 'INFO', 's…",
            "application/vnd.jupyter.widget-view+json": {
              "version_major": 2,
              "version_minor": 0,
              "model_id": "78c646b5d6dc4dac961d9358ee2aa054"
            }
          },
          "metadata": {}
        },
        {
          "output_type": "display_data",
          "data": {
            "application/aml.mini.widget.v1": "{\"status\": \"Completed\", \"workbench_run_details_uri\": \"https://ml.azure.com/experiments/demo-automl-experiment/runs/AutoML_2aa9bad3-2ac6-4205-ac66-21667fe9859c?wsid=/subscriptions/f5091c60-1c3c-430f-8d81-d802f6bf2414/resourcegroups/aml-quickstarts-136389/workspaces/quick-starts-ws-136389\", \"run_id\": \"AutoML_2aa9bad3-2ac6-4205-ac66-21667fe9859c\", \"run_properties\": {\"run_id\": \"AutoML_2aa9bad3-2ac6-4205-ac66-21667fe9859c\", \"created_utc\": \"2021-01-28T14:04:50.289464Z\", \"properties\": {\"num_iterations\": \"1000\", \"training_type\": \"TrainFull\", \"acquisition_function\": \"EI\", \"primary_metric\": \"accuracy\", \"train_split\": \"0\", \"acquisition_parameter\": \"0\", \"num_cross_validation\": \"3\", \"target\": \"demo-cluster\", \"AMLSettingsJsonString\": \"{\\\"path\\\":null,\\\"name\\\":\\\"demo-automl-experiment\\\",\\\"subscription_id\\\":\\\"f5091c60-1c3c-430f-8d81-d802f6bf2414\\\",\\\"resource_group\\\":\\\"aml-quickstarts-136389\\\",\\\"workspace_name\\\":\\\"quick-starts-ws-136389\\\",\\\"region\\\":\\\"southcentralus\\\",\\\"compute_target\\\":\\\"demo-cluster\\\",\\\"spark_service\\\":null,\\\"azure_service\\\":\\\"remote\\\",\\\"many_models\\\":false,\\\"pipeline_fetch_max_batch_size\\\":1,\\\"iterations\\\":1000,\\\"primary_metric\\\":\\\"accuracy\\\",\\\"task_type\\\":\\\"classification\\\",\\\"data_script\\\":null,\\\"validation_size\\\":0.0,\\\"n_cross_validations\\\":3,\\\"y_min\\\":null,\\\"y_max\\\":null,\\\"num_classes\\\":null,\\\"featurization\\\":\\\"auto\\\",\\\"_ignore_package_version_incompatibilities\\\":false,\\\"is_timeseries\\\":false,\\\"max_cores_per_iteration\\\":1,\\\"max_concurrent_iterations\\\":5,\\\"iteration_timeout_minutes\\\":null,\\\"mem_in_mb\\\":null,\\\"enforce_time_on_windows\\\":false,\\\"experiment_timeout_minutes\\\":30,\\\"experiment_exit_score\\\":null,\\\"whitelist_models\\\":null,\\\"blacklist_algos\\\":[\\\"TensorFlowLinearClassifier\\\",\\\"TensorFlowDNN\\\"],\\\"supported_models\\\":[\\\"ExtremeRandomTrees\\\",\\\"LightGBM\\\",\\\"BernoulliNaiveBayes\\\",\\\"DecisionTree\\\",\\\"LogisticRegression\\\",\\\"GradientBoosting\\\",\\\"LinearSVM\\\",\\\"RandomForest\\\",\\\"KNN\\\",\\\"XGBoostClassifier\\\",\\\"SVM\\\",\\\"AveragedPerceptronClassifier\\\",\\\"MultinomialNaiveBayes\\\",\\\"TensorFlowLinearClassifier\\\",\\\"SGD\\\",\\\"TensorFlowDNN\\\"],\\\"auto_blacklist\\\":true,\\\"blacklist_samples_reached\\\":false,\\\"exclude_nan_labels\\\":true,\\\"verbosity\\\":20,\\\"_debug_log\\\":\\\"azureml_automl.log\\\",\\\"show_warnings\\\":false,\\\"model_explainability\\\":true,\\\"service_url\\\":null,\\\"sdk_url\\\":null,\\\"sdk_packages\\\":null,\\\"enable_onnx_compatible_models\\\":false,\\\"enable_split_onnx_featurizer_estimator_models\\\":false,\\\"vm_type\\\":\\\"STANDARD_DS3_V2\\\",\\\"telemetry_verbosity\\\":20,\\\"send_telemetry\\\":true,\\\"enable_dnn\\\":false,\\\"scenario\\\":\\\"SDK-1.13.0\\\",\\\"environment_label\\\":null,\\\"force_text_dnn\\\":false,\\\"enable_feature_sweeping\\\":true,\\\"enable_early_stopping\\\":true,\\\"early_stopping_n_iters\\\":10,\\\"metrics\\\":null,\\\"enable_ensembling\\\":true,\\\"enable_stack_ensembling\\\":true,\\\"ensemble_iterations\\\":15,\\\"enable_tf\\\":false,\\\"enable_subsampling\\\":null,\\\"subsample_seed\\\":null,\\\"enable_nimbusml\\\":false,\\\"enable_streaming\\\":false,\\\"force_streaming\\\":false,\\\"track_child_runs\\\":true,\\\"allowed_private_models\\\":[],\\\"label_column_name\\\":\\\"Attrition_Flag\\\",\\\"weight_column_name\\\":null,\\\"cv_split_column_names\\\":null,\\\"enable_local_managed\\\":false,\\\"_local_managed_run_id\\\":null,\\\"cost_mode\\\":1,\\\"lag_length\\\":0,\\\"metric_operation\\\":\\\"maximize\\\",\\\"preprocess\\\":true}\", \"DataPrepJsonString\": \"{\\\\\\\"training_data\\\\\\\": \\\\\\\"{\\\\\\\\\\\\\\\"blocks\\\\\\\\\\\\\\\": [{\\\\\\\\\\\\\\\"id\\\\\\\\\\\\\\\": \\\\\\\\\\\\\\\"1bf394b6-b9ea-47a2-aa2e-8fdab98a210c\\\\\\\\\\\\\\\", \\\\\\\\\\\\\\\"type\\\\\\\\\\\\\\\": \\\\\\\\\\\\\\\"Microsoft.DPrep.GetDatastoreFilesBlock\\\\\\\\\\\\\\\", \\\\\\\\\\\\\\\"arguments\\\\\\\\\\\\\\\": {\\\\\\\\\\\\\\\"datastores\\\\\\\\\\\\\\\": [{\\\\\\\\\\\\\\\"datastoreName\\\\\\\\\\\\\\\": \\\\\\\\\\\\\\\"workspaceblobstore\\\\\\\\\\\\\\\", \\\\\\\\\\\\\\\"path\\\\\\\\\\\\\\\": \\\\\\\\\\\\\\\"UI/01-28-2021_020402_UTC/BankChurners.csv\\\\\\\\\\\\\\\", \\\\\\\\\\\\\\\"resourceGroup\\\\\\\\\\\\\\\": \\\\\\\\\\\\\\\"aml-quickstarts-136389\\\\\\\\\\\\\\\", \\\\\\\\\\\\\\\"subscription\\\\\\\\\\\\\\\": \\\\\\\\\\\\\\\"f5091c60-1c3c-430f-8d81-d802f6bf2414\\\\\\\\\\\\\\\", \\\\\\\\\\\\\\\"workspaceName\\\\\\\\\\\\\\\": \\\\\\\\\\\\\\\"quick-starts-ws-136389\\\\\\\\\\\\\\\"}]}, \\\\\\\\\\\\\\\"localData\\\\\\\\\\\\\\\": {}, \\\\\\\\\\\\\\\"isEnabled\\\\\\\\\\\\\\\": true, \\\\\\\\\\\\\\\"name\\\\\\\\\\\\\\\": null, \\\\\\\\\\\\\\\"annotation\\\\\\\\\\\\\\\": null}, {\\\\\\\\\\\\\\\"id\\\\\\\\\\\\\\\": \\\\\\\\\\\\\\\"5591ac6a-1dd4-40b3-9a25-9d155c9d91e0\\\\\\\\\\\\\\\", \\\\\\\\\\\\\\\"type\\\\\\\\\\\\\\\": \\\\\\\\\\\\\\\"Microsoft.DPrep.ParseDelimitedBlock\\\\\\\\\\\\\\\", \\\\\\\\\\\\\\\"arguments\\\\\\\\\\\\\\\": {\\\\\\\\\\\\\\\"columnHeadersMode\\\\\\\\\\\\\\\": 1, \\\\\\\\\\\\\\\"fileEncoding\\\\\\\\\\\\\\\": 0, \\\\\\\\\\\\\\\"handleQuotedLineBreaks\\\\\\\\\\\\\\\": false, \\\\\\\\\\\\\\\"preview\\\\\\\\\\\\\\\": false, \\\\\\\\\\\\\\\"separator\\\\\\\\\\\\\\\": \\\\\\\\\\\\\\\",\\\\\\\\\\\\\\\", \\\\\\\\\\\\\\\"skipRows\\\\\\\\\\\\\\\": 0, \\\\\\\\\\\\\\\"skipRowsMode\\\\\\\\\\\\\\\": 0}, \\\\\\\\\\\\\\\"localData\\\\\\\\\\\\\\\": {}, \\\\\\\\\\\\\\\"isEnabled\\\\\\\\\\\\\\\": true, \\\\\\\\\\\\\\\"name\\\\\\\\\\\\\\\": null, \\\\\\\\\\\\\\\"annotation\\\\\\\\\\\\\\\": null}, {\\\\\\\\\\\\\\\"id\\\\\\\\\\\\\\\": \\\\\\\\\\\\\\\"1fc7ff86-c960-46e1-8407-54d9d408d3f5\\\\\\\\\\\\\\\", \\\\\\\\\\\\\\\"type\\\\\\\\\\\\\\\": \\\\\\\\\\\\\\\"Microsoft.DPrep.DropColumnsBlock\\\\\\\\\\\\\\\", \\\\\\\\\\\\\\\"arguments\\\\\\\\\\\\\\\": {\\\\\\\\\\\\\\\"columns\\\\\\\\\\\\\\\": {\\\\\\\\\\\\\\\"type\\\\\\\\\\\\\\\": 0, \\\\\\\\\\\\\\\"details\\\\\\\\\\\\\\\": {\\\\\\\\\\\\\\\"selectedColumns\\\\\\\\\\\\\\\": [\\\\\\\\\\\\\\\"Path\\\\\\\\\\\\\\\"]}}}, \\\\\\\\\\\\\\\"localData\\\\\\\\\\\\\\\": {}, \\\\\\\\\\\\\\\"isEnabled\\\\\\\\\\\\\\\": true, \\\\\\\\\\\\\\\"name\\\\\\\\\\\\\\\": null, \\\\\\\\\\\\\\\"annotation\\\\\\\\\\\\\\\": null}, {\\\\\\\\\\\\\\\"id\\\\\\\\\\\\\\\": \\\\\\\\\\\\\\\"a38f1b8c-e3e9-4073-909f-bd1e5b0b17cd\\\\\\\\\\\\\\\", \\\\\\\\\\\\\\\"type\\\\\\\\\\\\\\\": \\\\\\\\\\\\\\\"Microsoft.DPrep.SetColumnTypesBlock\\\\\\\\\\\\\\\", \\\\\\\\\\\\\\\"arguments\\\\\\\\\\\\\\\": {\\\\\\\\\\\\\\\"columnConversion\\\\\\\\\\\\\\\": [{\\\\\\\\\\\\\\\"column\\\\\\\\\\\\\\\": {\\\\\\\\\\\\\\\"type\\\\\\\\\\\\\\\": 2, \\\\\\\\\\\\\\\"details\\\\\\\\\\\\\\\": {\\\\\\\\\\\\\\\"selectedColumn\\\\\\\\\\\\\\\": \\\\\\\\\\\\\\\"Path\\\\\\\\\\\\\\\"}}, \\\\\\\\\\\\\\\"typeProperty\\\\\\\\\\\\\\\": 0}, {\\\\\\\\\\\\\\\"column\\\\\\\\\\\\\\\": {\\\\\\\\\\\\\\\"type\\\\\\\\\\\\\\\": 2, \\\\\\\\\\\\\\\"details\\\\\\\\\\\\\\\": {\\\\\\\\\\\\\\\"selectedColumn\\\\\\\\\\\\\\\": \\\\\\\\\\\\\\\"CLIENTNUM\\\\\\\\\\\\\\\"}}, \\\\\\\\\\\\\\\"typeProperty\\\\\\\\\\\\\\\": 2}, {\\\\\\\\\\\\\\\"column\\\\\\\\\\\\\\\": {\\\\\\\\\\\\\\\"type\\\\\\\\\\\\\\\": 2, \\\\\\\\\\\\\\\"details\\\\\\\\\\\\\\\": {\\\\\\\\\\\\\\\"selectedColumn\\\\\\\\\\\\\\\": \\\\\\\\\\\\\\\"Attrition_Flag\\\\\\\\\\\\\\\"}}, \\\\\\\\\\\\\\\"typeProperty\\\\\\\\\\\\\\\": 0}, {\\\\\\\\\\\\\\\"column\\\\\\\\\\\\\\\": {\\\\\\\\\\\\\\\"type\\\\\\\\\\\\\\\": 2, \\\\\\\\\\\\\\\"details\\\\\\\\\\\\\\\": {\\\\\\\\\\\\\\\"selectedColumn\\\\\\\\\\\\\\\": \\\\\\\\\\\\\\\"Customer_Age\\\\\\\\\\\\\\\"}}, \\\\\\\\\\\\\\\"typeProperty\\\\\\\\\\\\\\\": 2}, {\\\\\\\\\\\\\\\"column\\\\\\\\\\\\\\\": {\\\\\\\\\\\\\\\"type\\\\\\\\\\\\\\\": 2, \\\\\\\\\\\\\\\"details\\\\\\\\\\\\\\\": {\\\\\\\\\\\\\\\"selectedColumn\\\\\\\\\\\\\\\": \\\\\\\\\\\\\\\"Gender\\\\\\\\\\\\\\\"}}, \\\\\\\\\\\\\\\"typeProperty\\\\\\\\\\\\\\\": 0}, {\\\\\\\\\\\\\\\"column\\\\\\\\\\\\\\\": {\\\\\\\\\\\\\\\"type\\\\\\\\\\\\\\\": 2, \\\\\\\\\\\\\\\"details\\\\\\\\\\\\\\\": {\\\\\\\\\\\\\\\"selectedColumn\\\\\\\\\\\\\\\": \\\\\\\\\\\\\\\"Dependent_count\\\\\\\\\\\\\\\"}}, \\\\\\\\\\\\\\\"typeProperty\\\\\\\\\\\\\\\": 2}, {\\\\\\\\\\\\\\\"column\\\\\\\\\\\\\\\": {\\\\\\\\\\\\\\\"type\\\\\\\\\\\\\\\": 2, \\\\\\\\\\\\\\\"details\\\\\\\\\\\\\\\": {\\\\\\\\\\\\\\\"selectedColumn\\\\\\\\\\\\\\\": \\\\\\\\\\\\\\\"Education_Level\\\\\\\\\\\\\\\"}}, \\\\\\\\\\\\\\\"typeProperty\\\\\\\\\\\\\\\": 0}, {\\\\\\\\\\\\\\\"column\\\\\\\\\\\\\\\": {\\\\\\\\\\\\\\\"type\\\\\\\\\\\\\\\": 2, \\\\\\\\\\\\\\\"details\\\\\\\\\\\\\\\": {\\\\\\\\\\\\\\\"selectedColumn\\\\\\\\\\\\\\\": \\\\\\\\\\\\\\\"Marital_Status\\\\\\\\\\\\\\\"}}, \\\\\\\\\\\\\\\"typeProperty\\\\\\\\\\\\\\\": 0}, {\\\\\\\\\\\\\\\"column\\\\\\\\\\\\\\\": {\\\\\\\\\\\\\\\"type\\\\\\\\\\\\\\\": 2, \\\\\\\\\\\\\\\"details\\\\\\\\\\\\\\\": {\\\\\\\\\\\\\\\"selectedColumn\\\\\\\\\\\\\\\": \\\\\\\\\\\\\\\"Income_Category\\\\\\\\\\\\\\\"}}, \\\\\\\\\\\\\\\"typeProperty\\\\\\\\\\\\\\\": 0}, {\\\\\\\\\\\\\\\"column\\\\\\\\\\\\\\\": {\\\\\\\\\\\\\\\"type\\\\\\\\\\\\\\\": 2, \\\\\\\\\\\\\\\"details\\\\\\\\\\\\\\\": {\\\\\\\\\\\\\\\"selectedColumn\\\\\\\\\\\\\\\": \\\\\\\\\\\\\\\"Card_Category\\\\\\\\\\\\\\\"}}, \\\\\\\\\\\\\\\"typeProperty\\\\\\\\\\\\\\\": 0}, {\\\\\\\\\\\\\\\"column\\\\\\\\\\\\\\\": {\\\\\\\\\\\\\\\"type\\\\\\\\\\\\\\\": 2, \\\\\\\\\\\\\\\"details\\\\\\\\\\\\\\\": {\\\\\\\\\\\\\\\"selectedColumn\\\\\\\\\\\\\\\": \\\\\\\\\\\\\\\"Months_on_book\\\\\\\\\\\\\\\"}}, \\\\\\\\\\\\\\\"typeProperty\\\\\\\\\\\\\\\": 2}, {\\\\\\\\\\\\\\\"column\\\\\\\\\\\\\\\": {\\\\\\\\\\\\\\\"type\\\\\\\\\\\\\\\": 2, \\\\\\\\\\\\\\\"details\\\\\\\\\\\\\\\": {\\\\\\\\\\\\\\\"selectedColumn\\\\\\\\\\\\\\\": \\\\\\\\\\\\\\\"Total_Relationship_Count\\\\\\\\\\\\\\\"}}, \\\\\\\\\\\\\\\"typeProperty\\\\\\\\\\\\\\\": 2}, {\\\\\\\\\\\\\\\"column\\\\\\\\\\\\\\\": {\\\\\\\\\\\\\\\"type\\\\\\\\\\\\\\\": 2, \\\\\\\\\\\\\\\"details\\\\\\\\\\\\\\\": {\\\\\\\\\\\\\\\"selectedColumn\\\\\\\\\\\\\\\": \\\\\\\\\\\\\\\"Months_Inactive_12_mon\\\\\\\\\\\\\\\"}}, \\\\\\\\\\\\\\\"typeProperty\\\\\\\\\\\\\\\": 2}, {\\\\\\\\\\\\\\\"column\\\\\\\\\\\\\\\": {\\\\\\\\\\\\\\\"type\\\\\\\\\\\\\\\": 2, \\\\\\\\\\\\\\\"details\\\\\\\\\\\\\\\": {\\\\\\\\\\\\\\\"selectedColumn\\\\\\\\\\\\\\\": \\\\\\\\\\\\\\\"Contacts_Count_12_mon\\\\\\\\\\\\\\\"}}, \\\\\\\\\\\\\\\"typeProperty\\\\\\\\\\\\\\\": 2}, {\\\\\\\\\\\\\\\"column\\\\\\\\\\\\\\\": {\\\\\\\\\\\\\\\"type\\\\\\\\\\\\\\\": 2, \\\\\\\\\\\\\\\"details\\\\\\\\\\\\\\\": {\\\\\\\\\\\\\\\"selectedColumn\\\\\\\\\\\\\\\": \\\\\\\\\\\\\\\"Credit_Limit\\\\\\\\\\\\\\\"}}, \\\\\\\\\\\\\\\"typeProperty\\\\\\\\\\\\\\\": 3}, {\\\\\\\\\\\\\\\"column\\\\\\\\\\\\\\\": {\\\\\\\\\\\\\\\"type\\\\\\\\\\\\\\\": 2, \\\\\\\\\\\\\\\"details\\\\\\\\\\\\\\\": {\\\\\\\\\\\\\\\"selectedColumn\\\\\\\\\\\\\\\": \\\\\\\\\\\\\\\"Total_Revolving_Bal\\\\\\\\\\\\\\\"}}, \\\\\\\\\\\\\\\"typeProperty\\\\\\\\\\\\\\\": 2}, {\\\\\\\\\\\\\\\"column\\\\\\\\\\\\\\\": {\\\\\\\\\\\\\\\"type\\\\\\\\\\\\\\\": 2, \\\\\\\\\\\\\\\"details\\\\\\\\\\\\\\\": {\\\\\\\\\\\\\\\"selectedColumn\\\\\\\\\\\\\\\": \\\\\\\\\\\\\\\"Avg_Open_To_Buy\\\\\\\\\\\\\\\"}}, \\\\\\\\\\\\\\\"typeProperty\\\\\\\\\\\\\\\": 3}, {\\\\\\\\\\\\\\\"column\\\\\\\\\\\\\\\": {\\\\\\\\\\\\\\\"type\\\\\\\\\\\\\\\": 2, \\\\\\\\\\\\\\\"details\\\\\\\\\\\\\\\": {\\\\\\\\\\\\\\\"selectedColumn\\\\\\\\\\\\\\\": \\\\\\\\\\\\\\\"Total_Amt_Chng_Q4_Q1\\\\\\\\\\\\\\\"}}, \\\\\\\\\\\\\\\"typeProperty\\\\\\\\\\\\\\\": 3}, {\\\\\\\\\\\\\\\"column\\\\\\\\\\\\\\\": {\\\\\\\\\\\\\\\"type\\\\\\\\\\\\\\\": 2, \\\\\\\\\\\\\\\"details\\\\\\\\\\\\\\\": {\\\\\\\\\\\\\\\"selectedColumn\\\\\\\\\\\\\\\": \\\\\\\\\\\\\\\"Total_Trans_Amt\\\\\\\\\\\\\\\"}}, \\\\\\\\\\\\\\\"typeProperty\\\\\\\\\\\\\\\": 2}, {\\\\\\\\\\\\\\\"column\\\\\\\\\\\\\\\": {\\\\\\\\\\\\\\\"type\\\\\\\\\\\\\\\": 2, \\\\\\\\\\\\\\\"details\\\\\\\\\\\\\\\": {\\\\\\\\\\\\\\\"selectedColumn\\\\\\\\\\\\\\\": \\\\\\\\\\\\\\\"Total_Trans_Ct\\\\\\\\\\\\\\\"}}, \\\\\\\\\\\\\\\"typeProperty\\\\\\\\\\\\\\\": 2}, {\\\\\\\\\\\\\\\"column\\\\\\\\\\\\\\\": {\\\\\\\\\\\\\\\"type\\\\\\\\\\\\\\\": 2, \\\\\\\\\\\\\\\"details\\\\\\\\\\\\\\\": {\\\\\\\\\\\\\\\"selectedColumn\\\\\\\\\\\\\\\": \\\\\\\\\\\\\\\"Total_Ct_Chng_Q4_Q1\\\\\\\\\\\\\\\"}}, \\\\\\\\\\\\\\\"typeProperty\\\\\\\\\\\\\\\": 3}, {\\\\\\\\\\\\\\\"column\\\\\\\\\\\\\\\": {\\\\\\\\\\\\\\\"type\\\\\\\\\\\\\\\": 2, \\\\\\\\\\\\\\\"details\\\\\\\\\\\\\\\": {\\\\\\\\\\\\\\\"selectedColumn\\\\\\\\\\\\\\\": \\\\\\\\\\\\\\\"Avg_Utilization_Ratio\\\\\\\\\\\\\\\"}}, \\\\\\\\\\\\\\\"typeProperty\\\\\\\\\\\\\\\": 3}]}, \\\\\\\\\\\\\\\"localData\\\\\\\\\\\\\\\": {}, \\\\\\\\\\\\\\\"isEnabled\\\\\\\\\\\\\\\": true, \\\\\\\\\\\\\\\"name\\\\\\\\\\\\\\\": null, \\\\\\\\\\\\\\\"annotation\\\\\\\\\\\\\\\": null}], \\\\\\\\\\\\\\\"inspectors\\\\\\\\\\\\\\\": [], \\\\\\\\\\\\\\\"meta\\\\\\\\\\\\\\\": {\\\\\\\\\\\\\\\"savedDatasetId\\\\\\\\\\\\\\\": \\\\\\\\\\\\\\\"79bf3402-85fb-4462-afcc-de1b593bbecf\\\\\\\\\\\\\\\", \\\\\\\\\\\\\\\"datasetType\\\\\\\\\\\\\\\": \\\\\\\\\\\\\\\"tabular\\\\\\\\\\\\\\\", \\\\\\\\\\\\\\\"subscriptionId\\\\\\\\\\\\\\\": \\\\\\\\\\\\\\\"f5091c60-1c3c-430f-8d81-d802f6bf2414\\\\\\\\\\\\\\\", \\\\\\\\\\\\\\\"workspaceId\\\\\\\\\\\\\\\": \\\\\\\\\\\\\\\"6babe9eb-f41b-41ca-83e2-2d803258c13d\\\\\\\\\\\\\\\", \\\\\\\\\\\\\\\"workspaceLocation\\\\\\\\\\\\\\\": \\\\\\\\\\\\\\\"southcentralus\\\\\\\\\\\\\\\"}}\\\\\\\", \\\\\\\"activities\\\\\\\": 0}\", \"EnableSubsampling\": null, \"runTemplate\": \"AutoML\", \"azureml.runsource\": \"automl\", \"display_task_type\": \"classification\", \"dependencies_versions\": \"{\\\"azureml-widgets\\\": \\\"1.20.0\\\", \\\"azureml-train\\\": \\\"1.20.0\\\", \\\"azureml-train-restclients-hyperdrive\\\": \\\"1.20.0\\\", \\\"azureml-train-core\\\": \\\"1.20.0\\\", \\\"azureml-train-automl\\\": \\\"1.20.0\\\", \\\"azureml-train-automl-runtime\\\": \\\"1.20.0\\\", \\\"azureml-train-automl-client\\\": \\\"1.20.0\\\", \\\"azureml-tensorboard\\\": \\\"1.20.0\\\", \\\"azureml-telemetry\\\": \\\"1.20.0\\\", \\\"azureml-sdk\\\": \\\"1.20.0\\\", \\\"azureml-samples\\\": \\\"0+unknown\\\", \\\"azureml-pipeline\\\": \\\"1.20.0\\\", \\\"azureml-pipeline-steps\\\": \\\"1.20.0\\\", \\\"azureml-pipeline-core\\\": \\\"1.20.0\\\", \\\"azureml-opendatasets\\\": \\\"1.20.0\\\", \\\"azureml-model-management-sdk\\\": \\\"1.0.1b6.post1\\\", \\\"azureml-mlflow\\\": \\\"1.20.0.post1\\\", \\\"azureml-interpret\\\": \\\"1.20.0\\\", \\\"azureml-explain-model\\\": \\\"1.20.0\\\", \\\"azureml-defaults\\\": \\\"1.20.0\\\", \\\"azureml-dataset-runtime\\\": \\\"1.20.0\\\", \\\"azureml-dataprep\\\": \\\"2.7.3\\\", \\\"azureml-dataprep-rslex\\\": \\\"1.5.0\\\", \\\"azureml-dataprep-native\\\": \\\"27.0.0\\\", \\\"azureml-datadrift\\\": \\\"1.20.0\\\", \\\"azureml-core\\\": \\\"1.20.0\\\", \\\"azureml-contrib-services\\\": \\\"1.20.0\\\", \\\"azureml-contrib-server\\\": \\\"1.20.0\\\", \\\"azureml-contrib-reinforcementlearning\\\": \\\"1.20.0\\\", \\\"azureml-contrib-pipeline-steps\\\": \\\"1.20.0\\\", \\\"azureml-contrib-notebook\\\": \\\"1.20.0\\\", \\\"azureml-contrib-interpret\\\": \\\"1.20.0\\\", \\\"azureml-contrib-gbdt\\\": \\\"1.20.0\\\", \\\"azureml-contrib-fairness\\\": \\\"1.20.0\\\", \\\"azureml-contrib-dataset\\\": \\\"1.20.0\\\", \\\"azureml-cli-common\\\": \\\"1.20.0\\\", \\\"azureml-automl-runtime\\\": \\\"1.20.0\\\", \\\"azureml-automl-core\\\": \\\"1.20.0\\\", \\\"azureml-accel-models\\\": \\\"1.20.0\\\"}\", \"_aml_system_scenario_identification\": \"Remote.Parent\", \"ClientType\": \"SDK\", \"environment_cpu_name\": \"AzureML-AutoML\", \"environment_cpu_label\": \"prod\", \"environment_gpu_name\": \"AzureML-AutoML-GPU\", \"environment_gpu_label\": \"prod\", \"root_attribution\": \"automl\", \"attribution\": \"AutoML\", \"Orchestrator\": \"AutoML\", \"CancelUri\": \"https://southcentralus.experiments.azureml.net/jasmine/v1.0/subscriptions/f5091c60-1c3c-430f-8d81-d802f6bf2414/resourceGroups/aml-quickstarts-136389/providers/Microsoft.MachineLearningServices/workspaces/quick-starts-ws-136389/experimentids/1a8cfa69-69cd-41dc-8758-dc8c4c973ad7/cancel/AutoML_2aa9bad3-2ac6-4205-ac66-21667fe9859c\", \"ClientSdkVersion\": \"1.20.0.post1\", \"snapshotId\": \"00000000-0000-0000-0000-000000000000\", \"SetupRunId\": \"AutoML_2aa9bad3-2ac6-4205-ac66-21667fe9859c_setup\", \"SetupRunContainerId\": \"dcid.AutoML_2aa9bad3-2ac6-4205-ac66-21667fe9859c_setup\", \"FeaturizationRunJsonPath\": \"featurizer_container.json\", \"FeaturizationRunId\": \"AutoML_2aa9bad3-2ac6-4205-ac66-21667fe9859c_featurize\", \"ProblemInfoJsonString\": \"{\\\"dataset_num_categorical\\\": 0, \\\"is_sparse\\\": true, \\\"subsampling\\\": false, \\\"dataset_classes\\\": 2, \\\"dataset_features\\\": 146, \\\"dataset_samples\\\": 10127, \\\"single_frequency_class_detected\\\": false}\", \"ModelExplainRunId\": \"AutoML_2aa9bad3-2ac6-4205-ac66-21667fe9859c_ModelExplain\"}, \"tags\": {\"model_explain_run\": \"best_run\", \"_aml_system_azureml.automlComponent\": \"AutoML\", \"pipeline_id\": \"\", \"score\": \"\", \"predicted_cost\": \"\", \"fit_time\": \"\", \"training_percent\": \"\", \"iteration\": \"\", \"run_preprocessor\": \"\", \"run_algorithm\": \"\", \"dynamic_whitelisting_iterations\": \"<25>;<30>;<35>;\", \"automl_best_child_run_id\": \"AutoML_2aa9bad3-2ac6-4205-ac66-21667fe9859c_38\", \"model_explain_best_run_child_id\": \"AutoML_2aa9bad3-2ac6-4205-ac66-21667fe9859c_38\"}, \"end_time_utc\": \"2021-01-28T14:22:18.644024Z\", \"status\": \"Completed\", \"log_files\": {}, \"log_groups\": [], \"run_duration\": \"0:17:28\"}, \"child_runs\": [{\"run_id\": \"AutoML_2aa9bad3-2ac6-4205-ac66-21667fe9859c_0\", \"run_number\": 5, \"metric\": null, \"status\": \"Completed\", \"run_type\": \"azureml.scriptrun\", \"training_percent\": \"100\", \"start_time\": \"2021-01-28T14:10:47.010661Z\", \"end_time\": \"2021-01-28T14:11:38.360874Z\", \"created_time\": \"2021-01-28T14:10:35.243929Z\", \"created_time_dt\": \"2021-01-28T14:10:35.243929Z\", \"duration\": \"0:01:03\", \"iteration\": \"0\", \"goal\": \"accuracy_max\", \"run_name\": \"MaxAbsScaler, LightGBM\", \"run_properties\": \"copy=True\", \"primary_metric\": 0.96909245, \"best_metric\": 0.96909245}, {\"run_id\": \"AutoML_2aa9bad3-2ac6-4205-ac66-21667fe9859c_1\", \"run_number\": 6, \"metric\": null, \"status\": \"Completed\", \"run_type\": \"azureml.scriptrun\", \"training_percent\": \"100\", \"start_time\": \"2021-01-28T14:10:49.43547Z\", \"end_time\": \"2021-01-28T14:11:43.077474Z\", \"created_time\": \"2021-01-28T14:10:35.369815Z\", \"created_time_dt\": \"2021-01-28T14:10:35.369815Z\", \"duration\": \"0:01:07\", \"iteration\": \"1\", \"goal\": \"accuracy_max\", \"run_name\": \"MaxAbsScaler, XGBoostClassifier\", \"run_properties\": \"copy=True\", \"primary_metric\": 0.96030428, \"best_metric\": 0.96909245}, {\"run_id\": \"AutoML_2aa9bad3-2ac6-4205-ac66-21667fe9859c_2\", \"run_number\": 7, \"metric\": null, \"status\": \"Completed\", \"run_type\": \"azureml.scriptrun\", \"training_percent\": \"100\", \"start_time\": \"2021-01-28T14:10:54.23448Z\", \"end_time\": \"2021-01-28T14:11:37.061225Z\", \"created_time\": \"2021-01-28T14:10:35.39984Z\", \"created_time_dt\": \"2021-01-28T14:10:35.39984Z\", \"duration\": \"0:01:01\", \"iteration\": \"2\", \"goal\": \"accuracy_max\", \"run_name\": \"MaxAbsScaler, RandomForest\", \"run_properties\": \"copy=True\", \"primary_metric\": 0.86659561, \"best_metric\": 0.96909245}, {\"run_id\": \"AutoML_2aa9bad3-2ac6-4205-ac66-21667fe9859c_4\", \"run_number\": 8, \"metric\": null, \"status\": \"Completed\", \"run_type\": \"azureml.scriptrun\", \"training_percent\": \"100\", \"start_time\": \"2021-01-28T14:10:48.213691Z\", \"end_time\": \"2021-01-28T14:11:37.356829Z\", \"created_time\": \"2021-01-28T14:10:35.399116Z\", \"created_time_dt\": \"2021-01-28T14:10:35.399116Z\", \"duration\": \"0:01:01\", \"iteration\": \"4\", \"goal\": \"accuracy_max\", \"run_name\": \"MaxAbsScaler, RandomForest\", \"run_properties\": \"copy=True\", \"primary_metric\": 0.85286935, \"best_metric\": 0.96909245}, {\"run_id\": \"AutoML_2aa9bad3-2ac6-4205-ac66-21667fe9859c_3\", \"run_number\": 9, \"metric\": null, \"status\": \"Completed\", \"run_type\": \"azureml.scriptrun\", \"training_percent\": \"100\", \"start_time\": \"2021-01-28T14:10:47.894794Z\", \"end_time\": \"2021-01-28T14:11:32.350528Z\", \"created_time\": \"2021-01-28T14:10:35.397516Z\", \"created_time_dt\": \"2021-01-28T14:10:35.397516Z\", \"duration\": \"0:00:56\", \"iteration\": \"3\", \"goal\": \"accuracy_max\", \"run_name\": \"MaxAbsScaler, RandomForest\", \"run_properties\": \"copy=True\", \"primary_metric\": 0.84575812, \"best_metric\": 0.96909245}, {\"run_id\": \"AutoML_2aa9bad3-2ac6-4205-ac66-21667fe9859c_5\", \"run_number\": 10, \"metric\": null, \"status\": \"Completed\", \"run_type\": \"azureml.scriptrun\", \"training_percent\": \"100\", \"start_time\": \"2021-01-28T14:11:53.129066Z\", \"end_time\": \"2021-01-28T14:12:39.852712Z\", \"created_time\": \"2021-01-28T14:11:36.442072Z\", \"created_time_dt\": \"2021-01-28T14:11:36.442072Z\", \"duration\": \"0:01:03\", \"iteration\": \"5\", \"goal\": \"accuracy_max\", \"run_name\": \"MaxAbsScaler, RandomForest\", \"run_properties\": \"copy=True\", \"primary_metric\": 0.75728252, \"best_metric\": 0.96909245}, {\"run_id\": \"AutoML_2aa9bad3-2ac6-4205-ac66-21667fe9859c_6\", \"run_number\": 11, \"metric\": null, \"status\": \"Completed\", \"run_type\": \"azureml.scriptrun\", \"training_percent\": \"100\", \"start_time\": \"2021-01-28T14:11:57.125369Z\", \"end_time\": \"2021-01-28T14:12:48.161384Z\", \"created_time\": \"2021-01-28T14:11:43.197479Z\", \"created_time_dt\": \"2021-01-28T14:11:43.197479Z\", \"duration\": \"0:01:04\", \"iteration\": \"6\", \"goal\": \"accuracy_max\", \"run_name\": \"SparseNormalizer, XGBoostClassifier\", \"run_properties\": \"<azureml.automl.runtime.shared.model_wrappers.SparseNormalizer object at 0x7f645356be80\", \"primary_metric\": 0.95526789, \"best_metric\": 0.96909245}, {\"run_id\": \"AutoML_2aa9bad3-2ac6-4205-ac66-21667fe9859c_7\", \"run_number\": 12, \"metric\": null, \"status\": \"Completed\", \"run_type\": \"azureml.scriptrun\", \"training_percent\": \"100\", \"start_time\": \"2021-01-28T14:11:57.407809Z\", \"end_time\": \"2021-01-28T14:12:48.994651Z\", \"created_time\": \"2021-01-28T14:11:43.20402Z\", \"created_time_dt\": \"2021-01-28T14:11:43.20402Z\", \"duration\": \"0:01:05\", \"iteration\": \"7\", \"goal\": \"accuracy_max\", \"run_name\": \"SparseNormalizer, XGBoostClassifier\", \"run_properties\": \"<azureml.automl.runtime.shared.model_wrappers.SparseNormalizer object at 0x7f5550d0e4a8\", \"primary_metric\": 0.96474779, \"best_metric\": 0.96909245}, {\"run_id\": \"AutoML_2aa9bad3-2ac6-4205-ac66-21667fe9859c_8\", \"run_number\": 13, \"metric\": null, \"status\": \"Completed\", \"run_type\": \"azureml.scriptrun\", \"training_percent\": \"100\", \"start_time\": \"2021-01-28T14:11:55.939539Z\", \"end_time\": \"2021-01-28T14:12:53.325275Z\", \"created_time\": \"2021-01-28T14:11:43.231708Z\", \"created_time_dt\": \"2021-01-28T14:11:43.231708Z\", \"duration\": \"0:01:10\", \"iteration\": \"8\", \"goal\": \"accuracy_max\", \"run_name\": \"SparseNormalizer, XGBoostClassifier\", \"run_properties\": \"<azureml.automl.runtime.shared.model_wrappers.SparseNormalizer object at 0x7f3935ae9a90\", \"primary_metric\": 0.96613007, \"best_metric\": 0.96909245}, {\"run_id\": \"AutoML_2aa9bad3-2ac6-4205-ac66-21667fe9859c_9\", \"run_number\": 14, \"metric\": null, \"status\": \"Completed\", \"run_type\": \"azureml.scriptrun\", \"training_percent\": \"100\", \"start_time\": \"2021-01-28T14:12:01.968412Z\", \"end_time\": \"2021-01-28T14:12:53.261096Z\", \"created_time\": \"2021-01-28T14:11:50.466266Z\", \"created_time_dt\": \"2021-01-28T14:11:50.466266Z\", \"duration\": \"0:01:02\", \"iteration\": \"9\", \"goal\": \"accuracy_max\", \"run_name\": \"SparseNormalizer, XGBoostClassifier\", \"run_properties\": \"<azureml.automl.runtime.shared.model_wrappers.SparseNormalizer object at 0x7f8420127cf8\", \"primary_metric\": 0.96247657, \"best_metric\": 0.96909245}, {\"run_id\": \"AutoML_2aa9bad3-2ac6-4205-ac66-21667fe9859c_10\", \"run_number\": 15, \"metric\": null, \"status\": \"Completed\", \"run_type\": \"azureml.scriptrun\", \"training_percent\": \"100\", \"start_time\": \"2021-01-28T14:13:01.31568Z\", \"end_time\": \"2021-01-28T14:13:50.973563Z\", \"created_time\": \"2021-01-28T14:12:43.65099Z\", \"created_time_dt\": \"2021-01-28T14:12:43.65099Z\", \"duration\": \"0:01:07\", \"iteration\": \"10\", \"goal\": \"accuracy_max\", \"run_name\": \"SparseNormalizer, XGBoostClassifier\", \"run_properties\": \"<azureml.automl.runtime.shared.model_wrappers.SparseNormalizer object at 0x7f52049ac7b8\", \"primary_metric\": 0.94509757, \"best_metric\": 0.96909245}, {\"run_id\": \"AutoML_2aa9bad3-2ac6-4205-ac66-21667fe9859c_12\", \"run_number\": 16, \"metric\": null, \"status\": \"Completed\", \"run_type\": \"azureml.scriptrun\", \"training_percent\": \"100\", \"start_time\": \"2021-01-28T14:13:05.752254Z\", \"end_time\": \"2021-01-28T14:14:39.547925Z\", \"created_time\": \"2021-01-28T14:12:52.779006Z\", \"created_time_dt\": \"2021-01-28T14:12:52.779006Z\", \"duration\": \"0:01:46\", \"iteration\": \"12\", \"goal\": \"accuracy_max\", \"run_name\": \"SparseNormalizer, XGBoostClassifier\", \"run_properties\": \"<azureml.automl.runtime.shared.model_wrappers.SparseNormalizer object at 0x7f1284b60fd0\", \"primary_metric\": 0.96642642, \"best_metric\": 0.96909245}, {\"run_id\": \"AutoML_2aa9bad3-2ac6-4205-ac66-21667fe9859c_11\", \"run_number\": 17, \"metric\": null, \"status\": \"Completed\", \"run_type\": \"azureml.scriptrun\", \"training_percent\": \"100\", \"start_time\": \"2021-01-28T14:13:05.284074Z\", \"end_time\": \"2021-01-28T14:13:53.139585Z\", \"created_time\": \"2021-01-28T14:12:52.796716Z\", \"created_time_dt\": \"2021-01-28T14:12:52.796716Z\", \"duration\": \"0:01:00\", \"iteration\": \"11\", \"goal\": \"accuracy_max\", \"run_name\": \"StandardScalerWrapper, RandomForest\", \"run_properties\": \"<azureml.automl.runtime.shared.model_wrappers.StandardScalerWrapper object at 0x7f85b9c385c0\", \"primary_metric\": 0.90076052, \"best_metric\": 0.96909245}, {\"run_id\": \"AutoML_2aa9bad3-2ac6-4205-ac66-21667fe9859c_13\", \"run_number\": 18, \"metric\": null, \"status\": \"Completed\", \"run_type\": \"azureml.scriptrun\", \"training_percent\": \"100\", \"start_time\": \"2021-01-28T14:13:12.201705Z\", \"end_time\": \"2021-01-28T14:14:38.030367Z\", \"created_time\": \"2021-01-28T14:12:58.720567Z\", \"created_time_dt\": \"2021-01-28T14:12:58.720567Z\", \"duration\": \"0:01:39\", \"iteration\": \"13\", \"goal\": \"accuracy_max\", \"run_name\": \"MaxAbsScaler, ExtremeRandomTrees\", \"run_properties\": \"copy=True\", \"primary_metric\": 0.83933968, \"best_metric\": 0.96909245}, {\"run_id\": \"AutoML_2aa9bad3-2ac6-4205-ac66-21667fe9859c_14\", \"run_number\": 19, \"metric\": null, \"status\": \"Completed\", \"run_type\": \"azureml.scriptrun\", \"training_percent\": \"100\", \"start_time\": \"2021-01-28T14:13:11.89072Z\", \"end_time\": \"2021-01-28T14:13:59.438837Z\", \"created_time\": \"2021-01-28T14:12:58.723378Z\", \"created_time_dt\": \"2021-01-28T14:12:58.723378Z\", \"duration\": \"0:01:00\", \"iteration\": \"14\", \"goal\": \"accuracy_max\", \"run_name\": \"MaxAbsScaler, LogisticRegression\", \"run_properties\": \"copy=True\", \"primary_metric\": 0.91172096, \"best_metric\": 0.96909245}, {\"run_id\": \"AutoML_2aa9bad3-2ac6-4205-ac66-21667fe9859c_15\", \"run_number\": 20, \"metric\": null, \"status\": \"Completed\", \"run_type\": \"azureml.scriptrun\", \"training_percent\": \"100\", \"start_time\": \"2021-01-28T14:14:09.264841Z\", \"end_time\": \"2021-01-28T14:15:14.536376Z\", \"created_time\": \"2021-01-28T14:13:53.729702Z\", \"created_time_dt\": \"2021-01-28T14:13:53.729702Z\", \"duration\": \"0:01:20\", \"iteration\": \"15\", \"goal\": \"accuracy_max\", \"run_name\": \"MaxAbsScaler, LightGBM\", \"run_properties\": \"copy=True\", \"primary_metric\": 0.89927863, \"best_metric\": 0.96909245}, {\"run_id\": \"AutoML_2aa9bad3-2ac6-4205-ac66-21667fe9859c_16\", \"run_number\": 21, \"metric\": null, \"status\": \"Completed\", \"run_type\": \"azureml.scriptrun\", \"training_percent\": \"100\", \"start_time\": \"2021-01-28T14:14:12.374845Z\", \"end_time\": \"2021-01-28T14:15:23.340441Z\", \"created_time\": \"2021-01-28T14:13:59.275543Z\", \"created_time_dt\": \"2021-01-28T14:13:59.275543Z\", \"duration\": \"0:01:24\", \"iteration\": \"16\", \"goal\": \"accuracy_max\", \"run_name\": \"MaxAbsScaler, ExtremeRandomTrees\", \"run_properties\": \"copy=True\", \"primary_metric\": 0.8756784, \"best_metric\": 0.96909245}, {\"run_id\": \"AutoML_2aa9bad3-2ac6-4205-ac66-21667fe9859c_17\", \"run_number\": 22, \"metric\": null, \"status\": \"Completed\", \"run_type\": \"azureml.scriptrun\", \"training_percent\": \"100\", \"start_time\": \"2021-01-28T14:14:18.240602Z\", \"end_time\": \"2021-01-28T14:15:02.428693Z\", \"created_time\": \"2021-01-28T14:14:04.661351Z\", \"created_time_dt\": \"2021-01-28T14:14:04.661351Z\", \"duration\": \"0:00:57\", \"iteration\": \"17\", \"goal\": \"accuracy_max\", \"run_name\": \"SparseNormalizer, LightGBM\", \"run_properties\": \"<azureml.automl.runtime.shared.model_wrappers.SparseNormalizer object at 0x7fcf2a3bdb38\", \"primary_metric\": 0.90796881, \"best_metric\": 0.96909245}, {\"run_id\": \"AutoML_2aa9bad3-2ac6-4205-ac66-21667fe9859c_18\", \"run_number\": 23, \"metric\": null, \"status\": \"Completed\", \"run_type\": \"azureml.scriptrun\", \"training_percent\": \"100\", \"start_time\": \"2021-01-28T14:14:55.237336Z\", \"end_time\": \"2021-01-28T14:15:57.474733Z\", \"created_time\": \"2021-01-28T14:14:40.641533Z\", \"created_time_dt\": \"2021-01-28T14:14:40.641533Z\", \"duration\": \"0:01:16\", \"iteration\": \"18\", \"goal\": \"accuracy_max\", \"run_name\": \"SparseNormalizer, XGBoostClassifier\", \"run_properties\": \"<azureml.automl.runtime.shared.model_wrappers.SparseNormalizer object at 0x7f3c6704f7f0\", \"primary_metric\": 0.96534003, \"best_metric\": 0.96909245}, {\"run_id\": \"AutoML_2aa9bad3-2ac6-4205-ac66-21667fe9859c_19\", \"run_number\": 24, \"metric\": null, \"status\": \"Completed\", \"run_type\": \"azureml.scriptrun\", \"training_percent\": \"100\", \"start_time\": \"2021-01-28T14:14:59.060747Z\", \"end_time\": \"2021-01-28T14:15:45.955611Z\", \"created_time\": \"2021-01-28T14:14:46.628777Z\", \"created_time_dt\": \"2021-01-28T14:14:46.628777Z\", \"duration\": \"0:00:59\", \"iteration\": \"19\", \"goal\": \"accuracy_max\", \"run_name\": \"MaxAbsScaler, LightGBM\", \"run_properties\": \"copy=True\", \"primary_metric\": 0.9565521, \"best_metric\": 0.96909245}, {\"run_id\": \"AutoML_2aa9bad3-2ac6-4205-ac66-21667fe9859c_20\", \"run_number\": 25, \"metric\": null, \"status\": \"Completed\", \"run_type\": \"azureml.scriptrun\", \"training_percent\": \"100\", \"start_time\": \"2021-01-28T14:15:17.700162Z\", \"end_time\": \"2021-01-28T14:16:07.442996Z\", \"created_time\": \"2021-01-28T14:15:05.043112Z\", \"created_time_dt\": \"2021-01-28T14:15:05.043112Z\", \"duration\": \"0:01:02\", \"iteration\": \"20\", \"goal\": \"accuracy_max\", \"run_name\": \"MaxAbsScaler, LightGBM\", \"run_properties\": \"copy=True\", \"primary_metric\": 0.94963975, \"best_metric\": 0.96909245}, {\"run_id\": \"AutoML_2aa9bad3-2ac6-4205-ac66-21667fe9859c_21\", \"run_number\": 26, \"metric\": null, \"status\": \"Completed\", \"run_type\": \"azureml.scriptrun\", \"training_percent\": \"100\", \"start_time\": \"2021-01-28T14:15:31.187586Z\", \"end_time\": \"2021-01-28T14:16:39.461444Z\", \"created_time\": \"2021-01-28T14:15:17.033458Z\", \"created_time_dt\": \"2021-01-28T14:15:17.033458Z\", \"duration\": \"0:01:22\", \"iteration\": \"21\", \"goal\": \"accuracy_max\", \"run_name\": \"MaxAbsScaler, ExtremeRandomTrees\", \"run_properties\": \"copy=True\", \"primary_metric\": 0.86935914, \"best_metric\": 0.96909245}, {\"run_id\": \"AutoML_2aa9bad3-2ac6-4205-ac66-21667fe9859c_22\", \"run_number\": 27, \"metric\": null, \"status\": \"Completed\", \"run_type\": \"azureml.scriptrun\", \"training_percent\": \"100\", \"start_time\": \"2021-01-28T14:15:40.243654Z\", \"end_time\": \"2021-01-28T14:16:41.55393Z\", \"created_time\": \"2021-01-28T14:15:26.293649Z\", \"created_time_dt\": \"2021-01-28T14:15:26.293649Z\", \"duration\": \"0:01:15\", \"iteration\": \"22\", \"goal\": \"accuracy_max\", \"run_name\": \"StandardScalerWrapper, ExtremeRandomTrees\", \"run_properties\": \"<azureml.automl.runtime.shared.model_wrappers.StandardScalerWrapper object at 0x7f1547759e80\", \"primary_metric\": 0.84674495, \"best_metric\": 0.96909245}, {\"run_id\": \"AutoML_2aa9bad3-2ac6-4205-ac66-21667fe9859c_23\", \"run_number\": 28, \"metric\": null, \"status\": \"Completed\", \"run_type\": \"azureml.scriptrun\", \"training_percent\": \"100\", \"start_time\": \"2021-01-28T14:16:00.895422Z\", \"end_time\": \"2021-01-28T14:16:46.497821Z\", \"created_time\": \"2021-01-28T14:15:48.671425Z\", \"created_time_dt\": \"2021-01-28T14:15:48.671425Z\", \"duration\": \"0:00:57\", \"iteration\": \"23\", \"goal\": \"accuracy_max\", \"run_name\": \"MaxAbsScaler, LogisticRegression\", \"run_properties\": \"copy=True\", \"primary_metric\": 0.91093087, \"best_metric\": 0.96909245}, {\"run_id\": \"AutoML_2aa9bad3-2ac6-4205-ac66-21667fe9859c_24\", \"run_number\": 29, \"metric\": null, \"status\": \"Completed\", \"run_type\": \"azureml.scriptrun\", \"training_percent\": \"100\", \"start_time\": \"2021-01-28T14:16:14.269467Z\", \"end_time\": \"2021-01-28T14:17:32.375148Z\", \"created_time\": \"2021-01-28T14:16:00.171499Z\", \"created_time_dt\": \"2021-01-28T14:16:00.171499Z\", \"duration\": \"0:01:32\", \"iteration\": \"24\", \"goal\": \"accuracy_max\", \"run_name\": \"MaxAbsScaler, LightGBM\", \"run_properties\": \"copy=True\", \"primary_metric\": 0.95852697, \"best_metric\": 0.96909245}, {\"run_id\": \"AutoML_2aa9bad3-2ac6-4205-ac66-21667fe9859c_25\", \"run_number\": 30, \"metric\": null, \"status\": \"Completed\", \"run_type\": \"azureml.scriptrun\", \"training_percent\": \"100\", \"start_time\": \"2021-01-28T14:16:25.138279Z\", \"end_time\": \"2021-01-28T14:17:35.897499Z\", \"created_time\": \"2021-01-28T14:16:11.359254Z\", \"created_time_dt\": \"2021-01-28T14:16:11.359254Z\", \"duration\": \"0:01:24\", \"iteration\": \"25\", \"goal\": \"accuracy_max\", \"run_name\": \"SparseNormalizer, LightGBM\", \"run_properties\": \"<azureml.automl.runtime.shared.model_wrappers.SparseNormalizer object at 0x7f72fd292710\", \"primary_metric\": 0.85385431, \"best_metric\": 0.96909245}, {\"run_id\": \"AutoML_2aa9bad3-2ac6-4205-ac66-21667fe9859c_26\", \"run_number\": 31, \"metric\": null, \"status\": \"Completed\", \"run_type\": \"azureml.scriptrun\", \"training_percent\": \"100\", \"start_time\": \"2021-01-28T14:16:55.504266Z\", \"end_time\": \"2021-01-28T14:18:20.732651Z\", \"created_time\": \"2021-01-28T14:16:42.129369Z\", \"created_time_dt\": \"2021-01-28T14:16:42.129369Z\", \"duration\": \"0:01:38\", \"iteration\": \"26\", \"goal\": \"accuracy_max\", \"run_name\": \"SparseNormalizer, LightGBM\", \"run_properties\": \"<azureml.automl.runtime.shared.model_wrappers.SparseNormalizer object at 0x7f0a24266e80\", \"primary_metric\": 0.92031183, \"best_metric\": 0.96909245}, {\"run_id\": \"AutoML_2aa9bad3-2ac6-4205-ac66-21667fe9859c_27\", \"run_number\": 32, \"metric\": null, \"status\": \"Completed\", \"run_type\": \"azureml.scriptrun\", \"training_percent\": \"100\", \"start_time\": \"2021-01-28T14:17:00.982189Z\", \"end_time\": \"2021-01-28T14:18:17.004878Z\", \"created_time\": \"2021-01-28T14:16:47.769477Z\", \"created_time_dt\": \"2021-01-28T14:16:47.769477Z\", \"duration\": \"0:01:29\", \"iteration\": \"27\", \"goal\": \"accuracy_max\", \"run_name\": \"SparseNormalizer, XGBoostClassifier\", \"run_properties\": \"<azureml.automl.runtime.shared.model_wrappers.SparseNormalizer object at 0x7f0658a3a320\", \"primary_metric\": 0.90352542, \"best_metric\": 0.96909245}, {\"run_id\": \"AutoML_2aa9bad3-2ac6-4205-ac66-21667fe9859c_28\", \"run_number\": 33, \"metric\": null, \"status\": \"Completed\", \"run_type\": \"azureml.scriptrun\", \"training_percent\": \"100\", \"start_time\": \"2021-01-28T14:17:07.377122Z\", \"end_time\": \"2021-01-28T14:18:26.030686Z\", \"created_time\": \"2021-01-28T14:16:53.560618Z\", \"created_time_dt\": \"2021-01-28T14:16:53.560618Z\", \"duration\": \"0:01:32\", \"iteration\": \"28\", \"goal\": \"accuracy_max\", \"run_name\": \"StandardScalerWrapper, RandomForest\", \"run_properties\": \"<azureml.automl.runtime.shared.model_wrappers.StandardScalerWrapper object at 0x7f36234c1278\", \"primary_metric\": 0.89029325, \"best_metric\": 0.96909245}, {\"run_id\": \"AutoML_2aa9bad3-2ac6-4205-ac66-21667fe9859c_29\", \"run_number\": 34, \"metric\": null, \"status\": \"Completed\", \"run_type\": \"azureml.scriptrun\", \"training_percent\": \"100\", \"start_time\": \"2021-01-28T14:17:48.921066Z\", \"end_time\": \"2021-01-28T14:19:05.570026Z\", \"created_time\": \"2021-01-28T14:17:35.309585Z\", \"created_time_dt\": \"2021-01-28T14:17:35.309585Z\", \"duration\": \"0:01:30\", \"iteration\": \"29\", \"goal\": \"accuracy_max\", \"run_name\": \"StandardScalerWrapper, XGBoostClassifier\", \"run_properties\": \"<azureml.automl.runtime.shared.model_wrappers.StandardScalerWrapper object at 0x7f33d82d4ba8\", \"primary_metric\": 0.96800655, \"best_metric\": 0.96909245}, {\"run_id\": \"AutoML_2aa9bad3-2ac6-4205-ac66-21667fe9859c_30\", \"run_number\": 35, \"metric\": null, \"status\": \"Completed\", \"run_type\": \"azureml.scriptrun\", \"training_percent\": \"100\", \"start_time\": \"2021-01-28T14:17:56.004232Z\", \"end_time\": \"2021-01-28T14:18:54.107459Z\", \"created_time\": \"2021-01-28T14:17:41.63576Z\", \"created_time_dt\": \"2021-01-28T14:17:41.63576Z\", \"duration\": \"0:01:12\", \"iteration\": \"30\", \"goal\": \"accuracy_max\", \"run_name\": \"MaxAbsScaler, LightGBM\", \"run_properties\": \"copy=True\", \"primary_metric\": 0.83933968, \"best_metric\": 0.96909245}, {\"run_id\": \"AutoML_2aa9bad3-2ac6-4205-ac66-21667fe9859c_31\", \"run_number\": 36, \"metric\": null, \"status\": \"Completed\", \"run_type\": \"azureml.scriptrun\", \"training_percent\": \"100\", \"start_time\": \"2021-01-28T14:18:33.042387Z\", \"end_time\": \"2021-01-28T14:20:04.531214Z\", \"created_time\": \"2021-01-28T14:18:19.377883Z\", \"created_time_dt\": \"2021-01-28T14:18:19.377883Z\", \"duration\": \"0:01:45\", \"iteration\": \"31\", \"goal\": \"accuracy_max\", \"run_name\": \"SparseNormalizer, XGBoostClassifier\", \"run_properties\": \"<azureml.automl.runtime.shared.model_wrappers.SparseNormalizer object at 0x7f0fa5f6deb8\", \"primary_metric\": 0.96751252, \"best_metric\": 0.96909245}, {\"run_id\": \"AutoML_2aa9bad3-2ac6-4205-ac66-21667fe9859c_32\", \"run_number\": 37, \"metric\": null, \"status\": \"Completed\", \"run_type\": \"azureml.scriptrun\", \"training_percent\": \"100\", \"start_time\": \"2021-01-28T14:18:40.080531Z\", \"end_time\": \"2021-01-28T14:19:48.156228Z\", \"created_time\": \"2021-01-28T14:18:26.135274Z\", \"created_time_dt\": \"2021-01-28T14:18:26.135274Z\", \"duration\": \"0:01:22\", \"iteration\": \"32\", \"goal\": \"accuracy_max\", \"run_name\": \"SparseNormalizer, XGBoostClassifier\", \"run_properties\": \"<azureml.automl.runtime.shared.model_wrappers.SparseNormalizer object at 0x7f39974cbc50\", \"primary_metric\": 0.96524147, \"best_metric\": 0.96909245}, {\"run_id\": \"AutoML_2aa9bad3-2ac6-4205-ac66-21667fe9859c_33\", \"run_number\": 38, \"metric\": null, \"status\": \"Completed\", \"run_type\": \"azureml.scriptrun\", \"training_percent\": \"100\", \"start_time\": \"2021-01-28T14:18:47.177818Z\", \"end_time\": \"2021-01-28T14:19:54.640638Z\", \"created_time\": \"2021-01-28T14:18:32.468994Z\", \"created_time_dt\": \"2021-01-28T14:18:32.468994Z\", \"duration\": \"0:01:22\", \"iteration\": \"33\", \"goal\": \"accuracy_max\", \"run_name\": \"SparseNormalizer, XGBoostClassifier\", \"run_properties\": \"<azureml.automl.runtime.shared.model_wrappers.SparseNormalizer object at 0x7f41df22add8\", \"primary_metric\": 0.96079758, \"best_metric\": 0.96909245}, {\"run_id\": \"AutoML_2aa9bad3-2ac6-4205-ac66-21667fe9859c_34\", \"run_number\": 39, \"metric\": null, \"status\": \"Canceled\", \"run_type\": \"azureml.scriptrun\", \"training_percent\": \"100\", \"start_time\": \"2021-01-28T14:19:15.321728Z\", \"end_time\": \"2021-01-28T14:20:14.621827Z\", \"created_time\": \"2021-01-28T14:18:56.79122Z\", \"created_time_dt\": \"2021-01-28T14:18:56.79122Z\", \"duration\": \"0:01:17\", \"iteration\": \"34\", \"goal\": \"accuracy_max\", \"run_name\": \"SparseNormalizer, XGBoostClassifier\", \"run_properties\": \"<azureml.automl.runtime.shared.model_wrappers.SparseNormalizer object at 0x7fb7a02d4588\", \"primary_metric\": 0.96336516, \"best_metric\": 0.96909245}, {\"run_id\": \"AutoML_2aa9bad3-2ac6-4205-ac66-21667fe9859c_35\", \"run_number\": 40, \"metric\": null, \"status\": \"Canceled\", \"run_type\": \"azureml.scriptrun\", \"training_percent\": \"100\", \"start_time\": \"2021-01-28T14:19:22.970889Z\", \"end_time\": \"2021-01-28T14:20:13.145735Z\", \"created_time\": \"2021-01-28T14:19:08.986645Z\", \"created_time_dt\": \"2021-01-28T14:19:08.986645Z\", \"duration\": \"0:01:04\", \"iteration\": \"35\", \"goal\": \"accuracy_max\", \"run_name\": \"SparseNormalizer, LightGBM\", \"run_properties\": \"<azureml.automl.runtime.shared.model_wrappers.SparseNormalizer object at 0x7ff860203668\", \"primary_metric\": 0.9634639, \"best_metric\": 0.96909245}, {\"run_id\": \"AutoML_2aa9bad3-2ac6-4205-ac66-21667fe9859c_36\", \"run_number\": 41, \"metric\": null, \"status\": \"Canceled\", \"run_type\": \"azureml.scriptrun\", \"training_percent\": \"100\", \"start_time\": \"2021-01-28T14:20:02.744982Z\", \"end_time\": \"2021-01-28T14:20:12.411344Z\", \"created_time\": \"2021-01-28T14:19:50.669257Z\", \"created_time_dt\": \"2021-01-28T14:19:50.669257Z\", \"duration\": \"0:00:21\", \"iteration\": \"36\", \"goal\": null, \"run_name\": \"Canceled\", \"run_properties\": null}, {\"run_id\": \"AutoML_2aa9bad3-2ac6-4205-ac66-21667fe9859c_37\", \"run_number\": 42, \"metric\": null, \"status\": \"Canceled\", \"run_type\": \"azureml.scriptrun\", \"training_percent\": \"100\", \"start_time\": \"2021-01-28T14:19:57.18984Z\", \"end_time\": \"2021-01-28T14:20:16.439925Z\", \"created_time\": \"2021-01-28T14:19:57.18984Z\", \"created_time_dt\": \"2021-01-28T14:19:57.18984Z\", \"duration\": \"0:00:19\", \"iteration\": \"37\", \"goal\": null, \"run_name\": \"Canceled\", \"run_properties\": null}, {\"run_id\": \"AutoML_2aa9bad3-2ac6-4205-ac66-21667fe9859c_39\", \"run_number\": 43, \"metric\": null, \"status\": \"Completed\", \"run_type\": \"azureml.scriptrun\", \"training_percent\": \"100\", \"start_time\": \"2021-01-28T14:20:35.217732Z\", \"end_time\": \"2021-01-28T14:22:04.619971Z\", \"created_time\": \"2021-01-28T14:20:18.643233Z\", \"created_time_dt\": \"2021-01-28T14:20:18.643233Z\", \"duration\": \"0:01:45\", \"iteration\": \"39\", \"goal\": \"accuracy_max\", \"run_name\": \"StackEnsemble\", \"run_properties\": \"base_learners=[('0',\\n                                        Pipeline(memory=None,\\n                                                 steps=[('maxabsscaler',\\n                                                         MaxAbsScaler(copy=True\", \"primary_metric\": 0.97008016, \"best_metric\": 0.97057375}, {\"run_id\": \"AutoML_2aa9bad3-2ac6-4205-ac66-21667fe9859c_38\", \"run_number\": 44, \"metric\": null, \"status\": \"Completed\", \"run_type\": \"azureml.scriptrun\", \"training_percent\": \"100\", \"start_time\": \"2021-01-28T14:20:35.587807Z\", \"end_time\": \"2021-01-28T14:22:01.928582Z\", \"created_time\": \"2021-01-28T14:20:18.656445Z\", \"created_time_dt\": \"2021-01-28T14:20:18.656445Z\", \"duration\": \"0:01:43\", \"iteration\": \"38\", \"goal\": \"accuracy_max\", \"run_name\": \"VotingEnsemble\", \"run_properties\": \"classification_labels=None,\\n                              estimators=[('0',\\n                                           Pipeline(memory=None,\\n                                                    steps=[('maxabsscaler',\\n                                                            MaxAbsScaler(copy=True\", \"primary_metric\": 0.97057375, \"best_metric\": 0.97057375}], \"children_metrics\": {\"categories\": [0], \"series\": {\"f1_score_macro\": [{\"categories\": [\"0\", \"1\", \"2\", \"3\", \"4\", \"5\", \"6\", \"7\", \"8\", \"9\", \"10\", \"11\", \"12\", \"13\", \"14\", \"15\", \"16\", \"17\", \"18\", \"19\", \"20\", \"21\", \"22\", \"23\", \"24\", \"25\", \"26\", \"27\", \"28\", \"29\", \"30\", \"31\", \"32\", \"33\", \"34\", \"35\", \"38\", \"39\"], \"mode\": \"markers\", \"name\": \"f1_score_macro\", \"stepped\": false, \"type\": \"scatter\", \"data\": [0.9413440452905671, 0.9227973818311415, 0.6070804672755563, 0.5012642442259416, 0.7775909099843367, 0.6836707394442726, 0.9134434536115066, 0.9315234400928148, 0.9348458020351345, 0.9272707444129678, 0.8921663816017723, 0.774239882157568, 0.9354259100628465, 0.4563222431737475, 0.8190583135189277, 0.7630632779711884, 0.6693564817551457, 0.8040028406980338, 0.9332170241569044, 0.9158952677618247, 0.9035196374437025, 0.6311374463878688, 0.5093186923353743, 0.8204545914120467, 0.9204982874040422, 0.5468668324460705, 0.829630083558898, 0.7878408845222835, 0.7685263783748338, 0.9394742777904854, 0.4563222431737475, 0.9377350904507232, 0.9334613418330536, 0.9239365192774546, 0.9290925414304182, 0.9294846997936336, 0.9435732973859707, 0.9432256376001606]}, {\"categories\": [\"0\", \"1\", \"2\", \"3\", \"4\", \"5\", \"6\", \"7\", \"8\", \"9\", \"10\", \"11\", \"12\", \"13\", \"14\", \"15\", \"16\", \"17\", \"18\", \"19\", \"20\", \"21\", \"22\", \"23\", \"24\", \"25\", \"26\", \"27\", \"28\", \"29\", \"30\", \"31\", \"32\", \"33\", \"34\", \"35\", \"38\", \"39\"], \"mode\": \"lines\", \"name\": \"f1_score_macro_max\", \"stepped\": true, \"type\": \"scatter\", \"data\": [0.9413440452905671, 0.9413440452905671, 0.9413440452905671, 0.9413440452905671, 0.9413440452905671, 0.9413440452905671, 0.9413440452905671, 0.9413440452905671, 0.9413440452905671, 0.9413440452905671, 0.9413440452905671, 0.9413440452905671, 0.9413440452905671, 0.9413440452905671, 0.9413440452905671, 0.9413440452905671, 0.9413440452905671, 0.9413440452905671, 0.9413440452905671, 0.9413440452905671, 0.9413440452905671, 0.9413440452905671, 0.9413440452905671, 0.9413440452905671, 0.9413440452905671, 0.9413440452905671, 0.9413440452905671, 0.9413440452905671, 0.9413440452905671, 0.9413440452905671, 0.9413440452905671, 0.9413440452905671, 0.9413440452905671, 0.9413440452905671, 0.9413440452905671, 0.9413440452905671, 0.9435732973859707, 0.9435732973859707]}], \"recall_score_micro\": [{\"categories\": [\"0\", \"1\", \"2\", \"3\", \"4\", \"5\", \"6\", \"7\", \"8\", \"9\", \"10\", \"11\", \"12\", \"13\", \"14\", \"15\", \"16\", \"17\", \"18\", \"19\", \"20\", \"21\", \"22\", \"23\", \"24\", \"25\", \"26\", \"27\", \"28\", \"29\", \"30\", \"31\", \"32\", \"33\", \"34\", \"35\", \"38\", \"39\"], \"mode\": \"markers\", \"name\": \"recall_score_micro\", \"stepped\": false, \"type\": \"scatter\", \"data\": [0.9690924463167749, 0.9603042829559417, 0.8665956058744367, 0.8457581183078814, 0.8528693464396465, 0.7572825171142706, 0.9552678895325025, 0.964747791235153, 0.9661300684570827, 0.9624765666140074, 0.9450975659703937, 0.9007605172312912, 0.9664264232637061, 0.8393396817038207, 0.9117209642501902, 0.8992786261775203, 0.8756783979872448, 0.9079688139956703, 0.9653400327657832, 0.9565521034462584, 0.9496397519162132, 0.8693591363875725, 0.8467449534842899, 0.9109308700485635, 0.9585269732607804, 0.8538543092855889, 0.9203118307881342, 0.9035254227371131, 0.8902932537592886, 0.9680065531566321, 0.8393396817038207, 0.9675125212099935, 0.9652414721198291, 0.960797583523492, 0.963365162951261, 0.9634638991281962, 0.9705737522672752, 0.9700801591480896]}, {\"categories\": [\"0\", \"1\", \"2\", \"3\", \"4\", \"5\", \"6\", \"7\", \"8\", \"9\", \"10\", \"11\", \"12\", \"13\", \"14\", \"15\", \"16\", \"17\", \"18\", \"19\", \"20\", \"21\", \"22\", \"23\", \"24\", \"25\", \"26\", \"27\", \"28\", \"29\", \"30\", \"31\", \"32\", \"33\", \"34\", \"35\", \"38\", \"39\"], \"mode\": \"lines\", \"name\": \"recall_score_micro_max\", \"stepped\": true, \"type\": \"scatter\", \"data\": [0.9690924463167749, 0.9690924463167749, 0.9690924463167749, 0.9690924463167749, 0.9690924463167749, 0.9690924463167749, 0.9690924463167749, 0.9690924463167749, 0.9690924463167749, 0.9690924463167749, 0.9690924463167749, 0.9690924463167749, 0.9690924463167749, 0.9690924463167749, 0.9690924463167749, 0.9690924463167749, 0.9690924463167749, 0.9690924463167749, 0.9690924463167749, 0.9690924463167749, 0.9690924463167749, 0.9690924463167749, 0.9690924463167749, 0.9690924463167749, 0.9690924463167749, 0.9690924463167749, 0.9690924463167749, 0.9690924463167749, 0.9690924463167749, 0.9690924463167749, 0.9690924463167749, 0.9690924463167749, 0.9690924463167749, 0.9690924463167749, 0.9690924463167749, 0.9690924463167749, 0.9705737522672752, 0.9705737522672752]}], \"norm_macro_recall\": [{\"categories\": [\"0\", \"1\", \"2\", \"3\", \"4\", \"5\", \"6\", \"7\", \"8\", \"9\", \"10\", \"11\", \"12\", \"13\", \"14\", \"15\", \"16\", \"17\", \"18\", \"19\", \"20\", \"21\", \"22\", \"23\", \"24\", \"25\", \"26\", \"27\", \"28\", \"29\", \"30\", \"31\", \"32\", \"33\", \"34\", \"35\", \"38\", \"39\"], \"mode\": \"markers\", \"name\": \"norm_macro_recall\", \"stepped\": false, \"type\": \"scatter\", \"data\": [0.8628086832654799, 0.8080242199286163, 0.1769245094575934, 0.044575032566180894, 0.6986548481626776, 0.5947101843742567, 0.7929807822795952, 0.8251988677349185, 0.8389481878945576, 0.8186321867434362, 0.7428630827122121, 0.4570962399499084, 0.8406201466410718, 0.0, 0.5800084217477616, 0.4268959886824288, 0.2602504300010446, 0.5342009508103654, 0.8341232739515597, 0.7989379184108217, 0.7823197297763452, 0.20154986371143338, 0.054565794964583025, 0.5914094498256611, 0.8152820069372826, 0.09763359227311834, 0.5772246158304524, 0.49209777554994577, 0.4766666768053813, 0.8632262830190006, 0.0, 0.8475900135434212, 0.8407643671850162, 0.8105483743377576, 0.8227670229235297, 0.8258034583442795, 0.8589771433862153, 0.8678386714067267]}, {\"categories\": [\"0\", \"1\", \"2\", \"3\", \"4\", \"5\", \"6\", \"7\", \"8\", \"9\", \"10\", \"11\", \"12\", \"13\", \"14\", \"15\", \"16\", \"17\", \"18\", \"19\", \"20\", \"21\", \"22\", \"23\", \"24\", \"25\", \"26\", \"27\", \"28\", \"29\", \"30\", \"31\", \"32\", \"33\", \"34\", \"35\", \"38\", \"39\"], \"mode\": \"lines\", \"name\": \"norm_macro_recall_max\", \"stepped\": true, \"type\": \"scatter\", \"data\": [0.8628086832654799, 0.8628086832654799, 0.8628086832654799, 0.8628086832654799, 0.8628086832654799, 0.8628086832654799, 0.8628086832654799, 0.8628086832654799, 0.8628086832654799, 0.8628086832654799, 0.8628086832654799, 0.8628086832654799, 0.8628086832654799, 0.8628086832654799, 0.8628086832654799, 0.8628086832654799, 0.8628086832654799, 0.8628086832654799, 0.8628086832654799, 0.8628086832654799, 0.8628086832654799, 0.8628086832654799, 0.8628086832654799, 0.8628086832654799, 0.8628086832654799, 0.8628086832654799, 0.8628086832654799, 0.8628086832654799, 0.8628086832654799, 0.8632262830190006, 0.8632262830190006, 0.8632262830190006, 0.8632262830190006, 0.8632262830190006, 0.8632262830190006, 0.8632262830190006, 0.8632262830190006, 0.8678386714067267]}], \"average_precision_score_weighted\": [{\"categories\": [\"0\", \"1\", \"2\", \"3\", \"4\", \"5\", \"6\", \"7\", \"8\", \"9\", \"10\", \"11\", \"12\", \"13\", \"14\", \"15\", \"16\", \"17\", \"18\", \"19\", \"20\", \"21\", \"22\", \"23\", \"24\", \"25\", \"26\", \"27\", \"28\", \"29\", \"30\", \"31\", \"32\", \"33\", \"34\", \"35\", \"38\", \"39\"], \"mode\": \"markers\", \"name\": \"average_precision_score_weighted\", \"stepped\": false, \"type\": \"scatter\", \"data\": [0.9932731307994235, 0.9903121269032459, 0.9437928465818074, 0.9276783691160632, 0.9464207238742773, 0.9269142142831983, 0.9863391273871396, 0.9921683664203726, 0.992004385517849, 0.990502466389236, 0.9802261898638879, 0.958063900456148, 0.9923317143847381, 0.9291356501981487, 0.9514441532842604, 0.9598764012538249, 0.9351845980275203, 0.9514600159361303, 0.9918054576898546, 0.9867543657981406, 0.9845486233160413, 0.939811668142578, 0.9281070670148807, 0.9520297798133285, 0.9878755695453383, 0.9448976328927473, 0.9710098944234088, 0.9552961037506105, 0.9351480727585523, 0.9930765364261421, 0.9551181173390223, 0.9925158089768388, 0.9918982020744694, 0.9896412043495039, 0.9909358743833053, 0.9912445395821704, 0.9932121551443412, 0.9933589285712551]}, {\"categories\": [\"0\", \"1\", \"2\", \"3\", \"4\", \"5\", \"6\", \"7\", \"8\", \"9\", \"10\", \"11\", \"12\", \"13\", \"14\", \"15\", \"16\", \"17\", \"18\", \"19\", \"20\", \"21\", \"22\", \"23\", \"24\", \"25\", \"26\", \"27\", \"28\", \"29\", \"30\", \"31\", \"32\", \"33\", \"34\", \"35\", \"38\", \"39\"], \"mode\": \"lines\", \"name\": \"average_precision_score_weighted_max\", \"stepped\": true, \"type\": \"scatter\", \"data\": [0.9932731307994235, 0.9932731307994235, 0.9932731307994235, 0.9932731307994235, 0.9932731307994235, 0.9932731307994235, 0.9932731307994235, 0.9932731307994235, 0.9932731307994235, 0.9932731307994235, 0.9932731307994235, 0.9932731307994235, 0.9932731307994235, 0.9932731307994235, 0.9932731307994235, 0.9932731307994235, 0.9932731307994235, 0.9932731307994235, 0.9932731307994235, 0.9932731307994235, 0.9932731307994235, 0.9932731307994235, 0.9932731307994235, 0.9932731307994235, 0.9932731307994235, 0.9932731307994235, 0.9932731307994235, 0.9932731307994235, 0.9932731307994235, 0.9932731307994235, 0.9932731307994235, 0.9932731307994235, 0.9932731307994235, 0.9932731307994235, 0.9932731307994235, 0.9932731307994235, 0.9932731307994235, 0.9933589285712551]}], \"accuracy\": [{\"categories\": [\"0\", \"1\", \"2\", \"3\", \"4\", \"5\", \"6\", \"7\", \"8\", \"9\", \"10\", \"11\", \"12\", \"13\", \"14\", \"15\", \"16\", \"17\", \"18\", \"19\", \"20\", \"21\", \"22\", \"23\", \"24\", \"25\", \"26\", \"27\", \"28\", \"29\", \"30\", \"31\", \"32\", \"33\", \"34\", \"35\", \"38\", \"39\"], \"mode\": \"markers\", \"name\": \"accuracy\", \"stepped\": false, \"type\": \"scatter\", \"data\": [0.9690924463167749, 0.9603042829559417, 0.8665956058744367, 0.8457581183078814, 0.8528693464396465, 0.7572825171142706, 0.9552678895325025, 0.964747791235153, 0.9661300684570827, 0.9624765666140074, 0.9450975659703937, 0.9007605172312912, 0.9664264232637061, 0.8393396817038207, 0.9117209642501902, 0.8992786261775203, 0.8756783979872448, 0.9079688139956703, 0.9653400327657832, 0.9565521034462584, 0.9496397519162132, 0.8693591363875725, 0.8467449534842899, 0.9109308700485635, 0.9585269732607804, 0.8538543092855889, 0.9203118307881342, 0.9035254227371131, 0.8902932537592886, 0.9680065531566321, 0.8393396817038207, 0.9675125212099935, 0.9652414721198291, 0.960797583523492, 0.963365162951261, 0.9634638991281962, 0.9705737522672752, 0.9700801591480896]}, {\"categories\": [\"0\", \"1\", \"2\", \"3\", \"4\", \"5\", \"6\", \"7\", \"8\", \"9\", \"10\", \"11\", \"12\", \"13\", \"14\", \"15\", \"16\", \"17\", \"18\", \"19\", \"20\", \"21\", \"22\", \"23\", \"24\", \"25\", \"26\", \"27\", \"28\", \"29\", \"30\", \"31\", \"32\", \"33\", \"34\", \"35\", \"38\", \"39\"], \"mode\": \"lines\", \"name\": \"accuracy_max\", \"stepped\": true, \"type\": \"scatter\", \"data\": [0.9690924463167749, 0.9690924463167749, 0.9690924463167749, 0.9690924463167749, 0.9690924463167749, 0.9690924463167749, 0.9690924463167749, 0.9690924463167749, 0.9690924463167749, 0.9690924463167749, 0.9690924463167749, 0.9690924463167749, 0.9690924463167749, 0.9690924463167749, 0.9690924463167749, 0.9690924463167749, 0.9690924463167749, 0.9690924463167749, 0.9690924463167749, 0.9690924463167749, 0.9690924463167749, 0.9690924463167749, 0.9690924463167749, 0.9690924463167749, 0.9690924463167749, 0.9690924463167749, 0.9690924463167749, 0.9690924463167749, 0.9690924463167749, 0.9690924463167749, 0.9690924463167749, 0.9690924463167749, 0.9690924463167749, 0.9690924463167749, 0.9690924463167749, 0.9690924463167749, 0.9705737522672752, 0.9705737522672752]}], \"AUC_micro\": [{\"categories\": [\"0\", \"1\", \"2\", \"3\", \"4\", \"5\", \"6\", \"7\", \"8\", \"9\", \"10\", \"11\", \"12\", \"13\", \"14\", \"15\", \"16\", \"17\", \"18\", \"19\", \"20\", \"21\", \"22\", \"23\", \"24\", \"25\", \"26\", \"27\", \"28\", \"29\", \"30\", \"31\", \"32\", \"33\", \"34\", \"35\", \"38\", \"39\"], \"mode\": \"markers\", \"name\": \"AUC_micro\", \"stepped\": false, \"type\": \"scatter\", \"data\": [0.9959000035607133, 0.9938827586041428, 0.9546389430663192, 0.9463653945911553, 0.9293554681106291, 0.8717562656265171, 0.991231037305235, 0.9949607513920621, 0.9950074137612956, 0.9939695234818312, 0.9868287493972522, 0.9693514376757975, 0.9953022893295466, 0.9468350354179046, 0.9689282914008551, 0.9689901488186213, 0.952959557692361, 0.9684435818154901, 0.9949203758325127, 0.9922353777868086, 0.9908435532451988, 0.9540804277875958, 0.9472956823853679, 0.9693545357981911, 0.9929492410414804, 0.9552806983545561, 0.9804063543453475, 0.9698136040571094, 0.9562384137129634, 0.9958952801971316, 0.9600566773162061, 0.9953665168100133, 0.9949851567907099, 0.9933490153388232, 0.9942713119662286, 0.9944124015139247, 0.9956802551560493, 0.99564082415568]}, {\"categories\": [\"0\", \"1\", \"2\", \"3\", \"4\", \"5\", \"6\", \"7\", \"8\", \"9\", \"10\", \"11\", \"12\", \"13\", \"14\", \"15\", \"16\", \"17\", \"18\", \"19\", \"20\", \"21\", \"22\", \"23\", \"24\", \"25\", \"26\", \"27\", \"28\", \"29\", \"30\", \"31\", \"32\", \"33\", \"34\", \"35\", \"38\", \"39\"], \"mode\": \"lines\", \"name\": \"AUC_micro_max\", \"stepped\": true, \"type\": \"scatter\", \"data\": [0.9959000035607133, 0.9959000035607133, 0.9959000035607133, 0.9959000035607133, 0.9959000035607133, 0.9959000035607133, 0.9959000035607133, 0.9959000035607133, 0.9959000035607133, 0.9959000035607133, 0.9959000035607133, 0.9959000035607133, 0.9959000035607133, 0.9959000035607133, 0.9959000035607133, 0.9959000035607133, 0.9959000035607133, 0.9959000035607133, 0.9959000035607133, 0.9959000035607133, 0.9959000035607133, 0.9959000035607133, 0.9959000035607133, 0.9959000035607133, 0.9959000035607133, 0.9959000035607133, 0.9959000035607133, 0.9959000035607133, 0.9959000035607133, 0.9959000035607133, 0.9959000035607133, 0.9959000035607133, 0.9959000035607133, 0.9959000035607133, 0.9959000035607133, 0.9959000035607133, 0.9959000035607133, 0.9959000035607133]}], \"balanced_accuracy\": [{\"categories\": [\"0\", \"1\", \"2\", \"3\", \"4\", \"5\", \"6\", \"7\", \"8\", \"9\", \"10\", \"11\", \"12\", \"13\", \"14\", \"15\", \"16\", \"17\", \"18\", \"19\", \"20\", \"21\", \"22\", \"23\", \"24\", \"25\", \"26\", \"27\", \"28\", \"29\", \"30\", \"31\", \"32\", \"33\", \"34\", \"35\", \"38\", \"39\"], \"mode\": \"markers\", \"name\": \"balanced_accuracy\", \"stepped\": false, \"type\": \"scatter\", \"data\": [0.9314043416327399, 0.9040121099643081, 0.5884622547287967, 0.5222875162830904, 0.8493274240813388, 0.7973550921871283, 0.8964903911397976, 0.9125994338674591, 0.9194740939472789, 0.909316093371718, 0.871431541356106, 0.7285481199749541, 0.9203100733205359, 0.5, 0.7900042108738807, 0.7134479943412143, 0.6301252150005223, 0.7671004754051828, 0.9170616369757799, 0.8994689592054108, 0.8911598648881727, 0.6007749318557166, 0.5272828974822915, 0.7957047249128305, 0.9076410034686413, 0.5488167961365592, 0.7886123079152262, 0.746048887774973, 0.7383333384026907, 0.9316131415095003, 0.5, 0.9237950067717106, 0.920382183592508, 0.9052741871688789, 0.9113835114617649, 0.9129017291721397, 0.9294885716931077, 0.9339193357033633]}, {\"categories\": [\"0\", \"1\", \"2\", \"3\", \"4\", \"5\", \"6\", \"7\", \"8\", \"9\", \"10\", \"11\", \"12\", \"13\", \"14\", \"15\", \"16\", \"17\", \"18\", \"19\", \"20\", \"21\", \"22\", \"23\", \"24\", \"25\", \"26\", \"27\", \"28\", \"29\", \"30\", \"31\", \"32\", \"33\", \"34\", \"35\", \"38\", \"39\"], \"mode\": \"lines\", \"name\": \"balanced_accuracy_max\", \"stepped\": true, \"type\": \"scatter\", \"data\": [0.9314043416327399, 0.9314043416327399, 0.9314043416327399, 0.9314043416327399, 0.9314043416327399, 0.9314043416327399, 0.9314043416327399, 0.9314043416327399, 0.9314043416327399, 0.9314043416327399, 0.9314043416327399, 0.9314043416327399, 0.9314043416327399, 0.9314043416327399, 0.9314043416327399, 0.9314043416327399, 0.9314043416327399, 0.9314043416327399, 0.9314043416327399, 0.9314043416327399, 0.9314043416327399, 0.9314043416327399, 0.9314043416327399, 0.9314043416327399, 0.9314043416327399, 0.9314043416327399, 0.9314043416327399, 0.9314043416327399, 0.9314043416327399, 0.9316131415095003, 0.9316131415095003, 0.9316131415095003, 0.9316131415095003, 0.9316131415095003, 0.9316131415095003, 0.9316131415095003, 0.9316131415095003, 0.9339193357033633]}], \"precision_score_micro\": [{\"categories\": [\"0\", \"1\", \"2\", \"3\", \"4\", \"5\", \"6\", \"7\", \"8\", \"9\", \"10\", \"11\", \"12\", \"13\", \"14\", \"15\", \"16\", \"17\", \"18\", \"19\", \"20\", \"21\", \"22\", \"23\", \"24\", \"25\", \"26\", \"27\", \"28\", \"29\", \"30\", \"31\", \"32\", \"33\", \"34\", \"35\", \"38\", \"39\"], \"mode\": \"markers\", \"name\": \"precision_score_micro\", \"stepped\": false, \"type\": \"scatter\", \"data\": [0.9690924463167749, 0.9603042829559417, 0.8665956058744367, 0.8457581183078814, 0.8528693464396465, 0.7572825171142706, 0.9552678895325025, 0.964747791235153, 0.9661300684570827, 0.9624765666140074, 0.9450975659703937, 0.9007605172312912, 0.9664264232637061, 0.8393396817038207, 0.9117209642501902, 0.8992786261775203, 0.8756783979872448, 0.9079688139956703, 0.9653400327657832, 0.9565521034462584, 0.9496397519162132, 0.8693591363875725, 0.8467449534842899, 0.9109308700485635, 0.9585269732607804, 0.8538543092855889, 0.9203118307881342, 0.9035254227371131, 0.8902932537592886, 0.9680065531566321, 0.8393396817038207, 0.9675125212099935, 0.9652414721198291, 0.960797583523492, 0.963365162951261, 0.9634638991281962, 0.9705737522672752, 0.9700801591480896]}, {\"categories\": [\"0\", \"1\", \"2\", \"3\", \"4\", \"5\", \"6\", \"7\", \"8\", \"9\", \"10\", \"11\", \"12\", \"13\", \"14\", \"15\", \"16\", \"17\", \"18\", \"19\", \"20\", \"21\", \"22\", \"23\", \"24\", \"25\", \"26\", \"27\", \"28\", \"29\", \"30\", \"31\", \"32\", \"33\", \"34\", \"35\", \"38\", \"39\"], \"mode\": \"lines\", \"name\": \"precision_score_micro_max\", \"stepped\": true, \"type\": \"scatter\", \"data\": [0.9690924463167749, 0.9690924463167749, 0.9690924463167749, 0.9690924463167749, 0.9690924463167749, 0.9690924463167749, 0.9690924463167749, 0.9690924463167749, 0.9690924463167749, 0.9690924463167749, 0.9690924463167749, 0.9690924463167749, 0.9690924463167749, 0.9690924463167749, 0.9690924463167749, 0.9690924463167749, 0.9690924463167749, 0.9690924463167749, 0.9690924463167749, 0.9690924463167749, 0.9690924463167749, 0.9690924463167749, 0.9690924463167749, 0.9690924463167749, 0.9690924463167749, 0.9690924463167749, 0.9690924463167749, 0.9690924463167749, 0.9690924463167749, 0.9690924463167749, 0.9690924463167749, 0.9690924463167749, 0.9690924463167749, 0.9690924463167749, 0.9690924463167749, 0.9690924463167749, 0.9705737522672752, 0.9705737522672752]}], \"matthews_correlation\": [{\"categories\": [\"0\", \"1\", \"2\", \"3\", \"4\", \"5\", \"6\", \"7\", \"8\", \"9\", \"10\", \"11\", \"12\", \"13\", \"14\", \"15\", \"16\", \"17\", \"18\", \"19\", \"20\", \"21\", \"22\", \"23\", \"24\", \"25\", \"26\", \"27\", \"28\", \"29\", \"30\", \"31\", \"32\", \"33\", \"34\", \"35\", \"38\", \"39\"], \"mode\": \"markers\", \"name\": \"matthews_correlation\", \"stepped\": false, \"type\": \"scatter\", \"data\": [0.8832585968336769, 0.8477668255350471, 0.3578163360528985, 0.1809030324783559, 0.5866370954429928, 0.4555884597900062, 0.8289587486195424, 0.8651281206898161, 0.8710946515858794, 0.856462166936624, 0.7877969468387236, 0.5828719733103734, 0.872135056013636, 0.0, 0.6467468994411427, 0.5739508387067328, 0.44031978376059805, 0.6242852102019257, 0.8679512120083407, 0.8334767421987572, 0.8080254258315159, 0.3962788147414766, 0.1774046974003811, 0.6468469806142142, 0.8420616246047244, 0.2637324802769625, 0.67779178567539, 0.5999664029074441, 0.5499598659331095, 0.8792934453905387, 0.0, 0.8766287503656335, 0.8679278506884122, 0.850028811674005, 0.8600339096017181, 0.8605889948896973, 0.8882615485510988, 0.8869527253000902]}, {\"categories\": [\"0\", \"1\", \"2\", \"3\", \"4\", \"5\", \"6\", \"7\", \"8\", \"9\", \"10\", \"11\", \"12\", \"13\", \"14\", \"15\", \"16\", \"17\", \"18\", \"19\", \"20\", \"21\", \"22\", \"23\", \"24\", \"25\", \"26\", \"27\", \"28\", \"29\", \"30\", \"31\", \"32\", \"33\", \"34\", \"35\", \"38\", \"39\"], \"mode\": \"lines\", \"name\": \"matthews_correlation_max\", \"stepped\": true, \"type\": \"scatter\", \"data\": [0.8832585968336769, 0.8832585968336769, 0.8832585968336769, 0.8832585968336769, 0.8832585968336769, 0.8832585968336769, 0.8832585968336769, 0.8832585968336769, 0.8832585968336769, 0.8832585968336769, 0.8832585968336769, 0.8832585968336769, 0.8832585968336769, 0.8832585968336769, 0.8832585968336769, 0.8832585968336769, 0.8832585968336769, 0.8832585968336769, 0.8832585968336769, 0.8832585968336769, 0.8832585968336769, 0.8832585968336769, 0.8832585968336769, 0.8832585968336769, 0.8832585968336769, 0.8832585968336769, 0.8832585968336769, 0.8832585968336769, 0.8832585968336769, 0.8832585968336769, 0.8832585968336769, 0.8832585968336769, 0.8832585968336769, 0.8832585968336769, 0.8832585968336769, 0.8832585968336769, 0.8882615485510988, 0.8882615485510988]}], \"weighted_accuracy\": [{\"categories\": [\"0\", \"1\", \"2\", \"3\", \"4\", \"5\", \"6\", \"7\", \"8\", \"9\", \"10\", \"11\", \"12\", \"13\", \"14\", \"15\", \"16\", \"17\", \"18\", \"19\", \"20\", \"21\", \"22\", \"23\", \"24\", \"25\", \"26\", \"27\", \"28\", \"29\", \"30\", \"31\", \"32\", \"33\", \"34\", \"35\", \"38\", \"39\"], \"mode\": \"markers\", \"name\": \"weighted_accuracy\", \"stepped\": false, \"type\": \"scatter\", \"data\": [0.9830073442583588, 0.9810769896365579, 0.9688203551105161, 0.9651775257617426, 0.8542249703896873, 0.7425106561558769, 0.9770163619147145, 0.9839831993499796, 0.9833632490354275, 0.9821036810715481, 0.9723193277034966, 0.9643015999337502, 0.9834355932435243, 0.9645956071695932, 0.956696463753078, 0.9679686797962445, 0.9664374296347743, 0.9600060204191697, 0.9831832240979582, 0.9775994839542924, 0.9712140550113953, 0.9684023937703922, 0.9648059196788447, 0.9534938981926376, 0.9772997023386653, 0.9667023621400999, 0.9690328522059642, 0.9616859571360429, 0.946390188683811, 0.9814058976920105, 0.9645956071695932, 0.983667206889916, 0.9817967316188151, 0.9813472021640535, 0.9825678604067751, 0.982132111220666, 0.9857242938799425, 0.983417439297908]}, {\"categories\": [\"0\", \"1\", \"2\", \"3\", \"4\", \"5\", \"6\", \"7\", \"8\", \"9\", \"10\", \"11\", \"12\", \"13\", \"14\", \"15\", \"16\", \"17\", \"18\", \"19\", \"20\", \"21\", \"22\", \"23\", \"24\", \"25\", \"26\", \"27\", \"28\", \"29\", \"30\", \"31\", \"32\", \"33\", \"34\", \"35\", \"38\", \"39\"], \"mode\": \"lines\", \"name\": \"weighted_accuracy_max\", \"stepped\": true, \"type\": \"scatter\", \"data\": [0.9830073442583588, 0.9830073442583588, 0.9830073442583588, 0.9830073442583588, 0.9830073442583588, 0.9830073442583588, 0.9830073442583588, 0.9839831993499796, 0.9839831993499796, 0.9839831993499796, 0.9839831993499796, 0.9839831993499796, 0.9839831993499796, 0.9839831993499796, 0.9839831993499796, 0.9839831993499796, 0.9839831993499796, 0.9839831993499796, 0.9839831993499796, 0.9839831993499796, 0.9839831993499796, 0.9839831993499796, 0.9839831993499796, 0.9839831993499796, 0.9839831993499796, 0.9839831993499796, 0.9839831993499796, 0.9839831993499796, 0.9839831993499796, 0.9839831993499796, 0.9839831993499796, 0.9839831993499796, 0.9839831993499796, 0.9839831993499796, 0.9839831993499796, 0.9839831993499796, 0.9857242938799425, 0.9857242938799425]}], \"log_loss\": [{\"categories\": [\"0\", \"1\", \"2\", \"3\", \"4\", \"5\", \"6\", \"7\", \"8\", \"9\", \"10\", \"11\", \"12\", \"13\", \"14\", \"15\", \"16\", \"17\", \"18\", \"19\", \"20\", \"21\", \"22\", \"23\", \"24\", \"25\", \"26\", \"27\", \"28\", \"29\", \"30\", \"31\", \"32\", \"33\", \"34\", \"35\", \"38\", \"39\"], \"mode\": \"markers\", \"name\": \"log_loss\", \"stepped\": false, \"type\": \"scatter\", \"data\": [0.0803901865488858, 0.1105145632393635, 0.2942475269527403, 0.31788106821211054, 0.4626875446622633, 0.5124476397027178, 0.14717467317079877, 0.09330998839490913, 0.09160078892614475, 0.10527354662461168, 0.3016359814093408, 0.24421447402921506, 0.08788302213559968, 0.3209025834784048, 0.22469549719696205, 0.2573778209684448, 0.29779272723882416, 0.237049571507607, 0.0919364201765127, 0.12663207879098276, 0.12600209447941094, 0.2994489280421318, 0.3163673237283084, 0.22352142026949928, 0.11506876106689051, 0.31080126652262335, 0.2003668871657042, 0.26208515586373826, 0.27750808460558807, 0.08101232403525162, 0.44068079549932637, 0.0865966536917896, 0.09072144882202965, 0.10921910712031507, 0.10209623412445389, 0.10297505665121331, 0.08907795030365778, 0.08924091020494755]}, {\"categories\": [\"0\", \"1\", \"2\", \"3\", \"4\", \"5\", \"6\", \"7\", \"8\", \"9\", \"10\", \"11\", \"12\", \"13\", \"14\", \"15\", \"16\", \"17\", \"18\", \"19\", \"20\", \"21\", \"22\", \"23\", \"24\", \"25\", \"26\", \"27\", \"28\", \"29\", \"30\", \"31\", \"32\", \"33\", \"34\", \"35\", \"38\", \"39\"], \"mode\": \"lines\", \"name\": \"log_loss_min\", \"stepped\": true, \"type\": \"scatter\", \"data\": [0.0803901865488858, 0.0803901865488858, 0.0803901865488858, 0.0803901865488858, 0.0803901865488858, 0.0803901865488858, 0.0803901865488858, 0.0803901865488858, 0.0803901865488858, 0.0803901865488858, 0.0803901865488858, 0.0803901865488858, 0.0803901865488858, 0.0803901865488858, 0.0803901865488858, 0.0803901865488858, 0.0803901865488858, 0.0803901865488858, 0.0803901865488858, 0.0803901865488858, 0.0803901865488858, 0.0803901865488858, 0.0803901865488858, 0.0803901865488858, 0.0803901865488858, 0.0803901865488858, 0.0803901865488858, 0.0803901865488858, 0.0803901865488858, 0.0803901865488858, 0.0803901865488858, 0.0803901865488858, 0.0803901865488858, 0.0803901865488858, 0.0803901865488858, 0.0803901865488858, 0.0803901865488858, 0.0803901865488858]}], \"precision_score_weighted\": [{\"categories\": [\"0\", \"1\", \"2\", \"3\", \"4\", \"5\", \"6\", \"7\", \"8\", \"9\", \"10\", \"11\", \"12\", \"13\", \"14\", \"15\", \"16\", \"17\", \"18\", \"19\", \"20\", \"21\", \"22\", \"23\", \"24\", \"25\", \"26\", \"27\", \"28\", \"29\", \"30\", \"31\", \"32\", \"33\", \"34\", \"35\", \"38\", \"39\"], \"mode\": \"markers\", \"name\": \"precision_score_weighted\", \"stepped\": false, \"type\": \"scatter\", \"data\": [0.968675144993376, 0.9595392927993626, 0.8761843403431788, 0.8526785158626394, 0.895682224102246, 0.8710836992778924, 0.9544061012265962, 0.9641992996300672, 0.9656160736682167, 0.9618203055991188, 0.9437457273755315, 0.8960231704465272, 0.9658828234088425, 0.7045183772507437, 0.9068684596915711, 0.8969946964390877, 0.8760238530501971, 0.9027208244391364, 0.9647748707868476, 0.9555959410739349, 0.9485614432538977, 0.8750212656333112, 0.8582206620071212, 0.9062151016712394, 0.9577572240532404, 0.8682241413790739, 0.9177612294675775, 0.8980990485887999, 0.88168322553119, 0.9675883178058747, 0.7045183772507437, 0.9670466824392544, 0.9646735399934411, 0.9600817910333705, 0.9627367648152528, 0.9628235070661519, 0.9701792545306606, 0.9696879636253438]}, {\"categories\": [\"0\", \"1\", \"2\", \"3\", \"4\", \"5\", \"6\", \"7\", \"8\", \"9\", \"10\", \"11\", \"12\", \"13\", \"14\", \"15\", \"16\", \"17\", \"18\", \"19\", \"20\", \"21\", \"22\", \"23\", \"24\", \"25\", \"26\", \"27\", \"28\", \"29\", \"30\", \"31\", \"32\", \"33\", \"34\", \"35\", \"38\", \"39\"], \"mode\": \"lines\", \"name\": \"precision_score_weighted_max\", \"stepped\": true, \"type\": \"scatter\", \"data\": [0.968675144993376, 0.968675144993376, 0.968675144993376, 0.968675144993376, 0.968675144993376, 0.968675144993376, 0.968675144993376, 0.968675144993376, 0.968675144993376, 0.968675144993376, 0.968675144993376, 0.968675144993376, 0.968675144993376, 0.968675144993376, 0.968675144993376, 0.968675144993376, 0.968675144993376, 0.968675144993376, 0.968675144993376, 0.968675144993376, 0.968675144993376, 0.968675144993376, 0.968675144993376, 0.968675144993376, 0.968675144993376, 0.968675144993376, 0.968675144993376, 0.968675144993376, 0.968675144993376, 0.968675144993376, 0.968675144993376, 0.968675144993376, 0.968675144993376, 0.968675144993376, 0.968675144993376, 0.968675144993376, 0.9701792545306606, 0.9701792545306606]}], \"average_precision_score_macro\": [{\"categories\": [\"0\", \"1\", \"2\", \"3\", \"4\", \"5\", \"6\", \"7\", \"8\", \"9\", \"10\", \"11\", \"12\", \"13\", \"14\", \"15\", \"16\", \"17\", \"18\", \"19\", \"20\", \"21\", \"22\", \"23\", \"24\", \"25\", \"26\", \"27\", \"28\", \"29\", \"30\", \"31\", \"32\", \"33\", \"34\", \"35\", \"38\", \"39\"], \"mode\": \"markers\", \"name\": \"average_precision_score_macro\", \"stepped\": false, \"type\": \"scatter\", \"data\": [0.9824558950520178, 0.9744367702996622, 0.8637560778635168, 0.8272462156381541, 0.8705016223237468, 0.8236352037691518, 0.965171173805525, 0.9794820588815588, 0.9789588117506662, 0.9751749324301507, 0.9506266723122662, 0.8913188651613408, 0.9798569968269139, 0.8277149905421645, 0.8826649047099693, 0.895748059504547, 0.839507505778907, 0.8785049532173516, 0.9784659645006984, 0.9642783230937843, 0.9589431792463822, 0.8506752836792719, 0.824608452472754, 0.8834093829128856, 0.9674209821914275, 0.860350910373311, 0.9238174539500322, 0.8861990229642079, 0.837630295874837, 0.9818175740656958, 0.8818729094875163, 0.9803922472089021, 0.9786969835943564, 0.9733273392697493, 0.9762151383733286, 0.9770641914391875, 0.9821917787594776, 0.9825681598194632]}, {\"categories\": [\"0\", \"1\", \"2\", \"3\", \"4\", \"5\", \"6\", \"7\", \"8\", \"9\", \"10\", \"11\", \"12\", \"13\", \"14\", \"15\", \"16\", \"17\", \"18\", \"19\", \"20\", \"21\", \"22\", \"23\", \"24\", \"25\", \"26\", \"27\", \"28\", \"29\", \"30\", \"31\", \"32\", \"33\", \"34\", \"35\", \"38\", \"39\"], \"mode\": \"lines\", \"name\": \"average_precision_score_macro_max\", \"stepped\": true, \"type\": \"scatter\", \"data\": [0.9824558950520178, 0.9824558950520178, 0.9824558950520178, 0.9824558950520178, 0.9824558950520178, 0.9824558950520178, 0.9824558950520178, 0.9824558950520178, 0.9824558950520178, 0.9824558950520178, 0.9824558950520178, 0.9824558950520178, 0.9824558950520178, 0.9824558950520178, 0.9824558950520178, 0.9824558950520178, 0.9824558950520178, 0.9824558950520178, 0.9824558950520178, 0.9824558950520178, 0.9824558950520178, 0.9824558950520178, 0.9824558950520178, 0.9824558950520178, 0.9824558950520178, 0.9824558950520178, 0.9824558950520178, 0.9824558950520178, 0.9824558950520178, 0.9824558950520178, 0.9824558950520178, 0.9824558950520178, 0.9824558950520178, 0.9824558950520178, 0.9824558950520178, 0.9824558950520178, 0.9824558950520178, 0.9825681598194632]}], \"AUC_macro\": [{\"categories\": [\"0\", \"1\", \"2\", \"3\", \"4\", \"5\", \"6\", \"7\", \"8\", \"9\", \"10\", \"11\", \"12\", \"13\", \"14\", \"15\", \"16\", \"17\", \"18\", \"19\", \"20\", \"21\", \"22\", \"23\", \"24\", \"25\", \"26\", \"27\", \"28\", \"29\", \"30\", \"31\", \"32\", \"33\", \"34\", \"35\", \"38\", \"39\"], \"mode\": \"markers\", \"name\": \"AUC_macro\", \"stepped\": false, \"type\": \"scatter\", \"data\": [0.992057578091878, 0.9888548014173875, 0.9194242443620572, 0.8963328200216539, 0.9233696975667897, 0.893139023700518, 0.9825238154189558, 0.9907526729577789, 0.9907405862997501, 0.988722082352789, 0.9736525541002378, 0.9483897382075344, 0.9912224966449887, 0.8986086558030993, 0.9304068769321855, 0.9509897812171021, 0.910321451337563, 0.9344450604863305, 0.9904921610483473, 0.9860873662382387, 0.9825368333494507, 0.9178662356255908, 0.8994317334012593, 0.931813639686338, 0.9870249701819253, 0.9281376282331589, 0.9660138194810047, 0.9437350479432105, 0.9115483364236078, 0.9921727198277693, 0.947652714153687, 0.9911782607608067, 0.9905390946990084, 0.9872233255439311, 0.9893711872265931, 0.9895150472691684, 0.9920909751995861, 0.9922522453246794]}, {\"categories\": [\"0\", \"1\", \"2\", \"3\", \"4\", \"5\", \"6\", \"7\", \"8\", \"9\", \"10\", \"11\", \"12\", \"13\", \"14\", \"15\", \"16\", \"17\", \"18\", \"19\", \"20\", \"21\", \"22\", \"23\", \"24\", \"25\", \"26\", \"27\", \"28\", \"29\", \"30\", \"31\", \"32\", \"33\", \"34\", \"35\", \"38\", \"39\"], \"mode\": \"lines\", \"name\": \"AUC_macro_max\", \"stepped\": true, \"type\": \"scatter\", \"data\": [0.992057578091878, 0.992057578091878, 0.992057578091878, 0.992057578091878, 0.992057578091878, 0.992057578091878, 0.992057578091878, 0.992057578091878, 0.992057578091878, 0.992057578091878, 0.992057578091878, 0.992057578091878, 0.992057578091878, 0.992057578091878, 0.992057578091878, 0.992057578091878, 0.992057578091878, 0.992057578091878, 0.992057578091878, 0.992057578091878, 0.992057578091878, 0.992057578091878, 0.992057578091878, 0.992057578091878, 0.992057578091878, 0.992057578091878, 0.992057578091878, 0.992057578091878, 0.992057578091878, 0.9921727198277693, 0.9921727198277693, 0.9921727198277693, 0.9921727198277693, 0.9921727198277693, 0.9921727198277693, 0.9921727198277693, 0.9921727198277693, 0.9922522453246794]}], \"precision_score_macro\": [{\"categories\": [\"0\", \"1\", \"2\", \"3\", \"4\", \"5\", \"6\", \"7\", \"8\", \"9\", \"10\", \"11\", \"12\", \"13\", \"14\", \"15\", \"16\", \"17\", \"18\", \"19\", \"20\", \"21\", \"22\", \"23\", \"24\", \"25\", \"26\", \"27\", \"28\", \"29\", \"30\", \"31\", \"32\", \"33\", \"34\", \"35\", \"38\", \"39\"], \"mode\": \"markers\", \"name\": \"precision_score_macro\", \"stepped\": false, \"type\": \"scatter\", \"data\": [0.9521154043040085, 0.944764167057652, 0.9007115754378741, 0.8681007952986141, 0.7463556531525675, 0.6745278351332361, 0.933425722830631, 0.9535005185997188, 0.9522701697833892, 0.9480363066634169, 0.9179744534063984, 0.8719514725948759, 0.9524183644019802, 0.41966984085191034, 0.8606859524975546, 0.88619366780255, 0.87467410437994, 0.864939671884946, 0.9515904357124993, 0.934782539144685, 0.9173078341603819, 0.8902762001504337, 0.8817553766219199, 0.8537955098766129, 0.9349062481661194, 0.9006824125586498, 0.8983097736664357, 0.8658549501712511, 0.8174471700680715, 0.9478377020531611, 0.41966984085191034, 0.9533681696005963, 0.9480075802818235, 0.9457509521084809, 0.9495071321886625, 0.9484376392457768, 0.9592912895717122, 0.9532625244566763]}, {\"categories\": [\"0\", \"1\", \"2\", \"3\", \"4\", \"5\", \"6\", \"7\", \"8\", \"9\", \"10\", \"11\", \"12\", \"13\", \"14\", \"15\", \"16\", \"17\", \"18\", \"19\", \"20\", \"21\", \"22\", \"23\", \"24\", \"25\", \"26\", \"27\", \"28\", \"29\", \"30\", \"31\", \"32\", \"33\", \"34\", \"35\", \"38\", \"39\"], \"mode\": \"lines\", \"name\": \"precision_score_macro_max\", \"stepped\": true, \"type\": \"scatter\", \"data\": [0.9521154043040085, 0.9521154043040085, 0.9521154043040085, 0.9521154043040085, 0.9521154043040085, 0.9521154043040085, 0.9521154043040085, 0.9535005185997188, 0.9535005185997188, 0.9535005185997188, 0.9535005185997188, 0.9535005185997188, 0.9535005185997188, 0.9535005185997188, 0.9535005185997188, 0.9535005185997188, 0.9535005185997188, 0.9535005185997188, 0.9535005185997188, 0.9535005185997188, 0.9535005185997188, 0.9535005185997188, 0.9535005185997188, 0.9535005185997188, 0.9535005185997188, 0.9535005185997188, 0.9535005185997188, 0.9535005185997188, 0.9535005185997188, 0.9535005185997188, 0.9535005185997188, 0.9535005185997188, 0.9535005185997188, 0.9535005185997188, 0.9535005185997188, 0.9535005185997188, 0.9592912895717122, 0.9592912895717122]}], \"AUC_weighted\": [{\"categories\": [\"0\", \"1\", \"2\", \"3\", \"4\", \"5\", \"6\", \"7\", \"8\", \"9\", \"10\", \"11\", \"12\", \"13\", \"14\", \"15\", \"16\", \"17\", \"18\", \"19\", \"20\", \"21\", \"22\", \"23\", \"24\", \"25\", \"26\", \"27\", \"28\", \"29\", \"30\", \"31\", \"32\", \"33\", \"34\", \"35\", \"38\", \"39\"], \"mode\": \"markers\", \"name\": \"AUC_weighted\", \"stepped\": false, \"type\": \"scatter\", \"data\": [0.9920575780918782, 0.9888548014173875, 0.919424244362057, 0.8963328200216539, 0.9233696975667897, 0.893139023700518, 0.9825238154189558, 0.9907526729577789, 0.9907405862997501, 0.988722082352789, 0.9736525541002377, 0.9483897382075344, 0.9912224966449887, 0.8986086558030993, 0.9304068769321853, 0.9509897812171021, 0.9103214513375629, 0.9344450604863305, 0.9904921610483473, 0.9860873662382388, 0.9825368333494507, 0.9178662356255908, 0.8994317334012593, 0.931813639686338, 0.9870249701819253, 0.9281376282331589, 0.9660138194810047, 0.9437350479432105, 0.9115483364236076, 0.9921727198277694, 0.947652714153687, 0.9911782607608065, 0.9905390946990082, 0.9872233255439312, 0.9893711872265931, 0.9895150472691684, 0.9920909751995861, 0.9922522453246794]}, {\"categories\": [\"0\", \"1\", \"2\", \"3\", \"4\", \"5\", \"6\", \"7\", \"8\", \"9\", \"10\", \"11\", \"12\", \"13\", \"14\", \"15\", \"16\", \"17\", \"18\", \"19\", \"20\", \"21\", \"22\", \"23\", \"24\", \"25\", \"26\", \"27\", \"28\", \"29\", \"30\", \"31\", \"32\", \"33\", \"34\", \"35\", \"38\", \"39\"], \"mode\": \"lines\", \"name\": \"AUC_weighted_max\", \"stepped\": true, \"type\": \"scatter\", \"data\": [0.9920575780918782, 0.9920575780918782, 0.9920575780918782, 0.9920575780918782, 0.9920575780918782, 0.9920575780918782, 0.9920575780918782, 0.9920575780918782, 0.9920575780918782, 0.9920575780918782, 0.9920575780918782, 0.9920575780918782, 0.9920575780918782, 0.9920575780918782, 0.9920575780918782, 0.9920575780918782, 0.9920575780918782, 0.9920575780918782, 0.9920575780918782, 0.9920575780918782, 0.9920575780918782, 0.9920575780918782, 0.9920575780918782, 0.9920575780918782, 0.9920575780918782, 0.9920575780918782, 0.9920575780918782, 0.9920575780918782, 0.9920575780918782, 0.9921727198277694, 0.9921727198277694, 0.9921727198277694, 0.9921727198277694, 0.9921727198277694, 0.9921727198277694, 0.9921727198277694, 0.9921727198277694, 0.9922522453246794]}], \"f1_score_weighted\": [{\"categories\": [\"0\", \"1\", \"2\", \"3\", \"4\", \"5\", \"6\", \"7\", \"8\", \"9\", \"10\", \"11\", \"12\", \"13\", \"14\", \"15\", \"16\", \"17\", \"18\", \"19\", \"20\", \"21\", \"22\", \"23\", \"24\", \"25\", \"26\", \"27\", \"28\", \"29\", \"30\", \"31\", \"32\", \"33\", \"34\", \"35\", \"38\", \"39\"], \"mode\": \"markers\", \"name\": \"f1_score_weighted\", \"stepped\": false, \"type\": \"scatter\", \"data\": [0.9687295920410595, 0.959335006463559, 0.8244140566503738, 0.7825464789801586, 0.8654610972508157, 0.787249853136366, 0.9542740612996686, 0.9639119242669937, 0.9654932737458966, 0.9616284203231528, 0.943480052066393, 0.889000779780675, 0.9658083071028322, 0.7660348770601465, 0.906950482293122, 0.8849338793563856, 0.8465212427654843, 0.9009140734064971, 0.9646464616299714, 0.9556185697573222, 0.9488329539856711, 0.8324662548159094, 0.7851961002589176, 0.9069642375025161, 0.9578535599704675, 0.7995357024393805, 0.913967831450802, 0.8941914518202508, 0.8824990251502909, 0.9677048205877359, 0.7660348770601465, 0.9669654770367125, 0.9646857740525033, 0.9598536618560255, 0.9625504832202738, 0.9627063207737651, 0.9700761099851659, 0.9697484912341178]}, {\"categories\": [\"0\", \"1\", \"2\", \"3\", \"4\", \"5\", \"6\", \"7\", \"8\", \"9\", \"10\", \"11\", \"12\", \"13\", \"14\", \"15\", \"16\", \"17\", \"18\", \"19\", \"20\", \"21\", \"22\", \"23\", \"24\", \"25\", \"26\", \"27\", \"28\", \"29\", \"30\", \"31\", \"32\", \"33\", \"34\", \"35\", \"38\", \"39\"], \"mode\": \"lines\", \"name\": \"f1_score_weighted_max\", \"stepped\": true, \"type\": \"scatter\", \"data\": [0.9687295920410595, 0.9687295920410595, 0.9687295920410595, 0.9687295920410595, 0.9687295920410595, 0.9687295920410595, 0.9687295920410595, 0.9687295920410595, 0.9687295920410595, 0.9687295920410595, 0.9687295920410595, 0.9687295920410595, 0.9687295920410595, 0.9687295920410595, 0.9687295920410595, 0.9687295920410595, 0.9687295920410595, 0.9687295920410595, 0.9687295920410595, 0.9687295920410595, 0.9687295920410595, 0.9687295920410595, 0.9687295920410595, 0.9687295920410595, 0.9687295920410595, 0.9687295920410595, 0.9687295920410595, 0.9687295920410595, 0.9687295920410595, 0.9687295920410595, 0.9687295920410595, 0.9687295920410595, 0.9687295920410595, 0.9687295920410595, 0.9687295920410595, 0.9687295920410595, 0.9700761099851659, 0.9700761099851659]}], \"recall_score_weighted\": [{\"categories\": [\"0\", \"1\", \"2\", \"3\", \"4\", \"5\", \"6\", \"7\", \"8\", \"9\", \"10\", \"11\", \"12\", \"13\", \"14\", \"15\", \"16\", \"17\", \"18\", \"19\", \"20\", \"21\", \"22\", \"23\", \"24\", \"25\", \"26\", \"27\", \"28\", \"29\", \"30\", \"31\", \"32\", \"33\", \"34\", \"35\", \"38\", \"39\"], \"mode\": \"markers\", \"name\": \"recall_score_weighted\", \"stepped\": false, \"type\": \"scatter\", \"data\": [0.9690924463167749, 0.9603042829559417, 0.8665956058744367, 0.8457581183078814, 0.8528693464396465, 0.7572825171142706, 0.9552678895325025, 0.964747791235153, 0.9661300684570827, 0.9624765666140074, 0.9450975659703937, 0.9007605172312912, 0.9664264232637061, 0.8393396817038207, 0.9117209642501902, 0.8992786261775203, 0.8756783979872448, 0.9079688139956703, 0.9653400327657832, 0.9565521034462584, 0.9496397519162132, 0.8693591363875725, 0.8467449534842899, 0.9109308700485635, 0.9585269732607804, 0.8538543092855889, 0.9203118307881342, 0.9035254227371131, 0.8902932537592886, 0.9680065531566321, 0.8393396817038207, 0.9675125212099935, 0.9652414721198291, 0.960797583523492, 0.963365162951261, 0.9634638991281962, 0.9705737522672752, 0.9700801591480896]}, {\"categories\": [\"0\", \"1\", \"2\", \"3\", \"4\", \"5\", \"6\", \"7\", \"8\", \"9\", \"10\", \"11\", \"12\", \"13\", \"14\", \"15\", \"16\", \"17\", \"18\", \"19\", \"20\", \"21\", \"22\", \"23\", \"24\", \"25\", \"26\", \"27\", \"28\", \"29\", \"30\", \"31\", \"32\", \"33\", \"34\", \"35\", \"38\", \"39\"], \"mode\": \"lines\", \"name\": \"recall_score_weighted_max\", \"stepped\": true, \"type\": \"scatter\", \"data\": [0.9690924463167749, 0.9690924463167749, 0.9690924463167749, 0.9690924463167749, 0.9690924463167749, 0.9690924463167749, 0.9690924463167749, 0.9690924463167749, 0.9690924463167749, 0.9690924463167749, 0.9690924463167749, 0.9690924463167749, 0.9690924463167749, 0.9690924463167749, 0.9690924463167749, 0.9690924463167749, 0.9690924463167749, 0.9690924463167749, 0.9690924463167749, 0.9690924463167749, 0.9690924463167749, 0.9690924463167749, 0.9690924463167749, 0.9690924463167749, 0.9690924463167749, 0.9690924463167749, 0.9690924463167749, 0.9690924463167749, 0.9690924463167749, 0.9690924463167749, 0.9690924463167749, 0.9690924463167749, 0.9690924463167749, 0.9690924463167749, 0.9690924463167749, 0.9690924463167749, 0.9705737522672752, 0.9705737522672752]}], \"recall_score_macro\": [{\"categories\": [\"0\", \"1\", \"2\", \"3\", \"4\", \"5\", \"6\", \"7\", \"8\", \"9\", \"10\", \"11\", \"12\", \"13\", \"14\", \"15\", \"16\", \"17\", \"18\", \"19\", \"20\", \"21\", \"22\", \"23\", \"24\", \"25\", \"26\", \"27\", \"28\", \"29\", \"30\", \"31\", \"32\", \"33\", \"34\", \"35\", \"38\", \"39\"], \"mode\": \"markers\", \"name\": \"recall_score_macro\", \"stepped\": false, \"type\": \"scatter\", \"data\": [0.9314043416327399, 0.9040121099643081, 0.5884622547287967, 0.5222875162830904, 0.8493274240813388, 0.7973550921871283, 0.8964903911397976, 0.9125994338674591, 0.9194740939472789, 0.909316093371718, 0.871431541356106, 0.7285481199749541, 0.9203100733205359, 0.5, 0.7900042108738807, 0.7134479943412143, 0.6301252150005223, 0.7671004754051828, 0.9170616369757799, 0.8994689592054108, 0.8911598648881727, 0.6007749318557166, 0.5272828974822915, 0.7957047249128305, 0.9076410034686413, 0.5488167961365592, 0.7886123079152262, 0.746048887774973, 0.7383333384026907, 0.9316131415095003, 0.5, 0.9237950067717106, 0.920382183592508, 0.9052741871688789, 0.9113835114617649, 0.9129017291721397, 0.9294885716931077, 0.9339193357033633]}, {\"categories\": [\"0\", \"1\", \"2\", \"3\", \"4\", \"5\", \"6\", \"7\", \"8\", \"9\", \"10\", \"11\", \"12\", \"13\", \"14\", \"15\", \"16\", \"17\", \"18\", \"19\", \"20\", \"21\", \"22\", \"23\", \"24\", \"25\", \"26\", \"27\", \"28\", \"29\", \"30\", \"31\", \"32\", \"33\", \"34\", \"35\", \"38\", \"39\"], \"mode\": \"lines\", \"name\": \"recall_score_macro_max\", \"stepped\": true, \"type\": \"scatter\", \"data\": [0.9314043416327399, 0.9314043416327399, 0.9314043416327399, 0.9314043416327399, 0.9314043416327399, 0.9314043416327399, 0.9314043416327399, 0.9314043416327399, 0.9314043416327399, 0.9314043416327399, 0.9314043416327399, 0.9314043416327399, 0.9314043416327399, 0.9314043416327399, 0.9314043416327399, 0.9314043416327399, 0.9314043416327399, 0.9314043416327399, 0.9314043416327399, 0.9314043416327399, 0.9314043416327399, 0.9314043416327399, 0.9314043416327399, 0.9314043416327399, 0.9314043416327399, 0.9314043416327399, 0.9314043416327399, 0.9314043416327399, 0.9314043416327399, 0.9316131415095003, 0.9316131415095003, 0.9316131415095003, 0.9316131415095003, 0.9316131415095003, 0.9316131415095003, 0.9316131415095003, 0.9316131415095003, 0.9339193357033633]}], \"f1_score_micro\": [{\"categories\": [\"0\", \"1\", \"2\", \"3\", \"4\", \"5\", \"6\", \"7\", \"8\", \"9\", \"10\", \"11\", \"12\", \"13\", \"14\", \"15\", \"16\", \"17\", \"18\", \"19\", \"20\", \"21\", \"22\", \"23\", \"24\", \"25\", \"26\", \"27\", \"28\", \"29\", \"30\", \"31\", \"32\", \"33\", \"34\", \"35\", \"38\", \"39\"], \"mode\": \"markers\", \"name\": \"f1_score_micro\", \"stepped\": false, \"type\": \"scatter\", \"data\": [0.9690924463167749, 0.9603042829559417, 0.8665956058744367, 0.8457581183078813, 0.8528693464396465, 0.7572825171142706, 0.9552678895325025, 0.964747791235153, 0.9661300684570827, 0.9624765666140074, 0.9450975659703937, 0.9007605172312912, 0.9664264232637061, 0.8393396817038208, 0.9117209642501902, 0.8992786261775203, 0.8756783979872448, 0.9079688139956702, 0.9653400327657832, 0.9565521034462584, 0.9496397519162132, 0.8693591363875725, 0.84674495348429, 0.9109308700485635, 0.9585269732607804, 0.8538543092855889, 0.9203118307881342, 0.9035254227371131, 0.8902932537592886, 0.9680065531566321, 0.8393396817038208, 0.9675125212099935, 0.9652414721198291, 0.960797583523492, 0.963365162951261, 0.9634638991281962, 0.9705737522672752, 0.9700801591480896]}, {\"categories\": [\"0\", \"1\", \"2\", \"3\", \"4\", \"5\", \"6\", \"7\", \"8\", \"9\", \"10\", \"11\", \"12\", \"13\", \"14\", \"15\", \"16\", \"17\", \"18\", \"19\", \"20\", \"21\", \"22\", \"23\", \"24\", \"25\", \"26\", \"27\", \"28\", \"29\", \"30\", \"31\", \"32\", \"33\", \"34\", \"35\", \"38\", \"39\"], \"mode\": \"lines\", \"name\": \"f1_score_micro_max\", \"stepped\": true, \"type\": \"scatter\", \"data\": [0.9690924463167749, 0.9690924463167749, 0.9690924463167749, 0.9690924463167749, 0.9690924463167749, 0.9690924463167749, 0.9690924463167749, 0.9690924463167749, 0.9690924463167749, 0.9690924463167749, 0.9690924463167749, 0.9690924463167749, 0.9690924463167749, 0.9690924463167749, 0.9690924463167749, 0.9690924463167749, 0.9690924463167749, 0.9690924463167749, 0.9690924463167749, 0.9690924463167749, 0.9690924463167749, 0.9690924463167749, 0.9690924463167749, 0.9690924463167749, 0.9690924463167749, 0.9690924463167749, 0.9690924463167749, 0.9690924463167749, 0.9690924463167749, 0.9690924463167749, 0.9690924463167749, 0.9690924463167749, 0.9690924463167749, 0.9690924463167749, 0.9690924463167749, 0.9690924463167749, 0.9705737522672752, 0.9705737522672752]}], \"average_precision_score_micro\": [{\"categories\": [\"0\", \"1\", \"2\", \"3\", \"4\", \"5\", \"6\", \"7\", \"8\", \"9\", \"10\", \"11\", \"12\", \"13\", \"14\", \"15\", \"16\", \"17\", \"18\", \"19\", \"20\", \"21\", \"22\", \"23\", \"24\", \"25\", \"26\", \"27\", \"28\", \"29\", \"30\", \"31\", \"32\", \"33\", \"34\", \"35\", \"38\", \"39\"], \"mode\": \"markers\", \"name\": \"average_precision_score_micro\", \"stepped\": false, \"type\": \"scatter\", \"data\": [0.9959695159351701, 0.9940395247952728, 0.9556550423741109, 0.9465645526923209, 0.9303122371529291, 0.8805559330984613, 0.9913929490917749, 0.9950718081291913, 0.9951254935036243, 0.9941030827629684, 0.9869312507237037, 0.9706076981661204, 0.9953687012389686, 0.9481200750210034, 0.9688811954039754, 0.970346824384673, 0.9543546808894585, 0.9691774382408807, 0.9950264685996523, 0.9924647480680194, 0.99111836213839, 0.9554551524338116, 0.9484029759017513, 0.9694438336905292, 0.993146356303987, 0.9573050006246281, 0.9811091785750584, 0.9704773769895084, 0.9575727697230229, 0.9959395159677508, 0.9625599852855649, 0.9954690906862212, 0.99510999961475, 0.9934511679883941, 0.9944078135018241, 0.9945540064743833, 0.995774079610972, 0.9953933216654636]}, {\"categories\": [\"0\", \"1\", \"2\", \"3\", \"4\", \"5\", \"6\", \"7\", \"8\", \"9\", \"10\", \"11\", \"12\", \"13\", \"14\", \"15\", \"16\", \"17\", \"18\", \"19\", \"20\", \"21\", \"22\", \"23\", \"24\", \"25\", \"26\", \"27\", \"28\", \"29\", \"30\", \"31\", \"32\", \"33\", \"34\", \"35\", \"38\", \"39\"], \"mode\": \"lines\", \"name\": \"average_precision_score_micro_max\", \"stepped\": true, \"type\": \"scatter\", \"data\": [0.9959695159351701, 0.9959695159351701, 0.9959695159351701, 0.9959695159351701, 0.9959695159351701, 0.9959695159351701, 0.9959695159351701, 0.9959695159351701, 0.9959695159351701, 0.9959695159351701, 0.9959695159351701, 0.9959695159351701, 0.9959695159351701, 0.9959695159351701, 0.9959695159351701, 0.9959695159351701, 0.9959695159351701, 0.9959695159351701, 0.9959695159351701, 0.9959695159351701, 0.9959695159351701, 0.9959695159351701, 0.9959695159351701, 0.9959695159351701, 0.9959695159351701, 0.9959695159351701, 0.9959695159351701, 0.9959695159351701, 0.9959695159351701, 0.9959695159351701, 0.9959695159351701, 0.9959695159351701, 0.9959695159351701, 0.9959695159351701, 0.9959695159351701, 0.9959695159351701, 0.9959695159351701, 0.9959695159351701]}]}, \"metricName\": null, \"primaryMetricName\": \"accuracy\", \"showLegend\": false}, \"run_metrics\": [{\"name\": \"experiment_status\", \"run_id\": \"AutoML_2aa9bad3-2ac6-4205-ac66-21667fe9859c\", \"categories\": [0, 1, 2, 3, 4, 5, 6, 7, 8, 9, 10, 11, 12, 13, 14], \"series\": [{\"data\": [\"DatasetEvaluation\", \"FeaturesGeneration\", \"DatasetFeaturization\", \"DatasetFeaturizationCompleted\", \"DatasetBalancing\", \"DatasetCrossValidationSplit\", \"ModelSelection\", \"BestRunExplainModel\", \"ModelExplanationDataSetSetup\", \"PickSurrogateModel\", \"EngineeredFeatureExplanations\", \"EngineeredFeatureExplanations\", \"RawFeaturesExplanations\", \"RawFeaturesExplanations\", \"BestRunExplainModel\"]}]}, {\"name\": \"experiment_status_description\", \"run_id\": \"AutoML_2aa9bad3-2ac6-4205-ac66-21667fe9859c\", \"categories\": [0, 1, 2, 3, 4, 5, 6, 7, 8, 9, 10, 11, 12, 13, 14], \"series\": [{\"data\": [\"Gathering dataset statistics.\", \"Generating features for the dataset.\", \"Beginning to fit featurizers and featurize the dataset.\", \"Completed fit featurizers and featurizing the dataset.\", \"Performing class balancing sweeping\", \"Generating individually featurized CV splits.\", \"Beginning model selection.\", \"Best run model explanations started\", \"Model explanations data setup completed\", \"Choosing LightGBM as the surrogate model for explanations\", \"Computation of engineered features started\", \"Computation of engineered features completed\", \"Computation of raw features started\", \"Computation of raw features completed\", \"Best run model explanations completed\"]}]}, {\"name\": \"recall_score_micro\", \"run_id\": \"AutoML_2aa9bad3-2ac6-4205-ac66-21667fe9859c\", \"categories\": [0], \"series\": [{\"data\": [0.9705737522672752]}]}, {\"name\": \"log_loss\", \"run_id\": \"AutoML_2aa9bad3-2ac6-4205-ac66-21667fe9859c\", \"categories\": [0], \"series\": [{\"data\": [0.08907795030365778]}]}, {\"name\": \"average_precision_score_macro\", \"run_id\": \"AutoML_2aa9bad3-2ac6-4205-ac66-21667fe9859c\", \"categories\": [0], \"series\": [{\"data\": [0.9821917787594776]}]}, {\"name\": \"precision_score_micro\", \"run_id\": \"AutoML_2aa9bad3-2ac6-4205-ac66-21667fe9859c\", \"categories\": [0], \"series\": [{\"data\": [0.9705737522672752]}]}, {\"name\": \"f1_score_macro\", \"run_id\": \"AutoML_2aa9bad3-2ac6-4205-ac66-21667fe9859c\", \"categories\": [0], \"series\": [{\"data\": [0.9435732973859707]}]}, {\"name\": \"recall_score_weighted\", \"run_id\": \"AutoML_2aa9bad3-2ac6-4205-ac66-21667fe9859c\", \"categories\": [0], \"series\": [{\"data\": [0.9705737522672752]}]}, {\"name\": \"matthews_correlation\", \"run_id\": \"AutoML_2aa9bad3-2ac6-4205-ac66-21667fe9859c\", \"categories\": [0], \"series\": [{\"data\": [0.8882615485510988]}]}, {\"name\": \"average_precision_score_weighted\", \"run_id\": \"AutoML_2aa9bad3-2ac6-4205-ac66-21667fe9859c\", \"categories\": [0], \"series\": [{\"data\": [0.9932121551443412]}]}, {\"name\": \"accuracy\", \"run_id\": \"AutoML_2aa9bad3-2ac6-4205-ac66-21667fe9859c\", \"categories\": [0], \"series\": [{\"data\": [0.9705737522672752]}]}, {\"name\": \"weighted_accuracy\", \"run_id\": \"AutoML_2aa9bad3-2ac6-4205-ac66-21667fe9859c\", \"categories\": [0], \"series\": [{\"data\": [0.9857242938799425]}]}, {\"name\": \"balanced_accuracy\", \"run_id\": \"AutoML_2aa9bad3-2ac6-4205-ac66-21667fe9859c\", \"categories\": [0], \"series\": [{\"data\": [0.9294885716931077]}]}, {\"name\": \"norm_macro_recall\", \"run_id\": \"AutoML_2aa9bad3-2ac6-4205-ac66-21667fe9859c\", \"categories\": [0], \"series\": [{\"data\": [0.8589771433862153]}]}, {\"name\": \"AUC_weighted\", \"run_id\": \"AutoML_2aa9bad3-2ac6-4205-ac66-21667fe9859c\", \"categories\": [0], \"series\": [{\"data\": [0.9920909751995861]}]}, {\"name\": \"recall_score_macro\", \"run_id\": \"AutoML_2aa9bad3-2ac6-4205-ac66-21667fe9859c\", \"categories\": [0], \"series\": [{\"data\": [0.9294885716931077]}]}, {\"name\": \"precision_score_weighted\", \"run_id\": \"AutoML_2aa9bad3-2ac6-4205-ac66-21667fe9859c\", \"categories\": [0], \"series\": [{\"data\": [0.9701792545306606]}]}, {\"name\": \"AUC_micro\", \"run_id\": \"AutoML_2aa9bad3-2ac6-4205-ac66-21667fe9859c\", \"categories\": [0], \"series\": [{\"data\": [0.9956802551560493]}]}, {\"name\": \"average_precision_score_micro\", \"run_id\": \"AutoML_2aa9bad3-2ac6-4205-ac66-21667fe9859c\", \"categories\": [0], \"series\": [{\"data\": [0.995774079610972]}]}, {\"name\": \"f1_score_micro\", \"run_id\": \"AutoML_2aa9bad3-2ac6-4205-ac66-21667fe9859c\", \"categories\": [0], \"series\": [{\"data\": [0.9705737522672752]}]}, {\"name\": \"f1_score_weighted\", \"run_id\": \"AutoML_2aa9bad3-2ac6-4205-ac66-21667fe9859c\", \"categories\": [0], \"series\": [{\"data\": [0.9700761099851659]}]}, {\"name\": \"precision_score_macro\", \"run_id\": \"AutoML_2aa9bad3-2ac6-4205-ac66-21667fe9859c\", \"categories\": [0], \"series\": [{\"data\": [0.9592912895717122]}]}, {\"name\": \"AUC_macro\", \"run_id\": \"AutoML_2aa9bad3-2ac6-4205-ac66-21667fe9859c\", \"categories\": [0], \"series\": [{\"data\": [0.9920909751995861]}]}], \"run_logs\": \"\\nRun is completed.\", \"graph\": {}, \"widget_settings\": {\"childWidgetDisplay\": \"popup\", \"send_telemetry\": false, \"log_level\": \"INFO\", \"sdk_version\": \"1.20.0\"}, \"loading\": false}"
          },
          "metadata": {}
        },
        {
          "output_type": "stream",
          "name": "stdout",
          "text": [
            "\n",
            "\n",
            "****************************************************************************************************\n",
            "DATA GUARDRAILS: \n",
            "\n",
            "TYPE:         Class balancing detection\n",
            "STATUS:       ALERTED\n",
            "DESCRIPTION:  To decrease model bias, please cancel the current run and fix balancing problem.\n",
            "              Learn more about imbalanced data: https://aka.ms/AutomatedMLImbalancedData\n",
            "DETAILS:      Imbalanced data can lead to a falsely perceived positive effect of a model's accuracy because the input data has bias towards one class.\n",
            "+---------------------------------+---------------------------------+--------------------------------------+\n",
            "|Size of the smallest class       |Name/Label of the smallest class |Number of samples in the training data|\n",
            "+=================================+=================================+======================================+\n",
            "|1627                             |Attrited Customer                |10127                                 |\n",
            "+---------------------------------+---------------------------------+--------------------------------------+\n",
            "\n",
            "****************************************************************************************************\n",
            "\n",
            "TYPE:         Missing feature values imputation\n",
            "STATUS:       PASSED\n",
            "DESCRIPTION:  No feature missing values were detected in the training data.\n",
            "              Learn more about missing value imputation: https://aka.ms/AutomatedMLFeaturization\n",
            "\n",
            "****************************************************************************************************\n",
            "\n",
            "TYPE:         High cardinality feature detection\n",
            "STATUS:       PASSED\n",
            "DESCRIPTION:  Your inputs were analyzed, and no high cardinality features were detected.\n",
            "              Learn more about high cardinality feature handling: https://aka.ms/AutomatedMLFeaturization\n",
            "\n",
            "****************************************************************************************************\n",
            "\n",
            "****************************************************************************************************\n",
            "ITERATION: The iteration being evaluated.\n",
            "PIPELINE: A summary description of the pipeline being evaluated.\n",
            "DURATION: Time taken for the current iteration.\n",
            "METRIC: The result of computing score on the fitted pipeline.\n",
            "BEST: The best observed score thus far.\n",
            "****************************************************************************************************\n",
            "\n",
            " ITERATION   PIPELINE                                       DURATION      METRIC      BEST\n",
            "         0   MaxAbsScaler LightGBM                          0:00:51       0.9691    0.9691\n",
            "         1   MaxAbsScaler XGBoostClassifier                 0:00:54       0.9603    0.9691\n",
            "         2   MaxAbsScaler RandomForest                      0:00:43       0.8666    0.9691\n",
            "         3   MaxAbsScaler RandomForest                      0:00:44       0.8458    0.9691\n",
            "         4   MaxAbsScaler RandomForest                      0:00:49       0.8529    0.9691\n",
            "         5   MaxAbsScaler RandomForest                      0:00:47       0.7573    0.9691\n",
            "         6   SparseNormalizer XGBoostClassifier             0:00:51       0.9553    0.9691\n",
            "         7   SparseNormalizer XGBoostClassifier             0:00:52       0.9647    0.9691\n",
            "         8   SparseNormalizer XGBoostClassifier             0:00:57       0.9661    0.9691\n",
            "         9   SparseNormalizer XGBoostClassifier             0:00:51       0.9625    0.9691\n",
            "        10   SparseNormalizer XGBoostClassifier             0:00:50       0.9451    0.9691\n",
            "        11   StandardScalerWrapper RandomForest             0:00:48       0.9008    0.9691\n",
            "        12   SparseNormalizer XGBoostClassifier             0:01:34       0.9664    0.9691\n",
            "        13   MaxAbsScaler ExtremeRandomTrees                0:01:26       0.8393    0.9691\n",
            "        14   MaxAbsScaler LogisticRegression                0:00:48       0.9117    0.9691\n",
            "        15   MaxAbsScaler LightGBM                          0:01:05       0.8993    0.9691\n",
            "        16   MaxAbsScaler ExtremeRandomTrees                0:01:11       0.8757    0.9691\n",
            "        17   SparseNormalizer LightGBM                      0:00:44       0.9080    0.9691\n",
            "        18   SparseNormalizer XGBoostClassifier             0:01:02       0.9653    0.9691\n",
            "        19   MaxAbsScaler LightGBM                          0:00:47       0.9566    0.9691\n",
            "        20   MaxAbsScaler LightGBM                          0:00:50       0.9496    0.9691\n",
            "        21   MaxAbsScaler ExtremeRandomTrees                0:01:08       0.8694    0.9691\n",
            "        22   StandardScalerWrapper ExtremeRandomTrees       0:01:01       0.8467    0.9691\n",
            "        23   MaxAbsScaler LogisticRegression                0:00:46       0.9109    0.9691\n",
            "        24   MaxAbsScaler LightGBM                          0:01:18       0.9585    0.9691\n",
            "        25   SparseNormalizer LightGBM                      0:01:11       0.8539    0.9691\n",
            "        26   SparseNormalizer LightGBM                      0:01:25       0.9203    0.9691\n",
            "        27   SparseNormalizer XGBoostClassifier             0:01:16       0.9035    0.9691\n",
            "        28   StandardScalerWrapper RandomForest             0:01:19       0.8903    0.9691\n",
            "        29   StandardScalerWrapper XGBoostClassifier        0:01:17       0.9680    0.9691\n",
            "        30   MaxAbsScaler LightGBM                          0:00:58       0.8393    0.9691\n",
            "        31   SparseNormalizer XGBoostClassifier             0:01:31       0.9675    0.9691\n",
            "        32   SparseNormalizer XGBoostClassifier             0:01:08       0.9652    0.9691\n",
            "        33   SparseNormalizer XGBoostClassifier             0:01:07       0.9608    0.9691\n",
            "        34   SparseNormalizer XGBoostClassifier             0:00:59       0.9634    0.9691\n",
            "        35   SparseNormalizer LightGBM                      0:00:50       0.9635    0.9691\n",
            "        36                                                  0:00:10          nan    0.9691\n",
            "        37                                                  0:00:19          nan    0.9691\n",
            "        38    VotingEnsemble                                0:01:26       0.9706    0.9706\n",
            "        39    StackEnsemble                                 0:01:29       0.9701    0.9706\n"
          ]
        },
        {
          "output_type": "execute_result",
          "execution_count": 8,
          "data": {
            "text/plain": "{'runId': 'AutoML_2aa9bad3-2ac6-4205-ac66-21667fe9859c',\n 'target': 'demo-cluster',\n 'status': 'Completed',\n 'startTimeUtc': '2021-01-28T14:05:11.37954Z',\n 'endTimeUtc': '2021-01-28T14:22:18.644024Z',\n 'properties': {'num_iterations': '1000',\n  'training_type': 'TrainFull',\n  'acquisition_function': 'EI',\n  'primary_metric': 'accuracy',\n  'train_split': '0',\n  'acquisition_parameter': '0',\n  'num_cross_validation': '3',\n  'target': 'demo-cluster',\n  'AMLSettingsJsonString': '{\"path\":null,\"name\":\"demo-automl-experiment\",\"subscription_id\":\"f5091c60-1c3c-430f-8d81-d802f6bf2414\",\"resource_group\":\"aml-quickstarts-136389\",\"workspace_name\":\"quick-starts-ws-136389\",\"region\":\"southcentralus\",\"compute_target\":\"demo-cluster\",\"spark_service\":null,\"azure_service\":\"remote\",\"many_models\":false,\"pipeline_fetch_max_batch_size\":1,\"iterations\":1000,\"primary_metric\":\"accuracy\",\"task_type\":\"classification\",\"data_script\":null,\"validation_size\":0.0,\"n_cross_validations\":3,\"y_min\":null,\"y_max\":null,\"num_classes\":null,\"featurization\":\"auto\",\"_ignore_package_version_incompatibilities\":false,\"is_timeseries\":false,\"max_cores_per_iteration\":1,\"max_concurrent_iterations\":5,\"iteration_timeout_minutes\":null,\"mem_in_mb\":null,\"enforce_time_on_windows\":false,\"experiment_timeout_minutes\":30,\"experiment_exit_score\":null,\"whitelist_models\":null,\"blacklist_algos\":[\"TensorFlowLinearClassifier\",\"TensorFlowDNN\"],\"supported_models\":[\"ExtremeRandomTrees\",\"LightGBM\",\"BernoulliNaiveBayes\",\"DecisionTree\",\"LogisticRegression\",\"GradientBoosting\",\"LinearSVM\",\"RandomForest\",\"KNN\",\"XGBoostClassifier\",\"SVM\",\"AveragedPerceptronClassifier\",\"MultinomialNaiveBayes\",\"TensorFlowLinearClassifier\",\"SGD\",\"TensorFlowDNN\"],\"auto_blacklist\":true,\"blacklist_samples_reached\":false,\"exclude_nan_labels\":true,\"verbosity\":20,\"_debug_log\":\"azureml_automl.log\",\"show_warnings\":false,\"model_explainability\":true,\"service_url\":null,\"sdk_url\":null,\"sdk_packages\":null,\"enable_onnx_compatible_models\":false,\"enable_split_onnx_featurizer_estimator_models\":false,\"vm_type\":\"STANDARD_DS3_V2\",\"telemetry_verbosity\":20,\"send_telemetry\":true,\"enable_dnn\":false,\"scenario\":\"SDK-1.13.0\",\"environment_label\":null,\"force_text_dnn\":false,\"enable_feature_sweeping\":true,\"enable_early_stopping\":true,\"early_stopping_n_iters\":10,\"metrics\":null,\"enable_ensembling\":true,\"enable_stack_ensembling\":true,\"ensemble_iterations\":15,\"enable_tf\":false,\"enable_subsampling\":null,\"subsample_seed\":null,\"enable_nimbusml\":false,\"enable_streaming\":false,\"force_streaming\":false,\"track_child_runs\":true,\"allowed_private_models\":[],\"label_column_name\":\"Attrition_Flag\",\"weight_column_name\":null,\"cv_split_column_names\":null,\"enable_local_managed\":false,\"_local_managed_run_id\":null,\"cost_mode\":1,\"lag_length\":0,\"metric_operation\":\"maximize\",\"preprocess\":true}',\n  'DataPrepJsonString': '{\\\\\"training_data\\\\\": \\\\\"{\\\\\\\\\\\\\"blocks\\\\\\\\\\\\\": [{\\\\\\\\\\\\\"id\\\\\\\\\\\\\": \\\\\\\\\\\\\"1bf394b6-b9ea-47a2-aa2e-8fdab98a210c\\\\\\\\\\\\\", \\\\\\\\\\\\\"type\\\\\\\\\\\\\": \\\\\\\\\\\\\"Microsoft.DPrep.GetDatastoreFilesBlock\\\\\\\\\\\\\", \\\\\\\\\\\\\"arguments\\\\\\\\\\\\\": {\\\\\\\\\\\\\"datastores\\\\\\\\\\\\\": [{\\\\\\\\\\\\\"datastoreName\\\\\\\\\\\\\": \\\\\\\\\\\\\"workspaceblobstore\\\\\\\\\\\\\", \\\\\\\\\\\\\"path\\\\\\\\\\\\\": \\\\\\\\\\\\\"UI/01-28-2021_020402_UTC/BankChurners.csv\\\\\\\\\\\\\", \\\\\\\\\\\\\"resourceGroup\\\\\\\\\\\\\": \\\\\\\\\\\\\"aml-quickstarts-136389\\\\\\\\\\\\\", \\\\\\\\\\\\\"subscription\\\\\\\\\\\\\": \\\\\\\\\\\\\"f5091c60-1c3c-430f-8d81-d802f6bf2414\\\\\\\\\\\\\", \\\\\\\\\\\\\"workspaceName\\\\\\\\\\\\\": \\\\\\\\\\\\\"quick-starts-ws-136389\\\\\\\\\\\\\"}]}, \\\\\\\\\\\\\"localData\\\\\\\\\\\\\": {}, \\\\\\\\\\\\\"isEnabled\\\\\\\\\\\\\": true, \\\\\\\\\\\\\"name\\\\\\\\\\\\\": null, \\\\\\\\\\\\\"annotation\\\\\\\\\\\\\": null}, {\\\\\\\\\\\\\"id\\\\\\\\\\\\\": \\\\\\\\\\\\\"5591ac6a-1dd4-40b3-9a25-9d155c9d91e0\\\\\\\\\\\\\", \\\\\\\\\\\\\"type\\\\\\\\\\\\\": \\\\\\\\\\\\\"Microsoft.DPrep.ParseDelimitedBlock\\\\\\\\\\\\\", \\\\\\\\\\\\\"arguments\\\\\\\\\\\\\": {\\\\\\\\\\\\\"columnHeadersMode\\\\\\\\\\\\\": 1, \\\\\\\\\\\\\"fileEncoding\\\\\\\\\\\\\": 0, \\\\\\\\\\\\\"handleQuotedLineBreaks\\\\\\\\\\\\\": false, \\\\\\\\\\\\\"preview\\\\\\\\\\\\\": false, \\\\\\\\\\\\\"separator\\\\\\\\\\\\\": \\\\\\\\\\\\\",\\\\\\\\\\\\\", \\\\\\\\\\\\\"skipRows\\\\\\\\\\\\\": 0, \\\\\\\\\\\\\"skipRowsMode\\\\\\\\\\\\\": 0}, \\\\\\\\\\\\\"localData\\\\\\\\\\\\\": {}, \\\\\\\\\\\\\"isEnabled\\\\\\\\\\\\\": true, \\\\\\\\\\\\\"name\\\\\\\\\\\\\": null, \\\\\\\\\\\\\"annotation\\\\\\\\\\\\\": null}, {\\\\\\\\\\\\\"id\\\\\\\\\\\\\": \\\\\\\\\\\\\"1fc7ff86-c960-46e1-8407-54d9d408d3f5\\\\\\\\\\\\\", \\\\\\\\\\\\\"type\\\\\\\\\\\\\": \\\\\\\\\\\\\"Microsoft.DPrep.DropColumnsBlock\\\\\\\\\\\\\", \\\\\\\\\\\\\"arguments\\\\\\\\\\\\\": {\\\\\\\\\\\\\"columns\\\\\\\\\\\\\": {\\\\\\\\\\\\\"type\\\\\\\\\\\\\": 0, \\\\\\\\\\\\\"details\\\\\\\\\\\\\": {\\\\\\\\\\\\\"selectedColumns\\\\\\\\\\\\\": [\\\\\\\\\\\\\"Path\\\\\\\\\\\\\"]}}}, \\\\\\\\\\\\\"localData\\\\\\\\\\\\\": {}, \\\\\\\\\\\\\"isEnabled\\\\\\\\\\\\\": true, \\\\\\\\\\\\\"name\\\\\\\\\\\\\": null, \\\\\\\\\\\\\"annotation\\\\\\\\\\\\\": null}, {\\\\\\\\\\\\\"id\\\\\\\\\\\\\": \\\\\\\\\\\\\"a38f1b8c-e3e9-4073-909f-bd1e5b0b17cd\\\\\\\\\\\\\", \\\\\\\\\\\\\"type\\\\\\\\\\\\\": \\\\\\\\\\\\\"Microsoft.DPrep.SetColumnTypesBlock\\\\\\\\\\\\\", \\\\\\\\\\\\\"arguments\\\\\\\\\\\\\": {\\\\\\\\\\\\\"columnConversion\\\\\\\\\\\\\": [{\\\\\\\\\\\\\"column\\\\\\\\\\\\\": {\\\\\\\\\\\\\"type\\\\\\\\\\\\\": 2, \\\\\\\\\\\\\"details\\\\\\\\\\\\\": {\\\\\\\\\\\\\"selectedColumn\\\\\\\\\\\\\": \\\\\\\\\\\\\"Path\\\\\\\\\\\\\"}}, \\\\\\\\\\\\\"typeProperty\\\\\\\\\\\\\": 0}, {\\\\\\\\\\\\\"column\\\\\\\\\\\\\": {\\\\\\\\\\\\\"type\\\\\\\\\\\\\": 2, \\\\\\\\\\\\\"details\\\\\\\\\\\\\": {\\\\\\\\\\\\\"selectedColumn\\\\\\\\\\\\\": \\\\\\\\\\\\\"CLIENTNUM\\\\\\\\\\\\\"}}, \\\\\\\\\\\\\"typeProperty\\\\\\\\\\\\\": 2}, {\\\\\\\\\\\\\"column\\\\\\\\\\\\\": {\\\\\\\\\\\\\"type\\\\\\\\\\\\\": 2, \\\\\\\\\\\\\"details\\\\\\\\\\\\\": {\\\\\\\\\\\\\"selectedColumn\\\\\\\\\\\\\": \\\\\\\\\\\\\"Attrition_Flag\\\\\\\\\\\\\"}}, \\\\\\\\\\\\\"typeProperty\\\\\\\\\\\\\": 0}, {\\\\\\\\\\\\\"column\\\\\\\\\\\\\": {\\\\\\\\\\\\\"type\\\\\\\\\\\\\": 2, \\\\\\\\\\\\\"details\\\\\\\\\\\\\": {\\\\\\\\\\\\\"selectedColumn\\\\\\\\\\\\\": \\\\\\\\\\\\\"Customer_Age\\\\\\\\\\\\\"}}, \\\\\\\\\\\\\"typeProperty\\\\\\\\\\\\\": 2}, {\\\\\\\\\\\\\"column\\\\\\\\\\\\\": {\\\\\\\\\\\\\"type\\\\\\\\\\\\\": 2, \\\\\\\\\\\\\"details\\\\\\\\\\\\\": {\\\\\\\\\\\\\"selectedColumn\\\\\\\\\\\\\": \\\\\\\\\\\\\"Gender\\\\\\\\\\\\\"}}, \\\\\\\\\\\\\"typeProperty\\\\\\\\\\\\\": 0}, {\\\\\\\\\\\\\"column\\\\\\\\\\\\\": {\\\\\\\\\\\\\"type\\\\\\\\\\\\\": 2, \\\\\\\\\\\\\"details\\\\\\\\\\\\\": {\\\\\\\\\\\\\"selectedColumn\\\\\\\\\\\\\": \\\\\\\\\\\\\"Dependent_count\\\\\\\\\\\\\"}}, \\\\\\\\\\\\\"typeProperty\\\\\\\\\\\\\": 2}, {\\\\\\\\\\\\\"column\\\\\\\\\\\\\": {\\\\\\\\\\\\\"type\\\\\\\\\\\\\": 2, \\\\\\\\\\\\\"details\\\\\\\\\\\\\": {\\\\\\\\\\\\\"selectedColumn\\\\\\\\\\\\\": \\\\\\\\\\\\\"Education_Level\\\\\\\\\\\\\"}}, \\\\\\\\\\\\\"typeProperty\\\\\\\\\\\\\": 0}, {\\\\\\\\\\\\\"column\\\\\\\\\\\\\": {\\\\\\\\\\\\\"type\\\\\\\\\\\\\": 2, \\\\\\\\\\\\\"details\\\\\\\\\\\\\": {\\\\\\\\\\\\\"selectedColumn\\\\\\\\\\\\\": \\\\\\\\\\\\\"Marital_Status\\\\\\\\\\\\\"}}, \\\\\\\\\\\\\"typeProperty\\\\\\\\\\\\\": 0}, {\\\\\\\\\\\\\"column\\\\\\\\\\\\\": {\\\\\\\\\\\\\"type\\\\\\\\\\\\\": 2, \\\\\\\\\\\\\"details\\\\\\\\\\\\\": {\\\\\\\\\\\\\"selectedColumn\\\\\\\\\\\\\": \\\\\\\\\\\\\"Income_Category\\\\\\\\\\\\\"}}, \\\\\\\\\\\\\"typeProperty\\\\\\\\\\\\\": 0}, {\\\\\\\\\\\\\"column\\\\\\\\\\\\\": {\\\\\\\\\\\\\"type\\\\\\\\\\\\\": 2, \\\\\\\\\\\\\"details\\\\\\\\\\\\\": {\\\\\\\\\\\\\"selectedColumn\\\\\\\\\\\\\": \\\\\\\\\\\\\"Card_Category\\\\\\\\\\\\\"}}, \\\\\\\\\\\\\"typeProperty\\\\\\\\\\\\\": 0}, {\\\\\\\\\\\\\"column\\\\\\\\\\\\\": {\\\\\\\\\\\\\"type\\\\\\\\\\\\\": 2, \\\\\\\\\\\\\"details\\\\\\\\\\\\\": {\\\\\\\\\\\\\"selectedColumn\\\\\\\\\\\\\": \\\\\\\\\\\\\"Months_on_book\\\\\\\\\\\\\"}}, \\\\\\\\\\\\\"typeProperty\\\\\\\\\\\\\": 2}, {\\\\\\\\\\\\\"column\\\\\\\\\\\\\": {\\\\\\\\\\\\\"type\\\\\\\\\\\\\": 2, \\\\\\\\\\\\\"details\\\\\\\\\\\\\": {\\\\\\\\\\\\\"selectedColumn\\\\\\\\\\\\\": \\\\\\\\\\\\\"Total_Relationship_Count\\\\\\\\\\\\\"}}, \\\\\\\\\\\\\"typeProperty\\\\\\\\\\\\\": 2}, {\\\\\\\\\\\\\"column\\\\\\\\\\\\\": {\\\\\\\\\\\\\"type\\\\\\\\\\\\\": 2, \\\\\\\\\\\\\"details\\\\\\\\\\\\\": {\\\\\\\\\\\\\"selectedColumn\\\\\\\\\\\\\": \\\\\\\\\\\\\"Months_Inactive_12_mon\\\\\\\\\\\\\"}}, \\\\\\\\\\\\\"typeProperty\\\\\\\\\\\\\": 2}, {\\\\\\\\\\\\\"column\\\\\\\\\\\\\": {\\\\\\\\\\\\\"type\\\\\\\\\\\\\": 2, \\\\\\\\\\\\\"details\\\\\\\\\\\\\": {\\\\\\\\\\\\\"selectedColumn\\\\\\\\\\\\\": \\\\\\\\\\\\\"Contacts_Count_12_mon\\\\\\\\\\\\\"}}, \\\\\\\\\\\\\"typeProperty\\\\\\\\\\\\\": 2}, {\\\\\\\\\\\\\"column\\\\\\\\\\\\\": {\\\\\\\\\\\\\"type\\\\\\\\\\\\\": 2, \\\\\\\\\\\\\"details\\\\\\\\\\\\\": {\\\\\\\\\\\\\"selectedColumn\\\\\\\\\\\\\": \\\\\\\\\\\\\"Credit_Limit\\\\\\\\\\\\\"}}, \\\\\\\\\\\\\"typeProperty\\\\\\\\\\\\\": 3}, {\\\\\\\\\\\\\"column\\\\\\\\\\\\\": {\\\\\\\\\\\\\"type\\\\\\\\\\\\\": 2, \\\\\\\\\\\\\"details\\\\\\\\\\\\\": {\\\\\\\\\\\\\"selectedColumn\\\\\\\\\\\\\": \\\\\\\\\\\\\"Total_Revolving_Bal\\\\\\\\\\\\\"}}, \\\\\\\\\\\\\"typeProperty\\\\\\\\\\\\\": 2}, {\\\\\\\\\\\\\"column\\\\\\\\\\\\\": {\\\\\\\\\\\\\"type\\\\\\\\\\\\\": 2, \\\\\\\\\\\\\"details\\\\\\\\\\\\\": {\\\\\\\\\\\\\"selectedColumn\\\\\\\\\\\\\": \\\\\\\\\\\\\"Avg_Open_To_Buy\\\\\\\\\\\\\"}}, \\\\\\\\\\\\\"typeProperty\\\\\\\\\\\\\": 3}, {\\\\\\\\\\\\\"column\\\\\\\\\\\\\": {\\\\\\\\\\\\\"type\\\\\\\\\\\\\": 2, \\\\\\\\\\\\\"details\\\\\\\\\\\\\": {\\\\\\\\\\\\\"selectedColumn\\\\\\\\\\\\\": \\\\\\\\\\\\\"Total_Amt_Chng_Q4_Q1\\\\\\\\\\\\\"}}, \\\\\\\\\\\\\"typeProperty\\\\\\\\\\\\\": 3}, {\\\\\\\\\\\\\"column\\\\\\\\\\\\\": {\\\\\\\\\\\\\"type\\\\\\\\\\\\\": 2, \\\\\\\\\\\\\"details\\\\\\\\\\\\\": {\\\\\\\\\\\\\"selectedColumn\\\\\\\\\\\\\": \\\\\\\\\\\\\"Total_Trans_Amt\\\\\\\\\\\\\"}}, \\\\\\\\\\\\\"typeProperty\\\\\\\\\\\\\": 2}, {\\\\\\\\\\\\\"column\\\\\\\\\\\\\": {\\\\\\\\\\\\\"type\\\\\\\\\\\\\": 2, \\\\\\\\\\\\\"details\\\\\\\\\\\\\": {\\\\\\\\\\\\\"selectedColumn\\\\\\\\\\\\\": \\\\\\\\\\\\\"Total_Trans_Ct\\\\\\\\\\\\\"}}, \\\\\\\\\\\\\"typeProperty\\\\\\\\\\\\\": 2}, {\\\\\\\\\\\\\"column\\\\\\\\\\\\\": {\\\\\\\\\\\\\"type\\\\\\\\\\\\\": 2, \\\\\\\\\\\\\"details\\\\\\\\\\\\\": {\\\\\\\\\\\\\"selectedColumn\\\\\\\\\\\\\": \\\\\\\\\\\\\"Total_Ct_Chng_Q4_Q1\\\\\\\\\\\\\"}}, \\\\\\\\\\\\\"typeProperty\\\\\\\\\\\\\": 3}, {\\\\\\\\\\\\\"column\\\\\\\\\\\\\": {\\\\\\\\\\\\\"type\\\\\\\\\\\\\": 2, \\\\\\\\\\\\\"details\\\\\\\\\\\\\": {\\\\\\\\\\\\\"selectedColumn\\\\\\\\\\\\\": \\\\\\\\\\\\\"Avg_Utilization_Ratio\\\\\\\\\\\\\"}}, \\\\\\\\\\\\\"typeProperty\\\\\\\\\\\\\": 3}]}, \\\\\\\\\\\\\"localData\\\\\\\\\\\\\": {}, \\\\\\\\\\\\\"isEnabled\\\\\\\\\\\\\": true, \\\\\\\\\\\\\"name\\\\\\\\\\\\\": null, \\\\\\\\\\\\\"annotation\\\\\\\\\\\\\": null}], \\\\\\\\\\\\\"inspectors\\\\\\\\\\\\\": [], \\\\\\\\\\\\\"meta\\\\\\\\\\\\\": {\\\\\\\\\\\\\"savedDatasetId\\\\\\\\\\\\\": \\\\\\\\\\\\\"79bf3402-85fb-4462-afcc-de1b593bbecf\\\\\\\\\\\\\", \\\\\\\\\\\\\"datasetType\\\\\\\\\\\\\": \\\\\\\\\\\\\"tabular\\\\\\\\\\\\\", \\\\\\\\\\\\\"subscriptionId\\\\\\\\\\\\\": \\\\\\\\\\\\\"f5091c60-1c3c-430f-8d81-d802f6bf2414\\\\\\\\\\\\\", \\\\\\\\\\\\\"workspaceId\\\\\\\\\\\\\": \\\\\\\\\\\\\"6babe9eb-f41b-41ca-83e2-2d803258c13d\\\\\\\\\\\\\", \\\\\\\\\\\\\"workspaceLocation\\\\\\\\\\\\\": \\\\\\\\\\\\\"southcentralus\\\\\\\\\\\\\"}}\\\\\", \\\\\"activities\\\\\": 0}',\n  'EnableSubsampling': None,\n  'runTemplate': 'AutoML',\n  'azureml.runsource': 'automl',\n  'display_task_type': 'classification',\n  'dependencies_versions': '{\"azureml-widgets\": \"1.20.0\", \"azureml-train\": \"1.20.0\", \"azureml-train-restclients-hyperdrive\": \"1.20.0\", \"azureml-train-core\": \"1.20.0\", \"azureml-train-automl\": \"1.20.0\", \"azureml-train-automl-runtime\": \"1.20.0\", \"azureml-train-automl-client\": \"1.20.0\", \"azureml-tensorboard\": \"1.20.0\", \"azureml-telemetry\": \"1.20.0\", \"azureml-sdk\": \"1.20.0\", \"azureml-samples\": \"0+unknown\", \"azureml-pipeline\": \"1.20.0\", \"azureml-pipeline-steps\": \"1.20.0\", \"azureml-pipeline-core\": \"1.20.0\", \"azureml-opendatasets\": \"1.20.0\", \"azureml-model-management-sdk\": \"1.0.1b6.post1\", \"azureml-mlflow\": \"1.20.0.post1\", \"azureml-interpret\": \"1.20.0\", \"azureml-explain-model\": \"1.20.0\", \"azureml-defaults\": \"1.20.0\", \"azureml-dataset-runtime\": \"1.20.0\", \"azureml-dataprep\": \"2.7.3\", \"azureml-dataprep-rslex\": \"1.5.0\", \"azureml-dataprep-native\": \"27.0.0\", \"azureml-datadrift\": \"1.20.0\", \"azureml-core\": \"1.20.0\", \"azureml-contrib-services\": \"1.20.0\", \"azureml-contrib-server\": \"1.20.0\", \"azureml-contrib-reinforcementlearning\": \"1.20.0\", \"azureml-contrib-pipeline-steps\": \"1.20.0\", \"azureml-contrib-notebook\": \"1.20.0\", \"azureml-contrib-interpret\": \"1.20.0\", \"azureml-contrib-gbdt\": \"1.20.0\", \"azureml-contrib-fairness\": \"1.20.0\", \"azureml-contrib-dataset\": \"1.20.0\", \"azureml-cli-common\": \"1.20.0\", \"azureml-automl-runtime\": \"1.20.0\", \"azureml-automl-core\": \"1.20.0\", \"azureml-accel-models\": \"1.20.0\"}',\n  '_aml_system_scenario_identification': 'Remote.Parent',\n  'ClientType': 'SDK',\n  'environment_cpu_name': 'AzureML-AutoML',\n  'environment_cpu_label': 'prod',\n  'environment_gpu_name': 'AzureML-AutoML-GPU',\n  'environment_gpu_label': 'prod',\n  'root_attribution': 'automl',\n  'attribution': 'AutoML',\n  'Orchestrator': 'AutoML',\n  'CancelUri': 'https://southcentralus.experiments.azureml.net/jasmine/v1.0/subscriptions/f5091c60-1c3c-430f-8d81-d802f6bf2414/resourceGroups/aml-quickstarts-136389/providers/Microsoft.MachineLearningServices/workspaces/quick-starts-ws-136389/experimentids/1a8cfa69-69cd-41dc-8758-dc8c4c973ad7/cancel/AutoML_2aa9bad3-2ac6-4205-ac66-21667fe9859c',\n  'ClientSdkVersion': '1.20.0.post1',\n  'snapshotId': '00000000-0000-0000-0000-000000000000',\n  'SetupRunId': 'AutoML_2aa9bad3-2ac6-4205-ac66-21667fe9859c_setup',\n  'SetupRunContainerId': 'dcid.AutoML_2aa9bad3-2ac6-4205-ac66-21667fe9859c_setup',\n  'FeaturizationRunJsonPath': 'featurizer_container.json',\n  'FeaturizationRunId': 'AutoML_2aa9bad3-2ac6-4205-ac66-21667fe9859c_featurize',\n  'ProblemInfoJsonString': '{\"dataset_num_categorical\": 0, \"is_sparse\": true, \"subsampling\": false, \"dataset_classes\": 2, \"dataset_features\": 146, \"dataset_samples\": 10127, \"single_frequency_class_detected\": false}',\n  'ModelExplainRunId': 'AutoML_2aa9bad3-2ac6-4205-ac66-21667fe9859c_ModelExplain'},\n 'inputDatasets': [{'dataset': {'id': '79bf3402-85fb-4462-afcc-de1b593bbecf'}, 'consumptionDetails': {'type': 'RunInput', 'inputName': 'training_data', 'mechanism': 'Direct'}}],\n 'outputDatasets': [],\n 'logFiles': {},\n 'submittedBy': 'ODL_User 136389'}"
          },
          "metadata": {}
        }
      ],
      "execution_count": 8,
      "metadata": {
        "gather": {
          "logged": 1611844017297
        },
        "jupyter": {
          "outputs_hidden": false,
          "source_hidden": false
        },
        "nteract": {
          "transient": {
            "deleting": false
          }
        }
      }
    },
    {
      "cell_type": "markdown",
      "source": [
        "## Best Model\n",
        "\n",
        "TODO: In the cell below, get the best model from the automl experiments and display all the properties of the model.\n",
        "\n"
      ],
      "metadata": {}
    },
    {
      "cell_type": "code",
      "source": [
        "# Retrieve the best AutoML model\n",
        "best_run, best_model = remote_run.get_output()\n",
        "best_metrics = best_run.get_metrics()"
      ],
      "outputs": [],
      "execution_count": 9,
      "metadata": {
        "gather": {
          "logged": 1611844089361
        },
        "jupyter": {
          "outputs_hidden": false,
          "source_hidden": false
        },
        "nteract": {
          "transient": {
            "deleting": false
          }
        }
      }
    },
    {
      "cell_type": "code",
      "source": [
        "#Save the best model\n",
        "# model = best_run.register_model(model_name = \"best-automl-model\", model_path = \"./outputs/\")\n",
        "model = best_run.register_model(model_name='best-automl-model',model_path='outputs/model.pkl', tags={'Method':'AutoML'}, properties={'accuracy': best_metrics['accuracy']})\n",
        "print(model)\n",
        "print(best_run)"
      ],
      "outputs": [
        {
          "output_type": "stream",
          "name": "stdout",
          "text": [
            "Model(workspace=Workspace.create(name='quick-starts-ws-136389', subscription_id='f5091c60-1c3c-430f-8d81-d802f6bf2414', resource_group='aml-quickstarts-136389'), name=best-automl-model, id=best-automl-model:1, version=1, tags={'Method': 'AutoML'}, properties={'accuracy': '0.9705737522672752'})\n",
            "Run(Experiment: demo-automl-experiment,\n",
            "Id: AutoML_2aa9bad3-2ac6-4205-ac66-21667fe9859c_38,\n",
            "Type: azureml.scriptrun,\n",
            "Status: Completed)\n"
          ]
        }
      ],
      "execution_count": 10,
      "metadata": {
        "gather": {
          "logged": 1611844095631
        },
        "jupyter": {
          "outputs_hidden": false,
          "source_hidden": false
        },
        "nteract": {
          "transient": {
            "deleting": false
          }
        }
      }
    },
    {
      "cell_type": "code",
      "source": [
        "print(best_metrics[\"accuracy\"])\n",
        "print(best_model._final_estimator)"
      ],
      "outputs": [
        {
          "output_type": "stream",
          "name": "stdout",
          "text": [
            "0.9705737522672752\n",
            "PreFittedSoftVotingClassifier(classification_labels=None,\n",
            "                              estimators=[('0',\n",
            "                                           Pipeline(memory=None,\n",
            "                                                    steps=[('maxabsscaler',\n",
            "                                                            MaxAbsScaler(copy=True)),\n",
            "                                                           ('lightgbmclassifier',\n",
            "                                                            LightGBMClassifier(boosting_type='gbdt',\n",
            "                                                                               class_weight=None,\n",
            "                                                                               colsample_bytree=1.0,\n",
            "                                                                               importance_type='split',\n",
            "                                                                               learning_rate=0.1,\n",
            "                                                                               max_depth=-1,\n",
            "                                                                               min_child_samples=20,\n",
            "                                                                               min_child_weight=0.001,\n",
            "                                                                               min_spl...\n",
            "                                                                               l1_ratio=None,\n",
            "                                                                               max_iter=100,\n",
            "                                                                               multi_class='ovr',\n",
            "                                                                               n_jobs=1,\n",
            "                                                                               penalty='l2',\n",
            "                                                                               random_state=None,\n",
            "                                                                               solver='lbfgs',\n",
            "                                                                               tol=0.0001,\n",
            "                                                                               verbose=0,\n",
            "                                                                               warm_start=False))],\n",
            "                                                    verbose=False))],\n",
            "                              flatten_transform=None,\n",
            "                              weights=[0.21428571428571427, 0.21428571428571427,\n",
            "                                       0.14285714285714285, 0.14285714285714285,\n",
            "                                       0.07142857142857142, 0.07142857142857142,\n",
            "                                       0.07142857142857142,\n",
            "                                       0.07142857142857142])\n"
          ]
        }
      ],
      "execution_count": 11,
      "metadata": {
        "gather": {
          "logged": 1611844099690
        },
        "jupyter": {
          "outputs_hidden": false,
          "source_hidden": false
        },
        "nteract": {
          "transient": {
            "deleting": false
          }
        }
      }
    },
    {
      "cell_type": "markdown",
      "source": [
        "## Model Deployment\n",
        "\n",
        "Remember you have to deploy only one of the two models you trained.. Perform the steps in the rest of this notebook only if you wish to deploy this model.\n",
        "\n",
        "TODO: In the cell below, register the model, create an inference config and deploy the model as a web service."
      ],
      "metadata": {}
    },
    {
      "cell_type": "code",
      "source": [
        "from azureml.core import Environment\n",
        "from azureml.core.model import InferenceConfig\n",
        "from azureml.automl.core.shared import constants\n",
        "\n",
        "best_run.download_file('./outputs/model.pkl', './outputs/bankchurners-auto-model.pkl')\n",
        "best_run.download_file('./outputs/scoring_file_v_1_0_0.py', './outputs/score_aml.py')\n",
        "best_run.download_file('./automl_driver.py', './outputs/automl_driver.py')\n",
        "best_run.download_file(constants.CONDA_ENV_FILE_PATH, 'myenv.yml')\n",
        "\n",
        "myenv = Environment.from_conda_specification(name=\"myenv\", file_path=\"myenv.yml\")\n",
        "\n",
        "# Create the inference config\n",
        "\n",
        "inference_config = InferenceConfig(entry_script='./score.py', environment=myenv)\n"
      ],
      "outputs": [],
      "execution_count": 12,
      "metadata": {
        "gather": {
          "logged": 1611844110633
        },
        "jupyter": {
          "outputs_hidden": false,
          "source_hidden": false
        },
        "nteract": {
          "transient": {
            "deleting": false
          }
        }
      }
    },
    {
      "cell_type": "code",
      "source": [
        "f = open(\"envnew.yml\", \"w\")\n",
        "f.write(myenv.python.conda_dependencies.serialize_to_string())\n",
        "f.close()\n",
        "\n",
        "print(\"packages\", myenv.python.conda_dependencies.serialize_to_string())"
      ],
      "outputs": [
        {
          "output_type": "stream",
          "name": "stdout",
          "text": [
            "packages # Conda environment specification. The dependencies defined in this file will\n",
            "# be automatically provisioned for runs with userManagedDependencies=False.\n",
            "\n",
            "# Details about the Conda environment file format:\n",
            "# https://conda.io/docs/user-guide/tasks/manage-environments.html#create-env-file-manually\n",
            "\n",
            "name: project_environment\n",
            "dependencies:\n",
            "  # The python interpreter version.\n",
            "  # Currently Azure ML only supports 3.5.2 and later.\n",
            "- python=3.6.2\n",
            "\n",
            "- pip:\n",
            "  - azureml-train-automl-runtime==1.20.0.post1\n",
            "  - inference-schema\n",
            "  - azureml-interpret==1.20.0\n",
            "  - azureml-defaults==1.20.0\n",
            "- numpy>=1.16.0,<1.19.0\n",
            "- pandas==0.25.1\n",
            "- scikit-learn==0.22.1\n",
            "- py-xgboost<=0.90\n",
            "- fbprophet==0.5\n",
            "- holidays==0.9.11\n",
            "- psutil>=5.2.2,<6.0.0\n",
            "channels:\n",
            "- anaconda\n",
            "- conda-forge\n",
            "\n"
          ]
        }
      ],
      "execution_count": 13,
      "metadata": {
        "collapsed": true,
        "gather": {
          "logged": 1611844114166
        },
        "jupyter": {
          "outputs_hidden": false,
          "source_hidden": false
        },
        "nteract": {
          "transient": {
            "deleting": false
          }
        }
      }
    },
    {
      "cell_type": "code",
      "source": [
        "# Deploy the model as a webservice\n",
        "from azureml.core.webservice import AciWebservice\n",
        "\n",
        "deployment_config = AciWebservice.deploy_configuration(\n",
        "    cpu_cores=1,\n",
        "    memory_gb = 1,\n",
        "    enable_app_insights = True\n",
        ")\n",
        "service = Model.deploy(ws, 'model-service', [model], inference_config, deployment_config)\n",
        "\n",
        "print(service.state)\n",
        "\n",
        "# Wait until deployment is complete\n",
        "service.wait_for_deployment(show_output = True)\n"
      ],
      "outputs": [
        {
          "output_type": "stream",
          "name": "stdout",
          "text": [
            "Transitioning\n",
            "Tips: You can try get_logs(): https://aka.ms/debugimage#dockerlog or local deployment: https://aka.ms/debugimage#debug-locally to debug if deployment takes longer than 10 minutes.\n",
            "Running......................................................................................................................................................................................................................................\n",
            "Succeeded\n",
            "ACI service creation operation finished, operation \"Succeeded\"\n"
          ]
        }
      ],
      "execution_count": 14,
      "metadata": {
        "gather": {
          "logged": 1611845321453
        }
      }
    },
    {
      "cell_type": "code",
      "source": [
        "print(service.get_logs)"
      ],
      "outputs": [
        {
          "output_type": "stream",
          "name": "stdout",
          "text": [
            "<bound method Webservice.get_logs of AciWebservice(workspace=Workspace.create(name='quick-starts-ws-136389', subscription_id='f5091c60-1c3c-430f-8d81-d802f6bf2414', resource_group='aml-quickstarts-136389'), name=model-service, image_id=None, compute_type=None, state=ACI, scoring_uri=Healthy, tags=http://f9bccfb2-b1aa-4e80-902c-ac0496dbe227.southcentralus.azurecontainer.io/score, properties={}, created_by={'hasInferenceSchema': 'True', 'hasHttps': 'False'})>\n"
          ]
        }
      ],
      "execution_count": 15,
      "metadata": {
        "gather": {
          "logged": 1611846277775
        },
        "jupyter": {
          "outputs_hidden": false,
          "source_hidden": false
        },
        "nteract": {
          "transient": {
            "deleting": false
          }
        }
      }
    },
    {
      "cell_type": "markdown",
      "source": [
        "TODO: In the cell below, send a request to the web service you deployed to test it."
      ],
      "metadata": {
        "collapsed": true,
        "gather": {
          "logged": 1598431657736
        },
        "jupyter": {
          "outputs_hidden": false,
          "source_hidden": false
        },
        "nteract": {
          "transient": {
            "deleting": false
          }
        }
      }
    },
    {
      "cell_type": "code",
      "source": [
        "import json\n",
        "\n",
        "# Importing the data set for testing \n",
        "\n",
        "sample_data = dataset.to_pandas_dataframe().sample(10)\n",
        "data_sample = sample_data.drop(\"Attrition_Flag\", axis=1)\n",
        "test_sample = json.dumps({\"data\": data_sample.to_dict()})\n",
        "\n",
        "print(test_sample)"
      ],
      "outputs": [
        {
          "output_type": "stream",
          "name": "stdout",
          "text": [
            "{\"data\": {\"CLIENTNUM\": {\"1732\": 814513008, \"5800\": 714102183, \"8657\": 794124708, \"635\": 708557358, \"4649\": 712038258, \"9181\": 821752908, \"5452\": 756919683, \"8857\": 714342033, \"2238\": 711734508, \"8671\": 717926358}, \"Customer_Age\": {\"1732\": 38, \"5800\": 50, \"8657\": 47, \"635\": 43, \"4649\": 48, \"9181\": 53, \"5452\": 48, \"8857\": 52, \"2238\": 55, \"8671\": 46}, \"Gender\": {\"1732\": \"M\", \"5800\": \"M\", \"8657\": \"M\", \"635\": \"M\", \"4649\": \"M\", \"9181\": \"M\", \"5452\": \"F\", \"8857\": \"M\", \"2238\": \"M\", \"8671\": \"F\"}, \"Dependent_count\": {\"1732\": 2, \"5800\": 3, \"8657\": 2, \"635\": 2, \"4649\": 4, \"9181\": 2, \"5452\": 2, \"8857\": 1, \"2238\": 2, \"8671\": 2}, \"Education_Level\": {\"1732\": \"Graduate\", \"5800\": \"Uneducated\", \"8657\": \"Graduate\", \"635\": \"College\", \"4649\": \"Unknown\", \"9181\": \"High School\", \"5452\": \"Unknown\", \"8857\": \"High School\", \"2238\": \"Graduate\", \"8671\": \"Graduate\"}, \"Marital_Status\": {\"1732\": \"Married\", \"5800\": \"Single\", \"8657\": \"Unknown\", \"635\": \"Married\", \"4649\": \"Single\", \"9181\": \"Single\", \"5452\": \"Married\", \"8857\": \"Married\", \"2238\": \"Married\", \"8671\": \"Single\"}, \"Income_Category\": {\"1732\": \"$80K - $120K\", \"5800\": \"$120K +\", \"8657\": \"$80K - $120K\", \"635\": \"$60K - $80K\", \"4649\": \"$80K - $120K\", \"9181\": \"$60K - $80K\", \"5452\": \"Less than $40K\", \"8857\": \"$120K +\", \"2238\": \"$80K - $120K\", \"8671\": \"Less than $40K\"}, \"Card_Category\": {\"1732\": \"Blue\", \"5800\": \"Blue\", \"8657\": \"Blue\", \"635\": \"Blue\", \"4649\": \"Blue\", \"9181\": \"Blue\", \"5452\": \"Blue\", \"8857\": \"Blue\", \"2238\": \"Blue\", \"8671\": \"Blue\"}, \"Months_on_book\": {\"1732\": 33, \"5800\": 36, \"8657\": 41, \"635\": 28, \"4649\": 36, \"9181\": 49, \"5452\": 41, \"8857\": 34, \"2238\": 47, \"8671\": 30}, \"Total_Relationship_Count\": {\"1732\": 5, \"5800\": 1, \"8657\": 2, \"635\": 4, \"4649\": 3, \"9181\": 2, \"5452\": 6, \"8857\": 2, \"2238\": 3, \"8671\": 3}, \"Months_Inactive_12_mon\": {\"1732\": 3, \"5800\": 2, \"8657\": 2, \"635\": 2, \"4649\": 3, \"9181\": 3, \"5452\": 1, \"8857\": 3, \"2238\": 3, \"8671\": 1}, \"Contacts_Count_12_mon\": {\"1732\": 3, \"5800\": 3, \"8657\": 2, \"635\": 3, \"4649\": 3, \"9181\": 2, \"5452\": 3, \"8857\": 1, \"2238\": 3, \"8671\": 0}, \"Credit_Limit\": {\"1732\": 9620.0, \"5800\": 7970.0, \"8657\": 21325.0, \"635\": 22157.0, \"4649\": 32838.0, \"9181\": 4142.0, \"5452\": 3632.0, \"8857\": 34516.0, \"2238\": 9959.0, \"8671\": 5494.0}, \"Total_Revolving_Bal\": {\"1732\": 2033, \"5800\": 2282, \"8657\": 2197, \"635\": 1355, \"4649\": 1717, \"9181\": 2252, \"5452\": 1294, \"8857\": 0, \"2238\": 1209, \"8671\": 2142}, \"Avg_Open_To_Buy\": {\"1732\": 7587.0, \"5800\": 5688.0, \"8657\": 19128.0, \"635\": 20802.0, \"4649\": 31121.0, \"9181\": 1890.0, \"5452\": 2338.0, \"8857\": 34516.0, \"2238\": 8750.0, \"8671\": 3352.0}, \"Total_Amt_Chng_Q4_Q1\": {\"1732\": 0.667, \"5800\": 0.28, \"8657\": 0.647, \"635\": 0.69, \"4649\": 0.995, \"9181\": 0.714, \"5452\": 0.924, \"8857\": 1.038, \"2238\": 0.548, \"8671\": 1.014}, \"Total_Trans_Amt\": {\"1732\": 1735, \"5800\": 1872, \"8657\": 7053, \"635\": 1911, \"4649\": 2538, \"9181\": 15078, \"5452\": 4339, \"8857\": 4863, \"2238\": 1584, \"8671\": 8328}, \"Total_Trans_Ct\": {\"1732\": 43, \"5800\": 41, \"8657\": 69, \"635\": 55, \"4649\": 42, \"9181\": 117, \"5452\": 86, \"8857\": 56, \"2238\": 28, \"8671\": 78}, \"Total_Ct_Chng_Q4_Q1\": {\"1732\": 0.387, \"5800\": 0.206, \"8657\": 0.865, \"635\": 0.571, \"4649\": 0.4, \"9181\": 0.746, \"5452\": 0.686, \"8857\": 0.474, \"2238\": 0.273, \"8671\": 0.733}, \"Avg_Utilization_Ratio\": {\"1732\": 0.211, \"5800\": 0.286, \"8657\": 0.103, \"635\": 0.061, \"4649\": 0.052, \"9181\": 0.544, \"5452\": 0.356, \"8857\": 0.0, \"2238\": 0.121, \"8671\": 0.39}}}\n"
          ]
        }
      ],
      "execution_count": 16,
      "metadata": {
        "gather": {
          "logged": 1611846293245
        }
      }
    },
    {
      "cell_type": "code",
      "source": [
        "import requests\r\n",
        "scoring_uri = 'http://f9bccfb2-b1aa-4e80-902c-ac0496dbe227.southcentralus.azurecontainer.io/score'\r\n",
        "headers = {'Content-type': 'application/json'}\r\n",
        "\r\n",
        "response = requests.post(scoring_uri, test_sample, headers=headers)"
      ],
      "outputs": [],
      "execution_count": 17,
      "metadata": {
        "collapsed": true,
        "jupyter": {
          "source_hidden": false,
          "outputs_hidden": false
        },
        "nteract": {
          "transient": {
            "deleting": false
          }
        },
        "gather": {
          "logged": 1611846298348
        }
      }
    },
    {
      "cell_type": "code",
      "source": [
        "# Print results from the inference\r\n",
        "print(response.status_code)\r\n",
        "print(response.text)"
      ],
      "outputs": [
        {
          "output_type": "stream",
          "name": "stdout",
          "text": [
            "200\n",
            "\"{\\\"result\\\": [\\\"Existing Customer\\\", \\\"Attrited Customer\\\", \\\"Existing Customer\\\", \\\"Existing Customer\\\", \\\"Attrited Customer\\\", \\\"Existing Customer\\\", \\\"Existing Customer\\\", \\\"Attrited Customer\\\", \\\"Existing Customer\\\", \\\"Existing Customer\\\"]}\"\n"
          ]
        }
      ],
      "execution_count": 18,
      "metadata": {
        "collapsed": true,
        "jupyter": {
          "source_hidden": false,
          "outputs_hidden": false
        },
        "nteract": {
          "transient": {
            "deleting": false
          }
        },
        "gather": {
          "logged": 1611846303159
        }
      }
    },
    {
      "cell_type": "markdown",
      "source": [
        "TODO: In the cell below, print the logs of the web service and delete the service"
      ],
      "metadata": {
        "collapsed": true,
        "gather": {
          "logged": 1598432765711
        },
        "jupyter": {
          "outputs_hidden": false,
          "source_hidden": false
        },
        "nteract": {
          "transient": {
            "deleting": false
          }
        }
      }
    },
    {
      "cell_type": "code",
      "source": [
        "# Print web service logs\n",
        "service_logs = service.get_logs()\n",
        "\n",
        "for line in service_logs.split('\\n'):\n",
        "    print(line)\n",
        "\n",
        "# Delete the service\n",
        "service.delete()"
      ],
      "outputs": [],
      "execution_count": null,
      "metadata": {
        "gather": {
          "logged": 1610781090481
        },
        "jupyter": {
          "outputs_hidden": false,
          "source_hidden": false
        },
        "nteract": {
          "transient": {
            "deleting": false
          }
        }
      }
    }
  ],
  "metadata": {
    "kernel_info": {
      "name": "python3"
    },
    "kernelspec": {
      "name": "python3",
      "language": "python",
      "display_name": "Python 3"
    },
    "language_info": {
      "name": "python",
      "version": "3.6.9",
      "mimetype": "text/x-python",
      "codemirror_mode": {
        "name": "ipython",
        "version": 3
      },
      "pygments_lexer": "ipython3",
      "nbconvert_exporter": "python",
      "file_extension": ".py"
    },
    "nteract": {
      "version": "nteract-front-end@1.0.0"
    }
  },
  "nbformat": 4,
  "nbformat_minor": 2
}