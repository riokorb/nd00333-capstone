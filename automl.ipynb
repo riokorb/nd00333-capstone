{
  "cells": [
    {
      "cell_type": "markdown",
      "source": [
        "# Automated ML\n",
        "\n",
        "TODO: Import Dependencies. In the cell below, import all the dependencies that you will need to complete the project."
      ],
      "metadata": {}
    },
    {
      "cell_type": "code",
      "source": [
        "from azureml.core import Experiment, Model, Webservice\n",
        "from azureml.core.workspace import Workspace\n",
        "from azureml.core.dataset import Dataset\n",
        "from azureml.train.automl import AutoMLConfig\n",
        "from azureml.core.compute import ComputeTarget, AmlCompute\n",
        "from azureml.core.compute_target import ComputeTargetException\n",
        "from azureml.pipeline.steps import AutoMLStep\n",
        "\n",
        "import pandas as pd"
      ],
      "outputs": [],
      "execution_count": 1,
      "metadata": {
        "gather": {
          "logged": 1611918770851
        },
        "jupyter": {
          "outputs_hidden": false,
          "source_hidden": false
        },
        "nteract": {
          "transient": {
            "deleting": false
          }
        }
      }
    },
    {
      "cell_type": "markdown",
      "source": [
        "## Dataset\n",
        "\n",
        "### Overview\n",
        "TODO: In this markdown cell, give an overview of the dataset you are using. Also mention the task you will be performing.\n",
        "We will be using the 'Credit Card customers' dataset from Kaggle and predicting if a customer is likely to churn.\n",
        "\n",
        "TODO: Get data. In the cell below, write code to access the data you will be using in this project. Remember that the dataset needs to be external."
      ],
      "metadata": {}
    },
    {
      "cell_type": "code",
      "source": [
        "ws = Workspace.from_config()\n",
        "\n",
        "# Choose a name for experiment\n",
        "experiment_name = 'demo-automl-experiment'\n",
        "\n",
        "experiment=Experiment(ws, experiment_name)\n",
        "\n",
        "# Prepare the datastore to upload data\n",
        "datastore = ws.get_default_datastore()\n",
        "\n",
        "# Set the upload location to target_path in datastore\n",
        "datastore.upload(src_dir='./', target_path = 'data')"
      ],
      "outputs": [
        {
          "output_type": "stream",
          "name": "stdout",
          "text": [
            "Performing interactive authentication. Please follow the instructions on the terminal.\n",
            "To sign in, use a web browser to open the page https://microsoft.com/devicelogin and enter the code FJT4NJ3W6 to authenticate.\n",
            "You have logged in. Now let us find all the subscriptions to which you have access...\n",
            "Interactive authentication successfully completed.\n",
            "Uploading an estimated of 7 files\n",
            "Uploading ./automl.ipynb\n",
            "Uploaded ./automl.ipynb, 1 files out of an estimated total of 7\n",
            "Uploading ./automl.ipynb.amltmp\n",
            "Uploaded ./automl.ipynb.amltmp, 2 files out of an estimated total of 7\n",
            "Uploading ./.ipynb_aml_checkpoints/hyperparameter_tuning-checkpoint2021-0-29-11-3-8.ipynb\n",
            "Uploaded ./.ipynb_aml_checkpoints/hyperparameter_tuning-checkpoint2021-0-29-11-3-8.ipynb, 3 files out of an estimated total of 7\n",
            "Uploading ./hyperparameter_tuning.ipynb\n",
            "Uploaded ./hyperparameter_tuning.ipynb, 4 files out of an estimated total of 7\n",
            "Uploading ./score.py\n",
            "Uploaded ./score.py, 5 files out of an estimated total of 7\n",
            "Uploading ./train.py\n",
            "Uploaded ./train.py, 6 files out of an estimated total of 7\n",
            "Uploading ./.ipynb_aml_checkpoints/automl-checkpoint2021-0-29-11-2-34.ipynb\n",
            "Uploaded ./.ipynb_aml_checkpoints/automl-checkpoint2021-0-29-11-2-34.ipynb, 7 files out of an estimated total of 7\n",
            "Uploaded 7 files\n"
          ]
        },
        {
          "output_type": "execute_result",
          "execution_count": 2,
          "data": {
            "text/plain": "$AZUREML_DATAREFERENCE_74ace8ce7785443cb4c426e165ec92ab"
          },
          "metadata": {}
        }
      ],
      "execution_count": 2,
      "metadata": {
        "gather": {
          "logged": 1611918796189
        },
        "jupyter": {
          "outputs_hidden": false,
          "source_hidden": false
        },
        "nteract": {
          "transient": {
            "deleting": false
          }
        }
      }
    },
    {
      "cell_type": "code",
      "source": [
        "# Choose a name for CPU cluster\n",
        "compute_name = \"demo-cluster\"\n",
        "\n",
        "# Verify that cluster does not already exist\n",
        "try:\n",
        "    compute_target = ComputeTarget(workspace=ws, name=compute_name)\n",
        "    print('Found existing cluster, use it.')\n",
        "except ComputeTargetException:\n",
        "    compute_config = AmlCompute.provisioning_configuration(vm_size='STANDARD_D2_V2',# for GPU, use \"STANDARD_NC6\"\n",
        "                                                           #vm_priority = 'lowpriority', # optional\n",
        "                                                           max_nodes=4)\n",
        "    compute_target = ComputeTarget.create(ws, compute_name, compute_config)\n",
        "\n",
        "compute_target.wait_for_completion(show_output=True)"
      ],
      "outputs": [
        {
          "output_type": "stream",
          "name": "stdout",
          "text": [
            "Found existing cluster, use it.\n",
            "\n",
            "Running\n"
          ]
        }
      ],
      "execution_count": 3,
      "metadata": {
        "collapsed": true,
        "gather": {
          "logged": 1611918804537
        },
        "jupyter": {
          "outputs_hidden": false,
          "source_hidden": false
        },
        "nteract": {
          "transient": {
            "deleting": false
          }
        }
      }
    },
    {
      "cell_type": "code",
      "source": [
        "dataset = Dataset.get_by_name(ws, name = \"bankchurners\")\n",
        "dataset"
      ],
      "outputs": [
        {
          "output_type": "execute_result",
          "execution_count": 4,
          "data": {
            "text/plain": "{\n  \"source\": [\n    \"('workspaceblobstore', 'UI/01-29-2021_110643_UTC/BankChurners.csv')\"\n  ],\n  \"definition\": [\n    \"GetDatastoreFiles\",\n    \"ParseDelimited\",\n    \"DropColumns\",\n    \"SetColumnTypes\"\n  ],\n  \"registration\": {\n    \"id\": \"fd67c9bf-6db3-4b3d-8f2a-63297843ca70\",\n    \"name\": \"bankchurners\",\n    \"version\": 1,\n    \"workspace\": \"Workspace.create(name='quick-starts-ws-136499', subscription_id='6b4af8be-9931-443e-90f6-c4c34a1f9737', resource_group='aml-quickstarts-136499')\"\n  }\n}"
          },
          "metadata": {}
        }
      ],
      "execution_count": 4,
      "metadata": {
        "collapsed": true,
        "gather": {
          "logged": 1611918815709
        },
        "jupyter": {
          "outputs_hidden": false,
          "source_hidden": false
        },
        "nteract": {
          "transient": {
            "deleting": false
          }
        }
      }
    },
    {
      "cell_type": "markdown",
      "source": [
        "## AutoML Configuration\n",
        "\n",
        "TODO: Explain why you chose the automl settings and cofiguration you used below."
      ],
      "metadata": {}
    },
    {
      "cell_type": "code",
      "source": [
        "# List the automl settings\n",
        "\n",
        "automl_settings = {\"featurization\":\"auto\",\n",
        "                   \"primary_metric\":\"accuracy\",\n",
        "                   \"enable_early_stopping\":True,\n",
        "                   \"max_concurrent_iterations\":5,\n",
        "                   \"enable_onnx_compatible_models\":True,\n",
        "                   \"n_cross_validations\": 3\n",
        "}\n",
        "\n",
        "# List the automl config\n",
        "\n",
        "automl_config = AutoMLConfig(compute_target= \"demo-cluster\",\n",
        "                             task=\"classification\",\n",
        "                             training_data=dataset,\n",
        "                             label_column_name=\"Attrition_Flag\",\n",
        "                             experiment_timeout_minutes=20,\n",
        "                             **automl_settings)"
      ],
      "outputs": [],
      "execution_count": 5,
      "metadata": {
        "gather": {
          "logged": 1611918816126
        },
        "jupyter": {
          "outputs_hidden": false,
          "source_hidden": false
        },
        "nteract": {
          "transient": {
            "deleting": false
          }
        }
      }
    },
    {
      "cell_type": "markdown",
      "source": [
        "## Run Details\n",
        "\n",
        "OPTIONAL: Write about the different models trained and their performance. Why do you think some models did better than others?\n",
        "\n",
        "TODO: In the cell below, use the `RunDetails` widget to show the different experiments."
      ],
      "metadata": {}
    },
    {
      "cell_type": "code",
      "source": [
        "from azureml.widgets import RunDetails\n",
        "\n",
        "# Submit the experiment\n",
        "remote_run = experiment.submit(automl_config)\n",
        "RunDetails(remote_run).show()"
      ],
      "outputs": [
        {
          "output_type": "stream",
          "name": "stdout",
          "text": [
            "Running on remote.\n"
          ]
        },
        {
          "output_type": "display_data",
          "data": {
            "text/plain": "_AutoMLWidget(widget_settings={'childWidgetDisplay': 'popup', 'send_telemetry': False, 'log_level': 'INFO', 's…",
            "application/vnd.jupyter.widget-view+json": {
              "version_major": 2,
              "version_minor": 0,
              "model_id": "f4d3ec9c7ebe41f59c52cd9079cfd516"
            }
          },
          "metadata": {}
        },
        {
          "output_type": "display_data",
          "data": {
            "application/aml.mini.widget.v1": "{\"status\": \"Completed\", \"workbench_run_details_uri\": \"https://ml.azure.com/experiments/demo-automl-experiment/runs/AutoML_4f0019bb-ac12-4cb4-98d1-54de9b0b0bfb?wsid=/subscriptions/6b4af8be-9931-443e-90f6-c4c34a1f9737/resourcegroups/aml-quickstarts-136499/workspaces/quick-starts-ws-136499\", \"run_id\": \"AutoML_4f0019bb-ac12-4cb4-98d1-54de9b0b0bfb\", \"run_properties\": {\"run_id\": \"AutoML_4f0019bb-ac12-4cb4-98d1-54de9b0b0bfb\", \"created_utc\": \"2021-01-29T11:13:44.551315Z\", \"properties\": {\"num_iterations\": \"1000\", \"training_type\": \"TrainFull\", \"acquisition_function\": \"EI\", \"primary_metric\": \"accuracy\", \"train_split\": \"0\", \"acquisition_parameter\": \"0\", \"num_cross_validation\": \"3\", \"target\": \"demo-cluster\", \"AMLSettingsJsonString\": \"{\\\"path\\\":null,\\\"name\\\":\\\"demo-automl-experiment\\\",\\\"subscription_id\\\":\\\"6b4af8be-9931-443e-90f6-c4c34a1f9737\\\",\\\"resource_group\\\":\\\"aml-quickstarts-136499\\\",\\\"workspace_name\\\":\\\"quick-starts-ws-136499\\\",\\\"region\\\":\\\"southcentralus\\\",\\\"compute_target\\\":\\\"demo-cluster\\\",\\\"spark_service\\\":null,\\\"azure_service\\\":\\\"remote\\\",\\\"many_models\\\":false,\\\"pipeline_fetch_max_batch_size\\\":1,\\\"iterations\\\":1000,\\\"primary_metric\\\":\\\"accuracy\\\",\\\"task_type\\\":\\\"classification\\\",\\\"data_script\\\":null,\\\"validation_size\\\":0.0,\\\"n_cross_validations\\\":3,\\\"y_min\\\":null,\\\"y_max\\\":null,\\\"num_classes\\\":null,\\\"featurization\\\":\\\"auto\\\",\\\"_ignore_package_version_incompatibilities\\\":false,\\\"is_timeseries\\\":false,\\\"max_cores_per_iteration\\\":1,\\\"max_concurrent_iterations\\\":5,\\\"iteration_timeout_minutes\\\":null,\\\"mem_in_mb\\\":null,\\\"enforce_time_on_windows\\\":false,\\\"experiment_timeout_minutes\\\":20,\\\"experiment_exit_score\\\":null,\\\"whitelist_models\\\":null,\\\"blacklist_algos\\\":[\\\"TensorFlowLinearClassifier\\\",\\\"TensorFlowDNN\\\"],\\\"supported_models\\\":[\\\"KNN\\\",\\\"SGD\\\",\\\"AveragedPerceptronClassifier\\\",\\\"LinearSVM\\\",\\\"ExtremeRandomTrees\\\",\\\"LightGBM\\\",\\\"TensorFlowDNN\\\",\\\"TensorFlowLinearClassifier\\\",\\\"RandomForest\\\",\\\"LogisticRegression\\\",\\\"SVM\\\",\\\"XGBoostClassifier\\\",\\\"BernoulliNaiveBayes\\\",\\\"GradientBoosting\\\",\\\"DecisionTree\\\",\\\"MultinomialNaiveBayes\\\"],\\\"auto_blacklist\\\":true,\\\"blacklist_samples_reached\\\":false,\\\"exclude_nan_labels\\\":true,\\\"verbosity\\\":20,\\\"_debug_log\\\":\\\"azureml_automl.log\\\",\\\"show_warnings\\\":false,\\\"model_explainability\\\":true,\\\"service_url\\\":null,\\\"sdk_url\\\":null,\\\"sdk_packages\\\":null,\\\"enable_onnx_compatible_models\\\":true,\\\"enable_split_onnx_featurizer_estimator_models\\\":false,\\\"vm_type\\\":\\\"STANDARD_DS3_V2\\\",\\\"telemetry_verbosity\\\":20,\\\"send_telemetry\\\":true,\\\"enable_dnn\\\":false,\\\"scenario\\\":\\\"SDK-1.13.0\\\",\\\"environment_label\\\":null,\\\"force_text_dnn\\\":false,\\\"enable_feature_sweeping\\\":false,\\\"enable_early_stopping\\\":true,\\\"early_stopping_n_iters\\\":10,\\\"metrics\\\":null,\\\"enable_ensembling\\\":true,\\\"enable_stack_ensembling\\\":false,\\\"ensemble_iterations\\\":15,\\\"enable_tf\\\":false,\\\"enable_subsampling\\\":null,\\\"subsample_seed\\\":null,\\\"enable_nimbusml\\\":false,\\\"enable_streaming\\\":false,\\\"force_streaming\\\":false,\\\"track_child_runs\\\":true,\\\"allowed_private_models\\\":[],\\\"label_column_name\\\":\\\"Attrition_Flag\\\",\\\"weight_column_name\\\":null,\\\"cv_split_column_names\\\":null,\\\"enable_local_managed\\\":false,\\\"_local_managed_run_id\\\":null,\\\"cost_mode\\\":1,\\\"lag_length\\\":0,\\\"metric_operation\\\":\\\"maximize\\\",\\\"preprocess\\\":true}\", \"DataPrepJsonString\": \"{\\\\\\\"training_data\\\\\\\": \\\\\\\"{\\\\\\\\\\\\\\\"blocks\\\\\\\\\\\\\\\": [{\\\\\\\\\\\\\\\"id\\\\\\\\\\\\\\\": \\\\\\\\\\\\\\\"d9d84f1e-02ab-4d60-9c01-906f1a960b14\\\\\\\\\\\\\\\", \\\\\\\\\\\\\\\"type\\\\\\\\\\\\\\\": \\\\\\\\\\\\\\\"Microsoft.DPrep.GetDatastoreFilesBlock\\\\\\\\\\\\\\\", \\\\\\\\\\\\\\\"arguments\\\\\\\\\\\\\\\": {\\\\\\\\\\\\\\\"datastores\\\\\\\\\\\\\\\": [{\\\\\\\\\\\\\\\"datastoreName\\\\\\\\\\\\\\\": \\\\\\\\\\\\\\\"workspaceblobstore\\\\\\\\\\\\\\\", \\\\\\\\\\\\\\\"path\\\\\\\\\\\\\\\": \\\\\\\\\\\\\\\"UI/01-29-2021_110643_UTC/BankChurners.csv\\\\\\\\\\\\\\\", \\\\\\\\\\\\\\\"resourceGroup\\\\\\\\\\\\\\\": \\\\\\\\\\\\\\\"aml-quickstarts-136499\\\\\\\\\\\\\\\", \\\\\\\\\\\\\\\"subscription\\\\\\\\\\\\\\\": \\\\\\\\\\\\\\\"6b4af8be-9931-443e-90f6-c4c34a1f9737\\\\\\\\\\\\\\\", \\\\\\\\\\\\\\\"workspaceName\\\\\\\\\\\\\\\": \\\\\\\\\\\\\\\"quick-starts-ws-136499\\\\\\\\\\\\\\\"}]}, \\\\\\\\\\\\\\\"localData\\\\\\\\\\\\\\\": {}, \\\\\\\\\\\\\\\"isEnabled\\\\\\\\\\\\\\\": true, \\\\\\\\\\\\\\\"name\\\\\\\\\\\\\\\": null, \\\\\\\\\\\\\\\"annotation\\\\\\\\\\\\\\\": null}, {\\\\\\\\\\\\\\\"id\\\\\\\\\\\\\\\": \\\\\\\\\\\\\\\"4d9c7400-cb97-4ce2-bf7d-71affe0c3a81\\\\\\\\\\\\\\\", \\\\\\\\\\\\\\\"type\\\\\\\\\\\\\\\": \\\\\\\\\\\\\\\"Microsoft.DPrep.ParseDelimitedBlock\\\\\\\\\\\\\\\", \\\\\\\\\\\\\\\"arguments\\\\\\\\\\\\\\\": {\\\\\\\\\\\\\\\"columnHeadersMode\\\\\\\\\\\\\\\": 1, \\\\\\\\\\\\\\\"fileEncoding\\\\\\\\\\\\\\\": 0, \\\\\\\\\\\\\\\"handleQuotedLineBreaks\\\\\\\\\\\\\\\": false, \\\\\\\\\\\\\\\"preview\\\\\\\\\\\\\\\": false, \\\\\\\\\\\\\\\"separator\\\\\\\\\\\\\\\": \\\\\\\\\\\\\\\",\\\\\\\\\\\\\\\", \\\\\\\\\\\\\\\"skipRows\\\\\\\\\\\\\\\": 0, \\\\\\\\\\\\\\\"skipRowsMode\\\\\\\\\\\\\\\": 0}, \\\\\\\\\\\\\\\"localData\\\\\\\\\\\\\\\": {}, \\\\\\\\\\\\\\\"isEnabled\\\\\\\\\\\\\\\": true, \\\\\\\\\\\\\\\"name\\\\\\\\\\\\\\\": null, \\\\\\\\\\\\\\\"annotation\\\\\\\\\\\\\\\": null}, {\\\\\\\\\\\\\\\"id\\\\\\\\\\\\\\\": \\\\\\\\\\\\\\\"0c0c6fc2-6fed-49a4-82e8-bbd4a0bfb4e5\\\\\\\\\\\\\\\", \\\\\\\\\\\\\\\"type\\\\\\\\\\\\\\\": \\\\\\\\\\\\\\\"Microsoft.DPrep.DropColumnsBlock\\\\\\\\\\\\\\\", \\\\\\\\\\\\\\\"arguments\\\\\\\\\\\\\\\": {\\\\\\\\\\\\\\\"columns\\\\\\\\\\\\\\\": {\\\\\\\\\\\\\\\"type\\\\\\\\\\\\\\\": 0, \\\\\\\\\\\\\\\"details\\\\\\\\\\\\\\\": {\\\\\\\\\\\\\\\"selectedColumns\\\\\\\\\\\\\\\": [\\\\\\\\\\\\\\\"Path\\\\\\\\\\\\\\\"]}}}, \\\\\\\\\\\\\\\"localData\\\\\\\\\\\\\\\": {}, \\\\\\\\\\\\\\\"isEnabled\\\\\\\\\\\\\\\": true, \\\\\\\\\\\\\\\"name\\\\\\\\\\\\\\\": null, \\\\\\\\\\\\\\\"annotation\\\\\\\\\\\\\\\": null}, {\\\\\\\\\\\\\\\"id\\\\\\\\\\\\\\\": \\\\\\\\\\\\\\\"2651286b-c013-47c4-a03e-a2b980846d14\\\\\\\\\\\\\\\", \\\\\\\\\\\\\\\"type\\\\\\\\\\\\\\\": \\\\\\\\\\\\\\\"Microsoft.DPrep.SetColumnTypesBlock\\\\\\\\\\\\\\\", \\\\\\\\\\\\\\\"arguments\\\\\\\\\\\\\\\": {\\\\\\\\\\\\\\\"columnConversion\\\\\\\\\\\\\\\": [{\\\\\\\\\\\\\\\"column\\\\\\\\\\\\\\\": {\\\\\\\\\\\\\\\"type\\\\\\\\\\\\\\\": 2, \\\\\\\\\\\\\\\"details\\\\\\\\\\\\\\\": {\\\\\\\\\\\\\\\"selectedColumn\\\\\\\\\\\\\\\": \\\\\\\\\\\\\\\"Path\\\\\\\\\\\\\\\"}}, \\\\\\\\\\\\\\\"typeProperty\\\\\\\\\\\\\\\": 0}, {\\\\\\\\\\\\\\\"column\\\\\\\\\\\\\\\": {\\\\\\\\\\\\\\\"type\\\\\\\\\\\\\\\": 2, \\\\\\\\\\\\\\\"details\\\\\\\\\\\\\\\": {\\\\\\\\\\\\\\\"selectedColumn\\\\\\\\\\\\\\\": \\\\\\\\\\\\\\\"CLIENTNUM\\\\\\\\\\\\\\\"}}, \\\\\\\\\\\\\\\"typeProperty\\\\\\\\\\\\\\\": 2}, {\\\\\\\\\\\\\\\"column\\\\\\\\\\\\\\\": {\\\\\\\\\\\\\\\"type\\\\\\\\\\\\\\\": 2, \\\\\\\\\\\\\\\"details\\\\\\\\\\\\\\\": {\\\\\\\\\\\\\\\"selectedColumn\\\\\\\\\\\\\\\": \\\\\\\\\\\\\\\"Attrition_Flag\\\\\\\\\\\\\\\"}}, \\\\\\\\\\\\\\\"typeProperty\\\\\\\\\\\\\\\": 0}, {\\\\\\\\\\\\\\\"column\\\\\\\\\\\\\\\": {\\\\\\\\\\\\\\\"type\\\\\\\\\\\\\\\": 2, \\\\\\\\\\\\\\\"details\\\\\\\\\\\\\\\": {\\\\\\\\\\\\\\\"selectedColumn\\\\\\\\\\\\\\\": \\\\\\\\\\\\\\\"Customer_Age\\\\\\\\\\\\\\\"}}, \\\\\\\\\\\\\\\"typeProperty\\\\\\\\\\\\\\\": 2}, {\\\\\\\\\\\\\\\"column\\\\\\\\\\\\\\\": {\\\\\\\\\\\\\\\"type\\\\\\\\\\\\\\\": 2, \\\\\\\\\\\\\\\"details\\\\\\\\\\\\\\\": {\\\\\\\\\\\\\\\"selectedColumn\\\\\\\\\\\\\\\": \\\\\\\\\\\\\\\"Gender\\\\\\\\\\\\\\\"}}, \\\\\\\\\\\\\\\"typeProperty\\\\\\\\\\\\\\\": 0}, {\\\\\\\\\\\\\\\"column\\\\\\\\\\\\\\\": {\\\\\\\\\\\\\\\"type\\\\\\\\\\\\\\\": 2, \\\\\\\\\\\\\\\"details\\\\\\\\\\\\\\\": {\\\\\\\\\\\\\\\"selectedColumn\\\\\\\\\\\\\\\": \\\\\\\\\\\\\\\"Dependent_count\\\\\\\\\\\\\\\"}}, \\\\\\\\\\\\\\\"typeProperty\\\\\\\\\\\\\\\": 2}, {\\\\\\\\\\\\\\\"column\\\\\\\\\\\\\\\": {\\\\\\\\\\\\\\\"type\\\\\\\\\\\\\\\": 2, \\\\\\\\\\\\\\\"details\\\\\\\\\\\\\\\": {\\\\\\\\\\\\\\\"selectedColumn\\\\\\\\\\\\\\\": \\\\\\\\\\\\\\\"Education_Level\\\\\\\\\\\\\\\"}}, \\\\\\\\\\\\\\\"typeProperty\\\\\\\\\\\\\\\": 0}, {\\\\\\\\\\\\\\\"column\\\\\\\\\\\\\\\": {\\\\\\\\\\\\\\\"type\\\\\\\\\\\\\\\": 2, \\\\\\\\\\\\\\\"details\\\\\\\\\\\\\\\": {\\\\\\\\\\\\\\\"selectedColumn\\\\\\\\\\\\\\\": \\\\\\\\\\\\\\\"Marital_Status\\\\\\\\\\\\\\\"}}, \\\\\\\\\\\\\\\"typeProperty\\\\\\\\\\\\\\\": 0}, {\\\\\\\\\\\\\\\"column\\\\\\\\\\\\\\\": {\\\\\\\\\\\\\\\"type\\\\\\\\\\\\\\\": 2, \\\\\\\\\\\\\\\"details\\\\\\\\\\\\\\\": {\\\\\\\\\\\\\\\"selectedColumn\\\\\\\\\\\\\\\": \\\\\\\\\\\\\\\"Income_Category\\\\\\\\\\\\\\\"}}, \\\\\\\\\\\\\\\"typeProperty\\\\\\\\\\\\\\\": 0}, {\\\\\\\\\\\\\\\"column\\\\\\\\\\\\\\\": {\\\\\\\\\\\\\\\"type\\\\\\\\\\\\\\\": 2, \\\\\\\\\\\\\\\"details\\\\\\\\\\\\\\\": {\\\\\\\\\\\\\\\"selectedColumn\\\\\\\\\\\\\\\": \\\\\\\\\\\\\\\"Card_Category\\\\\\\\\\\\\\\"}}, \\\\\\\\\\\\\\\"typeProperty\\\\\\\\\\\\\\\": 0}, {\\\\\\\\\\\\\\\"column\\\\\\\\\\\\\\\": {\\\\\\\\\\\\\\\"type\\\\\\\\\\\\\\\": 2, \\\\\\\\\\\\\\\"details\\\\\\\\\\\\\\\": {\\\\\\\\\\\\\\\"selectedColumn\\\\\\\\\\\\\\\": \\\\\\\\\\\\\\\"Months_on_book\\\\\\\\\\\\\\\"}}, \\\\\\\\\\\\\\\"typeProperty\\\\\\\\\\\\\\\": 2}, {\\\\\\\\\\\\\\\"column\\\\\\\\\\\\\\\": {\\\\\\\\\\\\\\\"type\\\\\\\\\\\\\\\": 2, \\\\\\\\\\\\\\\"details\\\\\\\\\\\\\\\": {\\\\\\\\\\\\\\\"selectedColumn\\\\\\\\\\\\\\\": \\\\\\\\\\\\\\\"Total_Relationship_Count\\\\\\\\\\\\\\\"}}, \\\\\\\\\\\\\\\"typeProperty\\\\\\\\\\\\\\\": 2}, {\\\\\\\\\\\\\\\"column\\\\\\\\\\\\\\\": {\\\\\\\\\\\\\\\"type\\\\\\\\\\\\\\\": 2, \\\\\\\\\\\\\\\"details\\\\\\\\\\\\\\\": {\\\\\\\\\\\\\\\"selectedColumn\\\\\\\\\\\\\\\": \\\\\\\\\\\\\\\"Months_Inactive_12_mon\\\\\\\\\\\\\\\"}}, \\\\\\\\\\\\\\\"typeProperty\\\\\\\\\\\\\\\": 2}, {\\\\\\\\\\\\\\\"column\\\\\\\\\\\\\\\": {\\\\\\\\\\\\\\\"type\\\\\\\\\\\\\\\": 2, \\\\\\\\\\\\\\\"details\\\\\\\\\\\\\\\": {\\\\\\\\\\\\\\\"selectedColumn\\\\\\\\\\\\\\\": \\\\\\\\\\\\\\\"Contacts_Count_12_mon\\\\\\\\\\\\\\\"}}, \\\\\\\\\\\\\\\"typeProperty\\\\\\\\\\\\\\\": 2}, {\\\\\\\\\\\\\\\"column\\\\\\\\\\\\\\\": {\\\\\\\\\\\\\\\"type\\\\\\\\\\\\\\\": 2, \\\\\\\\\\\\\\\"details\\\\\\\\\\\\\\\": {\\\\\\\\\\\\\\\"selectedColumn\\\\\\\\\\\\\\\": \\\\\\\\\\\\\\\"Credit_Limit\\\\\\\\\\\\\\\"}}, \\\\\\\\\\\\\\\"typeProperty\\\\\\\\\\\\\\\": 3}, {\\\\\\\\\\\\\\\"column\\\\\\\\\\\\\\\": {\\\\\\\\\\\\\\\"type\\\\\\\\\\\\\\\": 2, \\\\\\\\\\\\\\\"details\\\\\\\\\\\\\\\": {\\\\\\\\\\\\\\\"selectedColumn\\\\\\\\\\\\\\\": \\\\\\\\\\\\\\\"Total_Revolving_Bal\\\\\\\\\\\\\\\"}}, \\\\\\\\\\\\\\\"typeProperty\\\\\\\\\\\\\\\": 2}, {\\\\\\\\\\\\\\\"column\\\\\\\\\\\\\\\": {\\\\\\\\\\\\\\\"type\\\\\\\\\\\\\\\": 2, \\\\\\\\\\\\\\\"details\\\\\\\\\\\\\\\": {\\\\\\\\\\\\\\\"selectedColumn\\\\\\\\\\\\\\\": \\\\\\\\\\\\\\\"Avg_Open_To_Buy\\\\\\\\\\\\\\\"}}, \\\\\\\\\\\\\\\"typeProperty\\\\\\\\\\\\\\\": 3}, {\\\\\\\\\\\\\\\"column\\\\\\\\\\\\\\\": {\\\\\\\\\\\\\\\"type\\\\\\\\\\\\\\\": 2, \\\\\\\\\\\\\\\"details\\\\\\\\\\\\\\\": {\\\\\\\\\\\\\\\"selectedColumn\\\\\\\\\\\\\\\": \\\\\\\\\\\\\\\"Total_Amt_Chng_Q4_Q1\\\\\\\\\\\\\\\"}}, \\\\\\\\\\\\\\\"typeProperty\\\\\\\\\\\\\\\": 3}, {\\\\\\\\\\\\\\\"column\\\\\\\\\\\\\\\": {\\\\\\\\\\\\\\\"type\\\\\\\\\\\\\\\": 2, \\\\\\\\\\\\\\\"details\\\\\\\\\\\\\\\": {\\\\\\\\\\\\\\\"selectedColumn\\\\\\\\\\\\\\\": \\\\\\\\\\\\\\\"Total_Trans_Amt\\\\\\\\\\\\\\\"}}, \\\\\\\\\\\\\\\"typeProperty\\\\\\\\\\\\\\\": 2}, {\\\\\\\\\\\\\\\"column\\\\\\\\\\\\\\\": {\\\\\\\\\\\\\\\"type\\\\\\\\\\\\\\\": 2, \\\\\\\\\\\\\\\"details\\\\\\\\\\\\\\\": {\\\\\\\\\\\\\\\"selectedColumn\\\\\\\\\\\\\\\": \\\\\\\\\\\\\\\"Total_Trans_Ct\\\\\\\\\\\\\\\"}}, \\\\\\\\\\\\\\\"typeProperty\\\\\\\\\\\\\\\": 2}, {\\\\\\\\\\\\\\\"column\\\\\\\\\\\\\\\": {\\\\\\\\\\\\\\\"type\\\\\\\\\\\\\\\": 2, \\\\\\\\\\\\\\\"details\\\\\\\\\\\\\\\": {\\\\\\\\\\\\\\\"selectedColumn\\\\\\\\\\\\\\\": \\\\\\\\\\\\\\\"Total_Ct_Chng_Q4_Q1\\\\\\\\\\\\\\\"}}, \\\\\\\\\\\\\\\"typeProperty\\\\\\\\\\\\\\\": 3}, {\\\\\\\\\\\\\\\"column\\\\\\\\\\\\\\\": {\\\\\\\\\\\\\\\"type\\\\\\\\\\\\\\\": 2, \\\\\\\\\\\\\\\"details\\\\\\\\\\\\\\\": {\\\\\\\\\\\\\\\"selectedColumn\\\\\\\\\\\\\\\": \\\\\\\\\\\\\\\"Avg_Utilization_Ratio\\\\\\\\\\\\\\\"}}, \\\\\\\\\\\\\\\"typeProperty\\\\\\\\\\\\\\\": 3}]}, \\\\\\\\\\\\\\\"localData\\\\\\\\\\\\\\\": {}, \\\\\\\\\\\\\\\"isEnabled\\\\\\\\\\\\\\\": true, \\\\\\\\\\\\\\\"name\\\\\\\\\\\\\\\": null, \\\\\\\\\\\\\\\"annotation\\\\\\\\\\\\\\\": null}], \\\\\\\\\\\\\\\"inspectors\\\\\\\\\\\\\\\": [], \\\\\\\\\\\\\\\"meta\\\\\\\\\\\\\\\": {\\\\\\\\\\\\\\\"savedDatasetId\\\\\\\\\\\\\\\": \\\\\\\\\\\\\\\"fd67c9bf-6db3-4b3d-8f2a-63297843ca70\\\\\\\\\\\\\\\", \\\\\\\\\\\\\\\"datasetType\\\\\\\\\\\\\\\": \\\\\\\\\\\\\\\"tabular\\\\\\\\\\\\\\\", \\\\\\\\\\\\\\\"subscriptionId\\\\\\\\\\\\\\\": \\\\\\\\\\\\\\\"6b4af8be-9931-443e-90f6-c4c34a1f9737\\\\\\\\\\\\\\\", \\\\\\\\\\\\\\\"workspaceId\\\\\\\\\\\\\\\": \\\\\\\\\\\\\\\"16848a39-0a2a-4230-a4a0-aa21a12e2333\\\\\\\\\\\\\\\", \\\\\\\\\\\\\\\"workspaceLocation\\\\\\\\\\\\\\\": \\\\\\\\\\\\\\\"southcentralus\\\\\\\\\\\\\\\"}}\\\\\\\", \\\\\\\"activities\\\\\\\": 0}\", \"EnableSubsampling\": null, \"runTemplate\": \"AutoML\", \"azureml.runsource\": \"automl\", \"display_task_type\": \"classification\", \"dependencies_versions\": \"{\\\"azureml-widgets\\\": \\\"1.20.0\\\", \\\"azureml-train\\\": \\\"1.20.0\\\", \\\"azureml-train-restclients-hyperdrive\\\": \\\"1.20.0\\\", \\\"azureml-train-core\\\": \\\"1.20.0\\\", \\\"azureml-train-automl\\\": \\\"1.20.0\\\", \\\"azureml-train-automl-runtime\\\": \\\"1.20.0\\\", \\\"azureml-train-automl-client\\\": \\\"1.20.0\\\", \\\"azureml-tensorboard\\\": \\\"1.20.0\\\", \\\"azureml-telemetry\\\": \\\"1.20.0\\\", \\\"azureml-sdk\\\": \\\"1.20.0\\\", \\\"azureml-samples\\\": \\\"0+unknown\\\", \\\"azureml-pipeline\\\": \\\"1.20.0\\\", \\\"azureml-pipeline-steps\\\": \\\"1.20.0\\\", \\\"azureml-pipeline-core\\\": \\\"1.20.0\\\", \\\"azureml-opendatasets\\\": \\\"1.20.0\\\", \\\"azureml-model-management-sdk\\\": \\\"1.0.1b6.post1\\\", \\\"azureml-mlflow\\\": \\\"1.20.0.post1\\\", \\\"azureml-interpret\\\": \\\"1.20.0\\\", \\\"azureml-explain-model\\\": \\\"1.20.0\\\", \\\"azureml-defaults\\\": \\\"1.20.0\\\", \\\"azureml-dataset-runtime\\\": \\\"1.20.0\\\", \\\"azureml-dataprep\\\": \\\"2.7.3\\\", \\\"azureml-dataprep-rslex\\\": \\\"1.5.0\\\", \\\"azureml-dataprep-native\\\": \\\"27.0.0\\\", \\\"azureml-datadrift\\\": \\\"1.20.0\\\", \\\"azureml-core\\\": \\\"1.20.0\\\", \\\"azureml-contrib-services\\\": \\\"1.20.0\\\", \\\"azureml-contrib-server\\\": \\\"1.20.0\\\", \\\"azureml-contrib-reinforcementlearning\\\": \\\"1.20.0\\\", \\\"azureml-contrib-pipeline-steps\\\": \\\"1.20.0\\\", \\\"azureml-contrib-notebook\\\": \\\"1.20.0\\\", \\\"azureml-contrib-interpret\\\": \\\"1.20.0\\\", \\\"azureml-contrib-gbdt\\\": \\\"1.20.0\\\", \\\"azureml-contrib-fairness\\\": \\\"1.20.0\\\", \\\"azureml-contrib-dataset\\\": \\\"1.20.0\\\", \\\"azureml-cli-common\\\": \\\"1.20.0\\\", \\\"azureml-automl-runtime\\\": \\\"1.20.0\\\", \\\"azureml-automl-core\\\": \\\"1.20.0\\\", \\\"azureml-accel-models\\\": \\\"1.20.0\\\"}\", \"_aml_system_scenario_identification\": \"Remote.Parent\", \"ClientType\": \"SDK\", \"environment_cpu_name\": \"AzureML-AutoML\", \"environment_cpu_label\": \"prod\", \"environment_gpu_name\": \"AzureML-AutoML-GPU\", \"environment_gpu_label\": \"prod\", \"root_attribution\": \"automl\", \"attribution\": \"AutoML\", \"Orchestrator\": \"AutoML\", \"CancelUri\": \"https://southcentralus.experiments.azureml.net/jasmine/v1.0/subscriptions/6b4af8be-9931-443e-90f6-c4c34a1f9737/resourceGroups/aml-quickstarts-136499/providers/Microsoft.MachineLearningServices/workspaces/quick-starts-ws-136499/experimentids/4fc8b58a-677a-4198-922a-ca7177a7d552/cancel/AutoML_4f0019bb-ac12-4cb4-98d1-54de9b0b0bfb\", \"ClientSdkVersion\": \"1.20.0.post1\", \"snapshotId\": \"00000000-0000-0000-0000-000000000000\", \"SetupRunId\": \"AutoML_4f0019bb-ac12-4cb4-98d1-54de9b0b0bfb_setup\", \"SetupRunContainerId\": \"dcid.AutoML_4f0019bb-ac12-4cb4-98d1-54de9b0b0bfb_setup\", \"FeaturizationRunJsonPath\": \"featurizer_container.json\", \"FeaturizationRunId\": \"AutoML_4f0019bb-ac12-4cb4-98d1-54de9b0b0bfb_featurize\", \"ProblemInfoJsonString\": \"{\\\"dataset_num_categorical\\\": 0, \\\"is_sparse\\\": true, \\\"subsampling\\\": false, \\\"dataset_classes\\\": 2, \\\"dataset_features\\\": 146, \\\"dataset_samples\\\": 10127, \\\"single_frequency_class_detected\\\": false}\", \"ModelExplainRunId\": \"AutoML_4f0019bb-ac12-4cb4-98d1-54de9b0b0bfb_ModelExplain\"}, \"tags\": {\"model_explain_run\": \"best_run\", \"_aml_system_azureml.automlComponent\": \"AutoML\", \"pipeline_id\": \"\", \"score\": \"\", \"predicted_cost\": \"\", \"fit_time\": \"\", \"training_percent\": \"\", \"iteration\": \"\", \"run_preprocessor\": \"\", \"run_algorithm\": \"\", \"dynamic_whitelisting_iterations\": \"<25>;<30>;<34>;\", \"automl_best_child_run_id\": \"AutoML_4f0019bb-ac12-4cb4-98d1-54de9b0b0bfb_38\", \"model_explain_best_run_child_id\": \"AutoML_4f0019bb-ac12-4cb4-98d1-54de9b0b0bfb_38\"}, \"end_time_utc\": \"2021-01-29T11:33:07.236659Z\", \"status\": \"Completed\", \"log_files\": {}, \"log_groups\": [], \"run_duration\": \"0:19:22\"}, \"child_runs\": [{\"run_id\": \"AutoML_4f0019bb-ac12-4cb4-98d1-54de9b0b0bfb_0\", \"run_number\": 5, \"metric\": null, \"status\": \"Completed\", \"run_type\": \"azureml.scriptrun\", \"training_percent\": \"100\", \"start_time\": \"2021-01-29T11:20:22.805417Z\", \"end_time\": \"2021-01-29T11:21:22.069019Z\", \"created_time\": \"2021-01-29T11:20:05.721765Z\", \"created_time_dt\": \"2021-01-29T11:20:05.721765Z\", \"duration\": \"0:01:16\", \"iteration\": \"0\", \"goal\": \"accuracy_max\", \"run_name\": \"MaxAbsScaler, LightGBM\", \"run_properties\": \"copy=True\", \"primary_metric\": 0.96909245, \"best_metric\": 0.96909245}, {\"run_id\": \"AutoML_4f0019bb-ac12-4cb4-98d1-54de9b0b0bfb_1\", \"run_number\": 6, \"metric\": null, \"status\": \"Completed\", \"run_type\": \"azureml.scriptrun\", \"training_percent\": \"100\", \"start_time\": \"2021-01-29T11:20:23.200655Z\", \"end_time\": \"2021-01-29T11:21:22.576869Z\", \"created_time\": \"2021-01-29T11:20:05.844433Z\", \"created_time_dt\": \"2021-01-29T11:20:05.844433Z\", \"duration\": \"0:01:16\", \"iteration\": \"1\", \"goal\": \"accuracy_max\", \"run_name\": \"MaxAbsScaler, XGBoostClassifier\", \"run_properties\": \"copy=True\", \"primary_metric\": 0.96030428, \"best_metric\": 0.96909245}, {\"run_id\": \"AutoML_4f0019bb-ac12-4cb4-98d1-54de9b0b0bfb_3\", \"run_number\": 7, \"metric\": null, \"status\": \"Completed\", \"run_type\": \"azureml.scriptrun\", \"training_percent\": \"100\", \"start_time\": \"2021-01-29T11:20:22.32387Z\", \"end_time\": \"2021-01-29T11:21:24.031053Z\", \"created_time\": \"2021-01-29T11:20:05.918262Z\", \"created_time_dt\": \"2021-01-29T11:20:05.918262Z\", \"duration\": \"0:01:18\", \"iteration\": \"3\", \"goal\": \"accuracy_max\", \"run_name\": \"MaxAbsScaler, RandomForest\", \"run_properties\": \"copy=True\", \"primary_metric\": 0.84516512, \"best_metric\": 0.96909245}, {\"run_id\": \"AutoML_4f0019bb-ac12-4cb4-98d1-54de9b0b0bfb_4\", \"run_number\": 8, \"metric\": null, \"status\": \"Completed\", \"run_type\": \"azureml.scriptrun\", \"training_percent\": \"100\", \"start_time\": \"2021-01-29T11:20:22.775452Z\", \"end_time\": \"2021-01-29T11:21:21.549611Z\", \"created_time\": \"2021-01-29T11:20:05.961415Z\", \"created_time_dt\": \"2021-01-29T11:20:05.961415Z\", \"duration\": \"0:01:15\", \"iteration\": \"4\", \"goal\": \"accuracy_max\", \"run_name\": \"MaxAbsScaler, RandomForest\", \"run_properties\": \"copy=True\", \"primary_metric\": 0.84042525, \"best_metric\": 0.96909245}, {\"run_id\": \"AutoML_4f0019bb-ac12-4cb4-98d1-54de9b0b0bfb_2\", \"run_number\": 9, \"metric\": null, \"status\": \"Completed\", \"run_type\": \"azureml.scriptrun\", \"training_percent\": \"100\", \"start_time\": \"2021-01-29T11:20:21.773339Z\", \"end_time\": \"2021-01-29T11:21:16.74351Z\", \"created_time\": \"2021-01-29T11:20:06.221148Z\", \"created_time_dt\": \"2021-01-29T11:20:06.221148Z\", \"duration\": \"0:01:10\", \"iteration\": \"2\", \"goal\": \"accuracy_max\", \"run_name\": \"MaxAbsScaler, RandomForest\", \"run_properties\": \"copy=True\", \"primary_metric\": 0.86076687, \"best_metric\": 0.96909245}, {\"run_id\": \"AutoML_4f0019bb-ac12-4cb4-98d1-54de9b0b0bfb_5\", \"run_number\": 10, \"metric\": null, \"status\": \"Completed\", \"run_type\": \"azureml.scriptrun\", \"training_percent\": \"100\", \"start_time\": \"2021-01-29T11:21:36.070305Z\", \"end_time\": \"2021-01-29T11:22:33.384526Z\", \"created_time\": \"2021-01-29T11:21:22.130383Z\", \"created_time_dt\": \"2021-01-29T11:21:22.130383Z\", \"duration\": \"0:01:11\", \"iteration\": \"5\", \"goal\": \"accuracy_max\", \"run_name\": \"MaxAbsScaler, RandomForest\", \"run_properties\": \"copy=True\", \"primary_metric\": 0.78295591, \"best_metric\": 0.96909245}, {\"run_id\": \"AutoML_4f0019bb-ac12-4cb4-98d1-54de9b0b0bfb_7\", \"run_number\": 11, \"metric\": null, \"status\": \"Completed\", \"run_type\": \"azureml.scriptrun\", \"training_percent\": \"100\", \"start_time\": \"2021-01-29T11:21:40.930667Z\", \"end_time\": \"2021-01-29T11:23:24.157851Z\", \"created_time\": \"2021-01-29T11:21:28.813766Z\", \"created_time_dt\": \"2021-01-29T11:21:28.813766Z\", \"duration\": \"0:01:55\", \"iteration\": \"7\", \"goal\": \"accuracy_max\", \"run_name\": \"SparseNormalizer, XGBoostClassifier\", \"run_properties\": \"<azureml.automl.runtime.shared.model_wrappers.SparseNormalizer object at 0x7f00f5037ba8\", \"primary_metric\": 0.96474779, \"best_metric\": 0.96909245}, {\"run_id\": \"AutoML_4f0019bb-ac12-4cb4-98d1-54de9b0b0bfb_9\", \"run_number\": 12, \"metric\": null, \"status\": \"Completed\", \"run_type\": \"azureml.scriptrun\", \"training_percent\": \"100\", \"start_time\": \"2021-01-29T11:21:41.586784Z\", \"end_time\": \"2021-01-29T11:23:20.430392Z\", \"created_time\": \"2021-01-29T11:21:28.825518Z\", \"created_time_dt\": \"2021-01-29T11:21:28.825518Z\", \"duration\": \"0:01:51\", \"iteration\": \"9\", \"goal\": \"accuracy_max\", \"run_name\": \"SparseNormalizer, XGBoostClassifier\", \"run_properties\": \"<azureml.automl.runtime.shared.model_wrappers.SparseNormalizer object at 0x7f0b81459be0\", \"primary_metric\": 0.96247657, \"best_metric\": 0.96909245}, {\"run_id\": \"AutoML_4f0019bb-ac12-4cb4-98d1-54de9b0b0bfb_6\", \"run_number\": 13, \"metric\": null, \"status\": \"Completed\", \"run_type\": \"azureml.scriptrun\", \"training_percent\": \"100\", \"start_time\": \"2021-01-29T11:21:39.638035Z\", \"end_time\": \"2021-01-29T11:22:43.702784Z\", \"created_time\": \"2021-01-29T11:21:28.81029Z\", \"created_time_dt\": \"2021-01-29T11:21:28.81029Z\", \"duration\": \"0:01:14\", \"iteration\": \"6\", \"goal\": \"accuracy_max\", \"run_name\": \"SparseNormalizer, XGBoostClassifier\", \"run_properties\": \"<azureml.automl.runtime.shared.model_wrappers.SparseNormalizer object at 0x7f98ecb210b8\", \"primary_metric\": 0.95526789, \"best_metric\": 0.96909245}, {\"run_id\": \"AutoML_4f0019bb-ac12-4cb4-98d1-54de9b0b0bfb_8\", \"run_number\": 14, \"metric\": null, \"status\": \"Completed\", \"run_type\": \"azureml.scriptrun\", \"training_percent\": \"100\", \"start_time\": \"2021-01-29T11:21:42.791606Z\", \"end_time\": \"2021-01-29T11:23:23.521791Z\", \"created_time\": \"2021-01-29T11:21:28.870144Z\", \"created_time_dt\": \"2021-01-29T11:21:28.870144Z\", \"duration\": \"0:01:54\", \"iteration\": \"8\", \"goal\": \"accuracy_max\", \"run_name\": \"SparseNormalizer, XGBoostClassifier\", \"run_properties\": \"<azureml.automl.runtime.shared.model_wrappers.SparseNormalizer object at 0x7f7fa0cbd7b8\", \"primary_metric\": 0.96613007, \"best_metric\": 0.96909245}, {\"run_id\": \"AutoML_4f0019bb-ac12-4cb4-98d1-54de9b0b0bfb_10\", \"run_number\": 15, \"metric\": null, \"status\": \"Completed\", \"run_type\": \"azureml.scriptrun\", \"training_percent\": \"100\", \"start_time\": \"2021-01-29T11:22:51.778995Z\", \"end_time\": \"2021-01-29T11:23:42.133793Z\", \"created_time\": \"2021-01-29T11:22:36.909947Z\", \"created_time_dt\": \"2021-01-29T11:22:36.909947Z\", \"duration\": \"0:01:05\", \"iteration\": \"10\", \"goal\": \"accuracy_max\", \"run_name\": \"SparseNormalizer, XGBoostClassifier\", \"run_properties\": \"<azureml.automl.runtime.shared.model_wrappers.SparseNormalizer object at 0x7f5770a2cf98\", \"primary_metric\": 0.94509757, \"best_metric\": 0.96909245}, {\"run_id\": \"AutoML_4f0019bb-ac12-4cb4-98d1-54de9b0b0bfb_11\", \"run_number\": 16, \"metric\": null, \"status\": \"Completed\", \"run_type\": \"azureml.scriptrun\", \"training_percent\": \"100\", \"start_time\": \"2021-01-29T11:22:59.679578Z\", \"end_time\": \"2021-01-29T11:23:55.904057Z\", \"created_time\": \"2021-01-29T11:22:46.884043Z\", \"created_time_dt\": \"2021-01-29T11:22:46.884043Z\", \"duration\": \"0:01:09\", \"iteration\": \"11\", \"goal\": \"accuracy_max\", \"run_name\": \"MaxAbsScaler, GradientBoosting\", \"run_properties\": \"copy=True\", \"primary_metric\": 0.91339971, \"best_metric\": 0.96909245}, {\"run_id\": \"AutoML_4f0019bb-ac12-4cb4-98d1-54de9b0b0bfb_12\", \"run_number\": 17, \"metric\": null, \"status\": \"Completed\", \"run_type\": \"azureml.scriptrun\", \"training_percent\": \"100\", \"start_time\": \"2021-01-29T11:23:39.023166Z\", \"end_time\": \"2021-01-29T11:24:36.609433Z\", \"created_time\": \"2021-01-29T11:23:24.745299Z\", \"created_time_dt\": \"2021-01-29T11:23:24.745299Z\", \"duration\": \"0:01:11\", \"iteration\": \"12\", \"goal\": \"accuracy_max\", \"run_name\": \"MaxAbsScaler, LogisticRegression\", \"run_properties\": \"copy=True\", \"primary_metric\": 0.9116222, \"best_metric\": 0.96909245}, {\"run_id\": \"AutoML_4f0019bb-ac12-4cb4-98d1-54de9b0b0bfb_13\", \"run_number\": 18, \"metric\": null, \"status\": \"Completed\", \"run_type\": \"azureml.scriptrun\", \"training_percent\": \"100\", \"start_time\": \"2021-01-29T11:23:44.901817Z\", \"end_time\": \"2021-01-29T11:24:39.462763Z\", \"created_time\": \"2021-01-29T11:23:31.836687Z\", \"created_time_dt\": \"2021-01-29T11:23:31.836687Z\", \"duration\": \"0:01:07\", \"iteration\": \"13\", \"goal\": \"accuracy_max\", \"run_name\": \"StandardScalerWrapper, RandomForest\", \"run_properties\": \"<azureml.automl.runtime.shared.model_wrappers.StandardScalerWrapper object at 0x7fde22e83da0\", \"primary_metric\": 0.89740302, \"best_metric\": 0.96909245}, {\"run_id\": \"AutoML_4f0019bb-ac12-4cb4-98d1-54de9b0b0bfb_14\", \"run_number\": 19, \"metric\": null, \"status\": \"Completed\", \"run_type\": \"azureml.scriptrun\", \"training_percent\": \"100\", \"start_time\": \"2021-01-29T11:23:43.779374Z\", \"end_time\": \"2021-01-29T11:24:36.99718Z\", \"created_time\": \"2021-01-29T11:23:32.048739Z\", \"created_time_dt\": \"2021-01-29T11:23:32.048739Z\", \"duration\": \"0:01:04\", \"iteration\": \"14\", \"goal\": \"accuracy_max\", \"run_name\": \"MaxAbsScaler, LightGBM\", \"run_properties\": \"copy=True\", \"primary_metric\": 0.89927863, \"best_metric\": 0.96909245}, {\"run_id\": \"AutoML_4f0019bb-ac12-4cb4-98d1-54de9b0b0bfb_15\", \"run_number\": 20, \"metric\": null, \"status\": \"Completed\", \"run_type\": \"azureml.scriptrun\", \"training_percent\": \"100\", \"start_time\": \"2021-01-29T11:23:59.873136Z\", \"end_time\": \"2021-01-29T11:25:23.639514Z\", \"created_time\": \"2021-01-29T11:23:45.758332Z\", \"created_time_dt\": \"2021-01-29T11:23:45.758332Z\", \"duration\": \"0:01:37\", \"iteration\": \"15\", \"goal\": \"accuracy_max\", \"run_name\": \"MaxAbsScaler, ExtremeRandomTrees\", \"run_properties\": \"copy=True\", \"primary_metric\": 0.87528331, \"best_metric\": 0.96909245}, {\"run_id\": \"AutoML_4f0019bb-ac12-4cb4-98d1-54de9b0b0bfb_16\", \"run_number\": 21, \"metric\": null, \"status\": \"Completed\", \"run_type\": \"azureml.scriptrun\", \"training_percent\": \"100\", \"start_time\": \"2021-01-29T11:24:10.917457Z\", \"end_time\": \"2021-01-29T11:25:07.071123Z\", \"created_time\": \"2021-01-29T11:23:59.393773Z\", \"created_time_dt\": \"2021-01-29T11:23:59.393773Z\", \"duration\": \"0:01:07\", \"iteration\": \"16\", \"goal\": \"accuracy_max\", \"run_name\": \"StandardScalerWrapper, XGBoostClassifier\", \"run_properties\": \"<azureml.automl.runtime.shared.model_wrappers.StandardScalerWrapper object at 0x7fcef343d5f8\", \"primary_metric\": 0.89404587, \"best_metric\": 0.96909245}, {\"run_id\": \"AutoML_4f0019bb-ac12-4cb4-98d1-54de9b0b0bfb_18\", \"run_number\": 22, \"metric\": null, \"status\": \"Completed\", \"run_type\": \"azureml.scriptrun\", \"training_percent\": \"100\", \"start_time\": \"2021-01-29T11:24:54.05172Z\", \"end_time\": \"2021-01-29T11:26:14.162234Z\", \"created_time\": \"2021-01-29T11:24:40.484606Z\", \"created_time_dt\": \"2021-01-29T11:24:40.484606Z\", \"duration\": \"0:01:33\", \"iteration\": \"18\", \"goal\": \"accuracy_max\", \"run_name\": \"MaxAbsScaler, ExtremeRandomTrees\", \"run_properties\": \"copy=True\", \"primary_metric\": 0.83933968, \"best_metric\": 0.96909245}, {\"run_id\": \"AutoML_4f0019bb-ac12-4cb4-98d1-54de9b0b0bfb_17\", \"run_number\": 23, \"metric\": null, \"status\": \"Completed\", \"run_type\": \"azureml.scriptrun\", \"training_percent\": \"100\", \"start_time\": \"2021-01-29T11:24:53.634521Z\", \"end_time\": \"2021-01-29T11:26:10.006672Z\", \"created_time\": \"2021-01-29T11:24:40.714707Z\", \"created_time_dt\": \"2021-01-29T11:24:40.714707Z\", \"duration\": \"0:01:29\", \"iteration\": \"17\", \"goal\": \"accuracy_max\", \"run_name\": \"SparseNormalizer, XGBoostClassifier\", \"run_properties\": \"<azureml.automl.runtime.shared.model_wrappers.SparseNormalizer object at 0x7f41ff99ae80\", \"primary_metric\": 0.93156928, \"best_metric\": 0.96909245}, {\"run_id\": \"AutoML_4f0019bb-ac12-4cb4-98d1-54de9b0b0bfb_19\", \"run_number\": 24, \"metric\": null, \"status\": \"Completed\", \"run_type\": \"azureml.scriptrun\", \"training_percent\": \"100\", \"start_time\": \"2021-01-29T11:25:00.433437Z\", \"end_time\": \"2021-01-29T11:26:10.844208Z\", \"created_time\": \"2021-01-29T11:24:46.794559Z\", \"created_time_dt\": \"2021-01-29T11:24:46.794559Z\", \"duration\": \"0:01:24\", \"iteration\": \"19\", \"goal\": \"accuracy_max\", \"run_name\": \"SparseNormalizer, XGBoostClassifier\", \"run_properties\": \"<azureml.automl.runtime.shared.model_wrappers.SparseNormalizer object at 0x7f1a65bf9208\", \"primary_metric\": 0.93482766, \"best_metric\": 0.96909245}, {\"run_id\": \"AutoML_4f0019bb-ac12-4cb4-98d1-54de9b0b0bfb_20\", \"run_number\": 25, \"metric\": null, \"status\": \"Completed\", \"run_type\": \"azureml.scriptrun\", \"training_percent\": \"100\", \"start_time\": \"2021-01-29T11:25:23.408629Z\", \"end_time\": \"2021-01-29T11:26:27.146466Z\", \"created_time\": \"2021-01-29T11:25:09.879099Z\", \"created_time_dt\": \"2021-01-29T11:25:09.879099Z\", \"duration\": \"0:01:17\", \"iteration\": \"20\", \"goal\": \"accuracy_max\", \"run_name\": \"MaxAbsScaler, ExtremeRandomTrees\", \"run_properties\": \"copy=True\", \"primary_metric\": 0.87024686, \"best_metric\": 0.96909245}, {\"run_id\": \"AutoML_4f0019bb-ac12-4cb4-98d1-54de9b0b0bfb_21\", \"run_number\": 26, \"metric\": null, \"status\": \"Completed\", \"run_type\": \"azureml.scriptrun\", \"training_percent\": \"100\", \"start_time\": \"2021-01-29T11:25:39.434137Z\", \"end_time\": \"2021-01-29T11:26:33.879112Z\", \"created_time\": \"2021-01-29T11:25:26.340532Z\", \"created_time_dt\": \"2021-01-29T11:25:26.340532Z\", \"duration\": \"0:01:07\", \"iteration\": \"21\", \"goal\": \"accuracy_max\", \"run_name\": \"MaxAbsScaler, LightGBM\", \"run_properties\": \"copy=True\", \"primary_metric\": 0.94963975, \"best_metric\": 0.96909245}, {\"run_id\": \"AutoML_4f0019bb-ac12-4cb4-98d1-54de9b0b0bfb_22\", \"run_number\": 27, \"metric\": null, \"status\": \"Completed\", \"run_type\": \"azureml.scriptrun\", \"training_percent\": \"100\", \"start_time\": \"2021-01-29T11:26:25.630428Z\", \"end_time\": \"2021-01-29T11:27:20.241065Z\", \"created_time\": \"2021-01-29T11:26:12.510201Z\", \"created_time_dt\": \"2021-01-29T11:26:12.510201Z\", \"duration\": \"0:01:07\", \"iteration\": \"22\", \"goal\": \"accuracy_max\", \"run_name\": \"StandardScalerWrapper, LightGBM\", \"run_properties\": \"<azureml.automl.runtime.shared.model_wrappers.StandardScalerWrapper object at 0x7f4dbb5ec320\", \"primary_metric\": 0.96079799, \"best_metric\": 0.96909245}, {\"run_id\": \"AutoML_4f0019bb-ac12-4cb4-98d1-54de9b0b0bfb_23\", \"run_number\": 28, \"metric\": null, \"status\": \"Completed\", \"run_type\": \"azureml.scriptrun\", \"training_percent\": \"100\", \"start_time\": \"2021-01-29T11:26:30.307485Z\", \"end_time\": \"2021-01-29T11:27:29.407668Z\", \"created_time\": \"2021-01-29T11:26:18.066048Z\", \"created_time_dt\": \"2021-01-29T11:26:18.066048Z\", \"duration\": \"0:01:11\", \"iteration\": \"23\", \"goal\": \"accuracy_max\", \"run_name\": \"MaxAbsScaler, ExtremeRandomTrees\", \"run_properties\": \"copy=True\", \"primary_metric\": 0.8823936, \"best_metric\": 0.96909245}, {\"run_id\": \"AutoML_4f0019bb-ac12-4cb4-98d1-54de9b0b0bfb_24\", \"run_number\": 29, \"metric\": null, \"status\": \"Completed\", \"run_type\": \"azureml.scriptrun\", \"training_percent\": \"100\", \"start_time\": \"2021-01-29T11:26:28.547521Z\", \"end_time\": \"2021-01-29T11:27:24.941656Z\", \"created_time\": \"2021-01-29T11:26:18.190167Z\", \"created_time_dt\": \"2021-01-29T11:26:18.190167Z\", \"duration\": \"0:01:06\", \"iteration\": \"24\", \"goal\": \"accuracy_max\", \"run_name\": \"MaxAbsScaler, LightGBM\", \"run_properties\": \"copy=True\", \"primary_metric\": 0.90648792, \"best_metric\": 0.96909245}, {\"run_id\": \"AutoML_4f0019bb-ac12-4cb4-98d1-54de9b0b0bfb_25\", \"run_number\": 30, \"metric\": null, \"status\": \"Completed\", \"run_type\": \"azureml.scriptrun\", \"training_percent\": \"100\", \"start_time\": \"2021-01-29T11:26:42.967666Z\", \"end_time\": \"2021-01-29T11:27:41.0475Z\", \"created_time\": \"2021-01-29T11:26:30.861688Z\", \"created_time_dt\": \"2021-01-29T11:26:30.861688Z\", \"duration\": \"0:01:10\", \"iteration\": \"25\", \"goal\": \"accuracy_max\", \"run_name\": \"MaxAbsScaler, LightGBM\", \"run_properties\": \"copy=True\", \"primary_metric\": 0.83933968, \"best_metric\": 0.96909245}, {\"run_id\": \"AutoML_4f0019bb-ac12-4cb4-98d1-54de9b0b0bfb_26\", \"run_number\": 31, \"metric\": null, \"status\": \"Completed\", \"run_type\": \"azureml.scriptrun\", \"training_percent\": \"100\", \"start_time\": \"2021-01-29T11:26:49.593585Z\", \"end_time\": \"2021-01-29T11:28:47.232515Z\", \"created_time\": \"2021-01-29T11:26:36.729956Z\", \"created_time_dt\": \"2021-01-29T11:26:36.729956Z\", \"duration\": \"0:02:10\", \"iteration\": \"26\", \"goal\": \"accuracy_max\", \"run_name\": \"SparseNormalizer, XGBoostClassifier\", \"run_properties\": \"<azureml.automl.runtime.shared.model_wrappers.SparseNormalizer object at 0x7efed05a9d68\", \"primary_metric\": 0.96780882, \"best_metric\": 0.96909245}, {\"run_id\": \"AutoML_4f0019bb-ac12-4cb4-98d1-54de9b0b0bfb_27\", \"run_number\": 32, \"metric\": null, \"status\": \"Completed\", \"run_type\": \"azureml.scriptrun\", \"training_percent\": \"100\", \"start_time\": \"2021-01-29T11:27:37.381751Z\", \"end_time\": \"2021-01-29T11:28:47.342745Z\", \"created_time\": \"2021-01-29T11:27:22.791418Z\", \"created_time_dt\": \"2021-01-29T11:27:22.791418Z\", \"duration\": \"0:01:24\", \"iteration\": \"27\", \"goal\": \"accuracy_max\", \"run_name\": \"StandardScalerWrapper, XGBoostClassifier\", \"run_properties\": \"<azureml.automl.runtime.shared.model_wrappers.StandardScalerWrapper object at 0x7f8f743767b8\", \"primary_metric\": 0.96356278, \"best_metric\": 0.96909245}, {\"run_id\": \"AutoML_4f0019bb-ac12-4cb4-98d1-54de9b0b0bfb_28\", \"run_number\": 33, \"metric\": null, \"status\": \"Completed\", \"run_type\": \"azureml.scriptrun\", \"training_percent\": \"100\", \"start_time\": \"2021-01-29T11:27:41.685752Z\", \"end_time\": \"2021-01-29T11:28:49.14957Z\", \"created_time\": \"2021-01-29T11:27:28.482533Z\", \"created_time_dt\": \"2021-01-29T11:27:28.482533Z\", \"duration\": \"0:01:20\", \"iteration\": \"28\", \"goal\": \"accuracy_max\", \"run_name\": \"SparseNormalizer, XGBoostClassifier\", \"run_properties\": \"<azureml.automl.runtime.shared.model_wrappers.SparseNormalizer object at 0x7f1000d8b8d0\", \"primary_metric\": 0.96583383, \"best_metric\": 0.96909245}, {\"run_id\": \"AutoML_4f0019bb-ac12-4cb4-98d1-54de9b0b0bfb_29\", \"run_number\": 34, \"metric\": null, \"status\": \"Completed\", \"run_type\": \"azureml.scriptrun\", \"training_percent\": \"100\", \"start_time\": \"2021-01-29T11:27:46.535945Z\", \"end_time\": \"2021-01-29T11:28:41.062642Z\", \"created_time\": \"2021-01-29T11:27:33.870287Z\", \"created_time_dt\": \"2021-01-29T11:27:33.870287Z\", \"duration\": \"0:01:07\", \"iteration\": \"29\", \"goal\": \"accuracy_max\", \"run_name\": \"SparseNormalizer, LightGBM\", \"run_properties\": \"<azureml.automl.runtime.shared.model_wrappers.SparseNormalizer object at 0x7f0b6d6fe908\", \"primary_metric\": 0.95744067, \"best_metric\": 0.96909245}, {\"run_id\": \"AutoML_4f0019bb-ac12-4cb4-98d1-54de9b0b0bfb_30\", \"run_number\": 35, \"metric\": null, \"status\": \"Completed\", \"run_type\": \"azureml.scriptrun\", \"training_percent\": \"100\", \"start_time\": \"2021-01-29T11:27:56.531725Z\", \"end_time\": \"2021-01-29T11:28:52.825984Z\", \"created_time\": \"2021-01-29T11:27:45.120852Z\", \"created_time_dt\": \"2021-01-29T11:27:45.120852Z\", \"duration\": \"0:01:07\", \"iteration\": \"30\", \"goal\": \"accuracy_max\", \"run_name\": \"MaxAbsScaler, LightGBM\", \"run_properties\": \"copy=True\", \"primary_metric\": 0.84180823, \"best_metric\": 0.96909245}, {\"run_id\": \"AutoML_4f0019bb-ac12-4cb4-98d1-54de9b0b0bfb_31\", \"run_number\": 36, \"metric\": null, \"status\": \"Canceled\", \"run_type\": \"azureml.scriptrun\", \"training_percent\": \"100\", \"start_time\": \"2021-01-29T11:28:59.848213Z\", \"end_time\": \"2021-01-29T11:30:40.391128Z\", \"created_time\": \"2021-01-29T11:28:43.95329Z\", \"created_time_dt\": \"2021-01-29T11:28:43.95329Z\", \"duration\": \"0:01:56\", \"iteration\": \"31\", \"goal\": \"accuracy_max\", \"run_name\": \"StandardScalerWrapper, XGBoostClassifier\", \"run_properties\": \"<azureml.automl.runtime.shared.model_wrappers.StandardScalerWrapper object at 0x7fa81887de48\", \"primary_metric\": 0.96800655, \"best_metric\": 0.96909245}, {\"run_id\": \"AutoML_4f0019bb-ac12-4cb4-98d1-54de9b0b0bfb_33\", \"run_number\": 37, \"metric\": null, \"status\": \"Completed\", \"run_type\": \"azureml.scriptrun\", \"training_percent\": \"100\", \"start_time\": \"2021-01-29T11:29:01.656389Z\", \"end_time\": \"2021-01-29T11:30:04.064116Z\", \"created_time\": \"2021-01-29T11:28:50.119111Z\", \"created_time_dt\": \"2021-01-29T11:28:50.119111Z\", \"duration\": \"0:01:13\", \"iteration\": \"33\", \"goal\": \"accuracy_max\", \"run_name\": \"SparseNormalizer, XGBoostClassifier\", \"run_properties\": \"<azureml.automl.runtime.shared.model_wrappers.SparseNormalizer object at 0x7f885186e518\", \"primary_metric\": 0.96603142, \"best_metric\": 0.96909245}, {\"run_id\": \"AutoML_4f0019bb-ac12-4cb4-98d1-54de9b0b0bfb_32\", \"run_number\": 38, \"metric\": null, \"status\": \"Completed\", \"run_type\": \"azureml.scriptrun\", \"training_percent\": \"100\", \"start_time\": \"2021-01-29T11:29:01.359999Z\", \"end_time\": \"2021-01-29T11:29:57.653956Z\", \"created_time\": \"2021-01-29T11:28:50.151761Z\", \"created_time_dt\": \"2021-01-29T11:28:50.151761Z\", \"duration\": \"0:01:07\", \"iteration\": \"32\", \"goal\": \"accuracy_max\", \"run_name\": \"MaxAbsScaler, LogisticRegression\", \"run_properties\": \"copy=True\", \"primary_metric\": 0.86175584, \"best_metric\": 0.96909245}, {\"run_id\": \"AutoML_4f0019bb-ac12-4cb4-98d1-54de9b0b0bfb_34\", \"run_number\": 39, \"metric\": null, \"status\": \"Completed\", \"run_type\": \"azureml.scriptrun\", \"training_percent\": \"100\", \"start_time\": \"2021-01-29T11:29:08.01706Z\", \"end_time\": \"2021-01-29T11:30:29.98501Z\", \"created_time\": \"2021-01-29T11:28:56.569507Z\", \"created_time_dt\": \"2021-01-29T11:28:56.569507Z\", \"duration\": \"0:01:33\", \"iteration\": \"34\", \"goal\": \"accuracy_max\", \"run_name\": \"MaxAbsScaler, LightGBM\", \"run_properties\": \"copy=True\", \"primary_metric\": 0.95428097, \"best_metric\": 0.96909245}, {\"run_id\": \"AutoML_4f0019bb-ac12-4cb4-98d1-54de9b0b0bfb_35\", \"run_number\": 40, \"metric\": null, \"status\": \"Canceled\", \"run_type\": \"azureml.scriptrun\", \"training_percent\": \"100\", \"start_time\": \"2021-01-29T11:29:09.446891Z\", \"end_time\": \"2021-01-29T11:30:38.583337Z\", \"created_time\": \"2021-01-29T11:28:56.627841Z\", \"created_time_dt\": \"2021-01-29T11:28:56.627841Z\", \"duration\": \"0:01:41\", \"iteration\": \"35\", \"goal\": \"accuracy_max\", \"run_name\": \"SparseNormalizer, XGBoostClassifier\", \"run_properties\": \"<azureml.automl.runtime.shared.model_wrappers.SparseNormalizer object at 0x7f53fbaa0588\", \"primary_metric\": 0.96534003, \"best_metric\": 0.96909245}, {\"run_id\": \"AutoML_4f0019bb-ac12-4cb4-98d1-54de9b0b0bfb_36\", \"run_number\": 41, \"metric\": null, \"status\": \"Canceled\", \"run_type\": \"azureml.scriptrun\", \"training_percent\": \"100\", \"start_time\": \"2021-01-29T11:30:12.221134Z\", \"end_time\": \"2021-01-29T11:30:38.34625Z\", \"created_time\": \"2021-01-29T11:30:00.197482Z\", \"created_time_dt\": \"2021-01-29T11:30:00.197482Z\", \"duration\": \"0:00:38\", \"iteration\": \"36\", \"goal\": null, \"run_name\": \"SparseNormalizer, XGBoostClassifier\", \"run_properties\": null}, {\"run_id\": \"AutoML_4f0019bb-ac12-4cb4-98d1-54de9b0b0bfb_37\", \"run_number\": 42, \"metric\": null, \"status\": \"Canceled\", \"run_type\": \"azureml.scriptrun\", \"training_percent\": \"100\", \"start_time\": \"2021-01-29T11:30:06.837156Z\", \"end_time\": \"2021-01-29T11:30:37.076335Z\", \"created_time\": \"2021-01-29T11:30:06.837156Z\", \"created_time_dt\": \"2021-01-29T11:30:06.837156Z\", \"duration\": \"0:00:30\", \"iteration\": \"37\", \"goal\": null, \"run_name\": \"Canceled\", \"run_properties\": null}, {\"run_id\": \"AutoML_4f0019bb-ac12-4cb4-98d1-54de9b0b0bfb_38\", \"run_number\": 43, \"metric\": null, \"status\": \"Completed\", \"run_type\": \"azureml.scriptrun\", \"training_percent\": \"100\", \"start_time\": \"2021-01-29T11:30:53.371899Z\", \"end_time\": \"2021-01-29T11:33:00.479527Z\", \"created_time\": \"2021-01-29T11:30:41.588921Z\", \"created_time_dt\": \"2021-01-29T11:30:41.588921Z\", \"duration\": \"0:02:18\", \"iteration\": \"38\", \"goal\": \"accuracy_max\", \"run_name\": \"VotingEnsemble\", \"run_properties\": \"classification_labels=None,\\n                              estimators=[('0',\\n                                           Pipeline(memory=None,\\n                                                    steps=[('maxabsscaler',\\n                                                            MaxAbsScaler(copy=True\", \"primary_metric\": 0.97146232, \"best_metric\": 0.97146232}], \"children_metrics\": {\"categories\": [0], \"series\": {\"average_precision_score_micro\": [{\"categories\": [\"0\", \"1\", \"2\", \"3\", \"4\", \"5\", \"6\", \"7\", \"8\", \"9\", \"10\", \"11\", \"12\", \"13\", \"14\", \"15\", \"16\", \"17\", \"18\", \"19\", \"20\", \"21\", \"22\", \"23\", \"24\", \"25\", \"26\", \"27\", \"28\", \"29\", \"30\", \"31\", \"32\", \"33\", \"34\", \"35\", \"38\"], \"mode\": \"markers\", \"name\": \"average_precision_score_micro\", \"stepped\": false, \"type\": \"scatter\", \"data\": [0.9959695159351701, 0.9940395247952728, 0.9524199611688696, 0.9473388249695415, 0.9259918582618929, 0.8792333164357812, 0.9913929490917749, 0.9950718081291913, 0.9951254935036243, 0.9941030827629684, 0.9869312507237037, 0.9739496747723869, 0.9688825372333971, 0.9711198508221875, 0.970346824384673, 0.9543309225735094, 0.9587453735886496, 0.9844115813302586, 0.947779403104438, 0.9842917064205302, 0.9548290583294022, 0.99111836213839, 0.9939859771122489, 0.9563737530327955, 0.9744197159148648, 0.9567245018936342, 0.9956016297483296, 0.9947753104064665, 0.9951278689220334, 0.9926273683507308, 0.9598515708817827, 0.9959395159677508, 0.9361318280092038, 0.9949773200741413, 0.9917524042684643, 0.9950264685996523, 0.9953315924503562]}, {\"categories\": [\"0\", \"1\", \"2\", \"3\", \"4\", \"5\", \"6\", \"7\", \"8\", \"9\", \"10\", \"11\", \"12\", \"13\", \"14\", \"15\", \"16\", \"17\", \"18\", \"19\", \"20\", \"21\", \"22\", \"23\", \"24\", \"25\", \"26\", \"27\", \"28\", \"29\", \"30\", \"31\", \"32\", \"33\", \"34\", \"35\", \"38\"], \"mode\": \"lines\", \"name\": \"average_precision_score_micro_max\", \"stepped\": true, \"type\": \"scatter\", \"data\": [0.9959695159351701, 0.9959695159351701, 0.9959695159351701, 0.9959695159351701, 0.9959695159351701, 0.9959695159351701, 0.9959695159351701, 0.9959695159351701, 0.9959695159351701, 0.9959695159351701, 0.9959695159351701, 0.9959695159351701, 0.9959695159351701, 0.9959695159351701, 0.9959695159351701, 0.9959695159351701, 0.9959695159351701, 0.9959695159351701, 0.9959695159351701, 0.9959695159351701, 0.9959695159351701, 0.9959695159351701, 0.9959695159351701, 0.9959695159351701, 0.9959695159351701, 0.9959695159351701, 0.9959695159351701, 0.9959695159351701, 0.9959695159351701, 0.9959695159351701, 0.9959695159351701, 0.9959695159351701, 0.9959695159351701, 0.9959695159351701, 0.9959695159351701, 0.9959695159351701, 0.9959695159351701]}], \"norm_macro_recall\": [{\"categories\": [\"0\", \"1\", \"2\", \"3\", \"4\", \"5\", \"6\", \"7\", \"8\", \"9\", \"10\", \"11\", \"12\", \"13\", \"14\", \"15\", \"16\", \"17\", \"18\", \"19\", \"20\", \"21\", \"22\", \"23\", \"24\", \"25\", \"26\", \"27\", \"28\", \"29\", \"30\", \"31\", \"32\", \"33\", \"34\", \"35\", \"38\"], \"mode\": \"markers\", \"name\": \"norm_macro_recall\", \"stepped\": false, \"type\": \"scatter\", \"data\": [0.8628086832654799, 0.8080242199286163, 0.1546376319936517, 0.04165641769369577, 0.6901468331424132, 0.6105729297131522, 0.7929807822795952, 0.8251988677349185, 0.8389481878945576, 0.8186321867434362, 0.7428630827122121, 0.5317451984757916, 0.5798897555557597, 0.45701104877258664, 0.4268959886824288, 0.2531382322389119, 0.43937449917905375, 0.6534388147936737, 0.0, 0.6612134042223544, 0.21240902257873584, 0.7823197297763452, 0.8384974646851465, 0.33756560785441486, 0.46842890758687167, 0.0, 0.8518546703474946, 0.8253223867545868, 0.8362241234530323, 0.8021530344605043, 0.01597094441744155, 0.8632262830190006, 0.7064306228982385, 0.8373021017222504, 0.7941389143302571, 0.8341232739515597, 0.8688259803400792]}, {\"categories\": [\"0\", \"1\", \"2\", \"3\", \"4\", \"5\", \"6\", \"7\", \"8\", \"9\", \"10\", \"11\", \"12\", \"13\", \"14\", \"15\", \"16\", \"17\", \"18\", \"19\", \"20\", \"21\", \"22\", \"23\", \"24\", \"25\", \"26\", \"27\", \"28\", \"29\", \"30\", \"31\", \"32\", \"33\", \"34\", \"35\", \"38\"], \"mode\": \"lines\", \"name\": \"norm_macro_recall_max\", \"stepped\": true, \"type\": \"scatter\", \"data\": [0.8628086832654799, 0.8628086832654799, 0.8628086832654799, 0.8628086832654799, 0.8628086832654799, 0.8628086832654799, 0.8628086832654799, 0.8628086832654799, 0.8628086832654799, 0.8628086832654799, 0.8628086832654799, 0.8628086832654799, 0.8628086832654799, 0.8628086832654799, 0.8628086832654799, 0.8628086832654799, 0.8628086832654799, 0.8628086832654799, 0.8628086832654799, 0.8628086832654799, 0.8628086832654799, 0.8628086832654799, 0.8628086832654799, 0.8628086832654799, 0.8628086832654799, 0.8628086832654799, 0.8628086832654799, 0.8628086832654799, 0.8628086832654799, 0.8628086832654799, 0.8628086832654799, 0.8632262830190006, 0.8632262830190006, 0.8632262830190006, 0.8632262830190006, 0.8632262830190006, 0.8688259803400792]}], \"average_precision_score_weighted\": [{\"categories\": [\"0\", \"1\", \"2\", \"3\", \"4\", \"5\", \"6\", \"7\", \"8\", \"9\", \"10\", \"11\", \"12\", \"13\", \"14\", \"15\", \"16\", \"17\", \"18\", \"19\", \"20\", \"21\", \"22\", \"23\", \"24\", \"25\", \"26\", \"27\", \"28\", \"29\", \"30\", \"31\", \"32\", \"33\", \"34\", \"35\", \"38\"], \"mode\": \"markers\", \"name\": \"average_precision_score_weighted\", \"stepped\": false, \"type\": \"scatter\", \"data\": [0.9932731307994235, 0.9903121269032459, 0.9352427038467187, 0.9274906781624965, 0.9461296467361789, 0.9235698102907984, 0.9863391273871396, 0.9921683664203726, 0.992004385517849, 0.990502466389236, 0.9802261898638879, 0.9617880740556156, 0.9514440706706755, 0.9579587514632321, 0.9598764012538249, 0.9352514913896935, 0.9369114849383142, 0.9766284527410968, 0.9286126754880072, 0.9759679381928782, 0.9388050952610447, 0.9845486233160413, 0.9894309109710759, 0.9381997058627224, 0.9636210243661503, 0.9507426401072855, 0.992793840113531, 0.9915175099639928, 0.9920646098526683, 0.9875741165431672, 0.9515370131459159, 0.9930765364261421, 0.9507389583344311, 0.9918638736782608, 0.9860583910361954, 0.9918054576898546, 0.9926053528921255]}, {\"categories\": [\"0\", \"1\", \"2\", \"3\", \"4\", \"5\", \"6\", \"7\", \"8\", \"9\", \"10\", \"11\", \"12\", \"13\", \"14\", \"15\", \"16\", \"17\", \"18\", \"19\", \"20\", \"21\", \"22\", \"23\", \"24\", \"25\", \"26\", \"27\", \"28\", \"29\", \"30\", \"31\", \"32\", \"33\", \"34\", \"35\", \"38\"], \"mode\": \"lines\", \"name\": \"average_precision_score_weighted_max\", \"stepped\": true, \"type\": \"scatter\", \"data\": [0.9932731307994235, 0.9932731307994235, 0.9932731307994235, 0.9932731307994235, 0.9932731307994235, 0.9932731307994235, 0.9932731307994235, 0.9932731307994235, 0.9932731307994235, 0.9932731307994235, 0.9932731307994235, 0.9932731307994235, 0.9932731307994235, 0.9932731307994235, 0.9932731307994235, 0.9932731307994235, 0.9932731307994235, 0.9932731307994235, 0.9932731307994235, 0.9932731307994235, 0.9932731307994235, 0.9932731307994235, 0.9932731307994235, 0.9932731307994235, 0.9932731307994235, 0.9932731307994235, 0.9932731307994235, 0.9932731307994235, 0.9932731307994235, 0.9932731307994235, 0.9932731307994235, 0.9932731307994235, 0.9932731307994235, 0.9932731307994235, 0.9932731307994235, 0.9932731307994235, 0.9932731307994235]}], \"AUC_weighted\": [{\"categories\": [\"0\", \"1\", \"2\", \"3\", \"4\", \"5\", \"6\", \"7\", \"8\", \"9\", \"10\", \"11\", \"12\", \"13\", \"14\", \"15\", \"16\", \"17\", \"18\", \"19\", \"20\", \"21\", \"22\", \"23\", \"24\", \"25\", \"26\", \"27\", \"28\", \"29\", \"30\", \"31\", \"32\", \"33\", \"34\", \"35\", \"38\"], \"mode\": \"markers\", \"name\": \"AUC_weighted\", \"stepped\": false, \"type\": \"scatter\", \"data\": [0.9920575780918782, 0.9888548014173875, 0.9095464579197943, 0.8952608219730603, 0.9227232983773699, 0.8893610590352935, 0.9825238154189558, 0.9907526729577789, 0.9907405862997501, 0.988722082352789, 0.9736525541002377, 0.9499264620356097, 0.9304081708263782, 0.9501347343076607, 0.9509897812171021, 0.910516594378977, 0.9171798208682233, 0.9705450884765292, 0.8975836582298645, 0.9707975473824139, 0.9159752607214303, 0.9825368333494507, 0.9883731309655771, 0.9136942684503029, 0.9540816123298356, 0.9299318780373662, 0.9914801083203812, 0.9903761075764911, 0.9907741577177225, 0.9860742691000136, 0.9382118961643258, 0.9921727198277694, 0.9328348903413689, 0.9906450114233484, 0.9835314812170579, 0.9904921610483473, 0.9907643757100361]}, {\"categories\": [\"0\", \"1\", \"2\", \"3\", \"4\", \"5\", \"6\", \"7\", \"8\", \"9\", \"10\", \"11\", \"12\", \"13\", \"14\", \"15\", \"16\", \"17\", \"18\", \"19\", \"20\", \"21\", \"22\", \"23\", \"24\", \"25\", \"26\", \"27\", \"28\", \"29\", \"30\", \"31\", \"32\", \"33\", \"34\", \"35\", \"38\"], \"mode\": \"lines\", \"name\": \"AUC_weighted_max\", \"stepped\": true, \"type\": \"scatter\", \"data\": [0.9920575780918782, 0.9920575780918782, 0.9920575780918782, 0.9920575780918782, 0.9920575780918782, 0.9920575780918782, 0.9920575780918782, 0.9920575780918782, 0.9920575780918782, 0.9920575780918782, 0.9920575780918782, 0.9920575780918782, 0.9920575780918782, 0.9920575780918782, 0.9920575780918782, 0.9920575780918782, 0.9920575780918782, 0.9920575780918782, 0.9920575780918782, 0.9920575780918782, 0.9920575780918782, 0.9920575780918782, 0.9920575780918782, 0.9920575780918782, 0.9920575780918782, 0.9920575780918782, 0.9920575780918782, 0.9920575780918782, 0.9920575780918782, 0.9920575780918782, 0.9920575780918782, 0.9921727198277694, 0.9921727198277694, 0.9921727198277694, 0.9921727198277694, 0.9921727198277694, 0.9921727198277694]}], \"average_precision_score_macro\": [{\"categories\": [\"0\", \"1\", \"2\", \"3\", \"4\", \"5\", \"6\", \"7\", \"8\", \"9\", \"10\", \"11\", \"12\", \"13\", \"14\", \"15\", \"16\", \"17\", \"18\", \"19\", \"20\", \"21\", \"22\", \"23\", \"24\", \"25\", \"26\", \"27\", \"28\", \"29\", \"30\", \"31\", \"32\", \"33\", \"34\", \"35\", \"38\"], \"mode\": \"markers\", \"name\": \"average_precision_score_macro\", \"stepped\": false, \"type\": \"scatter\", \"data\": [0.9824558950520178, 0.9744367702996622, 0.8430408926318517, 0.8250908338451829, 0.8694039102216232, 0.8202314298523575, 0.965171173805525, 0.9794820588815588, 0.9789588117506662, 0.9751749324301507, 0.9506266723122662, 0.9032981407337345, 0.8826621784533931, 0.8901831860127075, 0.895748059504547, 0.8398644377929353, 0.8455699098367159, 0.9407487363517341, 0.8268008843331999, 0.9377277436951603, 0.8488974590799678, 0.9589431792463822, 0.9717410387338598, 0.8468852762930831, 0.9062180549119508, 0.8800309681706979, 0.9813032494062801, 0.9775597959508442, 0.9791721570361457, 0.9669396140317343, 0.8757850491944182, 0.9818175740656958, 0.8775524228767626, 0.9785680370593788, 0.9634249062479894, 0.9784659645006984, 0.9811961191467349]}, {\"categories\": [\"0\", \"1\", \"2\", \"3\", \"4\", \"5\", \"6\", \"7\", \"8\", \"9\", \"10\", \"11\", \"12\", \"13\", \"14\", \"15\", \"16\", \"17\", \"18\", \"19\", \"20\", \"21\", \"22\", \"23\", \"24\", \"25\", \"26\", \"27\", \"28\", \"29\", \"30\", \"31\", \"32\", \"33\", \"34\", \"35\", \"38\"], \"mode\": \"lines\", \"name\": \"average_precision_score_macro_max\", \"stepped\": true, \"type\": \"scatter\", \"data\": [0.9824558950520178, 0.9824558950520178, 0.9824558950520178, 0.9824558950520178, 0.9824558950520178, 0.9824558950520178, 0.9824558950520178, 0.9824558950520178, 0.9824558950520178, 0.9824558950520178, 0.9824558950520178, 0.9824558950520178, 0.9824558950520178, 0.9824558950520178, 0.9824558950520178, 0.9824558950520178, 0.9824558950520178, 0.9824558950520178, 0.9824558950520178, 0.9824558950520178, 0.9824558950520178, 0.9824558950520178, 0.9824558950520178, 0.9824558950520178, 0.9824558950520178, 0.9824558950520178, 0.9824558950520178, 0.9824558950520178, 0.9824558950520178, 0.9824558950520178, 0.9824558950520178, 0.9824558950520178, 0.9824558950520178, 0.9824558950520178, 0.9824558950520178, 0.9824558950520178, 0.9824558950520178]}], \"recall_score_micro\": [{\"categories\": [\"0\", \"1\", \"2\", \"3\", \"4\", \"5\", \"6\", \"7\", \"8\", \"9\", \"10\", \"11\", \"12\", \"13\", \"14\", \"15\", \"16\", \"17\", \"18\", \"19\", \"20\", \"21\", \"22\", \"23\", \"24\", \"25\", \"26\", \"27\", \"28\", \"29\", \"30\", \"31\", \"32\", \"33\", \"34\", \"35\", \"38\"], \"mode\": \"markers\", \"name\": \"recall_score_micro\", \"stepped\": false, \"type\": \"scatter\", \"data\": [0.9690924463167749, 0.9603042829559417, 0.8607668656017787, 0.8451651161429993, 0.8404252530571646, 0.7829559124685508, 0.9552678895325025, 0.964747791235153, 0.9661300684570827, 0.9624765666140074, 0.9450975659703937, 0.9133997132993974, 0.9116221988180914, 0.8974030191328769, 0.8992786261775203, 0.8752833070036861, 0.8940458720964249, 0.931569276227254, 0.8393396817038207, 0.9348276578316073, 0.87024685506992, 0.9496397519162132, 0.9607979930957814, 0.8823935989702182, 0.9064879176174595, 0.8393396817038207, 0.96780881750629, 0.963562781580949, 0.9658338306711135, 0.9574406705283484, 0.841808232403019, 0.9680065531566321, 0.8617558364051255, 0.966031420045638, 0.9542809665906032, 0.9653400327657832, 0.9714623193493651]}, {\"categories\": [\"0\", \"1\", \"2\", \"3\", \"4\", \"5\", \"6\", \"7\", \"8\", \"9\", \"10\", \"11\", \"12\", \"13\", \"14\", \"15\", \"16\", \"17\", \"18\", \"19\", \"20\", \"21\", \"22\", \"23\", \"24\", \"25\", \"26\", \"27\", \"28\", \"29\", \"30\", \"31\", \"32\", \"33\", \"34\", \"35\", \"38\"], \"mode\": \"lines\", \"name\": \"recall_score_micro_max\", \"stepped\": true, \"type\": \"scatter\", \"data\": [0.9690924463167749, 0.9690924463167749, 0.9690924463167749, 0.9690924463167749, 0.9690924463167749, 0.9690924463167749, 0.9690924463167749, 0.9690924463167749, 0.9690924463167749, 0.9690924463167749, 0.9690924463167749, 0.9690924463167749, 0.9690924463167749, 0.9690924463167749, 0.9690924463167749, 0.9690924463167749, 0.9690924463167749, 0.9690924463167749, 0.9690924463167749, 0.9690924463167749, 0.9690924463167749, 0.9690924463167749, 0.9690924463167749, 0.9690924463167749, 0.9690924463167749, 0.9690924463167749, 0.9690924463167749, 0.9690924463167749, 0.9690924463167749, 0.9690924463167749, 0.9690924463167749, 0.9690924463167749, 0.9690924463167749, 0.9690924463167749, 0.9690924463167749, 0.9690924463167749, 0.9714623193493651]}], \"recall_score_weighted\": [{\"categories\": [\"0\", \"1\", \"2\", \"3\", \"4\", \"5\", \"6\", \"7\", \"8\", \"9\", \"10\", \"11\", \"12\", \"13\", \"14\", \"15\", \"16\", \"17\", \"18\", \"19\", \"20\", \"21\", \"22\", \"23\", \"24\", \"25\", \"26\", \"27\", \"28\", \"29\", \"30\", \"31\", \"32\", \"33\", \"34\", \"35\", \"38\"], \"mode\": \"markers\", \"name\": \"recall_score_weighted\", \"stepped\": false, \"type\": \"scatter\", \"data\": [0.9690924463167749, 0.9603042829559417, 0.8607668656017787, 0.8451651161429993, 0.8404252530571646, 0.7829559124685508, 0.9552678895325025, 0.964747791235153, 0.9661300684570827, 0.9624765666140074, 0.9450975659703937, 0.9133997132993974, 0.9116221988180914, 0.8974030191328769, 0.8992786261775203, 0.8752833070036861, 0.8940458720964249, 0.931569276227254, 0.8393396817038207, 0.9348276578316073, 0.87024685506992, 0.9496397519162132, 0.9607979930957814, 0.8823935989702182, 0.9064879176174595, 0.8393396817038207, 0.96780881750629, 0.963562781580949, 0.9658338306711135, 0.9574406705283484, 0.841808232403019, 0.9680065531566321, 0.8617558364051255, 0.966031420045638, 0.9542809665906032, 0.9653400327657832, 0.9714623193493651]}, {\"categories\": [\"0\", \"1\", \"2\", \"3\", \"4\", \"5\", \"6\", \"7\", \"8\", \"9\", \"10\", \"11\", \"12\", \"13\", \"14\", \"15\", \"16\", \"17\", \"18\", \"19\", \"20\", \"21\", \"22\", \"23\", \"24\", \"25\", \"26\", \"27\", \"28\", \"29\", \"30\", \"31\", \"32\", \"33\", \"34\", \"35\", \"38\"], \"mode\": \"lines\", \"name\": \"recall_score_weighted_max\", \"stepped\": true, \"type\": \"scatter\", \"data\": [0.9690924463167749, 0.9690924463167749, 0.9690924463167749, 0.9690924463167749, 0.9690924463167749, 0.9690924463167749, 0.9690924463167749, 0.9690924463167749, 0.9690924463167749, 0.9690924463167749, 0.9690924463167749, 0.9690924463167749, 0.9690924463167749, 0.9690924463167749, 0.9690924463167749, 0.9690924463167749, 0.9690924463167749, 0.9690924463167749, 0.9690924463167749, 0.9690924463167749, 0.9690924463167749, 0.9690924463167749, 0.9690924463167749, 0.9690924463167749, 0.9690924463167749, 0.9690924463167749, 0.9690924463167749, 0.9690924463167749, 0.9690924463167749, 0.9690924463167749, 0.9690924463167749, 0.9690924463167749, 0.9690924463167749, 0.9690924463167749, 0.9690924463167749, 0.9690924463167749, 0.9714623193493651]}], \"precision_score_macro\": [{\"categories\": [\"0\", \"1\", \"2\", \"3\", \"4\", \"5\", \"6\", \"7\", \"8\", \"9\", \"10\", \"11\", \"12\", \"13\", \"14\", \"15\", \"16\", \"17\", \"18\", \"19\", \"20\", \"21\", \"22\", \"23\", \"24\", \"25\", \"26\", \"27\", \"28\", \"29\", \"30\", \"31\", \"32\", \"33\", \"34\", \"35\", \"38\"], \"mode\": \"markers\", \"name\": \"precision_score_macro\", \"stepped\": false, \"type\": \"scatter\", \"data\": [0.9521154043040085, 0.944764167057652, 0.8750663758000347, 0.5680922538205552, 0.7346777206497914, 0.6873285959869483, 0.933425722830631, 0.9535005185997188, 0.9522701697833892, 0.9480363066634169, 0.9179744534063984, 0.891125806734625, 0.8603580962615537, 0.8567536081102096, 0.88619366780255, 0.8779666292403127, 0.8490376816761084, 0.9081984387421977, 0.41966984085191034, 0.9163316456414717, 0.8876747402781104, 0.9173078341603819, 0.9332969314263552, 0.8491459817846239, 0.8953842805642851, 0.41966984085191034, 0.9523737762795613, 0.9489954689594339, 0.9524461162947396, 0.9367427966886609, 0.899910904824485, 0.9478377020531611, 0.7556275068187993, 0.9525791436262857, 0.9286002254594292, 0.9515904357124993, 0.9580678597446527]}, {\"categories\": [\"0\", \"1\", \"2\", \"3\", \"4\", \"5\", \"6\", \"7\", \"8\", \"9\", \"10\", \"11\", \"12\", \"13\", \"14\", \"15\", \"16\", \"17\", \"18\", \"19\", \"20\", \"21\", \"22\", \"23\", \"24\", \"25\", \"26\", \"27\", \"28\", \"29\", \"30\", \"31\", \"32\", \"33\", \"34\", \"35\", \"38\"], \"mode\": \"lines\", \"name\": \"precision_score_macro_max\", \"stepped\": true, \"type\": \"scatter\", \"data\": [0.9521154043040085, 0.9521154043040085, 0.9521154043040085, 0.9521154043040085, 0.9521154043040085, 0.9521154043040085, 0.9521154043040085, 0.9535005185997188, 0.9535005185997188, 0.9535005185997188, 0.9535005185997188, 0.9535005185997188, 0.9535005185997188, 0.9535005185997188, 0.9535005185997188, 0.9535005185997188, 0.9535005185997188, 0.9535005185997188, 0.9535005185997188, 0.9535005185997188, 0.9535005185997188, 0.9535005185997188, 0.9535005185997188, 0.9535005185997188, 0.9535005185997188, 0.9535005185997188, 0.9535005185997188, 0.9535005185997188, 0.9535005185997188, 0.9535005185997188, 0.9535005185997188, 0.9535005185997188, 0.9535005185997188, 0.9535005185997188, 0.9535005185997188, 0.9535005185997188, 0.9580678597446527]}], \"matthews_correlation\": [{\"categories\": [\"0\", \"1\", \"2\", \"3\", \"4\", \"5\", \"6\", \"7\", \"8\", \"9\", \"10\", \"11\", \"12\", \"13\", \"14\", \"15\", \"16\", \"17\", \"18\", \"19\", \"20\", \"21\", \"22\", \"23\", \"24\", \"25\", \"26\", \"27\", \"28\", \"29\", \"30\", \"31\", \"32\", \"33\", \"34\", \"35\", \"38\"], \"mode\": \"markers\", \"name\": \"matthews_correlation\", \"stepped\": false, \"type\": \"scatter\", \"data\": [0.8832585968336769, 0.8477668255350471, 0.33242011193525584, 0.10078101763069197, 0.5691385122360738, 0.47822773324870793, 0.8289587486195424, 0.8651281206898161, 0.8710946515858794, 0.856462166936624, 0.7877969468387236, 0.6447497991801843, 0.6463904163579098, 0.5705178705027846, 0.5739508387067328, 0.43696077774826136, 0.5535576278802226, 0.7295284383028244, 0.0, 0.7418597531370343, 0.404001184844802, 0.8080254258315159, 0.8524045762495523, 0.48487755235772106, 0.6085347202441982, 0.0, 0.8778891913252463, 0.8608440699704304, 0.8698539908817343, 0.8370382224786503, 0.11035429317962049, 0.8792934453905387, 0.6009035101620971, 0.8705608317562223, 0.8250631214076763, 0.8679512120083407, 0.8921378415532736]}, {\"categories\": [\"0\", \"1\", \"2\", \"3\", \"4\", \"5\", \"6\", \"7\", \"8\", \"9\", \"10\", \"11\", \"12\", \"13\", \"14\", \"15\", \"16\", \"17\", \"18\", \"19\", \"20\", \"21\", \"22\", \"23\", \"24\", \"25\", \"26\", \"27\", \"28\", \"29\", \"30\", \"31\", \"32\", \"33\", \"34\", \"35\", \"38\"], \"mode\": \"lines\", \"name\": \"matthews_correlation_max\", \"stepped\": true, \"type\": \"scatter\", \"data\": [0.8832585968336769, 0.8832585968336769, 0.8832585968336769, 0.8832585968336769, 0.8832585968336769, 0.8832585968336769, 0.8832585968336769, 0.8832585968336769, 0.8832585968336769, 0.8832585968336769, 0.8832585968336769, 0.8832585968336769, 0.8832585968336769, 0.8832585968336769, 0.8832585968336769, 0.8832585968336769, 0.8832585968336769, 0.8832585968336769, 0.8832585968336769, 0.8832585968336769, 0.8832585968336769, 0.8832585968336769, 0.8832585968336769, 0.8832585968336769, 0.8832585968336769, 0.8832585968336769, 0.8832585968336769, 0.8832585968336769, 0.8832585968336769, 0.8832585968336769, 0.8832585968336769, 0.8832585968336769, 0.8832585968336769, 0.8832585968336769, 0.8832585968336769, 0.8832585968336769, 0.8921378415532736]}], \"f1_score_macro\": [{\"categories\": [\"0\", \"1\", \"2\", \"3\", \"4\", \"5\", \"6\", \"7\", \"8\", \"9\", \"10\", \"11\", \"12\", \"13\", \"14\", \"15\", \"16\", \"17\", \"18\", \"19\", \"20\", \"21\", \"22\", \"23\", \"24\", \"25\", \"26\", \"27\", \"28\", \"29\", \"30\", \"31\", \"32\", \"33\", \"34\", \"35\", \"38\"], \"mode\": \"markers\", \"name\": \"f1_score_macro\", \"stepped\": false, \"type\": \"scatter\", \"data\": [0.9413440452905671, 0.9227973818311415, 0.592802109803997, 0.49507706367448073, 0.7650099307901597, 0.7048762067457002, 0.9134434536115066, 0.9315234400928148, 0.9348458020351345, 0.9272707444129678, 0.8921663816017723, 0.8101543907253702, 0.8189109491034415, 0.7705388650381487, 0.7630632779711884, 0.6655363458552558, 0.7616487692031887, 0.8592583610744953, 0.4563222431737475, 0.8656529177778539, 0.6378501521090157, 0.9035196374437025, 0.9260438446350819, 0.7123674370306977, 0.7842920786626527, 0.4563222431737475, 0.9384953734215, 0.9295497735795278, 0.9341644044869922, 0.9176676590465185, 0.4727055421661717, 0.9394742777904854, 0.7872181522832028, 0.9345569226590942, 0.9118669392511215, 0.9332170241569044, 0.945694045012973]}, {\"categories\": [\"0\", \"1\", \"2\", \"3\", \"4\", \"5\", \"6\", \"7\", \"8\", \"9\", \"10\", \"11\", \"12\", \"13\", \"14\", \"15\", \"16\", \"17\", \"18\", \"19\", \"20\", \"21\", \"22\", \"23\", \"24\", \"25\", \"26\", \"27\", \"28\", \"29\", \"30\", \"31\", \"32\", \"33\", \"34\", \"35\", \"38\"], \"mode\": \"lines\", \"name\": \"f1_score_macro_max\", \"stepped\": true, \"type\": \"scatter\", \"data\": [0.9413440452905671, 0.9413440452905671, 0.9413440452905671, 0.9413440452905671, 0.9413440452905671, 0.9413440452905671, 0.9413440452905671, 0.9413440452905671, 0.9413440452905671, 0.9413440452905671, 0.9413440452905671, 0.9413440452905671, 0.9413440452905671, 0.9413440452905671, 0.9413440452905671, 0.9413440452905671, 0.9413440452905671, 0.9413440452905671, 0.9413440452905671, 0.9413440452905671, 0.9413440452905671, 0.9413440452905671, 0.9413440452905671, 0.9413440452905671, 0.9413440452905671, 0.9413440452905671, 0.9413440452905671, 0.9413440452905671, 0.9413440452905671, 0.9413440452905671, 0.9413440452905671, 0.9413440452905671, 0.9413440452905671, 0.9413440452905671, 0.9413440452905671, 0.9413440452905671, 0.945694045012973]}], \"f1_score_weighted\": [{\"categories\": [\"0\", \"1\", \"2\", \"3\", \"4\", \"5\", \"6\", \"7\", \"8\", \"9\", \"10\", \"11\", \"12\", \"13\", \"14\", \"15\", \"16\", \"17\", \"18\", \"19\", \"20\", \"21\", \"22\", \"23\", \"24\", \"25\", \"26\", \"27\", \"28\", \"29\", \"30\", \"31\", \"32\", \"33\", \"34\", \"35\", \"38\"], \"mode\": \"markers\", \"name\": \"f1_score_weighted\", \"stepped\": false, \"type\": \"scatter\", \"data\": [0.9687295920410595, 0.959335006463559, 0.8165919528323228, 0.7802965101764278, 0.8553069205373304, 0.8078607570593764, 0.9542740612996686, 0.9639119242669937, 0.9654932737458966, 0.9616284203231528, 0.943480052066393, 0.905178859353934, 0.9068606023397153, 0.88631651186772, 0.8849338793563856, 0.8452125876205563, 0.882278979316499, 0.9277409560112938, 0.7660348770601465, 0.9310904315531374, 0.8345353758591859, 0.9488329539856711, 0.9604798381071995, 0.8624377493052311, 0.8946038075770654, 0.7660348770601465, 0.9673225183646786, 0.9627814185304376, 0.9651547053713957, 0.9565305654310928, 0.7720930621878578, 0.9677048205877359, 0.8727187154320001, 0.965362993500818, 0.9534005044229255, 0.9646464616299714, 0.9710774727003518]}, {\"categories\": [\"0\", \"1\", \"2\", \"3\", \"4\", \"5\", \"6\", \"7\", \"8\", \"9\", \"10\", \"11\", \"12\", \"13\", \"14\", \"15\", \"16\", \"17\", \"18\", \"19\", \"20\", \"21\", \"22\", \"23\", \"24\", \"25\", \"26\", \"27\", \"28\", \"29\", \"30\", \"31\", \"32\", \"33\", \"34\", \"35\", \"38\"], \"mode\": \"lines\", \"name\": \"f1_score_weighted_max\", \"stepped\": true, \"type\": \"scatter\", \"data\": [0.9687295920410595, 0.9687295920410595, 0.9687295920410595, 0.9687295920410595, 0.9687295920410595, 0.9687295920410595, 0.9687295920410595, 0.9687295920410595, 0.9687295920410595, 0.9687295920410595, 0.9687295920410595, 0.9687295920410595, 0.9687295920410595, 0.9687295920410595, 0.9687295920410595, 0.9687295920410595, 0.9687295920410595, 0.9687295920410595, 0.9687295920410595, 0.9687295920410595, 0.9687295920410595, 0.9687295920410595, 0.9687295920410595, 0.9687295920410595, 0.9687295920410595, 0.9687295920410595, 0.9687295920410595, 0.9687295920410595, 0.9687295920410595, 0.9687295920410595, 0.9687295920410595, 0.9687295920410595, 0.9687295920410595, 0.9687295920410595, 0.9687295920410595, 0.9687295920410595, 0.9710774727003518]}], \"AUC_micro\": [{\"categories\": [\"0\", \"1\", \"2\", \"3\", \"4\", \"5\", \"6\", \"7\", \"8\", \"9\", \"10\", \"11\", \"12\", \"13\", \"14\", \"15\", \"16\", \"17\", \"18\", \"19\", \"20\", \"21\", \"22\", \"23\", \"24\", \"25\", \"26\", \"27\", \"28\", \"29\", \"30\", \"31\", \"32\", \"33\", \"34\", \"35\", \"38\"], \"mode\": \"markers\", \"name\": \"AUC_micro\", \"stepped\": false, \"type\": \"scatter\", \"data\": [0.9959000035607133, 0.9938827586041428, 0.9517660747136848, 0.9462676695049695, 0.9237380385954227, 0.8771555924322154, 0.991231037305235, 0.9949607513920621, 0.9950074137612956, 0.9939695234818312, 0.9868287493972522, 0.9732445452382473, 0.9689290227886426, 0.9698019500318881, 0.9689901488186213, 0.9529784906158042, 0.9598736807697685, 0.9842858755336525, 0.9465488884277363, 0.9838737957105664, 0.9536033320246412, 0.9908435532451988, 0.9938130050436144, 0.954897728447492, 0.973505537055113, 0.955268245876963, 0.995562492076, 0.9946406315503206, 0.9950354229837023, 0.9924176170747251, 0.9575273423364083, 0.9958952801971316, 0.9361554994383646, 0.9948682209718401, 0.9915219820210921, 0.9949203758325127, 0.9953290021377761]}, {\"categories\": [\"0\", \"1\", \"2\", \"3\", \"4\", \"5\", \"6\", \"7\", \"8\", \"9\", \"10\", \"11\", \"12\", \"13\", \"14\", \"15\", \"16\", \"17\", \"18\", \"19\", \"20\", \"21\", \"22\", \"23\", \"24\", \"25\", \"26\", \"27\", \"28\", \"29\", \"30\", \"31\", \"32\", \"33\", \"34\", \"35\", \"38\"], \"mode\": \"lines\", \"name\": \"AUC_micro_max\", \"stepped\": true, \"type\": \"scatter\", \"data\": [0.9959000035607133, 0.9959000035607133, 0.9959000035607133, 0.9959000035607133, 0.9959000035607133, 0.9959000035607133, 0.9959000035607133, 0.9959000035607133, 0.9959000035607133, 0.9959000035607133, 0.9959000035607133, 0.9959000035607133, 0.9959000035607133, 0.9959000035607133, 0.9959000035607133, 0.9959000035607133, 0.9959000035607133, 0.9959000035607133, 0.9959000035607133, 0.9959000035607133, 0.9959000035607133, 0.9959000035607133, 0.9959000035607133, 0.9959000035607133, 0.9959000035607133, 0.9959000035607133, 0.9959000035607133, 0.9959000035607133, 0.9959000035607133, 0.9959000035607133, 0.9959000035607133, 0.9959000035607133, 0.9959000035607133, 0.9959000035607133, 0.9959000035607133, 0.9959000035607133, 0.9959000035607133]}], \"AUC_macro\": [{\"categories\": [\"0\", \"1\", \"2\", \"3\", \"4\", \"5\", \"6\", \"7\", \"8\", \"9\", \"10\", \"11\", \"12\", \"13\", \"14\", \"15\", \"16\", \"17\", \"18\", \"19\", \"20\", \"21\", \"22\", \"23\", \"24\", \"25\", \"26\", \"27\", \"28\", \"29\", \"30\", \"31\", \"32\", \"33\", \"34\", \"35\", \"38\"], \"mode\": \"markers\", \"name\": \"AUC_macro\", \"stepped\": false, \"type\": \"scatter\", \"data\": [0.992057578091878, 0.9888548014173875, 0.9095464579197943, 0.8952608219730603, 0.9227232983773699, 0.8893610590352935, 0.9825238154189558, 0.9907526729577789, 0.9907405862997501, 0.988722082352789, 0.9736525541002378, 0.9499264620356095, 0.9304081708263783, 0.9501347343076606, 0.9509897812171021, 0.9105165943789771, 0.9171798208682233, 0.9705450884765292, 0.8975836582298644, 0.9707975473824139, 0.9159752607214305, 0.9825368333494507, 0.9883731309655771, 0.9136942684503029, 0.9540816123298353, 0.9299318780373662, 0.9914801083203812, 0.9903761075764911, 0.9907741577177225, 0.9860742691000136, 0.9382118961643258, 0.9921727198277693, 0.9328348903413689, 0.9906450114233484, 0.9835314812170579, 0.9904921610483473, 0.9907643757100361]}, {\"categories\": [\"0\", \"1\", \"2\", \"3\", \"4\", \"5\", \"6\", \"7\", \"8\", \"9\", \"10\", \"11\", \"12\", \"13\", \"14\", \"15\", \"16\", \"17\", \"18\", \"19\", \"20\", \"21\", \"22\", \"23\", \"24\", \"25\", \"26\", \"27\", \"28\", \"29\", \"30\", \"31\", \"32\", \"33\", \"34\", \"35\", \"38\"], \"mode\": \"lines\", \"name\": \"AUC_macro_max\", \"stepped\": true, \"type\": \"scatter\", \"data\": [0.992057578091878, 0.992057578091878, 0.992057578091878, 0.992057578091878, 0.992057578091878, 0.992057578091878, 0.992057578091878, 0.992057578091878, 0.992057578091878, 0.992057578091878, 0.992057578091878, 0.992057578091878, 0.992057578091878, 0.992057578091878, 0.992057578091878, 0.992057578091878, 0.992057578091878, 0.992057578091878, 0.992057578091878, 0.992057578091878, 0.992057578091878, 0.992057578091878, 0.992057578091878, 0.992057578091878, 0.992057578091878, 0.992057578091878, 0.992057578091878, 0.992057578091878, 0.992057578091878, 0.992057578091878, 0.992057578091878, 0.9921727198277693, 0.9921727198277693, 0.9921727198277693, 0.9921727198277693, 0.9921727198277693, 0.9921727198277693]}], \"accuracy\": [{\"categories\": [\"0\", \"1\", \"2\", \"3\", \"4\", \"5\", \"6\", \"7\", \"8\", \"9\", \"10\", \"11\", \"12\", \"13\", \"14\", \"15\", \"16\", \"17\", \"18\", \"19\", \"20\", \"21\", \"22\", \"23\", \"24\", \"25\", \"26\", \"27\", \"28\", \"29\", \"30\", \"31\", \"32\", \"33\", \"34\", \"35\", \"38\"], \"mode\": \"markers\", \"name\": \"accuracy\", \"stepped\": false, \"type\": \"scatter\", \"data\": [0.9690924463167749, 0.9603042829559417, 0.8607668656017787, 0.8451651161429993, 0.8404252530571646, 0.7829559124685508, 0.9552678895325025, 0.964747791235153, 0.9661300684570827, 0.9624765666140074, 0.9450975659703937, 0.9133997132993974, 0.9116221988180914, 0.8974030191328769, 0.8992786261775203, 0.8752833070036861, 0.8940458720964249, 0.931569276227254, 0.8393396817038207, 0.9348276578316073, 0.87024685506992, 0.9496397519162132, 0.9607979930957814, 0.8823935989702182, 0.9064879176174595, 0.8393396817038207, 0.96780881750629, 0.963562781580949, 0.9658338306711135, 0.9574406705283484, 0.841808232403019, 0.9680065531566321, 0.8617558364051255, 0.966031420045638, 0.9542809665906032, 0.9653400327657832, 0.9714623193493651]}, {\"categories\": [\"0\", \"1\", \"2\", \"3\", \"4\", \"5\", \"6\", \"7\", \"8\", \"9\", \"10\", \"11\", \"12\", \"13\", \"14\", \"15\", \"16\", \"17\", \"18\", \"19\", \"20\", \"21\", \"22\", \"23\", \"24\", \"25\", \"26\", \"27\", \"28\", \"29\", \"30\", \"31\", \"32\", \"33\", \"34\", \"35\", \"38\"], \"mode\": \"lines\", \"name\": \"accuracy_max\", \"stepped\": true, \"type\": \"scatter\", \"data\": [0.9690924463167749, 0.9690924463167749, 0.9690924463167749, 0.9690924463167749, 0.9690924463167749, 0.9690924463167749, 0.9690924463167749, 0.9690924463167749, 0.9690924463167749, 0.9690924463167749, 0.9690924463167749, 0.9690924463167749, 0.9690924463167749, 0.9690924463167749, 0.9690924463167749, 0.9690924463167749, 0.9690924463167749, 0.9690924463167749, 0.9690924463167749, 0.9690924463167749, 0.9690924463167749, 0.9690924463167749, 0.9690924463167749, 0.9690924463167749, 0.9690924463167749, 0.9690924463167749, 0.9690924463167749, 0.9690924463167749, 0.9690924463167749, 0.9690924463167749, 0.9690924463167749, 0.9690924463167749, 0.9690924463167749, 0.9690924463167749, 0.9690924463167749, 0.9690924463167749, 0.9714623193493651]}], \"precision_score_weighted\": [{\"categories\": [\"0\", \"1\", \"2\", \"3\", \"4\", \"5\", \"6\", \"7\", \"8\", \"9\", \"10\", \"11\", \"12\", \"13\", \"14\", \"15\", \"16\", \"17\", \"18\", \"19\", \"20\", \"21\", \"22\", \"23\", \"24\", \"25\", \"26\", \"27\", \"28\", \"29\", \"30\", \"31\", \"32\", \"33\", \"34\", \"35\", \"38\"], \"mode\": \"markers\", \"name\": \"precision_score_weighted\", \"stepped\": false, \"type\": \"scatter\", \"data\": [0.968675144993376, 0.9595392927993626, 0.8655657216385846, 0.7556261761815483, 0.8923951226212689, 0.8734624822271769, 0.9544061012265962, 0.9641992996300672, 0.9656160736682167, 0.9618203055991188, 0.9437457273755315, 0.9102817072881156, 0.906752766493566, 0.8914185736470861, 0.8969946964390877, 0.8762161337298185, 0.88693693829526, 0.9299093050277364, 0.7045183772507437, 0.933093526854938, 0.8752092386831771, 0.9485614432538977, 0.9603347920843911, 0.8760418981193524, 0.9045848489341309, 0.7045183772507437, 0.9673231093688338, 0.9629408188765288, 0.9653036158933271, 0.9565435001742765, 0.8605171129880169, 0.9675883178058747, 0.898413420728768, 0.9654767572187426, 0.9532359757869916, 0.9647748707868476, 0.9711005627142594]}, {\"categories\": [\"0\", \"1\", \"2\", \"3\", \"4\", \"5\", \"6\", \"7\", \"8\", \"9\", \"10\", \"11\", \"12\", \"13\", \"14\", \"15\", \"16\", \"17\", \"18\", \"19\", \"20\", \"21\", \"22\", \"23\", \"24\", \"25\", \"26\", \"27\", \"28\", \"29\", \"30\", \"31\", \"32\", \"33\", \"34\", \"35\", \"38\"], \"mode\": \"lines\", \"name\": \"precision_score_weighted_max\", \"stepped\": true, \"type\": \"scatter\", \"data\": [0.968675144993376, 0.968675144993376, 0.968675144993376, 0.968675144993376, 0.968675144993376, 0.968675144993376, 0.968675144993376, 0.968675144993376, 0.968675144993376, 0.968675144993376, 0.968675144993376, 0.968675144993376, 0.968675144993376, 0.968675144993376, 0.968675144993376, 0.968675144993376, 0.968675144993376, 0.968675144993376, 0.968675144993376, 0.968675144993376, 0.968675144993376, 0.968675144993376, 0.968675144993376, 0.968675144993376, 0.968675144993376, 0.968675144993376, 0.968675144993376, 0.968675144993376, 0.968675144993376, 0.968675144993376, 0.968675144993376, 0.968675144993376, 0.968675144993376, 0.968675144993376, 0.968675144993376, 0.968675144993376, 0.9711005627142594]}], \"balanced_accuracy\": [{\"categories\": [\"0\", \"1\", \"2\", \"3\", \"4\", \"5\", \"6\", \"7\", \"8\", \"9\", \"10\", \"11\", \"12\", \"13\", \"14\", \"15\", \"16\", \"17\", \"18\", \"19\", \"20\", \"21\", \"22\", \"23\", \"24\", \"25\", \"26\", \"27\", \"28\", \"29\", \"30\", \"31\", \"32\", \"33\", \"34\", \"35\", \"38\"], \"mode\": \"markers\", \"name\": \"balanced_accuracy\", \"stepped\": false, \"type\": \"scatter\", \"data\": [0.9314043416327399, 0.9040121099643081, 0.5773188159968259, 0.5208282088468479, 0.8450734165712066, 0.8052864648565761, 0.8964903911397976, 0.9125994338674591, 0.9194740939472789, 0.909316093371718, 0.871431541356106, 0.7658725992378957, 0.7899448777778799, 0.7285055243862933, 0.7134479943412143, 0.6265691161194559, 0.7196872495895269, 0.8267194073968369, 0.5, 0.8306067021111773, 0.6062045112893679, 0.8911598648881727, 0.9192487323425732, 0.6687828039272073, 0.7342144537934359, 0.5, 0.9259273351737473, 0.9126611933772933, 0.9181120617265162, 0.9010765172302522, 0.5079854722087208, 0.9316131415095003, 0.8532153114491194, 0.9186510508611253, 0.8970694571651285, 0.9170616369757799, 0.9344129901700396]}, {\"categories\": [\"0\", \"1\", \"2\", \"3\", \"4\", \"5\", \"6\", \"7\", \"8\", \"9\", \"10\", \"11\", \"12\", \"13\", \"14\", \"15\", \"16\", \"17\", \"18\", \"19\", \"20\", \"21\", \"22\", \"23\", \"24\", \"25\", \"26\", \"27\", \"28\", \"29\", \"30\", \"31\", \"32\", \"33\", \"34\", \"35\", \"38\"], \"mode\": \"lines\", \"name\": \"balanced_accuracy_max\", \"stepped\": true, \"type\": \"scatter\", \"data\": [0.9314043416327399, 0.9314043416327399, 0.9314043416327399, 0.9314043416327399, 0.9314043416327399, 0.9314043416327399, 0.9314043416327399, 0.9314043416327399, 0.9314043416327399, 0.9314043416327399, 0.9314043416327399, 0.9314043416327399, 0.9314043416327399, 0.9314043416327399, 0.9314043416327399, 0.9314043416327399, 0.9314043416327399, 0.9314043416327399, 0.9314043416327399, 0.9314043416327399, 0.9314043416327399, 0.9314043416327399, 0.9314043416327399, 0.9314043416327399, 0.9314043416327399, 0.9314043416327399, 0.9314043416327399, 0.9314043416327399, 0.9314043416327399, 0.9314043416327399, 0.9314043416327399, 0.9316131415095003, 0.9316131415095003, 0.9316131415095003, 0.9316131415095003, 0.9316131415095003, 0.9344129901700396]}], \"recall_score_macro\": [{\"categories\": [\"0\", \"1\", \"2\", \"3\", \"4\", \"5\", \"6\", \"7\", \"8\", \"9\", \"10\", \"11\", \"12\", \"13\", \"14\", \"15\", \"16\", \"17\", \"18\", \"19\", \"20\", \"21\", \"22\", \"23\", \"24\", \"25\", \"26\", \"27\", \"28\", \"29\", \"30\", \"31\", \"32\", \"33\", \"34\", \"35\", \"38\"], \"mode\": \"markers\", \"name\": \"recall_score_macro\", \"stepped\": false, \"type\": \"scatter\", \"data\": [0.9314043416327399, 0.9040121099643081, 0.5773188159968259, 0.5208282088468479, 0.8450734165712066, 0.8052864648565761, 0.8964903911397976, 0.9125994338674591, 0.9194740939472789, 0.909316093371718, 0.871431541356106, 0.7658725992378957, 0.7899448777778799, 0.7285055243862933, 0.7134479943412143, 0.6265691161194559, 0.7196872495895269, 0.8267194073968369, 0.5, 0.8306067021111773, 0.6062045112893679, 0.8911598648881727, 0.9192487323425732, 0.6687828039272073, 0.7342144537934359, 0.5, 0.9259273351737473, 0.9126611933772933, 0.9181120617265162, 0.9010765172302522, 0.5079854722087208, 0.9316131415095003, 0.8532153114491194, 0.9186510508611253, 0.8970694571651285, 0.9170616369757799, 0.9344129901700396]}, {\"categories\": [\"0\", \"1\", \"2\", \"3\", \"4\", \"5\", \"6\", \"7\", \"8\", \"9\", \"10\", \"11\", \"12\", \"13\", \"14\", \"15\", \"16\", \"17\", \"18\", \"19\", \"20\", \"21\", \"22\", \"23\", \"24\", \"25\", \"26\", \"27\", \"28\", \"29\", \"30\", \"31\", \"32\", \"33\", \"34\", \"35\", \"38\"], \"mode\": \"lines\", \"name\": \"recall_score_macro_max\", \"stepped\": true, \"type\": \"scatter\", \"data\": [0.9314043416327399, 0.9314043416327399, 0.9314043416327399, 0.9314043416327399, 0.9314043416327399, 0.9314043416327399, 0.9314043416327399, 0.9314043416327399, 0.9314043416327399, 0.9314043416327399, 0.9314043416327399, 0.9314043416327399, 0.9314043416327399, 0.9314043416327399, 0.9314043416327399, 0.9314043416327399, 0.9314043416327399, 0.9314043416327399, 0.9314043416327399, 0.9314043416327399, 0.9314043416327399, 0.9314043416327399, 0.9314043416327399, 0.9314043416327399, 0.9314043416327399, 0.9314043416327399, 0.9314043416327399, 0.9314043416327399, 0.9314043416327399, 0.9314043416327399, 0.9314043416327399, 0.9316131415095003, 0.9316131415095003, 0.9316131415095003, 0.9316131415095003, 0.9316131415095003, 0.9344129901700396]}], \"log_loss\": [{\"categories\": [\"0\", \"1\", \"2\", \"3\", \"4\", \"5\", \"6\", \"7\", \"8\", \"9\", \"10\", \"11\", \"12\", \"13\", \"14\", \"15\", \"16\", \"17\", \"18\", \"19\", \"20\", \"21\", \"22\", \"23\", \"24\", \"25\", \"26\", \"27\", \"28\", \"29\", \"30\", \"31\", \"32\", \"33\", \"34\", \"35\", \"38\"], \"mode\": \"markers\", \"name\": \"log_loss\", \"stepped\": false, \"type\": \"scatter\", \"data\": [0.0803901865488858, 0.1105145632393635, 0.2999703039953125, 0.32728413520788024, 0.4617932323325573, 0.5321614930828426, 0.14717467317079877, 0.09330998839490913, 0.09160078892614475, 0.10527354662461168, 0.3016359814093408, 0.22696743194544702, 0.22469380433129768, 0.24310890185744782, 0.2573778209684448, 0.2978130776552924, 0.37622933285312427, 0.3179262193546441, 0.3207550427970851, 0.20743420144227068, 0.3000133040326714, 0.12600209447941094, 0.10147259783804126, 0.29082531069033973, 0.23126465116467954, 0.4408053549663096, 0.08808926948701058, 0.1035178482538744, 0.09142743359266133, 0.12079607814410848, 0.32348008521182453, 0.08101232403525162, 0.32437692441927246, 0.0932210622997981, 0.11913421284924532, 0.0919364201765127, 0.1392896607354838]}, {\"categories\": [\"0\", \"1\", \"2\", \"3\", \"4\", \"5\", \"6\", \"7\", \"8\", \"9\", \"10\", \"11\", \"12\", \"13\", \"14\", \"15\", \"16\", \"17\", \"18\", \"19\", \"20\", \"21\", \"22\", \"23\", \"24\", \"25\", \"26\", \"27\", \"28\", \"29\", \"30\", \"31\", \"32\", \"33\", \"34\", \"35\", \"38\"], \"mode\": \"lines\", \"name\": \"log_loss_min\", \"stepped\": true, \"type\": \"scatter\", \"data\": [0.0803901865488858, 0.0803901865488858, 0.0803901865488858, 0.0803901865488858, 0.0803901865488858, 0.0803901865488858, 0.0803901865488858, 0.0803901865488858, 0.0803901865488858, 0.0803901865488858, 0.0803901865488858, 0.0803901865488858, 0.0803901865488858, 0.0803901865488858, 0.0803901865488858, 0.0803901865488858, 0.0803901865488858, 0.0803901865488858, 0.0803901865488858, 0.0803901865488858, 0.0803901865488858, 0.0803901865488858, 0.0803901865488858, 0.0803901865488858, 0.0803901865488858, 0.0803901865488858, 0.0803901865488858, 0.0803901865488858, 0.0803901865488858, 0.0803901865488858, 0.0803901865488858, 0.0803901865488858, 0.0803901865488858, 0.0803901865488858, 0.0803901865488858, 0.0803901865488858, 0.0803901865488858]}], \"precision_score_micro\": [{\"categories\": [\"0\", \"1\", \"2\", \"3\", \"4\", \"5\", \"6\", \"7\", \"8\", \"9\", \"10\", \"11\", \"12\", \"13\", \"14\", \"15\", \"16\", \"17\", \"18\", \"19\", \"20\", \"21\", \"22\", \"23\", \"24\", \"25\", \"26\", \"27\", \"28\", \"29\", \"30\", \"31\", \"32\", \"33\", \"34\", \"35\", \"38\"], \"mode\": \"markers\", \"name\": \"precision_score_micro\", \"stepped\": false, \"type\": \"scatter\", \"data\": [0.9690924463167749, 0.9603042829559417, 0.8607668656017787, 0.8451651161429993, 0.8404252530571646, 0.7829559124685508, 0.9552678895325025, 0.964747791235153, 0.9661300684570827, 0.9624765666140074, 0.9450975659703937, 0.9133997132993974, 0.9116221988180914, 0.8974030191328769, 0.8992786261775203, 0.8752833070036861, 0.8940458720964249, 0.931569276227254, 0.8393396817038207, 0.9348276578316073, 0.87024685506992, 0.9496397519162132, 0.9607979930957814, 0.8823935989702182, 0.9064879176174595, 0.8393396817038207, 0.96780881750629, 0.963562781580949, 0.9658338306711135, 0.9574406705283484, 0.841808232403019, 0.9680065531566321, 0.8617558364051255, 0.966031420045638, 0.9542809665906032, 0.9653400327657832, 0.9714623193493651]}, {\"categories\": [\"0\", \"1\", \"2\", \"3\", \"4\", \"5\", \"6\", \"7\", \"8\", \"9\", \"10\", \"11\", \"12\", \"13\", \"14\", \"15\", \"16\", \"17\", \"18\", \"19\", \"20\", \"21\", \"22\", \"23\", \"24\", \"25\", \"26\", \"27\", \"28\", \"29\", \"30\", \"31\", \"32\", \"33\", \"34\", \"35\", \"38\"], \"mode\": \"lines\", \"name\": \"precision_score_micro_max\", \"stepped\": true, \"type\": \"scatter\", \"data\": [0.9690924463167749, 0.9690924463167749, 0.9690924463167749, 0.9690924463167749, 0.9690924463167749, 0.9690924463167749, 0.9690924463167749, 0.9690924463167749, 0.9690924463167749, 0.9690924463167749, 0.9690924463167749, 0.9690924463167749, 0.9690924463167749, 0.9690924463167749, 0.9690924463167749, 0.9690924463167749, 0.9690924463167749, 0.9690924463167749, 0.9690924463167749, 0.9690924463167749, 0.9690924463167749, 0.9690924463167749, 0.9690924463167749, 0.9690924463167749, 0.9690924463167749, 0.9690924463167749, 0.9690924463167749, 0.9690924463167749, 0.9690924463167749, 0.9690924463167749, 0.9690924463167749, 0.9690924463167749, 0.9690924463167749, 0.9690924463167749, 0.9690924463167749, 0.9690924463167749, 0.9714623193493651]}], \"weighted_accuracy\": [{\"categories\": [\"0\", \"1\", \"2\", \"3\", \"4\", \"5\", \"6\", \"7\", \"8\", \"9\", \"10\", \"11\", \"12\", \"13\", \"14\", \"15\", \"16\", \"17\", \"18\", \"19\", \"20\", \"21\", \"22\", \"23\", \"24\", \"25\", \"26\", \"27\", \"28\", \"29\", \"30\", \"31\", \"32\", \"33\", \"34\", \"35\", \"38\"], \"mode\": \"markers\", \"name\": \"weighted_accuracy\", \"stepped\": false, \"type\": \"scatter\", \"data\": [0.9830073442583588, 0.9810769896365579, 0.9656642575121385, 0.9649415063497448, 0.8387516669603402, 0.7747524005824501, 0.9770163619147145, 0.9839831993499796, 0.9833632490354275, 0.9821036810715481, 0.9723193277034966, 0.9678908628192988, 0.9565824274698912, 0.9598638333102215, 0.9679686797962445, 0.9671768115297619, 0.9583306875181371, 0.9703389077430241, 0.9645956071695932, 0.9733454888291962, 0.9678748965619492, 0.9712140550113953, 0.9761425537600755, 0.9613329843134624, 0.9699891144429494, 0.9645956071695932, 0.9832761605352035, 0.9823428698467417, 0.983477091686865, 0.9782465784092854, 0.965043025515349, 0.9814058976920105, 0.8649708862129203, 0.9835251997257236, 0.9753588255970653, 0.9831832240979582, 0.9851729979984016]}, {\"categories\": [\"0\", \"1\", \"2\", \"3\", \"4\", \"5\", \"6\", \"7\", \"8\", \"9\", \"10\", \"11\", \"12\", \"13\", \"14\", \"15\", \"16\", \"17\", \"18\", \"19\", \"20\", \"21\", \"22\", \"23\", \"24\", \"25\", \"26\", \"27\", \"28\", \"29\", \"30\", \"31\", \"32\", \"33\", \"34\", \"35\", \"38\"], \"mode\": \"lines\", \"name\": \"weighted_accuracy_max\", \"stepped\": true, \"type\": \"scatter\", \"data\": [0.9830073442583588, 0.9830073442583588, 0.9830073442583588, 0.9830073442583588, 0.9830073442583588, 0.9830073442583588, 0.9830073442583588, 0.9839831993499796, 0.9839831993499796, 0.9839831993499796, 0.9839831993499796, 0.9839831993499796, 0.9839831993499796, 0.9839831993499796, 0.9839831993499796, 0.9839831993499796, 0.9839831993499796, 0.9839831993499796, 0.9839831993499796, 0.9839831993499796, 0.9839831993499796, 0.9839831993499796, 0.9839831993499796, 0.9839831993499796, 0.9839831993499796, 0.9839831993499796, 0.9839831993499796, 0.9839831993499796, 0.9839831993499796, 0.9839831993499796, 0.9839831993499796, 0.9839831993499796, 0.9839831993499796, 0.9839831993499796, 0.9839831993499796, 0.9839831993499796, 0.9851729979984016]}], \"f1_score_micro\": [{\"categories\": [\"0\", \"1\", \"2\", \"3\", \"4\", \"5\", \"6\", \"7\", \"8\", \"9\", \"10\", \"11\", \"12\", \"13\", \"14\", \"15\", \"16\", \"17\", \"18\", \"19\", \"20\", \"21\", \"22\", \"23\", \"24\", \"25\", \"26\", \"27\", \"28\", \"29\", \"30\", \"31\", \"32\", \"33\", \"34\", \"35\", \"38\"], \"mode\": \"markers\", \"name\": \"f1_score_micro\", \"stepped\": false, \"type\": \"scatter\", \"data\": [0.9690924463167749, 0.9603042829559417, 0.8607668656017787, 0.8451651161429993, 0.8404252530571646, 0.7829559124685508, 0.9552678895325025, 0.964747791235153, 0.9661300684570827, 0.9624765666140074, 0.9450975659703937, 0.9133997132993974, 0.9116221988180914, 0.8974030191328769, 0.8992786261775203, 0.8752833070036861, 0.8940458720964249, 0.931569276227254, 0.8393396817038208, 0.9348276578316073, 0.87024685506992, 0.9496397519162132, 0.9607979930957814, 0.8823935989702183, 0.9064879176174595, 0.8393396817038208, 0.96780881750629, 0.963562781580949, 0.9658338306711135, 0.9574406705283484, 0.841808232403019, 0.9680065531566321, 0.8617558364051255, 0.966031420045638, 0.9542809665906032, 0.9653400327657832, 0.9714623193493651]}, {\"categories\": [\"0\", \"1\", \"2\", \"3\", \"4\", \"5\", \"6\", \"7\", \"8\", \"9\", \"10\", \"11\", \"12\", \"13\", \"14\", \"15\", \"16\", \"17\", \"18\", \"19\", \"20\", \"21\", \"22\", \"23\", \"24\", \"25\", \"26\", \"27\", \"28\", \"29\", \"30\", \"31\", \"32\", \"33\", \"34\", \"35\", \"38\"], \"mode\": \"lines\", \"name\": \"f1_score_micro_max\", \"stepped\": true, \"type\": \"scatter\", \"data\": [0.9690924463167749, 0.9690924463167749, 0.9690924463167749, 0.9690924463167749, 0.9690924463167749, 0.9690924463167749, 0.9690924463167749, 0.9690924463167749, 0.9690924463167749, 0.9690924463167749, 0.9690924463167749, 0.9690924463167749, 0.9690924463167749, 0.9690924463167749, 0.9690924463167749, 0.9690924463167749, 0.9690924463167749, 0.9690924463167749, 0.9690924463167749, 0.9690924463167749, 0.9690924463167749, 0.9690924463167749, 0.9690924463167749, 0.9690924463167749, 0.9690924463167749, 0.9690924463167749, 0.9690924463167749, 0.9690924463167749, 0.9690924463167749, 0.9690924463167749, 0.9690924463167749, 0.9690924463167749, 0.9690924463167749, 0.9690924463167749, 0.9690924463167749, 0.9690924463167749, 0.9714623193493651]}]}, \"metricName\": null, \"primaryMetricName\": \"accuracy\", \"showLegend\": false}, \"run_metrics\": [{\"name\": \"experiment_status\", \"run_id\": \"AutoML_4f0019bb-ac12-4cb4-98d1-54de9b0b0bfb\", \"categories\": [0, 1, 2, 3, 4, 5, 6, 7, 8, 9, 10, 11, 12, 13, 14], \"series\": [{\"data\": [\"DatasetEvaluation\", \"FeaturesGeneration\", \"DatasetFeaturization\", \"DatasetFeaturizationCompleted\", \"DatasetBalancing\", \"DatasetCrossValidationSplit\", \"ModelSelection\", \"BestRunExplainModel\", \"ModelExplanationDataSetSetup\", \"PickSurrogateModel\", \"EngineeredFeatureExplanations\", \"EngineeredFeatureExplanations\", \"RawFeaturesExplanations\", \"RawFeaturesExplanations\", \"BestRunExplainModel\"]}]}, {\"name\": \"experiment_status_description\", \"run_id\": \"AutoML_4f0019bb-ac12-4cb4-98d1-54de9b0b0bfb\", \"categories\": [0, 1, 2, 3, 4, 5, 6, 7, 8, 9, 10, 11, 12, 13, 14], \"series\": [{\"data\": [\"Gathering dataset statistics.\", \"Generating features for the dataset.\", \"Beginning to fit featurizers and featurize the dataset.\", \"Completed fit featurizers and featurizing the dataset.\", \"Performing class balancing sweeping\", \"Generating individually featurized CV splits.\", \"Beginning model selection.\", \"Best run model explanations started\", \"Model explanations data setup completed\", \"Choosing LightGBM as the surrogate model for explanations\", \"Computation of engineered features started\", \"Computation of engineered features completed\", \"Computation of raw features started\", \"Computation of raw features completed\", \"Best run model explanations completed\"]}]}, {\"name\": \"accuracy\", \"run_id\": \"AutoML_4f0019bb-ac12-4cb4-98d1-54de9b0b0bfb\", \"categories\": [0], \"series\": [{\"data\": [0.9714623193493651]}]}, {\"name\": \"recall_score_macro\", \"run_id\": \"AutoML_4f0019bb-ac12-4cb4-98d1-54de9b0b0bfb\", \"categories\": [0], \"series\": [{\"data\": [0.9344129901700396]}]}, {\"name\": \"f1_score_weighted\", \"run_id\": \"AutoML_4f0019bb-ac12-4cb4-98d1-54de9b0b0bfb\", \"categories\": [0], \"series\": [{\"data\": [0.9710774727003518]}]}, {\"name\": \"average_precision_score_weighted\", \"run_id\": \"AutoML_4f0019bb-ac12-4cb4-98d1-54de9b0b0bfb\", \"categories\": [0], \"series\": [{\"data\": [0.9926053528921255]}]}, {\"name\": \"AUC_macro\", \"run_id\": \"AutoML_4f0019bb-ac12-4cb4-98d1-54de9b0b0bfb\", \"categories\": [0], \"series\": [{\"data\": [0.9907643757100361]}]}, {\"name\": \"average_precision_score_micro\", \"run_id\": \"AutoML_4f0019bb-ac12-4cb4-98d1-54de9b0b0bfb\", \"categories\": [0], \"series\": [{\"data\": [0.9953315924503562]}]}, {\"name\": \"balanced_accuracy\", \"run_id\": \"AutoML_4f0019bb-ac12-4cb4-98d1-54de9b0b0bfb\", \"categories\": [0], \"series\": [{\"data\": [0.9344129901700396]}]}, {\"name\": \"recall_score_micro\", \"run_id\": \"AutoML_4f0019bb-ac12-4cb4-98d1-54de9b0b0bfb\", \"categories\": [0], \"series\": [{\"data\": [0.9714623193493651]}]}, {\"name\": \"log_loss\", \"run_id\": \"AutoML_4f0019bb-ac12-4cb4-98d1-54de9b0b0bfb\", \"categories\": [0], \"series\": [{\"data\": [0.1392896607354838]}]}, {\"name\": \"recall_score_weighted\", \"run_id\": \"AutoML_4f0019bb-ac12-4cb4-98d1-54de9b0b0bfb\", \"categories\": [0], \"series\": [{\"data\": [0.9714623193493651]}]}, {\"name\": \"precision_score_macro\", \"run_id\": \"AutoML_4f0019bb-ac12-4cb4-98d1-54de9b0b0bfb\", \"categories\": [0], \"series\": [{\"data\": [0.9580678597446527]}]}, {\"name\": \"AUC_micro\", \"run_id\": \"AutoML_4f0019bb-ac12-4cb4-98d1-54de9b0b0bfb\", \"categories\": [0], \"series\": [{\"data\": [0.9953290021377761]}]}, {\"name\": \"precision_score_weighted\", \"run_id\": \"AutoML_4f0019bb-ac12-4cb4-98d1-54de9b0b0bfb\", \"categories\": [0], \"series\": [{\"data\": [0.9711005627142594]}]}, {\"name\": \"AUC_weighted\", \"run_id\": \"AutoML_4f0019bb-ac12-4cb4-98d1-54de9b0b0bfb\", \"categories\": [0], \"series\": [{\"data\": [0.9907643757100361]}]}, {\"name\": \"matthews_correlation\", \"run_id\": \"AutoML_4f0019bb-ac12-4cb4-98d1-54de9b0b0bfb\", \"categories\": [0], \"series\": [{\"data\": [0.8921378415532736]}]}, {\"name\": \"f1_score_micro\", \"run_id\": \"AutoML_4f0019bb-ac12-4cb4-98d1-54de9b0b0bfb\", \"categories\": [0], \"series\": [{\"data\": [0.9714623193493651]}]}, {\"name\": \"average_precision_score_macro\", \"run_id\": \"AutoML_4f0019bb-ac12-4cb4-98d1-54de9b0b0bfb\", \"categories\": [0], \"series\": [{\"data\": [0.9811961191467349]}]}, {\"name\": \"f1_score_macro\", \"run_id\": \"AutoML_4f0019bb-ac12-4cb4-98d1-54de9b0b0bfb\", \"categories\": [0], \"series\": [{\"data\": [0.945694045012973]}]}, {\"name\": \"weighted_accuracy\", \"run_id\": \"AutoML_4f0019bb-ac12-4cb4-98d1-54de9b0b0bfb\", \"categories\": [0], \"series\": [{\"data\": [0.9851729979984016]}]}, {\"name\": \"precision_score_micro\", \"run_id\": \"AutoML_4f0019bb-ac12-4cb4-98d1-54de9b0b0bfb\", \"categories\": [0], \"series\": [{\"data\": [0.9714623193493651]}]}, {\"name\": \"norm_macro_recall\", \"run_id\": \"AutoML_4f0019bb-ac12-4cb4-98d1-54de9b0b0bfb\", \"categories\": [0], \"series\": [{\"data\": [0.8688259803400792]}]}], \"run_logs\": \"\\nRun is completed.\", \"graph\": {}, \"widget_settings\": {\"childWidgetDisplay\": \"popup\", \"send_telemetry\": false, \"log_level\": \"INFO\", \"sdk_version\": \"1.20.0\"}, \"loading\": false}"
          },
          "metadata": {}
        }
      ],
      "execution_count": 6,
      "metadata": {
        "gather": {
          "logged": 1611918826786
        }
      }
    },
    {
      "cell_type": "code",
      "source": [
        "remote_run.wait_for_completion(show_output = True)"
      ],
      "outputs": [
        {
          "output_type": "stream",
          "name": "stdout",
          "text": [
            "\n",
            "Current status: ModelSelection. Beginning model selection.\n",
            "\n",
            "****************************************************************************************************\n",
            "DATA GUARDRAILS: \n",
            "\n",
            "TYPE:         Class balancing detection\n",
            "STATUS:       ALERTED\n",
            "DESCRIPTION:  To decrease model bias, please cancel the current run and fix balancing problem.\n",
            "              Learn more about imbalanced data: https://aka.ms/AutomatedMLImbalancedData\n",
            "DETAILS:      Imbalanced data can lead to a falsely perceived positive effect of a model's accuracy because the input data has bias towards one class.\n",
            "+---------------------------------+---------------------------------+--------------------------------------+\n",
            "|Size of the smallest class       |Name/Label of the smallest class |Number of samples in the training data|\n",
            "+=================================+=================================+======================================+\n",
            "|1627                             |Attrited Customer                |10127                                 |\n",
            "+---------------------------------+---------------------------------+--------------------------------------+\n",
            "\n",
            "****************************************************************************************************\n",
            "\n",
            "TYPE:         Missing feature values imputation\n",
            "STATUS:       PASSED\n",
            "DESCRIPTION:  No feature missing values were detected in the training data.\n",
            "              Learn more about missing value imputation: https://aka.ms/AutomatedMLFeaturization\n",
            "\n",
            "****************************************************************************************************\n",
            "\n",
            "TYPE:         High cardinality feature detection\n",
            "STATUS:       PASSED\n",
            "DESCRIPTION:  Your inputs were analyzed, and no high cardinality features were detected.\n",
            "              Learn more about high cardinality feature handling: https://aka.ms/AutomatedMLFeaturization\n",
            "\n",
            "****************************************************************************************************\n",
            "\n",
            "****************************************************************************************************\n",
            "ITERATION: The iteration being evaluated.\n",
            "PIPELINE: A summary description of the pipeline being evaluated.\n",
            "DURATION: Time taken for the current iteration.\n",
            "METRIC: The result of computing score on the fitted pipeline.\n",
            "BEST: The best observed score thus far.\n",
            "****************************************************************************************************\n",
            "\n",
            " ITERATION   PIPELINE                                       DURATION      METRIC      BEST\n",
            "         0   MaxAbsScaler LightGBM                          0:00:59       0.9691    0.9691\n",
            "         1   MaxAbsScaler XGBoostClassifier                 0:00:59       0.9603    0.9691\n",
            "         2   MaxAbsScaler RandomForest                      0:00:55       0.8608    0.9691\n",
            "         3   MaxAbsScaler RandomForest                      0:01:02       0.8452    0.9691\n",
            "         4   MaxAbsScaler RandomForest                      0:00:59       0.8404    0.9691\n",
            "         5   MaxAbsScaler RandomForest                      0:00:57       0.7830    0.9691\n",
            "         6   SparseNormalizer XGBoostClassifier             0:01:04       0.9553    0.9691\n",
            "         7   SparseNormalizer XGBoostClassifier             0:01:43       0.9647    0.9691\n",
            "         8   SparseNormalizer XGBoostClassifier             0:01:41       0.9661    0.9691\n",
            "         9   SparseNormalizer XGBoostClassifier             0:01:39       0.9625    0.9691\n",
            "        10   SparseNormalizer XGBoostClassifier             0:00:50       0.9451    0.9691\n",
            "        11   MaxAbsScaler GradientBoosting                  0:00:56       0.9134    0.9691\n",
            "        12   MaxAbsScaler LogisticRegression                0:00:58       0.9116    0.9691\n",
            "        13   StandardScalerWrapper RandomForest             0:00:55       0.8974    0.9691\n",
            "        14   MaxAbsScaler LightGBM                          0:00:53       0.8993    0.9691\n",
            "        15   MaxAbsScaler ExtremeRandomTrees                0:01:24       0.8753    0.9691\n",
            "        16   StandardScalerWrapper XGBoostClassifier        0:00:56       0.8940    0.9691\n",
            "        17   SparseNormalizer XGBoostClassifier             0:01:16       0.9316    0.9691\n",
            "        18   MaxAbsScaler ExtremeRandomTrees                0:01:20       0.8393    0.9691\n",
            "        19   SparseNormalizer XGBoostClassifier             0:01:10       0.9348    0.9691\n",
            "        20   MaxAbsScaler ExtremeRandomTrees                0:01:04       0.8702    0.9691\n",
            "        21   MaxAbsScaler LightGBM                          0:00:54       0.9496    0.9691\n",
            "        22   StandardScalerWrapper LightGBM                 0:00:55       0.9608    0.9691\n",
            "        23   MaxAbsScaler ExtremeRandomTrees                0:00:59       0.8824    0.9691\n",
            "        24   MaxAbsScaler LightGBM                          0:00:56       0.9065    0.9691\n",
            "        25   MaxAbsScaler LightGBM                          0:00:58       0.8393    0.9691\n",
            "        26   SparseNormalizer XGBoostClassifier             0:01:58       0.9678    0.9691\n",
            "        27   StandardScalerWrapper XGBoostClassifier        0:01:10       0.9636    0.9691\n",
            "        28   SparseNormalizer XGBoostClassifier             0:01:07       0.9658    0.9691\n",
            "        29   SparseNormalizer LightGBM                      0:00:55       0.9574    0.9691\n",
            "        30   MaxAbsScaler LightGBM                          0:00:56       0.8418    0.9691\n",
            "        32   MaxAbsScaler LogisticRegression                0:00:56       0.8618    0.9691\n",
            "        33   SparseNormalizer XGBoostClassifier             0:01:02       0.9660    0.9691\n",
            "        34   MaxAbsScaler LightGBM                          0:01:22       0.9543    0.9691\n",
            "        31   StandardScalerWrapper XGBoostClassifier        0:01:41       0.9680    0.9691\n",
            "        35   SparseNormalizer XGBoostClassifier             0:01:29       0.9653    0.9691\n",
            "        36   SparseNormalizer XGBoostClassifier             0:00:26          nan    0.9691\n",
            "        37                                                  0:00:30          nan    0.9691\n",
            "        38    VotingEnsemble                                0:02:07       0.9715    0.9715\n"
          ]
        },
        {
          "output_type": "execute_result",
          "execution_count": 7,
          "data": {
            "text/plain": "{'runId': 'AutoML_4f0019bb-ac12-4cb4-98d1-54de9b0b0bfb',\n 'target': 'demo-cluster',\n 'status': 'Completed',\n 'startTimeUtc': '2021-01-29T11:14:00.76141Z',\n 'endTimeUtc': '2021-01-29T11:33:07.236659Z',\n 'properties': {'num_iterations': '1000',\n  'training_type': 'TrainFull',\n  'acquisition_function': 'EI',\n  'primary_metric': 'accuracy',\n  'train_split': '0',\n  'acquisition_parameter': '0',\n  'num_cross_validation': '3',\n  'target': 'demo-cluster',\n  'AMLSettingsJsonString': '{\"path\":null,\"name\":\"demo-automl-experiment\",\"subscription_id\":\"6b4af8be-9931-443e-90f6-c4c34a1f9737\",\"resource_group\":\"aml-quickstarts-136499\",\"workspace_name\":\"quick-starts-ws-136499\",\"region\":\"southcentralus\",\"compute_target\":\"demo-cluster\",\"spark_service\":null,\"azure_service\":\"remote\",\"many_models\":false,\"pipeline_fetch_max_batch_size\":1,\"iterations\":1000,\"primary_metric\":\"accuracy\",\"task_type\":\"classification\",\"data_script\":null,\"validation_size\":0.0,\"n_cross_validations\":3,\"y_min\":null,\"y_max\":null,\"num_classes\":null,\"featurization\":\"auto\",\"_ignore_package_version_incompatibilities\":false,\"is_timeseries\":false,\"max_cores_per_iteration\":1,\"max_concurrent_iterations\":5,\"iteration_timeout_minutes\":null,\"mem_in_mb\":null,\"enforce_time_on_windows\":false,\"experiment_timeout_minutes\":20,\"experiment_exit_score\":null,\"whitelist_models\":null,\"blacklist_algos\":[\"TensorFlowLinearClassifier\",\"TensorFlowDNN\"],\"supported_models\":[\"KNN\",\"SGD\",\"AveragedPerceptronClassifier\",\"LinearSVM\",\"ExtremeRandomTrees\",\"LightGBM\",\"TensorFlowDNN\",\"TensorFlowLinearClassifier\",\"RandomForest\",\"LogisticRegression\",\"SVM\",\"XGBoostClassifier\",\"BernoulliNaiveBayes\",\"GradientBoosting\",\"DecisionTree\",\"MultinomialNaiveBayes\"],\"auto_blacklist\":true,\"blacklist_samples_reached\":false,\"exclude_nan_labels\":true,\"verbosity\":20,\"_debug_log\":\"azureml_automl.log\",\"show_warnings\":false,\"model_explainability\":true,\"service_url\":null,\"sdk_url\":null,\"sdk_packages\":null,\"enable_onnx_compatible_models\":true,\"enable_split_onnx_featurizer_estimator_models\":false,\"vm_type\":\"STANDARD_DS3_V2\",\"telemetry_verbosity\":20,\"send_telemetry\":true,\"enable_dnn\":false,\"scenario\":\"SDK-1.13.0\",\"environment_label\":null,\"force_text_dnn\":false,\"enable_feature_sweeping\":false,\"enable_early_stopping\":true,\"early_stopping_n_iters\":10,\"metrics\":null,\"enable_ensembling\":true,\"enable_stack_ensembling\":false,\"ensemble_iterations\":15,\"enable_tf\":false,\"enable_subsampling\":null,\"subsample_seed\":null,\"enable_nimbusml\":false,\"enable_streaming\":false,\"force_streaming\":false,\"track_child_runs\":true,\"allowed_private_models\":[],\"label_column_name\":\"Attrition_Flag\",\"weight_column_name\":null,\"cv_split_column_names\":null,\"enable_local_managed\":false,\"_local_managed_run_id\":null,\"cost_mode\":1,\"lag_length\":0,\"metric_operation\":\"maximize\",\"preprocess\":true}',\n  'DataPrepJsonString': '{\\\\\"training_data\\\\\": \\\\\"{\\\\\\\\\\\\\"blocks\\\\\\\\\\\\\": [{\\\\\\\\\\\\\"id\\\\\\\\\\\\\": \\\\\\\\\\\\\"d9d84f1e-02ab-4d60-9c01-906f1a960b14\\\\\\\\\\\\\", \\\\\\\\\\\\\"type\\\\\\\\\\\\\": \\\\\\\\\\\\\"Microsoft.DPrep.GetDatastoreFilesBlock\\\\\\\\\\\\\", \\\\\\\\\\\\\"arguments\\\\\\\\\\\\\": {\\\\\\\\\\\\\"datastores\\\\\\\\\\\\\": [{\\\\\\\\\\\\\"datastoreName\\\\\\\\\\\\\": \\\\\\\\\\\\\"workspaceblobstore\\\\\\\\\\\\\", \\\\\\\\\\\\\"path\\\\\\\\\\\\\": \\\\\\\\\\\\\"UI/01-29-2021_110643_UTC/BankChurners.csv\\\\\\\\\\\\\", \\\\\\\\\\\\\"resourceGroup\\\\\\\\\\\\\": \\\\\\\\\\\\\"aml-quickstarts-136499\\\\\\\\\\\\\", \\\\\\\\\\\\\"subscription\\\\\\\\\\\\\": \\\\\\\\\\\\\"6b4af8be-9931-443e-90f6-c4c34a1f9737\\\\\\\\\\\\\", \\\\\\\\\\\\\"workspaceName\\\\\\\\\\\\\": \\\\\\\\\\\\\"quick-starts-ws-136499\\\\\\\\\\\\\"}]}, \\\\\\\\\\\\\"localData\\\\\\\\\\\\\": {}, \\\\\\\\\\\\\"isEnabled\\\\\\\\\\\\\": true, \\\\\\\\\\\\\"name\\\\\\\\\\\\\": null, \\\\\\\\\\\\\"annotation\\\\\\\\\\\\\": null}, {\\\\\\\\\\\\\"id\\\\\\\\\\\\\": \\\\\\\\\\\\\"4d9c7400-cb97-4ce2-bf7d-71affe0c3a81\\\\\\\\\\\\\", \\\\\\\\\\\\\"type\\\\\\\\\\\\\": \\\\\\\\\\\\\"Microsoft.DPrep.ParseDelimitedBlock\\\\\\\\\\\\\", \\\\\\\\\\\\\"arguments\\\\\\\\\\\\\": {\\\\\\\\\\\\\"columnHeadersMode\\\\\\\\\\\\\": 1, \\\\\\\\\\\\\"fileEncoding\\\\\\\\\\\\\": 0, \\\\\\\\\\\\\"handleQuotedLineBreaks\\\\\\\\\\\\\": false, \\\\\\\\\\\\\"preview\\\\\\\\\\\\\": false, \\\\\\\\\\\\\"separator\\\\\\\\\\\\\": \\\\\\\\\\\\\",\\\\\\\\\\\\\", \\\\\\\\\\\\\"skipRows\\\\\\\\\\\\\": 0, \\\\\\\\\\\\\"skipRowsMode\\\\\\\\\\\\\": 0}, \\\\\\\\\\\\\"localData\\\\\\\\\\\\\": {}, \\\\\\\\\\\\\"isEnabled\\\\\\\\\\\\\": true, \\\\\\\\\\\\\"name\\\\\\\\\\\\\": null, \\\\\\\\\\\\\"annotation\\\\\\\\\\\\\": null}, {\\\\\\\\\\\\\"id\\\\\\\\\\\\\": \\\\\\\\\\\\\"0c0c6fc2-6fed-49a4-82e8-bbd4a0bfb4e5\\\\\\\\\\\\\", \\\\\\\\\\\\\"type\\\\\\\\\\\\\": \\\\\\\\\\\\\"Microsoft.DPrep.DropColumnsBlock\\\\\\\\\\\\\", \\\\\\\\\\\\\"arguments\\\\\\\\\\\\\": {\\\\\\\\\\\\\"columns\\\\\\\\\\\\\": {\\\\\\\\\\\\\"type\\\\\\\\\\\\\": 0, \\\\\\\\\\\\\"details\\\\\\\\\\\\\": {\\\\\\\\\\\\\"selectedColumns\\\\\\\\\\\\\": [\\\\\\\\\\\\\"Path\\\\\\\\\\\\\"]}}}, \\\\\\\\\\\\\"localData\\\\\\\\\\\\\": {}, \\\\\\\\\\\\\"isEnabled\\\\\\\\\\\\\": true, \\\\\\\\\\\\\"name\\\\\\\\\\\\\": null, \\\\\\\\\\\\\"annotation\\\\\\\\\\\\\": null}, {\\\\\\\\\\\\\"id\\\\\\\\\\\\\": \\\\\\\\\\\\\"2651286b-c013-47c4-a03e-a2b980846d14\\\\\\\\\\\\\", \\\\\\\\\\\\\"type\\\\\\\\\\\\\": \\\\\\\\\\\\\"Microsoft.DPrep.SetColumnTypesBlock\\\\\\\\\\\\\", \\\\\\\\\\\\\"arguments\\\\\\\\\\\\\": {\\\\\\\\\\\\\"columnConversion\\\\\\\\\\\\\": [{\\\\\\\\\\\\\"column\\\\\\\\\\\\\": {\\\\\\\\\\\\\"type\\\\\\\\\\\\\": 2, \\\\\\\\\\\\\"details\\\\\\\\\\\\\": {\\\\\\\\\\\\\"selectedColumn\\\\\\\\\\\\\": \\\\\\\\\\\\\"Path\\\\\\\\\\\\\"}}, \\\\\\\\\\\\\"typeProperty\\\\\\\\\\\\\": 0}, {\\\\\\\\\\\\\"column\\\\\\\\\\\\\": {\\\\\\\\\\\\\"type\\\\\\\\\\\\\": 2, \\\\\\\\\\\\\"details\\\\\\\\\\\\\": {\\\\\\\\\\\\\"selectedColumn\\\\\\\\\\\\\": \\\\\\\\\\\\\"CLIENTNUM\\\\\\\\\\\\\"}}, \\\\\\\\\\\\\"typeProperty\\\\\\\\\\\\\": 2}, {\\\\\\\\\\\\\"column\\\\\\\\\\\\\": {\\\\\\\\\\\\\"type\\\\\\\\\\\\\": 2, \\\\\\\\\\\\\"details\\\\\\\\\\\\\": {\\\\\\\\\\\\\"selectedColumn\\\\\\\\\\\\\": \\\\\\\\\\\\\"Attrition_Flag\\\\\\\\\\\\\"}}, \\\\\\\\\\\\\"typeProperty\\\\\\\\\\\\\": 0}, {\\\\\\\\\\\\\"column\\\\\\\\\\\\\": {\\\\\\\\\\\\\"type\\\\\\\\\\\\\": 2, \\\\\\\\\\\\\"details\\\\\\\\\\\\\": {\\\\\\\\\\\\\"selectedColumn\\\\\\\\\\\\\": \\\\\\\\\\\\\"Customer_Age\\\\\\\\\\\\\"}}, \\\\\\\\\\\\\"typeProperty\\\\\\\\\\\\\": 2}, {\\\\\\\\\\\\\"column\\\\\\\\\\\\\": {\\\\\\\\\\\\\"type\\\\\\\\\\\\\": 2, \\\\\\\\\\\\\"details\\\\\\\\\\\\\": {\\\\\\\\\\\\\"selectedColumn\\\\\\\\\\\\\": \\\\\\\\\\\\\"Gender\\\\\\\\\\\\\"}}, \\\\\\\\\\\\\"typeProperty\\\\\\\\\\\\\": 0}, {\\\\\\\\\\\\\"column\\\\\\\\\\\\\": {\\\\\\\\\\\\\"type\\\\\\\\\\\\\": 2, \\\\\\\\\\\\\"details\\\\\\\\\\\\\": {\\\\\\\\\\\\\"selectedColumn\\\\\\\\\\\\\": \\\\\\\\\\\\\"Dependent_count\\\\\\\\\\\\\"}}, \\\\\\\\\\\\\"typeProperty\\\\\\\\\\\\\": 2}, {\\\\\\\\\\\\\"column\\\\\\\\\\\\\": {\\\\\\\\\\\\\"type\\\\\\\\\\\\\": 2, \\\\\\\\\\\\\"details\\\\\\\\\\\\\": {\\\\\\\\\\\\\"selectedColumn\\\\\\\\\\\\\": \\\\\\\\\\\\\"Education_Level\\\\\\\\\\\\\"}}, \\\\\\\\\\\\\"typeProperty\\\\\\\\\\\\\": 0}, {\\\\\\\\\\\\\"column\\\\\\\\\\\\\": {\\\\\\\\\\\\\"type\\\\\\\\\\\\\": 2, \\\\\\\\\\\\\"details\\\\\\\\\\\\\": {\\\\\\\\\\\\\"selectedColumn\\\\\\\\\\\\\": \\\\\\\\\\\\\"Marital_Status\\\\\\\\\\\\\"}}, \\\\\\\\\\\\\"typeProperty\\\\\\\\\\\\\": 0}, {\\\\\\\\\\\\\"column\\\\\\\\\\\\\": {\\\\\\\\\\\\\"type\\\\\\\\\\\\\": 2, \\\\\\\\\\\\\"details\\\\\\\\\\\\\": {\\\\\\\\\\\\\"selectedColumn\\\\\\\\\\\\\": \\\\\\\\\\\\\"Income_Category\\\\\\\\\\\\\"}}, \\\\\\\\\\\\\"typeProperty\\\\\\\\\\\\\": 0}, {\\\\\\\\\\\\\"column\\\\\\\\\\\\\": {\\\\\\\\\\\\\"type\\\\\\\\\\\\\": 2, \\\\\\\\\\\\\"details\\\\\\\\\\\\\": {\\\\\\\\\\\\\"selectedColumn\\\\\\\\\\\\\": \\\\\\\\\\\\\"Card_Category\\\\\\\\\\\\\"}}, \\\\\\\\\\\\\"typeProperty\\\\\\\\\\\\\": 0}, {\\\\\\\\\\\\\"column\\\\\\\\\\\\\": {\\\\\\\\\\\\\"type\\\\\\\\\\\\\": 2, \\\\\\\\\\\\\"details\\\\\\\\\\\\\": {\\\\\\\\\\\\\"selectedColumn\\\\\\\\\\\\\": \\\\\\\\\\\\\"Months_on_book\\\\\\\\\\\\\"}}, \\\\\\\\\\\\\"typeProperty\\\\\\\\\\\\\": 2}, {\\\\\\\\\\\\\"column\\\\\\\\\\\\\": {\\\\\\\\\\\\\"type\\\\\\\\\\\\\": 2, \\\\\\\\\\\\\"details\\\\\\\\\\\\\": {\\\\\\\\\\\\\"selectedColumn\\\\\\\\\\\\\": \\\\\\\\\\\\\"Total_Relationship_Count\\\\\\\\\\\\\"}}, \\\\\\\\\\\\\"typeProperty\\\\\\\\\\\\\": 2}, {\\\\\\\\\\\\\"column\\\\\\\\\\\\\": {\\\\\\\\\\\\\"type\\\\\\\\\\\\\": 2, \\\\\\\\\\\\\"details\\\\\\\\\\\\\": {\\\\\\\\\\\\\"selectedColumn\\\\\\\\\\\\\": \\\\\\\\\\\\\"Months_Inactive_12_mon\\\\\\\\\\\\\"}}, \\\\\\\\\\\\\"typeProperty\\\\\\\\\\\\\": 2}, {\\\\\\\\\\\\\"column\\\\\\\\\\\\\": {\\\\\\\\\\\\\"type\\\\\\\\\\\\\": 2, \\\\\\\\\\\\\"details\\\\\\\\\\\\\": {\\\\\\\\\\\\\"selectedColumn\\\\\\\\\\\\\": \\\\\\\\\\\\\"Contacts_Count_12_mon\\\\\\\\\\\\\"}}, \\\\\\\\\\\\\"typeProperty\\\\\\\\\\\\\": 2}, {\\\\\\\\\\\\\"column\\\\\\\\\\\\\": {\\\\\\\\\\\\\"type\\\\\\\\\\\\\": 2, \\\\\\\\\\\\\"details\\\\\\\\\\\\\": {\\\\\\\\\\\\\"selectedColumn\\\\\\\\\\\\\": \\\\\\\\\\\\\"Credit_Limit\\\\\\\\\\\\\"}}, \\\\\\\\\\\\\"typeProperty\\\\\\\\\\\\\": 3}, {\\\\\\\\\\\\\"column\\\\\\\\\\\\\": {\\\\\\\\\\\\\"type\\\\\\\\\\\\\": 2, \\\\\\\\\\\\\"details\\\\\\\\\\\\\": {\\\\\\\\\\\\\"selectedColumn\\\\\\\\\\\\\": \\\\\\\\\\\\\"Total_Revolving_Bal\\\\\\\\\\\\\"}}, \\\\\\\\\\\\\"typeProperty\\\\\\\\\\\\\": 2}, {\\\\\\\\\\\\\"column\\\\\\\\\\\\\": {\\\\\\\\\\\\\"type\\\\\\\\\\\\\": 2, \\\\\\\\\\\\\"details\\\\\\\\\\\\\": {\\\\\\\\\\\\\"selectedColumn\\\\\\\\\\\\\": \\\\\\\\\\\\\"Avg_Open_To_Buy\\\\\\\\\\\\\"}}, \\\\\\\\\\\\\"typeProperty\\\\\\\\\\\\\": 3}, {\\\\\\\\\\\\\"column\\\\\\\\\\\\\": {\\\\\\\\\\\\\"type\\\\\\\\\\\\\": 2, \\\\\\\\\\\\\"details\\\\\\\\\\\\\": {\\\\\\\\\\\\\"selectedColumn\\\\\\\\\\\\\": \\\\\\\\\\\\\"Total_Amt_Chng_Q4_Q1\\\\\\\\\\\\\"}}, \\\\\\\\\\\\\"typeProperty\\\\\\\\\\\\\": 3}, {\\\\\\\\\\\\\"column\\\\\\\\\\\\\": {\\\\\\\\\\\\\"type\\\\\\\\\\\\\": 2, \\\\\\\\\\\\\"details\\\\\\\\\\\\\": {\\\\\\\\\\\\\"selectedColumn\\\\\\\\\\\\\": \\\\\\\\\\\\\"Total_Trans_Amt\\\\\\\\\\\\\"}}, \\\\\\\\\\\\\"typeProperty\\\\\\\\\\\\\": 2}, {\\\\\\\\\\\\\"column\\\\\\\\\\\\\": {\\\\\\\\\\\\\"type\\\\\\\\\\\\\": 2, \\\\\\\\\\\\\"details\\\\\\\\\\\\\": {\\\\\\\\\\\\\"selectedColumn\\\\\\\\\\\\\": \\\\\\\\\\\\\"Total_Trans_Ct\\\\\\\\\\\\\"}}, \\\\\\\\\\\\\"typeProperty\\\\\\\\\\\\\": 2}, {\\\\\\\\\\\\\"column\\\\\\\\\\\\\": {\\\\\\\\\\\\\"type\\\\\\\\\\\\\": 2, \\\\\\\\\\\\\"details\\\\\\\\\\\\\": {\\\\\\\\\\\\\"selectedColumn\\\\\\\\\\\\\": \\\\\\\\\\\\\"Total_Ct_Chng_Q4_Q1\\\\\\\\\\\\\"}}, \\\\\\\\\\\\\"typeProperty\\\\\\\\\\\\\": 3}, {\\\\\\\\\\\\\"column\\\\\\\\\\\\\": {\\\\\\\\\\\\\"type\\\\\\\\\\\\\": 2, \\\\\\\\\\\\\"details\\\\\\\\\\\\\": {\\\\\\\\\\\\\"selectedColumn\\\\\\\\\\\\\": \\\\\\\\\\\\\"Avg_Utilization_Ratio\\\\\\\\\\\\\"}}, \\\\\\\\\\\\\"typeProperty\\\\\\\\\\\\\": 3}]}, \\\\\\\\\\\\\"localData\\\\\\\\\\\\\": {}, \\\\\\\\\\\\\"isEnabled\\\\\\\\\\\\\": true, \\\\\\\\\\\\\"name\\\\\\\\\\\\\": null, \\\\\\\\\\\\\"annotation\\\\\\\\\\\\\": null}], \\\\\\\\\\\\\"inspectors\\\\\\\\\\\\\": [], \\\\\\\\\\\\\"meta\\\\\\\\\\\\\": {\\\\\\\\\\\\\"savedDatasetId\\\\\\\\\\\\\": \\\\\\\\\\\\\"fd67c9bf-6db3-4b3d-8f2a-63297843ca70\\\\\\\\\\\\\", \\\\\\\\\\\\\"datasetType\\\\\\\\\\\\\": \\\\\\\\\\\\\"tabular\\\\\\\\\\\\\", \\\\\\\\\\\\\"subscriptionId\\\\\\\\\\\\\": \\\\\\\\\\\\\"6b4af8be-9931-443e-90f6-c4c34a1f9737\\\\\\\\\\\\\", \\\\\\\\\\\\\"workspaceId\\\\\\\\\\\\\": \\\\\\\\\\\\\"16848a39-0a2a-4230-a4a0-aa21a12e2333\\\\\\\\\\\\\", \\\\\\\\\\\\\"workspaceLocation\\\\\\\\\\\\\": \\\\\\\\\\\\\"southcentralus\\\\\\\\\\\\\"}}\\\\\", \\\\\"activities\\\\\": 0}',\n  'EnableSubsampling': None,\n  'runTemplate': 'AutoML',\n  'azureml.runsource': 'automl',\n  'display_task_type': 'classification',\n  'dependencies_versions': '{\"azureml-widgets\": \"1.20.0\", \"azureml-train\": \"1.20.0\", \"azureml-train-restclients-hyperdrive\": \"1.20.0\", \"azureml-train-core\": \"1.20.0\", \"azureml-train-automl\": \"1.20.0\", \"azureml-train-automl-runtime\": \"1.20.0\", \"azureml-train-automl-client\": \"1.20.0\", \"azureml-tensorboard\": \"1.20.0\", \"azureml-telemetry\": \"1.20.0\", \"azureml-sdk\": \"1.20.0\", \"azureml-samples\": \"0+unknown\", \"azureml-pipeline\": \"1.20.0\", \"azureml-pipeline-steps\": \"1.20.0\", \"azureml-pipeline-core\": \"1.20.0\", \"azureml-opendatasets\": \"1.20.0\", \"azureml-model-management-sdk\": \"1.0.1b6.post1\", \"azureml-mlflow\": \"1.20.0.post1\", \"azureml-interpret\": \"1.20.0\", \"azureml-explain-model\": \"1.20.0\", \"azureml-defaults\": \"1.20.0\", \"azureml-dataset-runtime\": \"1.20.0\", \"azureml-dataprep\": \"2.7.3\", \"azureml-dataprep-rslex\": \"1.5.0\", \"azureml-dataprep-native\": \"27.0.0\", \"azureml-datadrift\": \"1.20.0\", \"azureml-core\": \"1.20.0\", \"azureml-contrib-services\": \"1.20.0\", \"azureml-contrib-server\": \"1.20.0\", \"azureml-contrib-reinforcementlearning\": \"1.20.0\", \"azureml-contrib-pipeline-steps\": \"1.20.0\", \"azureml-contrib-notebook\": \"1.20.0\", \"azureml-contrib-interpret\": \"1.20.0\", \"azureml-contrib-gbdt\": \"1.20.0\", \"azureml-contrib-fairness\": \"1.20.0\", \"azureml-contrib-dataset\": \"1.20.0\", \"azureml-cli-common\": \"1.20.0\", \"azureml-automl-runtime\": \"1.20.0\", \"azureml-automl-core\": \"1.20.0\", \"azureml-accel-models\": \"1.20.0\"}',\n  '_aml_system_scenario_identification': 'Remote.Parent',\n  'ClientType': 'SDK',\n  'environment_cpu_name': 'AzureML-AutoML',\n  'environment_cpu_label': 'prod',\n  'environment_gpu_name': 'AzureML-AutoML-GPU',\n  'environment_gpu_label': 'prod',\n  'root_attribution': 'automl',\n  'attribution': 'AutoML',\n  'Orchestrator': 'AutoML',\n  'CancelUri': 'https://southcentralus.experiments.azureml.net/jasmine/v1.0/subscriptions/6b4af8be-9931-443e-90f6-c4c34a1f9737/resourceGroups/aml-quickstarts-136499/providers/Microsoft.MachineLearningServices/workspaces/quick-starts-ws-136499/experimentids/4fc8b58a-677a-4198-922a-ca7177a7d552/cancel/AutoML_4f0019bb-ac12-4cb4-98d1-54de9b0b0bfb',\n  'ClientSdkVersion': '1.20.0.post1',\n  'snapshotId': '00000000-0000-0000-0000-000000000000',\n  'SetupRunId': 'AutoML_4f0019bb-ac12-4cb4-98d1-54de9b0b0bfb_setup',\n  'SetupRunContainerId': 'dcid.AutoML_4f0019bb-ac12-4cb4-98d1-54de9b0b0bfb_setup',\n  'FeaturizationRunJsonPath': 'featurizer_container.json',\n  'FeaturizationRunId': 'AutoML_4f0019bb-ac12-4cb4-98d1-54de9b0b0bfb_featurize',\n  'ProblemInfoJsonString': '{\"dataset_num_categorical\": 0, \"is_sparse\": true, \"subsampling\": false, \"dataset_classes\": 2, \"dataset_features\": 146, \"dataset_samples\": 10127, \"single_frequency_class_detected\": false}',\n  'ModelExplainRunId': 'AutoML_4f0019bb-ac12-4cb4-98d1-54de9b0b0bfb_ModelExplain'},\n 'inputDatasets': [{'dataset': {'id': 'fd67c9bf-6db3-4b3d-8f2a-63297843ca70'}, 'consumptionDetails': {'type': 'RunInput', 'inputName': 'training_data', 'mechanism': 'Direct'}}],\n 'outputDatasets': [],\n 'logFiles': {},\n 'submittedBy': 'ODL_User 136499'}"
          },
          "metadata": {}
        }
      ],
      "execution_count": 7,
      "metadata": {
        "gather": {
          "logged": 1611919999447
        }
      }
    },
    {
      "cell_type": "markdown",
      "source": [
        "## Best Model\n",
        "\n",
        "TODO: In the cell below, get the best model from the automl experiments and display all the properties of the model.\n",
        "\n"
      ],
      "metadata": {}
    },
    {
      "cell_type": "code",
      "source": [
        "# Retrieve the best AutoML model\n",
        "best_run, best_model = remote_run.get_output()\n",
        "best_metrics = best_run.get_metrics()"
      ],
      "outputs": [],
      "execution_count": 8,
      "metadata": {
        "gather": {
          "logged": 1611920099190
        },
        "jupyter": {
          "outputs_hidden": false,
          "source_hidden": false
        },
        "nteract": {
          "transient": {
            "deleting": false
          }
        }
      }
    },
    {
      "cell_type": "code",
      "source": [
        "#Save the best model\n",
        "model = best_run.register_model(model_name='best-automl-model',model_path='outputs/model.pkl', tags={'Method':'AutoML'}, properties={'accuracy': best_metrics['accuracy']})\n",
        "print(model)\n",
        "print(best_run)"
      ],
      "outputs": [
        {
          "output_type": "stream",
          "name": "stdout",
          "text": [
            "Model(workspace=Workspace.create(name='quick-starts-ws-136499', subscription_id='6b4af8be-9931-443e-90f6-c4c34a1f9737', resource_group='aml-quickstarts-136499'), name=best-automl-model, id=best-automl-model:1, version=1, tags={'Method': 'AutoML'}, properties={'accuracy': '0.9714623193493651'})\n",
            "Run(Experiment: demo-automl-experiment,\n",
            "Id: AutoML_4f0019bb-ac12-4cb4-98d1-54de9b0b0bfb_38,\n",
            "Type: azureml.scriptrun,\n",
            "Status: Completed)\n"
          ]
        }
      ],
      "execution_count": 9,
      "metadata": {
        "gather": {
          "logged": 1611920103772
        },
        "jupyter": {
          "outputs_hidden": false,
          "source_hidden": false
        },
        "nteract": {
          "transient": {
            "deleting": false
          }
        }
      }
    },
    {
      "cell_type": "code",
      "source": [
        "print(best_metrics[\"accuracy\"])\n",
        "print(best_model._final_estimator)"
      ],
      "outputs": [
        {
          "output_type": "stream",
          "name": "stdout",
          "text": [
            "0.9714623193493651\n",
            "PreFittedSoftVotingClassifier(classification_labels=None,\n",
            "                              estimators=[('0',\n",
            "                                           Pipeline(memory=None,\n",
            "                                                    steps=[('maxabsscaler',\n",
            "                                                            MaxAbsScaler(copy=True)),\n",
            "                                                           ('lightgbmclassifier',\n",
            "                                                            LightGBMClassifier(boosting_type='gbdt',\n",
            "                                                                               class_weight=None,\n",
            "                                                                               colsample_bytree=1.0,\n",
            "                                                                               importance_type='split',\n",
            "                                                                               learning_rate=0.1,\n",
            "                                                                               max_depth=-1,\n",
            "                                                                               min_child_samples=20,\n",
            "                                                                               min_child_weight=0.001,\n",
            "                                                                               min_spl...\n",
            "                                                                              random_state=0,\n",
            "                                                                              reg_alpha=0,\n",
            "                                                                              reg_lambda=0.625,\n",
            "                                                                              scale_pos_weight=1,\n",
            "                                                                              seed=None,\n",
            "                                                                              silent=None,\n",
            "                                                                              subsample=1,\n",
            "                                                                              tree_method='auto',\n",
            "                                                                              verbose=-10,\n",
            "                                                                              verbosity=0))],\n",
            "                                                    verbose=False))],\n",
            "                              flatten_transform=None,\n",
            "                              weights=[0.2857142857142857, 0.07142857142857142,\n",
            "                                       0.21428571428571427, 0.07142857142857142,\n",
            "                                       0.07142857142857142, 0.14285714285714285,\n",
            "                                       0.07142857142857142,\n",
            "                                       0.07142857142857142])\n"
          ]
        }
      ],
      "execution_count": 10,
      "metadata": {
        "gather": {
          "logged": 1611920112234
        },
        "jupyter": {
          "outputs_hidden": false,
          "source_hidden": false
        },
        "nteract": {
          "transient": {
            "deleting": false
          }
        }
      }
    },
    {
      "cell_type": "markdown",
      "source": [
        "## Model Deployment\n",
        "\n",
        "Remember you have to deploy only one of the two models you trained.. Perform the steps in the rest of this notebook only if you wish to deploy this model.\n",
        "\n",
        "TODO: In the cell below, register the model, create an inference config and deploy the model as a web service."
      ],
      "metadata": {}
    },
    {
      "cell_type": "code",
      "source": [
        "from azureml.core import Environment\n",
        "from azureml.core.model import InferenceConfig\n",
        "from azureml.automl.core.shared import constants\n",
        "\n",
        "best_run.download_file('./outputs/model.pkl', './outputs/bankchurners-auto-model.pkl')\n",
        "best_run.download_file('./outputs/scoring_file_v_1_0_0.py', './outputs/score_aml.py')\n",
        "best_run.download_file('./automl_driver.py', './outputs/automl_driver.py')\n",
        "best_run.download_file(constants.CONDA_ENV_FILE_PATH, 'myenv.yml')\n",
        "\n",
        "myenv = Environment.from_conda_specification(name=\"myenv\", file_path=\"myenv.yml\")\n",
        "\n",
        "# Create the inference config\n",
        "\n",
        "inference_config = InferenceConfig(entry_script='./score.py', environment=myenv)\n"
      ],
      "outputs": [],
      "execution_count": 13,
      "metadata": {
        "gather": {
          "logged": 1611920165778
        },
        "jupyter": {
          "outputs_hidden": false,
          "source_hidden": false
        },
        "nteract": {
          "transient": {
            "deleting": false
          }
        }
      }
    },
    {
      "cell_type": "code",
      "source": [
        "f = open(\"envnew.yml\", \"w\")\n",
        "f.write(myenv.python.conda_dependencies.serialize_to_string())\n",
        "f.close()\n",
        "\n",
        "print(\"packages\", myenv.python.conda_dependencies.serialize_to_string())\n"
      ],
      "outputs": [
        {
          "output_type": "stream",
          "name": "stdout",
          "text": [
            "packages # Conda environment specification. The dependencies defined in this file will\n",
            "# be automatically provisioned for runs with userManagedDependencies=False.\n",
            "\n",
            "# Details about the Conda environment file format:\n",
            "# https://conda.io/docs/user-guide/tasks/manage-environments.html#create-env-file-manually\n",
            "\n",
            "name: project_environment\n",
            "dependencies:\n",
            "  # The python interpreter version.\n",
            "  # Currently Azure ML only supports 3.5.2 and later.\n",
            "- python=3.6.2\n",
            "\n",
            "- pip:\n",
            "  - azureml-train-automl-runtime==1.20.0.post1\n",
            "  - inference-schema\n",
            "  - azureml-interpret==1.20.0\n",
            "  - azureml-defaults==1.20.0\n",
            "- numpy>=1.16.0,<1.19.0\n",
            "- pandas==0.25.1\n",
            "- scikit-learn==0.22.1\n",
            "- py-xgboost<=0.90\n",
            "- fbprophet==0.5\n",
            "- holidays==0.9.11\n",
            "- psutil>=5.2.2,<6.0.0\n",
            "channels:\n",
            "- anaconda\n",
            "- conda-forge\n",
            "\n"
          ]
        }
      ],
      "execution_count": 15,
      "metadata": {
        "gather": {
          "logged": 1611920199645
        },
        "jupyter": {
          "outputs_hidden": false,
          "source_hidden": false
        },
        "nteract": {
          "transient": {
            "deleting": false
          }
        }
      }
    },
    {
      "cell_type": "code",
      "source": [
        "# Deploy the model as a webservice\n",
        "from azureml.core.webservice import AciWebservice\n",
        "\n",
        "deployment_config = AciWebservice.deploy_configuration(\n",
        "    cpu_cores=1,\n",
        "    memory_gb = 1,\n",
        "    enable_app_insights = True\n",
        ")\n",
        "service = Model.deploy(ws, 'model-service', [model], inference_config, deployment_config)\n",
        "\n",
        "print(service.state)\n",
        "\n",
        "# Wait until deployment is complete\n",
        "service.wait_for_deployment(show_output = True)\n"
      ],
      "outputs": [
        {
          "output_type": "stream",
          "name": "stdout",
          "text": [
            "Transitioning\n",
            "Tips: You can try get_logs(): https://aka.ms/debugimage#dockerlog or local deployment: https://aka.ms/debugimage#debug-locally to debug if deployment takes longer than 10 minutes.\n",
            "Running............................................................................................................................................................................\n",
            "Succeeded\n",
            "ACI service creation operation finished, operation \"Succeeded\"\n"
          ]
        }
      ],
      "execution_count": 16,
      "metadata": {
        "gather": {
          "logged": 1611921167740
        }
      }
    },
    {
      "cell_type": "code",
      "source": [
        "print(service.get_logs)"
      ],
      "outputs": [
        {
          "output_type": "stream",
          "name": "stdout",
          "text": [
            "<bound method Webservice.get_logs of AciWebservice(workspace=Workspace.create(name='quick-starts-ws-136499', subscription_id='6b4af8be-9931-443e-90f6-c4c34a1f9737', resource_group='aml-quickstarts-136499'), name=model-service, image_id=None, compute_type=None, state=ACI, scoring_uri=Healthy, tags=http://0d7e6c48-6992-4612-a7b4-29b5447ee582.southcentralus.azurecontainer.io/score, properties={}, created_by={'hasInferenceSchema': 'True', 'hasHttps': 'False'})>\n"
          ]
        }
      ],
      "execution_count": 17,
      "metadata": {
        "gather": {
          "logged": 1611921218106
        },
        "jupyter": {
          "outputs_hidden": false,
          "source_hidden": false
        },
        "nteract": {
          "transient": {
            "deleting": false
          }
        }
      }
    },
    {
      "cell_type": "markdown",
      "source": [
        "TODO: In the cell below, send a request to the web service you deployed to test it."
      ],
      "metadata": {
        "collapsed": true,
        "gather": {
          "logged": 1598431657736
        },
        "jupyter": {
          "outputs_hidden": false,
          "source_hidden": false
        },
        "nteract": {
          "transient": {
            "deleting": false
          }
        }
      }
    },
    {
      "cell_type": "code",
      "source": [
        "import json\n",
        "\n",
        "# Importing the data set for testing \n",
        "\n",
        "sample_data = dataset.to_pandas_dataframe().sample(10)\n",
        "data_sample = sample_data.drop(\"Attrition_Flag\", axis=1)\n",
        "test_sample = json.dumps({\"data\": data_sample.to_dict()})\n",
        "\n",
        "print(test_sample)"
      ],
      "outputs": [
        {
          "output_type": "stream",
          "name": "stdout",
          "text": [
            "{\"data\": {\"CLIENTNUM\": {\"7026\": 786546783, \"10007\": 780079833, \"7717\": 778781508, \"3862\": 711000933, \"2550\": 715161633, \"4708\": 709585758, \"642\": 713010483, \"4628\": 717490008, \"2728\": 721083258, \"10046\": 715769958}, \"Customer_Age\": {\"7026\": 59, \"10007\": 43, \"7717\": 44, \"3862\": 50, \"2550\": 44, \"4708\": 41, \"642\": 43, \"4628\": 43, \"2728\": 37, \"10046\": 53}, \"Gender\": {\"7026\": \"F\", \"10007\": \"M\", \"7717\": \"F\", \"3862\": \"F\", \"2550\": \"F\", \"4708\": \"M\", \"642\": \"F\", \"4628\": \"M\", \"2728\": \"F\", \"10046\": \"F\"}, \"Dependent_count\": {\"7026\": 0, \"10007\": 3, \"7717\": 2, \"3862\": 2, \"2550\": 4, \"4708\": 4, \"642\": 3, \"4628\": 4, \"2728\": 4, \"10046\": 3}, \"Education_Level\": {\"7026\": \"College\", \"10007\": \"Graduate\", \"7717\": \"High School\", \"3862\": \"Graduate\", \"2550\": \"High School\", \"4708\": \"High School\", \"642\": \"Graduate\", \"4628\": \"Graduate\", \"2728\": \"High School\", \"10046\": \"Unknown\"}, \"Marital_Status\": {\"7026\": \"Married\", \"10007\": \"Divorced\", \"7717\": \"Married\", \"3862\": \"Single\", \"2550\": \"Single\", \"4708\": \"Single\", \"642\": \"Married\", \"4628\": \"Divorced\", \"2728\": \"Divorced\", \"10046\": \"Married\"}, \"Income_Category\": {\"7026\": \"$40K - $60K\", \"10007\": \"$60K - $80K\", \"7717\": \"Unknown\", \"3862\": \"Unknown\", \"2550\": \"$40K - $60K\", \"4708\": \"$120K +\", \"642\": \"$40K - $60K\", \"4628\": \"$80K - $120K\", \"2728\": \"$40K - $60K\", \"10046\": \"$40K - $60K\"}, \"Card_Category\": {\"7026\": \"Blue\", \"10007\": \"Blue\", \"7717\": \"Blue\", \"3862\": \"Blue\", \"2550\": \"Blue\", \"4708\": \"Blue\", \"642\": \"Blue\", \"4628\": \"Blue\", \"2728\": \"Blue\", \"10046\": \"Blue\"}, \"Months_on_book\": {\"7026\": 53, \"10007\": 28, \"7717\": 32, \"3862\": 41, \"2550\": 38, \"4708\": 28, \"642\": 36, \"4628\": 36, \"2728\": 22, \"10046\": 39}, \"Total_Relationship_Count\": {\"7026\": 3, \"10007\": 3, \"7717\": 4, \"3862\": 5, \"2550\": 6, \"4708\": 5, \"642\": 6, \"4628\": 5, \"2728\": 5, \"10046\": 3}, \"Months_Inactive_12_mon\": {\"7026\": 2, \"10007\": 3, \"7717\": 3, \"3862\": 2, \"2550\": 3, \"4708\": 1, \"642\": 1, \"4628\": 1, \"2728\": 1, \"10046\": 2}, \"Contacts_Count_12_mon\": {\"7026\": 0, \"10007\": 4, \"7717\": 3, \"3862\": 4, \"2550\": 3, \"4708\": 4, \"642\": 3, \"4628\": 1, \"2728\": 3, \"10046\": 2}, \"Credit_Limit\": {\"7026\": 1438.3, \"10007\": 5479.0, \"7717\": 8477.0, \"3862\": 4846.0, \"2550\": 7881.0, \"4708\": 34516.0, \"642\": 2936.0, \"4628\": 19188.0, \"2728\": 2563.0, \"10046\": 4855.0}, \"Total_Revolving_Bal\": {\"7026\": 0, \"10007\": 1183, \"7717\": 2517, \"3862\": 2490, \"2550\": 2517, \"4708\": 0, \"642\": 2379, \"4628\": 1622, \"2728\": 1638, \"10046\": 1912}, \"Avg_Open_To_Buy\": {\"7026\": 1438.3, \"10007\": 4296.0, \"7717\": 5960.0, \"3862\": 2356.0, \"2550\": 5364.0, \"4708\": 34516.0, \"642\": 557.0, \"4628\": 17566.0, \"2728\": 925.0, \"10046\": 2943.0}, \"Total_Amt_Chng_Q4_Q1\": {\"7026\": 0.896, \"10007\": 0.596, \"7717\": 0.717, \"3862\": 0.788, \"2550\": 0.738, \"4708\": 0.791, \"642\": 0.694, \"4628\": 0.75, \"2728\": 0.681, \"10046\": 0.606}, \"Total_Trans_Amt\": {\"7026\": 4457, \"10007\": 14728, \"7717\": 2455, \"3862\": 3724, \"2550\": 3068, \"4708\": 4004, \"642\": 1572, \"4628\": 4282, \"2728\": 2064, \"10046\": 14969}, \"Total_Trans_Ct\": {\"7026\": 79, \"10007\": 126, \"7717\": 41, \"3862\": 61, \"2550\": 77, \"4708\": 86, \"642\": 57, \"4628\": 52, \"2728\": 46, \"10046\": 104}, \"Total_Ct_Chng_Q4_Q1\": {\"7026\": 0.927, \"10007\": 0.909, \"7717\": 0.64, \"3862\": 0.605, \"2550\": 0.711, \"4708\": 0.755, \"642\": 0.676, \"4628\": 0.926, \"2728\": 0.917, \"10046\": 0.763}, \"Avg_Utilization_Ratio\": {\"7026\": 0.0, \"10007\": 0.216, \"7717\": 0.297, \"3862\": 0.514, \"2550\": 0.319, \"4708\": 0.0, \"642\": 0.81, \"4628\": 0.085, \"2728\": 0.639, \"10046\": 0.394}}}\n"
          ]
        }
      ],
      "execution_count": 18,
      "metadata": {
        "gather": {
          "logged": 1611921227784
        }
      }
    },
    {
      "cell_type": "code",
      "source": [
        "import requests\n",
        "scoring_uri = 'http://0d7e6c48-6992-4612-a7b4-29b5447ee582.southcentralus.azurecontainer.io/score'\n",
        "headers = {'Content-type': 'application/json'}\n",
        "\n",
        "response = requests.post(scoring_uri, test_sample, headers=headers)"
      ],
      "outputs": [],
      "execution_count": 19,
      "metadata": {
        "collapsed": true,
        "gather": {
          "logged": 1611921948017
        },
        "jupyter": {
          "outputs_hidden": false,
          "source_hidden": false
        },
        "nteract": {
          "transient": {
            "deleting": false
          }
        }
      }
    },
    {
      "cell_type": "code",
      "source": [
        "# Print results from the inference\n",
        "print(response.status_code)\n",
        "print(response.text)"
      ],
      "outputs": [
        {
          "output_type": "stream",
          "name": "stdout",
          "text": [
            "200\n",
            "\"{\\\"result\\\": [\\\"Existing Customer\\\", \\\"Existing Customer\\\", \\\"Attrited Customer\\\", \\\"Existing Customer\\\", \\\"Existing Customer\\\", \\\"Existing Customer\\\", \\\"Existing Customer\\\", \\\"Existing Customer\\\", \\\"Existing Customer\\\", \\\"Existing Customer\\\"]}\"\n"
          ]
        }
      ],
      "execution_count": 20,
      "metadata": {
        "collapsed": true,
        "gather": {
          "logged": 1611921950622
        },
        "jupyter": {
          "outputs_hidden": false,
          "source_hidden": false
        },
        "nteract": {
          "transient": {
            "deleting": false
          }
        }
      }
    },
    {
      "cell_type": "markdown",
      "source": [
        "TODO: In the cell below, print the logs of the web service and delete the service"
      ],
      "metadata": {
        "collapsed": true,
        "gather": {
          "logged": 1598432765711
        },
        "jupyter": {
          "outputs_hidden": false,
          "source_hidden": false
        },
        "nteract": {
          "transient": {
            "deleting": false
          }
        }
      }
    },
    {
      "cell_type": "code",
      "source": [
        "# Print web service logs\n",
        "service_logs = service.get_logs()\n",
        "\n",
        "for line in service_logs.split('\\n'):\n",
        "    print(line)\n",
        "\n",
        "# Delete the service\n",
        "service.delete()"
      ],
      "outputs": [
        {
          "output_type": "stream",
          "name": "stdout",
          "text": [
            "2021-01-29T11:52:27,017225200+00:00 - gunicorn/run \n",
            "2021-01-29T11:52:27,020326200+00:00 - rsyslog/run \n",
            "2021-01-29T11:52:27,020791300+00:00 - iot-server/run \n",
            "2021-01-29T11:52:27,053363700+00:00 - nginx/run \n",
            "/usr/sbin/nginx: /azureml-envs/azureml_4f26b5b9300bb3a3b89415c34dafac63/lib/libcrypto.so.1.0.0: no version information available (required by /usr/sbin/nginx)\n",
            "/usr/sbin/nginx: /azureml-envs/azureml_4f26b5b9300bb3a3b89415c34dafac63/lib/libcrypto.so.1.0.0: no version information available (required by /usr/sbin/nginx)\n",
            "/usr/sbin/nginx: /azureml-envs/azureml_4f26b5b9300bb3a3b89415c34dafac63/lib/libssl.so.1.0.0: no version information available (required by /usr/sbin/nginx)\n",
            "/usr/sbin/nginx: /azureml-envs/azureml_4f26b5b9300bb3a3b89415c34dafac63/lib/libssl.so.1.0.0: no version information available (required by /usr/sbin/nginx)\n",
            "/usr/sbin/nginx: /azureml-envs/azureml_4f26b5b9300bb3a3b89415c34dafac63/lib/libssl.so.1.0.0: no version information available (required by /usr/sbin/nginx)\n",
            "rsyslogd: /azureml-envs/azureml_4f26b5b9300bb3a3b89415c34dafac63/lib/libuuid.so.1: no version information available (required by rsyslogd)\n",
            "EdgeHubConnectionString and IOTEDGE_IOTHUBHOSTNAME are not set. Exiting...\n",
            "2021-01-29T11:52:28,606411700+00:00 - iot-server/finish 1 0\n",
            "2021-01-29T11:52:28,609187000+00:00 - Exit code 1 is normal. Not restarting iot-server.\n",
            "Starting gunicorn 19.9.0\n",
            "Listening at: http://127.0.0.1:31311 (86)\n",
            "Using worker: sync\n",
            "worker timeout is set to 300\n",
            "Booting worker with pid: 117\n",
            "SPARK_HOME not set. Skipping PySpark Initialization.\n",
            "Generating new fontManager, this may take some time...\n",
            "Initializing logger\n",
            "2021-01-29 11:52:38,675 | root | INFO | Starting up app insights client\n",
            "2021-01-29 11:52:38,676 | root | INFO | Starting up request id generator\n",
            "2021-01-29 11:52:38,676 | root | INFO | Starting up app insight hooks\n",
            "2021-01-29 11:52:38,676 | root | INFO | Invoking user's init function\n",
            "azureml-models/best-automl-model/1/model.pkl\n",
            "2021-01-29 11:52:44,081 | root | INFO | Users's init has completed successfully\n",
            "/azureml-envs/azureml_4f26b5b9300bb3a3b89415c34dafac63/lib/python3.6/site-packages/numpy/core/numeric.py:2327: FutureWarning: elementwise comparison failed; returning scalar instead, but in the future will perform elementwise comparison\n",
            "  return bool(asarray(a1 == a2).all())\n",
            "2021-01-29 11:52:44,091 | root | INFO | Skipping middleware: dbg_model_info as it's not enabled.\n",
            "2021-01-29 11:52:44,091 | root | INFO | Skipping middleware: dbg_resource_usage as it's not enabled.\n",
            "2021-01-29 11:52:44,093 | root | INFO | Scoring timeout is found from os.environ: 60000 ms\n",
            "2021-01-29 11:52:44,106 | root | INFO | 200\n",
            "127.0.0.1 - - [29/Jan/2021:11:52:44 +0000] \"GET /swagger.json HTTP/1.0\" 200 3595 \"-\" \"Go-http-client/1.1\"\n",
            "2021-01-29 11:52:47,216 | root | INFO | 200\n",
            "127.0.0.1 - - [29/Jan/2021:11:52:47 +0000] \"GET /swagger.json HTTP/1.0\" 200 3595 \"-\" \"Go-http-client/1.1\"\n",
            "2021-01-29 12:05:03,875 | root | INFO | 200\n",
            "127.0.0.1 - - [29/Jan/2021:12:05:03 +0000] \"GET /swagger.json HTTP/1.0\" 200 3595 \"-\" \"Go-http-client/1.1\"\n",
            "2021-01-29 12:05:04,228 | root | INFO | 200\n",
            "127.0.0.1 - - [29/Jan/2021:12:05:04 +0000] \"GET /swagger.json HTTP/1.0\" 200 3595 \"-\" \"Go-http-client/1.1\"\n",
            "2021-01-29 12:05:47,772 | root | INFO | Validation Request Content-Type\n",
            "2021-01-29 12:05:47,773 | root | INFO | Scoring Timer is set to 60.0 seconds\n",
            "2021-01-29 12:05:47,898 | root | INFO | 200\n",
            "127.0.0.1 - - [29/Jan/2021:12:05:47 +0000] \"POST /score HTTP/1.0\" 200 246 \"-\" \"python-requests/2.25.1\"\n",
            "127.0.0.1 - - [29/Jan/2021:12:12:54 +0000] \"GET /robots.txt HTTP/1.0\" 404 232 \"-\" \"Go-http-client/1.1\"\n",
            "127.0.0.1 - - [29/Jan/2021:12:12:56 +0000] \"GET /sitemap.xml HTTP/1.0\" 404 232 \"-\" \"Go-http-client/1.1\"\n",
            "127.0.0.1 - - [29/Jan/2021:12:12:59 +0000] \"GET /.well-known/security.txt HTTP/1.0\" 404 232 \"-\" \"Go-http-client/1.1\"\n",
            "127.0.0.1 - - [29/Jan/2021:12:13:02 +0000] \"GET /favicon.ico HTTP/1.0\" 404 232 \"-\" \"Mozilla/5.0 (Macintosh; Intel Mac OS X 10.15; rv:80.0) Gecko/20100101 Firefox/80.0\"\n",
            "127.0.0.1 - Cm7lenWq [29/Jan/2021:12:13:17 +0000] \"GET /manager/html/ HTTP/1.0\" 404 232 \"-\" \"Go-http-client/1.1\"\n",
            "2021-01-29 12:16:38,580 | root | INFO | 200\n",
            "127.0.0.1 - - [29/Jan/2021:12:16:38 +0000] \"GET /swagger.json HTTP/1.0\" 200 3595 \"-\" \"Go-http-client/1.1\"\n",
            "2021-01-29 12:16:38,946 | root | INFO | 200\n",
            "127.0.0.1 - - [29/Jan/2021:12:16:38 +0000] \"GET /swagger.json HTTP/1.0\" 200 3595 \"-\" \"Go-http-client/1.1\"\n",
            "\n"
          ]
        }
      ],
      "execution_count": 22,
      "metadata": {
        "gather": {
          "logged": 1611922765864
        },
        "jupyter": {
          "outputs_hidden": false,
          "source_hidden": false
        },
        "nteract": {
          "transient": {
            "deleting": false
          }
        }
      }
    }
  ],
  "metadata": {
    "kernel_info": {
      "name": "python3"
    },
    "kernelspec": {
      "display_name": "Python 3",
      "language": "python",
      "name": "python3"
    },
    "language_info": {
      "name": "python",
      "version": "3.6.9",
      "mimetype": "text/x-python",
      "codemirror_mode": {
        "name": "ipython",
        "version": 3
      },
      "pygments_lexer": "ipython3",
      "nbconvert_exporter": "python",
      "file_extension": ".py"
    },
    "nteract": {
      "version": "nteract-front-end@1.0.0"
    }
  },
  "nbformat": 4,
  "nbformat_minor": 2
}